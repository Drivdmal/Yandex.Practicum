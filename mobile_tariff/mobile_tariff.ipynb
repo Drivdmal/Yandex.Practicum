{
 "cells": [
  {
   "cell_type": "markdown",
   "metadata": {
    "cellId": "7ncsw51lcp293h1oava3d"
   },
   "source": [
    "<div style=\"color: white; border:solid green 2px; padding: 20px; background: LightSeaGreen\">\n",
    "<h1>ШАГ 1</h1>\n",
    "    <p>Поставлена задача: определить какой тариф прибыльнее для компании.\n",
    "    <p>В распоряжении у нас есть несколько файлов - баз данных по 500 пользователям за 2018 год. Загрузим эти файлы в оперативную память.\n",
    "</div>"
   ]
  },
  {
   "cell_type": "code",
   "execution_count": 1,
   "metadata": {
    "cellId": "80yglw0pmfqheonq52xggi",
    "collapsed": true
   },
   "outputs": [],
   "source": [
    "import pandas as pd\n",
    "import numpy as np\n",
    "import math as mt\n",
    "from matplotlib import pyplot as plt\n",
    "from scipy import stats as st\n",
    "\n",
    "df_calls = pd.read_csv('/datasets/calls.csv')\n",
    "df_internet = pd.read_csv('/datasets/internet.csv')\n",
    "df_messages = pd.read_csv('/datasets/messages.csv')\n",
    "df_tariffs = pd.read_csv('/datasets/tariffs.csv')\n",
    "df_users = pd.read_csv('/datasets/users.csv')"
   ]
  },
  {
   "cell_type": "markdown",
   "metadata": {
    "cellId": "66cqyyd3iof6byxtdl6jb"
   },
   "source": [
    "<div style=\"color: white; border:solid green 2px; padding: 20px; background: LightSeaGreen\">\n",
    "    <p>Все данные успешно загрузились. Просмотрим содержимое файла 'calls.csv'\n",
    "</div>"
   ]
  },
  {
   "cell_type": "code",
   "execution_count": 2,
   "metadata": {
    "cellId": "m3hbrjwjghj3pvsrr0hbgn"
   },
   "outputs": [
    {
     "name": "stdout",
     "output_type": "stream",
     "text": [
      "<class 'pandas.core.frame.DataFrame'>\n",
      "RangeIndex: 202607 entries, 0 to 202606\n",
      "Data columns (total 4 columns):\n",
      "id           202607 non-null object\n",
      "call_date    202607 non-null object\n",
      "duration     202607 non-null float64\n",
      "user_id      202607 non-null int64\n",
      "dtypes: float64(1), int64(1), object(2)\n",
      "memory usage: 6.2+ MB\n"
     ]
    },
    {
     "data": {
      "text/html": [
       "<div>\n",
       "<style scoped>\n",
       "    .dataframe tbody tr th:only-of-type {\n",
       "        vertical-align: middle;\n",
       "    }\n",
       "\n",
       "    .dataframe tbody tr th {\n",
       "        vertical-align: top;\n",
       "    }\n",
       "\n",
       "    .dataframe thead th {\n",
       "        text-align: right;\n",
       "    }\n",
       "</style>\n",
       "<table border=\"1\" class=\"dataframe\">\n",
       "  <thead>\n",
       "    <tr style=\"text-align: right;\">\n",
       "      <th></th>\n",
       "      <th>id</th>\n",
       "      <th>call_date</th>\n",
       "      <th>duration</th>\n",
       "      <th>user_id</th>\n",
       "    </tr>\n",
       "  </thead>\n",
       "  <tbody>\n",
       "    <tr>\n",
       "      <td>0</td>\n",
       "      <td>1000_0</td>\n",
       "      <td>2018-07-25</td>\n",
       "      <td>0.00</td>\n",
       "      <td>1000</td>\n",
       "    </tr>\n",
       "    <tr>\n",
       "      <td>1</td>\n",
       "      <td>1000_1</td>\n",
       "      <td>2018-08-17</td>\n",
       "      <td>0.00</td>\n",
       "      <td>1000</td>\n",
       "    </tr>\n",
       "    <tr>\n",
       "      <td>2</td>\n",
       "      <td>1000_2</td>\n",
       "      <td>2018-06-11</td>\n",
       "      <td>2.85</td>\n",
       "      <td>1000</td>\n",
       "    </tr>\n",
       "    <tr>\n",
       "      <td>3</td>\n",
       "      <td>1000_3</td>\n",
       "      <td>2018-09-21</td>\n",
       "      <td>13.80</td>\n",
       "      <td>1000</td>\n",
       "    </tr>\n",
       "    <tr>\n",
       "      <td>4</td>\n",
       "      <td>1000_4</td>\n",
       "      <td>2018-12-15</td>\n",
       "      <td>5.18</td>\n",
       "      <td>1000</td>\n",
       "    </tr>\n",
       "  </tbody>\n",
       "</table>\n",
       "</div>"
      ],
      "text/plain": [
       "       id   call_date  duration  user_id\n",
       "0  1000_0  2018-07-25      0.00     1000\n",
       "1  1000_1  2018-08-17      0.00     1000\n",
       "2  1000_2  2018-06-11      2.85     1000\n",
       "3  1000_3  2018-09-21     13.80     1000\n",
       "4  1000_4  2018-12-15      5.18     1000"
      ]
     },
     "metadata": {},
     "output_type": "display_data"
    },
    {
     "data": {
      "text/plain": [
       "Index(['id', 'call_date', 'duration', 'user_id'], dtype='object')"
      ]
     },
     "execution_count": 2,
     "metadata": {},
     "output_type": "execute_result"
    }
   ],
   "source": [
    "df_calls.info()\n",
    "display(df_calls.head())\n",
    "df_calls.columns"
   ]
  },
  {
   "cell_type": "markdown",
   "metadata": {
    "cellId": "pw96l8c7syg6gu4107ugrh"
   },
   "source": [
    "<div style=\"color: white; border:solid green 2px; padding: 20px; background: LightSeaGreen\">\n",
    "    <p>Файл содержит 202607 строк и 4 столбца: id, дату, продолжительность, идентификатор пользователя. Данные не содержат пропусков. Названия столбцов корректны.\n",
    "    <p>Данные столбца call_date изменим на формат datetime для удобства\n",
    "    <p>Продолжительность разговора округлим до целых минут в большую сторону (Мегалайн всегда округляет секунды до минут)\n",
    "</div>"
   ]
  },
  {
   "cell_type": "code",
   "execution_count": 3,
   "metadata": {
    "cellId": "gww1no995h4u05qqa3hmog",
    "collapsed": true
   },
   "outputs": [],
   "source": [
    "df_calls['call_date'] = pd.to_datetime(df_calls['call_date'], format='%Y-%m-%d')\n",
    "df_calls['duration'] = df_calls['duration'].apply(mt.ceil)"
   ]
  },
  {
   "cell_type": "markdown",
   "metadata": {
    "cellId": "dn8u37fgtb6nf1o4jt0xeo"
   },
   "source": [
    "<div style=\"color: white; border:solid green 2px; padding: 20px; background: LightSeaGreen\">\n",
    "    <p>Просмотрим содержимое файла internet.csv\n",
    "</div>"
   ]
  },
  {
   "cell_type": "code",
   "execution_count": 4,
   "metadata": {
    "cellId": "vw11wcsi79mdmybc8n1un"
   },
   "outputs": [
    {
     "name": "stdout",
     "output_type": "stream",
     "text": [
      "<class 'pandas.core.frame.DataFrame'>\n",
      "RangeIndex: 149396 entries, 0 to 149395\n",
      "Data columns (total 5 columns):\n",
      "Unnamed: 0      149396 non-null int64\n",
      "id              149396 non-null object\n",
      "mb_used         149396 non-null float64\n",
      "session_date    149396 non-null object\n",
      "user_id         149396 non-null int64\n",
      "dtypes: float64(1), int64(2), object(2)\n",
      "memory usage: 5.7+ MB\n"
     ]
    },
    {
     "data": {
      "text/html": [
       "<div>\n",
       "<style scoped>\n",
       "    .dataframe tbody tr th:only-of-type {\n",
       "        vertical-align: middle;\n",
       "    }\n",
       "\n",
       "    .dataframe tbody tr th {\n",
       "        vertical-align: top;\n",
       "    }\n",
       "\n",
       "    .dataframe thead th {\n",
       "        text-align: right;\n",
       "    }\n",
       "</style>\n",
       "<table border=\"1\" class=\"dataframe\">\n",
       "  <thead>\n",
       "    <tr style=\"text-align: right;\">\n",
       "      <th></th>\n",
       "      <th>Unnamed: 0</th>\n",
       "      <th>id</th>\n",
       "      <th>mb_used</th>\n",
       "      <th>session_date</th>\n",
       "      <th>user_id</th>\n",
       "    </tr>\n",
       "  </thead>\n",
       "  <tbody>\n",
       "    <tr>\n",
       "      <td>0</td>\n",
       "      <td>0</td>\n",
       "      <td>1000_0</td>\n",
       "      <td>112.95</td>\n",
       "      <td>2018-11-25</td>\n",
       "      <td>1000</td>\n",
       "    </tr>\n",
       "    <tr>\n",
       "      <td>1</td>\n",
       "      <td>1</td>\n",
       "      <td>1000_1</td>\n",
       "      <td>1052.81</td>\n",
       "      <td>2018-09-07</td>\n",
       "      <td>1000</td>\n",
       "    </tr>\n",
       "    <tr>\n",
       "      <td>2</td>\n",
       "      <td>2</td>\n",
       "      <td>1000_2</td>\n",
       "      <td>1197.26</td>\n",
       "      <td>2018-06-25</td>\n",
       "      <td>1000</td>\n",
       "    </tr>\n",
       "    <tr>\n",
       "      <td>3</td>\n",
       "      <td>3</td>\n",
       "      <td>1000_3</td>\n",
       "      <td>550.27</td>\n",
       "      <td>2018-08-22</td>\n",
       "      <td>1000</td>\n",
       "    </tr>\n",
       "    <tr>\n",
       "      <td>4</td>\n",
       "      <td>4</td>\n",
       "      <td>1000_4</td>\n",
       "      <td>302.56</td>\n",
       "      <td>2018-09-24</td>\n",
       "      <td>1000</td>\n",
       "    </tr>\n",
       "  </tbody>\n",
       "</table>\n",
       "</div>"
      ],
      "text/plain": [
       "   Unnamed: 0      id  mb_used session_date  user_id\n",
       "0           0  1000_0   112.95   2018-11-25     1000\n",
       "1           1  1000_1  1052.81   2018-09-07     1000\n",
       "2           2  1000_2  1197.26   2018-06-25     1000\n",
       "3           3  1000_3   550.27   2018-08-22     1000\n",
       "4           4  1000_4   302.56   2018-09-24     1000"
      ]
     },
     "metadata": {},
     "output_type": "display_data"
    },
    {
     "name": "stdout",
     "output_type": "stream",
     "text": [
      "Unnamed: 0      19598\n",
      "id              19598\n",
      "mb_used         19598\n",
      "session_date    19598\n",
      "user_id         19598\n",
      "dtype: int64\n"
     ]
    },
    {
     "data": {
      "text/html": [
       "<div>\n",
       "<style scoped>\n",
       "    .dataframe tbody tr th:only-of-type {\n",
       "        vertical-align: middle;\n",
       "    }\n",
       "\n",
       "    .dataframe tbody tr th {\n",
       "        vertical-align: top;\n",
       "    }\n",
       "\n",
       "    .dataframe thead th {\n",
       "        text-align: right;\n",
       "    }\n",
       "</style>\n",
       "<table border=\"1\" class=\"dataframe\">\n",
       "  <thead>\n",
       "    <tr style=\"text-align: right;\">\n",
       "      <th></th>\n",
       "      <th>Unnamed: 0</th>\n",
       "      <th>id</th>\n",
       "      <th>mb_used</th>\n",
       "      <th>session_date</th>\n",
       "      <th>user_id</th>\n",
       "    </tr>\n",
       "  </thead>\n",
       "  <tbody>\n",
       "    <tr>\n",
       "      <td>11</td>\n",
       "      <td>11</td>\n",
       "      <td>1000_11</td>\n",
       "      <td>0.0</td>\n",
       "      <td>2018-08-28</td>\n",
       "      <td>1000</td>\n",
       "    </tr>\n",
       "    <tr>\n",
       "      <td>38</td>\n",
       "      <td>38</td>\n",
       "      <td>1000_38</td>\n",
       "      <td>0.0</td>\n",
       "      <td>2018-11-27</td>\n",
       "      <td>1000</td>\n",
       "    </tr>\n",
       "    <tr>\n",
       "      <td>46</td>\n",
       "      <td>46</td>\n",
       "      <td>1000_46</td>\n",
       "      <td>0.0</td>\n",
       "      <td>2018-06-30</td>\n",
       "      <td>1000</td>\n",
       "    </tr>\n",
       "    <tr>\n",
       "      <td>67</td>\n",
       "      <td>67</td>\n",
       "      <td>1000_67</td>\n",
       "      <td>0.0</td>\n",
       "      <td>2018-06-16</td>\n",
       "      <td>1000</td>\n",
       "    </tr>\n",
       "    <tr>\n",
       "      <td>72</td>\n",
       "      <td>72</td>\n",
       "      <td>1000_72</td>\n",
       "      <td>0.0</td>\n",
       "      <td>2018-06-15</td>\n",
       "      <td>1000</td>\n",
       "    </tr>\n",
       "    <tr>\n",
       "      <td>103</td>\n",
       "      <td>103</td>\n",
       "      <td>1000_103</td>\n",
       "      <td>0.0</td>\n",
       "      <td>2018-05-26</td>\n",
       "      <td>1000</td>\n",
       "    </tr>\n",
       "    <tr>\n",
       "      <td>111</td>\n",
       "      <td>111</td>\n",
       "      <td>1000_111</td>\n",
       "      <td>0.0</td>\n",
       "      <td>2018-09-01</td>\n",
       "      <td>1000</td>\n",
       "    </tr>\n",
       "    <tr>\n",
       "      <td>131</td>\n",
       "      <td>131</td>\n",
       "      <td>1000_131</td>\n",
       "      <td>0.0</td>\n",
       "      <td>2018-06-15</td>\n",
       "      <td>1000</td>\n",
       "    </tr>\n",
       "    <tr>\n",
       "      <td>143</td>\n",
       "      <td>143</td>\n",
       "      <td>1000_143</td>\n",
       "      <td>0.0</td>\n",
       "      <td>2018-12-29</td>\n",
       "      <td>1000</td>\n",
       "    </tr>\n",
       "    <tr>\n",
       "      <td>157</td>\n",
       "      <td>157</td>\n",
       "      <td>1000_157</td>\n",
       "      <td>0.0</td>\n",
       "      <td>2018-07-11</td>\n",
       "      <td>1000</td>\n",
       "    </tr>\n",
       "  </tbody>\n",
       "</table>\n",
       "</div>"
      ],
      "text/plain": [
       "     Unnamed: 0        id  mb_used session_date  user_id\n",
       "11           11   1000_11      0.0   2018-08-28     1000\n",
       "38           38   1000_38      0.0   2018-11-27     1000\n",
       "46           46   1000_46      0.0   2018-06-30     1000\n",
       "67           67   1000_67      0.0   2018-06-16     1000\n",
       "72           72   1000_72      0.0   2018-06-15     1000\n",
       "103         103  1000_103      0.0   2018-05-26     1000\n",
       "111         111  1000_111      0.0   2018-09-01     1000\n",
       "131         131  1000_131      0.0   2018-06-15     1000\n",
       "143         143  1000_143      0.0   2018-12-29     1000\n",
       "157         157  1000_157      0.0   2018-07-11     1000"
      ]
     },
     "metadata": {},
     "output_type": "display_data"
    },
    {
     "name": "stdout",
     "output_type": "stream",
     "text": [
      "Количество пользователей с 0 интернет-траффиком и тарифом \"ULTRA\" - 1775 или 9%\n",
      "Количество пользователей с 0 интернет-траффиком и тарифом \"SMART\" - 17823 или 91%\n"
     ]
    }
   ],
   "source": [
    "df_internet.info()\n",
    "display(df_internet.head())\n",
    "df_internet.columns\n",
    "\n",
    "# Ищем нули\n",
    "df_internet.describe()\n",
    "print(df_internet.query('mb_used == 0').count())\n",
    "display(df_internet.query('mb_used == 0').head(10))\n",
    "# посмотрим каким тарифом пользовались пользователи с нулями в столбце mb_used\n",
    "df_merge = df_internet.query('mb_used == 0').merge(df_users, on='user_id')\n",
    "print('Количество пользователей с 0 интернет-траффиком и тарифом \"ULTRA\" - {} или {:.0%}'\n",
    "      .format(df_merge.query('tariff == \"ultra\"')['tariff'].count(), df_merge.query('tariff == \"ultra\"')['tariff'].count()/len(df_merge)))\n",
    "print('Количество пользователей с 0 интернет-траффиком и тарифом \"SMART\" - {} или {:.0%}'\n",
    "      .format(df_merge.query('tariff == \"smart\"')['tariff'].count(), df_merge.query('tariff == \"smart\"')['tariff'].count()/len(df_merge)))\n",
    "\n"
   ]
  },
  {
   "cell_type": "markdown",
   "metadata": {
    "cellId": "32jzxyfcocg36wazlnckyt"
   },
   "source": [
    "<div style=\"color: white; border:solid green 2px; padding: 20px; background: LightSeaGreen\">\n",
    "    <p>Файл содержит 149396 строк и 5 столбцов: \n",
    "        <li>Unnamed: 0 - колонка дублирует номера строк, вероятно ее нужно дропнуть, \n",
    "        <li>id (в том же формате что и в предыдущем файле), \n",
    "        <li>mb_used - использованное количество мегабайт,\n",
    "        <li>session_date - дата сессии\n",
    "        <li>user_id - идентификатор пользователя.\n",
    "    <p>Убирем столбец с именем unnamed: 0 и изменим формат данных даты на datetime\n",
    "</div>"
   ]
  },
  {
   "cell_type": "markdown",
   "metadata": {},
   "source": [
    "<div style=\"color: white; border:solid green 2px; padding: 20px; background: #1fbcd1\">\n",
    "<li> В столбце mb_used есть нули в количестве 19598, при этом остальные данные целые. Вероятно пользователи не пользовались интернетом вообще или у них не было такой возможности.\n",
    "<li> Если то, как распределяются пользователи, не использующие интернет-трафик, между тарифами, то 10% - это пользователи более дорогостоящего тарифа, а 90 - smart."
   ]
  },
  {
   "cell_type": "code",
   "execution_count": 5,
   "metadata": {
    "cellId": "humtkt2wjlebxdq0iqi3s",
    "collapsed": true
   },
   "outputs": [],
   "source": [
    "df_internet = df_internet.drop('Unnamed: 0', 1)\n",
    "df_internet['session_date'] = pd.to_datetime(df_internet['session_date'], format='%Y-%m-%d')\n"
   ]
  },
  {
   "cell_type": "markdown",
   "metadata": {
    "cellId": "48vf41s1pwnu5gakjna9zt"
   },
   "source": [
    "<div style=\"color: white; border:solid green 2px; padding: 20px; background: LightSeaGreen\">\n",
    "    <p>Просмотрим содержимое файла messages.csv\n",
    "</div>"
   ]
  },
  {
   "cell_type": "code",
   "execution_count": 6,
   "metadata": {
    "cellId": "yq5uylnk6bon64rqmpl2g8"
   },
   "outputs": [
    {
     "name": "stdout",
     "output_type": "stream",
     "text": [
      "<class 'pandas.core.frame.DataFrame'>\n",
      "RangeIndex: 123036 entries, 0 to 123035\n",
      "Data columns (total 3 columns):\n",
      "id              123036 non-null object\n",
      "message_date    123036 non-null object\n",
      "user_id         123036 non-null int64\n",
      "dtypes: int64(1), object(2)\n",
      "memory usage: 2.8+ MB\n"
     ]
    },
    {
     "data": {
      "text/html": [
       "<div>\n",
       "<style scoped>\n",
       "    .dataframe tbody tr th:only-of-type {\n",
       "        vertical-align: middle;\n",
       "    }\n",
       "\n",
       "    .dataframe tbody tr th {\n",
       "        vertical-align: top;\n",
       "    }\n",
       "\n",
       "    .dataframe thead th {\n",
       "        text-align: right;\n",
       "    }\n",
       "</style>\n",
       "<table border=\"1\" class=\"dataframe\">\n",
       "  <thead>\n",
       "    <tr style=\"text-align: right;\">\n",
       "      <th></th>\n",
       "      <th>id</th>\n",
       "      <th>message_date</th>\n",
       "      <th>user_id</th>\n",
       "    </tr>\n",
       "  </thead>\n",
       "  <tbody>\n",
       "    <tr>\n",
       "      <td>0</td>\n",
       "      <td>1000_0</td>\n",
       "      <td>2018-06-27</td>\n",
       "      <td>1000</td>\n",
       "    </tr>\n",
       "    <tr>\n",
       "      <td>1</td>\n",
       "      <td>1000_1</td>\n",
       "      <td>2018-10-08</td>\n",
       "      <td>1000</td>\n",
       "    </tr>\n",
       "    <tr>\n",
       "      <td>2</td>\n",
       "      <td>1000_2</td>\n",
       "      <td>2018-08-04</td>\n",
       "      <td>1000</td>\n",
       "    </tr>\n",
       "    <tr>\n",
       "      <td>3</td>\n",
       "      <td>1000_3</td>\n",
       "      <td>2018-06-16</td>\n",
       "      <td>1000</td>\n",
       "    </tr>\n",
       "    <tr>\n",
       "      <td>4</td>\n",
       "      <td>1000_4</td>\n",
       "      <td>2018-12-05</td>\n",
       "      <td>1000</td>\n",
       "    </tr>\n",
       "  </tbody>\n",
       "</table>\n",
       "</div>"
      ],
      "text/plain": [
       "       id message_date  user_id\n",
       "0  1000_0   2018-06-27     1000\n",
       "1  1000_1   2018-10-08     1000\n",
       "2  1000_2   2018-08-04     1000\n",
       "3  1000_3   2018-06-16     1000\n",
       "4  1000_4   2018-12-05     1000"
      ]
     },
     "metadata": {},
     "output_type": "display_data"
    },
    {
     "data": {
      "text/plain": [
       "Index(['id', 'message_date', 'user_id'], dtype='object')"
      ]
     },
     "execution_count": 6,
     "metadata": {},
     "output_type": "execute_result"
    }
   ],
   "source": [
    "df_messages.info()\n",
    "display(df_messages.head())\n",
    "df_messages.columns"
   ]
  },
  {
   "cell_type": "markdown",
   "metadata": {
    "cellId": "nc4tg7d12esasbpaaro5z"
   },
   "source": [
    "<div style=\"color: white; border:solid green 2px; padding: 20px; background: LightSeaGreen\">\n",
    "    <p>Файл содержит 123036 строк, с временем и идентификатором пользователя - вероятно когда и кем было отправлено сообщение. Пропусков нет, названия столбцов корректные.\n",
    "    <p>Заменим дату сообщений на формат datatime\n",
    "</div>"
   ]
  },
  {
   "cell_type": "code",
   "execution_count": 7,
   "metadata": {
    "cellId": "ljkngepxx82qb4e2876ak",
    "collapsed": true
   },
   "outputs": [],
   "source": [
    "df_messages['message_date'] = pd.to_datetime(df_messages['message_date'], format='%Y-%m-%d')"
   ]
  },
  {
   "cell_type": "markdown",
   "metadata": {
    "cellId": "0zxt6kymw0btjlp8bquzwq"
   },
   "source": [
    "<div style=\"color: white; border:solid green 2px; padding: 20px; background: LightSeaGreen\">\n",
    "    <p>Просмотрим содержимое файла tariffs.csv\n",
    "</div>"
   ]
  },
  {
   "cell_type": "code",
   "execution_count": 8,
   "metadata": {
    "cellId": "186vxdv6y7wkl467n3p81g"
   },
   "outputs": [
    {
     "name": "stdout",
     "output_type": "stream",
     "text": [
      "<class 'pandas.core.frame.DataFrame'>\n",
      "RangeIndex: 2 entries, 0 to 1\n",
      "Data columns (total 8 columns):\n",
      "messages_included        2 non-null int64\n",
      "mb_per_month_included    2 non-null int64\n",
      "minutes_included         2 non-null int64\n",
      "rub_monthly_fee          2 non-null int64\n",
      "rub_per_gb               2 non-null int64\n",
      "rub_per_message          2 non-null int64\n",
      "rub_per_minute           2 non-null int64\n",
      "tariff_name              2 non-null object\n",
      "dtypes: int64(7), object(1)\n",
      "memory usage: 256.0+ bytes\n"
     ]
    },
    {
     "data": {
      "text/html": [
       "<div>\n",
       "<style scoped>\n",
       "    .dataframe tbody tr th:only-of-type {\n",
       "        vertical-align: middle;\n",
       "    }\n",
       "\n",
       "    .dataframe tbody tr th {\n",
       "        vertical-align: top;\n",
       "    }\n",
       "\n",
       "    .dataframe thead th {\n",
       "        text-align: right;\n",
       "    }\n",
       "</style>\n",
       "<table border=\"1\" class=\"dataframe\">\n",
       "  <thead>\n",
       "    <tr style=\"text-align: right;\">\n",
       "      <th></th>\n",
       "      <th>messages_included</th>\n",
       "      <th>mb_per_month_included</th>\n",
       "      <th>minutes_included</th>\n",
       "      <th>rub_monthly_fee</th>\n",
       "      <th>rub_per_gb</th>\n",
       "      <th>rub_per_message</th>\n",
       "      <th>rub_per_minute</th>\n",
       "      <th>tariff_name</th>\n",
       "    </tr>\n",
       "  </thead>\n",
       "  <tbody>\n",
       "    <tr>\n",
       "      <td>0</td>\n",
       "      <td>50</td>\n",
       "      <td>15360</td>\n",
       "      <td>500</td>\n",
       "      <td>550</td>\n",
       "      <td>200</td>\n",
       "      <td>3</td>\n",
       "      <td>3</td>\n",
       "      <td>smart</td>\n",
       "    </tr>\n",
       "    <tr>\n",
       "      <td>1</td>\n",
       "      <td>1000</td>\n",
       "      <td>30720</td>\n",
       "      <td>3000</td>\n",
       "      <td>1950</td>\n",
       "      <td>150</td>\n",
       "      <td>1</td>\n",
       "      <td>1</td>\n",
       "      <td>ultra</td>\n",
       "    </tr>\n",
       "  </tbody>\n",
       "</table>\n",
       "</div>"
      ],
      "text/plain": [
       "   messages_included  mb_per_month_included  minutes_included  \\\n",
       "0                 50                  15360               500   \n",
       "1               1000                  30720              3000   \n",
       "\n",
       "   rub_monthly_fee  rub_per_gb  rub_per_message  rub_per_minute tariff_name  \n",
       "0              550         200                3               3       smart  \n",
       "1             1950         150                1               1       ultra  "
      ]
     },
     "metadata": {},
     "output_type": "display_data"
    },
    {
     "data": {
      "text/plain": [
       "Index(['messages_included', 'mb_per_month_included', 'minutes_included',\n",
       "       'rub_monthly_fee', 'rub_per_gb', 'rub_per_message', 'rub_per_minute',\n",
       "       'tariff_name'],\n",
       "      dtype='object')"
      ]
     },
     "execution_count": 8,
     "metadata": {},
     "output_type": "execute_result"
    }
   ],
   "source": [
    "df_tariffs.info()\n",
    "display(df_tariffs.head())\n",
    "df_tariffs.columns"
   ]
  },
  {
   "cell_type": "markdown",
   "metadata": {
    "cellId": "yhg9pzxs8rjeuiuqgb765g"
   },
   "source": [
    "<div style=\"color: white; border:solid green 2px; padding: 20px; background: LightSeaGreen\">\n",
    "    <p>Файл содержит 2 строки - данные по двум тарифам: сколько включено сообщений, мегабайт, минут, ежемесячная оплата, дополнительная плата за ГБ, стоимость одного сообщения, минуты и название тарифа. Пропусков данных нет, названия столбцов корректные.\n",
    "    <p>Просмотрим содержимое файла users.csv\n",
    "</div>"
   ]
  },
  {
   "cell_type": "code",
   "execution_count": 9,
   "metadata": {
    "cellId": "q5tkjlkvs6hordw540otb"
   },
   "outputs": [
    {
     "name": "stdout",
     "output_type": "stream",
     "text": [
      "<class 'pandas.core.frame.DataFrame'>\n",
      "RangeIndex: 500 entries, 0 to 499\n",
      "Data columns (total 8 columns):\n",
      "user_id       500 non-null int64\n",
      "age           500 non-null int64\n",
      "churn_date    38 non-null object\n",
      "city          500 non-null object\n",
      "first_name    500 non-null object\n",
      "last_name     500 non-null object\n",
      "reg_date      500 non-null object\n",
      "tariff        500 non-null object\n",
      "dtypes: int64(2), object(6)\n",
      "memory usage: 31.4+ KB\n"
     ]
    },
    {
     "data": {
      "text/html": [
       "<div>\n",
       "<style scoped>\n",
       "    .dataframe tbody tr th:only-of-type {\n",
       "        vertical-align: middle;\n",
       "    }\n",
       "\n",
       "    .dataframe tbody tr th {\n",
       "        vertical-align: top;\n",
       "    }\n",
       "\n",
       "    .dataframe thead th {\n",
       "        text-align: right;\n",
       "    }\n",
       "</style>\n",
       "<table border=\"1\" class=\"dataframe\">\n",
       "  <thead>\n",
       "    <tr style=\"text-align: right;\">\n",
       "      <th></th>\n",
       "      <th>user_id</th>\n",
       "      <th>age</th>\n",
       "      <th>churn_date</th>\n",
       "      <th>city</th>\n",
       "      <th>first_name</th>\n",
       "      <th>last_name</th>\n",
       "      <th>reg_date</th>\n",
       "      <th>tariff</th>\n",
       "    </tr>\n",
       "  </thead>\n",
       "  <tbody>\n",
       "    <tr>\n",
       "      <td>0</td>\n",
       "      <td>1000</td>\n",
       "      <td>52</td>\n",
       "      <td>NaN</td>\n",
       "      <td>Краснодар</td>\n",
       "      <td>Рафаил</td>\n",
       "      <td>Верещагин</td>\n",
       "      <td>2018-05-25</td>\n",
       "      <td>ultra</td>\n",
       "    </tr>\n",
       "    <tr>\n",
       "      <td>1</td>\n",
       "      <td>1001</td>\n",
       "      <td>41</td>\n",
       "      <td>NaN</td>\n",
       "      <td>Москва</td>\n",
       "      <td>Иван</td>\n",
       "      <td>Ежов</td>\n",
       "      <td>2018-11-01</td>\n",
       "      <td>smart</td>\n",
       "    </tr>\n",
       "    <tr>\n",
       "      <td>2</td>\n",
       "      <td>1002</td>\n",
       "      <td>59</td>\n",
       "      <td>NaN</td>\n",
       "      <td>Стерлитамак</td>\n",
       "      <td>Евгений</td>\n",
       "      <td>Абрамович</td>\n",
       "      <td>2018-06-17</td>\n",
       "      <td>smart</td>\n",
       "    </tr>\n",
       "    <tr>\n",
       "      <td>3</td>\n",
       "      <td>1003</td>\n",
       "      <td>23</td>\n",
       "      <td>NaN</td>\n",
       "      <td>Москва</td>\n",
       "      <td>Белла</td>\n",
       "      <td>Белякова</td>\n",
       "      <td>2018-08-17</td>\n",
       "      <td>ultra</td>\n",
       "    </tr>\n",
       "    <tr>\n",
       "      <td>4</td>\n",
       "      <td>1004</td>\n",
       "      <td>68</td>\n",
       "      <td>NaN</td>\n",
       "      <td>Новокузнецк</td>\n",
       "      <td>Татьяна</td>\n",
       "      <td>Авдеенко</td>\n",
       "      <td>2018-05-14</td>\n",
       "      <td>ultra</td>\n",
       "    </tr>\n",
       "  </tbody>\n",
       "</table>\n",
       "</div>"
      ],
      "text/plain": [
       "   user_id  age churn_date         city first_name  last_name    reg_date  \\\n",
       "0     1000   52        NaN    Краснодар     Рафаил  Верещагин  2018-05-25   \n",
       "1     1001   41        NaN       Москва       Иван       Ежов  2018-11-01   \n",
       "2     1002   59        NaN  Стерлитамак    Евгений  Абрамович  2018-06-17   \n",
       "3     1003   23        NaN       Москва      Белла   Белякова  2018-08-17   \n",
       "4     1004   68        NaN  Новокузнецк    Татьяна   Авдеенко  2018-05-14   \n",
       "\n",
       "  tariff  \n",
       "0  ultra  \n",
       "1  smart  \n",
       "2  smart  \n",
       "3  ultra  \n",
       "4  ultra  "
      ]
     },
     "metadata": {},
     "output_type": "display_data"
    },
    {
     "data": {
      "text/plain": [
       "Index(['user_id', 'age', 'churn_date', 'city', 'first_name', 'last_name',\n",
       "       'reg_date', 'tariff'],\n",
       "      dtype='object')"
      ]
     },
     "execution_count": 9,
     "metadata": {},
     "output_type": "execute_result"
    }
   ],
   "source": [
    "df_users.info()\n",
    "display(df_users.head())\n",
    "df_users.columns"
   ]
  },
  {
   "cell_type": "markdown",
   "metadata": {
    "cellId": "ksk95ljlixrhvhz6cmul3p"
   },
   "source": [
    "<div style=\"color: white; border:solid green 2px; padding: 20px; background: LightSeaGreen\">\n",
    "    <p>Последний файл содержит данные 500 пользователей: user_id, возраст, дата отключения тарифа (есть пропуски, но по условию пропуск означает что тариф все еще подключен - на момент выгрузки базы данных), город, имя и фамилия, дата подключения тарифа, тариф.\n",
    "</div>"
   ]
  },
  {
   "cell_type": "code",
   "execution_count": 10,
   "metadata": {
    "cellId": "gdoxu2187vb0z42bpwgvsam",
    "collapsed": true
   },
   "outputs": [],
   "source": [
    "df_users['churn_date'] = df_users['churn_date'].fillna('2018-12-31')\n",
    "df_users['churn_date'] = pd.to_datetime(df_users['churn_date'], format='%Y-%m-%d')\n",
    "df_users['reg_date'] = pd.to_datetime(df_users['reg_date'], format='%Y-%m-%d')"
   ]
  },
  {
   "cell_type": "markdown",
   "metadata": {
    "cellId": "ep6svxq4gvu91i6izqqpu"
   },
   "source": [
    "**Вывод:**\n",
    "<div style=\"color: white; border:solid green 2px; padding: 20px; background: LightSeaGreen\">\n",
    "    <p> Таким образом, у нас есть несколько таблиц, в которых есть смежные данные (user_id). Для дальнейшего анализа планируется соединить эти таблицы в одну.\n",
    "</div>"
   ]
  },
  {
   "cell_type": "markdown",
   "metadata": {
    "cellId": "cntnn92ojvh15bf87uzl24h"
   },
   "source": [
    "<div style=\"color: white; border:solid green 2px; padding: 20px; background: LightSeaGreen\">\n",
    "<h1>ШАГ 2: Подготовка данных</h1>\n",
    "    <p> В таблицах calls, messges и internet добавим столбец с номером месяца\n",
    "    <p> Возьмем за основу таблицу df_users.\n",
    "    <p> Соединим таблицу df_users c df_calls, df_messages и df_internet \n",
    "    <p> Затем соединим получившиеся таблицы первую ко второй, вторую к третей.\n",
    "    <p> Сделаем необходимые расчеты\n",
    "</div>"
   ]
  },
  {
   "cell_type": "code",
   "execution_count": 11,
   "metadata": {
    "cellId": "ufe81gt7itue3otxa4w0e",
    "collapsed": true
   },
   "outputs": [],
   "source": [
    "df_calls['month'] = pd.DatetimeIndex(df_calls['call_date']).month\n",
    "df_messages['month'] = pd.DatetimeIndex(df_messages['message_date']).month\n",
    "df_internet['month'] = pd.DatetimeIndex(df_internet['session_date']).month"
   ]
  },
  {
   "cell_type": "markdown",
   "metadata": {
    "cellId": "zzuo8aksvwi83u2vhoc2yd"
   },
   "source": [
    "<div style=\"color: white; border:solid green 2px; padding: 20px; background: LightSeaGreen\">\n",
    "    <p> Создадим сводную таблицу df_calls по user_id и month, значение duration агрегируем функциями sum (сумма минут или продолжительность разговора) и count (количество звонков) за соответствующий месяц\n",
    "</div>"
   ]
  },
  {
   "cell_type": "code",
   "execution_count": 12,
   "metadata": {
    "cellId": "z5d9i4zzozaoipz8d0pto9"
   },
   "outputs": [
    {
     "data": {
      "text/html": [
       "<div>\n",
       "<style scoped>\n",
       "    .dataframe tbody tr th:only-of-type {\n",
       "        vertical-align: middle;\n",
       "    }\n",
       "\n",
       "    .dataframe tbody tr th {\n",
       "        vertical-align: top;\n",
       "    }\n",
       "\n",
       "    .dataframe thead tr th {\n",
       "        text-align: left;\n",
       "    }\n",
       "\n",
       "    .dataframe thead tr:last-of-type th {\n",
       "        text-align: right;\n",
       "    }\n",
       "</style>\n",
       "<table border=\"1\" class=\"dataframe\">\n",
       "  <thead>\n",
       "    <tr>\n",
       "      <th></th>\n",
       "      <th></th>\n",
       "      <th>sum</th>\n",
       "      <th>count</th>\n",
       "    </tr>\n",
       "    <tr>\n",
       "      <th></th>\n",
       "      <th></th>\n",
       "      <th>duration</th>\n",
       "      <th>duration</th>\n",
       "    </tr>\n",
       "    <tr>\n",
       "      <th>user_id</th>\n",
       "      <th>month</th>\n",
       "      <th></th>\n",
       "      <th></th>\n",
       "    </tr>\n",
       "  </thead>\n",
       "  <tbody>\n",
       "    <tr>\n",
       "      <td rowspan=\"8\" valign=\"top\">1000</td>\n",
       "      <td>5</td>\n",
       "      <td>159</td>\n",
       "      <td>22</td>\n",
       "    </tr>\n",
       "    <tr>\n",
       "      <td>6</td>\n",
       "      <td>172</td>\n",
       "      <td>43</td>\n",
       "    </tr>\n",
       "    <tr>\n",
       "      <td>7</td>\n",
       "      <td>340</td>\n",
       "      <td>47</td>\n",
       "    </tr>\n",
       "    <tr>\n",
       "      <td>8</td>\n",
       "      <td>408</td>\n",
       "      <td>52</td>\n",
       "    </tr>\n",
       "    <tr>\n",
       "      <td>9</td>\n",
       "      <td>466</td>\n",
       "      <td>58</td>\n",
       "    </tr>\n",
       "    <tr>\n",
       "      <td>10</td>\n",
       "      <td>350</td>\n",
       "      <td>57</td>\n",
       "    </tr>\n",
       "    <tr>\n",
       "      <td>11</td>\n",
       "      <td>338</td>\n",
       "      <td>43</td>\n",
       "    </tr>\n",
       "    <tr>\n",
       "      <td>12</td>\n",
       "      <td>333</td>\n",
       "      <td>46</td>\n",
       "    </tr>\n",
       "    <tr>\n",
       "      <td rowspan=\"2\" valign=\"top\">1001</td>\n",
       "      <td>11</td>\n",
       "      <td>430</td>\n",
       "      <td>59</td>\n",
       "    </tr>\n",
       "    <tr>\n",
       "      <td>12</td>\n",
       "      <td>414</td>\n",
       "      <td>63</td>\n",
       "    </tr>\n",
       "  </tbody>\n",
       "</table>\n",
       "</div>"
      ],
      "text/plain": [
       "                   sum    count\n",
       "              duration duration\n",
       "user_id month                  \n",
       "1000    5          159       22\n",
       "        6          172       43\n",
       "        7          340       47\n",
       "        8          408       52\n",
       "        9          466       58\n",
       "        10         350       57\n",
       "        11         338       43\n",
       "        12         333       46\n",
       "1001    11         430       59\n",
       "        12         414       63"
      ]
     },
     "execution_count": 12,
     "metadata": {},
     "output_type": "execute_result"
    }
   ],
   "source": [
    "df_calls = df_calls.pivot_table(index=['user_id', 'month'], values='duration', aggfunc=['sum', 'count'], fill_value=0)\n",
    "df_calls.head(10)\n"
   ]
  },
  {
   "cell_type": "markdown",
   "metadata": {
    "cellId": "p2efm0s2xl5qni9ppeqfh"
   },
   "source": [
    "<div style=\"color: white; border:solid green 2px; padding: 20px; background: LightSeaGreen\">\n",
    "    <p> Сделаем названия столбцом одноэтажными и обновим индекс\n",
    "</div>"
   ]
  },
  {
   "cell_type": "code",
   "execution_count": 13,
   "metadata": {
    "cellId": "5sfqdm1jqzsbuh4hsc5l2"
   },
   "outputs": [
    {
     "data": {
      "text/html": [
       "<div>\n",
       "<style scoped>\n",
       "    .dataframe tbody tr th:only-of-type {\n",
       "        vertical-align: middle;\n",
       "    }\n",
       "\n",
       "    .dataframe tbody tr th {\n",
       "        vertical-align: top;\n",
       "    }\n",
       "\n",
       "    .dataframe thead th {\n",
       "        text-align: right;\n",
       "    }\n",
       "</style>\n",
       "<table border=\"1\" class=\"dataframe\">\n",
       "  <thead>\n",
       "    <tr style=\"text-align: right;\">\n",
       "      <th></th>\n",
       "      <th>user_id</th>\n",
       "      <th>month</th>\n",
       "      <th>duration_sum</th>\n",
       "      <th>calls_count</th>\n",
       "    </tr>\n",
       "  </thead>\n",
       "  <tbody>\n",
       "    <tr>\n",
       "      <td>0</td>\n",
       "      <td>1000</td>\n",
       "      <td>5</td>\n",
       "      <td>159</td>\n",
       "      <td>22</td>\n",
       "    </tr>\n",
       "    <tr>\n",
       "      <td>1</td>\n",
       "      <td>1000</td>\n",
       "      <td>6</td>\n",
       "      <td>172</td>\n",
       "      <td>43</td>\n",
       "    </tr>\n",
       "    <tr>\n",
       "      <td>2</td>\n",
       "      <td>1000</td>\n",
       "      <td>7</td>\n",
       "      <td>340</td>\n",
       "      <td>47</td>\n",
       "    </tr>\n",
       "    <tr>\n",
       "      <td>3</td>\n",
       "      <td>1000</td>\n",
       "      <td>8</td>\n",
       "      <td>408</td>\n",
       "      <td>52</td>\n",
       "    </tr>\n",
       "    <tr>\n",
       "      <td>4</td>\n",
       "      <td>1000</td>\n",
       "      <td>9</td>\n",
       "      <td>466</td>\n",
       "      <td>58</td>\n",
       "    </tr>\n",
       "    <tr>\n",
       "      <td>5</td>\n",
       "      <td>1000</td>\n",
       "      <td>10</td>\n",
       "      <td>350</td>\n",
       "      <td>57</td>\n",
       "    </tr>\n",
       "    <tr>\n",
       "      <td>6</td>\n",
       "      <td>1000</td>\n",
       "      <td>11</td>\n",
       "      <td>338</td>\n",
       "      <td>43</td>\n",
       "    </tr>\n",
       "    <tr>\n",
       "      <td>7</td>\n",
       "      <td>1000</td>\n",
       "      <td>12</td>\n",
       "      <td>333</td>\n",
       "      <td>46</td>\n",
       "    </tr>\n",
       "    <tr>\n",
       "      <td>8</td>\n",
       "      <td>1001</td>\n",
       "      <td>11</td>\n",
       "      <td>430</td>\n",
       "      <td>59</td>\n",
       "    </tr>\n",
       "    <tr>\n",
       "      <td>9</td>\n",
       "      <td>1001</td>\n",
       "      <td>12</td>\n",
       "      <td>414</td>\n",
       "      <td>63</td>\n",
       "    </tr>\n",
       "  </tbody>\n",
       "</table>\n",
       "</div>"
      ],
      "text/plain": [
       "   user_id  month  duration_sum  calls_count\n",
       "0     1000      5           159           22\n",
       "1     1000      6           172           43\n",
       "2     1000      7           340           47\n",
       "3     1000      8           408           52\n",
       "4     1000      9           466           58\n",
       "5     1000     10           350           57\n",
       "6     1000     11           338           43\n",
       "7     1000     12           333           46\n",
       "8     1001     11           430           59\n",
       "9     1001     12           414           63"
      ]
     },
     "execution_count": 13,
     "metadata": {},
     "output_type": "execute_result"
    }
   ],
   "source": [
    "df_calls.columns = ['duration_sum', 'calls_count']\n",
    "df_calls = df_calls.reset_index()\n",
    "df_calls.head(10)"
   ]
  },
  {
   "cell_type": "markdown",
   "metadata": {
    "cellId": "0kqsrjwvaq9cidmua8pm78"
   },
   "source": [
    "<div style=\"color: white; border:solid green 2px; padding: 20px; background: LightSeaGreen\">\n",
    "    <p> Сделаем то же самое с таблицей df_message. В ней агрегируем по id (количество сообщений), заменим название столбца id на count.\n",
    "</div>"
   ]
  },
  {
   "cell_type": "code",
   "execution_count": 14,
   "metadata": {
    "cellId": "aulo45n3j3rymwpscmo05",
    "collapsed": true
   },
   "outputs": [],
   "source": [
    "df_messages = df_messages.pivot_table(index=['user_id', 'month'], values='id', aggfunc='count')\n",
    "df_messages = df_messages.rename(columns={'id':'count_msg'}).reset_index()"
   ]
  },
  {
   "cell_type": "markdown",
   "metadata": {
    "cellId": "uzvg5zgdgs17cxl174lid"
   },
   "source": [
    "<div style=\"color: white; border:solid green 2px; padding: 20px; background: LightSeaGreen\">\n",
    "    <p> Сделаем то же самое с таблицей df_internet. В ней агрегируем по mb_used (сумма мегабайт), затем создадим новый столбец и в нем переведем значение мб в ГБ.\n",
    "</div>"
   ]
  },
  {
   "cell_type": "code",
   "execution_count": 15,
   "metadata": {
    "cellId": "hj9zp1gsckbuzu0b9gots",
    "collapsed": true
   },
   "outputs": [],
   "source": [
    "df_internet = df_internet.pivot_table(index=['user_id', 'month'], values='mb_used', aggfunc='sum').reset_index()\n",
    "df_internet['gb_used'] = df_internet['mb_used'].apply(lambda x: mt.ceil(x/1024))"
   ]
  },
  {
   "cell_type": "code",
   "execution_count": 16,
   "metadata": {},
   "outputs": [
    {
     "data": {
      "text/html": [
       "<div>\n",
       "<style scoped>\n",
       "    .dataframe tbody tr th:only-of-type {\n",
       "        vertical-align: middle;\n",
       "    }\n",
       "\n",
       "    .dataframe tbody tr th {\n",
       "        vertical-align: top;\n",
       "    }\n",
       "\n",
       "    .dataframe thead th {\n",
       "        text-align: right;\n",
       "    }\n",
       "</style>\n",
       "<table border=\"1\" class=\"dataframe\">\n",
       "  <thead>\n",
       "    <tr style=\"text-align: right;\">\n",
       "      <th></th>\n",
       "      <th>user_id</th>\n",
       "      <th>month</th>\n",
       "      <th>mb_used</th>\n",
       "      <th>gb_used</th>\n",
       "    </tr>\n",
       "  </thead>\n",
       "  <tbody>\n",
       "    <tr>\n",
       "      <td>0</td>\n",
       "      <td>1000</td>\n",
       "      <td>5</td>\n",
       "      <td>2253.49</td>\n",
       "      <td>3</td>\n",
       "    </tr>\n",
       "    <tr>\n",
       "      <td>1</td>\n",
       "      <td>1000</td>\n",
       "      <td>6</td>\n",
       "      <td>23233.77</td>\n",
       "      <td>23</td>\n",
       "    </tr>\n",
       "    <tr>\n",
       "      <td>2</td>\n",
       "      <td>1000</td>\n",
       "      <td>7</td>\n",
       "      <td>14003.64</td>\n",
       "      <td>14</td>\n",
       "    </tr>\n",
       "    <tr>\n",
       "      <td>3</td>\n",
       "      <td>1000</td>\n",
       "      <td>8</td>\n",
       "      <td>14055.93</td>\n",
       "      <td>14</td>\n",
       "    </tr>\n",
       "    <tr>\n",
       "      <td>4</td>\n",
       "      <td>1000</td>\n",
       "      <td>9</td>\n",
       "      <td>14568.91</td>\n",
       "      <td>15</td>\n",
       "    </tr>\n",
       "  </tbody>\n",
       "</table>\n",
       "</div>"
      ],
      "text/plain": [
       "   user_id  month   mb_used  gb_used\n",
       "0     1000      5   2253.49        3\n",
       "1     1000      6  23233.77       23\n",
       "2     1000      7  14003.64       14\n",
       "3     1000      8  14055.93       14\n",
       "4     1000      9  14568.91       15"
      ]
     },
     "execution_count": 16,
     "metadata": {},
     "output_type": "execute_result"
    }
   ],
   "source": [
    "df_internet.head()"
   ]
  },
  {
   "cell_type": "markdown",
   "metadata": {
    "cellId": "vdnplif56cq4cecqhg9hie"
   },
   "source": [
    "<div style=\"color: white; border:solid green 2px; padding: 20px; background: LightSeaGreen\">\n",
    "    <p> Соединим таблицу df_users с таблицами: 1 - df_calls, 2 - df_messages, 3 - df_internet паралельно.\n",
    "    <p> А затем через join соединим в единый df таблицы 1 с 2, затем с 3\n",
    "    <p> Посмотрим на структуру получившейся таблицы через info\n",
    "</div"
   ]
  },
  {
   "cell_type": "code",
   "execution_count": 17,
   "metadata": {
    "cellId": "k40fz1z12unzz1pleqz0fb"
   },
   "outputs": [
    {
     "name": "stdout",
     "output_type": "stream",
     "text": [
      "<class 'pandas.core.frame.DataFrame'>\n",
      "Int64Index: 3216 entries, 0 to 3215\n",
      "Data columns (total 14 columns):\n",
      "user_id         3216 non-null int64\n",
      "month           3214 non-null float64\n",
      "duration_sum    3174 non-null float64\n",
      "calls_count     3174 non-null float64\n",
      "count_msg       2717 non-null float64\n",
      "mb_used         3203 non-null float64\n",
      "gb_used         3203 non-null float64\n",
      "age             3216 non-null int64\n",
      "churn_date      3216 non-null datetime64[ns]\n",
      "city            3216 non-null object\n",
      "first_name      3216 non-null object\n",
      "last_name       3216 non-null object\n",
      "reg_date        3216 non-null datetime64[ns]\n",
      "tariff          3216 non-null object\n",
      "dtypes: datetime64[ns](2), float64(6), int64(2), object(4)\n",
      "memory usage: 376.9+ KB\n"
     ]
    }
   ],
   "source": [
    "# здесь был предыдущий неверный код, я его случайно удалил, прошу прощенья\n",
    "\n",
    "df_tmp = df_calls.merge(df_messages, on=['user_id', 'month'], how='outer')\n",
    "df_tmp = df_tmp.merge(df_internet, on=['user_id', 'month'], how='outer')\n",
    "df2 = df_tmp.merge(df_users, on=['user_id'], how='outer')\n",
    "\n",
    "df2.info()"
   ]
  },
  {
   "cell_type": "code",
   "execution_count": 18,
   "metadata": {
    "scrolled": true
   },
   "outputs": [
    {
     "name": "stdout",
     "output_type": "stream",
     "text": [
      "<class 'pandas.core.frame.DataFrame'>\n",
      "Int64Index: 3214 entries, 0 to 3213\n",
      "Data columns (total 13 columns):\n",
      "user_id         3214 non-null int64\n",
      "month           3214 non-null int64\n",
      "duration_sum    3214 non-null int64\n",
      "calls_count     3214 non-null int64\n",
      "count_msg       3214 non-null int64\n",
      "gb_used         3214 non-null int64\n",
      "age             3214 non-null int64\n",
      "churn_date      3214 non-null datetime64[ns]\n",
      "city            3214 non-null object\n",
      "first_name      3214 non-null object\n",
      "last_name       3214 non-null object\n",
      "reg_date        3214 non-null datetime64[ns]\n",
      "tariff          3214 non-null object\n",
      "dtypes: datetime64[ns](2), int64(7), object(4)\n",
      "memory usage: 351.5+ KB\n"
     ]
    },
    {
     "data": {
      "text/html": [
       "<div>\n",
       "<style scoped>\n",
       "    .dataframe tbody tr th:only-of-type {\n",
       "        vertical-align: middle;\n",
       "    }\n",
       "\n",
       "    .dataframe tbody tr th {\n",
       "        vertical-align: top;\n",
       "    }\n",
       "\n",
       "    .dataframe thead th {\n",
       "        text-align: right;\n",
       "    }\n",
       "</style>\n",
       "<table border=\"1\" class=\"dataframe\">\n",
       "  <thead>\n",
       "    <tr style=\"text-align: right;\">\n",
       "      <th></th>\n",
       "      <th>user_id</th>\n",
       "      <th>month</th>\n",
       "      <th>duration_sum</th>\n",
       "      <th>calls_count</th>\n",
       "      <th>count_msg</th>\n",
       "      <th>gb_used</th>\n",
       "      <th>age</th>\n",
       "      <th>churn_date</th>\n",
       "      <th>city</th>\n",
       "      <th>first_name</th>\n",
       "      <th>last_name</th>\n",
       "      <th>reg_date</th>\n",
       "      <th>tariff</th>\n",
       "    </tr>\n",
       "  </thead>\n",
       "  <tbody>\n",
       "    <tr>\n",
       "      <td>0</td>\n",
       "      <td>1000</td>\n",
       "      <td>5</td>\n",
       "      <td>159</td>\n",
       "      <td>22</td>\n",
       "      <td>22</td>\n",
       "      <td>3</td>\n",
       "      <td>52</td>\n",
       "      <td>2018-12-31</td>\n",
       "      <td>Краснодар</td>\n",
       "      <td>Рафаил</td>\n",
       "      <td>Верещагин</td>\n",
       "      <td>2018-05-25</td>\n",
       "      <td>ultra</td>\n",
       "    </tr>\n",
       "    <tr>\n",
       "      <td>1</td>\n",
       "      <td>1000</td>\n",
       "      <td>6</td>\n",
       "      <td>172</td>\n",
       "      <td>43</td>\n",
       "      <td>60</td>\n",
       "      <td>23</td>\n",
       "      <td>52</td>\n",
       "      <td>2018-12-31</td>\n",
       "      <td>Краснодар</td>\n",
       "      <td>Рафаил</td>\n",
       "      <td>Верещагин</td>\n",
       "      <td>2018-05-25</td>\n",
       "      <td>ultra</td>\n",
       "    </tr>\n",
       "    <tr>\n",
       "      <td>2</td>\n",
       "      <td>1000</td>\n",
       "      <td>7</td>\n",
       "      <td>340</td>\n",
       "      <td>47</td>\n",
       "      <td>75</td>\n",
       "      <td>14</td>\n",
       "      <td>52</td>\n",
       "      <td>2018-12-31</td>\n",
       "      <td>Краснодар</td>\n",
       "      <td>Рафаил</td>\n",
       "      <td>Верещагин</td>\n",
       "      <td>2018-05-25</td>\n",
       "      <td>ultra</td>\n",
       "    </tr>\n",
       "    <tr>\n",
       "      <td>3</td>\n",
       "      <td>1000</td>\n",
       "      <td>8</td>\n",
       "      <td>408</td>\n",
       "      <td>52</td>\n",
       "      <td>81</td>\n",
       "      <td>14</td>\n",
       "      <td>52</td>\n",
       "      <td>2018-12-31</td>\n",
       "      <td>Краснодар</td>\n",
       "      <td>Рафаил</td>\n",
       "      <td>Верещагин</td>\n",
       "      <td>2018-05-25</td>\n",
       "      <td>ultra</td>\n",
       "    </tr>\n",
       "    <tr>\n",
       "      <td>4</td>\n",
       "      <td>1000</td>\n",
       "      <td>9</td>\n",
       "      <td>466</td>\n",
       "      <td>58</td>\n",
       "      <td>57</td>\n",
       "      <td>15</td>\n",
       "      <td>52</td>\n",
       "      <td>2018-12-31</td>\n",
       "      <td>Краснодар</td>\n",
       "      <td>Рафаил</td>\n",
       "      <td>Верещагин</td>\n",
       "      <td>2018-05-25</td>\n",
       "      <td>ultra</td>\n",
       "    </tr>\n",
       "    <tr>\n",
       "      <td>5</td>\n",
       "      <td>1000</td>\n",
       "      <td>10</td>\n",
       "      <td>350</td>\n",
       "      <td>57</td>\n",
       "      <td>73</td>\n",
       "      <td>15</td>\n",
       "      <td>52</td>\n",
       "      <td>2018-12-31</td>\n",
       "      <td>Краснодар</td>\n",
       "      <td>Рафаил</td>\n",
       "      <td>Верещагин</td>\n",
       "      <td>2018-05-25</td>\n",
       "      <td>ultra</td>\n",
       "    </tr>\n",
       "    <tr>\n",
       "      <td>6</td>\n",
       "      <td>1000</td>\n",
       "      <td>11</td>\n",
       "      <td>338</td>\n",
       "      <td>43</td>\n",
       "      <td>58</td>\n",
       "      <td>15</td>\n",
       "      <td>52</td>\n",
       "      <td>2018-12-31</td>\n",
       "      <td>Краснодар</td>\n",
       "      <td>Рафаил</td>\n",
       "      <td>Верещагин</td>\n",
       "      <td>2018-05-25</td>\n",
       "      <td>ultra</td>\n",
       "    </tr>\n",
       "    <tr>\n",
       "      <td>7</td>\n",
       "      <td>1000</td>\n",
       "      <td>12</td>\n",
       "      <td>333</td>\n",
       "      <td>46</td>\n",
       "      <td>70</td>\n",
       "      <td>10</td>\n",
       "      <td>52</td>\n",
       "      <td>2018-12-31</td>\n",
       "      <td>Краснодар</td>\n",
       "      <td>Рафаил</td>\n",
       "      <td>Верещагин</td>\n",
       "      <td>2018-05-25</td>\n",
       "      <td>ultra</td>\n",
       "    </tr>\n",
       "    <tr>\n",
       "      <td>8</td>\n",
       "      <td>1001</td>\n",
       "      <td>11</td>\n",
       "      <td>430</td>\n",
       "      <td>59</td>\n",
       "      <td>0</td>\n",
       "      <td>18</td>\n",
       "      <td>41</td>\n",
       "      <td>2018-12-31</td>\n",
       "      <td>Москва</td>\n",
       "      <td>Иван</td>\n",
       "      <td>Ежов</td>\n",
       "      <td>2018-11-01</td>\n",
       "      <td>smart</td>\n",
       "    </tr>\n",
       "    <tr>\n",
       "      <td>9</td>\n",
       "      <td>1001</td>\n",
       "      <td>12</td>\n",
       "      <td>414</td>\n",
       "      <td>63</td>\n",
       "      <td>0</td>\n",
       "      <td>14</td>\n",
       "      <td>41</td>\n",
       "      <td>2018-12-31</td>\n",
       "      <td>Москва</td>\n",
       "      <td>Иван</td>\n",
       "      <td>Ежов</td>\n",
       "      <td>2018-11-01</td>\n",
       "      <td>smart</td>\n",
       "    </tr>\n",
       "    <tr>\n",
       "      <td>10</td>\n",
       "      <td>1002</td>\n",
       "      <td>6</td>\n",
       "      <td>117</td>\n",
       "      <td>15</td>\n",
       "      <td>4</td>\n",
       "      <td>11</td>\n",
       "      <td>59</td>\n",
       "      <td>2018-12-31</td>\n",
       "      <td>Стерлитамак</td>\n",
       "      <td>Евгений</td>\n",
       "      <td>Абрамович</td>\n",
       "      <td>2018-06-17</td>\n",
       "      <td>smart</td>\n",
       "    </tr>\n",
       "    <tr>\n",
       "      <td>11</td>\n",
       "      <td>1002</td>\n",
       "      <td>7</td>\n",
       "      <td>214</td>\n",
       "      <td>26</td>\n",
       "      <td>11</td>\n",
       "      <td>18</td>\n",
       "      <td>59</td>\n",
       "      <td>2018-12-31</td>\n",
       "      <td>Стерлитамак</td>\n",
       "      <td>Евгений</td>\n",
       "      <td>Абрамович</td>\n",
       "      <td>2018-06-17</td>\n",
       "      <td>smart</td>\n",
       "    </tr>\n",
       "    <tr>\n",
       "      <td>12</td>\n",
       "      <td>1002</td>\n",
       "      <td>8</td>\n",
       "      <td>289</td>\n",
       "      <td>42</td>\n",
       "      <td>13</td>\n",
       "      <td>20</td>\n",
       "      <td>59</td>\n",
       "      <td>2018-12-31</td>\n",
       "      <td>Стерлитамак</td>\n",
       "      <td>Евгений</td>\n",
       "      <td>Абрамович</td>\n",
       "      <td>2018-06-17</td>\n",
       "      <td>smart</td>\n",
       "    </tr>\n",
       "    <tr>\n",
       "      <td>13</td>\n",
       "      <td>1002</td>\n",
       "      <td>9</td>\n",
       "      <td>206</td>\n",
       "      <td>36</td>\n",
       "      <td>4</td>\n",
       "      <td>17</td>\n",
       "      <td>59</td>\n",
       "      <td>2018-12-31</td>\n",
       "      <td>Стерлитамак</td>\n",
       "      <td>Евгений</td>\n",
       "      <td>Абрамович</td>\n",
       "      <td>2018-06-17</td>\n",
       "      <td>smart</td>\n",
       "    </tr>\n",
       "    <tr>\n",
       "      <td>14</td>\n",
       "      <td>1002</td>\n",
       "      <td>10</td>\n",
       "      <td>212</td>\n",
       "      <td>33</td>\n",
       "      <td>10</td>\n",
       "      <td>14</td>\n",
       "      <td>59</td>\n",
       "      <td>2018-12-31</td>\n",
       "      <td>Стерлитамак</td>\n",
       "      <td>Евгений</td>\n",
       "      <td>Абрамович</td>\n",
       "      <td>2018-06-17</td>\n",
       "      <td>smart</td>\n",
       "    </tr>\n",
       "    <tr>\n",
       "      <td>15</td>\n",
       "      <td>1002</td>\n",
       "      <td>11</td>\n",
       "      <td>243</td>\n",
       "      <td>32</td>\n",
       "      <td>16</td>\n",
       "      <td>19</td>\n",
       "      <td>59</td>\n",
       "      <td>2018-12-31</td>\n",
       "      <td>Стерлитамак</td>\n",
       "      <td>Евгений</td>\n",
       "      <td>Абрамович</td>\n",
       "      <td>2018-06-17</td>\n",
       "      <td>smart</td>\n",
       "    </tr>\n",
       "    <tr>\n",
       "      <td>16</td>\n",
       "      <td>1002</td>\n",
       "      <td>12</td>\n",
       "      <td>236</td>\n",
       "      <td>33</td>\n",
       "      <td>12</td>\n",
       "      <td>18</td>\n",
       "      <td>59</td>\n",
       "      <td>2018-12-31</td>\n",
       "      <td>Стерлитамак</td>\n",
       "      <td>Евгений</td>\n",
       "      <td>Абрамович</td>\n",
       "      <td>2018-06-17</td>\n",
       "      <td>smart</td>\n",
       "    </tr>\n",
       "    <tr>\n",
       "      <td>17</td>\n",
       "      <td>1003</td>\n",
       "      <td>8</td>\n",
       "      <td>380</td>\n",
       "      <td>55</td>\n",
       "      <td>37</td>\n",
       "      <td>9</td>\n",
       "      <td>23</td>\n",
       "      <td>2018-12-31</td>\n",
       "      <td>Москва</td>\n",
       "      <td>Белла</td>\n",
       "      <td>Белякова</td>\n",
       "      <td>2018-08-17</td>\n",
       "      <td>ultra</td>\n",
       "    </tr>\n",
       "    <tr>\n",
       "      <td>18</td>\n",
       "      <td>1003</td>\n",
       "      <td>9</td>\n",
       "      <td>961</td>\n",
       "      <td>134</td>\n",
       "      <td>91</td>\n",
       "      <td>13</td>\n",
       "      <td>23</td>\n",
       "      <td>2018-12-31</td>\n",
       "      <td>Москва</td>\n",
       "      <td>Белла</td>\n",
       "      <td>Белякова</td>\n",
       "      <td>2018-08-17</td>\n",
       "      <td>ultra</td>\n",
       "    </tr>\n",
       "    <tr>\n",
       "      <td>19</td>\n",
       "      <td>1003</td>\n",
       "      <td>10</td>\n",
       "      <td>855</td>\n",
       "      <td>108</td>\n",
       "      <td>83</td>\n",
       "      <td>15</td>\n",
       "      <td>23</td>\n",
       "      <td>2018-12-31</td>\n",
       "      <td>Москва</td>\n",
       "      <td>Белла</td>\n",
       "      <td>Белякова</td>\n",
       "      <td>2018-08-17</td>\n",
       "      <td>ultra</td>\n",
       "    </tr>\n",
       "  </tbody>\n",
       "</table>\n",
       "</div>"
      ],
      "text/plain": [
       "    user_id  month  duration_sum  calls_count  count_msg  gb_used  age  \\\n",
       "0      1000      5           159           22         22        3   52   \n",
       "1      1000      6           172           43         60       23   52   \n",
       "2      1000      7           340           47         75       14   52   \n",
       "3      1000      8           408           52         81       14   52   \n",
       "4      1000      9           466           58         57       15   52   \n",
       "5      1000     10           350           57         73       15   52   \n",
       "6      1000     11           338           43         58       15   52   \n",
       "7      1000     12           333           46         70       10   52   \n",
       "8      1001     11           430           59          0       18   41   \n",
       "9      1001     12           414           63          0       14   41   \n",
       "10     1002      6           117           15          4       11   59   \n",
       "11     1002      7           214           26         11       18   59   \n",
       "12     1002      8           289           42         13       20   59   \n",
       "13     1002      9           206           36          4       17   59   \n",
       "14     1002     10           212           33         10       14   59   \n",
       "15     1002     11           243           32         16       19   59   \n",
       "16     1002     12           236           33         12       18   59   \n",
       "17     1003      8           380           55         37        9   23   \n",
       "18     1003      9           961          134         91       13   23   \n",
       "19     1003     10           855          108         83       15   23   \n",
       "\n",
       "   churn_date         city first_name  last_name   reg_date tariff  \n",
       "0  2018-12-31    Краснодар     Рафаил  Верещагин 2018-05-25  ultra  \n",
       "1  2018-12-31    Краснодар     Рафаил  Верещагин 2018-05-25  ultra  \n",
       "2  2018-12-31    Краснодар     Рафаил  Верещагин 2018-05-25  ultra  \n",
       "3  2018-12-31    Краснодар     Рафаил  Верещагин 2018-05-25  ultra  \n",
       "4  2018-12-31    Краснодар     Рафаил  Верещагин 2018-05-25  ultra  \n",
       "5  2018-12-31    Краснодар     Рафаил  Верещагин 2018-05-25  ultra  \n",
       "6  2018-12-31    Краснодар     Рафаил  Верещагин 2018-05-25  ultra  \n",
       "7  2018-12-31    Краснодар     Рафаил  Верещагин 2018-05-25  ultra  \n",
       "8  2018-12-31       Москва       Иван       Ежов 2018-11-01  smart  \n",
       "9  2018-12-31       Москва       Иван       Ежов 2018-11-01  smart  \n",
       "10 2018-12-31  Стерлитамак    Евгений  Абрамович 2018-06-17  smart  \n",
       "11 2018-12-31  Стерлитамак    Евгений  Абрамович 2018-06-17  smart  \n",
       "12 2018-12-31  Стерлитамак    Евгений  Абрамович 2018-06-17  smart  \n",
       "13 2018-12-31  Стерлитамак    Евгений  Абрамович 2018-06-17  smart  \n",
       "14 2018-12-31  Стерлитамак    Евгений  Абрамович 2018-06-17  smart  \n",
       "15 2018-12-31  Стерлитамак    Евгений  Абрамович 2018-06-17  smart  \n",
       "16 2018-12-31  Стерлитамак    Евгений  Абрамович 2018-06-17  smart  \n",
       "17 2018-12-31       Москва      Белла   Белякова 2018-08-17  ultra  \n",
       "18 2018-12-31       Москва      Белла   Белякова 2018-08-17  ultra  \n",
       "19 2018-12-31       Москва      Белла   Белякова 2018-08-17  ultra  "
      ]
     },
     "execution_count": 18,
     "metadata": {},
     "output_type": "execute_result"
    }
   ],
   "source": [
    "df2 = df2.drop(columns='mb_used')\n",
    "\n",
    "lst = ['month', 'duration_sum', 'calls_count', 'count_msg', 'gb_used']\n",
    "for x in lst:\n",
    "    df2[x] = df2[x].fillna(0).astype('int')\n",
    "\n",
    "df2 = df2.query('month != 0')\n",
    "df2.info()\n",
    "df2.head(20)"
   ]
  },
  {
   "cell_type": "markdown",
   "metadata": {
    "cellId": "saidcqz3gm9na2gw6n2858"
   },
   "source": [
    "<div style=\"color: white; border:solid green 2px; padding: 20px; background: LightSeaGreen\">\n",
    "    <p> Получилось много столбцов-дубликатов, убирем их методом drop \n",
    "</div"
   ]
  },
  {
   "cell_type": "code",
   "execution_count": 19,
   "metadata": {
    "cellId": "cl2g6pn9eis54g5ksjfypt",
    "collapsed": true
   },
   "outputs": [],
   "source": [
    "# df2 = df2.drop(['user_id_x', \n",
    "#                 'age_x', \n",
    "#                 'churn_date_x', \n",
    "#                 'city_x', \n",
    "#                 'first_name_x', \n",
    "#                 'last_name_x', \n",
    "#                 'reg_date_x',\n",
    "#                 'tariff_x', \n",
    "#                 'month_x', \n",
    "#                 'user_id_y', \n",
    "#                 'age_y',\n",
    "#                 'churn_date_y', \n",
    "#                 'city_y', \n",
    "#                 'first_name_y', \n",
    "#                 'last_name_y', \n",
    "#                 'reg_date_y',\n",
    "#                 'tariff_y', \n",
    "#                 'month_y', \n",
    "#                 'mb_used'\n",
    "#                ], axis = 1)\n",
    "# df2.info()"
   ]
  },
  {
   "cell_type": "markdown",
   "metadata": {
    "cellId": "e6idppgxth6jii7bi6j0s"
   },
   "source": [
    "<div style=\"color: white; border:solid green 2px; padding: 20px; background: LightSeaGreen\">\n",
    "    <p> Сформировались пропуски, посмотрим на строки с этими пропусками (по столбцу month)\n",
    "</div"
   ]
  },
  {
   "cell_type": "code",
   "execution_count": 20,
   "metadata": {
    "cellId": "2tksrd4ee6v74fin9v4tju",
    "collapsed": true
   },
   "outputs": [],
   "source": [
    "# print('Количество пропусков = {:.04%}'.format(df2['month'].isna().mean()))\n",
    "# df2.query('month != month')"
   ]
  },
  {
   "cell_type": "markdown",
   "metadata": {},
   "source": [
    "<div style=\"color: white; border:solid green 2px; padding: 20px; background: #1fbcd1\">\n",
    "\n",
    "<p> Оставим лишь те столбцы с которыми будем работать дальше"
   ]
  },
  {
   "cell_type": "code",
   "execution_count": 21,
   "metadata": {
    "scrolled": true
   },
   "outputs": [
    {
     "name": "stdout",
     "output_type": "stream",
     "text": [
      "<class 'pandas.core.frame.DataFrame'>\n",
      "Int64Index: 3214 entries, 0 to 3213\n",
      "Data columns (total 8 columns):\n",
      "user_id         3214 non-null int64\n",
      "city            3214 non-null object\n",
      "month           3214 non-null int64\n",
      "duration_sum    3214 non-null int64\n",
      "calls_count     3214 non-null int64\n",
      "count_msg       3214 non-null int64\n",
      "gb_used         3214 non-null int64\n",
      "tariff          3214 non-null object\n",
      "dtypes: int64(6), object(2)\n",
      "memory usage: 226.0+ KB\n"
     ]
    },
    {
     "data": {
      "text/html": [
       "<div>\n",
       "<style scoped>\n",
       "    .dataframe tbody tr th:only-of-type {\n",
       "        vertical-align: middle;\n",
       "    }\n",
       "\n",
       "    .dataframe tbody tr th {\n",
       "        vertical-align: top;\n",
       "    }\n",
       "\n",
       "    .dataframe thead th {\n",
       "        text-align: right;\n",
       "    }\n",
       "</style>\n",
       "<table border=\"1\" class=\"dataframe\">\n",
       "  <thead>\n",
       "    <tr style=\"text-align: right;\">\n",
       "      <th></th>\n",
       "      <th>user_id</th>\n",
       "      <th>city</th>\n",
       "      <th>month</th>\n",
       "      <th>duration_sum</th>\n",
       "      <th>calls_count</th>\n",
       "      <th>count_msg</th>\n",
       "      <th>gb_used</th>\n",
       "      <th>tariff</th>\n",
       "    </tr>\n",
       "  </thead>\n",
       "  <tbody>\n",
       "    <tr>\n",
       "      <td>0</td>\n",
       "      <td>1000</td>\n",
       "      <td>Краснодар</td>\n",
       "      <td>5</td>\n",
       "      <td>159</td>\n",
       "      <td>22</td>\n",
       "      <td>22</td>\n",
       "      <td>3</td>\n",
       "      <td>ultra</td>\n",
       "    </tr>\n",
       "    <tr>\n",
       "      <td>1</td>\n",
       "      <td>1000</td>\n",
       "      <td>Краснодар</td>\n",
       "      <td>6</td>\n",
       "      <td>172</td>\n",
       "      <td>43</td>\n",
       "      <td>60</td>\n",
       "      <td>23</td>\n",
       "      <td>ultra</td>\n",
       "    </tr>\n",
       "    <tr>\n",
       "      <td>2</td>\n",
       "      <td>1000</td>\n",
       "      <td>Краснодар</td>\n",
       "      <td>7</td>\n",
       "      <td>340</td>\n",
       "      <td>47</td>\n",
       "      <td>75</td>\n",
       "      <td>14</td>\n",
       "      <td>ultra</td>\n",
       "    </tr>\n",
       "    <tr>\n",
       "      <td>3</td>\n",
       "      <td>1000</td>\n",
       "      <td>Краснодар</td>\n",
       "      <td>8</td>\n",
       "      <td>408</td>\n",
       "      <td>52</td>\n",
       "      <td>81</td>\n",
       "      <td>14</td>\n",
       "      <td>ultra</td>\n",
       "    </tr>\n",
       "    <tr>\n",
       "      <td>4</td>\n",
       "      <td>1000</td>\n",
       "      <td>Краснодар</td>\n",
       "      <td>9</td>\n",
       "      <td>466</td>\n",
       "      <td>58</td>\n",
       "      <td>57</td>\n",
       "      <td>15</td>\n",
       "      <td>ultra</td>\n",
       "    </tr>\n",
       "    <tr>\n",
       "      <td>5</td>\n",
       "      <td>1000</td>\n",
       "      <td>Краснодар</td>\n",
       "      <td>10</td>\n",
       "      <td>350</td>\n",
       "      <td>57</td>\n",
       "      <td>73</td>\n",
       "      <td>15</td>\n",
       "      <td>ultra</td>\n",
       "    </tr>\n",
       "    <tr>\n",
       "      <td>6</td>\n",
       "      <td>1000</td>\n",
       "      <td>Краснодар</td>\n",
       "      <td>11</td>\n",
       "      <td>338</td>\n",
       "      <td>43</td>\n",
       "      <td>58</td>\n",
       "      <td>15</td>\n",
       "      <td>ultra</td>\n",
       "    </tr>\n",
       "    <tr>\n",
       "      <td>7</td>\n",
       "      <td>1000</td>\n",
       "      <td>Краснодар</td>\n",
       "      <td>12</td>\n",
       "      <td>333</td>\n",
       "      <td>46</td>\n",
       "      <td>70</td>\n",
       "      <td>10</td>\n",
       "      <td>ultra</td>\n",
       "    </tr>\n",
       "    <tr>\n",
       "      <td>8</td>\n",
       "      <td>1001</td>\n",
       "      <td>Москва</td>\n",
       "      <td>11</td>\n",
       "      <td>430</td>\n",
       "      <td>59</td>\n",
       "      <td>0</td>\n",
       "      <td>18</td>\n",
       "      <td>smart</td>\n",
       "    </tr>\n",
       "    <tr>\n",
       "      <td>9</td>\n",
       "      <td>1001</td>\n",
       "      <td>Москва</td>\n",
       "      <td>12</td>\n",
       "      <td>414</td>\n",
       "      <td>63</td>\n",
       "      <td>0</td>\n",
       "      <td>14</td>\n",
       "      <td>smart</td>\n",
       "    </tr>\n",
       "    <tr>\n",
       "      <td>10</td>\n",
       "      <td>1002</td>\n",
       "      <td>Стерлитамак</td>\n",
       "      <td>6</td>\n",
       "      <td>117</td>\n",
       "      <td>15</td>\n",
       "      <td>4</td>\n",
       "      <td>11</td>\n",
       "      <td>smart</td>\n",
       "    </tr>\n",
       "    <tr>\n",
       "      <td>11</td>\n",
       "      <td>1002</td>\n",
       "      <td>Стерлитамак</td>\n",
       "      <td>7</td>\n",
       "      <td>214</td>\n",
       "      <td>26</td>\n",
       "      <td>11</td>\n",
       "      <td>18</td>\n",
       "      <td>smart</td>\n",
       "    </tr>\n",
       "    <tr>\n",
       "      <td>12</td>\n",
       "      <td>1002</td>\n",
       "      <td>Стерлитамак</td>\n",
       "      <td>8</td>\n",
       "      <td>289</td>\n",
       "      <td>42</td>\n",
       "      <td>13</td>\n",
       "      <td>20</td>\n",
       "      <td>smart</td>\n",
       "    </tr>\n",
       "    <tr>\n",
       "      <td>13</td>\n",
       "      <td>1002</td>\n",
       "      <td>Стерлитамак</td>\n",
       "      <td>9</td>\n",
       "      <td>206</td>\n",
       "      <td>36</td>\n",
       "      <td>4</td>\n",
       "      <td>17</td>\n",
       "      <td>smart</td>\n",
       "    </tr>\n",
       "    <tr>\n",
       "      <td>14</td>\n",
       "      <td>1002</td>\n",
       "      <td>Стерлитамак</td>\n",
       "      <td>10</td>\n",
       "      <td>212</td>\n",
       "      <td>33</td>\n",
       "      <td>10</td>\n",
       "      <td>14</td>\n",
       "      <td>smart</td>\n",
       "    </tr>\n",
       "    <tr>\n",
       "      <td>15</td>\n",
       "      <td>1002</td>\n",
       "      <td>Стерлитамак</td>\n",
       "      <td>11</td>\n",
       "      <td>243</td>\n",
       "      <td>32</td>\n",
       "      <td>16</td>\n",
       "      <td>19</td>\n",
       "      <td>smart</td>\n",
       "    </tr>\n",
       "    <tr>\n",
       "      <td>16</td>\n",
       "      <td>1002</td>\n",
       "      <td>Стерлитамак</td>\n",
       "      <td>12</td>\n",
       "      <td>236</td>\n",
       "      <td>33</td>\n",
       "      <td>12</td>\n",
       "      <td>18</td>\n",
       "      <td>smart</td>\n",
       "    </tr>\n",
       "    <tr>\n",
       "      <td>17</td>\n",
       "      <td>1003</td>\n",
       "      <td>Москва</td>\n",
       "      <td>8</td>\n",
       "      <td>380</td>\n",
       "      <td>55</td>\n",
       "      <td>37</td>\n",
       "      <td>9</td>\n",
       "      <td>ultra</td>\n",
       "    </tr>\n",
       "    <tr>\n",
       "      <td>18</td>\n",
       "      <td>1003</td>\n",
       "      <td>Москва</td>\n",
       "      <td>9</td>\n",
       "      <td>961</td>\n",
       "      <td>134</td>\n",
       "      <td>91</td>\n",
       "      <td>13</td>\n",
       "      <td>ultra</td>\n",
       "    </tr>\n",
       "    <tr>\n",
       "      <td>19</td>\n",
       "      <td>1003</td>\n",
       "      <td>Москва</td>\n",
       "      <td>10</td>\n",
       "      <td>855</td>\n",
       "      <td>108</td>\n",
       "      <td>83</td>\n",
       "      <td>15</td>\n",
       "      <td>ultra</td>\n",
       "    </tr>\n",
       "    <tr>\n",
       "      <td>20</td>\n",
       "      <td>1003</td>\n",
       "      <td>Москва</td>\n",
       "      <td>11</td>\n",
       "      <td>824</td>\n",
       "      <td>115</td>\n",
       "      <td>94</td>\n",
       "      <td>12</td>\n",
       "      <td>ultra</td>\n",
       "    </tr>\n",
       "    <tr>\n",
       "      <td>21</td>\n",
       "      <td>1003</td>\n",
       "      <td>Москва</td>\n",
       "      <td>12</td>\n",
       "      <td>802</td>\n",
       "      <td>108</td>\n",
       "      <td>75</td>\n",
       "      <td>10</td>\n",
       "      <td>ultra</td>\n",
       "    </tr>\n",
       "    <tr>\n",
       "      <td>22</td>\n",
       "      <td>1004</td>\n",
       "      <td>Новокузнецк</td>\n",
       "      <td>5</td>\n",
       "      <td>35</td>\n",
       "      <td>9</td>\n",
       "      <td>95</td>\n",
       "      <td>14</td>\n",
       "      <td>ultra</td>\n",
       "    </tr>\n",
       "    <tr>\n",
       "      <td>23</td>\n",
       "      <td>1004</td>\n",
       "      <td>Новокузнецк</td>\n",
       "      <td>6</td>\n",
       "      <td>171</td>\n",
       "      <td>31</td>\n",
       "      <td>134</td>\n",
       "      <td>18</td>\n",
       "      <td>ultra</td>\n",
       "    </tr>\n",
       "    <tr>\n",
       "      <td>24</td>\n",
       "      <td>1004</td>\n",
       "      <td>Новокузнецк</td>\n",
       "      <td>7</td>\n",
       "      <td>135</td>\n",
       "      <td>22</td>\n",
       "      <td>181</td>\n",
       "      <td>22</td>\n",
       "      <td>ultra</td>\n",
       "    </tr>\n",
       "    <tr>\n",
       "      <td>25</td>\n",
       "      <td>1004</td>\n",
       "      <td>Новокузнецк</td>\n",
       "      <td>8</td>\n",
       "      <td>137</td>\n",
       "      <td>19</td>\n",
       "      <td>151</td>\n",
       "      <td>28</td>\n",
       "      <td>ultra</td>\n",
       "    </tr>\n",
       "    <tr>\n",
       "      <td>26</td>\n",
       "      <td>1004</td>\n",
       "      <td>Новокузнецк</td>\n",
       "      <td>9</td>\n",
       "      <td>117</td>\n",
       "      <td>26</td>\n",
       "      <td>146</td>\n",
       "      <td>15</td>\n",
       "      <td>ultra</td>\n",
       "    </tr>\n",
       "    <tr>\n",
       "      <td>27</td>\n",
       "      <td>1004</td>\n",
       "      <td>Новокузнецк</td>\n",
       "      <td>10</td>\n",
       "      <td>145</td>\n",
       "      <td>29</td>\n",
       "      <td>165</td>\n",
       "      <td>19</td>\n",
       "      <td>ultra</td>\n",
       "    </tr>\n",
       "    <tr>\n",
       "      <td>28</td>\n",
       "      <td>1004</td>\n",
       "      <td>Новокузнецк</td>\n",
       "      <td>11</td>\n",
       "      <td>117</td>\n",
       "      <td>19</td>\n",
       "      <td>158</td>\n",
       "      <td>16</td>\n",
       "      <td>ultra</td>\n",
       "    </tr>\n",
       "    <tr>\n",
       "      <td>29</td>\n",
       "      <td>1004</td>\n",
       "      <td>Новокузнецк</td>\n",
       "      <td>12</td>\n",
       "      <td>130</td>\n",
       "      <td>21</td>\n",
       "      <td>162</td>\n",
       "      <td>18</td>\n",
       "      <td>ultra</td>\n",
       "    </tr>\n",
       "    <tr>\n",
       "      <td>30</td>\n",
       "      <td>1005</td>\n",
       "      <td>Набережные Челны</td>\n",
       "      <td>1</td>\n",
       "      <td>95</td>\n",
       "      <td>15</td>\n",
       "      <td>7</td>\n",
       "      <td>3</td>\n",
       "      <td>smart</td>\n",
       "    </tr>\n",
       "    <tr>\n",
       "      <td>31</td>\n",
       "      <td>1005</td>\n",
       "      <td>Набережные Челны</td>\n",
       "      <td>2</td>\n",
       "      <td>456</td>\n",
       "      <td>69</td>\n",
       "      <td>38</td>\n",
       "      <td>8</td>\n",
       "      <td>smart</td>\n",
       "    </tr>\n",
       "    <tr>\n",
       "      <td>32</td>\n",
       "      <td>1005</td>\n",
       "      <td>Набережные Челны</td>\n",
       "      <td>3</td>\n",
       "      <td>606</td>\n",
       "      <td>77</td>\n",
       "      <td>56</td>\n",
       "      <td>11</td>\n",
       "      <td>smart</td>\n",
       "    </tr>\n",
       "    <tr>\n",
       "      <td>33</td>\n",
       "      <td>1005</td>\n",
       "      <td>Набережные Челны</td>\n",
       "      <td>4</td>\n",
       "      <td>712</td>\n",
       "      <td>101</td>\n",
       "      <td>41</td>\n",
       "      <td>10</td>\n",
       "      <td>smart</td>\n",
       "    </tr>\n",
       "    <tr>\n",
       "      <td>34</td>\n",
       "      <td>1005</td>\n",
       "      <td>Набережные Челны</td>\n",
       "      <td>5</td>\n",
       "      <td>595</td>\n",
       "      <td>73</td>\n",
       "      <td>42</td>\n",
       "      <td>8</td>\n",
       "      <td>smart</td>\n",
       "    </tr>\n",
       "    <tr>\n",
       "      <td>35</td>\n",
       "      <td>1005</td>\n",
       "      <td>Набережные Челны</td>\n",
       "      <td>6</td>\n",
       "      <td>612</td>\n",
       "      <td>80</td>\n",
       "      <td>47</td>\n",
       "      <td>10</td>\n",
       "      <td>smart</td>\n",
       "    </tr>\n",
       "    <tr>\n",
       "      <td>36</td>\n",
       "      <td>1005</td>\n",
       "      <td>Набережные Челны</td>\n",
       "      <td>7</td>\n",
       "      <td>569</td>\n",
       "      <td>77</td>\n",
       "      <td>56</td>\n",
       "      <td>8</td>\n",
       "      <td>smart</td>\n",
       "    </tr>\n",
       "    <tr>\n",
       "      <td>37</td>\n",
       "      <td>1005</td>\n",
       "      <td>Набережные Челны</td>\n",
       "      <td>8</td>\n",
       "      <td>619</td>\n",
       "      <td>71</td>\n",
       "      <td>64</td>\n",
       "      <td>8</td>\n",
       "      <td>smart</td>\n",
       "    </tr>\n",
       "    <tr>\n",
       "      <td>38</td>\n",
       "      <td>1005</td>\n",
       "      <td>Набережные Челны</td>\n",
       "      <td>9</td>\n",
       "      <td>479</td>\n",
       "      <td>66</td>\n",
       "      <td>52</td>\n",
       "      <td>7</td>\n",
       "      <td>smart</td>\n",
       "    </tr>\n",
       "    <tr>\n",
       "      <td>39</td>\n",
       "      <td>1005</td>\n",
       "      <td>Набережные Челны</td>\n",
       "      <td>10</td>\n",
       "      <td>723</td>\n",
       "      <td>100</td>\n",
       "      <td>44</td>\n",
       "      <td>8</td>\n",
       "      <td>smart</td>\n",
       "    </tr>\n",
       "    <tr>\n",
       "      <td>40</td>\n",
       "      <td>1005</td>\n",
       "      <td>Набережные Челны</td>\n",
       "      <td>11</td>\n",
       "      <td>547</td>\n",
       "      <td>75</td>\n",
       "      <td>51</td>\n",
       "      <td>13</td>\n",
       "      <td>smart</td>\n",
       "    </tr>\n",
       "    <tr>\n",
       "      <td>41</td>\n",
       "      <td>1005</td>\n",
       "      <td>Набережные Челны</td>\n",
       "      <td>12</td>\n",
       "      <td>592</td>\n",
       "      <td>84</td>\n",
       "      <td>54</td>\n",
       "      <td>9</td>\n",
       "      <td>smart</td>\n",
       "    </tr>\n",
       "    <tr>\n",
       "      <td>42</td>\n",
       "      <td>1006</td>\n",
       "      <td>Ульяновск</td>\n",
       "      <td>2</td>\n",
       "      <td>42</td>\n",
       "      <td>3</td>\n",
       "      <td>0</td>\n",
       "      <td>2</td>\n",
       "      <td>smart</td>\n",
       "    </tr>\n",
       "    <tr>\n",
       "      <td>43</td>\n",
       "      <td>1006</td>\n",
       "      <td>Ульяновск</td>\n",
       "      <td>3</td>\n",
       "      <td>286</td>\n",
       "      <td>46</td>\n",
       "      <td>0</td>\n",
       "      <td>17</td>\n",
       "      <td>smart</td>\n",
       "    </tr>\n",
       "    <tr>\n",
       "      <td>44</td>\n",
       "      <td>1006</td>\n",
       "      <td>Ульяновск</td>\n",
       "      <td>4</td>\n",
       "      <td>356</td>\n",
       "      <td>47</td>\n",
       "      <td>0</td>\n",
       "      <td>14</td>\n",
       "      <td>smart</td>\n",
       "    </tr>\n",
       "    <tr>\n",
       "      <td>45</td>\n",
       "      <td>1006</td>\n",
       "      <td>Ульяновск</td>\n",
       "      <td>5</td>\n",
       "      <td>370</td>\n",
       "      <td>56</td>\n",
       "      <td>0</td>\n",
       "      <td>13</td>\n",
       "      <td>smart</td>\n",
       "    </tr>\n",
       "    <tr>\n",
       "      <td>46</td>\n",
       "      <td>1006</td>\n",
       "      <td>Ульяновск</td>\n",
       "      <td>6</td>\n",
       "      <td>478</td>\n",
       "      <td>53</td>\n",
       "      <td>0</td>\n",
       "      <td>13</td>\n",
       "      <td>smart</td>\n",
       "    </tr>\n",
       "    <tr>\n",
       "      <td>47</td>\n",
       "      <td>1006</td>\n",
       "      <td>Ульяновск</td>\n",
       "      <td>7</td>\n",
       "      <td>316</td>\n",
       "      <td>49</td>\n",
       "      <td>0</td>\n",
       "      <td>20</td>\n",
       "      <td>smart</td>\n",
       "    </tr>\n",
       "    <tr>\n",
       "      <td>48</td>\n",
       "      <td>1006</td>\n",
       "      <td>Ульяновск</td>\n",
       "      <td>8</td>\n",
       "      <td>275</td>\n",
       "      <td>42</td>\n",
       "      <td>0</td>\n",
       "      <td>19</td>\n",
       "      <td>smart</td>\n",
       "    </tr>\n",
       "    <tr>\n",
       "      <td>49</td>\n",
       "      <td>1006</td>\n",
       "      <td>Ульяновск</td>\n",
       "      <td>9</td>\n",
       "      <td>360</td>\n",
       "      <td>54</td>\n",
       "      <td>0</td>\n",
       "      <td>16</td>\n",
       "      <td>smart</td>\n",
       "    </tr>\n",
       "  </tbody>\n",
       "</table>\n",
       "</div>"
      ],
      "text/plain": [
       "    user_id              city  month  duration_sum  calls_count  count_msg  \\\n",
       "0      1000         Краснодар      5           159           22         22   \n",
       "1      1000         Краснодар      6           172           43         60   \n",
       "2      1000         Краснодар      7           340           47         75   \n",
       "3      1000         Краснодар      8           408           52         81   \n",
       "4      1000         Краснодар      9           466           58         57   \n",
       "5      1000         Краснодар     10           350           57         73   \n",
       "6      1000         Краснодар     11           338           43         58   \n",
       "7      1000         Краснодар     12           333           46         70   \n",
       "8      1001            Москва     11           430           59          0   \n",
       "9      1001            Москва     12           414           63          0   \n",
       "10     1002       Стерлитамак      6           117           15          4   \n",
       "11     1002       Стерлитамак      7           214           26         11   \n",
       "12     1002       Стерлитамак      8           289           42         13   \n",
       "13     1002       Стерлитамак      9           206           36          4   \n",
       "14     1002       Стерлитамак     10           212           33         10   \n",
       "15     1002       Стерлитамак     11           243           32         16   \n",
       "16     1002       Стерлитамак     12           236           33         12   \n",
       "17     1003            Москва      8           380           55         37   \n",
       "18     1003            Москва      9           961          134         91   \n",
       "19     1003            Москва     10           855          108         83   \n",
       "20     1003            Москва     11           824          115         94   \n",
       "21     1003            Москва     12           802          108         75   \n",
       "22     1004       Новокузнецк      5            35            9         95   \n",
       "23     1004       Новокузнецк      6           171           31        134   \n",
       "24     1004       Новокузнецк      7           135           22        181   \n",
       "25     1004       Новокузнецк      8           137           19        151   \n",
       "26     1004       Новокузнецк      9           117           26        146   \n",
       "27     1004       Новокузнецк     10           145           29        165   \n",
       "28     1004       Новокузнецк     11           117           19        158   \n",
       "29     1004       Новокузнецк     12           130           21        162   \n",
       "30     1005  Набережные Челны      1            95           15          7   \n",
       "31     1005  Набережные Челны      2           456           69         38   \n",
       "32     1005  Набережные Челны      3           606           77         56   \n",
       "33     1005  Набережные Челны      4           712          101         41   \n",
       "34     1005  Набережные Челны      5           595           73         42   \n",
       "35     1005  Набережные Челны      6           612           80         47   \n",
       "36     1005  Набережные Челны      7           569           77         56   \n",
       "37     1005  Набережные Челны      8           619           71         64   \n",
       "38     1005  Набережные Челны      9           479           66         52   \n",
       "39     1005  Набережные Челны     10           723          100         44   \n",
       "40     1005  Набережные Челны     11           547           75         51   \n",
       "41     1005  Набережные Челны     12           592           84         54   \n",
       "42     1006         Ульяновск      2            42            3          0   \n",
       "43     1006         Ульяновск      3           286           46          0   \n",
       "44     1006         Ульяновск      4           356           47          0   \n",
       "45     1006         Ульяновск      5           370           56          0   \n",
       "46     1006         Ульяновск      6           478           53          0   \n",
       "47     1006         Ульяновск      7           316           49          0   \n",
       "48     1006         Ульяновск      8           275           42          0   \n",
       "49     1006         Ульяновск      9           360           54          0   \n",
       "\n",
       "    gb_used tariff  \n",
       "0         3  ultra  \n",
       "1        23  ultra  \n",
       "2        14  ultra  \n",
       "3        14  ultra  \n",
       "4        15  ultra  \n",
       "5        15  ultra  \n",
       "6        15  ultra  \n",
       "7        10  ultra  \n",
       "8        18  smart  \n",
       "9        14  smart  \n",
       "10       11  smart  \n",
       "11       18  smart  \n",
       "12       20  smart  \n",
       "13       17  smart  \n",
       "14       14  smart  \n",
       "15       19  smart  \n",
       "16       18  smart  \n",
       "17        9  ultra  \n",
       "18       13  ultra  \n",
       "19       15  ultra  \n",
       "20       12  ultra  \n",
       "21       10  ultra  \n",
       "22       14  ultra  \n",
       "23       18  ultra  \n",
       "24       22  ultra  \n",
       "25       28  ultra  \n",
       "26       15  ultra  \n",
       "27       19  ultra  \n",
       "28       16  ultra  \n",
       "29       18  ultra  \n",
       "30        3  smart  \n",
       "31        8  smart  \n",
       "32       11  smart  \n",
       "33       10  smart  \n",
       "34        8  smart  \n",
       "35       10  smart  \n",
       "36        8  smart  \n",
       "37        8  smart  \n",
       "38        7  smart  \n",
       "39        8  smart  \n",
       "40       13  smart  \n",
       "41        9  smart  \n",
       "42        2  smart  \n",
       "43       17  smart  \n",
       "44       14  smart  \n",
       "45       13  smart  \n",
       "46       13  smart  \n",
       "47       20  smart  \n",
       "48       19  smart  \n",
       "49       16  smart  "
      ]
     },
     "execution_count": 21,
     "metadata": {},
     "output_type": "execute_result"
    }
   ],
   "source": [
    "df2 = df2[['user_id', 'city', 'month', 'duration_sum', 'calls_count', 'count_msg', 'gb_used', 'tariff']]\n",
    "df2.info()\n",
    "df2.head(50)"
   ]
  },
  {
   "cell_type": "markdown",
   "metadata": {
    "cellId": "ywrkepa9yrri4fverskru"
   },
   "source": [
    "<div style=\"color: white; border:solid green 2px; padding: 20px; background: LightSeaGreen\">\n",
    "    <p> Если неизвестен месяц, то это данные не к чему присовокупить и их не так уж и много - около 1%. Исключим их из датасета.\n",
    "</div"
   ]
  },
  {
   "cell_type": "code",
   "execution_count": 22,
   "metadata": {
    "cellId": "2z28qzvrar4b3gxe5mrelm",
    "collapsed": true
   },
   "outputs": [],
   "source": [
    "# df2 = df2.query('month == month')"
   ]
  },
  {
   "cell_type": "markdown",
   "metadata": {
    "cellId": "ymnln397idmtw7rgyv7lm"
   },
   "source": [
    "<div style=\"color: white; border:solid green 2px; padding: 20px; background: LightSeaGreen\">\n",
    "    <p> Посмотрим какие пропуски остались\n",
    "</div"
   ]
  },
  {
   "cell_type": "code",
   "execution_count": 23,
   "metadata": {
    "cellId": "xpqn4mxk0jr1ef6c3rbws",
    "collapsed": true
   },
   "outputs": [],
   "source": [
    "# display(df2.isna().mean())\n",
    "# df2.info()"
   ]
  },
  {
   "cell_type": "markdown",
   "metadata": {
    "cellId": "tp0n8cqljmsn4cilhn0h1"
   },
   "source": [
    "<div style=\"color: white; border:solid green 2px; padding: 20px; background: LightSeaGreen\">\n",
    "    <p> Остались пропуски в столбце count_msg 15% и gb_used менее 1%. Если данных в этих ячейках нет, вероятнее всего их и не было. Заполним их нулями.\n",
    "</div"
   ]
  },
  {
   "cell_type": "code",
   "execution_count": 24,
   "metadata": {
    "cellId": "uhr26fsr8587ot1t2icaj",
    "collapsed": true
   },
   "outputs": [],
   "source": [
    "# df2['count_msg'] = df2['count_msg'].fillna(0)\n",
    "# df2['gb_used'] = df2['gb_used'].fillna(0)"
   ]
  },
  {
   "cell_type": "markdown",
   "metadata": {
    "cellId": "43b4hyzuwvf51cgbbdiu7e"
   },
   "source": [
    "<div style=\"color: white; border:solid green 2px; padding: 20px; background: LightSeaGreen\">\n",
    "    <p> Для того, чтобы определить помесячную вырочку для каждого пользователя, создадим в датасете новый параметр - profit. Также создадим функцию, которая заполнит ячейки в этом параметре (используем функцию одной строки). Данные по тарифам возьмем из df_tariff.\n",
    "</div"
   ]
  },
  {
   "cell_type": "code",
   "execution_count": 25,
   "metadata": {},
   "outputs": [
    {
     "data": {
      "text/html": [
       "<div>\n",
       "<style scoped>\n",
       "    .dataframe tbody tr th:only-of-type {\n",
       "        vertical-align: middle;\n",
       "    }\n",
       "\n",
       "    .dataframe tbody tr th {\n",
       "        vertical-align: top;\n",
       "    }\n",
       "\n",
       "    .dataframe thead th {\n",
       "        text-align: right;\n",
       "    }\n",
       "</style>\n",
       "<table border=\"1\" class=\"dataframe\">\n",
       "  <thead>\n",
       "    <tr style=\"text-align: right;\">\n",
       "      <th></th>\n",
       "      <th>city</th>\n",
       "      <th>month</th>\n",
       "      <th>duration_sum</th>\n",
       "      <th>calls_count</th>\n",
       "      <th>count_msg</th>\n",
       "      <th>gb_used</th>\n",
       "      <th>tariff</th>\n",
       "      <th>messages_included</th>\n",
       "      <th>mb_per_month_included</th>\n",
       "      <th>minutes_included</th>\n",
       "      <th>rub_monthly_fee</th>\n",
       "      <th>rub_per_gb</th>\n",
       "      <th>rub_per_message</th>\n",
       "      <th>rub_per_minute</th>\n",
       "    </tr>\n",
       "    <tr>\n",
       "      <th>user_id</th>\n",
       "      <th></th>\n",
       "      <th></th>\n",
       "      <th></th>\n",
       "      <th></th>\n",
       "      <th></th>\n",
       "      <th></th>\n",
       "      <th></th>\n",
       "      <th></th>\n",
       "      <th></th>\n",
       "      <th></th>\n",
       "      <th></th>\n",
       "      <th></th>\n",
       "      <th></th>\n",
       "      <th></th>\n",
       "    </tr>\n",
       "  </thead>\n",
       "  <tbody>\n",
       "    <tr>\n",
       "      <td>1000</td>\n",
       "      <td>Краснодар</td>\n",
       "      <td>5</td>\n",
       "      <td>159</td>\n",
       "      <td>22</td>\n",
       "      <td>22</td>\n",
       "      <td>3</td>\n",
       "      <td>ultra</td>\n",
       "      <td>1000</td>\n",
       "      <td>30720</td>\n",
       "      <td>3000</td>\n",
       "      <td>1950</td>\n",
       "      <td>150</td>\n",
       "      <td>1</td>\n",
       "      <td>1</td>\n",
       "    </tr>\n",
       "    <tr>\n",
       "      <td>1000</td>\n",
       "      <td>Краснодар</td>\n",
       "      <td>6</td>\n",
       "      <td>172</td>\n",
       "      <td>43</td>\n",
       "      <td>60</td>\n",
       "      <td>23</td>\n",
       "      <td>ultra</td>\n",
       "      <td>1000</td>\n",
       "      <td>30720</td>\n",
       "      <td>3000</td>\n",
       "      <td>1950</td>\n",
       "      <td>150</td>\n",
       "      <td>1</td>\n",
       "      <td>1</td>\n",
       "    </tr>\n",
       "    <tr>\n",
       "      <td>1000</td>\n",
       "      <td>Краснодар</td>\n",
       "      <td>7</td>\n",
       "      <td>340</td>\n",
       "      <td>47</td>\n",
       "      <td>75</td>\n",
       "      <td>14</td>\n",
       "      <td>ultra</td>\n",
       "      <td>1000</td>\n",
       "      <td>30720</td>\n",
       "      <td>3000</td>\n",
       "      <td>1950</td>\n",
       "      <td>150</td>\n",
       "      <td>1</td>\n",
       "      <td>1</td>\n",
       "    </tr>\n",
       "    <tr>\n",
       "      <td>1000</td>\n",
       "      <td>Краснодар</td>\n",
       "      <td>8</td>\n",
       "      <td>408</td>\n",
       "      <td>52</td>\n",
       "      <td>81</td>\n",
       "      <td>14</td>\n",
       "      <td>ultra</td>\n",
       "      <td>1000</td>\n",
       "      <td>30720</td>\n",
       "      <td>3000</td>\n",
       "      <td>1950</td>\n",
       "      <td>150</td>\n",
       "      <td>1</td>\n",
       "      <td>1</td>\n",
       "    </tr>\n",
       "    <tr>\n",
       "      <td>1000</td>\n",
       "      <td>Краснодар</td>\n",
       "      <td>9</td>\n",
       "      <td>466</td>\n",
       "      <td>58</td>\n",
       "      <td>57</td>\n",
       "      <td>15</td>\n",
       "      <td>ultra</td>\n",
       "      <td>1000</td>\n",
       "      <td>30720</td>\n",
       "      <td>3000</td>\n",
       "      <td>1950</td>\n",
       "      <td>150</td>\n",
       "      <td>1</td>\n",
       "      <td>1</td>\n",
       "    </tr>\n",
       "    <tr>\n",
       "      <td>1000</td>\n",
       "      <td>Краснодар</td>\n",
       "      <td>10</td>\n",
       "      <td>350</td>\n",
       "      <td>57</td>\n",
       "      <td>73</td>\n",
       "      <td>15</td>\n",
       "      <td>ultra</td>\n",
       "      <td>1000</td>\n",
       "      <td>30720</td>\n",
       "      <td>3000</td>\n",
       "      <td>1950</td>\n",
       "      <td>150</td>\n",
       "      <td>1</td>\n",
       "      <td>1</td>\n",
       "    </tr>\n",
       "    <tr>\n",
       "      <td>1000</td>\n",
       "      <td>Краснодар</td>\n",
       "      <td>11</td>\n",
       "      <td>338</td>\n",
       "      <td>43</td>\n",
       "      <td>58</td>\n",
       "      <td>15</td>\n",
       "      <td>ultra</td>\n",
       "      <td>1000</td>\n",
       "      <td>30720</td>\n",
       "      <td>3000</td>\n",
       "      <td>1950</td>\n",
       "      <td>150</td>\n",
       "      <td>1</td>\n",
       "      <td>1</td>\n",
       "    </tr>\n",
       "    <tr>\n",
       "      <td>1000</td>\n",
       "      <td>Краснодар</td>\n",
       "      <td>12</td>\n",
       "      <td>333</td>\n",
       "      <td>46</td>\n",
       "      <td>70</td>\n",
       "      <td>10</td>\n",
       "      <td>ultra</td>\n",
       "      <td>1000</td>\n",
       "      <td>30720</td>\n",
       "      <td>3000</td>\n",
       "      <td>1950</td>\n",
       "      <td>150</td>\n",
       "      <td>1</td>\n",
       "      <td>1</td>\n",
       "    </tr>\n",
       "    <tr>\n",
       "      <td>1001</td>\n",
       "      <td>Москва</td>\n",
       "      <td>12</td>\n",
       "      <td>414</td>\n",
       "      <td>63</td>\n",
       "      <td>0</td>\n",
       "      <td>14</td>\n",
       "      <td>smart</td>\n",
       "      <td>50</td>\n",
       "      <td>15360</td>\n",
       "      <td>500</td>\n",
       "      <td>550</td>\n",
       "      <td>200</td>\n",
       "      <td>3</td>\n",
       "      <td>3</td>\n",
       "    </tr>\n",
       "    <tr>\n",
       "      <td>1001</td>\n",
       "      <td>Москва</td>\n",
       "      <td>11</td>\n",
       "      <td>430</td>\n",
       "      <td>59</td>\n",
       "      <td>0</td>\n",
       "      <td>18</td>\n",
       "      <td>smart</td>\n",
       "      <td>50</td>\n",
       "      <td>15360</td>\n",
       "      <td>500</td>\n",
       "      <td>550</td>\n",
       "      <td>200</td>\n",
       "      <td>3</td>\n",
       "      <td>3</td>\n",
       "    </tr>\n",
       "    <tr>\n",
       "      <td>1002</td>\n",
       "      <td>Стерлитамак</td>\n",
       "      <td>12</td>\n",
       "      <td>236</td>\n",
       "      <td>33</td>\n",
       "      <td>12</td>\n",
       "      <td>18</td>\n",
       "      <td>smart</td>\n",
       "      <td>50</td>\n",
       "      <td>15360</td>\n",
       "      <td>500</td>\n",
       "      <td>550</td>\n",
       "      <td>200</td>\n",
       "      <td>3</td>\n",
       "      <td>3</td>\n",
       "    </tr>\n",
       "    <tr>\n",
       "      <td>1002</td>\n",
       "      <td>Стерлитамак</td>\n",
       "      <td>11</td>\n",
       "      <td>243</td>\n",
       "      <td>32</td>\n",
       "      <td>16</td>\n",
       "      <td>19</td>\n",
       "      <td>smart</td>\n",
       "      <td>50</td>\n",
       "      <td>15360</td>\n",
       "      <td>500</td>\n",
       "      <td>550</td>\n",
       "      <td>200</td>\n",
       "      <td>3</td>\n",
       "      <td>3</td>\n",
       "    </tr>\n",
       "    <tr>\n",
       "      <td>1002</td>\n",
       "      <td>Стерлитамак</td>\n",
       "      <td>10</td>\n",
       "      <td>212</td>\n",
       "      <td>33</td>\n",
       "      <td>10</td>\n",
       "      <td>14</td>\n",
       "      <td>smart</td>\n",
       "      <td>50</td>\n",
       "      <td>15360</td>\n",
       "      <td>500</td>\n",
       "      <td>550</td>\n",
       "      <td>200</td>\n",
       "      <td>3</td>\n",
       "      <td>3</td>\n",
       "    </tr>\n",
       "    <tr>\n",
       "      <td>1002</td>\n",
       "      <td>Стерлитамак</td>\n",
       "      <td>8</td>\n",
       "      <td>289</td>\n",
       "      <td>42</td>\n",
       "      <td>13</td>\n",
       "      <td>20</td>\n",
       "      <td>smart</td>\n",
       "      <td>50</td>\n",
       "      <td>15360</td>\n",
       "      <td>500</td>\n",
       "      <td>550</td>\n",
       "      <td>200</td>\n",
       "      <td>3</td>\n",
       "      <td>3</td>\n",
       "    </tr>\n",
       "    <tr>\n",
       "      <td>1002</td>\n",
       "      <td>Стерлитамак</td>\n",
       "      <td>7</td>\n",
       "      <td>214</td>\n",
       "      <td>26</td>\n",
       "      <td>11</td>\n",
       "      <td>18</td>\n",
       "      <td>smart</td>\n",
       "      <td>50</td>\n",
       "      <td>15360</td>\n",
       "      <td>500</td>\n",
       "      <td>550</td>\n",
       "      <td>200</td>\n",
       "      <td>3</td>\n",
       "      <td>3</td>\n",
       "    </tr>\n",
       "    <tr>\n",
       "      <td>1002</td>\n",
       "      <td>Стерлитамак</td>\n",
       "      <td>6</td>\n",
       "      <td>117</td>\n",
       "      <td>15</td>\n",
       "      <td>4</td>\n",
       "      <td>11</td>\n",
       "      <td>smart</td>\n",
       "      <td>50</td>\n",
       "      <td>15360</td>\n",
       "      <td>500</td>\n",
       "      <td>550</td>\n",
       "      <td>200</td>\n",
       "      <td>3</td>\n",
       "      <td>3</td>\n",
       "    </tr>\n",
       "    <tr>\n",
       "      <td>1002</td>\n",
       "      <td>Стерлитамак</td>\n",
       "      <td>9</td>\n",
       "      <td>206</td>\n",
       "      <td>36</td>\n",
       "      <td>4</td>\n",
       "      <td>17</td>\n",
       "      <td>smart</td>\n",
       "      <td>50</td>\n",
       "      <td>15360</td>\n",
       "      <td>500</td>\n",
       "      <td>550</td>\n",
       "      <td>200</td>\n",
       "      <td>3</td>\n",
       "      <td>3</td>\n",
       "    </tr>\n",
       "    <tr>\n",
       "      <td>1003</td>\n",
       "      <td>Москва</td>\n",
       "      <td>12</td>\n",
       "      <td>802</td>\n",
       "      <td>108</td>\n",
       "      <td>75</td>\n",
       "      <td>10</td>\n",
       "      <td>ultra</td>\n",
       "      <td>1000</td>\n",
       "      <td>30720</td>\n",
       "      <td>3000</td>\n",
       "      <td>1950</td>\n",
       "      <td>150</td>\n",
       "      <td>1</td>\n",
       "      <td>1</td>\n",
       "    </tr>\n",
       "    <tr>\n",
       "      <td>1003</td>\n",
       "      <td>Москва</td>\n",
       "      <td>11</td>\n",
       "      <td>824</td>\n",
       "      <td>115</td>\n",
       "      <td>94</td>\n",
       "      <td>12</td>\n",
       "      <td>ultra</td>\n",
       "      <td>1000</td>\n",
       "      <td>30720</td>\n",
       "      <td>3000</td>\n",
       "      <td>1950</td>\n",
       "      <td>150</td>\n",
       "      <td>1</td>\n",
       "      <td>1</td>\n",
       "    </tr>\n",
       "    <tr>\n",
       "      <td>1003</td>\n",
       "      <td>Москва</td>\n",
       "      <td>10</td>\n",
       "      <td>855</td>\n",
       "      <td>108</td>\n",
       "      <td>83</td>\n",
       "      <td>15</td>\n",
       "      <td>ultra</td>\n",
       "      <td>1000</td>\n",
       "      <td>30720</td>\n",
       "      <td>3000</td>\n",
       "      <td>1950</td>\n",
       "      <td>150</td>\n",
       "      <td>1</td>\n",
       "      <td>1</td>\n",
       "    </tr>\n",
       "  </tbody>\n",
       "</table>\n",
       "</div>"
      ],
      "text/plain": [
       "                city  month  duration_sum  calls_count  count_msg  gb_used  \\\n",
       "user_id                                                                      \n",
       "1000       Краснодар      5           159           22         22        3   \n",
       "1000       Краснодар      6           172           43         60       23   \n",
       "1000       Краснодар      7           340           47         75       14   \n",
       "1000       Краснодар      8           408           52         81       14   \n",
       "1000       Краснодар      9           466           58         57       15   \n",
       "1000       Краснодар     10           350           57         73       15   \n",
       "1000       Краснодар     11           338           43         58       15   \n",
       "1000       Краснодар     12           333           46         70       10   \n",
       "1001          Москва     12           414           63          0       14   \n",
       "1001          Москва     11           430           59          0       18   \n",
       "1002     Стерлитамак     12           236           33         12       18   \n",
       "1002     Стерлитамак     11           243           32         16       19   \n",
       "1002     Стерлитамак     10           212           33         10       14   \n",
       "1002     Стерлитамак      8           289           42         13       20   \n",
       "1002     Стерлитамак      7           214           26         11       18   \n",
       "1002     Стерлитамак      6           117           15          4       11   \n",
       "1002     Стерлитамак      9           206           36          4       17   \n",
       "1003          Москва     12           802          108         75       10   \n",
       "1003          Москва     11           824          115         94       12   \n",
       "1003          Москва     10           855          108         83       15   \n",
       "\n",
       "        tariff  messages_included  mb_per_month_included  minutes_included  \\\n",
       "user_id                                                                      \n",
       "1000     ultra               1000                  30720              3000   \n",
       "1000     ultra               1000                  30720              3000   \n",
       "1000     ultra               1000                  30720              3000   \n",
       "1000     ultra               1000                  30720              3000   \n",
       "1000     ultra               1000                  30720              3000   \n",
       "1000     ultra               1000                  30720              3000   \n",
       "1000     ultra               1000                  30720              3000   \n",
       "1000     ultra               1000                  30720              3000   \n",
       "1001     smart                 50                  15360               500   \n",
       "1001     smart                 50                  15360               500   \n",
       "1002     smart                 50                  15360               500   \n",
       "1002     smart                 50                  15360               500   \n",
       "1002     smart                 50                  15360               500   \n",
       "1002     smart                 50                  15360               500   \n",
       "1002     smart                 50                  15360               500   \n",
       "1002     smart                 50                  15360               500   \n",
       "1002     smart                 50                  15360               500   \n",
       "1003     ultra               1000                  30720              3000   \n",
       "1003     ultra               1000                  30720              3000   \n",
       "1003     ultra               1000                  30720              3000   \n",
       "\n",
       "         rub_monthly_fee  rub_per_gb  rub_per_message  rub_per_minute  \n",
       "user_id                                                                \n",
       "1000                1950         150                1               1  \n",
       "1000                1950         150                1               1  \n",
       "1000                1950         150                1               1  \n",
       "1000                1950         150                1               1  \n",
       "1000                1950         150                1               1  \n",
       "1000                1950         150                1               1  \n",
       "1000                1950         150                1               1  \n",
       "1000                1950         150                1               1  \n",
       "1001                 550         200                3               3  \n",
       "1001                 550         200                3               3  \n",
       "1002                 550         200                3               3  \n",
       "1002                 550         200                3               3  \n",
       "1002                 550         200                3               3  \n",
       "1002                 550         200                3               3  \n",
       "1002                 550         200                3               3  \n",
       "1002                 550         200                3               3  \n",
       "1002                 550         200                3               3  \n",
       "1003                1950         150                1               1  \n",
       "1003                1950         150                1               1  \n",
       "1003                1950         150                1               1  "
      ]
     },
     "execution_count": 25,
     "metadata": {},
     "output_type": "execute_result"
    }
   ],
   "source": [
    "df_tariffs = df_tariffs.rename(columns={'tariff_name':'tariff'})\n",
    "df2 = df2.merge(df_tariffs, on='tariff').sort_values('user_id').set_index('user_id')\n",
    "df2.head(20)"
   ]
  },
  {
   "cell_type": "code",
   "execution_count": 26,
   "metadata": {
    "cellId": "m3419mx3geao8qdyzqz6am"
   },
   "outputs": [
    {
     "data": {
      "text/html": [
       "<div>\n",
       "<style scoped>\n",
       "    .dataframe tbody tr th:only-of-type {\n",
       "        vertical-align: middle;\n",
       "    }\n",
       "\n",
       "    .dataframe tbody tr th {\n",
       "        vertical-align: top;\n",
       "    }\n",
       "\n",
       "    .dataframe thead th {\n",
       "        text-align: right;\n",
       "    }\n",
       "</style>\n",
       "<table border=\"1\" class=\"dataframe\">\n",
       "  <thead>\n",
       "    <tr style=\"text-align: right;\">\n",
       "      <th></th>\n",
       "      <th>city</th>\n",
       "      <th>month</th>\n",
       "      <th>duration_sum</th>\n",
       "      <th>calls_count</th>\n",
       "      <th>count_msg</th>\n",
       "      <th>gb_used</th>\n",
       "      <th>tariff</th>\n",
       "      <th>profit</th>\n",
       "    </tr>\n",
       "    <tr>\n",
       "      <th>user_id</th>\n",
       "      <th></th>\n",
       "      <th></th>\n",
       "      <th></th>\n",
       "      <th></th>\n",
       "      <th></th>\n",
       "      <th></th>\n",
       "      <th></th>\n",
       "      <th></th>\n",
       "    </tr>\n",
       "  </thead>\n",
       "  <tbody>\n",
       "    <tr>\n",
       "      <td>1000</td>\n",
       "      <td>Краснодар</td>\n",
       "      <td>5</td>\n",
       "      <td>159</td>\n",
       "      <td>22</td>\n",
       "      <td>22</td>\n",
       "      <td>3</td>\n",
       "      <td>ultra</td>\n",
       "      <td>1950</td>\n",
       "    </tr>\n",
       "    <tr>\n",
       "      <td>1000</td>\n",
       "      <td>Краснодар</td>\n",
       "      <td>6</td>\n",
       "      <td>172</td>\n",
       "      <td>43</td>\n",
       "      <td>60</td>\n",
       "      <td>23</td>\n",
       "      <td>ultra</td>\n",
       "      <td>1950</td>\n",
       "    </tr>\n",
       "    <tr>\n",
       "      <td>1000</td>\n",
       "      <td>Краснодар</td>\n",
       "      <td>7</td>\n",
       "      <td>340</td>\n",
       "      <td>47</td>\n",
       "      <td>75</td>\n",
       "      <td>14</td>\n",
       "      <td>ultra</td>\n",
       "      <td>1950</td>\n",
       "    </tr>\n",
       "    <tr>\n",
       "      <td>1000</td>\n",
       "      <td>Краснодар</td>\n",
       "      <td>8</td>\n",
       "      <td>408</td>\n",
       "      <td>52</td>\n",
       "      <td>81</td>\n",
       "      <td>14</td>\n",
       "      <td>ultra</td>\n",
       "      <td>1950</td>\n",
       "    </tr>\n",
       "    <tr>\n",
       "      <td>1000</td>\n",
       "      <td>Краснодар</td>\n",
       "      <td>9</td>\n",
       "      <td>466</td>\n",
       "      <td>58</td>\n",
       "      <td>57</td>\n",
       "      <td>15</td>\n",
       "      <td>ultra</td>\n",
       "      <td>1950</td>\n",
       "    </tr>\n",
       "    <tr>\n",
       "      <td>1000</td>\n",
       "      <td>Краснодар</td>\n",
       "      <td>10</td>\n",
       "      <td>350</td>\n",
       "      <td>57</td>\n",
       "      <td>73</td>\n",
       "      <td>15</td>\n",
       "      <td>ultra</td>\n",
       "      <td>1950</td>\n",
       "    </tr>\n",
       "    <tr>\n",
       "      <td>1000</td>\n",
       "      <td>Краснодар</td>\n",
       "      <td>11</td>\n",
       "      <td>338</td>\n",
       "      <td>43</td>\n",
       "      <td>58</td>\n",
       "      <td>15</td>\n",
       "      <td>ultra</td>\n",
       "      <td>1950</td>\n",
       "    </tr>\n",
       "    <tr>\n",
       "      <td>1000</td>\n",
       "      <td>Краснодар</td>\n",
       "      <td>12</td>\n",
       "      <td>333</td>\n",
       "      <td>46</td>\n",
       "      <td>70</td>\n",
       "      <td>10</td>\n",
       "      <td>ultra</td>\n",
       "      <td>1950</td>\n",
       "    </tr>\n",
       "    <tr>\n",
       "      <td>1001</td>\n",
       "      <td>Москва</td>\n",
       "      <td>12</td>\n",
       "      <td>414</td>\n",
       "      <td>63</td>\n",
       "      <td>0</td>\n",
       "      <td>14</td>\n",
       "      <td>smart</td>\n",
       "      <td>550</td>\n",
       "    </tr>\n",
       "    <tr>\n",
       "      <td>1001</td>\n",
       "      <td>Москва</td>\n",
       "      <td>11</td>\n",
       "      <td>430</td>\n",
       "      <td>59</td>\n",
       "      <td>0</td>\n",
       "      <td>18</td>\n",
       "      <td>smart</td>\n",
       "      <td>1150</td>\n",
       "    </tr>\n",
       "    <tr>\n",
       "      <td>1002</td>\n",
       "      <td>Стерлитамак</td>\n",
       "      <td>12</td>\n",
       "      <td>236</td>\n",
       "      <td>33</td>\n",
       "      <td>12</td>\n",
       "      <td>18</td>\n",
       "      <td>smart</td>\n",
       "      <td>1150</td>\n",
       "    </tr>\n",
       "    <tr>\n",
       "      <td>1002</td>\n",
       "      <td>Стерлитамак</td>\n",
       "      <td>11</td>\n",
       "      <td>243</td>\n",
       "      <td>32</td>\n",
       "      <td>16</td>\n",
       "      <td>19</td>\n",
       "      <td>smart</td>\n",
       "      <td>1350</td>\n",
       "    </tr>\n",
       "    <tr>\n",
       "      <td>1002</td>\n",
       "      <td>Стерлитамак</td>\n",
       "      <td>10</td>\n",
       "      <td>212</td>\n",
       "      <td>33</td>\n",
       "      <td>10</td>\n",
       "      <td>14</td>\n",
       "      <td>smart</td>\n",
       "      <td>550</td>\n",
       "    </tr>\n",
       "    <tr>\n",
       "      <td>1002</td>\n",
       "      <td>Стерлитамак</td>\n",
       "      <td>8</td>\n",
       "      <td>289</td>\n",
       "      <td>42</td>\n",
       "      <td>13</td>\n",
       "      <td>20</td>\n",
       "      <td>smart</td>\n",
       "      <td>1550</td>\n",
       "    </tr>\n",
       "    <tr>\n",
       "      <td>1002</td>\n",
       "      <td>Стерлитамак</td>\n",
       "      <td>7</td>\n",
       "      <td>214</td>\n",
       "      <td>26</td>\n",
       "      <td>11</td>\n",
       "      <td>18</td>\n",
       "      <td>smart</td>\n",
       "      <td>1150</td>\n",
       "    </tr>\n",
       "  </tbody>\n",
       "</table>\n",
       "</div>"
      ],
      "text/plain": [
       "                city  month  duration_sum  calls_count  count_msg  gb_used  \\\n",
       "user_id                                                                      \n",
       "1000       Краснодар      5           159           22         22        3   \n",
       "1000       Краснодар      6           172           43         60       23   \n",
       "1000       Краснодар      7           340           47         75       14   \n",
       "1000       Краснодар      8           408           52         81       14   \n",
       "1000       Краснодар      9           466           58         57       15   \n",
       "1000       Краснодар     10           350           57         73       15   \n",
       "1000       Краснодар     11           338           43         58       15   \n",
       "1000       Краснодар     12           333           46         70       10   \n",
       "1001          Москва     12           414           63          0       14   \n",
       "1001          Москва     11           430           59          0       18   \n",
       "1002     Стерлитамак     12           236           33         12       18   \n",
       "1002     Стерлитамак     11           243           32         16       19   \n",
       "1002     Стерлитамак     10           212           33         10       14   \n",
       "1002     Стерлитамак      8           289           42         13       20   \n",
       "1002     Стерлитамак      7           214           26         11       18   \n",
       "\n",
       "        tariff  profit  \n",
       "user_id                 \n",
       "1000     ultra    1950  \n",
       "1000     ultra    1950  \n",
       "1000     ultra    1950  \n",
       "1000     ultra    1950  \n",
       "1000     ultra    1950  \n",
       "1000     ultra    1950  \n",
       "1000     ultra    1950  \n",
       "1000     ultra    1950  \n",
       "1001     smart     550  \n",
       "1001     smart    1150  \n",
       "1002     smart    1150  \n",
       "1002     smart    1350  \n",
       "1002     smart     550  \n",
       "1002     smart    1550  \n",
       "1002     smart    1150  "
      ]
     },
     "execution_count": 26,
     "metadata": {},
     "output_type": "execute_result"
    }
   ],
   "source": [
    "# def profit_f(row):\n",
    "#     if row['tariff'] == 'ultra':\n",
    "#       profit_calls_duration = max(0, row['duration_sum'] - row['minutes_included']) \n",
    "#       profit_count_msg = max(0, row['count_msg'] - row['messages_included']) \n",
    "#       profit_gb_used = max(0, (row['gb_used'] - row['mb_per_month_included']//1024) * 150)\n",
    "#       return profit_calls_duration + profit_count_msg + profit_gb_used + row['rub_monthly_fee']\n",
    "    \n",
    "def profit_f(row):\n",
    "      profit_calls_duration = max(0, row['duration_sum'] - row['minutes_included']) * row['rub_per_minute']\n",
    "      profit_count_msg = max(0, row['count_msg'] - row['messages_included']) * row['rub_per_message']\n",
    "      profit_gb_used = max(0, (row['gb_used'] - row['mb_per_month_included']//1024)) * row['rub_per_gb']\n",
    "      return profit_calls_duration + profit_count_msg + profit_gb_used + row['rub_monthly_fee']\n",
    "\n",
    "df2['profit'] = df2.apply(profit_f, axis = 1)\n",
    "df2 = df2.drop(['messages_included',\n",
    "                'mb_per_month_included', \n",
    "                'minutes_included', \n",
    "                'rub_monthly_fee', \n",
    "                'rub_per_gb', \n",
    "                'rub_per_message', \n",
    "                'rub_per_minute'], axis=1) \n",
    "df2.head(15)"
   ]
  },
  {
   "cell_type": "markdown",
   "metadata": {
    "cellId": "dh8eyr4cbff8oc25wjfsfi"
   },
   "source": [
    "<div style=\"color: white; border:solid green 2px; padding: 20px; background: LightSeaGreen\">\n",
    "    <p> Создадим сводную таблицу df2_pivot в которой сведем информацию по индексам user_id, и колонкам tariff, агрегируем данные по продолжительности и количества звонков, количеству смс и инет-трафика, выведя среднее значение по всем месяцам. И выведем на экран.\n",
    "</div>"
   ]
  },
  {
   "cell_type": "code",
   "execution_count": 27,
   "metadata": {
    "cellId": "csv407p4r7kzi0v4fn55kh"
   },
   "outputs": [
    {
     "data": {
      "text/html": [
       "<div>\n",
       "<style scoped>\n",
       "    .dataframe tbody tr th:only-of-type {\n",
       "        vertical-align: middle;\n",
       "    }\n",
       "\n",
       "    .dataframe tbody tr th {\n",
       "        vertical-align: top;\n",
       "    }\n",
       "\n",
       "    .dataframe thead th {\n",
       "        text-align: right;\n",
       "    }\n",
       "</style>\n",
       "<table border=\"1\" class=\"dataframe\">\n",
       "  <thead>\n",
       "    <tr style=\"text-align: right;\">\n",
       "      <th></th>\n",
       "      <th>calls_count</th>\n",
       "      <th>count_msg</th>\n",
       "      <th>duration_sum</th>\n",
       "      <th>gb_used</th>\n",
       "      <th>profit</th>\n",
       "    </tr>\n",
       "    <tr>\n",
       "      <th>user_id</th>\n",
       "      <th></th>\n",
       "      <th></th>\n",
       "      <th></th>\n",
       "      <th></th>\n",
       "      <th></th>\n",
       "    </tr>\n",
       "  </thead>\n",
       "  <tbody>\n",
       "    <tr>\n",
       "      <td>1000</td>\n",
       "      <td>46.0</td>\n",
       "      <td>62.0</td>\n",
       "      <td>320.750000</td>\n",
       "      <td>13.625000</td>\n",
       "      <td>1950.000000</td>\n",
       "    </tr>\n",
       "    <tr>\n",
       "      <td>1001</td>\n",
       "      <td>61.0</td>\n",
       "      <td>0.0</td>\n",
       "      <td>422.000000</td>\n",
       "      <td>16.000000</td>\n",
       "      <td>850.000000</td>\n",
       "    </tr>\n",
       "    <tr>\n",
       "      <td>1002</td>\n",
       "      <td>31.0</td>\n",
       "      <td>10.0</td>\n",
       "      <td>216.714286</td>\n",
       "      <td>16.714286</td>\n",
       "      <td>1035.714286</td>\n",
       "    </tr>\n",
       "    <tr>\n",
       "      <td>1003</td>\n",
       "      <td>104.0</td>\n",
       "      <td>76.0</td>\n",
       "      <td>764.400000</td>\n",
       "      <td>11.800000</td>\n",
       "      <td>1950.000000</td>\n",
       "    </tr>\n",
       "    <tr>\n",
       "      <td>1004</td>\n",
       "      <td>22.0</td>\n",
       "      <td>149.0</td>\n",
       "      <td>123.375000</td>\n",
       "      <td>18.750000</td>\n",
       "      <td>1950.000000</td>\n",
       "    </tr>\n",
       "    <tr>\n",
       "      <td>1005</td>\n",
       "      <td>74.0</td>\n",
       "      <td>46.0</td>\n",
       "      <td>550.416667</td>\n",
       "      <td>8.583333</td>\n",
       "      <td>827.000000</td>\n",
       "    </tr>\n",
       "    <tr>\n",
       "      <td>1006</td>\n",
       "      <td>46.0</td>\n",
       "      <td>0.0</td>\n",
       "      <td>318.272727</td>\n",
       "      <td>15.090909</td>\n",
       "      <td>931.818182</td>\n",
       "    </tr>\n",
       "    <tr>\n",
       "      <td>1007</td>\n",
       "      <td>68.0</td>\n",
       "      <td>25.0</td>\n",
       "      <td>486.555556</td>\n",
       "      <td>14.888889</td>\n",
       "      <td>913.444444</td>\n",
       "    </tr>\n",
       "    <tr>\n",
       "      <td>1008</td>\n",
       "      <td>52.0</td>\n",
       "      <td>56.0</td>\n",
       "      <td>339.000000</td>\n",
       "      <td>13.000000</td>\n",
       "      <td>568.000000</td>\n",
       "    </tr>\n",
       "    <tr>\n",
       "      <td>1009</td>\n",
       "      <td>29.0</td>\n",
       "      <td>11.0</td>\n",
       "      <td>218.900000</td>\n",
       "      <td>18.000000</td>\n",
       "      <td>1310.000000</td>\n",
       "    </tr>\n",
       "  </tbody>\n",
       "</table>\n",
       "</div>"
      ],
      "text/plain": [
       "         calls_count  count_msg  duration_sum    gb_used       profit\n",
       "user_id                                                              \n",
       "1000            46.0       62.0    320.750000  13.625000  1950.000000\n",
       "1001            61.0        0.0    422.000000  16.000000   850.000000\n",
       "1002            31.0       10.0    216.714286  16.714286  1035.714286\n",
       "1003           104.0       76.0    764.400000  11.800000  1950.000000\n",
       "1004            22.0      149.0    123.375000  18.750000  1950.000000\n",
       "1005            74.0       46.0    550.416667   8.583333   827.000000\n",
       "1006            46.0        0.0    318.272727  15.090909   931.818182\n",
       "1007            68.0       25.0    486.555556  14.888889   913.444444\n",
       "1008            52.0       56.0    339.000000  13.000000   568.000000\n",
       "1009            29.0       11.0    218.900000  18.000000  1310.000000"
      ]
     },
     "execution_count": 27,
     "metadata": {},
     "output_type": "execute_result"
    }
   ],
   "source": [
    "# df2_pivot = df2.pivot_table(index=['user_id'], columns='tariff', values=['duration_sum', 'calls_count', 'count_msg', 'gb_used', 'profit'], aggfunc=('mean'))\n",
    "\n",
    "df2_pivot = df2.pivot_table(index=['user_id'], values=['duration_sum', 'calls_count', 'count_msg', 'gb_used', 'profit'], aggfunc=('mean'))\n",
    "\n",
    "df2_pivot.head(10)\n"
   ]
  },
  {
   "cell_type": "markdown",
   "metadata": {
    "cellId": "3vzfasue82x8z9fklypnxp"
   },
   "source": [
    "<div style=\"color: white; border:solid green 2px; padding: 20px; background: LightSeaGreen\">\n",
    "    <p> Для упрощения восприятия заменим мультииндекс на одноэтажный\n",
    "</div>"
   ]
  },
  {
   "cell_type": "code",
   "execution_count": 28,
   "metadata": {
    "cellId": "c9rkuyngp9chuqrgbz8h0b",
    "collapsed": true
   },
   "outputs": [],
   "source": [
    "# df2_pivot.columns = [\n",
    "#                      'cnt_msg_smart', 'cnt_msg_ultra', \n",
    "#                      'calls_cnt_smart', 'calls_cnt_ultra', \n",
    "#                      'calls_duration_smart', 'calls_duration_ultra', \n",
    "#                      'gb_smart', 'gb_ultra', \n",
    "#                      'profit_smart', 'profit_ultra'\n",
    "#                     ]\n",
    "\n",
    "# df2_pivot.reset_index(level=0)"
   ]
  },
  {
   "cell_type": "markdown",
   "metadata": {
    "cellId": "es3g1dsmn90s7mds0mxy5"
   },
   "source": [
    "**Вывод:**\n",
    "\n",
    "<div style=\"color: white; border:solid green 2px; padding: 20px; background: LightSeaGreen\">\n",
    "    <p> Обработав данные во втором шаге мы получили сводную таблицу, где предоставлены данные по количеству и продолжительности звонков,\n",
    "        по количеству смс и интернет тарфику. Значения данных в столбцах представлены средними значениями за месяц и в итоговой таблице среднее за все месяцы.\n",
    "    <p> Из этой таблицы получены данные (Series) - выборки для двух тарифов, которые нужно сравнить, данные очищены от пропусков и приведены к целочисленному значению.\n",
    "</div>\n",
    "#\n",
    "<div style=\"color: white; border:solid green 2px; padding: 20px; background: LightSeaGreen\">\n",
    "<h1>ШАГ 3: Анализ данных</h1>\n",
    "    <p> Определим сколько минут разговора, смс и интернет трафика требуется каждому пользователю тарифом в месяц\n",
    "</div>"
   ]
  },
  {
   "cell_type": "code",
   "execution_count": 29,
   "metadata": {
    "cellId": "vgolnvk8dzpbbal9nikd7",
    "collapsed": true
   },
   "outputs": [],
   "source": [
    "# msg_smart = df2_pivot['cnt_msg_smart'].dropna().astype('int')\n",
    "# msg_ultra = df2_pivot['cnt_msg_ultra'].dropna().astype('int')\n",
    "# calls_count_smart = df2_pivot['calls_cnt_smart'].dropna().astype('int')\n",
    "# calls_count_ultra = df2_pivot['calls_cnt_ultra'].dropna().astype('int')\n",
    "# calls_duration_smart = df2_pivot['calls_duration_smart'].dropna().astype('int')\n",
    "# calls_duration_ultra = df2_pivot['calls_duration_ultra'].dropna().astype('int')\n",
    "# gb_smart = df2_pivot['gb_smart'].dropna().astype('int')\n",
    "# gb_ultra = df2_pivot['gb_ultra'].dropna().astype('int')"
   ]
  },
  {
   "cell_type": "markdown",
   "metadata": {
    "cellId": "s49qw21p2ec1dr4ubk91a"
   },
   "source": [
    "<div style=\"color: white; border:solid green 2px; padding: 20px; background: LightSeaGreen\">\n",
    "    <p> Определим объемы выборок - сколько элементов в каждой\n",
    "</div>"
   ]
  },
  {
   "cell_type": "code",
   "execution_count": 30,
   "metadata": {
    "cellId": "8o24layppxasrfvvz0mhvs"
   },
   "outputs": [
    {
     "name": "stdout",
     "output_type": "stream",
     "text": [
      "SMART =  2229\n",
      "ULTRA =  985\n"
     ]
    },
    {
     "data": {
      "text/html": [
       "<div>\n",
       "<style scoped>\n",
       "    .dataframe tbody tr th:only-of-type {\n",
       "        vertical-align: middle;\n",
       "    }\n",
       "\n",
       "    .dataframe tbody tr th {\n",
       "        vertical-align: top;\n",
       "    }\n",
       "\n",
       "    .dataframe thead th {\n",
       "        text-align: right;\n",
       "    }\n",
       "</style>\n",
       "<table border=\"1\" class=\"dataframe\">\n",
       "  <thead>\n",
       "    <tr style=\"text-align: right;\">\n",
       "      <th></th>\n",
       "      <th>city</th>\n",
       "      <th>month</th>\n",
       "      <th>duration_sum</th>\n",
       "      <th>calls_count</th>\n",
       "      <th>count_msg</th>\n",
       "      <th>gb_used</th>\n",
       "      <th>tariff</th>\n",
       "      <th>profit</th>\n",
       "    </tr>\n",
       "    <tr>\n",
       "      <th>user_id</th>\n",
       "      <th></th>\n",
       "      <th></th>\n",
       "      <th></th>\n",
       "      <th></th>\n",
       "      <th></th>\n",
       "      <th></th>\n",
       "      <th></th>\n",
       "      <th></th>\n",
       "    </tr>\n",
       "  </thead>\n",
       "  <tbody>\n",
       "    <tr>\n",
       "      <td>1000</td>\n",
       "      <td>Краснодар</td>\n",
       "      <td>5</td>\n",
       "      <td>159</td>\n",
       "      <td>22</td>\n",
       "      <td>22</td>\n",
       "      <td>3</td>\n",
       "      <td>ultra</td>\n",
       "      <td>1950</td>\n",
       "    </tr>\n",
       "    <tr>\n",
       "      <td>1000</td>\n",
       "      <td>Краснодар</td>\n",
       "      <td>6</td>\n",
       "      <td>172</td>\n",
       "      <td>43</td>\n",
       "      <td>60</td>\n",
       "      <td>23</td>\n",
       "      <td>ultra</td>\n",
       "      <td>1950</td>\n",
       "    </tr>\n",
       "    <tr>\n",
       "      <td>1000</td>\n",
       "      <td>Краснодар</td>\n",
       "      <td>7</td>\n",
       "      <td>340</td>\n",
       "      <td>47</td>\n",
       "      <td>75</td>\n",
       "      <td>14</td>\n",
       "      <td>ultra</td>\n",
       "      <td>1950</td>\n",
       "    </tr>\n",
       "    <tr>\n",
       "      <td>1000</td>\n",
       "      <td>Краснодар</td>\n",
       "      <td>8</td>\n",
       "      <td>408</td>\n",
       "      <td>52</td>\n",
       "      <td>81</td>\n",
       "      <td>14</td>\n",
       "      <td>ultra</td>\n",
       "      <td>1950</td>\n",
       "    </tr>\n",
       "    <tr>\n",
       "      <td>1000</td>\n",
       "      <td>Краснодар</td>\n",
       "      <td>9</td>\n",
       "      <td>466</td>\n",
       "      <td>58</td>\n",
       "      <td>57</td>\n",
       "      <td>15</td>\n",
       "      <td>ultra</td>\n",
       "      <td>1950</td>\n",
       "    </tr>\n",
       "  </tbody>\n",
       "</table>\n",
       "</div>"
      ],
      "text/plain": [
       "              city  month  duration_sum  calls_count  count_msg  gb_used  \\\n",
       "user_id                                                                    \n",
       "1000     Краснодар      5           159           22         22        3   \n",
       "1000     Краснодар      6           172           43         60       23   \n",
       "1000     Краснодар      7           340           47         75       14   \n",
       "1000     Краснодар      8           408           52         81       14   \n",
       "1000     Краснодар      9           466           58         57       15   \n",
       "\n",
       "        tariff  profit  \n",
       "user_id                 \n",
       "1000     ultra    1950  \n",
       "1000     ultra    1950  \n",
       "1000     ultra    1950  \n",
       "1000     ultra    1950  \n",
       "1000     ultra    1950  "
      ]
     },
     "execution_count": 30,
     "metadata": {},
     "output_type": "execute_result"
    }
   ],
   "source": [
    "# print('SMART = ', len(df2.query('tariff == \"smart\"')))\n",
    "# print('ULTRA = ', len(df2.query('tariff == \"ultra\"')))\n",
    "\n",
    "print('SMART = ', len(df2.query('tariff == \"smart\"').reset_index()['user_id']))\n",
    "print('ULTRA = ', len(df2.query('tariff == \"ultra\"').reset_index()['user_id']))\n",
    "\n",
    "df2.head()"
   ]
  },
  {
   "cell_type": "markdown",
   "metadata": {},
   "source": [
    "<div style=\"color: white; border:solid green 2px; padding: 20px; background: #ff4500\">\n",
    "    <b>Реакция на комментарий 2</b>\n",
    "<p> Исправил, вроде как-то так... Без reset_index() ошибку выдавал, пришлось добавить"
   ]
  },
  {
   "cell_type": "markdown",
   "metadata": {},
   "source": [
    "<div class=\"alert alert-success\" style=\"border-radius: 15px; box-shadow: 4px 4px 4px; border: 1px solid \">\n",
    "<h2> Комментарий ревьюера 3</h2>\n",
    "    \n",
    "Да, без сброса индекса не получится, потому что индексом является id, который мы и хотим получить. \n",
    "    \n",
    "    \n",
    "Не, я имела в виду список уникальных. То есть просто число клиентов. А то в нашей таблице число строк зависит от числа месяцев, в течение которых клиент подключен: </div>"
   ]
  },
  {
   "cell_type": "code",
   "execution_count": 43,
   "metadata": {},
   "outputs": [
    {
     "data": {
      "text/plain": [
       "tariff\n",
       "smart    350\n",
       "ultra    148\n",
       "Name: user_id, dtype: int64"
      ]
     },
     "execution_count": 43,
     "metadata": {},
     "output_type": "execute_result"
    }
   ],
   "source": [
    "# КОД РЕВЬЮЕРА\n",
    "\n",
    "df2.reset_index().groupby('tariff')['user_id'].nunique()"
   ]
  },
  {
   "cell_type": "markdown",
   "metadata": {
    "cellId": "t1k6d3s3562zzedii8g7r"
   },
   "source": [
    "<div style=\"color: white; border:solid green 2px; padding: 20px; background: LightSeaGreen\">\n",
    "    <p> Люди предпочитают тариф SMART тарифу ULTRA, вероятно более низкой его стоимости\n",
    "</div>"
   ]
  },
  {
   "cell_type": "code",
   "execution_count": 31,
   "metadata": {
    "cellId": "jgp62mbfoxokv9hhxm0e"
   },
   "outputs": [
    {
     "name": "stdout",
     "output_type": "stream",
     "text": [
      "\n",
      "SMART - среднее количество смс = 33 шт.\n",
      "SMART - среднее количество смс - дисперсия = 796.8129584480083\n",
      "SMART - среднее количество смс - стандартное отклонение = 28.221542886898938\n",
      "\n",
      "ULTRA - среднее количество смс = 49 шт.\n",
      "ULTRA - среднее количество смс - дисперсия 2285.266142544674\n",
      "ULTRA - среднее количество смс - стандартное отклонение = 47.78018496610161\n",
      "\n"
     ]
    },
    {
     "data": {
      "image/png": "[encoded data removed]",
      "text/plain": [
       "<Figure size 432x288 with 1 Axes>"
      ]
     },
     "metadata": {
      "needs_background": "light"
     },
     "output_type": "display_data"
    }
   ],
   "source": [
    "# msg_smart.plot.hist(alpha=.5, label='smart', legend=True, title='Количество SMS')\n",
    "# msg_ultra.plot.hist(alpha=.5, label='ultra', legend=True)\n",
    "# print()\n",
    "# print('SMART - среднее количество смс = {} шт.'.format(int(msg_smart.mean())))\n",
    "# print('SMART - среднее количество смс - дисперсия = {}'.format(np.var(msg_smart, ddof=1)))\n",
    "# print('SMART - среднее количество смс - стандартное отклонение = {}'.format(np.std(msg_smart)))\n",
    "# print()\n",
    "# print('ULTRA - среднее количество смс = {} шт.'.format(int(msg_ultra.mean())))\n",
    "# print('ULTRA - среднее количество смс - дисперсия {}'.format(np.var(msg_ultra, ddof=1)))\n",
    "# print('ULTRA - среднее количество смс - стандартное отклонение = {}'.format(np.std(msg_ultra)))\n",
    "# print()\n",
    "\n",
    "df2.query('tariff == \"smart\"')['count_msg'].plot.hist(alpha=.5, label='smart', legend=True, title='Количество SMS')\n",
    "df2.query('tariff == \"ultra\"')['count_msg'].plot.hist(alpha=.5, label='ultra', legend=True)\n",
    "print()\n",
    "print('SMART - среднее количество смс = {} шт.'.format(int(df2.query('tariff == \"smart\"')['count_msg'].mean())))\n",
    "print('SMART - среднее количество смс - дисперсия = {}'.format(np.var(df2.query('tariff == \"smart\"')['count_msg'], ddof=1)))\n",
    "print('SMART - среднее количество смс - стандартное отклонение = {}'.format(np.std(df2.query('tariff == \"smart\"')['count_msg'])))\n",
    "print()\n",
    "print('ULTRA - среднее количество смс = {} шт.'.format(int(df2.query('tariff == \"ultra\"')['count_msg'].mean())))\n",
    "print('ULTRA - среднее количество смс - дисперсия {}'.format(np.var(df2.query('tariff == \"ultra\"')['count_msg'], ddof=1)))\n",
    "print('ULTRA - среднее количество смс - стандартное отклонение = {}'.format(np.std(df2.query('tariff == \"ultra\"')['count_msg'])))\n",
    "print()"
   ]
  },
  {
   "cell_type": "markdown",
   "metadata": {
    "cellId": "08cobnoeam2kgtc9d7k7eui"
   },
   "source": [
    "<div style=\"color: white; border:solid green 2px; padding: 20px; background: LightSeaGreen\">\n",
    "    <p> В среднем пользователям тарифа СМАРТ требуется до 150 смс в месяц, в среднем 33, при этом они редко используют более 120 смс. Возможно это связано с ограничением включенных в тариф смс - 50 в месяц.\n",
    "    <p> Пользователи тарифа УЛЬТРА пользуются смс-ками до 200 в месяц со средним в 49 штук в месяц. \n",
    "    <p> Дисперсии обладателей тарифов по использованию смс отличаются в 3 раза (больше дисперсия у пользователей УЛЬТРА, что говорит о большем разбросе значений, т.е. они более свободны в выборе - куда и сколько потратить смс).\n",
    "        \n"
   ]
  },
  {
   "cell_type": "code",
   "execution_count": 32,
   "metadata": {
    "cellId": "jw2yzqc6tvd3smt9ax07nj"
   },
   "outputs": [
    {
     "name": "stdout",
     "output_type": "stream",
     "text": [
      "\n",
      "SMART - среднее количество звонков = 58 шт.\n",
      "SMART - среднее количество звонков - дисперсия 672.8762433017358\n",
      "SMART - среднее количество звонков - стандартное отклонение = 25.934038823652493\n",
      "\n",
      "ULTRA - среднее количество звонков = 73 шт.\n",
      "ULTRA - среднее количество звонков - дисперсия 1928.6899900953324\n",
      "ULTRA - среднее количество звонков - стандартное отклонение = 43.89455466446473\n",
      "\n"
     ]
    },
    {
     "data": {
      "image/png": "[encoded data removed]",
      "text/plain": [
       "<Figure size 432x288 with 1 Axes>"
      ]
     },
     "metadata": {
      "needs_background": "light"
     },
     "output_type": "display_data"
    }
   ],
   "source": [
    "# calls_count_smart.plot.hist(alpha=.5, label='smart', legend=True, title='Количество звонков')\n",
    "# calls_count_ultra.plot.hist(alpha=.5, label='ultra', legend=True)\n",
    "# print()\n",
    "# print('SMART - среднее количество звонков = {} шт.'.format(int(calls_count_smart.mean())))\n",
    "# print('SMART - среднее количество звонков - дисперсия {}'.format(np.var(calls_count_smart, ddof=1)))\n",
    "# print('SMART - среднее количество звонков - стандартное отклонение = {}'.format(np.std(calls_count_smart)))\n",
    "# print()\n",
    "# print('ULTRA - среднее количество звонков = {} шт.'.format(int(calls_count_ultra.mean())))\n",
    "# print('ULTRA - среднее количество звонков - дисперсия {}'.format(np.var(calls_count_ultra, ddof=1)))\n",
    "# print('ULTRA - среднее количество звонков - стандартное отклонение = {}'.format(np.std(calls_count_ultra)))\n",
    "# print()\n",
    "\n",
    "df2.query('tariff == \"smart\"')['calls_count'].plot.hist(alpha=.5, label='smart', legend=True, title='Количество звонков')\n",
    "df2.query('tariff == \"ultra\"')['calls_count'].plot.hist(alpha=.5, label='ultra', legend=True)\n",
    "print()\n",
    "print('SMART - среднее количество звонков = {} шт.'.format(int(df2.query('tariff == \"smart\"')['calls_count'].mean())))\n",
    "print('SMART - среднее количество звонков - дисперсия {}'.format(np.var(df2.query('tariff == \"smart\"')['calls_count'], ddof=1)))\n",
    "print('SMART - среднее количество звонков - стандартное отклонение = {}'.format(np.std(df2.query('tariff == \"smart\"')['calls_count'])))\n",
    "print()\n",
    "print('ULTRA - среднее количество звонков = {} шт.'.format(int(df2.query('tariff == \"ultra\"')['calls_count'].mean())))\n",
    "print('ULTRA - среднее количество звонков - дисперсия {}'.format(np.var(df2.query('tariff == \"ultra\"')['calls_count'], ddof=1)))\n",
    "print('ULTRA - среднее количество звонков - стандартное отклонение = {}'.format(np.std(df2.query('tariff == \"ultra\"')['calls_count'])))\n",
    "print()"
   ]
  },
  {
   "cell_type": "markdown",
   "metadata": {
    "cellId": "hw0dknh63q9ftq9ix830k"
   },
   "source": [
    "<div style=\"color: white; border:solid green 2px; padding: 20px; background: LightSeaGreen\">\n",
    "    <p> У обладателей тарифа СМАРТ среднее количество звонков 58 шт/мес, у обладателей УЛЬТРА среднее количество 73 звонка. \n",
    "    <p> Дисперсия по этому параметру больше у тарифа УЛЬТРА в 3 раза.\n",
    "</div>"
   ]
  },
  {
   "cell_type": "code",
   "execution_count": 33,
   "metadata": {
    "cellId": "mo93yeqa4ig3d4ka12a0l"
   },
   "outputs": [
    {
     "name": "stdout",
     "output_type": "stream",
     "text": [
      "\n",
      "SMART - средняя продолжительность звонков = 417 мин\n",
      "SMART - средняя продолжительность звонков - дисперсия 36219.31578434428\n",
      "SMART - средняя продолжительность звонков - стандартное отклонение = 190.27103471651876\n",
      "\n",
      "ULTRA - средняя продолжительность звонков = 526 мин\n",
      "ULTRA - средняя продолжительность звонков - дисперсия 100873.63339730098\n",
      "ULTRA - средняя продолжительность звонков - стандартное отклонение = 317.44483554974113\n",
      "\n"
     ]
    },
    {
     "data": {
      "image/png": "[encoded data removed]",
      "text/plain": [
       "<Figure size 432x288 with 1 Axes>"
      ]
     },
     "metadata": {
      "needs_background": "light"
     },
     "output_type": "display_data"
    }
   ],
   "source": [
    "# calls_duration_smart.plot.hist(alpha=.5, label='smart', legend=True, title='Продолжительность звонков')\n",
    "# calls_duration_ultra.plot.hist(alpha=.5, label='ultra', legend=True)\n",
    "# print()\n",
    "# print('SMART - средняя продолжительность звонков = {} мин'.format(int(calls_duration_smart.mean())))\n",
    "# print('SMART - средняя продолжительность звонков - дисперсия {}'.format(np.var(calls_duration_smart, ddof=1)))\n",
    "# print('SMART - средняя продолжительность звонков - стандартное отклонение = {}'.format(np.std(calls_duration_smart)))\n",
    "# print()\n",
    "# print('ULTRA - средняя продолжительность звонков = {} мин'.format(int(calls_duration_ultra.mean())))\n",
    "# print('ULTRA - средняя продолжительность звонков - дисперсия {}'.format(np.var(calls_duration_ultra, ddof=1)))\n",
    "# print('ULTRA - средняя продолжительность звонков - стандартное отклонение = {}'.format(np.std(calls_duration_ultra)))\n",
    "# print()\n",
    "\n",
    "df2.query('tariff == \"smart\"')['duration_sum'].plot.hist(alpha=.5, label='smart', legend=True, title='Продолжительность звонков')\n",
    "df2.query('tariff == \"ultra\"')['duration_sum'].plot.hist(alpha=.5, label='ultra', legend=True)\n",
    "print()\n",
    "print('SMART - средняя продолжительность звонков = {} мин'.format(int(df2.query('tariff == \"smart\"')['duration_sum'].mean())))\n",
    "print('SMART - средняя продолжительность звонков - дисперсия {}'.format(np.var(df2.query('tariff == \"smart\"')['duration_sum'], ddof=1)))\n",
    "print('SMART - средняя продолжительность звонков - стандартное отклонение = {}'.format(np.std(df2.query('tariff == \"smart\"')['duration_sum'])))\n",
    "print()\n",
    "print('ULTRA - средняя продолжительность звонков = {} мин'.format(int(df2.query('tariff == \"ultra\"')['duration_sum'].mean())))\n",
    "print('ULTRA - средняя продолжительность звонков - дисперсия {}'.format(np.var(df2.query('tariff == \"ultra\"')['duration_sum'], ddof=1)))\n",
    "print('ULTRA - средняя продолжительность звонков - стандартное отклонение = {}'.format(np.std(df2.query('tariff == \"ultra\"')['duration_sum'])))\n",
    "print()"
   ]
  },
  {
   "cell_type": "markdown",
   "metadata": {
    "cellId": "8uzvf04hbs2hygdxx8ou4b"
   },
   "source": [
    "<div style=\"color: white; border:solid green 2px; padding: 20px; background: LightSeaGreen\">\n",
    "    <p> По продолжительности звонков пользователем тарифа смарт обычно требуется от 200 до 750 минут в месяц, в среднем 417 мин (500 минут включено в тарифный план). В то же время пользователи тарифа УЛЬТРА в среднем разговаривают чуть больше  - от 0 до 1000 минут, в среднем 526 минут. Но 3000 минут (включенные минуты в тариф) никто не проговорил...\n",
    "    <p> При этом дисперсия по продолжительности звонков больше у тарифа ультра - они могут позволить себе дольше говорить по телефону, поскольку у них меньше ограничений (3000 минут включенных в тарифный план).\n",
    "</div>"
   ]
  },
  {
   "cell_type": "code",
   "execution_count": 34,
   "metadata": {
    "cellId": "0n3ruig6ibbjrd0y56plec"
   },
   "outputs": [
    {
     "name": "stdout",
     "output_type": "stream",
     "text": [
      "\n",
      "SMART - интернет трафик = 16 Гб/мес\n",
      "SMART - интернет трафик - дисперсия 33.02870517811161\n",
      "SMART - интернет трафик - стандартное отклонение = 5.745771267187499\n",
      "\n",
      "ULTRA - интернет трафик = 19 Гб/мес\n",
      "ULTRA - интернет трафик - дисперсия 97.09168626965459\n",
      "ULTRA - интернет трафик - стандартное отклонение = 9.848508314957495\n",
      "\n"
     ]
    },
    {
     "data": {
      "image/png": "[encoded data removed]",
      "text/plain": [
       "<Figure size 432x288 with 1 Axes>"
      ]
     },
     "metadata": {
      "needs_background": "light"
     },
     "output_type": "display_data"
    }
   ],
   "source": [
    "# gb_smart.plot.hist(alpha=.5, label='smart', legend=True, title='Интернет трафик ГБ/месяц')\n",
    "# gb_ultra.plot.hist(alpha=.5, label='ultra', legend=True)\n",
    "# print()\n",
    "# print('SMART - интернет трафик = {} Гб/мес'.format(int(gb_smart.mean())))\n",
    "# print('SMART - интернет трафик - дисперсия {}'.format(np.var(gb_smart, ddof=1)))\n",
    "# print('SMART - интернет трафик - стандартное отклонение = {}'.format(np.std(gb_smart)))\n",
    "# print()\n",
    "# print('ULTRA - интернет трафик = {} Гб/мес'.format(int(gb_ultra.mean())))\n",
    "# print('ULTRA - интернет трафик - дисперсия {}'.format(np.var(gb_ultra, ddof=1)))\n",
    "# print('ULTRA - интернет трафик - стандартное отклонение = {}'.format(np.std(gb_ultra)))\n",
    "# print()\n",
    "\n",
    "df2.query('tariff == \"smart\"')['gb_used'].plot.hist(alpha=.5, label='smart', legend=True, title='Интернет трафик ГБ/месяц')\n",
    "df2.query('tariff == \"ultra\"')['gb_used'].plot.hist(alpha=.5, label='ultra', legend=True)\n",
    "print()\n",
    "print('SMART - интернет трафик = {} Гб/мес'.format(int(df2.query('tariff == \"smart\"')['gb_used'].mean())))\n",
    "print('SMART - интернет трафик - дисперсия {}'.format(np.var(df2.query('tariff == \"smart\"')['gb_used'], ddof=1)))\n",
    "print('SMART - интернет трафик - стандартное отклонение = {}'.format(np.std(df2.query('tariff == \"smart\"')['gb_used'])))\n",
    "print()\n",
    "print('ULTRA - интернет трафик = {} Гб/мес'.format(int(df2.query('tariff == \"ultra\"')['gb_used'].mean())))\n",
    "print('ULTRA - интернет трафик - дисперсия {}'.format(np.var(df2.query('tariff == \"ultra\"')['gb_used'], ddof=1)))\n",
    "print('ULTRA - интернет трафик - стандартное отклонение = {}'.format(np.std(df2.query('tariff == \"ultra\"')['gb_used'])))\n",
    "print()"
   ]
  },
  {
   "cell_type": "markdown",
   "metadata": {
    "cellId": "a03foyzpi79bq4kpgc9gw"
   },
   "source": [
    "<div style=\"color: white; border:solid green 2px; padding: 20px; background: LightSeaGreen\">\n",
    "    <p> Интернетом более активно пользуются обладатели тарифа ULTRA в среднем 19 Гб/мес, обладатели SMART - в среднем 16 в месяц. Дисперсии отличаются в 3 раза (больше у обладателей ultra).\n",
    "</div>"
   ]
  },
  {
   "cell_type": "markdown",
   "metadata": {
    "cellId": "yf98sg78o58gtn500z8zwf"
   },
   "source": [
    "**Вывод:**\n",
    "\n",
    "<div style=\"color: white; border:solid green 2px; padding: 20px; background: LightSeaGreen\">\n",
    "    <p> Изучив данные выборок можно прийти к выводу что пользователи двух тарифов принципиально отличаются по пользованию СМС и продолжительностью терефонных разговоров. По интернет трафику и количеству звонков нет видимых различий.\n",
    "</div>\n",
    "#\n",
    "<div style=\"color: white; border:solid green 2px; padding: 20px; background: LightSeaGreen\">\n",
    "<h1>ШАГ 5: Проверка гипотез</h1>\n",
    "</div>"
   ]
  },
  {
   "cell_type": "markdown",
   "metadata": {
    "cellId": "sccdmozw0lc6jikoe3wp82"
   },
   "source": [
    "<div style=\"color: white; border:solid green 2px; padding: 20px; background: LightSeaGreen\">\n",
    "    <h3> Средняя выручка пользователей тарифов «Ультра» и «Смарт» различаются</h3>\n",
    "</div>"
   ]
  },
  {
   "cell_type": "markdown",
   "metadata": {
    "cellId": "il37lh6mtw5buz85k571"
   },
   "source": [
    "<div style=\"color: white; border:solid green 2px; padding: 20px; background: LightSeaGreen\">\n",
    "    <p> Если средняя выручка тарифов не различаются, значит они относятся к одной генеральной совокупности \n",
    "        и их средние значения не выйдут за порог значения альфа = 0.5 (т.е. р-значение будет больше 0.5) - это нулевая гипотеза.\n",
    "    <p> Произведем расчет:\n",
    "</div>"
   ]
  },
  {
   "cell_type": "code",
   "execution_count": 35,
   "metadata": {
    "cellId": "3et52nrc0w2v4x6xwi8oo"
   },
   "outputs": [
    {
     "name": "stdout",
     "output_type": "stream",
     "text": [
      "p-значение =  1.4229814360764067e-160\n"
     ]
    }
   ],
   "source": [
    "profit_smart = df2.query('tariff == \"smart\"')['profit']\n",
    "profit_ultra = df2.query('tariff == \"ultra\"')['profit']\n",
    "\n",
    "alpha = .05\n",
    "dif_profit_result = st.ttest_ind(profit_smart, profit_ultra)\n",
    "print('p-значение = ', dif_profit_result.pvalue)"
   ]
  },
  {
   "cell_type": "markdown",
   "metadata": {
    "cellId": "b64z7zbslb4euid74tkb0j"
   },
   "source": [
    "<div style=\"color: white; border:solid green 2px; padding: 20px; background: LightSeaGreen\">\n",
    "    <p> Мы имеем очень малое р-знаение (ноль!), что говорит о том, что средние выручки тарифов относятся к разным гененальным совокупностям (отвергаем нулевую гипотезу) и эти выручки значимо различаются.\n",
    "    <p> Возьмем среднее значение чтобы узнать какой тариф лучше:\n",
    "</div>"
   ]
  },
  {
   "cell_type": "code",
   "execution_count": 36,
   "metadata": {
    "cellId": "e9f1379raje737j4dr4y4"
   },
   "outputs": [
    {
     "name": "stdout",
     "output_type": "stream",
     "text": [
      "SMART profit mean : 1289.9735307312696\n",
      "ULTRA profit mean : 2070.1522842639592\n"
     ]
    }
   ],
   "source": [
    "# print('SMART profit mean : ', profit_smart.mean())\n",
    "# print('ULTRA profit mean : ', profit_ultra.mean())\n",
    "\n",
    "print('SMART profit mean : {}'.format(df2.query('tariff == \"smart\"')['profit'].mean()))\n",
    "print('ULTRA profit mean : {}'.format(df2.query('tariff == \"ultra\"')['profit'].mean()))"
   ]
  },
  {
   "cell_type": "markdown",
   "metadata": {
    "cellId": "rthbqi7cuugjaznvq50jzj"
   },
   "source": [
    "<div style=\"color: white; border:solid green 2px; padding: 20px; background: LightSeaGreen\">\n",
    "    <p> Выборки имеют статистические различия, и среднее значение прибыли по тарифу УЛЬТРА выше\n",
    "</div>"
   ]
  },
  {
   "cell_type": "markdown",
   "metadata": {
    "cellId": "yxt8jyvt508cnxibjwg7bd"
   },
   "source": [
    "<div style=\"color: white; border:solid green 2px; padding: 20px; background: LightSeaGreen\">\n",
    "    <h3> Средняя выручка пользователей из Москвы отличается от выручки пользователей из других регионов.</h3>\n",
    "</div>"
   ]
  },
  {
   "cell_type": "markdown",
   "metadata": {
    "cellId": "czaszw7o8h8wxxwu7siy2"
   },
   "source": [
    "<div style=\"color: white; border:solid green 2px; padding: 20px; background: LightSeaGreen\">\n",
    "    <p> Нулевая гипотеза: Средняя выручка пользователей Москвы = среднней выручке других регионов.\n",
    "    <p> Выделим 2 выборки: df_moscow и df_vne_moscow.\n",
    "</div>"
   ]
  },
  {
   "cell_type": "code",
   "execution_count": 37,
   "metadata": {
    "cellId": "a50sl6k87r99ktrl9f5bjo",
    "collapsed": true
   },
   "outputs": [],
   "source": [
    "df_moscow = df2.query('city == \"Москва\"')\n",
    "df_vne_moscow = df2.query('city != \"Москва\"')"
   ]
  },
  {
   "cell_type": "code",
   "execution_count": 38,
   "metadata": {
    "cellId": "7hs8zcmvdt7i81t9uupxma",
    "collapsed": true
   },
   "outputs": [],
   "source": [
    "df_moscow_pivot = df_moscow.pivot_table(index=['user_id'], values=['profit'], aggfunc=('mean'))\n",
    "df_vne_moscow_pivot = df_vne_moscow.pivot_table(index=['user_id'], values=['profit'], aggfunc=('mean'))"
   ]
  },
  {
   "cell_type": "code",
   "execution_count": 39,
   "metadata": {
    "cellId": "xcy7ixmlcud312xdnduvs"
   },
   "outputs": [
    {
     "name": "stdout",
     "output_type": "stream",
     "text": [
      "p-значение =  0.36094633224451433\n"
     ]
    }
   ],
   "source": [
    "# используем критейрий alpha = 0.1 для более точного результата (статистически значимого различия)\n",
    "\n",
    "# alpha = .1\n",
    "# alpha = .05\n",
    "\n",
    "dif_profit_result = st.ttest_ind(df_moscow_pivot['profit'], df_vne_moscow_pivot['profit'])\n",
    "print('p-значение = ', dif_profit_result.pvalue)"
   ]
  },
  {
   "cell_type": "markdown",
   "metadata": {
    "cellId": "619usztsgwt4ymbva9zz2e"
   },
   "source": [
    "<div style=\"color: white; border:solid green 2px; padding: 20px; background: LightSeaGreen\">\n",
    "    <p> p-значение = 0.18 > 0.1 альфа, значит наша нулевая гипотеза не верна: средняя выручка в Москве не равна средней выручке в других регионах.\n",
    "    <p> Проверим это, возьмем среднее по выборкам:\n",
    "</div>"
   ]
  },
  {
   "cell_type": "code",
   "execution_count": 40,
   "metadata": {
    "cellId": "ysqrgwtyd0smismu8q9dp"
   },
   "outputs": [
    {
     "name": "stdout",
     "output_type": "stream",
     "text": [
      "Средняя прибыль по одному клиенту по Москве:  1498.465851152215\n",
      "Средняя прибыль по одному клиенту по не Москве:  1563.8822229636141\n"
     ]
    }
   ],
   "source": [
    "print('Средняя прибыль по одному клиенту по Москве: ', df_moscow_pivot['profit'].mean())\n",
    "print('Средняя прибыль по одному клиенту по не Москве: ', df_vne_moscow_pivot['profit'].mean())"
   ]
  },
  {
   "cell_type": "markdown",
   "metadata": {
    "cellId": "qakmhv9v1repzhwhqhdwfb"
   },
   "source": [
    "<div style=\"color: white; border:solid green 2px; padding: 20px; background: LightSeaGreen\">\n",
    "    <p> В Москве прибыль выше.\n",
    "</div>"
   ]
  },
  {
   "cell_type": "markdown",
   "metadata": {
    "cellId": "1mhltdy8gnfoej2x83afcj"
   },
   "source": [
    "### Вывод\n",
    "\n"
   ]
  },
  {
   "cell_type": "markdown",
   "metadata": {
    "cellId": "aua68bgvwm017eyatn5kut"
   },
   "source": [
    "<div style=\"color: white; border:solid green 2px; padding: 20px; background: LightSeaGreen\">\n",
    "    <p> Согласно статистическому анализу мы получили следующие данные:\n",
    "        <li> Средняя выручка пользователей тарифов «Ультра» и «Смарт» различаются\n",
    "        <li> Средняя выручка пользователей из Москвы отличается от выручки пользователей из других регионов.\n",
    "</div>"
   ]
  },
  {
   "cell_type": "markdown",
   "metadata": {},
   "source": [
    "<div style=\"color: white; border:solid green 2px; padding: 20px; background: #1fbcd1\">\n",
    "    <b>Вывод после исправления ошибок:</b>\n",
    "<p> Средняя выручка пользователей тарифов \"Ультра\" и \"Смарт\" статистически различаются.\n",
    "<p> Средняя выручка пользователей из Москвы и других регионов статистически одинаковы.\n",
    "    \n",
    "    "
   ]
  },
  {
   "cell_type": "markdown",
   "metadata": {
    "cellId": "yym50j3ytjmhdilz5k1o2s"
   },
   "source": [
    "# Вывод\n",
    "<div style=\"color: white; border:solid green 2px; padding: 20px; background: LightSeaGreen\">\n",
    "    <p> В результате нашего исследования мы выяснили что тариф \"УЛЬТРА\" показал статистически значимые различия по отношение к тарифу \"СМАРТ\". \n",
    "    <p> Т.о. тариф \"УЛЬТРА\" прибыльнее тарифа \"СМАРТ\".\n",
    "</div>\n"
   ]
  },
  {
   "cell_type": "code",
   "execution_count": 45,
   "metadata": {},
   "outputs": [
    {
     "data": {
      "text/html": [
       "<div>\n",
       "<style scoped>\n",
       "    .dataframe tbody tr th:only-of-type {\n",
       "        vertical-align: middle;\n",
       "    }\n",
       "\n",
       "    .dataframe tbody tr th {\n",
       "        vertical-align: top;\n",
       "    }\n",
       "\n",
       "    .dataframe thead tr th {\n",
       "        text-align: left;\n",
       "    }\n",
       "\n",
       "    .dataframe thead tr:last-of-type th {\n",
       "        text-align: right;\n",
       "    }\n",
       "</style>\n",
       "<table border=\"1\" class=\"dataframe\">\n",
       "  <thead>\n",
       "    <tr>\n",
       "      <th></th>\n",
       "      <th colspan=\"3\" halign=\"left\">mean</th>\n",
       "      <th colspan=\"3\" halign=\"left\">std</th>\n",
       "      <th colspan=\"3\" halign=\"left\">var</th>\n",
       "    </tr>\n",
       "    <tr>\n",
       "      <th></th>\n",
       "      <th>count_msg</th>\n",
       "      <th>duration_sum</th>\n",
       "      <th>gb_used</th>\n",
       "      <th>count_msg</th>\n",
       "      <th>duration_sum</th>\n",
       "      <th>gb_used</th>\n",
       "      <th>count_msg</th>\n",
       "      <th>duration_sum</th>\n",
       "      <th>gb_used</th>\n",
       "    </tr>\n",
       "    <tr>\n",
       "      <th>tariff</th>\n",
       "      <th></th>\n",
       "      <th></th>\n",
       "      <th></th>\n",
       "      <th></th>\n",
       "      <th></th>\n",
       "      <th></th>\n",
       "      <th></th>\n",
       "      <th></th>\n",
       "      <th></th>\n",
       "    </tr>\n",
       "  </thead>\n",
       "  <tbody>\n",
       "    <tr>\n",
       "      <td>smart</td>\n",
       "      <td>33.384029</td>\n",
       "      <td>417.934948</td>\n",
       "      <td>16.328847</td>\n",
       "      <td>28.227876</td>\n",
       "      <td>190.313730</td>\n",
       "      <td>5.747061</td>\n",
       "      <td>796.812958</td>\n",
       "      <td>36219.315784</td>\n",
       "      <td>33.028705</td>\n",
       "    </tr>\n",
       "    <tr>\n",
       "      <td>ultra</td>\n",
       "      <td>49.363452</td>\n",
       "      <td>526.623350</td>\n",
       "      <td>19.494416</td>\n",
       "      <td>47.804457</td>\n",
       "      <td>317.606098</td>\n",
       "      <td>9.853511</td>\n",
       "      <td>2285.266143</td>\n",
       "      <td>100873.633397</td>\n",
       "      <td>97.091686</td>\n",
       "    </tr>\n",
       "  </tbody>\n",
       "</table>\n",
       "</div>"
      ],
      "text/plain": [
       "             mean                                std                         \\\n",
       "        count_msg duration_sum    gb_used  count_msg duration_sum   gb_used   \n",
       "tariff                                                                        \n",
       "smart   33.384029   417.934948  16.328847  28.227876   190.313730  5.747061   \n",
       "ultra   49.363452   526.623350  19.494416  47.804457   317.606098  9.853511   \n",
       "\n",
       "                var                            \n",
       "          count_msg   duration_sum    gb_used  \n",
       "tariff                                         \n",
       "smart    796.812958   36219.315784  33.028705  \n",
       "ultra   2285.266143  100873.633397  97.091686  "
      ]
     },
     "execution_count": 45,
     "metadata": {},
     "output_type": "execute_result"
    }
   ],
   "source": [
    "\n",
    "df2.pivot_table(index='tariff', values=['duration_sum', 'count_msg', 'gb_used'],\n",
    "                       aggfunc=['mean', 'std', 'var'])"
   ]
  },
  {
   "cell_type": "code",
   "execution_count": 46,
   "metadata": {},
   "outputs": [
    {
     "name": "stdout",
     "output_type": "stream",
     "text": [
      "MultiIndex([('duration_sum', 'mean'),\n",
      "            ('duration_sum',  'var'),\n",
      "            ('duration_sum',  'std'),\n",
      "            (   'count_msg', 'mean'),\n",
      "            (   'count_msg',  'var'),\n",
      "            (   'count_msg',  'std'),\n",
      "            (     'gb_used', 'mean'),\n",
      "            (     'gb_used',  'var'),\n",
      "            (     'gb_used',  'std')],\n",
      "           )\n",
      "\n",
      "\n",
      "\n",
      "Индексы:  ('duration_sum', 'mean') Первый:  duration_sum Второй:  mean\n"
     ]
    },
    {
     "data": {
      "text/html": [
       "<div>\n",
       "<style scoped>\n",
       "    .dataframe tbody tr th:only-of-type {\n",
       "        vertical-align: middle;\n",
       "    }\n",
       "\n",
       "    .dataframe tbody tr th {\n",
       "        vertical-align: top;\n",
       "    }\n",
       "\n",
       "    .dataframe thead tr th {\n",
       "        text-align: left;\n",
       "    }\n",
       "</style>\n",
       "<table border=\"1\" class=\"dataframe\">\n",
       "  <thead>\n",
       "    <tr>\n",
       "      <th></th>\n",
       "      <th colspan=\"3\" halign=\"left\">duration_sum</th>\n",
       "      <th colspan=\"3\" halign=\"left\">count_msg</th>\n",
       "      <th colspan=\"3\" halign=\"left\">gb_used</th>\n",
       "    </tr>\n",
       "    <tr>\n",
       "      <th></th>\n",
       "      <th>mean</th>\n",
       "      <th>var</th>\n",
       "      <th>std</th>\n",
       "      <th>mean</th>\n",
       "      <th>var</th>\n",
       "      <th>std</th>\n",
       "      <th>mean</th>\n",
       "      <th>var</th>\n",
       "      <th>std</th>\n",
       "    </tr>\n",
       "  </thead>\n",
       "  <tbody>\n",
       "    <tr>\n",
       "      <td>smart</td>\n",
       "      <td>417.93</td>\n",
       "      <td>36219.3</td>\n",
       "      <td>190.31</td>\n",
       "      <td>33.38</td>\n",
       "      <td>796.81</td>\n",
       "      <td>28.23</td>\n",
       "      <td>16.33</td>\n",
       "      <td>33.03</td>\n",
       "      <td>5.75</td>\n",
       "    </tr>\n",
       "    <tr>\n",
       "      <td>ultra</td>\n",
       "      <td>526.62</td>\n",
       "      <td>100874</td>\n",
       "      <td>317.61</td>\n",
       "      <td>49.36</td>\n",
       "      <td>2285.27</td>\n",
       "      <td>47.8</td>\n",
       "      <td>19.49</td>\n",
       "      <td>97.09</td>\n",
       "      <td>9.85</td>\n",
       "    </tr>\n",
       "  </tbody>\n",
       "</table>\n",
       "</div>"
      ],
      "text/plain": [
       "      duration_sum                  count_msg                 gb_used         \\\n",
       "              mean      var     std      mean      var    std    mean    var   \n",
       "smart       417.93  36219.3  190.31     33.38   796.81  28.23   16.33  33.03   \n",
       "ultra       526.62   100874  317.61     49.36  2285.27   47.8   19.49  97.09   \n",
       "\n",
       "             \n",
       "        std  \n",
       "smart  5.75  \n",
       "ultra  9.85  "
      ]
     },
     "execution_count": 46,
     "metadata": {},
     "output_type": "execute_result"
    }
   ],
   "source": [
    "# КОД РЕВЬЮЕРА\n",
    "\n",
    "# Это все для мультиндекса\n",
    "l1 = ['duration_sum', 'count_msg', 'gb_used']\n",
    "l2 = ['mean', 'var', 'std']\n",
    "idx = pd.MultiIndex.from_product([l1, l2])\n",
    "\n",
    "\n",
    "print(idx)\n",
    "\n",
    "print('\\n\\n\\nИндексы: ', idx[0], 'Первый: ', idx[0][0], 'Второй: ', idx[0][1])\n",
    "\n",
    "df = pd.DataFrame(index=['smart', 'ultra'], columns=idx)\n",
    "\n",
    "for i in df.columns:\n",
    "    #  Срез по первому индексу, агрегирование — по второму. \n",
    "    df.loc['smart',i] = np.round(df2.query('tariff==\"smart\"')[i[0]].agg(i[1]),2)\n",
    "    df.loc['ultra',i] = np.round(df2.query('tariff==\"ultra\"')[i[0]].agg(i[1]),2)\n",
    "    \n",
    "df    "
   ]
  },
  {
   "cell_type": "markdown",
   "metadata": {
    "cellId": "aua68bgvwm017eyatn5kut"
   },
   "source": [
    "# Вывод \n",
    "<div style=\"color: white; border:solid green 2px; padding: 20px; background: LightSeaGreen\">\n",
    "<p> 1 - Было сделано предположение что тарифы статистически не различаются, (т.е. средние значения их выборок по тарифам относятся к одной генеральной совокупности). В результате статистического исследования оказалось что р-значение по двум выборочным совокупностям (средемесячной прибыли по 2 тарифам) выходит за пределы 5% (альфа 0.05) и равно 0 (или очень близкому к нулю значению). Это дает нам право право отвергнуть нулевую гипотезу - а именно тарифы статистически различаются по уровню прибыльности (но каким образом отличаются мы по этим данным сказать не можем). Учитывая что средние значения прибильности по месяцам у тарифа ultra в 2 раза выше чем у smart (1045 против 2070), то можно заключить что тариф ultra в 2 раза прибыльнее тарифа smart.\n",
    "<p> 2 - Если рассмотреть прибыльность по Москве и регионам, то при статистическом исследовании мы приходим к выводу что среднее выборки по прибильности по пользователям Москвы и не Москвы показали статистически не значимые различия (р-значение 0.62 при альфа 0.05), поэтому мы не можем отвергнуть нулевую гипотезу, которая гласит: Средняя выручка пользователей Москвы = среднней выручке других регионов\n"
   ]
  }
 ],
 "metadata": {
  "ExecuteTimeLog": [
   {
    "duration": 3479,
    "start_time": "2021-12-27T11:14:53.659Z"
   },
   {
    "duration": 1972,
    "start_time": "2021-12-27T11:16:17.939Z"
   },
   {
    "duration": 1952,
    "start_time": "2021-12-27T11:16:31.153Z"
   },
   {
    "duration": 556,
    "start_time": "2021-12-27T11:16:47.989Z"
   },
   {
    "duration": 43,
    "start_time": "2021-12-27T11:17:46.667Z"
   },
   {
    "duration": 34,
    "start_time": "2021-12-27T11:19:57.143Z"
   },
   {
    "duration": 141,
    "start_time": "2021-12-27T11:41:47.861Z"
   },
   {
    "duration": 20,
    "start_time": "2021-12-27T11:46:05.922Z"
   },
   {
    "duration": 89,
    "start_time": "2021-12-27T13:51:49.688Z"
   },
   {
    "duration": 31,
    "start_time": "2021-12-27T13:58:51.851Z"
   },
   {
    "duration": 3500,
    "start_time": "2021-12-28T21:46:06.312Z"
   },
   {
    "duration": -25047,
    "start_time": "2021-12-28T21:46:34.863Z"
   },
   {
    "duration": -25060,
    "start_time": "2021-12-28T21:46:34.877Z"
   },
   {
    "duration": -25067,
    "start_time": "2021-12-28T21:46:34.885Z"
   },
   {
    "duration": -25072,
    "start_time": "2021-12-28T21:46:34.892Z"
   },
   {
    "duration": -25080,
    "start_time": "2021-12-28T21:46:34.901Z"
   },
   {
    "duration": -25086,
    "start_time": "2021-12-28T21:46:34.909Z"
   },
   {
    "duration": -25094,
    "start_time": "2021-12-28T21:46:34.918Z"
   },
   {
    "duration": -25100,
    "start_time": "2021-12-28T21:46:34.926Z"
   },
   {
    "duration": -25108,
    "start_time": "2021-12-28T21:46:34.935Z"
   },
   {
    "duration": -25126,
    "start_time": "2021-12-28T21:46:34.954Z"
   },
   {
    "duration": -25132,
    "start_time": "2021-12-28T21:46:34.962Z"
   },
   {
    "duration": -25138,
    "start_time": "2021-12-28T21:46:34.969Z"
   },
   {
    "duration": -25147,
    "start_time": "2021-12-28T21:46:34.980Z"
   },
   {
    "duration": -25153,
    "start_time": "2021-12-28T21:46:34.987Z"
   },
   {
    "duration": -25160,
    "start_time": "2021-12-28T21:46:34.995Z"
   },
   {
    "duration": -25165,
    "start_time": "2021-12-28T21:46:35.002Z"
   },
   {
    "duration": -25174,
    "start_time": "2021-12-28T21:46:35.012Z"
   },
   {
    "duration": -25181,
    "start_time": "2021-12-28T21:46:35.020Z"
   },
   {
    "duration": -25188,
    "start_time": "2021-12-28T21:46:35.029Z"
   },
   {
    "duration": -25193,
    "start_time": "2021-12-28T21:46:35.035Z"
   },
   {
    "duration": -25199,
    "start_time": "2021-12-28T21:46:35.043Z"
   },
   {
    "duration": -25203,
    "start_time": "2021-12-28T21:46:35.049Z"
   },
   {
    "duration": -25223,
    "start_time": "2021-12-28T21:46:35.070Z"
   },
   {
    "duration": -25227,
    "start_time": "2021-12-28T21:46:35.076Z"
   },
   {
    "duration": -25233,
    "start_time": "2021-12-28T21:46:35.083Z"
   },
   {
    "duration": -25224,
    "start_time": "2021-12-28T21:46:35.090Z"
   },
   {
    "duration": -25229,
    "start_time": "2021-12-28T21:46:35.097Z"
   },
   {
    "duration": -25238,
    "start_time": "2021-12-28T21:46:35.107Z"
   },
   {
    "duration": -25248,
    "start_time": "2021-12-28T21:46:35.119Z"
   },
   {
    "duration": -25253,
    "start_time": "2021-12-28T21:46:35.126Z"
   },
   {
    "duration": -25258,
    "start_time": "2021-12-28T21:46:35.133Z"
   },
   {
    "duration": -25265,
    "start_time": "2021-12-28T21:46:35.142Z"
   },
   {
    "duration": -25271,
    "start_time": "2021-12-28T21:46:35.149Z"
   },
   {
    "duration": -25277,
    "start_time": "2021-12-28T21:46:35.156Z"
   },
   {
    "duration": -25282,
    "start_time": "2021-12-28T21:46:35.163Z"
   },
   {
    "duration": -25300,
    "start_time": "2021-12-28T21:46:35.183Z"
   },
   {
    "duration": 593,
    "start_time": "2021-12-28T21:46:40.067Z"
   },
   {
    "duration": 43,
    "start_time": "2021-12-28T21:46:40.663Z"
   },
   {
    "duration": 160,
    "start_time": "2021-12-28T21:46:40.708Z"
   },
   {
    "duration": 47,
    "start_time": "2021-12-28T21:46:40.872Z"
   },
   {
    "duration": 75,
    "start_time": "2021-12-28T21:46:40.921Z"
   },
   {
    "duration": 29,
    "start_time": "2021-12-28T21:46:40.999Z"
   },
   {
    "duration": 57,
    "start_time": "2021-12-28T21:46:41.031Z"
   },
   {
    "duration": 21,
    "start_time": "2021-12-28T21:46:41.092Z"
   },
   {
    "duration": 3,
    "start_time": "2021-12-28T21:46:41.116Z"
   },
   {
    "duration": 52,
    "start_time": "2021-12-28T21:46:41.121Z"
   },
   {
    "duration": 94,
    "start_time": "2021-12-28T21:46:41.175Z"
   },
   {
    "duration": 103,
    "start_time": "2021-12-28T21:46:41.272Z"
   },
   {
    "duration": 14,
    "start_time": "2021-12-28T21:46:41.378Z"
   },
   {
    "duration": 39,
    "start_time": "2021-12-28T21:46:41.395Z"
   },
   {
    "duration": 64,
    "start_time": "2021-12-28T21:46:41.436Z"
   },
   {
    "duration": 71,
    "start_time": "2021-12-28T21:46:41.502Z"
   },
   {
    "duration": 14,
    "start_time": "2021-12-28T21:46:41.575Z"
   },
   {
    "duration": 46,
    "start_time": "2021-12-28T21:46:41.591Z"
   },
   {
    "duration": 32,
    "start_time": "2021-12-28T21:46:41.639Z"
   },
   {
    "duration": 16,
    "start_time": "2021-12-28T21:46:41.674Z"
   },
   {
    "duration": 5,
    "start_time": "2021-12-28T21:46:41.692Z"
   },
   {
    "duration": 267,
    "start_time": "2021-12-28T21:46:41.700Z"
   },
   {
    "duration": 42,
    "start_time": "2021-12-28T21:46:41.972Z"
   },
   {
    "duration": 51,
    "start_time": "2021-12-28T21:46:42.016Z"
   },
   {
    "duration": 11,
    "start_time": "2021-12-28T21:46:42.070Z"
   },
   {
    "duration": 10,
    "start_time": "2021-12-28T21:46:42.084Z"
   },
   {
    "duration": 465,
    "start_time": "2021-12-28T21:46:42.096Z"
   },
   {
    "duration": 428,
    "start_time": "2021-12-28T21:46:42.566Z"
   },
   {
    "duration": 506,
    "start_time": "2021-12-28T21:46:42.997Z"
   },
   {
    "duration": 527,
    "start_time": "2021-12-28T21:46:43.505Z"
   },
   {
    "duration": 8,
    "start_time": "2021-12-28T21:46:44.034Z"
   },
   {
    "duration": 26,
    "start_time": "2021-12-28T21:46:44.045Z"
   },
   {
    "duration": 11,
    "start_time": "2021-12-28T21:46:44.074Z"
   },
   {
    "duration": 28,
    "start_time": "2021-12-28T21:46:44.087Z"
   },
   {
    "duration": 58,
    "start_time": "2021-12-28T21:46:44.118Z"
   },
   {
    "duration": 8,
    "start_time": "2021-12-28T21:46:44.179Z"
   },
   {
    "duration": 12,
    "start_time": "2021-12-28T21:46:44.191Z"
   },
   {
    "duration": 1112,
    "start_time": "2021-12-28T23:09:53.152Z"
   },
   {
    "duration": 273,
    "start_time": "2021-12-28T23:10:19.638Z"
   },
   {
    "duration": 548,
    "start_time": "2021-12-28T23:10:31.776Z"
   },
   {
    "duration": 39,
    "start_time": "2021-12-28T23:10:32.327Z"
   },
   {
    "duration": 139,
    "start_time": "2021-12-28T23:10:32.370Z"
   },
   {
    "duration": 58,
    "start_time": "2021-12-28T23:10:32.512Z"
   },
   {
    "duration": 41,
    "start_time": "2021-12-28T23:10:32.573Z"
   },
   {
    "duration": 61,
    "start_time": "2021-12-28T23:10:32.617Z"
   },
   {
    "duration": 28,
    "start_time": "2021-12-28T23:10:32.680Z"
   },
   {
    "duration": 21,
    "start_time": "2021-12-28T23:10:32.710Z"
   },
   {
    "duration": 24,
    "start_time": "2021-12-28T23:10:32.767Z"
   },
   {
    "duration": 11,
    "start_time": "2021-12-28T23:10:32.793Z"
   },
   {
    "duration": 106,
    "start_time": "2021-12-28T23:10:32.807Z"
   },
   {
    "duration": 88,
    "start_time": "2021-12-28T23:10:32.915Z"
   },
   {
    "duration": 317,
    "start_time": "2021-12-28T23:10:48.251Z"
   },
   {
    "duration": 15,
    "start_time": "2021-12-28T23:10:57.390Z"
   },
   {
    "duration": 1105,
    "start_time": "2021-12-28T23:11:15.407Z"
   },
   {
    "duration": 746,
    "start_time": "2021-12-28T23:11:21.061Z"
   },
   {
    "duration": 55,
    "start_time": "2021-12-28T23:11:21.810Z"
   },
   {
    "duration": 250,
    "start_time": "2021-12-28T23:11:21.869Z"
   },
   {
    "duration": 57,
    "start_time": "2021-12-28T23:11:22.123Z"
   },
   {
    "duration": 40,
    "start_time": "2021-12-28T23:11:22.183Z"
   },
   {
    "duration": 60,
    "start_time": "2021-12-28T23:11:22.226Z"
   },
   {
    "duration": 28,
    "start_time": "2021-12-28T23:11:22.290Z"
   },
   {
    "duration": 54,
    "start_time": "2021-12-28T23:11:22.321Z"
   },
   {
    "duration": 23,
    "start_time": "2021-12-28T23:11:22.378Z"
   },
   {
    "duration": 11,
    "start_time": "2021-12-28T23:11:22.404Z"
   },
   {
    "duration": 116,
    "start_time": "2021-12-28T23:11:22.418Z"
   },
   {
    "duration": 90,
    "start_time": "2021-12-28T23:11:22.537Z"
   },
   {
    "duration": 15,
    "start_time": "2021-12-28T23:11:26.867Z"
   },
   {
    "duration": 282,
    "start_time": "2021-12-28T23:13:32.720Z"
   },
   {
    "duration": 557,
    "start_time": "2021-12-28T23:13:37.780Z"
   },
   {
    "duration": 39,
    "start_time": "2021-12-28T23:13:38.340Z"
   },
   {
    "duration": 143,
    "start_time": "2021-12-28T23:13:38.382Z"
   },
   {
    "duration": 47,
    "start_time": "2021-12-28T23:13:38.529Z"
   },
   {
    "duration": 40,
    "start_time": "2021-12-28T23:13:38.579Z"
   },
   {
    "duration": 65,
    "start_time": "2021-12-28T23:13:38.622Z"
   },
   {
    "duration": 38,
    "start_time": "2021-12-28T23:13:38.689Z"
   },
   {
    "duration": 51,
    "start_time": "2021-12-28T23:13:38.732Z"
   },
   {
    "duration": 23,
    "start_time": "2021-12-28T23:13:38.786Z"
   },
   {
    "duration": 11,
    "start_time": "2021-12-28T23:13:38.812Z"
   },
   {
    "duration": 113,
    "start_time": "2021-12-28T23:13:38.825Z"
   },
   {
    "duration": 93,
    "start_time": "2021-12-28T23:13:38.941Z"
   },
   {
    "duration": 30,
    "start_time": "2021-12-28T23:13:39.036Z"
   },
   {
    "duration": 39,
    "start_time": "2021-12-28T23:13:39.069Z"
   },
   {
    "duration": 56,
    "start_time": "2021-12-28T23:13:39.111Z"
   },
   {
    "duration": 49,
    "start_time": "2021-12-28T23:13:39.169Z"
   },
   {
    "duration": 14,
    "start_time": "2021-12-28T23:13:39.221Z"
   },
   {
    "duration": 37,
    "start_time": "2021-12-28T23:13:50.088Z"
   },
   {
    "duration": 37,
    "start_time": "2021-12-28T23:14:32.759Z"
   },
   {
    "duration": 36,
    "start_time": "2021-12-28T23:15:50.447Z"
   },
   {
    "duration": 38,
    "start_time": "2021-12-28T23:16:36.295Z"
   },
   {
    "duration": 263,
    "start_time": "2021-12-28T23:17:45.728Z"
   },
   {
    "duration": 35,
    "start_time": "2021-12-28T23:17:51.221Z"
   },
   {
    "duration": 35,
    "start_time": "2021-12-28T23:18:03.146Z"
   },
   {
    "duration": 1896,
    "start_time": "2021-12-30T03:06:30.971Z"
   },
   {
    "duration": 45,
    "start_time": "2021-12-30T03:06:32.870Z"
   },
   {
    "duration": 159,
    "start_time": "2021-12-30T03:06:32.918Z"
   },
   {
    "duration": 33,
    "start_time": "2021-12-30T03:06:33.081Z"
   },
   {
    "duration": 64,
    "start_time": "2021-12-30T03:06:33.117Z"
   },
   {
    "duration": 28,
    "start_time": "2021-12-30T03:06:33.184Z"
   },
   {
    "duration": 55,
    "start_time": "2021-12-30T03:06:33.214Z"
   },
   {
    "duration": 20,
    "start_time": "2021-12-30T03:06:33.271Z"
   },
   {
    "duration": 22,
    "start_time": "2021-12-30T03:06:33.296Z"
   },
   {
    "duration": 44,
    "start_time": "2021-12-30T03:06:33.321Z"
   },
   {
    "duration": 69,
    "start_time": "2021-12-30T03:06:33.367Z"
   },
   {
    "duration": 103,
    "start_time": "2021-12-30T03:06:33.438Z"
   },
   {
    "duration": 26,
    "start_time": "2021-12-30T03:06:33.543Z"
   },
   {
    "duration": 37,
    "start_time": "2021-12-30T03:06:33.572Z"
   },
   {
    "duration": 61,
    "start_time": "2021-12-30T03:06:33.612Z"
   },
   {
    "duration": 47,
    "start_time": "2021-12-30T03:06:33.675Z"
   },
   {
    "duration": 39,
    "start_time": "2021-12-30T03:06:33.724Z"
   },
   {
    "duration": 40,
    "start_time": "2021-12-30T03:06:33.765Z"
   },
   {
    "duration": 7,
    "start_time": "2021-12-30T03:06:33.807Z"
   },
   {
    "duration": 48,
    "start_time": "2021-12-30T03:06:33.816Z"
   },
   {
    "duration": 5,
    "start_time": "2021-12-30T03:06:33.867Z"
   },
   {
    "duration": 223,
    "start_time": "2021-12-30T03:06:33.874Z"
   },
   {
    "duration": 39,
    "start_time": "2021-12-30T03:06:34.099Z"
   },
   {
    "duration": 43,
    "start_time": "2021-12-30T03:06:34.141Z"
   },
   {
    "duration": 12,
    "start_time": "2021-12-30T03:06:34.186Z"
   },
   {
    "duration": 6,
    "start_time": "2021-12-30T03:06:34.200Z"
   },
   {
    "duration": 427,
    "start_time": "2021-12-30T03:06:34.211Z"
   },
   {
    "duration": 410,
    "start_time": "2021-12-30T03:06:34.641Z"
   },
   {
    "duration": 403,
    "start_time": "2021-12-30T03:06:35.060Z"
   },
   {
    "duration": 396,
    "start_time": "2021-12-30T03:06:35.466Z"
   },
   {
    "duration": 8,
    "start_time": "2021-12-30T03:06:35.864Z"
   },
   {
    "duration": 8,
    "start_time": "2021-12-30T03:06:35.875Z"
   },
   {
    "duration": 10,
    "start_time": "2021-12-30T03:06:35.886Z"
   },
   {
    "duration": 25,
    "start_time": "2021-12-30T03:06:35.899Z"
   },
   {
    "duration": 54,
    "start_time": "2021-12-30T03:06:35.926Z"
   },
   {
    "duration": 14,
    "start_time": "2021-12-30T03:06:35.983Z"
   },
   {
    "duration": 11,
    "start_time": "2021-12-30T03:06:36.000Z"
   },
   {
    "duration": 477,
    "start_time": "2021-12-30T03:11:27.645Z"
   },
   {
    "duration": 508,
    "start_time": "2021-12-30T03:11:33.035Z"
   },
   {
    "duration": 37,
    "start_time": "2021-12-30T03:11:33.546Z"
   },
   {
    "duration": 150,
    "start_time": "2021-12-30T03:11:33.586Z"
   },
   {
    "duration": 34,
    "start_time": "2021-12-30T03:11:33.739Z"
   },
   {
    "duration": 37,
    "start_time": "2021-12-30T03:11:33.776Z"
   },
   {
    "duration": 57,
    "start_time": "2021-12-30T03:11:33.815Z"
   },
   {
    "duration": 25,
    "start_time": "2021-12-30T03:11:33.874Z"
   },
   {
    "duration": 19,
    "start_time": "2021-12-30T03:11:33.901Z"
   },
   {
    "duration": 53,
    "start_time": "2021-12-30T03:11:33.924Z"
   },
   {
    "duration": 9,
    "start_time": "2021-12-30T03:11:33.980Z"
   },
   {
    "duration": 96,
    "start_time": "2021-12-30T03:11:33.992Z"
   },
   {
    "duration": 78,
    "start_time": "2021-12-30T03:11:34.091Z"
   },
   {
    "duration": 13,
    "start_time": "2021-12-30T03:11:34.172Z"
   },
   {
    "duration": 36,
    "start_time": "2021-12-30T03:11:34.187Z"
   },
   {
    "duration": 63,
    "start_time": "2021-12-30T03:11:34.225Z"
   },
   {
    "duration": 981,
    "start_time": "2021-12-30T03:11:35.214Z"
   },
   {
    "duration": 18,
    "start_time": "2021-12-30T03:12:00.976Z"
   },
   {
    "duration": 26,
    "start_time": "2021-12-30T03:12:28.349Z"
   },
   {
    "duration": 48,
    "start_time": "2021-12-30T03:12:41.326Z"
   },
   {
    "duration": 37,
    "start_time": "2021-12-30T03:13:36.074Z"
   },
   {
    "duration": 2427,
    "start_time": "2021-12-30T15:08:34.430Z"
   },
   {
    "duration": 45,
    "start_time": "2021-12-30T15:08:36.861Z"
   },
   {
    "duration": 174,
    "start_time": "2021-12-30T15:08:36.909Z"
   },
   {
    "duration": 35,
    "start_time": "2021-12-30T15:08:37.086Z"
   },
   {
    "duration": 429,
    "start_time": "2021-12-30T15:09:40.885Z"
   },
   {
    "duration": 70,
    "start_time": "2021-12-30T15:09:48.155Z"
   },
   {
    "duration": 105,
    "start_time": "2021-12-30T15:13:25.549Z"
   },
   {
    "duration": 114,
    "start_time": "2021-12-30T15:13:31.363Z"
   },
   {
    "duration": 88,
    "start_time": "2021-12-30T15:15:21.202Z"
   },
   {
    "duration": 391,
    "start_time": "2021-12-30T15:28:54.586Z"
   },
   {
    "duration": 427,
    "start_time": "2021-12-30T15:29:25.762Z"
   },
   {
    "duration": 453,
    "start_time": "2021-12-30T15:29:43.326Z"
   },
   {
    "duration": 124,
    "start_time": "2021-12-30T15:34:25.216Z"
   },
   {
    "duration": 206,
    "start_time": "2021-12-30T15:49:31.161Z"
   },
   {
    "duration": 190,
    "start_time": "2021-12-30T15:52:28.839Z"
   },
   {
    "duration": 173,
    "start_time": "2021-12-30T15:53:10.548Z"
   },
   {
    "duration": 407,
    "start_time": "2021-12-30T15:55:47.988Z"
   },
   {
    "duration": 442,
    "start_time": "2021-12-30T16:00:17.111Z"
   },
   {
    "duration": 508,
    "start_time": "2021-12-30T16:00:52.292Z"
   },
   {
    "duration": 414,
    "start_time": "2021-12-30T16:04:17.348Z"
   },
   {
    "duration": 157,
    "start_time": "2021-12-30T16:04:31.510Z"
   },
   {
    "duration": 202,
    "start_time": "2021-12-30T16:05:35.414Z"
   },
   {
    "duration": 143,
    "start_time": "2021-12-30T16:05:44.721Z"
   },
   {
    "duration": 137,
    "start_time": "2021-12-30T16:06:20.775Z"
   },
   {
    "duration": 545,
    "start_time": "2021-12-30T19:17:21.880Z"
   },
   {
    "duration": 43,
    "start_time": "2021-12-30T19:17:22.428Z"
   },
   {
    "duration": 145,
    "start_time": "2021-12-30T19:17:22.475Z"
   },
   {
    "duration": 161,
    "start_time": "2021-12-30T19:17:22.623Z"
   },
   {
    "duration": 41,
    "start_time": "2021-12-30T19:17:22.786Z"
   },
   {
    "duration": 53,
    "start_time": "2021-12-30T19:17:22.830Z"
   },
   {
    "duration": 29,
    "start_time": "2021-12-30T19:17:22.886Z"
   },
   {
    "duration": 59,
    "start_time": "2021-12-30T19:17:22.920Z"
   },
   {
    "duration": 24,
    "start_time": "2021-12-30T19:17:22.982Z"
   },
   {
    "duration": 13,
    "start_time": "2021-12-30T19:17:23.009Z"
   },
   {
    "duration": 107,
    "start_time": "2021-12-30T19:17:23.025Z"
   },
   {
    "duration": 91,
    "start_time": "2021-12-30T19:17:23.135Z"
   },
   {
    "duration": 41,
    "start_time": "2021-12-30T19:17:23.229Z"
   },
   {
    "duration": 41,
    "start_time": "2021-12-30T19:17:23.273Z"
   },
   {
    "duration": 60,
    "start_time": "2021-12-30T19:17:23.317Z"
   },
   {
    "duration": 19,
    "start_time": "2021-12-30T19:17:23.379Z"
   },
   {
    "duration": 40,
    "start_time": "2021-12-30T19:17:31.352Z"
   },
   {
    "duration": 7159,
    "start_time": "2021-12-30T19:23:55.293Z"
   },
   {
    "duration": 6,
    "start_time": "2021-12-30T19:24:45.751Z"
   },
   {
    "duration": 13,
    "start_time": "2021-12-30T19:24:52.304Z"
   },
   {
    "duration": 14,
    "start_time": "2021-12-30T19:25:18.812Z"
   },
   {
    "duration": 19,
    "start_time": "2021-12-30T19:25:44.856Z"
   },
   {
    "duration": 3843,
    "start_time": "2021-12-30T19:26:04.114Z"
   },
   {
    "duration": 3656,
    "start_time": "2021-12-30T19:26:49.284Z"
   },
   {
    "duration": 666,
    "start_time": "2021-12-30T19:27:08.692Z"
   },
   {
    "duration": 57,
    "start_time": "2021-12-30T19:27:09.362Z"
   },
   {
    "duration": 258,
    "start_time": "2021-12-30T19:27:09.423Z"
   },
   {
    "duration": 148,
    "start_time": "2021-12-30T19:27:09.685Z"
   },
   {
    "duration": 53,
    "start_time": "2021-12-30T19:27:09.835Z"
   },
   {
    "duration": 27,
    "start_time": "2021-12-30T19:27:09.891Z"
   },
   {
    "duration": 51,
    "start_time": "2021-12-30T19:27:09.920Z"
   },
   {
    "duration": 22,
    "start_time": "2021-12-30T19:27:09.975Z"
   },
   {
    "duration": 24,
    "start_time": "2021-12-30T19:27:10.000Z"
   },
   {
    "duration": 10,
    "start_time": "2021-12-30T19:27:10.064Z"
   },
   {
    "duration": 88,
    "start_time": "2021-12-30T19:27:10.077Z"
   },
   {
    "duration": 74,
    "start_time": "2021-12-30T19:27:10.168Z"
   },
   {
    "duration": 29,
    "start_time": "2021-12-30T19:27:10.244Z"
   },
   {
    "duration": 38,
    "start_time": "2021-12-30T19:27:10.275Z"
   },
   {
    "duration": 61,
    "start_time": "2021-12-30T19:27:10.315Z"
   },
   {
    "duration": 11,
    "start_time": "2021-12-30T19:27:10.379Z"
   },
   {
    "duration": 37,
    "start_time": "2021-12-30T19:27:10.392Z"
   },
   {
    "duration": 3798,
    "start_time": "2021-12-30T19:27:15.651Z"
   },
   {
    "duration": 4083,
    "start_time": "2021-12-30T19:27:38.454Z"
   },
   {
    "duration": 503,
    "start_time": "2021-12-30T19:27:45.675Z"
   },
   {
    "duration": 38,
    "start_time": "2021-12-30T19:27:46.181Z"
   },
   {
    "duration": 135,
    "start_time": "2021-12-30T19:27:46.222Z"
   },
   {
    "duration": 145,
    "start_time": "2021-12-30T19:27:46.360Z"
   },
   {
    "duration": 69,
    "start_time": "2021-12-30T19:27:46.508Z"
   },
   {
    "duration": 42,
    "start_time": "2021-12-30T19:27:46.580Z"
   },
   {
    "duration": 51,
    "start_time": "2021-12-30T19:27:46.624Z"
   },
   {
    "duration": 21,
    "start_time": "2021-12-30T19:27:46.680Z"
   },
   {
    "duration": 23,
    "start_time": "2021-12-30T19:27:46.705Z"
   },
   {
    "duration": 13,
    "start_time": "2021-12-30T19:27:46.764Z"
   },
   {
    "duration": 96,
    "start_time": "2021-12-30T19:27:46.780Z"
   },
   {
    "duration": 85,
    "start_time": "2021-12-30T19:27:46.879Z"
   },
   {
    "duration": 13,
    "start_time": "2021-12-30T19:27:46.967Z"
   },
   {
    "duration": 36,
    "start_time": "2021-12-30T19:27:46.983Z"
   },
   {
    "duration": 66,
    "start_time": "2021-12-30T19:27:47.022Z"
   },
   {
    "duration": 12,
    "start_time": "2021-12-30T19:27:47.090Z"
   },
   {
    "duration": 58,
    "start_time": "2021-12-30T19:27:47.104Z"
   },
   {
    "duration": 15,
    "start_time": "2021-12-30T19:27:48.838Z"
   },
   {
    "duration": 18,
    "start_time": "2021-12-30T19:28:09.164Z"
   },
   {
    "duration": 16,
    "start_time": "2021-12-30T19:28:56.562Z"
   },
   {
    "duration": 296,
    "start_time": "2021-12-30T19:29:19.999Z"
   },
   {
    "duration": 19,
    "start_time": "2021-12-30T19:29:24.818Z"
   },
   {
    "duration": 343,
    "start_time": "2021-12-30T19:31:12.423Z"
   },
   {
    "duration": 7,
    "start_time": "2021-12-30T19:31:26.987Z"
   },
   {
    "duration": 7,
    "start_time": "2021-12-30T19:32:04.584Z"
   },
   {
    "duration": 522,
    "start_time": "2021-12-30T19:32:20.601Z"
   },
   {
    "duration": 507,
    "start_time": "2021-12-30T19:32:26.094Z"
   },
   {
    "duration": 39,
    "start_time": "2021-12-30T19:32:26.603Z"
   },
   {
    "duration": 125,
    "start_time": "2021-12-30T19:32:26.644Z"
   },
   {
    "duration": 147,
    "start_time": "2021-12-30T19:32:26.772Z"
   },
   {
    "duration": 54,
    "start_time": "2021-12-30T19:32:26.921Z"
   },
   {
    "duration": 29,
    "start_time": "2021-12-30T19:32:26.977Z"
   },
   {
    "duration": 55,
    "start_time": "2021-12-30T19:32:27.008Z"
   },
   {
    "duration": 19,
    "start_time": "2021-12-30T19:32:27.066Z"
   },
   {
    "duration": 21,
    "start_time": "2021-12-30T19:32:27.088Z"
   },
   {
    "duration": 52,
    "start_time": "2021-12-30T19:32:27.111Z"
   },
   {
    "duration": 70,
    "start_time": "2021-12-30T19:32:27.166Z"
   },
   {
    "duration": 91,
    "start_time": "2021-12-30T19:32:27.238Z"
   },
   {
    "duration": 39,
    "start_time": "2021-12-30T19:32:27.331Z"
   },
   {
    "duration": 39,
    "start_time": "2021-12-30T19:32:27.372Z"
   },
   {
    "duration": 58,
    "start_time": "2021-12-30T19:32:27.413Z"
   },
   {
    "duration": 11,
    "start_time": "2021-12-30T19:32:27.474Z"
   },
   {
    "duration": 38,
    "start_time": "2021-12-30T19:32:27.488Z"
   },
   {
    "duration": 24,
    "start_time": "2021-12-30T19:32:29.099Z"
   },
   {
    "duration": 7520,
    "start_time": "2021-12-30T19:46:10.516Z"
   },
   {
    "duration": 521,
    "start_time": "2021-12-30T19:46:27.841Z"
   },
   {
    "duration": 38,
    "start_time": "2021-12-30T19:46:28.364Z"
   },
   {
    "duration": 150,
    "start_time": "2021-12-30T19:46:28.404Z"
   },
   {
    "duration": 149,
    "start_time": "2021-12-30T19:46:28.557Z"
   },
   {
    "duration": 55,
    "start_time": "2021-12-30T19:46:28.708Z"
   },
   {
    "duration": 29,
    "start_time": "2021-12-30T19:46:28.765Z"
   },
   {
    "duration": 25,
    "start_time": "2021-12-30T19:46:28.796Z"
   },
   {
    "duration": 52,
    "start_time": "2021-12-30T19:46:28.824Z"
   },
   {
    "duration": 22,
    "start_time": "2021-12-30T19:46:28.879Z"
   },
   {
    "duration": 10,
    "start_time": "2021-12-30T19:46:28.903Z"
   },
   {
    "duration": 69,
    "start_time": "2021-12-30T19:46:28.963Z"
   },
   {
    "duration": 95,
    "start_time": "2021-12-30T19:46:29.035Z"
   },
   {
    "duration": 13,
    "start_time": "2021-12-30T19:46:29.132Z"
   },
   {
    "duration": 66,
    "start_time": "2021-12-30T19:46:29.147Z"
   },
   {
    "duration": 70,
    "start_time": "2021-12-30T19:46:29.217Z"
   },
   {
    "duration": 15,
    "start_time": "2021-12-30T19:46:29.290Z"
   },
   {
    "duration": 62,
    "start_time": "2021-12-30T19:46:29.308Z"
   },
   {
    "duration": 33,
    "start_time": "2021-12-30T19:46:29.373Z"
   },
   {
    "duration": 3,
    "start_time": "2021-12-30T19:46:29.409Z"
   },
   {
    "duration": 7,
    "start_time": "2021-12-30T19:46:29.415Z"
   },
   {
    "duration": 8024,
    "start_time": "2021-12-30T19:46:35.939Z"
   },
   {
    "duration": 11,
    "start_time": "2021-12-30T19:46:47.804Z"
   },
   {
    "duration": 184,
    "start_time": "2021-12-30T19:47:16.671Z"
   },
   {
    "duration": 526,
    "start_time": "2021-12-30T19:47:39.622Z"
   },
   {
    "duration": 41,
    "start_time": "2021-12-30T19:47:40.151Z"
   },
   {
    "duration": 152,
    "start_time": "2021-12-30T19:47:40.195Z"
   },
   {
    "duration": 157,
    "start_time": "2021-12-30T19:47:40.350Z"
   },
   {
    "duration": 57,
    "start_time": "2021-12-30T19:47:40.509Z"
   },
   {
    "duration": 30,
    "start_time": "2021-12-30T19:47:40.568Z"
   },
   {
    "duration": 25,
    "start_time": "2021-12-30T19:47:40.601Z"
   },
   {
    "duration": 20,
    "start_time": "2021-12-30T19:47:40.662Z"
   },
   {
    "duration": 24,
    "start_time": "2021-12-30T19:47:40.685Z"
   },
   {
    "duration": 51,
    "start_time": "2021-12-30T19:47:40.712Z"
   },
   {
    "duration": 71,
    "start_time": "2021-12-30T19:47:40.767Z"
   },
   {
    "duration": 94,
    "start_time": "2021-12-30T19:47:40.841Z"
   },
   {
    "duration": 34,
    "start_time": "2021-12-30T19:47:40.938Z"
   },
   {
    "duration": 40,
    "start_time": "2021-12-30T19:47:40.975Z"
   },
   {
    "duration": 64,
    "start_time": "2021-12-30T19:47:41.018Z"
   },
   {
    "duration": 13,
    "start_time": "2021-12-30T19:47:41.085Z"
   },
   {
    "duration": 63,
    "start_time": "2021-12-30T19:47:41.100Z"
   },
   {
    "duration": 23,
    "start_time": "2021-12-30T19:47:41.165Z"
   },
   {
    "duration": 3,
    "start_time": "2021-12-30T19:47:41.190Z"
   },
   {
    "duration": 3,
    "start_time": "2021-12-30T19:47:41.196Z"
   },
   {
    "duration": 11,
    "start_time": "2021-12-30T19:47:41.202Z"
   },
   {
    "duration": 3,
    "start_time": "2021-12-30T19:47:41.216Z"
   },
   {
    "duration": 41,
    "start_time": "2021-12-30T19:47:41.223Z"
   },
   {
    "duration": 11,
    "start_time": "2021-12-30T19:47:41.267Z"
   },
   {
    "duration": 313,
    "start_time": "2021-12-30T19:47:44.642Z"
   },
   {
    "duration": 301,
    "start_time": "2021-12-30T19:48:55.824Z"
   },
   {
    "duration": 11,
    "start_time": "2021-12-30T19:49:15.680Z"
   },
   {
    "duration": 5,
    "start_time": "2021-12-30T19:51:56.540Z"
   },
   {
    "duration": 13,
    "start_time": "2021-12-30T19:52:22.582Z"
   },
   {
    "duration": 45,
    "start_time": "2021-12-30T19:52:29.194Z"
   },
   {
    "duration": 553,
    "start_time": "2021-12-30T19:52:38.819Z"
   },
   {
    "duration": 43,
    "start_time": "2021-12-30T19:52:39.375Z"
   },
   {
    "duration": 157,
    "start_time": "2021-12-30T19:52:39.422Z"
   },
   {
    "duration": 148,
    "start_time": "2021-12-30T19:52:39.582Z"
   },
   {
    "duration": 57,
    "start_time": "2021-12-30T19:52:39.732Z"
   },
   {
    "duration": 29,
    "start_time": "2021-12-30T19:52:39.792Z"
   },
   {
    "duration": 51,
    "start_time": "2021-12-30T19:52:39.823Z"
   },
   {
    "duration": 20,
    "start_time": "2021-12-30T19:52:39.878Z"
   },
   {
    "duration": 24,
    "start_time": "2021-12-30T19:52:39.902Z"
   },
   {
    "duration": 43,
    "start_time": "2021-12-30T19:52:39.929Z"
   },
   {
    "duration": 89,
    "start_time": "2021-12-30T19:52:39.975Z"
   },
   {
    "duration": 81,
    "start_time": "2021-12-30T19:52:40.067Z"
   },
   {
    "duration": 17,
    "start_time": "2021-12-30T19:52:40.164Z"
   },
   {
    "duration": 40,
    "start_time": "2021-12-30T19:52:40.183Z"
   },
   {
    "duration": 68,
    "start_time": "2021-12-30T19:52:40.225Z"
   },
   {
    "duration": 12,
    "start_time": "2021-12-30T19:52:40.296Z"
   },
   {
    "duration": 68,
    "start_time": "2021-12-30T19:52:40.311Z"
   },
   {
    "duration": 24,
    "start_time": "2021-12-30T19:52:40.382Z"
   },
   {
    "duration": 3,
    "start_time": "2021-12-30T19:52:40.409Z"
   },
   {
    "duration": 8,
    "start_time": "2021-12-30T19:52:40.415Z"
   },
   {
    "duration": 45,
    "start_time": "2021-12-30T19:52:40.425Z"
   },
   {
    "duration": 3,
    "start_time": "2021-12-30T19:52:40.472Z"
   },
   {
    "duration": 3,
    "start_time": "2021-12-30T19:52:40.480Z"
   },
   {
    "duration": 5,
    "start_time": "2021-12-30T19:52:40.486Z"
   },
   {
    "duration": 24,
    "start_time": "2021-12-30T19:52:57.086Z"
   },
   {
    "duration": 261,
    "start_time": "2021-12-30T19:58:58.962Z"
   },
   {
    "duration": 271,
    "start_time": "2021-12-30T19:59:04.029Z"
   },
   {
    "duration": 283,
    "start_time": "2021-12-30T19:59:13.030Z"
   },
   {
    "duration": 42,
    "start_time": "2021-12-30T19:59:26.302Z"
   },
   {
    "duration": 528,
    "start_time": "2021-12-30T19:59:39.633Z"
   },
   {
    "duration": 41,
    "start_time": "2021-12-30T19:59:40.164Z"
   },
   {
    "duration": 156,
    "start_time": "2021-12-30T19:59:40.208Z"
   },
   {
    "duration": 151,
    "start_time": "2021-12-30T19:59:40.367Z"
   },
   {
    "duration": 56,
    "start_time": "2021-12-30T19:59:40.520Z"
   },
   {
    "duration": 29,
    "start_time": "2021-12-30T19:59:40.579Z"
   },
   {
    "duration": 54,
    "start_time": "2021-12-30T19:59:40.610Z"
   },
   {
    "duration": 20,
    "start_time": "2021-12-30T19:59:40.667Z"
   },
   {
    "duration": 22,
    "start_time": "2021-12-30T19:59:40.690Z"
   },
   {
    "duration": 54,
    "start_time": "2021-12-30T19:59:40.714Z"
   },
   {
    "duration": 73,
    "start_time": "2021-12-30T19:59:40.771Z"
   },
   {
    "duration": 74,
    "start_time": "2021-12-30T19:59:40.863Z"
   },
   {
    "duration": 34,
    "start_time": "2021-12-30T19:59:40.940Z"
   },
   {
    "duration": 37,
    "start_time": "2021-12-30T19:59:40.977Z"
   },
   {
    "duration": 60,
    "start_time": "2021-12-30T19:59:41.017Z"
   },
   {
    "duration": 11,
    "start_time": "2021-12-30T19:59:41.079Z"
   },
   {
    "duration": 41,
    "start_time": "2021-12-30T19:59:41.093Z"
   },
   {
    "duration": 50,
    "start_time": "2021-12-30T19:59:41.137Z"
   },
   {
    "duration": 4,
    "start_time": "2021-12-30T19:59:41.189Z"
   },
   {
    "duration": 6,
    "start_time": "2021-12-30T19:59:41.195Z"
   },
   {
    "duration": 12,
    "start_time": "2021-12-30T19:59:41.204Z"
   },
   {
    "duration": 3,
    "start_time": "2021-12-30T19:59:41.219Z"
   },
   {
    "duration": 4,
    "start_time": "2021-12-30T19:59:41.262Z"
   },
   {
    "duration": 5,
    "start_time": "2021-12-30T19:59:41.269Z"
   },
   {
    "duration": 29,
    "start_time": "2021-12-30T19:59:41.276Z"
   },
   {
    "duration": 21,
    "start_time": "2021-12-30T20:00:12.447Z"
   },
   {
    "duration": 23,
    "start_time": "2021-12-30T20:00:16.680Z"
   },
   {
    "duration": 36,
    "start_time": "2021-12-30T20:00:22.549Z"
   },
   {
    "duration": 348,
    "start_time": "2021-12-30T20:00:50.336Z"
   },
   {
    "duration": 739,
    "start_time": "2021-12-30T20:00:55.363Z"
   },
   {
    "duration": 60,
    "start_time": "2021-12-30T20:00:56.105Z"
   },
   {
    "duration": 249,
    "start_time": "2021-12-30T20:00:56.169Z"
   },
   {
    "duration": 211,
    "start_time": "2021-12-30T20:00:56.422Z"
   },
   {
    "duration": 55,
    "start_time": "2021-12-30T20:00:56.636Z"
   },
   {
    "duration": 30,
    "start_time": "2021-12-30T20:00:56.694Z"
   },
   {
    "duration": 54,
    "start_time": "2021-12-30T20:00:56.726Z"
   },
   {
    "duration": 19,
    "start_time": "2021-12-30T20:00:56.784Z"
   },
   {
    "duration": 22,
    "start_time": "2021-12-30T20:00:56.806Z"
   },
   {
    "duration": 11,
    "start_time": "2021-12-30T20:00:56.864Z"
   },
   {
    "duration": 99,
    "start_time": "2021-12-30T20:00:56.877Z"
   },
   {
    "duration": 85,
    "start_time": "2021-12-30T20:00:56.979Z"
   },
   {
    "duration": 15,
    "start_time": "2021-12-30T20:00:57.067Z"
   },
   {
    "duration": 38,
    "start_time": "2021-12-30T20:00:57.085Z"
   },
   {
    "duration": 66,
    "start_time": "2021-12-30T20:00:57.126Z"
   },
   {
    "duration": 12,
    "start_time": "2021-12-30T20:00:57.194Z"
   },
   {
    "duration": 55,
    "start_time": "2021-12-30T20:00:57.208Z"
   },
   {
    "duration": 46,
    "start_time": "2021-12-30T20:01:02.268Z"
   },
   {
    "duration": 29,
    "start_time": "2021-12-30T20:01:27.507Z"
   },
   {
    "duration": 39,
    "start_time": "2021-12-30T20:01:36.515Z"
   },
   {
    "duration": 44,
    "start_time": "2021-12-30T20:02:11.844Z"
   },
   {
    "duration": 42,
    "start_time": "2021-12-30T20:02:27.703Z"
   },
   {
    "duration": 59,
    "start_time": "2021-12-30T20:02:41.054Z"
   },
   {
    "duration": 534,
    "start_time": "2021-12-30T20:02:48.038Z"
   },
   {
    "duration": 44,
    "start_time": "2021-12-30T20:02:48.575Z"
   },
   {
    "duration": 156,
    "start_time": "2021-12-30T20:02:48.623Z"
   },
   {
    "duration": 152,
    "start_time": "2021-12-30T20:02:48.782Z"
   },
   {
    "duration": 55,
    "start_time": "2021-12-30T20:02:48.936Z"
   },
   {
    "duration": 27,
    "start_time": "2021-12-30T20:02:48.993Z"
   },
   {
    "duration": 52,
    "start_time": "2021-12-30T20:02:49.023Z"
   },
   {
    "duration": 19,
    "start_time": "2021-12-30T20:02:49.079Z"
   },
   {
    "duration": 22,
    "start_time": "2021-12-30T20:02:49.101Z"
   },
   {
    "duration": 10,
    "start_time": "2021-12-30T20:02:49.163Z"
   },
   {
    "duration": 90,
    "start_time": "2021-12-30T20:02:49.176Z"
   },
   {
    "duration": 75,
    "start_time": "2021-12-30T20:02:49.269Z"
   },
   {
    "duration": 15,
    "start_time": "2021-12-30T20:02:49.363Z"
   },
   {
    "duration": 40,
    "start_time": "2021-12-30T20:02:49.380Z"
   },
   {
    "duration": 63,
    "start_time": "2021-12-30T20:02:49.423Z"
   },
   {
    "duration": 12,
    "start_time": "2021-12-30T20:02:49.488Z"
   },
   {
    "duration": 61,
    "start_time": "2021-12-30T20:02:49.502Z"
   },
   {
    "duration": 47,
    "start_time": "2021-12-30T20:02:49.565Z"
   },
   {
    "duration": 4,
    "start_time": "2021-12-30T20:02:49.614Z"
   },
   {
    "duration": 8,
    "start_time": "2021-12-30T20:02:49.620Z"
   },
   {
    "duration": 55,
    "start_time": "2021-12-30T20:02:49.630Z"
   },
   {
    "duration": 6,
    "start_time": "2021-12-30T20:02:49.688Z"
   },
   {
    "duration": 3,
    "start_time": "2021-12-30T20:02:49.698Z"
   },
   {
    "duration": 6,
    "start_time": "2021-12-30T20:02:49.703Z"
   },
   {
    "duration": 30,
    "start_time": "2021-12-30T20:02:52.807Z"
   },
   {
    "duration": 496,
    "start_time": "2021-12-30T20:03:15.199Z"
   },
   {
    "duration": 40,
    "start_time": "2021-12-30T20:03:15.698Z"
   },
   {
    "duration": 254,
    "start_time": "2021-12-30T20:03:15.742Z"
   },
   {
    "duration": 208,
    "start_time": "2021-12-30T20:03:16.000Z"
   },
   {
    "duration": 68,
    "start_time": "2021-12-30T20:03:16.211Z"
   },
   {
    "duration": 41,
    "start_time": "2021-12-30T20:03:16.282Z"
   },
   {
    "duration": 59,
    "start_time": "2021-12-30T20:03:16.326Z"
   },
   {
    "duration": 25,
    "start_time": "2021-12-30T20:03:16.391Z"
   },
   {
    "duration": 50,
    "start_time": "2021-12-30T20:03:16.419Z"
   },
   {
    "duration": 10,
    "start_time": "2021-12-30T20:03:16.472Z"
   },
   {
    "duration": 105,
    "start_time": "2021-12-30T20:03:16.485Z"
   },
   {
    "duration": 82,
    "start_time": "2021-12-30T20:03:16.593Z"
   },
   {
    "duration": 15,
    "start_time": "2021-12-30T20:03:16.678Z"
   },
   {
    "duration": 38,
    "start_time": "2021-12-30T20:03:16.696Z"
   },
   {
    "duration": 59,
    "start_time": "2021-12-30T20:03:16.736Z"
   },
   {
    "duration": 11,
    "start_time": "2021-12-30T20:03:16.797Z"
   },
   {
    "duration": 61,
    "start_time": "2021-12-30T20:03:16.810Z"
   },
   {
    "duration": 43,
    "start_time": "2021-12-30T20:03:16.873Z"
   },
   {
    "duration": 3,
    "start_time": "2021-12-30T20:03:16.919Z"
   },
   {
    "duration": 6,
    "start_time": "2021-12-30T20:03:16.925Z"
   },
   {
    "duration": 45,
    "start_time": "2021-12-30T20:03:16.965Z"
   },
   {
    "duration": 3,
    "start_time": "2021-12-30T20:03:17.013Z"
   },
   {
    "duration": 4,
    "start_time": "2021-12-30T20:03:17.023Z"
   },
   {
    "duration": 3,
    "start_time": "2021-12-30T20:03:17.062Z"
   },
   {
    "duration": 32,
    "start_time": "2021-12-30T20:03:18.329Z"
   },
   {
    "duration": 283,
    "start_time": "2021-12-30T20:03:33.017Z"
   },
   {
    "duration": 97,
    "start_time": "2021-12-30T20:05:00.057Z"
   },
   {
    "duration": 97,
    "start_time": "2021-12-30T20:05:07.648Z"
   },
   {
    "duration": 70,
    "start_time": "2021-12-30T20:06:31.843Z"
   },
   {
    "duration": 41,
    "start_time": "2021-12-30T20:07:14.964Z"
   },
   {
    "duration": 24,
    "start_time": "2021-12-30T20:21:14.037Z"
   },
   {
    "duration": 577,
    "start_time": "2021-12-30T20:23:56.167Z"
   },
   {
    "duration": 461,
    "start_time": "2021-12-30T20:24:22.732Z"
   },
   {
    "duration": 17,
    "start_time": "2021-12-30T20:25:59.658Z"
   },
   {
    "duration": 299,
    "start_time": "2021-12-30T20:29:00.936Z"
   },
   {
    "duration": 688,
    "start_time": "2021-12-30T20:29:11.355Z"
   },
   {
    "duration": 407,
    "start_time": "2021-12-30T20:29:32.243Z"
   },
   {
    "duration": 649,
    "start_time": "2021-12-30T20:34:35.730Z"
   },
   {
    "duration": 12,
    "start_time": "2021-12-30T20:41:20.276Z"
   },
   {
    "duration": 421,
    "start_time": "2021-12-30T20:42:18.828Z"
   },
   {
    "duration": 512,
    "start_time": "2021-12-30T20:47:42.730Z"
   },
   {
    "duration": 100,
    "start_time": "2021-12-30T20:51:16.626Z"
   },
   {
    "duration": 16,
    "start_time": "2021-12-30T20:51:33.097Z"
   },
   {
    "duration": 12,
    "start_time": "2021-12-30T20:51:54.327Z"
   },
   {
    "duration": 571,
    "start_time": "2021-12-30T20:52:23.136Z"
   },
   {
    "duration": 45,
    "start_time": "2021-12-30T20:52:23.710Z"
   },
   {
    "duration": 150,
    "start_time": "2021-12-30T20:52:23.760Z"
   },
   {
    "duration": 177,
    "start_time": "2021-12-30T20:52:23.913Z"
   },
   {
    "duration": 43,
    "start_time": "2021-12-30T20:52:24.093Z"
   },
   {
    "duration": 58,
    "start_time": "2021-12-30T20:52:24.138Z"
   },
   {
    "duration": 30,
    "start_time": "2021-12-30T20:52:24.199Z"
   },
   {
    "duration": 56,
    "start_time": "2021-12-30T20:52:24.235Z"
   },
   {
    "duration": 23,
    "start_time": "2021-12-30T20:52:24.295Z"
   },
   {
    "duration": 12,
    "start_time": "2021-12-30T20:52:24.322Z"
   },
   {
    "duration": 75,
    "start_time": "2021-12-30T20:52:24.368Z"
   },
   {
    "duration": 92,
    "start_time": "2021-12-30T20:52:24.446Z"
   },
   {
    "duration": 49,
    "start_time": "2021-12-30T20:52:24.541Z"
   },
   {
    "duration": 41,
    "start_time": "2021-12-30T20:52:24.593Z"
   },
   {
    "duration": 63,
    "start_time": "2021-12-30T20:52:24.636Z"
   },
   {
    "duration": 11,
    "start_time": "2021-12-30T20:52:24.702Z"
   },
   {
    "duration": 50,
    "start_time": "2021-12-30T20:52:24.716Z"
   },
   {
    "duration": 48,
    "start_time": "2021-12-30T20:52:24.769Z"
   },
   {
    "duration": 3,
    "start_time": "2021-12-30T20:52:24.820Z"
   },
   {
    "duration": 44,
    "start_time": "2021-12-30T20:52:24.826Z"
   },
   {
    "duration": 32,
    "start_time": "2021-12-30T20:52:24.878Z"
   },
   {
    "duration": 4,
    "start_time": "2021-12-30T20:52:24.913Z"
   },
   {
    "duration": 3,
    "start_time": "2021-12-30T20:52:24.922Z"
   },
   {
    "duration": 50,
    "start_time": "2021-12-30T20:52:24.929Z"
   },
   {
    "duration": 14,
    "start_time": "2021-12-30T20:52:24.982Z"
   },
   {
    "duration": 301,
    "start_time": "2021-12-30T20:52:24.998Z"
   },
   {
    "duration": 30,
    "start_time": "2021-12-30T20:52:25.302Z"
   },
   {
    "duration": 29,
    "start_time": "2021-12-30T20:52:25.334Z"
   },
   {
    "duration": 10,
    "start_time": "2021-12-30T20:52:25.367Z"
   },
   {
    "duration": 12,
    "start_time": "2021-12-30T20:53:08.310Z"
   },
   {
    "duration": 441,
    "start_time": "2021-12-30T20:53:10.236Z"
   },
   {
    "duration": 493,
    "start_time": "2021-12-30T20:53:13.559Z"
   },
   {
    "duration": 546,
    "start_time": "2021-12-30T20:53:23.362Z"
   },
   {
    "duration": 435,
    "start_time": "2021-12-30T20:53:26.055Z"
   },
   {
    "duration": 14,
    "start_time": "2021-12-30T20:58:10.451Z"
   },
   {
    "duration": 14,
    "start_time": "2021-12-30T20:59:41.212Z"
   },
   {
    "duration": 659,
    "start_time": "2021-12-30T21:00:14.283Z"
   },
   {
    "duration": 40,
    "start_time": "2021-12-30T21:00:14.944Z"
   },
   {
    "duration": 148,
    "start_time": "2021-12-30T21:00:14.988Z"
   },
   {
    "duration": 201,
    "start_time": "2021-12-30T21:00:15.139Z"
   },
   {
    "duration": 73,
    "start_time": "2021-12-30T21:00:15.343Z"
   },
   {
    "duration": 64,
    "start_time": "2021-12-30T21:00:15.419Z"
   },
   {
    "duration": 41,
    "start_time": "2021-12-30T21:00:15.486Z"
   },
   {
    "duration": 53,
    "start_time": "2021-12-30T21:00:15.530Z"
   },
   {
    "duration": 33,
    "start_time": "2021-12-30T21:00:15.590Z"
   },
   {
    "duration": 42,
    "start_time": "2021-12-30T21:00:15.628Z"
   },
   {
    "duration": 90,
    "start_time": "2021-12-30T21:00:15.672Z"
   },
   {
    "duration": 97,
    "start_time": "2021-12-30T21:00:15.766Z"
   },
   {
    "duration": 19,
    "start_time": "2021-12-30T21:00:15.866Z"
   },
   {
    "duration": 45,
    "start_time": "2021-12-30T21:00:15.888Z"
   },
   {
    "duration": 62,
    "start_time": "2021-12-30T21:00:15.936Z"
   },
   {
    "duration": 12,
    "start_time": "2021-12-30T21:00:16.001Z"
   },
   {
    "duration": 71,
    "start_time": "2021-12-30T21:00:16.016Z"
   },
   {
    "duration": 45,
    "start_time": "2021-12-30T21:00:16.089Z"
   },
   {
    "duration": 28,
    "start_time": "2021-12-30T21:00:16.137Z"
   },
   {
    "duration": 8,
    "start_time": "2021-12-30T21:00:16.168Z"
   },
   {
    "duration": 40,
    "start_time": "2021-12-30T21:00:16.179Z"
   },
   {
    "duration": 13,
    "start_time": "2021-12-30T21:00:16.222Z"
   },
   {
    "duration": 10,
    "start_time": "2021-12-30T21:00:16.238Z"
   },
   {
    "duration": 15,
    "start_time": "2021-12-30T21:00:16.251Z"
   },
   {
    "duration": 33,
    "start_time": "2021-12-30T21:00:16.268Z"
   },
   {
    "duration": 278,
    "start_time": "2021-12-30T21:00:16.303Z"
   },
   {
    "duration": 27,
    "start_time": "2021-12-30T21:00:16.586Z"
   },
   {
    "duration": 3,
    "start_time": "2021-12-30T21:00:16.616Z"
   },
   {
    "duration": 33,
    "start_time": "2021-12-30T21:00:16.622Z"
   },
   {
    "duration": 21,
    "start_time": "2021-12-30T21:00:16.658Z"
   },
   {
    "duration": 465,
    "start_time": "2021-12-30T21:00:16.681Z"
   },
   {
    "duration": 440,
    "start_time": "2021-12-30T21:00:17.149Z"
   },
   {
    "duration": 627,
    "start_time": "2021-12-30T21:00:17.592Z"
   },
   {
    "duration": 655,
    "start_time": "2021-12-30T21:00:18.222Z"
   },
   {
    "duration": 288,
    "start_time": "2021-12-30T21:04:36.508Z"
   },
   {
    "duration": 511,
    "start_time": "2021-12-30T21:04:51.794Z"
   },
   {
    "duration": 43,
    "start_time": "2021-12-30T21:04:52.308Z"
   },
   {
    "duration": 133,
    "start_time": "2021-12-30T21:04:52.355Z"
   },
   {
    "duration": 160,
    "start_time": "2021-12-30T21:04:52.491Z"
   },
   {
    "duration": 47,
    "start_time": "2021-12-30T21:04:52.653Z"
   },
   {
    "duration": 30,
    "start_time": "2021-12-30T21:04:52.702Z"
   },
   {
    "duration": 45,
    "start_time": "2021-12-30T21:04:52.734Z"
   },
   {
    "duration": 18,
    "start_time": "2021-12-30T21:04:52.783Z"
   },
   {
    "duration": 60,
    "start_time": "2021-12-30T21:04:52.804Z"
   },
   {
    "duration": 10,
    "start_time": "2021-12-30T21:04:52.866Z"
   },
   {
    "duration": 93,
    "start_time": "2021-12-30T21:04:52.879Z"
   },
   {
    "duration": 67,
    "start_time": "2021-12-30T21:04:52.974Z"
   },
   {
    "duration": 32,
    "start_time": "2021-12-30T21:04:53.043Z"
   },
   {
    "duration": 39,
    "start_time": "2021-12-30T21:04:53.077Z"
   },
   {
    "duration": 53,
    "start_time": "2021-12-30T21:04:53.118Z"
   },
   {
    "duration": 11,
    "start_time": "2021-12-30T21:04:53.173Z"
   },
   {
    "duration": 37,
    "start_time": "2021-12-30T21:04:53.187Z"
   },
   {
    "duration": 69,
    "start_time": "2021-12-30T21:04:53.227Z"
   },
   {
    "duration": 4,
    "start_time": "2021-12-30T21:04:53.298Z"
   },
   {
    "duration": 11,
    "start_time": "2021-12-30T21:04:53.304Z"
   },
   {
    "duration": 34,
    "start_time": "2021-12-30T21:04:57.962Z"
   },
   {
    "duration": 552,
    "start_time": "2021-12-30T21:05:23.673Z"
   },
   {
    "duration": 42,
    "start_time": "2021-12-30T21:05:24.228Z"
   },
   {
    "duration": 133,
    "start_time": "2021-12-30T21:05:24.273Z"
   },
   {
    "duration": 159,
    "start_time": "2021-12-30T21:05:24.409Z"
   },
   {
    "duration": 37,
    "start_time": "2021-12-30T21:05:24.571Z"
   },
   {
    "duration": 56,
    "start_time": "2021-12-30T21:05:24.611Z"
   },
   {
    "duration": 25,
    "start_time": "2021-12-30T21:05:24.670Z"
   },
   {
    "duration": 21,
    "start_time": "2021-12-30T21:05:24.698Z"
   },
   {
    "duration": 61,
    "start_time": "2021-12-30T21:05:24.724Z"
   },
   {
    "duration": 10,
    "start_time": "2021-12-30T21:05:24.788Z"
   },
   {
    "duration": 107,
    "start_time": "2021-12-30T21:05:24.800Z"
   },
   {
    "duration": 79,
    "start_time": "2021-12-30T21:05:24.909Z"
   },
   {
    "duration": 15,
    "start_time": "2021-12-30T21:05:24.991Z"
   },
   {
    "duration": 75,
    "start_time": "2021-12-30T21:05:25.009Z"
   },
   {
    "duration": 49,
    "start_time": "2021-12-30T21:05:25.087Z"
   },
   {
    "duration": 32,
    "start_time": "2021-12-30T21:05:25.138Z"
   },
   {
    "duration": 55,
    "start_time": "2021-12-30T21:05:25.172Z"
   },
   {
    "duration": 89,
    "start_time": "2021-12-30T21:05:25.230Z"
   },
   {
    "duration": 5,
    "start_time": "2021-12-30T21:05:25.322Z"
   },
   {
    "duration": 33,
    "start_time": "2021-12-30T21:05:25.330Z"
   },
   {
    "duration": 33,
    "start_time": "2021-12-30T21:05:25.366Z"
   },
   {
    "duration": 3,
    "start_time": "2021-12-30T21:05:25.401Z"
   },
   {
    "duration": 4,
    "start_time": "2021-12-30T21:05:25.411Z"
   },
   {
    "duration": 6,
    "start_time": "2021-12-30T21:05:25.418Z"
   },
   {
    "duration": 44,
    "start_time": "2021-12-30T21:05:25.426Z"
   },
   {
    "duration": 298,
    "start_time": "2021-12-30T21:05:25.473Z"
   },
   {
    "duration": 28,
    "start_time": "2021-12-30T21:05:25.774Z"
   },
   {
    "duration": 3,
    "start_time": "2021-12-30T21:05:25.805Z"
   },
   {
    "duration": 11,
    "start_time": "2021-12-30T21:05:25.811Z"
   },
   {
    "duration": 45,
    "start_time": "2021-12-30T21:05:25.824Z"
   },
   {
    "duration": 426,
    "start_time": "2021-12-30T21:05:25.872Z"
   },
   {
    "duration": 422,
    "start_time": "2021-12-30T21:05:26.300Z"
   },
   {
    "duration": 442,
    "start_time": "2021-12-30T21:05:26.725Z"
   },
   {
    "duration": 503,
    "start_time": "2021-12-30T21:05:27.170Z"
   },
   {
    "duration": 14,
    "start_time": "2021-12-30T21:05:27.676Z"
   },
   {
    "duration": 127,
    "start_time": "2021-12-30T21:05:27.692Z"
   },
   {
    "duration": 11,
    "start_time": "2021-12-30T21:05:32.185Z"
   },
   {
    "duration": 15,
    "start_time": "2021-12-30T21:05:35.510Z"
   },
   {
    "duration": 26,
    "start_time": "2021-12-30T21:05:47.998Z"
   },
   {
    "duration": 6,
    "start_time": "2021-12-30T21:06:09.849Z"
   },
   {
    "duration": 54,
    "start_time": "2021-12-30T21:11:23.257Z"
   },
   {
    "duration": 344,
    "start_time": "2021-12-30T21:11:51.411Z"
   },
   {
    "duration": 22,
    "start_time": "2021-12-30T21:12:52.853Z"
   },
   {
    "duration": 15,
    "start_time": "2021-12-30T21:13:20.215Z"
   },
   {
    "duration": 15,
    "start_time": "2021-12-30T21:13:51.616Z"
   },
   {
    "duration": 16,
    "start_time": "2021-12-30T21:14:21.692Z"
   },
   {
    "duration": 10,
    "start_time": "2021-12-30T21:14:43.853Z"
   },
   {
    "duration": 24,
    "start_time": "2021-12-30T21:14:45.165Z"
   },
   {
    "duration": 6,
    "start_time": "2021-12-30T21:14:46.105Z"
   },
   {
    "duration": 13,
    "start_time": "2021-12-30T21:14:59.520Z"
   },
   {
    "duration": 8,
    "start_time": "2021-12-30T21:16:01.700Z"
   },
   {
    "duration": 7,
    "start_time": "2021-12-30T21:20:57.872Z"
   },
   {
    "duration": 15,
    "start_time": "2021-12-30T21:30:44.461Z"
   },
   {
    "duration": 109,
    "start_time": "2021-12-30T21:31:35.368Z"
   },
   {
    "duration": 13,
    "start_time": "2021-12-30T21:31:42.455Z"
   },
   {
    "duration": 17,
    "start_time": "2021-12-30T21:31:54.281Z"
   },
   {
    "duration": 1467,
    "start_time": "2021-12-31T16:33:59.639Z"
   },
   {
    "duration": 31,
    "start_time": "2021-12-31T16:34:01.108Z"
   },
   {
    "duration": 94,
    "start_time": "2021-12-31T16:34:01.140Z"
   },
   {
    "duration": 105,
    "start_time": "2021-12-31T16:34:01.236Z"
   },
   {
    "duration": 26,
    "start_time": "2021-12-31T16:34:01.343Z"
   },
   {
    "duration": 22,
    "start_time": "2021-12-31T16:34:01.370Z"
   },
   {
    "duration": 18,
    "start_time": "2021-12-31T16:34:01.394Z"
   },
   {
    "duration": 34,
    "start_time": "2021-12-31T16:34:01.414Z"
   },
   {
    "duration": 19,
    "start_time": "2021-12-31T16:34:01.450Z"
   },
   {
    "duration": 9,
    "start_time": "2021-12-31T16:34:01.471Z"
   },
   {
    "duration": 71,
    "start_time": "2021-12-31T16:34:01.481Z"
   },
   {
    "duration": 63,
    "start_time": "2021-12-31T16:34:01.554Z"
   },
   {
    "duration": 9,
    "start_time": "2021-12-31T16:34:01.619Z"
   },
   {
    "duration": 30,
    "start_time": "2021-12-31T16:34:01.641Z"
   },
   {
    "duration": 24,
    "start_time": "2021-12-31T16:34:01.672Z"
   },
   {
    "duration": 7,
    "start_time": "2021-12-31T16:34:01.697Z"
   },
   {
    "duration": 46,
    "start_time": "2021-12-31T16:34:01.706Z"
   },
   {
    "duration": 25,
    "start_time": "2021-12-31T16:34:01.753Z"
   },
   {
    "duration": 2,
    "start_time": "2021-12-31T16:34:01.780Z"
   },
   {
    "duration": 12,
    "start_time": "2021-12-31T16:34:01.784Z"
   },
   {
    "duration": 21,
    "start_time": "2021-12-31T16:34:01.798Z"
   },
   {
    "duration": 20,
    "start_time": "2021-12-31T16:34:01.821Z"
   },
   {
    "duration": 6,
    "start_time": "2021-12-31T16:34:01.844Z"
   },
   {
    "duration": 9,
    "start_time": "2021-12-31T16:34:01.852Z"
   },
   {
    "duration": 21,
    "start_time": "2021-12-31T16:34:08.658Z"
   },
   {
    "duration": 195,
    "start_time": "2021-12-31T16:37:28.803Z"
   },
   {
    "duration": 386,
    "start_time": "2021-12-31T16:37:34.613Z"
   },
   {
    "duration": 30,
    "start_time": "2021-12-31T16:37:35.001Z"
   },
   {
    "duration": 94,
    "start_time": "2021-12-31T16:37:35.033Z"
   },
   {
    "duration": 96,
    "start_time": "2021-12-31T16:37:35.129Z"
   },
   {
    "duration": 28,
    "start_time": "2021-12-31T16:37:35.241Z"
   },
   {
    "duration": 21,
    "start_time": "2021-12-31T16:37:35.271Z"
   },
   {
    "duration": 21,
    "start_time": "2021-12-31T16:37:35.294Z"
   },
   {
    "duration": 36,
    "start_time": "2021-12-31T16:37:35.317Z"
   },
   {
    "duration": 15,
    "start_time": "2021-12-31T16:37:35.355Z"
   },
   {
    "duration": 7,
    "start_time": "2021-12-31T16:37:35.372Z"
   },
   {
    "duration": 81,
    "start_time": "2021-12-31T16:37:35.380Z"
   },
   {
    "duration": 56,
    "start_time": "2021-12-31T16:37:35.463Z"
   },
   {
    "duration": 21,
    "start_time": "2021-12-31T16:37:35.521Z"
   },
   {
    "duration": 30,
    "start_time": "2021-12-31T16:37:35.543Z"
   },
   {
    "duration": 25,
    "start_time": "2021-12-31T16:37:35.574Z"
   },
   {
    "duration": 8,
    "start_time": "2021-12-31T16:37:35.600Z"
   },
   {
    "duration": 50,
    "start_time": "2021-12-31T16:37:35.609Z"
   },
   {
    "duration": 27,
    "start_time": "2021-12-31T16:37:35.660Z"
   },
   {
    "duration": 2,
    "start_time": "2021-12-31T16:37:35.688Z"
   },
   {
    "duration": 25,
    "start_time": "2021-12-31T16:37:35.692Z"
   },
   {
    "duration": 23,
    "start_time": "2021-12-31T16:37:35.719Z"
   },
   {
    "duration": 2,
    "start_time": "2021-12-31T16:37:35.744Z"
   },
   {
    "duration": 7,
    "start_time": "2021-12-31T16:37:35.748Z"
   },
   {
    "duration": 4,
    "start_time": "2021-12-31T16:37:35.757Z"
   },
   {
    "duration": 22,
    "start_time": "2021-12-31T16:37:35.763Z"
   },
   {
    "duration": 214,
    "start_time": "2021-12-31T16:37:35.786Z"
   },
   {
    "duration": 17,
    "start_time": "2021-12-31T16:37:36.001Z"
   },
   {
    "duration": 2,
    "start_time": "2021-12-31T16:37:36.019Z"
   },
   {
    "duration": 19,
    "start_time": "2021-12-31T16:37:36.022Z"
   },
   {
    "duration": 10,
    "start_time": "2021-12-31T16:37:36.043Z"
   },
   {
    "duration": 233,
    "start_time": "2021-12-31T16:37:36.055Z"
   },
   {
    "duration": 233,
    "start_time": "2021-12-31T16:37:36.290Z"
   },
   {
    "duration": 236,
    "start_time": "2021-12-31T16:37:36.524Z"
   },
   {
    "duration": 230,
    "start_time": "2021-12-31T16:37:36.762Z"
   },
   {
    "duration": 9,
    "start_time": "2021-12-31T16:37:36.994Z"
   },
   {
    "duration": 11,
    "start_time": "2021-12-31T16:37:37.004Z"
   },
   {
    "duration": 25,
    "start_time": "2021-12-31T16:37:37.016Z"
   },
   {
    "duration": 14,
    "start_time": "2021-12-31T16:37:37.043Z"
   },
   {
    "duration": 7,
    "start_time": "2021-12-31T16:37:37.058Z"
   },
   {
    "duration": 6,
    "start_time": "2021-12-31T16:37:37.066Z"
   },
   {
    "duration": 85,
    "start_time": "2021-12-31T16:47:10.306Z"
   },
   {
    "duration": 303,
    "start_time": "2021-12-31T16:47:20.556Z"
   },
   {
    "duration": 8,
    "start_time": "2021-12-31T16:47:30.495Z"
   },
   {
    "duration": 12,
    "start_time": "2021-12-31T16:47:45.137Z"
   },
   {
    "duration": -30231,
    "start_time": "2021-12-31T16:48:34.026Z"
   },
   {
    "duration": 6016,
    "start_time": "2021-12-31T16:48:09.935Z"
   },
   {
    "duration": 6120,
    "start_time": "2021-12-31T16:49:01.928Z"
   },
   {
    "duration": 18,
    "start_time": "2021-12-31T16:49:23.757Z"
   },
   {
    "duration": 6366,
    "start_time": "2021-12-31T16:50:03.414Z"
   },
   {
    "duration": 6240,
    "start_time": "2021-12-31T16:54:47.686Z"
   },
   {
    "duration": 15,
    "start_time": "2021-12-31T16:55:02.404Z"
   },
   {
    "duration": 76,
    "start_time": "2021-12-31T16:55:46.646Z"
   },
   {
    "duration": 17,
    "start_time": "2021-12-31T16:55:52.205Z"
   },
   {
    "duration": 1385,
    "start_time": "2022-01-02T09:24:06.502Z"
   },
   {
    "duration": 27,
    "start_time": "2022-01-02T09:24:07.889Z"
   },
   {
    "duration": 87,
    "start_time": "2022-01-02T09:24:07.918Z"
   },
   {
    "duration": 95,
    "start_time": "2022-01-02T09:24:08.007Z"
   },
   {
    "duration": 50,
    "start_time": "2022-01-02T09:24:08.103Z"
   },
   {
    "duration": 19,
    "start_time": "2022-01-02T09:24:08.154Z"
   },
   {
    "duration": 70,
    "start_time": "2022-01-02T09:24:08.174Z"
   },
   {
    "duration": 12,
    "start_time": "2022-01-02T09:24:08.246Z"
   },
   {
    "duration": 13,
    "start_time": "2022-01-02T09:24:08.259Z"
   },
   {
    "duration": 6,
    "start_time": "2022-01-02T09:24:08.273Z"
   },
   {
    "duration": 100,
    "start_time": "2022-01-02T09:24:08.281Z"
   },
   {
    "duration": 159,
    "start_time": "2022-01-02T09:24:08.383Z"
   },
   {
    "duration": 9,
    "start_time": "2022-01-02T09:24:08.544Z"
   },
   {
    "duration": 44,
    "start_time": "2022-01-02T09:24:08.554Z"
   },
   {
    "duration": 43,
    "start_time": "2022-01-02T09:24:08.600Z"
   },
   {
    "duration": 7,
    "start_time": "2022-01-02T09:24:08.645Z"
   },
   {
    "duration": 34,
    "start_time": "2022-01-02T09:24:08.653Z"
   },
   {
    "duration": 29,
    "start_time": "2022-01-02T09:24:08.688Z"
   },
   {
    "duration": 3,
    "start_time": "2022-01-02T09:24:08.719Z"
   },
   {
    "duration": 37,
    "start_time": "2022-01-02T09:24:08.723Z"
   },
   {
    "duration": 44,
    "start_time": "2022-01-02T09:24:08.762Z"
   },
   {
    "duration": 7,
    "start_time": "2022-01-02T09:24:08.808Z"
   },
   {
    "duration": 26,
    "start_time": "2022-01-02T09:24:08.817Z"
   },
   {
    "duration": 24,
    "start_time": "2022-01-02T09:24:08.845Z"
   },
   {
    "duration": 34,
    "start_time": "2022-01-02T09:24:08.871Z"
   },
   {
    "duration": 206,
    "start_time": "2022-01-02T09:24:08.906Z"
   },
   {
    "duration": 17,
    "start_time": "2022-01-02T09:24:09.113Z"
   },
   {
    "duration": 10,
    "start_time": "2022-01-02T09:24:09.131Z"
   },
   {
    "duration": 6,
    "start_time": "2022-01-02T09:24:09.142Z"
   },
   {
    "duration": 20,
    "start_time": "2022-01-02T09:24:09.149Z"
   },
   {
    "duration": 234,
    "start_time": "2022-01-02T09:24:09.170Z"
   },
   {
    "duration": 229,
    "start_time": "2022-01-02T09:24:09.406Z"
   },
   {
    "duration": 229,
    "start_time": "2022-01-02T09:24:09.637Z"
   },
   {
    "duration": 226,
    "start_time": "2022-01-02T09:24:09.868Z"
   },
   {
    "duration": 9,
    "start_time": "2022-01-02T09:24:10.095Z"
   },
   {
    "duration": 23,
    "start_time": "2022-01-02T09:24:10.105Z"
   },
   {
    "duration": 11,
    "start_time": "2022-01-02T09:24:10.130Z"
   },
   {
    "duration": 13,
    "start_time": "2022-01-02T09:24:10.142Z"
   },
   {
    "duration": 4,
    "start_time": "2022-01-02T09:24:10.156Z"
   },
   {
    "duration": 5,
    "start_time": "2022-01-02T09:24:10.161Z"
   },
   {
    "duration": 5,
    "start_time": "2022-01-02T09:25:55.692Z"
   },
   {
    "duration": 300,
    "start_time": "2022-01-02T09:26:04.509Z"
   },
   {
    "duration": 8,
    "start_time": "2022-01-02T09:26:49.713Z"
   },
   {
    "duration": 14,
    "start_time": "2022-01-02T09:29:01.727Z"
   },
   {
    "duration": 32,
    "start_time": "2022-01-02T09:30:23.527Z"
   },
   {
    "duration": 57,
    "start_time": "2022-01-02T09:31:01.763Z"
   }
  ],
  "kernelspec": {
   "display_name": "Python 3",
   "language": "python",
   "name": "python3"
  },
  "language_info": {
   "codemirror_mode": {
    "name": "ipython",
    "version": 3
   },
   "file_extension": ".py",
   "mimetype": "text/x-python",
   "name": "python",
   "nbconvert_exporter": "python",
   "pygments_lexer": "ipython3",
   "version": "3.6.2"
  },
  "toc": {
   "base_numbering": 1,
   "nav_menu": {},
   "number_sections": true,
   "sideBar": true,
   "skip_h1_title": true,
   "title_cell": "Table of Contents",
   "title_sidebar": "Contents",
   "toc_cell": false,
   "toc_position": {
    "height": "calc(100% - 180px)",
    "left": "10px",
    "top": "150px",
    "width": "292px"
   },
   "toc_section_display": true,
   "toc_window_display": true
  }
 },
 "nbformat": 4,
 "nbformat_minor": 2
}
