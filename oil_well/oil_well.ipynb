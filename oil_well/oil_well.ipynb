{
 "cells": [
  {
   "cell_type": "markdown",
   "metadata": {},
   "source": [
    "# Выбор локации для скважины"
   ]
  },
  {
   "cell_type": "markdown",
   "metadata": {},
   "source": [
    "В задании предоставлены пробы нефти в трёх регионах: в каждом 10 000 месторождений, где измерили качество нефти и объём её запасов. Постройте модель машинного обучения, которая поможет определить регион, где добыча принесёт наибольшую прибыль. Проанализируйте возможную прибыль и риски техникой *Bootstrap.*\n",
    "\n",
    "Шаги для выбора локации:\n",
    "\n",
    "- В избранном регионе ищут месторождения, для каждого определяют значения признаков;\n",
    "- Строят модель и оценивают объём запасов;\n",
    "- Выбирают месторождения с самым высокими оценками значений. Количество месторождений зависит от бюджета компании и стоимости разработки одной скважины;\n",
    "- Прибыль равна суммарной прибыли отобранных месторождений."
   ]
  },
  {
   "cell_type": "markdown",
   "metadata": {},
   "source": [
    "## Загрузка и подготовка данных"
   ]
  },
  {
   "cell_type": "markdown",
   "metadata": {},
   "source": [
    "### Подключим необходимые нам модули"
   ]
  },
  {
   "cell_type": "code",
   "execution_count": 6,
   "metadata": {},
   "outputs": [],
   "source": [
    "import pandas as pd\n",
    "import matplotlib.pyplot as plt\n",
    "import numpy as np\n",
    "from sklearn.linear_model import LinearRegression\n",
    "from sklearn.model_selection import train_test_split\n",
    "from sklearn.metrics import mean_squared_error, r2_score\n",
    "from scipy import stats as st\n",
    "# import pandas_profiling"
   ]
  },
  {
   "cell_type": "markdown",
   "metadata": {},
   "source": [
    "### Загрузим датасеты"
   ]
  },
  {
   "cell_type": "code",
   "execution_count": 7,
   "metadata": {},
   "outputs": [],
   "source": [
    "df1 = pd.read_csv('/datasets/geo_data_0.csv')\n",
    "df2 = pd.read_csv('/datasets/geo_data_1.csv')\n",
    "df3 = pd.read_csv('/datasets/geo_data_2.csv')"
   ]
  },
  {
   "cell_type": "markdown",
   "metadata": {},
   "source": [
    "### Проверим качество датасетов"
   ]
  },
  {
   "cell_type": "code",
   "execution_count": 8,
   "metadata": {
    "scrolled": true
   },
   "outputs": [
    {
     "name": "stdout",
     "output_type": "stream",
     "text": [
      "<class 'pandas.core.frame.DataFrame'>\n",
      "RangeIndex: 100000 entries, 0 to 99999\n",
      "Data columns (total 5 columns):\n",
      " #   Column   Non-Null Count   Dtype  \n",
      "---  ------   --------------   -----  \n",
      " 0   id       100000 non-null  object \n",
      " 1   f0       100000 non-null  float64\n",
      " 2   f1       100000 non-null  float64\n",
      " 3   f2       100000 non-null  float64\n",
      " 4   product  100000 non-null  float64\n",
      "dtypes: float64(4), object(1)\n",
      "memory usage: 3.8+ MB\n",
      "\n",
      "<class 'pandas.core.frame.DataFrame'>\n",
      "RangeIndex: 100000 entries, 0 to 99999\n",
      "Data columns (total 5 columns):\n",
      " #   Column   Non-Null Count   Dtype  \n",
      "---  ------   --------------   -----  \n",
      " 0   id       100000 non-null  object \n",
      " 1   f0       100000 non-null  float64\n",
      " 2   f1       100000 non-null  float64\n",
      " 3   f2       100000 non-null  float64\n",
      " 4   product  100000 non-null  float64\n",
      "dtypes: float64(4), object(1)\n",
      "memory usage: 3.8+ MB\n",
      "\n",
      "<class 'pandas.core.frame.DataFrame'>\n",
      "RangeIndex: 100000 entries, 0 to 99999\n",
      "Data columns (total 5 columns):\n",
      " #   Column   Non-Null Count   Dtype  \n",
      "---  ------   --------------   -----  \n",
      " 0   id       100000 non-null  object \n",
      " 1   f0       100000 non-null  float64\n",
      " 2   f1       100000 non-null  float64\n",
      " 3   f2       100000 non-null  float64\n",
      " 4   product  100000 non-null  float64\n",
      "dtypes: float64(4), object(1)\n",
      "memory usage: 3.8+ MB\n",
      "\n",
      "Дубликаты df1 =  0\n",
      "Дубликаты df2 =  0\n",
      "Дубликаты df3 =  0\n",
      "\n"
     ]
    },
    {
     "data": {
      "text/html": [
       "<div>\n",
       "<style scoped>\n",
       "    .dataframe tbody tr th:only-of-type {\n",
       "        vertical-align: middle;\n",
       "    }\n",
       "\n",
       "    .dataframe tbody tr th {\n",
       "        vertical-align: top;\n",
       "    }\n",
       "\n",
       "    .dataframe thead th {\n",
       "        text-align: right;\n",
       "    }\n",
       "</style>\n",
       "<table border=\"1\" class=\"dataframe\">\n",
       "  <thead>\n",
       "    <tr style=\"text-align: right;\">\n",
       "      <th></th>\n",
       "      <th>f0</th>\n",
       "      <th>f1</th>\n",
       "      <th>f2</th>\n",
       "      <th>product</th>\n",
       "    </tr>\n",
       "  </thead>\n",
       "  <tbody>\n",
       "    <tr>\n",
       "      <th>count</th>\n",
       "      <td>100000.000000</td>\n",
       "      <td>100000.000000</td>\n",
       "      <td>100000.000000</td>\n",
       "      <td>100000.000000</td>\n",
       "    </tr>\n",
       "    <tr>\n",
       "      <th>mean</th>\n",
       "      <td>0.500419</td>\n",
       "      <td>0.250143</td>\n",
       "      <td>2.502647</td>\n",
       "      <td>92.500000</td>\n",
       "    </tr>\n",
       "    <tr>\n",
       "      <th>std</th>\n",
       "      <td>0.871832</td>\n",
       "      <td>0.504433</td>\n",
       "      <td>3.248248</td>\n",
       "      <td>44.288691</td>\n",
       "    </tr>\n",
       "    <tr>\n",
       "      <th>min</th>\n",
       "      <td>-1.408605</td>\n",
       "      <td>-0.848218</td>\n",
       "      <td>-12.088328</td>\n",
       "      <td>0.000000</td>\n",
       "    </tr>\n",
       "    <tr>\n",
       "      <th>25%</th>\n",
       "      <td>-0.072580</td>\n",
       "      <td>-0.200881</td>\n",
       "      <td>0.287748</td>\n",
       "      <td>56.497507</td>\n",
       "    </tr>\n",
       "    <tr>\n",
       "      <th>50%</th>\n",
       "      <td>0.502360</td>\n",
       "      <td>0.250252</td>\n",
       "      <td>2.515969</td>\n",
       "      <td>91.849972</td>\n",
       "    </tr>\n",
       "    <tr>\n",
       "      <th>75%</th>\n",
       "      <td>1.073581</td>\n",
       "      <td>0.700646</td>\n",
       "      <td>4.715088</td>\n",
       "      <td>128.564089</td>\n",
       "    </tr>\n",
       "    <tr>\n",
       "      <th>max</th>\n",
       "      <td>2.362331</td>\n",
       "      <td>1.343769</td>\n",
       "      <td>16.003790</td>\n",
       "      <td>185.364347</td>\n",
       "    </tr>\n",
       "  </tbody>\n",
       "</table>\n",
       "</div>"
      ],
      "text/plain": [
       "                  f0             f1             f2        product\n",
       "count  100000.000000  100000.000000  100000.000000  100000.000000\n",
       "mean        0.500419       0.250143       2.502647      92.500000\n",
       "std         0.871832       0.504433       3.248248      44.288691\n",
       "min        -1.408605      -0.848218     -12.088328       0.000000\n",
       "25%        -0.072580      -0.200881       0.287748      56.497507\n",
       "50%         0.502360       0.250252       2.515969      91.849972\n",
       "75%         1.073581       0.700646       4.715088     128.564089\n",
       "max         2.362331       1.343769      16.003790     185.364347"
      ]
     },
     "metadata": {},
     "output_type": "display_data"
    },
    {
     "data": {
      "text/html": [
       "<div>\n",
       "<style scoped>\n",
       "    .dataframe tbody tr th:only-of-type {\n",
       "        vertical-align: middle;\n",
       "    }\n",
       "\n",
       "    .dataframe tbody tr th {\n",
       "        vertical-align: top;\n",
       "    }\n",
       "\n",
       "    .dataframe thead th {\n",
       "        text-align: right;\n",
       "    }\n",
       "</style>\n",
       "<table border=\"1\" class=\"dataframe\">\n",
       "  <thead>\n",
       "    <tr style=\"text-align: right;\">\n",
       "      <th></th>\n",
       "      <th>f0</th>\n",
       "      <th>f1</th>\n",
       "      <th>f2</th>\n",
       "      <th>product</th>\n",
       "    </tr>\n",
       "  </thead>\n",
       "  <tbody>\n",
       "    <tr>\n",
       "      <th>count</th>\n",
       "      <td>100000.000000</td>\n",
       "      <td>100000.000000</td>\n",
       "      <td>100000.000000</td>\n",
       "      <td>100000.000000</td>\n",
       "    </tr>\n",
       "    <tr>\n",
       "      <th>mean</th>\n",
       "      <td>1.141296</td>\n",
       "      <td>-4.796579</td>\n",
       "      <td>2.494541</td>\n",
       "      <td>68.825000</td>\n",
       "    </tr>\n",
       "    <tr>\n",
       "      <th>std</th>\n",
       "      <td>8.965932</td>\n",
       "      <td>5.119872</td>\n",
       "      <td>1.703572</td>\n",
       "      <td>45.944423</td>\n",
       "    </tr>\n",
       "    <tr>\n",
       "      <th>min</th>\n",
       "      <td>-31.609576</td>\n",
       "      <td>-26.358598</td>\n",
       "      <td>-0.018144</td>\n",
       "      <td>0.000000</td>\n",
       "    </tr>\n",
       "    <tr>\n",
       "      <th>25%</th>\n",
       "      <td>-6.298551</td>\n",
       "      <td>-8.267985</td>\n",
       "      <td>1.000021</td>\n",
       "      <td>26.953261</td>\n",
       "    </tr>\n",
       "    <tr>\n",
       "      <th>50%</th>\n",
       "      <td>1.153055</td>\n",
       "      <td>-4.813172</td>\n",
       "      <td>2.011479</td>\n",
       "      <td>57.085625</td>\n",
       "    </tr>\n",
       "    <tr>\n",
       "      <th>75%</th>\n",
       "      <td>8.621015</td>\n",
       "      <td>-1.332816</td>\n",
       "      <td>3.999904</td>\n",
       "      <td>107.813044</td>\n",
       "    </tr>\n",
       "    <tr>\n",
       "      <th>max</th>\n",
       "      <td>29.421755</td>\n",
       "      <td>18.734063</td>\n",
       "      <td>5.019721</td>\n",
       "      <td>137.945408</td>\n",
       "    </tr>\n",
       "  </tbody>\n",
       "</table>\n",
       "</div>"
      ],
      "text/plain": [
       "                  f0             f1             f2        product\n",
       "count  100000.000000  100000.000000  100000.000000  100000.000000\n",
       "mean        1.141296      -4.796579       2.494541      68.825000\n",
       "std         8.965932       5.119872       1.703572      45.944423\n",
       "min       -31.609576     -26.358598      -0.018144       0.000000\n",
       "25%        -6.298551      -8.267985       1.000021      26.953261\n",
       "50%         1.153055      -4.813172       2.011479      57.085625\n",
       "75%         8.621015      -1.332816       3.999904     107.813044\n",
       "max        29.421755      18.734063       5.019721     137.945408"
      ]
     },
     "metadata": {},
     "output_type": "display_data"
    },
    {
     "data": {
      "text/html": [
       "<div>\n",
       "<style scoped>\n",
       "    .dataframe tbody tr th:only-of-type {\n",
       "        vertical-align: middle;\n",
       "    }\n",
       "\n",
       "    .dataframe tbody tr th {\n",
       "        vertical-align: top;\n",
       "    }\n",
       "\n",
       "    .dataframe thead th {\n",
       "        text-align: right;\n",
       "    }\n",
       "</style>\n",
       "<table border=\"1\" class=\"dataframe\">\n",
       "  <thead>\n",
       "    <tr style=\"text-align: right;\">\n",
       "      <th></th>\n",
       "      <th>f0</th>\n",
       "      <th>f1</th>\n",
       "      <th>f2</th>\n",
       "      <th>product</th>\n",
       "    </tr>\n",
       "  </thead>\n",
       "  <tbody>\n",
       "    <tr>\n",
       "      <th>count</th>\n",
       "      <td>100000.000000</td>\n",
       "      <td>100000.000000</td>\n",
       "      <td>100000.000000</td>\n",
       "      <td>100000.000000</td>\n",
       "    </tr>\n",
       "    <tr>\n",
       "      <th>mean</th>\n",
       "      <td>0.002023</td>\n",
       "      <td>-0.002081</td>\n",
       "      <td>2.495128</td>\n",
       "      <td>95.000000</td>\n",
       "    </tr>\n",
       "    <tr>\n",
       "      <th>std</th>\n",
       "      <td>1.732045</td>\n",
       "      <td>1.730417</td>\n",
       "      <td>3.473445</td>\n",
       "      <td>44.749921</td>\n",
       "    </tr>\n",
       "    <tr>\n",
       "      <th>min</th>\n",
       "      <td>-8.760004</td>\n",
       "      <td>-7.084020</td>\n",
       "      <td>-11.970335</td>\n",
       "      <td>0.000000</td>\n",
       "    </tr>\n",
       "    <tr>\n",
       "      <th>25%</th>\n",
       "      <td>-1.162288</td>\n",
       "      <td>-1.174820</td>\n",
       "      <td>0.130359</td>\n",
       "      <td>59.450441</td>\n",
       "    </tr>\n",
       "    <tr>\n",
       "      <th>50%</th>\n",
       "      <td>0.009424</td>\n",
       "      <td>-0.009482</td>\n",
       "      <td>2.484236</td>\n",
       "      <td>94.925613</td>\n",
       "    </tr>\n",
       "    <tr>\n",
       "      <th>75%</th>\n",
       "      <td>1.158535</td>\n",
       "      <td>1.163678</td>\n",
       "      <td>4.858794</td>\n",
       "      <td>130.595027</td>\n",
       "    </tr>\n",
       "    <tr>\n",
       "      <th>max</th>\n",
       "      <td>7.238262</td>\n",
       "      <td>7.844801</td>\n",
       "      <td>16.739402</td>\n",
       "      <td>190.029838</td>\n",
       "    </tr>\n",
       "  </tbody>\n",
       "</table>\n",
       "</div>"
      ],
      "text/plain": [
       "                  f0             f1             f2        product\n",
       "count  100000.000000  100000.000000  100000.000000  100000.000000\n",
       "mean        0.002023      -0.002081       2.495128      95.000000\n",
       "std         1.732045       1.730417       3.473445      44.749921\n",
       "min        -8.760004      -7.084020     -11.970335       0.000000\n",
       "25%        -1.162288      -1.174820       0.130359      59.450441\n",
       "50%         0.009424      -0.009482       2.484236      94.925613\n",
       "75%         1.158535       1.163678       4.858794     130.595027\n",
       "max         7.238262       7.844801      16.739402     190.029838"
      ]
     },
     "metadata": {},
     "output_type": "display_data"
    },
    {
     "name": "stdout",
     "output_type": "stream",
     "text": [
      "\n"
     ]
    },
    {
     "data": {
      "image/png": "[encoded data removed]",
      "text/plain": [
       "<Figure size 432x288 with 1 Axes>"
      ]
     },
     "metadata": {
      "needs_background": "light"
     },
     "output_type": "display_data"
    },
    {
     "data": {
      "image/png": "[encoded data removed]",
      "text/plain": [
       "<Figure size 432x288 with 1 Axes>"
      ]
     },
     "metadata": {
      "needs_background": "light"
     },
     "output_type": "display_data"
    },
    {
     "data": {
      "image/png": "[encoded data removed]",
      "text/plain": [
       "<Figure size 432x288 with 1 Axes>"
      ]
     },
     "metadata": {
      "needs_background": "light"
     },
     "output_type": "display_data"
    }
   ],
   "source": [
    "df1.info()\n",
    "print()\n",
    "df2.info()\n",
    "print()\n",
    "df3.info()\n",
    "print()\n",
    "print('Дубликаты df1 = ', df1.duplicated().sum())\n",
    "print('Дубликаты df2 = ', df2.duplicated().sum())\n",
    "print('Дубликаты df3 = ', df3.duplicated().sum())\n",
    "print()\n",
    "display(df1.describe())\n",
    "display(df2.describe())\n",
    "display(df3.describe())\n",
    "print()\n",
    "df1['product'].hist(grid=False, bins=50, rwidth=.8)\n",
    "plt.show()\n",
    "df2['product'].hist(grid=False, bins=50, rwidth=.8)\n",
    "plt.show()\n",
    "df3['product'].hist(grid=False, bins=50, rwidth=.8)\n",
    "plt.show()"
   ]
  },
  {
   "cell_type": "markdown",
   "metadata": {},
   "source": [
    "### Вывод: Пропусков нет, явных дубликатов нет, распределение целевых признаков в регионах сильно отличаются (для каждого региона необходима своя модель)."
   ]
  },
  {
   "cell_type": "markdown",
   "metadata": {},
   "source": [
    "### Разделим данные на признаки и целевой признак"
   ]
  },
  {
   "cell_type": "code",
   "execution_count": null,
   "metadata": {},
   "outputs": [],
   "source": [
    "# В данных нам не интересен 'id' скважины\n",
    "X_1 = df1.drop(['product', 'id'], axis=1)\n",
    "X_2 = df2.drop(['product', 'id'], axis=1)\n",
    "X_3 = df3.drop(['product', 'id'], axis=1)\n",
    "\n",
    "y_1 = df1['product']\n",
    "y_2 = df2['product']\n",
    "y_3 = df3['product']"
   ]
  },
  {
   "cell_type": "markdown",
   "metadata": {},
   "source": [
    "### Вывод: данные загружены, проверены и подготовлены. Пропусков и дубликатов нет, вбросов тоже не отмечается"
   ]
  },
  {
   "cell_type": "markdown",
   "metadata": {},
   "source": [
    "## Обучение и проверка модели"
   ]
  },
  {
   "cell_type": "markdown",
   "metadata": {},
   "source": [
    "### Разделим все 3 датасета на тренировочную и валидационные выборки с отношением 75/25. Проверим что получилось."
   ]
  },
  {
   "cell_type": "code",
   "execution_count": null,
   "metadata": {},
   "outputs": [],
   "source": [
    "X_1_train, X_1_valid, y_1_train, y_1_valid = train_test_split(X_1, y_1, test_size=.25, random_state=0)\n",
    "X_2_train, X_2_valid, y_2_train, y_2_valid = train_test_split(X_2, y_2, test_size=.25, random_state=0)\n",
    "X_3_train, X_3_valid, y_3_train, y_3_valid = train_test_split(X_3, y_3, test_size=.25, random_state=0)\n",
    "\n",
    "print(len(X_1_train))\n",
    "print(len(X_2_train))\n",
    "print(len(X_3_train))"
   ]
  },
  {
   "cell_type": "markdown",
   "metadata": {},
   "source": [
    "### Для обучения используем модель - линейную регрессию так как предстоит работать с непрерывным значением в целевом признаке - объемом сырья."
   ]
  },
  {
   "cell_type": "code",
   "execution_count": null,
   "metadata": {},
   "outputs": [],
   "source": [
    "# для каждого региона будет своя модель\n",
    "model_1 = LinearRegression()\n",
    "model_2 = LinearRegression()\n",
    "model_3 = LinearRegression()\n",
    "\n",
    "# обучим все 3 модели\n",
    "model_1.fit(X_1_train, y_1_train)\n",
    "model_2.fit(X_2_train, y_2_train)\n",
    "model_3.fit(X_3_train, y_3_train)\n",
    "\n",
    "# на валидационных признаках предскажем объемы сырья для каждого региона\n",
    "predict_1 = model_1.predict(X_1_valid)\n",
    "predict_2 = model_2.predict(X_2_valid)\n",
    "predict_3 = model_3.predict(X_3_valid)\n",
    "\n",
    "print()\n",
    "print('Средний запас в регионе 1 = {}, RMSE = {}'.format(predict_1.mean(), mean_squared_error(y_1_valid, predict_1)**.5))\n",
    "print('Средний запас в регионе 2 = {}, RMSE = {}'.format(predict_2.mean(), mean_squared_error(y_2_valid, predict_2)**.5))\n",
    "print('Средний запас в регионе 3 = {}, RMSE = {}'.format(predict_3.mean(), mean_squared_error(y_3_valid, predict_3)**.5))"
   ]
  },
  {
   "cell_type": "markdown",
   "metadata": {},
   "source": [
    "### Вывод: Наибольший средний запас сырья в 1 и в 3 регионах, но при этом там низкое качество модели. Средний запас сылья во 2-м регионе ниже, но качество модели лучше и больше шансов \"угадать\" лучшие скважины"
   ]
  },
  {
   "cell_type": "markdown",
   "metadata": {},
   "source": [
    "## Подготовка к расчёту прибыли"
   ]
  },
  {
   "cell_type": "markdown",
   "metadata": {},
   "source": [
    "### Сохраним основные необходимые для расчета прибыли значения в переменных"
   ]
  },
  {
   "cell_type": "code",
   "execution_count": null,
   "metadata": {},
   "outputs": [],
   "source": [
    "# бюджет 10 млрд руб\n",
    "BUDGET = 10**10\n",
    "\n",
    "#  цена одного барреля сырья 450 руб\n",
    "COST_ONE_BARREL = 450\n",
    "\n",
    "# бюджет для одной скважины при условии что мы будем бурить 200\n",
    "BUDGET_ONE_WELL = BUDGET / 200\n",
    "\n",
    "# объем сырья в тысячах баррелей, необходимый для компенсации затрат на бурения 1 скважины\n",
    "VOLUME_RAW_FOR_ONE_WELL = BUDGET_ONE_WELL / (COST_ONE_BARREL * 1000)\n",
    "\n",
    "print('Объем сырья в тысячах баррелей, для окупаемости затрат на одну скважину = ', VOLUME_RAW_FOR_ONE_WELL)"
   ]
  },
  {
   "cell_type": "markdown",
   "metadata": {},
   "source": [
    "### Т.о. для того, чтобы скважина опукилась, необходимо исходить из предполагаемого объема в 111 тыс баррелей. В анализируемых 3-х регионах средний запас ниже этого значения (поэтому наугад бурить будет нерентабельно). Необоходима выборка 200 скважин, которые своим совокупным объемом перекроют затраты на их организацию. "
   ]
  },
  {
   "cell_type": "markdown",
   "metadata": {},
   "source": [
    "### Формула, для подсчета совокупной прибыли заданного количества \"топовых\" скважин из выборки"
   ]
  },
  {
   "cell_type": "code",
   "execution_count": null,
   "metadata": {},
   "outputs": [],
   "source": [
    "def revenue(valid, predict, count):\n",
    "    predict_sort = predict.sort_values(ascending=False)\n",
    "    selected = valid.iloc[predict_sort.index][:count]\n",
    "    return COST_ONE_BARREL * 1000 * selected.sum() - BUDGET"
   ]
  },
  {
   "cell_type": "markdown",
   "metadata": {},
   "source": [
    "## Расчёт прибыли и рисков "
   ]
  },
  {
   "cell_type": "code",
   "execution_count": null,
   "metadata": {},
   "outputs": [],
   "source": [
    "state = np.random.RandomState(0)\n",
    "    \n",
    "values_1 = []\n",
    "values_2 = []\n",
    "values_3 = []\n",
    "\n",
    "# Bootstrap\n",
    "\n",
    "for i in range(1000):\n",
    "    \n",
    "    target_subsample_1 = pd.Series(predict_1).sample(500, replace=True, random_state=state)\n",
    "    values_1.append(revenue(y_1_valid, target_subsample_1, 200))\n",
    "    \n",
    "    target_subsample_2 = pd.Series(predict_2).sample(500, replace=True, random_state=state)\n",
    "    values_2.append(revenue(y_2_valid, target_subsample_2, 200))\n",
    "    \n",
    "    target_subsample_3 = pd.Series(predict_3).sample(500, replace=True, random_state=state)\n",
    "    values_3.append(revenue(y_3_valid, target_subsample_3, 200))    \n",
    "    \n",
    "values_1 = pd.Series(values_1)\n",
    "values_2 = pd.Series(values_2)\n",
    "values_3 = pd.Series(values_3)\n",
    "                     \n",
    "mean_1 = values_1.mean()\n",
    "mean_2 = values_2.mean()\n",
    "mean_3 = values_3.mean()\n",
    "\n",
    "print(\"Средняя выручка 1:\", mean_1)\n",
    "print(\"Средняя выручка 2:\", mean_2)\n",
    "print(\"Средняя выручка 3:\", mean_3)\n",
    "print()\n",
    "\n",
    "# confidence_interval_1 = st.t.interval(alpha=0.95, df=len(values_1)-1, loc=values_1.mean(), scale=values_1.sem())\n",
    "# confidence_interval_2 = st.t.interval(alpha=0.95, df=len(values_2)-1, loc=values_2.mean(), scale=values_2.sem())\n",
    "# confidence_interval_3 = st.t.interval(alpha=0.95, df=len(values_3)-1, loc=values_3.mean(), scale=values_3.sem())\n",
    "\n",
    "# print(\"95%-ый доверительный интервал 1:\", confidence_interval_1)\n",
    "# print(\"95%-ый доверительный интервал 2:\", confidence_interval_2)\n",
    "# print(\"95%-ый доверительный интервал 3:\", confidence_interval_3)\n"
   ]
  },
  {
   "cell_type": "code",
   "execution_count": null,
   "metadata": {},
   "outputs": [],
   "source": [
    "print('Регион №1 ДИ = от {:.2f} до {:.2f}'.format(values_1.quantile(0.025), values_1.quantile(0.975)))\n",
    "print('Регион №2 ДИ = от {:.2f} до {:.2f}'.format(values_2.quantile(0.025), values_2.quantile(0.975)))\n",
    "print('Регион №3 ДИ = от {:.2f} до {:.2f}'.format(values_3.quantile(0.025), values_3.quantile(0.975)))"
   ]
  },
  {
   "cell_type": "markdown",
   "metadata": {},
   "source": [
    "### Оценим риски разработки в каждом из 3-х регионов"
   ]
  },
  {
   "cell_type": "code",
   "execution_count": null,
   "metadata": {},
   "outputs": [],
   "source": [
    "print('Риски в регионе 1 = {:.2f}'.format(100 * (values_1 < 0).mean()))\n",
    "print('Риски в регионе 2 = {:.2f}'.format(100 * (values_2 < 0).mean()))\n",
    "print('Риски в регионе 3 = {:.2f}'.format(100 * (values_3 < 0).mean()))"
   ]
  },
  {
   "cell_type": "markdown",
   "metadata": {},
   "source": [
    "# Вывод: \n",
    "1. Получить прибыль от добычи сырья, используя технологии ML возможно в каждом из 3-х регионов поскольку средняя выручка при реализации 200 скважин превышает свой бюджет в 10 млрд.\n",
    "2. Средняя выручка прогнозируется: максимальная во 2 регионе, средняя в 1-м и минимальная в 3-м.\n",
    "3. Доверительный интервал говорит нам, что в 95% случаев мы не выйдем за рамки запланированного бюджета в 10 млрд во втором регионе, в то время как в 1 и 3м есть риски уйти в минуса.\n",
    "4. Риски при разработке выше в 3 и 1 регионе, минимальные риски во 2-м регионе.\n",
    "5. Исходя из этого можно сделать вывод, что регион №2 дает максимальную прибыль при минимальных рисках."
   ]
  }
 ],
 "metadata": {
  "ExecuteTimeLog": [
   {
    "duration": 599,
    "start_time": "2022-02-26T11:23:36.204Z"
   },
   {
    "duration": 383,
    "start_time": "2022-02-26T11:23:37.636Z"
   },
   {
    "duration": 369,
    "start_time": "2022-02-26T11:23:47.732Z"
   },
   {
    "duration": 378,
    "start_time": "2022-02-26T11:23:58.008Z"
   },
   {
    "duration": 395,
    "start_time": "2022-02-26T11:25:07.096Z"
   },
   {
    "duration": 370,
    "start_time": "2022-02-26T11:25:12.917Z"
   },
   {
    "duration": 355,
    "start_time": "2022-02-26T11:25:17.288Z"
   },
   {
    "duration": 410,
    "start_time": "2022-02-26T11:25:35.076Z"
   },
   {
    "duration": 401,
    "start_time": "2022-02-26T11:25:40.131Z"
   },
   {
    "duration": 13,
    "start_time": "2022-02-26T11:25:56.159Z"
   },
   {
    "duration": 375,
    "start_time": "2022-02-26T11:28:40.953Z"
   },
   {
    "duration": 517,
    "start_time": "2022-02-26T11:33:35.220Z"
   },
   {
    "duration": 375,
    "start_time": "2022-02-26T11:33:38.252Z"
   },
   {
    "duration": 385,
    "start_time": "2022-02-26T11:33:53.375Z"
   },
   {
    "duration": 3,
    "start_time": "2022-02-26T11:36:00.724Z"
   },
   {
    "duration": 557,
    "start_time": "2022-02-26T11:36:51.894Z"
   },
   {
    "duration": 296,
    "start_time": "2022-02-26T11:37:04.781Z"
   },
   {
    "duration": 406,
    "start_time": "2022-02-26T11:37:41.515Z"
   },
   {
    "duration": 26,
    "start_time": "2022-02-26T11:37:42.995Z"
   },
   {
    "duration": 285,
    "start_time": "2022-02-26T11:50:54.379Z"
   },
   {
    "duration": 4,
    "start_time": "2022-02-26T11:51:10.294Z"
   },
   {
    "duration": 404,
    "start_time": "2022-02-26T11:51:12.344Z"
   },
   {
    "duration": 63,
    "start_time": "2022-02-26T11:51:14.269Z"
   },
   {
    "duration": 56,
    "start_time": "2022-02-26T11:54:18.444Z"
   },
   {
    "duration": 1175,
    "start_time": "2022-02-26T19:17:38.890Z"
   },
   {
    "duration": 408,
    "start_time": "2022-02-26T19:17:40.640Z"
   },
   {
    "duration": 608,
    "start_time": "2022-02-26T19:17:42.863Z"
   },
   {
    "duration": 419,
    "start_time": "2022-02-26T19:19:03.962Z"
   },
   {
    "duration": 63,
    "start_time": "2022-02-26T19:19:24.814Z"
   },
   {
    "duration": 115,
    "start_time": "2022-02-26T19:30:27.361Z"
   },
   {
    "duration": 56,
    "start_time": "2022-02-26T19:31:22.854Z"
   },
   {
    "duration": 360,
    "start_time": "2022-02-26T19:31:54.124Z"
   },
   {
    "duration": 60,
    "start_time": "2022-02-26T19:32:15.618Z"
   },
   {
    "duration": 3,
    "start_time": "2022-02-26T20:14:43.634Z"
   },
   {
    "duration": 266,
    "start_time": "2022-02-28T05:42:02.606Z"
   },
   {
    "duration": 1459,
    "start_time": "2022-02-28T05:42:08.117Z"
   },
   {
    "duration": 440,
    "start_time": "2022-02-28T05:42:09.979Z"
   },
   {
    "duration": 153,
    "start_time": "2022-02-28T05:42:12.032Z"
   },
   {
    "duration": 7,
    "start_time": "2022-02-28T05:42:15.074Z"
   },
   {
    "duration": 355,
    "start_time": "2022-02-28T05:54:18.451Z"
   },
   {
    "duration": 3,
    "start_time": "2022-02-28T05:54:23.827Z"
   },
   {
    "duration": 8,
    "start_time": "2022-02-28T05:54:44.006Z"
   },
   {
    "duration": 2009,
    "start_time": "2022-02-28T05:55:02.875Z"
   },
   {
    "duration": 245,
    "start_time": "2022-02-28T05:55:15.742Z"
   },
   {
    "duration": 6,
    "start_time": "2022-02-28T05:55:25.012Z"
   },
   {
    "duration": 219,
    "start_time": "2022-02-28T05:55:37.157Z"
   },
   {
    "duration": 6,
    "start_time": "2022-02-28T05:55:41.920Z"
   },
   {
    "duration": 7,
    "start_time": "2022-02-28T05:55:52.303Z"
   },
   {
    "duration": 7,
    "start_time": "2022-02-28T06:10:09.046Z"
   },
   {
    "duration": 10,
    "start_time": "2022-02-28T06:10:25.134Z"
   },
   {
    "duration": 157,
    "start_time": "2022-02-28T06:19:42.029Z"
   },
   {
    "duration": 3,
    "start_time": "2022-02-28T08:54:12.304Z"
   },
   {
    "duration": 8,
    "start_time": "2022-02-28T08:54:16.781Z"
   },
   {
    "duration": 284,
    "start_time": "2022-02-28T08:56:05.671Z"
   },
   {
    "duration": 231,
    "start_time": "2022-02-28T08:56:25.304Z"
   },
   {
    "duration": 6,
    "start_time": "2022-02-28T08:56:55.015Z"
   },
   {
    "duration": 6,
    "start_time": "2022-02-28T08:57:44.401Z"
   },
   {
    "duration": 364,
    "start_time": "2022-02-28T09:15:24.589Z"
   },
   {
    "duration": 375,
    "start_time": "2022-02-28T09:15:41.215Z"
   },
   {
    "duration": 408,
    "start_time": "2022-02-28T09:15:50.385Z"
   },
   {
    "duration": 8,
    "start_time": "2022-02-28T09:16:54.159Z"
   },
   {
    "duration": -14,
    "start_time": "2022-02-28T09:17:42.847Z"
   },
   {
    "duration": 237,
    "start_time": "2022-02-28T09:17:52.083Z"
   },
   {
    "duration": 363,
    "start_time": "2022-02-28T09:18:02.968Z"
   },
   {
    "duration": 414,
    "start_time": "2022-02-28T09:18:09.179Z"
   },
   {
    "duration": 387,
    "start_time": "2022-02-28T09:18:11.555Z"
   },
   {
    "duration": 16,
    "start_time": "2022-02-28T09:20:00.330Z"
   },
   {
    "duration": 11,
    "start_time": "2022-02-28T09:20:05.434Z"
   },
   {
    "duration": 11,
    "start_time": "2022-02-28T09:20:28.726Z"
   },
   {
    "duration": 15,
    "start_time": "2022-02-28T09:20:32.619Z"
   },
   {
    "duration": 15,
    "start_time": "2022-02-28T09:20:52.760Z"
   },
   {
    "duration": 16,
    "start_time": "2022-02-28T09:20:58.050Z"
   },
   {
    "duration": 5,
    "start_time": "2022-02-28T10:48:11.223Z"
   },
   {
    "duration": 453,
    "start_time": "2022-02-28T10:48:12.598Z"
   },
   {
    "duration": 236,
    "start_time": "2022-02-28T10:48:14.346Z"
   },
   {
    "duration": 11,
    "start_time": "2022-02-28T10:48:18.204Z"
   },
   {
    "duration": 4088,
    "start_time": "2022-02-28T10:48:21.576Z"
   },
   {
    "duration": 4867,
    "start_time": "2022-02-28T10:49:24.950Z"
   },
   {
    "duration": 6,
    "start_time": "2022-02-28T10:56:25.034Z"
   },
   {
    "duration": 3965,
    "start_time": "2022-02-28T10:57:10.339Z"
   },
   {
    "duration": 251,
    "start_time": "2022-02-28T10:59:57.438Z"
   },
   {
    "duration": 12913,
    "start_time": "2022-02-28T11:00:36.994Z"
   },
   {
    "duration": 10950,
    "start_time": "2022-02-28T11:02:27.551Z"
   },
   {
    "duration": 13209,
    "start_time": "2022-02-28T11:03:23.029Z"
   },
   {
    "duration": 6,
    "start_time": "2022-02-28T11:04:11.207Z"
   },
   {
    "duration": 7,
    "start_time": "2022-02-28T11:07:24.685Z"
   },
   {
    "duration": 10,
    "start_time": "2022-02-28T11:07:54.942Z"
   },
   {
    "duration": 299,
    "start_time": "2022-02-28T12:29:14.020Z"
   },
   {
    "duration": 409,
    "start_time": "2022-02-28T12:29:29.945Z"
   },
   {
    "duration": 868,
    "start_time": "2022-02-28T12:29:44.574Z"
   },
   {
    "duration": 15,
    "start_time": "2022-02-28T12:41:09.135Z"
   },
   {
    "duration": 75,
    "start_time": "2022-02-28T12:41:25.110Z"
   },
   {
    "duration": 74,
    "start_time": "2022-02-28T12:41:33.164Z"
   },
   {
    "duration": 71,
    "start_time": "2022-02-28T12:41:56.127Z"
   },
   {
    "duration": 202,
    "start_time": "2022-02-28T12:42:29.690Z"
   },
   {
    "duration": 3,
    "start_time": "2022-02-28T12:44:33.211Z"
   },
   {
    "duration": 3,
    "start_time": "2022-02-28T12:44:35.245Z"
   },
   {
    "duration": 312,
    "start_time": "2022-02-28T12:48:46.540Z"
   },
   {
    "duration": 357,
    "start_time": "2022-02-28T12:49:08.953Z"
   },
   {
    "duration": 323,
    "start_time": "2022-02-28T12:49:42.424Z"
   },
   {
    "duration": 44,
    "start_time": "2022-02-28T12:52:43.519Z"
   },
   {
    "duration": 244,
    "start_time": "2022-02-28T12:57:17.868Z"
   },
   {
    "duration": 61,
    "start_time": "2022-02-28T12:57:42.923Z"
   },
   {
    "duration": 5,
    "start_time": "2022-02-28T13:40:52.624Z"
   },
   {
    "duration": 5,
    "start_time": "2022-02-28T14:33:56.800Z"
   },
   {
    "duration": 472,
    "start_time": "2022-02-28T14:33:56.808Z"
   },
   {
    "duration": 372,
    "start_time": "2022-02-28T14:33:57.284Z"
   },
   {
    "duration": 23,
    "start_time": "2022-02-28T14:33:57.659Z"
   },
   {
    "duration": 62,
    "start_time": "2022-02-28T14:33:57.685Z"
   },
   {
    "duration": 135,
    "start_time": "2022-02-28T14:33:57.749Z"
   },
   {
    "duration": 97,
    "start_time": "2022-02-28T14:33:57.887Z"
   },
   {
    "duration": 7,
    "start_time": "2022-02-28T14:33:57.989Z"
   },
   {
    "duration": 10996,
    "start_time": "2022-02-28T14:33:57.999Z"
   },
   {
    "duration": 970,
    "start_time": "2022-02-28T14:34:08.998Z"
   },
   {
    "duration": 9,
    "start_time": "2022-02-28T14:35:40.506Z"
   },
   {
    "duration": 8,
    "start_time": "2022-02-28T14:39:36.485Z"
   },
   {
    "duration": 5,
    "start_time": "2022-02-28T14:54:37.088Z"
   },
   {
    "duration": 449,
    "start_time": "2022-02-28T14:54:37.095Z"
   },
   {
    "duration": 344,
    "start_time": "2022-02-28T14:54:37.547Z"
   },
   {
    "duration": 10,
    "start_time": "2022-02-28T14:54:37.894Z"
   },
   {
    "duration": 46,
    "start_time": "2022-02-28T14:54:37.906Z"
   },
   {
    "duration": 132,
    "start_time": "2022-02-28T14:54:37.955Z"
   },
   {
    "duration": 95,
    "start_time": "2022-02-28T14:54:38.091Z"
   },
   {
    "duration": 16,
    "start_time": "2022-02-28T14:54:38.189Z"
   },
   {
    "duration": 10947,
    "start_time": "2022-02-28T14:54:38.207Z"
   },
   {
    "duration": 9,
    "start_time": "2022-02-28T14:54:49.156Z"
   },
   {
    "duration": 640,
    "start_time": "2022-02-28T14:56:21.317Z"
   },
   {
    "duration": 1177,
    "start_time": "2022-02-28T14:56:52.350Z"
   },
   {
    "duration": 1334,
    "start_time": "2022-02-28T15:00:01.854Z"
   },
   {
    "duration": 1663,
    "start_time": "2022-02-28T15:00:23.750Z"
   },
   {
    "duration": 140,
    "start_time": "2022-02-28T15:00:49.711Z"
   },
   {
    "duration": 1494,
    "start_time": "2022-02-28T15:00:56.217Z"
   },
   {
    "duration": 1507,
    "start_time": "2022-02-28T15:01:10.566Z"
   },
   {
    "duration": 127,
    "start_time": "2022-02-28T15:02:49.756Z"
   },
   {
    "duration": 4,
    "start_time": "2022-02-28T15:12:07.006Z"
   },
   {
    "duration": 441,
    "start_time": "2022-02-28T15:12:07.013Z"
   },
   {
    "duration": 1701,
    "start_time": "2022-02-28T15:12:07.457Z"
   },
   {
    "duration": 22,
    "start_time": "2022-02-28T15:12:09.161Z"
   },
   {
    "duration": 51,
    "start_time": "2022-02-28T15:12:09.186Z"
   },
   {
    "duration": 142,
    "start_time": "2022-02-28T15:12:09.240Z"
   },
   {
    "duration": 98,
    "start_time": "2022-02-28T15:12:09.387Z"
   },
   {
    "duration": 27,
    "start_time": "2022-02-28T15:12:09.487Z"
   },
   {
    "duration": 964,
    "start_time": "2022-02-28T15:12:09.516Z"
   },
   {
    "duration": -42,
    "start_time": "2022-02-28T15:12:10.525Z"
   },
   {
    "duration": 5,
    "start_time": "2022-02-28T15:16:48.697Z"
   },
   {
    "duration": 491,
    "start_time": "2022-02-28T15:16:48.705Z"
   },
   {
    "duration": 1963,
    "start_time": "2022-02-28T15:16:49.198Z"
   },
   {
    "duration": 23,
    "start_time": "2022-02-28T15:16:51.165Z"
   },
   {
    "duration": 68,
    "start_time": "2022-02-28T15:16:51.192Z"
   },
   {
    "duration": 122,
    "start_time": "2022-02-28T15:16:51.263Z"
   },
   {
    "duration": 7,
    "start_time": "2022-02-28T15:16:51.389Z"
   },
   {
    "duration": 5,
    "start_time": "2022-02-28T15:16:51.483Z"
   },
   {
    "duration": 1493,
    "start_time": "2022-02-28T15:16:51.491Z"
   },
   {
    "duration": -197,
    "start_time": "2022-02-28T15:16:53.183Z"
   },
   {
    "duration": 4,
    "start_time": "2022-02-28T15:19:34.306Z"
   },
   {
    "duration": 4853,
    "start_time": "2022-02-28T15:19:36.151Z"
   },
   {
    "duration": 8,
    "start_time": "2022-02-28T15:20:12.738Z"
   },
   {
    "duration": 5,
    "start_time": "2022-02-28T15:21:45.037Z"
   },
   {
    "duration": 421,
    "start_time": "2022-02-28T15:21:45.044Z"
   },
   {
    "duration": 1497,
    "start_time": "2022-02-28T15:21:45.468Z"
   },
   {
    "duration": 22,
    "start_time": "2022-02-28T15:21:46.968Z"
   },
   {
    "duration": 46,
    "start_time": "2022-02-28T15:21:46.993Z"
   },
   {
    "duration": 53,
    "start_time": "2022-02-28T15:21:47.042Z"
   },
   {
    "duration": 96,
    "start_time": "2022-02-28T15:21:47.186Z"
   },
   {
    "duration": 4,
    "start_time": "2022-02-28T15:21:47.286Z"
   },
   {
    "duration": 4864,
    "start_time": "2022-02-28T15:21:47.293Z"
   },
   {
    "duration": 23,
    "start_time": "2022-02-28T15:21:52.160Z"
   },
   {
    "duration": 180774,
    "start_time": "2022-03-01T08:43:59.750Z"
   },
   {
    "duration": 1803,
    "start_time": "2022-03-01T09:16:19.885Z"
   },
   {
    "duration": 344,
    "start_time": "2022-03-01T09:16:21.690Z"
   },
   {
    "duration": 1172,
    "start_time": "2022-03-01T09:16:22.036Z"
   },
   {
    "duration": 16130,
    "start_time": "2022-03-01T09:16:23.210Z"
   },
   {
    "duration": 12,
    "start_time": "2022-03-01T09:16:39.342Z"
   },
   {
    "duration": 44,
    "start_time": "2022-03-01T09:16:39.356Z"
   },
   {
    "duration": 336,
    "start_time": "2022-03-01T09:16:39.402Z"
   },
   {
    "duration": 309,
    "start_time": "2022-03-01T09:16:39.742Z"
   },
   {
    "duration": -78967,
    "start_time": "2022-03-01T09:17:59.020Z"
   },
   {
    "duration": -79009,
    "start_time": "2022-03-01T09:17:59.063Z"
   },
   {
    "duration": 9,
    "start_time": "2022-03-01T09:16:41.933Z"
   },
   {
    "duration": 34,
    "start_time": "2022-03-01T09:16:46.274Z"
   },
   {
    "duration": 31,
    "start_time": "2022-03-01T09:16:49.311Z"
   },
   {
    "duration": 186,
    "start_time": "2022-03-01T09:16:56.938Z"
   },
   {
    "duration": 3,
    "start_time": "2022-03-01T09:17:03.911Z"
   },
   {
    "duration": 4,
    "start_time": "2022-03-01T09:17:09.415Z"
   },
   {
    "duration": 2752,
    "start_time": "2022-03-01T09:17:13.787Z"
   },
   {
    "duration": 7,
    "start_time": "2022-03-01T09:17:25.484Z"
   },
   {
    "duration": 5,
    "start_time": "2022-03-01T09:17:57.282Z"
   },
   {
    "duration": 9,
    "start_time": "2022-03-01T09:18:45.304Z"
   },
   {
    "duration": 5,
    "start_time": "2022-03-01T09:19:11.014Z"
   },
   {
    "duration": 63,
    "start_time": "2022-03-01T09:20:16.611Z"
   },
   {
    "duration": 5,
    "start_time": "2022-03-01T09:20:27.479Z"
   },
   {
    "duration": 6,
    "start_time": "2022-03-01T09:20:45.782Z"
   },
   {
    "duration": 5,
    "start_time": "2022-03-01T09:29:02.306Z"
   },
   {
    "duration": 3,
    "start_time": "2022-03-01T09:29:29.261Z"
   },
   {
    "duration": 44836,
    "start_time": "2022-03-01T09:29:36.361Z"
   },
   {
    "duration": 208,
    "start_time": "2022-03-01T09:35:31.632Z"
   },
   {
    "duration": 190,
    "start_time": "2022-03-01T09:35:46.233Z"
   },
   {
    "duration": 6166,
    "start_time": "2022-03-01T09:36:03.092Z"
   },
   {
    "duration": 256,
    "start_time": "2022-03-01T09:36:12.787Z"
   },
   {
    "duration": 221,
    "start_time": "2022-03-01T09:36:34.555Z"
   },
   {
    "duration": 1054,
    "start_time": "2022-03-01T09:36:58.033Z"
   },
   {
    "duration": 184,
    "start_time": "2022-03-01T09:37:03.825Z"
   },
   {
    "duration": 200,
    "start_time": "2022-03-01T09:38:02.903Z"
   },
   {
    "duration": 191,
    "start_time": "2022-03-01T09:38:43.643Z"
   },
   {
    "duration": 6805,
    "start_time": "2022-03-01T09:39:03.521Z"
   },
   {
    "duration": 3993,
    "start_time": "2022-03-01T09:39:12.312Z"
   },
   {
    "duration": 51,
    "start_time": "2022-04-03T11:15:53.989Z"
   },
   {
    "duration": 1388,
    "start_time": "2022-04-03T11:16:00.795Z"
   },
   {
    "duration": 350,
    "start_time": "2022-04-03T11:16:02.185Z"
   },
   {
    "duration": 828,
    "start_time": "2022-04-03T11:16:02.537Z"
   },
   {
    "duration": 78,
    "start_time": "2022-04-03T11:16:03.367Z"
   },
   {
    "duration": 0,
    "start_time": "2022-04-03T11:16:03.447Z"
   },
   {
    "duration": 0,
    "start_time": "2022-04-03T11:16:03.448Z"
   },
   {
    "duration": 0,
    "start_time": "2022-04-03T11:16:03.449Z"
   },
   {
    "duration": 0,
    "start_time": "2022-04-03T11:16:03.450Z"
   },
   {
    "duration": 0,
    "start_time": "2022-04-03T11:16:03.451Z"
   },
   {
    "duration": 0,
    "start_time": "2022-04-03T11:16:03.451Z"
   },
   {
    "duration": 0,
    "start_time": "2022-04-03T11:16:03.452Z"
   },
   {
    "duration": 0,
    "start_time": "2022-04-03T11:16:03.453Z"
   },
   {
    "duration": 0,
    "start_time": "2022-04-03T11:16:03.454Z"
   },
   {
    "duration": 3,
    "start_time": "2022-04-03T11:19:57.992Z"
   },
   {
    "duration": 363,
    "start_time": "2022-04-03T11:19:57.997Z"
   },
   {
    "duration": 934,
    "start_time": "2022-04-03T11:19:58.362Z"
   },
   {
    "duration": 15,
    "start_time": "2022-04-03T11:19:59.298Z"
   },
   {
    "duration": 0,
    "start_time": "2022-04-03T11:19:59.315Z"
   },
   {
    "duration": 0,
    "start_time": "2022-04-03T11:19:59.316Z"
   },
   {
    "duration": 0,
    "start_time": "2022-04-03T11:19:59.318Z"
   },
   {
    "duration": 0,
    "start_time": "2022-04-03T11:19:59.319Z"
   },
   {
    "duration": 0,
    "start_time": "2022-04-03T11:19:59.321Z"
   },
   {
    "duration": 0,
    "start_time": "2022-04-03T11:19:59.323Z"
   },
   {
    "duration": 0,
    "start_time": "2022-04-03T11:19:59.324Z"
   },
   {
    "duration": 0,
    "start_time": "2022-04-03T11:19:59.327Z"
   }
  ],
  "kernelspec": {
   "display_name": "Python 3 (ipykernel)",
   "language": "python",
   "name": "python3"
  },
  "language_info": {
   "codemirror_mode": {
    "name": "ipython",
    "version": 3
   },
   "file_extension": ".py",
   "mimetype": "text/x-python",
   "name": "python",
   "nbconvert_exporter": "python",
   "pygments_lexer": "ipython3",
   "version": "3.9.5"
  },
  "toc": {
   "base_numbering": 1,
   "nav_menu": {},
   "number_sections": true,
   "sideBar": true,
   "skip_h1_title": true,
   "title_cell": "Table of Contents",
   "title_sidebar": "Contents",
   "toc_cell": false,
   "toc_position": {},
   "toc_section_display": true,
   "toc_window_display": true
  }
 },
 "nbformat": 4,
 "nbformat_minor": 2
}
