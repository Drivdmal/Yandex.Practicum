{
 "cells": [
  {
   "cell_type": "markdown",
   "metadata": {},
   "source": [
    "# Определение токсичности коментариев"
   ]
  },
  {
   "cell_type": "markdown",
   "metadata": {},
   "source": [
    "Задача на классификацию: создать модель, определяющую токсичность коментариев (позитивные/негативные коментарии). \n",
    "\n",
    "Текст коментариев - английский.\n",
    "\n",
    "Оценка работы модели - **'F1'** не ниже 0.45"
   ]
  },
  {
   "cell_type": "markdown",
   "metadata": {},
   "source": [
    "## Подготовка\n",
    "\n",
    "### Подключим модули"
   ]
  },
  {
   "cell_type": "code",
   "execution_count": 2,
   "metadata": {},
   "outputs": [
    {
     "name": "stderr",
     "output_type": "stream",
     "text": [
      "[nltk_data] Downloading package averaged_perceptron_tagger to\n",
      "[nltk_data]     /home/jovyan/nltk_data...\n",
      "[nltk_data]   Unzipping taggers/averaged_perceptron_tagger.zip.\n"
     ]
    }
   ],
   "source": [
    "import pandas as pd\n",
    "import numpy as np\n",
    "import re\n",
    "import nltk\n",
    "nltk.download(['averaged_perceptron_tagger'])\n",
    "from tqdm import notebook, tqdm\n",
    "from nltk.corpus import stopwords as nltk_stopwords\n",
    "from nltk.corpus import wordnet\n",
    "from nltk import pos_tag\n",
    "from nltk.stem import WordNetLemmatizer\n",
    "from sklearn.feature_extraction.text import TfidfVectorizer \n",
    "from sklearn.model_selection import train_test_split\n",
    "from sklearn.dummy import DummyClassifier\n",
    "from sklearn.linear_model import LogisticRegression \n",
    "from sklearn.ensemble import RandomForestClassifier\n",
    "from sklearn.model_selection import GridSearchCV\n",
    "from sklearn.metrics import f1_score, make_scorer\n",
    "from catboost import CatBoostClassifier\n",
    "from sklearn.preprocessing import StandardScaler\n",
    "from sklearn.pipeline import Pipeline\n"
   ]
  },
  {
   "cell_type": "markdown",
   "metadata": {},
   "source": [
    "### Загрузим данные и посмотрим на них"
   ]
  },
  {
   "cell_type": "code",
   "execution_count": 3,
   "metadata": {},
   "outputs": [
    {
     "name": "stdout",
     "output_type": "stream",
     "text": [
      "                                                text  toxic\n",
      "0  Explanation\\nWhy the edits made under my usern...      0\n",
      "1  D'aww! He matches this background colour I'm s...      0\n",
      "2  Hey man, I'm really not trying to edit war. It...      0\n",
      "3  \"\\nMore\\nI can't make any real suggestions on ...      0\n",
      "4  You, sir, are my hero. Any chance you remember...      0\n",
      "<class 'pandas.core.frame.DataFrame'>\n",
      "RangeIndex: 159571 entries, 0 to 159570\n",
      "Data columns (total 2 columns):\n",
      " #   Column  Non-Null Count   Dtype \n",
      "---  ------  --------------   ----- \n",
      " 0   text    159571 non-null  object\n",
      " 1   toxic   159571 non-null  int64 \n",
      "dtypes: int64(1), object(1)\n",
      "memory usage: 2.4+ MB\n"
     ]
    }
   ],
   "source": [
    "df = pd.read_csv('/datasets/toxic_comments.csv')\n",
    "print(df.head())\n",
    "df.info()"
   ]
  },
  {
   "cell_type": "markdown",
   "metadata": {},
   "source": [
    "Данные содержат много лишних символов. Пропусков нет.\n",
    "\n",
    "### Очистка и лемматизация"
   ]
  },
  {
   "cell_type": "code",
   "execution_count": 4,
   "metadata": {},
   "outputs": [
    {
     "name": "stderr",
     "output_type": "stream",
     "text": [
      "100%|██████████| 159571/159571 [34:13<00:00, 77.70it/s] "
     ]
    },
    {
     "name": "stdout",
     "output_type": "stream",
     "text": [
      "CPU times: user 30min 43s, sys: 2min 42s, total: 33min 26s\n",
      "Wall time: 34min 16s\n"
     ]
    },
    {
     "name": "stderr",
     "output_type": "stream",
     "text": [
      "\n"
     ]
    }
   ],
   "source": [
    "%%time\n",
    "def clear_text(text):\n",
    "    text = re.sub(r'[^a-zA-Z ]', ' ', text)\n",
    "    text = text.split()\n",
    "    text = ' '.join(text)\n",
    "    return text\n",
    "\n",
    "def get_wordnet_pos(text):\n",
    "    tag = nltk.pos_tag([text])[0][1][0].upper()\n",
    "    tag_dic = {\n",
    "        'J': wordnet.ADJ,\n",
    "        'N': wordnet.NOUN,\n",
    "        'V': wordnet.VERB,\n",
    "        'R': wordnet.ADV        \n",
    "    }\n",
    "    return tag_dic.get(tag, wordnet.NOUN)\n",
    "\n",
    "def lemmatize(text):\n",
    "    tokens=nltk.word_tokenize(text)\n",
    "    lemmatizer = WordNetLemmatizer()\n",
    "    lem = [lemmatizer.lemmatize(t, pos=get_wordnet_pos(t)) for t in tokens]\n",
    "    lem = ' '.join(lem)\n",
    "    return lem\n",
    "\n",
    "tqdm.pandas()\n",
    "df['corpus'] = df['text'].apply(clear_text).progress_apply(lemmatize)\n",
    "\n",
    "# Wall time: 37min 40s"
   ]
  },
  {
   "cell_type": "markdown",
   "metadata": {},
   "source": [
    "Сохранимся"
   ]
  },
  {
   "cell_type": "code",
   "execution_count": 5,
   "metadata": {},
   "outputs": [],
   "source": [
    "df.to_csv('df_with_corpus.csv')"
   ]
  },
  {
   "cell_type": "markdown",
   "metadata": {},
   "source": [
    "Загрузимся"
   ]
  },
  {
   "cell_type": "code",
   "execution_count": 17,
   "metadata": {},
   "outputs": [],
   "source": [
    "df = pd.read_csv('df_with_corpus.csv', index_col = [0])"
   ]
  },
  {
   "cell_type": "markdown",
   "metadata": {},
   "source": [
    "Проверим на пропуски"
   ]
  },
  {
   "cell_type": "code",
   "execution_count": 18,
   "metadata": {},
   "outputs": [
    {
     "data": {
      "text/html": [
       "<div>\n",
       "<style scoped>\n",
       "    .dataframe tbody tr th:only-of-type {\n",
       "        vertical-align: middle;\n",
       "    }\n",
       "\n",
       "    .dataframe tbody tr th {\n",
       "        vertical-align: top;\n",
       "    }\n",
       "\n",
       "    .dataframe thead th {\n",
       "        text-align: right;\n",
       "    }\n",
       "</style>\n",
       "<table border=\"1\" class=\"dataframe\">\n",
       "  <thead>\n",
       "    <tr style=\"text-align: right;\">\n",
       "      <th></th>\n",
       "      <th>text</th>\n",
       "      <th>toxic</th>\n",
       "      <th>corpus</th>\n",
       "    </tr>\n",
       "  </thead>\n",
       "  <tbody>\n",
       "    <tr>\n",
       "      <th>4482</th>\n",
       "      <td>1993\\n\\n1994\\n\\n1995\\n\\n1996\\n\\n1997\\n\\n1998\\n...</td>\n",
       "      <td>0</td>\n",
       "      <td>NaN</td>\n",
       "    </tr>\n",
       "    <tr>\n",
       "      <th>6300</th>\n",
       "      <td>193.61.111.53  15:00</td>\n",
       "      <td>0</td>\n",
       "      <td>NaN</td>\n",
       "    </tr>\n",
       "    <tr>\n",
       "      <th>17311</th>\n",
       "      <td>~ \\n\\n68.193.147.157</td>\n",
       "      <td>0</td>\n",
       "      <td>NaN</td>\n",
       "    </tr>\n",
       "    <tr>\n",
       "      <th>52442</th>\n",
       "      <td>14:53,</td>\n",
       "      <td>0</td>\n",
       "      <td>NaN</td>\n",
       "    </tr>\n",
       "    <tr>\n",
       "      <th>53787</th>\n",
       "      <td>92.24.199.233|92.24.199.233]]</td>\n",
       "      <td>0</td>\n",
       "      <td>NaN</td>\n",
       "    </tr>\n",
       "    <tr>\n",
       "      <th>61758</th>\n",
       "      <td>\"\\n\\n 199.209.144.211  \"</td>\n",
       "      <td>0</td>\n",
       "      <td>NaN</td>\n",
       "    </tr>\n",
       "    <tr>\n",
       "      <th>82681</th>\n",
       "      <td>\"\\n '''''' 2010/2013 \"</td>\n",
       "      <td>0</td>\n",
       "      <td>NaN</td>\n",
       "    </tr>\n",
       "  </tbody>\n",
       "</table>\n",
       "</div>"
      ],
      "text/plain": [
       "                                                    text  toxic corpus\n",
       "4482   1993\\n\\n1994\\n\\n1995\\n\\n1996\\n\\n1997\\n\\n1998\\n...      0    NaN\n",
       "6300                                193.61.111.53  15:00      0    NaN\n",
       "17311                               ~ \\n\\n68.193.147.157      0    NaN\n",
       "52442                                             14:53,      0    NaN\n",
       "53787                      92.24.199.233|92.24.199.233]]      0    NaN\n",
       "61758                           \"\\n\\n 199.209.144.211  \"      0    NaN\n",
       "82681                             \"\\n '''''' 2010/2013 \"      0    NaN"
      ]
     },
     "execution_count": 18,
     "metadata": {},
     "output_type": "execute_result"
    }
   ],
   "source": [
    "df[df.corpus != df.corpus]"
   ]
  },
  {
   "cell_type": "markdown",
   "metadata": {},
   "source": [
    "Видимо пропуски появились после очистки, уберём их"
   ]
  },
  {
   "cell_type": "code",
   "execution_count": 19,
   "metadata": {},
   "outputs": [],
   "source": [
    "df = df.dropna(axis=0)"
   ]
  },
  {
   "cell_type": "markdown",
   "metadata": {},
   "source": [
    "### Разделим выборки (trani/test = 80/20)"
   ]
  },
  {
   "cell_type": "code",
   "execution_count": 20,
   "metadata": {},
   "outputs": [
    {
     "name": "stdout",
     "output_type": "stream",
     "text": [
      "0.7999987465844426 0.20000125341555738\n"
     ]
    }
   ],
   "source": [
    "x_train, x_test, y_train, y_test = train_test_split(df.corpus, \n",
    "                                                    df.toxic, \n",
    "                                                    test_size=0.2,\n",
    "                                                    random_state=12345)\n",
    "\n",
    "print(x_train.shape[0]/len(df), x_test.shape[0]/len(df))"
   ]
  },
  {
   "cell_type": "markdown",
   "metadata": {},
   "source": [
    "### Создадим мешок слов с помощью tf-idf\n",
    "\n",
    "В качестве параметров передадим словарь `english`, содержащий стоп-слова"
   ]
  },
  {
   "cell_type": "code",
   "execution_count": 21,
   "metadata": {},
   "outputs": [
    {
     "name": "stdout",
     "output_type": "stream",
     "text": [
      "CPU times: user 10.1 s, sys: 24.3 ms, total: 10.1 s\n",
      "Wall time: 10.3 s\n"
     ]
    }
   ],
   "source": [
    "%%time\n",
    "\n",
    "stopwords = set(nltk_stopwords.words('english'))\n",
    "\n",
    "count_tf_idf = TfidfVectorizer(stop_words=stopwords)\n",
    "\n",
    "x_train = count_tf_idf.fit_transform(x_train)\n",
    "\n",
    "x_test = count_tf_idf.transform(x_test)"
   ]
  },
  {
   "cell_type": "markdown",
   "metadata": {},
   "source": [
    "Проверим размеры выборок"
   ]
  },
  {
   "cell_type": "code",
   "execution_count": 22,
   "metadata": {},
   "outputs": [
    {
     "name": "stdout",
     "output_type": "stream",
     "text": [
      "0.7999987465844426 0.20000125341555738\n",
      "True\n"
     ]
    }
   ],
   "source": [
    "print(x_train.shape[0]/len(df), x_test.shape[0]/len(df))\n",
    "\n",
    "print(len(df) == x_train.shape[0] + x_test.shape[0])"
   ]
  },
  {
   "cell_type": "markdown",
   "metadata": {},
   "source": [
    "### Проверим баланс классов"
   ]
  },
  {
   "cell_type": "code",
   "execution_count": 23,
   "metadata": {},
   "outputs": [
    {
     "name": "stdout",
     "output_type": "stream",
     "text": [
      "0    143339\n",
      "1     16225\n",
      "Name: toxic, dtype: int64\n",
      "0.10168333709358\n"
     ]
    }
   ],
   "source": [
    "print(df.toxic.value_counts())\n",
    "\n",
    "# и долю классов 1 к 0\n",
    "print(16225/len(df))"
   ]
  },
  {
   "cell_type": "markdown",
   "metadata": {},
   "source": [
    "Дисбаланс классов существеннен, учтём это когда будем обучать модели"
   ]
  },
  {
   "cell_type": "markdown",
   "metadata": {},
   "source": [
    "## Обучение\n",
    "\n",
    "### Создадим scorer для GridSearchCV, для подбора параметров моделей (бинарная классификация)"
   ]
  },
  {
   "cell_type": "code",
   "execution_count": 24,
   "metadata": {},
   "outputs": [],
   "source": [
    "f1 = make_scorer(f1_score , average='binary')"
   ]
  },
  {
   "cell_type": "markdown",
   "metadata": {},
   "source": [
    "### DummyClassifier"
   ]
  },
  {
   "cell_type": "code",
   "execution_count": 25,
   "metadata": {},
   "outputs": [
    {
     "name": "stdout",
     "output_type": "stream",
     "text": [
      "F1: 0.18092170889503237\n"
     ]
    }
   ],
   "source": [
    "model = DummyClassifier(strategy='constant', constant=1, random_state=12345).fit(x_train, y_train)\n",
    "predict = model.predict(x_test)\n",
    "print('F1:', f1_score(y_test, predict, average='binary'))"
   ]
  },
  {
   "cell_type": "markdown",
   "metadata": {},
   "source": [
    "### LogisticRegression\n",
    "\n",
    "Через GridSearchCV подберём модели параметры"
   ]
  },
  {
   "cell_type": "code",
   "execution_count": null,
   "metadata": {
    "scrolled": true
   },
   "outputs": [],
   "source": [
    "# без pipeline\n",
    "\n",
    "# %%time\n",
    "\n",
    "# model = LogisticRegression(\n",
    "#     random_state=12345, \n",
    "#     class_weight='balanced', \n",
    "#     solver='liblinear')\n",
    "\n",
    "# params = {\n",
    "#     \"C\": [0.01, 0.1, 1, 10, 100], \n",
    "#     \"penalty\":[\"l1\", \"l2\"],\n",
    "# }\n",
    "\n",
    "# grid = GridSearchCV(model, params, cv=5, scoring=f1, verbose=3)\n",
    "\n",
    "# grid.fit(x_train, y_train)\n",
    "\n",
    "# print('Лучшие параметры ', grid.best_params_)\n",
    "# print('Лучший результат ', grid.best_score_)\n",
    "\n",
    "# model = LogisticRegression(random_state=12345, **grid.best_params_)\n",
    "# model.fit(x_train, y_train)\n",
    "# predict = model.predict(x_test)\n",
    "\n",
    "# print('f1 на тестовой выборке = ', f1_score(y_test, predict, average='binary'))\n",
    "\n",
    "# Лучшие параметры  {'C': 10, 'penalty': 'l2'}\n",
    "# Лучший результат  0.7599877694299754\n",
    "# f1 на тестовой выборке =  0.774667599720084\n",
    "# Wall time: 12min 10s"
   ]
  },
  {
   "cell_type": "code",
   "execution_count": 29,
   "metadata": {
    "scrolled": true
   },
   "outputs": [
    {
     "name": "stdout",
     "output_type": "stream",
     "text": [
      "Лучшие параметры  {'classifier__C': 10, 'classifier__class_weight': 'balanced', 'classifier__penalty': 'l2', 'classifier__random_state': 12345, 'classifier__solver': 'liblinear'}\n",
      "Лучший результат  0.7598857119294717\n"
     ]
    }
   ],
   "source": [
    "# с pipeline\n",
    "\n",
    "stopwords = set(nltk_stopwords.words('english'))\n",
    "\n",
    "x_train, x_test, y_train, y_test = train_test_split(df.corpus, \n",
    "                                                    df.toxic, \n",
    "                                                    test_size=0.2,\n",
    "                                                    random_state=12345)\n",
    "\n",
    "params = {\n",
    "    'classifier__C': [0.01, 0.1, 1, 10, 100], \n",
    "    'classifier__penalty': [\"l1\", \"l2\"], \n",
    "    'classifier__random_state': [12345], \n",
    "    'classifier__class_weight': ['balanced'],\n",
    "    'classifier__solver': ['liblinear'], \n",
    "}\n",
    "\n",
    "steps = [('tfidf', TfidfVectorizer(stop_words=stopwords)), \n",
    "         ('classifier', LogisticRegression())]\n",
    "\n",
    "pipe = Pipeline(steps)\n",
    "\n",
    "grid = GridSearchCV(pipe, params, cv=5, scoring=f1, verbose=0)\n",
    "\n",
    "grid.fit(x_train, y_train)\n",
    "\n",
    "print('Лучшие параметры ', grid.best_params_)\n",
    "print('Лучший результат ', grid.best_score_)\n",
    "\n",
    "#  Лучшие параметры  {'classifier__C': 10, \n",
    "#                     'classifier__class_weight': 'balanced', \n",
    "#                     'classifier__penalty': 'l2', \n",
    "#                     'classifier__random_state': 12345, \n",
    "#                     'classifier__solver': 'liblinear'}\n",
    "\n",
    "# Лучший результат  0.7598857119294717"
   ]
  },
  {
   "cell_type": "code",
   "execution_count": 30,
   "metadata": {},
   "outputs": [
    {
     "name": "stdout",
     "output_type": "stream",
     "text": [
      "f1 на тестовой выборке =  0.7556521739130434\n"
     ]
    }
   ],
   "source": [
    "x_train, x_test, y_train, y_test = train_test_split(df.corpus, \n",
    "                                                    df.toxic, \n",
    "                                                    test_size=0.2,\n",
    "                                                    random_state=12345)\n",
    "\n",
    "stopwords = set(nltk_stopwords.words('english'))\n",
    "\n",
    "count_tf_idf = TfidfVectorizer(stop_words=stopwords)\n",
    "\n",
    "x_train = count_tf_idf.fit_transform(x_train)\n",
    "\n",
    "x_test = count_tf_idf.transform(x_test)\n",
    "\n",
    "\n",
    "parameters = {}\n",
    "\n",
    "for key in grid.best_params_.keys():\n",
    "    parameters[key[12:]] = grid.best_params_[key]\n",
    "\n",
    "model = LogisticRegression(**parameters)\n",
    "\n",
    "model.fit(x_train, y_train)\n",
    "\n",
    "predict = model.predict(x_test)\n",
    "\n",
    "print('f1 на тестовой выборке = ', f1_score(y_test, predict, average='binary'))\n",
    "\n",
    "# f1 на тестовой выборке =  0.7556521739130434"
   ]
  },
  {
   "cell_type": "markdown",
   "metadata": {},
   "source": [
    "### RandomForestClassifier"
   ]
  },
  {
   "cell_type": "code",
   "execution_count": 32,
   "metadata": {},
   "outputs": [
    {
     "name": "stdout",
     "output_type": "stream",
     "text": [
      "Лучшие параметры  {'max_depth': 7, 'n_estimators': 100}\n",
      "Лучший результат  0.33645423766078303\n",
      "f1 на тестовой выборке =  0.0\n",
      "CPU times: user 5min 26s, sys: 0 ns, total: 5min 26s\n",
      "Wall time: 5min 31s\n"
     ]
    }
   ],
   "source": [
    "%%time\n",
    "\n",
    "model = RandomForestClassifier(random_state=12345, class_weight='balanced')\n",
    "\n",
    "params = {\n",
    "    'n_estimators': [10, 50, 100],\n",
    "    'max_depth': [3, 5, 7]\n",
    "}\n",
    "\n",
    "grid = GridSearchCV(model, params, cv=5, scoring=f1, verbose=0)\n",
    "\n",
    "grid.fit(x_train, y_train)\n",
    "\n",
    "print('Лучшие параметры ', grid.best_params_)\n",
    "print('Лучший результат ', grid.best_score_)\n",
    "\n",
    "model = RandomForestClassifier(random_state=12345, **grid.best_params_)\n",
    "model.fit(x_train, y_train)\n",
    "predict = model.predict(x_test)\n",
    "\n",
    "print('f1 на тестовой выборке = ', f1_score(y_test, predict, average='binary'))\n",
    "\n",
    "# Лучшие параметры  {'max_depth': 7, 'n_estimators': 100}\n",
    "# Лучший результат  0.33645423766078303\n",
    "# f1 на тестовой выборке =  0.0\n",
    "# Wall time: 5min 47s"
   ]
  },
  {
   "cell_type": "markdown",
   "metadata": {},
   "source": [
    "### CatBoostClassifier"
   ]
  },
  {
   "cell_type": "code",
   "execution_count": 34,
   "metadata": {},
   "outputs": [
    {
     "name": "stdout",
     "output_type": "stream",
     "text": [
      "Learning rate set to 0.081697\n",
      "0:\tlearn: 0.4733322\ttotal: 4.46s\tremaining: 1h 14m 15s\n",
      "3:\tlearn: 0.4750345\ttotal: 16.6s\tremaining: 1h 9m\n",
      "6:\tlearn: 0.4635362\ttotal: 27.8s\tremaining: 1h 5m 41s\n",
      "9:\tlearn: 0.4902888\ttotal: 38.7s\tremaining: 1h 3m 48s\n",
      "12:\tlearn: 0.4896607\ttotal: 50.1s\tremaining: 1h 3m 21s\n",
      "15:\tlearn: 0.4916163\ttotal: 1m 4s\tremaining: 1h 6m 24s\n",
      "18:\tlearn: 0.5147183\ttotal: 1m 15s\tremaining: 1h 5m 8s\n",
      "21:\tlearn: 0.5037832\ttotal: 1m 26s\tremaining: 1h 4m 14s\n",
      "24:\tlearn: 0.5213899\ttotal: 1m 41s\tremaining: 1h 5m 41s\n",
      "27:\tlearn: 0.5255312\ttotal: 1m 51s\tremaining: 1h 4m 42s\n",
      "30:\tlearn: 0.5275262\ttotal: 2m 3s\tremaining: 1h 4m 35s\n",
      "33:\tlearn: 0.5298131\ttotal: 2m 14s\tremaining: 1h 3m 53s\n",
      "36:\tlearn: 0.5353870\ttotal: 2m 25s\tremaining: 1h 3m\n",
      "39:\tlearn: 0.5391946\ttotal: 2m 35s\tremaining: 1h 2m 17s\n",
      "42:\tlearn: 0.5432980\ttotal: 2m 46s\tremaining: 1h 1m 35s\n",
      "45:\tlearn: 0.5544479\ttotal: 2m 56s\tremaining: 1h 1m\n",
      "48:\tlearn: 0.5659501\ttotal: 3m 6s\tremaining: 1h 20s\n",
      "51:\tlearn: 0.5795588\ttotal: 3m 16s\tremaining: 59m 43s\n",
      "54:\tlearn: 0.5829082\ttotal: 3m 26s\tremaining: 59m 9s\n",
      "57:\tlearn: 0.5864646\ttotal: 3m 36s\tremaining: 58m 28s\n",
      "60:\tlearn: 0.5881917\ttotal: 3m 46s\tremaining: 58m 7s\n",
      "63:\tlearn: 0.5899524\ttotal: 3m 56s\tremaining: 57m 37s\n",
      "66:\tlearn: 0.5937994\ttotal: 4m 6s\tremaining: 57m 9s\n",
      "69:\tlearn: 0.5958500\ttotal: 4m 16s\tremaining: 56m 42s\n",
      "72:\tlearn: 0.5967589\ttotal: 4m 26s\tremaining: 56m 25s\n",
      "75:\tlearn: 0.6020200\ttotal: 4m 36s\tremaining: 55m 59s\n",
      "78:\tlearn: 0.6029173\ttotal: 4m 46s\tremaining: 55m 34s\n",
      "81:\tlearn: 0.6079892\ttotal: 4m 56s\tremaining: 55m 15s\n",
      "84:\tlearn: 0.6093652\ttotal: 5m 6s\tremaining: 55m\n",
      "87:\tlearn: 0.6163073\ttotal: 5m 16s\tremaining: 54m 44s\n",
      "90:\tlearn: 0.6206719\ttotal: 5m 26s\tremaining: 54m 26s\n",
      "93:\tlearn: 0.6220736\ttotal: 5m 36s\tremaining: 54m 2s\n",
      "96:\tlearn: 0.6305137\ttotal: 5m 46s\tremaining: 53m 42s\n",
      "99:\tlearn: 0.6329527\ttotal: 5m 56s\tremaining: 53m 24s\n",
      "102:\tlearn: 0.6379739\ttotal: 6m 5s\tremaining: 53m 5s\n",
      "105:\tlearn: 0.6394282\ttotal: 6m 15s\tremaining: 52m 50s\n",
      "108:\tlearn: 0.6412917\ttotal: 6m 26s\tremaining: 52m 40s\n",
      "111:\tlearn: 0.6426117\ttotal: 6m 36s\tremaining: 52m 27s\n",
      "114:\tlearn: 0.6424420\ttotal: 6m 46s\tremaining: 52m 10s\n",
      "117:\tlearn: 0.6435389\ttotal: 6m 56s\tremaining: 51m 52s\n",
      "120:\tlearn: 0.6451613\ttotal: 7m 6s\tremaining: 51m 36s\n",
      "123:\tlearn: 0.6466324\ttotal: 7m 16s\tremaining: 51m 22s\n",
      "126:\tlearn: 0.6486867\ttotal: 7m 26s\tremaining: 51m 11s\n",
      "129:\tlearn: 0.6503511\ttotal: 7m 36s\tremaining: 50m 54s\n",
      "132:\tlearn: 0.6515030\ttotal: 7m 46s\tremaining: 50m 42s\n",
      "135:\tlearn: 0.6546072\ttotal: 7m 56s\tremaining: 50m 29s\n",
      "138:\tlearn: 0.6559569\ttotal: 8m 6s\tremaining: 50m 15s\n",
      "141:\tlearn: 0.6595046\ttotal: 8m 17s\tremaining: 50m 6s\n",
      "144:\tlearn: 0.6612703\ttotal: 8m 27s\tremaining: 49m 55s\n",
      "147:\tlearn: 0.6625322\ttotal: 8m 37s\tremaining: 49m 39s\n",
      "150:\tlearn: 0.6638580\ttotal: 8m 48s\tremaining: 49m 29s\n",
      "153:\tlearn: 0.6655447\ttotal: 8m 58s\tremaining: 49m 16s\n",
      "156:\tlearn: 0.6664028\ttotal: 9m 7s\tremaining: 48m 59s\n",
      "159:\tlearn: 0.6675237\ttotal: 9m 16s\tremaining: 48m 42s\n",
      "162:\tlearn: 0.6708387\ttotal: 9m 26s\tremaining: 48m 27s\n",
      "165:\tlearn: 0.6725080\ttotal: 9m 36s\tremaining: 48m 15s\n",
      "168:\tlearn: 0.6746585\ttotal: 9m 46s\tremaining: 48m 5s\n",
      "171:\tlearn: 0.6747568\ttotal: 9m 57s\tremaining: 47m 58s\n",
      "174:\tlearn: 0.6756027\ttotal: 10m 8s\tremaining: 47m 47s\n",
      "177:\tlearn: 0.6773545\ttotal: 10m 18s\tremaining: 47m 36s\n",
      "180:\tlearn: 0.6782915\ttotal: 10m 29s\tremaining: 47m 28s\n",
      "183:\tlearn: 0.6814851\ttotal: 10m 39s\tremaining: 47m 16s\n",
      "186:\tlearn: 0.6824150\ttotal: 10m 49s\tremaining: 47m 3s\n",
      "189:\tlearn: 0.6836332\ttotal: 10m 59s\tremaining: 46m 51s\n",
      "192:\tlearn: 0.6842644\ttotal: 11m 12s\tremaining: 46m 50s\n",
      "195:\tlearn: 0.6853889\ttotal: 11m 25s\tremaining: 46m 53s\n",
      "198:\tlearn: 0.6898323\ttotal: 11m 39s\tremaining: 46m 55s\n",
      "201:\tlearn: 0.6902166\ttotal: 11m 53s\tremaining: 46m 57s\n",
      "204:\tlearn: 0.6918057\ttotal: 12m 6s\tremaining: 46m 58s\n",
      "207:\tlearn: 0.6939189\ttotal: 12m 20s\tremaining: 47m\n",
      "210:\tlearn: 0.6954929\ttotal: 12m 34s\tremaining: 47m 1s\n",
      "213:\tlearn: 0.6966487\ttotal: 12m 48s\tremaining: 47m 1s\n",
      "216:\tlearn: 0.6960501\ttotal: 13m 1s\tremaining: 47m\n",
      "219:\tlearn: 0.6964896\ttotal: 13m 11s\tremaining: 46m 46s\n",
      "222:\tlearn: 0.6976431\ttotal: 13m 21s\tremaining: 46m 31s\n",
      "225:\tlearn: 0.6975715\ttotal: 13m 31s\tremaining: 46m 18s\n",
      "228:\tlearn: 0.6985637\ttotal: 13m 41s\tremaining: 46m 4s\n",
      "231:\tlearn: 0.6995202\ttotal: 13m 50s\tremaining: 45m 50s\n",
      "234:\tlearn: 0.7013273\ttotal: 14m\tremaining: 45m 37s\n",
      "237:\tlearn: 0.7019880\ttotal: 14m 10s\tremaining: 45m 23s\n",
      "240:\tlearn: 0.7030495\ttotal: 14m 20s\tremaining: 45m 9s\n",
      "243:\tlearn: 0.7043466\ttotal: 14m 30s\tremaining: 44m 56s\n",
      "246:\tlearn: 0.7049658\ttotal: 14m 39s\tremaining: 44m 42s\n",
      "249:\tlearn: 0.7060059\ttotal: 14m 53s\tremaining: 44m 41s\n",
      "252:\tlearn: 0.7075881\ttotal: 15m 7s\tremaining: 44m 38s\n",
      "255:\tlearn: 0.7077730\ttotal: 15m 21s\tremaining: 44m 36s\n",
      "258:\tlearn: 0.7082599\ttotal: 15m 31s\tremaining: 44m 23s\n",
      "261:\tlearn: 0.7089922\ttotal: 15m 40s\tremaining: 44m 10s\n",
      "264:\tlearn: 0.7098034\ttotal: 15m 54s\tremaining: 44m 7s\n",
      "267:\tlearn: 0.7100243\ttotal: 16m 8s\tremaining: 44m 5s\n",
      "270:\tlearn: 0.7108915\ttotal: 16m 21s\tremaining: 44m\n",
      "273:\tlearn: 0.7117887\ttotal: 16m 31s\tremaining: 43m 46s\n",
      "276:\tlearn: 0.7121557\ttotal: 16m 40s\tremaining: 43m 32s\n",
      "279:\tlearn: 0.7129098\ttotal: 16m 51s\tremaining: 43m 19s\n",
      "282:\tlearn: 0.7138797\ttotal: 17m 1s\tremaining: 43m 8s\n",
      "285:\tlearn: 0.7152995\ttotal: 17m 11s\tremaining: 42m 55s\n",
      "288:\tlearn: 0.7159816\ttotal: 17m 21s\tremaining: 42m 43s\n",
      "291:\tlearn: 0.7172023\ttotal: 17m 31s\tremaining: 42m 29s\n",
      "294:\tlearn: 0.7174447\ttotal: 17m 41s\tremaining: 42m 16s\n",
      "297:\tlearn: 0.7183724\ttotal: 17m 51s\tremaining: 42m 3s\n",
      "300:\tlearn: 0.7190449\ttotal: 18m 1s\tremaining: 41m 51s\n",
      "303:\tlearn: 0.7201056\ttotal: 18m 11s\tremaining: 41m 38s\n",
      "306:\tlearn: 0.7204940\ttotal: 18m 21s\tremaining: 41m 26s\n",
      "309:\tlearn: 0.7215601\ttotal: 18m 31s\tremaining: 41m 13s\n",
      "312:\tlearn: 0.7223687\ttotal: 18m 41s\tremaining: 41m\n",
      "315:\tlearn: 0.7226875\ttotal: 18m 51s\tremaining: 40m 48s\n",
      "318:\tlearn: 0.7237083\ttotal: 19m\tremaining: 40m 35s\n",
      "321:\tlearn: 0.7243680\ttotal: 19m 10s\tremaining: 40m 23s\n",
      "324:\tlearn: 0.7251550\ttotal: 19m 20s\tremaining: 40m 10s\n",
      "327:\tlearn: 0.7265222\ttotal: 19m 30s\tremaining: 39m 57s\n",
      "330:\tlearn: 0.7275966\ttotal: 19m 39s\tremaining: 39m 44s\n",
      "333:\tlearn: 0.7278947\ttotal: 19m 49s\tremaining: 39m 31s\n",
      "336:\tlearn: 0.7283286\ttotal: 19m 59s\tremaining: 39m 18s\n",
      "339:\tlearn: 0.7289667\ttotal: 20m 8s\tremaining: 39m 6s\n",
      "342:\tlearn: 0.7298157\ttotal: 20m 17s\tremaining: 38m 52s\n",
      "345:\tlearn: 0.7305356\ttotal: 20m 27s\tremaining: 38m 39s\n",
      "348:\tlearn: 0.7308070\ttotal: 20m 38s\tremaining: 38m 30s\n",
      "351:\tlearn: 0.7317893\ttotal: 20m 48s\tremaining: 38m 17s\n",
      "354:\tlearn: 0.7323904\ttotal: 20m 57s\tremaining: 38m 4s\n",
      "357:\tlearn: 0.7323654\ttotal: 21m 11s\tremaining: 38m\n",
      "360:\tlearn: 0.7331343\ttotal: 21m 24s\tremaining: 37m 54s\n",
      "363:\tlearn: 0.7344333\ttotal: 21m 38s\tremaining: 37m 49s\n",
      "366:\tlearn: 0.7350077\ttotal: 21m 52s\tremaining: 37m 43s\n",
      "369:\tlearn: 0.7356311\ttotal: 22m 6s\tremaining: 37m 38s\n",
      "372:\tlearn: 0.7359501\ttotal: 22m 19s\tremaining: 37m 32s\n",
      "375:\tlearn: 0.7359896\ttotal: 22m 33s\tremaining: 37m 25s\n",
      "378:\tlearn: 0.7364356\ttotal: 22m 47s\tremaining: 37m 20s\n",
      "381:\tlearn: 0.7372239\ttotal: 23m 1s\tremaining: 37m 14s\n",
      "384:\tlearn: 0.7380941\ttotal: 23m 15s\tremaining: 37m 8s\n",
      "387:\tlearn: 0.7388216\ttotal: 23m 24s\tremaining: 36m 55s\n",
      "390:\tlearn: 0.7395824\ttotal: 23m 34s\tremaining: 36m 42s\n",
      "393:\tlearn: 0.7398163\ttotal: 23m 44s\tremaining: 36m 31s\n",
      "396:\tlearn: 0.7399573\ttotal: 23m 54s\tremaining: 36m 18s\n",
      "399:\tlearn: 0.7413274\ttotal: 24m 3s\tremaining: 36m 5s\n",
      "402:\tlearn: 0.7410532\ttotal: 24m 13s\tremaining: 35m 52s\n",
      "405:\tlearn: 0.7407854\ttotal: 24m 22s\tremaining: 35m 40s\n",
      "408:\tlearn: 0.7417084\ttotal: 24m 32s\tremaining: 35m 27s\n",
      "411:\tlearn: 0.7418354\ttotal: 24m 42s\tremaining: 35m 15s\n",
      "414:\tlearn: 0.7420475\ttotal: 24m 51s\tremaining: 35m 2s\n",
      "417:\tlearn: 0.7425371\ttotal: 25m 1s\tremaining: 34m 50s\n",
      "420:\tlearn: 0.7429444\ttotal: 25m 11s\tremaining: 34m 39s\n",
      "423:\tlearn: 0.7433882\ttotal: 25m 21s\tremaining: 34m 26s\n",
      "426:\tlearn: 0.7437260\ttotal: 25m 30s\tremaining: 34m 14s\n",
      "429:\tlearn: 0.7442591\ttotal: 25m 40s\tremaining: 34m 1s\n",
      "432:\tlearn: 0.7450256\ttotal: 25m 49s\tremaining: 33m 49s\n",
      "435:\tlearn: 0.7449912\ttotal: 25m 59s\tremaining: 33m 36s\n",
      "438:\tlearn: 0.7458362\ttotal: 26m 8s\tremaining: 33m 24s\n",
      "441:\tlearn: 0.7464724\ttotal: 26m 18s\tremaining: 33m 12s\n",
      "444:\tlearn: 0.7469224\ttotal: 26m 28s\tremaining: 33m\n",
      "447:\tlearn: 0.7477540\ttotal: 26m 38s\tremaining: 32m 49s\n",
      "450:\tlearn: 0.7478926\ttotal: 26m 48s\tremaining: 32m 38s\n",
      "453:\tlearn: 0.7483306\ttotal: 26m 58s\tremaining: 32m 26s\n",
      "456:\tlearn: 0.7488492\ttotal: 27m 9s\tremaining: 32m 16s\n",
      "459:\tlearn: 0.7487803\ttotal: 27m 20s\tremaining: 32m 5s\n",
      "462:\tlearn: 0.7489875\ttotal: 27m 29s\tremaining: 31m 53s\n",
      "465:\tlearn: 0.7493787\ttotal: 27m 38s\tremaining: 31m 41s\n",
      "468:\tlearn: 0.7496089\ttotal: 27m 52s\tremaining: 31m 33s\n",
      "471:\tlearn: 0.7499540\ttotal: 28m 6s\tremaining: 31m 26s\n",
      "474:\tlearn: 0.7500919\ttotal: 28m 19s\tremaining: 31m 18s\n",
      "477:\tlearn: 0.7503792\ttotal: 28m 32s\tremaining: 31m 10s\n",
      "480:\tlearn: 0.7510909\ttotal: 28m 45s\tremaining: 31m 2s\n",
      "483:\tlearn: 0.7516070\ttotal: 28m 57s\tremaining: 30m 52s\n",
      "486:\tlearn: 0.7528991\ttotal: 29m 7s\tremaining: 30m 40s\n",
      "489:\tlearn: 0.7538250\ttotal: 29m 17s\tremaining: 30m 28s\n",
      "492:\tlearn: 0.7538250\ttotal: 29m 26s\tremaining: 30m 16s\n",
      "495:\tlearn: 0.7538490\ttotal: 29m 36s\tremaining: 30m 4s\n",
      "498:\tlearn: 0.7546358\ttotal: 29m 45s\tremaining: 29m 52s\n",
      "501:\tlearn: 0.7555718\ttotal: 29m 56s\tremaining: 29m 42s\n",
      "504:\tlearn: 0.7558565\ttotal: 30m 6s\tremaining: 29m 30s\n",
      "507:\tlearn: 0.7561534\ttotal: 30m 16s\tremaining: 29m 18s\n",
      "510:\tlearn: 0.7565516\ttotal: 30m 28s\tremaining: 29m 10s\n",
      "513:\tlearn: 0.7558587\ttotal: 30m 42s\tremaining: 29m 1s\n",
      "516:\tlearn: 0.7561656\ttotal: 30m 55s\tremaining: 28m 53s\n",
      "519:\tlearn: 0.7560172\ttotal: 31m 9s\tremaining: 28m 45s\n",
      "522:\tlearn: 0.7563809\ttotal: 31m 22s\tremaining: 28m 36s\n",
      "525:\tlearn: 0.7566430\ttotal: 31m 33s\tremaining: 28m 26s\n",
      "528:\tlearn: 0.7567790\ttotal: 31m 43s\tremaining: 28m 14s\n",
      "531:\tlearn: 0.7571422\ttotal: 31m 53s\tremaining: 28m 3s\n",
      "534:\tlearn: 0.7572114\ttotal: 32m 3s\tremaining: 27m 51s\n",
      "537:\tlearn: 0.7578707\ttotal: 32m 14s\tremaining: 27m 41s\n",
      "540:\tlearn: 0.7579967\ttotal: 32m 24s\tremaining: 27m 29s\n",
      "543:\tlearn: 0.7580851\ttotal: 32m 34s\tremaining: 27m 18s\n",
      "546:\tlearn: 0.7580159\ttotal: 32m 44s\tremaining: 27m 6s\n",
      "549:\tlearn: 0.7590235\ttotal: 32m 54s\tremaining: 26m 55s\n",
      "552:\tlearn: 0.7597154\ttotal: 33m 7s\tremaining: 26m 46s\n",
      "555:\tlearn: 0.7599982\ttotal: 33m 20s\tremaining: 26m 37s\n",
      "558:\tlearn: 0.7598632\ttotal: 33m 31s\tremaining: 26m 27s\n",
      "561:\tlearn: 0.7599544\ttotal: 33m 41s\tremaining: 26m 15s\n",
      "564:\tlearn: 0.7604414\ttotal: 33m 51s\tremaining: 26m 4s\n",
      "567:\tlearn: 0.7604414\ttotal: 34m 1s\tremaining: 25m 52s\n",
      "570:\tlearn: 0.7605891\ttotal: 34m 11s\tremaining: 25m 41s\n",
      "573:\tlearn: 0.7610757\ttotal: 34m 22s\tremaining: 25m 30s\n",
      "576:\tlearn: 0.7611757\ttotal: 34m 32s\tremaining: 25m 19s\n",
      "579:\tlearn: 0.7613797\ttotal: 34m 41s\tremaining: 25m 7s\n",
      "582:\tlearn: 0.7617746\ttotal: 34m 51s\tremaining: 24m 56s\n",
      "585:\tlearn: 0.7617746\ttotal: 35m 1s\tremaining: 24m 44s\n",
      "588:\tlearn: 0.7620566\ttotal: 35m 11s\tremaining: 24m 33s\n",
      "591:\tlearn: 0.7620782\ttotal: 35m 20s\tremaining: 24m 21s\n",
      "594:\tlearn: 0.7622690\ttotal: 35m 31s\tremaining: 24m 11s\n",
      "597:\tlearn: 0.7628059\ttotal: 35m 41s\tremaining: 23m 59s\n",
      "600:\tlearn: 0.7630394\ttotal: 35m 51s\tremaining: 23m 48s\n",
      "603:\tlearn: 0.7635884\ttotal: 36m 2s\tremaining: 23m 37s\n",
      "606:\tlearn: 0.7634760\ttotal: 36m 12s\tremaining: 23m 26s\n",
      "609:\tlearn: 0.7634760\ttotal: 36m 24s\tremaining: 23m 16s\n",
      "612:\tlearn: 0.7640031\ttotal: 36m 38s\tremaining: 23m 7s\n",
      "615:\tlearn: 0.7642491\ttotal: 36m 51s\tremaining: 22m 58s\n",
      "618:\tlearn: 0.7643052\ttotal: 37m 4s\tremaining: 22m 49s\n",
      "621:\tlearn: 0.7647379\ttotal: 37m 17s\tremaining: 22m 39s\n",
      "624:\tlearn: 0.7651574\ttotal: 37m 31s\tremaining: 22m 30s\n",
      "627:\tlearn: 0.7652695\ttotal: 37m 44s\tremaining: 22m 21s\n",
      "630:\tlearn: 0.7657101\ttotal: 37m 57s\tremaining: 22m 11s\n",
      "633:\tlearn: 0.7657449\ttotal: 38m 11s\tremaining: 22m 2s\n",
      "636:\tlearn: 0.7660888\ttotal: 38m 24s\tremaining: 21m 53s\n",
      "639:\tlearn: 0.7669493\ttotal: 38m 37s\tremaining: 21m 43s\n",
      "642:\tlearn: 0.7672848\ttotal: 38m 47s\tremaining: 21m 31s\n",
      "645:\tlearn: 0.7676896\ttotal: 38m 56s\tremaining: 21m 20s\n",
      "648:\tlearn: 0.7680732\ttotal: 39m 5s\tremaining: 21m 8s\n",
      "651:\tlearn: 0.7680732\ttotal: 39m 15s\tremaining: 20m 57s\n",
      "654:\tlearn: 0.7680174\ttotal: 39m 24s\tremaining: 20m 45s\n",
      "657:\tlearn: 0.7689102\ttotal: 39m 34s\tremaining: 20m 34s\n",
      "660:\tlearn: 0.7690217\ttotal: 39m 43s\tremaining: 20m 22s\n",
      "663:\tlearn: 0.7691332\ttotal: 39m 56s\tremaining: 20m 12s\n",
      "666:\tlearn: 0.7700312\ttotal: 40m 6s\tremaining: 20m 1s\n",
      "669:\tlearn: 0.7702745\ttotal: 40m 15s\tremaining: 19m 49s\n",
      "672:\tlearn: 0.7706082\ttotal: 40m 25s\tremaining: 19m 38s\n",
      "675:\tlearn: 0.7708512\ttotal: 40m 34s\tremaining: 19m 26s\n",
      "678:\tlearn: 0.7713304\ttotal: 40m 44s\tremaining: 19m 15s\n",
      "681:\tlearn: 0.7715319\ttotal: 40m 53s\tremaining: 19m 3s\n",
      "684:\tlearn: 0.7713033\ttotal: 41m 2s\tremaining: 18m 52s\n",
      "687:\tlearn: 0.7718791\ttotal: 41m 12s\tremaining: 18m 41s\n",
      "690:\tlearn: 0.7721708\ttotal: 41m 22s\tremaining: 18m 29s\n",
      "693:\tlearn: 0.7722057\ttotal: 41m 31s\tremaining: 18m 18s\n",
      "696:\tlearn: 0.7723166\ttotal: 41m 40s\tremaining: 18m 7s\n",
      "699:\tlearn: 0.7722960\ttotal: 41m 49s\tremaining: 17m 55s\n",
      "702:\tlearn: 0.7723926\ttotal: 42m\tremaining: 17m 44s\n",
      "705:\tlearn: 0.7724686\ttotal: 42m 13s\tremaining: 17m 35s\n",
      "708:\tlearn: 0.7724194\ttotal: 42m 26s\tremaining: 17m 25s\n",
      "711:\tlearn: 0.7727929\ttotal: 42m 41s\tremaining: 17m 15s\n",
      "714:\tlearn: 0.7730000\ttotal: 42m 54s\tremaining: 17m 6s\n",
      "717:\tlearn: 0.7733875\ttotal: 43m 8s\tremaining: 16m 56s\n",
      "720:\tlearn: 0.7735883\ttotal: 43m 21s\tremaining: 16m 46s\n",
      "723:\tlearn: 0.7738997\ttotal: 43m 34s\tremaining: 16m 36s\n",
      "726:\tlearn: 0.7739142\ttotal: 43m 48s\tremaining: 16m 26s\n",
      "729:\tlearn: 0.7738240\ttotal: 44m 1s\tremaining: 16m 17s\n",
      "732:\tlearn: 0.7739056\ttotal: 44m 15s\tremaining: 16m 7s\n",
      "735:\tlearn: 0.7741616\ttotal: 44m 28s\tremaining: 15m 57s\n",
      "738:\tlearn: 0.7743070\ttotal: 44m 41s\tremaining: 15m 47s\n",
      "741:\tlearn: 0.7745222\ttotal: 44m 55s\tremaining: 15m 37s\n",
      "744:\tlearn: 0.7748332\ttotal: 45m 8s\tremaining: 15m 27s\n",
      "747:\tlearn: 0.7749989\ttotal: 45m 21s\tremaining: 15m 16s\n",
      "750:\tlearn: 0.7761073\ttotal: 45m 32s\tremaining: 15m 5s\n",
      "753:\tlearn: 0.7760872\ttotal: 45m 42s\tremaining: 14m 54s\n",
      "756:\tlearn: 0.7760872\ttotal: 45m 55s\tremaining: 14m 44s\n",
      "759:\tlearn: 0.7761127\ttotal: 46m 9s\tremaining: 14m 34s\n",
      "762:\tlearn: 0.7770282\ttotal: 46m 23s\tremaining: 14m 24s\n",
      "765:\tlearn: 0.7771783\ttotal: 46m 33s\tremaining: 14m 13s\n",
      "768:\tlearn: 0.7773083\ttotal: 46m 43s\tremaining: 14m 2s\n",
      "771:\tlearn: 0.7777678\ttotal: 46m 52s\tremaining: 13m 50s\n",
      "774:\tlearn: 0.7778027\ttotal: 47m 2s\tremaining: 13m 39s\n",
      "777:\tlearn: 0.7779276\ttotal: 47m 11s\tremaining: 13m 28s\n",
      "780:\tlearn: 0.7779975\ttotal: 47m 22s\tremaining: 13m 17s\n",
      "783:\tlearn: 0.7781423\ttotal: 47m 32s\tremaining: 13m 5s\n",
      "786:\tlearn: 0.7783220\ttotal: 47m 41s\tremaining: 12m 54s\n",
      "789:\tlearn: 0.7786314\ttotal: 47m 50s\tremaining: 12m 43s\n",
      "792:\tlearn: 0.7788310\ttotal: 48m\tremaining: 12m 31s\n",
      "795:\tlearn: 0.7789407\ttotal: 48m 9s\tremaining: 12m 20s\n",
      "798:\tlearn: 0.7790504\ttotal: 48m 19s\tremaining: 12m 9s\n",
      "801:\tlearn: 0.7792149\ttotal: 48m 28s\tremaining: 11m 58s\n",
      "804:\tlearn: 0.7793794\ttotal: 48m 37s\tremaining: 11m 46s\n",
      "807:\tlearn: 0.7792849\ttotal: 48m 46s\tremaining: 11m 35s\n",
      "810:\tlearn: 0.7796488\ttotal: 48m 55s\tremaining: 11m 24s\n",
      "813:\tlearn: 0.7795590\ttotal: 49m 5s\tremaining: 11m 13s\n",
      "816:\tlearn: 0.7797584\ttotal: 49m 14s\tremaining: 11m 1s\n",
      "819:\tlearn: 0.7800871\ttotal: 49m 24s\tremaining: 10m 50s\n",
      "822:\tlearn: 0.7804900\ttotal: 49m 34s\tremaining: 10m 39s\n",
      "825:\tlearn: 0.7807789\ttotal: 49m 43s\tremaining: 10m 28s\n",
      "828:\tlearn: 0.7809079\ttotal: 49m 53s\tremaining: 10m 17s\n",
      "831:\tlearn: 0.7811967\ttotal: 50m 2s\tremaining: 10m 6s\n",
      "834:\tlearn: 0.7815443\ttotal: 50m 12s\tremaining: 9m 55s\n",
      "837:\tlearn: 0.7817432\ttotal: 50m 21s\tremaining: 9m 44s\n",
      "840:\tlearn: 0.7820162\ttotal: 50m 31s\tremaining: 9m 33s\n",
      "843:\tlearn: 0.7820944\ttotal: 50m 42s\tremaining: 9m 22s\n",
      "846:\tlearn: 0.7820984\ttotal: 50m 56s\tremaining: 9m 12s\n",
      "849:\tlearn: 0.7822425\ttotal: 51m 9s\tremaining: 9m 1s\n",
      "852:\tlearn: 0.7822971\ttotal: 51m 23s\tremaining: 8m 51s\n",
      "855:\tlearn: 0.7826243\ttotal: 51m 35s\tremaining: 8m 40s\n",
      "858:\tlearn: 0.7830214\ttotal: 51m 49s\tremaining: 8m 30s\n",
      "861:\tlearn: 0.7832043\ttotal: 52m 2s\tremaining: 8m 19s\n",
      "864:\tlearn: 0.7837136\ttotal: 52m 16s\tremaining: 8m 9s\n",
      "867:\tlearn: 0.7842068\ttotal: 52m 30s\tremaining: 7m 59s\n",
      "870:\tlearn: 0.7843540\ttotal: 52m 44s\tremaining: 7m 48s\n",
      "873:\tlearn: 0.7844978\ttotal: 52m 59s\tremaining: 7m 38s\n",
      "876:\tlearn: 0.7844978\ttotal: 53m 12s\tremaining: 7m 27s\n",
      "879:\tlearn: 0.7845748\ttotal: 53m 26s\tremaining: 7m 17s\n",
      "882:\tlearn: 0.7849707\ttotal: 53m 40s\tremaining: 7m 6s\n",
      "885:\tlearn: 0.7850409\ttotal: 53m 50s\tremaining: 6m 55s\n",
      "888:\tlearn: 0.7856952\ttotal: 53m 59s\tremaining: 6m 44s\n",
      "891:\tlearn: 0.7857844\ttotal: 54m 9s\tremaining: 6m 33s\n",
      "894:\tlearn: 0.7859120\ttotal: 54m 19s\tremaining: 6m 22s\n",
      "897:\tlearn: 0.7861096\ttotal: 54m 29s\tremaining: 6m 11s\n",
      "900:\tlearn: 0.7864346\ttotal: 54m 38s\tremaining: 6m\n",
      "903:\tlearn: 0.7867404\ttotal: 54m 48s\tremaining: 5m 49s\n",
      "906:\tlearn: 0.7870490\ttotal: 54m 58s\tremaining: 5m 38s\n",
      "909:\tlearn: 0.7872653\ttotal: 55m 11s\tremaining: 5m 27s\n",
      "912:\tlearn: 0.7874086\ttotal: 55m 24s\tremaining: 5m 16s\n",
      "915:\tlearn: 0.7874627\ttotal: 55m 36s\tremaining: 5m 5s\n",
      "918:\tlearn: 0.7879841\ttotal: 55m 46s\tremaining: 4m 54s\n",
      "921:\tlearn: 0.7881462\ttotal: 55m 55s\tremaining: 4m 43s\n",
      "924:\tlearn: 0.7881514\ttotal: 56m 5s\tremaining: 4m 32s\n",
      "927:\tlearn: 0.7882054\ttotal: 56m 14s\tremaining: 4m 21s\n",
      "930:\tlearn: 0.7884024\ttotal: 56m 24s\tremaining: 4m 10s\n",
      "933:\tlearn: 0.7887801\ttotal: 56m 38s\tremaining: 4m\n",
      "936:\tlearn: 0.7888691\ttotal: 56m 51s\tremaining: 3m 49s\n",
      "939:\tlearn: 0.7890496\ttotal: 57m 5s\tremaining: 3m 38s\n",
      "942:\tlearn: 0.7890521\ttotal: 57m 16s\tremaining: 3m 27s\n",
      "945:\tlearn: 0.7892840\ttotal: 57m 26s\tremaining: 3m 16s\n",
      "948:\tlearn: 0.7894971\ttotal: 57m 36s\tremaining: 3m 5s\n",
      "951:\tlearn: 0.7898180\ttotal: 57m 45s\tremaining: 2m 54s\n",
      "954:\tlearn: 0.7902300\ttotal: 57m 55s\tremaining: 2m 43s\n",
      "957:\tlearn: 0.7905177\ttotal: 58m 4s\tremaining: 2m 32s\n",
      "960:\tlearn: 0.7905012\ttotal: 58m 14s\tremaining: 2m 21s\n",
      "963:\tlearn: 0.7906625\ttotal: 58m 23s\tremaining: 2m 10s\n",
      "966:\tlearn: 0.7905198\ttotal: 58m 32s\tremaining: 1m 59s\n",
      "969:\tlearn: 0.7907887\ttotal: 58m 42s\tremaining: 1m 48s\n",
      "972:\tlearn: 0.7912537\ttotal: 58m 52s\tremaining: 1m 38s\n",
      "975:\tlearn: 0.7917537\ttotal: 59m 1s\tremaining: 1m 27s\n",
      "978:\tlearn: 0.7917000\ttotal: 59m 11s\tremaining: 1m 16s\n",
      "981:\tlearn: 0.7917537\ttotal: 59m 20s\tremaining: 1m 5s\n",
      "984:\tlearn: 0.7919851\ttotal: 59m 29s\tremaining: 54.4s\n",
      "987:\tlearn: 0.7920924\ttotal: 59m 39s\tremaining: 43.5s\n",
      "990:\tlearn: 0.7928952\ttotal: 59m 48s\tremaining: 32.6s\n",
      "993:\tlearn: 0.7931800\ttotal: 59m 58s\tremaining: 21.7s\n",
      "996:\tlearn: 0.7932872\ttotal: 1h 7s\tremaining: 10.9s\n",
      "999:\tlearn: 0.7934479\ttotal: 1h 17s\tremaining: 0us\n",
      "f1 на тестовой выборке =  0.7511111111111112\n"
     ]
    }
   ],
   "source": [
    "model = CatBoostClassifier(eval_metric='F1', verbose=3, random_state=12345)\n",
    "model.fit(x_train, y_train)\n",
    "predict = model.predict(x_test)\n",
    "\n",
    "print('f1 на тестовой выборке = ', f1_score(y_test, predict, average='binary'))\n",
    "\n",
    "# f1 на тестовой выборке =  0.7511111111111112 > 0.75 "
   ]
  },
  {
   "cell_type": "markdown",
   "metadata": {},
   "source": [
    "## Выводы\n",
    "\n",
    "* Из трёх рассматриваемых моделей лучший результат показала модель LogisticRegression. \n",
    "* Модель CatBoostClassifier заняла второе место (с учётом стандартных настроек)\n",
    "* Модель RandomForesterClassifier не смогла обучиться на данных.\n"
   ]
  }
 ],
 "metadata": {
  "ExecuteTimeLog": [
   {
    "duration": 77,
    "start_time": "2022-04-30T15:57:15.942Z"
   },
   {
    "duration": 515,
    "start_time": "2022-04-30T15:57:18.027Z"
   },
   {
    "duration": 1044,
    "start_time": "2022-04-30T15:57:19.427Z"
   },
   {
    "duration": 906,
    "start_time": "2022-04-30T15:58:05.843Z"
   },
   {
    "duration": 46,
    "start_time": "2022-04-30T15:58:57.907Z"
   },
   {
    "duration": 5,
    "start_time": "2022-04-30T15:59:04.716Z"
   },
   {
    "duration": 265,
    "start_time": "2022-04-30T15:59:15.877Z"
   },
   {
    "duration": 70,
    "start_time": "2022-04-30T16:00:32.968Z"
   },
   {
    "duration": 501,
    "start_time": "2022-04-30T16:00:36.023Z"
   },
   {
    "duration": 958,
    "start_time": "2022-04-30T16:00:36.527Z"
   },
   {
    "duration": 38,
    "start_time": "2022-04-30T16:00:37.492Z"
   },
   {
    "duration": 6,
    "start_time": "2022-04-30T16:01:15.336Z"
   },
   {
    "duration": 7494,
    "start_time": "2022-04-30T16:05:20.427Z"
   },
   {
    "duration": 69,
    "start_time": "2022-04-30T16:05:33.516Z"
   },
   {
    "duration": 1518,
    "start_time": "2022-04-30T16:05:37.234Z"
   },
   {
    "duration": 1338,
    "start_time": "2022-04-30T16:06:50.013Z"
   },
   {
    "duration": 2211,
    "start_time": "2022-04-30T16:07:07.268Z"
   },
   {
    "duration": 2196,
    "start_time": "2022-04-30T16:08:26.180Z"
   },
   {
    "duration": 1427,
    "start_time": "2022-04-30T16:08:31.972Z"
   },
   {
    "duration": 1387,
    "start_time": "2022-04-30T16:08:55.757Z"
   },
   {
    "duration": 1373,
    "start_time": "2022-04-30T16:09:00.188Z"
   },
   {
    "duration": 1904,
    "start_time": "2022-04-30T16:09:12.981Z"
   },
   {
    "duration": 1642,
    "start_time": "2022-04-30T16:09:23.052Z"
   },
   {
    "duration": 914,
    "start_time": "2022-04-30T16:27:58.899Z"
   },
   {
    "duration": 1125,
    "start_time": "2022-04-30T16:28:05.506Z"
   },
   {
    "duration": 960,
    "start_time": "2022-04-30T16:28:07.211Z"
   },
   {
    "duration": 34416,
    "start_time": "2022-04-30T16:28:14.218Z"
   },
   {
    "duration": 13,
    "start_time": "2022-04-30T16:29:09.571Z"
   },
   {
    "duration": 133830,
    "start_time": "2022-04-30T16:29:27.868Z"
   },
   {
    "duration": 3830,
    "start_time": "2022-04-30T16:32:08.606Z"
   },
   {
    "duration": 6880,
    "start_time": "2022-04-30T16:32:15.694Z"
   },
   {
    "duration": 7857,
    "start_time": "2022-04-30T16:32:23.238Z"
   },
   {
    "duration": 2549,
    "start_time": "2022-04-30T16:33:21.015Z"
   },
   {
    "duration": 77,
    "start_time": "2022-04-30T16:33:57.977Z"
   },
   {
    "duration": 1534,
    "start_time": "2022-04-30T16:34:08.921Z"
   },
   {
    "duration": 970,
    "start_time": "2022-04-30T16:34:10.458Z"
   },
   {
    "duration": 4,
    "start_time": "2022-04-30T16:34:11.430Z"
   },
   {
    "duration": 7,
    "start_time": "2022-04-30T16:34:11.436Z"
   },
   {
    "duration": 2424,
    "start_time": "2022-04-30T16:34:11.712Z"
   },
   {
    "duration": 1615,
    "start_time": "2022-04-30T16:34:52.889Z"
   },
   {
    "duration": 1035,
    "start_time": "2022-04-30T16:34:54.506Z"
   },
   {
    "duration": 4,
    "start_time": "2022-04-30T16:34:57.703Z"
   },
   {
    "duration": 953,
    "start_time": "2022-04-30T16:34:58.184Z"
   },
   {
    "duration": 3,
    "start_time": "2022-04-30T16:34:59.271Z"
   },
   {
    "duration": 3,
    "start_time": "2022-04-30T16:34:59.431Z"
   },
   {
    "duration": 2472,
    "start_time": "2022-04-30T16:35:01.447Z"
   },
   {
    "duration": 22,
    "start_time": "2022-04-30T16:35:57.673Z"
   },
   {
    "duration": 160,
    "start_time": "2022-04-30T16:36:29.625Z"
   },
   {
    "duration": 51440,
    "start_time": "2022-04-30T16:37:19.970Z"
   },
   {
    "duration": 0,
    "start_time": "2022-04-30T16:38:43.355Z"
   },
   {
    "duration": 1571,
    "start_time": "2022-04-30T16:38:48.748Z"
   },
   {
    "duration": 4,
    "start_time": "2022-04-30T16:38:50.719Z"
   },
   {
    "duration": 132,
    "start_time": "2022-04-30T16:38:57.927Z"
   },
   {
    "duration": 1044,
    "start_time": "2022-04-30T16:39:00.551Z"
   },
   {
    "duration": 20,
    "start_time": "2022-04-30T16:39:02.703Z"
   },
   {
    "duration": 936,
    "start_time": "2022-04-30T16:39:26.992Z"
   },
   {
    "duration": 954,
    "start_time": "2022-04-30T16:39:38.032Z"
   },
   {
    "duration": 216,
    "start_time": "2022-04-30T16:41:18.315Z"
   },
   {
    "duration": 29,
    "start_time": "2022-04-30T16:41:22.291Z"
   },
   {
    "duration": 4,
    "start_time": "2022-04-30T16:41:34.914Z"
   },
   {
    "duration": 13,
    "start_time": "2022-04-30T16:41:38.426Z"
   },
   {
    "duration": 10,
    "start_time": "2022-04-30T16:41:42.889Z"
   },
   {
    "duration": 9,
    "start_time": "2022-04-30T16:41:47.465Z"
   },
   {
    "duration": 10,
    "start_time": "2022-04-30T16:41:50.722Z"
   },
   {
    "duration": 900,
    "start_time": "2022-04-30T16:42:23.355Z"
   },
   {
    "duration": 903,
    "start_time": "2022-04-30T16:44:05.292Z"
   },
   {
    "duration": 932,
    "start_time": "2022-04-30T16:44:23.707Z"
   },
   {
    "duration": 1351,
    "start_time": "2022-04-30T16:44:28.787Z"
   },
   {
    "duration": 23,
    "start_time": "2022-04-30T16:44:32.835Z"
   },
   {
    "duration": 3889,
    "start_time": "2022-04-30T16:44:38.724Z"
   },
   {
    "duration": 1613,
    "start_time": "2022-04-30T16:45:09.548Z"
   },
   {
    "duration": 68,
    "start_time": "2022-04-30T16:45:19.093Z"
   },
   {
    "duration": 2381,
    "start_time": "2022-04-30T16:45:21.038Z"
   },
   {
    "duration": 1065,
    "start_time": "2022-04-30T16:45:23.422Z"
   },
   {
    "duration": 4191,
    "start_time": "2022-04-30T16:45:25.821Z"
   },
   {
    "duration": 85,
    "start_time": "2022-04-30T16:49:11.874Z"
   },
   {
    "duration": 1697,
    "start_time": "2022-04-30T16:49:14.777Z"
   },
   {
    "duration": 4,
    "start_time": "2022-04-30T16:49:18.809Z"
   },
   {
    "duration": 1001,
    "start_time": "2022-04-30T16:49:19.921Z"
   },
   {
    "duration": 2554,
    "start_time": "2022-04-30T16:49:23.017Z"
   },
   {
    "duration": 72,
    "start_time": "2022-04-30T16:51:13.548Z"
   },
   {
    "duration": 2342,
    "start_time": "2022-04-30T16:51:23.298Z"
   },
   {
    "duration": 1546,
    "start_time": "2022-04-30T16:51:30.099Z"
   },
   {
    "duration": 4080,
    "start_time": "2022-04-30T16:51:33.060Z"
   },
   {
    "duration": 1652,
    "start_time": "2022-04-30T16:51:59.987Z"
   },
   {
    "duration": 1003,
    "start_time": "2022-04-30T16:52:02.011Z"
   },
   {
    "duration": 3558,
    "start_time": "2022-04-30T16:52:03.667Z"
   },
   {
    "duration": 5,
    "start_time": "2022-04-30T16:52:23.327Z"
   },
   {
    "duration": 1023,
    "start_time": "2022-04-30T16:52:23.603Z"
   },
   {
    "duration": 3616,
    "start_time": "2022-04-30T16:52:25.147Z"
   },
   {
    "duration": 1649,
    "start_time": "2022-04-30T16:53:05.717Z"
   },
   {
    "duration": 1484,
    "start_time": "2022-04-30T16:53:07.369Z"
   },
   {
    "duration": 3203,
    "start_time": "2022-04-30T16:53:08.856Z"
   },
   {
    "duration": 0,
    "start_time": "2022-04-30T16:53:12.062Z"
   },
   {
    "duration": 1615,
    "start_time": "2022-04-30T16:53:33.800Z"
   },
   {
    "duration": 1096,
    "start_time": "2022-04-30T16:53:35.418Z"
   },
   {
    "duration": 6053,
    "start_time": "2022-04-30T16:53:36.516Z"
   },
   {
    "duration": 3,
    "start_time": "2022-04-30T16:53:42.572Z"
   },
   {
    "duration": 1693,
    "start_time": "2022-04-30T16:54:20.344Z"
   },
   {
    "duration": 1021,
    "start_time": "2022-04-30T16:54:22.040Z"
   },
   {
    "duration": 5888,
    "start_time": "2022-04-30T16:54:23.063Z"
   },
   {
    "duration": 4,
    "start_time": "2022-04-30T16:54:28.954Z"
   },
   {
    "duration": 1546,
    "start_time": "2022-04-30T16:54:57.086Z"
   },
   {
    "duration": 1013,
    "start_time": "2022-04-30T16:54:58.635Z"
   },
   {
    "duration": 6449,
    "start_time": "2022-04-30T16:54:59.650Z"
   },
   {
    "duration": 4,
    "start_time": "2022-04-30T16:55:06.102Z"
   },
   {
    "duration": 1721,
    "start_time": "2022-04-30T16:56:55.041Z"
   },
   {
    "duration": 1011,
    "start_time": "2022-04-30T16:56:56.765Z"
   },
   {
    "duration": 3815,
    "start_time": "2022-04-30T16:56:57.778Z"
   },
   {
    "duration": 4,
    "start_time": "2022-04-30T16:57:01.596Z"
   },
   {
    "duration": 1570,
    "start_time": "2022-04-30T17:12:46.452Z"
   },
   {
    "duration": 997,
    "start_time": "2022-04-30T17:12:48.025Z"
   },
   {
    "duration": 3582,
    "start_time": "2022-04-30T17:12:49.024Z"
   },
   {
    "duration": 3,
    "start_time": "2022-04-30T17:12:52.609Z"
   },
   {
    "duration": 3413,
    "start_time": "2022-04-30T17:48:13.577Z"
   },
   {
    "duration": 1880,
    "start_time": "2022-04-30T17:49:10.533Z"
   },
   {
    "duration": 1123,
    "start_time": "2022-04-30T17:49:12.416Z"
   },
   {
    "duration": 2903,
    "start_time": "2022-04-30T17:49:13.541Z"
   },
   {
    "duration": 0,
    "start_time": "2022-04-30T17:49:16.447Z"
   },
   {
    "duration": 2585,
    "start_time": "2022-04-30T17:50:35.068Z"
   },
   {
    "duration": 1958,
    "start_time": "2022-04-30T17:53:41.758Z"
   },
   {
    "duration": 1094,
    "start_time": "2022-04-30T17:53:43.719Z"
   },
   {
    "duration": 2521,
    "start_time": "2022-04-30T17:53:44.815Z"
   },
   {
    "duration": 5,
    "start_time": "2022-04-30T17:53:47.339Z"
   },
   {
    "duration": 6,
    "start_time": "2022-04-30T17:54:43.366Z"
   },
   {
    "duration": 148,
    "start_time": "2022-04-30T17:55:03.622Z"
   },
   {
    "duration": 1612,
    "start_time": "2022-04-30T17:56:11.775Z"
   },
   {
    "duration": 982,
    "start_time": "2022-04-30T17:56:13.389Z"
   },
   {
    "duration": 2458,
    "start_time": "2022-04-30T17:56:14.374Z"
   },
   {
    "duration": 1537,
    "start_time": "2022-04-30T18:03:13.460Z"
   },
   {
    "duration": 981,
    "start_time": "2022-04-30T18:03:14.999Z"
   },
   {
    "duration": 2453,
    "start_time": "2022-04-30T18:03:15.982Z"
   },
   {
    "duration": 106,
    "start_time": "2022-04-30T18:03:41.994Z"
   },
   {
    "duration": 1523,
    "start_time": "2022-04-30T18:03:49.013Z"
   },
   {
    "duration": 967,
    "start_time": "2022-04-30T18:03:50.538Z"
   },
   {
    "duration": 2464,
    "start_time": "2022-04-30T18:03:51.507Z"
   },
   {
    "duration": 24,
    "start_time": "2022-04-30T18:03:53.973Z"
   },
   {
    "duration": 24192,
    "start_time": "2022-04-30T18:09:57.482Z"
   },
   {
    "duration": 6617,
    "start_time": "2022-04-30T18:11:19.396Z"
   },
   {
    "duration": 1050,
    "start_time": "2022-04-30T18:11:26.016Z"
   },
   {
    "duration": 2688,
    "start_time": "2022-05-03T12:48:05.287Z"
   },
   {
    "duration": 14,
    "start_time": "2022-05-03T12:48:30.769Z"
   },
   {
    "duration": 6,
    "start_time": "2022-05-03T12:50:57.350Z"
   },
   {
    "duration": 8,
    "start_time": "2022-05-03T12:51:09.200Z"
   },
   {
    "duration": 4142,
    "start_time": "2022-05-03T15:42:47.181Z"
   },
   {
    "duration": 1208,
    "start_time": "2022-05-03T15:42:55.958Z"
   },
   {
    "duration": 181,
    "start_time": "2022-05-03T15:45:48.514Z"
   },
   {
    "duration": 144594,
    "start_time": "2022-05-03T15:45:53.061Z"
   },
   {
    "duration": 19,
    "start_time": "2022-05-03T16:06:03.342Z"
   },
   {
    "duration": 60,
    "start_time": "2022-05-03T16:06:26.701Z"
   },
   {
    "duration": 111,
    "start_time": "2022-05-03T16:07:11.168Z"
   },
   {
    "duration": 40,
    "start_time": "2022-05-03T16:07:57.169Z"
   },
   {
    "duration": 2208,
    "start_time": "2022-05-03T16:12:05.484Z"
   },
   {
    "duration": 1112,
    "start_time": "2022-05-03T16:12:12.346Z"
   },
   {
    "duration": 182,
    "start_time": "2022-05-03T16:12:22.730Z"
   },
   {
    "duration": 139370,
    "start_time": "2022-05-03T16:12:24.626Z"
   },
   {
    "duration": 868,
    "start_time": "2022-05-03T16:16:36.047Z"
   },
   {
    "duration": 874,
    "start_time": "2022-05-03T16:17:04.705Z"
   },
   {
    "duration": 859,
    "start_time": "2022-05-03T16:17:16.249Z"
   },
   {
    "duration": 878,
    "start_time": "2022-05-03T16:17:31.505Z"
   },
   {
    "duration": 867,
    "start_time": "2022-05-03T16:17:46.376Z"
   },
   {
    "duration": 880,
    "start_time": "2022-05-03T16:18:06.313Z"
   },
   {
    "duration": 990,
    "start_time": "2022-05-03T16:18:13.928Z"
   },
   {
    "duration": 868,
    "start_time": "2022-05-03T16:18:18.776Z"
   },
   {
    "duration": 71,
    "start_time": "2022-05-03T16:18:41.267Z"
   },
   {
    "duration": 10880,
    "start_time": "2022-05-03T16:18:43.016Z"
   },
   {
    "duration": 38,
    "start_time": "2022-05-03T16:19:11.441Z"
   },
   {
    "duration": 22,
    "start_time": "2022-05-03T16:19:26.281Z"
   },
   {
    "duration": 39,
    "start_time": "2022-05-03T16:19:28.111Z"
   },
   {
    "duration": 10780,
    "start_time": "2022-05-03T16:19:29.376Z"
   },
   {
    "duration": 35,
    "start_time": "2022-05-03T16:19:50.905Z"
   },
   {
    "duration": 91,
    "start_time": "2022-05-03T16:19:52.536Z"
   },
   {
    "duration": 10199,
    "start_time": "2022-05-03T16:19:53.465Z"
   },
   {
    "duration": 8,
    "start_time": "2022-05-03T16:20:23.632Z"
   },
   {
    "duration": 2140,
    "start_time": "2022-05-03T16:20:46.086Z"
   },
   {
    "duration": 1196,
    "start_time": "2022-05-03T16:20:50.691Z"
   },
   {
    "duration": 140127,
    "start_time": "2022-05-03T16:20:56.373Z"
   },
   {
    "duration": 41,
    "start_time": "2022-05-03T16:29:23.844Z"
   },
   {
    "duration": 10610,
    "start_time": "2022-05-03T16:29:25.968Z"
   },
   {
    "duration": 8,
    "start_time": "2022-05-03T16:29:42.570Z"
   },
   {
    "duration": 24,
    "start_time": "2022-05-03T16:31:28.200Z"
   },
   {
    "duration": 347,
    "start_time": "2022-05-03T16:32:12.185Z"
   },
   {
    "duration": 15,
    "start_time": "2022-05-03T16:35:27.343Z"
   },
   {
    "duration": 8,
    "start_time": "2022-05-03T16:35:45.880Z"
   },
   {
    "duration": 5,
    "start_time": "2022-05-03T16:35:53.599Z"
   },
   {
    "duration": 24,
    "start_time": "2022-05-03T16:35:55.231Z"
   },
   {
    "duration": 218485,
    "start_time": "2022-05-03T16:36:52.596Z"
   },
   {
    "duration": 1971,
    "start_time": "2022-05-03T16:44:09.853Z"
   },
   {
    "duration": 1056,
    "start_time": "2022-05-03T16:44:20.413Z"
   },
   {
    "duration": 1474,
    "start_time": "2022-05-03T16:44:23.633Z"
   },
   {
    "duration": 3978,
    "start_time": "2022-05-03T16:44:25.111Z"
   },
   {
    "duration": 4007,
    "start_time": "2022-05-03T16:44:59.470Z"
   },
   {
    "duration": 7,
    "start_time": "2022-05-03T16:45:09.389Z"
   },
   {
    "duration": 7,
    "start_time": "2022-05-03T16:45:12.070Z"
   },
   {
    "duration": 978,
    "start_time": "2022-05-03T16:45:12.679Z"
   },
   {
    "duration": 3839,
    "start_time": "2022-05-03T16:45:14.151Z"
   },
   {
    "duration": 7,
    "start_time": "2022-05-03T16:45:52.909Z"
   },
   {
    "duration": 148625,
    "start_time": "2022-05-03T16:45:57.453Z"
   },
   {
    "duration": 4106,
    "start_time": "2022-05-03T16:50:30.404Z"
   },
   {
    "duration": 4346,
    "start_time": "2022-05-03T16:50:52.516Z"
   },
   {
    "duration": 539,
    "start_time": "2022-05-03T16:51:52.548Z"
   },
   {
    "duration": 4530,
    "start_time": "2022-05-03T16:52:09.269Z"
   },
   {
    "duration": 55,
    "start_time": "2022-05-03T16:53:20.589Z"
   },
   {
    "duration": 5927,
    "start_time": "2022-05-03T16:53:25.604Z"
   },
   {
    "duration": 8,
    "start_time": "2022-05-03T16:54:55.452Z"
   },
   {
    "duration": 2260867,
    "start_time": "2022-05-03T16:54:59.035Z"
   },
   {
    "duration": 8609,
    "start_time": "2022-05-03T17:32:43.624Z"
   },
   {
    "duration": 1070,
    "start_time": "2022-05-03T17:32:56.383Z"
   },
   {
    "duration": 4409,
    "start_time": "2022-05-03T17:33:13.616Z"
   },
   {
    "duration": 23,
    "start_time": "2022-05-03T17:33:19.190Z"
   },
   {
    "duration": 42,
    "start_time": "2022-05-03T17:33:49.239Z"
   },
   {
    "duration": 4168,
    "start_time": "2022-05-03T17:34:30.398Z"
   },
   {
    "duration": 11,
    "start_time": "2022-05-03T17:34:37.654Z"
   },
   {
    "duration": 42,
    "start_time": "2022-05-03T17:34:49.526Z"
   },
   {
    "duration": 1829,
    "start_time": "2022-05-03T17:34:59.270Z"
   },
   {
    "duration": 6,
    "start_time": "2022-05-03T17:36:29.013Z"
   },
   {
    "duration": 5,
    "start_time": "2022-05-03T17:36:34.366Z"
   },
   {
    "duration": 8,
    "start_time": "2022-05-03T17:36:51.965Z"
   },
   {
    "duration": 8,
    "start_time": "2022-05-03T17:37:01.837Z"
   },
   {
    "duration": 18,
    "start_time": "2022-05-03T17:37:24.573Z"
   },
   {
    "duration": 3899,
    "start_time": "2022-05-03T17:37:39.373Z"
   },
   {
    "duration": 78,
    "start_time": "2022-05-03T17:38:00.324Z"
   },
   {
    "duration": 2227,
    "start_time": "2022-05-03T17:38:09.860Z"
   },
   {
    "duration": 6350,
    "start_time": "2022-05-03T17:38:16.404Z"
   },
   {
    "duration": 30,
    "start_time": "2022-05-03T17:38:24.009Z"
   },
   {
    "duration": 69,
    "start_time": "2022-05-03T17:38:36.389Z"
   },
   {
    "duration": 60,
    "start_time": "2022-05-03T17:39:06.300Z"
   },
   {
    "duration": 39,
    "start_time": "2022-05-03T17:40:16.508Z"
   },
   {
    "duration": 110,
    "start_time": "2022-05-03T17:42:42.700Z"
   },
   {
    "duration": 85,
    "start_time": "2022-05-03T17:43:42.163Z"
   },
   {
    "duration": 38,
    "start_time": "2022-05-03T17:44:40.971Z"
   },
   {
    "duration": 10609,
    "start_time": "2022-05-03T17:44:47.179Z"
   },
   {
    "duration": 251,
    "start_time": "2022-05-03T17:44:58.772Z"
   },
   {
    "duration": 37,
    "start_time": "2022-05-03T17:45:06.499Z"
   },
   {
    "duration": 10492,
    "start_time": "2022-05-03T17:45:07.979Z"
   },
   {
    "duration": 6,
    "start_time": "2022-05-03T17:45:48.394Z"
   },
   {
    "duration": 8,
    "start_time": "2022-05-03T17:45:55.034Z"
   },
   {
    "duration": 3,
    "start_time": "2022-05-03T17:46:00.363Z"
   },
   {
    "duration": 24,
    "start_time": "2022-05-03T17:46:04.123Z"
   },
   {
    "duration": 730293,
    "start_time": "2022-05-03T17:46:12.642Z"
   },
   {
    "duration": 17,
    "start_time": "2022-05-03T18:00:24.045Z"
   },
   {
    "duration": 22,
    "start_time": "2022-05-03T18:00:35.724Z"
   },
   {
    "duration": 134,
    "start_time": "2022-05-03T18:00:51.700Z"
   },
   {
    "duration": 131,
    "start_time": "2022-05-03T18:01:00.253Z"
   },
   {
    "duration": 6,
    "start_time": "2022-05-03T18:03:24.909Z"
   },
   {
    "duration": 136,
    "start_time": "2022-05-03T18:04:50.342Z"
   },
   {
    "duration": 5,
    "start_time": "2022-05-03T18:04:52.277Z"
   },
   {
    "duration": 12,
    "start_time": "2022-05-03T18:05:04.555Z"
   },
   {
    "duration": 34,
    "start_time": "2022-05-03T18:05:20.924Z"
   },
   {
    "duration": 7049,
    "start_time": "2022-05-03T18:05:47.052Z"
   },
   {
    "duration": 55,
    "start_time": "2022-05-03T18:05:55.743Z"
   },
   {
    "duration": 84,
    "start_time": "2022-05-03T18:05:59.979Z"
   },
   {
    "duration": 41,
    "start_time": "2022-05-03T18:06:01.627Z"
   },
   {
    "duration": 17899,
    "start_time": "2022-05-03T18:06:03.356Z"
   },
   {
    "duration": 7,
    "start_time": "2022-05-03T18:06:23.988Z"
   },
   {
    "duration": 11,
    "start_time": "2022-05-03T18:06:25.690Z"
   },
   {
    "duration": 217,
    "start_time": "2022-05-03T18:06:30.124Z"
   },
   {
    "duration": 49,
    "start_time": "2022-05-03T18:06:31.884Z"
   },
   {
    "duration": 5,
    "start_time": "2022-05-03T18:06:48.236Z"
   },
   {
    "duration": 35,
    "start_time": "2022-05-03T18:06:49.860Z"
   },
   {
    "duration": 781372,
    "start_time": "2022-05-03T18:06:59.373Z"
   },
   {
    "duration": 39,
    "start_time": "2022-05-03T18:20:52.951Z"
   },
   {
    "duration": 54,
    "start_time": "2022-05-03T18:20:57.334Z"
   },
   {
    "duration": 171,
    "start_time": "2022-05-03T18:21:13.231Z"
   },
   {
    "duration": 55,
    "start_time": "2022-05-03T18:21:17.967Z"
   },
   {
    "duration": 191,
    "start_time": "2022-05-03T18:21:52.029Z"
   },
   {
    "duration": 6227,
    "start_time": "2022-05-03T18:22:11.670Z"
   },
   {
    "duration": 40,
    "start_time": "2022-05-03T18:22:20.418Z"
   },
   {
    "duration": 76,
    "start_time": "2022-05-03T18:22:21.838Z"
   },
   {
    "duration": 40,
    "start_time": "2022-05-03T18:22:29.406Z"
   },
   {
    "duration": 10919,
    "start_time": "2022-05-03T18:22:38.847Z"
   },
   {
    "duration": 6,
    "start_time": "2022-05-03T18:22:49.770Z"
   },
   {
    "duration": 9,
    "start_time": "2022-05-03T18:22:50.438Z"
   },
   {
    "duration": 6,
    "start_time": "2022-05-03T18:22:58.973Z"
   },
   {
    "duration": 33,
    "start_time": "2022-05-03T18:23:04.933Z"
   },
   {
    "duration": 4,
    "start_time": "2022-05-03T18:23:52.007Z"
   },
   {
    "duration": 23,
    "start_time": "2022-05-03T18:23:53.190Z"
   },
   {
    "duration": 347046,
    "start_time": "2022-05-03T18:24:41.358Z"
   },
   {
    "duration": 3561456,
    "start_time": "2022-05-03T18:30:28.408Z"
   },
   {
    "duration": 2326,
    "start_time": "2022-05-05T07:12:16.950Z"
   },
   {
    "duration": 2774,
    "start_time": "2022-05-05T07:12:27.346Z"
   },
   {
    "duration": 35,
    "start_time": "2022-05-05T07:12:32.270Z"
   },
   {
    "duration": 64,
    "start_time": "2022-05-05T07:12:35.062Z"
   },
   {
    "duration": 61,
    "start_time": "2022-05-05T07:12:35.737Z"
   },
   {
    "duration": 28,
    "start_time": "2022-05-05T07:12:36.482Z"
   },
   {
    "duration": 6735,
    "start_time": "2022-05-05T07:12:39.414Z"
   },
   {
    "duration": 5,
    "start_time": "2022-05-05T07:12:49.243Z"
   },
   {
    "duration": 6,
    "start_time": "2022-05-05T07:13:01.782Z"
   },
   {
    "duration": 2,
    "start_time": "2022-05-05T07:13:04.421Z"
   },
   {
    "duration": 17,
    "start_time": "2022-05-05T07:13:06.855Z"
   },
   {
    "duration": 15,
    "start_time": "2022-05-05T07:15:41.917Z"
   },
   {
    "duration": 235,
    "start_time": "2022-05-05T07:43:53.436Z"
   },
   {
    "duration": 15,
    "start_time": "2022-05-05T07:44:01.694Z"
   },
   {
    "duration": 62,
    "start_time": "2022-05-05T07:44:09.576Z"
   },
   {
    "duration": 7211,
    "start_time": "2022-05-05T07:45:05.970Z"
   },
   {
    "duration": 84,
    "start_time": "2022-05-05T07:45:43.694Z"
   },
   {
    "duration": 60,
    "start_time": "2022-05-05T07:45:56.490Z"
   },
   {
    "duration": 60,
    "start_time": "2022-05-05T07:45:57.998Z"
   },
   {
    "duration": 32,
    "start_time": "2022-05-05T07:46:02.210Z"
   },
   {
    "duration": 19875,
    "start_time": "2022-05-05T07:46:11.729Z"
   },
   {
    "duration": 130,
    "start_time": "2022-05-05T07:51:50.880Z"
   },
   {
    "duration": 11,
    "start_time": "2022-05-05T07:51:55.579Z"
   },
   {
    "duration": 9,
    "start_time": "2022-05-05T07:52:11.989Z"
   },
   {
    "duration": 13,
    "start_time": "2022-05-05T07:52:28.762Z"
   },
   {
    "duration": 188,
    "start_time": "2022-05-05T08:04:22.797Z"
   },
   {
    "duration": 20126,
    "start_time": "2022-05-05T08:04:48.047Z"
   },
   {
    "duration": 163,
    "start_time": "2022-05-05T08:12:56.479Z"
   },
   {
    "duration": 31988,
    "start_time": "2022-05-05T08:13:11.751Z"
   },
   {
    "duration": 10269,
    "start_time": "2022-05-05T08:13:46.635Z"
   },
   {
    "duration": 115832,
    "start_time": "2022-05-05T08:13:58.167Z"
   },
   {
    "duration": 102542,
    "start_time": "2022-05-05T08:16:43.463Z"
   },
   {
    "duration": 880716,
    "start_time": "2022-05-05T08:21:30.890Z"
   },
   {
    "duration": 81336,
    "start_time": "2022-05-05T08:53:18.611Z"
   },
   {
    "duration": 2073,
    "start_time": "2022-05-05T08:54:45.325Z"
   },
   {
    "duration": 3102,
    "start_time": "2022-05-05T08:54:54.241Z"
   },
   {
    "duration": 48,
    "start_time": "2022-05-05T08:54:57.345Z"
   },
   {
    "duration": 69,
    "start_time": "2022-05-05T08:55:01.200Z"
   },
   {
    "duration": 3,
    "start_time": "2022-05-05T08:55:16.107Z"
   },
   {
    "duration": 116,
    "start_time": "2022-05-05T08:55:19.678Z"
   },
   {
    "duration": 38,
    "start_time": "2022-05-05T08:55:25.325Z"
   },
   {
    "duration": 930454,
    "start_time": "2022-05-05T08:55:33.875Z"
   },
   {
    "duration": 4,
    "start_time": "2022-05-05T09:16:07.628Z"
   },
   {
    "duration": 3,
    "start_time": "2022-05-05T09:17:50.040Z"
   },
   {
    "duration": 4,
    "start_time": "2022-05-05T09:17:56.253Z"
   },
   {
    "duration": 5,
    "start_time": "2022-05-05T09:18:00.653Z"
   },
   {
    "duration": 6,
    "start_time": "2022-05-05T09:18:03.089Z"
   },
   {
    "duration": 881627,
    "start_time": "2022-05-05T09:19:26.000Z"
   },
   {
    "duration": 916624,
    "start_time": "2022-05-05T09:34:25.719Z"
   },
   {
    "duration": 988301,
    "start_time": "2022-05-05T09:56:26.229Z"
   },
   {
    "duration": 255,
    "start_time": "2022-05-05T10:14:29.585Z"
   },
   {
    "duration": 167,
    "start_time": "2022-05-05T10:14:33.501Z"
   },
   {
    "duration": 4,
    "start_time": "2022-05-05T10:14:36.620Z"
   },
   {
    "duration": 9,
    "start_time": "2022-05-05T10:14:44.942Z"
   },
   {
    "duration": 5,
    "start_time": "2022-05-05T10:17:27.822Z"
   },
   {
    "duration": 11,
    "start_time": "2022-05-05T10:17:48.699Z"
   },
   {
    "duration": 3,
    "start_time": "2022-05-05T10:17:55.279Z"
   },
   {
    "duration": 6868,
    "start_time": "2022-05-05T10:18:55.901Z"
   },
   {
    "duration": 29,
    "start_time": "2022-05-05T10:19:34.022Z"
   },
   {
    "duration": 46,
    "start_time": "2022-05-05T10:19:54.037Z"
   },
   {
    "duration": 11087,
    "start_time": "2022-05-05T10:20:01.740Z"
   },
   {
    "duration": 6570,
    "start_time": "2022-05-05T10:20:53.883Z"
   },
   {
    "duration": 32297,
    "start_time": "2022-05-05T10:21:31.729Z"
   },
   {
    "duration": 17,
    "start_time": "2022-05-05T10:23:32.066Z"
   },
   {
    "duration": 32463,
    "start_time": "2022-05-05T10:26:10.265Z"
   },
   {
    "duration": 927896,
    "start_time": "2022-05-05T10:32:59.341Z"
   },
   {
    "duration": 6845,
    "start_time": "2022-05-05T10:49:11.790Z"
   },
   {
    "duration": 40405,
    "start_time": "2022-05-05T10:49:25.316Z"
   },
   {
    "duration": 72,
    "start_time": "2022-05-06T17:08:58.950Z"
   },
   {
    "duration": 2563,
    "start_time": "2022-05-06T17:09:01.198Z"
   },
   {
    "duration": 1147,
    "start_time": "2022-05-06T17:09:03.765Z"
   },
   {
    "duration": 2056624,
    "start_time": "2022-05-06T17:09:12.638Z"
   },
   {
    "duration": 8195,
    "start_time": "2022-05-06T17:45:32.945Z"
   },
   {
    "duration": 6474,
    "start_time": "2022-05-06T17:45:43.198Z"
   },
   {
    "duration": 45,
    "start_time": "2022-05-06T17:45:50.395Z"
   },
   {
    "duration": 78,
    "start_time": "2022-05-06T17:45:55.697Z"
   },
   {
    "duration": 36,
    "start_time": "2022-05-06T17:45:57.010Z"
   },
   {
    "duration": 11633,
    "start_time": "2022-05-06T17:45:58.737Z"
   },
   {
    "duration": 7,
    "start_time": "2022-05-06T17:46:12.337Z"
   },
   {
    "duration": 8,
    "start_time": "2022-05-06T17:46:13.762Z"
   },
   {
    "duration": 4,
    "start_time": "2022-05-06T17:46:19.634Z"
   },
   {
    "duration": 23,
    "start_time": "2022-05-06T17:46:20.946Z"
   },
   {
    "duration": 21914,
    "start_time": "2022-05-06T17:46:24.058Z"
   },
   {
    "duration": 103,
    "start_time": "2022-05-06T17:46:47.931Z"
   },
   {
    "duration": 2656,
    "start_time": "2022-05-06T17:47:08.044Z"
   },
   {
    "duration": 36,
    "start_time": "2022-05-06T17:47:45.188Z"
   },
   {
    "duration": 75,
    "start_time": "2022-05-06T17:47:57.507Z"
   },
   {
    "duration": 42,
    "start_time": "2022-05-06T17:47:58.979Z"
   },
   {
    "duration": 10295,
    "start_time": "2022-05-06T17:48:03.466Z"
   },
   {
    "duration": 5,
    "start_time": "2022-05-06T17:50:52.430Z"
   },
   {
    "duration": 7,
    "start_time": "2022-05-06T17:50:53.853Z"
   },
   {
    "duration": 4,
    "start_time": "2022-05-06T17:50:58.726Z"
   },
   {
    "duration": 24,
    "start_time": "2022-05-06T17:50:59.861Z"
   },
   {
    "duration": 61,
    "start_time": "2022-05-06T17:51:04.494Z"
   },
   {
    "duration": 1201971,
    "start_time": "2022-05-06T17:51:23.967Z"
   },
   {
    "duration": 36265,
    "start_time": "2022-05-06T18:23:38.374Z"
   },
   {
    "duration": 1088085,
    "start_time": "2022-05-06T18:24:26.239Z"
   },
   {
    "duration": 36530,
    "start_time": "2022-05-06T18:44:15.814Z"
   },
   {
    "duration": 8602,
    "start_time": "2022-05-06T18:44:58.965Z"
   },
   {
    "duration": 331737,
    "start_time": "2022-05-06T18:45:18.623Z"
   },
   {
    "duration": 20,
    "start_time": "2022-05-06T19:25:10.781Z"
   },
   {
    "duration": 3686142,
    "start_time": "2022-05-06T19:57:36.155Z"
   }
  ],
  "kernelspec": {
   "display_name": "Python 3 (ipykernel)",
   "language": "python",
   "name": "python3"
  },
  "language_info": {
   "codemirror_mode": {
    "name": "ipython",
    "version": 3
   },
   "file_extension": ".py",
   "mimetype": "text/x-python",
   "name": "python",
   "nbconvert_exporter": "python",
   "pygments_lexer": "ipython3",
   "version": "3.9.5"
  },
  "toc": {
   "base_numbering": 1,
   "nav_menu": {},
   "number_sections": true,
   "sideBar": true,
   "skip_h1_title": true,
   "title_cell": "Содержание",
   "title_sidebar": "Contents",
   "toc_cell": true,
   "toc_position": {
    "height": "calc(100% - 180px)",
    "left": "10px",
    "top": "150px",
    "width": "302.386px"
   },
   "toc_section_display": true,
   "toc_window_display": true
  }
 },
 "nbformat": 4,
 "nbformat_minor": 2
}
