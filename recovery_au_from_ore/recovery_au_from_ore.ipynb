{
 "cells": [
  {
   "cell_type": "markdown",
   "metadata": {
    "toc": true
   },
   "source": [
    "<h1>Содержание<span class=\"tocSkip\"></span></h1>\n",
    "<div class=\"toc\"><ul class=\"toc-item\"><li><span><a href=\"#Подготовка-данных\" data-toc-modified-id=\"Подготовка-данных-1\"><span class=\"toc-item-num\">1&nbsp;&nbsp;</span>Подготовка данных</a></span><ul class=\"toc-item\"><li><span><a href=\"#Подключим-необходимые-нам-модули\" data-toc-modified-id=\"Подключим-необходимые-нам-модули-1.1\"><span class=\"toc-item-num\">1.1&nbsp;&nbsp;</span>Подключим необходимые нам модули</a></span></li><li><span><a href=\"#Загрузим-датасеты-в-память\" data-toc-modified-id=\"Загрузим-датасеты-в-память-1.2\"><span class=\"toc-item-num\">1.2&nbsp;&nbsp;</span>Загрузим датасеты в память</a></span></li><li><span><a href=\"#Посмотрим-как-выглядят-данные\" data-toc-modified-id=\"Посмотрим-как-выглядят-данные-1.3\"><span class=\"toc-item-num\">1.3&nbsp;&nbsp;</span>Посмотрим как выглядят данные</a></span></li><li><span><a href=\"#Диапазон-времени\" data-toc-modified-id=\"Диапазон-времени-1.4\"><span class=\"toc-item-num\">1.4&nbsp;&nbsp;</span>Диапазон времени</a></span><ul class=\"toc-item\"><li><span><a href=\"#Вывод:\" data-toc-modified-id=\"Вывод:-1.4.1\"><span class=\"toc-item-num\">1.4.1&nbsp;&nbsp;</span>Вывод:</a></span></li></ul></li><li><span><a href=\"#Заменим-точки-на-пробелы\" data-toc-modified-id=\"Заменим-точки-на-пробелы-1.5\"><span class=\"toc-item-num\">1.5&nbsp;&nbsp;</span>Заменим точки на пробелы</a></span></li><li><span><a href=\"#Оценим-объемы-датасетов\" data-toc-modified-id=\"Оценим-объемы-датасетов-1.6\"><span class=\"toc-item-num\">1.6&nbsp;&nbsp;</span>Оценим объемы датасетов</a></span><ul class=\"toc-item\"><li><span><a href=\"#Вывод:\" data-toc-modified-id=\"Вывод:-1.6.1\"><span class=\"toc-item-num\">1.6.1&nbsp;&nbsp;</span>Вывод:</a></span></li></ul></li><li><span><a href=\"#Проверка-корректности-расчета-эффективности-обогащения\" data-toc-modified-id=\"Проверка-корректности-расчета-эффективности-обогащения-1.7\"><span class=\"toc-item-num\">1.7&nbsp;&nbsp;</span>Проверка корректности расчета эффективности обогащения</a></span><ul class=\"toc-item\"><li><span><a href=\"#Вывод:\" data-toc-modified-id=\"Вывод:-1.7.1\"><span class=\"toc-item-num\">1.7.1&nbsp;&nbsp;</span>Вывод:</a></span></li></ul></li><li><span><a href=\"#Анализ-признаков-недоступных-в-тестовой-выборке\" data-toc-modified-id=\"Анализ-признаков-недоступных-в-тестовой-выборке-1.8\"><span class=\"toc-item-num\">1.8&nbsp;&nbsp;</span>Анализ признаков недоступных в тестовой выборке</a></span><ul class=\"toc-item\"><li><span><a href=\"#Вывод:\" data-toc-modified-id=\"Вывод:-1.8.1\"><span class=\"toc-item-num\">1.8.1&nbsp;&nbsp;</span>Вывод:</a></span></li></ul></li><li><span><a href=\"#Истинные-дубликаты\" data-toc-modified-id=\"Истинные-дубликаты-1.9\"><span class=\"toc-item-num\">1.9&nbsp;&nbsp;</span>Истинные дубликаты</a></span></li><li><span><a href=\"#Пропуски\" data-toc-modified-id=\"Пропуски-1.10\"><span class=\"toc-item-num\">1.10&nbsp;&nbsp;</span>Пропуски</a></span><ul class=\"toc-item\"><li><span><a href=\"#Во-многих-столбцах-есть-пропуски,-в-разных-столбцах-их-разное-количество,-но-они-не-превышают-12%-от-выборки.-Заменим-пропуски-на-средние-значения-по-признакам.\" data-toc-modified-id=\"Во-многих-столбцах-есть-пропуски,-в-разных-столбцах-их-разное-количество,-но-они-не-превышают-12%-от-выборки.-Заменим-пропуски-на-средние-значения-по-признакам.-1.10.1\"><span class=\"toc-item-num\">1.10.1&nbsp;&nbsp;</span>Во многих столбцах есть пропуски, в разных столбцах их разное количество, но они не превышают 12% от выборки. Заменим пропуски на средние значения по признакам.</a></span></li></ul></li><li><span><a href=\"#Взглянем-на-распределение-данных-в-признаках-(закоментировал,-долго-ждать)\" data-toc-modified-id=\"Взглянем-на-распределение-данных-в-признаках-(закоментировал,-долго-ждать)-1.11\"><span class=\"toc-item-num\">1.11&nbsp;&nbsp;</span>Взглянем на распределение данных в признаках (закоментировал, долго ждать)</a></span></li></ul></li><li><span><a href=\"#Анализ-данных\" data-toc-modified-id=\"Анализ-данных-2\"><span class=\"toc-item-num\">2&nbsp;&nbsp;</span>Анализ данных</a></span><ul class=\"toc-item\"><li><span><a href=\"#Посмотрим-как-меняется-концентрации-металлов-Au,-Ag,-Pb-на-разных-этапах-очистки.\" data-toc-modified-id=\"Посмотрим-как-меняется-концентрации-металлов-Au,-Ag,-Pb-на-разных-этапах-очистки.-2.1\"><span class=\"toc-item-num\">2.1&nbsp;&nbsp;</span>Посмотрим как меняется концентрации металлов Au, Ag, Pb на разных этапах очистки.</a></span><ul class=\"toc-item\"><li><span><a href=\"#Вывод:\" data-toc-modified-id=\"Вывод:-2.1.1\"><span class=\"toc-item-num\">2.1.1&nbsp;&nbsp;</span>Вывод:</a></span></li></ul></li><li><span><a href=\"#Сравним-распределения-размеров-гранул-сырья-на-обучающей-и-тестовой-выборках.\" data-toc-modified-id=\"Сравним-распределения-размеров-гранул-сырья-на-обучающей-и-тестовой-выборках.-2.2\"><span class=\"toc-item-num\">2.2&nbsp;&nbsp;</span>Сравним распределения размеров гранул сырья на обучающей и тестовой выборках.</a></span><ul class=\"toc-item\"><li><span><a href=\"#Вывод:\" data-toc-modified-id=\"Вывод:-2.2.1\"><span class=\"toc-item-num\">2.2.1&nbsp;&nbsp;</span>Вывод:</a></span></li></ul></li><li><span><a href=\"#Исследуем-суммарную-концентрацию-всех-веществ-на-разных-стадиях:-в-сырье,-в-черновом-и-в-финальном-концентратах\" data-toc-modified-id=\"Исследуем-суммарную-концентрацию-всех-веществ-на-разных-стадиях:-в-сырье,-в-черновом-и-в-финальном-концентратах-2.3\"><span class=\"toc-item-num\">2.3&nbsp;&nbsp;</span>Исследуем суммарную концентрацию всех веществ на разных стадиях: в сырье, в черновом и в финальном концентратах</a></span><ul class=\"toc-item\"><li><span><a href=\"#Вывод:\" data-toc-modified-id=\"Вывод:-2.3.1\"><span class=\"toc-item-num\">2.3.1&nbsp;&nbsp;</span>Вывод:</a></span></li></ul></li></ul></li><li><span><a href=\"#Модель\" data-toc-modified-id=\"Модель-3\"><span class=\"toc-item-num\">3&nbsp;&nbsp;</span>Модель</a></span><ul class=\"toc-item\"><li><span><a href=\"#Функция-для-вычисления-sMAPE-(итогового)\" data-toc-modified-id=\"Функция-для-вычисления-sMAPE-(итогового)-3.1\"><span class=\"toc-item-num\">3.1&nbsp;&nbsp;</span>Функция для вычисления sMAPE (итогового)</a></span></li><li><span><a href=\"#Выделим-признаки-для-обучения-и-целевой-признак\" data-toc-modified-id=\"Выделим-признаки-для-обучения-и-целевой-признак-3.2\"><span class=\"toc-item-num\">3.2&nbsp;&nbsp;</span>Выделим признаки для обучения и целевой признак</a></span></li><li><span><a href=\"#Маштабируем-признаки\" data-toc-modified-id=\"Маштабируем-признаки-3.3\"><span class=\"toc-item-num\">3.3&nbsp;&nbsp;</span>Маштабируем признаки</a></span></li><li><span><a href=\"#Обучим-модели-и-оценим-их-качество-метрикой-sMAPE-и-кросс-валидацией.-А-также-проверим-модели-на-адекватность-на-константной-модели-DummyRegressor\" data-toc-modified-id=\"Обучим-модели-и-оценим-их-качество-метрикой-sMAPE-и-кросс-валидацией.-А-также-проверим-модели-на-адекватность-на-константной-модели-DummyRegressor-3.4\"><span class=\"toc-item-num\">3.4&nbsp;&nbsp;</span>Обучим модели и оценим их качество метрикой sMAPE и кросс-валидацией. А также проверим модели на адекватность на константной модели DummyRegressor</a></span><ul class=\"toc-item\"><li><span><a href=\"#Вывод:\" data-toc-modified-id=\"Вывод:-3.4.1\"><span class=\"toc-item-num\">3.4.1&nbsp;&nbsp;</span>Вывод:</a></span></li></ul></li><li><span><a href=\"#Проверим-модель-на-тестовой-выборке\" data-toc-modified-id=\"Проверим-модель-на-тестовой-выборке-3.5\"><span class=\"toc-item-num\">3.5&nbsp;&nbsp;</span>Проверим модель на тестовой выборке</a></span></li><li><span><a href=\"#Извлечем-данные:-целевые-признаки-из-полной-выборки,-остальные-признаки---из-тестовой\" data-toc-modified-id=\"Извлечем-данные:-целевые-признаки-из-полной-выборки,-остальные-признаки---из-тестовой-3.6\"><span class=\"toc-item-num\">3.6&nbsp;&nbsp;</span>Извлечем данные: целевые признаки из полной выборки, остальные признаки - из тестовой</a></span></li><li><span><a href=\"#Проверим-на-Nan-и-дубликаты\" data-toc-modified-id=\"Проверим-на-Nan-и-дубликаты-3.7\"><span class=\"toc-item-num\">3.7&nbsp;&nbsp;</span>Проверим на Nan и дубликаты</a></span></li><li><span><a href=\"#Заполним-пропуски-средними-значениями-по-столбцу-(тренировочный-датасет)\" data-toc-modified-id=\"Заполним-пропуски-средними-значениями-по-столбцу-(тренировочный-датасет)-3.8\"><span class=\"toc-item-num\">3.8&nbsp;&nbsp;</span>Заполним пропуски средними значениями по столбцу (тренировочный датасет)</a></span></li><li><span><a href=\"#Маштабируем-признаки-для-тренировки-модели\" data-toc-modified-id=\"Маштабируем-признаки-для-тренировки-модели-3.9\"><span class=\"toc-item-num\">3.9&nbsp;&nbsp;</span>Маштабируем признаки для тренировки модели</a></span></li><li><span><a href=\"#Лучшие-результаты-нам-показала-модель-RandomForestRegressor-с-параметрами-max_depth=4,-n_estimators=30\" data-toc-modified-id=\"Лучшие-результаты-нам-показала-модель-RandomForestRegressor-с-параметрами-max_depth=4,-n_estimators=30-3.10\"><span class=\"toc-item-num\">3.10&nbsp;&nbsp;</span>Лучшие результаты нам показала модель RandomForestRegressor с параметрами max_depth=4, n_estimators=30</a></span></li><li><span><a href=\"#Обучим-константную-модель-и-оценим-ее\" data-toc-modified-id=\"Обучим-константную-модель-и-оценим-ее-3.11\"><span class=\"toc-item-num\">3.11&nbsp;&nbsp;</span>Обучим константную модель и оценим ее</a></span><ul class=\"toc-item\"><li><span><a href=\"#Вывод:-наша-отобранная-модель-показала-результат-лучше,-чем-константная.\" data-toc-modified-id=\"Вывод:-наша-отобранная-модель-показала-результат-лучше,-чем-константная.-3.11.1\"><span class=\"toc-item-num\">3.11.1&nbsp;&nbsp;</span>Вывод: наша отобранная модель показала результат лучше, чем константная.</a></span></li></ul></li></ul></li><li><span><a href=\"#ВЫВОД:\" data-toc-modified-id=\"ВЫВОД:-4\"><span class=\"toc-item-num\">4&nbsp;&nbsp;</span>ВЫВОД:</a></span></li><li><span><a href=\"#Чек-лист-готовности-проекта\" data-toc-modified-id=\"Чек-лист-готовности-проекта-5\"><span class=\"toc-item-num\">5&nbsp;&nbsp;</span>Чек-лист готовности проекта</a></span></li></ul></div>"
   ]
  },
  {
   "cell_type": "markdown",
   "metadata": {},
   "source": [
    "# Восстановление золота из руды"
   ]
  },
  {
   "cell_type": "markdown",
   "metadata": {},
   "source": [
    "Подготовьте прототип модели машинного обучения для «Цифры». Компания разрабатывает решения для эффективной работы промышленных предприятий.\n",
    "\n",
    "Модель должна предсказать коэффициент восстановления золота из золотосодержащей руды. Используйте данные с параметрами добычи и очистки. \n",
    "\n",
    "Модель поможет оптимизировать производство, чтобы не запускать предприятие с убыточными характеристиками.\n",
    "\n",
    "Вам нужно:\n",
    "\n",
    "1. Подготовить данные;\n",
    "2. Провести исследовательский анализ данных;\n",
    "3. Построить и обучить модель.\n",
    "\n",
    "Чтобы выполнить проект, обращайтесь к библиотекам *pandas*, *matplotlib* и *sklearn.* Вам поможет их документация."
   ]
  },
  {
   "cell_type": "markdown",
   "metadata": {},
   "source": [
    "## Подготовка данных"
   ]
  },
  {
   "cell_type": "markdown",
   "metadata": {},
   "source": [
    "### Подключим необходимые нам модули"
   ]
  },
  {
   "cell_type": "code",
   "execution_count": 1,
   "metadata": {
    "collapsed": true
   },
   "outputs": [],
   "source": [
    "import pandas as pd\n",
    "import numpy as np\n",
    "import datetime as dt\n",
    "from matplotlib import pyplot as plt\n",
    "import seaborn as sns\n",
    "from sklearn.metrics import mean_absolute_error\n",
    "from sklearn.linear_model import LinearRegression\n",
    "from sklearn.model_selection import cross_val_score\n",
    "from sklearn.metrics import make_scorer\n",
    "from sklearn.tree import DecisionTreeRegressor\n",
    "from sklearn.ensemble import RandomForestRegressor\n",
    "from sklearn.dummy import DummyRegressor\n",
    "from sklearn.preprocessing import StandardScaler\n",
    "from sklearn.pipeline import Pipeline"
   ]
  },
  {
   "cell_type": "markdown",
   "metadata": {},
   "source": [
    "### Загрузим датасеты в память"
   ]
  },
  {
   "cell_type": "code",
   "execution_count": 2,
   "metadata": {
    "collapsed": true
   },
   "outputs": [],
   "source": [
    "df_train = pd.read_csv('/datasets/gold_recovery_train_new.csv', parse_dates=['date'])\n",
    "df_test = pd.read_csv('/datasets/gold_recovery_test_new.csv', parse_dates=['date'])\n",
    "df_full = pd.read_csv('/datasets/gold_recovery_full_new.csv', parse_dates=['date'])"
   ]
  },
  {
   "cell_type": "markdown",
   "metadata": {},
   "source": [
    "### Посмотрим как выглядят данные"
   ]
  },
  {
   "cell_type": "code",
   "execution_count": 3,
   "metadata": {
    "collapsed": true
   },
   "outputs": [],
   "source": [
    "# display(df_train.head())\n",
    "# display(df_test.head())\n",
    "# display(df_full.head())                "
   ]
  },
  {
   "cell_type": "markdown",
   "metadata": {},
   "source": [
    "### Диапазон времени"
   ]
  },
  {
   "cell_type": "code",
   "execution_count": 4,
   "metadata": {},
   "outputs": [
    {
     "name": "stdout",
     "output_type": "stream",
     "text": [
      "2016-01-15 00:00:00 - 2018-08-18 10:59:59\n"
     ]
    },
    {
     "data": {
      "image/png": "[encoded data removed]",
      "text/plain": [
       "<Figure size 1800x360 with 1 Axes>"
      ]
     },
     "metadata": {
      "needs_background": "light"
     },
     "output_type": "display_data"
    }
   ],
   "source": [
    "print(df_train['date'].min(), '-', df_train['date'].max())\n",
    "\n",
    "df_train['date'].hist(grid=False, rwidth=0.7, figsize=(25,5), bins=100)\n",
    "plt.show()"
   ]
  },
  {
   "cell_type": "markdown",
   "metadata": {},
   "source": [
    "#### Вывод:\n",
    "Данные поступали каждый год втечении 9 месяцев с января по конец сентября."
   ]
  },
  {
   "cell_type": "markdown",
   "metadata": {},
   "source": [
    "### Заменим точки на пробелы"
   ]
  },
  {
   "cell_type": "code",
   "execution_count": 5,
   "metadata": {},
   "outputs": [
    {
     "name": "stderr",
     "output_type": "stream",
     "text": [
      "/tmp/ipykernel_109/3046883607.py:1: FutureWarning: The default value of regex will change from True to False in a future version. In addition, single character regular expressions will*not* be treated as literal strings when regex=True.\n",
      "  df_train.columns = df_train.columns.str.replace('.','_')\n",
      "/tmp/ipykernel_109/3046883607.py:2: FutureWarning: The default value of regex will change from True to False in a future version. In addition, single character regular expressions will*not* be treated as literal strings when regex=True.\n",
      "  df_test.columns = df_test.columns.str.replace('.','_')\n",
      "/tmp/ipykernel_109/3046883607.py:3: FutureWarning: The default value of regex will change from True to False in a future version. In addition, single character regular expressions will*not* be treated as literal strings when regex=True.\n",
      "  df_full.columns = df_full.columns.str.replace('.','_')\n"
     ]
    }
   ],
   "source": [
    "df_train.columns = df_train.columns.str.replace('.','_')\n",
    "df_test.columns = df_test.columns.str.replace('.','_')\n",
    "df_full.columns = df_full.columns.str.replace('.','_')"
   ]
  },
  {
   "cell_type": "markdown",
   "metadata": {},
   "source": [
    "### Оценим объемы датасетов"
   ]
  },
  {
   "cell_type": "code",
   "execution_count": 6,
   "metadata": {
    "scrolled": true
   },
   "outputs": [
    {
     "name": "stdout",
     "output_type": "stream",
     "text": [
      "df_train.shape = (14149, 87) = 72.79%\n",
      "df_test.shape  =  (5290, 53) = 27.21%\n",
      "df_full.shape  = (19439, 87)\n",
      "\n",
      "Сумма размреров тренировочной и тестовой выборок должна равнятся размеру полного датасета\n"
     ]
    },
    {
     "data": {
      "text/plain": [
       "True"
      ]
     },
     "execution_count": 6,
     "metadata": {},
     "output_type": "execute_result"
    }
   ],
   "source": [
    "print('df_train.shape = {} = {:.2%}'.format(df_train.shape, len(df_train)/len(df_full)))\n",
    "print('df_test.shape  =  {} = {:.2%}'.format(df_test.shape, len(df_test)/len(df_full)))\n",
    "print('df_full.shape  =', df_full.shape)\n",
    "print()\n",
    "print('Сумма размреров тренировочной и тестовой выборок должна равнятся размеру полного датасета')\n",
    "(len(df_full) == len(df_train) + len(df_test))"
   ]
  },
  {
   "cell_type": "markdown",
   "metadata": {},
   "source": [
    "#### Вывод: \n",
    "Тренировочная выборка содержит 3/4 датасета df_full, тестовая 1/4. Вместе они укладываются в размер выборки df_full, что, в общем-то, известно по условию (доверяй но проверяй)\n"
   ]
  },
  {
   "cell_type": "markdown",
   "metadata": {},
   "source": [
    "### Проверка корректности расчета эффективности обогащения"
   ]
  },
  {
   "cell_type": "code",
   "execution_count": 7,
   "metadata": {},
   "outputs": [
    {
     "name": "stdout",
     "output_type": "stream",
     "text": [
      "MAE =  9.73512347450521e-15\n"
     ]
    }
   ],
   "source": [
    "C = df_train['rougher_output_concentrate_au']\n",
    "F = df_train['rougher_input_feed_au']\n",
    "T = df_train['rougher_output_tail_au']\n",
    "\n",
    "recovery = (C * (F - T))/(F * (C - T)) * 100\n",
    "\n",
    "mae = mean_absolute_error(recovery, df_train['rougher_output_recovery'])\n",
    "\n",
    "print('MAE = ', mae)"
   ]
  },
  {
   "cell_type": "markdown",
   "metadata": {},
   "source": [
    "#### Вывод:\n",
    "MAE очень мало, что говорит о правильности расчетов эффективности обогащения в исходном датасете"
   ]
  },
  {
   "cell_type": "markdown",
   "metadata": {},
   "source": [
    "### Анализ признаков недоступных в тестовой выборке"
   ]
  },
  {
   "cell_type": "code",
   "execution_count": 8,
   "metadata": {
    "scrolled": false
   },
   "outputs": [
    {
     "name": "stdout",
     "output_type": "stream",
     "text": [
      "Разница количества параметров между тренировочной и тестовой выборок  = 34\n",
      "\n",
      "Вот эти параметры (которые есть в тренировочной, но нет в тестовой выборках):\n",
      "final_output_concentrate_ag\n",
      "final_output_concentrate_pb\n",
      "final_output_concentrate_sol\n",
      "final_output_concentrate_au\n",
      "final_output_recovery\n",
      "final_output_tail_ag\n",
      "final_output_tail_pb\n",
      "final_output_tail_sol\n",
      "final_output_tail_au\n",
      "primary_cleaner_output_concentrate_ag\n",
      "primary_cleaner_output_concentrate_pb\n",
      "primary_cleaner_output_concentrate_sol\n",
      "primary_cleaner_output_concentrate_au\n",
      "primary_cleaner_output_tail_ag\n",
      "primary_cleaner_output_tail_pb\n",
      "primary_cleaner_output_tail_sol\n",
      "primary_cleaner_output_tail_au\n",
      "rougher_calculation_sulfate_to_au_concentrate\n",
      "rougher_calculation_floatbank10_sulfate_to_au_feed\n",
      "rougher_calculation_floatbank11_sulfate_to_au_feed\n",
      "rougher_calculation_au_pb_ratio\n",
      "rougher_output_concentrate_ag\n",
      "rougher_output_concentrate_pb\n",
      "rougher_output_concentrate_sol\n",
      "rougher_output_concentrate_au\n",
      "rougher_output_recovery\n",
      "rougher_output_tail_ag\n",
      "rougher_output_tail_pb\n",
      "rougher_output_tail_sol\n",
      "rougher_output_tail_au\n",
      "secondary_cleaner_output_tail_ag\n",
      "secondary_cleaner_output_tail_pb\n",
      "secondary_cleaner_output_tail_sol\n",
      "secondary_cleaner_output_tail_au\n",
      "\n",
      "Параметры в тестовой выборке\n",
      "date\n",
      "primary_cleaner_input_sulfate\n",
      "primary_cleaner_input_depressant\n",
      "primary_cleaner_input_feed_size\n",
      "primary_cleaner_input_xanthate\n",
      "primary_cleaner_state_floatbank8_a_air\n",
      "primary_cleaner_state_floatbank8_a_level\n",
      "primary_cleaner_state_floatbank8_b_air\n",
      "primary_cleaner_state_floatbank8_b_level\n",
      "primary_cleaner_state_floatbank8_c_air\n",
      "primary_cleaner_state_floatbank8_c_level\n",
      "primary_cleaner_state_floatbank8_d_air\n",
      "primary_cleaner_state_floatbank8_d_level\n",
      "rougher_input_feed_ag\n",
      "rougher_input_feed_pb\n",
      "rougher_input_feed_rate\n",
      "rougher_input_feed_size\n",
      "rougher_input_feed_sol\n",
      "rougher_input_feed_au\n",
      "rougher_input_floatbank10_sulfate\n",
      "rougher_input_floatbank10_xanthate\n",
      "rougher_input_floatbank11_sulfate\n",
      "rougher_input_floatbank11_xanthate\n",
      "rougher_state_floatbank10_a_air\n",
      "rougher_state_floatbank10_a_level\n",
      "rougher_state_floatbank10_b_air\n",
      "rougher_state_floatbank10_b_level\n",
      "rougher_state_floatbank10_c_air\n",
      "rougher_state_floatbank10_c_level\n",
      "rougher_state_floatbank10_d_air\n",
      "rougher_state_floatbank10_d_level\n",
      "rougher_state_floatbank10_e_air\n",
      "rougher_state_floatbank10_e_level\n",
      "rougher_state_floatbank10_f_air\n",
      "rougher_state_floatbank10_f_level\n",
      "secondary_cleaner_state_floatbank2_a_air\n",
      "secondary_cleaner_state_floatbank2_a_level\n",
      "secondary_cleaner_state_floatbank2_b_air\n",
      "secondary_cleaner_state_floatbank2_b_level\n",
      "secondary_cleaner_state_floatbank3_a_air\n",
      "secondary_cleaner_state_floatbank3_a_level\n",
      "secondary_cleaner_state_floatbank3_b_air\n",
      "secondary_cleaner_state_floatbank3_b_level\n",
      "secondary_cleaner_state_floatbank4_a_air\n",
      "secondary_cleaner_state_floatbank4_a_level\n",
      "secondary_cleaner_state_floatbank4_b_air\n",
      "secondary_cleaner_state_floatbank4_b_level\n",
      "secondary_cleaner_state_floatbank5_a_air\n",
      "secondary_cleaner_state_floatbank5_a_level\n",
      "secondary_cleaner_state_floatbank5_b_air\n",
      "secondary_cleaner_state_floatbank5_b_level\n",
      "secondary_cleaner_state_floatbank6_a_air\n",
      "secondary_cleaner_state_floatbank6_a_level\n"
     ]
    }
   ],
   "source": [
    "print('Разница количества параметров между тренировочной и тестовой выборок  =', df_train.shape[1] - df_test.shape[1] )\n",
    "print()\n",
    "print('Вот эти параметры (которые есть в тренировочной, но нет в тестовой выборках):')\n",
    "_ = [print(x) for x in df_train.columns if x not in df_test.columns]\n",
    "print()\n",
    "print('Параметры в тестовой выборке')\n",
    "_ = [print(x) for x in df_test.columns]"
   ]
  },
  {
   "cell_type": "markdown",
   "metadata": {},
   "source": [
    "#### Вывод:\n",
    "Т.о. тестовая выборка содержит признаки с атрибуттом 'input' и 'state' (объем исходного сырья и реагентов, а также показатели текущего состояние этапа на определённое время. Исходя из этого, будем обучать модель на этих признаках"
   ]
  },
  {
   "cell_type": "markdown",
   "metadata": {},
   "source": [
    "### Истинные дубликаты"
   ]
  },
  {
   "cell_type": "code",
   "execution_count": 9,
   "metadata": {},
   "outputs": [
    {
     "name": "stdout",
     "output_type": "stream",
     "text": [
      "Дубликатов в df_train =  0\n",
      "Дубликатов в df_test  =  0\n",
      "Дубликатов в df_full  =  0\n"
     ]
    }
   ],
   "source": [
    "print('Дубликатов в df_train = ', df_train.duplicated().sum())\n",
    "print('Дубликатов в df_test  = ', df_test.duplicated().sum())\n",
    "print('Дубликатов в df_full  = ', df_full.duplicated().sum())"
   ]
  },
  {
   "cell_type": "markdown",
   "metadata": {},
   "source": [
    "### Пропуски"
   ]
  },
  {
   "cell_type": "code",
   "execution_count": 10,
   "metadata": {
    "scrolled": true
   },
   "outputs": [
    {
     "name": "stdout",
     "output_type": "stream",
     "text": [
      "Кол-во Nan в date                                               = 0     = 0.00%\n",
      "Кол-во Nan в final_output_concentrate_ag                        = 1     = 0.01%\n",
      "Кол-во Nan в final_output_concentrate_pb                        = 1     = 0.01%\n",
      "Кол-во Nan в final_output_concentrate_sol                       = 211   = 1.49%\n",
      "Кол-во Nan в final_output_concentrate_au                        = 0     = 0.00%\n",
      "Кол-во Nan в final_output_recovery                              = 0     = 0.00%\n",
      "Кол-во Nan в final_output_tail_ag                               = 0     = 0.00%\n",
      "Кол-во Nan в final_output_tail_pb                               = 100   = 0.71%\n",
      "Кол-во Nan в final_output_tail_sol                              = 5     = 0.04%\n",
      "Кол-во Nan в final_output_tail_au                               = 0     = 0.00%\n",
      "Кол-во Nan в primary_cleaner_input_sulfate                      = 20    = 0.14%\n",
      "Кол-во Nan в primary_cleaner_input_depressant                   = 32    = 0.23%\n",
      "Кол-во Nan в primary_cleaner_input_feed_size                    = 0     = 0.00%\n",
      "Кол-во Nan в primary_cleaner_input_xanthate                     = 100   = 0.71%\n",
      "Кол-во Nan в primary_cleaner_output_concentrate_ag              = 0     = 0.00%\n",
      "Кол-во Nan в primary_cleaner_output_concentrate_pb              = 86    = 0.61%\n",
      "Кол-во Nan в primary_cleaner_output_concentrate_sol             = 286   = 2.02%\n",
      "Кол-во Nan в primary_cleaner_output_concentrate_au              = 0     = 0.00%\n",
      "Кол-во Nan в primary_cleaner_output_tail_ag                     = 1     = 0.01%\n",
      "Кол-во Nan в primary_cleaner_output_tail_pb                     = 15    = 0.11%\n",
      "Кол-во Nan в primary_cleaner_output_tail_sol                    = 46    = 0.33%\n",
      "Кол-во Nan в primary_cleaner_output_tail_au                     = 0     = 0.00%\n",
      "Кол-во Nan в primary_cleaner_state_floatbank8_a_air             = 4     = 0.03%\n",
      "Кол-во Nan в primary_cleaner_state_floatbank8_a_level           = 1     = 0.01%\n",
      "Кол-во Nan в primary_cleaner_state_floatbank8_b_air             = 4     = 0.03%\n",
      "Кол-во Nan в primary_cleaner_state_floatbank8_b_level           = 1     = 0.01%\n",
      "Кол-во Nan в primary_cleaner_state_floatbank8_c_air             = 2     = 0.01%\n",
      "Кол-во Nan в primary_cleaner_state_floatbank8_c_level           = 1     = 0.01%\n",
      "Кол-во Nan в primary_cleaner_state_floatbank8_d_air             = 3     = 0.02%\n",
      "Кол-во Nan в primary_cleaner_state_floatbank8_d_level           = 1     = 0.01%\n",
      "Кол-во Nan в rougher_calculation_sulfate_to_au_concentrate      = 1     = 0.01%\n",
      "Кол-во Nan в rougher_calculation_floatbank10_sulfate_to_au_feed = 1     = 0.01%\n",
      "Кол-во Nan в rougher_calculation_floatbank11_sulfate_to_au_feed = 1     = 0.01%\n",
      "Кол-во Nan в rougher_calculation_au_pb_ratio                    = 0     = 0.00%\n",
      "Кол-во Nan в rougher_input_feed_ag                              = 0     = 0.00%\n",
      "Кол-во Nan в rougher_input_feed_pb                              = 100   = 0.71%\n",
      "Кол-во Nan в rougher_input_feed_rate                            = 8     = 0.06%\n",
      "Кол-во Nan в rougher_input_feed_size                            = 144   = 1.02%\n",
      "Кол-во Nan в rougher_input_feed_sol                             = 78    = 0.55%\n",
      "Кол-во Nan в rougher_input_feed_au                              = 0     = 0.00%\n",
      "Кол-во Nan в rougher_input_floatbank10_sulfate                  = 29    = 0.20%\n",
      "Кол-во Nan в rougher_input_floatbank10_xanthate                 = 8     = 0.06%\n",
      "Кол-во Nan в rougher_input_floatbank11_sulfate                  = 36    = 0.25%\n",
      "Кол-во Nan в rougher_input_floatbank11_xanthate                 = 428   = 3.02%\n",
      "Кол-во Nan в rougher_output_concentrate_ag                      = 0     = 0.00%\n",
      "Кол-во Nan в rougher_output_concentrate_pb                      = 0     = 0.00%\n",
      "Кол-во Nan в rougher_output_concentrate_sol                     = 22    = 0.16%\n",
      "Кол-во Nan в rougher_output_concentrate_au                      = 0     = 0.00%\n",
      "Кол-во Nan в rougher_output_recovery                            = 0     = 0.00%\n",
      "Кол-во Nan в rougher_output_tail_ag                             = 1     = 0.01%\n",
      "Кол-во Nan в rougher_output_tail_pb                             = 0     = 0.00%\n",
      "Кол-во Nan в rougher_output_tail_sol                            = 0     = 0.00%\n",
      "Кол-во Nan в rougher_output_tail_au                             = 0     = 0.00%\n",
      "Кол-во Nan в rougher_state_floatbank10_a_air                    = 1     = 0.01%\n",
      "Кол-во Nan в rougher_state_floatbank10_a_level                  = 1     = 0.01%\n",
      "Кол-во Nan в rougher_state_floatbank10_b_air                    = 1     = 0.01%\n",
      "Кол-во Nan в rougher_state_floatbank10_b_level                  = 1     = 0.01%\n",
      "Кол-во Nan в rougher_state_floatbank10_c_air                    = 1     = 0.01%\n",
      "Кол-во Nan в rougher_state_floatbank10_c_level                  = 1     = 0.01%\n",
      "Кол-во Nan в rougher_state_floatbank10_d_air                    = 0     = 0.00%\n",
      "Кол-во Nan в rougher_state_floatbank10_d_level                  = 0     = 0.00%\n",
      "Кол-во Nan в rougher_state_floatbank10_e_air                    = 436   = 3.08%\n",
      "Кол-во Nan в rougher_state_floatbank10_e_level                  = 0     = 0.00%\n",
      "Кол-во Nan в rougher_state_floatbank10_f_air                    = 0     = 0.00%\n",
      "Кол-во Nan в rougher_state_floatbank10_f_level                  = 0     = 0.00%\n",
      "Кол-во Nan в secondary_cleaner_output_tail_ag                   = 2     = 0.01%\n",
      "Кол-во Nan в secondary_cleaner_output_tail_pb                   = 10    = 0.07%\n",
      "Кол-во Nan в secondary_cleaner_output_tail_sol                  = 1605  = 11.34%\n",
      "Кол-во Nan в secondary_cleaner_output_tail_au                   = 0     = 0.00%\n",
      "Кол-во Nan в secondary_cleaner_state_floatbank2_a_air           = 217   = 1.53%\n",
      "Кол-во Nan в secondary_cleaner_state_floatbank2_a_level         = 1     = 0.01%\n",
      "Кол-во Nan в secondary_cleaner_state_floatbank2_b_air           = 21    = 0.15%\n",
      "Кол-во Nan в secondary_cleaner_state_floatbank2_b_level         = 1     = 0.01%\n",
      "Кол-во Nan в secondary_cleaner_state_floatbank3_a_air           = 4     = 0.03%\n",
      "Кол-во Nan в secondary_cleaner_state_floatbank3_a_level         = 1     = 0.01%\n",
      "Кол-во Nan в secondary_cleaner_state_floatbank3_b_air           = 1     = 0.01%\n",
      "Кол-во Nan в secondary_cleaner_state_floatbank3_b_level         = 1     = 0.01%\n",
      "Кол-во Nan в secondary_cleaner_state_floatbank4_a_air           = 6     = 0.04%\n",
      "Кол-во Nan в secondary_cleaner_state_floatbank4_a_level         = 1     = 0.01%\n",
      "Кол-во Nan в secondary_cleaner_state_floatbank4_b_air           = 1     = 0.01%\n",
      "Кол-во Nan в secondary_cleaner_state_floatbank4_b_level         = 1     = 0.01%\n",
      "Кол-во Nan в secondary_cleaner_state_floatbank5_a_air           = 1     = 0.01%\n",
      "Кол-во Nan в secondary_cleaner_state_floatbank5_a_level         = 1     = 0.01%\n",
      "Кол-во Nan в secondary_cleaner_state_floatbank5_b_air           = 1     = 0.01%\n",
      "Кол-во Nan в secondary_cleaner_state_floatbank5_b_level         = 1     = 0.01%\n",
      "Кол-во Nan в secondary_cleaner_state_floatbank6_a_air           = 2     = 0.01%\n",
      "Кол-во Nan в secondary_cleaner_state_floatbank6_a_level         = 1     = 0.01%\n"
     ]
    }
   ],
   "source": [
    "for col in df_train.columns:\n",
    "    print('Кол-во Nan в {} = {} = {:.2%}'.format(col.ljust(50), \n",
    "                                        str(df_train[col].isna().sum()).ljust(5), \n",
    "                                        df_train[col].isna().mean()))"
   ]
  },
  {
   "cell_type": "code",
   "execution_count": 11,
   "metadata": {},
   "outputs": [
    {
     "name": "stdout",
     "output_type": "stream",
     "text": [
      "Кол-во Nan в date                                               = 0     = 0.00%\n",
      "Кол-во Nan в final_output_concentrate_ag                        = 0     = 0.00%\n",
      "Кол-во Nan в final_output_concentrate_pb                        = 0     = 0.00%\n",
      "Кол-во Nan в final_output_concentrate_sol                       = 0     = 0.00%\n",
      "Кол-во Nan в final_output_concentrate_au                        = 0     = 0.00%\n",
      "Кол-во Nan в final_output_recovery                              = 0     = 0.00%\n",
      "Кол-во Nan в final_output_tail_ag                               = 0     = 0.00%\n",
      "Кол-во Nan в final_output_tail_pb                               = 0     = 0.00%\n",
      "Кол-во Nan в final_output_tail_sol                              = 0     = 0.00%\n",
      "Кол-во Nan в final_output_tail_au                               = 0     = 0.00%\n",
      "Кол-во Nan в primary_cleaner_input_sulfate                      = 0     = 0.00%\n",
      "Кол-во Nan в primary_cleaner_input_depressant                   = 0     = 0.00%\n",
      "Кол-во Nan в primary_cleaner_input_feed_size                    = 0     = 0.00%\n",
      "Кол-во Nan в primary_cleaner_input_xanthate                     = 0     = 0.00%\n",
      "Кол-во Nan в primary_cleaner_output_concentrate_ag              = 0     = 0.00%\n",
      "Кол-во Nan в primary_cleaner_output_concentrate_pb              = 0     = 0.00%\n",
      "Кол-во Nan в primary_cleaner_output_concentrate_sol             = 0     = 0.00%\n",
      "Кол-во Nan в primary_cleaner_output_concentrate_au              = 0     = 0.00%\n",
      "Кол-во Nan в primary_cleaner_output_tail_ag                     = 0     = 0.00%\n",
      "Кол-во Nan в primary_cleaner_output_tail_pb                     = 0     = 0.00%\n",
      "Кол-во Nan в primary_cleaner_output_tail_sol                    = 0     = 0.00%\n",
      "Кол-во Nan в primary_cleaner_output_tail_au                     = 0     = 0.00%\n",
      "Кол-во Nan в primary_cleaner_state_floatbank8_a_air             = 0     = 0.00%\n",
      "Кол-во Nan в primary_cleaner_state_floatbank8_a_level           = 0     = 0.00%\n",
      "Кол-во Nan в primary_cleaner_state_floatbank8_b_air             = 0     = 0.00%\n",
      "Кол-во Nan в primary_cleaner_state_floatbank8_b_level           = 0     = 0.00%\n",
      "Кол-во Nan в primary_cleaner_state_floatbank8_c_air             = 0     = 0.00%\n",
      "Кол-во Nan в primary_cleaner_state_floatbank8_c_level           = 0     = 0.00%\n",
      "Кол-во Nan в primary_cleaner_state_floatbank8_d_air             = 0     = 0.00%\n",
      "Кол-во Nan в primary_cleaner_state_floatbank8_d_level           = 0     = 0.00%\n",
      "Кол-во Nan в rougher_calculation_sulfate_to_au_concentrate      = 0     = 0.00%\n",
      "Кол-во Nan в rougher_calculation_floatbank10_sulfate_to_au_feed = 0     = 0.00%\n",
      "Кол-во Nan в rougher_calculation_floatbank11_sulfate_to_au_feed = 0     = 0.00%\n",
      "Кол-во Nan в rougher_calculation_au_pb_ratio                    = 0     = 0.00%\n",
      "Кол-во Nan в rougher_input_feed_ag                              = 0     = 0.00%\n",
      "Кол-во Nan в rougher_input_feed_pb                              = 0     = 0.00%\n",
      "Кол-во Nan в rougher_input_feed_rate                            = 0     = 0.00%\n",
      "Кол-во Nan в rougher_input_feed_size                            = 0     = 0.00%\n",
      "Кол-во Nan в rougher_input_feed_sol                             = 0     = 0.00%\n",
      "Кол-во Nan в rougher_input_feed_au                              = 0     = 0.00%\n",
      "Кол-во Nan в rougher_input_floatbank10_sulfate                  = 0     = 0.00%\n",
      "Кол-во Nan в rougher_input_floatbank10_xanthate                 = 0     = 0.00%\n",
      "Кол-во Nan в rougher_input_floatbank11_sulfate                  = 0     = 0.00%\n",
      "Кол-во Nan в rougher_input_floatbank11_xanthate                 = 0     = 0.00%\n",
      "Кол-во Nan в rougher_output_concentrate_ag                      = 0     = 0.00%\n",
      "Кол-во Nan в rougher_output_concentrate_pb                      = 0     = 0.00%\n",
      "Кол-во Nan в rougher_output_concentrate_sol                     = 0     = 0.00%\n",
      "Кол-во Nan в rougher_output_concentrate_au                      = 0     = 0.00%\n",
      "Кол-во Nan в rougher_output_recovery                            = 0     = 0.00%\n",
      "Кол-во Nan в rougher_output_tail_ag                             = 0     = 0.00%\n",
      "Кол-во Nan в rougher_output_tail_pb                             = 0     = 0.00%\n",
      "Кол-во Nan в rougher_output_tail_sol                            = 0     = 0.00%\n",
      "Кол-во Nan в rougher_output_tail_au                             = 0     = 0.00%\n",
      "Кол-во Nan в rougher_state_floatbank10_a_air                    = 0     = 0.00%\n",
      "Кол-во Nan в rougher_state_floatbank10_a_level                  = 0     = 0.00%\n",
      "Кол-во Nan в rougher_state_floatbank10_b_air                    = 0     = 0.00%\n",
      "Кол-во Nan в rougher_state_floatbank10_b_level                  = 0     = 0.00%\n",
      "Кол-во Nan в rougher_state_floatbank10_c_air                    = 0     = 0.00%\n",
      "Кол-во Nan в rougher_state_floatbank10_c_level                  = 0     = 0.00%\n",
      "Кол-во Nan в rougher_state_floatbank10_d_air                    = 0     = 0.00%\n",
      "Кол-во Nan в rougher_state_floatbank10_d_level                  = 0     = 0.00%\n",
      "Кол-во Nan в rougher_state_floatbank10_e_air                    = 0     = 0.00%\n",
      "Кол-во Nan в rougher_state_floatbank10_e_level                  = 0     = 0.00%\n",
      "Кол-во Nan в rougher_state_floatbank10_f_air                    = 0     = 0.00%\n",
      "Кол-во Nan в rougher_state_floatbank10_f_level                  = 0     = 0.00%\n",
      "Кол-во Nan в secondary_cleaner_output_tail_ag                   = 0     = 0.00%\n",
      "Кол-во Nan в secondary_cleaner_output_tail_pb                   = 0     = 0.00%\n",
      "Кол-во Nan в secondary_cleaner_output_tail_sol                  = 0     = 0.00%\n",
      "Кол-во Nan в secondary_cleaner_output_tail_au                   = 0     = 0.00%\n",
      "Кол-во Nan в secondary_cleaner_state_floatbank2_a_air           = 0     = 0.00%\n",
      "Кол-во Nan в secondary_cleaner_state_floatbank2_a_level         = 0     = 0.00%\n",
      "Кол-во Nan в secondary_cleaner_state_floatbank2_b_air           = 0     = 0.00%\n",
      "Кол-во Nan в secondary_cleaner_state_floatbank2_b_level         = 0     = 0.00%\n",
      "Кол-во Nan в secondary_cleaner_state_floatbank3_a_air           = 0     = 0.00%\n",
      "Кол-во Nan в secondary_cleaner_state_floatbank3_a_level         = 0     = 0.00%\n",
      "Кол-во Nan в secondary_cleaner_state_floatbank3_b_air           = 0     = 0.00%\n",
      "Кол-во Nan в secondary_cleaner_state_floatbank3_b_level         = 0     = 0.00%\n",
      "Кол-во Nan в secondary_cleaner_state_floatbank4_a_air           = 0     = 0.00%\n",
      "Кол-во Nan в secondary_cleaner_state_floatbank4_a_level         = 0     = 0.00%\n",
      "Кол-во Nan в secondary_cleaner_state_floatbank4_b_air           = 0     = 0.00%\n",
      "Кол-во Nan в secondary_cleaner_state_floatbank4_b_level         = 0     = 0.00%\n",
      "Кол-во Nan в secondary_cleaner_state_floatbank5_a_air           = 0     = 0.00%\n",
      "Кол-во Nan в secondary_cleaner_state_floatbank5_a_level         = 0     = 0.00%\n",
      "Кол-во Nan в secondary_cleaner_state_floatbank5_b_air           = 0     = 0.00%\n",
      "Кол-во Nan в secondary_cleaner_state_floatbank5_b_level         = 0     = 0.00%\n",
      "Кол-во Nan в secondary_cleaner_state_floatbank6_a_air           = 0     = 0.00%\n",
      "Кол-во Nan в secondary_cleaner_state_floatbank6_a_level         = 0     = 0.00%\n"
     ]
    }
   ],
   "source": [
    "for col in df_train.columns:\n",
    "    df_train[col] = df_train[col].fillna(method='ffill')\n",
    "            \n",
    "for col in df_train.columns:\n",
    "    print('Кол-во Nan в {} = {} = {:.2%}'.format(col.ljust(50), \n",
    "                                        str(df_train[col].isna().sum()).ljust(5), \n",
    "                                        df_train[col].isna().mean()))\n"
   ]
  },
  {
   "cell_type": "markdown",
   "metadata": {},
   "source": [
    "#### Во многих столбцах есть пропуски, в разных столбцах их разное количество, но они не превышают 12% от выборки. Заменим пропуски на средние значения по признакам."
   ]
  },
  {
   "cell_type": "markdown",
   "metadata": {},
   "source": [
    "### Взглянем на распределение данных в признаках (закоментировал, долго ждать)"
   ]
  },
  {
   "cell_type": "code",
   "execution_count": 12,
   "metadata": {
    "collapsed": true
   },
   "outputs": [],
   "source": [
    "# for col in df_train.columns:\n",
    "#     df_train[col].hist(grid=False, bins=25, rwidth=.9, figsize=(5,2))\n",
    "#     plt.title(col)\n",
    "#     plt.show()"
   ]
  },
  {
   "cell_type": "markdown",
   "metadata": {},
   "source": [
    "## Анализ данных"
   ]
  },
  {
   "cell_type": "markdown",
   "metadata": {},
   "source": [
    "### Посмотрим как меняется концентрации металлов Au, Ag, Pb на разных этапах очистки.\n",
    "<li>1 этап - Флотация              - rougher\n",
    "<li>2 этап - Черновой концетрат    - rougher_output_concentrate\n",
    "<li>3 этап - Первый этап очистки   - primary_cleaner\n",
    "<li>4 этап - Второй этап очистки   - secondary_cleaner"
   ]
  },
  {
   "cell_type": "code",
   "execution_count": 13,
   "metadata": {},
   "outputs": [
    {
     "data": {
      "image/png": "[encoded data removed]",
      "text/plain": [
       "<Figure size 1080x720 with 3 Axes>"
      ]
     },
     "metadata": {
      "needs_background": "light"
     },
     "output_type": "display_data"
    }
   ],
   "source": [
    "stage = ['rougher_input_feed_',\n",
    "         'rougher_output_concentrate_',\n",
    "         'primary_cleaner_output_concentrate_',\n",
    "         'final_output_concentrate_'\n",
    "]\n",
    "count = 1\n",
    "for elem in ['ag', 'pb', 'au']:\n",
    "    plt.subplot(3,1,count)\n",
    "    for stg in stage:\n",
    "        df_train.loc[:, stg+elem].hist(grid=False, figsize=(15,10), alpha=.5, bins=50, label=(stg[:-1]))\n",
    "        plt.title(elem)\n",
    "        plt.legend()\n",
    "    count+=1"
   ]
  },
  {
   "cell_type": "markdown",
   "metadata": {},
   "source": [
    "#### Вывод: \n",
    "Концентрация серебра в процессе очистки снижается, концентрация свинца остается на одном уровне, а вот концентрация золота повышается в разы."
   ]
  },
  {
   "cell_type": "markdown",
   "metadata": {},
   "source": [
    "### Сравним распределения размеров гранул сырья на обучающей и тестовой выборках."
   ]
  },
  {
   "cell_type": "code",
   "execution_count": 14,
   "metadata": {},
   "outputs": [
    {
     "data": {
      "image/png": "[encoded data removed]",
      "text/plain": [
       "<Figure size 1080x216 with 2 Axes>"
      ]
     },
     "metadata": {
      "needs_background": "light"
     },
     "output_type": "display_data"
    }
   ],
   "source": [
    "# _ = [print(x) for x in df_train.columns if 'feed_size' in x]\n",
    "plt.subplot(1,2,1)\n",
    "df_train['rougher_input_feed_size'].hist(grid=False, alpha=.5, bins=100, figsize=(15,3), density=True)\n",
    "df_test['rougher_input_feed_size'].hist(grid=False, alpha=.5, bins=100, density=True)\n",
    "plt.title('Распределение размеров гранул сырья на входе во флотацию')\n",
    "\n",
    "plt.subplot(1,2,2)\n",
    "df_train['primary_cleaner_input_feed_size'].hist(grid=False, alpha=.5, bins=100, density=True)\n",
    "df_test['primary_cleaner_input_feed_size'].hist(grid=False, alpha=.5, bins=100, density=True)\n",
    "plt.title('Распределение размеров гранул сырья на входе в первый этап очистки')\n",
    "plt.show()\n",
    "\n",
    "\n",
    "\n"
   ]
  },
  {
   "cell_type": "markdown",
   "metadata": {},
   "source": [
    "#### Вывод:\n",
    "В целом по размерам гранул выборки распределились равномерно, на входе во флотацию больше встречаются гранулы меньшего размера (распределение смещено вправо), уже при первом этапе очистки размеры гранул значительно меньше и распределы они нормально и в тренировочной и в тестовой выборке."
   ]
  },
  {
   "cell_type": "markdown",
   "metadata": {},
   "source": [
    "### Исследуем суммарную концентрацию всех веществ на разных стадиях: в сырье, в черновом и в финальном концентратах"
   ]
  },
  {
   "cell_type": "code",
   "execution_count": 15,
   "metadata": {},
   "outputs": [
    {
     "data": {
      "text/plain": [
       "0        6.100378\n",
       "1        6.161113\n",
       "2        6.116455\n",
       "3        6.043309\n",
       "4        6.060915\n",
       "           ...   \n",
       "14144    6.091855\n",
       "14145    6.121323\n",
       "14146    5.970515\n",
       "14147    6.048130\n",
       "14148    6.158718\n",
       "Name: rougher_input_feed_ag, Length: 14149, dtype: float64"
      ]
     },
     "execution_count": 15,
     "metadata": {},
     "output_type": "execute_result"
    }
   ],
   "source": [
    "df_train['rougher_input_feed_ag']"
   ]
  },
  {
   "cell_type": "code",
   "execution_count": 16,
   "metadata": {},
   "outputs": [
    {
     "data": {
      "image/png": "[encoded data removed]",
      "text/plain": [
       "<Figure size 432x288 with 1 Axes>"
      ]
     },
     "metadata": {
      "needs_background": "light"
     },
     "output_type": "display_data"
    },
    {
     "data": {
      "image/png": "[encoded data removed]",
      "text/plain": [
       "<Figure size 432x288 with 1 Axes>"
      ]
     },
     "metadata": {
      "needs_background": "light"
     },
     "output_type": "display_data"
    },
    {
     "data": {
      "image/png": "[encoded data removed]",
      "text/plain": [
       "<Figure size 432x288 with 1 Axes>"
      ]
     },
     "metadata": {
      "needs_background": "light"
     },
     "output_type": "display_data"
    }
   ],
   "source": [
    "df_train['sum_conc_feed'] =  df_train['rougher_input_feed_ag'] + \\\n",
    "df_train['rougher_input_feed_pb'] + df_train['rougher_input_feed_au'] + \\\n",
    "df_train['rougher_input_feed_sol']\n",
    "\n",
    "df_train['sum_conc_rougher'] =  df_train['rougher_output_concentrate_ag'] + \\\n",
    "df_train['rougher_output_concentrate_pb'] + df_train['rougher_output_concentrate_au'] + \\\n",
    "df_train['rougher_output_concentrate_sol']\n",
    "\n",
    "df_train['sum_conc_final'] =  df_train['final_output_concentrate_ag'] + \\\n",
    "df_train['final_output_concentrate_pb'] + df_train['final_output_concentrate_au'] + \\\n",
    "df_train['final_output_concentrate_sol']\n",
    "\n",
    "for x in ['sum_conc_feed', 'sum_conc_rougher', 'sum_conc_final']:\n",
    "    df_train[x].hist(grid=False, bins=50)\n",
    "    plt.title(x)\n",
    "    plt.show()"
   ]
  },
  {
   "cell_type": "markdown",
   "metadata": {},
   "source": [
    "#### Вывод:\n",
    "При некоторых процессах суммарная концентрация оказалась равной 0, чего быть не может. Уберём эти обекты из тренировочного датасета."
   ]
  },
  {
   "cell_type": "code",
   "execution_count": 17,
   "metadata": {
    "scrolled": true
   },
   "outputs": [
    {
     "name": "stdout",
     "output_type": "stream",
     "text": [
      "14149\n"
     ]
    },
    {
     "data": {
      "text/html": [
       "<div>\n",
       "<style scoped>\n",
       "    .dataframe tbody tr th:only-of-type {\n",
       "        vertical-align: middle;\n",
       "    }\n",
       "\n",
       "    .dataframe tbody tr th {\n",
       "        vertical-align: top;\n",
       "    }\n",
       "\n",
       "    .dataframe thead th {\n",
       "        text-align: right;\n",
       "    }\n",
       "</style>\n",
       "<table border=\"1\" class=\"dataframe\">\n",
       "  <thead>\n",
       "    <tr style=\"text-align: right;\">\n",
       "      <th></th>\n",
       "      <th>date</th>\n",
       "      <th>final_output_concentrate_ag</th>\n",
       "      <th>final_output_concentrate_pb</th>\n",
       "      <th>final_output_concentrate_sol</th>\n",
       "      <th>final_output_concentrate_au</th>\n",
       "      <th>final_output_recovery</th>\n",
       "      <th>final_output_tail_ag</th>\n",
       "      <th>final_output_tail_pb</th>\n",
       "      <th>final_output_tail_sol</th>\n",
       "      <th>final_output_tail_au</th>\n",
       "      <th>...</th>\n",
       "      <th>secondary_cleaner_state_floatbank4_b_level</th>\n",
       "      <th>secondary_cleaner_state_floatbank5_a_air</th>\n",
       "      <th>secondary_cleaner_state_floatbank5_a_level</th>\n",
       "      <th>secondary_cleaner_state_floatbank5_b_air</th>\n",
       "      <th>secondary_cleaner_state_floatbank5_b_level</th>\n",
       "      <th>secondary_cleaner_state_floatbank6_a_air</th>\n",
       "      <th>secondary_cleaner_state_floatbank6_a_level</th>\n",
       "      <th>sum_conc_feed</th>\n",
       "      <th>sum_conc_rougher</th>\n",
       "      <th>sum_conc_final</th>\n",
       "    </tr>\n",
       "  </thead>\n",
       "  <tbody>\n",
       "    <tr>\n",
       "      <th>644</th>\n",
       "      <td>2016-02-13 11:00:00</td>\n",
       "      <td>0.0</td>\n",
       "      <td>0.0</td>\n",
       "      <td>0.0</td>\n",
       "      <td>0.0</td>\n",
       "      <td>0.0</td>\n",
       "      <td>8.894029</td>\n",
       "      <td>0.843584</td>\n",
       "      <td>15.417342</td>\n",
       "      <td>1.779052</td>\n",
       "      <td>...</td>\n",
       "      <td>-401.366408</td>\n",
       "      <td>22.995012</td>\n",
       "      <td>-399.370680</td>\n",
       "      <td>20.966863</td>\n",
       "      <td>-399.308354</td>\n",
       "      <td>24.987274</td>\n",
       "      <td>-399.619808</td>\n",
       "      <td>46.703740</td>\n",
       "      <td>56.574778</td>\n",
       "      <td>0.0</td>\n",
       "    </tr>\n",
       "    <tr>\n",
       "      <th>1193</th>\n",
       "      <td>2016-03-11 10:00:00</td>\n",
       "      <td>0.0</td>\n",
       "      <td>0.0</td>\n",
       "      <td>0.0</td>\n",
       "      <td>0.0</td>\n",
       "      <td>0.0</td>\n",
       "      <td>10.817313</td>\n",
       "      <td>1.462800</td>\n",
       "      <td>16.407607</td>\n",
       "      <td>2.984504</td>\n",
       "      <td>...</td>\n",
       "      <td>-450.179844</td>\n",
       "      <td>11.982937</td>\n",
       "      <td>-449.856468</td>\n",
       "      <td>9.927727</td>\n",
       "      <td>-450.521700</td>\n",
       "      <td>19.971682</td>\n",
       "      <td>-500.685521</td>\n",
       "      <td>53.368945</td>\n",
       "      <td>61.681632</td>\n",
       "      <td>0.0</td>\n",
       "    </tr>\n",
       "    <tr>\n",
       "      <th>1194</th>\n",
       "      <td>2016-03-11 11:00:00</td>\n",
       "      <td>0.0</td>\n",
       "      <td>0.0</td>\n",
       "      <td>0.0</td>\n",
       "      <td>0.0</td>\n",
       "      <td>0.0</td>\n",
       "      <td>10.436792</td>\n",
       "      <td>1.207636</td>\n",
       "      <td>17.800392</td>\n",
       "      <td>2.747294</td>\n",
       "      <td>...</td>\n",
       "      <td>-449.684812</td>\n",
       "      <td>11.844983</td>\n",
       "      <td>-450.881424</td>\n",
       "      <td>9.916784</td>\n",
       "      <td>-449.542871</td>\n",
       "      <td>20.004767</td>\n",
       "      <td>-500.137068</td>\n",
       "      <td>51.963364</td>\n",
       "      <td>60.214950</td>\n",
       "      <td>0.0</td>\n",
       "    </tr>\n",
       "    <tr>\n",
       "      <th>1195</th>\n",
       "      <td>2016-03-11 12:00:00</td>\n",
       "      <td>0.0</td>\n",
       "      <td>0.0</td>\n",
       "      <td>0.0</td>\n",
       "      <td>0.0</td>\n",
       "      <td>0.0</td>\n",
       "      <td>10.637073</td>\n",
       "      <td>1.405778</td>\n",
       "      <td>17.195897</td>\n",
       "      <td>2.791440</td>\n",
       "      <td>...</td>\n",
       "      <td>-496.908551</td>\n",
       "      <td>12.091144</td>\n",
       "      <td>-496.404140</td>\n",
       "      <td>9.976074</td>\n",
       "      <td>-496.783155</td>\n",
       "      <td>19.921634</td>\n",
       "      <td>-500.769011</td>\n",
       "      <td>48.892687</td>\n",
       "      <td>58.592426</td>\n",
       "      <td>0.0</td>\n",
       "    </tr>\n",
       "    <tr>\n",
       "      <th>1196</th>\n",
       "      <td>2016-03-11 13:00:00</td>\n",
       "      <td>0.0</td>\n",
       "      <td>0.0</td>\n",
       "      <td>0.0</td>\n",
       "      <td>0.0</td>\n",
       "      <td>0.0</td>\n",
       "      <td>10.530320</td>\n",
       "      <td>1.461550</td>\n",
       "      <td>17.556860</td>\n",
       "      <td>2.682127</td>\n",
       "      <td>...</td>\n",
       "      <td>-500.162537</td>\n",
       "      <td>12.078809</td>\n",
       "      <td>-499.903743</td>\n",
       "      <td>10.075259</td>\n",
       "      <td>-499.540325</td>\n",
       "      <td>20.039788</td>\n",
       "      <td>-499.932405</td>\n",
       "      <td>49.265736</td>\n",
       "      <td>58.363177</td>\n",
       "      <td>0.0</td>\n",
       "    </tr>\n",
       "    <tr>\n",
       "      <th>1682</th>\n",
       "      <td>2016-04-09 17:00:00</td>\n",
       "      <td>0.0</td>\n",
       "      <td>0.0</td>\n",
       "      <td>0.0</td>\n",
       "      <td>0.0</td>\n",
       "      <td>0.0</td>\n",
       "      <td>2.943613</td>\n",
       "      <td>1.089791</td>\n",
       "      <td>4.050067</td>\n",
       "      <td>2.443084</td>\n",
       "      <td>...</td>\n",
       "      <td>-472.304428</td>\n",
       "      <td>12.012947</td>\n",
       "      <td>-498.936345</td>\n",
       "      <td>9.989854</td>\n",
       "      <td>-800.001639</td>\n",
       "      <td>19.960963</td>\n",
       "      <td>-500.498255</td>\n",
       "      <td>44.882879</td>\n",
       "      <td>0.000000</td>\n",
       "      <td>0.0</td>\n",
       "    </tr>\n",
       "    <tr>\n",
       "      <th>2019</th>\n",
       "      <td>2016-05-01 23:59:59</td>\n",
       "      <td>0.0</td>\n",
       "      <td>0.0</td>\n",
       "      <td>0.0</td>\n",
       "      <td>0.0</td>\n",
       "      <td>0.0</td>\n",
       "      <td>2.229996</td>\n",
       "      <td>0.439314</td>\n",
       "      <td>2.996147</td>\n",
       "      <td>1.049438</td>\n",
       "      <td>...</td>\n",
       "      <td>-502.673001</td>\n",
       "      <td>8.851882</td>\n",
       "      <td>-503.279765</td>\n",
       "      <td>9.037939</td>\n",
       "      <td>-500.400661</td>\n",
       "      <td>15.999356</td>\n",
       "      <td>-509.449510</td>\n",
       "      <td>57.115449</td>\n",
       "      <td>82.097253</td>\n",
       "      <td>0.0</td>\n",
       "    </tr>\n",
       "    <tr>\n",
       "      <th>2020</th>\n",
       "      <td>2016-05-02 00:59:59</td>\n",
       "      <td>0.0</td>\n",
       "      <td>0.0</td>\n",
       "      <td>0.0</td>\n",
       "      <td>0.0</td>\n",
       "      <td>0.0</td>\n",
       "      <td>8.816376</td>\n",
       "      <td>1.692314</td>\n",
       "      <td>12.001629</td>\n",
       "      <td>3.949153</td>\n",
       "      <td>...</td>\n",
       "      <td>-502.405376</td>\n",
       "      <td>8.972976</td>\n",
       "      <td>-498.876974</td>\n",
       "      <td>9.070907</td>\n",
       "      <td>-499.455708</td>\n",
       "      <td>16.026009</td>\n",
       "      <td>-492.939580</td>\n",
       "      <td>56.001311</td>\n",
       "      <td>80.583896</td>\n",
       "      <td>0.0</td>\n",
       "    </tr>\n",
       "    <tr>\n",
       "      <th>2236</th>\n",
       "      <td>2016-05-11 01:59:59</td>\n",
       "      <td>0.0</td>\n",
       "      <td>0.0</td>\n",
       "      <td>0.0</td>\n",
       "      <td>0.0</td>\n",
       "      <td>0.0</td>\n",
       "      <td>7.567252</td>\n",
       "      <td>1.991327</td>\n",
       "      <td>12.977099</td>\n",
       "      <td>3.170143</td>\n",
       "      <td>...</td>\n",
       "      <td>-500.180957</td>\n",
       "      <td>11.025995</td>\n",
       "      <td>-501.002632</td>\n",
       "      <td>6.093285</td>\n",
       "      <td>-500.452445</td>\n",
       "      <td>20.023462</td>\n",
       "      <td>-500.365653</td>\n",
       "      <td>56.164944</td>\n",
       "      <td>76.009105</td>\n",
       "      <td>0.0</td>\n",
       "    </tr>\n",
       "    <tr>\n",
       "      <th>3394</th>\n",
       "      <td>2016-07-06 04:59:59</td>\n",
       "      <td>0.0</td>\n",
       "      <td>0.0</td>\n",
       "      <td>0.0</td>\n",
       "      <td>0.0</td>\n",
       "      <td>0.0</td>\n",
       "      <td>6.266939</td>\n",
       "      <td>2.146631</td>\n",
       "      <td>7.240419</td>\n",
       "      <td>3.552111</td>\n",
       "      <td>...</td>\n",
       "      <td>-499.990413</td>\n",
       "      <td>16.993432</td>\n",
       "      <td>-501.022669</td>\n",
       "      <td>14.951274</td>\n",
       "      <td>-499.908216</td>\n",
       "      <td>24.984095</td>\n",
       "      <td>-499.000500</td>\n",
       "      <td>51.820284</td>\n",
       "      <td>59.970258</td>\n",
       "      <td>0.0</td>\n",
       "    </tr>\n",
       "    <tr>\n",
       "      <th>3395</th>\n",
       "      <td>2016-07-06 05:59:59</td>\n",
       "      <td>0.0</td>\n",
       "      <td>0.0</td>\n",
       "      <td>0.0</td>\n",
       "      <td>0.0</td>\n",
       "      <td>0.0</td>\n",
       "      <td>6.156921</td>\n",
       "      <td>2.036552</td>\n",
       "      <td>8.240251</td>\n",
       "      <td>3.398861</td>\n",
       "      <td>...</td>\n",
       "      <td>-499.379420</td>\n",
       "      <td>16.938729</td>\n",
       "      <td>-500.901347</td>\n",
       "      <td>15.060903</td>\n",
       "      <td>-500.161562</td>\n",
       "      <td>24.958637</td>\n",
       "      <td>-499.600205</td>\n",
       "      <td>43.460811</td>\n",
       "      <td>75.028906</td>\n",
       "      <td>0.0</td>\n",
       "    </tr>\n",
       "    <tr>\n",
       "      <th>3396</th>\n",
       "      <td>2016-07-06 06:59:59</td>\n",
       "      <td>0.0</td>\n",
       "      <td>0.0</td>\n",
       "      <td>0.0</td>\n",
       "      <td>0.0</td>\n",
       "      <td>0.0</td>\n",
       "      <td>2.537365</td>\n",
       "      <td>0.939253</td>\n",
       "      <td>5.531964</td>\n",
       "      <td>2.174925</td>\n",
       "      <td>...</td>\n",
       "      <td>-513.284934</td>\n",
       "      <td>16.607490</td>\n",
       "      <td>-498.514638</td>\n",
       "      <td>11.109718</td>\n",
       "      <td>-499.611735</td>\n",
       "      <td>25.025326</td>\n",
       "      <td>-499.049808</td>\n",
       "      <td>44.494328</td>\n",
       "      <td>81.550911</td>\n",
       "      <td>0.0</td>\n",
       "    </tr>\n",
       "    <tr>\n",
       "      <th>3397</th>\n",
       "      <td>2016-07-06 08:59:59</td>\n",
       "      <td>0.0</td>\n",
       "      <td>0.0</td>\n",
       "      <td>0.0</td>\n",
       "      <td>0.0</td>\n",
       "      <td>0.0</td>\n",
       "      <td>3.096506</td>\n",
       "      <td>1.131179</td>\n",
       "      <td>4.534668</td>\n",
       "      <td>1.889405</td>\n",
       "      <td>...</td>\n",
       "      <td>-500.221549</td>\n",
       "      <td>16.108189</td>\n",
       "      <td>-499.633768</td>\n",
       "      <td>7.118001</td>\n",
       "      <td>-498.021312</td>\n",
       "      <td>24.972537</td>\n",
       "      <td>-499.106327</td>\n",
       "      <td>48.750469</td>\n",
       "      <td>79.137508</td>\n",
       "      <td>0.0</td>\n",
       "    </tr>\n",
       "    <tr>\n",
       "      <th>3400</th>\n",
       "      <td>2016-07-06 12:59:59</td>\n",
       "      <td>0.0</td>\n",
       "      <td>0.0</td>\n",
       "      <td>0.0</td>\n",
       "      <td>0.0</td>\n",
       "      <td>0.0</td>\n",
       "      <td>6.478243</td>\n",
       "      <td>2.473995</td>\n",
       "      <td>12.423850</td>\n",
       "      <td>4.054269</td>\n",
       "      <td>...</td>\n",
       "      <td>-508.499701</td>\n",
       "      <td>16.074222</td>\n",
       "      <td>-495.402269</td>\n",
       "      <td>7.103943</td>\n",
       "      <td>-494.064445</td>\n",
       "      <td>25.024849</td>\n",
       "      <td>-495.267385</td>\n",
       "      <td>53.400670</td>\n",
       "      <td>71.437930</td>\n",
       "      <td>0.0</td>\n",
       "    </tr>\n",
       "    <tr>\n",
       "      <th>4215</th>\n",
       "      <td>2016-08-11 20:59:59</td>\n",
       "      <td>0.0</td>\n",
       "      <td>0.0</td>\n",
       "      <td>0.0</td>\n",
       "      <td>0.0</td>\n",
       "      <td>0.0</td>\n",
       "      <td>1.353362</td>\n",
       "      <td>0.470696</td>\n",
       "      <td>1.235183</td>\n",
       "      <td>1.021143</td>\n",
       "      <td>...</td>\n",
       "      <td>-402.711177</td>\n",
       "      <td>9.137868</td>\n",
       "      <td>-419.643823</td>\n",
       "      <td>4.933871</td>\n",
       "      <td>-402.132394</td>\n",
       "      <td>23.005263</td>\n",
       "      <td>-502.319385</td>\n",
       "      <td>61.331725</td>\n",
       "      <td>80.824756</td>\n",
       "      <td>0.0</td>\n",
       "    </tr>\n",
       "    <tr>\n",
       "      <th>4314</th>\n",
       "      <td>2016-08-15 23:59:59</td>\n",
       "      <td>0.0</td>\n",
       "      <td>0.0</td>\n",
       "      <td>0.0</td>\n",
       "      <td>0.0</td>\n",
       "      <td>0.0</td>\n",
       "      <td>10.796039</td>\n",
       "      <td>2.582106</td>\n",
       "      <td>11.105074</td>\n",
       "      <td>3.231677</td>\n",
       "      <td>...</td>\n",
       "      <td>-399.585744</td>\n",
       "      <td>15.086155</td>\n",
       "      <td>-396.783371</td>\n",
       "      <td>4.961631</td>\n",
       "      <td>-400.638627</td>\n",
       "      <td>23.037383</td>\n",
       "      <td>-498.990216</td>\n",
       "      <td>64.180280</td>\n",
       "      <td>69.024288</td>\n",
       "      <td>0.0</td>\n",
       "    </tr>\n",
       "    <tr>\n",
       "      <th>4564</th>\n",
       "      <td>2016-08-26 20:59:59</td>\n",
       "      <td>0.0</td>\n",
       "      <td>0.0</td>\n",
       "      <td>0.0</td>\n",
       "      <td>0.0</td>\n",
       "      <td>0.0</td>\n",
       "      <td>3.697301</td>\n",
       "      <td>1.378608</td>\n",
       "      <td>3.952049</td>\n",
       "      <td>2.579844</td>\n",
       "      <td>...</td>\n",
       "      <td>-499.963654</td>\n",
       "      <td>9.913467</td>\n",
       "      <td>-501.698056</td>\n",
       "      <td>5.011314</td>\n",
       "      <td>-500.390274</td>\n",
       "      <td>24.919704</td>\n",
       "      <td>-502.454004</td>\n",
       "      <td>55.733560</td>\n",
       "      <td>38.335303</td>\n",
       "      <td>0.0</td>\n",
       "    </tr>\n",
       "    <tr>\n",
       "      <th>4652</th>\n",
       "      <td>2016-08-30 18:59:59</td>\n",
       "      <td>0.0</td>\n",
       "      <td>0.0</td>\n",
       "      <td>0.0</td>\n",
       "      <td>0.0</td>\n",
       "      <td>0.0</td>\n",
       "      <td>7.904183</td>\n",
       "      <td>3.193653</td>\n",
       "      <td>3.656295</td>\n",
       "      <td>4.823467</td>\n",
       "      <td>...</td>\n",
       "      <td>-500.760128</td>\n",
       "      <td>8.043159</td>\n",
       "      <td>-500.391386</td>\n",
       "      <td>4.878516</td>\n",
       "      <td>-499.922582</td>\n",
       "      <td>31.480460</td>\n",
       "      <td>-501.107878</td>\n",
       "      <td>35.160922</td>\n",
       "      <td>28.135446</td>\n",
       "      <td>0.0</td>\n",
       "    </tr>\n",
       "    <tr>\n",
       "      <th>4653</th>\n",
       "      <td>2016-08-30 19:59:59</td>\n",
       "      <td>0.0</td>\n",
       "      <td>0.0</td>\n",
       "      <td>0.0</td>\n",
       "      <td>0.0</td>\n",
       "      <td>0.0</td>\n",
       "      <td>7.950315</td>\n",
       "      <td>3.216058</td>\n",
       "      <td>3.705181</td>\n",
       "      <td>4.844750</td>\n",
       "      <td>...</td>\n",
       "      <td>-500.107624</td>\n",
       "      <td>8.075202</td>\n",
       "      <td>-499.957983</td>\n",
       "      <td>4.897192</td>\n",
       "      <td>-500.423686</td>\n",
       "      <td>30.958862</td>\n",
       "      <td>-498.808359</td>\n",
       "      <td>29.928733</td>\n",
       "      <td>48.207629</td>\n",
       "      <td>0.0</td>\n",
       "    </tr>\n",
       "    <tr>\n",
       "      <th>4722</th>\n",
       "      <td>2017-01-02 16:59:59</td>\n",
       "      <td>0.0</td>\n",
       "      <td>0.0</td>\n",
       "      <td>0.0</td>\n",
       "      <td>0.0</td>\n",
       "      <td>0.0</td>\n",
       "      <td>10.512889</td>\n",
       "      <td>1.950646</td>\n",
       "      <td>11.188996</td>\n",
       "      <td>2.508362</td>\n",
       "      <td>...</td>\n",
       "      <td>-473.509616</td>\n",
       "      <td>17.395327</td>\n",
       "      <td>-499.938041</td>\n",
       "      <td>8.054456</td>\n",
       "      <td>-500.574345</td>\n",
       "      <td>19.972880</td>\n",
       "      <td>-601.259265</td>\n",
       "      <td>55.353011</td>\n",
       "      <td>76.938935</td>\n",
       "      <td>0.0</td>\n",
       "    </tr>\n",
       "    <tr>\n",
       "      <th>4723</th>\n",
       "      <td>2017-01-02 17:59:59</td>\n",
       "      <td>0.0</td>\n",
       "      <td>0.0</td>\n",
       "      <td>0.0</td>\n",
       "      <td>0.0</td>\n",
       "      <td>0.0</td>\n",
       "      <td>9.955941</td>\n",
       "      <td>1.935196</td>\n",
       "      <td>11.133852</td>\n",
       "      <td>2.797546</td>\n",
       "      <td>...</td>\n",
       "      <td>-497.866523</td>\n",
       "      <td>17.070479</td>\n",
       "      <td>-496.127166</td>\n",
       "      <td>8.045207</td>\n",
       "      <td>-470.953271</td>\n",
       "      <td>20.014482</td>\n",
       "      <td>-591.060032</td>\n",
       "      <td>54.416755</td>\n",
       "      <td>76.075400</td>\n",
       "      <td>0.0</td>\n",
       "    </tr>\n",
       "    <tr>\n",
       "      <th>4724</th>\n",
       "      <td>2017-01-02 18:59:59</td>\n",
       "      <td>0.0</td>\n",
       "      <td>0.0</td>\n",
       "      <td>0.0</td>\n",
       "      <td>0.0</td>\n",
       "      <td>0.0</td>\n",
       "      <td>10.106171</td>\n",
       "      <td>1.712132</td>\n",
       "      <td>11.092376</td>\n",
       "      <td>2.385774</td>\n",
       "      <td>...</td>\n",
       "      <td>-499.649898</td>\n",
       "      <td>17.173301</td>\n",
       "      <td>-504.678878</td>\n",
       "      <td>8.077081</td>\n",
       "      <td>-484.275794</td>\n",
       "      <td>19.991623</td>\n",
       "      <td>-609.490127</td>\n",
       "      <td>53.833074</td>\n",
       "      <td>78.063224</td>\n",
       "      <td>0.0</td>\n",
       "    </tr>\n",
       "    <tr>\n",
       "      <th>4965</th>\n",
       "      <td>2017-01-18 13:59:59</td>\n",
       "      <td>0.0</td>\n",
       "      <td>0.0</td>\n",
       "      <td>0.0</td>\n",
       "      <td>0.0</td>\n",
       "      <td>0.0</td>\n",
       "      <td>0.135709</td>\n",
       "      <td>0.248237</td>\n",
       "      <td>10.817715</td>\n",
       "      <td>0.541934</td>\n",
       "      <td>...</td>\n",
       "      <td>-499.244981</td>\n",
       "      <td>-0.176485</td>\n",
       "      <td>-500.816086</td>\n",
       "      <td>8.093619</td>\n",
       "      <td>-500.197658</td>\n",
       "      <td>19.986522</td>\n",
       "      <td>-602.355855</td>\n",
       "      <td>51.138807</td>\n",
       "      <td>81.583286</td>\n",
       "      <td>0.0</td>\n",
       "    </tr>\n",
       "    <tr>\n",
       "      <th>4966</th>\n",
       "      <td>2017-01-18 14:59:59</td>\n",
       "      <td>0.0</td>\n",
       "      <td>0.0</td>\n",
       "      <td>0.0</td>\n",
       "      <td>0.0</td>\n",
       "      <td>0.0</td>\n",
       "      <td>7.804423</td>\n",
       "      <td>3.130217</td>\n",
       "      <td>5.586386</td>\n",
       "      <td>3.420555</td>\n",
       "      <td>...</td>\n",
       "      <td>-500.025438</td>\n",
       "      <td>-0.178880</td>\n",
       "      <td>-491.880038</td>\n",
       "      <td>8.035219</td>\n",
       "      <td>-481.808531</td>\n",
       "      <td>19.941542</td>\n",
       "      <td>-595.360820</td>\n",
       "      <td>53.901216</td>\n",
       "      <td>80.309850</td>\n",
       "      <td>0.0</td>\n",
       "    </tr>\n",
       "    <tr>\n",
       "      <th>4967</th>\n",
       "      <td>2017-01-18 15:59:59</td>\n",
       "      <td>0.0</td>\n",
       "      <td>0.0</td>\n",
       "      <td>0.0</td>\n",
       "      <td>0.0</td>\n",
       "      <td>0.0</td>\n",
       "      <td>4.990116</td>\n",
       "      <td>2.905931</td>\n",
       "      <td>5.256589</td>\n",
       "      <td>4.213483</td>\n",
       "      <td>...</td>\n",
       "      <td>-499.556599</td>\n",
       "      <td>-0.173919</td>\n",
       "      <td>-446.036106</td>\n",
       "      <td>3.145675</td>\n",
       "      <td>-240.872031</td>\n",
       "      <td>2.319944</td>\n",
       "      <td>-642.122184</td>\n",
       "      <td>45.755537</td>\n",
       "      <td>74.960131</td>\n",
       "      <td>0.0</td>\n",
       "    </tr>\n",
       "    <tr>\n",
       "      <th>4968</th>\n",
       "      <td>2017-01-18 16:59:59</td>\n",
       "      <td>0.0</td>\n",
       "      <td>0.0</td>\n",
       "      <td>0.0</td>\n",
       "      <td>0.0</td>\n",
       "      <td>0.0</td>\n",
       "      <td>3.166338</td>\n",
       "      <td>2.024801</td>\n",
       "      <td>4.348096</td>\n",
       "      <td>3.584731</td>\n",
       "      <td>...</td>\n",
       "      <td>-500.120965</td>\n",
       "      <td>-0.173552</td>\n",
       "      <td>-563.737693</td>\n",
       "      <td>0.679409</td>\n",
       "      <td>-746.432635</td>\n",
       "      <td>0.259505</td>\n",
       "      <td>-809.057864</td>\n",
       "      <td>49.571019</td>\n",
       "      <td>72.865254</td>\n",
       "      <td>0.0</td>\n",
       "    </tr>\n",
       "    <tr>\n",
       "      <th>4969</th>\n",
       "      <td>2017-01-18 20:59:59</td>\n",
       "      <td>0.0</td>\n",
       "      <td>0.0</td>\n",
       "      <td>0.0</td>\n",
       "      <td>0.0</td>\n",
       "      <td>0.0</td>\n",
       "      <td>2.750531</td>\n",
       "      <td>1.193930</td>\n",
       "      <td>2.370671</td>\n",
       "      <td>1.714487</td>\n",
       "      <td>...</td>\n",
       "      <td>-499.286761</td>\n",
       "      <td>-0.187038</td>\n",
       "      <td>-507.170200</td>\n",
       "      <td>0.692224</td>\n",
       "      <td>-500.585885</td>\n",
       "      <td>19.998121</td>\n",
       "      <td>-808.143270</td>\n",
       "      <td>49.011234</td>\n",
       "      <td>75.407392</td>\n",
       "      <td>0.0</td>\n",
       "    </tr>\n",
       "    <tr>\n",
       "      <th>5139</th>\n",
       "      <td>2017-01-26 09:59:59</td>\n",
       "      <td>0.0</td>\n",
       "      <td>0.0</td>\n",
       "      <td>0.0</td>\n",
       "      <td>0.0</td>\n",
       "      <td>0.0</td>\n",
       "      <td>10.617218</td>\n",
       "      <td>2.747829</td>\n",
       "      <td>9.417774</td>\n",
       "      <td>2.990722</td>\n",
       "      <td>...</td>\n",
       "      <td>-499.762327</td>\n",
       "      <td>22.977603</td>\n",
       "      <td>-499.840145</td>\n",
       "      <td>20.017758</td>\n",
       "      <td>-499.845860</td>\n",
       "      <td>25.001965</td>\n",
       "      <td>-599.982239</td>\n",
       "      <td>56.736779</td>\n",
       "      <td>81.462697</td>\n",
       "      <td>0.0</td>\n",
       "    </tr>\n",
       "    <tr>\n",
       "      <th>5140</th>\n",
       "      <td>2017-01-26 10:59:59</td>\n",
       "      <td>0.0</td>\n",
       "      <td>0.0</td>\n",
       "      <td>0.0</td>\n",
       "      <td>0.0</td>\n",
       "      <td>0.0</td>\n",
       "      <td>10.864712</td>\n",
       "      <td>2.841514</td>\n",
       "      <td>9.153641</td>\n",
       "      <td>3.115444</td>\n",
       "      <td>...</td>\n",
       "      <td>-499.684250</td>\n",
       "      <td>23.013882</td>\n",
       "      <td>-499.773163</td>\n",
       "      <td>19.981647</td>\n",
       "      <td>-500.137454</td>\n",
       "      <td>25.006088</td>\n",
       "      <td>-600.019283</td>\n",
       "      <td>56.258034</td>\n",
       "      <td>81.806790</td>\n",
       "      <td>0.0</td>\n",
       "    </tr>\n",
       "    <tr>\n",
       "      <th>5784</th>\n",
       "      <td>2017-02-24 03:59:59</td>\n",
       "      <td>0.0</td>\n",
       "      <td>0.0</td>\n",
       "      <td>0.0</td>\n",
       "      <td>0.0</td>\n",
       "      <td>0.0</td>\n",
       "      <td>1.764912</td>\n",
       "      <td>0.620707</td>\n",
       "      <td>1.132730</td>\n",
       "      <td>0.619892</td>\n",
       "      <td>...</td>\n",
       "      <td>-400.510308</td>\n",
       "      <td>23.023228</td>\n",
       "      <td>-451.347752</td>\n",
       "      <td>20.007511</td>\n",
       "      <td>-450.038643</td>\n",
       "      <td>25.008392</td>\n",
       "      <td>-500.220216</td>\n",
       "      <td>65.394965</td>\n",
       "      <td>78.190858</td>\n",
       "      <td>0.0</td>\n",
       "    </tr>\n",
       "    <tr>\n",
       "      <th>5871</th>\n",
       "      <td>2017-02-28 14:59:59</td>\n",
       "      <td>0.0</td>\n",
       "      <td>0.0</td>\n",
       "      <td>0.0</td>\n",
       "      <td>0.0</td>\n",
       "      <td>0.0</td>\n",
       "      <td>6.289242</td>\n",
       "      <td>2.166043</td>\n",
       "      <td>1.634677</td>\n",
       "      <td>3.043306</td>\n",
       "      <td>...</td>\n",
       "      <td>-399.508585</td>\n",
       "      <td>20.682065</td>\n",
       "      <td>-443.596068</td>\n",
       "      <td>18.017448</td>\n",
       "      <td>-386.843550</td>\n",
       "      <td>25.021448</td>\n",
       "      <td>-499.457263</td>\n",
       "      <td>53.407404</td>\n",
       "      <td>87.656661</td>\n",
       "      <td>0.0</td>\n",
       "    </tr>\n",
       "    <tr>\n",
       "      <th>5872</th>\n",
       "      <td>2017-02-28 15:59:59</td>\n",
       "      <td>0.0</td>\n",
       "      <td>0.0</td>\n",
       "      <td>0.0</td>\n",
       "      <td>0.0</td>\n",
       "      <td>0.0</td>\n",
       "      <td>9.824167</td>\n",
       "      <td>3.652339</td>\n",
       "      <td>4.377406</td>\n",
       "      <td>5.599697</td>\n",
       "      <td>...</td>\n",
       "      <td>-400.374134</td>\n",
       "      <td>20.176891</td>\n",
       "      <td>-454.657471</td>\n",
       "      <td>19.257933</td>\n",
       "      <td>-449.820792</td>\n",
       "      <td>24.979159</td>\n",
       "      <td>-501.400800</td>\n",
       "      <td>56.013915</td>\n",
       "      <td>87.918479</td>\n",
       "      <td>0.0</td>\n",
       "    </tr>\n",
       "    <tr>\n",
       "      <th>6016</th>\n",
       "      <td>2017-03-06 17:59:59</td>\n",
       "      <td>0.0</td>\n",
       "      <td>0.0</td>\n",
       "      <td>0.0</td>\n",
       "      <td>0.0</td>\n",
       "      <td>0.0</td>\n",
       "      <td>8.788438</td>\n",
       "      <td>2.970928</td>\n",
       "      <td>7.091474</td>\n",
       "      <td>3.440660</td>\n",
       "      <td>...</td>\n",
       "      <td>-399.946201</td>\n",
       "      <td>23.636238</td>\n",
       "      <td>-450.648239</td>\n",
       "      <td>19.957525</td>\n",
       "      <td>-449.878949</td>\n",
       "      <td>24.999677</td>\n",
       "      <td>-500.240701</td>\n",
       "      <td>53.300638</td>\n",
       "      <td>71.562927</td>\n",
       "      <td>0.0</td>\n",
       "    </tr>\n",
       "    <tr>\n",
       "      <th>6017</th>\n",
       "      <td>2017-03-06 18:59:59</td>\n",
       "      <td>0.0</td>\n",
       "      <td>0.0</td>\n",
       "      <td>0.0</td>\n",
       "      <td>0.0</td>\n",
       "      <td>0.0</td>\n",
       "      <td>8.865775</td>\n",
       "      <td>2.954853</td>\n",
       "      <td>7.439434</td>\n",
       "      <td>3.476479</td>\n",
       "      <td>...</td>\n",
       "      <td>-399.595670</td>\n",
       "      <td>23.654748</td>\n",
       "      <td>-449.556038</td>\n",
       "      <td>20.001880</td>\n",
       "      <td>-449.899258</td>\n",
       "      <td>24.992970</td>\n",
       "      <td>-499.427043</td>\n",
       "      <td>53.469934</td>\n",
       "      <td>72.407240</td>\n",
       "      <td>0.0</td>\n",
       "    </tr>\n",
       "    <tr>\n",
       "      <th>6018</th>\n",
       "      <td>2017-03-06 19:59:59</td>\n",
       "      <td>0.0</td>\n",
       "      <td>0.0</td>\n",
       "      <td>0.0</td>\n",
       "      <td>0.0</td>\n",
       "      <td>0.0</td>\n",
       "      <td>8.499353</td>\n",
       "      <td>2.827313</td>\n",
       "      <td>8.296913</td>\n",
       "      <td>3.443548</td>\n",
       "      <td>...</td>\n",
       "      <td>-400.448353</td>\n",
       "      <td>23.673025</td>\n",
       "      <td>-449.945883</td>\n",
       "      <td>20.014044</td>\n",
       "      <td>-449.745174</td>\n",
       "      <td>24.990666</td>\n",
       "      <td>-500.726526</td>\n",
       "      <td>54.112593</td>\n",
       "      <td>73.405420</td>\n",
       "      <td>0.0</td>\n",
       "    </tr>\n",
       "    <tr>\n",
       "      <th>6019</th>\n",
       "      <td>2017-03-06 20:59:59</td>\n",
       "      <td>0.0</td>\n",
       "      <td>0.0</td>\n",
       "      <td>0.0</td>\n",
       "      <td>0.0</td>\n",
       "      <td>0.0</td>\n",
       "      <td>8.168545</td>\n",
       "      <td>2.779809</td>\n",
       "      <td>8.939608</td>\n",
       "      <td>3.451607</td>\n",
       "      <td>...</td>\n",
       "      <td>-399.882444</td>\n",
       "      <td>23.734240</td>\n",
       "      <td>-450.039391</td>\n",
       "      <td>20.002802</td>\n",
       "      <td>-450.185386</td>\n",
       "      <td>24.999566</td>\n",
       "      <td>-500.059471</td>\n",
       "      <td>54.122333</td>\n",
       "      <td>73.686489</td>\n",
       "      <td>0.0</td>\n",
       "    </tr>\n",
       "    <tr>\n",
       "      <th>6254</th>\n",
       "      <td>2017-03-17 10:59:59</td>\n",
       "      <td>0.0</td>\n",
       "      <td>0.0</td>\n",
       "      <td>0.0</td>\n",
       "      <td>0.0</td>\n",
       "      <td>0.0</td>\n",
       "      <td>9.365576</td>\n",
       "      <td>3.180765</td>\n",
       "      <td>4.904181</td>\n",
       "      <td>4.489633</td>\n",
       "      <td>...</td>\n",
       "      <td>-399.308497</td>\n",
       "      <td>20.696742</td>\n",
       "      <td>-446.237788</td>\n",
       "      <td>19.952652</td>\n",
       "      <td>-445.274527</td>\n",
       "      <td>25.009526</td>\n",
       "      <td>-499.299024</td>\n",
       "      <td>61.578323</td>\n",
       "      <td>70.064479</td>\n",
       "      <td>0.0</td>\n",
       "    </tr>\n",
       "    <tr>\n",
       "      <th>6430</th>\n",
       "      <td>2017-03-28 02:59:59</td>\n",
       "      <td>0.0</td>\n",
       "      <td>0.0</td>\n",
       "      <td>0.0</td>\n",
       "      <td>0.0</td>\n",
       "      <td>0.0</td>\n",
       "      <td>6.052901</td>\n",
       "      <td>1.855451</td>\n",
       "      <td>6.201678</td>\n",
       "      <td>2.423505</td>\n",
       "      <td>...</td>\n",
       "      <td>-399.868919</td>\n",
       "      <td>29.144954</td>\n",
       "      <td>-449.497572</td>\n",
       "      <td>24.036333</td>\n",
       "      <td>-450.062637</td>\n",
       "      <td>25.004345</td>\n",
       "      <td>-497.467197</td>\n",
       "      <td>64.683886</td>\n",
       "      <td>75.331692</td>\n",
       "      <td>0.0</td>\n",
       "    </tr>\n",
       "    <tr>\n",
       "      <th>7050</th>\n",
       "      <td>2017-04-23 15:59:59</td>\n",
       "      <td>0.0</td>\n",
       "      <td>0.0</td>\n",
       "      <td>0.0</td>\n",
       "      <td>0.0</td>\n",
       "      <td>0.0</td>\n",
       "      <td>8.156377</td>\n",
       "      <td>2.846728</td>\n",
       "      <td>11.214544</td>\n",
       "      <td>2.668218</td>\n",
       "      <td>...</td>\n",
       "      <td>-400.035835</td>\n",
       "      <td>26.034525</td>\n",
       "      <td>-450.185761</td>\n",
       "      <td>24.013252</td>\n",
       "      <td>-450.093931</td>\n",
       "      <td>29.985963</td>\n",
       "      <td>-500.076336</td>\n",
       "      <td>57.716489</td>\n",
       "      <td>68.650384</td>\n",
       "      <td>0.0</td>\n",
       "    </tr>\n",
       "    <tr>\n",
       "      <th>7051</th>\n",
       "      <td>2017-04-23 16:59:59</td>\n",
       "      <td>0.0</td>\n",
       "      <td>0.0</td>\n",
       "      <td>0.0</td>\n",
       "      <td>0.0</td>\n",
       "      <td>0.0</td>\n",
       "      <td>8.128279</td>\n",
       "      <td>2.836579</td>\n",
       "      <td>10.817374</td>\n",
       "      <td>2.557334</td>\n",
       "      <td>...</td>\n",
       "      <td>-399.401191</td>\n",
       "      <td>26.003582</td>\n",
       "      <td>-449.323595</td>\n",
       "      <td>24.009039</td>\n",
       "      <td>-449.969615</td>\n",
       "      <td>30.007134</td>\n",
       "      <td>-499.524684</td>\n",
       "      <td>58.748005</td>\n",
       "      <td>67.287680</td>\n",
       "      <td>0.0</td>\n",
       "    </tr>\n",
       "    <tr>\n",
       "      <th>7052</th>\n",
       "      <td>2017-04-23 17:59:59</td>\n",
       "      <td>0.0</td>\n",
       "      <td>0.0</td>\n",
       "      <td>0.0</td>\n",
       "      <td>0.0</td>\n",
       "      <td>0.0</td>\n",
       "      <td>8.103931</td>\n",
       "      <td>2.747705</td>\n",
       "      <td>10.788530</td>\n",
       "      <td>2.550075</td>\n",
       "      <td>...</td>\n",
       "      <td>-400.788116</td>\n",
       "      <td>25.986338</td>\n",
       "      <td>-451.070811</td>\n",
       "      <td>23.997589</td>\n",
       "      <td>-449.992990</td>\n",
       "      <td>30.014246</td>\n",
       "      <td>-500.261487</td>\n",
       "      <td>57.758462</td>\n",
       "      <td>67.715366</td>\n",
       "      <td>0.0</td>\n",
       "    </tr>\n",
       "    <tr>\n",
       "      <th>7053</th>\n",
       "      <td>2017-04-23 18:59:59</td>\n",
       "      <td>0.0</td>\n",
       "      <td>0.0</td>\n",
       "      <td>0.0</td>\n",
       "      <td>0.0</td>\n",
       "      <td>0.0</td>\n",
       "      <td>8.304655</td>\n",
       "      <td>2.890794</td>\n",
       "      <td>11.387238</td>\n",
       "      <td>2.746293</td>\n",
       "      <td>...</td>\n",
       "      <td>-399.623048</td>\n",
       "      <td>25.985947</td>\n",
       "      <td>-450.184325</td>\n",
       "      <td>24.023299</td>\n",
       "      <td>-450.107963</td>\n",
       "      <td>29.989302</td>\n",
       "      <td>-499.837103</td>\n",
       "      <td>56.937236</td>\n",
       "      <td>70.543396</td>\n",
       "      <td>0.0</td>\n",
       "    </tr>\n",
       "    <tr>\n",
       "      <th>7054</th>\n",
       "      <td>2017-04-23 19:59:59</td>\n",
       "      <td>0.0</td>\n",
       "      <td>0.0</td>\n",
       "      <td>0.0</td>\n",
       "      <td>0.0</td>\n",
       "      <td>0.0</td>\n",
       "      <td>8.326885</td>\n",
       "      <td>3.056401</td>\n",
       "      <td>10.965152</td>\n",
       "      <td>2.801452</td>\n",
       "      <td>...</td>\n",
       "      <td>-399.950198</td>\n",
       "      <td>26.026115</td>\n",
       "      <td>-449.768130</td>\n",
       "      <td>24.007241</td>\n",
       "      <td>-450.263454</td>\n",
       "      <td>30.004095</td>\n",
       "      <td>-499.921109</td>\n",
       "      <td>58.120443</td>\n",
       "      <td>70.856237</td>\n",
       "      <td>0.0</td>\n",
       "    </tr>\n",
       "    <tr>\n",
       "      <th>7406</th>\n",
       "      <td>2017-05-09 04:59:59</td>\n",
       "      <td>0.0</td>\n",
       "      <td>0.0</td>\n",
       "      <td>0.0</td>\n",
       "      <td>0.0</td>\n",
       "      <td>0.0</td>\n",
       "      <td>9.862797</td>\n",
       "      <td>3.133213</td>\n",
       "      <td>5.304168</td>\n",
       "      <td>3.668582</td>\n",
       "      <td>...</td>\n",
       "      <td>-399.632589</td>\n",
       "      <td>25.983521</td>\n",
       "      <td>-449.556130</td>\n",
       "      <td>23.994969</td>\n",
       "      <td>-449.810833</td>\n",
       "      <td>29.998974</td>\n",
       "      <td>-499.541003</td>\n",
       "      <td>58.217049</td>\n",
       "      <td>77.877832</td>\n",
       "      <td>0.0</td>\n",
       "    </tr>\n",
       "    <tr>\n",
       "      <th>7518</th>\n",
       "      <td>2017-05-20 22:59:59</td>\n",
       "      <td>0.0</td>\n",
       "      <td>0.0</td>\n",
       "      <td>0.0</td>\n",
       "      <td>0.0</td>\n",
       "      <td>0.0</td>\n",
       "      <td>8.498030</td>\n",
       "      <td>3.997512</td>\n",
       "      <td>7.064919</td>\n",
       "      <td>6.578668</td>\n",
       "      <td>...</td>\n",
       "      <td>-500.978538</td>\n",
       "      <td>11.005697</td>\n",
       "      <td>-499.659386</td>\n",
       "      <td>9.986170</td>\n",
       "      <td>-500.117621</td>\n",
       "      <td>19.990086</td>\n",
       "      <td>-500.215013</td>\n",
       "      <td>56.000346</td>\n",
       "      <td>57.561670</td>\n",
       "      <td>0.0</td>\n",
       "    </tr>\n",
       "    <tr>\n",
       "      <th>7519</th>\n",
       "      <td>2017-05-20 23:59:59</td>\n",
       "      <td>0.0</td>\n",
       "      <td>0.0</td>\n",
       "      <td>0.0</td>\n",
       "      <td>0.0</td>\n",
       "      <td>0.0</td>\n",
       "      <td>5.853507</td>\n",
       "      <td>2.566240</td>\n",
       "      <td>5.372024</td>\n",
       "      <td>4.083495</td>\n",
       "      <td>...</td>\n",
       "      <td>-499.643782</td>\n",
       "      <td>10.933236</td>\n",
       "      <td>-501.259343</td>\n",
       "      <td>9.964885</td>\n",
       "      <td>-499.773254</td>\n",
       "      <td>19.981354</td>\n",
       "      <td>-499.611812</td>\n",
       "      <td>50.355734</td>\n",
       "      <td>57.519911</td>\n",
       "      <td>0.0</td>\n",
       "    </tr>\n",
       "    <tr>\n",
       "      <th>7556</th>\n",
       "      <td>2017-05-23 19:59:59</td>\n",
       "      <td>0.0</td>\n",
       "      <td>0.0</td>\n",
       "      <td>0.0</td>\n",
       "      <td>0.0</td>\n",
       "      <td>0.0</td>\n",
       "      <td>6.045862</td>\n",
       "      <td>2.572548</td>\n",
       "      <td>5.979258</td>\n",
       "      <td>3.673219</td>\n",
       "      <td>...</td>\n",
       "      <td>-503.847471</td>\n",
       "      <td>26.000855</td>\n",
       "      <td>-499.736015</td>\n",
       "      <td>23.934192</td>\n",
       "      <td>-499.760094</td>\n",
       "      <td>17.989344</td>\n",
       "      <td>-502.178010</td>\n",
       "      <td>66.668672</td>\n",
       "      <td>71.833407</td>\n",
       "      <td>0.0</td>\n",
       "    </tr>\n",
       "    <tr>\n",
       "      <th>8665</th>\n",
       "      <td>2017-07-14 09:59:59</td>\n",
       "      <td>0.0</td>\n",
       "      <td>0.0</td>\n",
       "      <td>0.0</td>\n",
       "      <td>0.0</td>\n",
       "      <td>0.0</td>\n",
       "      <td>7.599488</td>\n",
       "      <td>2.743608</td>\n",
       "      <td>5.500996</td>\n",
       "      <td>4.079079</td>\n",
       "      <td>...</td>\n",
       "      <td>-379.234257</td>\n",
       "      <td>17.943597</td>\n",
       "      <td>-500.869351</td>\n",
       "      <td>12.996144</td>\n",
       "      <td>-500.096848</td>\n",
       "      <td>14.996873</td>\n",
       "      <td>-499.676482</td>\n",
       "      <td>30.700024</td>\n",
       "      <td>77.180557</td>\n",
       "      <td>0.0</td>\n",
       "    </tr>\n",
       "    <tr>\n",
       "      <th>8884</th>\n",
       "      <td>2017-07-23 23:59:59</td>\n",
       "      <td>0.0</td>\n",
       "      <td>0.0</td>\n",
       "      <td>0.0</td>\n",
       "      <td>0.0</td>\n",
       "      <td>0.0</td>\n",
       "      <td>3.735853</td>\n",
       "      <td>1.375197</td>\n",
       "      <td>4.186355</td>\n",
       "      <td>2.076641</td>\n",
       "      <td>...</td>\n",
       "      <td>-799.528222</td>\n",
       "      <td>15.962232</td>\n",
       "      <td>-500.225250</td>\n",
       "      <td>10.062110</td>\n",
       "      <td>-499.793051</td>\n",
       "      <td>14.953517</td>\n",
       "      <td>-499.842959</td>\n",
       "      <td>45.389238</td>\n",
       "      <td>44.613220</td>\n",
       "      <td>0.0</td>\n",
       "    </tr>\n",
       "    <tr>\n",
       "      <th>8898</th>\n",
       "      <td>2017-07-24 13:59:59</td>\n",
       "      <td>0.0</td>\n",
       "      <td>0.0</td>\n",
       "      <td>0.0</td>\n",
       "      <td>0.0</td>\n",
       "      <td>0.0</td>\n",
       "      <td>7.685263</td>\n",
       "      <td>2.708151</td>\n",
       "      <td>10.191240</td>\n",
       "      <td>2.301790</td>\n",
       "      <td>...</td>\n",
       "      <td>-799.889113</td>\n",
       "      <td>12.027372</td>\n",
       "      <td>-493.246532</td>\n",
       "      <td>7.672037</td>\n",
       "      <td>-497.898119</td>\n",
       "      <td>12.381912</td>\n",
       "      <td>-504.537397</td>\n",
       "      <td>54.427053</td>\n",
       "      <td>76.122611</td>\n",
       "      <td>0.0</td>\n",
       "    </tr>\n",
       "    <tr>\n",
       "      <th>8899</th>\n",
       "      <td>2017-07-25 07:59:59</td>\n",
       "      <td>0.0</td>\n",
       "      <td>0.0</td>\n",
       "      <td>0.0</td>\n",
       "      <td>0.0</td>\n",
       "      <td>0.0</td>\n",
       "      <td>8.068584</td>\n",
       "      <td>2.539054</td>\n",
       "      <td>5.926178</td>\n",
       "      <td>3.010061</td>\n",
       "      <td>...</td>\n",
       "      <td>-799.864719</td>\n",
       "      <td>16.017481</td>\n",
       "      <td>-502.033957</td>\n",
       "      <td>9.997870</td>\n",
       "      <td>-500.032109</td>\n",
       "      <td>15.012719</td>\n",
       "      <td>-500.166375</td>\n",
       "      <td>32.575580</td>\n",
       "      <td>58.327588</td>\n",
       "      <td>0.0</td>\n",
       "    </tr>\n",
       "    <tr>\n",
       "      <th>8900</th>\n",
       "      <td>2017-07-25 08:59:59</td>\n",
       "      <td>0.0</td>\n",
       "      <td>0.0</td>\n",
       "      <td>0.0</td>\n",
       "      <td>0.0</td>\n",
       "      <td>0.0</td>\n",
       "      <td>8.768794</td>\n",
       "      <td>2.922438</td>\n",
       "      <td>4.864586</td>\n",
       "      <td>3.216211</td>\n",
       "      <td>...</td>\n",
       "      <td>-799.861981</td>\n",
       "      <td>16.015712</td>\n",
       "      <td>-500.333611</td>\n",
       "      <td>9.996034</td>\n",
       "      <td>-499.903756</td>\n",
       "      <td>15.005399</td>\n",
       "      <td>-499.665857</td>\n",
       "      <td>27.084195</td>\n",
       "      <td>27.200275</td>\n",
       "      <td>0.0</td>\n",
       "    </tr>\n",
       "    <tr>\n",
       "      <th>8919</th>\n",
       "      <td>2017-07-26 03:59:59</td>\n",
       "      <td>0.0</td>\n",
       "      <td>0.0</td>\n",
       "      <td>0.0</td>\n",
       "      <td>0.0</td>\n",
       "      <td>0.0</td>\n",
       "      <td>7.074876</td>\n",
       "      <td>3.211672</td>\n",
       "      <td>11.439958</td>\n",
       "      <td>3.660732</td>\n",
       "      <td>...</td>\n",
       "      <td>-380.153762</td>\n",
       "      <td>16.030213</td>\n",
       "      <td>-500.482032</td>\n",
       "      <td>10.001274</td>\n",
       "      <td>-500.142881</td>\n",
       "      <td>14.996052</td>\n",
       "      <td>-500.206741</td>\n",
       "      <td>53.329106</td>\n",
       "      <td>76.118163</td>\n",
       "      <td>0.0</td>\n",
       "    </tr>\n",
       "    <tr>\n",
       "      <th>8920</th>\n",
       "      <td>2017-07-26 04:59:59</td>\n",
       "      <td>0.0</td>\n",
       "      <td>0.0</td>\n",
       "      <td>0.0</td>\n",
       "      <td>0.0</td>\n",
       "      <td>0.0</td>\n",
       "      <td>6.928070</td>\n",
       "      <td>3.158062</td>\n",
       "      <td>11.352802</td>\n",
       "      <td>3.485946</td>\n",
       "      <td>...</td>\n",
       "      <td>-379.989325</td>\n",
       "      <td>15.965493</td>\n",
       "      <td>-500.537624</td>\n",
       "      <td>10.004768</td>\n",
       "      <td>-500.178703</td>\n",
       "      <td>14.985647</td>\n",
       "      <td>-499.120826</td>\n",
       "      <td>52.348749</td>\n",
       "      <td>77.222621</td>\n",
       "      <td>0.0</td>\n",
       "    </tr>\n",
       "    <tr>\n",
       "      <th>9320</th>\n",
       "      <td>2017-08-12 03:59:59</td>\n",
       "      <td>0.0</td>\n",
       "      <td>0.0</td>\n",
       "      <td>0.0</td>\n",
       "      <td>0.0</td>\n",
       "      <td>0.0</td>\n",
       "      <td>6.296368</td>\n",
       "      <td>2.933790</td>\n",
       "      <td>9.373527</td>\n",
       "      <td>4.489584</td>\n",
       "      <td>...</td>\n",
       "      <td>-400.065716</td>\n",
       "      <td>11.974298</td>\n",
       "      <td>-499.083691</td>\n",
       "      <td>9.970505</td>\n",
       "      <td>-499.761608</td>\n",
       "      <td>15.009898</td>\n",
       "      <td>-499.872109</td>\n",
       "      <td>46.635418</td>\n",
       "      <td>65.818944</td>\n",
       "      <td>0.0</td>\n",
       "    </tr>\n",
       "    <tr>\n",
       "      <th>9893</th>\n",
       "      <td>2018-01-15 20:59:59</td>\n",
       "      <td>0.0</td>\n",
       "      <td>0.0</td>\n",
       "      <td>0.0</td>\n",
       "      <td>0.0</td>\n",
       "      <td>0.0</td>\n",
       "      <td>11.408594</td>\n",
       "      <td>2.205271</td>\n",
       "      <td>3.469389</td>\n",
       "      <td>5.819537</td>\n",
       "      <td>...</td>\n",
       "      <td>-499.657967</td>\n",
       "      <td>11.002853</td>\n",
       "      <td>-500.029477</td>\n",
       "      <td>9.006599</td>\n",
       "      <td>-499.812437</td>\n",
       "      <td>10.981683</td>\n",
       "      <td>-499.607997</td>\n",
       "      <td>52.381155</td>\n",
       "      <td>74.243066</td>\n",
       "      <td>0.0</td>\n",
       "    </tr>\n",
       "    <tr>\n",
       "      <th>9894</th>\n",
       "      <td>2018-01-15 21:59:59</td>\n",
       "      <td>0.0</td>\n",
       "      <td>0.0</td>\n",
       "      <td>0.0</td>\n",
       "      <td>0.0</td>\n",
       "      <td>0.0</td>\n",
       "      <td>10.738721</td>\n",
       "      <td>1.426022</td>\n",
       "      <td>6.409904</td>\n",
       "      <td>3.837274</td>\n",
       "      <td>...</td>\n",
       "      <td>-499.997780</td>\n",
       "      <td>11.033133</td>\n",
       "      <td>-500.405550</td>\n",
       "      <td>9.025031</td>\n",
       "      <td>-500.224485</td>\n",
       "      <td>10.997373</td>\n",
       "      <td>-500.277262</td>\n",
       "      <td>59.410599</td>\n",
       "      <td>79.597733</td>\n",
       "      <td>0.0</td>\n",
       "    </tr>\n",
       "    <tr>\n",
       "      <th>10020</th>\n",
       "      <td>2018-01-25 10:59:59</td>\n",
       "      <td>0.0</td>\n",
       "      <td>0.0</td>\n",
       "      <td>0.0</td>\n",
       "      <td>0.0</td>\n",
       "      <td>0.0</td>\n",
       "      <td>2.444457</td>\n",
       "      <td>0.612787</td>\n",
       "      <td>1.751687</td>\n",
       "      <td>1.210944</td>\n",
       "      <td>...</td>\n",
       "      <td>-500.207051</td>\n",
       "      <td>10.929622</td>\n",
       "      <td>-499.380783</td>\n",
       "      <td>9.016132</td>\n",
       "      <td>-500.127563</td>\n",
       "      <td>10.996343</td>\n",
       "      <td>-500.089294</td>\n",
       "      <td>33.929636</td>\n",
       "      <td>49.797341</td>\n",
       "      <td>0.0</td>\n",
       "    </tr>\n",
       "  </tbody>\n",
       "</table>\n",
       "<p>58 rows × 90 columns</p>\n",
       "</div>"
      ],
      "text/plain": [
       "                     date  final_output_concentrate_ag  \\\n",
       "644   2016-02-13 11:00:00                          0.0   \n",
       "1193  2016-03-11 10:00:00                          0.0   \n",
       "1194  2016-03-11 11:00:00                          0.0   \n",
       "1195  2016-03-11 12:00:00                          0.0   \n",
       "1196  2016-03-11 13:00:00                          0.0   \n",
       "1682  2016-04-09 17:00:00                          0.0   \n",
       "2019  2016-05-01 23:59:59                          0.0   \n",
       "2020  2016-05-02 00:59:59                          0.0   \n",
       "2236  2016-05-11 01:59:59                          0.0   \n",
       "3394  2016-07-06 04:59:59                          0.0   \n",
       "3395  2016-07-06 05:59:59                          0.0   \n",
       "3396  2016-07-06 06:59:59                          0.0   \n",
       "3397  2016-07-06 08:59:59                          0.0   \n",
       "3400  2016-07-06 12:59:59                          0.0   \n",
       "4215  2016-08-11 20:59:59                          0.0   \n",
       "4314  2016-08-15 23:59:59                          0.0   \n",
       "4564  2016-08-26 20:59:59                          0.0   \n",
       "4652  2016-08-30 18:59:59                          0.0   \n",
       "4653  2016-08-30 19:59:59                          0.0   \n",
       "4722  2017-01-02 16:59:59                          0.0   \n",
       "4723  2017-01-02 17:59:59                          0.0   \n",
       "4724  2017-01-02 18:59:59                          0.0   \n",
       "4965  2017-01-18 13:59:59                          0.0   \n",
       "4966  2017-01-18 14:59:59                          0.0   \n",
       "4967  2017-01-18 15:59:59                          0.0   \n",
       "4968  2017-01-18 16:59:59                          0.0   \n",
       "4969  2017-01-18 20:59:59                          0.0   \n",
       "5139  2017-01-26 09:59:59                          0.0   \n",
       "5140  2017-01-26 10:59:59                          0.0   \n",
       "5784  2017-02-24 03:59:59                          0.0   \n",
       "5871  2017-02-28 14:59:59                          0.0   \n",
       "5872  2017-02-28 15:59:59                          0.0   \n",
       "6016  2017-03-06 17:59:59                          0.0   \n",
       "6017  2017-03-06 18:59:59                          0.0   \n",
       "6018  2017-03-06 19:59:59                          0.0   \n",
       "6019  2017-03-06 20:59:59                          0.0   \n",
       "6254  2017-03-17 10:59:59                          0.0   \n",
       "6430  2017-03-28 02:59:59                          0.0   \n",
       "7050  2017-04-23 15:59:59                          0.0   \n",
       "7051  2017-04-23 16:59:59                          0.0   \n",
       "7052  2017-04-23 17:59:59                          0.0   \n",
       "7053  2017-04-23 18:59:59                          0.0   \n",
       "7054  2017-04-23 19:59:59                          0.0   \n",
       "7406  2017-05-09 04:59:59                          0.0   \n",
       "7518  2017-05-20 22:59:59                          0.0   \n",
       "7519  2017-05-20 23:59:59                          0.0   \n",
       "7556  2017-05-23 19:59:59                          0.0   \n",
       "8665  2017-07-14 09:59:59                          0.0   \n",
       "8884  2017-07-23 23:59:59                          0.0   \n",
       "8898  2017-07-24 13:59:59                          0.0   \n",
       "8899  2017-07-25 07:59:59                          0.0   \n",
       "8900  2017-07-25 08:59:59                          0.0   \n",
       "8919  2017-07-26 03:59:59                          0.0   \n",
       "8920  2017-07-26 04:59:59                          0.0   \n",
       "9320  2017-08-12 03:59:59                          0.0   \n",
       "9893  2018-01-15 20:59:59                          0.0   \n",
       "9894  2018-01-15 21:59:59                          0.0   \n",
       "10020 2018-01-25 10:59:59                          0.0   \n",
       "\n",
       "       final_output_concentrate_pb  final_output_concentrate_sol  \\\n",
       "644                            0.0                           0.0   \n",
       "1193                           0.0                           0.0   \n",
       "1194                           0.0                           0.0   \n",
       "1195                           0.0                           0.0   \n",
       "1196                           0.0                           0.0   \n",
       "1682                           0.0                           0.0   \n",
       "2019                           0.0                           0.0   \n",
       "2020                           0.0                           0.0   \n",
       "2236                           0.0                           0.0   \n",
       "3394                           0.0                           0.0   \n",
       "3395                           0.0                           0.0   \n",
       "3396                           0.0                           0.0   \n",
       "3397                           0.0                           0.0   \n",
       "3400                           0.0                           0.0   \n",
       "4215                           0.0                           0.0   \n",
       "4314                           0.0                           0.0   \n",
       "4564                           0.0                           0.0   \n",
       "4652                           0.0                           0.0   \n",
       "4653                           0.0                           0.0   \n",
       "4722                           0.0                           0.0   \n",
       "4723                           0.0                           0.0   \n",
       "4724                           0.0                           0.0   \n",
       "4965                           0.0                           0.0   \n",
       "4966                           0.0                           0.0   \n",
       "4967                           0.0                           0.0   \n",
       "4968                           0.0                           0.0   \n",
       "4969                           0.0                           0.0   \n",
       "5139                           0.0                           0.0   \n",
       "5140                           0.0                           0.0   \n",
       "5784                           0.0                           0.0   \n",
       "5871                           0.0                           0.0   \n",
       "5872                           0.0                           0.0   \n",
       "6016                           0.0                           0.0   \n",
       "6017                           0.0                           0.0   \n",
       "6018                           0.0                           0.0   \n",
       "6019                           0.0                           0.0   \n",
       "6254                           0.0                           0.0   \n",
       "6430                           0.0                           0.0   \n",
       "7050                           0.0                           0.0   \n",
       "7051                           0.0                           0.0   \n",
       "7052                           0.0                           0.0   \n",
       "7053                           0.0                           0.0   \n",
       "7054                           0.0                           0.0   \n",
       "7406                           0.0                           0.0   \n",
       "7518                           0.0                           0.0   \n",
       "7519                           0.0                           0.0   \n",
       "7556                           0.0                           0.0   \n",
       "8665                           0.0                           0.0   \n",
       "8884                           0.0                           0.0   \n",
       "8898                           0.0                           0.0   \n",
       "8899                           0.0                           0.0   \n",
       "8900                           0.0                           0.0   \n",
       "8919                           0.0                           0.0   \n",
       "8920                           0.0                           0.0   \n",
       "9320                           0.0                           0.0   \n",
       "9893                           0.0                           0.0   \n",
       "9894                           0.0                           0.0   \n",
       "10020                          0.0                           0.0   \n",
       "\n",
       "       final_output_concentrate_au  final_output_recovery  \\\n",
       "644                            0.0                    0.0   \n",
       "1193                           0.0                    0.0   \n",
       "1194                           0.0                    0.0   \n",
       "1195                           0.0                    0.0   \n",
       "1196                           0.0                    0.0   \n",
       "1682                           0.0                    0.0   \n",
       "2019                           0.0                    0.0   \n",
       "2020                           0.0                    0.0   \n",
       "2236                           0.0                    0.0   \n",
       "3394                           0.0                    0.0   \n",
       "3395                           0.0                    0.0   \n",
       "3396                           0.0                    0.0   \n",
       "3397                           0.0                    0.0   \n",
       "3400                           0.0                    0.0   \n",
       "4215                           0.0                    0.0   \n",
       "4314                           0.0                    0.0   \n",
       "4564                           0.0                    0.0   \n",
       "4652                           0.0                    0.0   \n",
       "4653                           0.0                    0.0   \n",
       "4722                           0.0                    0.0   \n",
       "4723                           0.0                    0.0   \n",
       "4724                           0.0                    0.0   \n",
       "4965                           0.0                    0.0   \n",
       "4966                           0.0                    0.0   \n",
       "4967                           0.0                    0.0   \n",
       "4968                           0.0                    0.0   \n",
       "4969                           0.0                    0.0   \n",
       "5139                           0.0                    0.0   \n",
       "5140                           0.0                    0.0   \n",
       "5784                           0.0                    0.0   \n",
       "5871                           0.0                    0.0   \n",
       "5872                           0.0                    0.0   \n",
       "6016                           0.0                    0.0   \n",
       "6017                           0.0                    0.0   \n",
       "6018                           0.0                    0.0   \n",
       "6019                           0.0                    0.0   \n",
       "6254                           0.0                    0.0   \n",
       "6430                           0.0                    0.0   \n",
       "7050                           0.0                    0.0   \n",
       "7051                           0.0                    0.0   \n",
       "7052                           0.0                    0.0   \n",
       "7053                           0.0                    0.0   \n",
       "7054                           0.0                    0.0   \n",
       "7406                           0.0                    0.0   \n",
       "7518                           0.0                    0.0   \n",
       "7519                           0.0                    0.0   \n",
       "7556                           0.0                    0.0   \n",
       "8665                           0.0                    0.0   \n",
       "8884                           0.0                    0.0   \n",
       "8898                           0.0                    0.0   \n",
       "8899                           0.0                    0.0   \n",
       "8900                           0.0                    0.0   \n",
       "8919                           0.0                    0.0   \n",
       "8920                           0.0                    0.0   \n",
       "9320                           0.0                    0.0   \n",
       "9893                           0.0                    0.0   \n",
       "9894                           0.0                    0.0   \n",
       "10020                          0.0                    0.0   \n",
       "\n",
       "       final_output_tail_ag  final_output_tail_pb  final_output_tail_sol  \\\n",
       "644                8.894029              0.843584              15.417342   \n",
       "1193              10.817313              1.462800              16.407607   \n",
       "1194              10.436792              1.207636              17.800392   \n",
       "1195              10.637073              1.405778              17.195897   \n",
       "1196              10.530320              1.461550              17.556860   \n",
       "1682               2.943613              1.089791               4.050067   \n",
       "2019               2.229996              0.439314               2.996147   \n",
       "2020               8.816376              1.692314              12.001629   \n",
       "2236               7.567252              1.991327              12.977099   \n",
       "3394               6.266939              2.146631               7.240419   \n",
       "3395               6.156921              2.036552               8.240251   \n",
       "3396               2.537365              0.939253               5.531964   \n",
       "3397               3.096506              1.131179               4.534668   \n",
       "3400               6.478243              2.473995              12.423850   \n",
       "4215               1.353362              0.470696               1.235183   \n",
       "4314              10.796039              2.582106              11.105074   \n",
       "4564               3.697301              1.378608               3.952049   \n",
       "4652               7.904183              3.193653               3.656295   \n",
       "4653               7.950315              3.216058               3.705181   \n",
       "4722              10.512889              1.950646              11.188996   \n",
       "4723               9.955941              1.935196              11.133852   \n",
       "4724              10.106171              1.712132              11.092376   \n",
       "4965               0.135709              0.248237              10.817715   \n",
       "4966               7.804423              3.130217               5.586386   \n",
       "4967               4.990116              2.905931               5.256589   \n",
       "4968               3.166338              2.024801               4.348096   \n",
       "4969               2.750531              1.193930               2.370671   \n",
       "5139              10.617218              2.747829               9.417774   \n",
       "5140              10.864712              2.841514               9.153641   \n",
       "5784               1.764912              0.620707               1.132730   \n",
       "5871               6.289242              2.166043               1.634677   \n",
       "5872               9.824167              3.652339               4.377406   \n",
       "6016               8.788438              2.970928               7.091474   \n",
       "6017               8.865775              2.954853               7.439434   \n",
       "6018               8.499353              2.827313               8.296913   \n",
       "6019               8.168545              2.779809               8.939608   \n",
       "6254               9.365576              3.180765               4.904181   \n",
       "6430               6.052901              1.855451               6.201678   \n",
       "7050               8.156377              2.846728              11.214544   \n",
       "7051               8.128279              2.836579              10.817374   \n",
       "7052               8.103931              2.747705              10.788530   \n",
       "7053               8.304655              2.890794              11.387238   \n",
       "7054               8.326885              3.056401              10.965152   \n",
       "7406               9.862797              3.133213               5.304168   \n",
       "7518               8.498030              3.997512               7.064919   \n",
       "7519               5.853507              2.566240               5.372024   \n",
       "7556               6.045862              2.572548               5.979258   \n",
       "8665               7.599488              2.743608               5.500996   \n",
       "8884               3.735853              1.375197               4.186355   \n",
       "8898               7.685263              2.708151              10.191240   \n",
       "8899               8.068584              2.539054               5.926178   \n",
       "8900               8.768794              2.922438               4.864586   \n",
       "8919               7.074876              3.211672              11.439958   \n",
       "8920               6.928070              3.158062              11.352802   \n",
       "9320               6.296368              2.933790               9.373527   \n",
       "9893              11.408594              2.205271               3.469389   \n",
       "9894              10.738721              1.426022               6.409904   \n",
       "10020              2.444457              0.612787               1.751687   \n",
       "\n",
       "       final_output_tail_au  ...  secondary_cleaner_state_floatbank4_b_level  \\\n",
       "644                1.779052  ...                                 -401.366408   \n",
       "1193               2.984504  ...                                 -450.179844   \n",
       "1194               2.747294  ...                                 -449.684812   \n",
       "1195               2.791440  ...                                 -496.908551   \n",
       "1196               2.682127  ...                                 -500.162537   \n",
       "1682               2.443084  ...                                 -472.304428   \n",
       "2019               1.049438  ...                                 -502.673001   \n",
       "2020               3.949153  ...                                 -502.405376   \n",
       "2236               3.170143  ...                                 -500.180957   \n",
       "3394               3.552111  ...                                 -499.990413   \n",
       "3395               3.398861  ...                                 -499.379420   \n",
       "3396               2.174925  ...                                 -513.284934   \n",
       "3397               1.889405  ...                                 -500.221549   \n",
       "3400               4.054269  ...                                 -508.499701   \n",
       "4215               1.021143  ...                                 -402.711177   \n",
       "4314               3.231677  ...                                 -399.585744   \n",
       "4564               2.579844  ...                                 -499.963654   \n",
       "4652               4.823467  ...                                 -500.760128   \n",
       "4653               4.844750  ...                                 -500.107624   \n",
       "4722               2.508362  ...                                 -473.509616   \n",
       "4723               2.797546  ...                                 -497.866523   \n",
       "4724               2.385774  ...                                 -499.649898   \n",
       "4965               0.541934  ...                                 -499.244981   \n",
       "4966               3.420555  ...                                 -500.025438   \n",
       "4967               4.213483  ...                                 -499.556599   \n",
       "4968               3.584731  ...                                 -500.120965   \n",
       "4969               1.714487  ...                                 -499.286761   \n",
       "5139               2.990722  ...                                 -499.762327   \n",
       "5140               3.115444  ...                                 -499.684250   \n",
       "5784               0.619892  ...                                 -400.510308   \n",
       "5871               3.043306  ...                                 -399.508585   \n",
       "5872               5.599697  ...                                 -400.374134   \n",
       "6016               3.440660  ...                                 -399.946201   \n",
       "6017               3.476479  ...                                 -399.595670   \n",
       "6018               3.443548  ...                                 -400.448353   \n",
       "6019               3.451607  ...                                 -399.882444   \n",
       "6254               4.489633  ...                                 -399.308497   \n",
       "6430               2.423505  ...                                 -399.868919   \n",
       "7050               2.668218  ...                                 -400.035835   \n",
       "7051               2.557334  ...                                 -399.401191   \n",
       "7052               2.550075  ...                                 -400.788116   \n",
       "7053               2.746293  ...                                 -399.623048   \n",
       "7054               2.801452  ...                                 -399.950198   \n",
       "7406               3.668582  ...                                 -399.632589   \n",
       "7518               6.578668  ...                                 -500.978538   \n",
       "7519               4.083495  ...                                 -499.643782   \n",
       "7556               3.673219  ...                                 -503.847471   \n",
       "8665               4.079079  ...                                 -379.234257   \n",
       "8884               2.076641  ...                                 -799.528222   \n",
       "8898               2.301790  ...                                 -799.889113   \n",
       "8899               3.010061  ...                                 -799.864719   \n",
       "8900               3.216211  ...                                 -799.861981   \n",
       "8919               3.660732  ...                                 -380.153762   \n",
       "8920               3.485946  ...                                 -379.989325   \n",
       "9320               4.489584  ...                                 -400.065716   \n",
       "9893               5.819537  ...                                 -499.657967   \n",
       "9894               3.837274  ...                                 -499.997780   \n",
       "10020              1.210944  ...                                 -500.207051   \n",
       "\n",
       "       secondary_cleaner_state_floatbank5_a_air  \\\n",
       "644                                   22.995012   \n",
       "1193                                  11.982937   \n",
       "1194                                  11.844983   \n",
       "1195                                  12.091144   \n",
       "1196                                  12.078809   \n",
       "1682                                  12.012947   \n",
       "2019                                   8.851882   \n",
       "2020                                   8.972976   \n",
       "2236                                  11.025995   \n",
       "3394                                  16.993432   \n",
       "3395                                  16.938729   \n",
       "3396                                  16.607490   \n",
       "3397                                  16.108189   \n",
       "3400                                  16.074222   \n",
       "4215                                   9.137868   \n",
       "4314                                  15.086155   \n",
       "4564                                   9.913467   \n",
       "4652                                   8.043159   \n",
       "4653                                   8.075202   \n",
       "4722                                  17.395327   \n",
       "4723                                  17.070479   \n",
       "4724                                  17.173301   \n",
       "4965                                  -0.176485   \n",
       "4966                                  -0.178880   \n",
       "4967                                  -0.173919   \n",
       "4968                                  -0.173552   \n",
       "4969                                  -0.187038   \n",
       "5139                                  22.977603   \n",
       "5140                                  23.013882   \n",
       "5784                                  23.023228   \n",
       "5871                                  20.682065   \n",
       "5872                                  20.176891   \n",
       "6016                                  23.636238   \n",
       "6017                                  23.654748   \n",
       "6018                                  23.673025   \n",
       "6019                                  23.734240   \n",
       "6254                                  20.696742   \n",
       "6430                                  29.144954   \n",
       "7050                                  26.034525   \n",
       "7051                                  26.003582   \n",
       "7052                                  25.986338   \n",
       "7053                                  25.985947   \n",
       "7054                                  26.026115   \n",
       "7406                                  25.983521   \n",
       "7518                                  11.005697   \n",
       "7519                                  10.933236   \n",
       "7556                                  26.000855   \n",
       "8665                                  17.943597   \n",
       "8884                                  15.962232   \n",
       "8898                                  12.027372   \n",
       "8899                                  16.017481   \n",
       "8900                                  16.015712   \n",
       "8919                                  16.030213   \n",
       "8920                                  15.965493   \n",
       "9320                                  11.974298   \n",
       "9893                                  11.002853   \n",
       "9894                                  11.033133   \n",
       "10020                                 10.929622   \n",
       "\n",
       "       secondary_cleaner_state_floatbank5_a_level  \\\n",
       "644                                   -399.370680   \n",
       "1193                                  -449.856468   \n",
       "1194                                  -450.881424   \n",
       "1195                                  -496.404140   \n",
       "1196                                  -499.903743   \n",
       "1682                                  -498.936345   \n",
       "2019                                  -503.279765   \n",
       "2020                                  -498.876974   \n",
       "2236                                  -501.002632   \n",
       "3394                                  -501.022669   \n",
       "3395                                  -500.901347   \n",
       "3396                                  -498.514638   \n",
       "3397                                  -499.633768   \n",
       "3400                                  -495.402269   \n",
       "4215                                  -419.643823   \n",
       "4314                                  -396.783371   \n",
       "4564                                  -501.698056   \n",
       "4652                                  -500.391386   \n",
       "4653                                  -499.957983   \n",
       "4722                                  -499.938041   \n",
       "4723                                  -496.127166   \n",
       "4724                                  -504.678878   \n",
       "4965                                  -500.816086   \n",
       "4966                                  -491.880038   \n",
       "4967                                  -446.036106   \n",
       "4968                                  -563.737693   \n",
       "4969                                  -507.170200   \n",
       "5139                                  -499.840145   \n",
       "5140                                  -499.773163   \n",
       "5784                                  -451.347752   \n",
       "5871                                  -443.596068   \n",
       "5872                                  -454.657471   \n",
       "6016                                  -450.648239   \n",
       "6017                                  -449.556038   \n",
       "6018                                  -449.945883   \n",
       "6019                                  -450.039391   \n",
       "6254                                  -446.237788   \n",
       "6430                                  -449.497572   \n",
       "7050                                  -450.185761   \n",
       "7051                                  -449.323595   \n",
       "7052                                  -451.070811   \n",
       "7053                                  -450.184325   \n",
       "7054                                  -449.768130   \n",
       "7406                                  -449.556130   \n",
       "7518                                  -499.659386   \n",
       "7519                                  -501.259343   \n",
       "7556                                  -499.736015   \n",
       "8665                                  -500.869351   \n",
       "8884                                  -500.225250   \n",
       "8898                                  -493.246532   \n",
       "8899                                  -502.033957   \n",
       "8900                                  -500.333611   \n",
       "8919                                  -500.482032   \n",
       "8920                                  -500.537624   \n",
       "9320                                  -499.083691   \n",
       "9893                                  -500.029477   \n",
       "9894                                  -500.405550   \n",
       "10020                                 -499.380783   \n",
       "\n",
       "       secondary_cleaner_state_floatbank5_b_air  \\\n",
       "644                                   20.966863   \n",
       "1193                                   9.927727   \n",
       "1194                                   9.916784   \n",
       "1195                                   9.976074   \n",
       "1196                                  10.075259   \n",
       "1682                                   9.989854   \n",
       "2019                                   9.037939   \n",
       "2020                                   9.070907   \n",
       "2236                                   6.093285   \n",
       "3394                                  14.951274   \n",
       "3395                                  15.060903   \n",
       "3396                                  11.109718   \n",
       "3397                                   7.118001   \n",
       "3400                                   7.103943   \n",
       "4215                                   4.933871   \n",
       "4314                                   4.961631   \n",
       "4564                                   5.011314   \n",
       "4652                                   4.878516   \n",
       "4653                                   4.897192   \n",
       "4722                                   8.054456   \n",
       "4723                                   8.045207   \n",
       "4724                                   8.077081   \n",
       "4965                                   8.093619   \n",
       "4966                                   8.035219   \n",
       "4967                                   3.145675   \n",
       "4968                                   0.679409   \n",
       "4969                                   0.692224   \n",
       "5139                                  20.017758   \n",
       "5140                                  19.981647   \n",
       "5784                                  20.007511   \n",
       "5871                                  18.017448   \n",
       "5872                                  19.257933   \n",
       "6016                                  19.957525   \n",
       "6017                                  20.001880   \n",
       "6018                                  20.014044   \n",
       "6019                                  20.002802   \n",
       "6254                                  19.952652   \n",
       "6430                                  24.036333   \n",
       "7050                                  24.013252   \n",
       "7051                                  24.009039   \n",
       "7052                                  23.997589   \n",
       "7053                                  24.023299   \n",
       "7054                                  24.007241   \n",
       "7406                                  23.994969   \n",
       "7518                                   9.986170   \n",
       "7519                                   9.964885   \n",
       "7556                                  23.934192   \n",
       "8665                                  12.996144   \n",
       "8884                                  10.062110   \n",
       "8898                                   7.672037   \n",
       "8899                                   9.997870   \n",
       "8900                                   9.996034   \n",
       "8919                                  10.001274   \n",
       "8920                                  10.004768   \n",
       "9320                                   9.970505   \n",
       "9893                                   9.006599   \n",
       "9894                                   9.025031   \n",
       "10020                                  9.016132   \n",
       "\n",
       "       secondary_cleaner_state_floatbank5_b_level  \\\n",
       "644                                   -399.308354   \n",
       "1193                                  -450.521700   \n",
       "1194                                  -449.542871   \n",
       "1195                                  -496.783155   \n",
       "1196                                  -499.540325   \n",
       "1682                                  -800.001639   \n",
       "2019                                  -500.400661   \n",
       "2020                                  -499.455708   \n",
       "2236                                  -500.452445   \n",
       "3394                                  -499.908216   \n",
       "3395                                  -500.161562   \n",
       "3396                                  -499.611735   \n",
       "3397                                  -498.021312   \n",
       "3400                                  -494.064445   \n",
       "4215                                  -402.132394   \n",
       "4314                                  -400.638627   \n",
       "4564                                  -500.390274   \n",
       "4652                                  -499.922582   \n",
       "4653                                  -500.423686   \n",
       "4722                                  -500.574345   \n",
       "4723                                  -470.953271   \n",
       "4724                                  -484.275794   \n",
       "4965                                  -500.197658   \n",
       "4966                                  -481.808531   \n",
       "4967                                  -240.872031   \n",
       "4968                                  -746.432635   \n",
       "4969                                  -500.585885   \n",
       "5139                                  -499.845860   \n",
       "5140                                  -500.137454   \n",
       "5784                                  -450.038643   \n",
       "5871                                  -386.843550   \n",
       "5872                                  -449.820792   \n",
       "6016                                  -449.878949   \n",
       "6017                                  -449.899258   \n",
       "6018                                  -449.745174   \n",
       "6019                                  -450.185386   \n",
       "6254                                  -445.274527   \n",
       "6430                                  -450.062637   \n",
       "7050                                  -450.093931   \n",
       "7051                                  -449.969615   \n",
       "7052                                  -449.992990   \n",
       "7053                                  -450.107963   \n",
       "7054                                  -450.263454   \n",
       "7406                                  -449.810833   \n",
       "7518                                  -500.117621   \n",
       "7519                                  -499.773254   \n",
       "7556                                  -499.760094   \n",
       "8665                                  -500.096848   \n",
       "8884                                  -499.793051   \n",
       "8898                                  -497.898119   \n",
       "8899                                  -500.032109   \n",
       "8900                                  -499.903756   \n",
       "8919                                  -500.142881   \n",
       "8920                                  -500.178703   \n",
       "9320                                  -499.761608   \n",
       "9893                                  -499.812437   \n",
       "9894                                  -500.224485   \n",
       "10020                                 -500.127563   \n",
       "\n",
       "       secondary_cleaner_state_floatbank6_a_air  \\\n",
       "644                                   24.987274   \n",
       "1193                                  19.971682   \n",
       "1194                                  20.004767   \n",
       "1195                                  19.921634   \n",
       "1196                                  20.039788   \n",
       "1682                                  19.960963   \n",
       "2019                                  15.999356   \n",
       "2020                                  16.026009   \n",
       "2236                                  20.023462   \n",
       "3394                                  24.984095   \n",
       "3395                                  24.958637   \n",
       "3396                                  25.025326   \n",
       "3397                                  24.972537   \n",
       "3400                                  25.024849   \n",
       "4215                                  23.005263   \n",
       "4314                                  23.037383   \n",
       "4564                                  24.919704   \n",
       "4652                                  31.480460   \n",
       "4653                                  30.958862   \n",
       "4722                                  19.972880   \n",
       "4723                                  20.014482   \n",
       "4724                                  19.991623   \n",
       "4965                                  19.986522   \n",
       "4966                                  19.941542   \n",
       "4967                                   2.319944   \n",
       "4968                                   0.259505   \n",
       "4969                                  19.998121   \n",
       "5139                                  25.001965   \n",
       "5140                                  25.006088   \n",
       "5784                                  25.008392   \n",
       "5871                                  25.021448   \n",
       "5872                                  24.979159   \n",
       "6016                                  24.999677   \n",
       "6017                                  24.992970   \n",
       "6018                                  24.990666   \n",
       "6019                                  24.999566   \n",
       "6254                                  25.009526   \n",
       "6430                                  25.004345   \n",
       "7050                                  29.985963   \n",
       "7051                                  30.007134   \n",
       "7052                                  30.014246   \n",
       "7053                                  29.989302   \n",
       "7054                                  30.004095   \n",
       "7406                                  29.998974   \n",
       "7518                                  19.990086   \n",
       "7519                                  19.981354   \n",
       "7556                                  17.989344   \n",
       "8665                                  14.996873   \n",
       "8884                                  14.953517   \n",
       "8898                                  12.381912   \n",
       "8899                                  15.012719   \n",
       "8900                                  15.005399   \n",
       "8919                                  14.996052   \n",
       "8920                                  14.985647   \n",
       "9320                                  15.009898   \n",
       "9893                                  10.981683   \n",
       "9894                                  10.997373   \n",
       "10020                                 10.996343   \n",
       "\n",
       "       secondary_cleaner_state_floatbank6_a_level  sum_conc_feed  \\\n",
       "644                                   -399.619808      46.703740   \n",
       "1193                                  -500.685521      53.368945   \n",
       "1194                                  -500.137068      51.963364   \n",
       "1195                                  -500.769011      48.892687   \n",
       "1196                                  -499.932405      49.265736   \n",
       "1682                                  -500.498255      44.882879   \n",
       "2019                                  -509.449510      57.115449   \n",
       "2020                                  -492.939580      56.001311   \n",
       "2236                                  -500.365653      56.164944   \n",
       "3394                                  -499.000500      51.820284   \n",
       "3395                                  -499.600205      43.460811   \n",
       "3396                                  -499.049808      44.494328   \n",
       "3397                                  -499.106327      48.750469   \n",
       "3400                                  -495.267385      53.400670   \n",
       "4215                                  -502.319385      61.331725   \n",
       "4314                                  -498.990216      64.180280   \n",
       "4564                                  -502.454004      55.733560   \n",
       "4652                                  -501.107878      35.160922   \n",
       "4653                                  -498.808359      29.928733   \n",
       "4722                                  -601.259265      55.353011   \n",
       "4723                                  -591.060032      54.416755   \n",
       "4724                                  -609.490127      53.833074   \n",
       "4965                                  -602.355855      51.138807   \n",
       "4966                                  -595.360820      53.901216   \n",
       "4967                                  -642.122184      45.755537   \n",
       "4968                                  -809.057864      49.571019   \n",
       "4969                                  -808.143270      49.011234   \n",
       "5139                                  -599.982239      56.736779   \n",
       "5140                                  -600.019283      56.258034   \n",
       "5784                                  -500.220216      65.394965   \n",
       "5871                                  -499.457263      53.407404   \n",
       "5872                                  -501.400800      56.013915   \n",
       "6016                                  -500.240701      53.300638   \n",
       "6017                                  -499.427043      53.469934   \n",
       "6018                                  -500.726526      54.112593   \n",
       "6019                                  -500.059471      54.122333   \n",
       "6254                                  -499.299024      61.578323   \n",
       "6430                                  -497.467197      64.683886   \n",
       "7050                                  -500.076336      57.716489   \n",
       "7051                                  -499.524684      58.748005   \n",
       "7052                                  -500.261487      57.758462   \n",
       "7053                                  -499.837103      56.937236   \n",
       "7054                                  -499.921109      58.120443   \n",
       "7406                                  -499.541003      58.217049   \n",
       "7518                                  -500.215013      56.000346   \n",
       "7519                                  -499.611812      50.355734   \n",
       "7556                                  -502.178010      66.668672   \n",
       "8665                                  -499.676482      30.700024   \n",
       "8884                                  -499.842959      45.389238   \n",
       "8898                                  -504.537397      54.427053   \n",
       "8899                                  -500.166375      32.575580   \n",
       "8900                                  -499.665857      27.084195   \n",
       "8919                                  -500.206741      53.329106   \n",
       "8920                                  -499.120826      52.348749   \n",
       "9320                                  -499.872109      46.635418   \n",
       "9893                                  -499.607997      52.381155   \n",
       "9894                                  -500.277262      59.410599   \n",
       "10020                                 -500.089294      33.929636   \n",
       "\n",
       "       sum_conc_rougher  sum_conc_final  \n",
       "644           56.574778             0.0  \n",
       "1193          61.681632             0.0  \n",
       "1194          60.214950             0.0  \n",
       "1195          58.592426             0.0  \n",
       "1196          58.363177             0.0  \n",
       "1682           0.000000             0.0  \n",
       "2019          82.097253             0.0  \n",
       "2020          80.583896             0.0  \n",
       "2236          76.009105             0.0  \n",
       "3394          59.970258             0.0  \n",
       "3395          75.028906             0.0  \n",
       "3396          81.550911             0.0  \n",
       "3397          79.137508             0.0  \n",
       "3400          71.437930             0.0  \n",
       "4215          80.824756             0.0  \n",
       "4314          69.024288             0.0  \n",
       "4564          38.335303             0.0  \n",
       "4652          28.135446             0.0  \n",
       "4653          48.207629             0.0  \n",
       "4722          76.938935             0.0  \n",
       "4723          76.075400             0.0  \n",
       "4724          78.063224             0.0  \n",
       "4965          81.583286             0.0  \n",
       "4966          80.309850             0.0  \n",
       "4967          74.960131             0.0  \n",
       "4968          72.865254             0.0  \n",
       "4969          75.407392             0.0  \n",
       "5139          81.462697             0.0  \n",
       "5140          81.806790             0.0  \n",
       "5784          78.190858             0.0  \n",
       "5871          87.656661             0.0  \n",
       "5872          87.918479             0.0  \n",
       "6016          71.562927             0.0  \n",
       "6017          72.407240             0.0  \n",
       "6018          73.405420             0.0  \n",
       "6019          73.686489             0.0  \n",
       "6254          70.064479             0.0  \n",
       "6430          75.331692             0.0  \n",
       "7050          68.650384             0.0  \n",
       "7051          67.287680             0.0  \n",
       "7052          67.715366             0.0  \n",
       "7053          70.543396             0.0  \n",
       "7054          70.856237             0.0  \n",
       "7406          77.877832             0.0  \n",
       "7518          57.561670             0.0  \n",
       "7519          57.519911             0.0  \n",
       "7556          71.833407             0.0  \n",
       "8665          77.180557             0.0  \n",
       "8884          44.613220             0.0  \n",
       "8898          76.122611             0.0  \n",
       "8899          58.327588             0.0  \n",
       "8900          27.200275             0.0  \n",
       "8919          76.118163             0.0  \n",
       "8920          77.222621             0.0  \n",
       "9320          65.818944             0.0  \n",
       "9893          74.243066             0.0  \n",
       "9894          79.597733             0.0  \n",
       "10020         49.797341             0.0  \n",
       "\n",
       "[58 rows x 90 columns]"
      ]
     },
     "metadata": {},
     "output_type": "display_data"
    },
    {
     "name": "stdout",
     "output_type": "stream",
     "text": [
      "13795\n"
     ]
    }
   ],
   "source": [
    "print(len(df_train))\n",
    "display(df_train.loc[df_train[x] == 0])\n",
    "for x in ['sum_conc_feed', 'sum_conc_rougher', 'sum_conc_final']:\n",
    "    df_train = df_train.loc[df_train[x] != 0]\n",
    "print(len(df_train)) "
   ]
  },
  {
   "cell_type": "markdown",
   "metadata": {},
   "source": [
    "## Модель"
   ]
  },
  {
   "cell_type": "markdown",
   "metadata": {},
   "source": [
    "### Функция для вычисления sMAPE (итогового)"
   ]
  },
  {
   "cell_type": "code",
   "execution_count": 18,
   "metadata": {
    "collapsed": true
   },
   "outputs": [],
   "source": [
    "def sMAPE(df_true, df_pred):\n",
    "    #     первый параметр типа датафрейм, переведем его в массив numpy, берем из него 1й столбец\n",
    "    true = pd.DataFrame.to_numpy(df_true.iloc[:,0])\n",
    "    #     второй параметр идет сразу массив np, берем 1й столбец\n",
    "    pred = df_pred[:,0]\n",
    "    \n",
    "    smape_rougher = 100/len(df_true) * np.sum( np.abs(true - pred) / ((np.abs(true) + np.abs(pred)) / 2) )\n",
    "    \n",
    "    true = pd.DataFrame.to_numpy(df_true.iloc[:,1])\n",
    "    pred = df_pred[:,1]\n",
    "    \n",
    "    smape_final = 100/len(df_true) * np.sum( np.abs(true - pred) / ((np.abs(true) + np.abs(pred)) / 2) )\n",
    "    \n",
    "    return smape_rougher * 0.25 + smape_final * 0.75\n",
    "\n",
    "smape = make_scorer(sMAPE, greater_is_better=False)"
   ]
  },
  {
   "cell_type": "markdown",
   "metadata": {},
   "source": [
    "### Выделим признаки для обучения и целевой признак"
   ]
  },
  {
   "cell_type": "code",
   "execution_count": 19,
   "metadata": {
    "collapsed": true
   },
   "outputs": [],
   "source": [
    "Y = df_train.loc[:, ['rougher_output_recovery', 'final_output_recovery']]\n",
    "\n",
    "# обучать модель будем на всех остальных признаках, которые есть в тестовой выборке, за исключением 'date'\n",
    "\n",
    "X = df_train.loc[:, df_test.columns].drop('date', axis=1)"
   ]
  },
  {
   "cell_type": "markdown",
   "metadata": {},
   "source": [
    "### Маштабируем признаки"
   ]
  },
  {
   "cell_type": "code",
   "execution_count": 20,
   "metadata": {
    "collapsed": true
   },
   "outputs": [],
   "source": [
    "# scaler = StandardScaler()\n",
    "\n",
    "# scaler.fit_transform(X)\n",
    "\n",
    "# x_scaled = scaler.transform(X)"
   ]
  },
  {
   "cell_type": "markdown",
   "metadata": {},
   "source": [
    "### Обучим модели и оценим их качество метрикой sMAPE и кросс-валидацией. А также проверим модели на адекватность на константной модели DummyRegressor"
   ]
  },
  {
   "cell_type": "code",
   "execution_count": 21,
   "metadata": {},
   "outputs": [
    {
     "name": "stdout",
     "output_type": "stream",
     "text": [
      "Линейная регрессия, sMAPE = 10.06\n",
      "\n",
      "Решающее дерево при max_depth = 1, sMAPE = 8.99\n",
      "Решающее дерево при max_depth = 2, sMAPE = 9.21\n",
      "Решающее дерево при max_depth = 3, sMAPE = 9.17\n",
      "Решающее дерево при max_depth = 4, sMAPE = 9.62\n",
      "\n",
      "Случайный лес при max_depth = 1, estimators = 10, sMAPE = 9.08\n",
      "Случайный лес при max_depth = 1, estimators = 20, sMAPE = 9.02\n",
      "Случайный лес при max_depth = 1, estimators = 30, sMAPE = 9.01\n",
      "Случайный лес при max_depth = 1, estimators = 40, sMAPE = 8.99\n",
      "Случайный лес при max_depth = 1, estimators = 50, sMAPE = 8.99\n",
      "Случайный лес при max_depth = 2, estimators = 10, sMAPE = 9.17\n",
      "Случайный лес при max_depth = 2, estimators = 20, sMAPE = 9.09\n",
      "Случайный лес при max_depth = 2, estimators = 30, sMAPE = 9.12\n",
      "Случайный лес при max_depth = 2, estimators = 40, sMAPE = 9.11\n",
      "Случайный лес при max_depth = 2, estimators = 50, sMAPE = 9.12\n",
      "Случайный лес при max_depth = 3, estimators = 10, sMAPE = 8.82\n",
      "Случайный лес при max_depth = 3, estimators = 20, sMAPE = 8.81\n",
      "Случайный лес при max_depth = 3, estimators = 30, sMAPE = 8.76\n",
      "Случайный лес при max_depth = 3, estimators = 40, sMAPE = 8.76\n",
      "Случайный лес при max_depth = 3, estimators = 50, sMAPE = 8.76\n",
      "Случайный лес при max_depth = 4, estimators = 10, sMAPE = 8.85\n",
      "Случайный лес при max_depth = 4, estimators = 20, sMAPE = 8.83\n",
      "Случайный лес при max_depth = 4, estimators = 30, sMAPE = 8.76\n",
      "Случайный лес при max_depth = 4, estimators = 40, sMAPE = 8.76\n",
      "Случайный лес при max_depth = 4, estimators = 50, sMAPE = 8.75\n",
      "Случайный лес при max_depth = 5, estimators = 10, sMAPE = 8.97\n",
      "Случайный лес при max_depth = 5, estimators = 20, sMAPE = 8.95\n",
      "Случайный лес при max_depth = 5, estimators = 30, sMAPE = 8.98\n",
      "Случайный лес при max_depth = 5, estimators = 40, sMAPE = 9.07\n",
      "Случайный лес при max_depth = 5, estimators = 50, sMAPE = 9.05\n",
      "Случайный лес при max_depth = 6, estimators = 10, sMAPE = 9.25\n",
      "Случайный лес при max_depth = 6, estimators = 20, sMAPE = 9.07\n",
      "Случайный лес при max_depth = 6, estimators = 30, sMAPE = 9.15\n",
      "Случайный лес при max_depth = 6, estimators = 40, sMAPE = 9.20\n",
      "Случайный лес при max_depth = 6, estimators = 50, sMAPE = 9.13\n",
      "Случайный лес при max_depth = 7, estimators = 10, sMAPE = 9.24\n",
      "Случайный лес при max_depth = 7, estimators = 20, sMAPE = 9.15\n",
      "Случайный лес при max_depth = 7, estimators = 30, sMAPE = 9.17\n",
      "Случайный лес при max_depth = 7, estimators = 40, sMAPE = 9.24\n",
      "Случайный лес при max_depth = 7, estimators = 50, sMAPE = 9.19\n",
      "Случайный лес при max_depth = 8, estimators = 10, sMAPE = 9.41\n",
      "Случайный лес при max_depth = 8, estimators = 20, sMAPE = 9.40\n",
      "Случайный лес при max_depth = 8, estimators = 30, sMAPE = 9.44\n",
      "Случайный лес при max_depth = 8, estimators = 40, sMAPE = 9.46\n",
      "Случайный лес при max_depth = 8, estimators = 50, sMAPE = 9.40\n",
      "Случайный лес при max_depth = 9, estimators = 10, sMAPE = 9.88\n",
      "Случайный лес при max_depth = 9, estimators = 20, sMAPE = 9.62\n",
      "Случайный лес при max_depth = 9, estimators = 30, sMAPE = 9.52\n",
      "Случайный лес при max_depth = 9, estimators = 40, sMAPE = 9.55\n",
      "Случайный лес при max_depth = 9, estimators = 50, sMAPE = 9.41\n",
      "\n",
      "Дамми при стратегии = median, sMAPE = 9.80\n",
      "Дамми при стратегии = mean, sMAPE = 9.79\n",
      "\n"
     ]
    }
   ],
   "source": [
    "# Линейная регрессия\n",
    "# model = LinearRegression()\n",
    "pipe = Pipeline([('scaler', StandardScaler()), ('model', LinearRegression())])\n",
    "scores = -1 * cross_val_score(pipe, X, Y, scoring=smape, cv=5).mean()\n",
    "print('Линейная регрессия, sMAPE = {:.2f}'.format(scores))\n",
    "print()\n",
    "\n",
    "# Решающее дерево\n",
    "for md in range(1,5):\n",
    "#     model = DecisionTreeRegressor(max_depth=md, random_state=12345)\n",
    "    pipe = Pipeline([('scaler', StandardScaler()), ('model', DecisionTreeRegressor(max_depth=md, random_state=12345))])\n",
    "    scores = -1 * cross_val_score(pipe, X, Y, scoring=smape, cv=5).mean()\n",
    "    print('Решающее дерево при max_depth = {}, sMAPE = {:.2f}'.format(md, scores))\n",
    "print()\n",
    "\n",
    "\n",
    "# Случайный лес\n",
    "for md in range(1,10):\n",
    "    for est in [10,20,30,40,50]:\n",
    "#         model = RandomForestRegressor(max_depth=md, n_estimators=est, random_state=12345)\n",
    "        pipe = Pipeline([('scaler', StandardScaler()), ('model', RandomForestRegressor(max_depth=md, n_estimators=est, random_state=12345))])\n",
    "        scores = -1 * cross_val_score(pipe, X, Y, scoring=smape, cv=5).mean()\n",
    "        print('Случайный лес при max_depth = {}, estimators = {}, sMAPE = {:.2f}'.format(md, est, scores))\n",
    "print()\n",
    "\n",
    "# Дамми\n",
    "for strateg in ['median', 'mean']:\n",
    "#     model = DummyRegressor(strategy=strateg)\n",
    "    pipe = Pipeline([('scaler', StandardScaler()), ('model', DummyRegressor(strategy=strateg))])\n",
    "    scores = -1 * cross_val_score(pipe, X, Y, scoring=smape, cv=5).mean()\n",
    "    print('Дамми при стратегии = {}, sMAPE = {:.2f}'.format(strateg, scores))\n",
    "print()\n"
   ]
  },
  {
   "cell_type": "markdown",
   "metadata": {},
   "source": [
    "#### Вывод:\n",
    "<li> 1. Из всех моделей лучший результат показала модель RandomForestRegressor с средней метрикой sMAPE 8.75 при параметрах max_depth = 4 и estimators = 50.\n",
    "<li> 2. Константная модель DummyRegressor выдает sMAPE = 9.8"
   ]
  },
  {
   "cell_type": "markdown",
   "metadata": {},
   "source": [
    "### Проверим модель на тестовой выборке"
   ]
  },
  {
   "cell_type": "markdown",
   "metadata": {},
   "source": [
    "### Извлечем данные: целевые признаки из полной выборки, остальные признаки - из тестовой"
   ]
  },
  {
   "cell_type": "code",
   "execution_count": 22,
   "metadata": {
    "collapsed": true
   },
   "outputs": [],
   "source": [
    "y_test = df_full[df_full['date'].isin(df_test['date'])][['rougher_output_recovery', 'final_output_recovery']].reset_index(drop=True)\n",
    "\n",
    "x_test = df_test.drop('date', axis=1)"
   ]
  },
  {
   "cell_type": "markdown",
   "metadata": {},
   "source": [
    "### Проверим на Nan и дубликаты"
   ]
  },
  {
   "cell_type": "code",
   "execution_count": 23,
   "metadata": {},
   "outputs": [
    {
     "data": {
      "text/plain": [
       "rougher_output_recovery    0\n",
       "final_output_recovery      0\n",
       "dtype: int64"
      ]
     },
     "metadata": {},
     "output_type": "display_data"
    },
    {
     "data": {
      "text/plain": [
       "primary_cleaner_input_sulfate                  4\n",
       "primary_cleaner_input_depressant               5\n",
       "primary_cleaner_input_feed_size                0\n",
       "primary_cleaner_input_xanthate                 4\n",
       "primary_cleaner_state_floatbank8_a_air         0\n",
       "primary_cleaner_state_floatbank8_a_level       0\n",
       "primary_cleaner_state_floatbank8_b_air         0\n",
       "primary_cleaner_state_floatbank8_b_level       0\n",
       "primary_cleaner_state_floatbank8_c_air         0\n",
       "primary_cleaner_state_floatbank8_c_level       0\n",
       "primary_cleaner_state_floatbank8_d_air         0\n",
       "primary_cleaner_state_floatbank8_d_level       0\n",
       "rougher_input_feed_ag                          0\n",
       "rougher_input_feed_pb                          0\n",
       "rougher_input_feed_rate                        3\n",
       "rougher_input_feed_size                        1\n",
       "rougher_input_feed_sol                        21\n",
       "rougher_input_feed_au                          0\n",
       "rougher_input_floatbank10_sulfate              5\n",
       "rougher_input_floatbank10_xanthate             0\n",
       "rougher_input_floatbank11_sulfate              8\n",
       "rougher_input_floatbank11_xanthate            25\n",
       "rougher_state_floatbank10_a_air                0\n",
       "rougher_state_floatbank10_a_level              0\n",
       "rougher_state_floatbank10_b_air                0\n",
       "rougher_state_floatbank10_b_level              0\n",
       "rougher_state_floatbank10_c_air                0\n",
       "rougher_state_floatbank10_c_level              0\n",
       "rougher_state_floatbank10_d_air                0\n",
       "rougher_state_floatbank10_d_level              0\n",
       "rougher_state_floatbank10_e_air                0\n",
       "rougher_state_floatbank10_e_level              0\n",
       "rougher_state_floatbank10_f_air                0\n",
       "rougher_state_floatbank10_f_level              0\n",
       "secondary_cleaner_state_floatbank2_a_air       3\n",
       "secondary_cleaner_state_floatbank2_a_level     0\n",
       "secondary_cleaner_state_floatbank2_b_air       2\n",
       "secondary_cleaner_state_floatbank2_b_level     0\n",
       "secondary_cleaner_state_floatbank3_a_air       9\n",
       "secondary_cleaner_state_floatbank3_a_level     0\n",
       "secondary_cleaner_state_floatbank3_b_air       0\n",
       "secondary_cleaner_state_floatbank3_b_level     0\n",
       "secondary_cleaner_state_floatbank4_a_air       0\n",
       "secondary_cleaner_state_floatbank4_a_level     0\n",
       "secondary_cleaner_state_floatbank4_b_air       0\n",
       "secondary_cleaner_state_floatbank4_b_level     0\n",
       "secondary_cleaner_state_floatbank5_a_air       0\n",
       "secondary_cleaner_state_floatbank5_a_level     0\n",
       "secondary_cleaner_state_floatbank5_b_air       0\n",
       "secondary_cleaner_state_floatbank5_b_level     0\n",
       "secondary_cleaner_state_floatbank6_a_air       0\n",
       "secondary_cleaner_state_floatbank6_a_level     0\n",
       "dtype: int64"
      ]
     },
     "metadata": {},
     "output_type": "display_data"
    }
   ],
   "source": [
    "display(y_test.isna().sum())\n",
    "display(x_test.isna().sum())"
   ]
  },
  {
   "cell_type": "markdown",
   "metadata": {},
   "source": [
    "### Заполним пропуски средними значениями по столбцу (тренировочный датасет)"
   ]
  },
  {
   "cell_type": "code",
   "execution_count": 24,
   "metadata": {
    "collapsed": true
   },
   "outputs": [],
   "source": [
    "for col in x_test.columns:\n",
    "    if x_test[col].isna().sum() > 0:\n",
    "        x_test[col] = x_test[col].fillna(df_train[col].mean())"
   ]
  },
  {
   "cell_type": "markdown",
   "metadata": {},
   "source": [
    "### Маштабируем признаки для тренировки модели"
   ]
  },
  {
   "cell_type": "code",
   "execution_count": 25,
   "metadata": {
    "collapsed": true
   },
   "outputs": [],
   "source": [
    "scaler = StandardScaler()\n",
    "\n",
    "scaler.fit_transform(X)\n",
    "\n",
    "x_test_scaled = scaler.transform(x_test)"
   ]
  },
  {
   "cell_type": "markdown",
   "metadata": {},
   "source": [
    "### Лучшие результаты нам показала модель RandomForestRegressor с параметрами max_depth=4, n_estimators=30"
   ]
  },
  {
   "cell_type": "code",
   "execution_count": 26,
   "metadata": {},
   "outputs": [
    {
     "name": "stdout",
     "output_type": "stream",
     "text": [
      "Качество модели на тестовой выборке 8.03148362339637\n"
     ]
    }
   ],
   "source": [
    "model = RandomForestRegressor(max_depth=4, n_estimators=50, random_state=12345)\n",
    "\n",
    "model.fit(x_test_scaled, y_test)\n",
    "\n",
    "predict = model.predict(x_test_scaled)\n",
    "\n",
    "print('Качество модели на тестовой выборке', sMAPE(y_test, predict))\n",
    "\n",
    "# 8.604830544742835"
   ]
  },
  {
   "cell_type": "markdown",
   "metadata": {},
   "source": [
    "### Обучим константную модель и оценим ее "
   ]
  },
  {
   "cell_type": "code",
   "execution_count": 28,
   "metadata": {},
   "outputs": [
    {
     "name": "stdout",
     "output_type": "stream",
     "text": [
      "9.82279305388574\n"
     ]
    }
   ],
   "source": [
    "model = DummyRegressor(strategy='mean')\n",
    "model.fit(X, Y)\n",
    "\n",
    "predict = model.predict(x_test_scaled)\n",
    "\n",
    "print(sMAPE(y_test, predict))\n",
    "\n",
    "# 9.82279305388574"
   ]
  },
  {
   "cell_type": "markdown",
   "metadata": {},
   "source": [
    "#### Вывод: наша отобранная модель показала результат лучше, чем константная."
   ]
  },
  {
   "cell_type": "markdown",
   "metadata": {},
   "source": [
    "## ВЫВОД:\n",
    "<li> 1. В ходе работы над проектом приобретен небольшой но ценный опыт использования технологий машинного процесса на производстве. С помощью машинного обучения можно предсказывать эффективность технологического процесса на старте (на исходных данных) и/или по его показателям на начальних стадиях. \n",
    "<li> 2. С помощью кросс-валидации и соответствующей метрики произведен подбор наиболее эффективной модели для решения данной технологической задачи.\n",
    "<li> 3. Модель прошла испытание на тестовой выборке, показав результат лучше, чем константная модель."
   ]
  }
 ],
 "metadata": {
  "ExecuteTimeLog": [
   {
    "duration": 741,
    "start_time": "2022-03-09T06:00:49.858Z"
   },
   {
    "duration": 2010,
    "start_time": "2022-03-09T06:00:51.671Z"
   },
   {
    "duration": 847,
    "start_time": "2022-03-09T06:01:29.340Z"
   },
   {
    "duration": 50,
    "start_time": "2022-03-09T06:01:37.982Z"
   },
   {
    "duration": 23,
    "start_time": "2022-03-09T06:09:45.457Z"
   },
   {
    "duration": 12,
    "start_time": "2022-03-09T06:11:58.432Z"
   },
   {
    "duration": 38,
    "start_time": "2022-03-09T06:13:46.925Z"
   },
   {
    "duration": 8,
    "start_time": "2022-03-09T06:14:00.129Z"
   },
   {
    "duration": 275,
    "start_time": "2022-03-09T06:17:25.344Z"
   },
   {
    "duration": 854,
    "start_time": "2022-03-09T06:17:43.134Z"
   },
   {
    "duration": 830,
    "start_time": "2022-03-09T06:17:55.527Z"
   },
   {
    "duration": 7,
    "start_time": "2022-03-09T06:17:59.041Z"
   },
   {
    "duration": 25,
    "start_time": "2022-03-09T06:19:12.796Z"
   },
   {
    "duration": 426,
    "start_time": "2022-03-09T06:19:23.984Z"
   },
   {
    "duration": 33,
    "start_time": "2022-03-09T06:19:40.684Z"
   },
   {
    "duration": 28,
    "start_time": "2022-03-09T06:19:53.438Z"
   },
   {
    "duration": 42,
    "start_time": "2022-03-09T06:19:57.287Z"
   },
   {
    "duration": 38,
    "start_time": "2022-03-09T06:20:02.313Z"
   },
   {
    "duration": 21,
    "start_time": "2022-03-09T06:20:06.642Z"
   },
   {
    "duration": 14,
    "start_time": "2022-03-09T06:20:49.412Z"
   },
   {
    "duration": 266,
    "start_time": "2022-03-09T06:22:20.758Z"
   },
   {
    "duration": 258,
    "start_time": "2022-03-09T06:22:40.392Z"
   },
   {
    "duration": 40,
    "start_time": "2022-03-09T06:26:26.154Z"
   },
   {
    "duration": 36,
    "start_time": "2022-03-09T06:26:44.797Z"
   },
   {
    "duration": 9253,
    "start_time": "2022-03-09T06:27:32.472Z"
   },
   {
    "duration": 8263,
    "start_time": "2022-03-09T06:27:58.015Z"
   },
   {
    "duration": 9093,
    "start_time": "2022-03-09T06:28:13.910Z"
   },
   {
    "duration": 4,
    "start_time": "2022-03-09T06:29:09.769Z"
   },
   {
    "duration": 7,
    "start_time": "2022-03-09T06:29:18.309Z"
   },
   {
    "duration": 8754,
    "start_time": "2022-03-09T06:29:40.891Z"
   },
   {
    "duration": 8932,
    "start_time": "2022-03-09T06:29:59.211Z"
   },
   {
    "duration": 321,
    "start_time": "2022-03-09T06:30:50.730Z"
   },
   {
    "duration": 341,
    "start_time": "2022-03-09T06:30:56.182Z"
   },
   {
    "duration": 358,
    "start_time": "2022-03-09T06:31:09.131Z"
   },
   {
    "duration": 19,
    "start_time": "2022-03-09T06:32:35.682Z"
   },
   {
    "duration": 20,
    "start_time": "2022-03-09T06:50:46.112Z"
   },
   {
    "duration": 7,
    "start_time": "2022-03-09T06:50:50.580Z"
   },
   {
    "duration": 30,
    "start_time": "2022-03-09T06:51:34.833Z"
   },
   {
    "duration": 270,
    "start_time": "2022-03-09T06:57:19.051Z"
   },
   {
    "duration": 261,
    "start_time": "2022-03-09T07:03:24.640Z"
   },
   {
    "duration": 329,
    "start_time": "2022-03-09T07:03:32.520Z"
   },
   {
    "duration": 277,
    "start_time": "2022-03-09T07:03:47.627Z"
   },
   {
    "duration": 413,
    "start_time": "2022-03-09T07:04:09.801Z"
   },
   {
    "duration": 268,
    "start_time": "2022-03-09T07:16:11.712Z"
   },
   {
    "duration": 237,
    "start_time": "2022-03-09T07:16:32.771Z"
   },
   {
    "duration": 244,
    "start_time": "2022-03-09T07:16:38.299Z"
   },
   {
    "duration": 5,
    "start_time": "2022-03-09T07:17:06.722Z"
   },
   {
    "duration": 24,
    "start_time": "2022-03-09T07:17:36.001Z"
   },
   {
    "duration": 1804,
    "start_time": "2022-03-09T07:23:24.847Z"
   },
   {
    "duration": 945,
    "start_time": "2022-03-09T07:23:51.737Z"
   },
   {
    "duration": 46,
    "start_time": "2022-03-09T07:23:59.058Z"
   },
   {
    "duration": 1126,
    "start_time": "2022-03-09T07:42:38.382Z"
   },
   {
    "duration": 5,
    "start_time": "2022-03-09T07:56:49.426Z"
   },
   {
    "duration": 6,
    "start_time": "2022-03-09T07:57:59.768Z"
   },
   {
    "duration": 780,
    "start_time": "2022-03-09T08:01:54.597Z"
   },
   {
    "duration": 639,
    "start_time": "2022-03-09T08:02:11.988Z"
   },
   {
    "duration": 86,
    "start_time": "2022-03-09T08:02:23.487Z"
   },
   {
    "duration": 9,
    "start_time": "2022-03-09T08:02:29.486Z"
   },
   {
    "duration": 94,
    "start_time": "2022-03-09T08:03:43.259Z"
   },
   {
    "duration": 9,
    "start_time": "2022-03-09T08:04:20.303Z"
   },
   {
    "duration": 9,
    "start_time": "2022-03-09T08:04:33.713Z"
   },
   {
    "duration": 333,
    "start_time": "2022-03-09T08:05:06.886Z"
   },
   {
    "duration": 280,
    "start_time": "2022-03-09T08:05:09.449Z"
   },
   {
    "duration": 9,
    "start_time": "2022-03-09T08:05:16.417Z"
   },
   {
    "duration": 8,
    "start_time": "2022-03-09T08:05:24.212Z"
   },
   {
    "duration": 9,
    "start_time": "2022-03-09T08:23:48.878Z"
   },
   {
    "duration": 8,
    "start_time": "2022-03-09T08:24:15.250Z"
   },
   {
    "duration": 9,
    "start_time": "2022-03-09T08:24:33.900Z"
   },
   {
    "duration": 9,
    "start_time": "2022-03-09T08:24:38.568Z"
   },
   {
    "duration": 7,
    "start_time": "2022-03-09T08:24:46.065Z"
   },
   {
    "duration": 22,
    "start_time": "2022-03-09T08:25:11.525Z"
   },
   {
    "duration": 9,
    "start_time": "2022-03-09T11:19:28.154Z"
   },
   {
    "duration": 32,
    "start_time": "2022-03-09T11:19:38.876Z"
   },
   {
    "duration": 9,
    "start_time": "2022-03-09T11:22:19.539Z"
   },
   {
    "duration": 30,
    "start_time": "2022-03-09T11:22:31.371Z"
   },
   {
    "duration": 25,
    "start_time": "2022-03-09T11:22:51.304Z"
   },
   {
    "duration": 39,
    "start_time": "2022-03-09T11:23:41.018Z"
   },
   {
    "duration": 91,
    "start_time": "2022-03-09T11:25:48.821Z"
   },
   {
    "duration": 4,
    "start_time": "2022-03-09T11:26:37.054Z"
   },
   {
    "duration": 5,
    "start_time": "2022-03-09T11:26:45.151Z"
   },
   {
    "duration": 280,
    "start_time": "2022-03-09T11:29:56.010Z"
   },
   {
    "duration": 31,
    "start_time": "2022-03-09T11:30:24.147Z"
   },
   {
    "duration": 293,
    "start_time": "2022-03-09T11:35:33.497Z"
   },
   {
    "duration": 4,
    "start_time": "2022-03-09T11:36:24.330Z"
   },
   {
    "duration": 255,
    "start_time": "2022-03-09T11:36:27.568Z"
   },
   {
    "duration": 577,
    "start_time": "2022-03-09T11:37:56.115Z"
   },
   {
    "duration": 60,
    "start_time": "2022-03-09T11:42:18.112Z"
   },
   {
    "duration": 59,
    "start_time": "2022-03-09T11:48:03.085Z"
   },
   {
    "duration": 60,
    "start_time": "2022-03-09T11:48:08.209Z"
   },
   {
    "duration": 60,
    "start_time": "2022-03-09T11:48:52.138Z"
   },
   {
    "duration": 7,
    "start_time": "2022-03-09T12:14:25.123Z"
   },
   {
    "duration": 9,
    "start_time": "2022-03-09T12:14:43.756Z"
   },
   {
    "duration": 7,
    "start_time": "2022-03-09T13:31:55.566Z"
   },
   {
    "duration": 72,
    "start_time": "2022-03-09T13:41:15.934Z"
   },
   {
    "duration": 71,
    "start_time": "2022-03-09T13:41:31.508Z"
   },
   {
    "duration": 8,
    "start_time": "2022-03-09T13:45:02.331Z"
   },
   {
    "duration": 5,
    "start_time": "2022-03-09T13:47:00.436Z"
   },
   {
    "duration": 5,
    "start_time": "2022-03-09T13:47:40.378Z"
   },
   {
    "duration": 17,
    "start_time": "2022-03-09T13:56:42.850Z"
   },
   {
    "duration": 1330,
    "start_time": "2022-03-10T10:48:46.095Z"
   },
   {
    "duration": 983,
    "start_time": "2022-03-10T10:48:49.738Z"
   },
   {
    "duration": 11,
    "start_time": "2022-03-10T10:48:52.337Z"
   },
   {
    "duration": 60,
    "start_time": "2022-03-10T10:48:54.403Z"
   },
   {
    "duration": 72,
    "start_time": "2022-03-10T10:48:58.021Z"
   },
   {
    "duration": 73,
    "start_time": "2022-03-10T10:49:00.064Z"
   },
   {
    "duration": 429,
    "start_time": "2022-03-10T10:49:03.528Z"
   },
   {
    "duration": 8,
    "start_time": "2022-03-10T10:56:54.405Z"
   },
   {
    "duration": 5,
    "start_time": "2022-03-10T10:57:03.003Z"
   },
   {
    "duration": 5,
    "start_time": "2022-03-10T10:58:32.410Z"
   },
   {
    "duration": 5,
    "start_time": "2022-03-10T11:08:59.812Z"
   },
   {
    "duration": 6,
    "start_time": "2022-03-10T11:09:28.497Z"
   },
   {
    "duration": 6,
    "start_time": "2022-03-10T11:09:35.899Z"
   },
   {
    "duration": 6,
    "start_time": "2022-03-10T11:09:57.405Z"
   },
   {
    "duration": 3,
    "start_time": "2022-03-10T11:11:26.867Z"
   },
   {
    "duration": 741,
    "start_time": "2022-03-10T11:11:28.562Z"
   },
   {
    "duration": 8,
    "start_time": "2022-03-10T11:11:30.501Z"
   },
   {
    "duration": 10,
    "start_time": "2022-03-10T11:11:33.473Z"
   },
   {
    "duration": 56,
    "start_time": "2022-03-10T11:11:41.031Z"
   },
   {
    "duration": 52,
    "start_time": "2022-03-10T11:11:44.761Z"
   },
   {
    "duration": 49,
    "start_time": "2022-03-10T11:11:46.784Z"
   },
   {
    "duration": 11,
    "start_time": "2022-03-10T11:13:13.135Z"
   },
   {
    "duration": 26,
    "start_time": "2022-03-10T11:13:58.267Z"
   },
   {
    "duration": 18,
    "start_time": "2022-03-10T11:16:16.951Z"
   },
   {
    "duration": 83,
    "start_time": "2022-03-11T02:26:30.704Z"
   },
   {
    "duration": 311,
    "start_time": "2022-03-11T02:27:19.072Z"
   },
   {
    "duration": 1382,
    "start_time": "2022-03-11T02:27:23.246Z"
   },
   {
    "duration": 846,
    "start_time": "2022-03-11T02:27:25.164Z"
   },
   {
    "duration": 87,
    "start_time": "2022-03-11T02:27:27.064Z"
   },
   {
    "duration": 9,
    "start_time": "2022-03-11T02:33:48.964Z"
   },
   {
    "duration": 8,
    "start_time": "2022-03-11T02:33:54.757Z"
   },
   {
    "duration": 184,
    "start_time": "2022-03-11T02:36:29.925Z"
   },
   {
    "duration": 361,
    "start_time": "2022-03-11T02:36:48.463Z"
   },
   {
    "duration": 348,
    "start_time": "2022-03-11T02:37:06.921Z"
   },
   {
    "duration": 343,
    "start_time": "2022-03-11T02:37:43.610Z"
   },
   {
    "duration": 349,
    "start_time": "2022-03-11T02:37:54.705Z"
   },
   {
    "duration": 24,
    "start_time": "2022-03-11T02:38:57.451Z"
   },
   {
    "duration": 6,
    "start_time": "2022-03-11T02:39:38.409Z"
   },
   {
    "duration": 852,
    "start_time": "2022-03-11T02:41:03.156Z"
   },
   {
    "duration": 82,
    "start_time": "2022-03-11T02:41:05.541Z"
   },
   {
    "duration": 6,
    "start_time": "2022-03-11T02:52:23.721Z"
   },
   {
    "duration": 9,
    "start_time": "2022-03-11T02:52:25.896Z"
   },
   {
    "duration": 342,
    "start_time": "2022-03-11T02:52:29.502Z"
   },
   {
    "duration": 96,
    "start_time": "2022-03-11T02:55:51.930Z"
   },
   {
    "duration": 337,
    "start_time": "2022-03-11T02:55:56.491Z"
   },
   {
    "duration": 103,
    "start_time": "2022-03-11T02:56:01.850Z"
   },
   {
    "duration": 83,
    "start_time": "2022-03-11T02:56:18.385Z"
   },
   {
    "duration": 88,
    "start_time": "2022-03-11T02:56:33.466Z"
   },
   {
    "duration": 86,
    "start_time": "2022-03-11T02:56:34.169Z"
   },
   {
    "duration": 89,
    "start_time": "2022-03-11T02:56:34.724Z"
   },
   {
    "duration": 104,
    "start_time": "2022-03-11T02:57:00.156Z"
   },
   {
    "duration": 89,
    "start_time": "2022-03-11T02:57:24.039Z"
   },
   {
    "duration": 96,
    "start_time": "2022-03-11T02:57:32.205Z"
   },
   {
    "duration": 264,
    "start_time": "2022-03-11T02:57:45.793Z"
   },
   {
    "duration": 99,
    "start_time": "2022-03-11T02:57:48.859Z"
   },
   {
    "duration": 1397,
    "start_time": "2022-03-11T03:04:29.156Z"
   },
   {
    "duration": 868,
    "start_time": "2022-03-11T03:04:30.555Z"
   },
   {
    "duration": 93,
    "start_time": "2022-03-11T03:04:31.426Z"
   },
   {
    "duration": 5,
    "start_time": "2022-03-11T03:04:31.522Z"
   },
   {
    "duration": 9,
    "start_time": "2022-03-11T03:04:31.551Z"
   },
   {
    "duration": 381,
    "start_time": "2022-03-11T03:04:31.562Z"
   },
   {
    "duration": 119,
    "start_time": "2022-03-11T03:04:31.945Z"
   },
   {
    "duration": 6212,
    "start_time": "2022-03-11T03:04:32.067Z"
   },
   {
    "duration": -28,
    "start_time": "2022-03-11T03:04:38.310Z"
   },
   {
    "duration": -31,
    "start_time": "2022-03-11T03:04:38.314Z"
   },
   {
    "duration": -32,
    "start_time": "2022-03-11T03:04:38.317Z"
   },
   {
    "duration": 15,
    "start_time": "2022-03-11T03:05:10.257Z"
   },
   {
    "duration": 245,
    "start_time": "2022-03-11T03:06:37.099Z"
   },
   {
    "duration": 278,
    "start_time": "2022-03-11T03:06:56.127Z"
   },
   {
    "duration": 12,
    "start_time": "2022-03-11T03:07:09.369Z"
   },
   {
    "duration": 1448,
    "start_time": "2022-03-11T03:07:26.176Z"
   },
   {
    "duration": 866,
    "start_time": "2022-03-11T03:07:27.627Z"
   },
   {
    "duration": 105,
    "start_time": "2022-03-11T03:07:28.499Z"
   },
   {
    "duration": 6,
    "start_time": "2022-03-11T03:07:28.606Z"
   },
   {
    "duration": 37,
    "start_time": "2022-03-11T03:07:28.614Z"
   },
   {
    "duration": 382,
    "start_time": "2022-03-11T03:07:28.654Z"
   },
   {
    "duration": 108,
    "start_time": "2022-03-11T03:07:29.050Z"
   },
   {
    "duration": 16,
    "start_time": "2022-03-11T03:07:29.162Z"
   },
   {
    "duration": 95,
    "start_time": "2022-03-11T03:07:29.181Z"
   },
   {
    "duration": 28,
    "start_time": "2022-03-11T03:07:29.278Z"
   },
   {
    "duration": 42,
    "start_time": "2022-03-11T03:07:29.309Z"
   },
   {
    "duration": 13,
    "start_time": "2022-03-11T03:11:54.777Z"
   },
   {
    "duration": 67,
    "start_time": "2022-03-11T03:14:26.325Z"
   },
   {
    "duration": 13,
    "start_time": "2022-03-11T03:14:28.234Z"
   },
   {
    "duration": 10,
    "start_time": "2022-03-11T03:18:41.898Z"
   },
   {
    "duration": 11,
    "start_time": "2022-03-11T03:19:30.115Z"
   },
   {
    "duration": 11,
    "start_time": "2022-03-11T03:19:39.147Z"
   },
   {
    "duration": 95,
    "start_time": "2022-03-11T03:20:15.263Z"
   },
   {
    "duration": 10,
    "start_time": "2022-03-11T03:20:18.386Z"
   },
   {
    "duration": 10,
    "start_time": "2022-03-11T03:26:17.464Z"
   },
   {
    "duration": 1403,
    "start_time": "2022-03-11T03:26:33.828Z"
   },
   {
    "duration": 867,
    "start_time": "2022-03-11T03:26:35.234Z"
   },
   {
    "duration": 91,
    "start_time": "2022-03-11T03:26:36.104Z"
   },
   {
    "duration": 5,
    "start_time": "2022-03-11T03:26:36.198Z"
   },
   {
    "duration": 11,
    "start_time": "2022-03-11T03:26:36.206Z"
   },
   {
    "duration": 381,
    "start_time": "2022-03-11T03:26:36.219Z"
   },
   {
    "duration": 113,
    "start_time": "2022-03-11T03:26:36.602Z"
   },
   {
    "duration": 3,
    "start_time": "2022-03-11T03:26:36.719Z"
   },
   {
    "duration": 38,
    "start_time": "2022-03-11T03:26:36.724Z"
   },
   {
    "duration": 25,
    "start_time": "2022-03-11T03:26:36.765Z"
   },
   {
    "duration": 15,
    "start_time": "2022-03-11T03:26:36.793Z"
   },
   {
    "duration": 9,
    "start_time": "2022-03-11T03:28:11.524Z"
   },
   {
    "duration": 401,
    "start_time": "2022-03-11T03:41:26.307Z"
   },
   {
    "duration": -32,
    "start_time": "2022-03-11T03:43:46.384Z"
   },
   {
    "duration": 328,
    "start_time": "2022-03-11T03:44:07.624Z"
   },
   {
    "duration": 7168,
    "start_time": "2022-03-11T03:44:14.439Z"
   },
   {
    "duration": 668,
    "start_time": "2022-03-11T03:44:49.851Z"
   },
   {
    "duration": 7050,
    "start_time": "2022-03-11T03:45:12.022Z"
   },
   {
    "duration": 752,
    "start_time": "2022-03-11T03:45:28.520Z"
   },
   {
    "duration": 712,
    "start_time": "2022-03-11T03:45:46.057Z"
   },
   {
    "duration": 752,
    "start_time": "2022-03-11T03:45:59.293Z"
   },
   {
    "duration": 97,
    "start_time": "2022-03-11T03:47:07.629Z"
   },
   {
    "duration": 243,
    "start_time": "2022-03-11T03:47:16.674Z"
   },
   {
    "duration": 451,
    "start_time": "2022-03-11T03:47:24.286Z"
   },
   {
    "duration": 486,
    "start_time": "2022-03-11T03:52:09.079Z"
   },
   {
    "duration": 82,
    "start_time": "2022-03-11T03:52:23.942Z"
   },
   {
    "duration": 445,
    "start_time": "2022-03-11T03:52:36.992Z"
   },
   {
    "duration": 7299,
    "start_time": "2022-03-11T03:53:00.712Z"
   },
   {
    "duration": 406,
    "start_time": "2022-03-11T03:53:24.070Z"
   },
   {
    "duration": 67,
    "start_time": "2022-03-11T04:01:19.563Z"
   },
   {
    "duration": 268,
    "start_time": "2022-03-11T04:01:29.710Z"
   },
   {
    "duration": 523,
    "start_time": "2022-03-11T04:02:01.428Z"
   },
   {
    "duration": 12977,
    "start_time": "2022-03-11T04:03:50.709Z"
   },
   {
    "duration": 32379,
    "start_time": "2022-03-11T04:04:21.097Z"
   },
   {
    "duration": -44,
    "start_time": "2022-03-11T04:06:21.828Z"
   },
   {
    "duration": -40,
    "start_time": "2022-03-11T04:06:48.948Z"
   },
   {
    "duration": 563,
    "start_time": "2022-03-11T04:06:50.151Z"
   },
   {
    "duration": 717,
    "start_time": "2022-03-11T04:07:03.346Z"
   },
   {
    "duration": 560,
    "start_time": "2022-03-11T04:08:24.348Z"
   },
   {
    "duration": -35,
    "start_time": "2022-03-11T04:08:48.653Z"
   },
   {
    "duration": 26876,
    "start_time": "2022-03-11T04:08:48.970Z"
   },
   {
    "duration": 411,
    "start_time": "2022-03-11T04:11:37.971Z"
   },
   {
    "duration": 862,
    "start_time": "2022-03-11T04:12:11.335Z"
   },
   {
    "duration": 411,
    "start_time": "2022-03-11T04:12:13.898Z"
   },
   {
    "duration": 6,
    "start_time": "2022-03-11T04:14:19.624Z"
   },
   {
    "duration": 11,
    "start_time": "2022-03-11T04:16:39.335Z"
   },
   {
    "duration": 27565,
    "start_time": "2022-03-11T04:16:47.594Z"
   },
   {
    "duration": 42264,
    "start_time": "2022-03-11T05:36:36.490Z"
   },
   {
    "duration": 86,
    "start_time": "2022-03-11T05:38:38.974Z"
   },
   {
    "duration": 503,
    "start_time": "2022-03-11T05:38:42.969Z"
   },
   {
    "duration": 484,
    "start_time": "2022-03-11T05:38:50.556Z"
   },
   {
    "duration": 721,
    "start_time": "2022-03-11T05:38:56.798Z"
   },
   {
    "duration": 4,
    "start_time": "2022-03-11T05:41:41.452Z"
   },
   {
    "duration": 96,
    "start_time": "2022-03-11T05:43:10.933Z"
   },
   {
    "duration": 1179,
    "start_time": "2022-03-11T05:43:15.694Z"
   },
   {
    "duration": 953,
    "start_time": "2022-03-11T05:44:44.642Z"
   },
   {
    "duration": 4,
    "start_time": "2022-03-11T05:44:58.482Z"
   },
   {
    "duration": 955,
    "start_time": "2022-03-11T05:45:08.265Z"
   },
   {
    "duration": 959,
    "start_time": "2022-03-11T05:46:57.754Z"
   },
   {
    "duration": 4,
    "start_time": "2022-03-11T05:49:32.348Z"
   },
   {
    "duration": 837,
    "start_time": "2022-03-11T05:49:34.438Z"
   },
   {
    "duration": 86,
    "start_time": "2022-03-11T05:49:36.899Z"
   },
   {
    "duration": 1344,
    "start_time": "2022-03-11T05:49:41.690Z"
   },
   {
    "duration": 1715,
    "start_time": "2022-03-11T05:49:55.272Z"
   },
   {
    "duration": 2435,
    "start_time": "2022-03-11T05:50:04.328Z"
   },
   {
    "duration": 3960,
    "start_time": "2022-03-11T05:50:18.356Z"
   },
   {
    "duration": 7023,
    "start_time": "2022-03-11T05:52:03.140Z"
   },
   {
    "duration": 3386,
    "start_time": "2022-03-11T05:52:51.348Z"
   },
   {
    "duration": 4738,
    "start_time": "2022-03-11T05:53:01.885Z"
   },
   {
    "duration": 4547,
    "start_time": "2022-03-11T05:53:25.721Z"
   },
   {
    "duration": 5197,
    "start_time": "2022-03-11T05:53:46.864Z"
   },
   {
    "duration": 4670,
    "start_time": "2022-03-11T05:54:04.402Z"
   },
   {
    "duration": 4813,
    "start_time": "2022-03-11T05:54:17.822Z"
   },
   {
    "duration": 4694,
    "start_time": "2022-03-11T05:54:27.434Z"
   },
   {
    "duration": 6943,
    "start_time": "2022-03-11T05:55:31.204Z"
   },
   {
    "duration": 10103,
    "start_time": "2022-03-11T05:55:51.288Z"
   },
   {
    "duration": 136,
    "start_time": "2022-03-11T11:05:39.931Z"
   },
   {
    "duration": 10445,
    "start_time": "2022-03-11T11:05:46.454Z"
   },
   {
    "duration": 724,
    "start_time": "2022-03-11T11:07:10.553Z"
   },
   {
    "duration": 708,
    "start_time": "2022-03-11T11:07:17.989Z"
   },
   {
    "duration": 1204,
    "start_time": "2022-03-11T11:08:11.135Z"
   },
   {
    "duration": 1037,
    "start_time": "2022-03-11T11:08:24.493Z"
   },
   {
    "duration": 992,
    "start_time": "2022-03-11T11:09:19.380Z"
   },
   {
    "duration": 4,
    "start_time": "2022-03-11T11:11:00.627Z"
   },
   {
    "duration": 850,
    "start_time": "2022-03-11T11:11:02.407Z"
   },
   {
    "duration": 94,
    "start_time": "2022-03-11T11:11:03.764Z"
   },
   {
    "duration": 639,
    "start_time": "2022-03-11T11:11:18.079Z"
   },
   {
    "duration": 973,
    "start_time": "2022-03-11T11:11:23.897Z"
   },
   {
    "duration": 982,
    "start_time": "2022-03-11T11:12:15.395Z"
   },
   {
    "duration": 976,
    "start_time": "2022-03-11T11:12:34.416Z"
   },
   {
    "duration": 1101,
    "start_time": "2022-03-11T11:12:41.424Z"
   },
   {
    "duration": 1271,
    "start_time": "2022-03-11T11:12:58.697Z"
   },
   {
    "duration": 1312,
    "start_time": "2022-03-11T11:15:04.021Z"
   },
   {
    "duration": 1500,
    "start_time": "2022-03-11T11:18:20.904Z"
   },
   {
    "duration": 3197,
    "start_time": "2022-03-11T11:18:39.440Z"
   },
   {
    "duration": 2744,
    "start_time": "2022-03-11T11:19:58.876Z"
   },
   {
    "duration": 2631,
    "start_time": "2022-03-11T11:21:43.392Z"
   },
   {
    "duration": 2680,
    "start_time": "2022-03-11T11:22:24.898Z"
   },
   {
    "duration": 1618,
    "start_time": "2022-03-11T11:23:47.267Z"
   },
   {
    "duration": 1606,
    "start_time": "2022-03-11T11:24:08.072Z"
   },
   {
    "duration": 1626,
    "start_time": "2022-03-11T11:24:19.346Z"
   },
   {
    "duration": 1080,
    "start_time": "2022-03-11T11:24:46.712Z"
   },
   {
    "duration": 1508,
    "start_time": "2022-03-11T11:24:55.061Z"
   },
   {
    "duration": 1658,
    "start_time": "2022-03-11T11:25:17.177Z"
   },
   {
    "duration": 1616,
    "start_time": "2022-03-11T11:25:34.215Z"
   },
   {
    "duration": 1925,
    "start_time": "2022-03-11T11:25:53.440Z"
   },
   {
    "duration": 1649,
    "start_time": "2022-03-11T11:26:40.713Z"
   },
   {
    "duration": 1660,
    "start_time": "2022-03-11T11:26:59.885Z"
   },
   {
    "duration": 1652,
    "start_time": "2022-03-11T11:27:23.536Z"
   },
   {
    "duration": 1550,
    "start_time": "2022-03-11T11:27:40.652Z"
   },
   {
    "duration": 1560,
    "start_time": "2022-03-11T11:28:01.904Z"
   },
   {
    "duration": 1626,
    "start_time": "2022-03-11T11:28:12.113Z"
   },
   {
    "duration": 1724,
    "start_time": "2022-03-11T11:28:32.316Z"
   },
   {
    "duration": 1727,
    "start_time": "2022-03-11T11:29:24.027Z"
   },
   {
    "duration": 1222,
    "start_time": "2022-03-11T11:29:53.451Z"
   },
   {
    "duration": 1040,
    "start_time": "2022-03-11T11:30:03.990Z"
   },
   {
    "duration": 1105,
    "start_time": "2022-03-11T11:30:23.336Z"
   },
   {
    "duration": 1002,
    "start_time": "2022-03-11T11:30:42.623Z"
   },
   {
    "duration": 1016,
    "start_time": "2022-03-11T11:30:56.007Z"
   },
   {
    "duration": 989,
    "start_time": "2022-03-11T11:31:35.109Z"
   },
   {
    "duration": 1955,
    "start_time": "2022-03-11T11:32:19.121Z"
   },
   {
    "duration": 1744,
    "start_time": "2022-03-11T11:32:57.076Z"
   },
   {
    "duration": 90,
    "start_time": "2022-03-11T11:34:23.452Z"
   },
   {
    "duration": 1554,
    "start_time": "2022-03-11T11:34:28.492Z"
   },
   {
    "duration": 1680,
    "start_time": "2022-03-11T11:34:41.832Z"
   },
   {
    "duration": 721,
    "start_time": "2022-03-11T11:35:31.782Z"
   },
   {
    "duration": 6,
    "start_time": "2022-03-11T11:36:58.928Z"
   },
   {
    "duration": 9,
    "start_time": "2022-03-11T11:37:13.218Z"
   },
   {
    "duration": 10,
    "start_time": "2022-03-11T11:39:27.476Z"
   },
   {
    "duration": 10,
    "start_time": "2022-03-11T11:39:46.332Z"
   },
   {
    "duration": 20,
    "start_time": "2022-03-11T11:41:55.662Z"
   },
   {
    "duration": 18,
    "start_time": "2022-03-11T11:42:02.575Z"
   },
   {
    "duration": 20,
    "start_time": "2022-03-11T11:42:15.477Z"
   },
   {
    "duration": 14,
    "start_time": "2022-03-11T11:42:47.693Z"
   },
   {
    "duration": 12,
    "start_time": "2022-03-11T11:44:55.556Z"
   },
   {
    "duration": 13,
    "start_time": "2022-03-11T11:46:11.603Z"
   },
   {
    "duration": 32,
    "start_time": "2022-03-11T11:51:22.223Z"
   },
   {
    "duration": 1406,
    "start_time": "2022-03-11T11:58:13.948Z"
   },
   {
    "duration": 862,
    "start_time": "2022-03-11T11:58:15.356Z"
   },
   {
    "duration": 96,
    "start_time": "2022-03-11T11:58:16.221Z"
   },
   {
    "duration": 753,
    "start_time": "2022-03-11T11:58:16.320Z"
   },
   {
    "duration": 6,
    "start_time": "2022-03-11T11:58:17.075Z"
   },
   {
    "duration": 24,
    "start_time": "2022-03-11T11:58:17.083Z"
   },
   {
    "duration": 419,
    "start_time": "2022-03-11T11:58:17.110Z"
   },
   {
    "duration": 127,
    "start_time": "2022-03-11T11:58:17.533Z"
   },
   {
    "duration": 43411,
    "start_time": "2022-03-11T11:58:17.663Z"
   },
   {
    "duration": 13,
    "start_time": "2022-03-11T11:59:01.077Z"
   },
   {
    "duration": 10,
    "start_time": "2022-03-11T12:00:05.350Z"
   },
   {
    "duration": 19,
    "start_time": "2022-03-11T12:04:54.852Z"
   },
   {
    "duration": -31,
    "start_time": "2022-03-11T12:17:38.406Z"
   },
   {
    "duration": 25352,
    "start_time": "2022-03-11T12:17:40.526Z"
   },
   {
    "duration": 13,
    "start_time": "2022-03-11T12:35:12.007Z"
   },
   {
    "duration": 6,
    "start_time": "2022-03-11T12:35:44.039Z"
   },
   {
    "duration": 7,
    "start_time": "2022-03-11T12:37:09.499Z"
   },
   {
    "duration": 6,
    "start_time": "2022-03-11T12:39:56.256Z"
   },
   {
    "duration": 102,
    "start_time": "2022-03-11T12:40:25.736Z"
   },
   {
    "duration": 7,
    "start_time": "2022-03-11T12:40:33.757Z"
   },
   {
    "duration": 264,
    "start_time": "2022-03-11T12:43:22.888Z"
   },
   {
    "duration": 220,
    "start_time": "2022-03-11T12:44:47.270Z"
   },
   {
    "duration": 519,
    "start_time": "2022-03-11T12:45:02.779Z"
   },
   {
    "duration": 489,
    "start_time": "2022-03-11T12:45:13.607Z"
   },
   {
    "duration": 274,
    "start_time": "2022-03-11T12:45:57.723Z"
   },
   {
    "duration": 1556,
    "start_time": "2022-03-11T12:46:06.159Z"
   },
   {
    "duration": 435,
    "start_time": "2022-03-11T12:46:55.603Z"
   },
   {
    "duration": 254,
    "start_time": "2022-03-11T12:47:48.095Z"
   },
   {
    "duration": 245,
    "start_time": "2022-03-11T12:49:38.337Z"
   },
   {
    "duration": 665,
    "start_time": "2022-03-11T12:49:50.422Z"
   },
   {
    "duration": 260,
    "start_time": "2022-03-11T12:51:56.211Z"
   },
   {
    "duration": 262,
    "start_time": "2022-03-11T12:52:09.749Z"
   },
   {
    "duration": -10,
    "start_time": "2022-03-11T12:52:37.464Z"
   },
   {
    "duration": 815,
    "start_time": "2022-03-11T12:53:57.432Z"
   },
   {
    "duration": 9,
    "start_time": "2022-03-11T12:54:08.401Z"
   },
   {
    "duration": 90,
    "start_time": "2022-03-11T13:04:13.693Z"
   },
   {
    "duration": 253,
    "start_time": "2022-03-11T13:04:59.448Z"
   },
   {
    "duration": 6,
    "start_time": "2022-03-11T13:05:10.117Z"
   },
   {
    "duration": 6,
    "start_time": "2022-03-11T13:05:14.708Z"
   },
   {
    "duration": 11,
    "start_time": "2022-03-11T13:06:45.687Z"
   },
   {
    "duration": 292,
    "start_time": "2022-03-11T13:07:18.264Z"
   },
   {
    "duration": 669,
    "start_time": "2022-03-11T13:07:26.259Z"
   },
   {
    "duration": 545,
    "start_time": "2022-03-11T13:07:51.860Z"
   },
   {
    "duration": 282,
    "start_time": "2022-03-11T13:08:02.548Z"
   },
   {
    "duration": 547,
    "start_time": "2022-03-11T13:08:11.028Z"
   },
   {
    "duration": 272,
    "start_time": "2022-03-11T13:08:49.924Z"
   },
   {
    "duration": 275,
    "start_time": "2022-03-11T13:09:41.089Z"
   },
   {
    "duration": 260,
    "start_time": "2022-03-11T13:09:44.534Z"
   },
   {
    "duration": 260,
    "start_time": "2022-03-11T13:09:50.262Z"
   },
   {
    "duration": 269,
    "start_time": "2022-03-11T13:09:57.093Z"
   },
   {
    "duration": 276,
    "start_time": "2022-03-11T13:13:21.147Z"
   },
   {
    "duration": 313,
    "start_time": "2022-03-11T13:14:22.086Z"
   },
   {
    "duration": 274,
    "start_time": "2022-03-11T13:14:36.292Z"
   },
   {
    "duration": 425,
    "start_time": "2022-03-11T13:14:57.280Z"
   },
   {
    "duration": 297,
    "start_time": "2022-03-11T13:15:03.486Z"
   },
   {
    "duration": 295,
    "start_time": "2022-03-11T13:15:27.587Z"
   },
   {
    "duration": 271,
    "start_time": "2022-03-11T13:17:32.483Z"
   },
   {
    "duration": 292,
    "start_time": "2022-03-11T13:17:44.186Z"
   },
   {
    "duration": 303,
    "start_time": "2022-03-11T13:23:49.799Z"
   },
   {
    "duration": 596,
    "start_time": "2022-03-11T13:24:16.005Z"
   },
   {
    "duration": 266,
    "start_time": "2022-03-11T13:24:38.452Z"
   },
   {
    "duration": 262,
    "start_time": "2022-03-11T13:24:47.872Z"
   },
   {
    "duration": 394,
    "start_time": "2022-03-11T13:26:41.063Z"
   },
   {
    "duration": 264,
    "start_time": "2022-03-11T13:26:53.209Z"
   },
   {
    "duration": 265,
    "start_time": "2022-03-11T13:27:02.106Z"
   },
   {
    "duration": 315,
    "start_time": "2022-03-11T13:27:06.765Z"
   },
   {
    "duration": 520,
    "start_time": "2022-03-11T13:27:15.055Z"
   },
   {
    "duration": 464,
    "start_time": "2022-03-11T13:27:19.187Z"
   },
   {
    "duration": 83,
    "start_time": "2022-03-11T13:29:21.121Z"
   },
   {
    "duration": 502,
    "start_time": "2022-03-11T13:29:25.610Z"
   },
   {
    "duration": 294,
    "start_time": "2022-03-11T13:32:20.257Z"
   },
   {
    "duration": 471,
    "start_time": "2022-03-11T13:32:40.498Z"
   },
   {
    "duration": 592,
    "start_time": "2022-03-11T13:34:16.511Z"
   },
   {
    "duration": 468,
    "start_time": "2022-03-11T13:34:25.643Z"
   },
   {
    "duration": 485,
    "start_time": "2022-03-11T13:35:48.706Z"
   },
   {
    "duration": 502,
    "start_time": "2022-03-11T13:36:26.574Z"
   },
   {
    "duration": 534,
    "start_time": "2022-03-11T13:36:33.988Z"
   },
   {
    "duration": 283,
    "start_time": "2022-03-11T13:37:43.514Z"
   },
   {
    "duration": 308,
    "start_time": "2022-03-11T13:39:06.778Z"
   },
   {
    "duration": 600,
    "start_time": "2022-03-11T13:39:13.769Z"
   },
   {
    "duration": 551,
    "start_time": "2022-03-11T13:39:24.211Z"
   },
   {
    "duration": 551,
    "start_time": "2022-03-11T13:39:28.138Z"
   },
   {
    "duration": 548,
    "start_time": "2022-03-11T13:39:56.882Z"
   },
   {
    "duration": 299,
    "start_time": "2022-03-11T13:40:47.501Z"
   },
   {
    "duration": 322,
    "start_time": "2022-03-11T13:41:13.229Z"
   },
   {
    "duration": 494,
    "start_time": "2022-03-11T13:44:01.159Z"
   },
   {
    "duration": 486,
    "start_time": "2022-03-11T13:44:08.192Z"
   },
   {
    "duration": 302,
    "start_time": "2022-03-11T13:44:55.325Z"
   },
   {
    "duration": 580,
    "start_time": "2022-03-11T13:45:16.046Z"
   },
   {
    "duration": 492,
    "start_time": "2022-03-11T13:46:01.282Z"
   },
   {
    "duration": 484,
    "start_time": "2022-03-11T13:46:23.044Z"
   },
   {
    "duration": 562,
    "start_time": "2022-03-11T13:46:33.327Z"
   },
   {
    "duration": 326,
    "start_time": "2022-03-11T13:46:38.636Z"
   },
   {
    "duration": 326,
    "start_time": "2022-03-11T16:06:53.706Z"
   },
   {
    "duration": 297,
    "start_time": "2022-03-11T16:07:59.820Z"
   },
   {
    "duration": 80,
    "start_time": "2022-03-11T16:13:28.840Z"
   },
   {
    "duration": 282,
    "start_time": "2022-03-11T16:13:43.891Z"
   },
   {
    "duration": 273,
    "start_time": "2022-03-11T16:14:35.045Z"
   },
   {
    "duration": 328,
    "start_time": "2022-03-11T16:15:17.663Z"
   },
   {
    "duration": 344,
    "start_time": "2022-03-11T16:15:36.995Z"
   },
   {
    "duration": 284,
    "start_time": "2022-03-11T16:16:12.041Z"
   },
   {
    "duration": 272,
    "start_time": "2022-03-11T16:16:43.969Z"
   },
   {
    "duration": 818,
    "start_time": "2022-03-11T16:19:09.722Z"
   },
   {
    "duration": 1097,
    "start_time": "2022-03-11T16:19:14.724Z"
   },
   {
    "duration": 21,
    "start_time": "2022-03-11T16:20:35.206Z"
   },
   {
    "duration": 20,
    "start_time": "2022-03-11T16:20:58.566Z"
   },
   {
    "duration": 22,
    "start_time": "2022-03-11T16:21:35.770Z"
   },
   {
    "duration": 23,
    "start_time": "2022-03-11T16:21:57.628Z"
   },
   {
    "duration": 24,
    "start_time": "2022-03-11T16:22:11.500Z"
   },
   {
    "duration": 717,
    "start_time": "2022-03-11T16:22:15.892Z"
   },
   {
    "duration": 606,
    "start_time": "2022-03-11T16:22:28.528Z"
   },
   {
    "duration": 24,
    "start_time": "2022-03-11T16:22:42.433Z"
   },
   {
    "duration": 1189,
    "start_time": "2022-03-11T16:22:51.843Z"
   },
   {
    "duration": 560,
    "start_time": "2022-03-11T16:23:13.760Z"
   },
   {
    "duration": 559,
    "start_time": "2022-03-11T16:23:46.735Z"
   },
   {
    "duration": 331,
    "start_time": "2022-03-11T16:23:51.128Z"
   },
   {
    "duration": 102,
    "start_time": "2022-03-11T16:25:56.227Z"
   },
   {
    "duration": 286,
    "start_time": "2022-03-11T16:26:12.769Z"
   },
   {
    "duration": 287,
    "start_time": "2022-03-11T16:26:32.904Z"
   },
   {
    "duration": 5587,
    "start_time": "2022-03-11T16:27:11.120Z"
   },
   {
    "duration": 5204,
    "start_time": "2022-03-11T16:27:28.136Z"
   },
   {
    "duration": 268,
    "start_time": "2022-03-11T16:27:39.119Z"
   },
   {
    "duration": 334,
    "start_time": "2022-03-11T16:28:05.824Z"
   },
   {
    "duration": 281,
    "start_time": "2022-03-11T16:28:39.842Z"
   },
   {
    "duration": 200,
    "start_time": "2022-03-11T16:30:13.759Z"
   },
   {
    "duration": 5696,
    "start_time": "2022-03-11T16:30:20.192Z"
   },
   {
    "duration": 330,
    "start_time": "2022-03-11T16:31:48.765Z"
   },
   {
    "duration": 292,
    "start_time": "2022-03-11T16:31:55.200Z"
   },
   {
    "duration": 276,
    "start_time": "2022-03-11T16:33:06.415Z"
   },
   {
    "duration": 100,
    "start_time": "2022-03-11T16:33:47.948Z"
   },
   {
    "duration": 118,
    "start_time": "2022-03-11T16:33:51.695Z"
   },
   {
    "duration": 552,
    "start_time": "2022-03-11T16:33:57.555Z"
   },
   {
    "duration": 550,
    "start_time": "2022-03-12T08:26:51.056Z"
   },
   {
    "duration": 1485,
    "start_time": "2022-03-12T08:27:02.013Z"
   },
   {
    "duration": 813,
    "start_time": "2022-03-12T08:27:03.501Z"
   },
   {
    "duration": 95,
    "start_time": "2022-03-12T08:27:04.317Z"
   },
   {
    "duration": 712,
    "start_time": "2022-03-12T08:27:04.415Z"
   },
   {
    "duration": 6,
    "start_time": "2022-03-12T08:27:05.129Z"
   },
   {
    "duration": 14,
    "start_time": "2022-03-12T08:27:05.137Z"
   },
   {
    "duration": 44,
    "start_time": "2022-03-12T08:27:05.154Z"
   },
   {
    "duration": 18,
    "start_time": "2022-03-12T08:27:05.203Z"
   },
   {
    "duration": 398,
    "start_time": "2022-03-12T08:27:05.224Z"
   },
   {
    "duration": 106,
    "start_time": "2022-03-12T08:27:05.625Z"
   },
   {
    "duration": 26185,
    "start_time": "2022-03-12T08:27:05.734Z"
   },
   {
    "duration": 444,
    "start_time": "2022-03-12T08:27:31.922Z"
   },
   {
    "duration": 314,
    "start_time": "2022-03-12T08:28:09.022Z"
   },
   {
    "duration": 90,
    "start_time": "2022-03-12T08:38:08.836Z"
   },
   {
    "duration": 580,
    "start_time": "2022-03-12T08:38:19.564Z"
   },
   {
    "duration": 598,
    "start_time": "2022-03-12T08:38:48.278Z"
   },
   {
    "duration": 273,
    "start_time": "2022-03-12T08:39:42.447Z"
   },
   {
    "duration": 283,
    "start_time": "2022-03-12T08:40:30.580Z"
   },
   {
    "duration": 407,
    "start_time": "2022-03-12T08:40:57.676Z"
   },
   {
    "duration": 514,
    "start_time": "2022-03-12T08:41:53.497Z"
   },
   {
    "duration": 615,
    "start_time": "2022-03-12T08:42:12.741Z"
   },
   {
    "duration": 296,
    "start_time": "2022-03-12T08:42:24.619Z"
   },
   {
    "duration": 376,
    "start_time": "2022-03-12T08:43:32.147Z"
   },
   {
    "duration": 3666,
    "start_time": "2022-03-12T08:43:54.036Z"
   },
   {
    "duration": 307,
    "start_time": "2022-03-12T08:44:31.856Z"
   },
   {
    "duration": 330,
    "start_time": "2022-03-12T08:44:49.755Z"
   },
   {
    "duration": 358,
    "start_time": "2022-03-12T08:53:35.572Z"
   },
   {
    "duration": 317,
    "start_time": "2022-03-12T08:53:45.560Z"
   },
   {
    "duration": 13,
    "start_time": "2022-03-12T08:54:04.754Z"
   },
   {
    "duration": 284,
    "start_time": "2022-03-12T08:54:30.897Z"
   },
   {
    "duration": 273,
    "start_time": "2022-03-12T08:54:46.619Z"
   },
   {
    "duration": 332,
    "start_time": "2022-03-12T08:55:08.099Z"
   },
   {
    "duration": 15,
    "start_time": "2022-03-12T08:55:42.648Z"
   },
   {
    "duration": 198,
    "start_time": "2022-03-12T08:55:57.311Z"
   },
   {
    "duration": 300,
    "start_time": "2022-03-12T08:56:53.219Z"
   },
   {
    "duration": 434,
    "start_time": "2022-03-12T08:57:10.774Z"
   },
   {
    "duration": 363,
    "start_time": "2022-03-12T08:57:15.845Z"
   },
   {
    "duration": 340,
    "start_time": "2022-03-12T08:57:49.520Z"
   },
   {
    "duration": 285,
    "start_time": "2022-03-12T08:58:17.435Z"
   },
   {
    "duration": 207,
    "start_time": "2022-03-12T08:58:37.365Z"
   },
   {
    "duration": 539,
    "start_time": "2022-03-12T08:59:11.679Z"
   },
   {
    "duration": 225,
    "start_time": "2022-03-12T09:00:35.331Z"
   },
   {
    "duration": 237,
    "start_time": "2022-03-12T09:00:52.978Z"
   },
   {
    "duration": 697,
    "start_time": "2022-03-12T09:02:56.503Z"
   },
   {
    "duration": 234,
    "start_time": "2022-03-12T09:04:07.293Z"
   },
   {
    "duration": 509,
    "start_time": "2022-03-12T09:04:18.199Z"
   },
   {
    "duration": 862,
    "start_time": "2022-03-12T09:04:26.151Z"
   },
   {
    "duration": 281,
    "start_time": "2022-03-12T09:04:31.658Z"
   },
   {
    "duration": 322,
    "start_time": "2022-03-12T09:05:23.547Z"
   },
   {
    "duration": 6,
    "start_time": "2022-03-12T09:27:54.543Z"
   },
   {
    "duration": 5,
    "start_time": "2022-03-12T09:28:32.581Z"
   },
   {
    "duration": 276,
    "start_time": "2022-03-12T09:29:59.713Z"
   },
   {
    "duration": 269,
    "start_time": "2022-03-12T09:30:16.753Z"
   },
   {
    "duration": 301,
    "start_time": "2022-03-12T09:30:29.684Z"
   },
   {
    "duration": 595,
    "start_time": "2022-03-12T09:30:47.653Z"
   },
   {
    "duration": 801,
    "start_time": "2022-03-12T09:31:08.159Z"
   },
   {
    "duration": 934,
    "start_time": "2022-03-12T09:31:30.674Z"
   },
   {
    "duration": 1981,
    "start_time": "2022-03-12T09:34:03.157Z"
   },
   {
    "duration": 1998,
    "start_time": "2022-03-12T09:34:36.417Z"
   },
   {
    "duration": 1802,
    "start_time": "2022-03-12T09:34:46.938Z"
   },
   {
    "duration": 1893,
    "start_time": "2022-03-12T09:36:00.937Z"
   },
   {
    "duration": 1880,
    "start_time": "2022-03-12T09:36:38.710Z"
   },
   {
    "duration": 1737,
    "start_time": "2022-03-12T09:39:56.607Z"
   },
   {
    "duration": 1733,
    "start_time": "2022-03-12T09:40:55.553Z"
   },
   {
    "duration": 1027,
    "start_time": "2022-03-12T09:45:26.951Z"
   },
   {
    "duration": 96,
    "start_time": "2022-03-12T09:46:20.908Z"
   },
   {
    "duration": 1613,
    "start_time": "2022-03-12T09:46:24.351Z"
   },
   {
    "duration": 1557,
    "start_time": "2022-03-12T09:46:59.338Z"
   },
   {
    "duration": 7,
    "start_time": "2022-03-12T10:20:03.636Z"
   },
   {
    "duration": 277,
    "start_time": "2022-03-12T10:20:13.043Z"
   },
   {
    "duration": 299,
    "start_time": "2022-03-12T10:22:19.261Z"
   },
   {
    "duration": 7,
    "start_time": "2022-03-12T10:23:52.188Z"
   },
   {
    "duration": 354,
    "start_time": "2022-03-12T10:24:59.672Z"
   },
   {
    "duration": 475,
    "start_time": "2022-03-12T10:25:09.225Z"
   },
   {
    "duration": 422,
    "start_time": "2022-03-12T10:25:46.318Z"
   },
   {
    "duration": 95,
    "start_time": "2022-03-12T10:31:16.994Z"
   },
   {
    "duration": 9,
    "start_time": "2022-03-12T10:31:28.924Z"
   },
   {
    "duration": 261,
    "start_time": "2022-03-12T10:33:08.376Z"
   },
   {
    "duration": 268,
    "start_time": "2022-03-12T10:33:20.788Z"
   },
   {
    "duration": 306,
    "start_time": "2022-03-12T10:33:30.620Z"
   },
   {
    "duration": 41,
    "start_time": "2022-03-12T10:33:59.038Z"
   },
   {
    "duration": 61,
    "start_time": "2022-03-12T10:34:09.442Z"
   },
   {
    "duration": 42,
    "start_time": "2022-03-12T10:34:49.243Z"
   },
   {
    "duration": 392,
    "start_time": "2022-03-12T10:34:57.235Z"
   },
   {
    "duration": 60,
    "start_time": "2022-03-12T10:35:00.335Z"
   },
   {
    "duration": 267,
    "start_time": "2022-03-12T10:35:54.124Z"
   },
   {
    "duration": 6843,
    "start_time": "2022-03-12T10:36:23.717Z"
   },
   {
    "duration": 60,
    "start_time": "2022-03-12T10:37:07.297Z"
   },
   {
    "duration": 57,
    "start_time": "2022-03-12T10:37:11.666Z"
   },
   {
    "duration": 67,
    "start_time": "2022-03-12T10:37:17.721Z"
   },
   {
    "duration": 67,
    "start_time": "2022-03-12T10:38:06.703Z"
   },
   {
    "duration": 314,
    "start_time": "2022-03-12T10:38:16.407Z"
   },
   {
    "duration": 1446,
    "start_time": "2022-03-12T10:39:17.722Z"
   },
   {
    "duration": 857,
    "start_time": "2022-03-12T10:39:19.171Z"
   },
   {
    "duration": 96,
    "start_time": "2022-03-12T10:39:20.031Z"
   },
   {
    "duration": 764,
    "start_time": "2022-03-12T10:39:20.130Z"
   },
   {
    "duration": 5,
    "start_time": "2022-03-12T10:39:20.897Z"
   },
   {
    "duration": 12,
    "start_time": "2022-03-12T10:39:20.906Z"
   },
   {
    "duration": 16,
    "start_time": "2022-03-12T10:39:20.921Z"
   },
   {
    "duration": 19,
    "start_time": "2022-03-12T10:39:20.982Z"
   },
   {
    "duration": 417,
    "start_time": "2022-03-12T10:39:21.007Z"
   },
   {
    "duration": 109,
    "start_time": "2022-03-12T10:39:21.426Z"
   },
   {
    "duration": 3,
    "start_time": "2022-03-12T10:39:21.538Z"
   },
   {
    "duration": 345,
    "start_time": "2022-03-12T10:39:21.543Z"
   },
   {
    "duration": 1699,
    "start_time": "2022-03-12T10:39:21.891Z"
   },
   {
    "duration": -25,
    "start_time": "2022-03-12T10:39:24.054Z"
   },
   {
    "duration": -32,
    "start_time": "2022-03-12T10:39:24.063Z"
   },
   {
    "duration": 66,
    "start_time": "2022-03-12T10:39:33.861Z"
   },
   {
    "duration": 318,
    "start_time": "2022-03-12T10:41:09.558Z"
   },
   {
    "duration": 62,
    "start_time": "2022-03-12T10:41:53.903Z"
   },
   {
    "duration": 17,
    "start_time": "2022-03-12T10:42:09.263Z"
   },
   {
    "duration": 84,
    "start_time": "2022-03-12T10:42:29.639Z"
   },
   {
    "duration": 36,
    "start_time": "2022-03-12T10:44:04.727Z"
   },
   {
    "duration": 300,
    "start_time": "2022-03-12T10:44:33.833Z"
   },
   {
    "duration": 349,
    "start_time": "2022-03-12T10:44:59.084Z"
   },
   {
    "duration": 283,
    "start_time": "2022-03-12T10:45:33.764Z"
   },
   {
    "duration": 294,
    "start_time": "2022-03-12T10:45:46.251Z"
   },
   {
    "duration": 289,
    "start_time": "2022-03-12T10:46:02.817Z"
   },
   {
    "duration": 337,
    "start_time": "2022-03-12T10:46:08.990Z"
   },
   {
    "duration": 278,
    "start_time": "2022-03-12T10:46:38.536Z"
   },
   {
    "duration": 275,
    "start_time": "2022-03-12T10:46:43.285Z"
   },
   {
    "duration": 285,
    "start_time": "2022-03-12T10:46:59.678Z"
   },
   {
    "duration": 538,
    "start_time": "2022-03-12T10:47:04.038Z"
   },
   {
    "duration": 516,
    "start_time": "2022-03-12T10:47:20.397Z"
   },
   {
    "duration": 508,
    "start_time": "2022-03-12T10:47:40.408Z"
   },
   {
    "duration": 261,
    "start_time": "2022-03-12T10:48:34.160Z"
   },
   {
    "duration": 274,
    "start_time": "2022-03-12T10:48:38.293Z"
   },
   {
    "duration": 6877,
    "start_time": "2022-03-12T10:48:46.815Z"
   },
   {
    "duration": 289,
    "start_time": "2022-03-12T10:49:48.742Z"
   },
   {
    "duration": 287,
    "start_time": "2022-03-12T10:49:57.867Z"
   },
   {
    "duration": 290,
    "start_time": "2022-03-12T10:51:44.838Z"
   },
   {
    "duration": 456,
    "start_time": "2022-03-12T10:52:10.726Z"
   },
   {
    "duration": 8,
    "start_time": "2022-03-12T11:00:21.011Z"
   },
   {
    "duration": 92,
    "start_time": "2022-03-12T11:13:35.386Z"
   },
   {
    "duration": 271,
    "start_time": "2022-03-12T11:13:54.365Z"
   },
   {
    "duration": 281,
    "start_time": "2022-03-12T11:14:32.359Z"
   },
   {
    "duration": 1057,
    "start_time": "2022-03-12T11:14:40.012Z"
   },
   {
    "duration": 1060,
    "start_time": "2022-03-12T11:14:56.378Z"
   },
   {
    "duration": 1207,
    "start_time": "2022-03-12T11:15:05.740Z"
   },
   {
    "duration": 1093,
    "start_time": "2022-03-12T11:15:14.483Z"
   },
   {
    "duration": 1179,
    "start_time": "2022-03-12T11:15:19.555Z"
   },
   {
    "duration": 4450,
    "start_time": "2022-03-12T11:15:26.715Z"
   },
   {
    "duration": 4621,
    "start_time": "2022-03-12T11:16:09.287Z"
   },
   {
    "duration": 5206,
    "start_time": "2022-03-12T11:17:45.570Z"
   },
   {
    "duration": 5941,
    "start_time": "2022-03-12T11:18:35.007Z"
   },
   {
    "duration": 4403,
    "start_time": "2022-03-12T11:18:46.569Z"
   },
   {
    "duration": 5211,
    "start_time": "2022-03-12T11:19:03.390Z"
   },
   {
    "duration": 5211,
    "start_time": "2022-03-12T11:19:18.615Z"
   },
   {
    "duration": 3225,
    "start_time": "2022-03-12T11:20:02.078Z"
   },
   {
    "duration": 3173,
    "start_time": "2022-03-12T11:27:08.079Z"
   },
   {
    "duration": 3227,
    "start_time": "2022-03-12T11:27:18.066Z"
   },
   {
    "duration": 87,
    "start_time": "2022-03-12T11:37:54.342Z"
   },
   {
    "duration": 108,
    "start_time": "2022-03-12T11:38:03.036Z"
   },
   {
    "duration": 130,
    "start_time": "2022-03-12T11:38:37.136Z"
   },
   {
    "duration": 9,
    "start_time": "2022-03-12T11:38:47.795Z"
   },
   {
    "duration": 7,
    "start_time": "2022-03-12T11:41:33.719Z"
   },
   {
    "duration": 1740,
    "start_time": "2022-03-12T11:44:04.061Z"
   },
   {
    "duration": 1353,
    "start_time": "2022-03-12T11:44:36.551Z"
   },
   {
    "duration": 35,
    "start_time": "2022-03-12T11:47:29.523Z"
   },
   {
    "duration": 24,
    "start_time": "2022-03-12T11:47:44.611Z"
   },
   {
    "duration": 1462,
    "start_time": "2022-03-12T11:47:56.299Z"
   },
   {
    "duration": 851,
    "start_time": "2022-03-12T11:47:57.764Z"
   },
   {
    "duration": 94,
    "start_time": "2022-03-12T11:47:58.618Z"
   },
   {
    "duration": 746,
    "start_time": "2022-03-12T11:47:58.715Z"
   },
   {
    "duration": 6,
    "start_time": "2022-03-12T11:47:59.464Z"
   },
   {
    "duration": 9,
    "start_time": "2022-03-12T11:47:59.483Z"
   },
   {
    "duration": 17,
    "start_time": "2022-03-12T11:47:59.495Z"
   },
   {
    "duration": 66,
    "start_time": "2022-03-12T11:47:59.516Z"
   },
   {
    "duration": 391,
    "start_time": "2022-03-12T11:47:59.585Z"
   },
   {
    "duration": 132,
    "start_time": "2022-03-12T11:47:59.979Z"
   },
   {
    "duration": 3,
    "start_time": "2022-03-12T11:48:00.114Z"
   },
   {
    "duration": 3223,
    "start_time": "2022-03-12T11:48:00.120Z"
   },
   {
    "duration": 1637,
    "start_time": "2022-03-12T11:48:03.346Z"
   },
   {
    "duration": 8,
    "start_time": "2022-03-12T11:48:04.985Z"
   },
   {
    "duration": 1320,
    "start_time": "2022-03-12T11:48:04.996Z"
   },
   {
    "duration": 34,
    "start_time": "2022-03-12T11:48:06.319Z"
   },
   {
    "duration": 1383,
    "start_time": "2022-03-12T12:20:24.517Z"
   },
   {
    "duration": 810,
    "start_time": "2022-03-12T12:20:25.903Z"
   },
   {
    "duration": 99,
    "start_time": "2022-03-12T12:20:26.716Z"
   },
   {
    "duration": 773,
    "start_time": "2022-03-12T12:20:26.818Z"
   },
   {
    "duration": 6,
    "start_time": "2022-03-12T12:20:27.593Z"
   },
   {
    "duration": 17,
    "start_time": "2022-03-12T12:20:27.602Z"
   },
   {
    "duration": 19,
    "start_time": "2022-03-12T12:20:27.622Z"
   },
   {
    "duration": 47,
    "start_time": "2022-03-12T12:20:27.645Z"
   },
   {
    "duration": 393,
    "start_time": "2022-03-12T12:20:27.694Z"
   },
   {
    "duration": 121,
    "start_time": "2022-03-12T12:20:28.090Z"
   },
   {
    "duration": 4,
    "start_time": "2022-03-12T12:20:28.214Z"
   },
   {
    "duration": 3161,
    "start_time": "2022-03-12T12:20:28.221Z"
   },
   {
    "duration": 2071,
    "start_time": "2022-03-12T12:20:31.384Z"
   },
   {
    "duration": 8,
    "start_time": "2022-03-12T12:20:33.458Z"
   },
   {
    "duration": 1580,
    "start_time": "2022-03-12T12:20:33.468Z"
   },
   {
    "duration": 94,
    "start_time": "2022-03-12T12:20:35.051Z"
   },
   {
    "duration": 33,
    "start_time": "2022-03-12T12:21:54.814Z"
   },
   {
    "duration": 1458,
    "start_time": "2022-03-12T12:22:02.980Z"
   },
   {
    "duration": 820,
    "start_time": "2022-03-12T12:22:04.445Z"
   },
   {
    "duration": 114,
    "start_time": "2022-03-12T12:22:05.268Z"
   },
   {
    "duration": 731,
    "start_time": "2022-03-12T12:22:05.384Z"
   },
   {
    "duration": 5,
    "start_time": "2022-03-12T12:22:06.118Z"
   },
   {
    "duration": 29,
    "start_time": "2022-03-12T12:22:06.125Z"
   },
   {
    "duration": 48,
    "start_time": "2022-03-12T12:22:06.158Z"
   },
   {
    "duration": 20,
    "start_time": "2022-03-12T12:22:06.209Z"
   },
   {
    "duration": 381,
    "start_time": "2022-03-12T12:22:06.232Z"
   },
   {
    "duration": 116,
    "start_time": "2022-03-12T12:22:06.615Z"
   },
   {
    "duration": 3,
    "start_time": "2022-03-12T12:22:06.733Z"
   },
   {
    "duration": 3086,
    "start_time": "2022-03-12T12:22:06.738Z"
   },
   {
    "duration": 1629,
    "start_time": "2022-03-12T12:22:09.827Z"
   },
   {
    "duration": 25,
    "start_time": "2022-03-12T12:22:11.458Z"
   },
   {
    "duration": 1418,
    "start_time": "2022-03-12T12:22:11.486Z"
   },
   {
    "duration": 123,
    "start_time": "2022-03-12T12:22:12.906Z"
   },
   {
    "duration": 5,
    "start_time": "2022-03-12T12:28:44.832Z"
   },
   {
    "duration": 8,
    "start_time": "2022-03-12T13:12:58.363Z"
   },
   {
    "duration": 9,
    "start_time": "2022-03-12T15:29:11.969Z"
   },
   {
    "duration": 406,
    "start_time": "2022-03-12T15:37:55.073Z"
   },
   {
    "duration": 25,
    "start_time": "2022-03-12T15:38:08.511Z"
   },
   {
    "duration": 512,
    "start_time": "2022-03-12T15:38:13.124Z"
   },
   {
    "duration": 39,
    "start_time": "2022-03-12T15:40:18.396Z"
   },
   {
    "duration": 313,
    "start_time": "2022-03-12T15:41:15.509Z"
   },
   {
    "duration": 1486,
    "start_time": "2022-03-12T15:41:38.469Z"
   },
   {
    "duration": 832,
    "start_time": "2022-03-12T15:41:39.958Z"
   },
   {
    "duration": 2,
    "start_time": "2022-03-12T15:41:40.794Z"
   },
   {
    "duration": 746,
    "start_time": "2022-03-12T15:41:40.799Z"
   },
   {
    "duration": 5,
    "start_time": "2022-03-12T15:41:41.548Z"
   },
   {
    "duration": 31,
    "start_time": "2022-03-12T15:41:41.556Z"
   },
   {
    "duration": 20,
    "start_time": "2022-03-12T15:41:41.589Z"
   },
   {
    "duration": 23,
    "start_time": "2022-03-12T15:41:41.613Z"
   },
   {
    "duration": 394,
    "start_time": "2022-03-12T15:41:41.640Z"
   },
   {
    "duration": 113,
    "start_time": "2022-03-12T15:41:42.037Z"
   },
   {
    "duration": 3,
    "start_time": "2022-03-12T15:41:42.152Z"
   },
   {
    "duration": 3106,
    "start_time": "2022-03-12T15:41:42.157Z"
   },
   {
    "duration": 1640,
    "start_time": "2022-03-12T15:41:45.266Z"
   },
   {
    "duration": 8,
    "start_time": "2022-03-12T15:41:46.908Z"
   },
   {
    "duration": 1343,
    "start_time": "2022-03-12T15:41:46.919Z"
   },
   {
    "duration": 123,
    "start_time": "2022-03-12T15:41:48.264Z"
   },
   {
    "duration": 431,
    "start_time": "2022-03-12T15:41:48.390Z"
   },
   {
    "duration": -33,
    "start_time": "2022-03-12T15:41:48.857Z"
   },
   {
    "duration": 300,
    "start_time": "2022-03-12T15:41:58.520Z"
   },
   {
    "duration": 39,
    "start_time": "2022-03-12T15:42:32.357Z"
   },
   {
    "duration": 39,
    "start_time": "2022-03-12T15:42:56.229Z"
   },
   {
    "duration": 9,
    "start_time": "2022-03-12T15:54:25.125Z"
   },
   {
    "duration": 85,
    "start_time": "2022-03-12T15:55:09.920Z"
   },
   {
    "duration": 310,
    "start_time": "2022-03-12T15:55:19.052Z"
   },
   {
    "duration": 9,
    "start_time": "2022-03-12T15:56:12.383Z"
   },
   {
    "duration": 16,
    "start_time": "2022-03-12T15:56:19.485Z"
   },
   {
    "duration": 307,
    "start_time": "2022-03-12T15:57:06.120Z"
   },
   {
    "duration": 343,
    "start_time": "2022-03-12T15:57:07.673Z"
   },
   {
    "duration": 4,
    "start_time": "2022-03-12T15:59:44.643Z"
   },
   {
    "duration": 8,
    "start_time": "2022-03-12T16:15:41.366Z"
   },
   {
    "duration": 13,
    "start_time": "2022-03-12T16:15:54.032Z"
   },
   {
    "duration": 11,
    "start_time": "2022-03-12T16:36:05.178Z"
   },
   {
    "duration": 22,
    "start_time": "2022-03-12T16:36:21.590Z"
   },
   {
    "duration": 375,
    "start_time": "2022-03-12T16:38:15.884Z"
   },
   {
    "duration": 269,
    "start_time": "2022-03-12T16:38:21.834Z"
   },
   {
    "duration": 16,
    "start_time": "2022-03-12T16:38:26.950Z"
   },
   {
    "duration": 17,
    "start_time": "2022-03-12T16:39:32.747Z"
   },
   {
    "duration": 16,
    "start_time": "2022-03-12T16:39:41.197Z"
   },
   {
    "duration": 5,
    "start_time": "2022-03-12T17:48:10.983Z"
   },
   {
    "duration": 302,
    "start_time": "2022-03-12T17:53:21.136Z"
   },
   {
    "duration": 408,
    "start_time": "2022-03-12T17:54:51.047Z"
   },
   {
    "duration": 4,
    "start_time": "2022-03-12T17:55:01.227Z"
   },
   {
    "duration": 316,
    "start_time": "2022-03-12T17:55:05.504Z"
   },
   {
    "duration": 346,
    "start_time": "2022-03-12T17:55:13.350Z"
   },
   {
    "duration": 5,
    "start_time": "2022-03-12T17:55:44.507Z"
   },
   {
    "duration": 759,
    "start_time": "2022-03-12T17:55:48.901Z"
   },
   {
    "duration": 4,
    "start_time": "2022-03-12T17:56:44.978Z"
   },
   {
    "duration": 1343,
    "start_time": "2022-03-12T17:56:47.045Z"
   },
   {
    "duration": 5,
    "start_time": "2022-03-12T17:57:21.445Z"
   },
   {
    "duration": 1299,
    "start_time": "2022-03-12T17:57:22.990Z"
   },
   {
    "duration": 5,
    "start_time": "2022-03-12T17:58:04.686Z"
   },
   {
    "duration": 1654,
    "start_time": "2022-03-12T17:58:06.029Z"
   },
   {
    "duration": 2002,
    "start_time": "2022-03-12T17:58:31.580Z"
   },
   {
    "duration": 3936,
    "start_time": "2022-03-12T17:58:47.649Z"
   },
   {
    "duration": 3455,
    "start_time": "2022-03-12T18:02:13.901Z"
   },
   {
    "duration": 4053,
    "start_time": "2022-03-12T18:02:31.032Z"
   },
   {
    "duration": 276,
    "start_time": "2022-03-12T18:25:05.660Z"
   },
   {
    "duration": 270,
    "start_time": "2022-03-12T18:25:17.832Z"
   },
   {
    "duration": 282,
    "start_time": "2022-03-12T18:25:21.874Z"
   },
   {
    "duration": 9,
    "start_time": "2022-03-12T18:25:29.103Z"
   },
   {
    "duration": 6,
    "start_time": "2022-03-12T18:32:09.369Z"
   },
   {
    "duration": 89,
    "start_time": "2022-03-12T18:38:56.026Z"
   },
   {
    "duration": 388,
    "start_time": "2022-03-12T18:39:02.427Z"
   },
   {
    "duration": 33,
    "start_time": "2022-03-12T18:39:16.896Z"
   },
   {
    "duration": 3684,
    "start_time": "2022-03-12T18:39:23.025Z"
   },
   {
    "duration": 1482,
    "start_time": "2022-03-12T18:40:05.043Z"
   },
   {
    "duration": 866,
    "start_time": "2022-03-12T18:40:06.528Z"
   },
   {
    "duration": 3,
    "start_time": "2022-03-12T18:40:07.397Z"
   },
   {
    "duration": 740,
    "start_time": "2022-03-12T18:40:07.403Z"
   },
   {
    "duration": 6,
    "start_time": "2022-03-12T18:40:08.146Z"
   },
   {
    "duration": 29,
    "start_time": "2022-03-12T18:40:08.154Z"
   },
   {
    "duration": 17,
    "start_time": "2022-03-12T18:40:08.186Z"
   },
   {
    "duration": 22,
    "start_time": "2022-03-12T18:40:08.207Z"
   },
   {
    "duration": 409,
    "start_time": "2022-03-12T18:40:08.232Z"
   },
   {
    "duration": 113,
    "start_time": "2022-03-12T18:40:08.645Z"
   },
   {
    "duration": 86,
    "start_time": "2022-03-12T18:40:08.761Z"
   },
   {
    "duration": 3069,
    "start_time": "2022-03-12T18:40:08.850Z"
   },
   {
    "duration": 1608,
    "start_time": "2022-03-12T18:40:11.921Z"
   },
   {
    "duration": 8,
    "start_time": "2022-03-12T18:40:13.532Z"
   },
   {
    "duration": 1343,
    "start_time": "2022-03-12T18:40:13.542Z"
   },
   {
    "duration": 118,
    "start_time": "2022-03-12T18:40:14.888Z"
   },
   {
    "duration": 5,
    "start_time": "2022-03-12T18:40:15.009Z"
   },
   {
    "duration": 4067,
    "start_time": "2022-03-12T18:40:15.016Z"
   },
   {
    "duration": 3582,
    "start_time": "2022-03-12T18:47:45.390Z"
   },
   {
    "duration": 3656,
    "start_time": "2022-03-12T19:05:00.132Z"
   },
   {
    "duration": 4158,
    "start_time": "2022-03-12T19:09:50.773Z"
   },
   {
    "duration": 3286,
    "start_time": "2022-03-12T19:10:19.457Z"
   },
   {
    "duration": 95,
    "start_time": "2022-03-12T19:25:17.910Z"
   },
   {
    "duration": 532,
    "start_time": "2022-03-12T19:25:34.706Z"
   },
   {
    "duration": 335,
    "start_time": "2022-03-12T19:25:53.831Z"
   },
   {
    "duration": 1851,
    "start_time": "2022-03-12T19:26:04.625Z"
   },
   {
    "duration": -34,
    "start_time": "2022-03-12T19:26:06.515Z"
   },
   {
    "duration": -39,
    "start_time": "2022-03-12T19:26:06.522Z"
   },
   {
    "duration": -44,
    "start_time": "2022-03-12T19:26:06.528Z"
   },
   {
    "duration": -50,
    "start_time": "2022-03-12T19:26:06.535Z"
   },
   {
    "duration": -56,
    "start_time": "2022-03-12T19:26:06.543Z"
   },
   {
    "duration": -69,
    "start_time": "2022-03-12T19:26:06.557Z"
   },
   {
    "duration": -72,
    "start_time": "2022-03-12T19:26:06.562Z"
   },
   {
    "duration": -75,
    "start_time": "2022-03-12T19:26:06.566Z"
   },
   {
    "duration": -78,
    "start_time": "2022-03-12T19:26:06.571Z"
   },
   {
    "duration": -80,
    "start_time": "2022-03-12T19:26:06.575Z"
   },
   {
    "duration": -82,
    "start_time": "2022-03-12T19:26:06.578Z"
   },
   {
    "duration": -83,
    "start_time": "2022-03-12T19:26:06.581Z"
   },
   {
    "duration": -86,
    "start_time": "2022-03-12T19:26:06.585Z"
   },
   {
    "duration": -88,
    "start_time": "2022-03-12T19:26:06.589Z"
   },
   {
    "duration": -92,
    "start_time": "2022-03-12T19:26:06.594Z"
   },
   {
    "duration": -92,
    "start_time": "2022-03-12T19:26:06.596Z"
   },
   {
    "duration": -95,
    "start_time": "2022-03-12T19:26:06.600Z"
   },
   {
    "duration": 312,
    "start_time": "2022-03-12T19:27:54.003Z"
   },
   {
    "duration": 15,
    "start_time": "2022-03-12T19:28:49.169Z"
   },
   {
    "duration": 1455,
    "start_time": "2022-03-12T19:28:55.321Z"
   },
   {
    "duration": 841,
    "start_time": "2022-03-12T19:28:56.779Z"
   },
   {
    "duration": 2,
    "start_time": "2022-03-12T19:28:57.623Z"
   },
   {
    "duration": 725,
    "start_time": "2022-03-12T19:28:57.628Z"
   },
   {
    "duration": 6,
    "start_time": "2022-03-12T19:28:58.356Z"
   },
   {
    "duration": 21,
    "start_time": "2022-03-12T19:28:58.364Z"
   },
   {
    "duration": 15,
    "start_time": "2022-03-12T19:28:58.388Z"
   },
   {
    "duration": 20,
    "start_time": "2022-03-12T19:28:58.407Z"
   },
   {
    "duration": 415,
    "start_time": "2022-03-12T19:28:58.430Z"
   },
   {
    "duration": 110,
    "start_time": "2022-03-12T19:28:58.847Z"
   },
   {
    "duration": 81,
    "start_time": "2022-03-12T19:28:58.960Z"
   },
   {
    "duration": 3098,
    "start_time": "2022-03-12T19:28:59.044Z"
   },
   {
    "duration": 1638,
    "start_time": "2022-03-12T19:29:02.144Z"
   },
   {
    "duration": 9,
    "start_time": "2022-03-12T19:29:03.785Z"
   },
   {
    "duration": 1302,
    "start_time": "2022-03-12T19:29:03.797Z"
   },
   {
    "duration": 119,
    "start_time": "2022-03-12T19:29:05.101Z"
   },
   {
    "duration": 402,
    "start_time": "2022-03-12T19:29:05.222Z"
   },
   {
    "duration": -36,
    "start_time": "2022-03-12T19:29:05.663Z"
   },
   {
    "duration": 284,
    "start_time": "2022-03-12T19:29:33.827Z"
   },
   {
    "duration": 54874,
    "start_time": "2022-03-12T19:29:48.597Z"
   },
   {
    "duration": 259160,
    "start_time": "2022-03-12T19:32:39.468Z"
   },
   {
    "duration": 436,
    "start_time": "2022-03-13T08:40:47.925Z"
   },
   {
    "duration": 1746,
    "start_time": "2022-03-13T08:40:54.452Z"
   },
   {
    "duration": 1274,
    "start_time": "2022-03-13T08:40:56.202Z"
   },
   {
    "duration": 4,
    "start_time": "2022-03-13T08:40:57.480Z"
   },
   {
    "duration": 1176,
    "start_time": "2022-03-13T08:40:57.488Z"
   },
   {
    "duration": 7,
    "start_time": "2022-03-13T08:40:58.668Z"
   },
   {
    "duration": 14,
    "start_time": "2022-03-13T08:40:58.678Z"
   },
   {
    "duration": 17,
    "start_time": "2022-03-13T08:40:58.695Z"
   },
   {
    "duration": 57,
    "start_time": "2022-03-13T08:40:58.717Z"
   },
   {
    "duration": 393,
    "start_time": "2022-03-13T08:40:58.776Z"
   },
   {
    "duration": 122,
    "start_time": "2022-03-13T08:40:59.171Z"
   },
   {
    "duration": 85,
    "start_time": "2022-03-13T08:40:59.296Z"
   },
   {
    "duration": 3402,
    "start_time": "2022-03-13T08:40:59.383Z"
   },
   {
    "duration": 1576,
    "start_time": "2022-03-13T08:41:02.788Z"
   },
   {
    "duration": 7,
    "start_time": "2022-03-13T08:41:04.366Z"
   },
   {
    "duration": 1279,
    "start_time": "2022-03-13T08:41:04.375Z"
   },
   {
    "duration": 116,
    "start_time": "2022-03-13T08:41:05.657Z"
   },
   {
    "duration": 437,
    "start_time": "2022-03-13T08:41:05.775Z"
   },
   {
    "duration": 5,
    "start_time": "2022-03-13T08:43:45.093Z"
   },
   {
    "duration": 301,
    "start_time": "2022-03-13T08:43:52.277Z"
   },
   {
    "duration": 5,
    "start_time": "2022-03-13T08:44:08.767Z"
   },
   {
    "duration": 75089,
    "start_time": "2022-03-13T08:44:23.378Z"
   },
   {
    "duration": 77883,
    "start_time": "2022-03-13T08:45:50.870Z"
   },
   {
    "duration": 37754,
    "start_time": "2022-03-13T08:47:32.577Z"
   },
   {
    "duration": 3506,
    "start_time": "2022-03-13T08:48:12.435Z"
   },
   {
    "duration": 28354,
    "start_time": "2022-03-13T08:48:38.233Z"
   },
   {
    "duration": -710,
    "start_time": "2022-03-13T08:49:57.964Z"
   },
   {
    "duration": 76164,
    "start_time": "2022-03-13T08:50:20.087Z"
   },
   {
    "duration": 75639,
    "start_time": "2022-03-13T08:52:40.602Z"
   },
   {
    "duration": 143122,
    "start_time": "2022-03-13T09:25:07.480Z"
   },
   {
    "duration": 260,
    "start_time": "2022-03-13T09:43:22.324Z"
   },
   {
    "duration": 1525,
    "start_time": "2022-03-13T09:47:07.952Z"
   },
   {
    "duration": 850,
    "start_time": "2022-03-13T09:47:09.479Z"
   },
   {
    "duration": 3,
    "start_time": "2022-03-13T09:47:10.333Z"
   },
   {
    "duration": 816,
    "start_time": "2022-03-13T09:47:10.338Z"
   },
   {
    "duration": 6,
    "start_time": "2022-03-13T09:47:11.157Z"
   },
   {
    "duration": 11,
    "start_time": "2022-03-13T09:47:11.166Z"
   },
   {
    "duration": 23,
    "start_time": "2022-03-13T09:47:11.180Z"
   },
   {
    "duration": 55,
    "start_time": "2022-03-13T09:47:11.208Z"
   },
   {
    "duration": 417,
    "start_time": "2022-03-13T09:47:11.269Z"
   },
   {
    "duration": 124,
    "start_time": "2022-03-13T09:47:11.689Z"
   },
   {
    "duration": 95,
    "start_time": "2022-03-13T09:47:11.816Z"
   },
   {
    "duration": 3174,
    "start_time": "2022-03-13T09:47:11.913Z"
   },
   {
    "duration": 1617,
    "start_time": "2022-03-13T09:47:15.090Z"
   },
   {
    "duration": 7,
    "start_time": "2022-03-13T09:47:16.709Z"
   },
   {
    "duration": 1311,
    "start_time": "2022-03-13T09:47:16.718Z"
   },
   {
    "duration": 119,
    "start_time": "2022-03-13T09:47:18.032Z"
   },
   {
    "duration": 5,
    "start_time": "2022-03-13T09:47:18.153Z"
   },
   {
    "duration": 13,
    "start_time": "2022-03-13T09:47:18.161Z"
   },
   {
    "duration": 21,
    "start_time": "2022-03-13T09:47:18.176Z"
   },
   {
    "duration": 137572,
    "start_time": "2022-03-13T09:47:18.199Z"
   },
   {
    "duration": 423,
    "start_time": "2022-03-13T10:25:32.172Z"
   },
   {
    "duration": 271,
    "start_time": "2022-03-13T10:26:56.508Z"
   },
   {
    "duration": 19,
    "start_time": "2022-03-13T10:27:11.191Z"
   },
   {
    "duration": 14,
    "start_time": "2022-03-13T10:27:40.813Z"
   },
   {
    "duration": 33,
    "start_time": "2022-03-13T10:27:59.851Z"
   },
   {
    "duration": 281,
    "start_time": "2022-03-13T10:28:12.042Z"
   },
   {
    "duration": 6,
    "start_time": "2022-03-13T10:28:15.354Z"
   },
   {
    "duration": 268,
    "start_time": "2022-03-13T10:29:50.449Z"
   },
   {
    "duration": 420,
    "start_time": "2022-03-13T10:30:19.391Z"
   },
   {
    "duration": 22,
    "start_time": "2022-03-13T10:32:19.569Z"
   },
   {
    "duration": 36,
    "start_time": "2022-03-13T10:32:24.642Z"
   },
   {
    "duration": 280,
    "start_time": "2022-03-13T10:35:38.987Z"
   },
   {
    "duration": 86,
    "start_time": "2022-03-13T10:38:38.969Z"
   },
   {
    "duration": 475,
    "start_time": "2022-03-13T10:38:43.540Z"
   },
   {
    "duration": 299,
    "start_time": "2022-03-13T10:39:40.888Z"
   },
   {
    "duration": 6388,
    "start_time": "2022-03-13T10:44:14.963Z"
   },
   {
    "duration": 7,
    "start_time": "2022-03-13T10:46:40.337Z"
   },
   {
    "duration": 7699,
    "start_time": "2022-03-13T10:47:14.825Z"
   },
   {
    "duration": 1212,
    "start_time": "2022-03-14T12:44:38.276Z"
   },
   {
    "duration": 753,
    "start_time": "2022-03-14T12:44:39.490Z"
   },
   {
    "duration": 2,
    "start_time": "2022-03-14T12:44:40.245Z"
   },
   {
    "duration": 499,
    "start_time": "2022-03-14T12:44:40.249Z"
   },
   {
    "duration": 4,
    "start_time": "2022-03-14T12:44:40.750Z"
   },
   {
    "duration": 13,
    "start_time": "2022-03-14T12:44:40.756Z"
   },
   {
    "duration": 8,
    "start_time": "2022-03-14T12:44:40.771Z"
   },
   {
    "duration": 8,
    "start_time": "2022-03-14T12:44:40.781Z"
   },
   {
    "duration": 282,
    "start_time": "2022-03-14T12:44:40.797Z"
   },
   {
    "duration": 70,
    "start_time": "2022-03-14T12:44:41.082Z"
   },
   {
    "duration": 47,
    "start_time": "2022-03-14T12:44:41.155Z"
   },
   {
    "duration": 2192,
    "start_time": "2022-03-14T12:44:41.204Z"
   },
   {
    "duration": 1078,
    "start_time": "2022-03-14T12:44:43.398Z"
   },
   {
    "duration": 8,
    "start_time": "2022-03-14T12:44:44.478Z"
   },
   {
    "duration": 985,
    "start_time": "2022-03-14T12:44:44.488Z"
   },
   {
    "duration": 90,
    "start_time": "2022-03-14T12:44:45.475Z"
   },
   {
    "duration": 3,
    "start_time": "2022-03-14T12:44:45.567Z"
   },
   {
    "duration": 16,
    "start_time": "2022-03-14T12:44:45.572Z"
   },
   {
    "duration": 29,
    "start_time": "2022-03-14T12:44:45.590Z"
   },
   {
    "duration": 110283,
    "start_time": "2022-03-14T12:44:45.621Z"
   },
   {
    "duration": 9,
    "start_time": "2022-03-14T12:46:35.907Z"
   },
   {
    "duration": 304,
    "start_time": "2022-03-14T13:31:02.864Z"
   },
   {
    "duration": 10,
    "start_time": "2022-03-14T13:31:15.271Z"
   },
   {
    "duration": 12,
    "start_time": "2022-03-14T13:56:25.246Z"
   },
   {
    "duration": 109135,
    "start_time": "2022-03-14T14:01:58.913Z"
   },
   {
    "duration": 486,
    "start_time": "2022-03-14T14:32:42.912Z"
   },
   {
    "duration": 1252,
    "start_time": "2022-03-14T14:32:50.754Z"
   },
   {
    "duration": 749,
    "start_time": "2022-03-14T14:32:52.008Z"
   },
   {
    "duration": 3,
    "start_time": "2022-03-14T14:32:52.760Z"
   },
   {
    "duration": 547,
    "start_time": "2022-03-14T14:32:52.765Z"
   },
   {
    "duration": 4,
    "start_time": "2022-03-14T14:32:53.313Z"
   },
   {
    "duration": 15,
    "start_time": "2022-03-14T14:32:53.319Z"
   },
   {
    "duration": 11,
    "start_time": "2022-03-14T14:32:53.336Z"
   },
   {
    "duration": 10,
    "start_time": "2022-03-14T14:32:53.350Z"
   },
   {
    "duration": 283,
    "start_time": "2022-03-14T14:32:53.364Z"
   },
   {
    "duration": 62,
    "start_time": "2022-03-14T14:32:53.648Z"
   },
   {
    "duration": 64,
    "start_time": "2022-03-14T14:32:53.711Z"
   },
   {
    "duration": 2311,
    "start_time": "2022-03-14T14:32:53.777Z"
   },
   {
    "duration": 1196,
    "start_time": "2022-03-14T14:32:56.090Z"
   },
   {
    "duration": 6,
    "start_time": "2022-03-14T14:32:57.288Z"
   },
   {
    "duration": 1029,
    "start_time": "2022-03-14T14:32:57.297Z"
   },
   {
    "duration": 82,
    "start_time": "2022-03-14T14:32:58.327Z"
   },
   {
    "duration": 22,
    "start_time": "2022-03-14T14:32:58.410Z"
   },
   {
    "duration": 3,
    "start_time": "2022-03-14T14:33:17.076Z"
   },
   {
    "duration": 10,
    "start_time": "2022-03-14T14:33:19.603Z"
   },
   {
    "duration": 20,
    "start_time": "2022-03-14T14:33:23.283Z"
   },
   {
    "duration": 794,
    "start_time": "2022-03-14T14:41:28.064Z"
   },
   {
    "duration": 275,
    "start_time": "2022-03-14T14:42:05.938Z"
   },
   {
    "duration": 703,
    "start_time": "2022-03-14T14:42:53.983Z"
   },
   {
    "duration": 831,
    "start_time": "2022-03-14T14:43:00.802Z"
   },
   {
    "duration": 7128,
    "start_time": "2022-03-14T14:44:33.726Z"
   },
   {
    "duration": 99,
    "start_time": "2022-03-14T14:44:59.279Z"
   },
   {
    "duration": 11,
    "start_time": "2022-03-14T14:45:06.340Z"
   },
   {
    "duration": 20,
    "start_time": "2022-03-14T14:45:08.148Z"
   },
   {
    "duration": 938,
    "start_time": "2022-03-14T14:45:09.695Z"
   },
   {
    "duration": -802,
    "start_time": "2022-03-14T14:47:10.781Z"
   },
   {
    "duration": 6880,
    "start_time": "2022-03-14T14:48:28.539Z"
   },
   {
    "duration": 4931,
    "start_time": "2022-03-14T14:49:22.380Z"
   },
   {
    "duration": 8,
    "start_time": "2022-03-14T14:49:50.322Z"
   },
   {
    "duration": 16,
    "start_time": "2022-03-14T14:49:53.601Z"
   },
   {
    "duration": 3109,
    "start_time": "2022-03-14T14:52:58.804Z"
   },
   {
    "duration": 41036,
    "start_time": "2022-03-14T14:53:15.521Z"
   },
   {
    "duration": 14,
    "start_time": "2022-03-14T14:56:16.646Z"
   },
   {
    "duration": 15,
    "start_time": "2022-03-14T14:56:22.868Z"
   },
   {
    "duration": 13,
    "start_time": "2022-03-14T15:48:47.981Z"
   },
   {
    "duration": 10,
    "start_time": "2022-03-14T15:48:54.588Z"
   },
   {
    "duration": 17,
    "start_time": "2022-03-14T15:49:01.677Z"
   },
   {
    "duration": 9,
    "start_time": "2022-03-14T15:50:42.811Z"
   },
   {
    "duration": 760,
    "start_time": "2022-03-14T15:54:41.529Z"
   },
   {
    "duration": 4,
    "start_time": "2022-03-14T16:06:45.721Z"
   },
   {
    "duration": 10,
    "start_time": "2022-03-14T16:06:48.968Z"
   },
   {
    "duration": 18,
    "start_time": "2022-03-14T16:06:50.544Z"
   },
   {
    "duration": 682,
    "start_time": "2022-03-14T16:06:53.210Z"
   },
   {
    "duration": 4,
    "start_time": "2022-03-14T16:09:08.591Z"
   },
   {
    "duration": 2453,
    "start_time": "2022-03-14T16:09:11.809Z"
   },
   {
    "duration": 4,
    "start_time": "2022-03-14T16:10:40.862Z"
   },
   {
    "duration": 12078,
    "start_time": "2022-03-14T16:10:48.600Z"
   },
   {
    "duration": 5,
    "start_time": "2022-03-14T16:13:59.907Z"
   },
   {
    "duration": 639,
    "start_time": "2022-03-14T16:14:02.595Z"
   },
   {
    "duration": 751,
    "start_time": "2022-03-14T16:14:05.782Z"
   },
   {
    "duration": 4,
    "start_time": "2022-03-14T16:15:29.757Z"
   },
   {
    "duration": 2422,
    "start_time": "2022-03-14T16:15:31.933Z"
   },
   {
    "duration": 5,
    "start_time": "2022-03-14T16:19:24.543Z"
   },
   {
    "duration": 2219,
    "start_time": "2022-03-14T16:19:29.307Z"
   },
   {
    "duration": 3,
    "start_time": "2022-03-14T16:19:42.001Z"
   },
   {
    "duration": 2578,
    "start_time": "2022-03-14T16:19:45.474Z"
   },
   {
    "duration": 1213,
    "start_time": "2022-03-14T16:20:22.663Z"
   },
   {
    "duration": 762,
    "start_time": "2022-03-14T16:20:23.877Z"
   },
   {
    "duration": 2,
    "start_time": "2022-03-14T16:20:24.641Z"
   },
   {
    "duration": 554,
    "start_time": "2022-03-14T16:20:24.645Z"
   },
   {
    "duration": 5,
    "start_time": "2022-03-14T16:20:25.201Z"
   },
   {
    "duration": 27,
    "start_time": "2022-03-14T16:20:25.208Z"
   },
   {
    "duration": 12,
    "start_time": "2022-03-14T16:20:25.237Z"
   },
   {
    "duration": 24,
    "start_time": "2022-03-14T16:20:25.252Z"
   },
   {
    "duration": 276,
    "start_time": "2022-03-14T16:20:25.278Z"
   },
   {
    "duration": 88,
    "start_time": "2022-03-14T16:20:25.557Z"
   },
   {
    "duration": 48,
    "start_time": "2022-03-14T16:20:25.647Z"
   },
   {
    "duration": 2259,
    "start_time": "2022-03-14T16:20:25.697Z"
   },
   {
    "duration": 1192,
    "start_time": "2022-03-14T16:20:27.958Z"
   },
   {
    "duration": 6,
    "start_time": "2022-03-14T16:20:29.152Z"
   },
   {
    "duration": 1019,
    "start_time": "2022-03-14T16:20:29.160Z"
   },
   {
    "duration": 95,
    "start_time": "2022-03-14T16:20:30.181Z"
   },
   {
    "duration": 3,
    "start_time": "2022-03-14T16:20:30.278Z"
   },
   {
    "duration": 18,
    "start_time": "2022-03-14T16:20:30.283Z"
   },
   {
    "duration": 40,
    "start_time": "2022-03-14T16:20:30.303Z"
   },
   {
    "duration": 2529,
    "start_time": "2022-03-14T16:20:33.539Z"
   },
   {
    "duration": 2,
    "start_time": "2022-03-14T16:20:50.827Z"
   },
   {
    "duration": 2159,
    "start_time": "2022-03-14T16:21:03.086Z"
   },
   {
    "duration": 83,
    "start_time": "2022-03-14T16:21:12.021Z"
   },
   {
    "duration": 530,
    "start_time": "2022-03-14T16:21:19.580Z"
   },
   {
    "duration": 81,
    "start_time": "2022-03-14T16:21:29.373Z"
   },
   {
    "duration": 2415,
    "start_time": "2022-03-14T16:21:34.874Z"
   },
   {
    "duration": 465,
    "start_time": "2022-03-14T16:22:16.340Z"
   },
   {
    "duration": 3,
    "start_time": "2022-03-14T16:22:55.067Z"
   },
   {
    "duration": 447,
    "start_time": "2022-03-14T16:23:06.075Z"
   },
   {
    "duration": 8165,
    "start_time": "2022-03-14T16:26:03.017Z"
   },
   {
    "duration": 10154,
    "start_time": "2022-03-14T20:14:59.302Z"
   },
   {
    "duration": 847,
    "start_time": "2022-03-14T20:17:22.400Z"
   },
   {
    "duration": 8049,
    "start_time": "2022-03-14T20:18:11.288Z"
   },
   {
    "duration": 491,
    "start_time": "2022-03-14T20:18:45.752Z"
   },
   {
    "duration": 2350,
    "start_time": "2022-03-14T20:19:30.822Z"
   },
   {
    "duration": 12118,
    "start_time": "2022-03-14T20:20:40.815Z"
   },
   {
    "duration": 5,
    "start_time": "2022-03-14T20:22:20.053Z"
   },
   {
    "duration": 537,
    "start_time": "2022-03-14T20:24:14.696Z"
   },
   {
    "duration": 93,
    "start_time": "2022-03-14T20:24:38.333Z"
   },
   {
    "duration": 346,
    "start_time": "2022-03-14T20:24:53.144Z"
   },
   {
    "duration": 601,
    "start_time": "2022-03-14T20:29:58.000Z"
   },
   {
    "duration": 758,
    "start_time": "2022-03-14T20:30:20.783Z"
   },
   {
    "duration": 653,
    "start_time": "2022-03-14T20:31:37.645Z"
   },
   {
    "duration": 735,
    "start_time": "2022-03-14T20:31:57.556Z"
   },
   {
    "duration": 86,
    "start_time": "2022-03-14T20:32:37.717Z"
   },
   {
    "duration": 90,
    "start_time": "2022-03-14T20:32:41.499Z"
   },
   {
    "duration": 90,
    "start_time": "2022-03-14T20:33:13.610Z"
   },
   {
    "duration": 93,
    "start_time": "2022-03-14T20:33:21.075Z"
   },
   {
    "duration": 8726,
    "start_time": "2022-03-14T20:33:28.570Z"
   },
   {
    "duration": 86,
    "start_time": "2022-03-14T20:34:41.780Z"
   },
   {
    "duration": 82,
    "start_time": "2022-03-14T20:34:49.202Z"
   },
   {
    "duration": 5426,
    "start_time": "2022-03-14T20:34:55.256Z"
   },
   {
    "duration": 9832,
    "start_time": "2022-03-14T20:35:10.282Z"
   },
   {
    "duration": 14294,
    "start_time": "2022-03-14T20:35:42.724Z"
   },
   {
    "duration": 7995,
    "start_time": "2022-03-14T20:36:08.667Z"
   },
   {
    "duration": 20374,
    "start_time": "2022-03-14T20:37:20.034Z"
   },
   {
    "duration": 465,
    "start_time": "2022-03-14T20:39:51.454Z"
   },
   {
    "duration": 356,
    "start_time": "2022-03-14T20:41:47.230Z"
   },
   {
    "duration": 313,
    "start_time": "2022-03-14T20:42:40.339Z"
   },
   {
    "duration": 20064,
    "start_time": "2022-03-14T20:42:58.620Z"
   },
   {
    "duration": 19756,
    "start_time": "2022-03-14T20:43:29.930Z"
   },
   {
    "duration": 19887,
    "start_time": "2022-03-14T20:43:54.762Z"
   },
   {
    "duration": 9822,
    "start_time": "2022-03-14T20:45:49.329Z"
   },
   {
    "duration": 1323,
    "start_time": "2022-03-14T20:48:10.146Z"
   },
   {
    "duration": 786,
    "start_time": "2022-03-14T20:48:11.471Z"
   },
   {
    "duration": 3,
    "start_time": "2022-03-14T20:48:12.259Z"
   },
   {
    "duration": 535,
    "start_time": "2022-03-14T20:48:12.264Z"
   },
   {
    "duration": 6,
    "start_time": "2022-03-14T20:48:12.801Z"
   },
   {
    "duration": 10,
    "start_time": "2022-03-14T20:48:12.809Z"
   },
   {
    "duration": 10,
    "start_time": "2022-03-14T20:48:12.832Z"
   },
   {
    "duration": 15,
    "start_time": "2022-03-14T20:48:12.845Z"
   },
   {
    "duration": 277,
    "start_time": "2022-03-14T20:48:12.864Z"
   },
   {
    "duration": 62,
    "start_time": "2022-03-14T20:48:13.143Z"
   },
   {
    "duration": 70,
    "start_time": "2022-03-14T20:48:13.207Z"
   },
   {
    "duration": 2300,
    "start_time": "2022-03-14T20:48:13.279Z"
   },
   {
    "duration": 1214,
    "start_time": "2022-03-14T20:48:15.581Z"
   },
   {
    "duration": 7,
    "start_time": "2022-03-14T20:48:16.797Z"
   },
   {
    "duration": 1026,
    "start_time": "2022-03-14T20:48:16.806Z"
   },
   {
    "duration": 100,
    "start_time": "2022-03-14T20:48:17.833Z"
   },
   {
    "duration": 3,
    "start_time": "2022-03-14T20:48:17.935Z"
   },
   {
    "duration": 11,
    "start_time": "2022-03-14T20:48:28.482Z"
   },
   {
    "duration": 20,
    "start_time": "2022-03-14T20:48:40.594Z"
   },
   {
    "duration": 19571,
    "start_time": "2022-03-14T20:48:42.954Z"
   },
   {
    "duration": 1308,
    "start_time": "2022-03-14T20:49:32.710Z"
   },
   {
    "duration": 798,
    "start_time": "2022-03-14T20:49:34.020Z"
   },
   {
    "duration": 3,
    "start_time": "2022-03-14T20:49:34.821Z"
   },
   {
    "duration": 525,
    "start_time": "2022-03-14T20:49:34.832Z"
   },
   {
    "duration": 5,
    "start_time": "2022-03-14T20:49:35.359Z"
   },
   {
    "duration": 12,
    "start_time": "2022-03-14T20:49:35.366Z"
   },
   {
    "duration": 17,
    "start_time": "2022-03-14T20:49:35.380Z"
   },
   {
    "duration": 31,
    "start_time": "2022-03-14T20:49:35.400Z"
   },
   {
    "duration": 265,
    "start_time": "2022-03-14T20:49:35.434Z"
   },
   {
    "duration": 78,
    "start_time": "2022-03-14T20:49:35.701Z"
   },
   {
    "duration": 67,
    "start_time": "2022-03-14T20:49:35.781Z"
   },
   {
    "duration": 2359,
    "start_time": "2022-03-14T20:49:35.850Z"
   },
   {
    "duration": 1230,
    "start_time": "2022-03-14T20:49:38.210Z"
   },
   {
    "duration": 6,
    "start_time": "2022-03-14T20:49:39.442Z"
   },
   {
    "duration": 1085,
    "start_time": "2022-03-14T20:49:39.450Z"
   },
   {
    "duration": 102,
    "start_time": "2022-03-14T20:49:40.537Z"
   },
   {
    "duration": 3,
    "start_time": "2022-03-14T20:49:40.641Z"
   },
   {
    "duration": 14,
    "start_time": "2022-03-14T20:49:40.645Z"
   },
   {
    "duration": 19,
    "start_time": "2022-03-14T20:49:43.753Z"
   },
   {
    "duration": 7564,
    "start_time": "2022-03-14T20:49:46.781Z"
   },
   {
    "duration": 20290,
    "start_time": "2022-03-14T20:50:18.054Z"
   },
   {
    "duration": 20135,
    "start_time": "2022-03-14T20:51:49.859Z"
   },
   {
    "duration": 623,
    "start_time": "2022-03-14T20:56:07.416Z"
   },
   {
    "duration": 19834,
    "start_time": "2022-03-14T20:56:58.874Z"
   },
   {
    "duration": 20597,
    "start_time": "2022-03-14T20:59:14.990Z"
   },
   {
    "duration": 20379,
    "start_time": "2022-03-14T20:59:40.869Z"
   },
   {
    "duration": 1253,
    "start_time": "2022-03-14T21:00:27.643Z"
   },
   {
    "duration": 779,
    "start_time": "2022-03-14T21:00:28.899Z"
   },
   {
    "duration": 3,
    "start_time": "2022-03-14T21:00:29.680Z"
   },
   {
    "duration": 555,
    "start_time": "2022-03-14T21:00:29.685Z"
   },
   {
    "duration": 4,
    "start_time": "2022-03-14T21:00:30.242Z"
   },
   {
    "duration": 16,
    "start_time": "2022-03-14T21:00:30.248Z"
   },
   {
    "duration": 22,
    "start_time": "2022-03-14T21:00:30.266Z"
   },
   {
    "duration": 21,
    "start_time": "2022-03-14T21:00:30.292Z"
   },
   {
    "duration": 270,
    "start_time": "2022-03-14T21:00:30.315Z"
   },
   {
    "duration": 86,
    "start_time": "2022-03-14T21:00:30.587Z"
   },
   {
    "duration": 61,
    "start_time": "2022-03-14T21:00:30.675Z"
   },
   {
    "duration": 2382,
    "start_time": "2022-03-14T21:00:30.738Z"
   },
   {
    "duration": 1199,
    "start_time": "2022-03-14T21:00:33.122Z"
   },
   {
    "duration": 11,
    "start_time": "2022-03-14T21:00:34.324Z"
   },
   {
    "duration": 1054,
    "start_time": "2022-03-14T21:00:34.337Z"
   },
   {
    "duration": 90,
    "start_time": "2022-03-14T21:00:35.393Z"
   },
   {
    "duration": 3,
    "start_time": "2022-03-14T21:00:35.485Z"
   },
   {
    "duration": 14,
    "start_time": "2022-03-14T21:00:35.491Z"
   },
   {
    "duration": 39,
    "start_time": "2022-03-14T21:00:35.507Z"
   },
   {
    "duration": 20380,
    "start_time": "2022-03-14T21:00:35.548Z"
   },
   {
    "duration": 1591,
    "start_time": "2022-03-15T06:57:49.040Z"
   },
   {
    "duration": 842,
    "start_time": "2022-03-15T06:57:50.634Z"
   },
   {
    "duration": 3,
    "start_time": "2022-03-15T06:57:51.479Z"
   },
   {
    "duration": 758,
    "start_time": "2022-03-15T06:57:51.484Z"
   },
   {
    "duration": 6,
    "start_time": "2022-03-15T06:57:52.244Z"
   },
   {
    "duration": 27,
    "start_time": "2022-03-15T06:57:52.252Z"
   },
   {
    "duration": 23,
    "start_time": "2022-03-15T06:57:52.281Z"
   },
   {
    "duration": 21,
    "start_time": "2022-03-15T06:57:52.308Z"
   },
   {
    "duration": 421,
    "start_time": "2022-03-15T06:57:52.332Z"
   },
   {
    "duration": 101,
    "start_time": "2022-03-15T06:57:52.755Z"
   },
   {
    "duration": 85,
    "start_time": "2022-03-15T06:57:52.858Z"
   },
   {
    "duration": 3115,
    "start_time": "2022-03-15T06:57:52.946Z"
   },
   {
    "duration": 1645,
    "start_time": "2022-03-15T06:57:56.063Z"
   },
   {
    "duration": 7,
    "start_time": "2022-03-15T06:57:57.711Z"
   },
   {
    "duration": 1468,
    "start_time": "2022-03-15T06:57:57.720Z"
   },
   {
    "duration": 123,
    "start_time": "2022-03-15T06:57:59.190Z"
   },
   {
    "duration": 3,
    "start_time": "2022-03-15T06:57:59.316Z"
   },
   {
    "duration": 30,
    "start_time": "2022-03-15T06:57:59.322Z"
   },
   {
    "duration": 42,
    "start_time": "2022-03-15T06:57:59.355Z"
   },
   {
    "duration": 22456,
    "start_time": "2022-03-15T06:58:06.607Z"
   },
   {
    "duration": 23210,
    "start_time": "2022-03-15T06:59:44.913Z"
   },
   {
    "duration": 6,
    "start_time": "2022-03-15T07:00:20.204Z"
   },
   {
    "duration": 870,
    "start_time": "2022-03-15T07:00:20.217Z"
   },
   {
    "duration": 3,
    "start_time": "2022-03-15T07:00:21.090Z"
   },
   {
    "duration": 761,
    "start_time": "2022-03-15T07:00:21.096Z"
   },
   {
    "duration": 14,
    "start_time": "2022-03-15T07:00:21.859Z"
   },
   {
    "duration": 10,
    "start_time": "2022-03-15T07:00:21.876Z"
   },
   {
    "duration": 9,
    "start_time": "2022-03-15T07:00:21.889Z"
   },
   {
    "duration": 19,
    "start_time": "2022-03-15T07:00:21.900Z"
   },
   {
    "duration": 505,
    "start_time": "2022-03-15T07:00:21.922Z"
   },
   {
    "duration": 106,
    "start_time": "2022-03-15T07:00:22.432Z"
   },
   {
    "duration": 94,
    "start_time": "2022-03-15T07:00:22.541Z"
   },
   {
    "duration": 3326,
    "start_time": "2022-03-15T07:00:22.638Z"
   },
   {
    "duration": 2046,
    "start_time": "2022-03-15T07:00:25.974Z"
   },
   {
    "duration": 8,
    "start_time": "2022-03-15T07:00:28.022Z"
   },
   {
    "duration": 1240,
    "start_time": "2022-03-15T07:00:28.033Z"
   },
   {
    "duration": 114,
    "start_time": "2022-03-15T07:00:29.275Z"
   },
   {
    "duration": 4,
    "start_time": "2022-03-15T07:00:29.392Z"
   },
   {
    "duration": 42,
    "start_time": "2022-03-15T07:00:29.398Z"
   },
   {
    "duration": 38,
    "start_time": "2022-03-15T07:00:29.443Z"
   },
   {
    "duration": 22497,
    "start_time": "2022-03-15T07:00:53.718Z"
   },
   {
    "duration": 23943,
    "start_time": "2022-03-15T07:01:18.162Z"
   },
   {
    "duration": 2277,
    "start_time": "2022-03-15T07:02:25.219Z"
   },
   {
    "duration": 1987,
    "start_time": "2022-03-15T07:02:40.299Z"
   },
   {
    "duration": 23218,
    "start_time": "2022-03-15T07:02:49.811Z"
   },
   {
    "duration": 105,
    "start_time": "2022-03-15T07:05:15.734Z"
   },
   {
    "duration": 7278,
    "start_time": "2022-03-15T07:05:22.339Z"
   },
   {
    "duration": 301,
    "start_time": "2022-03-15T07:05:43.663Z"
   },
   {
    "duration": 51886,
    "start_time": "2022-03-15T07:06:08.114Z"
   },
   {
    "duration": 331,
    "start_time": "2022-03-15T07:07:11.030Z"
   },
   {
    "duration": 301,
    "start_time": "2022-03-15T07:09:02.425Z"
   },
   {
    "duration": 1654,
    "start_time": "2022-03-15T07:10:13.675Z"
   },
   {
    "duration": 870,
    "start_time": "2022-03-15T07:10:15.332Z"
   },
   {
    "duration": 3,
    "start_time": "2022-03-15T07:10:16.204Z"
   },
   {
    "duration": 812,
    "start_time": "2022-03-15T07:10:16.210Z"
   },
   {
    "duration": 6,
    "start_time": "2022-03-15T07:10:17.026Z"
   },
   {
    "duration": 39,
    "start_time": "2022-03-15T07:10:17.035Z"
   },
   {
    "duration": 17,
    "start_time": "2022-03-15T07:10:17.077Z"
   },
   {
    "duration": 22,
    "start_time": "2022-03-15T07:10:17.099Z"
   },
   {
    "duration": 426,
    "start_time": "2022-03-15T07:10:17.125Z"
   },
   {
    "duration": 121,
    "start_time": "2022-03-15T07:10:17.554Z"
   },
   {
    "duration": 71,
    "start_time": "2022-03-15T07:10:17.678Z"
   },
   {
    "duration": 3265,
    "start_time": "2022-03-15T07:10:17.752Z"
   },
   {
    "duration": 1729,
    "start_time": "2022-03-15T07:10:21.019Z"
   },
   {
    "duration": 8,
    "start_time": "2022-03-15T07:10:22.751Z"
   },
   {
    "duration": 1446,
    "start_time": "2022-03-15T07:10:22.761Z"
   },
   {
    "duration": 120,
    "start_time": "2022-03-15T07:10:24.209Z"
   },
   {
    "duration": 4,
    "start_time": "2022-03-15T07:10:24.331Z"
   },
   {
    "duration": 41,
    "start_time": "2022-03-15T07:10:24.337Z"
   },
   {
    "duration": 29,
    "start_time": "2022-03-15T07:10:24.380Z"
   },
   {
    "duration": 51351,
    "start_time": "2022-03-15T07:10:24.411Z"
   },
   {
    "duration": 450,
    "start_time": "2022-03-15T07:11:15.765Z"
   },
   {
    "duration": 51960,
    "start_time": "2022-03-15T07:14:20.230Z"
   },
   {
    "duration": 297,
    "start_time": "2022-03-15T07:15:46.262Z"
   },
   {
    "duration": 54980,
    "start_time": "2022-03-15T07:16:00.026Z"
   },
   {
    "duration": 508,
    "start_time": "2022-03-15T07:18:17.286Z"
   },
   {
    "duration": 55872,
    "start_time": "2022-03-15T07:18:34.233Z"
   },
   {
    "duration": 330,
    "start_time": "2022-03-15T07:19:30.108Z"
   },
   {
    "duration": 8,
    "start_time": "2022-03-15T07:20:03.170Z"
   },
   {
    "duration": 6,
    "start_time": "2022-03-15T07:21:03.549Z"
   },
   {
    "duration": 8,
    "start_time": "2022-03-15T07:21:14.206Z"
   },
   {
    "duration": 8,
    "start_time": "2022-03-15T07:21:18.345Z"
   },
   {
    "duration": 52663,
    "start_time": "2022-03-15T07:22:14.010Z"
   },
   {
    "duration": 15,
    "start_time": "2022-03-15T07:23:06.676Z"
   },
   {
    "duration": 14,
    "start_time": "2022-03-15T07:23:46.395Z"
   },
   {
    "duration": 320,
    "start_time": "2022-03-15T07:24:39.381Z"
   },
   {
    "duration": 346,
    "start_time": "2022-03-15T07:25:09.411Z"
   },
   {
    "duration": 554,
    "start_time": "2022-03-15T07:25:45.850Z"
   },
   {
    "duration": 925,
    "start_time": "2022-03-15T07:25:50.082Z"
   },
   {
    "duration": 669,
    "start_time": "2022-03-15T07:26:09.378Z"
   },
   {
    "duration": 6,
    "start_time": "2022-03-15T07:26:20.381Z"
   },
   {
    "duration": 896,
    "start_time": "2022-03-15T07:26:20.390Z"
   },
   {
    "duration": 3,
    "start_time": "2022-03-15T07:26:21.290Z"
   },
   {
    "duration": 1003,
    "start_time": "2022-03-15T07:26:21.295Z"
   },
   {
    "duration": 7,
    "start_time": "2022-03-15T07:26:22.301Z"
   },
   {
    "duration": 28,
    "start_time": "2022-03-15T07:26:22.311Z"
   },
   {
    "duration": 21,
    "start_time": "2022-03-15T07:26:22.342Z"
   },
   {
    "duration": 22,
    "start_time": "2022-03-15T07:26:22.377Z"
   },
   {
    "duration": 410,
    "start_time": "2022-03-15T07:26:22.403Z"
   },
   {
    "duration": 112,
    "start_time": "2022-03-15T07:26:22.816Z"
   },
   {
    "duration": 128,
    "start_time": "2022-03-15T07:26:22.930Z"
   },
   {
    "duration": 3857,
    "start_time": "2022-03-15T07:26:23.061Z"
   },
   {
    "duration": 1990,
    "start_time": "2022-03-15T07:26:26.921Z"
   },
   {
    "duration": 7,
    "start_time": "2022-03-15T07:26:28.914Z"
   },
   {
    "duration": 1636,
    "start_time": "2022-03-15T07:26:28.923Z"
   },
   {
    "duration": 125,
    "start_time": "2022-03-15T07:26:30.561Z"
   },
   {
    "duration": 5,
    "start_time": "2022-03-15T07:26:30.689Z"
   },
   {
    "duration": 21,
    "start_time": "2022-03-15T07:26:30.697Z"
   },
   {
    "duration": 28,
    "start_time": "2022-03-15T07:26:30.721Z"
   },
   {
    "duration": 54423,
    "start_time": "2022-03-15T07:26:30.752Z"
   },
   {
    "duration": 517,
    "start_time": "2022-03-15T07:27:25.179Z"
   },
   {
    "duration": 21,
    "start_time": "2022-03-15T07:27:45.604Z"
   },
   {
    "duration": 44,
    "start_time": "2022-03-15T07:27:59.810Z"
   },
   {
    "duration": 47,
    "start_time": "2022-03-15T07:28:17.969Z"
   },
   {
    "duration": 21,
    "start_time": "2022-03-15T07:28:23.743Z"
   },
   {
    "duration": 57,
    "start_time": "2022-03-15T07:28:35.136Z"
   },
   {
    "duration": 328,
    "start_time": "2022-03-15T07:29:05.080Z"
   },
   {
    "duration": 15,
    "start_time": "2022-03-15T07:29:23.532Z"
   },
   {
    "duration": 313,
    "start_time": "2022-03-15T07:29:27.387Z"
   },
   {
    "duration": 17,
    "start_time": "2022-03-15T07:29:32.096Z"
   },
   {
    "duration": 48,
    "start_time": "2022-03-15T07:31:32.797Z"
   },
   {
    "duration": 45,
    "start_time": "2022-03-15T07:31:37.074Z"
   },
   {
    "duration": 46,
    "start_time": "2022-03-15T07:32:26.987Z"
   },
   {
    "duration": 69,
    "start_time": "2022-03-15T07:34:40.012Z"
   },
   {
    "duration": 523,
    "start_time": "2022-03-15T07:40:38.274Z"
   },
   {
    "duration": 197,
    "start_time": "2022-03-15T07:40:46.678Z"
   },
   {
    "duration": 663,
    "start_time": "2022-03-15T07:41:15.326Z"
   },
   {
    "duration": 292,
    "start_time": "2022-03-15T07:41:31.786Z"
   },
   {
    "duration": 7,
    "start_time": "2022-03-15T07:46:24.288Z"
   },
   {
    "duration": 11,
    "start_time": "2022-03-15T07:46:26.363Z"
   },
   {
    "duration": 22,
    "start_time": "2022-03-15T07:46:30.627Z"
   },
   {
    "duration": 115,
    "start_time": "2022-03-15T07:52:18.892Z"
   },
   {
    "duration": 1605,
    "start_time": "2022-03-15T07:52:50.676Z"
   },
   {
    "duration": 50,
    "start_time": "2022-03-15T07:53:27.026Z"
   },
   {
    "duration": 20,
    "start_time": "2022-03-15T07:53:38.710Z"
   },
   {
    "duration": 1983,
    "start_time": "2022-03-15T07:53:40.393Z"
   },
   {
    "duration": 2098,
    "start_time": "2022-03-15T07:55:46.082Z"
   },
   {
    "duration": 1970,
    "start_time": "2022-03-15T07:56:11.519Z"
   },
   {
    "duration": 1874,
    "start_time": "2022-03-15T07:56:36.327Z"
   },
   {
    "duration": 3092,
    "start_time": "2022-03-15T07:56:44.684Z"
   },
   {
    "duration": 2966,
    "start_time": "2022-03-15T07:56:59.111Z"
   },
   {
    "duration": 175,
    "start_time": "2022-03-15T08:01:08.014Z"
   },
   {
    "duration": 292,
    "start_time": "2022-03-15T08:01:18.117Z"
   },
   {
    "duration": 3188,
    "start_time": "2022-03-15T08:01:29.356Z"
   },
   {
    "duration": 41005,
    "start_time": "2022-03-15T08:02:08.405Z"
   },
   {
    "duration": 41770,
    "start_time": "2022-03-15T08:03:20.907Z"
   },
   {
    "duration": 381966,
    "start_time": "2022-03-15T08:10:06.615Z"
   },
   {
    "duration": 13488,
    "start_time": "2022-03-15T08:16:49.786Z"
   },
   {
    "duration": -68,
    "start_time": "2022-03-15T08:17:03.345Z"
   },
   {
    "duration": -72,
    "start_time": "2022-03-15T08:17:03.352Z"
   },
   {
    "duration": 7,
    "start_time": "2022-03-15T08:17:04.537Z"
   },
   {
    "duration": 15,
    "start_time": "2022-03-15T08:17:06.314Z"
   },
   {
    "duration": 22,
    "start_time": "2022-03-15T08:17:08.174Z"
   },
   {
    "duration": -56,
    "start_time": "2022-03-15T08:19:36.235Z"
   },
   {
    "duration": 107942,
    "start_time": "2022-03-15T08:19:38.644Z"
   },
   {
    "duration": 105442,
    "start_time": "2022-03-15T08:22:09.774Z"
   },
   {
    "duration": 47659,
    "start_time": "2022-03-15T08:26:33.099Z"
   },
   {
    "duration": 232,
    "start_time": "2022-03-15T08:27:49.551Z"
   },
   {
    "duration": 5436,
    "start_time": "2022-03-15T08:28:49.943Z"
   },
   {
    "duration": 45636,
    "start_time": "2022-03-15T08:30:23.763Z"
   },
   {
    "duration": 349,
    "start_time": "2022-03-15T08:31:49.157Z"
   },
   {
    "duration": 11,
    "start_time": "2022-03-15T08:32:11.175Z"
   },
   {
    "duration": 21,
    "start_time": "2022-03-15T08:32:13.705Z"
   },
   {
    "duration": 4991,
    "start_time": "2022-03-15T08:32:47.091Z"
   },
   {
    "duration": 49944,
    "start_time": "2022-03-15T13:20:02.790Z"
   },
   {
    "duration": 5301,
    "start_time": "2022-03-15T13:21:43.160Z"
   },
   {
    "duration": 6,
    "start_time": "2022-03-15T13:24:43.056Z"
   },
   {
    "duration": 49662,
    "start_time": "2022-03-15T13:24:45.629Z"
   },
   {
    "duration": 16,
    "start_time": "2022-03-15T13:25:54.076Z"
   },
   {
    "duration": 49751,
    "start_time": "2022-03-15T13:25:59.303Z"
   },
   {
    "duration": 7,
    "start_time": "2022-03-15T13:26:56.320Z"
   },
   {
    "duration": 1773,
    "start_time": "2022-03-15T13:26:59.959Z"
   },
   {
    "duration": 1639,
    "start_time": "2022-03-15T13:27:17.836Z"
   },
   {
    "duration": 8,
    "start_time": "2022-03-15T13:27:34.932Z"
   },
   {
    "duration": 50083,
    "start_time": "2022-03-15T13:27:39.913Z"
   },
   {
    "duration": 8,
    "start_time": "2022-03-15T13:30:07.768Z"
   },
   {
    "duration": 49084,
    "start_time": "2022-03-15T13:30:10.436Z"
   },
   {
    "duration": 7,
    "start_time": "2022-03-15T13:43:35.930Z"
   },
   {
    "duration": 42911,
    "start_time": "2022-03-15T13:44:02.502Z"
   },
   {
    "duration": 4781,
    "start_time": "2022-03-15T13:46:12.827Z"
   },
   {
    "duration": 4776,
    "start_time": "2022-03-15T13:47:25.908Z"
   },
   {
    "duration": 43351,
    "start_time": "2022-03-15T13:50:28.906Z"
   },
   {
    "duration": 60,
    "start_time": "2022-03-15T14:38:28.938Z"
   },
   {
    "duration": 25,
    "start_time": "2022-03-15T14:52:33.693Z"
   },
   {
    "duration": 14739,
    "start_time": "2022-03-15T14:52:36.995Z"
   },
   {
    "duration": -75,
    "start_time": "2022-03-15T14:52:51.813Z"
   },
   {
    "duration": 58,
    "start_time": "2022-03-15T14:52:52.750Z"
   },
   {
    "duration": 23,
    "start_time": "2022-03-15T14:52:56.227Z"
   },
   {
    "duration": -48,
    "start_time": "2022-03-15T14:53:33.155Z"
   },
   {
    "duration": 6828,
    "start_time": "2022-03-15T14:53:35.858Z"
   },
   {
    "duration": 17,
    "start_time": "2022-03-15T14:54:39.617Z"
   },
   {
    "duration": 14,
    "start_time": "2022-03-15T14:54:45.467Z"
   },
   {
    "duration": 14,
    "start_time": "2022-03-15T14:54:50.996Z"
   },
   {
    "duration": 42,
    "start_time": "2022-03-15T14:55:25.908Z"
   },
   {
    "duration": 731,
    "start_time": "2022-03-15T14:59:45.550Z"
   },
   {
    "duration": 43943,
    "start_time": "2022-03-15T15:01:48.977Z"
   },
   {
    "duration": 4806,
    "start_time": "2022-03-15T15:02:32.924Z"
   },
   {
    "duration": 4934,
    "start_time": "2022-03-15T15:07:36.010Z"
   },
   {
    "duration": 4783,
    "start_time": "2022-03-15T15:08:02.819Z"
   },
   {
    "duration": 46,
    "start_time": "2022-03-15T15:08:51.940Z"
   },
   {
    "duration": 187,
    "start_time": "2022-03-15T15:08:57.269Z"
   },
   {
    "duration": 20,
    "start_time": "2022-03-15T15:09:05.282Z"
   },
   {
    "duration": 19,
    "start_time": "2022-03-15T15:09:15.148Z"
   },
   {
    "duration": 18,
    "start_time": "2022-03-15T15:09:31.145Z"
   },
   {
    "duration": 4919,
    "start_time": "2022-03-15T15:09:43.367Z"
   },
   {
    "duration": 11,
    "start_time": "2022-03-15T15:39:38.320Z"
   },
   {
    "duration": 1554,
    "start_time": "2022-03-15T15:39:51.089Z"
   },
   {
    "duration": 931,
    "start_time": "2022-03-15T15:39:52.645Z"
   },
   {
    "duration": 3,
    "start_time": "2022-03-15T15:39:53.579Z"
   },
   {
    "duration": 897,
    "start_time": "2022-03-15T15:39:53.585Z"
   },
   {
    "duration": 6,
    "start_time": "2022-03-15T15:39:54.484Z"
   },
   {
    "duration": 12,
    "start_time": "2022-03-15T15:39:54.492Z"
   },
   {
    "duration": 16,
    "start_time": "2022-03-15T15:39:54.507Z"
   },
   {
    "duration": 59,
    "start_time": "2022-03-15T15:39:54.527Z"
   },
   {
    "duration": 421,
    "start_time": "2022-03-15T15:39:54.591Z"
   },
   {
    "duration": 112,
    "start_time": "2022-03-15T15:39:55.014Z"
   },
   {
    "duration": 90,
    "start_time": "2022-03-15T15:39:55.128Z"
   },
   {
    "duration": 3921,
    "start_time": "2022-03-15T15:39:55.220Z"
   },
   {
    "duration": 1634,
    "start_time": "2022-03-15T15:39:59.144Z"
   },
   {
    "duration": 8,
    "start_time": "2022-03-15T15:40:00.780Z"
   },
   {
    "duration": 1429,
    "start_time": "2022-03-15T15:40:00.791Z"
   },
   {
    "duration": 122,
    "start_time": "2022-03-15T15:40:02.222Z"
   },
   {
    "duration": 26,
    "start_time": "2022-03-15T15:40:02.347Z"
   },
   {
    "duration": 21,
    "start_time": "2022-03-15T15:40:02.375Z"
   },
   {
    "duration": 34,
    "start_time": "2022-03-15T15:40:02.398Z"
   },
   {
    "duration": 1488182,
    "start_time": "2022-03-15T15:40:02.434Z"
   },
   {
    "duration": 10,
    "start_time": "2022-03-15T16:04:50.619Z"
   },
   {
    "duration": 14,
    "start_time": "2022-03-15T16:04:50.632Z"
   },
   {
    "duration": 1955,
    "start_time": "2022-03-15T16:04:55.592Z"
   },
   {
    "duration": 1488,
    "start_time": "2022-03-16T06:49:32.514Z"
   },
   {
    "duration": 831,
    "start_time": "2022-03-16T06:49:34.004Z"
   },
   {
    "duration": 2,
    "start_time": "2022-03-16T06:49:34.839Z"
   },
   {
    "duration": 724,
    "start_time": "2022-03-16T06:49:34.844Z"
   },
   {
    "duration": 11,
    "start_time": "2022-03-16T06:49:35.571Z"
   },
   {
    "duration": 10,
    "start_time": "2022-03-16T06:49:35.585Z"
   },
   {
    "duration": 15,
    "start_time": "2022-03-16T06:49:35.598Z"
   },
   {
    "duration": 19,
    "start_time": "2022-03-16T06:49:35.618Z"
   },
   {
    "duration": 382,
    "start_time": "2022-03-16T06:49:35.684Z"
   },
   {
    "duration": 123,
    "start_time": "2022-03-16T06:49:36.069Z"
   },
   {
    "duration": 70,
    "start_time": "2022-03-16T06:49:36.195Z"
   },
   {
    "duration": 3054,
    "start_time": "2022-03-16T06:49:36.283Z"
   },
   {
    "duration": 1604,
    "start_time": "2022-03-16T06:49:39.340Z"
   },
   {
    "duration": 8,
    "start_time": "2022-03-16T06:49:40.947Z"
   },
   {
    "duration": 1313,
    "start_time": "2022-03-16T06:49:40.958Z"
   },
   {
    "duration": 130,
    "start_time": "2022-03-16T06:49:42.274Z"
   },
   {
    "duration": 8,
    "start_time": "2022-03-16T06:49:42.407Z"
   },
   {
    "duration": 31,
    "start_time": "2022-03-16T06:49:42.418Z"
   },
   {
    "duration": 48,
    "start_time": "2022-03-16T06:49:42.452Z"
   },
   {
    "duration": 1423365,
    "start_time": "2022-03-16T06:49:42.502Z"
   },
   {
    "duration": 18,
    "start_time": "2022-03-16T07:13:25.870Z"
   },
   {
    "duration": 14,
    "start_time": "2022-03-16T07:13:25.890Z"
   },
   {
    "duration": 30,
    "start_time": "2022-03-16T07:13:25.909Z"
   },
   {
    "duration": 6,
    "start_time": "2022-03-16T07:13:25.941Z"
   },
   {
    "duration": 1689,
    "start_time": "2022-03-16T07:13:25.949Z"
   },
   {
    "duration": 8,
    "start_time": "2022-03-16T07:13:27.641Z"
   },
   {
    "duration": 2405,
    "start_time": "2022-03-18T04:00:10.926Z"
   },
   {
    "duration": 916,
    "start_time": "2022-03-18T04:00:13.334Z"
   },
   {
    "duration": 3,
    "start_time": "2022-03-18T04:00:14.252Z"
   },
   {
    "duration": 664,
    "start_time": "2022-03-18T04:00:14.258Z"
   },
   {
    "duration": 7,
    "start_time": "2022-03-18T04:00:14.924Z"
   },
   {
    "duration": 10,
    "start_time": "2022-03-18T04:00:14.934Z"
   },
   {
    "duration": 13,
    "start_time": "2022-03-18T04:00:14.975Z"
   },
   {
    "duration": 19,
    "start_time": "2022-03-18T04:00:14.990Z"
   },
   {
    "duration": 449,
    "start_time": "2022-03-18T04:00:15.011Z"
   },
   {
    "duration": 111,
    "start_time": "2022-03-18T04:00:15.463Z"
   },
   {
    "duration": 110,
    "start_time": "2022-03-18T04:00:19.391Z"
   },
   {
    "duration": 13315,
    "start_time": "2022-03-18T04:00:45.586Z"
   },
   {
    "duration": 90,
    "start_time": "2022-03-18T04:01:24.291Z"
   },
   {
    "duration": 13774,
    "start_time": "2022-03-18T04:01:38.604Z"
   },
   {
    "duration": 87,
    "start_time": "2022-03-18T04:02:12.363Z"
   },
   {
    "duration": 162,
    "start_time": "2022-03-18T04:02:20.825Z"
   },
   {
    "duration": 18561,
    "start_time": "2022-03-18T04:05:46.387Z"
   },
   {
    "duration": 98,
    "start_time": "2022-03-18T04:06:06.711Z"
   },
   {
    "duration": 87,
    "start_time": "2022-03-18T04:06:31.218Z"
   },
   {
    "duration": 7,
    "start_time": "2022-03-18T04:08:58.561Z"
   },
   {
    "duration": 8,
    "start_time": "2022-03-18T04:09:09.854Z"
   },
   {
    "duration": 7,
    "start_time": "2022-03-18T04:09:22.739Z"
   },
   {
    "duration": 7,
    "start_time": "2022-03-18T04:09:39.200Z"
   },
   {
    "duration": 6,
    "start_time": "2022-03-18T04:09:46.127Z"
   },
   {
    "duration": 17470,
    "start_time": "2022-03-18T04:09:55.356Z"
   },
   {
    "duration": 14,
    "start_time": "2022-03-18T04:11:03.780Z"
   },
   {
    "duration": 13,
    "start_time": "2022-03-18T04:11:52.700Z"
   },
   {
    "duration": 28,
    "start_time": "2022-03-18T04:12:06.703Z"
   },
   {
    "duration": 14,
    "start_time": "2022-03-18T04:12:24.621Z"
   },
   {
    "duration": 1772,
    "start_time": "2022-03-18T04:13:38.002Z"
   },
   {
    "duration": 1687,
    "start_time": "2022-03-18T04:19:02.490Z"
   },
   {
    "duration": 1606,
    "start_time": "2022-03-18T04:19:58.590Z"
   },
   {
    "duration": 1619,
    "start_time": "2022-03-18T04:26:11.260Z"
   },
   {
    "duration": 1912,
    "start_time": "2022-03-18T04:26:36.219Z"
   },
   {
    "duration": 6,
    "start_time": "2022-03-18T04:31:24.810Z"
   },
   {
    "duration": 63,
    "start_time": "2022-03-18T05:17:00.618Z"
   },
   {
    "duration": 1700,
    "start_time": "2022-03-18T05:18:46.106Z"
   },
   {
    "duration": 1654,
    "start_time": "2022-03-18T05:19:12.900Z"
   },
   {
    "duration": 13,
    "start_time": "2022-03-18T05:21:33.614Z"
   },
   {
    "duration": 19,
    "start_time": "2022-03-18T05:21:44.126Z"
   },
   {
    "duration": 17,
    "start_time": "2022-03-18T05:21:50.797Z"
   },
   {
    "duration": 18,
    "start_time": "2022-03-18T05:21:58.022Z"
   },
   {
    "duration": 40,
    "start_time": "2022-03-18T05:22:11.188Z"
   },
   {
    "duration": 138,
    "start_time": "2022-03-18T05:22:19.320Z"
   },
   {
    "duration": 1337,
    "start_time": "2022-03-18T05:37:38.587Z"
   },
   {
    "duration": 6,
    "start_time": "2022-03-18T05:47:36.532Z"
   },
   {
    "duration": 915,
    "start_time": "2022-03-18T05:47:36.541Z"
   },
   {
    "duration": 3,
    "start_time": "2022-03-18T05:47:37.458Z"
   },
   {
    "duration": 553,
    "start_time": "2022-03-18T05:47:37.477Z"
   },
   {
    "duration": 8,
    "start_time": "2022-03-18T05:47:38.032Z"
   },
   {
    "duration": 14,
    "start_time": "2022-03-18T05:47:38.042Z"
   },
   {
    "duration": 17,
    "start_time": "2022-03-18T05:47:38.075Z"
   },
   {
    "duration": 23,
    "start_time": "2022-03-18T05:47:38.094Z"
   },
   {
    "duration": 443,
    "start_time": "2022-03-18T05:47:38.122Z"
   },
   {
    "duration": 112,
    "start_time": "2022-03-18T05:47:38.573Z"
   },
   {
    "duration": 140,
    "start_time": "2022-03-18T05:47:38.688Z"
   },
   {
    "duration": 3,
    "start_time": "2022-03-18T05:47:38.831Z"
   },
   {
    "duration": 2472,
    "start_time": "2022-03-18T05:47:38.836Z"
   },
   {
    "duration": 1205,
    "start_time": "2022-03-18T05:47:41.310Z"
   },
   {
    "duration": 8,
    "start_time": "2022-03-18T05:47:42.517Z"
   },
   {
    "duration": 1026,
    "start_time": "2022-03-18T05:47:42.528Z"
   },
   {
    "duration": 134,
    "start_time": "2022-03-18T05:47:43.556Z"
   },
   {
    "duration": 8,
    "start_time": "2022-03-18T05:47:43.692Z"
   },
   {
    "duration": 16,
    "start_time": "2022-03-18T05:47:43.703Z"
   },
   {
    "duration": 59,
    "start_time": "2022-03-18T05:47:43.722Z"
   },
   {
    "duration": 14,
    "start_time": "2022-03-18T05:49:12.920Z"
   },
   {
    "duration": 6,
    "start_time": "2022-03-18T05:49:47.161Z"
   },
   {
    "duration": 939,
    "start_time": "2022-03-18T05:49:47.170Z"
   },
   {
    "duration": 4,
    "start_time": "2022-03-18T05:49:48.112Z"
   },
   {
    "duration": 551,
    "start_time": "2022-03-18T05:49:48.119Z"
   },
   {
    "duration": 8,
    "start_time": "2022-03-18T05:49:48.672Z"
   },
   {
    "duration": 11,
    "start_time": "2022-03-18T05:49:48.682Z"
   },
   {
    "duration": 13,
    "start_time": "2022-03-18T05:49:48.696Z"
   },
   {
    "duration": 19,
    "start_time": "2022-03-18T05:49:48.711Z"
   },
   {
    "duration": 423,
    "start_time": "2022-03-18T05:49:48.777Z"
   },
   {
    "duration": 143,
    "start_time": "2022-03-18T05:49:49.203Z"
   },
   {
    "duration": 230,
    "start_time": "2022-03-18T05:49:49.350Z"
   },
   {
    "duration": 4,
    "start_time": "2022-03-18T05:49:49.582Z"
   },
   {
    "duration": 2479,
    "start_time": "2022-03-18T05:49:49.589Z"
   },
   {
    "duration": 1182,
    "start_time": "2022-03-18T05:49:52.074Z"
   },
   {
    "duration": 18,
    "start_time": "2022-03-18T05:49:53.258Z"
   },
   {
    "duration": 1079,
    "start_time": "2022-03-18T05:49:53.278Z"
   },
   {
    "duration": 127,
    "start_time": "2022-03-18T05:49:54.359Z"
   },
   {
    "duration": 7,
    "start_time": "2022-03-18T05:49:54.488Z"
   },
   {
    "duration": 18,
    "start_time": "2022-03-18T05:49:54.497Z"
   },
   {
    "duration": 27,
    "start_time": "2022-03-18T05:49:54.517Z"
   },
   {
    "duration": 1568574,
    "start_time": "2022-03-18T05:49:54.547Z"
   },
   {
    "duration": 10,
    "start_time": "2022-03-18T06:16:03.123Z"
   },
   {
    "duration": 41,
    "start_time": "2022-03-18T06:16:03.136Z"
   },
   {
    "duration": 30,
    "start_time": "2022-03-18T06:16:03.182Z"
   },
   {
    "duration": 14,
    "start_time": "2022-03-18T06:23:06.725Z"
   },
   {
    "duration": 10,
    "start_time": "2022-03-18T06:23:12.220Z"
   },
   {
    "duration": 15,
    "start_time": "2022-03-18T06:23:14.487Z"
   },
   {
    "duration": 30,
    "start_time": "2022-03-18T06:23:17.919Z"
   },
   {
    "duration": 8,
    "start_time": "2022-03-18T06:23:20.577Z"
   },
   {
    "duration": 4463,
    "start_time": "2022-03-18T06:23:22.457Z"
   },
   {
    "duration": 9,
    "start_time": "2022-03-18T06:23:40.625Z"
   },
   {
    "duration": 6,
    "start_time": "2022-03-18T07:21:44.532Z"
   },
   {
    "duration": 881,
    "start_time": "2022-03-18T07:21:44.541Z"
   },
   {
    "duration": 3,
    "start_time": "2022-03-18T07:21:45.424Z"
   },
   {
    "duration": 522,
    "start_time": "2022-03-18T07:21:45.430Z"
   },
   {
    "duration": 8,
    "start_time": "2022-03-18T07:21:45.954Z"
   },
   {
    "duration": 8,
    "start_time": "2022-03-18T07:21:45.973Z"
   },
   {
    "duration": 10,
    "start_time": "2022-03-18T07:21:45.983Z"
   },
   {
    "duration": 17,
    "start_time": "2022-03-18T07:21:45.995Z"
   },
   {
    "duration": 457,
    "start_time": "2022-03-18T07:21:46.020Z"
   },
   {
    "duration": 116,
    "start_time": "2022-03-18T07:21:46.479Z"
   },
   {
    "duration": 150,
    "start_time": "2022-03-18T07:21:46.597Z"
   },
   {
    "duration": 4,
    "start_time": "2022-03-18T07:21:46.749Z"
   },
   {
    "duration": 2348,
    "start_time": "2022-03-18T07:21:46.773Z"
   },
   {
    "duration": 1149,
    "start_time": "2022-03-18T07:21:49.123Z"
   },
   {
    "duration": 9,
    "start_time": "2022-03-18T07:21:50.274Z"
   },
   {
    "duration": 1055,
    "start_time": "2022-03-18T07:21:50.285Z"
   },
   {
    "duration": 117,
    "start_time": "2022-03-18T07:21:51.343Z"
   },
   {
    "duration": 8,
    "start_time": "2022-03-18T07:21:51.474Z"
   },
   {
    "duration": 21,
    "start_time": "2022-03-18T07:21:51.484Z"
   },
   {
    "duration": 18,
    "start_time": "2022-03-18T07:21:51.507Z"
   },
   {
    "duration": 98,
    "start_time": "2022-03-18T07:21:57.010Z"
   },
   {
    "duration": 1985,
    "start_time": "2022-03-18T07:22:34.190Z"
   },
   {
    "duration": 8244,
    "start_time": "2022-03-18T07:28:38.730Z"
   },
   {
    "duration": 5962,
    "start_time": "2022-03-18T07:29:15.182Z"
   },
   {
    "duration": 6963,
    "start_time": "2022-03-18T07:31:59.888Z"
   },
   {
    "duration": 0,
    "start_time": "2022-03-18T07:32:56.519Z"
   },
   {
    "duration": 2078,
    "start_time": "2022-03-18T07:33:58.617Z"
   },
   {
    "duration": 1064,
    "start_time": "2022-03-18T07:34:00.698Z"
   },
   {
    "duration": 3,
    "start_time": "2022-03-18T07:34:01.764Z"
   },
   {
    "duration": 661,
    "start_time": "2022-03-18T07:34:01.775Z"
   },
   {
    "duration": 8,
    "start_time": "2022-03-18T07:34:02.438Z"
   },
   {
    "duration": 30,
    "start_time": "2022-03-18T07:34:02.448Z"
   },
   {
    "duration": 13,
    "start_time": "2022-03-18T07:34:02.481Z"
   },
   {
    "duration": 17,
    "start_time": "2022-03-18T07:34:02.497Z"
   },
   {
    "duration": 451,
    "start_time": "2022-03-18T07:34:02.516Z"
   },
   {
    "duration": 110,
    "start_time": "2022-03-18T07:34:02.977Z"
   },
   {
    "duration": 158,
    "start_time": "2022-03-18T07:34:03.090Z"
   },
   {
    "duration": 8,
    "start_time": "2022-03-18T07:34:03.250Z"
   },
   {
    "duration": 2351,
    "start_time": "2022-03-18T07:34:03.274Z"
   },
   {
    "duration": 1415,
    "start_time": "2022-03-18T07:34:05.627Z"
   },
   {
    "duration": 8,
    "start_time": "2022-03-18T07:34:07.044Z"
   },
   {
    "duration": 923,
    "start_time": "2022-03-18T07:34:07.054Z"
   },
   {
    "duration": 160,
    "start_time": "2022-03-18T07:34:07.979Z"
   },
   {
    "duration": 7,
    "start_time": "2022-03-18T07:34:08.141Z"
   },
   {
    "duration": 20,
    "start_time": "2022-03-18T07:34:08.151Z"
   },
   {
    "duration": 7,
    "start_time": "2022-03-18T07:34:08.174Z"
   },
   {
    "duration": 1552291,
    "start_time": "2022-03-18T07:34:08.183Z"
   },
   {
    "duration": 10,
    "start_time": "2022-03-18T08:00:00.476Z"
   },
   {
    "duration": 20,
    "start_time": "2022-03-18T08:00:00.489Z"
   },
   {
    "duration": 38,
    "start_time": "2022-03-18T08:00:00.511Z"
   },
   {
    "duration": 43,
    "start_time": "2022-03-18T08:00:00.551Z"
   },
   {
    "duration": 4660,
    "start_time": "2022-03-18T08:00:00.596Z"
   },
   {
    "duration": 175,
    "start_time": "2022-03-18T08:00:05.258Z"
   },
   {
    "duration": 9,
    "start_time": "2022-03-18T08:48:04.249Z"
   }
  ],
  "kernelspec": {
   "display_name": "Python 3",
   "language": "python",
   "name": "python3"
  },
  "language_info": {
   "codemirror_mode": {
    "name": "ipython",
    "version": 3
   },
   "file_extension": ".py",
   "mimetype": "text/x-python",
   "name": "python",
   "nbconvert_exporter": "python",
   "pygments_lexer": "ipython3",
   "version": "3.6.2"
  },
  "toc": {
   "base_numbering": 1,
   "nav_menu": {},
   "number_sections": true,
   "sideBar": true,
   "skip_h1_title": true,
   "title_cell": "Содержание",
   "title_sidebar": "Contents",
   "toc_cell": true,
   "toc_position": {
    "height": "calc(100% - 180px)",
    "left": "10px",
    "top": "150px",
    "width": "366.391px"
   },
   "toc_section_display": true,
   "toc_window_display": true
  }
 },
 "nbformat": 4,
 "nbformat_minor": 2
}
