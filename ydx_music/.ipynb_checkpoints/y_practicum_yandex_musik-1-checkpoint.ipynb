{
 "cells": [
  {
   "cell_type": "markdown",
   "metadata": {
    "id": "E0vqbgi9ay0H"
   },
   "source": [
    "# Яндекс.Музыка"
   ]
  },
  {
   "cell_type": "markdown",
   "metadata": {
    "id": "VUC88oWjTJw2"
   },
   "source": [
    "Сравнение Москвы и Петербурга окружено мифами. Например:\n",
    " * Москва — мегаполис, подчинённый жёсткому ритму рабочей недели;\n",
    " * Петербург — культурная столица, со своими вкусами.\n",
    "\n",
    "На данных Яндекс.Музыки вы сравните поведение пользователей двух столиц.\n",
    "\n",
    "**Цель исследования** — проверьте три гипотезы:\n",
    "1. Активность пользователей зависит от дня недели. Причём в Москве и Петербурге это проявляется по-разному.\n",
    "2. В понедельник утром в Москве преобладают одни жанры, а в Петербурге — другие. Так же и вечером пятницы преобладают разные жанры — в зависимости от города. \n",
    "3. Москва и Петербург предпочитают разные жанры музыки. В Москве чаще слушают поп-музыку, в Петербурге — русский рэп.\n",
    "\n",
    "**Ход исследования**\n",
    "\n",
    "Данные о поведении пользователей вы получите из файла `yandex_music_project.csv`. О качестве данных ничего не известно. Поэтому перед проверкой гипотез понадобится обзор данных. \n",
    "\n",
    "Вы проверите данные на ошибки и оцените их влияние на исследование. Затем, на этапе предобработки вы поищете возможность исправить самые критичные ошибки данных.\n",
    " \n",
    "Таким образом, исследование пройдёт в три этапа:\n",
    " 1. Обзор данных.\n",
    " 2. Предобработка данных.\n",
    " 3. Проверка гипотез.\n",
    "\n"
   ]
  },
  {
   "cell_type": "markdown",
   "metadata": {
    "id": "Ml1hmfXC_Zcs"
   },
   "source": [
    "## Обзор данных\n",
    "\n",
    "Составьте первое представление о данных Яндекс.Музыки.\n",
    "\n",
    "\n"
   ]
  },
  {
   "cell_type": "markdown",
   "metadata": {
    "id": "57eAOGIz_Zcs"
   },
   "source": [
    "Основной инструмент аналитика — `pandas`. Импортируйте эту библиотеку."
   ]
  },
  {
   "cell_type": "code",
   "execution_count": 5,
   "metadata": {
    "collapsed": true,
    "id": "AXN7PHPN_Zcs"
   },
   "outputs": [],
   "source": [
    "import pandas as pd"
   ]
  },
  {
   "cell_type": "markdown",
   "metadata": {
    "id": "SG23P8tt_Zcs"
   },
   "source": [
    "Прочитайте файл `yandex_music_project.csv` из папки `/datasets` и сохраните его в переменной `df`:"
   ]
  },
  {
   "cell_type": "code",
   "execution_count": 6,
   "metadata": {
    "collapsed": true,
    "id": "fFVu7vqh_Zct"
   },
   "outputs": [],
   "source": [
    "df = pd.read_csv('/datasets/yandex_music_project.csv')"
   ]
  },
  {
   "cell_type": "code",
   "execution_count": 7,
   "metadata": {
    "collapsed": true
   },
   "outputs": [],
   "source": [
    "# df.to_csv('ya_music.csv')"
   ]
  },
  {
   "cell_type": "markdown",
   "metadata": {
    "id": "rDoOMd3uTqnZ"
   },
   "source": [
    "Выведите на экран первые десять строк таблицы:"
   ]
  },
  {
   "cell_type": "code",
   "execution_count": 8,
   "metadata": {
    "id": "oWTVX3gW_Zct",
    "scrolled": true
   },
   "outputs": [
    {
     "data": {
      "text/html": [
       "<div>\n",
       "<style scoped>\n",
       "    .dataframe tbody tr th:only-of-type {\n",
       "        vertical-align: middle;\n",
       "    }\n",
       "\n",
       "    .dataframe tbody tr th {\n",
       "        vertical-align: top;\n",
       "    }\n",
       "\n",
       "    .dataframe thead th {\n",
       "        text-align: right;\n",
       "    }\n",
       "</style>\n",
       "<table border=\"1\" class=\"dataframe\">\n",
       "  <thead>\n",
       "    <tr style=\"text-align: right;\">\n",
       "      <th></th>\n",
       "      <th>userID</th>\n",
       "      <th>Track</th>\n",
       "      <th>artist</th>\n",
       "      <th>genre</th>\n",
       "      <th>City</th>\n",
       "      <th>time</th>\n",
       "      <th>Day</th>\n",
       "    </tr>\n",
       "  </thead>\n",
       "  <tbody>\n",
       "    <tr>\n",
       "      <td>0</td>\n",
       "      <td>FFB692EC</td>\n",
       "      <td>Kamigata To Boots</td>\n",
       "      <td>The Mass Missile</td>\n",
       "      <td>rock</td>\n",
       "      <td>Saint-Petersburg</td>\n",
       "      <td>20:28:33</td>\n",
       "      <td>Wednesday</td>\n",
       "    </tr>\n",
       "    <tr>\n",
       "      <td>1</td>\n",
       "      <td>55204538</td>\n",
       "      <td>Delayed Because of Accident</td>\n",
       "      <td>Andreas Rönnberg</td>\n",
       "      <td>rock</td>\n",
       "      <td>Moscow</td>\n",
       "      <td>14:07:09</td>\n",
       "      <td>Friday</td>\n",
       "    </tr>\n",
       "    <tr>\n",
       "      <td>2</td>\n",
       "      <td>20EC38</td>\n",
       "      <td>Funiculì funiculà</td>\n",
       "      <td>Mario Lanza</td>\n",
       "      <td>pop</td>\n",
       "      <td>Saint-Petersburg</td>\n",
       "      <td>20:58:07</td>\n",
       "      <td>Wednesday</td>\n",
       "    </tr>\n",
       "    <tr>\n",
       "      <td>3</td>\n",
       "      <td>A3DD03C9</td>\n",
       "      <td>Dragons in the Sunset</td>\n",
       "      <td>Fire + Ice</td>\n",
       "      <td>folk</td>\n",
       "      <td>Saint-Petersburg</td>\n",
       "      <td>08:37:09</td>\n",
       "      <td>Monday</td>\n",
       "    </tr>\n",
       "    <tr>\n",
       "      <td>4</td>\n",
       "      <td>E2DC1FAE</td>\n",
       "      <td>Soul People</td>\n",
       "      <td>Space Echo</td>\n",
       "      <td>dance</td>\n",
       "      <td>Moscow</td>\n",
       "      <td>08:34:34</td>\n",
       "      <td>Monday</td>\n",
       "    </tr>\n",
       "    <tr>\n",
       "      <td>5</td>\n",
       "      <td>842029A1</td>\n",
       "      <td>Преданная</td>\n",
       "      <td>IMPERVTOR</td>\n",
       "      <td>rusrap</td>\n",
       "      <td>Saint-Petersburg</td>\n",
       "      <td>13:09:41</td>\n",
       "      <td>Friday</td>\n",
       "    </tr>\n",
       "    <tr>\n",
       "      <td>6</td>\n",
       "      <td>4CB90AA5</td>\n",
       "      <td>True</td>\n",
       "      <td>Roman Messer</td>\n",
       "      <td>dance</td>\n",
       "      <td>Moscow</td>\n",
       "      <td>13:00:07</td>\n",
       "      <td>Wednesday</td>\n",
       "    </tr>\n",
       "    <tr>\n",
       "      <td>7</td>\n",
       "      <td>F03E1C1F</td>\n",
       "      <td>Feeling This Way</td>\n",
       "      <td>Polina Griffith</td>\n",
       "      <td>dance</td>\n",
       "      <td>Moscow</td>\n",
       "      <td>20:47:49</td>\n",
       "      <td>Wednesday</td>\n",
       "    </tr>\n",
       "    <tr>\n",
       "      <td>8</td>\n",
       "      <td>8FA1D3BE</td>\n",
       "      <td>И вновь продолжается бой</td>\n",
       "      <td>NaN</td>\n",
       "      <td>ruspop</td>\n",
       "      <td>Moscow</td>\n",
       "      <td>09:17:40</td>\n",
       "      <td>Friday</td>\n",
       "    </tr>\n",
       "    <tr>\n",
       "      <td>9</td>\n",
       "      <td>E772D5C0</td>\n",
       "      <td>Pessimist</td>\n",
       "      <td>NaN</td>\n",
       "      <td>dance</td>\n",
       "      <td>Saint-Petersburg</td>\n",
       "      <td>21:20:49</td>\n",
       "      <td>Wednesday</td>\n",
       "    </tr>\n",
       "  </tbody>\n",
       "</table>\n",
       "</div>"
      ],
      "text/plain": [
       "     userID                        Track            artist   genre  \\\n",
       "0  FFB692EC            Kamigata To Boots  The Mass Missile    rock   \n",
       "1  55204538  Delayed Because of Accident  Andreas Rönnberg    rock   \n",
       "2    20EC38            Funiculì funiculà       Mario Lanza     pop   \n",
       "3  A3DD03C9        Dragons in the Sunset        Fire + Ice    folk   \n",
       "4  E2DC1FAE                  Soul People        Space Echo   dance   \n",
       "5  842029A1                    Преданная         IMPERVTOR  rusrap   \n",
       "6  4CB90AA5                         True      Roman Messer   dance   \n",
       "7  F03E1C1F             Feeling This Way   Polina Griffith   dance   \n",
       "8  8FA1D3BE     И вновь продолжается бой               NaN  ruspop   \n",
       "9  E772D5C0                    Pessimist               NaN   dance   \n",
       "\n",
       "             City        time        Day  \n",
       "0  Saint-Petersburg  20:28:33  Wednesday  \n",
       "1            Moscow  14:07:09     Friday  \n",
       "2  Saint-Petersburg  20:58:07  Wednesday  \n",
       "3  Saint-Petersburg  08:37:09     Monday  \n",
       "4            Moscow  08:34:34     Monday  \n",
       "5  Saint-Petersburg  13:09:41     Friday  \n",
       "6            Moscow  13:00:07  Wednesday  \n",
       "7            Moscow  20:47:49  Wednesday  \n",
       "8            Moscow  09:17:40     Friday  \n",
       "9  Saint-Petersburg  21:20:49  Wednesday  "
      ]
     },
     "execution_count": 8,
     "metadata": {},
     "output_type": "execute_result"
    }
   ],
   "source": [
    "df.head(10)   # получение первых 10 строк таблицы df"
   ]
  },
  {
   "cell_type": "markdown",
   "metadata": {
    "id": "EO73Kwic_Zct"
   },
   "source": [
    "Одной командой получить общую информацию о таблице:"
   ]
  },
  {
   "cell_type": "code",
   "execution_count": 4,
   "metadata": {
    "id": "DSf2kIb-_Zct",
    "scrolled": true
   },
   "outputs": [
    {
     "name": "stdout",
     "output_type": "stream",
     "text": [
      "<class 'pandas.core.frame.DataFrame'>\n",
      "RangeIndex: 65079 entries, 0 to 65078\n",
      "Data columns (total 7 columns):\n",
      "  userID    65079 non-null object\n",
      "Track       63848 non-null object\n",
      "artist      57876 non-null object\n",
      "genre       63881 non-null object\n",
      "  City      65079 non-null object\n",
      "time        65079 non-null object\n",
      "Day         65079 non-null object\n",
      "dtypes: object(7)\n",
      "memory usage: 3.5+ MB\n"
     ]
    }
   ],
   "source": [
    "df.info()"
   ]
  },
  {
   "cell_type": "markdown",
   "metadata": {
    "id": "TaQ2Iwbr_Zct"
   },
   "source": [
    "Итак, в таблице семь столбцов. Тип данных во всех столбцах — `object`.\n",
    "\n",
    "Согласно документации к данным:\n",
    "* `userID` — идентификатор пользователя;\n",
    "* `Track` — название трека;  \n",
    "* `artist` — имя исполнителя;\n",
    "* `genre` — название жанра;\n",
    "* `City` — город пользователя;\n",
    "* `time` — время начала прослушивания;\n",
    "* `Day` — день недели.\n",
    "\n",
    "В названиях колонок видны три нарушения стиля:\n",
    "1. Строчные буквы сочетаются с прописными.\n",
    "2. Встречаются пробелы.\n",
    "3. Встречается верблюжий регистр, лучше сменить его на змеиный userID -> user_id\n",
    "\n",
    "\n",
    "\n",
    "Количество значений в столбцах различается. Значит, в данных есть пропущенные значения.\n"
   ]
  },
  {
   "cell_type": "markdown",
   "metadata": {
    "id": "MCB6-dXG_Zct"
   },
   "source": [
    "**Выводы**\n",
    "\n",
    "В каждой строке таблицы — данные о прослушанном треке. Часть колонок описывает саму композицию: название, исполнителя и жанр. Остальные данные рассказывают о пользователе: из какого он города, когда он слушал музыку. \n",
    "\n",
    "Предварительно можно утверждать, что, данных достаточно для проверки гипотез. Но встречаются пропуски в данных, а в названиях колонок — расхождения с хорошим стилем.\n",
    "\n",
    "Чтобы двигаться дальше, нужно устранить проблемы в данных."
   ]
  },
  {
   "cell_type": "markdown",
   "metadata": {
    "id": "SjYF6Ub9_Zct"
   },
   "source": [
    "## Предобработка данных\n",
    "Исправьте стиль в заголовках столбцов, исключите пропуски. Затем проверьте данные на дубликаты."
   ]
  },
  {
   "cell_type": "markdown",
   "metadata": {
    "id": "dIaKXr29_Zct"
   },
   "source": [
    "### Стиль заголовков\n",
    "Выведите на экран названия столбцов:"
   ]
  },
  {
   "cell_type": "code",
   "execution_count": 5,
   "metadata": {
    "id": "oKOTdF_Q_Zct",
    "scrolled": true
   },
   "outputs": [
    {
     "data": {
      "text/plain": [
       "Index(['  userID', 'Track', 'artist', 'genre', '  City  ', 'time', 'Day'], dtype='object')"
      ]
     },
     "execution_count": 5,
     "metadata": {},
     "output_type": "execute_result"
    }
   ],
   "source": [
    "df.columns"
   ]
  },
  {
   "cell_type": "markdown",
   "metadata": {
    "id": "zj5534cv_Zct"
   },
   "source": [
    "Приведите названия в соответствие с хорошим стилем:\n",
    "* несколько слов в названии запишите в «змеином_регистре»,\n",
    "* все символы сделайте строчными,\n",
    "* устраните пробелы.\n",
    "\n",
    "Для этого переименуйте колонки так:\n",
    "* `'  userID'` → `'user_id'`;\n",
    "* `'Track'` → `'track'`;\n",
    "* `'  City  '` → `'city'`;\n",
    "* `'Day'` → `'day'`."
   ]
  },
  {
   "cell_type": "code",
   "execution_count": 6,
   "metadata": {
    "collapsed": true,
    "id": "ISlFqs5y_Zct"
   },
   "outputs": [],
   "source": [
    "df = df.rename(columns={'  userID':'user_id', 'Track':'track', '  City  ':'city', 'Day':'day'})\n",
    "# df.head(4)"
   ]
  },
  {
   "cell_type": "markdown",
   "metadata": {
    "id": "1dqbh00J_Zct"
   },
   "source": [
    "Проверьте результат. Для этого ещё раз выведите на экран названия столбцов:"
   ]
  },
  {
   "cell_type": "code",
   "execution_count": 7,
   "metadata": {
    "id": "d4NOAmTW_Zct"
   },
   "outputs": [
    {
     "data": {
      "text/plain": [
       "Index(['user_id', 'track', 'artist', 'genre', 'city', 'time', 'day'], dtype='object')"
      ]
     },
     "execution_count": 7,
     "metadata": {},
     "output_type": "execute_result"
    }
   ],
   "source": [
    "df.columns"
   ]
  },
  {
   "cell_type": "markdown",
   "metadata": {
    "id": "5ISfbcfY_Zct"
   },
   "source": [
    "### Пропуски значений\n",
    "Сначала посчитайте, сколько в таблице пропущенных значений. Для этого достаточно двух методов `pandas`:"
   ]
  },
  {
   "cell_type": "code",
   "execution_count": 8,
   "metadata": {
    "id": "RskX29qr_Zct"
   },
   "outputs": [
    {
     "data": {
      "text/plain": [
       "user_id       0\n",
       "track      1231\n",
       "artist     7203\n",
       "genre      1198\n",
       "city          0\n",
       "time          0\n",
       "day           0\n",
       "dtype: int64"
      ]
     },
     "execution_count": 8,
     "metadata": {},
     "output_type": "execute_result"
    }
   ],
   "source": [
    "df.isna().sum()"
   ]
  },
  {
   "cell_type": "markdown",
   "metadata": {
    "id": "qubhgnlO_Zct"
   },
   "source": [
    "Не все пропущенные значения влияют на исследование. Так в `track` и `artist` пропуски не важны для вашей работы. Достаточно заменить их явными обозначениями.\n",
    "\n",
    "Но пропуски в `genre` могут помешать сравнению музыкальных вкусов в Москве и Санкт-Петербурге. На практике было бы правильно установить причину пропусков и восстановить данные. Такой возможности нет в учебном проекте. Придётся:\n",
    "* заполнить и эти пропуски явными обозначениями,\n",
    "* оценить, насколько они повредят расчётам. "
   ]
  },
  {
   "cell_type": "markdown",
   "metadata": {
    "id": "fSv2laPA_Zct"
   },
   "source": [
    "Замените пропущенные значения в столбцах `track`, `artist` и `genre` на строку `'unknown'`. Для этого создайте список `columns_to_replace`, переберите его элементы циклом `for` и для каждого столбца выполните замену пропущенных значений:"
   ]
  },
  {
   "cell_type": "code",
   "execution_count": 41,
   "metadata": {
    "collapsed": true,
    "id": "KplB5qWs_Zct",
    "scrolled": true
   },
   "outputs": [],
   "source": [
    "columns_to_replace = ['track', 'artist', 'genre']\n",
    "for column in columns_to_replace:\n",
    "    df[column] = df[column].fillna('unknown')\n",
    "\n"
   ]
  },
  {
   "cell_type": "markdown",
   "metadata": {
    "id": "Ilsm-MZo_Zct"
   },
   "source": [
    "Убедитесь, что в таблице не осталось пропусков. Для этого ещё раз посчитайте пропущенные значения."
   ]
  },
  {
   "cell_type": "code",
   "execution_count": 42,
   "metadata": {
    "id": "Tq4nYRX4_Zct"
   },
   "outputs": [
    {
     "data": {
      "text/plain": [
       "user_id    0\n",
       "track      0\n",
       "artist     0\n",
       "genre      0\n",
       "city       0\n",
       "time       0\n",
       "day        0\n",
       "dtype: int64"
      ]
     },
     "execution_count": 42,
     "metadata": {},
     "output_type": "execute_result"
    }
   ],
   "source": [
    "df.isna().sum()"
   ]
  },
  {
   "cell_type": "markdown",
   "metadata": {
    "id": "BWKRtBJ3_Zct"
   },
   "source": [
    "### Дубликаты\n",
    "Посчитайте явные дубликаты в таблице одной командой:"
   ]
  },
  {
   "cell_type": "code",
   "execution_count": 43,
   "metadata": {
    "id": "36eES_S0_Zct"
   },
   "outputs": [
    {
     "data": {
      "text/plain": [
       "0"
      ]
     },
     "execution_count": 43,
     "metadata": {},
     "output_type": "execute_result"
    }
   ],
   "source": [
    "df.duplicated().sum() # подсчёт явных дубликатов"
   ]
  },
  {
   "cell_type": "markdown",
   "metadata": {
    "id": "Ot25h6XR_Zct"
   },
   "source": [
    "Вызовите специальный метод `pandas`, чтобы удалить явные дубликаты:"
   ]
  },
  {
   "cell_type": "code",
   "execution_count": 44,
   "metadata": {
    "collapsed": true,
    "id": "exFHq6tt_Zct"
   },
   "outputs": [],
   "source": [
    "df = df.drop_duplicates().reset_index(drop=True) # удаление явных дубликатов (с удалением старых индексов и формированием новых)"
   ]
  },
  {
   "cell_type": "markdown",
   "metadata": {
    "id": "Im2YwBEG_Zct"
   },
   "source": [
    "Ещё раз посчитайте явные дубликаты в таблице — убедитесь, что полностью от них избавились:"
   ]
  },
  {
   "cell_type": "code",
   "execution_count": 45,
   "metadata": {
    "id": "-8PuNWQ0_Zct"
   },
   "outputs": [
    {
     "data": {
      "text/plain": [
       "0"
      ]
     },
     "execution_count": 45,
     "metadata": {},
     "output_type": "execute_result"
    }
   ],
   "source": [
    "df.duplicated().sum() # проверка на отсутствие дубликатов"
   ]
  },
  {
   "cell_type": "markdown",
   "metadata": {
    "id": "QlFBsxAr_Zct"
   },
   "source": [
    "Теперь избавьтесь от неявных дубликатов в колонке `genre`. Например, название одного и того же жанра может быть записано немного по-разному. Такие ошибки тоже повлияют на результат исследования."
   ]
  },
  {
   "cell_type": "markdown",
   "metadata": {
    "id": "eSjWwsOh_Zct"
   },
   "source": [
    "Выведите на экран список уникальных названий жанров, отсортированный в алфавитном порядке. Для этого:\n",
    "* извлеките нужный столбец датафрейма, \n",
    "* примените к нему метод сортировки,\n",
    "* для отсортированного столбца вызовите метод, который вернёт уникальные значения из столбца."
   ]
  },
  {
   "cell_type": "code",
   "execution_count": 14,
   "metadata": {
    "id": "JIUcqzZN_Zct",
    "scrolled": true
   },
   "outputs": [
    {
     "data": {
      "text/plain": [
       "array(['acid', 'acoustic', 'action', 'adult', 'africa', 'afrikaans',\n",
       "       'alternative', 'alternativepunk', 'ambient', 'americana',\n",
       "       'animated', 'anime', 'arabesk', 'arabic', 'arena',\n",
       "       'argentinetango', 'art', 'audiobook', 'author', 'avantgarde',\n",
       "       'axé', 'baile', 'balkan', 'beats', 'bigroom', 'black', 'bluegrass',\n",
       "       'blues', 'bollywood', 'bossa', 'brazilian', 'breakbeat', 'breaks',\n",
       "       'broadway', 'cantautori', 'cantopop', 'canzone', 'caribbean',\n",
       "       'caucasian', 'celtic', 'chamber', 'chanson', 'children', 'chill',\n",
       "       'chinese', 'choral', 'christian', 'christmas', 'classical',\n",
       "       'classicmetal', 'club', 'colombian', 'comedy', 'conjazz',\n",
       "       'contemporary', 'country', 'cuban', 'dance', 'dancehall',\n",
       "       'dancepop', 'dark', 'death', 'deep', 'deutschrock', 'deutschspr',\n",
       "       'dirty', 'disco', 'dnb', 'documentary', 'downbeat', 'downtempo',\n",
       "       'drum', 'dub', 'dubstep', 'eastern', 'easy', 'electronic',\n",
       "       'electropop', 'emo', 'entehno', 'epicmetal', 'estrada', 'ethnic',\n",
       "       'eurofolk', 'european', 'experimental', 'extrememetal', 'fado',\n",
       "       'fairytail', 'film', 'fitness', 'flamenco', 'folk', 'folklore',\n",
       "       'folkmetal', 'folkrock', 'folktronica', 'forró', 'frankreich',\n",
       "       'französisch', 'french', 'funk', 'future', 'gangsta', 'garage',\n",
       "       'german', 'ghazal', 'gitarre', 'glitch', 'gospel', 'gothic',\n",
       "       'grime', 'grunge', 'gypsy', 'handsup', \"hard'n'heavy\", 'hardcore',\n",
       "       'hardstyle', 'hardtechno', 'hip', 'hip-hop', 'hiphop',\n",
       "       'historisch', 'holiday', 'hop', 'horror', 'house', 'hymn', 'idm',\n",
       "       'independent', 'indian', 'indie', 'indipop', 'industrial',\n",
       "       'inspirational', 'instrumental', 'international', 'irish', 'jam',\n",
       "       'japanese', 'jazz', 'jewish', 'jpop', 'jungle', 'k-pop',\n",
       "       'karadeniz', 'karaoke', 'kayokyoku', 'korean', 'laiko', 'latin',\n",
       "       'latino', 'leftfield', 'local', 'lounge', 'loungeelectronic',\n",
       "       'lovers', 'malaysian', 'mandopop', 'marschmusik', 'meditative',\n",
       "       'mediterranean', 'melodic', 'metal', 'metalcore', 'mexican',\n",
       "       'middle', 'minimal', 'miscellaneous', 'modern', 'mood', 'mpb',\n",
       "       'muslim', 'native', 'neoklassik', 'neue', 'new', 'newage',\n",
       "       'newwave', 'nu', 'nujazz', 'numetal', 'oceania', 'old', 'opera',\n",
       "       'orchestral', 'other', 'piano', 'podcasts', 'pop', 'popdance',\n",
       "       'popelectronic', 'popeurodance', 'poprussian', 'post',\n",
       "       'posthardcore', 'postrock', 'power', 'progmetal', 'progressive',\n",
       "       'psychedelic', 'punjabi', 'punk', 'quebecois', 'ragga', 'ram',\n",
       "       'rancheras', 'rap', 'rave', 'reggae', 'reggaeton', 'regional',\n",
       "       'relax', 'religious', 'retro', 'rhythm', 'rnb', 'rnr', 'rock',\n",
       "       'rockabilly', 'rockalternative', 'rockindie', 'rockother',\n",
       "       'romance', 'roots', 'ruspop', 'rusrap', 'rusrock', 'russian',\n",
       "       'salsa', 'samba', 'scenic', 'schlager', 'self', 'sertanejo',\n",
       "       'shanson', 'shoegazing', 'showtunes', 'singer', 'ska', 'skarock',\n",
       "       'slow', 'smooth', 'soft', 'soul', 'soulful', 'sound', 'soundtrack',\n",
       "       'southern', 'specialty', 'speech', 'spiritual', 'sport',\n",
       "       'stonerrock', 'surf', 'swing', 'synthpop', 'synthrock',\n",
       "       'sängerportrait', 'tango', 'tanzorchester', 'taraftar', 'tatar',\n",
       "       'tech', 'techno', 'teen', 'thrash', 'top', 'traditional',\n",
       "       'tradjazz', 'trance', 'tribal', 'trip', 'triphop', 'tropical',\n",
       "       'türk', 'türkçe', 'ukrrock', 'unknown', 'urban', 'uzbek',\n",
       "       'variété', 'vi', 'videogame', 'vocal', 'western', 'world',\n",
       "       'worldbeat', 'ïîï', 'электроника'], dtype=object)"
      ]
     },
     "execution_count": 14,
     "metadata": {},
     "output_type": "execute_result"
    }
   ],
   "source": [
    "df['genre'].sort_values().unique() # Просмотр уникальных названий жанров"
   ]
  },
  {
   "cell_type": "markdown",
   "metadata": {
    "id": "qej-Qmuo_Zct"
   },
   "source": [
    "Просмотрите список и найдите неявные дубликаты названия `hiphop`. Это могут быть названия с ошибками или альтернативные названия того же жанра.\n",
    "\n",
    "Вы увидите следующие неявные дубликаты:\n",
    "* *hip*,\n",
    "* *hop*,\n",
    "* *hip-hop*.\n",
    "\n",
    "Чтобы очистить от них таблицу, напишите функцию `replace_wrong_genres()` с двумя параметрами: \n",
    "* `wrong_genres` — список дубликатов,\n",
    "* `correct_genre` — строка с правильным значением.\n",
    "\n",
    "Функция должна исправить колонку `genre` в таблице `df`: заменить каждое значение из списка `wrong_genres` на значение из `correct_genre`."
   ]
  },
  {
   "cell_type": "code",
   "execution_count": 15,
   "metadata": {
    "collapsed": true,
    "id": "ErNDkmns_Zct"
   },
   "outputs": [],
   "source": [
    "def replace_wrong_genres(wrong_genres, correct_genre): # Функция для замены неявных дубликатов\n",
    "    for wrong_genre in wrong_genres:\n",
    "        df['genre'] = df['genre'].replace(wrong_genre, correct_genre)"
   ]
  },
  {
   "cell_type": "markdown",
   "metadata": {
    "id": "aDoBJxbA_Zct"
   },
   "source": [
    "Вызовите `replace_wrong_genres()` и передайте ей такие аргументы, чтобы она устранила неявные дубликаты: вместо `hip`, `hop` и `hip-hop` в таблице должно быть значение `hiphop`:"
   ]
  },
  {
   "cell_type": "code",
   "execution_count": 16,
   "metadata": {
    "collapsed": true,
    "id": "YN5i2hpmSo09"
   },
   "outputs": [],
   "source": [
    "duplicates = ['hip','hop','hip-hop'] # Устранение неявных дубликатов\n",
    "replace_wrong_genres(duplicates, 'hiphop')"
   ]
  },
  {
   "cell_type": "markdown",
   "metadata": {
    "id": "zQKF16_RG15m"
   },
   "source": [
    "Проверьте, что заменили неправильные названия:\n",
    "\n",
    "*   hip\n",
    "*   hop\n",
    "*   hip-hop\n",
    "\n",
    "Выведите отсортированный список уникальных значений столбца `genre`:"
   ]
  },
  {
   "cell_type": "code",
   "execution_count": 17,
   "metadata": {
    "id": "wvixALnFG15m"
   },
   "outputs": [
    {
     "data": {
      "text/plain": [
       "array(['acid', 'acoustic', 'action', 'adult', 'africa', 'afrikaans',\n",
       "       'alternative', 'alternativepunk', 'ambient', 'americana',\n",
       "       'animated', 'anime', 'arabesk', 'arabic', 'arena',\n",
       "       'argentinetango', 'art', 'audiobook', 'author', 'avantgarde',\n",
       "       'axé', 'baile', 'balkan', 'beats', 'bigroom', 'black', 'bluegrass',\n",
       "       'blues', 'bollywood', 'bossa', 'brazilian', 'breakbeat', 'breaks',\n",
       "       'broadway', 'cantautori', 'cantopop', 'canzone', 'caribbean',\n",
       "       'caucasian', 'celtic', 'chamber', 'chanson', 'children', 'chill',\n",
       "       'chinese', 'choral', 'christian', 'christmas', 'classical',\n",
       "       'classicmetal', 'club', 'colombian', 'comedy', 'conjazz',\n",
       "       'contemporary', 'country', 'cuban', 'dance', 'dancehall',\n",
       "       'dancepop', 'dark', 'death', 'deep', 'deutschrock', 'deutschspr',\n",
       "       'dirty', 'disco', 'dnb', 'documentary', 'downbeat', 'downtempo',\n",
       "       'drum', 'dub', 'dubstep', 'eastern', 'easy', 'electronic',\n",
       "       'electropop', 'emo', 'entehno', 'epicmetal', 'estrada', 'ethnic',\n",
       "       'eurofolk', 'european', 'experimental', 'extrememetal', 'fado',\n",
       "       'fairytail', 'film', 'fitness', 'flamenco', 'folk', 'folklore',\n",
       "       'folkmetal', 'folkrock', 'folktronica', 'forró', 'frankreich',\n",
       "       'französisch', 'french', 'funk', 'future', 'gangsta', 'garage',\n",
       "       'german', 'ghazal', 'gitarre', 'glitch', 'gospel', 'gothic',\n",
       "       'grime', 'grunge', 'gypsy', 'handsup', \"hard'n'heavy\", 'hardcore',\n",
       "       'hardstyle', 'hardtechno', 'hiphop', 'historisch', 'holiday',\n",
       "       'horror', 'house', 'hymn', 'idm', 'independent', 'indian', 'indie',\n",
       "       'indipop', 'industrial', 'inspirational', 'instrumental',\n",
       "       'international', 'irish', 'jam', 'japanese', 'jazz', 'jewish',\n",
       "       'jpop', 'jungle', 'k-pop', 'karadeniz', 'karaoke', 'kayokyoku',\n",
       "       'korean', 'laiko', 'latin', 'latino', 'leftfield', 'local',\n",
       "       'lounge', 'loungeelectronic', 'lovers', 'malaysian', 'mandopop',\n",
       "       'marschmusik', 'meditative', 'mediterranean', 'melodic', 'metal',\n",
       "       'metalcore', 'mexican', 'middle', 'minimal', 'miscellaneous',\n",
       "       'modern', 'mood', 'mpb', 'muslim', 'native', 'neoklassik', 'neue',\n",
       "       'new', 'newage', 'newwave', 'nu', 'nujazz', 'numetal', 'oceania',\n",
       "       'old', 'opera', 'orchestral', 'other', 'piano', 'podcasts', 'pop',\n",
       "       'popdance', 'popelectronic', 'popeurodance', 'poprussian', 'post',\n",
       "       'posthardcore', 'postrock', 'power', 'progmetal', 'progressive',\n",
       "       'psychedelic', 'punjabi', 'punk', 'quebecois', 'ragga', 'ram',\n",
       "       'rancheras', 'rap', 'rave', 'reggae', 'reggaeton', 'regional',\n",
       "       'relax', 'religious', 'retro', 'rhythm', 'rnb', 'rnr', 'rock',\n",
       "       'rockabilly', 'rockalternative', 'rockindie', 'rockother',\n",
       "       'romance', 'roots', 'ruspop', 'rusrap', 'rusrock', 'russian',\n",
       "       'salsa', 'samba', 'scenic', 'schlager', 'self', 'sertanejo',\n",
       "       'shanson', 'shoegazing', 'showtunes', 'singer', 'ska', 'skarock',\n",
       "       'slow', 'smooth', 'soft', 'soul', 'soulful', 'sound', 'soundtrack',\n",
       "       'southern', 'specialty', 'speech', 'spiritual', 'sport',\n",
       "       'stonerrock', 'surf', 'swing', 'synthpop', 'synthrock',\n",
       "       'sängerportrait', 'tango', 'tanzorchester', 'taraftar', 'tatar',\n",
       "       'tech', 'techno', 'teen', 'thrash', 'top', 'traditional',\n",
       "       'tradjazz', 'trance', 'tribal', 'trip', 'triphop', 'tropical',\n",
       "       'türk', 'türkçe', 'ukrrock', 'unknown', 'urban', 'uzbek',\n",
       "       'variété', 'vi', 'videogame', 'vocal', 'western', 'world',\n",
       "       'worldbeat', 'ïîï', 'электроника'], dtype=object)"
      ]
     },
     "execution_count": 17,
     "metadata": {},
     "output_type": "execute_result"
    }
   ],
   "source": [
    "df['genre'].sort_values().unique() # Проверка на неявные дубликаты\n",
    "# [print(x) for x in df['genre'].sort_values().unique()]"
   ]
  },
  {
   "cell_type": "markdown",
   "metadata": {
    "id": "jz6a9-7HQUDd"
   },
   "source": [
    "**Выводы**\n",
    "\n",
    "Предобработка обнаружила три проблемы в данных:\n",
    "\n",
    "- нарушения в стиле заголовков,\n",
    "- пропущенные значения,\n",
    "- дубликаты — явные и неявные.\n",
    "\n",
    "Вы исправили заголовки, чтобы упростить работу с таблицей. Без дубликатов исследование станет более точным.\n",
    "\n",
    "Пропущенные значения вы заменили на `'unknown'`. Ещё предстоит увидеть, не повредят ли исследованию пропуски в колонке `genre`.\n",
    "\n",
    "Теперь можно перейти к проверке гипотез. "
   ]
  },
  {
   "cell_type": "markdown",
   "metadata": {
    "id": "WttZHXH0SqKk"
   },
   "source": [
    "## Проверка гипотез"
   ]
  },
  {
   "cell_type": "markdown",
   "metadata": {
    "id": "Im936VVi_Zcu"
   },
   "source": [
    "### Сравнение поведения пользователей двух столиц"
   ]
  },
  {
   "cell_type": "markdown",
   "metadata": {
    "id": "nwt_MuaL_Zcu"
   },
   "source": [
    "Первая гипотеза утверждает, что пользователи по-разному слушают музыку в Москве и Санкт-Петербурге. Проверьте это предположение по данным о трёх днях недели — понедельнике, среде и пятнице. Для этого:\n",
    "\n",
    "* Разделите пользователей Москвы и Санкт-Петербурга\n",
    "* Сравните, сколько треков послушала каждая группа пользователей в понедельник, среду и пятницу.\n"
   ]
  },
  {
   "cell_type": "markdown",
   "metadata": {
    "id": "8Dw_YMmT_Zcu"
   },
   "source": [
    "Для тренировки сначала выполните каждый из расчётов по отдельности. \n",
    "\n",
    "Оцените активность пользователей в каждом городе. Сгруппируйте данные по городу и посчитайте прослушивания в каждой группе.\n",
    "\n"
   ]
  },
  {
   "cell_type": "code",
   "execution_count": 18,
   "metadata": {},
   "outputs": [
    {
     "data": {
      "text/html": [
       "<div>\n",
       "<style scoped>\n",
       "    .dataframe tbody tr th:only-of-type {\n",
       "        vertical-align: middle;\n",
       "    }\n",
       "\n",
       "    .dataframe tbody tr th {\n",
       "        vertical-align: top;\n",
       "    }\n",
       "\n",
       "    .dataframe thead th {\n",
       "        text-align: right;\n",
       "    }\n",
       "</style>\n",
       "<table border=\"1\" class=\"dataframe\">\n",
       "  <thead>\n",
       "    <tr style=\"text-align: right;\">\n",
       "      <th></th>\n",
       "      <th>user_id</th>\n",
       "      <th>track</th>\n",
       "      <th>artist</th>\n",
       "      <th>genre</th>\n",
       "      <th>city</th>\n",
       "      <th>time</th>\n",
       "      <th>day</th>\n",
       "    </tr>\n",
       "  </thead>\n",
       "  <tbody>\n",
       "    <tr>\n",
       "      <td>0</td>\n",
       "      <td>FFB692EC</td>\n",
       "      <td>Kamigata To Boots</td>\n",
       "      <td>The Mass Missile</td>\n",
       "      <td>rock</td>\n",
       "      <td>Saint-Petersburg</td>\n",
       "      <td>20:28:33</td>\n",
       "      <td>Wednesday</td>\n",
       "    </tr>\n",
       "    <tr>\n",
       "      <td>1</td>\n",
       "      <td>55204538</td>\n",
       "      <td>Delayed Because of Accident</td>\n",
       "      <td>Andreas Rönnberg</td>\n",
       "      <td>rock</td>\n",
       "      <td>Moscow</td>\n",
       "      <td>14:07:09</td>\n",
       "      <td>Friday</td>\n",
       "    </tr>\n",
       "    <tr>\n",
       "      <td>2</td>\n",
       "      <td>20EC38</td>\n",
       "      <td>Funiculì funiculà</td>\n",
       "      <td>Mario Lanza</td>\n",
       "      <td>pop</td>\n",
       "      <td>Saint-Petersburg</td>\n",
       "      <td>20:58:07</td>\n",
       "      <td>Wednesday</td>\n",
       "    </tr>\n",
       "    <tr>\n",
       "      <td>3</td>\n",
       "      <td>A3DD03C9</td>\n",
       "      <td>Dragons in the Sunset</td>\n",
       "      <td>Fire + Ice</td>\n",
       "      <td>folk</td>\n",
       "      <td>Saint-Petersburg</td>\n",
       "      <td>08:37:09</td>\n",
       "      <td>Monday</td>\n",
       "    </tr>\n",
       "    <tr>\n",
       "      <td>4</td>\n",
       "      <td>E2DC1FAE</td>\n",
       "      <td>Soul People</td>\n",
       "      <td>Space Echo</td>\n",
       "      <td>dance</td>\n",
       "      <td>Moscow</td>\n",
       "      <td>08:34:34</td>\n",
       "      <td>Monday</td>\n",
       "    </tr>\n",
       "    <tr>\n",
       "      <td>5</td>\n",
       "      <td>842029A1</td>\n",
       "      <td>Преданная</td>\n",
       "      <td>IMPERVTOR</td>\n",
       "      <td>rusrap</td>\n",
       "      <td>Saint-Petersburg</td>\n",
       "      <td>13:09:41</td>\n",
       "      <td>Friday</td>\n",
       "    </tr>\n",
       "    <tr>\n",
       "      <td>6</td>\n",
       "      <td>4CB90AA5</td>\n",
       "      <td>True</td>\n",
       "      <td>Roman Messer</td>\n",
       "      <td>dance</td>\n",
       "      <td>Moscow</td>\n",
       "      <td>13:00:07</td>\n",
       "      <td>Wednesday</td>\n",
       "    </tr>\n",
       "    <tr>\n",
       "      <td>7</td>\n",
       "      <td>F03E1C1F</td>\n",
       "      <td>Feeling This Way</td>\n",
       "      <td>Polina Griffith</td>\n",
       "      <td>dance</td>\n",
       "      <td>Moscow</td>\n",
       "      <td>20:47:49</td>\n",
       "      <td>Wednesday</td>\n",
       "    </tr>\n",
       "    <tr>\n",
       "      <td>8</td>\n",
       "      <td>8FA1D3BE</td>\n",
       "      <td>И вновь продолжается бой</td>\n",
       "      <td>unknown</td>\n",
       "      <td>ruspop</td>\n",
       "      <td>Moscow</td>\n",
       "      <td>09:17:40</td>\n",
       "      <td>Friday</td>\n",
       "    </tr>\n",
       "    <tr>\n",
       "      <td>9</td>\n",
       "      <td>E772D5C0</td>\n",
       "      <td>Pessimist</td>\n",
       "      <td>unknown</td>\n",
       "      <td>dance</td>\n",
       "      <td>Saint-Petersburg</td>\n",
       "      <td>21:20:49</td>\n",
       "      <td>Wednesday</td>\n",
       "    </tr>\n",
       "  </tbody>\n",
       "</table>\n",
       "</div>"
      ],
      "text/plain": [
       "    user_id                        track            artist   genre  \\\n",
       "0  FFB692EC            Kamigata To Boots  The Mass Missile    rock   \n",
       "1  55204538  Delayed Because of Accident  Andreas Rönnberg    rock   \n",
       "2    20EC38            Funiculì funiculà       Mario Lanza     pop   \n",
       "3  A3DD03C9        Dragons in the Sunset        Fire + Ice    folk   \n",
       "4  E2DC1FAE                  Soul People        Space Echo   dance   \n",
       "5  842029A1                    Преданная         IMPERVTOR  rusrap   \n",
       "6  4CB90AA5                         True      Roman Messer   dance   \n",
       "7  F03E1C1F             Feeling This Way   Polina Griffith   dance   \n",
       "8  8FA1D3BE     И вновь продолжается бой           unknown  ruspop   \n",
       "9  E772D5C0                    Pessimist           unknown   dance   \n",
       "\n",
       "               city      time        day  \n",
       "0  Saint-Petersburg  20:28:33  Wednesday  \n",
       "1            Moscow  14:07:09     Friday  \n",
       "2  Saint-Petersburg  20:58:07  Wednesday  \n",
       "3  Saint-Petersburg  08:37:09     Monday  \n",
       "4            Moscow  08:34:34     Monday  \n",
       "5  Saint-Petersburg  13:09:41     Friday  \n",
       "6            Moscow  13:00:07  Wednesday  \n",
       "7            Moscow  20:47:49  Wednesday  \n",
       "8            Moscow  09:17:40     Friday  \n",
       "9  Saint-Petersburg  21:20:49  Wednesday  "
      ]
     },
     "execution_count": 18,
     "metadata": {},
     "output_type": "execute_result"
    }
   ],
   "source": [
    "df.head(10)"
   ]
  },
  {
   "cell_type": "code",
   "execution_count": 19,
   "metadata": {
    "id": "0_Qs96oh_Zcu"
   },
   "outputs": [
    {
     "name": "stdout",
     "output_type": "stream",
     "text": [
      "Количество прослушиваний в Москве:             42741\n",
      "Количество прослушиваний в Санкт-Петербурге:   18512\n"
     ]
    }
   ],
   "source": [
    "count_listening_moscow = df[df['city'] == 'Moscow']['city'].count()\n",
    "count_listening_spb = df[df['city'] == 'Saint-Petersburg']['city'].count()\n",
    "\n",
    "print(f'Количество прослушиваний в Москве:             {count_listening_moscow}')\n",
    "print(f'Количество прослушиваний в Санкт-Петербурге:   {count_listening_spb}')"
   ]
  },
  {
   "cell_type": "markdown",
   "metadata": {
    "id": "dzli3w8o_Zcu"
   },
   "source": [
    "В Москве прослушиваний больше, чем в Петербурге. Из этого не следует, что московские пользователи чаще слушают музыку. Просто самих пользователей в Москве больше.\n",
    "\n",
    "Теперь сгруппируйте данные по дню недели и подсчитайте прослушивания в понедельник, среду и пятницу. Учтите, что в данных есть информация только о прослушиваниях только за эти дни.\n"
   ]
  },
  {
   "cell_type": "code",
   "execution_count": 20,
   "metadata": {
    "id": "uZMKjiJz_Zcu"
   },
   "outputs": [
    {
     "data": {
      "text/plain": [
       "day\n",
       "Friday       21840\n",
       "Monday       21354\n",
       "Wednesday    18059\n",
       "Name: time, dtype: int64"
      ]
     },
     "execution_count": 20,
     "metadata": {},
     "output_type": "execute_result"
    }
   ],
   "source": [
    "df.groupby('day')['time'].count()"
   ]
  },
  {
   "cell_type": "markdown",
   "metadata": {
    "id": "cC2tNrlL_Zcu"
   },
   "source": [
    "В среднем пользователи из двух городов менее активны по средам. Но картина может измениться, если рассмотреть каждый город в отдельности."
   ]
  },
  {
   "cell_type": "markdown",
   "metadata": {
    "id": "POzs8bGa_Zcu"
   },
   "source": [
    "Вы видели, как работает группировка по городу и по дням недели. Теперь напишите функцию, которая объединит два эти расчёта.\n",
    "\n",
    "Создайте функцию `number_tracks()`, которая посчитает прослушивания для заданного дня и города. Ей понадобятся два параметра:\n",
    "* день недели,\n",
    "* название города.\n",
    "\n",
    "В функции сохраните в переменную строки исходной таблицы, у которых значение:\n",
    "  * в колонке `day` равно параметру `day`,\n",
    "  * в колонке `city` равно параметру `city`.\n",
    "\n",
    "Для этого примените последовательную фильтрацию с логической индексацией.\n",
    "\n",
    "Затем посчитайте значения в столбце `user_id` получившейся таблицы. Результат сохраните в новую переменную. Верните эту переменную из функции."
   ]
  },
  {
   "cell_type": "code",
   "execution_count": 21,
   "metadata": {
    "collapsed": true,
    "id": "Nz3GdQB1_Zcu"
   },
   "outputs": [],
   "source": [
    "# <создание функции number_tracks()>\n",
    "def number_tracks(day,city):                 # Объявляется функция с двумя параметрами: day, city.\n",
    "    track_list = df[(df['day'] ==  day) & \n",
    "                    (df['city'] ==  city)]\n",
    "    #track_list = track_list[df['city'] == city]\n",
    "    track_list_count = track_list['user_id'].count()\n",
    "    return track_list_count\n",
    "\n",
    "    \n",
    "    # В переменной track_list сохраняются те строки таблицы df, для которых \n",
    "# значение в столбце 'day' равно параметру day и одновременно значение\n",
    "# в столбце 'city' равно параметру city (используйте последовательную фильтрацию\n",
    "# с помощью логической индексации).\n",
    "# В переменной track_list_count сохраняется число значений столбца 'user_id',\n",
    "# рассчитанное методом count() для таблицы track_list.\n",
    "# Функция возвращает число - значение track_list_count.\n",
    "\n",
    "# Функция для подсчёта прослушиваний для конкретного города и дня.\n",
    "# С помощью последовательной фильтрации с логической индексацией она \n",
    "# сначала получит из исходной таблицы строки с нужным днём,\n",
    "# затем из результата отфильтрует строки с нужным городом,\n",
    "# методом count() посчитает количество значений в колонке user_id. \n",
    "# Это количество функция вернёт в качестве результата"
   ]
  },
  {
   "cell_type": "markdown",
   "metadata": {
    "id": "ytf7xFrFJQ2r"
   },
   "source": [
    "Вызовите `number_tracks()` шесть раз, меняя значение параметров — так, чтобы получить данные для каждого города в каждый из трёх дней."
   ]
  },
  {
   "cell_type": "code",
   "execution_count": 22,
   "metadata": {
    "id": "rJcRATNQ_Zcu"
   },
   "outputs": [
    {
     "name": "stdout",
     "output_type": "stream",
     "text": [
      "15740\n"
     ]
    }
   ],
   "source": [
    "monday_moscow = number_tracks('Monday', 'Moscow') # количество прослушиваний в Москве по понедельникам\n",
    "print(monday_moscow)"
   ]
  },
  {
   "cell_type": "code",
   "execution_count": 23,
   "metadata": {
    "id": "hq_ncZ5T_Zcu"
   },
   "outputs": [
    {
     "data": {
      "text/plain": [
       "5614"
      ]
     },
     "execution_count": 23,
     "metadata": {},
     "output_type": "execute_result"
    }
   ],
   "source": [
    "number_tracks('Monday', 'Saint-Petersburg')# количество прослушиваний в Санкт-Петербурге по понедельникам"
   ]
  },
  {
   "cell_type": "code",
   "execution_count": 24,
   "metadata": {
    "id": "_NTy2VPU_Zcu"
   },
   "outputs": [
    {
     "data": {
      "text/plain": [
       "11056"
      ]
     },
     "execution_count": 24,
     "metadata": {},
     "output_type": "execute_result"
    }
   ],
   "source": [
    "number_tracks('Wednesday', 'Moscow')# количество прослушиваний в Москве по средам"
   ]
  },
  {
   "cell_type": "code",
   "execution_count": 25,
   "metadata": {
    "id": "j2y3TAwo_Zcu"
   },
   "outputs": [
    {
     "data": {
      "text/plain": [
       "7003"
      ]
     },
     "execution_count": 25,
     "metadata": {},
     "output_type": "execute_result"
    }
   ],
   "source": [
    "number_tracks('Wednesday', 'Saint-Petersburg')# количество прослушиваний в Санкт-Петербурге по средам"
   ]
  },
  {
   "cell_type": "code",
   "execution_count": 26,
   "metadata": {
    "id": "vYDw5u_K_Zcu"
   },
   "outputs": [
    {
     "data": {
      "text/plain": [
       "15945"
      ]
     },
     "execution_count": 26,
     "metadata": {},
     "output_type": "execute_result"
    }
   ],
   "source": [
    "number_tracks('Friday', 'Moscow')# количество прослушиваний в Москве по пятницам"
   ]
  },
  {
   "cell_type": "code",
   "execution_count": 27,
   "metadata": {
    "id": "8_yzFtW3_Zcu"
   },
   "outputs": [
    {
     "data": {
      "text/plain": [
       "5895"
      ]
     },
     "execution_count": 27,
     "metadata": {},
     "output_type": "execute_result"
    }
   ],
   "source": [
    "number_tracks('Friday', 'Saint-Petersburg')# количество прослушиваний в Санкт-Петербурге по пятницам"
   ]
  },
  {
   "cell_type": "markdown",
   "metadata": {
    "id": "7QXffbO-_Zcu"
   },
   "source": [
    "Создайте c помощью конструктора `pd.DataFrame` таблицу, где\n",
    "* названия колонок — `['city', 'monday', 'wednesday', 'friday']`;\n",
    "* данные — результаты, которые вы получили с помощью `number_tracks`."
   ]
  },
  {
   "cell_type": "code",
   "execution_count": 28,
   "metadata": {
    "id": "APAcLpOr_Zcu"
   },
   "outputs": [
    {
     "data": {
      "text/html": [
       "<div>\n",
       "<style scoped>\n",
       "    .dataframe tbody tr th:only-of-type {\n",
       "        vertical-align: middle;\n",
       "    }\n",
       "\n",
       "    .dataframe tbody tr th {\n",
       "        vertical-align: top;\n",
       "    }\n",
       "\n",
       "    .dataframe thead th {\n",
       "        text-align: right;\n",
       "    }\n",
       "</style>\n",
       "<table border=\"1\" class=\"dataframe\">\n",
       "  <thead>\n",
       "    <tr style=\"text-align: right;\">\n",
       "      <th></th>\n",
       "      <th>city</th>\n",
       "      <th>monday</th>\n",
       "      <th>wednesday</th>\n",
       "      <th>friday</th>\n",
       "    </tr>\n",
       "  </thead>\n",
       "  <tbody>\n",
       "    <tr>\n",
       "      <td>0</td>\n",
       "      <td>Moscow</td>\n",
       "      <td>15740</td>\n",
       "      <td>11056</td>\n",
       "      <td>15945</td>\n",
       "    </tr>\n",
       "    <tr>\n",
       "      <td>1</td>\n",
       "      <td>Saint-Petersburg</td>\n",
       "      <td>5614</td>\n",
       "      <td>7003</td>\n",
       "      <td>5895</td>\n",
       "    </tr>\n",
       "  </tbody>\n",
       "</table>\n",
       "</div>"
      ],
      "text/plain": [
       "               city  monday  wednesday  friday\n",
       "0            Moscow   15740      11056   15945\n",
       "1  Saint-Petersburg    5614       7003    5895"
      ]
     },
     "execution_count": 28,
     "metadata": {},
     "output_type": "execute_result"
    }
   ],
   "source": [
    "columns = ['city', 'monday', 'wednesday', 'friday']\n",
    "data = [\n",
    "    ['Moscow', 15740, 11056, 15945],\n",
    "    ['Saint-Petersburg', 5614, 7003, 5895]\n",
    "]\n",
    "\n",
    "pd.DataFrame(data=data,columns=columns)\n"
   ]
  },
  {
   "cell_type": "markdown",
   "metadata": {
    "id": "-EgPIHYu_Zcu"
   },
   "source": [
    "**Выводы**\n",
    "\n",
    "Данные показывают разницу поведения пользователей:\n",
    "\n",
    "- В Москве пик прослушиваний приходится на понедельник и пятницу, а в среду заметен спад.\n",
    "- В Петербурге, наоборот, больше слушают музыку по средам. Активность в понедельник и пятницу здесь почти в равной мере уступает среде.\n",
    "\n",
    "Значит, данные говорят в пользу первой гипотезы."
   ]
  },
  {
   "cell_type": "markdown",
   "metadata": {
    "id": "atZAxtq4_Zcu"
   },
   "source": [
    "### Музыка в начале и в конце недели"
   ]
  },
  {
   "cell_type": "markdown",
   "metadata": {
    "id": "eXrQqXFH_Zcu"
   },
   "source": [
    "Согласно второй гипотезе, утром в понедельник в Москве преобладают одни жанры, а в Петербурге — другие. Так же и вечером пятницы преобладают разные жанры — в зависимости от города."
   ]
  },
  {
   "cell_type": "markdown",
   "metadata": {
    "id": "S8UcW6Hw_Zcu"
   },
   "source": [
    "Сохраните таблицы с данными в две переменные:\n",
    "* по Москве — в `moscow_general`;\n",
    "* по Санкт-Петербургу — в `spb_general`."
   ]
  },
  {
   "cell_type": "code",
   "execution_count": 29,
   "metadata": {
    "collapsed": true,
    "id": "qeaFfM_P_Zcu"
   },
   "outputs": [],
   "source": [
    "# получение таблицы moscow_general из тех строк таблицы df, \n",
    "# для которых значение в столбце 'city' равно 'Moscow'\n",
    "\n",
    "moscow_general = df[df['city'] == 'Moscow']"
   ]
  },
  {
   "cell_type": "code",
   "execution_count": 30,
   "metadata": {
    "collapsed": true,
    "id": "ORaVRKto_Zcu"
   },
   "outputs": [],
   "source": [
    "# получение таблицы spb_general из тех строк таблицы df,\n",
    "# для которых значение в столбце 'city' равно 'Saint-Petersburg'\n",
    "\n",
    "spb_general = df[df['city'] == 'Saint-Petersburg']\n"
   ]
  },
  {
   "cell_type": "markdown",
   "metadata": {
    "id": "MEJV-CX2_Zcu"
   },
   "source": [
    "Создайте функцию `genre_weekday()` с четырьмя параметрами:\n",
    "* таблица (датафрейм) с данными,\n",
    "* день недели,\n",
    "* начальная временная метка в формате 'hh:mm', \n",
    "* последняя временная метка в формате 'hh:mm'.\n",
    "\n",
    "Функция должна вернуть информацию о топ-10 жанров тех треков, которые прослушивали в указанный день, в промежутке между двумя отметками времени."
   ]
  },
  {
   "cell_type": "code",
   "execution_count": 31,
   "metadata": {
    "collapsed": true,
    "id": "laJT9BYl_Zcu"
   },
   "outputs": [],
   "source": [
    "# Объявление функции genre_weekday() с параметрами table, day, time1, time2,\n",
    "# которая возвращает информацию о самых популярных жанрах в указанный день в\n",
    "# заданное время:\n",
    "# 1) в переменную genre_df сохраняются те строки переданного датафрейма table, для\n",
    "#    которых одновременно:\n",
    "#    - значение в столбце day равно значению аргумента day\n",
    "#    - значение в столбце time больше значения аргумента time1\n",
    "#    - значение в столбце time меньше значения аргумента time2\n",
    "#    Используйте последовательную фильтрацию с помощью логической индексации.\n",
    "# 2) сгруппировать датафрейм genre_df по столбцу genre, взять один из его\n",
    "#    столбцов и посчитать методом count() количество записей для каждого из\n",
    "#    присутствующих жанров, получившийся Series записать в переменную\n",
    "#    genre_df_count\n",
    "# 3) отсортировать genre_df_count по убыванию встречаемости и сохранить\n",
    "#    в переменную genre_df_sorted\n",
    "# 4) вернуть Series из 10 первых значений genre_df_sorted, это будут топ-10\n",
    "#    популярных жанров (в указанный день, в заданное время)\n",
    "\n",
    "\n",
    "def genre_weekday(table, day, time1, time2):\n",
    "    genre_df = table[(table['day'] == day) & \n",
    "                     (table['time']>time1) & \n",
    "                     (table['time']<time2)]\n",
    "    \n",
    "#     genre_df = genre_df[genre_df['time'] > time1]\n",
    "#     genre_df = genre_df[genre_df['time'] < time2]\n",
    "    \n",
    "    genre_df_count = genre_df.groupby('genre')['track'].count()\n",
    "    \n",
    "    genre_df_sorted = genre_df_count.sort_values(ascending=False)\n",
    "    \n",
    "    return genre_df_sorted.head(10)\n",
    "\n",
    "#     return genre_df.groupby('genre')['track'].count().sort_values(ascending=False).head(10)   # не помогло "
   ]
  },
  {
   "cell_type": "markdown",
   "metadata": {
    "id": "la2s2_PF_Zcu"
   },
   "source": [
    "Cравните результаты функции `genre_weekday()` для Москвы и Санкт-Петербурга в понедельник утром (с 7:00 до 11:00) и в пятницу вечером (с 17:00 до 23:00):"
   ]
  },
  {
   "cell_type": "code",
   "execution_count": 32,
   "metadata": {
    "id": "yz7itPUQ_Zcu"
   },
   "outputs": [
    {
     "data": {
      "text/plain": [
       "genre\n",
       "pop            781\n",
       "dance          549\n",
       "electronic     480\n",
       "rock           474\n",
       "hiphop         286\n",
       "ruspop         186\n",
       "world          181\n",
       "rusrap         175\n",
       "alternative    164\n",
       "unknown        161\n",
       "Name: track, dtype: int64"
      ]
     },
     "execution_count": 32,
     "metadata": {},
     "output_type": "execute_result"
    }
   ],
   "source": [
    "# вызов функции для утра понедельника в Москве (вместо df — таблица moscow_general)\n",
    "# объекты, хранящие время, являются строками и сравниваются как строки\n",
    "# пример вызова: genre_weekday(moscow_general, 'Monday', '07:00', '11:00')\n",
    "genre_weekday(moscow_general, 'Monday', '07:00', '11:00')\n"
   ]
  },
  {
   "cell_type": "code",
   "execution_count": 34,
   "metadata": {
    "id": "kwUcHPdy_Zcu"
   },
   "outputs": [
    {
     "data": {
      "text/plain": [
       "genre\n",
       "pop            218\n",
       "dance          182\n",
       "rock           162\n",
       "electronic     147\n",
       "hiphop          80\n",
       "ruspop          64\n",
       "alternative     58\n",
       "rusrap          55\n",
       "jazz            44\n",
       "classical       40\n",
       "Name: track, dtype: int64"
      ]
     },
     "execution_count": 34,
     "metadata": {},
     "output_type": "execute_result"
    }
   ],
   "source": [
    "# вызов функции для утра понедельника в Петербурге (вместо df — таблица spb_general)\n",
    "genre_weekday(spb_general, 'Monday', '07:00', '11:00')\n"
   ]
  },
  {
   "cell_type": "code",
   "execution_count": 35,
   "metadata": {
    "id": "EzXVRE1o_Zcu"
   },
   "outputs": [
    {
     "data": {
      "text/plain": [
       "genre\n",
       "pop            713\n",
       "rock           517\n",
       "dance          495\n",
       "electronic     482\n",
       "hiphop         273\n",
       "world          208\n",
       "ruspop         170\n",
       "alternative    163\n",
       "classical      163\n",
       "rusrap         142\n",
       "Name: track, dtype: int64"
      ]
     },
     "execution_count": 35,
     "metadata": {},
     "output_type": "execute_result"
    }
   ],
   "source": [
    "# вызов функции для вечера пятницы в Москве\n",
    "genre_weekday(moscow_general, 'Friday', '19:00', '23:00')\n"
   ]
  },
  {
   "cell_type": "code",
   "execution_count": 36,
   "metadata": {
    "id": "JZaEKu5v_Zcu"
   },
   "outputs": [
    {
     "data": {
      "text/plain": [
       "genre\n",
       "pop            256\n",
       "rock           216\n",
       "electronic     216\n",
       "dance          210\n",
       "hiphop          97\n",
       "alternative     63\n",
       "jazz            61\n",
       "classical       60\n",
       "rusrap          59\n",
       "world           54\n",
       "Name: track, dtype: int64"
      ]
     },
     "execution_count": 36,
     "metadata": {},
     "output_type": "execute_result"
    }
   ],
   "source": [
    "# вызов функции для вечера пятницы в Петербурге\n",
    "genre_weekday(spb_general, 'Friday', '19:00', '23:00')"
   ]
  },
  {
   "cell_type": "markdown",
   "metadata": {
    "id": "wrCe4MNX_Zcu"
   },
   "source": [
    "**Выводы**\n",
    "\n",
    "Если сравнить топ-10 жанров в понедельник утром, можно сделать такие выводы:\n",
    "\n",
    "1. В Москве и Петербурге слушают похожую музыку. Единственное отличие — в московский рейтинг вошёл жанр “world”, а в петербургский — джаз и классика.\n",
    "\n",
    "2. В Москве пропущенных значений оказалось так много, что значение `'unknown'` заняло десятое место среди самых популярных жанров. Значит, пропущенные значения занимают существенную долю в данных и угрожают достоверности исследования.\n",
    "\n",
    "Вечер пятницы не меняет эту картину. Некоторые жанры поднимаются немного выше, другие спускаются, но в целом топ-10 остаётся тем же самым.\n",
    "\n",
    "Таким образом, вторая гипотеза подтвердилась лишь частично:\n",
    "* Пользователи слушают похожую музыку в начале недели и в конце.\n",
    "* Разница между Москвой и Петербургом не слишком выражена. В Москве чаще слушают русскую популярную музыку, в Петербурге — джаз.\n",
    "\n",
    "Однако пропуски в данных ставят под сомнение этот результат. В Москве их так много, что рейтинг топ-10 мог бы выглядеть иначе, если бы не утерянные  данные о жанрах."
   ]
  },
  {
   "cell_type": "markdown",
   "metadata": {
    "id": "JolODAqr_Zcu"
   },
   "source": [
    "### Жанровые предпочтения в Москве и Петербурге\n",
    "\n",
    "Гипотеза: Петербург — столица рэпа, музыку этого жанра там слушают чаще, чем в Москве.  А Москва — город контрастов, в котором, тем не менее, преобладает поп-музыка."
   ]
  },
  {
   "cell_type": "markdown",
   "metadata": {
    "id": "DlegSvaT_Zcu"
   },
   "source": [
    "Сгруппируйте таблицу `moscow_general` по жанру и посчитайте прослушивания треков каждого жанра методом `count()`. Затем отсортируйте результат в порядке убывания и сохраните его в таблице `moscow_genres`."
   ]
  },
  {
   "cell_type": "code",
   "execution_count": 37,
   "metadata": {
    "collapsed": true,
    "id": "r19lIPke_Zcu"
   },
   "outputs": [],
   "source": [
    "# одной строкой: группировка таблицы moscow_general по столбцу 'genre', \n",
    "# подсчёт числа значений 'genre' в этой группировке методом count(), \n",
    "# сортировка получившегося Series в порядке убывания и сохранение в moscow_genres\n",
    "\n",
    "moscow_genres = moscow_general.groupby('genre')['genre'].count().sort_values(ascending=False)\n",
    "\n",
    "# display(moscow_genres)"
   ]
  },
  {
   "cell_type": "markdown",
   "metadata": {
    "id": "6kMuomxTiIr8"
   },
   "source": [
    "Выведите на экран первые десять строк `moscow_genres`:"
   ]
  },
  {
   "cell_type": "code",
   "execution_count": 38,
   "metadata": {
    "id": "WhCSooF8_Zcv"
   },
   "outputs": [
    {
     "data": {
      "text/plain": [
       "genre\n",
       "pop            5892\n",
       "dance          4435\n",
       "rock           3965\n",
       "electronic     3786\n",
       "hiphop         2096\n",
       "classical      1616\n",
       "world          1432\n",
       "alternative    1379\n",
       "ruspop         1372\n",
       "rusrap         1161\n",
       "Name: genre, dtype: int64"
      ]
     },
     "execution_count": 38,
     "metadata": {},
     "output_type": "execute_result"
    }
   ],
   "source": [
    "moscow_genres.head(10) # просмотр первых 10 строк moscow_genres"
   ]
  },
  {
   "cell_type": "markdown",
   "metadata": {
    "id": "cnPG2vnN_Zcv"
   },
   "source": [
    "Теперь повторите то же и для Петербурга.\n",
    "\n",
    "Сгруппируйте таблицу `spb_general` по жанру. Посчитайте прослушивания треков каждого жанра. Результат отсортируйте в порядке убывания и сохраните в таблице `spb_genres`:\n"
   ]
  },
  {
   "cell_type": "code",
   "execution_count": 39,
   "metadata": {
    "collapsed": true,
    "id": "gluLIpE7_Zcv"
   },
   "outputs": [],
   "source": [
    "# одной строкой: группировка таблицы spb_general по столбцу 'genre', \n",
    "# подсчёт числа значений 'genre' в этой группировке методом count(), \n",
    "# сортировка получившегося Series в порядке убывания и сохранение в spb_genres\n",
    "\n",
    "spb_genres = spb_general.groupby('genre')['genre'].count().sort_values(ascending=False)"
   ]
  },
  {
   "cell_type": "markdown",
   "metadata": {
    "id": "5Doha_ODgyQ8"
   },
   "source": [
    "Выведите на экран первые десять строк `spb_genres`:"
   ]
  },
  {
   "cell_type": "code",
   "execution_count": 40,
   "metadata": {
    "id": "uaGJHjVU_Zcv"
   },
   "outputs": [
    {
     "data": {
      "text/plain": [
       "genre\n",
       "pop            2431\n",
       "dance          1932\n",
       "rock           1879\n",
       "electronic     1736\n",
       "hiphop          960\n",
       "alternative     649\n",
       "classical       646\n",
       "rusrap          564\n",
       "ruspop          538\n",
       "world           515\n",
       "Name: genre, dtype: int64"
      ]
     },
     "execution_count": 40,
     "metadata": {},
     "output_type": "execute_result"
    }
   ],
   "source": [
    "spb_genres.head(10) # просмотр первых 10 строк spb_genres"
   ]
  },
  {
   "cell_type": "markdown",
   "metadata": {
    "id": "RY51YJYu_Zcv"
   },
   "source": [
    "**Выводы**"
   ]
  },
  {
   "cell_type": "markdown",
   "metadata": {
    "id": "nVhnJEm__Zcv"
   },
   "source": [
    "Гипотеза частично подтвердилась:\n",
    "* Поп-музыка — самый популярный жанр в Москве, как и предполагала гипотеза. Более того, в топ-10 жанров встречается близкий жанр — русская популярная музыка.\n",
    "* Вопреки ожиданиям, рэп одинаково популярен в Москве и Петербурге. \n"
   ]
  },
  {
   "cell_type": "markdown",
   "metadata": {
    "id": "ykKQ0N65_Zcv"
   },
   "source": [
    "## Итоги исследования"
   ]
  },
  {
   "cell_type": "markdown",
   "metadata": {
    "id": "tjUwbHb3_Zcv"
   },
   "source": [
    "Вы проверили три гипотезы и установили:\n",
    "\n",
    "1. День недели по-разному влияет на активность пользователей в Москве и Петербурге. \n",
    "\n",
    "Первая гипотеза полностью подтвердилась.\n",
    "\n",
    "2. Музыкальные предпочтения не сильно меняются в течение недели — будь то Москва или Петербург. Небольшие различия заметны в начале недели, по понедельникам:\n",
    "* в Москве слушают музыку жанра “world”,\n",
    "* в Петербурге — джаз и классику.\n",
    "\n",
    "Таким образом, вторая гипотеза подтвердилась лишь отчасти. Этот результат мог оказаться иным, если бы не пропуски в данных.\n",
    "\n",
    "3. Во вкусах пользователей Москвы и Петербурга больше общего чем различий. Вопреки ожиданиям, предпочтения жанров в Петербурге напоминают московские.\n",
    "\n",
    "Третья гипотеза не подтвердилась. Если различия в предпочтениях и существуют, на основной массе пользователей они незаметны.\n",
    "\n",
    "**На практике исследования содержат проверки статистических гипотез.**\n",
    "Из данных одного сервиса не всегда можно сделать вывод о всех жителях города.\n",
    "Проверки статистических гипотез покажут, насколько они достоверны, исходя из имеющихся данных. \n",
    "С методами проверок гипотез вы ещё познакомитесь в следующих темах."
   ]
  }
 ],
 "metadata": {
  "ExecuteTimeLog": [
   {
    "duration": 424,
    "start_time": "2021-11-14T16:07:46.333Z"
   },
   {
    "duration": 798,
    "start_time": "2021-11-14T16:07:52.724Z"
   },
   {
    "duration": 2653,
    "start_time": "2021-11-14T16:07:55.740Z"
   },
   {
    "duration": 172,
    "start_time": "2021-11-14T16:08:20.110Z"
   },
   {
    "duration": 195,
    "start_time": "2021-11-14T16:08:22.651Z"
   },
   {
    "duration": 27,
    "start_time": "2021-11-14T16:08:45.140Z"
   },
   {
    "duration": 31,
    "start_time": "2021-11-14T16:09:10.725Z"
   },
   {
    "duration": 7,
    "start_time": "2021-11-14T16:11:48.352Z"
   },
   {
    "duration": 360,
    "start_time": "2021-11-14T16:16:55.616Z"
   },
   {
    "duration": 33,
    "start_time": "2021-11-14T16:17:04.289Z"
   },
   {
    "duration": 6,
    "start_time": "2021-11-14T16:17:42.711Z"
   },
   {
    "duration": 41,
    "start_time": "2021-11-14T16:18:09.376Z"
   },
   {
    "duration": 34,
    "start_time": "2021-11-14T16:18:20.402Z"
   },
   {
    "duration": 35,
    "start_time": "2021-11-14T16:19:16.257Z"
   },
   {
    "duration": 113,
    "start_time": "2021-11-14T16:22:50.884Z"
   },
   {
    "duration": 353,
    "start_time": "2021-11-14T16:23:01.994Z"
   },
   {
    "duration": 20,
    "start_time": "2021-11-14T16:24:58.840Z"
   },
   {
    "duration": 22,
    "start_time": "2021-11-14T16:25:00.166Z"
   },
   {
    "duration": 31,
    "start_time": "2021-11-14T16:25:03.310Z"
   },
   {
    "duration": 18,
    "start_time": "2021-11-14T16:25:07.238Z"
   },
   {
    "duration": 5,
    "start_time": "2021-11-14T16:25:09.929Z"
   },
   {
    "duration": 32,
    "start_time": "2021-11-14T16:25:21.591Z"
   },
   {
    "duration": 6,
    "start_time": "2021-11-14T16:25:24.599Z"
   },
   {
    "duration": 5,
    "start_time": "2021-11-14T16:25:52.597Z"
   },
   {
    "duration": 4,
    "start_time": "2021-11-14T16:26:01.248Z"
   },
   {
    "duration": 196,
    "start_time": "2021-11-14T16:26:03.832Z"
   },
   {
    "duration": 17,
    "start_time": "2021-11-14T16:26:06.784Z"
   },
   {
    "duration": 858,
    "start_time": "2021-11-14T16:27:56.237Z"
   },
   {
    "duration": 195,
    "start_time": "2021-11-14T16:28:00.256Z"
   },
   {
    "duration": 27,
    "start_time": "2021-11-14T16:28:02.866Z"
   },
   {
    "duration": 32,
    "start_time": "2021-11-14T16:28:05.088Z"
   },
   {
    "duration": 5,
    "start_time": "2021-11-14T16:28:08.303Z"
   },
   {
    "duration": 24,
    "start_time": "2021-11-14T16:28:12.495Z"
   },
   {
    "duration": 5,
    "start_time": "2021-11-14T16:28:17.008Z"
   },
   {
    "duration": 31,
    "start_time": "2021-11-14T16:28:19.648Z"
   },
   {
    "duration": 542,
    "start_time": "2021-11-14T16:28:22.001Z"
   },
   {
    "duration": 70,
    "start_time": "2021-11-14T16:30:08.322Z"
   },
   {
    "duration": 66,
    "start_time": "2021-11-14T16:30:18.794Z"
   },
   {
    "duration": 29,
    "start_time": "2021-11-14T16:30:36.331Z"
   },
   {
    "duration": 40,
    "start_time": "2021-11-14T16:31:18.235Z"
   },
   {
    "duration": 29,
    "start_time": "2021-11-14T16:31:20.242Z"
   },
   {
    "duration": 84,
    "start_time": "2021-11-14T16:32:41.556Z"
   },
   {
    "duration": 106,
    "start_time": "2021-11-14T16:33:16.861Z"
   },
   {
    "duration": 77,
    "start_time": "2021-11-14T16:33:48.487Z"
   },
   {
    "duration": 86,
    "start_time": "2021-11-14T16:33:56.601Z"
   },
   {
    "duration": 75,
    "start_time": "2021-11-14T16:33:58.669Z"
   },
   {
    "duration": 12,
    "start_time": "2021-11-14T16:35:35.224Z"
   },
   {
    "duration": 84,
    "start_time": "2021-11-14T16:44:38.740Z"
   },
   {
    "duration": 73,
    "start_time": "2021-11-14T16:44:40.459Z"
   },
   {
    "duration": 9,
    "start_time": "2021-11-14T16:44:42.619Z"
   },
   {
    "duration": 403,
    "start_time": "2021-11-14T16:48:58.517Z"
   },
   {
    "duration": 4,
    "start_time": "2021-11-14T16:49:15.678Z"
   },
   {
    "duration": 769,
    "start_time": "2021-11-14T16:49:17.536Z"
   },
   {
    "duration": 4,
    "start_time": "2021-11-14T16:49:41.248Z"
   },
   {
    "duration": 14,
    "start_time": "2021-11-14T16:49:42.551Z"
   },
   {
    "duration": 11,
    "start_time": "2021-11-14T16:50:04.672Z"
   },
   {
    "duration": 50,
    "start_time": "2021-11-14T16:53:38.956Z"
   },
   {
    "duration": 34,
    "start_time": "2021-11-14T16:55:29.830Z"
   },
   {
    "duration": 386,
    "start_time": "2021-11-14T16:55:43.565Z"
   },
   {
    "duration": 38,
    "start_time": "2021-11-14T16:55:48.846Z"
   },
   {
    "duration": 49,
    "start_time": "2021-11-14T16:57:02.694Z"
   },
   {
    "duration": 16,
    "start_time": "2021-11-14T16:57:21.392Z"
   },
   {
    "duration": 51,
    "start_time": "2021-11-14T16:58:21.617Z"
   },
   {
    "duration": 30,
    "start_time": "2021-11-14T16:58:51.201Z"
   },
   {
    "duration": 30,
    "start_time": "2021-11-14T16:59:59.051Z"
   },
   {
    "duration": 46,
    "start_time": "2021-11-14T17:00:16.131Z"
   },
   {
    "duration": 133,
    "start_time": "2021-11-14T17:01:47.204Z"
   },
   {
    "duration": 33,
    "start_time": "2021-11-14T17:02:23.918Z"
   },
   {
    "duration": 32,
    "start_time": "2021-11-14T17:04:45.435Z"
   },
   {
    "duration": 31,
    "start_time": "2021-11-14T17:04:52.777Z"
   },
   {
    "duration": 46,
    "start_time": "2021-11-14T17:25:11.568Z"
   },
   {
    "duration": 39,
    "start_time": "2021-11-14T17:25:22.422Z"
   },
   {
    "duration": 418,
    "start_time": "2021-11-14T17:25:45.169Z"
   },
   {
    "duration": 47,
    "start_time": "2021-11-14T17:25:52.905Z"
   },
   {
    "duration": 15,
    "start_time": "2021-11-14T17:27:46.247Z"
   },
   {
    "duration": 441,
    "start_time": "2021-11-14T17:35:41.807Z"
   },
   {
    "duration": 439,
    "start_time": "2021-11-14T17:35:56.672Z"
   },
   {
    "duration": 455,
    "start_time": "2021-11-14T17:36:02.901Z"
   },
   {
    "duration": 458,
    "start_time": "2021-11-14T17:36:08.341Z"
   },
   {
    "duration": 368,
    "start_time": "2021-11-14T17:36:27.693Z"
   },
   {
    "duration": -67,
    "start_time": "2021-11-14T17:36:46.451Z"
   },
   {
    "duration": 1737,
    "start_time": "2021-11-14T17:37:06.607Z"
   },
   {
    "duration": 418,
    "start_time": "2021-11-14T17:40:11.789Z"
   },
   {
    "duration": 133,
    "start_time": "2021-11-14T17:40:20.194Z"
   },
   {
    "duration": 4,
    "start_time": "2021-11-14T17:40:26.242Z"
   },
   {
    "duration": 16,
    "start_time": "2021-11-14T17:40:28.409Z"
   },
   {
    "duration": 16,
    "start_time": "2021-11-14T17:41:48.083Z"
   },
   {
    "duration": 32,
    "start_time": "2021-11-14T17:42:07.661Z"
   },
   {
    "duration": 30,
    "start_time": "2021-11-14T17:43:10.312Z"
   },
   {
    "duration": 29,
    "start_time": "2021-11-14T17:43:12.220Z"
   },
   {
    "duration": 23,
    "start_time": "2021-11-14T17:43:13.325Z"
   },
   {
    "duration": 34,
    "start_time": "2021-11-14T17:43:15.428Z"
   },
   {
    "duration": 25,
    "start_time": "2021-11-14T17:43:17.957Z"
   },
   {
    "duration": 12,
    "start_time": "2021-11-14T17:47:43.116Z"
   },
   {
    "duration": 29,
    "start_time": "2021-11-14T17:48:30.126Z"
   },
   {
    "duration": 34,
    "start_time": "2021-11-14T17:48:32.211Z"
   },
   {
    "duration": 4,
    "start_time": "2021-11-14T17:48:56.831Z"
   },
   {
    "duration": 25,
    "start_time": "2021-11-14T17:49:33.389Z"
   },
   {
    "duration": 688,
    "start_time": "2021-11-14T17:49:48.405Z"
   },
   {
    "duration": 47,
    "start_time": "2021-11-14T17:50:42.407Z"
   },
   {
    "duration": 5,
    "start_time": "2021-11-14T17:51:11.694Z"
   },
   {
    "duration": 5,
    "start_time": "2021-11-14T17:51:15.094Z"
   },
   {
    "duration": 28,
    "start_time": "2021-11-14T17:51:17.246Z"
   },
   {
    "duration": 26,
    "start_time": "2021-11-14T17:51:40.870Z"
   },
   {
    "duration": 25,
    "start_time": "2021-11-14T17:51:45.110Z"
   },
   {
    "duration": 5,
    "start_time": "2021-11-14T17:51:54.022Z"
   },
   {
    "duration": 799,
    "start_time": "2021-11-14T17:51:56.076Z"
   },
   {
    "duration": 741,
    "start_time": "2021-11-14T17:52:11.182Z"
   },
   {
    "duration": 727,
    "start_time": "2021-11-14T17:52:18.689Z"
   },
   {
    "duration": 202,
    "start_time": "2021-11-14T17:52:21.352Z"
   },
   {
    "duration": 13,
    "start_time": "2021-11-14T17:52:43.552Z"
   },
   {
    "duration": 29,
    "start_time": "2021-11-14T17:52:45.304Z"
   },
   {
    "duration": 5,
    "start_time": "2021-11-14T17:52:46.897Z"
   },
   {
    "duration": 30,
    "start_time": "2021-11-14T17:52:49.753Z"
   },
   {
    "duration": 46,
    "start_time": "2021-11-14T17:52:52.009Z"
   },
   {
    "duration": 29,
    "start_time": "2021-11-14T17:52:53.674Z"
   },
   {
    "duration": 80,
    "start_time": "2021-11-14T17:52:56.697Z"
   },
   {
    "duration": 104,
    "start_time": "2021-11-14T17:52:58.034Z"
   },
   {
    "duration": 74,
    "start_time": "2021-11-14T17:52:59.353Z"
   },
   {
    "duration": 10,
    "start_time": "2021-11-14T17:53:01.577Z"
   },
   {
    "duration": 4,
    "start_time": "2021-11-14T17:53:12.047Z"
   },
   {
    "duration": 14,
    "start_time": "2021-11-14T17:53:13.489Z"
   },
   {
    "duration": 11,
    "start_time": "2021-11-14T17:53:15.370Z"
   },
   {
    "duration": 19,
    "start_time": "2021-11-14T17:53:20.122Z"
   },
   {
    "duration": 31,
    "start_time": "2021-11-14T17:53:22.969Z"
   },
   {
    "duration": 16,
    "start_time": "2021-11-14T17:53:25.449Z"
   },
   {
    "duration": 4,
    "start_time": "2021-11-14T17:53:28.066Z"
   },
   {
    "duration": 26,
    "start_time": "2021-11-14T17:53:31.523Z"
   },
   {
    "duration": 25,
    "start_time": "2021-11-14T17:53:36.601Z"
   },
   {
    "duration": 25,
    "start_time": "2021-11-14T17:56:22.364Z"
   },
   {
    "duration": 25,
    "start_time": "2021-11-14T17:56:24.724Z"
   },
   {
    "duration": 27,
    "start_time": "2021-11-14T17:56:26.260Z"
   },
   {
    "duration": 26,
    "start_time": "2021-11-14T17:56:27.740Z"
   },
   {
    "duration": 12,
    "start_time": "2021-11-14T17:57:24.929Z"
   },
   {
    "duration": 26,
    "start_time": "2021-11-14T18:01:37.370Z"
   },
   {
    "duration": 25,
    "start_time": "2021-11-14T18:01:52.076Z"
   },
   {
    "duration": 16,
    "start_time": "2021-11-14T18:08:39.899Z"
   },
   {
    "duration": 11,
    "start_time": "2021-11-14T18:08:41.059Z"
   },
   {
    "duration": 5,
    "start_time": "2021-11-14T18:21:45.491Z"
   },
   {
    "duration": 912,
    "start_time": "2021-11-14T18:23:28.103Z"
   },
   {
    "duration": 5,
    "start_time": "2021-11-14T18:24:12.229Z"
   },
   {
    "duration": 743,
    "start_time": "2021-11-14T18:24:13.965Z"
   },
   {
    "duration": 5,
    "start_time": "2021-11-14T18:24:24.573Z"
   },
   {
    "duration": 784,
    "start_time": "2021-11-14T18:24:25.493Z"
   },
   {
    "duration": 8,
    "start_time": "2021-11-14T18:26:08.784Z"
   },
   {
    "duration": 27,
    "start_time": "2021-11-14T18:26:09.703Z"
   },
   {
    "duration": 36,
    "start_time": "2021-11-14T18:26:13.935Z"
   },
   {
    "duration": 34,
    "start_time": "2021-11-14T18:26:29.033Z"
   },
   {
    "duration": 33,
    "start_time": "2021-11-14T18:27:13.081Z"
   },
   {
    "duration": 34,
    "start_time": "2021-11-14T18:27:29.673Z"
   },
   {
    "duration": 12,
    "start_time": "2021-11-14T18:27:38.757Z"
   },
   {
    "duration": 6,
    "start_time": "2021-11-14T18:27:41.927Z"
   },
   {
    "duration": 28,
    "start_time": "2021-11-14T18:27:54.569Z"
   },
   {
    "duration": 26,
    "start_time": "2021-11-14T18:29:21.724Z"
   },
   {
    "duration": 27,
    "start_time": "2021-11-14T18:29:23.372Z"
   },
   {
    "duration": 16,
    "start_time": "2021-11-14T18:29:57.700Z"
   },
   {
    "duration": 8,
    "start_time": "2021-11-14T18:29:59.548Z"
   },
   {
    "duration": 29,
    "start_time": "2021-11-14T18:30:16.014Z"
   },
   {
    "duration": 34,
    "start_time": "2021-11-14T18:30:27.754Z"
   },
   {
    "duration": 13,
    "start_time": "2021-11-14T18:30:52.542Z"
   },
   {
    "duration": 14,
    "start_time": "2021-11-14T18:30:54.565Z"
   },
   {
    "duration": 6,
    "start_time": "2021-11-14T18:30:56.382Z"
   },
   {
    "duration": 31,
    "start_time": "2021-11-14T18:30:58.349Z"
   },
   {
    "duration": 42,
    "start_time": "2021-11-14T18:31:00.139Z"
   },
   {
    "duration": 12,
    "start_time": "2021-11-14T18:31:28.965Z"
   },
   {
    "duration": 5,
    "start_time": "2021-11-14T18:31:32.119Z"
   },
   {
    "duration": 29,
    "start_time": "2021-11-14T18:31:33.991Z"
   },
   {
    "duration": 32,
    "start_time": "2021-11-14T18:31:35.452Z"
   },
   {
    "duration": 27,
    "start_time": "2021-11-14T18:32:10.613Z"
   },
   {
    "duration": 26,
    "start_time": "2021-11-14T18:32:11.950Z"
   },
   {
    "duration": 372,
    "start_time": "2021-11-14T18:32:42.808Z"
   },
   {
    "duration": 44,
    "start_time": "2021-11-14T18:32:50.928Z"
   },
   {
    "duration": 5,
    "start_time": "2021-11-14T18:33:34.889Z"
   },
   {
    "duration": 851,
    "start_time": "2021-11-14T18:33:36.520Z"
   },
   {
    "duration": 6,
    "start_time": "2021-11-14T18:33:58.553Z"
   },
   {
    "duration": 29,
    "start_time": "2021-11-14T18:34:01.191Z"
   },
   {
    "duration": 29,
    "start_time": "2021-11-14T18:34:03.224Z"
   },
   {
    "duration": 376,
    "start_time": "2021-11-14T18:34:12.321Z"
   },
   {
    "duration": 7,
    "start_time": "2021-11-14T18:34:41.338Z"
   },
   {
    "duration": 30,
    "start_time": "2021-11-14T18:34:43.209Z"
   },
   {
    "duration": 30,
    "start_time": "2021-11-14T18:34:44.858Z"
   },
   {
    "duration": 760,
    "start_time": "2021-11-14T18:35:07.012Z"
   },
   {
    "duration": 181,
    "start_time": "2021-11-14T18:35:10.095Z"
   },
   {
    "duration": 26,
    "start_time": "2021-11-14T18:35:11.246Z"
   },
   {
    "duration": 31,
    "start_time": "2021-11-14T18:35:13.171Z"
   },
   {
    "duration": 5,
    "start_time": "2021-11-14T18:35:17.338Z"
   },
   {
    "duration": 26,
    "start_time": "2021-11-14T18:35:19.689Z"
   },
   {
    "duration": 6,
    "start_time": "2021-11-14T18:35:20.900Z"
   },
   {
    "duration": 31,
    "start_time": "2021-11-14T18:35:22.052Z"
   },
   {
    "duration": 42,
    "start_time": "2021-11-14T18:35:24.139Z"
   },
   {
    "duration": 32,
    "start_time": "2021-11-14T18:35:25.293Z"
   },
   {
    "duration": 80,
    "start_time": "2021-11-14T18:35:26.933Z"
   },
   {
    "duration": 98,
    "start_time": "2021-11-14T18:35:28.418Z"
   },
   {
    "duration": 73,
    "start_time": "2021-11-14T18:35:31.948Z"
   },
   {
    "duration": 9,
    "start_time": "2021-11-14T18:35:33.891Z"
   },
   {
    "duration": 4,
    "start_time": "2021-11-14T18:35:39.860Z"
   },
   {
    "duration": 13,
    "start_time": "2021-11-14T18:35:41.498Z"
   },
   {
    "duration": 9,
    "start_time": "2021-11-14T18:35:44.603Z"
   },
   {
    "duration": 15,
    "start_time": "2021-11-14T18:35:48.797Z"
   },
   {
    "duration": 33,
    "start_time": "2021-11-14T18:35:53.570Z"
   },
   {
    "duration": 17,
    "start_time": "2021-11-14T18:35:57.522Z"
   },
   {
    "duration": 5,
    "start_time": "2021-11-14T18:36:01.579Z"
   },
   {
    "duration": 25,
    "start_time": "2021-11-14T18:36:13.551Z"
   },
   {
    "duration": 25,
    "start_time": "2021-11-14T18:36:15.266Z"
   },
   {
    "duration": 24,
    "start_time": "2021-11-14T18:36:16.715Z"
   },
   {
    "duration": 12,
    "start_time": "2021-11-14T18:36:30.940Z"
   },
   {
    "duration": 15,
    "start_time": "2021-11-14T18:36:36.939Z"
   },
   {
    "duration": 43,
    "start_time": "2021-11-14T18:36:38.493Z"
   },
   {
    "duration": 6,
    "start_time": "2021-11-14T18:36:44.174Z"
   },
   {
    "duration": 31,
    "start_time": "2021-11-14T18:36:46.732Z"
   },
   {
    "duration": 29,
    "start_time": "2021-11-14T18:36:47.972Z"
   },
   {
    "duration": 30,
    "start_time": "2021-11-14T18:37:37.173Z"
   },
   {
    "duration": 26,
    "start_time": "2021-11-14T18:37:38.900Z"
   },
   {
    "duration": 58,
    "start_time": "2021-11-14T18:40:04.194Z"
   },
   {
    "duration": 48,
    "start_time": "2021-11-14T18:40:50.476Z"
   },
   {
    "duration": 528,
    "start_time": "2021-11-14T18:41:00.275Z"
   },
   {
    "duration": 49,
    "start_time": "2021-11-14T18:41:18.019Z"
   },
   {
    "duration": 44,
    "start_time": "2021-11-14T18:41:35.507Z"
   },
   {
    "duration": 46,
    "start_time": "2021-11-14T18:41:45.522Z"
   },
   {
    "duration": 50,
    "start_time": "2021-11-14T18:41:53.753Z"
   },
   {
    "duration": 6,
    "start_time": "2021-11-14T18:43:31.885Z"
   },
   {
    "duration": 31,
    "start_time": "2021-11-14T18:43:33.772Z"
   },
   {
    "duration": 29,
    "start_time": "2021-11-14T18:43:35.180Z"
   },
   {
    "duration": 30,
    "start_time": "2021-11-14T18:44:39.126Z"
   },
   {
    "duration": 28,
    "start_time": "2021-11-14T18:44:40.782Z"
   },
   {
    "duration": 8,
    "start_time": "2021-11-14T18:44:43.765Z"
   },
   {
    "duration": 27,
    "start_time": "2021-11-14T18:44:46.901Z"
   },
   {
    "duration": 21,
    "start_time": "2021-11-14T18:44:51.766Z"
   },
   {
    "duration": 25,
    "start_time": "2021-11-14T18:45:07.845Z"
   },
   {
    "duration": 21,
    "start_time": "2021-11-14T18:45:10.138Z"
   },
   {
    "duration": 33,
    "start_time": "2021-11-14T18:54:45.155Z"
   },
   {
    "duration": 13,
    "start_time": "2021-11-14T19:00:12.128Z"
   },
   {
    "duration": 13,
    "start_time": "2021-11-14T19:00:55.219Z"
   },
   {
    "duration": 14,
    "start_time": "2021-11-14T19:08:20.689Z"
   },
   {
    "duration": 16,
    "start_time": "2021-11-14T19:11:14.475Z"
   },
   {
    "duration": 12,
    "start_time": "2021-11-14T19:11:34.748Z"
   },
   {
    "duration": 6,
    "start_time": "2021-11-14T19:11:48.624Z"
   },
   {
    "duration": 4,
    "start_time": "2021-11-15T08:20:55.179Z"
   },
   {
    "duration": 584,
    "start_time": "2021-11-15T08:21:02.815Z"
   },
   {
    "duration": 151,
    "start_time": "2021-11-15T08:21:03.401Z"
   },
   {
    "duration": 18,
    "start_time": "2021-11-15T08:21:03.554Z"
   },
   {
    "duration": 26,
    "start_time": "2021-11-15T08:21:03.574Z"
   },
   {
    "duration": 4,
    "start_time": "2021-11-15T08:21:03.602Z"
   },
   {
    "duration": 23,
    "start_time": "2021-11-15T08:21:03.607Z"
   },
   {
    "duration": 32,
    "start_time": "2021-11-15T08:21:03.632Z"
   },
   {
    "duration": 23,
    "start_time": "2021-11-15T08:21:03.667Z"
   },
   {
    "duration": 31,
    "start_time": "2021-11-15T08:21:03.692Z"
   },
   {
    "duration": 21,
    "start_time": "2021-11-15T08:21:03.725Z"
   },
   {
    "duration": 57,
    "start_time": "2021-11-15T08:21:03.764Z"
   },
   {
    "duration": 93,
    "start_time": "2021-11-15T08:21:03.823Z"
   },
   {
    "duration": 63,
    "start_time": "2021-11-15T08:21:03.918Z"
   },
   {
    "duration": 8,
    "start_time": "2021-11-15T08:21:03.983Z"
   },
   {
    "duration": 3,
    "start_time": "2021-11-15T08:21:03.993Z"
   },
   {
    "duration": 15,
    "start_time": "2021-11-15T08:21:03.997Z"
   },
   {
    "duration": 7,
    "start_time": "2021-11-15T08:21:04.014Z"
   },
   {
    "duration": 11,
    "start_time": "2021-11-15T08:21:04.023Z"
   },
   {
    "duration": 25,
    "start_time": "2021-11-15T08:21:04.064Z"
   },
   {
    "duration": 11,
    "start_time": "2021-11-15T08:21:04.091Z"
   },
   {
    "duration": 3,
    "start_time": "2021-11-15T08:21:04.103Z"
   },
   {
    "duration": 20,
    "start_time": "2021-11-15T08:21:04.108Z"
   },
   {
    "duration": 43,
    "start_time": "2021-11-15T08:21:04.132Z"
   },
   {
    "duration": 16,
    "start_time": "2021-11-15T08:21:04.177Z"
   },
   {
    "duration": 14,
    "start_time": "2021-11-15T08:21:04.194Z"
   },
   {
    "duration": 17,
    "start_time": "2021-11-15T08:21:04.209Z"
   },
   {
    "duration": 43,
    "start_time": "2021-11-15T08:21:04.228Z"
   },
   {
    "duration": 8,
    "start_time": "2021-11-15T08:21:04.273Z"
   },
   {
    "duration": 13,
    "start_time": "2021-11-15T08:21:04.283Z"
   },
   {
    "duration": 34,
    "start_time": "2021-11-15T08:21:04.298Z"
   },
   {
    "duration": 4,
    "start_time": "2021-11-15T08:21:04.334Z"
   },
   {
    "duration": 24,
    "start_time": "2021-11-15T08:21:04.363Z"
   },
   {
    "duration": 14,
    "start_time": "2021-11-15T08:21:04.388Z"
   },
   {
    "duration": 51,
    "start_time": "2021-11-15T08:21:04.404Z"
   },
   {
    "duration": 14,
    "start_time": "2021-11-15T08:21:04.457Z"
   },
   {
    "duration": 10,
    "start_time": "2021-11-15T08:21:04.472Z"
   },
   {
    "duration": 5,
    "start_time": "2021-11-15T08:21:04.484Z"
   },
   {
    "duration": 14,
    "start_time": "2021-11-15T08:21:04.490Z"
   },
   {
    "duration": 4,
    "start_time": "2021-11-15T08:21:04.505Z"
   },
   {
    "duration": 3,
    "start_time": "2021-11-15T08:21:46.692Z"
   },
   {
    "duration": 21,
    "start_time": "2021-11-15T08:21:48.582Z"
   },
   {
    "duration": 21,
    "start_time": "2021-11-15T08:21:49.413Z"
   },
   {
    "duration": 19,
    "start_time": "2021-11-15T08:21:49.923Z"
   },
   {
    "duration": 19,
    "start_time": "2021-11-15T08:21:50.125Z"
   },
   {
    "duration": 21,
    "start_time": "2021-11-15T08:21:50.356Z"
   },
   {
    "duration": 20,
    "start_time": "2021-11-15T08:21:50.653Z"
   },
   {
    "duration": 90,
    "start_time": "2021-11-15T08:22:50.447Z"
   },
   {
    "duration": 951,
    "start_time": "2021-11-15T09:06:30.337Z"
   },
   {
    "duration": 987,
    "start_time": "2021-11-15T09:06:38.766Z"
   },
   {
    "duration": 213,
    "start_time": "2021-11-15T09:06:40.749Z"
   },
   {
    "duration": 27,
    "start_time": "2021-11-15T09:06:42.488Z"
   },
   {
    "duration": 31,
    "start_time": "2021-11-15T09:06:44.574Z"
   },
   {
    "duration": 7,
    "start_time": "2021-11-15T09:06:47.782Z"
   },
   {
    "duration": 35,
    "start_time": "2021-11-15T09:06:49.862Z"
   },
   {
    "duration": 6,
    "start_time": "2021-11-15T09:06:52.030Z"
   },
   {
    "duration": 39,
    "start_time": "2021-11-15T09:06:54.989Z"
   },
   {
    "duration": 29,
    "start_time": "2021-11-15T09:06:57.626Z"
   },
   {
    "duration": 37,
    "start_time": "2021-11-15T09:07:09.702Z"
   },
   {
    "duration": 97,
    "start_time": "2021-11-15T09:07:12.327Z"
   },
   {
    "duration": 114,
    "start_time": "2021-11-15T09:07:14.111Z"
   },
   {
    "duration": 81,
    "start_time": "2021-11-15T09:07:16.287Z"
   },
   {
    "duration": 60,
    "start_time": "2021-11-15T09:07:48.607Z"
   },
   {
    "duration": 69,
    "start_time": "2021-11-15T09:09:33.068Z"
   },
   {
    "duration": 62,
    "start_time": "2021-11-15T09:10:21.893Z"
   },
   {
    "duration": 23,
    "start_time": "2021-11-15T09:10:43.052Z"
   },
   {
    "duration": 12,
    "start_time": "2021-11-15T09:11:25.884Z"
   },
   {
    "duration": 23,
    "start_time": "2021-11-15T09:11:27.764Z"
   },
   {
    "duration": 21,
    "start_time": "2021-11-15T09:11:54.812Z"
   },
   {
    "duration": 306,
    "start_time": "2021-11-15T09:15:11.616Z"
   },
   {
    "duration": 5,
    "start_time": "2021-11-15T09:15:41.289Z"
   },
   {
    "duration": 19,
    "start_time": "2021-11-15T09:15:46.985Z"
   },
   {
    "duration": 20,
    "start_time": "2021-11-15T09:15:49.480Z"
   },
   {
    "duration": 26,
    "start_time": "2021-11-15T09:15:52.055Z"
   },
   {
    "duration": 23,
    "start_time": "2021-11-15T09:15:53.343Z"
   },
   {
    "duration": 25,
    "start_time": "2021-11-15T09:15:54.761Z"
   },
   {
    "duration": 22,
    "start_time": "2021-11-15T09:15:55.991Z"
   },
   {
    "duration": 12,
    "start_time": "2021-11-15T09:16:47.947Z"
   },
   {
    "duration": 5,
    "start_time": "2021-11-15T09:18:47.717Z"
   },
   {
    "duration": 5,
    "start_time": "2021-11-15T09:18:51.839Z"
   },
   {
    "duration": 432,
    "start_time": "2021-11-15T09:18:54.108Z"
   },
   {
    "duration": 5,
    "start_time": "2021-11-15T09:19:20.333Z"
   },
   {
    "duration": 467,
    "start_time": "2021-11-15T09:19:44.573Z"
   },
   {
    "duration": 15,
    "start_time": "2021-11-15T09:20:11.340Z"
   },
   {
    "duration": 47,
    "start_time": "2021-11-15T09:20:12.484Z"
   },
   {
    "duration": 8,
    "start_time": "2021-11-15T09:20:15.638Z"
   },
   {
    "duration": 33,
    "start_time": "2021-11-15T09:20:18.524Z"
   },
   {
    "duration": 383,
    "start_time": "2021-11-15T09:26:18.318Z"
   },
   {
    "duration": 34,
    "start_time": "2021-11-15T09:36:03.603Z"
   },
   {
    "duration": 18,
    "start_time": "2021-11-15T09:36:13.312Z"
   },
   {
    "duration": 46,
    "start_time": "2021-11-15T09:36:14.993Z"
   },
   {
    "duration": 6,
    "start_time": "2021-11-15T09:36:20.501Z"
   },
   {
    "duration": 41,
    "start_time": "2021-11-15T09:36:24.624Z"
   },
   {
    "duration": 5,
    "start_time": "2021-11-15T09:37:39.002Z"
   },
   {
    "duration": 30,
    "start_time": "2021-11-15T09:37:40.601Z"
   },
   {
    "duration": 33,
    "start_time": "2021-11-15T09:37:42.774Z"
   },
   {
    "duration": 5,
    "start_time": "2021-11-15T09:39:52.933Z"
   },
   {
    "duration": 30,
    "start_time": "2021-11-15T09:39:55.020Z"
   },
   {
    "duration": 5,
    "start_time": "2021-11-15T09:40:15.886Z"
   },
   {
    "duration": 31,
    "start_time": "2021-11-15T09:40:17.188Z"
   },
   {
    "duration": 915,
    "start_time": "2021-11-15T09:42:25.421Z"
   },
   {
    "duration": 189,
    "start_time": "2021-11-15T09:42:27.489Z"
   },
   {
    "duration": 26,
    "start_time": "2021-11-15T09:42:29.340Z"
   },
   {
    "duration": 41,
    "start_time": "2021-11-15T09:42:31.728Z"
   },
   {
    "duration": 6,
    "start_time": "2021-11-15T09:42:34.778Z"
   },
   {
    "duration": 24,
    "start_time": "2021-11-15T09:42:36.602Z"
   },
   {
    "duration": 6,
    "start_time": "2021-11-15T09:42:38.497Z"
   },
   {
    "duration": 30,
    "start_time": "2021-11-15T09:42:39.890Z"
   },
   {
    "duration": 29,
    "start_time": "2021-11-15T09:42:41.672Z"
   },
   {
    "duration": 36,
    "start_time": "2021-11-15T09:42:43.267Z"
   },
   {
    "duration": 93,
    "start_time": "2021-11-15T09:42:44.972Z"
   },
   {
    "duration": 104,
    "start_time": "2021-11-15T09:42:47.042Z"
   },
   {
    "duration": 84,
    "start_time": "2021-11-15T09:42:48.258Z"
   },
   {
    "duration": 58,
    "start_time": "2021-11-15T09:42:50.586Z"
   },
   {
    "duration": 64,
    "start_time": "2021-11-15T09:44:58.605Z"
   },
   {
    "duration": 79,
    "start_time": "2021-11-15T09:45:01.029Z"
   },
   {
    "duration": 10,
    "start_time": "2021-11-15T09:45:05.367Z"
   },
   {
    "duration": 16,
    "start_time": "2021-11-15T09:45:06.844Z"
   },
   {
    "duration": 66,
    "start_time": "2021-11-15T09:45:09.072Z"
   },
   {
    "duration": 16,
    "start_time": "2021-11-15T09:45:12.816Z"
   },
   {
    "duration": 41,
    "start_time": "2021-11-15T09:45:15.094Z"
   },
   {
    "duration": 28,
    "start_time": "2021-11-15T09:45:16.958Z"
   },
   {
    "duration": 5,
    "start_time": "2021-11-15T09:45:20.328Z"
   },
   {
    "duration": 22,
    "start_time": "2021-11-15T09:45:24.900Z"
   },
   {
    "duration": 18,
    "start_time": "2021-11-15T09:45:27.317Z"
   },
   {
    "duration": 29,
    "start_time": "2021-11-15T09:45:30.266Z"
   },
   {
    "duration": 20,
    "start_time": "2021-11-15T09:45:31.782Z"
   },
   {
    "duration": 26,
    "start_time": "2021-11-15T09:45:34.237Z"
   },
   {
    "duration": 23,
    "start_time": "2021-11-15T09:45:35.677Z"
   },
   {
    "duration": 20,
    "start_time": "2021-11-15T09:45:37.109Z"
   },
   {
    "duration": 17,
    "start_time": "2021-11-15T09:45:38.421Z"
   },
   {
    "duration": 25,
    "start_time": "2021-11-15T09:45:39.886Z"
   },
   {
    "duration": 23,
    "start_time": "2021-11-15T09:45:41.374Z"
   },
   {
    "duration": 17,
    "start_time": "2021-11-15T09:45:43.638Z"
   },
   {
    "duration": 14,
    "start_time": "2021-11-15T09:46:12.296Z"
   },
   {
    "duration": 18,
    "start_time": "2021-11-15T09:46:28.055Z"
   },
   {
    "duration": 17,
    "start_time": "2021-11-15T09:46:41.245Z"
   },
   {
    "duration": 48,
    "start_time": "2021-11-15T09:46:42.382Z"
   },
   {
    "duration": 13,
    "start_time": "2021-11-15T09:46:54.599Z"
   },
   {
    "duration": 8,
    "start_time": "2021-11-15T09:47:02.368Z"
   },
   {
    "duration": 39,
    "start_time": "2021-11-15T09:47:05.047Z"
   },
   {
    "duration": 38,
    "start_time": "2021-11-15T09:47:07.047Z"
   },
   {
    "duration": 34,
    "start_time": "2021-11-15T09:47:09.992Z"
   },
   {
    "duration": 30,
    "start_time": "2021-11-15T09:47:11.598Z"
   },
   {
    "duration": 18,
    "start_time": "2021-11-15T09:47:21.648Z"
   },
   {
    "duration": 13,
    "start_time": "2021-11-15T09:47:35.184Z"
   },
   {
    "duration": 8,
    "start_time": "2021-11-15T09:47:41.471Z"
   },
   {
    "duration": 11,
    "start_time": "2021-11-15T09:47:45.641Z"
   },
   {
    "duration": 7,
    "start_time": "2021-11-15T09:47:48.815Z"
   },
   {
    "duration": 33,
    "start_time": "2021-11-15T09:48:34.282Z"
   },
   {
    "duration": 31,
    "start_time": "2021-11-15T09:48:41.507Z"
   },
   {
    "duration": 241,
    "start_time": "2021-11-15T09:50:07.884Z"
   },
   {
    "duration": 114,
    "start_time": "2021-11-15T09:51:17.176Z"
   },
   {
    "duration": 1150,
    "start_time": "2021-11-15T09:51:45.126Z"
   },
   {
    "duration": 58,
    "start_time": "2021-11-15T09:52:10.077Z"
   },
   {
    "duration": 6,
    "start_time": "2021-11-15T09:55:05.763Z"
   },
   {
    "duration": 36,
    "start_time": "2021-11-15T09:55:07.545Z"
   },
   {
    "duration": 32,
    "start_time": "2021-11-15T09:55:10.816Z"
   },
   {
    "duration": 32,
    "start_time": "2021-11-15T09:55:12.800Z"
   },
   {
    "duration": 33,
    "start_time": "2021-11-15T09:55:15.977Z"
   },
   {
    "duration": 17,
    "start_time": "2021-11-15T10:02:23.556Z"
   },
   {
    "duration": 604,
    "start_time": "2021-11-15T11:02:08.911Z"
   },
   {
    "duration": 167,
    "start_time": "2021-11-15T11:02:09.517Z"
   },
   {
    "duration": 17,
    "start_time": "2021-11-15T11:02:09.686Z"
   },
   {
    "duration": 26,
    "start_time": "2021-11-15T11:02:09.705Z"
   },
   {
    "duration": 6,
    "start_time": "2021-11-15T11:02:09.734Z"
   },
   {
    "duration": 24,
    "start_time": "2021-11-15T11:02:09.772Z"
   },
   {
    "duration": 6,
    "start_time": "2021-11-15T11:02:09.797Z"
   },
   {
    "duration": 26,
    "start_time": "2021-11-15T11:02:09.805Z"
   },
   {
    "duration": 34,
    "start_time": "2021-11-15T11:02:09.833Z"
   },
   {
    "duration": 28,
    "start_time": "2021-11-15T11:02:09.869Z"
   },
   {
    "duration": 79,
    "start_time": "2021-11-15T11:02:09.899Z"
   },
   {
    "duration": 84,
    "start_time": "2021-11-15T11:02:09.980Z"
   },
   {
    "duration": 59,
    "start_time": "2021-11-15T11:02:10.067Z"
   },
   {
    "duration": 61,
    "start_time": "2021-11-15T11:02:10.128Z"
   },
   {
    "duration": 10,
    "start_time": "2021-11-15T11:02:10.191Z"
   },
   {
    "duration": 14,
    "start_time": "2021-11-15T11:02:10.203Z"
   },
   {
    "duration": 51,
    "start_time": "2021-11-15T11:02:10.219Z"
   },
   {
    "duration": 14,
    "start_time": "2021-11-15T11:02:10.272Z"
   },
   {
    "duration": 25,
    "start_time": "2021-11-15T11:02:10.288Z"
   },
   {
    "duration": 12,
    "start_time": "2021-11-15T11:02:10.315Z"
   },
   {
    "duration": 3,
    "start_time": "2021-11-15T11:02:10.329Z"
   },
   {
    "duration": 48,
    "start_time": "2021-11-15T11:02:10.334Z"
   },
   {
    "duration": 15,
    "start_time": "2021-11-15T11:02:10.386Z"
   },
   {
    "duration": 26,
    "start_time": "2021-11-15T11:02:10.403Z"
   },
   {
    "duration": 36,
    "start_time": "2021-11-15T11:02:10.431Z"
   },
   {
    "duration": 23,
    "start_time": "2021-11-15T11:02:10.469Z"
   },
   {
    "duration": 17,
    "start_time": "2021-11-15T11:02:10.494Z"
   },
   {
    "duration": 10,
    "start_time": "2021-11-15T11:02:10.512Z"
   },
   {
    "duration": 46,
    "start_time": "2021-11-15T11:02:10.524Z"
   },
   {
    "duration": 13,
    "start_time": "2021-11-15T11:02:10.571Z"
   },
   {
    "duration": 12,
    "start_time": "2021-11-15T11:02:10.586Z"
   },
   {
    "duration": 52,
    "start_time": "2021-11-15T11:02:10.601Z"
   },
   {
    "duration": 35,
    "start_time": "2021-11-15T11:02:10.656Z"
   },
   {
    "duration": 23,
    "start_time": "2021-11-15T11:02:10.693Z"
   },
   {
    "duration": 21,
    "start_time": "2021-11-15T11:02:10.718Z"
   },
   {
    "duration": 14,
    "start_time": "2021-11-15T11:02:10.767Z"
   },
   {
    "duration": 4,
    "start_time": "2021-11-15T11:02:10.784Z"
   },
   {
    "duration": 10,
    "start_time": "2021-11-15T11:02:10.789Z"
   },
   {
    "duration": 4,
    "start_time": "2021-11-15T11:02:10.801Z"
   },
   {
    "duration": 7,
    "start_time": "2021-11-15T11:02:53.649Z"
   },
   {
    "duration": 4,
    "start_time": "2021-11-15T11:02:56.016Z"
   },
   {
    "duration": 31,
    "start_time": "2021-11-15T11:02:58.244Z"
   },
   {
    "duration": 21,
    "start_time": "2021-11-15T11:02:58.838Z"
   },
   {
    "duration": 26,
    "start_time": "2021-11-15T11:03:00.106Z"
   },
   {
    "duration": 24,
    "start_time": "2021-11-15T11:03:00.591Z"
   },
   {
    "duration": 4,
    "start_time": "2021-11-15T11:03:12.892Z"
   },
   {
    "duration": 5,
    "start_time": "2021-11-15T11:03:14.621Z"
   },
   {
    "duration": 24,
    "start_time": "2021-11-15T11:03:15.612Z"
   },
   {
    "duration": 24,
    "start_time": "2021-11-15T11:03:16.017Z"
   },
   {
    "duration": 27,
    "start_time": "2021-11-15T11:03:16.769Z"
   },
   {
    "duration": 24,
    "start_time": "2021-11-15T11:03:16.944Z"
   },
   {
    "duration": 5,
    "start_time": "2021-11-15T11:03:24.379Z"
   },
   {
    "duration": 4,
    "start_time": "2021-11-15T11:03:25.927Z"
   },
   {
    "duration": 25,
    "start_time": "2021-11-15T11:03:26.983Z"
   },
   {
    "duration": 24,
    "start_time": "2021-11-15T11:03:27.102Z"
   },
   {
    "duration": 22,
    "start_time": "2021-11-15T11:03:27.379Z"
   },
   {
    "duration": 27,
    "start_time": "2021-11-15T11:03:27.852Z"
   },
   {
    "duration": 8,
    "start_time": "2021-11-15T11:04:05.565Z"
   },
   {
    "duration": 6,
    "start_time": "2021-11-15T11:04:07.509Z"
   },
   {
    "duration": 4,
    "start_time": "2021-11-15T11:04:16.843Z"
   },
   {
    "duration": 4,
    "start_time": "2021-11-15T11:04:18.118Z"
   },
   {
    "duration": 683,
    "start_time": "2021-11-15T11:04:19.755Z"
   },
   {
    "duration": 4,
    "start_time": "2021-11-15T11:04:52.523Z"
   },
   {
    "duration": 5,
    "start_time": "2021-11-15T11:04:54.734Z"
   },
   {
    "duration": 24,
    "start_time": "2021-11-15T11:04:56.113Z"
   },
   {
    "duration": 21,
    "start_time": "2021-11-15T11:04:56.990Z"
   },
   {
    "duration": 25,
    "start_time": "2021-11-15T11:04:57.629Z"
   },
   {
    "duration": 25,
    "start_time": "2021-11-15T11:04:57.833Z"
   },
   {
    "duration": 4,
    "start_time": "2021-11-15T11:06:32.180Z"
   },
   {
    "duration": 5,
    "start_time": "2021-11-15T11:06:34.691Z"
   },
   {
    "duration": 21,
    "start_time": "2021-11-15T11:06:36.161Z"
   },
   {
    "duration": 16,
    "start_time": "2021-11-15T11:06:37.049Z"
   },
   {
    "duration": 21,
    "start_time": "2021-11-15T11:06:37.712Z"
   },
   {
    "duration": 14,
    "start_time": "2021-11-15T11:06:38.252Z"
   },
   {
    "duration": 4,
    "start_time": "2021-11-15T11:06:51.906Z"
   },
   {
    "duration": 24,
    "start_time": "2021-11-15T11:06:55.125Z"
   },
   {
    "duration": 22,
    "start_time": "2021-11-15T11:07:09.119Z"
   },
   {
    "duration": 5,
    "start_time": "2021-11-15T11:07:55.476Z"
   },
   {
    "duration": 19,
    "start_time": "2021-11-15T11:07:56.566Z"
   },
   {
    "duration": 13,
    "start_time": "2021-11-15T11:07:57.165Z"
   },
   {
    "duration": 21,
    "start_time": "2021-11-15T11:07:57.588Z"
   },
   {
    "duration": 4,
    "start_time": "2021-11-15T11:08:20.062Z"
   },
   {
    "duration": 24,
    "start_time": "2021-11-15T11:08:21.068Z"
   },
   {
    "duration": 22,
    "start_time": "2021-11-15T11:08:21.259Z"
   },
   {
    "duration": 25,
    "start_time": "2021-11-15T11:08:21.458Z"
   },
   {
    "duration": 31,
    "start_time": "2021-11-15T11:08:21.621Z"
   },
   {
    "duration": 407,
    "start_time": "2021-11-15T18:11:24.085Z"
   },
   {
    "duration": 581,
    "start_time": "2021-11-15T18:11:34.154Z"
   },
   {
    "duration": 133,
    "start_time": "2021-11-15T18:11:36.458Z"
   },
   {
    "duration": 9158,
    "start_time": "2021-11-15T18:11:49.068Z"
   },
   {
    "duration": 68,
    "start_time": "2021-11-15T18:11:58.160Z"
   },
   {
    "duration": 64,
    "start_time": "2021-11-15T18:11:58.166Z"
   },
   {
    "duration": 364,
    "start_time": "2021-11-15T18:11:58.786Z"
   },
   {
    "duration": 5,
    "start_time": "2021-11-15T18:12:04.115Z"
   },
   {
    "duration": 354,
    "start_time": "2021-11-15T18:12:19.875Z"
   },
   {
    "duration": 97,
    "start_time": "2021-11-15T18:12:39.602Z"
   },
   {
    "duration": 636,
    "start_time": "2021-11-15T18:12:57.385Z"
   },
   {
    "duration": 140,
    "start_time": "2021-11-15T18:13:00.379Z"
   },
   {
    "duration": 9725,
    "start_time": "2021-11-15T18:13:22.602Z"
   },
   {
    "duration": 3,
    "start_time": "2021-11-15T18:13:46.080Z"
   },
   {
    "duration": 684,
    "start_time": "2021-11-15T18:13:51.020Z"
   },
   {
    "duration": 138,
    "start_time": "2021-11-15T18:13:53.191Z"
   },
   {
    "duration": 18,
    "start_time": "2021-11-15T18:13:55.471Z"
   },
   {
    "duration": 36,
    "start_time": "2021-11-15T18:14:01.183Z"
   },
   {
    "duration": 4,
    "start_time": "2021-11-15T18:14:06.297Z"
   },
   {
    "duration": 19,
    "start_time": "2021-11-15T18:14:08.710Z"
   },
   {
    "duration": 4,
    "start_time": "2021-11-15T18:14:11.014Z"
   },
   {
    "duration": 22,
    "start_time": "2021-11-15T18:14:13.142Z"
   },
   {
    "duration": 18,
    "start_time": "2021-11-15T18:14:16.118Z"
   },
   {
    "duration": 22,
    "start_time": "2021-11-15T18:14:18.662Z"
   },
   {
    "duration": 56,
    "start_time": "2021-11-15T18:14:20.855Z"
   },
   {
    "duration": 68,
    "start_time": "2021-11-15T18:14:22.390Z"
   },
   {
    "duration": 52,
    "start_time": "2021-11-15T18:14:24.246Z"
   },
   {
    "duration": 40,
    "start_time": "2021-11-15T18:14:26.590Z"
   },
   {
    "duration": 3,
    "start_time": "2021-11-15T18:14:32.215Z"
   },
   {
    "duration": 10,
    "start_time": "2021-11-15T18:14:34.534Z"
   },
   {
    "duration": 38,
    "start_time": "2021-11-15T18:14:37.112Z"
   },
   {
    "duration": 10,
    "start_time": "2021-11-15T18:14:42.880Z"
   },
   {
    "duration": 22,
    "start_time": "2021-11-15T18:14:45.760Z"
   },
   {
    "duration": 10,
    "start_time": "2021-11-15T18:14:48.278Z"
   },
   {
    "duration": 4,
    "start_time": "2021-11-15T18:14:51.495Z"
   },
   {
    "duration": 16,
    "start_time": "2021-11-15T18:14:55.928Z"
   },
   {
    "duration": 14,
    "start_time": "2021-11-15T18:14:57.695Z"
   },
   {
    "duration": 15,
    "start_time": "2021-11-15T18:14:59.255Z"
   },
   {
    "duration": 14,
    "start_time": "2021-11-15T18:15:00.880Z"
   },
   {
    "duration": 16,
    "start_time": "2021-11-15T18:15:02.488Z"
   },
   {
    "duration": 15,
    "start_time": "2021-11-15T18:15:04.616Z"
   },
   {
    "duration": 9,
    "start_time": "2021-11-15T18:15:07.337Z"
   },
   {
    "duration": 11,
    "start_time": "2021-11-15T18:15:12.297Z"
   },
   {
    "duration": 9,
    "start_time": "2021-11-15T18:15:15.065Z"
   },
   {
    "duration": 4,
    "start_time": "2021-11-15T18:15:19.775Z"
   },
   {
    "duration": 19,
    "start_time": "2021-11-15T18:15:27.415Z"
   },
   {
    "duration": 13,
    "start_time": "2021-11-15T18:15:31.128Z"
   },
   {
    "duration": 14,
    "start_time": "2021-11-15T18:15:40.351Z"
   },
   {
    "duration": 19,
    "start_time": "2021-11-15T18:15:47.545Z"
   },
   {
    "duration": 13,
    "start_time": "2021-11-15T18:15:53.608Z"
   },
   {
    "duration": 9,
    "start_time": "2021-11-15T18:16:02.953Z"
   },
   {
    "duration": 4,
    "start_time": "2021-11-15T18:16:05.033Z"
   },
   {
    "duration": 6,
    "start_time": "2021-11-15T18:16:34.865Z"
   },
   {
    "duration": 5,
    "start_time": "2021-11-15T18:16:49.243Z"
   },
   {
    "duration": 16,
    "start_time": "2021-11-15T18:20:39.793Z"
   },
   {
    "duration": 21,
    "start_time": "2021-11-15T18:20:47.685Z"
   },
   {
    "duration": 54,
    "start_time": "2021-11-15T18:20:51.224Z"
   },
   {
    "duration": 64,
    "start_time": "2021-11-15T18:20:53.143Z"
   },
   {
    "duration": 51,
    "start_time": "2021-11-15T18:20:55.462Z"
   },
   {
    "duration": 310,
    "start_time": "2021-11-17T15:08:36.673Z"
   },
   {
    "duration": 780,
    "start_time": "2021-11-17T15:08:41.802Z"
   },
   {
    "duration": 185,
    "start_time": "2021-11-17T15:08:43.829Z"
   },
   {
    "duration": 881,
    "start_time": "2021-11-17T15:09:37.333Z"
   },
   {
    "duration": 4,
    "start_time": "2021-11-17T16:11:55.373Z"
   },
   {
    "duration": 197,
    "start_time": "2021-11-17T16:11:59.555Z"
   },
   {
    "duration": 770,
    "start_time": "2021-11-17T16:12:00.482Z"
   },
   {
    "duration": 26,
    "start_time": "2021-11-17T16:12:02.060Z"
   }
  ],
  "colab": {
   "collapsed_sections": [
    "E0vqbgi9ay0H",
    "VUC88oWjTJw2"
   ],
   "name": "yandex_music_project_2021.2.ipynb",
   "provenance": []
  },
  "kernelspec": {
   "display_name": "Python 3",
   "language": "python",
   "name": "python3"
  },
  "language_info": {
   "codemirror_mode": {
    "name": "ipython",
    "version": 3
   },
   "file_extension": ".py",
   "mimetype": "text/x-python",
   "name": "python",
   "nbconvert_exporter": "python",
   "pygments_lexer": "ipython3",
   "version": "3.6.2"
  },
  "toc": {
   "base_numbering": 1,
   "nav_menu": {},
   "number_sections": true,
   "sideBar": true,
   "skip_h1_title": true,
   "title_cell": "Table of Contents",
   "title_sidebar": "Contents",
   "toc_cell": false,
   "toc_position": {
    "height": "calc(100% - 180px)",
    "left": "10px",
    "top": "150px",
    "width": "165px"
   },
   "toc_section_display": true,
   "toc_window_display": false
  }
 },
 "nbformat": 4,
 "nbformat_minor": 1
}
