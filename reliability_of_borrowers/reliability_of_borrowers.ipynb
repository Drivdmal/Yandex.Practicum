{
 "cells": [
  {
   "cell_type": "markdown",
   "metadata": {},
   "source": [
    "# Исследование надёжности заёмщиков\n",
    "\n",
    "Нужно разобраться, влияет ли семейное положение и количество детей клиента на факт погашения кредита в срок. Входные данные от банка — статистика о платёжеспособности клиентов.\n",
    "\n",
    "Такое исследование может помочь при построении модели **кредитного скоринга** — специальной системы, которая оценивает способность потенциального заёмщика вернуть кредит банку."
   ]
  },
  {
   "cell_type": "markdown",
   "metadata": {},
   "source": [
    "## 1 Шаг. Откроем файл с данными и изучим общую информацию"
   ]
  },
  {
   "cell_type": "markdown",
   "metadata": {},
   "source": [
    "Импортируем необходимые библиотеки"
   ]
  },
  {
   "cell_type": "code",
   "execution_count": 86,
   "metadata": {},
   "outputs": [],
   "source": [
    "import pandas as pd"
   ]
  },
  {
   "cell_type": "markdown",
   "metadata": {},
   "source": [
    "Прочитаем данные в переменную `data`"
   ]
  },
  {
   "cell_type": "code",
   "execution_count": 87,
   "metadata": {},
   "outputs": [],
   "source": [
    "data = pd.read_csv('/datasets/data.csv')"
   ]
  },
  {
   "cell_type": "markdown",
   "metadata": {},
   "source": [
    "### Исследуем названия признаков"
   ]
  },
  {
   "cell_type": "code",
   "execution_count": 88,
   "metadata": {},
   "outputs": [
    {
     "name": "stdout",
     "output_type": "stream",
     "text": [
      "\"children\"\n",
      "\"days_employed\"\n",
      "\"dob_years\"\n",
      "\"education\"\n",
      "\"education_id\"\n",
      "\"family_status\"\n",
      "\"family_status_id\"\n",
      "\"gender\"\n",
      "\"income_type\"\n",
      "\"debt\"\n",
      "\"total_income\"\n",
      "\"purpose\"\n"
     ]
    }
   ],
   "source": [
    "_ = [print('\"{}\"'.format(x)) for x in data.columns]"
   ]
  },
  {
   "cell_type": "markdown",
   "metadata": {},
   "source": [
    "Названия признаков оформлены корректно - змеиный регистр, нет лишних символов"
   ]
  },
  {
   "cell_type": "markdown",
   "metadata": {},
   "source": [
    "### Посмотрим на общие сведения о датафрейме"
   ]
  },
  {
   "cell_type": "code",
   "execution_count": 89,
   "metadata": {},
   "outputs": [
    {
     "name": "stdout",
     "output_type": "stream",
     "text": [
      "<class 'pandas.core.frame.DataFrame'>\n",
      "RangeIndex: 21525 entries, 0 to 21524\n",
      "Data columns (total 12 columns):\n",
      " #   Column            Non-Null Count  Dtype  \n",
      "---  ------            --------------  -----  \n",
      " 0   children          21525 non-null  int64  \n",
      " 1   days_employed     19351 non-null  float64\n",
      " 2   dob_years         21525 non-null  int64  \n",
      " 3   education         21525 non-null  object \n",
      " 4   education_id      21525 non-null  int64  \n",
      " 5   family_status     21525 non-null  object \n",
      " 6   family_status_id  21525 non-null  int64  \n",
      " 7   gender            21525 non-null  object \n",
      " 8   income_type       21525 non-null  object \n",
      " 9   debt              21525 non-null  int64  \n",
      " 10  total_income      19351 non-null  float64\n",
      " 11  purpose           21525 non-null  object \n",
      "dtypes: float64(2), int64(5), object(5)\n",
      "memory usage: 2.0+ MB\n"
     ]
    }
   ],
   "source": [
    "data.info()"
   ]
  },
  {
   "cell_type": "markdown",
   "metadata": {},
   "source": [
    "1. Мы имеем датафрейм размерностью 12 х 21525. В нём содержатся данные типа int64, float64 и object (str). \n",
    "2. Присутствуют пропуски в признаках days_employed и total_income, в обоих признаках пропущено 2174 значения.  \n",
    "\n",
    "Проверим, в одних и тех же или в разных строках пропущены значения"
   ]
  },
  {
   "cell_type": "code",
   "execution_count": 90,
   "metadata": {},
   "outputs": [
    {
     "data": {
      "text/html": [
       "<div>\n",
       "<style scoped>\n",
       "    .dataframe tbody tr th:only-of-type {\n",
       "        vertical-align: middle;\n",
       "    }\n",
       "\n",
       "    .dataframe tbody tr th {\n",
       "        vertical-align: top;\n",
       "    }\n",
       "\n",
       "    .dataframe thead th {\n",
       "        text-align: right;\n",
       "    }\n",
       "</style>\n",
       "<table border=\"1\" class=\"dataframe\">\n",
       "  <thead>\n",
       "    <tr style=\"text-align: right;\">\n",
       "      <th></th>\n",
       "      <th>children</th>\n",
       "      <th>days_employed</th>\n",
       "      <th>dob_years</th>\n",
       "      <th>education</th>\n",
       "      <th>education_id</th>\n",
       "      <th>family_status</th>\n",
       "      <th>family_status_id</th>\n",
       "      <th>gender</th>\n",
       "      <th>income_type</th>\n",
       "      <th>debt</th>\n",
       "      <th>total_income</th>\n",
       "      <th>purpose</th>\n",
       "    </tr>\n",
       "  </thead>\n",
       "  <tbody>\n",
       "    <tr>\n",
       "      <th>12</th>\n",
       "      <td>0</td>\n",
       "      <td>NaN</td>\n",
       "      <td>65</td>\n",
       "      <td>среднее</td>\n",
       "      <td>1</td>\n",
       "      <td>гражданский брак</td>\n",
       "      <td>1</td>\n",
       "      <td>M</td>\n",
       "      <td>пенсионер</td>\n",
       "      <td>0</td>\n",
       "      <td>NaN</td>\n",
       "      <td>сыграть свадьбу</td>\n",
       "    </tr>\n",
       "    <tr>\n",
       "      <th>26</th>\n",
       "      <td>0</td>\n",
       "      <td>NaN</td>\n",
       "      <td>41</td>\n",
       "      <td>среднее</td>\n",
       "      <td>1</td>\n",
       "      <td>женат / замужем</td>\n",
       "      <td>0</td>\n",
       "      <td>M</td>\n",
       "      <td>госслужащий</td>\n",
       "      <td>0</td>\n",
       "      <td>NaN</td>\n",
       "      <td>образование</td>\n",
       "    </tr>\n",
       "    <tr>\n",
       "      <th>29</th>\n",
       "      <td>0</td>\n",
       "      <td>NaN</td>\n",
       "      <td>63</td>\n",
       "      <td>среднее</td>\n",
       "      <td>1</td>\n",
       "      <td>Не женат / не замужем</td>\n",
       "      <td>4</td>\n",
       "      <td>F</td>\n",
       "      <td>пенсионер</td>\n",
       "      <td>0</td>\n",
       "      <td>NaN</td>\n",
       "      <td>строительство жилой недвижимости</td>\n",
       "    </tr>\n",
       "    <tr>\n",
       "      <th>41</th>\n",
       "      <td>0</td>\n",
       "      <td>NaN</td>\n",
       "      <td>50</td>\n",
       "      <td>среднее</td>\n",
       "      <td>1</td>\n",
       "      <td>женат / замужем</td>\n",
       "      <td>0</td>\n",
       "      <td>F</td>\n",
       "      <td>госслужащий</td>\n",
       "      <td>0</td>\n",
       "      <td>NaN</td>\n",
       "      <td>сделка с подержанным автомобилем</td>\n",
       "    </tr>\n",
       "    <tr>\n",
       "      <th>55</th>\n",
       "      <td>0</td>\n",
       "      <td>NaN</td>\n",
       "      <td>54</td>\n",
       "      <td>среднее</td>\n",
       "      <td>1</td>\n",
       "      <td>гражданский брак</td>\n",
       "      <td>1</td>\n",
       "      <td>F</td>\n",
       "      <td>пенсионер</td>\n",
       "      <td>1</td>\n",
       "      <td>NaN</td>\n",
       "      <td>сыграть свадьбу</td>\n",
       "    </tr>\n",
       "    <tr>\n",
       "      <th>...</th>\n",
       "      <td>...</td>\n",
       "      <td>...</td>\n",
       "      <td>...</td>\n",
       "      <td>...</td>\n",
       "      <td>...</td>\n",
       "      <td>...</td>\n",
       "      <td>...</td>\n",
       "      <td>...</td>\n",
       "      <td>...</td>\n",
       "      <td>...</td>\n",
       "      <td>...</td>\n",
       "      <td>...</td>\n",
       "    </tr>\n",
       "    <tr>\n",
       "      <th>21489</th>\n",
       "      <td>2</td>\n",
       "      <td>NaN</td>\n",
       "      <td>47</td>\n",
       "      <td>Среднее</td>\n",
       "      <td>1</td>\n",
       "      <td>женат / замужем</td>\n",
       "      <td>0</td>\n",
       "      <td>M</td>\n",
       "      <td>компаньон</td>\n",
       "      <td>0</td>\n",
       "      <td>NaN</td>\n",
       "      <td>сделка с автомобилем</td>\n",
       "    </tr>\n",
       "    <tr>\n",
       "      <th>21495</th>\n",
       "      <td>1</td>\n",
       "      <td>NaN</td>\n",
       "      <td>50</td>\n",
       "      <td>среднее</td>\n",
       "      <td>1</td>\n",
       "      <td>гражданский брак</td>\n",
       "      <td>1</td>\n",
       "      <td>F</td>\n",
       "      <td>сотрудник</td>\n",
       "      <td>0</td>\n",
       "      <td>NaN</td>\n",
       "      <td>свадьба</td>\n",
       "    </tr>\n",
       "    <tr>\n",
       "      <th>21497</th>\n",
       "      <td>0</td>\n",
       "      <td>NaN</td>\n",
       "      <td>48</td>\n",
       "      <td>ВЫСШЕЕ</td>\n",
       "      <td>0</td>\n",
       "      <td>женат / замужем</td>\n",
       "      <td>0</td>\n",
       "      <td>F</td>\n",
       "      <td>компаньон</td>\n",
       "      <td>0</td>\n",
       "      <td>NaN</td>\n",
       "      <td>строительство недвижимости</td>\n",
       "    </tr>\n",
       "    <tr>\n",
       "      <th>21502</th>\n",
       "      <td>1</td>\n",
       "      <td>NaN</td>\n",
       "      <td>42</td>\n",
       "      <td>среднее</td>\n",
       "      <td>1</td>\n",
       "      <td>женат / замужем</td>\n",
       "      <td>0</td>\n",
       "      <td>F</td>\n",
       "      <td>сотрудник</td>\n",
       "      <td>0</td>\n",
       "      <td>NaN</td>\n",
       "      <td>строительство жилой недвижимости</td>\n",
       "    </tr>\n",
       "    <tr>\n",
       "      <th>21510</th>\n",
       "      <td>2</td>\n",
       "      <td>NaN</td>\n",
       "      <td>28</td>\n",
       "      <td>среднее</td>\n",
       "      <td>1</td>\n",
       "      <td>женат / замужем</td>\n",
       "      <td>0</td>\n",
       "      <td>F</td>\n",
       "      <td>сотрудник</td>\n",
       "      <td>0</td>\n",
       "      <td>NaN</td>\n",
       "      <td>приобретение автомобиля</td>\n",
       "    </tr>\n",
       "  </tbody>\n",
       "</table>\n",
       "<p>2174 rows × 12 columns</p>\n",
       "</div>"
      ],
      "text/plain": [
       "       children  days_employed  dob_years education  education_id  \\\n",
       "12            0            NaN         65   среднее             1   \n",
       "26            0            NaN         41   среднее             1   \n",
       "29            0            NaN         63   среднее             1   \n",
       "41            0            NaN         50   среднее             1   \n",
       "55            0            NaN         54   среднее             1   \n",
       "...         ...            ...        ...       ...           ...   \n",
       "21489         2            NaN         47   Среднее             1   \n",
       "21495         1            NaN         50   среднее             1   \n",
       "21497         0            NaN         48    ВЫСШЕЕ             0   \n",
       "21502         1            NaN         42   среднее             1   \n",
       "21510         2            NaN         28   среднее             1   \n",
       "\n",
       "               family_status  family_status_id gender  income_type  debt  \\\n",
       "12          гражданский брак                 1      M    пенсионер     0   \n",
       "26           женат / замужем                 0      M  госслужащий     0   \n",
       "29     Не женат / не замужем                 4      F    пенсионер     0   \n",
       "41           женат / замужем                 0      F  госслужащий     0   \n",
       "55          гражданский брак                 1      F    пенсионер     1   \n",
       "...                      ...               ...    ...          ...   ...   \n",
       "21489        женат / замужем                 0      M    компаньон     0   \n",
       "21495       гражданский брак                 1      F    сотрудник     0   \n",
       "21497        женат / замужем                 0      F    компаньон     0   \n",
       "21502        женат / замужем                 0      F    сотрудник     0   \n",
       "21510        женат / замужем                 0      F    сотрудник     0   \n",
       "\n",
       "       total_income                           purpose  \n",
       "12              NaN                   сыграть свадьбу  \n",
       "26              NaN                       образование  \n",
       "29              NaN  строительство жилой недвижимости  \n",
       "41              NaN  сделка с подержанным автомобилем  \n",
       "55              NaN                   сыграть свадьбу  \n",
       "...             ...                               ...  \n",
       "21489           NaN              сделка с автомобилем  \n",
       "21495           NaN                           свадьба  \n",
       "21497           NaN        строительство недвижимости  \n",
       "21502           NaN  строительство жилой недвижимости  \n",
       "21510           NaN           приобретение автомобиля  \n",
       "\n",
       "[2174 rows x 12 columns]"
      ]
     },
     "execution_count": 90,
     "metadata": {},
     "output_type": "execute_result"
    }
   ],
   "source": [
    "data[(data['days_employed'].isna() == True) & (data['total_income'].isna() == True)]"
   ]
  },
  {
   "cell_type": "markdown",
   "metadata": {},
   "source": [
    "Да, общий трудовой стаж и ежемесячный доход содержат пропуски в одних и тех же строках.  \n",
    "Возможно, при состоавлении датафрейма клиенты банка отказались называть свой доход и стаж \n",
    "по тем или иным причинам. Т.е. вероятно это пропуски типа MAR.  \n",
    "Как вариант, можно связаться с сотрудниками банка и уточнить, возможна ли такая ситуация. \n",
    "\n",
    "Посмотрим на первые несколько строк датафрейма и сводную статистику"
   ]
  },
  {
   "cell_type": "code",
   "execution_count": 91,
   "metadata": {},
   "outputs": [
    {
     "data": {
      "text/html": [
       "<div>\n",
       "<style scoped>\n",
       "    .dataframe tbody tr th:only-of-type {\n",
       "        vertical-align: middle;\n",
       "    }\n",
       "\n",
       "    .dataframe tbody tr th {\n",
       "        vertical-align: top;\n",
       "    }\n",
       "\n",
       "    .dataframe thead th {\n",
       "        text-align: right;\n",
       "    }\n",
       "</style>\n",
       "<table border=\"1\" class=\"dataframe\">\n",
       "  <thead>\n",
       "    <tr style=\"text-align: right;\">\n",
       "      <th></th>\n",
       "      <th>children</th>\n",
       "      <th>days_employed</th>\n",
       "      <th>dob_years</th>\n",
       "      <th>education</th>\n",
       "      <th>education_id</th>\n",
       "      <th>family_status</th>\n",
       "      <th>family_status_id</th>\n",
       "      <th>gender</th>\n",
       "      <th>income_type</th>\n",
       "      <th>debt</th>\n",
       "      <th>total_income</th>\n",
       "      <th>purpose</th>\n",
       "    </tr>\n",
       "  </thead>\n",
       "  <tbody>\n",
       "    <tr>\n",
       "      <th>0</th>\n",
       "      <td>1</td>\n",
       "      <td>-8437.673028</td>\n",
       "      <td>42</td>\n",
       "      <td>высшее</td>\n",
       "      <td>0</td>\n",
       "      <td>женат / замужем</td>\n",
       "      <td>0</td>\n",
       "      <td>F</td>\n",
       "      <td>сотрудник</td>\n",
       "      <td>0</td>\n",
       "      <td>253875.639453</td>\n",
       "      <td>покупка жилья</td>\n",
       "    </tr>\n",
       "    <tr>\n",
       "      <th>1</th>\n",
       "      <td>1</td>\n",
       "      <td>-4024.803754</td>\n",
       "      <td>36</td>\n",
       "      <td>среднее</td>\n",
       "      <td>1</td>\n",
       "      <td>женат / замужем</td>\n",
       "      <td>0</td>\n",
       "      <td>F</td>\n",
       "      <td>сотрудник</td>\n",
       "      <td>0</td>\n",
       "      <td>112080.014102</td>\n",
       "      <td>приобретение автомобиля</td>\n",
       "    </tr>\n",
       "    <tr>\n",
       "      <th>2</th>\n",
       "      <td>0</td>\n",
       "      <td>-5623.422610</td>\n",
       "      <td>33</td>\n",
       "      <td>Среднее</td>\n",
       "      <td>1</td>\n",
       "      <td>женат / замужем</td>\n",
       "      <td>0</td>\n",
       "      <td>M</td>\n",
       "      <td>сотрудник</td>\n",
       "      <td>0</td>\n",
       "      <td>145885.952297</td>\n",
       "      <td>покупка жилья</td>\n",
       "    </tr>\n",
       "    <tr>\n",
       "      <th>3</th>\n",
       "      <td>3</td>\n",
       "      <td>-4124.747207</td>\n",
       "      <td>32</td>\n",
       "      <td>среднее</td>\n",
       "      <td>1</td>\n",
       "      <td>женат / замужем</td>\n",
       "      <td>0</td>\n",
       "      <td>M</td>\n",
       "      <td>сотрудник</td>\n",
       "      <td>0</td>\n",
       "      <td>267628.550329</td>\n",
       "      <td>дополнительное образование</td>\n",
       "    </tr>\n",
       "    <tr>\n",
       "      <th>4</th>\n",
       "      <td>0</td>\n",
       "      <td>340266.072047</td>\n",
       "      <td>53</td>\n",
       "      <td>среднее</td>\n",
       "      <td>1</td>\n",
       "      <td>гражданский брак</td>\n",
       "      <td>1</td>\n",
       "      <td>F</td>\n",
       "      <td>пенсионер</td>\n",
       "      <td>0</td>\n",
       "      <td>158616.077870</td>\n",
       "      <td>сыграть свадьбу</td>\n",
       "    </tr>\n",
       "    <tr>\n",
       "      <th>5</th>\n",
       "      <td>0</td>\n",
       "      <td>-926.185831</td>\n",
       "      <td>27</td>\n",
       "      <td>высшее</td>\n",
       "      <td>0</td>\n",
       "      <td>гражданский брак</td>\n",
       "      <td>1</td>\n",
       "      <td>M</td>\n",
       "      <td>компаньон</td>\n",
       "      <td>0</td>\n",
       "      <td>255763.565419</td>\n",
       "      <td>покупка жилья</td>\n",
       "    </tr>\n",
       "    <tr>\n",
       "      <th>6</th>\n",
       "      <td>0</td>\n",
       "      <td>-2879.202052</td>\n",
       "      <td>43</td>\n",
       "      <td>высшее</td>\n",
       "      <td>0</td>\n",
       "      <td>женат / замужем</td>\n",
       "      <td>0</td>\n",
       "      <td>F</td>\n",
       "      <td>компаньон</td>\n",
       "      <td>0</td>\n",
       "      <td>240525.971920</td>\n",
       "      <td>операции с жильем</td>\n",
       "    </tr>\n",
       "    <tr>\n",
       "      <th>7</th>\n",
       "      <td>0</td>\n",
       "      <td>-152.779569</td>\n",
       "      <td>50</td>\n",
       "      <td>СРЕДНЕЕ</td>\n",
       "      <td>1</td>\n",
       "      <td>женат / замужем</td>\n",
       "      <td>0</td>\n",
       "      <td>M</td>\n",
       "      <td>сотрудник</td>\n",
       "      <td>0</td>\n",
       "      <td>135823.934197</td>\n",
       "      <td>образование</td>\n",
       "    </tr>\n",
       "    <tr>\n",
       "      <th>8</th>\n",
       "      <td>2</td>\n",
       "      <td>-6929.865299</td>\n",
       "      <td>35</td>\n",
       "      <td>ВЫСШЕЕ</td>\n",
       "      <td>0</td>\n",
       "      <td>гражданский брак</td>\n",
       "      <td>1</td>\n",
       "      <td>F</td>\n",
       "      <td>сотрудник</td>\n",
       "      <td>0</td>\n",
       "      <td>95856.832424</td>\n",
       "      <td>на проведение свадьбы</td>\n",
       "    </tr>\n",
       "    <tr>\n",
       "      <th>9</th>\n",
       "      <td>0</td>\n",
       "      <td>-2188.756445</td>\n",
       "      <td>41</td>\n",
       "      <td>среднее</td>\n",
       "      <td>1</td>\n",
       "      <td>женат / замужем</td>\n",
       "      <td>0</td>\n",
       "      <td>M</td>\n",
       "      <td>сотрудник</td>\n",
       "      <td>0</td>\n",
       "      <td>144425.938277</td>\n",
       "      <td>покупка жилья для семьи</td>\n",
       "    </tr>\n",
       "  </tbody>\n",
       "</table>\n",
       "</div>"
      ],
      "text/plain": [
       "   children  days_employed  dob_years education  education_id  \\\n",
       "0         1   -8437.673028         42    высшее             0   \n",
       "1         1   -4024.803754         36   среднее             1   \n",
       "2         0   -5623.422610         33   Среднее             1   \n",
       "3         3   -4124.747207         32   среднее             1   \n",
       "4         0  340266.072047         53   среднее             1   \n",
       "5         0    -926.185831         27    высшее             0   \n",
       "6         0   -2879.202052         43    высшее             0   \n",
       "7         0    -152.779569         50   СРЕДНЕЕ             1   \n",
       "8         2   -6929.865299         35    ВЫСШЕЕ             0   \n",
       "9         0   -2188.756445         41   среднее             1   \n",
       "\n",
       "      family_status  family_status_id gender income_type  debt   total_income  \\\n",
       "0   женат / замужем                 0      F   сотрудник     0  253875.639453   \n",
       "1   женат / замужем                 0      F   сотрудник     0  112080.014102   \n",
       "2   женат / замужем                 0      M   сотрудник     0  145885.952297   \n",
       "3   женат / замужем                 0      M   сотрудник     0  267628.550329   \n",
       "4  гражданский брак                 1      F   пенсионер     0  158616.077870   \n",
       "5  гражданский брак                 1      M   компаньон     0  255763.565419   \n",
       "6   женат / замужем                 0      F   компаньон     0  240525.971920   \n",
       "7   женат / замужем                 0      M   сотрудник     0  135823.934197   \n",
       "8  гражданский брак                 1      F   сотрудник     0   95856.832424   \n",
       "9   женат / замужем                 0      M   сотрудник     0  144425.938277   \n",
       "\n",
       "                      purpose  \n",
       "0               покупка жилья  \n",
       "1     приобретение автомобиля  \n",
       "2               покупка жилья  \n",
       "3  дополнительное образование  \n",
       "4             сыграть свадьбу  \n",
       "5               покупка жилья  \n",
       "6           операции с жильем  \n",
       "7                 образование  \n",
       "8       на проведение свадьбы  \n",
       "9     покупка жилья для семьи  "
      ]
     },
     "metadata": {},
     "output_type": "display_data"
    },
    {
     "data": {
      "text/html": [
       "<div>\n",
       "<style scoped>\n",
       "    .dataframe tbody tr th:only-of-type {\n",
       "        vertical-align: middle;\n",
       "    }\n",
       "\n",
       "    .dataframe tbody tr th {\n",
       "        vertical-align: top;\n",
       "    }\n",
       "\n",
       "    .dataframe thead th {\n",
       "        text-align: right;\n",
       "    }\n",
       "</style>\n",
       "<table border=\"1\" class=\"dataframe\">\n",
       "  <thead>\n",
       "    <tr style=\"text-align: right;\">\n",
       "      <th></th>\n",
       "      <th>children</th>\n",
       "      <th>days_employed</th>\n",
       "      <th>dob_years</th>\n",
       "      <th>education_id</th>\n",
       "      <th>family_status_id</th>\n",
       "      <th>debt</th>\n",
       "      <th>total_income</th>\n",
       "    </tr>\n",
       "  </thead>\n",
       "  <tbody>\n",
       "    <tr>\n",
       "      <th>count</th>\n",
       "      <td>21525.000000</td>\n",
       "      <td>19351.000000</td>\n",
       "      <td>21525.000000</td>\n",
       "      <td>21525.000000</td>\n",
       "      <td>21525.000000</td>\n",
       "      <td>21525.000000</td>\n",
       "      <td>1.935100e+04</td>\n",
       "    </tr>\n",
       "    <tr>\n",
       "      <th>mean</th>\n",
       "      <td>0.538908</td>\n",
       "      <td>63046.497661</td>\n",
       "      <td>43.293380</td>\n",
       "      <td>0.817236</td>\n",
       "      <td>0.972544</td>\n",
       "      <td>0.080883</td>\n",
       "      <td>1.674223e+05</td>\n",
       "    </tr>\n",
       "    <tr>\n",
       "      <th>std</th>\n",
       "      <td>1.381587</td>\n",
       "      <td>140827.311974</td>\n",
       "      <td>12.574584</td>\n",
       "      <td>0.548138</td>\n",
       "      <td>1.420324</td>\n",
       "      <td>0.272661</td>\n",
       "      <td>1.029716e+05</td>\n",
       "    </tr>\n",
       "    <tr>\n",
       "      <th>min</th>\n",
       "      <td>-1.000000</td>\n",
       "      <td>-18388.949901</td>\n",
       "      <td>0.000000</td>\n",
       "      <td>0.000000</td>\n",
       "      <td>0.000000</td>\n",
       "      <td>0.000000</td>\n",
       "      <td>2.066726e+04</td>\n",
       "    </tr>\n",
       "    <tr>\n",
       "      <th>25%</th>\n",
       "      <td>0.000000</td>\n",
       "      <td>-2747.423625</td>\n",
       "      <td>33.000000</td>\n",
       "      <td>1.000000</td>\n",
       "      <td>0.000000</td>\n",
       "      <td>0.000000</td>\n",
       "      <td>1.030532e+05</td>\n",
       "    </tr>\n",
       "    <tr>\n",
       "      <th>50%</th>\n",
       "      <td>0.000000</td>\n",
       "      <td>-1203.369529</td>\n",
       "      <td>42.000000</td>\n",
       "      <td>1.000000</td>\n",
       "      <td>0.000000</td>\n",
       "      <td>0.000000</td>\n",
       "      <td>1.450179e+05</td>\n",
       "    </tr>\n",
       "    <tr>\n",
       "      <th>75%</th>\n",
       "      <td>1.000000</td>\n",
       "      <td>-291.095954</td>\n",
       "      <td>53.000000</td>\n",
       "      <td>1.000000</td>\n",
       "      <td>1.000000</td>\n",
       "      <td>0.000000</td>\n",
       "      <td>2.034351e+05</td>\n",
       "    </tr>\n",
       "    <tr>\n",
       "      <th>max</th>\n",
       "      <td>20.000000</td>\n",
       "      <td>401755.400475</td>\n",
       "      <td>75.000000</td>\n",
       "      <td>4.000000</td>\n",
       "      <td>4.000000</td>\n",
       "      <td>1.000000</td>\n",
       "      <td>2.265604e+06</td>\n",
       "    </tr>\n",
       "  </tbody>\n",
       "</table>\n",
       "</div>"
      ],
      "text/plain": [
       "           children  days_employed     dob_years  education_id  \\\n",
       "count  21525.000000   19351.000000  21525.000000  21525.000000   \n",
       "mean       0.538908   63046.497661     43.293380      0.817236   \n",
       "std        1.381587  140827.311974     12.574584      0.548138   \n",
       "min       -1.000000  -18388.949901      0.000000      0.000000   \n",
       "25%        0.000000   -2747.423625     33.000000      1.000000   \n",
       "50%        0.000000   -1203.369529     42.000000      1.000000   \n",
       "75%        1.000000    -291.095954     53.000000      1.000000   \n",
       "max       20.000000  401755.400475     75.000000      4.000000   \n",
       "\n",
       "       family_status_id          debt  total_income  \n",
       "count      21525.000000  21525.000000  1.935100e+04  \n",
       "mean           0.972544      0.080883  1.674223e+05  \n",
       "std            1.420324      0.272661  1.029716e+05  \n",
       "min            0.000000      0.000000  2.066726e+04  \n",
       "25%            0.000000      0.000000  1.030532e+05  \n",
       "50%            0.000000      0.000000  1.450179e+05  \n",
       "75%            1.000000      0.000000  2.034351e+05  \n",
       "max            4.000000      1.000000  2.265604e+06  "
      ]
     },
     "metadata": {},
     "output_type": "display_data"
    }
   ],
   "source": [
    "display(data.head(10))\n",
    "display(data.describe())"
   ]
  },
  {
   "cell_type": "markdown",
   "metadata": {},
   "source": [
    "Есть проблемы  с данными: \n",
    "\n",
    "* столбец children содержит отрицательные значения и значение 20\n",
    "* столбец days_employed содержит отрицательные значения и сильно преувеличенные значения (трудовой стаж 401755 / 365 -    это 1100 лет)\n",
    "* столбец dob_years таже содержит некорректные значения - возраст 0 не может быть\n",
    "* столбец education с типом данных object не приведен к общему регистру, поправим в следующем шаге\n",
    "* в остальных столбцах с первого взгляда некорректных значений не наблюдается\n",
    "\n",
    "    Разберемся с каждым столбцом отдельно"
   ]
  },
  {
   "cell_type": "markdown",
   "metadata": {},
   "source": [
    "### Признак \"children\" - количество детей у клиентов\n",
    "\n",
    "Оценим, как распределены клиенты банка по количеству детей"
   ]
  },
  {
   "cell_type": "code",
   "execution_count": 92,
   "metadata": {},
   "outputs": [
    {
     "data": {
      "text/plain": [
       "children\n",
       " 0     14149\n",
       " 1      4818\n",
       " 2      2055\n",
       " 3       330\n",
       " 20       76\n",
       "-1        47\n",
       " 4        41\n",
       " 5         9\n",
       "Name: children, dtype: int64"
      ]
     },
     "metadata": {},
     "output_type": "display_data"
    }
   ],
   "source": [
    "display(data.groupby(by='children')['children'].count().sort_values(ascending=False))"
   ]
  },
  {
   "cell_type": "code",
   "execution_count": 93,
   "metadata": {},
   "outputs": [
    {
     "data": {
      "text/plain": [
       "<AxesSubplot:>"
      ]
     },
     "execution_count": 93,
     "metadata": {},
     "output_type": "execute_result"
    },
    {
     "data": {
      "image/png": "[encoded data removed]",
      "text/plain": [
       "<Figure size 432x288 with 1 Axes>"
      ]
     },
     "metadata": {
      "needs_background": "light"
     },
     "output_type": "display_data"
    }
   ],
   "source": [
    "data.children.hist(bins=20, grid=False, rwidth=.8)"
   ]
  },
  {
   "cell_type": "markdown",
   "metadata": {},
   "source": [
    "В среднем количество детей у клиентов банка колеблется от 0 до 5, но внезапно появляется цифра 20 и -1, \n",
    "что похоже на \"вброс\" или ошибку.\n",
    "Вероятно, это ошибка связана с формированием или копированием датафрейма - у единицы \n",
    "появилось отрицательное значение, а \"2\" изменилась на \"20\". \n",
    "Тем более что в следующем столбце `\"days_employed\"` также существуют отрицательные значения \n",
    "в достаточно большом количестве.\n",
    "\n",
    "Посмотрим остальные значения строк, где у клиентов банка -1 и 20 детей"
   ]
  },
  {
   "cell_type": "code",
   "execution_count": 94,
   "metadata": {},
   "outputs": [
    {
     "data": {
      "text/html": [
       "<div>\n",
       "<style scoped>\n",
       "    .dataframe tbody tr th:only-of-type {\n",
       "        vertical-align: middle;\n",
       "    }\n",
       "\n",
       "    .dataframe tbody tr th {\n",
       "        vertical-align: top;\n",
       "    }\n",
       "\n",
       "    .dataframe thead th {\n",
       "        text-align: right;\n",
       "    }\n",
       "</style>\n",
       "<table border=\"1\" class=\"dataframe\">\n",
       "  <thead>\n",
       "    <tr style=\"text-align: right;\">\n",
       "      <th></th>\n",
       "      <th>children</th>\n",
       "      <th>days_employed</th>\n",
       "      <th>dob_years</th>\n",
       "      <th>education</th>\n",
       "      <th>education_id</th>\n",
       "      <th>family_status</th>\n",
       "      <th>family_status_id</th>\n",
       "      <th>gender</th>\n",
       "      <th>income_type</th>\n",
       "      <th>debt</th>\n",
       "      <th>total_income</th>\n",
       "      <th>purpose</th>\n",
       "    </tr>\n",
       "  </thead>\n",
       "  <tbody>\n",
       "    <tr>\n",
       "      <th>291</th>\n",
       "      <td>-1</td>\n",
       "      <td>-4417.703588</td>\n",
       "      <td>46</td>\n",
       "      <td>среднее</td>\n",
       "      <td>1</td>\n",
       "      <td>гражданский брак</td>\n",
       "      <td>1</td>\n",
       "      <td>F</td>\n",
       "      <td>сотрудник</td>\n",
       "      <td>0</td>\n",
       "      <td>102816.346412</td>\n",
       "      <td>профильное образование</td>\n",
       "    </tr>\n",
       "    <tr>\n",
       "      <th>705</th>\n",
       "      <td>-1</td>\n",
       "      <td>-902.084528</td>\n",
       "      <td>50</td>\n",
       "      <td>среднее</td>\n",
       "      <td>1</td>\n",
       "      <td>женат / замужем</td>\n",
       "      <td>0</td>\n",
       "      <td>F</td>\n",
       "      <td>госслужащий</td>\n",
       "      <td>0</td>\n",
       "      <td>137882.899271</td>\n",
       "      <td>приобретение автомобиля</td>\n",
       "    </tr>\n",
       "    <tr>\n",
       "      <th>742</th>\n",
       "      <td>-1</td>\n",
       "      <td>-3174.456205</td>\n",
       "      <td>57</td>\n",
       "      <td>среднее</td>\n",
       "      <td>1</td>\n",
       "      <td>женат / замужем</td>\n",
       "      <td>0</td>\n",
       "      <td>F</td>\n",
       "      <td>сотрудник</td>\n",
       "      <td>0</td>\n",
       "      <td>64268.044444</td>\n",
       "      <td>дополнительное образование</td>\n",
       "    </tr>\n",
       "    <tr>\n",
       "      <th>800</th>\n",
       "      <td>-1</td>\n",
       "      <td>349987.852217</td>\n",
       "      <td>54</td>\n",
       "      <td>среднее</td>\n",
       "      <td>1</td>\n",
       "      <td>Не женат / не замужем</td>\n",
       "      <td>4</td>\n",
       "      <td>F</td>\n",
       "      <td>пенсионер</td>\n",
       "      <td>0</td>\n",
       "      <td>86293.724153</td>\n",
       "      <td>дополнительное образование</td>\n",
       "    </tr>\n",
       "    <tr>\n",
       "      <th>941</th>\n",
       "      <td>-1</td>\n",
       "      <td>NaN</td>\n",
       "      <td>57</td>\n",
       "      <td>Среднее</td>\n",
       "      <td>1</td>\n",
       "      <td>женат / замужем</td>\n",
       "      <td>0</td>\n",
       "      <td>F</td>\n",
       "      <td>пенсионер</td>\n",
       "      <td>0</td>\n",
       "      <td>NaN</td>\n",
       "      <td>на покупку своего автомобиля</td>\n",
       "    </tr>\n",
       "    <tr>\n",
       "      <th>1363</th>\n",
       "      <td>-1</td>\n",
       "      <td>-1195.264956</td>\n",
       "      <td>55</td>\n",
       "      <td>СРЕДНЕЕ</td>\n",
       "      <td>1</td>\n",
       "      <td>женат / замужем</td>\n",
       "      <td>0</td>\n",
       "      <td>F</td>\n",
       "      <td>компаньон</td>\n",
       "      <td>0</td>\n",
       "      <td>69550.699692</td>\n",
       "      <td>профильное образование</td>\n",
       "    </tr>\n",
       "    <tr>\n",
       "      <th>1929</th>\n",
       "      <td>-1</td>\n",
       "      <td>-1461.303336</td>\n",
       "      <td>38</td>\n",
       "      <td>среднее</td>\n",
       "      <td>1</td>\n",
       "      <td>Не женат / не замужем</td>\n",
       "      <td>4</td>\n",
       "      <td>M</td>\n",
       "      <td>сотрудник</td>\n",
       "      <td>0</td>\n",
       "      <td>109121.569013</td>\n",
       "      <td>покупка жилья</td>\n",
       "    </tr>\n",
       "    <tr>\n",
       "      <th>2073</th>\n",
       "      <td>-1</td>\n",
       "      <td>-2539.761232</td>\n",
       "      <td>42</td>\n",
       "      <td>среднее</td>\n",
       "      <td>1</td>\n",
       "      <td>в разводе</td>\n",
       "      <td>3</td>\n",
       "      <td>F</td>\n",
       "      <td>компаньон</td>\n",
       "      <td>0</td>\n",
       "      <td>162638.609373</td>\n",
       "      <td>покупка жилья</td>\n",
       "    </tr>\n",
       "    <tr>\n",
       "      <th>3814</th>\n",
       "      <td>-1</td>\n",
       "      <td>-3045.290443</td>\n",
       "      <td>26</td>\n",
       "      <td>Среднее</td>\n",
       "      <td>1</td>\n",
       "      <td>гражданский брак</td>\n",
       "      <td>1</td>\n",
       "      <td>F</td>\n",
       "      <td>госслужащий</td>\n",
       "      <td>0</td>\n",
       "      <td>131892.785435</td>\n",
       "      <td>на проведение свадьбы</td>\n",
       "    </tr>\n",
       "    <tr>\n",
       "      <th>4201</th>\n",
       "      <td>-1</td>\n",
       "      <td>-901.101738</td>\n",
       "      <td>41</td>\n",
       "      <td>среднее</td>\n",
       "      <td>1</td>\n",
       "      <td>женат / замужем</td>\n",
       "      <td>0</td>\n",
       "      <td>F</td>\n",
       "      <td>госслужащий</td>\n",
       "      <td>0</td>\n",
       "      <td>226375.766751</td>\n",
       "      <td>операции со своей недвижимостью</td>\n",
       "    </tr>\n",
       "  </tbody>\n",
       "</table>\n",
       "</div>"
      ],
      "text/plain": [
       "      children  days_employed  dob_years education  education_id  \\\n",
       "291         -1   -4417.703588         46   среднее             1   \n",
       "705         -1    -902.084528         50   среднее             1   \n",
       "742         -1   -3174.456205         57   среднее             1   \n",
       "800         -1  349987.852217         54   среднее             1   \n",
       "941         -1            NaN         57   Среднее             1   \n",
       "1363        -1   -1195.264956         55   СРЕДНЕЕ             1   \n",
       "1929        -1   -1461.303336         38   среднее             1   \n",
       "2073        -1   -2539.761232         42   среднее             1   \n",
       "3814        -1   -3045.290443         26   Среднее             1   \n",
       "4201        -1    -901.101738         41   среднее             1   \n",
       "\n",
       "              family_status  family_status_id gender  income_type  debt  \\\n",
       "291        гражданский брак                 1      F    сотрудник     0   \n",
       "705         женат / замужем                 0      F  госслужащий     0   \n",
       "742         женат / замужем                 0      F    сотрудник     0   \n",
       "800   Не женат / не замужем                 4      F    пенсионер     0   \n",
       "941         женат / замужем                 0      F    пенсионер     0   \n",
       "1363        женат / замужем                 0      F    компаньон     0   \n",
       "1929  Не женат / не замужем                 4      M    сотрудник     0   \n",
       "2073              в разводе                 3      F    компаньон     0   \n",
       "3814       гражданский брак                 1      F  госслужащий     0   \n",
       "4201        женат / замужем                 0      F  госслужащий     0   \n",
       "\n",
       "       total_income                          purpose  \n",
       "291   102816.346412           профильное образование  \n",
       "705   137882.899271          приобретение автомобиля  \n",
       "742    64268.044444       дополнительное образование  \n",
       "800    86293.724153       дополнительное образование  \n",
       "941             NaN     на покупку своего автомобиля  \n",
       "1363   69550.699692           профильное образование  \n",
       "1929  109121.569013                    покупка жилья  \n",
       "2073  162638.609373                    покупка жилья  \n",
       "3814  131892.785435            на проведение свадьбы  \n",
       "4201  226375.766751  операции со своей недвижимостью  "
      ]
     },
     "metadata": {},
     "output_type": "display_data"
    },
    {
     "data": {
      "text/html": [
       "<div>\n",
       "<style scoped>\n",
       "    .dataframe tbody tr th:only-of-type {\n",
       "        vertical-align: middle;\n",
       "    }\n",
       "\n",
       "    .dataframe tbody tr th {\n",
       "        vertical-align: top;\n",
       "    }\n",
       "\n",
       "    .dataframe thead th {\n",
       "        text-align: right;\n",
       "    }\n",
       "</style>\n",
       "<table border=\"1\" class=\"dataframe\">\n",
       "  <thead>\n",
       "    <tr style=\"text-align: right;\">\n",
       "      <th></th>\n",
       "      <th>children</th>\n",
       "      <th>days_employed</th>\n",
       "      <th>dob_years</th>\n",
       "      <th>education</th>\n",
       "      <th>education_id</th>\n",
       "      <th>family_status</th>\n",
       "      <th>family_status_id</th>\n",
       "      <th>gender</th>\n",
       "      <th>income_type</th>\n",
       "      <th>debt</th>\n",
       "      <th>total_income</th>\n",
       "      <th>purpose</th>\n",
       "    </tr>\n",
       "  </thead>\n",
       "  <tbody>\n",
       "    <tr>\n",
       "      <th>606</th>\n",
       "      <td>20</td>\n",
       "      <td>-880.221113</td>\n",
       "      <td>21</td>\n",
       "      <td>среднее</td>\n",
       "      <td>1</td>\n",
       "      <td>женат / замужем</td>\n",
       "      <td>0</td>\n",
       "      <td>M</td>\n",
       "      <td>компаньон</td>\n",
       "      <td>0</td>\n",
       "      <td>145334.865002</td>\n",
       "      <td>покупка жилья</td>\n",
       "    </tr>\n",
       "    <tr>\n",
       "      <th>720</th>\n",
       "      <td>20</td>\n",
       "      <td>-855.595512</td>\n",
       "      <td>44</td>\n",
       "      <td>среднее</td>\n",
       "      <td>1</td>\n",
       "      <td>женат / замужем</td>\n",
       "      <td>0</td>\n",
       "      <td>F</td>\n",
       "      <td>компаньон</td>\n",
       "      <td>0</td>\n",
       "      <td>112998.738649</td>\n",
       "      <td>покупка недвижимости</td>\n",
       "    </tr>\n",
       "    <tr>\n",
       "      <th>1074</th>\n",
       "      <td>20</td>\n",
       "      <td>-3310.411598</td>\n",
       "      <td>56</td>\n",
       "      <td>среднее</td>\n",
       "      <td>1</td>\n",
       "      <td>женат / замужем</td>\n",
       "      <td>0</td>\n",
       "      <td>F</td>\n",
       "      <td>сотрудник</td>\n",
       "      <td>1</td>\n",
       "      <td>229518.537004</td>\n",
       "      <td>получение образования</td>\n",
       "    </tr>\n",
       "    <tr>\n",
       "      <th>2510</th>\n",
       "      <td>20</td>\n",
       "      <td>-2714.161249</td>\n",
       "      <td>59</td>\n",
       "      <td>высшее</td>\n",
       "      <td>0</td>\n",
       "      <td>вдовец / вдова</td>\n",
       "      <td>2</td>\n",
       "      <td>F</td>\n",
       "      <td>сотрудник</td>\n",
       "      <td>0</td>\n",
       "      <td>264474.835577</td>\n",
       "      <td>операции с коммерческой недвижимостью</td>\n",
       "    </tr>\n",
       "    <tr>\n",
       "      <th>2941</th>\n",
       "      <td>20</td>\n",
       "      <td>-2161.591519</td>\n",
       "      <td>0</td>\n",
       "      <td>среднее</td>\n",
       "      <td>1</td>\n",
       "      <td>женат / замужем</td>\n",
       "      <td>0</td>\n",
       "      <td>F</td>\n",
       "      <td>сотрудник</td>\n",
       "      <td>0</td>\n",
       "      <td>199739.941398</td>\n",
       "      <td>на покупку автомобиля</td>\n",
       "    </tr>\n",
       "    <tr>\n",
       "      <th>3302</th>\n",
       "      <td>20</td>\n",
       "      <td>NaN</td>\n",
       "      <td>35</td>\n",
       "      <td>среднее</td>\n",
       "      <td>1</td>\n",
       "      <td>Не женат / не замужем</td>\n",
       "      <td>4</td>\n",
       "      <td>F</td>\n",
       "      <td>госслужащий</td>\n",
       "      <td>0</td>\n",
       "      <td>NaN</td>\n",
       "      <td>профильное образование</td>\n",
       "    </tr>\n",
       "    <tr>\n",
       "      <th>3396</th>\n",
       "      <td>20</td>\n",
       "      <td>NaN</td>\n",
       "      <td>56</td>\n",
       "      <td>высшее</td>\n",
       "      <td>0</td>\n",
       "      <td>женат / замужем</td>\n",
       "      <td>0</td>\n",
       "      <td>F</td>\n",
       "      <td>компаньон</td>\n",
       "      <td>0</td>\n",
       "      <td>NaN</td>\n",
       "      <td>высшее образование</td>\n",
       "    </tr>\n",
       "    <tr>\n",
       "      <th>3671</th>\n",
       "      <td>20</td>\n",
       "      <td>-913.161503</td>\n",
       "      <td>23</td>\n",
       "      <td>среднее</td>\n",
       "      <td>1</td>\n",
       "      <td>Не женат / не замужем</td>\n",
       "      <td>4</td>\n",
       "      <td>F</td>\n",
       "      <td>сотрудник</td>\n",
       "      <td>0</td>\n",
       "      <td>101255.492076</td>\n",
       "      <td>на покупку подержанного автомобиля</td>\n",
       "    </tr>\n",
       "    <tr>\n",
       "      <th>3697</th>\n",
       "      <td>20</td>\n",
       "      <td>-2907.910616</td>\n",
       "      <td>40</td>\n",
       "      <td>среднее</td>\n",
       "      <td>1</td>\n",
       "      <td>гражданский брак</td>\n",
       "      <td>1</td>\n",
       "      <td>M</td>\n",
       "      <td>сотрудник</td>\n",
       "      <td>0</td>\n",
       "      <td>115380.694664</td>\n",
       "      <td>на покупку подержанного автомобиля</td>\n",
       "    </tr>\n",
       "    <tr>\n",
       "      <th>3735</th>\n",
       "      <td>20</td>\n",
       "      <td>-805.044438</td>\n",
       "      <td>26</td>\n",
       "      <td>высшее</td>\n",
       "      <td>0</td>\n",
       "      <td>Не женат / не замужем</td>\n",
       "      <td>4</td>\n",
       "      <td>M</td>\n",
       "      <td>сотрудник</td>\n",
       "      <td>0</td>\n",
       "      <td>137200.646181</td>\n",
       "      <td>ремонт жилью</td>\n",
       "    </tr>\n",
       "  </tbody>\n",
       "</table>\n",
       "</div>"
      ],
      "text/plain": [
       "      children  days_employed  dob_years education  education_id  \\\n",
       "606         20    -880.221113         21   среднее             1   \n",
       "720         20    -855.595512         44   среднее             1   \n",
       "1074        20   -3310.411598         56   среднее             1   \n",
       "2510        20   -2714.161249         59    высшее             0   \n",
       "2941        20   -2161.591519          0   среднее             1   \n",
       "3302        20            NaN         35   среднее             1   \n",
       "3396        20            NaN         56    высшее             0   \n",
       "3671        20    -913.161503         23   среднее             1   \n",
       "3697        20   -2907.910616         40   среднее             1   \n",
       "3735        20    -805.044438         26    высшее             0   \n",
       "\n",
       "              family_status  family_status_id gender  income_type  debt  \\\n",
       "606         женат / замужем                 0      M    компаньон     0   \n",
       "720         женат / замужем                 0      F    компаньон     0   \n",
       "1074        женат / замужем                 0      F    сотрудник     1   \n",
       "2510         вдовец / вдова                 2      F    сотрудник     0   \n",
       "2941        женат / замужем                 0      F    сотрудник     0   \n",
       "3302  Не женат / не замужем                 4      F  госслужащий     0   \n",
       "3396        женат / замужем                 0      F    компаньон     0   \n",
       "3671  Не женат / не замужем                 4      F    сотрудник     0   \n",
       "3697       гражданский брак                 1      M    сотрудник     0   \n",
       "3735  Не женат / не замужем                 4      M    сотрудник     0   \n",
       "\n",
       "       total_income                                purpose  \n",
       "606   145334.865002                          покупка жилья  \n",
       "720   112998.738649                   покупка недвижимости  \n",
       "1074  229518.537004                  получение образования  \n",
       "2510  264474.835577  операции с коммерческой недвижимостью  \n",
       "2941  199739.941398                  на покупку автомобиля  \n",
       "3302            NaN                 профильное образование  \n",
       "3396            NaN                     высшее образование  \n",
       "3671  101255.492076     на покупку подержанного автомобиля  \n",
       "3697  115380.694664     на покупку подержанного автомобиля  \n",
       "3735  137200.646181                           ремонт жилью  "
      ]
     },
     "metadata": {},
     "output_type": "display_data"
    }
   ],
   "source": [
    "display(data[data['children'] == -1].head(10))\n",
    "display(data[data['children'] == 20].head(10))"
   ]
  },
  {
   "cell_type": "markdown",
   "metadata": {},
   "source": [
    "В этих строках сохранена важная информация о семейном положении и задолженности по возврату кредита, \n",
    "не будем их убирать (хотя их немного, можно и убрать)\n",
    "\n",
    "Уберем знак у -1, а 20 изменим на 2 в следующем шаге"
   ]
  },
  {
   "cell_type": "markdown",
   "metadata": {},
   "source": [
    "### Признак \"days_employed\" - трудовой стаж в днях\n",
    "\n",
    "Оценим данные признака через сводную статистику"
   ]
  },
  {
   "cell_type": "code",
   "execution_count": 95,
   "metadata": {},
   "outputs": [
    {
     "data": {
      "text/plain": [
       "count     19351.000000\n",
       "mean      63046.497661\n",
       "std      140827.311974\n",
       "min      -18388.949901\n",
       "25%       -2747.423625\n",
       "50%       -1203.369529\n",
       "75%        -291.095954\n",
       "max      401755.400475\n",
       "Name: days_employed, dtype: float64"
      ]
     },
     "execution_count": 95,
     "metadata": {},
     "output_type": "execute_result"
    }
   ],
   "source": [
    "data['days_employed'].describe()"
   ]
  },
  {
   "cell_type": "markdown",
   "metadata": {},
   "source": [
    "Содержит как отрицательны значения, так и сильно преувеличенные значения. \n",
    "\n",
    "### Признак \"dob_years\" - возраст клиента в годах\n",
    "\n",
    "Посмотрим какие возраста у клиентов банка и их частоты"
   ]
  },
  {
   "cell_type": "code",
   "execution_count": 96,
   "metadata": {
    "scrolled": true
   },
   "outputs": [
    {
     "data": {
      "text/plain": [
       "dob_years\n",
       "35    617\n",
       "40    609\n",
       "41    607\n",
       "34    603\n",
       "38    598\n",
       "42    597\n",
       "33    581\n",
       "39    573\n",
       "31    560\n",
       "36    555\n",
       "44    547\n",
       "29    545\n",
       "30    540\n",
       "48    538\n",
       "37    537\n",
       "50    514\n",
       "43    513\n",
       "32    510\n",
       "49    508\n",
       "28    503\n",
       "45    497\n",
       "27    493\n",
       "56    487\n",
       "52    484\n",
       "47    480\n",
       "54    479\n",
       "46    475\n",
       "58    461\n",
       "57    460\n",
       "53    459\n",
       "51    448\n",
       "59    444\n",
       "55    443\n",
       "26    408\n",
       "60    377\n",
       "25    357\n",
       "61    355\n",
       "62    352\n",
       "63    269\n",
       "64    265\n",
       "24    264\n",
       "23    254\n",
       "65    194\n",
       "22    183\n",
       "66    183\n",
       "67    167\n",
       "21    111\n",
       "0     101\n",
       "68     99\n",
       "69     85\n",
       "70     65\n",
       "71     58\n",
       "20     51\n",
       "72     33\n",
       "19     14\n",
       "73      8\n",
       "74      6\n",
       "75      1\n",
       "Name: dob_years, dtype: int64"
      ]
     },
     "execution_count": 96,
     "metadata": {},
     "output_type": "execute_result"
    }
   ],
   "source": [
    "data.groupby(by='dob_years')['dob_years'].count().sort_values(ascending=False)"
   ]
  },
  {
   "cell_type": "code",
   "execution_count": 97,
   "metadata": {},
   "outputs": [
    {
     "data": {
      "text/plain": [
       "<AxesSubplot:>"
      ]
     },
     "execution_count": 97,
     "metadata": {},
     "output_type": "execute_result"
    },
    {
     "data": {
      "image/png": "[encoded data removed]",
      "text/plain": [
       "<Figure size 1080x216 with 1 Axes>"
      ]
     },
     "metadata": {
      "needs_background": "light"
     },
     "output_type": "display_data"
    }
   ],
   "source": [
    "data.dob_years.hist(bins=data.dob_years.max(), grid=False, rwidth=.8, figsize=(15,3))"
   ]
  },
  {
   "cell_type": "markdown",
   "metadata": {},
   "source": [
    "В основном кредиты берут от 20 до 70 лет, есть некорректные значения 0 у 101 клиента. \n",
    "Это может быть человеческая или техническая ошибка.\n",
    "\n",
    "### Признак \"education\" - образование\n",
    "\n",
    "Посмотрим, какие уникальные значения содежатся в данных признака"
   ]
  },
  {
   "cell_type": "code",
   "execution_count": 98,
   "metadata": {},
   "outputs": [
    {
     "data": {
      "text/plain": [
       "array(['ВЫСШЕЕ', 'Высшее', 'НАЧАЛЬНОЕ', 'НЕОКОНЧЕННОЕ ВЫСШЕЕ',\n",
       "       'Начальное', 'Неоконченное высшее', 'СРЕДНЕЕ', 'Среднее',\n",
       "       'УЧЕНАЯ СТЕПЕНЬ', 'Ученая степень', 'высшее', 'начальное',\n",
       "       'неоконченное высшее', 'среднее', 'ученая степень'], dtype=object)"
      ]
     },
     "execution_count": 98,
     "metadata": {},
     "output_type": "execute_result"
    }
   ],
   "source": [
    "data['education'].sort_values().unique()"
   ]
  },
  {
   "cell_type": "markdown",
   "metadata": {},
   "source": [
    "В данных есть дубликаты связанные с разным регистром букв в словах. Нужно будет привести их к единообразию.\n",
    "\n",
    "### Признак \"famili_status\" - семейное положение\n",
    "\n",
    "Определим, какие уникальные значения есть в признаке `\"famili_status\"`"
   ]
  },
  {
   "cell_type": "code",
   "execution_count": 99,
   "metadata": {},
   "outputs": [
    {
     "data": {
      "text/plain": [
       "array(['Не женат / не замужем', 'в разводе', 'вдовец / вдова',\n",
       "       'гражданский брак', 'женат / замужем'], dtype=object)"
      ]
     },
     "execution_count": 99,
     "metadata": {},
     "output_type": "execute_result"
    }
   ],
   "source": [
    "data['family_status'].sort_values().unique()"
   ]
  },
  {
   "cell_type": "markdown",
   "metadata": {},
   "source": [
    "Всего 5 значений, все записи корректные\n",
    "\n",
    "### признак \"gender\" - пол клиента\n",
    "\n",
    "Посмотрим как распределены клиенты по гендерному признаку"
   ]
  },
  {
   "cell_type": "code",
   "execution_count": 100,
   "metadata": {},
   "outputs": [
    {
     "data": {
      "text/plain": [
       "gender\n",
       "F      14236\n",
       "M       7288\n",
       "XNA        1\n",
       "Name: gender, dtype: int64"
      ]
     },
     "execution_count": 100,
     "metadata": {},
     "output_type": "execute_result"
    }
   ],
   "source": [
    "data.groupby(by='gender')['gender'].count().sort_values(ascending=False)"
   ]
  },
  {
   "cell_type": "code",
   "execution_count": 101,
   "metadata": {},
   "outputs": [
    {
     "data": {
      "text/plain": [
       "<AxesSubplot:>"
      ]
     },
     "execution_count": 101,
     "metadata": {},
     "output_type": "execute_result"
    },
    {
     "data": {
      "image/png": "[encoded data removed]",
      "text/plain": [
       "<Figure size 432x288 with 1 Axes>"
      ]
     },
     "metadata": {
      "needs_background": "light"
     },
     "output_type": "display_data"
    }
   ],
   "source": [
    "data.gender.hist(bins=3, grid=False, rwidth=.9)"
   ]
  },
  {
   "cell_type": "markdown",
   "metadata": {},
   "source": [
    "Женщин в датафрейме в 2 раза больше чем мужчик, один из признаков XNA.  \n",
    "В мире существует 54 пола (если верить поисковой выдаче Яндекса),  \n",
    "но ни один из них не имеет такой аббирвиатуры. \n",
    "\n",
    "Взглянем на эту строку в датафрейме"
   ]
  },
  {
   "cell_type": "code",
   "execution_count": 102,
   "metadata": {},
   "outputs": [
    {
     "data": {
      "text/html": [
       "<div>\n",
       "<style scoped>\n",
       "    .dataframe tbody tr th:only-of-type {\n",
       "        vertical-align: middle;\n",
       "    }\n",
       "\n",
       "    .dataframe tbody tr th {\n",
       "        vertical-align: top;\n",
       "    }\n",
       "\n",
       "    .dataframe thead th {\n",
       "        text-align: right;\n",
       "    }\n",
       "</style>\n",
       "<table border=\"1\" class=\"dataframe\">\n",
       "  <thead>\n",
       "    <tr style=\"text-align: right;\">\n",
       "      <th></th>\n",
       "      <th>children</th>\n",
       "      <th>days_employed</th>\n",
       "      <th>dob_years</th>\n",
       "      <th>education</th>\n",
       "      <th>education_id</th>\n",
       "      <th>family_status</th>\n",
       "      <th>family_status_id</th>\n",
       "      <th>gender</th>\n",
       "      <th>income_type</th>\n",
       "      <th>debt</th>\n",
       "      <th>total_income</th>\n",
       "      <th>purpose</th>\n",
       "    </tr>\n",
       "  </thead>\n",
       "  <tbody>\n",
       "    <tr>\n",
       "      <th>10701</th>\n",
       "      <td>0</td>\n",
       "      <td>-2358.600502</td>\n",
       "      <td>24</td>\n",
       "      <td>неоконченное высшее</td>\n",
       "      <td>2</td>\n",
       "      <td>гражданский брак</td>\n",
       "      <td>1</td>\n",
       "      <td>XNA</td>\n",
       "      <td>компаньон</td>\n",
       "      <td>0</td>\n",
       "      <td>203905.157261</td>\n",
       "      <td>покупка недвижимости</td>\n",
       "    </tr>\n",
       "  </tbody>\n",
       "</table>\n",
       "</div>"
      ],
      "text/plain": [
       "       children  days_employed  dob_years            education  education_id  \\\n",
       "10701         0   -2358.600502         24  неоконченное высшее             2   \n",
       "\n",
       "          family_status  family_status_id gender income_type  debt  \\\n",
       "10701  гражданский брак                 1    XNA   компаньон     0   \n",
       "\n",
       "        total_income               purpose  \n",
       "10701  203905.157261  покупка недвижимости  "
      ]
     },
     "execution_count": 102,
     "metadata": {},
     "output_type": "execute_result"
    }
   ],
   "source": [
    "data[data['gender'] == 'XNA']"
   ]
  },
  {
   "cell_type": "markdown",
   "metadata": {},
   "source": [
    "Это объект под номером 10701"
   ]
  },
  {
   "cell_type": "markdown",
   "metadata": {},
   "source": [
    "### Признак \"income_type\" - тип занятости\n",
    "\n",
    "Взглянем на уникальные значения"
   ]
  },
  {
   "cell_type": "code",
   "execution_count": 103,
   "metadata": {},
   "outputs": [
    {
     "data": {
      "text/plain": [
       "array(['сотрудник', 'пенсионер', 'компаньон', 'госслужащий',\n",
       "       'безработный', 'предприниматель', 'студент', 'в декрете'],\n",
       "      dtype=object)"
      ]
     },
     "execution_count": 103,
     "metadata": {},
     "output_type": "execute_result"
    }
   ],
   "source": [
    "data['income_type'].unique()"
   ]
  },
  {
   "cell_type": "markdown",
   "metadata": {},
   "source": [
    "Все ровно\n",
    "\n",
    "### Признак \"debt\" - имел ли задолженность по возврату кредита\n",
    "\n",
    "Посмотрим на уникальные значения признака"
   ]
  },
  {
   "cell_type": "code",
   "execution_count": 104,
   "metadata": {},
   "outputs": [
    {
     "data": {
      "text/plain": [
       "debt\n",
       "0    19784\n",
       "1     1741\n",
       "Name: debt, dtype: int64"
      ]
     },
     "metadata": {},
     "output_type": "display_data"
    },
    {
     "name": "stdout",
     "output_type": "stream",
     "text": [
      "Должники - 8.09%\n"
     ]
    },
    {
     "data": {
      "image/png": "[encoded data removed]",
      "text/plain": [
       "<Figure size 432x288 with 1 Axes>"
      ]
     },
     "metadata": {
      "needs_background": "light"
     },
     "output_type": "display_data"
    }
   ],
   "source": [
    "display(data.groupby(by='debt')['debt'].count().sort_values(ascending=False))\n",
    "data.debt.hist(grid=False, bins=2, rwidth=.9)\n",
    "print('Должники - {:.2%}'.format(data.debt.mean()))"
   ]
  },
  {
   "cell_type": "markdown",
   "metadata": {},
   "source": [
    "8,09% из заемщиков имели проблемы по возврату кредита в срок\n",
    "\n",
    "### Признак \"total_income\" - ежемесячный доход\n",
    "\n",
    "В пункте 1.2 мы обнаружили пропуски в данном признаке и признаке рабочего стажа.    \n",
    "Вероятно, при сборе данных клиенты банка воздержались в информировании  \n",
    "о своём доходе и стаже работы потем или иным причинам - пропуски типа MAR.  \n",
    "Исправим пропуске на следующем этапе - Предобработке данных."
   ]
  },
  {
   "cell_type": "code",
   "execution_count": 105,
   "metadata": {},
   "outputs": [
    {
     "data": {
      "text/plain": [
       "2174"
      ]
     },
     "metadata": {},
     "output_type": "display_data"
    },
    {
     "data": {
      "text/plain": [
       "count    1.935100e+04\n",
       "mean     1.674223e+05\n",
       "std      1.029716e+05\n",
       "min      2.066726e+04\n",
       "25%      1.030532e+05\n",
       "50%      1.450179e+05\n",
       "75%      2.034351e+05\n",
       "max      2.265604e+06\n",
       "Name: total_income, dtype: float64"
      ]
     },
     "metadata": {},
     "output_type": "display_data"
    },
    {
     "data": {
      "text/plain": [
       "<AxesSubplot:>"
      ]
     },
     "execution_count": 105,
     "metadata": {},
     "output_type": "execute_result"
    },
    {
     "data": {
      "image/png": "[encoded data removed]",
      "text/plain": [
       "<Figure size 432x288 with 1 Axes>"
      ]
     },
     "metadata": {
      "needs_background": "light"
     },
     "output_type": "display_data"
    }
   ],
   "source": [
    "display(data['total_income'].isna().sum())\n",
    "\n",
    "display(data['total_income'].describe())\n",
    "\n",
    "data.total_income.hist(bins=100, grid=False)"
   ]
  },
  {
   "cell_type": "markdown",
   "metadata": {},
   "source": [
    "### Признак \"purpose\" - цель получения кредита\n",
    "\n",
    "Посмотрим на уникальные значения этого признака"
   ]
  },
  {
   "cell_type": "code",
   "execution_count": 106,
   "metadata": {},
   "outputs": [
    {
     "data": {
      "text/plain": [
       "array(['покупка жилья', 'приобретение автомобиля',\n",
       "       'дополнительное образование', 'сыграть свадьбу',\n",
       "       'операции с жильем', 'образование', 'на проведение свадьбы',\n",
       "       'покупка жилья для семьи', 'покупка недвижимости',\n",
       "       'покупка коммерческой недвижимости', 'покупка жилой недвижимости',\n",
       "       'строительство собственной недвижимости', 'недвижимость',\n",
       "       'строительство недвижимости', 'на покупку подержанного автомобиля',\n",
       "       'на покупку своего автомобиля',\n",
       "       'операции с коммерческой недвижимостью',\n",
       "       'строительство жилой недвижимости', 'жилье',\n",
       "       'операции со своей недвижимостью', 'автомобили',\n",
       "       'заняться образованием', 'сделка с подержанным автомобилем',\n",
       "       'получение образования', 'автомобиль', 'свадьба',\n",
       "       'получение дополнительного образования', 'покупка своего жилья',\n",
       "       'операции с недвижимостью', 'получение высшего образования',\n",
       "       'свой автомобиль', 'сделка с автомобилем',\n",
       "       'профильное образование', 'высшее образование',\n",
       "       'покупка жилья для сдачи', 'на покупку автомобиля', 'ремонт жилью',\n",
       "       'заняться высшим образованием'], dtype=object)"
      ]
     },
     "execution_count": 106,
     "metadata": {},
     "output_type": "execute_result"
    }
   ],
   "source": [
    "data['purpose'].unique()\n",
    "\n",
    "# в этом столбце можно использовать лемматизацию, чтобы можно было отсортировать данные. \n",
    "# в основном цели кредита можно разделить на:\n",
    "#     приобретение или ремонт автомобиля\n",
    "#     праздники (свадьба)\n",
    "#     операции над недвижимостью\n",
    "#     образование"
   ]
  },
  {
   "cell_type": "markdown",
   "metadata": {},
   "source": [
    "Признак содержит данные четырёх модальностей:\n",
    "* приобретение или ремонт автомобиля\n",
    "* праздники (свадьба)\n",
    "* операции над недвижимостью\n",
    "* обоазование\n",
    "\n",
    "Возможно использовать лемматизацию, для сортировки признаков по этим 4-м модальностям."
   ]
  },
  {
   "cell_type": "markdown",
   "metadata": {},
   "source": [
    "**Вывод**"
   ]
  },
  {
   "cell_type": "markdown",
   "metadata": {},
   "source": [
    "В таблице есть проблемы с данными, которые необходимо исправить перед дальнейшей работы с ней. Из выявленных проблем можно отметить:\n",
    "\n",
    "а) пропуски значений (в total_income и days_employed). Вероятно это пропуски типа MAR, т.е. их изменение (не учитывание) не должно значимо повлиять на решение задачи. Решено заменить пропущенные значения на нулевые)\n",
    "\n",
    "б) некорректные (отрицательные или сильно увеличенные) значения в столбцах children, days_employed, исправить знак и убрать 0. Технические ошибки (изменение знака), или человеческий фактор (например, не там поставили запятую).\n",
    "\n",
    "в) в столбце dob_years есть некорректные значения - 0 в 101 ячейках, заменим их средним значением по столбцу (количественный признак). Тут скорее всего либо техническая ошибка.\n",
    "\n",
    "г) в стоблце education нужно привести все значения к одному регистру (избавиться от дубикатов)\n",
    "\n",
    "д) в столбце gender нужно исправить 1 значение\n",
    "\n",
    "е) в столбце purpose разрозенные занчения можно привести в порядок посредством лемматизации"
   ]
  },
  {
   "cell_type": "markdown",
   "metadata": {},
   "source": [
    "## 2 Шаг. Предобработка данных"
   ]
  },
  {
   "cell_type": "markdown",
   "metadata": {},
   "source": [
    "### Обработка пропусков и неверных значений"
   ]
  },
  {
   "cell_type": "markdown",
   "metadata": {},
   "source": [
    "Пропуски значений в `\"total_income\"` и `\"days_employed\"` заменим на среднее значение по признаку."
   ]
  },
  {
   "cell_type": "code",
   "execution_count": 107,
   "metadata": {
    "scrolled": true
   },
   "outputs": [
    {
     "name": "stdout",
     "output_type": "stream",
     "text": [
      "<class 'pandas.core.frame.DataFrame'>\n",
      "RangeIndex: 21525 entries, 0 to 21524\n",
      "Data columns (total 12 columns):\n",
      " #   Column            Non-Null Count  Dtype  \n",
      "---  ------            --------------  -----  \n",
      " 0   children          21525 non-null  int64  \n",
      " 1   days_employed     21525 non-null  float64\n",
      " 2   dob_years         21525 non-null  int64  \n",
      " 3   education         21525 non-null  object \n",
      " 4   education_id      21525 non-null  int64  \n",
      " 5   family_status     21525 non-null  object \n",
      " 6   family_status_id  21525 non-null  int64  \n",
      " 7   gender            21525 non-null  object \n",
      " 8   income_type       21525 non-null  object \n",
      " 9   debt              21525 non-null  int64  \n",
      " 10  total_income      21525 non-null  float64\n",
      " 11  purpose           21525 non-null  object \n",
      "dtypes: float64(2), int64(5), object(5)\n",
      "memory usage: 2.0+ MB\n"
     ]
    }
   ],
   "source": [
    "mean_total_income = data['total_income'].mean()\n",
    "\n",
    "data['total_income'] = data['total_income'].fillna(value=mean_total_income)\n",
    "\n",
    "mean_days_employed = data['days_employed'].mean()\n",
    "\n",
    "data['days_employed'] = data['days_employed'].fillna(value=mean_days_employed)\n",
    "\n",
    "data.info()"
   ]
  },
  {
   "cell_type": "markdown",
   "metadata": {},
   "source": [
    "Отрицательные значения исправим на положительные\n",
    "\n",
    "Уберём из данных признаков `\"children\"`, `\"days_employed\"` и `\"total_income\"`  \n",
    "отрицательные знаки - через модуль"
   ]
  },
  {
   "cell_type": "code",
   "execution_count": 108,
   "metadata": {},
   "outputs": [],
   "source": [
    "data['children'] = data['children'].apply(lambda x: abs(x))\n",
    "\n",
    "data['days_employed'] = data['days_employed'].apply(lambda x: abs(x))\n",
    "\n",
    "data['total_income'] = data['total_income'].apply(lambda x: abs(x))"
   ]
  },
  {
   "cell_type": "markdown",
   "metadata": {},
   "source": [
    "У клиентов с 20 детьми вероятно ошибка в обработке данных, уберём от 20 ноль, заменим на 2:"
   ]
  },
  {
   "cell_type": "code",
   "execution_count": 109,
   "metadata": {},
   "outputs": [],
   "source": [
    "data.loc[data['children'] == 20, 'children'] = 2"
   ]
  },
  {
   "cell_type": "markdown",
   "metadata": {},
   "source": [
    "В признаке `\"dob_years\"` исправим значение 0 на среднее значение по признаку  \n",
    "(клиенту не может быть ноль лет)"
   ]
  },
  {
   "cell_type": "code",
   "execution_count": 110,
   "metadata": {},
   "outputs": [],
   "source": [
    "data.loc[data['dob_years'] == 0, 'dob_years'] = data['dob_years'].mean()"
   ]
  },
  {
   "cell_type": "markdown",
   "metadata": {},
   "source": [
    "В признаке `\"total_income\"` пропуски заменим на среднее значение  \n",
    "(хотя, вероятно, они утаили свои доходы не потому что они низкие)"
   ]
  },
  {
   "cell_type": "code",
   "execution_count": 111,
   "metadata": {},
   "outputs": [],
   "source": [
    "data['total_income'] = data['total_income'].fillna(value=data['total_income'].mean())"
   ]
  },
  {
   "cell_type": "markdown",
   "metadata": {},
   "source": [
    "Исправим некорректное значение в признаке `\"gender\"` на F, таким образом  \n",
    "мы сохраним данные. F - потому что женщин большое в датафрейме."
   ]
  },
  {
   "cell_type": "code",
   "execution_count": 112,
   "metadata": {},
   "outputs": [],
   "source": [
    "data.loc[10701, 'gender'] = 'F'"
   ]
  },
  {
   "cell_type": "markdown",
   "metadata": {},
   "source": [
    "### Замена типа данных"
   ]
  },
  {
   "cell_type": "code",
   "execution_count": 113,
   "metadata": {},
   "outputs": [
    {
     "name": "stdout",
     "output_type": "stream",
     "text": [
      "<class 'pandas.core.frame.DataFrame'>\n",
      "RangeIndex: 21525 entries, 0 to 21524\n",
      "Data columns (total 12 columns):\n",
      " #   Column            Non-Null Count  Dtype  \n",
      "---  ------            --------------  -----  \n",
      " 0   children          21525 non-null  int64  \n",
      " 1   days_employed     21525 non-null  float64\n",
      " 2   dob_years         21525 non-null  float64\n",
      " 3   education         21525 non-null  object \n",
      " 4   education_id      21525 non-null  int64  \n",
      " 5   family_status     21525 non-null  object \n",
      " 6   family_status_id  21525 non-null  int64  \n",
      " 7   gender            21525 non-null  object \n",
      " 8   income_type       21525 non-null  object \n",
      " 9   debt              21525 non-null  int64  \n",
      " 10  total_income      21525 non-null  float64\n",
      " 11  purpose           21525 non-null  object \n",
      "dtypes: float64(3), int64(4), object(5)\n",
      "memory usage: 2.0+ MB\n"
     ]
    }
   ],
   "source": [
    "data.info()"
   ]
  },
  {
   "cell_type": "code",
   "execution_count": 114,
   "metadata": {},
   "outputs": [
    {
     "data": {
      "text/plain": [
       "0"
      ]
     },
     "execution_count": 114,
     "metadata": {},
     "output_type": "execute_result"
    }
   ],
   "source": [
    "data['days_employed'] = data['days_employed'].astype(int)\n",
    "data['dob_years'] = data['dob_years'].astype(int)\n",
    "data['total_income'] = data['total_income'].astype(int)\n",
    "\n",
    "# проверка\n",
    "data['total_income'].isna().sum()"
   ]
  },
  {
   "cell_type": "markdown",
   "metadata": {},
   "source": [
    "### Обработка дубликатов\n",
    "\n",
    "Признак `\"education\"` - приведём все значения к нижнему регистру"
   ]
  },
  {
   "cell_type": "code",
   "execution_count": 115,
   "metadata": {},
   "outputs": [
    {
     "name": "stdout",
     "output_type": "stream",
     "text": [
      "высшее\n",
      "среднее\n",
      "неоконченное высшее\n",
      "начальное\n",
      "ученая степень\n"
     ]
    }
   ],
   "source": [
    "data['education'] = data['education'].str.lower()\n",
    "\n",
    "# проверим\n",
    "_ = [print(x) for x in data['education'].unique()]"
   ]
  },
  {
   "cell_type": "markdown",
   "metadata": {},
   "source": [
    "#### Вывод"
   ]
  },
  {
   "cell_type": "markdown",
   "metadata": {},
   "source": [
    "Заменены дубликаты с разными регистрами.\n",
    "Дубликаты по всей таблице не абсолютные, отличаются семейным статусом и количеством детей, поэтому оставим их."
   ]
  },
  {
   "cell_type": "markdown",
   "metadata": {},
   "source": [
    "### Лемматизация\n",
    "\n",
    "Подключим необходимые библиотеки"
   ]
  },
  {
   "cell_type": "code",
   "execution_count": 116,
   "metadata": {},
   "outputs": [],
   "source": [
    "from pymystem3 import Mystem\n",
    "from collections import Counter"
   ]
  },
  {
   "cell_type": "code",
   "execution_count": 117,
   "metadata": {},
   "outputs": [
    {
     "name": "stdout",
     "output_type": "stream",
     "text": [
      "покупка\n",
      " \n",
      "жилье\n",
      "приобретение\n",
      "автомобиль\n",
      "дополнительный\n",
      "образование\n",
      "сыграть\n",
      "свадьба\n",
      "операция\n",
      "с\n",
      "на\n",
      "проведение\n",
      "для\n",
      "семья\n",
      "недвижимость\n",
      "коммерческий\n",
      "жилой\n",
      "строительство\n",
      "собственный\n",
      "подержать\n",
      "свой\n",
      "со\n",
      "заниматься\n",
      "сделка\n",
      "получение\n",
      "высокий\n",
      "подержанный\n",
      "профильный\n",
      "сдача\n",
      "ремонт\n",
      "\n",
      "\n"
     ]
    }
   ],
   "source": [
    "# создадим объект Mystem\n",
    "\n",
    "m = Mystem()\n",
    "\n",
    "# создадим список всех текстовых значений столбца purpose и соединим их пробелом\n",
    "text = ' '.join(data['purpose'])\n",
    "\n",
    "# лемматизируем текст и выведем на экран посчитав частоты слов\n",
    "lemmans = m.lemmatize(text)\n",
    "\n",
    "_ = [print(x) for x in Counter(lemmans)]\n"
   ]
  },
  {
   "cell_type": "markdown",
   "metadata": {},
   "source": [
    "#### Вывод\n",
    "\n",
    "т.е. кредиты беруться для следующих задач:\n",
    "\n",
    "1) на покупку/приобретение/строительство жилья/недвижимости\n",
    "\n",
    "2) на покупку/ремонт автомобиля\n",
    "\n",
    "3) на образование\n",
    "\n",
    "4) на свадьбу"
   ]
  },
  {
   "cell_type": "markdown",
   "metadata": {},
   "source": [
    "### Категоризация данных\n",
    "\n",
    "Чтобы ответить на вопрос *\"влияет ли количество детей на факт погашения кредита в срок?\"*, нужно \n",
    "определить какая часть из каждой категории людей имела задолжности. Для этого нужно количество задолжностей категории разделить на количество каждой категории\n",
    "\n",
    "Для начала сгруппируем таблицу по признаку - поличество детей"
   ]
  },
  {
   "cell_type": "code",
   "execution_count": 118,
   "metadata": {},
   "outputs": [
    {
     "data": {
      "text/html": [
       "<div>\n",
       "<style scoped>\n",
       "    .dataframe tbody tr th:only-of-type {\n",
       "        vertical-align: middle;\n",
       "    }\n",
       "\n",
       "    .dataframe tbody tr th {\n",
       "        vertical-align: top;\n",
       "    }\n",
       "\n",
       "    .dataframe thead th {\n",
       "        text-align: right;\n",
       "    }\n",
       "</style>\n",
       "<table border=\"1\" class=\"dataframe\">\n",
       "  <thead>\n",
       "    <tr style=\"text-align: right;\">\n",
       "      <th></th>\n",
       "      <th>total_debt_cat</th>\n",
       "      <th>count_debt_cat</th>\n",
       "      <th>children_to_debt</th>\n",
       "    </tr>\n",
       "    <tr>\n",
       "      <th>children</th>\n",
       "      <th></th>\n",
       "      <th></th>\n",
       "      <th></th>\n",
       "    </tr>\n",
       "  </thead>\n",
       "  <tbody>\n",
       "    <tr>\n",
       "      <th>5</th>\n",
       "      <td>0</td>\n",
       "      <td>9</td>\n",
       "      <td>0.000000</td>\n",
       "    </tr>\n",
       "    <tr>\n",
       "      <th>0</th>\n",
       "      <td>1063</td>\n",
       "      <td>14149</td>\n",
       "      <td>7.512898</td>\n",
       "    </tr>\n",
       "    <tr>\n",
       "      <th>3</th>\n",
       "      <td>27</td>\n",
       "      <td>330</td>\n",
       "      <td>8.181818</td>\n",
       "    </tr>\n",
       "    <tr>\n",
       "      <th>1</th>\n",
       "      <td>445</td>\n",
       "      <td>4865</td>\n",
       "      <td>9.146968</td>\n",
       "    </tr>\n",
       "    <tr>\n",
       "      <th>2</th>\n",
       "      <td>202</td>\n",
       "      <td>2131</td>\n",
       "      <td>9.479118</td>\n",
       "    </tr>\n",
       "    <tr>\n",
       "      <th>4</th>\n",
       "      <td>4</td>\n",
       "      <td>41</td>\n",
       "      <td>9.756098</td>\n",
       "    </tr>\n",
       "  </tbody>\n",
       "</table>\n",
       "</div>"
      ],
      "text/plain": [
       "          total_debt_cat  count_debt_cat  children_to_debt\n",
       "children                                                  \n",
       "5                      0               9          0.000000\n",
       "0                   1063           14149          7.512898\n",
       "3                     27             330          8.181818\n",
       "1                    445            4865          9.146968\n",
       "2                    202            2131          9.479118\n",
       "4                      4              41          9.756098"
      ]
     },
     "execution_count": 118,
     "metadata": {},
     "output_type": "execute_result"
    }
   ],
   "source": [
    "data_group_children = data.groupby(by='children').count()\n",
    "\n",
    "# возьмем series из сгруппированного датафрейма с суммой просрочек по уплате\n",
    "total_debt_cat = data.groupby(by='children')['debt'].sum()\n",
    "# и series с общим количеством клиентов \n",
    "count_debt_cat = data.groupby(by='children')['debt'].count()\n",
    "\n",
    "# посмотрим на них\n",
    "# display(count_debt_cat)\n",
    "# display(total_debt_cat)\n",
    "\n",
    "# добавим к сгруппированой сохраненной таблице эти колонки и новую, которая получится \n",
    "# при делении количество \"задолженников\" на общее количество\n",
    "\n",
    "data_group_children['children_to_debt'] = 100 * total_debt_cat / count_debt_cat\n",
    "data_group_children['total_debt_cat'] = total_debt_cat\n",
    "data_group_children['count_debt_cat'] = count_debt_cat\n",
    "\n",
    "# выведем сводную таблицу, те столбцы, которые нас интересуют\n",
    "data_group_children.loc[:, ['total_debt_cat', 'count_debt_cat', 'children_to_debt']].sort_values(by='children_to_debt')\n"
   ]
  },
  {
   "cell_type": "code",
   "execution_count": 119,
   "metadata": {},
   "outputs": [
    {
     "data": {
      "text/html": [
       "<div>\n",
       "<style scoped>\n",
       "    .dataframe tbody tr th:only-of-type {\n",
       "        vertical-align: middle;\n",
       "    }\n",
       "\n",
       "    .dataframe tbody tr th {\n",
       "        vertical-align: top;\n",
       "    }\n",
       "\n",
       "    .dataframe thead th {\n",
       "        text-align: right;\n",
       "    }\n",
       "</style>\n",
       "<table border=\"1\" class=\"dataframe\">\n",
       "  <thead>\n",
       "    <tr style=\"text-align: right;\">\n",
       "      <th></th>\n",
       "      <th>total_debt_famili_status</th>\n",
       "      <th>count_debt_famili_status</th>\n",
       "      <th>debt_family</th>\n",
       "    </tr>\n",
       "    <tr>\n",
       "      <th>family_status</th>\n",
       "      <th></th>\n",
       "      <th></th>\n",
       "      <th></th>\n",
       "    </tr>\n",
       "  </thead>\n",
       "  <tbody>\n",
       "    <tr>\n",
       "      <th>вдовец / вдова</th>\n",
       "      <td>63</td>\n",
       "      <td>960</td>\n",
       "      <td>6.562500</td>\n",
       "    </tr>\n",
       "    <tr>\n",
       "      <th>в разводе</th>\n",
       "      <td>85</td>\n",
       "      <td>1195</td>\n",
       "      <td>7.112971</td>\n",
       "    </tr>\n",
       "    <tr>\n",
       "      <th>женат / замужем</th>\n",
       "      <td>931</td>\n",
       "      <td>12380</td>\n",
       "      <td>7.520194</td>\n",
       "    </tr>\n",
       "    <tr>\n",
       "      <th>гражданский брак</th>\n",
       "      <td>388</td>\n",
       "      <td>4177</td>\n",
       "      <td>9.288963</td>\n",
       "    </tr>\n",
       "    <tr>\n",
       "      <th>Не женат / не замужем</th>\n",
       "      <td>274</td>\n",
       "      <td>2813</td>\n",
       "      <td>9.740491</td>\n",
       "    </tr>\n",
       "  </tbody>\n",
       "</table>\n",
       "</div>"
      ],
      "text/plain": [
       "                       total_debt_famili_status  count_debt_famili_status  \\\n",
       "family_status                                                               \n",
       "вдовец / вдова                               63                       960   \n",
       "в разводе                                    85                      1195   \n",
       "женат / замужем                             931                     12380   \n",
       "гражданский брак                            388                      4177   \n",
       "Не женат / не замужем                       274                      2813   \n",
       "\n",
       "                       debt_family  \n",
       "family_status                       \n",
       "вдовец / вдова            6.562500  \n",
       "в разводе                 7.112971  \n",
       "женат / замужем           7.520194  \n",
       "гражданский брак          9.288963  \n",
       "Не женат / не замужем     9.740491  "
      ]
     },
     "execution_count": 119,
     "metadata": {},
     "output_type": "execute_result"
    }
   ],
   "source": [
    "# аналогичено сделаем с семейным положением. Категории у нас уже имеются (family_status)\n",
    "# Сгруппируем по ним таблицу и сохраним в другую:\n",
    "\n",
    "data_group_by_famili_status = data.groupby(by='family_status').count()\n",
    "total_debt_famili_status = data.groupby(by='family_status')['debt'].sum()\n",
    "count_debt_famili_status = data.groupby(by='family_status')['debt'].count()\n",
    "\n",
    "data_group_by_famili_status['debt_family'] = 100 * total_debt_famili_status / count_debt_famili_status\n",
    "data_group_by_famili_status['total_debt_famili_status'] = total_debt_famili_status\n",
    "data_group_by_famili_status['count_debt_famili_status'] = count_debt_famili_status\n",
    "\n",
    "data_group_by_famili_status.loc[:, ['total_debt_famili_status','count_debt_famili_status','debt_family']].sort_values(by='debt_family')"
   ]
  },
  {
   "cell_type": "markdown",
   "metadata": {},
   "source": [
    "**Вывод**"
   ]
  },
  {
   "cell_type": "markdown",
   "metadata": {},
   "source": [
    "Дети\n",
    "Сам факт наличия детей снижает вероятность оплатить кредит в срок, при этом у заемщиков с 3-мя детьми ситуация по своевременному возврату чуть лучше (вероятно связано со льготами), но в целом отмечается тенденция что чем больше детей, тем меньше шансов оплаты кредита в срок.\n",
    "\n",
    "Семейное положение\n",
    "    Оказывается, семейное положение также влияет на вероятность оплаты кредита в срок:\n",
    "    - самые высокие шансы оплатить кредит в срок у вдовца/вдовы\n",
    "    - далее идут люди в разводе\n",
    "    - после них женатые/замужние\n",
    "    - предпоследние те, ко в гражданском браке\n",
    "    - меньше всего шансов у не женатых/не замужних"
   ]
  },
  {
   "cell_type": "markdown",
   "metadata": {},
   "source": [
    "## 3 Шаг. Ответьте на вопросы"
   ]
  },
  {
   "cell_type": "markdown",
   "metadata": {},
   "source": [
    "- Есть ли зависимость между наличием детей и возвратом кредита в срок?"
   ]
  },
  {
   "cell_type": "markdown",
   "metadata": {},
   "source": [
    "Сам факт наличия детей снижает вероятность оплатить кредит в срок, при этом у заемщиков с 3-мя детьми ситуация по своевременному возврату чуть лучше (вероятно связано со льготами), но в целом отмечается тенденция что чем больше детей, тем меньше шансов оплаты кредита в срок."
   ]
  },
  {
   "cell_type": "markdown",
   "metadata": {},
   "source": [
    "**Вывод**"
   ]
  },
  {
   "cell_type": "markdown",
   "metadata": {},
   "source": [
    "- Есть ли зависимость между семейным положением и возвратом кредита в срок?\n"
   ]
  },
  {
   "cell_type": "markdown",
   "metadata": {},
   "source": [
    "Семейное положение\n",
    "\n",
    "    Оказывается, семейное положение также влияет на вероятность оплаты кредита в срок:\n",
    "    - самые высокие шансы оплатить кредит в срок у вдовца/вдовы\n",
    "    - далее идут люди в разводе\n",
    "    - после них женатые/замужние\n",
    "    - предпоследние те, ко в гражданском браке\n",
    "    - меньше всего шансов у не женатых/не замужних"
   ]
  },
  {
   "cell_type": "markdown",
   "metadata": {},
   "source": [
    "**Вывод**"
   ]
  },
  {
   "cell_type": "markdown",
   "metadata": {},
   "source": [
    "Дети\n",
    "Сам факт наличия детей снижает вероятность оплатить кредит в срок, при этом у заемщиков с 3-мя детьми ситуация по своевременному возврату чуть лучше (вероятно связано со льготами), но в целом отмечается тенденция что чем больше детей, тем меньше шансов оплаты кредита в срок.\n",
    "\n",
    "Семейное положение\n",
    "    Оказывается, семейное положение также влияет на вероятность оплаты кредита в срок:\n",
    "    - самые высокие шансы оплатить кредит в срок у вдовца/вдовы\n",
    "    - далее идут люди в разводе\n",
    "    - после них женатые/замужние\n",
    "    - предпоследние те, ко в гражданском браке\n",
    "    - меньше всего шансов у не женатых/не замужних"
   ]
  },
  {
   "cell_type": "markdown",
   "metadata": {},
   "source": [
    "- Есть ли зависимость между уровнем дохода и возвратом кредита в срок?\n",
    "\n",
    "Посмотрим диапазон доходов у клиентов (в месяц)"
   ]
  },
  {
   "cell_type": "code",
   "execution_count": 120,
   "metadata": {},
   "outputs": [
    {
     "name": "stdout",
     "output_type": "stream",
     "text": [
      "2265604\n",
      "20667\n"
     ]
    }
   ],
   "source": [
    "print(data['total_income'].max())\n",
    "print(data['total_income'].min())"
   ]
  },
  {
   "cell_type": "markdown",
   "metadata": {},
   "source": [
    "Условно выделим категогии:\n",
    "\n",
    "    1. < 50 тр\n",
    "    2. 50-100 тр\n",
    "    3. 100 - 300 тр\n",
    "    4. > 300\n",
    "    \n",
    "Создадим функцию, которая будет определять к какой категории относится клиент по уровню дохода"
   ]
  },
  {
   "cell_type": "code",
   "execution_count": 121,
   "metadata": {},
   "outputs": [],
   "source": [
    "def incom_lvl(total_income):\n",
    "    if total_income < 50*10**3: \n",
    "        return '< 50'\n",
    "    elif 50*10**3 <= total_income < 100*10**3: \n",
    "        return '50-100'\n",
    "    elif 100*10**3 <= total_income <= 300*10**3: \n",
    "        return '100-300'\n",
    "    else: \n",
    "        return '> 300'"
   ]
  },
  {
   "cell_type": "markdown",
   "metadata": {},
   "source": [
    "Создадим новый столбец в таблице и заполним его категориальными данныхми с помощью функции"
   ]
  },
  {
   "cell_type": "code",
   "execution_count": 122,
   "metadata": {},
   "outputs": [],
   "source": [
    "data['income_lvl'] = data['total_income'].apply(incom_lvl)"
   ]
  },
  {
   "cell_type": "markdown",
   "metadata": {},
   "source": [
    "Создадим новый датафрейм где будут сгруппированы значения по новым категориям:"
   ]
  },
  {
   "cell_type": "code",
   "execution_count": 123,
   "metadata": {},
   "outputs": [
    {
     "data": {
      "text/html": [
       "<div>\n",
       "<style scoped>\n",
       "    .dataframe tbody tr th:only-of-type {\n",
       "        vertical-align: middle;\n",
       "    }\n",
       "\n",
       "    .dataframe tbody tr th {\n",
       "        vertical-align: top;\n",
       "    }\n",
       "\n",
       "    .dataframe thead th {\n",
       "        text-align: right;\n",
       "    }\n",
       "</style>\n",
       "<table border=\"1\" class=\"dataframe\">\n",
       "  <thead>\n",
       "    <tr style=\"text-align: right;\">\n",
       "      <th></th>\n",
       "      <th>income_debt</th>\n",
       "    </tr>\n",
       "    <tr>\n",
       "      <th>income_lvl</th>\n",
       "      <th></th>\n",
       "    </tr>\n",
       "  </thead>\n",
       "  <tbody>\n",
       "    <tr>\n",
       "      <th>&lt; 50</th>\n",
       "      <td>6.182796</td>\n",
       "    </tr>\n",
       "    <tr>\n",
       "      <th>&gt; 300</th>\n",
       "      <td>7.152497</td>\n",
       "    </tr>\n",
       "    <tr>\n",
       "      <th>50-100</th>\n",
       "      <td>8.090931</td>\n",
       "    </tr>\n",
       "    <tr>\n",
       "      <th>100-300</th>\n",
       "      <td>8.222080</td>\n",
       "    </tr>\n",
       "  </tbody>\n",
       "</table>\n",
       "</div>"
      ],
      "text/plain": [
       "            income_debt\n",
       "income_lvl             \n",
       "< 50           6.182796\n",
       "> 300          7.152497\n",
       "50-100         8.090931\n",
       "100-300        8.222080"
      ]
     },
     "execution_count": 123,
     "metadata": {},
     "output_type": "execute_result"
    }
   ],
   "source": [
    "data_income = data.groupby('income_lvl').count()\n",
    "\n",
    "# у основной массы клиентов доход от 100 до 300 тр/месяц. Посмотрим кто из них\n",
    "# лучше платит по счетам\n",
    "\n",
    "count_income = data.groupby(by='income_lvl')['debt'].count()\n",
    "total_income = data.groupby(by='income_lvl')['debt'].sum()\n",
    "\n",
    "# display(total_income)\n",
    "# display(count_income)\n",
    "\n",
    "data_income['income_debt'] = 100 * total_income / count_income\n",
    "\n",
    "\n",
    "data_income.loc[:, ['income_debt']].sort_values(by='income_debt')\n"
   ]
  },
  {
   "cell_type": "markdown",
   "metadata": {},
   "source": [
    "**Вывод**"
   ]
  },
  {
   "cell_type": "markdown",
   "metadata": {},
   "source": [
    "Лучше всего кредит оплачивают люди с небольшим заработком, наверное потому что им есть что терять.\n",
    "Также люди с прибылью более 300 тр оплачивают кредит в срок.\n",
    "А вот остальные показали наименьшие результаты."
   ]
  },
  {
   "cell_type": "markdown",
   "metadata": {},
   "source": [
    "- Как разные цели кредита влияют на его возврат в срок?"
   ]
  },
  {
   "cell_type": "markdown",
   "metadata": {},
   "source": [
    "В пункте 2.4. мы получили такой вывод \n",
    "\n",
    "Counter({' ': 55201, 'недвижимость': 6367, 'покупка': 5912, 'жилье': 4473, 'автомобиль': 4315, 'образование': 4022, 'с': 2924, 'операция': 2610, 'свадьба': 2348, 'свой': 2235, 'на': 2233, 'строительство': 1881, 'высокий': 1375, 'получение': 1316, 'коммерческий': 1315, 'для': 1294, 'жилой': 1233, 'сделка': 944, 'дополнительный': 909, 'заниматься': 908, 'подержать': 858, 'проведение': 777, 'сыграть': 774, 'сдача': 653, 'семья': 641, 'собственный': 635, 'со': 630, 'ремонт': 612, 'приобретение': 462, 'профильный': 436, 'подержанный': 110, '\\n': 1}) \n",
    "\n",
    "сделаем следующий вывод: люди брали кредит для следующих потребностей:\n",
    "\n",
    "1. связанные с недвижимостью: [недвижимость, жилье]\n",
    "\n",
    "2. Автомобиль: [автомобиль]\n",
    "\n",
    "3. Образование: [образование]\n",
    "\n",
    "4. Свадьба: [свадьба]\n",
    "\n",
    "Т.о. у нас 4 категории\n",
    "\n",
    "Опишем функцию, которая отнесет цель кредита к одной из 4х категорий:\n"
   ]
  },
  {
   "cell_type": "code",
   "execution_count": 124,
   "metadata": {},
   "outputs": [
    {
     "data": {
      "text/html": [
       "<div>\n",
       "<style scoped>\n",
       "    .dataframe tbody tr th:only-of-type {\n",
       "        vertical-align: middle;\n",
       "    }\n",
       "\n",
       "    .dataframe tbody tr th {\n",
       "        vertical-align: top;\n",
       "    }\n",
       "\n",
       "    .dataframe thead th {\n",
       "        text-align: right;\n",
       "    }\n",
       "</style>\n",
       "<table border=\"1\" class=\"dataframe\">\n",
       "  <thead>\n",
       "    <tr style=\"text-align: right;\">\n",
       "      <th></th>\n",
       "      <th>purpose_debt</th>\n",
       "    </tr>\n",
       "    <tr>\n",
       "      <th>purpose_func</th>\n",
       "      <th></th>\n",
       "    </tr>\n",
       "  </thead>\n",
       "  <tbody>\n",
       "    <tr>\n",
       "      <th>недвижимость</th>\n",
       "      <td>7.214022</td>\n",
       "    </tr>\n",
       "    <tr>\n",
       "      <th>свадьба</th>\n",
       "      <td>7.921635</td>\n",
       "    </tr>\n",
       "    <tr>\n",
       "      <th>образование</th>\n",
       "      <td>9.199403</td>\n",
       "    </tr>\n",
       "    <tr>\n",
       "      <th>автомобиль</th>\n",
       "      <td>9.339513</td>\n",
       "    </tr>\n",
       "  </tbody>\n",
       "</table>\n",
       "</div>"
      ],
      "text/plain": [
       "              purpose_debt\n",
       "purpose_func              \n",
       "недвижимость      7.214022\n",
       "свадьба           7.921635\n",
       "образование       9.199403\n",
       "автомобиль        9.339513"
      ]
     },
     "execution_count": 124,
     "metadata": {},
     "output_type": "execute_result"
    }
   ],
   "source": [
    "# загрузим инструменты если вдруг еще не загружены\n",
    "from pymystem3 import Mystem\n",
    "from collections import Counter\n",
    "m = Mystem()\n",
    "\n",
    "# print(m.lemmatize('покупка жилья для семьи'))\n",
    "\n",
    "def purpose_func(text):\n",
    "    lemmans = m.lemmatize(text)\n",
    "    if 'недвижимость' in lemmans:\n",
    "        return 'недвижимость'\n",
    "    elif 'жилье' in lemmans:\n",
    "        return 'недвижимость'\n",
    "    elif 'автомобиль' in lemmans:\n",
    "        return 'автомобиль'\n",
    "    elif 'образование' in lemmans:\n",
    "        return 'образование'\n",
    "    elif 'свадьба' in lemmans:\n",
    "        return 'свадьба'\n",
    "\n",
    "# категоризуем данные\n",
    "data['purpose_func'] = data['purpose'].apply(lambda x: purpose_func(x))\n",
    "\n",
    "# проверим все ли откатегоризованы\n",
    "data['purpose_func'].isna().sum()\n",
    "\n",
    "# и как это выглядит\n",
    "# data.head(20)\n",
    "\n",
    "# сгруппируем по новой колонке, создав новую таблицу\n",
    "data_purpose = data.groupby(by='purpose_func').count()\n",
    "\n",
    "total_debt_purpose = data.groupby(by='purpose_func')['debt'].sum()\n",
    "count_debt_purpose = data.groupby(by='purpose_func')['debt'].count()\n",
    "\n",
    "data_purpose['purpose_debt'] = 100 * total_debt_purpose / count_debt_purpose\n",
    "\n",
    "data_purpose.loc[:, ['purpose_debt']].sort_values(by='purpose_debt')"
   ]
  },
  {
   "cell_type": "markdown",
   "metadata": {},
   "source": [
    "**Вывод**"
   ]
  },
  {
   "cell_type": "markdown",
   "metadata": {},
   "source": [
    "Клиенты, берущие кредит на операции с недвижимостью, обладают самым высоким шансом уложиться с оплатой в срок\n",
    "\n",
    "За ними идут клиенты, которым нужны деньги на проведение свадьбы\n",
    "\n",
    "После них люди, с кредитом на образование\n",
    "\n",
    "И хуже всего вероятность уложиться в срок у клиентов, чей кредит связан с операциями с авто"
   ]
  },
  {
   "cell_type": "code",
   "execution_count": 125,
   "metadata": {},
   "outputs": [
    {
     "data": {
      "text/plain": [
       "purpose_func\n",
       "автомобиль      0.093395\n",
       "недвижимость    0.072140\n",
       "образование     0.091994\n",
       "свадьба         0.079216\n",
       "Name: debt, dtype: float64"
      ]
     },
     "execution_count": 125,
     "metadata": {},
     "output_type": "execute_result"
    }
   ],
   "source": [
    "data.groupby(by='purpose_func')['debt'].mean()"
   ]
  },
  {
   "cell_type": "markdown",
   "metadata": {},
   "source": [
    "## Шаг. Общий вывод"
   ]
  },
  {
   "cell_type": "markdown",
   "metadata": {},
   "source": [
    "Т.о. в результате анализа датасета от банка мы определили что наличие детей снижает вероятность уложиться по уплате в срок, женатые/замужние клиенты хуже справляются с оплатой, а вдовцы/вдовы наоборот оплачивают хорошо. Человек с доходами ниже 50 тыс рублей или выше 300 тыс. рублей лучше справиться с уплатой по счетам, чем те, кто зарабатывает иную сумму.\n",
    "\n",
    "Итого: идеальный клиент - это вдовец с низкой зарплатой без детей, которому нужен кредит на ремонт жилья"
   ]
  }
 ],
 "metadata": {
  "ExecuteTimeLog": [
   {
    "duration": 2817,
    "start_time": "2021-11-30T05:17:16.890Z"
   },
   {
    "duration": 72,
    "start_time": "2021-11-30T05:17:45.272Z"
   },
   {
    "duration": 324,
    "start_time": "2021-11-30T05:18:28.042Z"
   },
   {
    "duration": 831,
    "start_time": "2021-11-30T05:18:32.713Z"
   },
   {
    "duration": 48,
    "start_time": "2021-11-30T05:18:34.978Z"
   },
   {
    "duration": 33,
    "start_time": "2021-11-30T05:20:06.880Z"
   },
   {
    "duration": 43,
    "start_time": "2021-11-30T05:21:02.577Z"
   },
   {
    "duration": 96,
    "start_time": "2021-11-30T05:35:52.047Z"
   },
   {
    "duration": 54,
    "start_time": "2021-11-30T05:51:50.198Z"
   },
   {
    "duration": 78,
    "start_time": "2021-11-30T05:54:03.524Z"
   },
   {
    "duration": 43,
    "start_time": "2021-11-30T05:54:48.763Z"
   },
   {
    "duration": 13,
    "start_time": "2021-11-30T05:56:51.341Z"
   },
   {
    "duration": 10,
    "start_time": "2021-11-30T05:57:43.013Z"
   },
   {
    "duration": 23,
    "start_time": "2021-11-30T05:58:28.808Z"
   },
   {
    "duration": 10,
    "start_time": "2021-11-30T05:59:10.276Z"
   },
   {
    "duration": 21,
    "start_time": "2021-11-30T05:59:20.994Z"
   },
   {
    "duration": 339,
    "start_time": "2021-11-30T05:59:42.332Z"
   },
   {
    "duration": 27,
    "start_time": "2021-11-30T05:59:49.612Z"
   },
   {
    "duration": 27,
    "start_time": "2021-11-30T06:01:36.017Z"
   },
   {
    "duration": 9,
    "start_time": "2021-11-30T06:02:11.971Z"
   },
   {
    "duration": 26,
    "start_time": "2021-11-30T06:02:20.534Z"
   },
   {
    "duration": 27,
    "start_time": "2021-11-30T06:02:22.771Z"
   },
   {
    "duration": 21,
    "start_time": "2021-11-30T06:02:34.572Z"
   },
   {
    "duration": 24,
    "start_time": "2021-11-30T06:02:44.298Z"
   },
   {
    "duration": 26,
    "start_time": "2021-11-30T06:03:16.895Z"
   },
   {
    "duration": 6,
    "start_time": "2021-11-30T06:04:05.177Z"
   },
   {
    "duration": 9,
    "start_time": "2021-11-30T06:04:07.170Z"
   },
   {
    "duration": 14,
    "start_time": "2021-11-30T06:04:32.698Z"
   },
   {
    "duration": 47,
    "start_time": "2021-11-30T06:10:46.855Z"
   },
   {
    "duration": 28,
    "start_time": "2021-11-30T06:11:05.078Z"
   },
   {
    "duration": 29,
    "start_time": "2021-11-30T06:11:11.941Z"
   },
   {
    "duration": 29,
    "start_time": "2021-11-30T06:11:13.477Z"
   },
   {
    "duration": 34,
    "start_time": "2021-11-30T06:11:15.853Z"
   },
   {
    "duration": 23,
    "start_time": "2021-11-30T06:11:46.442Z"
   },
   {
    "duration": 68,
    "start_time": "2021-11-30T06:12:01.856Z"
   },
   {
    "duration": 55,
    "start_time": "2021-11-30T06:12:01.927Z"
   },
   {
    "duration": 98,
    "start_time": "2021-11-30T06:12:01.985Z"
   },
   {
    "duration": 71,
    "start_time": "2021-11-30T06:12:02.087Z"
   },
   {
    "duration": 12,
    "start_time": "2021-11-30T06:12:02.161Z"
   },
   {
    "duration": 9,
    "start_time": "2021-11-30T06:12:02.176Z"
   },
   {
    "duration": 70,
    "start_time": "2021-11-30T06:12:02.187Z"
   },
   {
    "duration": 27,
    "start_time": "2021-11-30T06:12:02.261Z"
   },
   {
    "duration": 38,
    "start_time": "2021-11-30T06:12:02.291Z"
   },
   {
    "duration": 10,
    "start_time": "2021-11-30T06:12:02.333Z"
   },
   {
    "duration": 11,
    "start_time": "2021-11-30T06:12:02.346Z"
   },
   {
    "duration": 16,
    "start_time": "2021-11-30T06:12:02.359Z"
   },
   {
    "duration": 60,
    "start_time": "2021-11-30T06:12:02.378Z"
   },
   {
    "duration": 49,
    "start_time": "2021-11-30T06:12:02.441Z"
   },
   {
    "duration": 63,
    "start_time": "2021-11-30T06:12:02.493Z"
   },
   {
    "duration": 50,
    "start_time": "2021-11-30T06:12:02.559Z"
   },
   {
    "duration": 19,
    "start_time": "2021-11-30T06:13:07.595Z"
   },
   {
    "duration": 17,
    "start_time": "2021-11-30T06:13:30.852Z"
   },
   {
    "duration": 22,
    "start_time": "2021-11-30T06:13:34.157Z"
   },
   {
    "duration": 34,
    "start_time": "2021-11-30T06:13:53.525Z"
   },
   {
    "duration": 8,
    "start_time": "2021-11-30T06:14:04.649Z"
   },
   {
    "duration": 65,
    "start_time": "2021-11-30T06:14:28.313Z"
   },
   {
    "duration": 75,
    "start_time": "2021-11-30T06:14:38.120Z"
   },
   {
    "duration": 101,
    "start_time": "2021-11-30T06:16:06.675Z"
   },
   {
    "duration": 88,
    "start_time": "2021-11-30T06:16:09.922Z"
   },
   {
    "duration": 16,
    "start_time": "2021-11-30T06:16:13.149Z"
   },
   {
    "duration": 64,
    "start_time": "2021-11-30T06:16:17.058Z"
   },
   {
    "duration": 70,
    "start_time": "2021-11-30T06:16:50.806Z"
   },
   {
    "duration": 38,
    "start_time": "2021-11-30T06:19:57.547Z"
   },
   {
    "duration": 83,
    "start_time": "2021-11-30T06:20:45.083Z"
   },
   {
    "duration": 97,
    "start_time": "2021-11-30T06:21:15.302Z"
   },
   {
    "duration": 86,
    "start_time": "2021-11-30T06:22:06.680Z"
   },
   {
    "duration": 87,
    "start_time": "2021-11-30T06:23:18.348Z"
   },
   {
    "duration": 55,
    "start_time": "2021-11-30T06:57:56.188Z"
   },
   {
    "duration": 36,
    "start_time": "2021-11-30T06:58:47.181Z"
   },
   {
    "duration": 6,
    "start_time": "2021-11-30T06:59:25.144Z"
   },
   {
    "duration": 25,
    "start_time": "2021-11-30T06:59:34.831Z"
   },
   {
    "duration": 102,
    "start_time": "2021-11-30T07:01:42.519Z"
   },
   {
    "duration": 104,
    "start_time": "2021-11-30T07:01:53.214Z"
   },
   {
    "duration": 316,
    "start_time": "2021-11-30T07:02:03.815Z"
   },
   {
    "duration": 7,
    "start_time": "2021-11-30T07:02:14.824Z"
   },
   {
    "duration": 11,
    "start_time": "2021-11-30T07:02:25.926Z"
   },
   {
    "duration": 3836,
    "start_time": "2021-11-30T07:03:31.108Z"
   },
   {
    "duration": 3264,
    "start_time": "2021-11-30T07:05:42.307Z"
   },
   {
    "duration": 3311,
    "start_time": "2021-11-30T07:06:00.250Z"
   },
   {
    "duration": 3512,
    "start_time": "2021-11-30T07:07:55.351Z"
   },
   {
    "duration": 4042,
    "start_time": "2021-11-30T07:08:03.746Z"
   },
   {
    "duration": 89,
    "start_time": "2021-11-30T07:16:21.604Z"
   },
   {
    "duration": 3641,
    "start_time": "2021-11-30T07:16:25.498Z"
   },
   {
    "duration": 3379,
    "start_time": "2021-11-30T07:17:50.695Z"
   },
   {
    "duration": 273,
    "start_time": "2021-11-30T07:18:44.906Z"
   },
   {
    "duration": 3942,
    "start_time": "2021-11-30T07:18:50.900Z"
   },
   {
    "duration": 3352,
    "start_time": "2021-11-30T07:19:02.081Z"
   },
   {
    "duration": 3484,
    "start_time": "2021-11-30T07:19:11.115Z"
   },
   {
    "duration": 339,
    "start_time": "2021-11-30T07:22:28.675Z"
   },
   {
    "duration": 3669,
    "start_time": "2021-11-30T07:22:57.685Z"
   },
   {
    "duration": 4,
    "start_time": "2021-11-30T08:01:34.153Z"
   },
   {
    "duration": 3,
    "start_time": "2021-11-30T08:01:37.671Z"
   },
   {
    "duration": 8,
    "start_time": "2021-11-30T08:01:48.266Z"
   },
   {
    "duration": 6,
    "start_time": "2021-11-30T08:02:16.810Z"
   },
   {
    "duration": 7,
    "start_time": "2021-11-30T08:02:24.642Z"
   },
   {
    "duration": 26,
    "start_time": "2021-11-30T08:03:08.236Z"
   },
   {
    "duration": 18,
    "start_time": "2021-11-30T08:03:25.318Z"
   },
   {
    "duration": 27,
    "start_time": "2021-11-30T08:03:52.183Z"
   },
   {
    "duration": 18,
    "start_time": "2021-11-30T08:05:13.355Z"
   },
   {
    "duration": 14,
    "start_time": "2021-11-30T08:05:54.637Z"
   },
   {
    "duration": 3754,
    "start_time": "2021-11-30T08:06:21.197Z"
   },
   {
    "duration": 13,
    "start_time": "2021-11-30T08:07:17.147Z"
   },
   {
    "duration": 18,
    "start_time": "2021-11-30T08:07:59.878Z"
   },
   {
    "duration": 280,
    "start_time": "2021-11-30T08:08:10.187Z"
   },
   {
    "duration": 25,
    "start_time": "2021-11-30T08:08:14.499Z"
   },
   {
    "duration": 264,
    "start_time": "2021-11-30T08:19:14.369Z"
   },
   {
    "duration": 4,
    "start_time": "2021-11-30T08:19:18.789Z"
   },
   {
    "duration": 6,
    "start_time": "2021-11-30T08:19:31.149Z"
   },
   {
    "duration": 28,
    "start_time": "2021-11-30T08:19:49.695Z"
   },
   {
    "duration": 16,
    "start_time": "2021-11-30T08:21:23.303Z"
   },
   {
    "duration": 13,
    "start_time": "2021-11-30T08:21:27.547Z"
   },
   {
    "duration": 15,
    "start_time": "2021-11-30T08:22:01.340Z"
   },
   {
    "duration": 16,
    "start_time": "2021-11-30T08:22:19.406Z"
   },
   {
    "duration": 14,
    "start_time": "2021-11-30T08:22:27.574Z"
   },
   {
    "duration": 9,
    "start_time": "2021-11-30T08:22:52.712Z"
   },
   {
    "duration": 14,
    "start_time": "2021-11-30T08:23:48.730Z"
   },
   {
    "duration": 14,
    "start_time": "2021-11-30T08:23:59.224Z"
   },
   {
    "duration": 16,
    "start_time": "2021-11-30T08:24:04.251Z"
   },
   {
    "duration": 285,
    "start_time": "2021-11-30T08:24:14.921Z"
   },
   {
    "duration": 14,
    "start_time": "2021-11-30T08:24:21.181Z"
   },
   {
    "duration": 14,
    "start_time": "2021-11-30T08:24:51.356Z"
   },
   {
    "duration": 40,
    "start_time": "2021-11-30T08:26:16.407Z"
   },
   {
    "duration": 34,
    "start_time": "2021-11-30T08:26:37.428Z"
   },
   {
    "duration": 36,
    "start_time": "2021-11-30T08:27:36.424Z"
   },
   {
    "duration": 315,
    "start_time": "2021-11-30T08:27:54.136Z"
   },
   {
    "duration": 30,
    "start_time": "2021-11-30T08:27:59.294Z"
   },
   {
    "duration": 14,
    "start_time": "2021-11-30T08:29:42.910Z"
   },
   {
    "duration": 22,
    "start_time": "2021-11-30T08:29:52.124Z"
   },
   {
    "duration": 22,
    "start_time": "2021-11-30T08:31:08.954Z"
   },
   {
    "duration": 22,
    "start_time": "2021-11-30T08:31:29.346Z"
   },
   {
    "duration": 343,
    "start_time": "2021-11-30T08:32:11.011Z"
   },
   {
    "duration": 341,
    "start_time": "2021-11-30T08:32:39.190Z"
   },
   {
    "duration": 293,
    "start_time": "2021-11-30T08:32:45.894Z"
   },
   {
    "duration": 21,
    "start_time": "2021-11-30T08:33:16.343Z"
   },
   {
    "duration": 89,
    "start_time": "2021-11-30T08:35:18.141Z"
   },
   {
    "duration": 354,
    "start_time": "2021-11-30T08:35:21.763Z"
   },
   {
    "duration": 6784,
    "start_time": "2021-11-30T08:35:49.703Z"
   },
   {
    "duration": 6771,
    "start_time": "2021-11-30T08:36:17.183Z"
   },
   {
    "duration": 6740,
    "start_time": "2021-11-30T08:36:26.586Z"
   },
   {
    "duration": 31,
    "start_time": "2021-11-30T08:36:58.627Z"
   },
   {
    "duration": 24,
    "start_time": "2021-11-30T08:38:09.177Z"
   },
   {
    "duration": 1890,
    "start_time": "2021-11-30T08:39:10.450Z"
   },
   {
    "duration": 1879,
    "start_time": "2021-11-30T08:39:40.257Z"
   },
   {
    "duration": 6899,
    "start_time": "2021-11-30T08:39:54.892Z"
   },
   {
    "duration": 85,
    "start_time": "2021-11-30T08:40:21.227Z"
   },
   {
    "duration": 24,
    "start_time": "2021-11-30T08:40:28.740Z"
   },
   {
    "duration": 20,
    "start_time": "2021-11-30T08:40:39.875Z"
   },
   {
    "duration": 286,
    "start_time": "2021-11-30T08:41:14.967Z"
   },
   {
    "duration": 21,
    "start_time": "2021-11-30T08:41:43.767Z"
   },
   {
    "duration": 38,
    "start_time": "2021-11-30T08:42:16.216Z"
   },
   {
    "duration": 39,
    "start_time": "2021-11-30T08:47:06.616Z"
   },
   {
    "duration": 34,
    "start_time": "2021-11-30T08:48:49.285Z"
   },
   {
    "duration": 27,
    "start_time": "2021-11-30T08:48:57.917Z"
   },
   {
    "duration": 28,
    "start_time": "2021-11-30T08:49:00.582Z"
   },
   {
    "duration": 26,
    "start_time": "2021-11-30T08:49:05.566Z"
   },
   {
    "duration": 26,
    "start_time": "2021-11-30T08:49:10.310Z"
   },
   {
    "duration": 35,
    "start_time": "2021-11-30T08:49:13.278Z"
   },
   {
    "duration": 32,
    "start_time": "2021-11-30T08:50:00.902Z"
   },
   {
    "duration": 33,
    "start_time": "2021-11-30T08:50:07.916Z"
   },
   {
    "duration": 108,
    "start_time": "2021-11-30T08:57:18.060Z"
   },
   {
    "duration": 20,
    "start_time": "2021-11-30T09:03:58.964Z"
   },
   {
    "duration": 29,
    "start_time": "2021-11-30T09:07:48.695Z"
   },
   {
    "duration": 321,
    "start_time": "2021-11-30T09:25:09.063Z"
   },
   {
    "duration": 310,
    "start_time": "2021-11-30T09:25:41.677Z"
   },
   {
    "duration": 69,
    "start_time": "2021-11-30T09:26:04.646Z"
   },
   {
    "duration": 80,
    "start_time": "2021-11-30T09:27:12.954Z"
   },
   {
    "duration": 72,
    "start_time": "2021-11-30T09:27:30.441Z"
   },
   {
    "duration": 309,
    "start_time": "2021-11-30T09:30:20.859Z"
   },
   {
    "duration": 326,
    "start_time": "2021-11-30T09:30:26.750Z"
   },
   {
    "duration": 39,
    "start_time": "2021-11-30T09:30:50.790Z"
   },
   {
    "duration": 327,
    "start_time": "2021-11-30T09:31:07.187Z"
   },
   {
    "duration": 44,
    "start_time": "2021-11-30T09:31:20.285Z"
   },
   {
    "duration": 8292,
    "start_time": "2021-11-30T09:32:44.706Z"
   },
   {
    "duration": 52,
    "start_time": "2021-11-30T09:33:23.326Z"
   },
   {
    "duration": 7289,
    "start_time": "2021-11-30T09:33:51.517Z"
   },
   {
    "duration": 316,
    "start_time": "2021-11-30T09:34:17.423Z"
   },
   {
    "duration": 7578,
    "start_time": "2021-11-30T09:34:50.791Z"
   },
   {
    "duration": 43,
    "start_time": "2021-11-30T09:35:55.789Z"
   },
   {
    "duration": 7270,
    "start_time": "2021-11-30T09:36:04.865Z"
   },
   {
    "duration": 59,
    "start_time": "2021-11-30T09:36:55.334Z"
   },
   {
    "duration": 431,
    "start_time": "2021-11-30T09:37:54.396Z"
   },
   {
    "duration": 3715,
    "start_time": "2021-11-30T09:38:22.915Z"
   },
   {
    "duration": 70,
    "start_time": "2021-11-30T09:38:44.770Z"
   },
   {
    "duration": 40,
    "start_time": "2021-11-30T09:39:28.720Z"
   },
   {
    "duration": 45,
    "start_time": "2021-11-30T09:39:35.959Z"
   },
   {
    "duration": 57,
    "start_time": "2021-11-30T09:39:43.125Z"
   },
   {
    "duration": 7127,
    "start_time": "2021-11-30T09:41:46.787Z"
   },
   {
    "duration": 7399,
    "start_time": "2021-11-30T09:41:56.317Z"
   },
   {
    "duration": 7032,
    "start_time": "2021-11-30T09:42:03.854Z"
   },
   {
    "duration": 7687,
    "start_time": "2021-11-30T09:42:36.070Z"
   },
   {
    "duration": 44,
    "start_time": "2021-11-30T09:43:21.618Z"
   },
   {
    "duration": 44,
    "start_time": "2021-11-30T09:43:28.145Z"
   },
   {
    "duration": 7347,
    "start_time": "2021-11-30T09:43:30.697Z"
   },
   {
    "duration": 57,
    "start_time": "2021-11-30T09:43:45.948Z"
   },
   {
    "duration": 7795,
    "start_time": "2021-11-30T09:44:47.734Z"
   },
   {
    "duration": 46,
    "start_time": "2021-11-30T09:45:25.873Z"
   },
   {
    "duration": 44,
    "start_time": "2021-11-30T09:46:07.806Z"
   },
   {
    "duration": 48,
    "start_time": "2021-11-30T09:46:31.226Z"
   },
   {
    "duration": 45,
    "start_time": "2021-11-30T09:47:07.973Z"
   },
   {
    "duration": 45,
    "start_time": "2021-11-30T09:47:28.397Z"
   },
   {
    "duration": 50,
    "start_time": "2021-11-30T09:47:43.822Z"
   },
   {
    "duration": 45,
    "start_time": "2021-11-30T09:47:55.910Z"
   },
   {
    "duration": 49,
    "start_time": "2021-11-30T09:48:06.823Z"
   },
   {
    "duration": 46,
    "start_time": "2021-11-30T10:45:09.260Z"
   },
   {
    "duration": 32,
    "start_time": "2021-11-30T10:45:15.996Z"
   },
   {
    "duration": 21,
    "start_time": "2021-11-30T10:47:00.522Z"
   },
   {
    "duration": 27,
    "start_time": "2021-11-30T10:47:16.098Z"
   },
   {
    "duration": 33,
    "start_time": "2021-11-30T10:48:21.462Z"
   },
   {
    "duration": 101,
    "start_time": "2021-11-30T10:48:32.550Z"
   },
   {
    "duration": 45,
    "start_time": "2021-11-30T10:48:37.135Z"
   },
   {
    "duration": 29,
    "start_time": "2021-11-30T10:48:43.735Z"
   },
   {
    "duration": 30,
    "start_time": "2021-11-30T10:48:57.552Z"
   },
   {
    "duration": 93,
    "start_time": "2021-11-30T10:49:41.891Z"
   },
   {
    "duration": 35,
    "start_time": "2021-11-30T10:49:51.882Z"
   },
   {
    "duration": 32,
    "start_time": "2021-11-30T10:50:24.132Z"
   },
   {
    "duration": 891,
    "start_time": "2021-11-30T10:51:29.400Z"
   },
   {
    "duration": 58,
    "start_time": "2021-11-30T10:51:30.293Z"
   },
   {
    "duration": 87,
    "start_time": "2021-11-30T10:51:30.354Z"
   },
   {
    "duration": 44,
    "start_time": "2021-11-30T10:51:30.444Z"
   },
   {
    "duration": 25,
    "start_time": "2021-11-30T10:51:30.490Z"
   },
   {
    "duration": 13,
    "start_time": "2021-11-30T10:51:30.530Z"
   },
   {
    "duration": 49,
    "start_time": "2021-11-30T10:51:30.545Z"
   },
   {
    "duration": 39,
    "start_time": "2021-11-30T10:51:30.600Z"
   },
   {
    "duration": 44,
    "start_time": "2021-11-30T10:51:30.643Z"
   },
   {
    "duration": 9,
    "start_time": "2021-11-30T10:51:30.690Z"
   },
   {
    "duration": 34,
    "start_time": "2021-11-30T10:51:30.701Z"
   },
   {
    "duration": 46,
    "start_time": "2021-11-30T10:51:30.739Z"
   },
   {
    "duration": 61,
    "start_time": "2021-11-30T10:51:30.788Z"
   },
   {
    "duration": 76,
    "start_time": "2021-11-30T10:51:30.852Z"
   },
   {
    "duration": 25,
    "start_time": "2021-11-30T10:51:30.931Z"
   },
   {
    "duration": 48,
    "start_time": "2021-11-30T10:51:30.959Z"
   },
   {
    "duration": 29,
    "start_time": "2021-11-30T10:51:31.009Z"
   },
   {
    "duration": 39,
    "start_time": "2021-11-30T10:51:31.041Z"
   },
   {
    "duration": 75,
    "start_time": "2021-11-30T10:51:31.082Z"
   },
   {
    "duration": 101,
    "start_time": "2021-11-30T10:51:31.160Z"
   },
   {
    "duration": 3458,
    "start_time": "2021-11-30T10:51:31.263Z"
   },
   {
    "duration": 52,
    "start_time": "2021-11-30T10:51:34.730Z"
   },
   {
    "duration": 49,
    "start_time": "2021-11-30T10:51:34.788Z"
   },
   {
    "duration": 53,
    "start_time": "2021-11-30T10:51:34.840Z"
   },
   {
    "duration": 64,
    "start_time": "2021-11-30T10:53:08.905Z"
   },
   {
    "duration": 41,
    "start_time": "2021-11-30T10:53:28.033Z"
   },
   {
    "duration": 21,
    "start_time": "2021-11-30T10:53:42.018Z"
   },
   {
    "duration": 832,
    "start_time": "2021-11-30T10:53:51.350Z"
   },
   {
    "duration": 57,
    "start_time": "2021-11-30T10:53:52.184Z"
   },
   {
    "duration": 61,
    "start_time": "2021-11-30T10:53:52.245Z"
   },
   {
    "duration": 46,
    "start_time": "2021-11-30T10:53:52.330Z"
   },
   {
    "duration": 11,
    "start_time": "2021-11-30T10:53:52.378Z"
   },
   {
    "duration": 44,
    "start_time": "2021-11-30T10:53:52.392Z"
   },
   {
    "duration": 21,
    "start_time": "2021-11-30T10:53:52.439Z"
   },
   {
    "duration": 26,
    "start_time": "2021-11-30T10:53:52.464Z"
   },
   {
    "duration": 54,
    "start_time": "2021-11-30T10:53:52.494Z"
   },
   {
    "duration": 6,
    "start_time": "2021-11-30T10:53:52.551Z"
   },
   {
    "duration": 9,
    "start_time": "2021-11-30T10:53:52.560Z"
   },
   {
    "duration": 15,
    "start_time": "2021-11-30T10:53:52.571Z"
   },
   {
    "duration": 44,
    "start_time": "2021-11-30T10:53:52.589Z"
   },
   {
    "duration": 45,
    "start_time": "2021-11-30T10:53:52.635Z"
   },
   {
    "duration": 55,
    "start_time": "2021-11-30T10:53:52.683Z"
   },
   {
    "duration": 24,
    "start_time": "2021-11-30T10:53:52.740Z"
   },
   {
    "duration": 17,
    "start_time": "2021-11-30T10:53:52.767Z"
   },
   {
    "duration": 6,
    "start_time": "2021-11-30T10:53:52.786Z"
   },
   {
    "duration": 34,
    "start_time": "2021-11-30T10:53:52.829Z"
   },
   {
    "duration": 18,
    "start_time": "2021-11-30T10:53:52.866Z"
   },
   {
    "duration": 4661,
    "start_time": "2021-11-30T10:53:52.886Z"
   },
   {
    "duration": 27,
    "start_time": "2021-11-30T10:53:57.550Z"
   },
   {
    "duration": 31,
    "start_time": "2021-11-30T10:53:57.581Z"
   },
   {
    "duration": 62,
    "start_time": "2021-11-30T10:53:57.614Z"
   },
   {
    "duration": 836,
    "start_time": "2021-11-30T10:54:20.027Z"
   },
   {
    "duration": 50,
    "start_time": "2021-11-30T10:54:20.866Z"
   },
   {
    "duration": 63,
    "start_time": "2021-11-30T10:54:20.929Z"
   },
   {
    "duration": 64,
    "start_time": "2021-11-30T10:54:20.995Z"
   },
   {
    "duration": 11,
    "start_time": "2021-11-30T10:54:21.061Z"
   },
   {
    "duration": 18,
    "start_time": "2021-11-30T10:54:21.075Z"
   },
   {
    "duration": 51,
    "start_time": "2021-11-30T10:54:21.096Z"
   },
   {
    "duration": 22,
    "start_time": "2021-11-30T10:54:21.151Z"
   },
   {
    "duration": 56,
    "start_time": "2021-11-30T10:54:21.177Z"
   },
   {
    "duration": 6,
    "start_time": "2021-11-30T10:54:21.236Z"
   },
   {
    "duration": 13,
    "start_time": "2021-11-30T10:54:21.244Z"
   },
   {
    "duration": 15,
    "start_time": "2021-11-30T10:54:21.259Z"
   },
   {
    "duration": 8,
    "start_time": "2021-11-30T10:54:21.276Z"
   },
   {
    "duration": 46,
    "start_time": "2021-11-30T10:54:21.330Z"
   },
   {
    "duration": 23,
    "start_time": "2021-11-30T10:54:21.378Z"
   },
   {
    "duration": 22,
    "start_time": "2021-11-30T10:54:21.429Z"
   },
   {
    "duration": 15,
    "start_time": "2021-11-30T10:54:21.454Z"
   },
   {
    "duration": 6,
    "start_time": "2021-11-30T10:54:21.471Z"
   },
   {
    "duration": 74,
    "start_time": "2021-11-30T10:54:21.479Z"
   },
   {
    "duration": 30,
    "start_time": "2021-11-30T10:54:21.555Z"
   },
   {
    "duration": 3756,
    "start_time": "2021-11-30T10:54:21.587Z"
   },
   {
    "duration": 28,
    "start_time": "2021-11-30T10:54:25.346Z"
   },
   {
    "duration": 20,
    "start_time": "2021-11-30T10:54:25.377Z"
   },
   {
    "duration": 63,
    "start_time": "2021-11-30T10:54:25.399Z"
   },
   {
    "duration": 92,
    "start_time": "2021-11-30T10:55:19.666Z"
   },
   {
    "duration": 69,
    "start_time": "2021-11-30T10:55:24.698Z"
   },
   {
    "duration": 34,
    "start_time": "2021-11-30T10:55:50.956Z"
   },
   {
    "duration": 838,
    "start_time": "2021-11-30T10:56:34.903Z"
   },
   {
    "duration": 49,
    "start_time": "2021-11-30T10:56:35.744Z"
   },
   {
    "duration": 90,
    "start_time": "2021-11-30T10:56:35.797Z"
   },
   {
    "duration": 72,
    "start_time": "2021-11-30T10:56:35.891Z"
   },
   {
    "duration": 10,
    "start_time": "2021-11-30T10:56:35.966Z"
   },
   {
    "duration": 13,
    "start_time": "2021-11-30T10:56:35.979Z"
   },
   {
    "duration": 51,
    "start_time": "2021-11-30T10:56:35.995Z"
   },
   {
    "duration": 21,
    "start_time": "2021-11-30T10:56:36.049Z"
   },
   {
    "duration": 25,
    "start_time": "2021-11-30T10:56:36.073Z"
   },
   {
    "duration": 7,
    "start_time": "2021-11-30T10:56:36.129Z"
   },
   {
    "duration": 16,
    "start_time": "2021-11-30T10:56:36.138Z"
   },
   {
    "duration": 18,
    "start_time": "2021-11-30T10:56:36.156Z"
   },
   {
    "duration": 7,
    "start_time": "2021-11-30T10:56:36.176Z"
   },
   {
    "duration": 86,
    "start_time": "2021-11-30T10:56:36.186Z"
   },
   {
    "duration": 24,
    "start_time": "2021-11-30T10:56:36.274Z"
   },
   {
    "duration": 48,
    "start_time": "2021-11-30T10:56:36.300Z"
   },
   {
    "duration": 16,
    "start_time": "2021-11-30T10:56:36.350Z"
   },
   {
    "duration": 6,
    "start_time": "2021-11-30T10:56:36.368Z"
   },
   {
    "duration": 67,
    "start_time": "2021-11-30T10:56:36.376Z"
   },
   {
    "duration": 28,
    "start_time": "2021-11-30T10:56:36.445Z"
   },
   {
    "duration": 3848,
    "start_time": "2021-11-30T10:56:36.475Z"
   },
   {
    "duration": 28,
    "start_time": "2021-11-30T10:56:40.325Z"
   },
   {
    "duration": 20,
    "start_time": "2021-11-30T10:56:40.357Z"
   },
   {
    "duration": 72,
    "start_time": "2021-11-30T10:56:40.380Z"
   },
   {
    "duration": 808,
    "start_time": "2021-11-30T10:57:43.981Z"
   },
   {
    "duration": 63,
    "start_time": "2021-11-30T10:57:44.791Z"
   },
   {
    "duration": 87,
    "start_time": "2021-11-30T10:57:44.858Z"
   },
   {
    "duration": 47,
    "start_time": "2021-11-30T10:57:44.948Z"
   },
   {
    "duration": 41,
    "start_time": "2021-11-30T10:57:44.997Z"
   },
   {
    "duration": 27,
    "start_time": "2021-11-30T10:57:45.040Z"
   },
   {
    "duration": 30,
    "start_time": "2021-11-30T10:57:45.070Z"
   },
   {
    "duration": 36,
    "start_time": "2021-11-30T10:57:45.106Z"
   },
   {
    "duration": 28,
    "start_time": "2021-11-30T10:57:45.147Z"
   },
   {
    "duration": 6,
    "start_time": "2021-11-30T10:57:45.178Z"
   },
   {
    "duration": 44,
    "start_time": "2021-11-30T10:57:45.187Z"
   },
   {
    "duration": 15,
    "start_time": "2021-11-30T10:57:45.233Z"
   },
   {
    "duration": 10,
    "start_time": "2021-11-30T10:57:45.251Z"
   },
   {
    "duration": 81,
    "start_time": "2021-11-30T10:57:45.264Z"
   },
   {
    "duration": 25,
    "start_time": "2021-11-30T10:57:45.348Z"
   },
   {
    "duration": 22,
    "start_time": "2021-11-30T10:57:45.376Z"
   },
   {
    "duration": 17,
    "start_time": "2021-11-30T10:57:45.430Z"
   },
   {
    "duration": 8,
    "start_time": "2021-11-30T10:57:45.450Z"
   },
   {
    "duration": 84,
    "start_time": "2021-11-30T10:57:45.461Z"
   },
   {
    "duration": 47,
    "start_time": "2021-11-30T10:57:45.549Z"
   },
   {
    "duration": 3278,
    "start_time": "2021-11-30T10:57:45.598Z"
   },
   {
    "duration": 28,
    "start_time": "2021-11-30T10:57:48.878Z"
   },
   {
    "duration": 42,
    "start_time": "2021-11-30T10:57:48.911Z"
   },
   {
    "duration": 38,
    "start_time": "2021-11-30T10:57:48.956Z"
   },
   {
    "duration": 859,
    "start_time": "2021-11-30T10:58:54.322Z"
   },
   {
    "duration": 55,
    "start_time": "2021-11-30T10:58:55.184Z"
   },
   {
    "duration": 87,
    "start_time": "2021-11-30T10:58:55.243Z"
   },
   {
    "duration": 43,
    "start_time": "2021-11-30T10:58:55.333Z"
   },
   {
    "duration": 11,
    "start_time": "2021-11-30T10:58:55.378Z"
   },
   {
    "duration": 9,
    "start_time": "2021-11-30T10:58:55.430Z"
   },
   {
    "duration": 21,
    "start_time": "2021-11-30T10:58:55.441Z"
   },
   {
    "duration": 31,
    "start_time": "2021-11-30T10:58:55.466Z"
   },
   {
    "duration": 50,
    "start_time": "2021-11-30T10:58:55.500Z"
   },
   {
    "duration": 6,
    "start_time": "2021-11-30T10:58:55.553Z"
   },
   {
    "duration": 10,
    "start_time": "2021-11-30T10:58:55.561Z"
   },
   {
    "duration": 14,
    "start_time": "2021-11-30T10:58:55.573Z"
   },
   {
    "duration": 7,
    "start_time": "2021-11-30T10:58:55.629Z"
   },
   {
    "duration": 48,
    "start_time": "2021-11-30T10:58:55.640Z"
   },
   {
    "duration": 57,
    "start_time": "2021-11-30T10:58:55.690Z"
   },
   {
    "duration": 24,
    "start_time": "2021-11-30T10:58:55.750Z"
   },
   {
    "duration": 15,
    "start_time": "2021-11-30T10:58:55.776Z"
   },
   {
    "duration": 5,
    "start_time": "2021-11-30T10:58:55.830Z"
   },
   {
    "duration": 38,
    "start_time": "2021-11-30T10:58:55.838Z"
   },
   {
    "duration": 53,
    "start_time": "2021-11-30T10:58:55.879Z"
   },
   {
    "duration": 3372,
    "start_time": "2021-11-30T10:58:55.934Z"
   },
   {
    "duration": 41,
    "start_time": "2021-11-30T10:58:59.310Z"
   },
   {
    "duration": 26,
    "start_time": "2021-11-30T10:58:59.357Z"
   },
   {
    "duration": 73,
    "start_time": "2021-11-30T10:58:59.386Z"
   },
   {
    "duration": 31,
    "start_time": "2021-11-30T10:59:50.096Z"
   },
   {
    "duration": 48,
    "start_time": "2021-11-30T11:00:02.806Z"
   },
   {
    "duration": -27,
    "start_time": "2021-11-30T11:00:25.765Z"
   },
   {
    "duration": 6928,
    "start_time": "2021-11-30T11:00:32.553Z"
   },
   {
    "duration": 7744,
    "start_time": "2021-11-30T11:00:41.474Z"
   },
   {
    "duration": 33,
    "start_time": "2021-11-30T11:01:02.914Z"
   },
   {
    "duration": 48,
    "start_time": "2021-11-30T11:01:14.193Z"
   },
   {
    "duration": 51,
    "start_time": "2021-11-30T11:01:30.388Z"
   },
   {
    "duration": 49,
    "start_time": "2021-11-30T11:01:53.814Z"
   },
   {
    "duration": 9,
    "start_time": "2021-11-30T11:05:25.622Z"
   },
   {
    "duration": 848,
    "start_time": "2021-11-30T11:07:05.005Z"
   },
   {
    "duration": 49,
    "start_time": "2021-11-30T11:07:05.855Z"
   },
   {
    "duration": 81,
    "start_time": "2021-11-30T11:07:05.907Z"
   },
   {
    "duration": 60,
    "start_time": "2021-11-30T11:07:05.991Z"
   },
   {
    "duration": 11,
    "start_time": "2021-11-30T11:07:06.053Z"
   },
   {
    "duration": 21,
    "start_time": "2021-11-30T11:07:06.066Z"
   },
   {
    "duration": 42,
    "start_time": "2021-11-30T11:07:06.091Z"
   },
   {
    "duration": 42,
    "start_time": "2021-11-30T11:07:06.137Z"
   },
   {
    "duration": 32,
    "start_time": "2021-11-30T11:07:06.182Z"
   },
   {
    "duration": 23,
    "start_time": "2021-11-30T11:07:06.217Z"
   },
   {
    "duration": 22,
    "start_time": "2021-11-30T11:07:06.242Z"
   },
   {
    "duration": 18,
    "start_time": "2021-11-30T11:07:06.266Z"
   },
   {
    "duration": 20,
    "start_time": "2021-11-30T11:07:06.286Z"
   },
   {
    "duration": 61,
    "start_time": "2021-11-30T11:07:06.308Z"
   },
   {
    "duration": 9,
    "start_time": "2021-11-30T11:07:06.371Z"
   },
   {
    "duration": 53,
    "start_time": "2021-11-30T11:07:06.383Z"
   },
   {
    "duration": 40,
    "start_time": "2021-11-30T11:07:06.439Z"
   },
   {
    "duration": 24,
    "start_time": "2021-11-30T11:07:06.481Z"
   },
   {
    "duration": 18,
    "start_time": "2021-11-30T11:07:06.508Z"
   },
   {
    "duration": 46,
    "start_time": "2021-11-30T11:07:06.528Z"
   },
   {
    "duration": 29,
    "start_time": "2021-11-30T11:07:06.576Z"
   },
   {
    "duration": 3663,
    "start_time": "2021-11-30T11:07:06.608Z"
   },
   {
    "duration": 26,
    "start_time": "2021-11-30T11:07:10.277Z"
   },
   {
    "duration": 40,
    "start_time": "2021-11-30T11:07:10.306Z"
   },
   {
    "duration": 66,
    "start_time": "2021-11-30T11:07:10.349Z"
   },
   {
    "duration": 791,
    "start_time": "2021-11-30T11:08:04.052Z"
   },
   {
    "duration": 59,
    "start_time": "2021-11-30T11:08:04.845Z"
   },
   {
    "duration": 85,
    "start_time": "2021-11-30T11:08:04.907Z"
   },
   {
    "duration": 65,
    "start_time": "2021-11-30T11:08:04.994Z"
   },
   {
    "duration": 12,
    "start_time": "2021-11-30T11:08:05.061Z"
   },
   {
    "duration": 12,
    "start_time": "2021-11-30T11:08:05.075Z"
   },
   {
    "duration": 56,
    "start_time": "2021-11-30T11:08:05.089Z"
   },
   {
    "duration": 21,
    "start_time": "2021-11-30T11:08:05.149Z"
   },
   {
    "duration": 25,
    "start_time": "2021-11-30T11:08:05.173Z"
   },
   {
    "duration": 31,
    "start_time": "2021-11-30T11:08:05.200Z"
   },
   {
    "duration": 9,
    "start_time": "2021-11-30T11:08:05.234Z"
   },
   {
    "duration": 14,
    "start_time": "2021-11-30T11:08:05.246Z"
   },
   {
    "duration": 7,
    "start_time": "2021-11-30T11:08:05.263Z"
   },
   {
    "duration": 101,
    "start_time": "2021-11-30T11:08:05.272Z"
   },
   {
    "duration": 24,
    "start_time": "2021-11-30T11:08:05.376Z"
   },
   {
    "duration": 51,
    "start_time": "2021-11-30T11:08:05.403Z"
   },
   {
    "duration": 17,
    "start_time": "2021-11-30T11:08:05.456Z"
   },
   {
    "duration": 5,
    "start_time": "2021-11-30T11:08:05.475Z"
   },
   {
    "duration": 67,
    "start_time": "2021-11-30T11:08:05.483Z"
   },
   {
    "duration": 10,
    "start_time": "2021-11-30T11:08:05.553Z"
   },
   {
    "duration": 29,
    "start_time": "2021-11-30T11:08:05.565Z"
   },
   {
    "duration": 3375,
    "start_time": "2021-11-30T11:08:05.597Z"
   },
   {
    "duration": 25,
    "start_time": "2021-11-30T11:08:08.977Z"
   },
   {
    "duration": 42,
    "start_time": "2021-11-30T11:08:09.005Z"
   },
   {
    "duration": 54,
    "start_time": "2021-11-30T11:08:09.050Z"
   },
   {
    "duration": 779,
    "start_time": "2021-11-30T11:08:29.671Z"
   },
   {
    "duration": 49,
    "start_time": "2021-11-30T11:08:30.453Z"
   },
   {
    "duration": 80,
    "start_time": "2021-11-30T11:08:30.505Z"
   },
   {
    "duration": 65,
    "start_time": "2021-11-30T11:08:30.588Z"
   },
   {
    "duration": 14,
    "start_time": "2021-11-30T11:08:30.655Z"
   },
   {
    "duration": 10,
    "start_time": "2021-11-30T11:08:30.672Z"
   },
   {
    "duration": 57,
    "start_time": "2021-11-30T11:08:30.685Z"
   },
   {
    "duration": 39,
    "start_time": "2021-11-30T11:08:30.746Z"
   },
   {
    "duration": 35,
    "start_time": "2021-11-30T11:08:30.788Z"
   },
   {
    "duration": 8,
    "start_time": "2021-11-30T11:08:30.829Z"
   },
   {
    "duration": 42,
    "start_time": "2021-11-30T11:08:30.840Z"
   },
   {
    "duration": 25,
    "start_time": "2021-11-30T11:08:30.885Z"
   },
   {
    "duration": 15,
    "start_time": "2021-11-30T11:08:30.913Z"
   },
   {
    "duration": 58,
    "start_time": "2021-11-30T11:08:30.931Z"
   },
   {
    "duration": 42,
    "start_time": "2021-11-30T11:08:30.992Z"
   },
   {
    "duration": 58,
    "start_time": "2021-11-30T11:08:31.036Z"
   },
   {
    "duration": 20,
    "start_time": "2021-11-30T11:08:31.096Z"
   },
   {
    "duration": 35,
    "start_time": "2021-11-30T11:08:31.119Z"
   },
   {
    "duration": 46,
    "start_time": "2021-11-30T11:08:31.156Z"
   },
   {
    "duration": 30,
    "start_time": "2021-11-30T11:08:31.205Z"
   },
   {
    "duration": 60,
    "start_time": "2021-11-30T11:08:31.238Z"
   },
   {
    "duration": 4012,
    "start_time": "2021-11-30T11:08:31.301Z"
   },
   {
    "duration": 34,
    "start_time": "2021-11-30T11:08:35.317Z"
   },
   {
    "duration": 21,
    "start_time": "2021-11-30T11:08:35.353Z"
   },
   {
    "duration": 77,
    "start_time": "2021-11-30T11:08:35.377Z"
   },
   {
    "duration": 809,
    "start_time": "2021-11-30T11:09:06.429Z"
   },
   {
    "duration": 50,
    "start_time": "2021-11-30T11:09:07.241Z"
   },
   {
    "duration": 80,
    "start_time": "2021-11-30T11:09:07.294Z"
   },
   {
    "duration": 69,
    "start_time": "2021-11-30T11:09:07.377Z"
   },
   {
    "duration": 11,
    "start_time": "2021-11-30T11:09:07.448Z"
   },
   {
    "duration": 9,
    "start_time": "2021-11-30T11:09:07.462Z"
   },
   {
    "duration": 58,
    "start_time": "2021-11-30T11:09:07.474Z"
   },
   {
    "duration": 23,
    "start_time": "2021-11-30T11:09:07.535Z"
   },
   {
    "duration": 25,
    "start_time": "2021-11-30T11:09:07.561Z"
   },
   {
    "duration": 43,
    "start_time": "2021-11-30T11:09:07.589Z"
   },
   {
    "duration": 9,
    "start_time": "2021-11-30T11:09:07.634Z"
   },
   {
    "duration": 14,
    "start_time": "2021-11-30T11:09:07.646Z"
   },
   {
    "duration": 7,
    "start_time": "2021-11-30T11:09:07.662Z"
   },
   {
    "duration": 90,
    "start_time": "2021-11-30T11:09:07.672Z"
   },
   {
    "duration": 25,
    "start_time": "2021-11-30T11:09:07.765Z"
   },
   {
    "duration": 48,
    "start_time": "2021-11-30T11:09:07.792Z"
   },
   {
    "duration": 17,
    "start_time": "2021-11-30T11:09:07.843Z"
   },
   {
    "duration": 6,
    "start_time": "2021-11-30T11:09:07.863Z"
   },
   {
    "duration": 67,
    "start_time": "2021-11-30T11:09:07.871Z"
   },
   {
    "duration": 30,
    "start_time": "2021-11-30T11:09:07.940Z"
   },
   {
    "duration": 4669,
    "start_time": "2021-11-30T11:09:07.973Z"
   },
   {
    "duration": 11,
    "start_time": "2021-11-30T11:09:12.644Z"
   },
   {
    "duration": 32,
    "start_time": "2021-11-30T11:09:12.659Z"
   },
   {
    "duration": 58,
    "start_time": "2021-11-30T11:09:12.694Z"
   },
   {
    "duration": 53,
    "start_time": "2021-11-30T11:09:12.755Z"
   },
   {
    "duration": 857,
    "start_time": "2021-11-30T11:09:36.145Z"
   },
   {
    "duration": 50,
    "start_time": "2021-11-30T11:09:37.005Z"
   },
   {
    "duration": 77,
    "start_time": "2021-11-30T11:09:37.058Z"
   },
   {
    "duration": 45,
    "start_time": "2021-11-30T11:09:37.138Z"
   },
   {
    "duration": 45,
    "start_time": "2021-11-30T11:09:37.186Z"
   },
   {
    "duration": 11,
    "start_time": "2021-11-30T11:09:37.234Z"
   },
   {
    "duration": 22,
    "start_time": "2021-11-30T11:09:37.248Z"
   },
   {
    "duration": 58,
    "start_time": "2021-11-30T11:09:37.273Z"
   },
   {
    "duration": 27,
    "start_time": "2021-11-30T11:09:37.334Z"
   },
   {
    "duration": 9,
    "start_time": "2021-11-30T11:09:37.364Z"
   },
   {
    "duration": 55,
    "start_time": "2021-11-30T11:09:37.376Z"
   },
   {
    "duration": 14,
    "start_time": "2021-11-30T11:09:37.434Z"
   },
   {
    "duration": 7,
    "start_time": "2021-11-30T11:09:37.451Z"
   },
   {
    "duration": 85,
    "start_time": "2021-11-30T11:09:37.461Z"
   },
   {
    "duration": 24,
    "start_time": "2021-11-30T11:09:37.548Z"
   },
   {
    "duration": 71,
    "start_time": "2021-11-30T11:09:37.574Z"
   },
   {
    "duration": 17,
    "start_time": "2021-11-30T11:09:37.647Z"
   },
   {
    "duration": 6,
    "start_time": "2021-11-30T11:09:37.666Z"
   },
   {
    "duration": 33,
    "start_time": "2021-11-30T11:09:37.730Z"
   },
   {
    "duration": 85,
    "start_time": "2021-11-30T11:09:37.766Z"
   },
   {
    "duration": 4052,
    "start_time": "2021-11-30T11:09:37.854Z"
   },
   {
    "duration": 33,
    "start_time": "2021-11-30T11:09:41.909Z"
   },
   {
    "duration": 35,
    "start_time": "2021-11-30T11:09:41.946Z"
   },
   {
    "duration": 37,
    "start_time": "2021-11-30T11:09:41.983Z"
   },
   {
    "duration": 74,
    "start_time": "2021-11-30T11:09:42.023Z"
   },
   {
    "duration": 783,
    "start_time": "2021-11-30T11:10:33.552Z"
   },
   {
    "duration": 47,
    "start_time": "2021-11-30T11:10:34.338Z"
   },
   {
    "duration": 84,
    "start_time": "2021-11-30T11:10:34.391Z"
   },
   {
    "duration": 70,
    "start_time": "2021-11-30T11:10:34.477Z"
   },
   {
    "duration": 10,
    "start_time": "2021-11-30T11:10:34.549Z"
   },
   {
    "duration": 26,
    "start_time": "2021-11-30T11:10:34.562Z"
   },
   {
    "duration": 38,
    "start_time": "2021-11-30T11:10:34.592Z"
   },
   {
    "duration": 25,
    "start_time": "2021-11-30T11:10:34.633Z"
   },
   {
    "duration": 35,
    "start_time": "2021-11-30T11:10:34.660Z"
   },
   {
    "duration": 7,
    "start_time": "2021-11-30T11:10:34.697Z"
   },
   {
    "duration": 8,
    "start_time": "2021-11-30T11:10:34.730Z"
   },
   {
    "duration": 13,
    "start_time": "2021-11-30T11:10:34.741Z"
   },
   {
    "duration": 8,
    "start_time": "2021-11-30T11:10:34.757Z"
   },
   {
    "duration": 90,
    "start_time": "2021-11-30T11:10:34.767Z"
   },
   {
    "duration": 23,
    "start_time": "2021-11-30T11:10:34.859Z"
   },
   {
    "duration": 48,
    "start_time": "2021-11-30T11:10:34.885Z"
   },
   {
    "duration": 17,
    "start_time": "2021-11-30T11:10:34.936Z"
   },
   {
    "duration": 19,
    "start_time": "2021-11-30T11:10:34.955Z"
   },
   {
    "duration": 48,
    "start_time": "2021-11-30T11:10:34.976Z"
   },
   {
    "duration": 30,
    "start_time": "2021-11-30T11:10:35.029Z"
   },
   {
    "duration": 4082,
    "start_time": "2021-11-30T11:10:35.062Z"
   },
   {
    "duration": 25,
    "start_time": "2021-11-30T11:10:39.148Z"
   },
   {
    "duration": 20,
    "start_time": "2021-11-30T11:10:39.176Z"
   },
   {
    "duration": 46,
    "start_time": "2021-11-30T11:10:39.198Z"
   },
   {
    "duration": 30,
    "start_time": "2021-11-30T11:10:59.825Z"
   },
   {
    "duration": 6,
    "start_time": "2021-11-30T11:12:04.749Z"
   },
   {
    "duration": 35,
    "start_time": "2021-11-30T11:12:19.101Z"
   },
   {
    "duration": 30,
    "start_time": "2021-11-30T11:12:48.807Z"
   },
   {
    "duration": 49,
    "start_time": "2021-11-30T11:13:12.879Z"
   },
   {
    "duration": 32,
    "start_time": "2021-11-30T11:13:30.506Z"
   },
   {
    "duration": 27,
    "start_time": "2021-11-30T11:14:10.810Z"
   },
   {
    "duration": 26,
    "start_time": "2021-11-30T11:14:25.993Z"
   },
   {
    "duration": 34,
    "start_time": "2021-11-30T11:15:02.956Z"
   },
   {
    "duration": 62,
    "start_time": "2021-11-30T11:15:13.301Z"
   },
   {
    "duration": 52,
    "start_time": "2021-11-30T11:15:30.152Z"
   },
   {
    "duration": 58,
    "start_time": "2021-11-30T11:16:44.955Z"
   },
   {
    "duration": 59,
    "start_time": "2021-11-30T11:17:27.133Z"
   },
   {
    "duration": 58,
    "start_time": "2021-11-30T11:17:54.486Z"
   },
   {
    "duration": 51,
    "start_time": "2021-11-30T11:18:06.630Z"
   },
   {
    "duration": 58,
    "start_time": "2021-11-30T11:18:41.544Z"
   },
   {
    "duration": 407,
    "start_time": "2021-11-30T11:19:16.220Z"
   },
   {
    "duration": 337,
    "start_time": "2021-11-30T11:19:30.642Z"
   },
   {
    "duration": 326,
    "start_time": "2021-11-30T11:19:39.299Z"
   },
   {
    "duration": 47,
    "start_time": "2021-11-30T11:19:48.723Z"
   },
   {
    "duration": 40,
    "start_time": "2021-11-30T11:20:03.766Z"
   },
   {
    "duration": 39,
    "start_time": "2021-11-30T11:20:07.003Z"
   },
   {
    "duration": 45,
    "start_time": "2021-11-30T11:20:13.667Z"
   },
   {
    "duration": 844,
    "start_time": "2021-11-30T11:20:30.837Z"
   },
   {
    "duration": 50,
    "start_time": "2021-11-30T11:20:31.684Z"
   },
   {
    "duration": 63,
    "start_time": "2021-11-30T11:20:31.737Z"
   },
   {
    "duration": 67,
    "start_time": "2021-11-30T11:20:31.803Z"
   },
   {
    "duration": 12,
    "start_time": "2021-11-30T11:20:31.873Z"
   },
   {
    "duration": 46,
    "start_time": "2021-11-30T11:20:31.887Z"
   },
   {
    "duration": 23,
    "start_time": "2021-11-30T11:20:31.935Z"
   },
   {
    "duration": 46,
    "start_time": "2021-11-30T11:20:31.962Z"
   },
   {
    "duration": 40,
    "start_time": "2021-11-30T11:20:32.011Z"
   },
   {
    "duration": 6,
    "start_time": "2021-11-30T11:20:32.054Z"
   },
   {
    "duration": 26,
    "start_time": "2021-11-30T11:20:32.063Z"
   },
   {
    "duration": 44,
    "start_time": "2021-11-30T11:20:32.092Z"
   },
   {
    "duration": 12,
    "start_time": "2021-11-30T11:20:32.140Z"
   },
   {
    "duration": 101,
    "start_time": "2021-11-30T11:20:32.155Z"
   },
   {
    "duration": 48,
    "start_time": "2021-11-30T11:20:32.259Z"
   },
   {
    "duration": 60,
    "start_time": "2021-11-30T11:20:32.310Z"
   },
   {
    "duration": 29,
    "start_time": "2021-11-30T11:20:32.373Z"
   },
   {
    "duration": 29,
    "start_time": "2021-11-30T11:20:32.406Z"
   },
   {
    "duration": 69,
    "start_time": "2021-11-30T11:20:32.438Z"
   },
   {
    "duration": 48,
    "start_time": "2021-11-30T11:20:32.510Z"
   },
   {
    "duration": 4461,
    "start_time": "2021-11-30T11:20:32.561Z"
   },
   {
    "duration": 35,
    "start_time": "2021-11-30T11:20:37.029Z"
   },
   {
    "duration": 38,
    "start_time": "2021-11-30T11:20:37.070Z"
   },
   {
    "duration": 83,
    "start_time": "2021-11-30T11:20:37.111Z"
   },
   {
    "duration": 47,
    "start_time": "2021-11-30T11:20:54.857Z"
   },
   {
    "duration": 66,
    "start_time": "2021-11-30T11:22:46.469Z"
   },
   {
    "duration": 67,
    "start_time": "2021-11-30T11:23:22.610Z"
   },
   {
    "duration": 50,
    "start_time": "2021-11-30T11:24:38.741Z"
   },
   {
    "duration": 50,
    "start_time": "2021-11-30T11:24:43.140Z"
   },
   {
    "duration": 49,
    "start_time": "2021-11-30T11:26:21.427Z"
   },
   {
    "duration": 807,
    "start_time": "2021-11-30T11:26:53.682Z"
   },
   {
    "duration": 54,
    "start_time": "2021-11-30T11:26:54.492Z"
   },
   {
    "duration": 84,
    "start_time": "2021-11-30T11:26:54.553Z"
   },
   {
    "duration": 49,
    "start_time": "2021-11-30T11:26:54.640Z"
   },
   {
    "duration": 46,
    "start_time": "2021-11-30T11:26:54.691Z"
   },
   {
    "duration": 79,
    "start_time": "2021-11-30T11:26:54.740Z"
   },
   {
    "duration": 30,
    "start_time": "2021-11-30T11:26:54.822Z"
   },
   {
    "duration": 78,
    "start_time": "2021-11-30T11:26:54.856Z"
   },
   {
    "duration": 59,
    "start_time": "2021-11-30T11:26:54.937Z"
   },
   {
    "duration": 31,
    "start_time": "2021-11-30T11:26:54.998Z"
   },
   {
    "duration": 66,
    "start_time": "2021-11-30T11:26:55.032Z"
   },
   {
    "duration": 49,
    "start_time": "2021-11-30T11:26:55.100Z"
   },
   {
    "duration": 44,
    "start_time": "2021-11-30T11:26:55.152Z"
   },
   {
    "duration": 142,
    "start_time": "2021-11-30T11:26:55.200Z"
   },
   {
    "duration": 24,
    "start_time": "2021-11-30T11:26:55.345Z"
   },
   {
    "duration": 46,
    "start_time": "2021-11-30T11:26:55.371Z"
   },
   {
    "duration": 47,
    "start_time": "2021-11-30T11:26:55.419Z"
   },
   {
    "duration": 57,
    "start_time": "2021-11-30T11:26:55.468Z"
   },
   {
    "duration": 59,
    "start_time": "2021-11-30T11:26:55.527Z"
   },
   {
    "duration": 68,
    "start_time": "2021-11-30T11:26:55.589Z"
   },
   {
    "duration": 4916,
    "start_time": "2021-11-30T11:26:55.659Z"
   },
   {
    "duration": 29,
    "start_time": "2021-11-30T11:27:00.579Z"
   },
   {
    "duration": 43,
    "start_time": "2021-11-30T11:27:00.611Z"
   },
   {
    "duration": 42,
    "start_time": "2021-11-30T11:27:00.657Z"
   },
   {
    "duration": 369,
    "start_time": "2021-11-30T11:27:42.802Z"
   },
   {
    "duration": 300,
    "start_time": "2021-11-30T11:27:50.065Z"
   },
   {
    "duration": -29,
    "start_time": "2021-11-30T11:28:13.810Z"
   },
   {
    "duration": 8006,
    "start_time": "2021-11-30T11:28:18.931Z"
   },
   {
    "duration": 25,
    "start_time": "2021-11-30T11:29:27.718Z"
   },
   {
    "duration": 339,
    "start_time": "2021-11-30T11:31:07.196Z"
   },
   {
    "duration": 39,
    "start_time": "2021-11-30T11:31:48.718Z"
   },
   {
    "duration": 36,
    "start_time": "2021-11-30T11:34:05.302Z"
   },
   {
    "duration": 36,
    "start_time": "2021-11-30T11:35:32.249Z"
   },
   {
    "duration": 317,
    "start_time": "2021-11-30T11:35:51.795Z"
   },
   {
    "duration": 34,
    "start_time": "2021-11-30T11:37:05.839Z"
   },
   {
    "duration": 314,
    "start_time": "2021-11-30T11:38:41.386Z"
   },
   {
    "duration": 39,
    "start_time": "2021-11-30T11:39:05.750Z"
   },
   {
    "duration": 37,
    "start_time": "2021-11-30T11:40:43.049Z"
   },
   {
    "duration": 35,
    "start_time": "2021-11-30T11:40:52.079Z"
   },
   {
    "duration": 36,
    "start_time": "2021-11-30T11:41:05.418Z"
   },
   {
    "duration": 36,
    "start_time": "2021-11-30T11:41:09.354Z"
   },
   {
    "duration": 39,
    "start_time": "2021-11-30T11:41:20.883Z"
   },
   {
    "duration": 39,
    "start_time": "2021-11-30T11:41:32.205Z"
   },
   {
    "duration": 36,
    "start_time": "2021-11-30T11:42:10.845Z"
   },
   {
    "duration": 36,
    "start_time": "2021-11-30T11:42:26.886Z"
   },
   {
    "duration": 332,
    "start_time": "2021-11-30T11:43:23.553Z"
   },
   {
    "duration": 35,
    "start_time": "2021-11-30T11:43:33.547Z"
   },
   {
    "duration": 27,
    "start_time": "2021-11-30T11:59:31.364Z"
   },
   {
    "duration": 18,
    "start_time": "2021-11-30T12:01:50.425Z"
   },
   {
    "duration": 20,
    "start_time": "2021-11-30T12:03:23.868Z"
   },
   {
    "duration": 16,
    "start_time": "2021-11-30T12:03:49.829Z"
   },
   {
    "duration": 16,
    "start_time": "2021-11-30T12:03:53.700Z"
   },
   {
    "duration": 16,
    "start_time": "2021-11-30T12:04:08.711Z"
   },
   {
    "duration": 21,
    "start_time": "2021-11-30T12:04:09.262Z"
   },
   {
    "duration": 16,
    "start_time": "2021-11-30T12:04:13.383Z"
   },
   {
    "duration": 907,
    "start_time": "2021-11-30T12:04:19.333Z"
   },
   {
    "duration": 49,
    "start_time": "2021-11-30T12:04:20.243Z"
   },
   {
    "duration": 88,
    "start_time": "2021-11-30T12:04:20.297Z"
   },
   {
    "duration": 72,
    "start_time": "2021-11-30T12:04:20.388Z"
   },
   {
    "duration": 13,
    "start_time": "2021-11-30T12:04:20.463Z"
   },
   {
    "duration": 11,
    "start_time": "2021-11-30T12:04:20.479Z"
   },
   {
    "duration": 58,
    "start_time": "2021-11-30T12:04:20.493Z"
   },
   {
    "duration": 23,
    "start_time": "2021-11-30T12:04:20.557Z"
   },
   {
    "duration": 64,
    "start_time": "2021-11-30T12:04:20.584Z"
   },
   {
    "duration": 8,
    "start_time": "2021-11-30T12:04:20.651Z"
   },
   {
    "duration": 12,
    "start_time": "2021-11-30T12:04:20.662Z"
   },
   {
    "duration": 59,
    "start_time": "2021-11-30T12:04:20.677Z"
   },
   {
    "duration": 10,
    "start_time": "2021-11-30T12:04:20.739Z"
   },
   {
    "duration": 90,
    "start_time": "2021-11-30T12:04:20.752Z"
   },
   {
    "duration": 25,
    "start_time": "2021-11-30T12:04:20.845Z"
   },
   {
    "duration": 24,
    "start_time": "2021-11-30T12:04:20.873Z"
   },
   {
    "duration": 46,
    "start_time": "2021-11-30T12:04:20.899Z"
   },
   {
    "duration": 6,
    "start_time": "2021-11-30T12:04:20.947Z"
   },
   {
    "duration": 40,
    "start_time": "2021-11-30T12:04:20.955Z"
   },
   {
    "duration": 55,
    "start_time": "2021-11-30T12:04:20.997Z"
   },
   {
    "duration": 4476,
    "start_time": "2021-11-30T12:04:21.055Z"
   },
   {
    "duration": 380,
    "start_time": "2021-11-30T12:04:25.533Z"
   },
   {
    "duration": -26,
    "start_time": "2021-11-30T12:04:25.942Z"
   },
   {
    "duration": -29,
    "start_time": "2021-11-30T12:04:25.946Z"
   },
   {
    "duration": 19,
    "start_time": "2021-11-30T12:04:36.272Z"
   },
   {
    "duration": 28,
    "start_time": "2021-11-30T12:06:13.487Z"
   },
   {
    "duration": 40,
    "start_time": "2021-11-30T12:07:51.388Z"
   },
   {
    "duration": 4,
    "start_time": "2021-11-30T12:09:09.152Z"
   },
   {
    "duration": 7,
    "start_time": "2021-11-30T12:09:20.519Z"
   },
   {
    "duration": 7,
    "start_time": "2021-11-30T12:09:22.942Z"
   },
   {
    "duration": 7,
    "start_time": "2021-11-30T12:09:29.159Z"
   },
   {
    "duration": 301,
    "start_time": "2021-11-30T12:10:19.385Z"
   },
   {
    "duration": 47,
    "start_time": "2021-11-30T12:10:26.169Z"
   },
   {
    "duration": 26,
    "start_time": "2021-11-30T12:10:47.771Z"
   },
   {
    "duration": 354,
    "start_time": "2021-11-30T12:11:03.347Z"
   },
   {
    "duration": 25,
    "start_time": "2021-11-30T12:11:13.124Z"
   },
   {
    "duration": 87,
    "start_time": "2021-11-30T12:14:05.764Z"
   },
   {
    "duration": 100,
    "start_time": "2021-11-30T12:17:42.558Z"
   },
   {
    "duration": 21,
    "start_time": "2021-11-30T12:21:04.351Z"
   },
   {
    "duration": 40,
    "start_time": "2021-11-30T12:21:11.282Z"
   },
   {
    "duration": 31,
    "start_time": "2021-11-30T12:21:16.074Z"
   },
   {
    "duration": 829,
    "start_time": "2021-11-30T12:21:52.933Z"
   },
   {
    "duration": 50,
    "start_time": "2021-11-30T12:21:53.764Z"
   },
   {
    "duration": 65,
    "start_time": "2021-11-30T12:21:53.829Z"
   },
   {
    "duration": 70,
    "start_time": "2021-11-30T12:21:53.896Z"
   },
   {
    "duration": 11,
    "start_time": "2021-11-30T12:21:53.969Z"
   },
   {
    "duration": 18,
    "start_time": "2021-11-30T12:21:53.982Z"
   },
   {
    "duration": 54,
    "start_time": "2021-11-30T12:21:54.002Z"
   },
   {
    "duration": 22,
    "start_time": "2021-11-30T12:21:54.062Z"
   },
   {
    "duration": 49,
    "start_time": "2021-11-30T12:21:54.088Z"
   },
   {
    "duration": 8,
    "start_time": "2021-11-30T12:21:54.140Z"
   },
   {
    "duration": 14,
    "start_time": "2021-11-30T12:21:54.151Z"
   },
   {
    "duration": 61,
    "start_time": "2021-11-30T12:21:54.168Z"
   },
   {
    "duration": 8,
    "start_time": "2021-11-30T12:21:54.232Z"
   },
   {
    "duration": 55,
    "start_time": "2021-11-30T12:21:54.243Z"
   },
   {
    "duration": 50,
    "start_time": "2021-11-30T12:21:54.300Z"
   },
   {
    "duration": 25,
    "start_time": "2021-11-30T12:21:54.352Z"
   },
   {
    "duration": 17,
    "start_time": "2021-11-30T12:21:54.380Z"
   },
   {
    "duration": 35,
    "start_time": "2021-11-30T12:21:54.399Z"
   },
   {
    "duration": 34,
    "start_time": "2021-11-30T12:21:54.437Z"
   },
   {
    "duration": 59,
    "start_time": "2021-11-30T12:21:54.473Z"
   },
   {
    "duration": 3884,
    "start_time": "2021-11-30T12:21:54.534Z"
   },
   {
    "duration": 391,
    "start_time": "2021-11-30T12:21:58.421Z"
   },
   {
    "duration": -31,
    "start_time": "2021-11-30T12:21:58.846Z"
   },
   {
    "duration": -31,
    "start_time": "2021-11-30T12:21:58.848Z"
   },
   {
    "duration": 28,
    "start_time": "2021-11-30T12:22:51.054Z"
   },
   {
    "duration": 27,
    "start_time": "2021-11-30T12:23:03.760Z"
   },
   {
    "duration": 28,
    "start_time": "2021-11-30T12:23:32.173Z"
   },
   {
    "duration": 29,
    "start_time": "2021-11-30T12:24:40.628Z"
   },
   {
    "duration": 32,
    "start_time": "2021-11-30T12:26:14.080Z"
   },
   {
    "duration": 31,
    "start_time": "2021-11-30T12:26:35.865Z"
   },
   {
    "duration": 38,
    "start_time": "2021-11-30T12:37:09.483Z"
   },
   {
    "duration": 34,
    "start_time": "2021-11-30T12:37:19.939Z"
   },
   {
    "duration": 912,
    "start_time": "2021-11-30T12:37:25.404Z"
   },
   {
    "duration": 49,
    "start_time": "2021-11-30T12:37:26.318Z"
   },
   {
    "duration": 81,
    "start_time": "2021-11-30T12:37:26.370Z"
   },
   {
    "duration": 45,
    "start_time": "2021-11-30T12:37:26.453Z"
   },
   {
    "duration": 38,
    "start_time": "2021-11-30T12:37:26.500Z"
   },
   {
    "duration": 20,
    "start_time": "2021-11-30T12:37:26.540Z"
   },
   {
    "duration": 25,
    "start_time": "2021-11-30T12:37:26.562Z"
   },
   {
    "duration": 39,
    "start_time": "2021-11-30T12:37:26.591Z"
   },
   {
    "duration": 26,
    "start_time": "2021-11-30T12:37:26.633Z"
   },
   {
    "duration": 6,
    "start_time": "2021-11-30T12:37:26.661Z"
   },
   {
    "duration": 17,
    "start_time": "2021-11-30T12:37:26.669Z"
   },
   {
    "duration": 51,
    "start_time": "2021-11-30T12:37:26.688Z"
   },
   {
    "duration": 16,
    "start_time": "2021-11-30T12:37:26.741Z"
   },
   {
    "duration": 77,
    "start_time": "2021-11-30T12:37:26.759Z"
   },
   {
    "duration": 24,
    "start_time": "2021-11-30T12:37:26.838Z"
   },
   {
    "duration": 24,
    "start_time": "2021-11-30T12:37:26.864Z"
   },
   {
    "duration": 47,
    "start_time": "2021-11-30T12:37:26.890Z"
   },
   {
    "duration": 6,
    "start_time": "2021-11-30T12:37:26.939Z"
   },
   {
    "duration": 34,
    "start_time": "2021-11-30T12:37:26.947Z"
   },
   {
    "duration": 59,
    "start_time": "2021-11-30T12:37:26.984Z"
   },
   {
    "duration": 3844,
    "start_time": "2021-11-30T12:37:27.045Z"
   },
   {
    "duration": 63,
    "start_time": "2021-11-30T12:37:30.893Z"
   },
   {
    "duration": 38,
    "start_time": "2021-11-30T12:37:30.960Z"
   },
   {
    "duration": 55,
    "start_time": "2021-11-30T12:37:31.001Z"
   },
   {
    "duration": 41,
    "start_time": "2021-11-30T12:38:45.570Z"
   },
   {
    "duration": 41,
    "start_time": "2021-11-30T12:39:08.002Z"
   },
   {
    "duration": 877,
    "start_time": "2021-11-30T12:39:15.413Z"
   },
   {
    "duration": 59,
    "start_time": "2021-11-30T12:39:16.294Z"
   },
   {
    "duration": 84,
    "start_time": "2021-11-30T12:39:16.355Z"
   },
   {
    "duration": 44,
    "start_time": "2021-11-30T12:39:16.442Z"
   },
   {
    "duration": 40,
    "start_time": "2021-11-30T12:39:16.489Z"
   },
   {
    "duration": 10,
    "start_time": "2021-11-30T12:39:16.531Z"
   },
   {
    "duration": 24,
    "start_time": "2021-11-30T12:39:16.543Z"
   },
   {
    "duration": 21,
    "start_time": "2021-11-30T12:39:16.571Z"
   },
   {
    "duration": 52,
    "start_time": "2021-11-30T12:39:16.595Z"
   },
   {
    "duration": 7,
    "start_time": "2021-11-30T12:39:16.649Z"
   },
   {
    "duration": 10,
    "start_time": "2021-11-30T12:39:16.658Z"
   },
   {
    "duration": 60,
    "start_time": "2021-11-30T12:39:16.670Z"
   },
   {
    "duration": 8,
    "start_time": "2021-11-30T12:39:16.733Z"
   },
   {
    "duration": 49,
    "start_time": "2021-11-30T12:39:16.744Z"
   },
   {
    "duration": 54,
    "start_time": "2021-11-30T12:39:16.795Z"
   },
   {
    "duration": 26,
    "start_time": "2021-11-30T12:39:16.852Z"
   },
   {
    "duration": 16,
    "start_time": "2021-11-30T12:39:16.881Z"
   },
   {
    "duration": 6,
    "start_time": "2021-11-30T12:39:16.930Z"
   },
   {
    "duration": 42,
    "start_time": "2021-11-30T12:39:16.939Z"
   },
   {
    "duration": 51,
    "start_time": "2021-11-30T12:39:16.983Z"
   },
   {
    "duration": 3758,
    "start_time": "2021-11-30T12:39:17.036Z"
   },
   {
    "duration": 62,
    "start_time": "2021-11-30T12:39:20.797Z"
   },
   {
    "duration": 42,
    "start_time": "2021-11-30T12:39:20.863Z"
   },
   {
    "duration": 45,
    "start_time": "2021-11-30T12:39:20.928Z"
   },
   {
    "duration": 33,
    "start_time": "2021-11-30T12:40:06.290Z"
   },
   {
    "duration": 44,
    "start_time": "2021-11-30T12:40:23.799Z"
   },
   {
    "duration": 42,
    "start_time": "2021-11-30T12:40:38.824Z"
   },
   {
    "duration": 102,
    "start_time": "2021-11-30T12:40:55.034Z"
   },
   {
    "duration": 42,
    "start_time": "2021-11-30T12:40:58.785Z"
   },
   {
    "duration": 42,
    "start_time": "2021-11-30T12:41:13.675Z"
   },
   {
    "duration": 43,
    "start_time": "2021-11-30T12:41:21.696Z"
   },
   {
    "duration": 42,
    "start_time": "2021-11-30T12:41:54.413Z"
   },
   {
    "duration": 42,
    "start_time": "2021-11-30T12:42:27.391Z"
   },
   {
    "duration": 42,
    "start_time": "2021-11-30T12:44:16.061Z"
   },
   {
    "duration": 858,
    "start_time": "2021-11-30T12:44:34.004Z"
   },
   {
    "duration": 47,
    "start_time": "2021-11-30T12:44:34.864Z"
   },
   {
    "duration": 61,
    "start_time": "2021-11-30T12:44:34.930Z"
   },
   {
    "duration": 63,
    "start_time": "2021-11-30T12:44:34.994Z"
   },
   {
    "duration": 11,
    "start_time": "2021-11-30T12:44:35.060Z"
   },
   {
    "duration": 9,
    "start_time": "2021-11-30T12:44:35.073Z"
   },
   {
    "duration": 57,
    "start_time": "2021-11-30T12:44:35.084Z"
   },
   {
    "duration": 32,
    "start_time": "2021-11-30T12:44:35.145Z"
   },
   {
    "duration": 24,
    "start_time": "2021-11-30T12:44:35.180Z"
   },
   {
    "duration": 23,
    "start_time": "2021-11-30T12:44:35.207Z"
   },
   {
    "duration": 14,
    "start_time": "2021-11-30T12:44:35.233Z"
   },
   {
    "duration": 18,
    "start_time": "2021-11-30T12:44:35.249Z"
   },
   {
    "duration": 9,
    "start_time": "2021-11-30T12:44:35.270Z"
   },
   {
    "duration": 91,
    "start_time": "2021-11-30T12:44:35.282Z"
   },
   {
    "duration": 24,
    "start_time": "2021-11-30T12:44:35.376Z"
   },
   {
    "duration": 23,
    "start_time": "2021-11-30T12:44:35.430Z"
   },
   {
    "duration": 19,
    "start_time": "2021-11-30T12:44:35.455Z"
   },
   {
    "duration": 22,
    "start_time": "2021-11-30T12:44:35.476Z"
   },
   {
    "duration": 54,
    "start_time": "2021-11-30T12:44:35.500Z"
   },
   {
    "duration": 29,
    "start_time": "2021-11-30T12:44:35.557Z"
   },
   {
    "duration": 3807,
    "start_time": "2021-11-30T12:44:35.589Z"
   },
   {
    "duration": 54,
    "start_time": "2021-11-30T12:44:39.399Z"
   },
   {
    "duration": 41,
    "start_time": "2021-11-30T12:44:39.457Z"
   },
   {
    "duration": 62,
    "start_time": "2021-11-30T12:44:39.500Z"
   },
   {
    "duration": 475,
    "start_time": "2021-11-30T12:45:59.347Z"
   },
   {
    "duration": 369,
    "start_time": "2021-11-30T12:46:07.659Z"
   },
   {
    "duration": 41,
    "start_time": "2021-11-30T12:47:51.569Z"
   },
   {
    "duration": 124,
    "start_time": "2021-11-30T12:54:11.094Z"
   },
   {
    "duration": 34,
    "start_time": "2021-11-30T12:54:15.261Z"
   },
   {
    "duration": 33,
    "start_time": "2021-11-30T12:54:26.325Z"
   },
   {
    "duration": 52,
    "start_time": "2021-11-30T12:55:01.439Z"
   },
   {
    "duration": 34,
    "start_time": "2021-11-30T12:55:37.529Z"
   },
   {
    "duration": 782,
    "start_time": "2021-11-30T12:55:42.368Z"
   },
   {
    "duration": 50,
    "start_time": "2021-11-30T12:55:43.154Z"
   },
   {
    "duration": 67,
    "start_time": "2021-11-30T12:55:43.229Z"
   },
   {
    "duration": 67,
    "start_time": "2021-11-30T12:55:43.298Z"
   },
   {
    "duration": 11,
    "start_time": "2021-11-30T12:55:43.367Z"
   },
   {
    "duration": 28,
    "start_time": "2021-11-30T12:55:43.380Z"
   },
   {
    "duration": 51,
    "start_time": "2021-11-30T12:55:43.411Z"
   },
   {
    "duration": 24,
    "start_time": "2021-11-30T12:55:43.466Z"
   },
   {
    "duration": 41,
    "start_time": "2021-11-30T12:55:43.493Z"
   },
   {
    "duration": 38,
    "start_time": "2021-11-30T12:55:43.537Z"
   },
   {
    "duration": 21,
    "start_time": "2021-11-30T12:55:43.578Z"
   },
   {
    "duration": 13,
    "start_time": "2021-11-30T12:55:43.602Z"
   },
   {
    "duration": 8,
    "start_time": "2021-11-30T12:55:43.618Z"
   },
   {
    "duration": 54,
    "start_time": "2021-11-30T12:55:43.628Z"
   },
   {
    "duration": 45,
    "start_time": "2021-11-30T12:55:43.684Z"
   },
   {
    "duration": 23,
    "start_time": "2021-11-30T12:55:43.732Z"
   },
   {
    "duration": 16,
    "start_time": "2021-11-30T12:55:43.757Z"
   },
   {
    "duration": 6,
    "start_time": "2021-11-30T12:55:43.776Z"
   },
   {
    "duration": 70,
    "start_time": "2021-11-30T12:55:43.785Z"
   },
   {
    "duration": 29,
    "start_time": "2021-11-30T12:55:43.858Z"
   },
   {
    "duration": 3307,
    "start_time": "2021-11-30T12:55:43.889Z"
   },
   {
    "duration": 58,
    "start_time": "2021-11-30T12:55:47.199Z"
   },
   {
    "duration": 36,
    "start_time": "2021-11-30T12:55:47.263Z"
   },
   {
    "duration": 61,
    "start_time": "2021-11-30T12:55:47.302Z"
   },
   {
    "duration": 35,
    "start_time": "2021-11-30T12:56:30.693Z"
   },
   {
    "duration": 24,
    "start_time": "2021-11-30T12:56:45.597Z"
   },
   {
    "duration": 35,
    "start_time": "2021-11-30T12:56:58.627Z"
   },
   {
    "duration": 36,
    "start_time": "2021-11-30T12:57:17.878Z"
   },
   {
    "duration": 38,
    "start_time": "2021-11-30T12:57:27.342Z"
   },
   {
    "duration": 37,
    "start_time": "2021-11-30T12:57:41.576Z"
   },
   {
    "duration": -36,
    "start_time": "2021-11-30T12:58:05.378Z"
   },
   {
    "duration": 8798,
    "start_time": "2021-11-30T12:58:11.456Z"
   },
   {
    "duration": 379,
    "start_time": "2021-11-30T12:58:36.058Z"
   },
   {
    "duration": 340,
    "start_time": "2021-11-30T12:58:50.822Z"
   },
   {
    "duration": 36,
    "start_time": "2021-11-30T12:59:04.318Z"
   },
   {
    "duration": 42,
    "start_time": "2021-11-30T12:59:29.495Z"
   },
   {
    "duration": 46,
    "start_time": "2021-11-30T12:59:43.493Z"
   },
   {
    "duration": 45,
    "start_time": "2021-11-30T12:59:55.230Z"
   },
   {
    "duration": 54,
    "start_time": "2021-11-30T13:05:04.232Z"
   },
   {
    "duration": 845,
    "start_time": "2021-11-30T13:05:37.178Z"
   },
   {
    "duration": 56,
    "start_time": "2021-11-30T13:05:38.026Z"
   },
   {
    "duration": 87,
    "start_time": "2021-11-30T13:05:38.085Z"
   },
   {
    "duration": 70,
    "start_time": "2021-11-30T13:05:38.174Z"
   },
   {
    "duration": 11,
    "start_time": "2021-11-30T13:05:38.246Z"
   },
   {
    "duration": 37,
    "start_time": "2021-11-30T13:05:38.259Z"
   },
   {
    "duration": 28,
    "start_time": "2021-11-30T13:05:38.299Z"
   },
   {
    "duration": 24,
    "start_time": "2021-11-30T13:05:38.330Z"
   },
   {
    "duration": 26,
    "start_time": "2021-11-30T13:05:38.357Z"
   },
   {
    "duration": 8,
    "start_time": "2021-11-30T13:05:38.385Z"
   },
   {
    "duration": 43,
    "start_time": "2021-11-30T13:05:38.395Z"
   },
   {
    "duration": 26,
    "start_time": "2021-11-30T13:05:38.441Z"
   },
   {
    "duration": 7,
    "start_time": "2021-11-30T13:05:38.470Z"
   },
   {
    "duration": 91,
    "start_time": "2021-11-30T13:05:38.480Z"
   },
   {
    "duration": 24,
    "start_time": "2021-11-30T13:05:38.573Z"
   },
   {
    "duration": 49,
    "start_time": "2021-11-30T13:05:38.600Z"
   },
   {
    "duration": 17,
    "start_time": "2021-11-30T13:05:38.651Z"
   },
   {
    "duration": 6,
    "start_time": "2021-11-30T13:05:38.671Z"
   },
   {
    "duration": 74,
    "start_time": "2021-11-30T13:05:38.680Z"
   },
   {
    "duration": 29,
    "start_time": "2021-11-30T13:05:38.757Z"
   },
   {
    "duration": 3929,
    "start_time": "2021-11-30T13:05:38.789Z"
   },
   {
    "duration": 48,
    "start_time": "2021-11-30T13:05:42.720Z"
   },
   {
    "duration": 71,
    "start_time": "2021-11-30T13:05:42.771Z"
   },
   {
    "duration": 5,
    "start_time": "2021-11-30T13:05:42.846Z"
   },
   {
    "duration": 53,
    "start_time": "2021-11-30T13:06:08.611Z"
   },
   {
    "duration": 53,
    "start_time": "2021-11-30T13:06:45.517Z"
   },
   {
    "duration": 35,
    "start_time": "2021-11-30T13:07:08.334Z"
   },
   {
    "duration": 39,
    "start_time": "2021-11-30T13:07:55.865Z"
   },
   {
    "duration": 43,
    "start_time": "2021-11-30T13:08:13.194Z"
   },
   {
    "duration": 40,
    "start_time": "2021-11-30T13:08:25.162Z"
   },
   {
    "duration": 42,
    "start_time": "2021-11-30T13:08:31.250Z"
   },
   {
    "duration": 33,
    "start_time": "2021-11-30T13:11:07.609Z"
   },
   {
    "duration": 34,
    "start_time": "2021-11-30T13:15:22.006Z"
   },
   {
    "duration": 34,
    "start_time": "2021-11-30T13:15:45.591Z"
   },
   {
    "duration": 35,
    "start_time": "2021-11-30T13:15:52.679Z"
   },
   {
    "duration": 35,
    "start_time": "2021-11-30T13:16:04.768Z"
   },
   {
    "duration": 894,
    "start_time": "2021-11-30T13:16:12.413Z"
   },
   {
    "duration": 47,
    "start_time": "2021-11-30T13:16:13.309Z"
   },
   {
    "duration": 78,
    "start_time": "2021-11-30T13:16:13.359Z"
   },
   {
    "duration": 42,
    "start_time": "2021-11-30T13:16:13.440Z"
   },
   {
    "duration": 10,
    "start_time": "2021-11-30T13:16:13.485Z"
   },
   {
    "duration": 42,
    "start_time": "2021-11-30T13:16:13.497Z"
   },
   {
    "duration": 30,
    "start_time": "2021-11-30T13:16:13.542Z"
   },
   {
    "duration": 47,
    "start_time": "2021-11-30T13:16:13.575Z"
   },
   {
    "duration": 55,
    "start_time": "2021-11-30T13:16:13.625Z"
   },
   {
    "duration": 7,
    "start_time": "2021-11-30T13:16:13.682Z"
   },
   {
    "duration": 20,
    "start_time": "2021-11-30T13:16:13.691Z"
   },
   {
    "duration": 31,
    "start_time": "2021-11-30T13:16:13.713Z"
   },
   {
    "duration": 41,
    "start_time": "2021-11-30T13:16:13.746Z"
   },
   {
    "duration": 69,
    "start_time": "2021-11-30T13:16:13.789Z"
   },
   {
    "duration": 29,
    "start_time": "2021-11-30T13:16:13.861Z"
   },
   {
    "duration": 56,
    "start_time": "2021-11-30T13:16:13.892Z"
   },
   {
    "duration": 19,
    "start_time": "2021-11-30T13:16:13.951Z"
   },
   {
    "duration": 22,
    "start_time": "2021-11-30T13:16:13.972Z"
   },
   {
    "duration": 56,
    "start_time": "2021-11-30T13:16:13.997Z"
   },
   {
    "duration": 29,
    "start_time": "2021-11-30T13:16:14.055Z"
   },
   {
    "duration": 3714,
    "start_time": "2021-11-30T13:16:14.086Z"
   },
   {
    "duration": 55,
    "start_time": "2021-11-30T13:16:17.803Z"
   },
   {
    "duration": 35,
    "start_time": "2021-11-30T13:16:17.862Z"
   },
   {
    "duration": 3,
    "start_time": "2021-11-30T13:16:17.899Z"
   },
   {
    "duration": 34,
    "start_time": "2021-11-30T13:19:54.658Z"
   },
   {
    "duration": 34,
    "start_time": "2021-11-30T13:20:20.380Z"
   },
   {
    "duration": 35,
    "start_time": "2021-11-30T13:21:08.158Z"
   },
   {
    "duration": 833,
    "start_time": "2021-11-30T13:21:13.238Z"
   },
   {
    "duration": 22,
    "start_time": "2021-11-30T13:21:34.394Z"
   },
   {
    "duration": 593,
    "start_time": "2021-11-30T13:21:36.246Z"
   },
   {
    "duration": 33,
    "start_time": "2021-11-30T13:21:49.592Z"
   },
   {
    "duration": 23,
    "start_time": "2021-11-30T13:21:56.281Z"
   },
   {
    "duration": 23,
    "start_time": "2021-11-30T13:22:00.496Z"
   },
   {
    "duration": 30,
    "start_time": "2021-11-30T13:22:06.184Z"
   },
   {
    "duration": 31,
    "start_time": "2021-11-30T13:22:11.215Z"
   },
   {
    "duration": 32,
    "start_time": "2021-11-30T13:22:22.738Z"
   },
   {
    "duration": 256,
    "start_time": "2021-11-30T13:22:26.561Z"
   },
   {
    "duration": -25,
    "start_time": "2021-11-30T13:22:45.075Z"
   },
   {
    "duration": 57,
    "start_time": "2021-11-30T13:23:14.123Z"
   },
   {
    "duration": 43,
    "start_time": "2021-11-30T13:23:34.664Z"
   },
   {
    "duration": 38,
    "start_time": "2021-11-30T13:24:12.343Z"
   },
   {
    "duration": 35,
    "start_time": "2021-11-30T13:25:15.027Z"
   },
   {
    "duration": 36,
    "start_time": "2021-11-30T13:25:24.802Z"
   },
   {
    "duration": 448,
    "start_time": "2021-11-30T13:26:46.303Z"
   },
   {
    "duration": 35,
    "start_time": "2021-11-30T13:27:17.320Z"
   },
   {
    "duration": 32,
    "start_time": "2021-11-30T13:28:21.380Z"
   },
   {
    "duration": 477,
    "start_time": "2021-11-30T13:35:03.090Z"
   },
   {
    "duration": 569,
    "start_time": "2021-11-30T13:35:09.727Z"
   },
   {
    "duration": 24,
    "start_time": "2021-11-30T13:35:16.254Z"
   },
   {
    "duration": 33,
    "start_time": "2021-11-30T13:35:26.089Z"
   },
   {
    "duration": 35,
    "start_time": "2021-11-30T13:35:35.966Z"
   },
   {
    "duration": 923,
    "start_time": "2021-11-30T13:35:41.297Z"
   },
   {
    "duration": 49,
    "start_time": "2021-11-30T13:35:42.222Z"
   },
   {
    "duration": 83,
    "start_time": "2021-11-30T13:35:42.274Z"
   },
   {
    "duration": 44,
    "start_time": "2021-11-30T13:35:42.359Z"
   },
   {
    "duration": 11,
    "start_time": "2021-11-30T13:35:42.429Z"
   },
   {
    "duration": 9,
    "start_time": "2021-11-30T13:35:42.442Z"
   },
   {
    "duration": 23,
    "start_time": "2021-11-30T13:35:42.453Z"
   },
   {
    "duration": 51,
    "start_time": "2021-11-30T13:35:42.479Z"
   },
   {
    "duration": 27,
    "start_time": "2021-11-30T13:35:42.533Z"
   },
   {
    "duration": 6,
    "start_time": "2021-11-30T13:35:42.562Z"
   },
   {
    "duration": 11,
    "start_time": "2021-11-30T13:35:42.570Z"
   },
   {
    "duration": 54,
    "start_time": "2021-11-30T13:35:42.583Z"
   },
   {
    "duration": 7,
    "start_time": "2021-11-30T13:35:42.640Z"
   },
   {
    "duration": 86,
    "start_time": "2021-11-30T13:35:42.649Z"
   },
   {
    "duration": 27,
    "start_time": "2021-11-30T13:35:42.739Z"
   },
   {
    "duration": 23,
    "start_time": "2021-11-30T13:35:42.768Z"
   },
   {
    "duration": 58,
    "start_time": "2021-11-30T13:35:42.793Z"
   },
   {
    "duration": 9,
    "start_time": "2021-11-30T13:35:42.854Z"
   },
   {
    "duration": 62,
    "start_time": "2021-11-30T13:35:42.866Z"
   },
   {
    "duration": 31,
    "start_time": "2021-11-30T13:35:42.931Z"
   },
   {
    "duration": 3794,
    "start_time": "2021-11-30T13:35:42.965Z"
   },
   {
    "duration": 49,
    "start_time": "2021-11-30T13:35:46.762Z"
   },
   {
    "duration": 42,
    "start_time": "2021-11-30T13:35:46.815Z"
   },
   {
    "duration": 5,
    "start_time": "2021-11-30T13:35:46.860Z"
   },
   {
    "duration": 862,
    "start_time": "2021-11-30T13:37:57.399Z"
   },
   {
    "duration": 46,
    "start_time": "2021-11-30T13:37:58.264Z"
   },
   {
    "duration": 63,
    "start_time": "2021-11-30T13:37:58.329Z"
   },
   {
    "duration": 65,
    "start_time": "2021-11-30T13:37:58.396Z"
   },
   {
    "duration": 11,
    "start_time": "2021-11-30T13:37:58.464Z"
   },
   {
    "duration": 9,
    "start_time": "2021-11-30T13:37:58.479Z"
   },
   {
    "duration": 55,
    "start_time": "2021-11-30T13:37:58.491Z"
   },
   {
    "duration": 21,
    "start_time": "2021-11-30T13:37:58.550Z"
   },
   {
    "duration": 26,
    "start_time": "2021-11-30T13:37:58.574Z"
   },
   {
    "duration": 31,
    "start_time": "2021-11-30T13:37:58.602Z"
   },
   {
    "duration": 12,
    "start_time": "2021-11-30T13:37:58.635Z"
   },
   {
    "duration": 15,
    "start_time": "2021-11-30T13:37:58.649Z"
   },
   {
    "duration": 7,
    "start_time": "2021-11-30T13:37:58.666Z"
   },
   {
    "duration": 96,
    "start_time": "2021-11-30T13:37:58.675Z"
   },
   {
    "duration": 24,
    "start_time": "2021-11-30T13:37:58.774Z"
   },
   {
    "duration": 47,
    "start_time": "2021-11-30T13:37:58.801Z"
   },
   {
    "duration": 16,
    "start_time": "2021-11-30T13:37:58.851Z"
   },
   {
    "duration": 7,
    "start_time": "2021-11-30T13:37:58.869Z"
   },
   {
    "duration": 67,
    "start_time": "2021-11-30T13:37:58.878Z"
   },
   {
    "duration": 28,
    "start_time": "2021-11-30T13:37:58.947Z"
   },
   {
    "duration": 3865,
    "start_time": "2021-11-30T13:37:58.977Z"
   },
   {
    "duration": 45,
    "start_time": "2021-11-30T13:38:02.844Z"
   },
   {
    "duration": 55,
    "start_time": "2021-11-30T13:38:02.895Z"
   },
   {
    "duration": 5,
    "start_time": "2021-11-30T13:38:02.953Z"
   },
   {
    "duration": 212,
    "start_time": "2021-11-30T15:08:14.610Z"
   },
   {
    "duration": 588,
    "start_time": "2021-11-30T15:08:23.039Z"
   },
   {
    "duration": 30,
    "start_time": "2021-11-30T15:08:23.629Z"
   },
   {
    "duration": 54,
    "start_time": "2021-11-30T15:08:23.663Z"
   },
   {
    "duration": 28,
    "start_time": "2021-11-30T15:08:23.718Z"
   },
   {
    "duration": 7,
    "start_time": "2021-11-30T15:08:23.748Z"
   },
   {
    "duration": 35,
    "start_time": "2021-11-30T15:08:23.757Z"
   },
   {
    "duration": 15,
    "start_time": "2021-11-30T15:08:23.794Z"
   },
   {
    "duration": 33,
    "start_time": "2021-11-30T15:08:23.811Z"
   },
   {
    "duration": 19,
    "start_time": "2021-11-30T15:08:23.846Z"
   },
   {
    "duration": 7,
    "start_time": "2021-11-30T15:08:23.866Z"
   },
   {
    "duration": 19,
    "start_time": "2021-11-30T15:08:23.874Z"
   },
   {
    "duration": 9,
    "start_time": "2021-11-30T15:08:23.895Z"
   },
   {
    "duration": 7,
    "start_time": "2021-11-30T15:08:23.905Z"
   },
   {
    "duration": 32,
    "start_time": "2021-11-30T15:08:23.913Z"
   },
   {
    "duration": 46,
    "start_time": "2021-11-30T15:08:23.946Z"
   },
   {
    "duration": 17,
    "start_time": "2021-11-30T15:08:23.994Z"
   },
   {
    "duration": 12,
    "start_time": "2021-11-30T15:08:24.012Z"
   },
   {
    "duration": 4,
    "start_time": "2021-11-30T15:08:24.026Z"
   },
   {
    "duration": 22,
    "start_time": "2021-11-30T15:08:24.032Z"
   },
   {
    "duration": 44,
    "start_time": "2021-11-30T15:08:24.056Z"
   },
   {
    "duration": 2724,
    "start_time": "2021-11-30T15:08:24.102Z"
   },
   {
    "duration": 78,
    "start_time": "2021-11-30T15:08:26.829Z"
   },
   {
    "duration": 22,
    "start_time": "2021-11-30T15:08:26.909Z"
   },
   {
    "duration": 59,
    "start_time": "2021-11-30T15:08:26.933Z"
   },
   {
    "duration": 22,
    "start_time": "2021-11-30T15:18:45.633Z"
   },
   {
    "duration": 27,
    "start_time": "2021-11-30T15:22:09.327Z"
   },
   {
    "duration": 25,
    "start_time": "2021-11-30T15:24:37.309Z"
   },
   {
    "duration": 24,
    "start_time": "2021-11-30T15:25:15.173Z"
   },
   {
    "duration": 28,
    "start_time": "2021-11-30T15:25:21.997Z"
   },
   {
    "duration": 26,
    "start_time": "2021-11-30T15:26:27.136Z"
   },
   {
    "duration": 279,
    "start_time": "2021-11-30T15:29:36.484Z"
   },
   {
    "duration": 38,
    "start_time": "2021-11-30T15:29:48.957Z"
   },
   {
    "duration": 38,
    "start_time": "2021-11-30T15:30:00.405Z"
   },
   {
    "duration": 4286,
    "start_time": "2021-11-30T15:49:35.724Z"
   },
   {
    "duration": 2569,
    "start_time": "2021-11-30T15:50:06.549Z"
   },
   {
    "duration": 715,
    "start_time": "2021-11-30T16:03:41.607Z"
   },
   {
    "duration": 674,
    "start_time": "2021-11-30T16:06:47.263Z"
   },
   {
    "duration": 686,
    "start_time": "2021-11-30T16:07:02.127Z"
   },
   {
    "duration": 857,
    "start_time": "2021-11-30T16:07:09.503Z"
   },
   {
    "duration": 62,
    "start_time": "2021-11-30T16:08:38.853Z"
   },
   {
    "duration": 216,
    "start_time": "2021-11-30T16:08:50.233Z"
   },
   {
    "duration": 4,
    "start_time": "2021-11-30T16:09:01.037Z"
   },
   {
    "duration": 59,
    "start_time": "2021-11-30T16:12:55.117Z"
   },
   {
    "duration": 836,
    "start_time": "2021-11-30T16:13:12.349Z"
   },
   {
    "duration": 846,
    "start_time": "2021-11-30T16:13:19.823Z"
   },
   {
    "duration": 54,
    "start_time": "2021-11-30T16:14:06.304Z"
   },
   {
    "duration": 809,
    "start_time": "2021-11-30T16:14:19.080Z"
   },
   {
    "duration": 3245,
    "start_time": "2021-11-30T16:14:34.666Z"
   },
   {
    "duration": 194,
    "start_time": "2021-11-30T16:15:21.236Z"
   },
   {
    "duration": 682,
    "start_time": "2021-11-30T16:15:30.548Z"
   },
   {
    "duration": 1637,
    "start_time": "2021-11-30T16:16:10.455Z"
   },
   {
    "duration": 3400,
    "start_time": "2021-11-30T16:17:11.938Z"
   },
   {
    "duration": 3285,
    "start_time": "2021-11-30T16:18:32.968Z"
   },
   {
    "duration": 3207,
    "start_time": "2021-11-30T16:18:45.716Z"
   },
   {
    "duration": 58,
    "start_time": "2021-11-30T16:20:52.178Z"
   },
   {
    "duration": 4175,
    "start_time": "2021-11-30T16:20:56.555Z"
   },
   {
    "duration": 3429,
    "start_time": "2021-11-30T16:21:05.724Z"
   },
   {
    "duration": 3649,
    "start_time": "2021-11-30T16:24:21.473Z"
   },
   {
    "duration": 8232,
    "start_time": "2021-11-30T16:25:03.976Z"
   },
   {
    "duration": 3259,
    "start_time": "2021-11-30T16:25:31.289Z"
   },
   {
    "duration": 3761,
    "start_time": "2021-11-30T16:27:59.262Z"
   },
   {
    "duration": 3455,
    "start_time": "2021-11-30T16:28:21.321Z"
   },
   {
    "duration": 629,
    "start_time": "2021-11-30T16:36:40.007Z"
   },
   {
    "duration": 29,
    "start_time": "2021-11-30T16:36:40.639Z"
   },
   {
    "duration": 56,
    "start_time": "2021-11-30T16:36:40.670Z"
   },
   {
    "duration": 26,
    "start_time": "2021-11-30T16:36:40.728Z"
   },
   {
    "duration": 7,
    "start_time": "2021-11-30T16:36:40.756Z"
   },
   {
    "duration": 32,
    "start_time": "2021-11-30T16:36:40.764Z"
   },
   {
    "duration": 17,
    "start_time": "2021-11-30T16:36:40.798Z"
   },
   {
    "duration": 15,
    "start_time": "2021-11-30T16:36:40.817Z"
   },
   {
    "duration": 17,
    "start_time": "2021-11-30T16:36:40.835Z"
   },
   {
    "duration": 4,
    "start_time": "2021-11-30T16:36:40.854Z"
   },
   {
    "duration": 39,
    "start_time": "2021-11-30T16:36:40.860Z"
   },
   {
    "duration": 13,
    "start_time": "2021-11-30T16:36:40.902Z"
   },
   {
    "duration": 5,
    "start_time": "2021-11-30T16:36:40.916Z"
   },
   {
    "duration": 70,
    "start_time": "2021-11-30T16:36:40.923Z"
   },
   {
    "duration": 23,
    "start_time": "2021-11-30T16:36:40.995Z"
   },
   {
    "duration": 14,
    "start_time": "2021-11-30T16:36:41.020Z"
   },
   {
    "duration": 11,
    "start_time": "2021-11-30T16:36:41.035Z"
   },
   {
    "duration": 3,
    "start_time": "2021-11-30T16:36:41.048Z"
   },
   {
    "duration": 59,
    "start_time": "2021-11-30T16:36:41.053Z"
   },
   {
    "duration": 14,
    "start_time": "2021-11-30T16:36:41.113Z"
   },
   {
    "duration": 2914,
    "start_time": "2021-11-30T16:36:41.128Z"
   },
   {
    "duration": 31,
    "start_time": "2021-11-30T16:36:44.044Z"
   },
   {
    "duration": 42,
    "start_time": "2021-11-30T16:36:44.078Z"
   },
   {
    "duration": 269,
    "start_time": "2021-11-30T16:36:44.121Z"
   },
   {
    "duration": -45,
    "start_time": "2021-11-30T16:36:44.437Z"
   },
   {
    "duration": 16,
    "start_time": "2021-11-30T16:38:54.866Z"
   },
   {
    "duration": 613,
    "start_time": "2021-11-30T16:39:38.307Z"
   },
   {
    "duration": 28,
    "start_time": "2021-11-30T16:39:38.922Z"
   },
   {
    "duration": 63,
    "start_time": "2021-11-30T16:39:38.951Z"
   },
   {
    "duration": 26,
    "start_time": "2021-11-30T16:39:39.015Z"
   },
   {
    "duration": 7,
    "start_time": "2021-11-30T16:39:39.043Z"
   },
   {
    "duration": 13,
    "start_time": "2021-11-30T16:39:39.052Z"
   },
   {
    "duration": 42,
    "start_time": "2021-11-30T16:39:39.067Z"
   },
   {
    "duration": 18,
    "start_time": "2021-11-30T16:39:39.111Z"
   },
   {
    "duration": 35,
    "start_time": "2021-11-30T16:39:39.131Z"
   },
   {
    "duration": 4,
    "start_time": "2021-11-30T16:39:39.167Z"
   },
   {
    "duration": 18,
    "start_time": "2021-11-30T16:39:39.173Z"
   },
   {
    "duration": 19,
    "start_time": "2021-11-30T16:39:39.194Z"
   },
   {
    "duration": 9,
    "start_time": "2021-11-30T16:39:39.215Z"
   },
   {
    "duration": 36,
    "start_time": "2021-11-30T16:39:39.225Z"
   },
   {
    "duration": 33,
    "start_time": "2021-11-30T16:39:39.262Z"
   },
   {
    "duration": 23,
    "start_time": "2021-11-30T16:39:39.297Z"
   },
   {
    "duration": 11,
    "start_time": "2021-11-30T16:39:39.322Z"
   },
   {
    "duration": 23,
    "start_time": "2021-11-30T16:39:39.334Z"
   },
   {
    "duration": 27,
    "start_time": "2021-11-30T16:39:39.359Z"
   },
   {
    "duration": 24,
    "start_time": "2021-11-30T16:39:39.387Z"
   },
   {
    "duration": 3408,
    "start_time": "2021-11-30T16:39:39.412Z"
   },
   {
    "duration": 29,
    "start_time": "2021-11-30T16:39:42.822Z"
   },
   {
    "duration": 39,
    "start_time": "2021-11-30T16:39:42.854Z"
   },
   {
    "duration": 278,
    "start_time": "2021-11-30T16:39:42.896Z"
   },
   {
    "duration": -45,
    "start_time": "2021-11-30T16:39:43.221Z"
   },
   {
    "duration": 595,
    "start_time": "2021-11-30T16:45:55.335Z"
   },
   {
    "duration": 29,
    "start_time": "2021-11-30T16:45:55.932Z"
   },
   {
    "duration": 58,
    "start_time": "2021-11-30T16:45:55.963Z"
   },
   {
    "duration": 26,
    "start_time": "2021-11-30T16:45:56.023Z"
   },
   {
    "duration": 8,
    "start_time": "2021-11-30T16:45:56.050Z"
   },
   {
    "duration": 35,
    "start_time": "2021-11-30T16:45:56.059Z"
   },
   {
    "duration": 24,
    "start_time": "2021-11-30T16:45:56.096Z"
   },
   {
    "duration": 32,
    "start_time": "2021-11-30T16:45:56.122Z"
   },
   {
    "duration": 22,
    "start_time": "2021-11-30T16:45:56.156Z"
   },
   {
    "duration": 9,
    "start_time": "2021-11-30T16:45:56.179Z"
   },
   {
    "duration": 21,
    "start_time": "2021-11-30T16:45:56.190Z"
   },
   {
    "duration": 18,
    "start_time": "2021-11-30T16:45:56.212Z"
   },
   {
    "duration": 17,
    "start_time": "2021-11-30T16:45:56.231Z"
   },
   {
    "duration": 40,
    "start_time": "2021-11-30T16:45:56.249Z"
   },
   {
    "duration": 22,
    "start_time": "2021-11-30T16:45:56.291Z"
   },
   {
    "duration": 22,
    "start_time": "2021-11-30T16:45:56.314Z"
   },
   {
    "duration": 11,
    "start_time": "2021-11-30T16:45:56.337Z"
   },
   {
    "duration": 4,
    "start_time": "2021-11-30T16:45:56.350Z"
   },
   {
    "duration": 41,
    "start_time": "2021-11-30T16:45:56.355Z"
   },
   {
    "duration": 19,
    "start_time": "2021-11-30T16:45:56.398Z"
   },
   {
    "duration": 2575,
    "start_time": "2021-11-30T16:45:56.419Z"
   },
   {
    "duration": 33,
    "start_time": "2021-11-30T16:45:58.997Z"
   },
   {
    "duration": 23,
    "start_time": "2021-11-30T16:45:59.033Z"
   },
   {
    "duration": 65,
    "start_time": "2021-11-30T16:45:59.058Z"
   },
   {
    "duration": -40,
    "start_time": "2021-11-30T16:45:59.166Z"
   },
   {
    "duration": 657,
    "start_time": "2021-11-30T16:47:56.030Z"
   },
   {
    "duration": 39,
    "start_time": "2021-11-30T16:47:56.689Z"
   },
   {
    "duration": 75,
    "start_time": "2021-11-30T16:47:56.731Z"
   },
   {
    "duration": 30,
    "start_time": "2021-11-30T16:47:56.808Z"
   },
   {
    "duration": 8,
    "start_time": "2021-11-30T16:47:56.840Z"
   },
   {
    "duration": 6,
    "start_time": "2021-11-30T16:47:56.850Z"
   },
   {
    "duration": 58,
    "start_time": "2021-11-30T16:47:56.858Z"
   },
   {
    "duration": 22,
    "start_time": "2021-11-30T16:47:56.920Z"
   },
   {
    "duration": 17,
    "start_time": "2021-11-30T16:47:56.944Z"
   },
   {
    "duration": 30,
    "start_time": "2021-11-30T16:47:56.963Z"
   },
   {
    "duration": 10,
    "start_time": "2021-11-30T16:47:56.996Z"
   },
   {
    "duration": 16,
    "start_time": "2021-11-30T16:47:57.008Z"
   },
   {
    "duration": 6,
    "start_time": "2021-11-30T16:47:57.026Z"
   },
   {
    "duration": 81,
    "start_time": "2021-11-30T16:47:57.033Z"
   },
   {
    "duration": 18,
    "start_time": "2021-11-30T16:47:57.116Z"
   },
   {
    "duration": 16,
    "start_time": "2021-11-30T16:47:57.136Z"
   },
   {
    "duration": 45,
    "start_time": "2021-11-30T16:47:57.154Z"
   },
   {
    "duration": 6,
    "start_time": "2021-11-30T16:47:57.201Z"
   },
   {
    "duration": 36,
    "start_time": "2021-11-30T16:47:57.209Z"
   },
   {
    "duration": 45,
    "start_time": "2021-11-30T16:47:57.248Z"
   },
   {
    "duration": 3033,
    "start_time": "2021-11-30T16:47:57.296Z"
   },
   {
    "duration": 30,
    "start_time": "2021-11-30T16:48:00.330Z"
   },
   {
    "duration": 54,
    "start_time": "2021-11-30T16:48:00.363Z"
   },
   {
    "duration": 268,
    "start_time": "2021-11-30T16:48:00.420Z"
   },
   {
    "duration": -53,
    "start_time": "2021-11-30T16:48:00.743Z"
   },
   {
    "duration": 629,
    "start_time": "2021-11-30T16:48:21.804Z"
   },
   {
    "duration": 31,
    "start_time": "2021-11-30T16:48:22.434Z"
   },
   {
    "duration": 62,
    "start_time": "2021-11-30T16:48:22.467Z"
   },
   {
    "duration": 28,
    "start_time": "2021-11-30T16:48:22.531Z"
   },
   {
    "duration": 32,
    "start_time": "2021-11-30T16:48:22.561Z"
   },
   {
    "duration": 8,
    "start_time": "2021-11-30T16:48:22.596Z"
   },
   {
    "duration": 27,
    "start_time": "2021-11-30T16:48:22.607Z"
   },
   {
    "duration": 25,
    "start_time": "2021-11-30T16:48:22.636Z"
   },
   {
    "duration": 36,
    "start_time": "2021-11-30T16:48:22.664Z"
   },
   {
    "duration": 8,
    "start_time": "2021-11-30T16:48:22.703Z"
   },
   {
    "duration": 10,
    "start_time": "2021-11-30T16:48:22.713Z"
   },
   {
    "duration": 21,
    "start_time": "2021-11-30T16:48:22.724Z"
   },
   {
    "duration": 29,
    "start_time": "2021-11-30T16:48:22.747Z"
   },
   {
    "duration": 50,
    "start_time": "2021-11-30T16:48:22.778Z"
   },
   {
    "duration": 16,
    "start_time": "2021-11-30T16:48:22.830Z"
   },
   {
    "duration": 31,
    "start_time": "2021-11-30T16:48:22.847Z"
   },
   {
    "duration": 18,
    "start_time": "2021-11-30T16:48:22.892Z"
   },
   {
    "duration": 17,
    "start_time": "2021-11-30T16:48:22.912Z"
   },
   {
    "duration": 43,
    "start_time": "2021-11-30T16:48:22.931Z"
   },
   {
    "duration": 27,
    "start_time": "2021-11-30T16:48:22.976Z"
   },
   {
    "duration": 2643,
    "start_time": "2021-11-30T16:48:23.005Z"
   },
   {
    "duration": 43,
    "start_time": "2021-11-30T16:48:25.650Z"
   },
   {
    "duration": 27,
    "start_time": "2021-11-30T16:48:25.698Z"
   },
   {
    "duration": 37,
    "start_time": "2021-11-30T16:48:25.727Z"
   },
   {
    "duration": 4129,
    "start_time": "2021-11-30T16:48:25.765Z"
   },
   {
    "duration": 631,
    "start_time": "2021-11-30T16:49:13.177Z"
   },
   {
    "duration": 33,
    "start_time": "2021-11-30T16:49:13.809Z"
   },
   {
    "duration": 56,
    "start_time": "2021-11-30T16:49:13.844Z"
   },
   {
    "duration": 29,
    "start_time": "2021-11-30T16:49:13.902Z"
   },
   {
    "duration": 8,
    "start_time": "2021-11-30T16:49:13.932Z"
   },
   {
    "duration": 6,
    "start_time": "2021-11-30T16:49:13.941Z"
   },
   {
    "duration": 49,
    "start_time": "2021-11-30T16:49:13.949Z"
   },
   {
    "duration": 17,
    "start_time": "2021-11-30T16:49:14.002Z"
   },
   {
    "duration": 18,
    "start_time": "2021-11-30T16:49:14.021Z"
   },
   {
    "duration": 5,
    "start_time": "2021-11-30T16:49:14.041Z"
   },
   {
    "duration": 45,
    "start_time": "2021-11-30T16:49:14.048Z"
   },
   {
    "duration": 14,
    "start_time": "2021-11-30T16:49:14.096Z"
   },
   {
    "duration": 5,
    "start_time": "2021-11-30T16:49:14.111Z"
   },
   {
    "duration": 30,
    "start_time": "2021-11-30T16:49:14.118Z"
   },
   {
    "duration": 51,
    "start_time": "2021-11-30T16:49:14.150Z"
   },
   {
    "duration": 19,
    "start_time": "2021-11-30T16:49:14.203Z"
   },
   {
    "duration": 12,
    "start_time": "2021-11-30T16:49:14.223Z"
   },
   {
    "duration": 4,
    "start_time": "2021-11-30T16:49:14.237Z"
   },
   {
    "duration": 49,
    "start_time": "2021-11-30T16:49:14.242Z"
   },
   {
    "duration": 20,
    "start_time": "2021-11-30T16:49:14.294Z"
   },
   {
    "duration": 3153,
    "start_time": "2021-11-30T16:49:14.315Z"
   },
   {
    "duration": 43,
    "start_time": "2021-11-30T16:49:17.470Z"
   },
   {
    "duration": 23,
    "start_time": "2021-11-30T16:49:17.516Z"
   },
   {
    "duration": 28,
    "start_time": "2021-11-30T16:49:17.540Z"
   },
   {
    "duration": 3787,
    "start_time": "2021-11-30T16:49:17.570Z"
   },
   {
    "duration": 60,
    "start_time": "2021-11-30T16:49:46.924Z"
   },
   {
    "duration": 4027,
    "start_time": "2021-11-30T16:50:16.156Z"
   },
   {
    "duration": 3547,
    "start_time": "2021-11-30T16:50:30.580Z"
   },
   {
    "duration": 35,
    "start_time": "2021-11-30T16:50:53.879Z"
   },
   {
    "duration": 556,
    "start_time": "2021-11-30T21:39:05.835Z"
   },
   {
    "duration": 28,
    "start_time": "2021-11-30T21:39:06.393Z"
   },
   {
    "duration": 42,
    "start_time": "2021-11-30T21:39:06.423Z"
   },
   {
    "duration": 49,
    "start_time": "2021-11-30T21:39:06.468Z"
   },
   {
    "duration": 8,
    "start_time": "2021-11-30T21:39:06.519Z"
   },
   {
    "duration": 6,
    "start_time": "2021-11-30T21:39:06.528Z"
   },
   {
    "duration": 32,
    "start_time": "2021-11-30T21:39:06.535Z"
   },
   {
    "duration": 34,
    "start_time": "2021-11-30T21:39:06.569Z"
   },
   {
    "duration": 29,
    "start_time": "2021-11-30T21:39:06.605Z"
   },
   {
    "duration": 13,
    "start_time": "2021-11-30T21:39:06.635Z"
   },
   {
    "duration": 7,
    "start_time": "2021-11-30T21:39:06.650Z"
   },
   {
    "duration": 27,
    "start_time": "2021-11-30T21:39:06.658Z"
   },
   {
    "duration": 27,
    "start_time": "2021-11-30T21:39:06.687Z"
   },
   {
    "duration": 41,
    "start_time": "2021-11-30T21:39:06.716Z"
   },
   {
    "duration": 15,
    "start_time": "2021-11-30T21:39:06.759Z"
   },
   {
    "duration": 24,
    "start_time": "2021-11-30T21:39:06.776Z"
   },
   {
    "duration": 12,
    "start_time": "2021-11-30T21:39:06.801Z"
   },
   {
    "duration": 9,
    "start_time": "2021-11-30T21:39:06.814Z"
   },
   {
    "duration": 31,
    "start_time": "2021-11-30T21:39:06.825Z"
   },
   {
    "duration": 15,
    "start_time": "2021-11-30T21:39:06.858Z"
   },
   {
    "duration": 2904,
    "start_time": "2021-11-30T21:39:06.875Z"
   },
   {
    "duration": 32,
    "start_time": "2021-11-30T21:39:09.780Z"
   },
   {
    "duration": 26,
    "start_time": "2021-11-30T21:39:09.814Z"
   },
   {
    "duration": 31,
    "start_time": "2021-11-30T21:39:09.841Z"
   },
   {
    "duration": 3445,
    "start_time": "2021-11-30T21:39:09.874Z"
   },
   {
    "duration": 7,
    "start_time": "2021-11-30T21:43:37.798Z"
   },
   {
    "duration": 9,
    "start_time": "2021-11-30T21:46:24.099Z"
   },
   {
    "duration": 491,
    "start_time": "2022-03-30T04:22:56.214Z"
   },
   {
    "duration": 76,
    "start_time": "2022-03-30T04:24:09.714Z"
   },
   {
    "duration": 4,
    "start_time": "2022-03-30T04:25:39.772Z"
   },
   {
    "duration": 5,
    "start_time": "2022-03-30T04:25:45.177Z"
   },
   {
    "duration": 6,
    "start_time": "2022-03-30T04:25:53.070Z"
   },
   {
    "duration": 8,
    "start_time": "2022-03-30T04:26:00.016Z"
   },
   {
    "duration": 6,
    "start_time": "2022-03-30T04:26:08.249Z"
   },
   {
    "duration": 21,
    "start_time": "2022-03-30T04:28:34.238Z"
   },
   {
    "duration": 47,
    "start_time": "2022-03-30T04:29:23.905Z"
   },
   {
    "duration": 11,
    "start_time": "2022-03-30T04:36:01.594Z"
   },
   {
    "duration": 1068,
    "start_time": "2022-03-30T04:36:40.801Z"
   },
   {
    "duration": 42,
    "start_time": "2022-03-30T04:39:17.795Z"
   },
   {
    "duration": 115,
    "start_time": "2022-03-30T04:50:53.479Z"
   },
   {
    "duration": 343,
    "start_time": "2022-03-30T04:51:04.352Z"
   },
   {
    "duration": 324,
    "start_time": "2022-03-30T04:51:08.615Z"
   },
   {
    "duration": 345,
    "start_time": "2022-03-30T04:51:29.503Z"
   },
   {
    "duration": 475,
    "start_time": "2022-03-30T04:51:35.078Z"
   },
   {
    "duration": 487,
    "start_time": "2022-03-30T04:51:39.935Z"
   },
   {
    "duration": 491,
    "start_time": "2022-03-30T04:52:37.136Z"
   },
   {
    "duration": 743,
    "start_time": "2022-03-30T04:52:49.159Z"
   },
   {
    "duration": 480,
    "start_time": "2022-03-30T04:52:55.704Z"
   },
   {
    "duration": 31,
    "start_time": "2022-03-30T04:54:37.837Z"
   },
   {
    "duration": 48,
    "start_time": "2022-03-30T09:33:53.126Z"
   },
   {
    "duration": 417,
    "start_time": "2022-03-30T09:33:58.896Z"
   },
   {
    "duration": 56,
    "start_time": "2022-03-30T09:33:59.315Z"
   },
   {
    "duration": 5,
    "start_time": "2022-03-30T09:33:59.373Z"
   },
   {
    "duration": 32,
    "start_time": "2022-03-30T09:33:59.380Z"
   },
   {
    "duration": 29,
    "start_time": "2022-03-30T09:33:59.413Z"
   },
   {
    "duration": 67,
    "start_time": "2022-03-30T09:33:59.443Z"
   },
   {
    "duration": 7,
    "start_time": "2022-03-30T09:33:59.511Z"
   },
   {
    "duration": 567,
    "start_time": "2022-03-30T09:33:59.519Z"
   },
   {
    "duration": 36,
    "start_time": "2022-03-30T09:34:00.088Z"
   },
   {
    "duration": 9,
    "start_time": "2022-03-30T09:34:00.126Z"
   },
   {
    "duration": 9,
    "start_time": "2022-03-30T09:34:00.136Z"
   },
   {
    "duration": 257,
    "start_time": "2022-03-30T09:34:00.147Z"
   },
   {
    "duration": 17,
    "start_time": "2022-03-30T09:34:00.406Z"
   },
   {
    "duration": 24,
    "start_time": "2022-03-30T09:34:00.425Z"
   },
   {
    "duration": 10,
    "start_time": "2022-03-30T09:34:05.469Z"
   },
   {
    "duration": 109,
    "start_time": "2022-03-30T09:34:44.292Z"
   },
   {
    "duration": 13,
    "start_time": "2022-03-30T09:40:06.984Z"
   },
   {
    "duration": 7,
    "start_time": "2022-03-30T09:46:32.331Z"
   },
   {
    "duration": 192,
    "start_time": "2022-03-30T09:46:58.902Z"
   },
   {
    "duration": 135,
    "start_time": "2022-03-30T09:47:07.534Z"
   },
   {
    "duration": 125,
    "start_time": "2022-03-30T09:47:34.352Z"
   },
   {
    "duration": 123,
    "start_time": "2022-03-30T09:51:59.386Z"
   },
   {
    "duration": 128,
    "start_time": "2022-03-30T09:52:10.586Z"
   },
   {
    "duration": 13,
    "start_time": "2022-03-30T10:10:38.558Z"
   },
   {
    "duration": 161,
    "start_time": "2022-03-30T10:17:10.347Z"
   },
   {
    "duration": 139,
    "start_time": "2022-03-30T10:17:33.720Z"
   },
   {
    "duration": 232,
    "start_time": "2022-03-30T10:17:46.820Z"
   },
   {
    "duration": 23,
    "start_time": "2022-03-30T10:24:03.253Z"
   },
   {
    "duration": 7,
    "start_time": "2022-03-30T11:02:02.390Z"
   },
   {
    "duration": 10,
    "start_time": "2022-03-30T11:02:06.669Z"
   },
   {
    "duration": 8,
    "start_time": "2022-03-30T11:02:09.130Z"
   },
   {
    "duration": 3,
    "start_time": "2022-03-30T11:10:43.972Z"
   },
   {
    "duration": 69,
    "start_time": "2022-03-30T11:10:43.978Z"
   },
   {
    "duration": 5,
    "start_time": "2022-03-30T11:10:44.049Z"
   },
   {
    "duration": 26,
    "start_time": "2022-03-30T11:10:44.056Z"
   },
   {
    "duration": 41,
    "start_time": "2022-03-30T11:10:44.085Z"
   },
   {
    "duration": 46,
    "start_time": "2022-03-30T11:10:44.127Z"
   },
   {
    "duration": 36,
    "start_time": "2022-03-30T11:10:44.175Z"
   },
   {
    "duration": 157,
    "start_time": "2022-03-30T11:10:44.213Z"
   },
   {
    "duration": 25,
    "start_time": "2022-03-30T11:10:44.372Z"
   },
   {
    "duration": 17,
    "start_time": "2022-03-30T11:10:44.398Z"
   },
   {
    "duration": 5,
    "start_time": "2022-03-30T11:10:44.418Z"
   },
   {
    "duration": 234,
    "start_time": "2022-03-30T11:10:44.425Z"
   },
   {
    "duration": 15,
    "start_time": "2022-03-30T11:10:44.660Z"
   },
   {
    "duration": 33,
    "start_time": "2022-03-30T11:10:44.677Z"
   },
   {
    "duration": 8,
    "start_time": "2022-03-30T11:10:44.711Z"
   },
   {
    "duration": 129,
    "start_time": "2022-03-30T11:10:44.721Z"
   },
   {
    "duration": 13,
    "start_time": "2022-03-30T11:10:44.851Z"
   },
   {
    "duration": 7,
    "start_time": "2022-03-30T11:10:44.866Z"
   },
   {
    "duration": 155,
    "start_time": "2022-03-30T11:10:44.875Z"
   },
   {
    "duration": 430,
    "start_time": "2022-03-30T11:10:45.032Z"
   },
   {
    "duration": 6,
    "start_time": "2022-03-30T11:10:45.463Z"
   },
   {
    "duration": 19,
    "start_time": "2022-03-30T11:10:49.376Z"
   },
   {
    "duration": 24,
    "start_time": "2022-03-30T11:13:46.130Z"
   },
   {
    "duration": 10,
    "start_time": "2022-03-30T11:19:29.644Z"
   },
   {
    "duration": 567,
    "start_time": "2022-04-01T18:09:01.980Z"
   },
   {
    "duration": 140,
    "start_time": "2022-04-01T18:09:02.549Z"
   },
   {
    "duration": 0,
    "start_time": "2022-04-01T18:09:02.691Z"
   },
   {
    "duration": 0,
    "start_time": "2022-04-01T18:09:02.693Z"
   },
   {
    "duration": 0,
    "start_time": "2022-04-01T18:09:02.694Z"
   },
   {
    "duration": 0,
    "start_time": "2022-04-01T18:09:02.695Z"
   },
   {
    "duration": 0,
    "start_time": "2022-04-01T18:09:02.696Z"
   },
   {
    "duration": 0,
    "start_time": "2022-04-01T18:09:02.697Z"
   },
   {
    "duration": 0,
    "start_time": "2022-04-01T18:09:02.699Z"
   },
   {
    "duration": 0,
    "start_time": "2022-04-01T18:09:02.700Z"
   },
   {
    "duration": 0,
    "start_time": "2022-04-01T18:09:02.704Z"
   },
   {
    "duration": 0,
    "start_time": "2022-04-01T18:09:02.705Z"
   },
   {
    "duration": 0,
    "start_time": "2022-04-01T18:09:02.707Z"
   },
   {
    "duration": 0,
    "start_time": "2022-04-01T18:09:02.708Z"
   },
   {
    "duration": 0,
    "start_time": "2022-04-01T18:09:02.709Z"
   },
   {
    "duration": 0,
    "start_time": "2022-04-01T18:09:02.710Z"
   },
   {
    "duration": 0,
    "start_time": "2022-04-01T18:09:02.712Z"
   },
   {
    "duration": 0,
    "start_time": "2022-04-01T18:09:02.713Z"
   },
   {
    "duration": 0,
    "start_time": "2022-04-01T18:09:02.715Z"
   },
   {
    "duration": 0,
    "start_time": "2022-04-01T18:09:02.716Z"
   },
   {
    "duration": 0,
    "start_time": "2022-04-01T18:09:02.717Z"
   },
   {
    "duration": 0,
    "start_time": "2022-04-01T18:09:02.719Z"
   },
   {
    "duration": 0,
    "start_time": "2022-04-01T18:09:02.720Z"
   },
   {
    "duration": 0,
    "start_time": "2022-04-01T18:09:02.721Z"
   },
   {
    "duration": 0,
    "start_time": "2022-04-01T18:09:02.722Z"
   },
   {
    "duration": 0,
    "start_time": "2022-04-01T18:09:02.723Z"
   },
   {
    "duration": 0,
    "start_time": "2022-04-01T18:09:02.725Z"
   },
   {
    "duration": 0,
    "start_time": "2022-04-01T18:09:02.726Z"
   },
   {
    "duration": 0,
    "start_time": "2022-04-01T18:09:02.727Z"
   },
   {
    "duration": 8,
    "start_time": "2022-04-01T18:09:12.322Z"
   },
   {
    "duration": 60,
    "start_time": "2022-04-01T18:13:05.809Z"
   },
   {
    "duration": 3,
    "start_time": "2022-04-01T18:13:18.910Z"
   },
   {
    "duration": 63,
    "start_time": "2022-04-01T18:13:18.915Z"
   },
   {
    "duration": 5,
    "start_time": "2022-04-01T18:13:18.981Z"
   },
   {
    "duration": 38,
    "start_time": "2022-04-01T18:13:18.987Z"
   },
   {
    "duration": 34,
    "start_time": "2022-04-01T18:13:19.027Z"
   },
   {
    "duration": 71,
    "start_time": "2022-04-01T18:13:19.062Z"
   },
   {
    "duration": 6,
    "start_time": "2022-04-01T18:13:19.135Z"
   },
   {
    "duration": 629,
    "start_time": "2022-04-01T18:13:19.143Z"
   },
   {
    "duration": 42,
    "start_time": "2022-04-01T18:13:19.773Z"
   },
   {
    "duration": 11,
    "start_time": "2022-04-01T18:13:19.817Z"
   },
   {
    "duration": 8,
    "start_time": "2022-04-01T18:13:19.831Z"
   },
   {
    "duration": 250,
    "start_time": "2022-04-01T18:13:19.841Z"
   },
   {
    "duration": 29,
    "start_time": "2022-04-01T18:13:20.092Z"
   },
   {
    "duration": 18,
    "start_time": "2022-04-01T18:13:20.123Z"
   },
   {
    "duration": 10,
    "start_time": "2022-04-01T18:13:20.144Z"
   },
   {
    "duration": 137,
    "start_time": "2022-04-01T18:13:20.156Z"
   },
   {
    "duration": 23,
    "start_time": "2022-04-01T18:13:20.295Z"
   },
   {
    "duration": 9,
    "start_time": "2022-04-01T18:13:20.320Z"
   },
   {
    "duration": 210,
    "start_time": "2022-04-01T18:13:20.331Z"
   },
   {
    "duration": 236,
    "start_time": "2022-04-01T18:13:20.543Z"
   },
   {
    "duration": 7,
    "start_time": "2022-04-01T18:13:20.780Z"
   },
   {
    "duration": 36,
    "start_time": "2022-04-01T18:13:20.788Z"
   },
   {
    "duration": 22,
    "start_time": "2022-04-01T18:13:20.826Z"
   },
   {
    "duration": 4,
    "start_time": "2022-04-01T18:13:20.851Z"
   },
   {
    "duration": 9,
    "start_time": "2022-04-01T18:13:20.857Z"
   },
   {
    "duration": 36,
    "start_time": "2022-04-01T18:13:20.868Z"
   },
   {
    "duration": 6,
    "start_time": "2022-04-01T18:13:20.910Z"
   },
   {
    "duration": 21,
    "start_time": "2022-04-01T18:13:20.918Z"
   },
   {
    "duration": 8,
    "start_time": "2022-04-01T18:13:20.942Z"
   },
   {
    "duration": 17,
    "start_time": "2022-04-01T18:14:06.304Z"
   },
   {
    "duration": 18,
    "start_time": "2022-04-01T18:14:19.816Z"
   },
   {
    "duration": 4,
    "start_time": "2022-04-01T18:15:05.681Z"
   },
   {
    "duration": 2844,
    "start_time": "2022-04-01T18:15:15.959Z"
   },
   {
    "duration": 28,
    "start_time": "2022-04-01T18:19:35.839Z"
   },
   {
    "duration": 32,
    "start_time": "2022-04-01T18:19:42.508Z"
   },
   {
    "duration": 4,
    "start_time": "2022-04-01T18:21:04.292Z"
   },
   {
    "duration": 140,
    "start_time": "2022-04-01T18:21:37.010Z"
   },
   {
    "duration": 25,
    "start_time": "2022-04-01T18:23:22.843Z"
   },
   {
    "duration": 2,
    "start_time": "2022-04-01T18:23:29.065Z"
   },
   {
    "duration": 72,
    "start_time": "2022-04-01T18:23:29.071Z"
   },
   {
    "duration": 4,
    "start_time": "2022-04-01T18:23:29.145Z"
   },
   {
    "duration": 20,
    "start_time": "2022-04-01T18:23:29.151Z"
   },
   {
    "duration": 47,
    "start_time": "2022-04-01T18:23:29.173Z"
   },
   {
    "duration": 42,
    "start_time": "2022-04-01T18:23:29.222Z"
   },
   {
    "duration": 37,
    "start_time": "2022-04-01T18:23:29.266Z"
   },
   {
    "duration": 153,
    "start_time": "2022-04-01T18:23:29.309Z"
   },
   {
    "duration": 45,
    "start_time": "2022-04-01T18:23:29.464Z"
   },
   {
    "duration": 10,
    "start_time": "2022-04-01T18:23:29.511Z"
   },
   {
    "duration": 7,
    "start_time": "2022-04-01T18:23:29.526Z"
   },
   {
    "duration": 234,
    "start_time": "2022-04-01T18:23:29.534Z"
   },
   {
    "duration": 17,
    "start_time": "2022-04-01T18:23:29.770Z"
   },
   {
    "duration": 24,
    "start_time": "2022-04-01T18:23:29.801Z"
   },
   {
    "duration": 10,
    "start_time": "2022-04-01T18:23:29.828Z"
   },
   {
    "duration": 136,
    "start_time": "2022-04-01T18:23:29.840Z"
   },
   {
    "duration": 14,
    "start_time": "2022-04-01T18:23:29.978Z"
   },
   {
    "duration": 11,
    "start_time": "2022-04-01T18:23:30.002Z"
   },
   {
    "duration": 150,
    "start_time": "2022-04-01T18:23:30.017Z"
   },
   {
    "duration": 250,
    "start_time": "2022-04-01T18:23:30.169Z"
   },
   {
    "duration": 7,
    "start_time": "2022-04-01T18:23:30.422Z"
   },
   {
    "duration": 33,
    "start_time": "2022-04-01T18:23:30.431Z"
   },
   {
    "duration": 40,
    "start_time": "2022-04-01T18:23:30.466Z"
   },
   {
    "duration": 18,
    "start_time": "2022-04-01T18:23:30.508Z"
   },
   {
    "duration": 18,
    "start_time": "2022-04-01T18:23:30.528Z"
   },
   {
    "duration": 13,
    "start_time": "2022-04-01T18:23:30.548Z"
   },
   {
    "duration": 15,
    "start_time": "2022-04-01T18:23:30.563Z"
   },
   {
    "duration": 23,
    "start_time": "2022-04-01T18:23:30.580Z"
   },
   {
    "duration": 9,
    "start_time": "2022-04-01T18:23:30.608Z"
   },
   {
    "duration": 18,
    "start_time": "2022-04-01T18:23:30.619Z"
   },
   {
    "duration": 10,
    "start_time": "2022-04-01T18:23:30.639Z"
   },
   {
    "duration": 2754,
    "start_time": "2022-04-01T18:23:30.650Z"
   },
   {
    "duration": 32,
    "start_time": "2022-04-01T18:23:33.407Z"
   },
   {
    "duration": 29,
    "start_time": "2022-04-01T18:23:33.441Z"
   },
   {
    "duration": 4,
    "start_time": "2022-04-01T18:23:33.472Z"
   },
   {
    "duration": 8,
    "start_time": "2022-04-01T18:23:33.504Z"
   },
   {
    "duration": 16,
    "start_time": "2022-04-01T18:23:33.515Z"
   },
   {
    "duration": 35,
    "start_time": "2022-04-01T18:23:33.533Z"
   },
   {
    "duration": 3965,
    "start_time": "2022-04-01T18:23:33.570Z"
   },
   {
    "duration": 9,
    "start_time": "2022-04-01T18:23:37.537Z"
   },
   {
    "duration": 27,
    "start_time": "2022-04-01T18:23:49.521Z"
   },
   {
    "duration": 3870,
    "start_time": "2022-04-01T18:24:27.898Z"
   },
   {
    "duration": 10,
    "start_time": "2022-04-01T18:24:31.771Z"
   },
   {
    "duration": 3,
    "start_time": "2022-04-01T18:25:06.407Z"
   },
   {
    "duration": 77,
    "start_time": "2022-04-01T18:25:06.413Z"
   },
   {
    "duration": 15,
    "start_time": "2022-04-01T18:25:06.492Z"
   },
   {
    "duration": 29,
    "start_time": "2022-04-01T18:25:06.509Z"
   },
   {
    "duration": 24,
    "start_time": "2022-04-01T18:25:06.540Z"
   },
   {
    "duration": 75,
    "start_time": "2022-04-01T18:25:06.566Z"
   },
   {
    "duration": 7,
    "start_time": "2022-04-01T18:25:06.643Z"
   },
   {
    "duration": 177,
    "start_time": "2022-04-01T18:25:06.651Z"
   },
   {
    "duration": 27,
    "start_time": "2022-04-01T18:25:06.830Z"
   },
   {
    "duration": 9,
    "start_time": "2022-04-01T18:25:06.859Z"
   },
   {
    "duration": 37,
    "start_time": "2022-04-01T18:25:06.872Z"
   },
   {
    "duration": 228,
    "start_time": "2022-04-01T18:25:06.911Z"
   },
   {
    "duration": 16,
    "start_time": "2022-04-01T18:25:07.141Z"
   },
   {
    "duration": 19,
    "start_time": "2022-04-01T18:25:07.159Z"
   },
   {
    "duration": 29,
    "start_time": "2022-04-01T18:25:07.180Z"
   },
   {
    "duration": 124,
    "start_time": "2022-04-01T18:25:07.211Z"
   },
   {
    "duration": 15,
    "start_time": "2022-04-01T18:25:07.337Z"
   },
   {
    "duration": 14,
    "start_time": "2022-04-01T18:25:07.354Z"
   },
   {
    "duration": 153,
    "start_time": "2022-04-01T18:25:07.369Z"
   },
   {
    "duration": 249,
    "start_time": "2022-04-01T18:25:07.524Z"
   },
   {
    "duration": 6,
    "start_time": "2022-04-01T18:25:07.775Z"
   },
   {
    "duration": 32,
    "start_time": "2022-04-01T18:25:07.783Z"
   },
   {
    "duration": 21,
    "start_time": "2022-04-01T18:25:07.817Z"
   },
   {
    "duration": 5,
    "start_time": "2022-04-01T18:25:07.840Z"
   },
   {
    "duration": 11,
    "start_time": "2022-04-01T18:25:07.846Z"
   },
   {
    "duration": 7,
    "start_time": "2022-04-01T18:25:07.859Z"
   },
   {
    "duration": 36,
    "start_time": "2022-04-01T18:25:07.868Z"
   },
   {
    "duration": 27,
    "start_time": "2022-04-01T18:25:07.907Z"
   },
   {
    "duration": 8,
    "start_time": "2022-04-01T18:25:07.938Z"
   },
   {
    "duration": 29,
    "start_time": "2022-04-01T18:25:07.948Z"
   },
   {
    "duration": 7,
    "start_time": "2022-04-01T18:25:07.979Z"
   },
   {
    "duration": 3068,
    "start_time": "2022-04-01T18:25:07.987Z"
   },
   {
    "duration": 30,
    "start_time": "2022-04-01T18:25:11.057Z"
   },
   {
    "duration": 36,
    "start_time": "2022-04-01T18:25:11.100Z"
   },
   {
    "duration": 5,
    "start_time": "2022-04-01T18:25:11.137Z"
   },
   {
    "duration": 10,
    "start_time": "2022-04-01T18:25:11.144Z"
   },
   {
    "duration": 18,
    "start_time": "2022-04-01T18:25:11.156Z"
   },
   {
    "duration": 61,
    "start_time": "2022-04-01T18:25:11.176Z"
   },
   {
    "duration": 4146,
    "start_time": "2022-04-01T18:25:11.239Z"
   },
   {
    "duration": 21,
    "start_time": "2022-04-01T18:25:15.387Z"
   }
  ],
  "kernelspec": {
   "display_name": "Python 3 (ipykernel)",
   "language": "python",
   "name": "python3"
  },
  "language_info": {
   "codemirror_mode": {
    "name": "ipython",
    "version": 3
   },
   "file_extension": ".py",
   "mimetype": "text/x-python",
   "name": "python",
   "nbconvert_exporter": "python",
   "pygments_lexer": "ipython3",
   "version": "3.9.5"
  },
  "toc": {
   "base_numbering": 1,
   "nav_menu": {},
   "number_sections": true,
   "sideBar": true,
   "skip_h1_title": true,
   "title_cell": "Table of Contents",
   "title_sidebar": "Contents",
   "toc_cell": false,
   "toc_position": {
    "height": "calc(100% - 180px)",
    "left": "10px",
    "top": "150px",
    "width": "529px"
   },
   "toc_section_display": true,
   "toc_window_display": true
  }
 },
 "nbformat": 4,
 "nbformat_minor": 2
}
