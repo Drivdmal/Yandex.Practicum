{
 "cells": [
  {
   "cell_type": "markdown",
   "metadata": {
    "toc": true
   },
   "source": [
    "<h1>Содержание<span class=\"tocSkip\"></span></h1>\n",
    "</li></ul></li><li><span><a href=\"#Подготовка-данных\" data-toc-modified-id=\"Подготовка-данных-1\"><span class=\"toc-item-num\">1&nbsp;&nbsp;</span>Подготовка данных</a></span><ul class=\"toc-item\"><li><span><a href=\"#Анализ-данных\" data-toc-modified-id=\"Анализ-данных-1.1\"><span class=\"toc-item-num\">1.1&nbsp;&nbsp;</span>Анализ данных</a></span></li><li><span><a href=\"#Прямое-кодирование-данных\" data-toc-modified-id=\"Прямое-кодирование-данных-1.2\"><span class=\"toc-item-num\">1.2&nbsp;&nbsp;</span>Прямое кодирование данных</a></span></li><li><span><a href=\"#Разделение-датафрейма-на-выборки:-тренировочную,-валидационную-и-тестовую---50/25/25\" data-toc-modified-id=\"Разделение-датафрейма-на-выборки:-тренировочную,-валидационную-и-тестовую---50/25/25-1.3\"><span class=\"toc-item-num\">1.3&nbsp;&nbsp;</span>Разделение датафрейма на выборки: тренировочную, валидационную и тестовую - 50/25/25</a></span></li><li><span><a href=\"#Вывод:\" data-toc-modified-id=\"Вывод:-1.4\"><span class=\"toc-item-num\">1.4&nbsp;&nbsp;</span>Вывод:</a></span></li></ul></li><li><span><a href=\"#Исследование-задачи\" data-toc-modified-id=\"Исследование-задачи-2\"><span class=\"toc-item-num\">2&nbsp;&nbsp;</span>Исследование задачи</a></span><ul class=\"toc-item\"><li><span><a href=\"#LogisticRegression\" data-toc-modified-id=\"LogisticRegression-2.1\"><span class=\"toc-item-num\">2.1&nbsp;&nbsp;</span>LogisticRegression</a></span></li><li><span><a href=\"#RandomForestClassifier\" data-toc-modified-id=\"RandomForestClassifier-2.2\"><span class=\"toc-item-num\">2.2&nbsp;&nbsp;</span>RandomForestClassifier</a></span></li><li><span><a href=\"#Вывод:\" data-toc-modified-id=\"Вывод:-2.3\"><span class=\"toc-item-num\">2.3&nbsp;&nbsp;</span>Вывод:</a></span></li></ul></li><li><span><a href=\"#Борьба-с-дисбалансом\" data-toc-modified-id=\"Борьба-с-дисбалансом-3\"><span class=\"toc-item-num\">3&nbsp;&nbsp;</span>Борьба с дисбалансом</a></span><ul class=\"toc-item\"><li><span><a href=\"#LogisticRegression-с-выборкуой-*_up\" data-toc-modified-id=\"LogisticRegression-с-выборкуой-*_up-3.1\"><span class=\"toc-item-num\">3.1&nbsp;&nbsp;</span>LogisticRegression с выборкуой *_up</a></span></li><li><span><a href=\"#LogisticRegression-с-выборкуой-*_down\" data-toc-modified-id=\"LogisticRegression-с-выборкуой-*_down-3.2\"><span class=\"toc-item-num\">3.2&nbsp;&nbsp;</span>LogisticRegression с выборкуой *_down</a></span></li><li><span><a href=\"#RandomForestClassifier-с-выборкой-*_up\" data-toc-modified-id=\"RandomForestClassifier-с-выборкой-*_up-3.3\"><span class=\"toc-item-num\">3.3&nbsp;&nbsp;</span>RandomForestClassifier с выборкой *_up</a></span></li><li><span><a href=\"#RandomForestClassifier-с-выборкой-*_down\" data-toc-modified-id=\"RandomForestClassifier-с-выборкой-*_down-3.4\"><span class=\"toc-item-num\">3.4&nbsp;&nbsp;</span>RandomForestClassifier с выборкой *_down</a></span></li><li><span><a href=\"#Вывод:\" data-toc-modified-id=\"Вывод:-3.5\"><span class=\"toc-item-num\">3.5&nbsp;&nbsp;</span>Вывод:</a></span></li></ul></li><li><span><a href=\"#Тестирование-модели\" data-toc-modified-id=\"Тестирование-модели-4\"><span class=\"toc-item-num\">4&nbsp;&nbsp;</span>Тестирование модели</a></span></li><li><span><a href=\"#Выводы:\" data-toc-modified-id=\"Выводы:-5\"><span class=\"toc-item-num\">5&nbsp;&nbsp;</span>Выводы:</a></span></li><li><span><a href=\"#Чек-лист-готовности-проекта\" data-toc-modified-id=\"Чек-лист-готовности-проекта-6\"><span class=\"toc-item-num\">6&nbsp;&nbsp;</span>Чек-лист готовности проекта</a></span></li></ul></div>"
   ]
  },
  {
   "cell_type": "markdown",
   "metadata": {},
   "source": [
    "# Отток клиентов"
   ]
  },
  {
   "cell_type": "markdown",
   "metadata": {},
   "source": [
    "Из «Бета-Банка» стали уходить клиенты. Каждый месяц. Немного, но заметно. Банковские маркетологи посчитали: сохранять текущих клиентов дешевле, чем привлекать новых.\n",
    "\n",
    "Нужно спрогнозировать, уйдёт клиент из банка в ближайшее время или нет. Вам предоставлены исторические данные о поведении клиентов и расторжении договоров с банком. \n",
    "\n",
    "Постройте модель с предельно большим значением *F1*-меры. Чтобы сдать проект успешно, нужно довести метрику до 0.59. Проверьте *F1*-меру на тестовой выборке самостоятельно.\n",
    "\n",
    "Дополнительно измеряйте *AUC-ROC*, сравнивайте её значение с *F1*-мерой.\n",
    "\n",
    "Источник данных: [https://www.kaggle.com/barelydedicated/bank-customer-churn-modeling](https://www.kaggle.com/barelydedicated/bank-customer-churn-modeling)"
   ]
  },
  {
   "cell_type": "markdown",
   "metadata": {},
   "source": [
    "## Подготовка данных"
   ]
  },
  {
   "cell_type": "code",
   "execution_count": 1,
   "metadata": {
    "collapsed": true
   },
   "outputs": [],
   "source": [
    "# Импортируем библиотеки, которыми будем пользоваться в процессе работы\n",
    "\n",
    "import pandas as pd\n",
    "import numpy as np\n",
    "import matplotlib.pyplot as plt\n",
    "from sklearn.model_selection import train_test_split\n",
    "from sklearn.preprocessing import StandardScaler\n",
    "from sklearn.utils import shuffle\n",
    "from sklearn.ensemble import RandomForestClassifier\n",
    "from sklearn.linear_model import LogisticRegression\n",
    "from sklearn.metrics import f1_score\n",
    "from sklearn.metrics import roc_auc_score\n",
    "from sklearn.metrics import roc_curve\n",
    "from sklearn.metrics import precision_recall_curve\n",
    "from tqdm import tqdm\n",
    "\n",
    "# также определим функции, которые планируем использовать\n",
    "\n",
    "# функция приводит верблюжий регистр к змеиному\n",
    "def camel_to_snake(stroka, sept='_'):\n",
    "  r = stroka[0].lower()\n",
    "  for i in range(1, len(stroka)):\n",
    "    if stroka[i].isupper() and stroka[i-1] != '_':\n",
    "      r += sept\n",
    "    r+=stroka[i]\n",
    "  return r.lower()\n",
    "\n",
    "# функция увеличивающая выборку для положительных классов\n",
    "\n",
    "def upsample(features, target, repeat):\n",
    "  features_zeros = features[target == 0]\n",
    "  features_ones = features[target == 1]\n",
    "  target_zeros = target[target == 0]\n",
    "  target_ones = target[target == 1]\n",
    "\n",
    "  features_upsampled = pd.concat([features_zeros] + [features_ones] * repeat)\n",
    "  target_upsampled = pd.concat([target_zeros] + [target_ones] * repeat)\n",
    "  \n",
    "  features_upsampled, target_upsampled = shuffle(\n",
    "      features_upsampled, target_upsampled, random_state=12345)\n",
    "  \n",
    "  return features_upsampled, target_upsampled\n",
    "\n",
    "# функция уменьшающая выборку для отрицательных классов\n",
    "\n",
    "def downsample(features, target, fraction):\n",
    "    features_zeros = features[target == 0]\n",
    "    features_ones = features[target == 1]\n",
    "    target_zeros = target[target == 0]\n",
    "    target_ones = target[target == 1]\n",
    "\n",
    "    features_downsampled = pd.concat(\n",
    "        [features_zeros.sample(frac=fraction, random_state=12345)] + [features_ones])\n",
    "    target_downsampled = pd.concat(\n",
    "        [target_zeros.sample(frac=fraction, random_state=12345)] + [target_ones])\n",
    "    \n",
    "    features_downsampled, target_downsampled = shuffle(\n",
    "        features_downsampled, target_downsampled, random_state=12345)\n",
    "    \n",
    "    return features_downsampled, target_downsampled"
   ]
  },
  {
   "cell_type": "markdown",
   "metadata": {},
   "source": [
    "### Анализ данных"
   ]
  },
  {
   "cell_type": "markdown",
   "metadata": {},
   "source": [
    "<div style=\"color: white; border:solid green 2px; padding: 20px; background: LightSeaGreen\"><big>\n",
    "<big>Загрузим данные и взглянем на таблицу:"
   ]
  },
  {
   "cell_type": "code",
   "execution_count": 2,
   "metadata": {},
   "outputs": [
    {
     "data": {
      "text/html": [
       "<div>\n",
       "<style scoped>\n",
       "    .dataframe tbody tr th:only-of-type {\n",
       "        vertical-align: middle;\n",
       "    }\n",
       "\n",
       "    .dataframe tbody tr th {\n",
       "        vertical-align: top;\n",
       "    }\n",
       "\n",
       "    .dataframe thead th {\n",
       "        text-align: right;\n",
       "    }\n",
       "</style>\n",
       "<table border=\"1\" class=\"dataframe\">\n",
       "  <thead>\n",
       "    <tr style=\"text-align: right;\">\n",
       "      <th></th>\n",
       "      <th>RowNumber</th>\n",
       "      <th>CustomerId</th>\n",
       "      <th>Surname</th>\n",
       "      <th>CreditScore</th>\n",
       "      <th>Geography</th>\n",
       "      <th>Gender</th>\n",
       "      <th>Age</th>\n",
       "      <th>Tenure</th>\n",
       "      <th>Balance</th>\n",
       "      <th>NumOfProducts</th>\n",
       "      <th>HasCrCard</th>\n",
       "      <th>IsActiveMember</th>\n",
       "      <th>EstimatedSalary</th>\n",
       "      <th>Exited</th>\n",
       "    </tr>\n",
       "  </thead>\n",
       "  <tbody>\n",
       "    <tr>\n",
       "      <td>0</td>\n",
       "      <td>1</td>\n",
       "      <td>15634602</td>\n",
       "      <td>Hargrave</td>\n",
       "      <td>619</td>\n",
       "      <td>France</td>\n",
       "      <td>Female</td>\n",
       "      <td>42</td>\n",
       "      <td>2.0</td>\n",
       "      <td>0.00</td>\n",
       "      <td>1</td>\n",
       "      <td>1</td>\n",
       "      <td>1</td>\n",
       "      <td>101348.88</td>\n",
       "      <td>1</td>\n",
       "    </tr>\n",
       "    <tr>\n",
       "      <td>1</td>\n",
       "      <td>2</td>\n",
       "      <td>15647311</td>\n",
       "      <td>Hill</td>\n",
       "      <td>608</td>\n",
       "      <td>Spain</td>\n",
       "      <td>Female</td>\n",
       "      <td>41</td>\n",
       "      <td>1.0</td>\n",
       "      <td>83807.86</td>\n",
       "      <td>1</td>\n",
       "      <td>0</td>\n",
       "      <td>1</td>\n",
       "      <td>112542.58</td>\n",
       "      <td>0</td>\n",
       "    </tr>\n",
       "    <tr>\n",
       "      <td>2</td>\n",
       "      <td>3</td>\n",
       "      <td>15619304</td>\n",
       "      <td>Onio</td>\n",
       "      <td>502</td>\n",
       "      <td>France</td>\n",
       "      <td>Female</td>\n",
       "      <td>42</td>\n",
       "      <td>8.0</td>\n",
       "      <td>159660.80</td>\n",
       "      <td>3</td>\n",
       "      <td>1</td>\n",
       "      <td>0</td>\n",
       "      <td>113931.57</td>\n",
       "      <td>1</td>\n",
       "    </tr>\n",
       "    <tr>\n",
       "      <td>3</td>\n",
       "      <td>4</td>\n",
       "      <td>15701354</td>\n",
       "      <td>Boni</td>\n",
       "      <td>699</td>\n",
       "      <td>France</td>\n",
       "      <td>Female</td>\n",
       "      <td>39</td>\n",
       "      <td>1.0</td>\n",
       "      <td>0.00</td>\n",
       "      <td>2</td>\n",
       "      <td>0</td>\n",
       "      <td>0</td>\n",
       "      <td>93826.63</td>\n",
       "      <td>0</td>\n",
       "    </tr>\n",
       "    <tr>\n",
       "      <td>4</td>\n",
       "      <td>5</td>\n",
       "      <td>15737888</td>\n",
       "      <td>Mitchell</td>\n",
       "      <td>850</td>\n",
       "      <td>Spain</td>\n",
       "      <td>Female</td>\n",
       "      <td>43</td>\n",
       "      <td>2.0</td>\n",
       "      <td>125510.82</td>\n",
       "      <td>1</td>\n",
       "      <td>1</td>\n",
       "      <td>1</td>\n",
       "      <td>79084.10</td>\n",
       "      <td>0</td>\n",
       "    </tr>\n",
       "    <tr>\n",
       "      <td>5</td>\n",
       "      <td>6</td>\n",
       "      <td>15574012</td>\n",
       "      <td>Chu</td>\n",
       "      <td>645</td>\n",
       "      <td>Spain</td>\n",
       "      <td>Male</td>\n",
       "      <td>44</td>\n",
       "      <td>8.0</td>\n",
       "      <td>113755.78</td>\n",
       "      <td>2</td>\n",
       "      <td>1</td>\n",
       "      <td>0</td>\n",
       "      <td>149756.71</td>\n",
       "      <td>1</td>\n",
       "    </tr>\n",
       "    <tr>\n",
       "      <td>6</td>\n",
       "      <td>7</td>\n",
       "      <td>15592531</td>\n",
       "      <td>Bartlett</td>\n",
       "      <td>822</td>\n",
       "      <td>France</td>\n",
       "      <td>Male</td>\n",
       "      <td>50</td>\n",
       "      <td>7.0</td>\n",
       "      <td>0.00</td>\n",
       "      <td>2</td>\n",
       "      <td>1</td>\n",
       "      <td>1</td>\n",
       "      <td>10062.80</td>\n",
       "      <td>0</td>\n",
       "    </tr>\n",
       "    <tr>\n",
       "      <td>7</td>\n",
       "      <td>8</td>\n",
       "      <td>15656148</td>\n",
       "      <td>Obinna</td>\n",
       "      <td>376</td>\n",
       "      <td>Germany</td>\n",
       "      <td>Female</td>\n",
       "      <td>29</td>\n",
       "      <td>4.0</td>\n",
       "      <td>115046.74</td>\n",
       "      <td>4</td>\n",
       "      <td>1</td>\n",
       "      <td>0</td>\n",
       "      <td>119346.88</td>\n",
       "      <td>1</td>\n",
       "    </tr>\n",
       "    <tr>\n",
       "      <td>8</td>\n",
       "      <td>9</td>\n",
       "      <td>15792365</td>\n",
       "      <td>He</td>\n",
       "      <td>501</td>\n",
       "      <td>France</td>\n",
       "      <td>Male</td>\n",
       "      <td>44</td>\n",
       "      <td>4.0</td>\n",
       "      <td>142051.07</td>\n",
       "      <td>2</td>\n",
       "      <td>0</td>\n",
       "      <td>1</td>\n",
       "      <td>74940.50</td>\n",
       "      <td>0</td>\n",
       "    </tr>\n",
       "    <tr>\n",
       "      <td>9</td>\n",
       "      <td>10</td>\n",
       "      <td>15592389</td>\n",
       "      <td>H?</td>\n",
       "      <td>684</td>\n",
       "      <td>France</td>\n",
       "      <td>Male</td>\n",
       "      <td>27</td>\n",
       "      <td>2.0</td>\n",
       "      <td>134603.88</td>\n",
       "      <td>1</td>\n",
       "      <td>1</td>\n",
       "      <td>1</td>\n",
       "      <td>71725.73</td>\n",
       "      <td>0</td>\n",
       "    </tr>\n",
       "  </tbody>\n",
       "</table>\n",
       "</div>"
      ],
      "text/plain": [
       "   RowNumber  CustomerId   Surname  CreditScore Geography  Gender  Age  \\\n",
       "0          1    15634602  Hargrave          619    France  Female   42   \n",
       "1          2    15647311      Hill          608     Spain  Female   41   \n",
       "2          3    15619304      Onio          502    France  Female   42   \n",
       "3          4    15701354      Boni          699    France  Female   39   \n",
       "4          5    15737888  Mitchell          850     Spain  Female   43   \n",
       "5          6    15574012       Chu          645     Spain    Male   44   \n",
       "6          7    15592531  Bartlett          822    France    Male   50   \n",
       "7          8    15656148    Obinna          376   Germany  Female   29   \n",
       "8          9    15792365        He          501    France    Male   44   \n",
       "9         10    15592389        H?          684    France    Male   27   \n",
       "\n",
       "   Tenure    Balance  NumOfProducts  HasCrCard  IsActiveMember  \\\n",
       "0     2.0       0.00              1          1               1   \n",
       "1     1.0   83807.86              1          0               1   \n",
       "2     8.0  159660.80              3          1               0   \n",
       "3     1.0       0.00              2          0               0   \n",
       "4     2.0  125510.82              1          1               1   \n",
       "5     8.0  113755.78              2          1               0   \n",
       "6     7.0       0.00              2          1               1   \n",
       "7     4.0  115046.74              4          1               0   \n",
       "8     4.0  142051.07              2          0               1   \n",
       "9     2.0  134603.88              1          1               1   \n",
       "\n",
       "   EstimatedSalary  Exited  \n",
       "0        101348.88       1  \n",
       "1        112542.58       0  \n",
       "2        113931.57       1  \n",
       "3         93826.63       0  \n",
       "4         79084.10       0  \n",
       "5        149756.71       1  \n",
       "6         10062.80       0  \n",
       "7        119346.88       1  \n",
       "8         74940.50       0  \n",
       "9         71725.73       0  "
      ]
     },
     "execution_count": 2,
     "metadata": {},
     "output_type": "execute_result"
    }
   ],
   "source": [
    "df = pd.read_csv('Churn.csv')\n",
    "pd.options.mode.chained_assignment = None\n",
    "df.head(10)"
   ]
  },
  {
   "cell_type": "markdown",
   "metadata": {},
   "source": [
    "<div style=\"color: white; border:solid green 2px; padding: 20px; background: LightSeaGreen\"><big>\n",
    "<big>Датафрейм:\n",
    "<li>Названия признаков в верблюжем регистре, сменим на змеиный\n",
    "<li>Столбец RowNumber дублирует df.index и не несет в себе уникальной информации, дропнем его\n",
    "<li>Остальные столбцы при первом взгляде корректны."
   ]
  },
  {
   "cell_type": "code",
   "execution_count": 3,
   "metadata": {
    "collapsed": true
   },
   "outputs": [],
   "source": [
    "df.columns = [camel_to_snake(x) for x in df.columns]\n",
    "df = df.drop('row_number', axis=1)"
   ]
  },
  {
   "cell_type": "markdown",
   "metadata": {},
   "source": [
    "<div style=\"color: white; border:solid green 2px; padding: 20px; background: LightSeaGreen\"><big>\n",
    "<big>\n",
    "Посмотрим типы данных признаков и количество пропусков в них"
   ]
  },
  {
   "cell_type": "code",
   "execution_count": 4,
   "metadata": {},
   "outputs": [
    {
     "name": "stdout",
     "output_type": "stream",
     "text": [
      "<class 'pandas.core.frame.DataFrame'>\n",
      "RangeIndex: 10000 entries, 0 to 9999\n",
      "Data columns (total 13 columns):\n",
      "customer_id         10000 non-null int64\n",
      "surname             10000 non-null object\n",
      "credit_score        10000 non-null int64\n",
      "geography           10000 non-null object\n",
      "gender              10000 non-null object\n",
      "age                 10000 non-null int64\n",
      "tenure              9091 non-null float64\n",
      "balance             10000 non-null float64\n",
      "num_of_products     10000 non-null int64\n",
      "has_cr_card         10000 non-null int64\n",
      "is_active_member    10000 non-null int64\n",
      "estimated_salary    10000 non-null float64\n",
      "exited              10000 non-null int64\n",
      "dtypes: float64(3), int64(7), object(3)\n",
      "memory usage: 1015.8+ KB\n"
     ]
    }
   ],
   "source": [
    "df.info()"
   ]
  },
  {
   "cell_type": "markdown",
   "metadata": {},
   "source": [
    "<div style=\"color: white; border:solid green 2px; padding: 20px; background: LightSeaGreen\"><big>\n",
    "<big>\n",
    "Признак tenure имеет около 10% пропусков и в связи с этим тип данных float64. В остальных признаках пропусков нет."
   ]
  },
  {
   "cell_type": "markdown",
   "metadata": {},
   "source": [
    "<div style=\"color: white; border:solid green 2px; padding: 20px; background: LightSeaGreen\"><big>\n",
    "<big>\n",
    "Посмотрим распределение значений по таблице"
   ]
  },
  {
   "cell_type": "code",
   "execution_count": 5,
   "metadata": {},
   "outputs": [
    {
     "data": {
      "text/html": [
       "<div>\n",
       "<style scoped>\n",
       "    .dataframe tbody tr th:only-of-type {\n",
       "        vertical-align: middle;\n",
       "    }\n",
       "\n",
       "    .dataframe tbody tr th {\n",
       "        vertical-align: top;\n",
       "    }\n",
       "\n",
       "    .dataframe thead th {\n",
       "        text-align: right;\n",
       "    }\n",
       "</style>\n",
       "<table border=\"1\" class=\"dataframe\">\n",
       "  <thead>\n",
       "    <tr style=\"text-align: right;\">\n",
       "      <th></th>\n",
       "      <th>customer_id</th>\n",
       "      <th>credit_score</th>\n",
       "      <th>age</th>\n",
       "      <th>tenure</th>\n",
       "      <th>balance</th>\n",
       "      <th>num_of_products</th>\n",
       "      <th>has_cr_card</th>\n",
       "      <th>is_active_member</th>\n",
       "      <th>estimated_salary</th>\n",
       "      <th>exited</th>\n",
       "    </tr>\n",
       "  </thead>\n",
       "  <tbody>\n",
       "    <tr>\n",
       "      <td>count</td>\n",
       "      <td>1.000000e+04</td>\n",
       "      <td>10000.000000</td>\n",
       "      <td>10000.000000</td>\n",
       "      <td>9091.000000</td>\n",
       "      <td>10000.000000</td>\n",
       "      <td>10000.000000</td>\n",
       "      <td>10000.00000</td>\n",
       "      <td>10000.000000</td>\n",
       "      <td>10000.000000</td>\n",
       "      <td>10000.000000</td>\n",
       "    </tr>\n",
       "    <tr>\n",
       "      <td>mean</td>\n",
       "      <td>1.569094e+07</td>\n",
       "      <td>650.528800</td>\n",
       "      <td>38.921800</td>\n",
       "      <td>4.997690</td>\n",
       "      <td>76485.889288</td>\n",
       "      <td>1.530200</td>\n",
       "      <td>0.70550</td>\n",
       "      <td>0.515100</td>\n",
       "      <td>100090.239881</td>\n",
       "      <td>0.203700</td>\n",
       "    </tr>\n",
       "    <tr>\n",
       "      <td>std</td>\n",
       "      <td>7.193619e+04</td>\n",
       "      <td>96.653299</td>\n",
       "      <td>10.487806</td>\n",
       "      <td>2.894723</td>\n",
       "      <td>62397.405202</td>\n",
       "      <td>0.581654</td>\n",
       "      <td>0.45584</td>\n",
       "      <td>0.499797</td>\n",
       "      <td>57510.492818</td>\n",
       "      <td>0.402769</td>\n",
       "    </tr>\n",
       "    <tr>\n",
       "      <td>min</td>\n",
       "      <td>1.556570e+07</td>\n",
       "      <td>350.000000</td>\n",
       "      <td>18.000000</td>\n",
       "      <td>0.000000</td>\n",
       "      <td>0.000000</td>\n",
       "      <td>1.000000</td>\n",
       "      <td>0.00000</td>\n",
       "      <td>0.000000</td>\n",
       "      <td>11.580000</td>\n",
       "      <td>0.000000</td>\n",
       "    </tr>\n",
       "    <tr>\n",
       "      <td>25%</td>\n",
       "      <td>1.562853e+07</td>\n",
       "      <td>584.000000</td>\n",
       "      <td>32.000000</td>\n",
       "      <td>2.000000</td>\n",
       "      <td>0.000000</td>\n",
       "      <td>1.000000</td>\n",
       "      <td>0.00000</td>\n",
       "      <td>0.000000</td>\n",
       "      <td>51002.110000</td>\n",
       "      <td>0.000000</td>\n",
       "    </tr>\n",
       "    <tr>\n",
       "      <td>50%</td>\n",
       "      <td>1.569074e+07</td>\n",
       "      <td>652.000000</td>\n",
       "      <td>37.000000</td>\n",
       "      <td>5.000000</td>\n",
       "      <td>97198.540000</td>\n",
       "      <td>1.000000</td>\n",
       "      <td>1.00000</td>\n",
       "      <td>1.000000</td>\n",
       "      <td>100193.915000</td>\n",
       "      <td>0.000000</td>\n",
       "    </tr>\n",
       "    <tr>\n",
       "      <td>75%</td>\n",
       "      <td>1.575323e+07</td>\n",
       "      <td>718.000000</td>\n",
       "      <td>44.000000</td>\n",
       "      <td>7.000000</td>\n",
       "      <td>127644.240000</td>\n",
       "      <td>2.000000</td>\n",
       "      <td>1.00000</td>\n",
       "      <td>1.000000</td>\n",
       "      <td>149388.247500</td>\n",
       "      <td>0.000000</td>\n",
       "    </tr>\n",
       "    <tr>\n",
       "      <td>max</td>\n",
       "      <td>1.581569e+07</td>\n",
       "      <td>850.000000</td>\n",
       "      <td>92.000000</td>\n",
       "      <td>10.000000</td>\n",
       "      <td>250898.090000</td>\n",
       "      <td>4.000000</td>\n",
       "      <td>1.00000</td>\n",
       "      <td>1.000000</td>\n",
       "      <td>199992.480000</td>\n",
       "      <td>1.000000</td>\n",
       "    </tr>\n",
       "  </tbody>\n",
       "</table>\n",
       "</div>"
      ],
      "text/plain": [
       "        customer_id  credit_score           age       tenure        balance  \\\n",
       "count  1.000000e+04  10000.000000  10000.000000  9091.000000   10000.000000   \n",
       "mean   1.569094e+07    650.528800     38.921800     4.997690   76485.889288   \n",
       "std    7.193619e+04     96.653299     10.487806     2.894723   62397.405202   \n",
       "min    1.556570e+07    350.000000     18.000000     0.000000       0.000000   \n",
       "25%    1.562853e+07    584.000000     32.000000     2.000000       0.000000   \n",
       "50%    1.569074e+07    652.000000     37.000000     5.000000   97198.540000   \n",
       "75%    1.575323e+07    718.000000     44.000000     7.000000  127644.240000   \n",
       "max    1.581569e+07    850.000000     92.000000    10.000000  250898.090000   \n",
       "\n",
       "       num_of_products  has_cr_card  is_active_member  estimated_salary  \\\n",
       "count     10000.000000  10000.00000      10000.000000      10000.000000   \n",
       "mean          1.530200      0.70550          0.515100     100090.239881   \n",
       "std           0.581654      0.45584          0.499797      57510.492818   \n",
       "min           1.000000      0.00000          0.000000         11.580000   \n",
       "25%           1.000000      0.00000          0.000000      51002.110000   \n",
       "50%           1.000000      1.00000          1.000000     100193.915000   \n",
       "75%           2.000000      1.00000          1.000000     149388.247500   \n",
       "max           4.000000      1.00000          1.000000     199992.480000   \n",
       "\n",
       "             exited  \n",
       "count  10000.000000  \n",
       "mean       0.203700  \n",
       "std        0.402769  \n",
       "min        0.000000  \n",
       "25%        0.000000  \n",
       "50%        0.000000  \n",
       "75%        0.000000  \n",
       "max        1.000000  "
      ]
     },
     "execution_count": 5,
     "metadata": {},
     "output_type": "execute_result"
    }
   ],
   "source": [
    "df.describe()"
   ]
  },
  {
   "cell_type": "markdown",
   "metadata": {},
   "source": [
    "<div style=\"color: white; border:solid green 2px; padding: 20px; background: LightSeaGreen\"><big>\n",
    "<big>\n",
    "<li> Признак custorer_id вероятно не несет в себе полезной информции, его можно проигнорировать.\n",
    "<li> Остальные признаки содержат корректные значения, вбросов не отмечается.    \n",
    "    <p> Проверим данные на явные дубликаты"
   ]
  },
  {
   "cell_type": "code",
   "execution_count": 6,
   "metadata": {},
   "outputs": [
    {
     "data": {
      "text/plain": [
       "0"
      ]
     },
     "execution_count": 6,
     "metadata": {},
     "output_type": "execute_result"
    }
   ],
   "source": [
    "df.duplicated().sum()"
   ]
  },
  {
   "cell_type": "markdown",
   "metadata": {},
   "source": [
    "<div style=\"color: white; border:solid green 2px; padding: 20px; background: LightSeaGreen\"><big>\n",
    "<big> Явных дубликатов нет"
   ]
  },
  {
   "cell_type": "code",
   "execution_count": 7,
   "metadata": {},
   "outputs": [
    {
     "data": {
      "text/plain": [
       "10000"
      ]
     },
     "execution_count": 7,
     "metadata": {},
     "output_type": "execute_result"
    }
   ],
   "source": [
    "df.customer_id.nunique()"
   ]
  },
  {
   "cell_type": "markdown",
   "metadata": {},
   "source": [
    "<div style=\"color: white; border:solid green 2px; padding: 20px; background: LightSeaGreen\"><big>\n",
    "<big>\n",
    "Уникальные номера клиентов - все уникальны"
   ]
  },
  {
   "cell_type": "code",
   "execution_count": 8,
   "metadata": {},
   "outputs": [
    {
     "name": "stdout",
     "output_type": "stream",
     "text": [
      "2932\n"
     ]
    },
    {
     "data": {
      "text/plain": [
       "Smith     32\n",
       "Scott     29\n",
       "Martin    29\n",
       "Walker    28\n",
       "Brown     26\n",
       "Name: surname, dtype: int64"
      ]
     },
     "execution_count": 8,
     "metadata": {},
     "output_type": "execute_result"
    }
   ],
   "source": [
    "print(df.surname.nunique())\n",
    "df.surname.value_counts().head()"
   ]
  },
  {
   "cell_type": "markdown",
   "metadata": {},
   "source": [
    "<div style=\"color: white; border:solid green 2px; padding: 20px; background: LightSeaGreen\">\n",
    "<big>Среди 10000 клиентов банка встречаются около 3000 разных имён, самые распроcтраненные имена - Smith, Martin, Scott, Walker ...\n",
    "Никакой особенности в именах на первый взгляд нет, проигнорируем этот признак при обучении модели."
   ]
  },
  {
   "cell_type": "code",
   "execution_count": 9,
   "metadata": {},
   "outputs": [
    {
     "data": {
      "text/plain": [
       "<matplotlib.axes._subplots.AxesSubplot at 0x7f1cb9c07dd8>"
      ]
     },
     "execution_count": 9,
     "metadata": {},
     "output_type": "execute_result"
    },
    {
     "data": {
      "image/png": "[encoded data removed]",
      "text/plain": [
       "<matplotlib.figure.Figure at 0x7f1cb9c076d8>"
      ]
     },
     "metadata": {
      "needs_background": "light"
     },
     "output_type": "display_data"
    }
   ],
   "source": [
    "df.credit_score.sort_values().hist(grid=False, rwidth=.8, color='green')"
   ]
  },
  {
   "cell_type": "markdown",
   "metadata": {},
   "source": [
    "<div style=\"color: white; border:solid green 2px; padding: 20px; background: LightSeaGreen\"><big>\n",
    "<big>\n",
    "Признак credit_score распределен нормально среди клиентов."
   ]
  },
  {
   "cell_type": "code",
   "execution_count": 10,
   "metadata": {},
   "outputs": [
    {
     "data": {
      "text/plain": [
       "array(['France', 'Spain', 'Germany'], dtype=object)"
      ]
     },
     "metadata": {},
     "output_type": "display_data"
    },
    {
     "data": {
      "text/plain": [
       "France     5014\n",
       "Germany    2509\n",
       "Spain      2477\n",
       "Name: geography, dtype: int64"
      ]
     },
     "execution_count": 10,
     "metadata": {},
     "output_type": "execute_result"
    }
   ],
   "source": [
    "display(df.geography.unique())\n",
    "df.geography.value_counts()"
   ]
  },
  {
   "cell_type": "markdown",
   "metadata": {},
   "source": [
    "<div style=\"color: white; border:solid green 2px; padding: 20px; background: LightSeaGreen\"><big>\n",
    "<big>\n",
    "Все клиенты банка граждане 3х стран. 50% всех клиентов банка - французы. Немцы и испанци распределились равномерно по 25%. Используем прямое кодирование (OHE) для испльзования этого признака в обучающей моделе (вместе с другими категориальными признаками)."
   ]
  },
  {
   "cell_type": "code",
   "execution_count": 11,
   "metadata": {},
   "outputs": [
    {
     "data": {
      "text/plain": [
       "array(['Female', 'Male'], dtype=object)"
      ]
     },
     "metadata": {},
     "output_type": "display_data"
    },
    {
     "data": {
      "text/plain": [
       "Male      5457\n",
       "Female    4543\n",
       "Name: gender, dtype: int64"
      ]
     },
     "execution_count": 11,
     "metadata": {},
     "output_type": "execute_result"
    }
   ],
   "source": [
    "display(df.gender.unique())\n",
    "df.gender.value_counts()"
   ]
  },
  {
   "cell_type": "markdown",
   "metadata": {},
   "source": [
    "<div style=\"color: white; border:solid green 2px; padding: 20px; background: LightSeaGreen\"><big>\n",
    "<big>\n",
    "По полу клиенты распределились приблизительно одинаково. Мужиков чуть больше. Используем прямое кодирование (OHE) для испльзования этого признака в обучающей моделе (вместе с другими категориальными признаками)."
   ]
  },
  {
   "cell_type": "code",
   "execution_count": 12,
   "metadata": {},
   "outputs": [
    {
     "data": {
      "text/plain": [
       "<matplotlib.axes._subplots.AxesSubplot at 0x7f1cb3497cc0>"
      ]
     },
     "execution_count": 12,
     "metadata": {},
     "output_type": "execute_result"
    },
    {
     "data": {
      "image/png": "[encoded data removed]",
      "text/plain": [
       "<matplotlib.figure.Figure at 0x7f1cb3514c18>"
      ]
     },
     "metadata": {
      "needs_background": "light"
     },
     "output_type": "display_data"
    }
   ],
   "source": [
    "df.age.hist(grid=False, rwidth=.8, color='green')"
   ]
  },
  {
   "cell_type": "markdown",
   "metadata": {},
   "source": [
    "<div style=\"color: white; border:solid green 2px; padding: 20px; background: LightSeaGreen\"><big>\n",
    "<big>\n",
    "По возрасту клиенты распределились со смещением вправо, что логично."
   ]
  },
  {
   "cell_type": "code",
   "execution_count": 13,
   "metadata": {},
   "outputs": [
    {
     "data": {
      "text/plain": [
       "<matplotlib.axes._subplots.AxesSubplot at 0x7f1cb3414f98>"
      ]
     },
     "execution_count": 13,
     "metadata": {},
     "output_type": "execute_result"
    },
    {
     "data": {
      "image/png": "[encoded data removed]",
      "text/plain": [
       "<matplotlib.figure.Figure at 0x7f1cb34b6320>"
      ]
     },
     "metadata": {
      "needs_background": "light"
     },
     "output_type": "display_data"
    }
   ],
   "source": [
    "df.tenure.hist(grid=False, rwidth=.8, color='green')"
   ]
  },
  {
   "cell_type": "markdown",
   "metadata": {},
   "source": [
    "<div style=\"color: white; border:solid green 2px; padding: 20px; background: LightSeaGreen\"><big>\n",
    "<big>\n",
    "По гистограмме tenure отмечается особенность: клиенты не имеют нормального распределения от 1 до 10 лет, распределение смещено влево. Причем выделяются 3 группы клиентов: клиенты первого года, их мало, клиенты 2-9 года (их среднее количество в каждом году) и клиенты 10 года (их больше всего). <p> График может говорить о том, что максимальный риск потерять клиента возникает на первом году обслуживания, а минимальный на последнем. <p> Т.о. можно разделить всех клиентов на 3 группы: клиенты 1 года, клиенты 2-9 года и клиенты 10 года. Перед этим заполним пропуски медианным значением.\n",
    "    <p> создадим 2 датасета и пройдем двумя путями: \n",
    "        <li> датасет с заполненными пропусками - df1\n",
    "        <li> датасет с замененными пропусками на медиану и разбивкой столбца на 3 категории - df2"
   ]
  },
  {
   "cell_type": "code",
   "execution_count": 14,
   "metadata": {},
   "outputs": [
    {
     "name": "stdout",
     "output_type": "stream",
     "text": [
      "<class 'pandas.core.frame.DataFrame'>\n",
      "RangeIndex: 10000 entries, 0 to 9999\n",
      "Data columns (total 13 columns):\n",
      "customer_id         10000 non-null int64\n",
      "surname             10000 non-null object\n",
      "credit_score        10000 non-null int64\n",
      "geography           10000 non-null object\n",
      "gender              10000 non-null object\n",
      "age                 10000 non-null int64\n",
      "tenure              10000 non-null float64\n",
      "balance             10000 non-null float64\n",
      "num_of_products     10000 non-null int64\n",
      "has_cr_card         10000 non-null int64\n",
      "is_active_member    10000 non-null int64\n",
      "estimated_salary    10000 non-null float64\n",
      "exited              10000 non-null int64\n",
      "dtypes: float64(3), int64(7), object(3)\n",
      "memory usage: 1015.8+ KB\n"
     ]
    }
   ],
   "source": [
    "# первый датасет, заменим пропуски рандомным значением от 0 до 10\n",
    "df1 = df\n",
    "df1.tenure = df1.tenure.fillna(np.random.randint(0, 10))\n",
    "df1.info()"
   ]
  },
  {
   "cell_type": "code",
   "execution_count": 15,
   "metadata": {
    "collapsed": true
   },
   "outputs": [],
   "source": [
    "# второй датасет, заменим пропуски медианой и разделим все данные на 3 категориальные признаки\n",
    "# в последующем применим прямое кодирование для перевода категориальных признаков в числовые\n",
    "\n",
    "df2 = df\n",
    "df2.tenure = df2.tenure.fillna(5)       # mediana 1:10 = 5\n",
    "\n",
    "def tenure_group(x):\n",
    "    if x == 1:\n",
    "        return 'a'\n",
    "    if 1<x<10:\n",
    "        return 'b'\n",
    "    else:\n",
    "        return 'c'\n",
    "    \n",
    "df2['tenure_group'] = df2['tenure'].apply(tenure_group)"
   ]
  },
  {
   "cell_type": "markdown",
   "metadata": {},
   "source": [
    "<div style=\"color: white; border:solid green 2px; padding: 20px; background: LightSeaGreen\"><big>\n",
    "<big>\n",
    "Рассмотрим признак balance"
   ]
  },
  {
   "cell_type": "code",
   "execution_count": 16,
   "metadata": {},
   "outputs": [
    {
     "data": {
      "text/plain": [
       "<matplotlib.axes._subplots.AxesSubplot at 0x7f1cec328518>"
      ]
     },
     "execution_count": 16,
     "metadata": {},
     "output_type": "execute_result"
    },
    {
     "data": {
      "image/png": "[encoded data removed]",
      "text/plain": [
       "<matplotlib.figure.Figure at 0x7f1cb33b6128>"
      ]
     },
     "metadata": {
      "needs_background": "light"
     },
     "output_type": "display_data"
    }
   ],
   "source": [
    "df.balance.hist(grid=False, rwidth=.8, color='green')"
   ]
  },
  {
   "cell_type": "markdown",
   "metadata": {},
   "source": [
    "<div style=\"color: white; border:solid green 2px; padding: 20px; background: LightSeaGreen\"><big>\n",
    "<big>\n",
    "По балансам клиенты банка распределились на 2 большие группы: те у кого есть баланс на счете (и они распределены нормально по размеру баланса), и те у кого нет сбережений на счете банка.\n",
    "    <p> Следующая колонка num_of_products"
   ]
  },
  {
   "cell_type": "code",
   "execution_count": 17,
   "metadata": {},
   "outputs": [
    {
     "data": {
      "text/plain": [
       "<matplotlib.axes._subplots.AxesSubplot at 0x7f1cb33c0438>"
      ]
     },
     "execution_count": 17,
     "metadata": {},
     "output_type": "execute_result"
    },
    {
     "data": {
      "image/png": "[encoded data removed]",
      "text/plain": [
       "<matplotlib.figure.Figure at 0x7f1cb332a198>"
      ]
     },
     "metadata": {
      "needs_background": "light"
     },
     "output_type": "display_data"
    }
   ],
   "source": [
    "df.num_of_products.hist(grid=False, rwidth=.8, bins=4, color='green')"
   ]
  },
  {
   "cell_type": "markdown",
   "metadata": {},
   "source": [
    "<div style=\"color: white; border:solid green 2px; padding: 20px; background: LightSeaGreen\"><big>\n",
    "<big>\n",
    "Максимум клиентов использует лишь 1 продукт банка, далее по количеству используемых продуктов идут пользователи 2-мя продуктами, 3-мя и минимум клиентов используют 4 продукта банка."
   ]
  },
  {
   "cell_type": "code",
   "execution_count": 18,
   "metadata": {},
   "outputs": [
    {
     "data": {
      "text/plain": [
       "1    7055\n",
       "0    2945\n",
       "Name: has_cr_card, dtype: int64"
      ]
     },
     "execution_count": 18,
     "metadata": {},
     "output_type": "execute_result"
    }
   ],
   "source": [
    "df.has_cr_card.value_counts()"
   ]
  },
  {
   "cell_type": "markdown",
   "metadata": {},
   "source": [
    "<div style=\"color: white; border:solid green 2px; padding: 20px; background: LightSeaGreen\"><big>\n",
    "<big>\n",
    "У ~ 30% клиентов банка нет кредитной карты"
   ]
  },
  {
   "cell_type": "code",
   "execution_count": 19,
   "metadata": {},
   "outputs": [
    {
     "data": {
      "text/plain": [
       "<matplotlib.axes._subplots.AxesSubplot at 0x7f1cb32fa160>"
      ]
     },
     "execution_count": 19,
     "metadata": {},
     "output_type": "execute_result"
    },
    {
     "data": {
      "image/png": "[encoded data removed]",
      "text/plain": [
       "<matplotlib.figure.Figure at 0x7f1cb33b6208>"
      ]
     },
     "metadata": {
      "needs_background": "light"
     },
     "output_type": "display_data"
    }
   ],
   "source": [
    "df.is_active_member.hist(grid=False, rwidth=.8, bins=2, color='green')"
   ]
  },
  {
   "cell_type": "markdown",
   "metadata": {},
   "source": [
    "<div style=\"color: white; border:solid green 2px; padding: 20px; background: LightSeaGreen\"><big>\n",
    "<big>\n",
    "По активности клиенты распределились примерно одинаково"
   ]
  },
  {
   "cell_type": "code",
   "execution_count": 20,
   "metadata": {},
   "outputs": [
    {
     "data": {
      "text/plain": [
       "<matplotlib.axes._subplots.AxesSubplot at 0x7f1cb3262240>"
      ]
     },
     "execution_count": 20,
     "metadata": {},
     "output_type": "execute_result"
    },
    {
     "data": {
      "image/png": "[encoded data removed]",
      "text/plain": [
       "<matplotlib.figure.Figure at 0x7f1cb32a70b8>"
      ]
     },
     "metadata": {
      "needs_background": "light"
     },
     "output_type": "display_data"
    }
   ],
   "source": [
    "df.estimated_salary.hist(bins=20, rwidth=.8, grid=False, color='green')"
   ]
  },
  {
   "cell_type": "markdown",
   "metadata": {},
   "source": [
    "<div style=\"color: white; border:solid green 2px; padding: 20px; background: LightSeaGreen\"><big>\n",
    "<big>\n",
    "По уровню зарплат клиенты распределились равномерно. Скорее всего значения зарплат не сильно повлияет на качество модели. Возможно можно убрать этот признак"
   ]
  },
  {
   "cell_type": "code",
   "execution_count": 21,
   "metadata": {},
   "outputs": [
    {
     "data": {
      "text/plain": [
       "0    0.7963\n",
       "1    0.2037\n",
       "Name: exited, dtype: float64"
      ]
     },
     "execution_count": 21,
     "metadata": {},
     "output_type": "execute_result"
    }
   ],
   "source": [
    "df.exited.value_counts(normalize=True)"
   ]
  },
  {
   "cell_type": "markdown",
   "metadata": {},
   "source": [
    "<div style=\"color: white; border:solid green 2px; padding: 20px; background: LightSeaGreen\"><big>\n",
    "<big>\n",
    "<p>Exited - факт ухода клиента из банка - целевой признак. Отмечается диспаланс в сторону \"0\" в отношении ~ 1:4\n",
    "<p> Продолжим предобработку данных: разделим данные на обучающие и целевой признак. В обучающих признаках на первом этапе оставим следующие признаки: credit_score, geography, gender, age, tenure, balancs, num_of_products, has_cr_card, is_active_member, estimated_salary. Перед разделением на обучающие признаки и целевой признак, переведём категориальные данные в числа прямым кодированием -  OHE."
   ]
  },
  {
   "cell_type": "markdown",
   "metadata": {},
   "source": [
    "### Прямое кодирование данных"
   ]
  },
  {
   "cell_type": "code",
   "execution_count": 22,
   "metadata": {
    "collapsed": true
   },
   "outputs": [],
   "source": [
    "# df1 - датасет с \"неизмененным\" столбцом tenure\n",
    "df_dummies = pd.get_dummies(df1.drop(['surname', \n",
    "                                     'customer_id'], axis=1), drop_first=True)\n",
    "\n",
    "# опять приведем к змеиному регистру\n",
    "df_dummies.columns = [camel_to_snake(s) for s in df_dummies.columns]\n",
    "\n",
    "features1 = df_dummies.drop(['exited'], axis=1)\n",
    "target1 = df_dummies['exited']\n",
    "\n",
    "\n",
    "# df2 - датасет где tenure переведен в категориальные признаки\n",
    "df_dummies = pd.get_dummies(df2.drop(['surname', \n",
    "                                     'customer_id', \n",
    "                                     'tenure'], axis=1), drop_first=True)\n",
    "\n",
    "# опять приведем к змеиному регистру\n",
    "df_dummies.columns = [camel_to_snake(s) for s in df_dummies.columns]\n",
    "\n",
    "features2 = df_dummies.drop(['exited'], axis=1)\n",
    "target2 = df_dummies['exited']"
   ]
  },
  {
   "cell_type": "markdown",
   "metadata": {},
   "source": [
    "### Разделение датафрейма на выборки: тренировочную, валидационную и тестовую - 50/25/25"
   ]
  },
  {
   "cell_type": "markdown",
   "metadata": {},
   "source": [
    "<div style=\"color: white; border:solid green 2px; padding: 20px; background: LightSeaGreen\"><big>\n",
    "\n",
    "Разделим данные на тренировочную и валидационную выборки."
   ]
  },
  {
   "cell_type": "code",
   "execution_count": 23,
   "metadata": {},
   "outputs": [
    {
     "name": "stdout",
     "output_type": "stream",
     "text": [
      "featurest_train1 = 6000\n",
      "target_train1 =    6000\n",
      "featurest_valid1 = 2000\n",
      "target_valid1 =    2000\n",
      "featurest_test1 =  2000\n",
      "target_test1 =     2000\n",
      "\n",
      "featurest_train2 = 6000\n",
      "target_train2 =    6000\n",
      "featurest_valid2 = 2000\n",
      "target_valid2 =    2000\n",
      "featurest_test2 =  2000\n",
      "target_test2 =     2000\n"
     ]
    }
   ],
   "source": [
    "# разделим датасет на 3 выборки: тренировочная, валидационная и тестовая в отношении: 50:25:25\n",
    "features_train1, features_valid_and_test1, target_train1, target_valid_and_test1 = train_test_split(\n",
    "    features1, target1, test_size=0.4, random_state=12345)\n",
    "\n",
    "features_valid1, features_test1, target_valid1, target_test1 = train_test_split(\n",
    "    features_valid_and_test1, target_valid_and_test1, test_size=0.5, random_state=12345)\n",
    "\n",
    "features_train2, features_valid_and_test2, target_train2, target_valid_and_test2 = train_test_split(\n",
    "    features2, target2, test_size=0.4, random_state=12345)\n",
    "\n",
    "features_valid2, features_test2, target_valid2, target_test2 = train_test_split(\n",
    "    features_valid_and_test2, target_valid_and_test2, test_size=0.5, random_state=12345)\n",
    "\n",
    "# проверим размеры выборок\n",
    "print('featurest_train1 = {}'.format(len(features_train1)))\n",
    "print('target_train1 = {:>7}'.format(len(target_train1)))\n",
    "print('featurest_valid1 = {}'.format(len(features_valid1)))\n",
    "print('target_valid1 = {:>7}'.format(len(target_valid1)))\n",
    "print('featurest_test1 = {:>5}'.format(len(features_test1)))\n",
    "print('target_test1 = {:>8}'.format(len(target_test1)))\n",
    "print()\n",
    "print('featurest_train2 = {}'.format(len(features_train2)))\n",
    "print('target_train2 = {:>7}'.format(len(target_train2)))\n",
    "print('featurest_valid2 = {}'.format(len(features_valid2)))\n",
    "print('target_valid2 = {:>7}'.format(len(target_valid2)))\n",
    "print('featurest_test2 = {:>5}'.format(len(features_test2)))\n",
    "print('target_test2 = {:>8}'.format(len(target_test2)))"
   ]
  },
  {
   "cell_type": "markdown",
   "metadata": {},
   "source": [
    "<div style=\"color: white; border:solid green 2px; padding: 20px; background: LightSeaGreen\"><big>\n",
    "<big>\n",
    "Маштабируем следующие признаки:\n",
    "    <li> credit_score\n",
    "    <li> age\n",
    "    <li> balance\n",
    "    <li> num_of_products\n",
    "    <li> esimated_salary"
   ]
  },
  {
   "cell_type": "code",
   "execution_count": 24,
   "metadata": {
    "collapsed": true
   },
   "outputs": [],
   "source": [
    "scaler1 = StandardScaler()\n",
    "scaler2 = StandardScaler()\n",
    "\n",
    "numeric1 = ['credit_score', 'age', 'balance', 'num_of_products', 'estimated_salary', 'tenure']\n",
    "numeric2 = ['credit_score', 'age', 'balance', 'num_of_products', 'estimated_salary']\n",
    "\n",
    "scaler1.fit(features_train1[numeric1])\n",
    "scaler2.fit(features_train2[numeric2])\n",
    "\n",
    "features_train1[numeric1] = scaler1.transform(features_train1[numeric1])\n",
    "features_train2[numeric2] = scaler2.transform(features_train2[numeric2])\n",
    "\n",
    "features_valid1[numeric1] = scaler1.transform(features_valid1[numeric1])\n",
    "features_valid2[numeric2] = scaler2.transform(features_valid2[numeric2])\n",
    "\n",
    "features_test1[numeric1] = scaler1.transform(features_test1[numeric1])\n",
    "features_test2[numeric2] = scaler2.transform(features_test2[numeric2])"
   ]
  },
  {
   "cell_type": "markdown",
   "metadata": {},
   "source": [
    "### Вывод:\n",
    "<big>\n",
    "    <li>Датафрейм содержит как числовые, так и строковые данные. \n",
    "    <li>Пропуски были лишь в одном столбце - tenure. \n",
    "    <li>Явных дубликатов не выявлено.\n",
    "    <li>Вбросов не выявлено.\n",
    "    <li>Такие колонки как номера строк, идентификатор клиента, имя клиента не несут важной информации и нет смысла их использовать в обучении модели. \n",
    "    <li>Другие строковые значения мы изменили на числовые методом прямого кодирования (OHE), добавив новые колонки в таблицу. \n",
    "    <li>Перед этим я разбил все данные tenure на 3 категории, чтобы модель точнее учла эту особенность в распределении клиентов по годам пользования услугами банка. \n",
    "    <li>Таблица была разделена на обучающие признаки и целевой признак, в дальнейшем эти выборки были разделены на подвыборки: тренировочную, тестовую и валидационную.\n",
    "    <li>Получилась таблица с числовыми признаками, но они разные по маштабу - для этого они были маштабированы (а точнее те из них, которые не были бинарными). \n",
    "    <li>В качестве эксперимента я разбил столбец tenure на подвыборки, посмотрим что из этого выйдет."
   ]
  },
  {
   "cell_type": "markdown",
   "metadata": {},
   "source": [
    "## Исследование задачи"
   ]
  },
  {
   "cell_type": "markdown",
   "metadata": {},
   "source": [
    "### LogisticRegression"
   ]
  },
  {
   "cell_type": "markdown",
   "metadata": {},
   "source": [
    "<div style=\"color: white; border:solid green 2px; padding: 20px; background: LightSeaGreen\"><big>\n",
    "<big>\n",
    "Обучим на данных модель логистической регрессии. Оценим её работу метриками f1 и ROC_AUC"
   ]
  },
  {
   "cell_type": "code",
   "execution_count": 25,
   "metadata": {},
   "outputs": [
    {
     "name": "stdout",
     "output_type": "stream",
     "text": [
      "f1 =       0.34\n",
      "ROC_AUC =  0.60\n"
     ]
    }
   ],
   "source": [
    "# df1\n",
    "model_lr1 = LogisticRegression(random_state=12345, solver=\"liblinear\")\n",
    "\n",
    "model_lr1.fit(features_train1, target_train1)\n",
    "\n",
    "predict1 = model_lr1.predict(features_valid1)\n",
    "\n",
    "f1 = f1_score(target_valid1, predict1)\n",
    "\n",
    "roc_auc = roc_auc_score(target_valid1, predict1)\n",
    "\n",
    "# выведем результаты метрик на экран\n",
    "print('f1 = {:>10.2f}\\nROC_AUC = {:>5.2f}'.format(f1, roc_auc))"
   ]
  },
  {
   "cell_type": "code",
   "execution_count": 26,
   "metadata": {},
   "outputs": [
    {
     "name": "stdout",
     "output_type": "stream",
     "text": [
      "f1 =       0.33\n",
      "ROC_AUC =  0.59\n"
     ]
    }
   ],
   "source": [
    "# df2\n",
    "model_lr2 = LogisticRegression(random_state=12345, solver=\"liblinear\")\n",
    "\n",
    "model_lr2.fit(features_train2, target_train2)\n",
    "\n",
    "predict2 = model_lr2.predict(features_valid2)\n",
    "\n",
    "f1 = f1_score(target_valid2, predict2)\n",
    "\n",
    "roc_auc = roc_auc_score(target_valid2, predict2)\n",
    "\n",
    "# выведем результаты метрик на экран\n",
    "print('f1 = {:>10.2f}\\nROC_AUC = {:>5.2f}'.format(f1, roc_auc))"
   ]
  },
  {
   "cell_type": "markdown",
   "metadata": {},
   "source": [
    "<div style=\"color: white; border:solid green 2px; padding: 20px; background: LightSeaGreen\"><big>\n",
    "<big>\n",
    "Чтож, эксперимент не удался, разбиение числового признака tenure исходя из свойств гистограммы не увенчалось успехом в моделе с логистической регрессией."
   ]
  },
  {
   "cell_type": "markdown",
   "metadata": {},
   "source": [
    "<div style=\"color: white; border:solid green 2px; padding: 20px; background: LightSeaGreen\"><big>\n",
    "<big>\n",
    "Взглянем на ROC-кривую "
   ]
  },
  {
   "cell_type": "code",
   "execution_count": 27,
   "metadata": {},
   "outputs": [
    {
     "data": {
      "image/png": "[encoded data removed]",
      "text/plain": [
       "<matplotlib.figure.Figure at 0x7f1cb2ebd588>"
      ]
     },
     "metadata": {
      "needs_background": "light"
     },
     "output_type": "display_data"
    }
   ],
   "source": [
    "probabilities_valid = model_lr1.predict_proba(features_valid1)\n",
    "probabilities_one_valid = probabilities_valid[:, 1]\n",
    "\n",
    "fpr, tpr, thresholds = roc_curve(target_valid1, probabilities_one_valid)\n",
    "\n",
    "plt.figure(figsize=(3,3))\n",
    "plt.plot(fpr, tpr)\n",
    "plt.plot([0, 1], [0, 1], linestyle='--')\n",
    "plt.xlim([0, 1])\n",
    "plt.ylim([0, 1])\n",
    "plt.xlabel('False Positive Rate')\n",
    "plt.ylabel('True Positive Rate')\n",
    "plt.title('ROC-кривая, S={:.2f}'.format(roc_auc))\n",
    "plt.show()"
   ]
  },
  {
   "cell_type": "markdown",
   "metadata": {},
   "source": [
    "<div style=\"color: white; border:solid green 2px; padding: 20px; background: LightSeaGreen\"><big>\n",
    "<big>\n",
    "Получились низкие значения метрик и небольшая площадь под ROC-кривой. \n",
    "<p> Повторим то же самое для случайного леса"
   ]
  },
  {
   "cell_type": "markdown",
   "metadata": {},
   "source": [
    "### RandomForestClassifier"
   ]
  },
  {
   "cell_type": "code",
   "execution_count": 28,
   "metadata": {},
   "outputs": [
    {
     "name": "stdout",
     "output_type": "stream",
     "text": [
      "f1 =       0.57\n",
      "ROC_AUC =  0.71\n"
     ]
    }
   ],
   "source": [
    "model_lr1 =  RandomForestClassifier(random_state=12345, \n",
    "                                   criterion='gini',\n",
    "                                   n_estimators=11,\n",
    "                                   max_depth=17,\n",
    "                                   min_samples_split=2,\n",
    "                                   min_samples_leaf=4)\n",
    "\n",
    "model_lr1.fit(features_train1, target_train1)\n",
    "\n",
    "predict1 = model_lr1.predict(features_valid1)\n",
    "\n",
    "f1 = f1_score(target_valid1, predict1)\n",
    "\n",
    "roc_auc = roc_auc_score(target_valid1, predict1)\n",
    "\n",
    "print('f1 = {:>10.2f}\\nROC_AUC = {:>5.2f}'.format(f1, roc_auc))\n",
    "\n",
    "# выведем результаты метрик на экран\n",
    "\n"
   ]
  },
  {
   "cell_type": "code",
   "execution_count": 29,
   "metadata": {},
   "outputs": [
    {
     "name": "stdout",
     "output_type": "stream",
     "text": [
      "f1 =       0.56\n",
      "ROC_AUC =  0.70\n"
     ]
    }
   ],
   "source": [
    "model_lr2 =  RandomForestClassifier(random_state=12345, \n",
    "                                   criterion='gini',\n",
    "                                   n_estimators=11,\n",
    "                                   max_depth=17,\n",
    "                                   min_samples_split=2,\n",
    "                                   min_samples_leaf=4)\n",
    "\n",
    "model_lr2.fit(features_train2, target_train2)\n",
    "\n",
    "predict2 = model_lr2.predict(features_valid2)\n",
    "\n",
    "f1 = f1_score(target_valid2, predict2)\n",
    "\n",
    "roc_auc = roc_auc_score(target_valid2, predict2)\n",
    "\n",
    "print('f1 = {:>10.2f}\\nROC_AUC = {:>5.2f}'.format(f1, roc_auc))\n",
    "\n",
    "# выведем результаты метрик на экран"
   ]
  },
  {
   "cell_type": "markdown",
   "metadata": {},
   "source": [
    "<div style=\"color: white; border:solid green 2px; padding: 20px; background: LightSeaGreen\"><big>\n",
    "<big>В моделе случайного леса тоже эксперемент провален)"
   ]
  },
  {
   "cell_type": "markdown",
   "metadata": {},
   "source": [
    "<div style=\"color: white; border:solid green 2px; padding: 20px; background: LightSeaGreen\"><big>\n",
    "<big>Взглянем на ROC-кривую\n"
   ]
  },
  {
   "cell_type": "code",
   "execution_count": 30,
   "metadata": {},
   "outputs": [
    {
     "data": {
      "image/png": "[encoded data removed]",
      "text/plain": [
       "<matplotlib.figure.Figure at 0x7f1cb0e377f0>"
      ]
     },
     "metadata": {
      "needs_background": "light"
     },
     "output_type": "display_data"
    }
   ],
   "source": [
    "# посмотрим на ROC-кривую\n",
    "probabilities_valid = model_lr1.predict_proba(features_valid1)\n",
    "probabilities_one_valid = probabilities_valid[:, 1]\n",
    "\n",
    "fpr, tpr, thresholds = roc_curve(target_valid1, probabilities_one_valid)\n",
    "\n",
    "plt.figure(figsize=(3,3))\n",
    "plt.plot(fpr, tpr)\n",
    "plt.plot([0, 1], [0, 1], linestyle='--')\n",
    "plt.xlim([0, 1])\n",
    "plt.ylim([0, 1])\n",
    "plt.xlabel('False Positive Rate')\n",
    "plt.ylabel('True Positive Rate')\n",
    "plt.title('ROC-кривая, S={:.2f}'.format(roc_auc))\n",
    "plt.show()"
   ]
  },
  {
   "cell_type": "markdown",
   "metadata": {},
   "source": [
    "### Вывод:\n",
    "<big> Модель СлучайногоЛеса показала лучший результат (после подгонки параметров), но значения метрик всё ещё оставляют желать лучшего. Посмотрим как они изменятся после решения вопроса с дисбалансом классов"
   ]
  },
  {
   "cell_type": "markdown",
   "metadata": {},
   "source": [
    "## Борьба с дисбалансом"
   ]
  },
  {
   "cell_type": "markdown",
   "metadata": {},
   "source": [
    "<div style=\"color: white; border:solid green 2px; padding: 20px; background: LightSeaGreen\"><big>\n",
    "<big>\n",
    "Посмотрим насколько сбалансированы классы ключевого признака"
   ]
  },
  {
   "cell_type": "code",
   "execution_count": 31,
   "metadata": {
    "collapsed": true
   },
   "outputs": [],
   "source": [
    "features_train = features_train1\n",
    "target_train = target_train1\n",
    "features_valid = features_valid1\n",
    "target_valid = target_valid1\n",
    "features_test = features_test1\n",
    "target_test = target_test1"
   ]
  },
  {
   "cell_type": "code",
   "execution_count": 32,
   "metadata": {},
   "outputs": [
    {
     "data": {
      "text/plain": [
       "0    0.800667\n",
       "1    0.199333\n",
       "Name: exited, dtype: float64"
      ]
     },
     "execution_count": 32,
     "metadata": {},
     "output_type": "execute_result"
    }
   ],
   "source": [
    "target_train.value_counts(normalize=True)"
   ]
  },
  {
   "cell_type": "markdown",
   "metadata": {},
   "source": [
    "<div style=\"color: white; border:solid green 2px; padding: 20px; background: LightSeaGreen\"><big>\n",
    "<p><big> Класс \"0\" по частоте относится к классу \"1\" как 80:20 или 4:1. \n",
    "<p> Для того, чтобы сбалансировать классы нужно увеличить количество объектов класса \"1\" в 4 раза, присоединить к исходным данным и все хорошенько перемешать.\n",
    "<p> Функция upsample() описана вначале ноутбука"
   ]
  },
  {
   "cell_type": "code",
   "execution_count": 33,
   "metadata": {},
   "outputs": [
    {
     "name": "stdout",
     "output_type": "stream",
     "text": [
      "Баланс классов \"0\" и \"1\" с увеличенным количеством объектво класса \"1\" - \n",
      "0    4804\n",
      "1    4784\n",
      "Name: exited, dtype: int64\n",
      "\n",
      "Баланс классов \"0\" и \"1\" с уменьшенным количеством объектво класса \"0\" - \n",
      "0    1201\n",
      "1    1196\n",
      "Name: exited, dtype: int64\n"
     ]
    }
   ],
   "source": [
    "features_train_up, target_train_up = upsample(features_train, target_train, 4) \n",
    "print('Баланс классов \"0\" и \"1\" с увеличенным количеством объектво класса \"1\" - \\n{}'.format(target_train_up.value_counts()))\n",
    "print()\n",
    "features_train_down, target_train_down = downsample(features_train, target_train, 0.25) \n",
    "print('Баланс классов \"0\" и \"1\" с уменьшенным количеством объектво класса \"0\" - \\n{}'.format(target_train_down.value_counts()))"
   ]
  },
  {
   "cell_type": "markdown",
   "metadata": {},
   "source": [
    "<div style=\"color: white; border:solid green 2px; padding: 20px; background: LightSeaGreen\"><big>\n",
    "<p><big> Теперь оба класса сбалансированы, можно тренировать модели\n",
    "<p> При обучении моделей подключим параметр class_weight='balanced' для балансировки признаков."
   ]
  },
  {
   "cell_type": "markdown",
   "metadata": {},
   "source": [
    "### LogisticRegression с выборкуой *_up"
   ]
  },
  {
   "cell_type": "code",
   "execution_count": 34,
   "metadata": {},
   "outputs": [
    {
     "name": "stdout",
     "output_type": "stream",
     "text": [
      "f1 =       0.49\n",
      "ROC_AUC =  0.69\n"
     ]
    }
   ],
   "source": [
    "model_lr_up = LogisticRegression(random_state=12345, solver=\"liblinear\", class_weight='balanced')\n",
    "\n",
    "model_lr_up.fit(features_train_up, target_train_up)\n",
    "\n",
    "predict_up = model_lr_up.predict(features_valid)\n",
    "\n",
    "f1 = f1_score(target_valid, predict_up)\n",
    "\n",
    "roc_auc = roc_auc_score(target_valid, predict_up)\n",
    "\n",
    "print('f1 = {:>10.2f}\\nROC_AUC = {:>5.2f}'.format(f1, roc_auc))"
   ]
  },
  {
   "cell_type": "markdown",
   "metadata": {},
   "source": [
    "<div style=\"color: white; border:solid green 2px; padding: 20px; background: LightSeaGreen\"><big>\n",
    "ROC-кривая"
   ]
  },
  {
   "cell_type": "code",
   "execution_count": 35,
   "metadata": {},
   "outputs": [
    {
     "data": {
      "image/png": "[encoded data removed]",
      "text/plain": [
       "<matplotlib.figure.Figure at 0x7f1cb2f29978>"
      ]
     },
     "metadata": {
      "needs_background": "light"
     },
     "output_type": "display_data"
    }
   ],
   "source": [
    "probabilities_valid = model_lr_up.predict_proba(features_valid)\n",
    "probabilities_one_valid = probabilities_valid[:, 1]\n",
    "\n",
    "fpr, tpr, thresholds = roc_curve(target_valid, probabilities_one_valid)\n",
    "\n",
    "plt.figure(figsize=[3,3])\n",
    "plt.plot(fpr, tpr)\n",
    "plt.plot([0, 1], [0, 1], linestyle='--')\n",
    "plt.xlim([0, 1])\n",
    "plt.ylim([0, 1])\n",
    "plt.xlabel('False Positive Rate')\n",
    "plt.ylabel('True Positive Rate')\n",
    "plt.title('ROC-кривая, S={:.2f}'.format(roc_auc))\n",
    "plt.show()"
   ]
  },
  {
   "cell_type": "markdown",
   "metadata": {},
   "source": [
    "### LogisticRegression с выборкуой *_down"
   ]
  },
  {
   "cell_type": "code",
   "execution_count": 36,
   "metadata": {},
   "outputs": [
    {
     "name": "stdout",
     "output_type": "stream",
     "text": [
      "f1 =       0.49\n",
      "ROC_AUC =  0.69\n"
     ]
    }
   ],
   "source": [
    "model_lr_down = LogisticRegression(random_state=12345, solver=\"liblinear\", class_weight='balanced')\n",
    "\n",
    "model_lr_down.fit(features_train_down, target_train_down)\n",
    "\n",
    "predict_down = model_lr_down.predict(features_valid)\n",
    "\n",
    "f1 = f1_score(target_valid, predict_down)\n",
    "\n",
    "roc_auc = roc_auc_score(target_valid, predict_down)\n",
    "\n",
    "print('f1 = {:>10.2f}\\nROC_AUC = {:>5.2f}'.format(f1, roc_auc))"
   ]
  },
  {
   "cell_type": "markdown",
   "metadata": {},
   "source": [
    "<div style=\"color: white; border:solid green 2px; padding: 20px; background: LightSeaGreen\"><big>\n",
    "Метрики модели увеличились, но еще далеки от достаточных. Используем другую модель обучения - Случайный лес"
   ]
  },
  {
   "cell_type": "markdown",
   "metadata": {},
   "source": [
    "### RandomForestClassifier с выборкой *_up"
   ]
  },
  {
   "cell_type": "code",
   "execution_count": 37,
   "metadata": {},
   "outputs": [
    {
     "name": "stdout",
     "output_type": "stream",
     "text": [
      "f1 =       0.62\n",
      "ROC_AUC =  0.77\n"
     ]
    }
   ],
   "source": [
    "model_rf_up = RandomForestClassifier(random_state=12345, \n",
    "                                  criterion='entropy',\n",
    "                                  n_estimators=160,\n",
    "                                  max_depth=12, \n",
    "                                  min_samples_split=4,\n",
    "                                  min_samples_leaf=4, \n",
    "                                  n_jobs=-1,\n",
    "                                  class_weight='balanced')\n",
    "model_rf_up.fit(features_train_up, target_train_up)\n",
    "predict_up = model_rf_up.predict(features_valid)\n",
    "f1 = f1_score(target_valid, predict_up)\n",
    "roc_auc = roc_auc_score(target_valid, predict_up)\n",
    "\n",
    "print('f1 = {:>10.2f}\\nROC_AUC = {:>5.2f}'.format(f1, roc_auc))\n",
    "\n",
    "# подбор параметров проводился в последней ячейке с кодом"
   ]
  },
  {
   "cell_type": "code",
   "execution_count": 38,
   "metadata": {},
   "outputs": [
    {
     "data": {
      "image/png": "[encoded data removed]",
      "text/plain": [
       "<matplotlib.figure.Figure at 0x7f1cb0d8cb70>"
      ]
     },
     "metadata": {
      "needs_background": "light"
     },
     "output_type": "display_data"
    }
   ],
   "source": [
    "probabilities_valid = model_rf_up.predict_proba(features_valid)\n",
    "probabilities_one_valid = probabilities_valid[:, 1]\n",
    "\n",
    "fpr, tpr, thresholds = roc_curve(target_valid, probabilities_one_valid)\n",
    "\n",
    "plt.figure(figsize=[3,3])\n",
    "plt.plot(fpr, tpr)\n",
    "plt.plot([0, 1], [0, 1], linestyle='--')\n",
    "plt.xlim([0, 1])\n",
    "plt.ylim([0, 1])\n",
    "plt.xlabel('False Positive Rate')\n",
    "plt.ylabel('True Positive Rate')\n",
    "plt.title('ROC-кривая, S={:.2f}'.format(roc_auc))\n",
    "plt.show()"
   ]
  },
  {
   "cell_type": "markdown",
   "metadata": {},
   "source": [
    "### RandomForestClassifier с выборкой *_down"
   ]
  },
  {
   "cell_type": "code",
   "execution_count": 39,
   "metadata": {},
   "outputs": [
    {
     "name": "stdout",
     "output_type": "stream",
     "text": [
      "f1 =       0.60\n",
      "ROC_AUC =  0.77\n"
     ]
    }
   ],
   "source": [
    "model_rf_down = RandomForestClassifier(random_state=12345, \n",
    "                                  criterion='entropy',\n",
    "                                  n_estimators=26,\n",
    "                                  max_depth=9, \n",
    "                                  min_samples_split=2,\n",
    "                                  min_samples_leaf=3, \n",
    "                                  n_jobs=-1,\n",
    "                                  class_weight='balanced')\n",
    "model_rf_down.fit(features_train_down, target_train_down)\n",
    "predict_down = model_rf_down.predict(features_valid)\n",
    "f1 = f1_score(target_valid, predict_down)\n",
    "roc_auc = roc_auc_score(target_valid, predict_down)\n",
    "\n",
    "print('f1 = {:>10.2f}\\nROC_AUC = {:>5.2f}'.format(f1, roc_auc))\n",
    "\n",
    "# подбор параметров проводился в последней ячейке с кодом"
   ]
  },
  {
   "cell_type": "code",
   "execution_count": 40,
   "metadata": {},
   "outputs": [
    {
     "data": {
      "image/png": "[encoded data removed]",
      "text/plain": [
       "<matplotlib.figure.Figure at 0x7f1cb2ebdbe0>"
      ]
     },
     "metadata": {
      "needs_background": "light"
     },
     "output_type": "display_data"
    }
   ],
   "source": [
    "probabilities_valid = model_rf_down.predict_proba(features_valid)\n",
    "probabilities_one_valid = probabilities_valid[:, 1]\n",
    "\n",
    "fpr, tpr, thresholds = roc_curve(target_valid, probabilities_one_valid)\n",
    "\n",
    "plt.figure(figsize=[3,3])\n",
    "plt.plot(fpr, tpr)\n",
    "plt.plot([0, 1], [0, 1], linestyle='--')\n",
    "plt.xlim([0, 1])\n",
    "plt.ylim([0, 1])\n",
    "plt.xlabel('False Positive Rate')\n",
    "plt.ylabel('True Positive Rate')\n",
    "plt.title('ROC-кривая, S={:.2f}'.format(roc_auc))\n",
    "plt.show()"
   ]
  },
  {
   "cell_type": "markdown",
   "metadata": {},
   "source": [
    " ### Вывод: \n",
    " При коррекции баланса классов отмечается улучшение качества модели (увеличение метрик)."
   ]
  },
  {
   "cell_type": "markdown",
   "metadata": {},
   "source": [
    "## Тестирование модели"
   ]
  },
  {
   "cell_type": "markdown",
   "metadata": {},
   "source": [
    "<div style=\"color: black; border:solid green 2px; padding: 20px; background: LightGreen\">\n",
    "    Лучший результ показала модель Случайного леса на датасете, где коррекция дисбаланса осуществлялась за счет увеличения количества \"1\" категорий - model_rf_up. Протестируем её на тестовой выборке"
   ]
  },
  {
   "cell_type": "code",
   "execution_count": 41,
   "metadata": {},
   "outputs": [
    {
     "name": "stdout",
     "output_type": "stream",
     "text": [
      "f1 =       0.61\n",
      "ROC_AUC =  0.51\n"
     ]
    }
   ],
   "source": [
    "predict = model_rf_up.predict(features_test)\n",
    "f1 = f1_score(target_test, predict)\n",
    "\n",
    "probabilities_valid = model_rf_up.predict_proba(features_valid)\n",
    "probabilities_one_valid = probabilities_valid[:, 1]\n",
    "\n",
    "fpr, tpr, thresholds = roc_curve(target_valid, probabilities_one_valid)\n",
    "\n",
    "roc_auc = roc_auc_score(target_test, probabilities_one_valid)\n",
    "\n",
    "print('f1 = {:>10.2f}\\nROC_AUC = {:>5.2f}'.format(f1, roc_auc))"
   ]
  },
  {
   "cell_type": "markdown",
   "metadata": {},
   "source": [
    "<div style=\"color: white; border:solid green 2px; padding: 20px; background: LightSeaGreen\"><big>\n",
    "ROC-кривая"
   ]
  },
  {
   "cell_type": "code",
   "execution_count": 42,
   "metadata": {
    "scrolled": true
   },
   "outputs": [
    {
     "data": {
      "image/png": "[encoded data removed]",
      "text/plain": [
       "<matplotlib.figure.Figure at 0x7f1cb05140f0>"
      ]
     },
     "metadata": {
      "needs_background": "light"
     },
     "output_type": "display_data"
    }
   ],
   "source": [
    "probabilities_valid = model_rf_up.predict_proba(features_valid)\n",
    "probabilities_one_valid = probabilities_valid[:, 1]\n",
    "\n",
    "fpr, tpr, thresholds = roc_curve(target_valid, probabilities_one_valid)\n",
    "\n",
    "plt.figure(figsize=[3,3])\n",
    "plt.plot(fpr, tpr)\n",
    "plt.plot([0, 1], [0, 1], linestyle='--')\n",
    "plt.xlim([0, 1])\n",
    "plt.ylim([0, 1])\n",
    "plt.xlabel('False Positive Rate')\n",
    "plt.ylabel('True Positive Rate')\n",
    "plt.title('ROC-кривая, S={:.2f}'.format(roc_auc))\n",
    "plt.show()"
   ]
  },
  {
   "cell_type": "markdown",
   "metadata": {},
   "source": [
    "<div style=\"color: white; border:solid green 2px; padding: 20px; background: LightSeaGreen\"><big>\n",
    "Ячейка для тренировки модели"
   ]
  },
  {
   "cell_type": "code",
   "execution_count": 43,
   "metadata": {
    "collapsed": true
   },
   "outputs": [],
   "source": [
    "# %%time\n",
    "# # функция поиска гиперпараметрbиов RandomForest\n",
    "\n",
    "# # гиперпараметры\n",
    "# criterion = ['gini', 'entropy']\n",
    "# n_estimators=200\n",
    "# max_depth=15\n",
    "# min_samples_split = 4    # 1-40 optimum\n",
    "# min_samples_leaf = 4     # 1-20 optimum\n",
    "\n",
    "\n",
    "# best_f1 = 0\n",
    "# best_model = 0\n",
    "# best_criterion = 0\n",
    "# bast_max_depth = 0\n",
    "# best_n_estimators = 0\n",
    "# best_min_samples_split = 0\n",
    "# best_min_samples_leaf = 0\n",
    "# roc_auc = 0\n",
    "\n",
    "\n",
    "# for n_e in tqdm(range(1, n_estimators)):\n",
    "#   for m_d in range(1, max_depth):Churn.csv\n",
    "#     for mss in range(2, min_samples_split):\n",
    "#       for msl in range(1, min_samples_leaf):\n",
    "#         for crit in criterion:\n",
    "#           model = RandomForestClassifier(random_state=12345, \n",
    "#                                         n_jobs = -1, \n",
    "#                                         criterion = crit, \n",
    "#                                         n_estimators=n_e, \n",
    "#                                         max_depth=m_d,\n",
    "#                                         min_samples_split = mss, \n",
    "#                                         min_samples_leaf = msl)\n",
    "#       model.fit(features_train_down, target_train_down)\n",
    "#       predict = model.predict(features_valid)\n",
    "#       if best_f1 < f1_score(target_valid, predict):\n",
    "#         best_f1 = f1_score(target_valid, predict)\n",
    "#         roc_auc = roc_auc_score(target_valid, predict)\n",
    "#         best_model = model\n",
    "#         best_criterion = crit\n",
    "#         best_n_estimators = n_e\n",
    "#         bast_max_depth = m_d\n",
    "#         best_min_samples_split = mss\n",
    "#         best_min_samples_leaf = msl\n",
    "\n",
    "# print('\\nf1 - {:.2f}\\nroc_auc - {:.2f}\\nbest_criterion - {}\\nbest_n_estimators - {}\\nbast_max_depth - {}\\nbest_min_samples_split - {}\\nbest_min_samples_leaf - {}\\n'.format(best_f1,\n",
    "#                                                                                                                                                                         roc_auc, \n",
    "#                                                                                                                                                                         best_criterion, \n",
    "#                                                                                                                                                                         best_n_estimators, \n",
    "#                                                                                                                                                                         bast_max_depth, \n",
    "#                                                                                                                                                                         best_min_samples_split, \n",
    "#                                                                                                                                                                         best_min_samples_leaf))\n",
    "\n",
    "\n",
    "\n"
   ]
  },
  {
   "cell_type": "markdown",
   "metadata": {},
   "source": [
    "## Выводы:\n",
    "1. Маштабирование и балансировка классов позволяет увеличить качество модели\n",
    "2. Прямое кодирование категориальрных признаков позволяет более коретно использовать категориальные признаки при обучении в моделях. При этом, опытным путём установлено, что числовые значения делить на категории не имеет смысла - алгоритму модее виднее))\n",
    "3. Модель логистической регрессии работает быстрее, но показывает более низкие показатели метрик при прочих равных условиях\n",
    "4. Случайный лес предсказывает лучше, чем логистическая регрессия, но подбор параметров требует значительного времени"
   ]
  }
 ],
 "metadata": {
  "ExecuteTimeLog": [
   {
    "duration": 1411,
    "start_time": "2022-02-15T16:45:44.874Z"
   },
   {
    "duration": 2100,
    "start_time": "2022-02-15T16:47:01.401Z"
   },
   {
    "duration": 83,
    "start_time": "2022-02-15T16:47:14.182Z"
   },
   {
    "duration": 33,
    "start_time": "2022-02-15T16:47:38.245Z"
   },
   {
    "duration": 34,
    "start_time": "2022-02-15T16:56:02.768Z"
   },
   {
    "duration": 9,
    "start_time": "2022-02-15T16:57:34.857Z"
   },
   {
    "duration": 35,
    "start_time": "2022-02-15T16:59:56.546Z"
   },
   {
    "duration": 6,
    "start_time": "2022-02-15T17:00:14.320Z"
   },
   {
    "duration": 9,
    "start_time": "2022-02-15T17:00:16.182Z"
   },
   {
    "duration": 5,
    "start_time": "2022-02-15T17:24:26.687Z"
   },
   {
    "duration": 11,
    "start_time": "2022-02-15T17:24:32.353Z"
   },
   {
    "duration": 4,
    "start_time": "2022-02-15T17:24:40.310Z"
   },
   {
    "duration": 4,
    "start_time": "2022-02-15T17:24:44.949Z"
   },
   {
    "duration": 38,
    "start_time": "2022-02-15T17:28:37.718Z"
   },
   {
    "duration": 7,
    "start_time": "2022-02-15T18:19:36.201Z"
   },
   {
    "duration": 34,
    "start_time": "2022-02-15T18:19:42.942Z"
   },
   {
    "duration": 6,
    "start_time": "2022-02-15T18:19:47.297Z"
   },
   {
    "duration": 11,
    "start_time": "2022-02-15T18:19:48.719Z"
   },
   {
    "duration": 6,
    "start_time": "2022-02-15T18:19:51.159Z"
   },
   {
    "duration": 37,
    "start_time": "2022-02-15T18:19:52.561Z"
   },
   {
    "duration": 252,
    "start_time": "2022-02-15T18:24:55.789Z"
   },
   {
    "duration": 287,
    "start_time": "2022-02-15T18:25:02.363Z"
   },
   {
    "duration": 6,
    "start_time": "2022-02-15T18:25:08.445Z"
   },
   {
    "duration": 185,
    "start_time": "2022-02-15T18:26:27.315Z"
   },
   {
    "duration": 249,
    "start_time": "2022-02-15T18:26:38.748Z"
   },
   {
    "duration": 6,
    "start_time": "2022-02-15T18:26:50.764Z"
   },
   {
    "duration": 264,
    "start_time": "2022-02-15T18:27:45.267Z"
   },
   {
    "duration": 349,
    "start_time": "2022-02-15T18:28:08.890Z"
   },
   {
    "duration": 5,
    "start_time": "2022-02-15T18:28:16.522Z"
   },
   {
    "duration": 5,
    "start_time": "2022-02-15T18:28:23.034Z"
   },
   {
    "duration": 5,
    "start_time": "2022-02-15T18:28:28.921Z"
   },
   {
    "duration": 186,
    "start_time": "2022-02-15T18:29:10.570Z"
   },
   {
    "duration": 455,
    "start_time": "2022-02-15T18:29:15.297Z"
   },
   {
    "duration": 429,
    "start_time": "2022-02-15T18:29:22.512Z"
   },
   {
    "duration": 174,
    "start_time": "2022-02-15T18:29:30.881Z"
   },
   {
    "duration": 7,
    "start_time": "2022-02-15T18:30:53.545Z"
   },
   {
    "duration": 1188,
    "start_time": "2022-02-15T18:34:56.992Z"
   },
   {
    "duration": 44,
    "start_time": "2022-02-15T18:34:58.183Z"
   },
   {
    "duration": 5,
    "start_time": "2022-02-15T18:34:58.230Z"
   },
   {
    "duration": 11,
    "start_time": "2022-02-15T18:34:58.237Z"
   },
   {
    "duration": 14,
    "start_time": "2022-02-15T18:34:58.250Z"
   },
   {
    "duration": 53,
    "start_time": "2022-02-15T18:34:58.266Z"
   },
   {
    "duration": 5,
    "start_time": "2022-02-15T18:34:58.322Z"
   },
   {
    "duration": 5,
    "start_time": "2022-02-15T18:35:01.874Z"
   },
   {
    "duration": 15,
    "start_time": "2022-02-15T18:35:40.707Z"
   },
   {
    "duration": 10,
    "start_time": "2022-02-15T18:35:50.715Z"
   },
   {
    "duration": 9,
    "start_time": "2022-02-15T18:36:15.619Z"
   },
   {
    "duration": 120,
    "start_time": "2022-02-15T18:39:35.314Z"
   },
   {
    "duration": 527,
    "start_time": "2022-02-15T18:40:34.303Z"
   },
   {
    "duration": 436,
    "start_time": "2022-02-15T18:40:37.705Z"
   },
   {
    "duration": 226,
    "start_time": "2022-02-15T18:40:57.451Z"
   },
   {
    "duration": 442,
    "start_time": "2022-02-15T18:42:34.423Z"
   },
   {
    "duration": 252,
    "start_time": "2022-02-15T18:44:27.110Z"
   },
   {
    "duration": 253,
    "start_time": "2022-02-15T18:44:40.541Z"
   },
   {
    "duration": 243,
    "start_time": "2022-02-15T18:45:24.133Z"
   },
   {
    "duration": 445,
    "start_time": "2022-02-15T18:45:37.413Z"
   },
   {
    "duration": 512,
    "start_time": "2022-02-15T18:46:29.958Z"
   },
   {
    "duration": 527,
    "start_time": "2022-02-15T18:46:42.478Z"
   },
   {
    "duration": 415,
    "start_time": "2022-02-15T18:46:49.526Z"
   },
   {
    "duration": 417,
    "start_time": "2022-02-15T18:47:24.780Z"
   },
   {
    "duration": 10,
    "start_time": "2022-02-15T18:49:53.105Z"
   },
   {
    "duration": 572,
    "start_time": "2022-02-15T18:50:02.803Z"
   },
   {
    "duration": 442,
    "start_time": "2022-02-15T18:50:08.315Z"
   },
   {
    "duration": 484,
    "start_time": "2022-02-15T18:50:22.850Z"
   },
   {
    "duration": 416,
    "start_time": "2022-02-15T18:51:33.114Z"
   },
   {
    "duration": 180,
    "start_time": "2022-02-15T18:51:36.466Z"
   },
   {
    "duration": 5,
    "start_time": "2022-02-15T18:53:31.743Z"
   },
   {
    "duration": 196,
    "start_time": "2022-02-15T18:54:28.319Z"
   },
   {
    "duration": 7,
    "start_time": "2022-02-15T18:54:56.710Z"
   },
   {
    "duration": 282,
    "start_time": "2022-02-15T18:55:15.263Z"
   },
   {
    "duration": 10,
    "start_time": "2022-02-15T18:55:34.999Z"
   },
   {
    "duration": 6,
    "start_time": "2022-02-15T19:00:48.442Z"
   },
   {
    "duration": 82,
    "start_time": "2022-02-15T19:01:04.738Z"
   },
   {
    "duration": 5,
    "start_time": "2022-02-15T19:01:08.249Z"
   },
   {
    "duration": 1120,
    "start_time": "2022-02-15T19:01:57.053Z"
   },
   {
    "duration": 42,
    "start_time": "2022-02-15T19:01:58.175Z"
   },
   {
    "duration": 5,
    "start_time": "2022-02-15T19:01:58.220Z"
   },
   {
    "duration": 11,
    "start_time": "2022-02-15T19:01:58.227Z"
   },
   {
    "duration": 5,
    "start_time": "2022-02-15T19:01:58.240Z"
   },
   {
    "duration": 39,
    "start_time": "2022-02-15T19:01:58.247Z"
   },
   {
    "duration": 34,
    "start_time": "2022-02-15T19:01:58.288Z"
   },
   {
    "duration": 12,
    "start_time": "2022-02-15T19:01:58.324Z"
   },
   {
    "duration": 221,
    "start_time": "2022-02-15T19:01:58.338Z"
   },
   {
    "duration": 11,
    "start_time": "2022-02-15T19:01:58.562Z"
   },
   {
    "duration": 166,
    "start_time": "2022-02-15T19:02:02.187Z"
   },
   {
    "duration": 176,
    "start_time": "2022-02-15T19:02:18.940Z"
   },
   {
    "duration": 1216,
    "start_time": "2022-02-15T19:03:53.427Z"
   },
   {
    "duration": 38,
    "start_time": "2022-02-15T19:03:54.645Z"
   },
   {
    "duration": 5,
    "start_time": "2022-02-15T19:03:54.685Z"
   },
   {
    "duration": 12,
    "start_time": "2022-02-15T19:03:54.691Z"
   },
   {
    "duration": 13,
    "start_time": "2022-02-15T19:03:54.705Z"
   },
   {
    "duration": 37,
    "start_time": "2022-02-15T19:03:54.720Z"
   },
   {
    "duration": 4,
    "start_time": "2022-02-15T19:03:54.759Z"
   },
   {
    "duration": 20,
    "start_time": "2022-02-15T19:03:54.766Z"
   },
   {
    "duration": 219,
    "start_time": "2022-02-15T19:03:54.788Z"
   },
   {
    "duration": 15,
    "start_time": "2022-02-15T19:03:55.009Z"
   },
   {
    "duration": 5,
    "start_time": "2022-02-15T19:03:55.027Z"
   },
   {
    "duration": 9,
    "start_time": "2022-02-15T19:04:05.612Z"
   },
   {
    "duration": 9,
    "start_time": "2022-02-15T19:04:14.188Z"
   },
   {
    "duration": 195,
    "start_time": "2022-02-15T19:05:43.916Z"
   },
   {
    "duration": 187,
    "start_time": "2022-02-15T19:09:55.857Z"
   },
   {
    "duration": 211,
    "start_time": "2022-02-15T19:10:07.129Z"
   },
   {
    "duration": 168,
    "start_time": "2022-02-15T19:16:31.678Z"
   },
   {
    "duration": 160,
    "start_time": "2022-02-15T19:16:46.181Z"
   },
   {
    "duration": 76,
    "start_time": "2022-02-15T19:17:26.039Z"
   },
   {
    "duration": 39,
    "start_time": "2022-02-15T19:17:26.116Z"
   },
   {
    "duration": 5,
    "start_time": "2022-02-15T19:17:26.157Z"
   },
   {
    "duration": 11,
    "start_time": "2022-02-15T19:17:26.164Z"
   },
   {
    "duration": 4,
    "start_time": "2022-02-15T19:17:26.177Z"
   },
   {
    "duration": 40,
    "start_time": "2022-02-15T19:17:26.183Z"
   },
   {
    "duration": 3,
    "start_time": "2022-02-15T19:17:26.225Z"
   },
   {
    "duration": 10,
    "start_time": "2022-02-15T19:17:26.231Z"
   },
   {
    "duration": 180,
    "start_time": "2022-02-15T19:17:26.242Z"
   },
   {
    "duration": 8,
    "start_time": "2022-02-15T19:17:26.424Z"
   },
   {
    "duration": 8,
    "start_time": "2022-02-15T19:17:26.434Z"
   },
   {
    "duration": 184,
    "start_time": "2022-02-15T19:17:26.444Z"
   },
   {
    "duration": 159,
    "start_time": "2022-02-15T19:17:26.630Z"
   },
   {
    "duration": 169,
    "start_time": "2022-02-15T19:17:36.443Z"
   },
   {
    "duration": 6,
    "start_time": "2022-02-15T19:41:27.635Z"
   },
   {
    "duration": 5,
    "start_time": "2022-02-15T19:41:48.554Z"
   },
   {
    "duration": 373,
    "start_time": "2022-02-15T19:42:20.434Z"
   },
   {
    "duration": 243,
    "start_time": "2022-02-15T19:43:29.467Z"
   },
   {
    "duration": 263,
    "start_time": "2022-02-15T19:43:40.610Z"
   },
   {
    "duration": 305,
    "start_time": "2022-02-15T19:44:24.074Z"
   },
   {
    "duration": 4,
    "start_time": "2022-02-15T19:44:30.329Z"
   },
   {
    "duration": 240,
    "start_time": "2022-02-15T19:44:40.776Z"
   },
   {
    "duration": 5,
    "start_time": "2022-02-15T19:46:09.193Z"
   },
   {
    "duration": 254,
    "start_time": "2022-02-15T19:46:19.311Z"
   },
   {
    "duration": 292,
    "start_time": "2022-02-15T19:46:27.743Z"
   },
   {
    "duration": 7,
    "start_time": "2022-02-15T19:46:35.016Z"
   },
   {
    "duration": 4,
    "start_time": "2022-02-15T19:46:45.087Z"
   },
   {
    "duration": 5,
    "start_time": "2022-02-15T19:46:48.983Z"
   },
   {
    "duration": 6,
    "start_time": "2022-02-15T19:46:55.199Z"
   },
   {
    "duration": 251,
    "start_time": "2022-02-15T19:53:48.163Z"
   },
   {
    "duration": 250,
    "start_time": "2022-02-15T19:53:58.034Z"
   },
   {
    "duration": 170,
    "start_time": "2022-02-15T19:54:07.684Z"
   },
   {
    "duration": 240,
    "start_time": "2022-02-15T19:54:16.163Z"
   },
   {
    "duration": 7,
    "start_time": "2022-02-15T19:54:27.962Z"
   },
   {
    "duration": 4,
    "start_time": "2022-02-15T20:02:55.966Z"
   },
   {
    "duration": 14,
    "start_time": "2022-02-15T20:05:20.419Z"
   },
   {
    "duration": 249,
    "start_time": "2022-02-15T20:07:06.778Z"
   },
   {
    "duration": 270,
    "start_time": "2022-02-15T20:07:57.233Z"
   },
   {
    "duration": 5,
    "start_time": "2022-02-15T20:08:05.329Z"
   },
   {
    "duration": 8,
    "start_time": "2022-02-15T20:08:15.840Z"
   },
   {
    "duration": 7,
    "start_time": "2022-02-15T20:08:30.784Z"
   },
   {
    "duration": 86,
    "start_time": "2022-02-15T20:08:37.304Z"
   },
   {
    "duration": 10,
    "start_time": "2022-02-15T20:08:41.921Z"
   },
   {
    "duration": 4,
    "start_time": "2022-02-15T20:08:56.736Z"
   },
   {
    "duration": 8,
    "start_time": "2022-02-15T20:09:00.512Z"
   },
   {
    "duration": 6,
    "start_time": "2022-02-15T20:09:04.944Z"
   },
   {
    "duration": 5,
    "start_time": "2022-02-15T20:09:12.033Z"
   },
   {
    "duration": 5,
    "start_time": "2022-02-15T20:09:33.536Z"
   },
   {
    "duration": 8,
    "start_time": "2022-02-15T20:09:38.710Z"
   },
   {
    "duration": 5,
    "start_time": "2022-02-15T20:11:22.161Z"
   },
   {
    "duration": 8,
    "start_time": "2022-02-15T20:11:28.166Z"
   },
   {
    "duration": 251,
    "start_time": "2022-02-15T20:12:28.148Z"
   },
   {
    "duration": 4,
    "start_time": "2022-02-15T20:12:51.094Z"
   },
   {
    "duration": 13,
    "start_time": "2022-02-15T20:12:53.645Z"
   },
   {
    "duration": 7,
    "start_time": "2022-02-15T20:13:06.790Z"
   },
   {
    "duration": 259,
    "start_time": "2022-02-15T20:13:31.157Z"
   },
   {
    "duration": 9981,
    "start_time": "2022-02-15T20:14:31.580Z"
   },
   {
    "duration": 6,
    "start_time": "2022-02-15T20:14:58.228Z"
   },
   {
    "duration": 180,
    "start_time": "2022-02-15T20:15:06.564Z"
   },
   {
    "duration": 447,
    "start_time": "2022-02-15T20:15:53.115Z"
   },
   {
    "duration": 410,
    "start_time": "2022-02-15T20:16:42.805Z"
   },
   {
    "duration": 437,
    "start_time": "2022-02-15T20:17:14.725Z"
   },
   {
    "duration": 1228,
    "start_time": "2022-02-15T20:17:36.046Z"
   },
   {
    "duration": 42,
    "start_time": "2022-02-15T20:17:37.275Z"
   },
   {
    "duration": 5,
    "start_time": "2022-02-15T20:17:37.319Z"
   },
   {
    "duration": 12,
    "start_time": "2022-02-15T20:17:37.326Z"
   },
   {
    "duration": 3,
    "start_time": "2022-02-15T20:17:37.340Z"
   },
   {
    "duration": 36,
    "start_time": "2022-02-15T20:17:37.344Z"
   },
   {
    "duration": 5,
    "start_time": "2022-02-15T20:17:37.382Z"
   },
   {
    "duration": 36,
    "start_time": "2022-02-15T20:17:37.389Z"
   },
   {
    "duration": 192,
    "start_time": "2022-02-15T20:17:37.427Z"
   },
   {
    "duration": 9,
    "start_time": "2022-02-15T20:17:37.622Z"
   },
   {
    "duration": 8,
    "start_time": "2022-02-15T20:17:37.633Z"
   },
   {
    "duration": 200,
    "start_time": "2022-02-15T20:17:37.643Z"
   },
   {
    "duration": 183,
    "start_time": "2022-02-15T20:17:37.845Z"
   },
   {
    "duration": 385,
    "start_time": "2022-02-15T20:17:38.030Z"
   },
   {
    "duration": 436,
    "start_time": "2022-02-15T20:18:16.486Z"
   },
   {
    "duration": 6,
    "start_time": "2022-02-15T20:19:05.083Z"
   },
   {
    "duration": 44,
    "start_time": "2022-02-15T20:19:05.092Z"
   },
   {
    "duration": 5,
    "start_time": "2022-02-15T20:19:05.138Z"
   },
   {
    "duration": 16,
    "start_time": "2022-02-15T20:19:05.144Z"
   },
   {
    "duration": 3,
    "start_time": "2022-02-15T20:19:05.162Z"
   },
   {
    "duration": 60,
    "start_time": "2022-02-15T20:19:05.167Z"
   },
   {
    "duration": 5,
    "start_time": "2022-02-15T20:19:05.229Z"
   },
   {
    "duration": 14,
    "start_time": "2022-02-15T20:19:05.237Z"
   },
   {
    "duration": 206,
    "start_time": "2022-02-15T20:19:05.254Z"
   },
   {
    "duration": 8,
    "start_time": "2022-02-15T20:19:05.462Z"
   },
   {
    "duration": 8,
    "start_time": "2022-02-15T20:19:05.472Z"
   },
   {
    "duration": 198,
    "start_time": "2022-02-15T20:19:05.481Z"
   },
   {
    "duration": 178,
    "start_time": "2022-02-15T20:19:05.681Z"
   },
   {
    "duration": 428,
    "start_time": "2022-02-15T20:19:05.861Z"
   },
   {
    "duration": 339,
    "start_time": "2022-02-15T20:19:19.037Z"
   },
   {
    "duration": 1175,
    "start_time": "2022-02-15T20:19:40.401Z"
   },
   {
    "duration": 40,
    "start_time": "2022-02-15T20:19:41.578Z"
   },
   {
    "duration": 5,
    "start_time": "2022-02-15T20:19:41.621Z"
   },
   {
    "duration": 10,
    "start_time": "2022-02-15T20:19:41.628Z"
   },
   {
    "duration": 2,
    "start_time": "2022-02-15T20:19:41.640Z"
   },
   {
    "duration": 42,
    "start_time": "2022-02-15T20:19:41.643Z"
   },
   {
    "duration": 32,
    "start_time": "2022-02-15T20:19:41.686Z"
   },
   {
    "duration": 9,
    "start_time": "2022-02-15T20:19:41.721Z"
   },
   {
    "duration": 195,
    "start_time": "2022-02-15T20:19:41.732Z"
   },
   {
    "duration": 9,
    "start_time": "2022-02-15T20:19:41.928Z"
   },
   {
    "duration": 10,
    "start_time": "2022-02-15T20:19:41.938Z"
   },
   {
    "duration": 198,
    "start_time": "2022-02-15T20:19:41.949Z"
   },
   {
    "duration": 170,
    "start_time": "2022-02-15T20:19:42.149Z"
   },
   {
    "duration": 348,
    "start_time": "2022-02-15T20:19:42.320Z"
   },
   {
    "duration": 454,
    "start_time": "2022-02-15T20:20:31.375Z"
   },
   {
    "duration": 1345,
    "start_time": "2022-02-15T20:20:44.830Z"
   },
   {
    "duration": 36,
    "start_time": "2022-02-15T20:20:46.177Z"
   },
   {
    "duration": 4,
    "start_time": "2022-02-15T20:20:46.215Z"
   },
   {
    "duration": 11,
    "start_time": "2022-02-15T20:20:46.220Z"
   },
   {
    "duration": 5,
    "start_time": "2022-02-15T20:20:46.233Z"
   },
   {
    "duration": 45,
    "start_time": "2022-02-15T20:20:46.240Z"
   },
   {
    "duration": 4,
    "start_time": "2022-02-15T20:20:46.287Z"
   },
   {
    "duration": 30,
    "start_time": "2022-02-15T20:20:46.293Z"
   },
   {
    "duration": 190,
    "start_time": "2022-02-15T20:20:46.325Z"
   },
   {
    "duration": 10,
    "start_time": "2022-02-15T20:20:46.519Z"
   },
   {
    "duration": 19,
    "start_time": "2022-02-15T20:20:46.531Z"
   },
   {
    "duration": 199,
    "start_time": "2022-02-15T20:20:46.552Z"
   },
   {
    "duration": 185,
    "start_time": "2022-02-15T20:20:46.753Z"
   },
   {
    "duration": 368,
    "start_time": "2022-02-15T20:20:46.940Z"
   },
   {
    "duration": 467,
    "start_time": "2022-02-15T20:21:09.759Z"
   },
   {
    "duration": 87,
    "start_time": "2022-02-15T20:21:25.407Z"
   },
   {
    "duration": 339,
    "start_time": "2022-02-15T20:21:28.063Z"
   },
   {
    "duration": 706,
    "start_time": "2022-02-15T20:22:03.591Z"
   },
   {
    "duration": 170,
    "start_time": "2022-02-15T20:22:07.566Z"
   },
   {
    "duration": 232,
    "start_time": "2022-02-15T20:22:22.680Z"
   },
   {
    "duration": 1255,
    "start_time": "2022-02-15T20:22:35.983Z"
   },
   {
    "duration": 41,
    "start_time": "2022-02-15T20:22:37.240Z"
   },
   {
    "duration": 5,
    "start_time": "2022-02-15T20:22:37.283Z"
   },
   {
    "duration": 11,
    "start_time": "2022-02-15T20:22:37.289Z"
   },
   {
    "duration": 3,
    "start_time": "2022-02-15T20:22:37.301Z"
   },
   {
    "duration": 53,
    "start_time": "2022-02-15T20:22:37.305Z"
   },
   {
    "duration": 4,
    "start_time": "2022-02-15T20:22:37.360Z"
   },
   {
    "duration": 29,
    "start_time": "2022-02-15T20:22:37.366Z"
   },
   {
    "duration": 195,
    "start_time": "2022-02-15T20:22:37.397Z"
   },
   {
    "duration": 9,
    "start_time": "2022-02-15T20:22:37.593Z"
   },
   {
    "duration": 13,
    "start_time": "2022-02-15T20:22:37.619Z"
   },
   {
    "duration": 207,
    "start_time": "2022-02-15T20:22:37.634Z"
   },
   {
    "duration": 201,
    "start_time": "2022-02-15T20:22:37.843Z"
   },
   {
    "duration": 223,
    "start_time": "2022-02-15T20:22:38.046Z"
   },
   {
    "duration": 178,
    "start_time": "2022-02-15T20:22:51.005Z"
   },
   {
    "duration": 174,
    "start_time": "2022-02-15T20:23:05.414Z"
   },
   {
    "duration": 233,
    "start_time": "2022-02-15T20:23:22.493Z"
   },
   {
    "duration": 542,
    "start_time": "2022-02-15T20:24:28.693Z"
   },
   {
    "duration": 510,
    "start_time": "2022-02-15T20:24:39.917Z"
   },
   {
    "duration": 478,
    "start_time": "2022-02-15T20:24:53.564Z"
   },
   {
    "duration": 500,
    "start_time": "2022-02-15T20:26:09.261Z"
   },
   {
    "duration": 27,
    "start_time": "2022-02-15T20:55:38.710Z"
   },
   {
    "duration": 30,
    "start_time": "2022-02-15T20:56:12.421Z"
   },
   {
    "duration": 18,
    "start_time": "2022-02-15T21:06:14.758Z"
   },
   {
    "duration": 32,
    "start_time": "2022-02-15T21:06:23.142Z"
   },
   {
    "duration": 33,
    "start_time": "2022-02-15T21:06:44.100Z"
   },
   {
    "duration": 33,
    "start_time": "2022-02-15T21:07:40.270Z"
   },
   {
    "duration": 7,
    "start_time": "2022-02-15T21:12:40.211Z"
   },
   {
    "duration": 41,
    "start_time": "2022-02-15T21:12:40.220Z"
   },
   {
    "duration": 5,
    "start_time": "2022-02-15T21:12:40.264Z"
   },
   {
    "duration": 11,
    "start_time": "2022-02-15T21:12:40.271Z"
   },
   {
    "duration": 6,
    "start_time": "2022-02-15T21:12:40.284Z"
   },
   {
    "duration": 67,
    "start_time": "2022-02-15T21:12:40.292Z"
   },
   {
    "duration": 4,
    "start_time": "2022-02-15T21:12:40.362Z"
   },
   {
    "duration": 11,
    "start_time": "2022-02-15T21:12:40.368Z"
   },
   {
    "duration": 213,
    "start_time": "2022-02-15T21:12:40.381Z"
   },
   {
    "duration": 10,
    "start_time": "2022-02-15T21:12:40.595Z"
   },
   {
    "duration": 11,
    "start_time": "2022-02-15T21:12:40.619Z"
   },
   {
    "duration": 266,
    "start_time": "2022-02-15T21:12:40.632Z"
   },
   {
    "duration": 190,
    "start_time": "2022-02-15T21:12:40.901Z"
   },
   {
    "duration": 11,
    "start_time": "2022-02-15T21:12:41.093Z"
   },
   {
    "duration": 45,
    "start_time": "2022-02-15T21:12:41.105Z"
   },
   {
    "duration": 6,
    "start_time": "2022-02-15T21:14:16.950Z"
   },
   {
    "duration": 42,
    "start_time": "2022-02-15T21:14:16.958Z"
   },
   {
    "duration": 6,
    "start_time": "2022-02-15T21:14:17.002Z"
   },
   {
    "duration": 11,
    "start_time": "2022-02-15T21:14:17.009Z"
   },
   {
    "duration": 3,
    "start_time": "2022-02-15T21:14:17.022Z"
   },
   {
    "duration": 45,
    "start_time": "2022-02-15T21:14:17.026Z"
   },
   {
    "duration": 5,
    "start_time": "2022-02-15T21:14:17.073Z"
   },
   {
    "duration": 11,
    "start_time": "2022-02-15T21:14:17.079Z"
   },
   {
    "duration": 218,
    "start_time": "2022-02-15T21:14:17.092Z"
   },
   {
    "duration": 13,
    "start_time": "2022-02-15T21:14:17.312Z"
   },
   {
    "duration": 11,
    "start_time": "2022-02-15T21:14:17.327Z"
   },
   {
    "duration": 225,
    "start_time": "2022-02-15T21:14:17.340Z"
   },
   {
    "duration": 187,
    "start_time": "2022-02-15T21:14:17.567Z"
   },
   {
    "duration": 10,
    "start_time": "2022-02-15T21:14:17.756Z"
   },
   {
    "duration": 20,
    "start_time": "2022-02-15T21:14:17.767Z"
   },
   {
    "duration": 5,
    "start_time": "2022-02-15T21:14:17.789Z"
   },
   {
    "duration": 4,
    "start_time": "2022-02-15T21:14:17.795Z"
   },
   {
    "duration": 7,
    "start_time": "2022-02-15T21:14:17.819Z"
   },
   {
    "duration": 8,
    "start_time": "2022-02-15T21:14:17.829Z"
   },
   {
    "duration": 17,
    "start_time": "2022-02-15T21:14:17.839Z"
   },
   {
    "duration": 18,
    "start_time": "2022-02-15T21:14:17.858Z"
   },
   {
    "duration": 19,
    "start_time": "2022-02-15T21:14:41.366Z"
   },
   {
    "duration": 105,
    "start_time": "2022-02-15T21:15:17.697Z"
   },
   {
    "duration": 67,
    "start_time": "2022-02-15T21:15:17.804Z"
   },
   {
    "duration": 5,
    "start_time": "2022-02-15T21:15:17.874Z"
   },
   {
    "duration": 13,
    "start_time": "2022-02-15T21:15:17.881Z"
   },
   {
    "duration": 3,
    "start_time": "2022-02-15T21:15:17.896Z"
   },
   {
    "duration": 48,
    "start_time": "2022-02-15T21:15:17.901Z"
   },
   {
    "duration": 5,
    "start_time": "2022-02-15T21:15:17.951Z"
   },
   {
    "duration": 13,
    "start_time": "2022-02-15T21:15:17.958Z"
   },
   {
    "duration": 212,
    "start_time": "2022-02-15T21:15:17.973Z"
   },
   {
    "duration": 9,
    "start_time": "2022-02-15T21:15:18.187Z"
   },
   {
    "duration": 26,
    "start_time": "2022-02-15T21:15:18.197Z"
   },
   {
    "duration": 197,
    "start_time": "2022-02-15T21:15:18.225Z"
   },
   {
    "duration": 194,
    "start_time": "2022-02-15T21:15:18.424Z"
   },
   {
    "duration": 10,
    "start_time": "2022-02-15T21:15:18.620Z"
   },
   {
    "duration": 24,
    "start_time": "2022-02-15T21:15:18.632Z"
   },
   {
    "duration": 5,
    "start_time": "2022-02-15T21:15:18.658Z"
   },
   {
    "duration": 4,
    "start_time": "2022-02-15T21:15:18.665Z"
   },
   {
    "duration": 13,
    "start_time": "2022-02-15T21:15:18.671Z"
   },
   {
    "duration": 13,
    "start_time": "2022-02-15T21:15:18.686Z"
   },
   {
    "duration": 31,
    "start_time": "2022-02-15T21:15:18.700Z"
   },
   {
    "duration": 14,
    "start_time": "2022-02-15T21:15:18.732Z"
   },
   {
    "duration": 16,
    "start_time": "2022-02-15T21:15:18.747Z"
   },
   {
    "duration": 8,
    "start_time": "2022-02-15T21:16:51.685Z"
   },
   {
    "duration": 59,
    "start_time": "2022-02-15T21:16:51.695Z"
   },
   {
    "duration": 5,
    "start_time": "2022-02-15T21:16:51.757Z"
   },
   {
    "duration": 20,
    "start_time": "2022-02-15T21:16:51.764Z"
   },
   {
    "duration": 6,
    "start_time": "2022-02-15T21:16:51.786Z"
   },
   {
    "duration": 49,
    "start_time": "2022-02-15T21:16:51.794Z"
   },
   {
    "duration": 4,
    "start_time": "2022-02-15T21:16:51.845Z"
   },
   {
    "duration": 26,
    "start_time": "2022-02-15T21:16:51.852Z"
   },
   {
    "duration": 196,
    "start_time": "2022-02-15T21:16:51.880Z"
   },
   {
    "duration": 9,
    "start_time": "2022-02-15T21:16:52.078Z"
   },
   {
    "duration": 18,
    "start_time": "2022-02-15T21:16:52.089Z"
   },
   {
    "duration": 205,
    "start_time": "2022-02-15T21:16:52.108Z"
   },
   {
    "duration": 176,
    "start_time": "2022-02-15T21:16:52.318Z"
   },
   {
    "duration": 82,
    "start_time": "2022-02-15T21:16:52.496Z"
   },
   {
    "duration": -121,
    "start_time": "2022-02-15T21:16:52.701Z"
   },
   {
    "duration": -130,
    "start_time": "2022-02-15T21:16:52.711Z"
   },
   {
    "duration": -136,
    "start_time": "2022-02-15T21:16:52.719Z"
   },
   {
    "duration": -140,
    "start_time": "2022-02-15T21:16:52.723Z"
   },
   {
    "duration": -143,
    "start_time": "2022-02-15T21:16:52.727Z"
   },
   {
    "duration": -145,
    "start_time": "2022-02-15T21:16:52.730Z"
   },
   {
    "duration": -162,
    "start_time": "2022-02-15T21:16:52.748Z"
   },
   {
    "duration": -166,
    "start_time": "2022-02-15T21:16:52.753Z"
   },
   {
    "duration": 7,
    "start_time": "2022-02-15T21:17:05.399Z"
   },
   {
    "duration": 44,
    "start_time": "2022-02-15T21:17:05.408Z"
   },
   {
    "duration": 5,
    "start_time": "2022-02-15T21:17:05.454Z"
   },
   {
    "duration": 17,
    "start_time": "2022-02-15T21:17:05.461Z"
   },
   {
    "duration": 5,
    "start_time": "2022-02-15T21:17:05.480Z"
   },
   {
    "duration": 55,
    "start_time": "2022-02-15T21:17:05.487Z"
   },
   {
    "duration": 5,
    "start_time": "2022-02-15T21:17:05.544Z"
   },
   {
    "duration": 15,
    "start_time": "2022-02-15T21:17:05.551Z"
   },
   {
    "duration": 210,
    "start_time": "2022-02-15T21:17:05.568Z"
   },
   {
    "duration": 10,
    "start_time": "2022-02-15T21:17:05.779Z"
   },
   {
    "duration": 30,
    "start_time": "2022-02-15T21:17:05.791Z"
   },
   {
    "duration": 197,
    "start_time": "2022-02-15T21:17:05.823Z"
   },
   {
    "duration": 192,
    "start_time": "2022-02-15T21:17:06.022Z"
   },
   {
    "duration": 8,
    "start_time": "2022-02-15T21:17:06.218Z"
   },
   {
    "duration": 30,
    "start_time": "2022-02-15T21:17:06.228Z"
   },
   {
    "duration": 6,
    "start_time": "2022-02-15T21:17:06.260Z"
   },
   {
    "duration": 4,
    "start_time": "2022-02-15T21:17:06.267Z"
   },
   {
    "duration": 14,
    "start_time": "2022-02-15T21:17:06.273Z"
   },
   {
    "duration": 8,
    "start_time": "2022-02-15T21:17:06.290Z"
   },
   {
    "duration": 18,
    "start_time": "2022-02-15T21:17:06.318Z"
   },
   {
    "duration": 13,
    "start_time": "2022-02-15T21:17:06.338Z"
   },
   {
    "duration": 16,
    "start_time": "2022-02-15T21:17:06.352Z"
   },
   {
    "duration": 730,
    "start_time": "2022-02-15T21:17:53.151Z"
   },
   {
    "duration": 1232,
    "start_time": "2022-02-15T21:22:02.165Z"
   },
   {
    "duration": 46,
    "start_time": "2022-02-15T21:22:03.399Z"
   },
   {
    "duration": 5,
    "start_time": "2022-02-15T21:22:03.447Z"
   },
   {
    "duration": 14,
    "start_time": "2022-02-15T21:22:03.454Z"
   },
   {
    "duration": 2,
    "start_time": "2022-02-15T21:22:03.470Z"
   },
   {
    "duration": 60,
    "start_time": "2022-02-15T21:22:03.474Z"
   },
   {
    "duration": 4,
    "start_time": "2022-02-15T21:22:03.536Z"
   },
   {
    "duration": 15,
    "start_time": "2022-02-15T21:22:03.543Z"
   },
   {
    "duration": 221,
    "start_time": "2022-02-15T21:22:03.560Z"
   },
   {
    "duration": 9,
    "start_time": "2022-02-15T21:22:03.783Z"
   },
   {
    "duration": 26,
    "start_time": "2022-02-15T21:22:03.794Z"
   },
   {
    "duration": 213,
    "start_time": "2022-02-15T21:22:03.821Z"
   },
   {
    "duration": 208,
    "start_time": "2022-02-15T21:22:04.036Z"
   },
   {
    "duration": 10,
    "start_time": "2022-02-15T21:22:04.245Z"
   },
   {
    "duration": 28,
    "start_time": "2022-02-15T21:22:04.256Z"
   },
   {
    "duration": 5,
    "start_time": "2022-02-15T21:22:04.286Z"
   },
   {
    "duration": 5,
    "start_time": "2022-02-15T21:22:04.293Z"
   },
   {
    "duration": 7,
    "start_time": "2022-02-15T21:22:04.319Z"
   },
   {
    "duration": 17,
    "start_time": "2022-02-15T21:22:04.328Z"
   },
   {
    "duration": 18,
    "start_time": "2022-02-15T21:22:04.347Z"
   },
   {
    "duration": 15,
    "start_time": "2022-02-15T21:22:04.367Z"
   },
   {
    "duration": 41,
    "start_time": "2022-02-15T21:22:04.384Z"
   },
   {
    "duration": 13,
    "start_time": "2022-02-15T21:22:10.367Z"
   },
   {
    "duration": 11,
    "start_time": "2022-02-15T21:22:14.795Z"
   },
   {
    "duration": 119149,
    "start_time": "2022-02-15T21:22:21.939Z"
   },
   {
    "duration": 166,
    "start_time": "2022-02-15T21:24:34.492Z"
   },
   {
    "duration": 7,
    "start_time": "2022-02-15T21:24:41.274Z"
   },
   {
    "duration": 41,
    "start_time": "2022-02-15T21:24:41.283Z"
   },
   {
    "duration": 5,
    "start_time": "2022-02-15T21:24:41.326Z"
   },
   {
    "duration": 10,
    "start_time": "2022-02-15T21:24:41.333Z"
   },
   {
    "duration": 11,
    "start_time": "2022-02-15T21:24:41.345Z"
   },
   {
    "duration": 62,
    "start_time": "2022-02-15T21:24:41.358Z"
   },
   {
    "duration": 5,
    "start_time": "2022-02-15T21:24:41.423Z"
   },
   {
    "duration": 13,
    "start_time": "2022-02-15T21:24:41.430Z"
   },
   {
    "duration": 220,
    "start_time": "2022-02-15T21:24:41.445Z"
   },
   {
    "duration": 15,
    "start_time": "2022-02-15T21:24:41.667Z"
   },
   {
    "duration": 31,
    "start_time": "2022-02-15T21:24:41.684Z"
   },
   {
    "duration": 198,
    "start_time": "2022-02-15T21:24:41.717Z"
   },
   {
    "duration": 193,
    "start_time": "2022-02-15T21:24:41.918Z"
   },
   {
    "duration": 13,
    "start_time": "2022-02-15T21:24:42.112Z"
   },
   {
    "duration": 21,
    "start_time": "2022-02-15T21:24:42.127Z"
   },
   {
    "duration": 5,
    "start_time": "2022-02-15T21:24:42.150Z"
   },
   {
    "duration": 3,
    "start_time": "2022-02-15T21:24:42.157Z"
   },
   {
    "duration": 9,
    "start_time": "2022-02-15T21:24:42.161Z"
   },
   {
    "duration": 7,
    "start_time": "2022-02-15T21:24:42.174Z"
   },
   {
    "duration": 51,
    "start_time": "2022-02-15T21:24:42.183Z"
   },
   {
    "duration": 13,
    "start_time": "2022-02-15T21:24:42.236Z"
   },
   {
    "duration": 17,
    "start_time": "2022-02-15T21:24:42.250Z"
   },
   {
    "duration": 109316,
    "start_time": "2022-02-15T21:24:45.930Z"
   },
   {
    "duration": 187,
    "start_time": "2022-02-15T21:28:39.390Z"
   },
   {
    "duration": 34,
    "start_time": "2022-02-15T21:29:54.741Z"
   },
   {
    "duration": 222,
    "start_time": "2022-02-16T04:18:12.235Z"
   },
   {
    "duration": 1124,
    "start_time": "2022-02-16T04:18:18.463Z"
   },
   {
    "duration": 36,
    "start_time": "2022-02-16T04:18:19.589Z"
   },
   {
    "duration": 5,
    "start_time": "2022-02-16T04:18:19.627Z"
   },
   {
    "duration": 11,
    "start_time": "2022-02-16T04:18:19.634Z"
   },
   {
    "duration": 12,
    "start_time": "2022-02-16T04:18:19.647Z"
   },
   {
    "duration": 40,
    "start_time": "2022-02-16T04:18:19.660Z"
   },
   {
    "duration": 4,
    "start_time": "2022-02-16T04:18:19.701Z"
   },
   {
    "duration": 11,
    "start_time": "2022-02-16T04:18:19.708Z"
   },
   {
    "duration": 211,
    "start_time": "2022-02-16T04:18:19.721Z"
   },
   {
    "duration": 7,
    "start_time": "2022-02-16T04:18:19.934Z"
   },
   {
    "duration": 20,
    "start_time": "2022-02-16T04:18:19.943Z"
   },
   {
    "duration": 187,
    "start_time": "2022-02-16T04:18:19.964Z"
   },
   {
    "duration": 181,
    "start_time": "2022-02-16T04:18:20.153Z"
   },
   {
    "duration": 8,
    "start_time": "2022-02-16T04:18:20.336Z"
   },
   {
    "duration": 177,
    "start_time": "2022-02-16T04:18:22.572Z"
   },
   {
    "duration": 169,
    "start_time": "2022-02-16T04:19:05.867Z"
   },
   {
    "duration": 220,
    "start_time": "2022-02-16T04:24:47.014Z"
   },
   {
    "duration": 8,
    "start_time": "2022-02-16T04:25:00.452Z"
   },
   {
    "duration": 171,
    "start_time": "2022-02-16T04:25:03.813Z"
   },
   {
    "duration": 242,
    "start_time": "2022-02-16T04:28:25.317Z"
   },
   {
    "duration": 6,
    "start_time": "2022-02-16T04:28:47.508Z"
   },
   {
    "duration": 262,
    "start_time": "2022-02-16T04:30:33.116Z"
   },
   {
    "duration": 198,
    "start_time": "2022-02-16T04:31:20.138Z"
   },
   {
    "duration": 252,
    "start_time": "2022-02-16T04:31:54.982Z"
   },
   {
    "duration": 176,
    "start_time": "2022-02-16T04:33:28.192Z"
   },
   {
    "duration": 195,
    "start_time": "2022-02-16T04:33:42.080Z"
   },
   {
    "duration": 215,
    "start_time": "2022-02-16T04:33:44.944Z"
   },
   {
    "duration": 8,
    "start_time": "2022-02-16T04:33:49.328Z"
   },
   {
    "duration": 1155,
    "start_time": "2022-02-16T04:40:03.153Z"
   },
   {
    "duration": 38,
    "start_time": "2022-02-16T04:40:04.310Z"
   },
   {
    "duration": 9,
    "start_time": "2022-02-16T04:40:04.351Z"
   },
   {
    "duration": 11,
    "start_time": "2022-02-16T04:40:04.362Z"
   },
   {
    "duration": 2,
    "start_time": "2022-02-16T04:40:04.375Z"
   },
   {
    "duration": 39,
    "start_time": "2022-02-16T04:40:04.378Z"
   },
   {
    "duration": 4,
    "start_time": "2022-02-16T04:40:04.418Z"
   },
   {
    "duration": 35,
    "start_time": "2022-02-16T04:40:04.425Z"
   },
   {
    "duration": 186,
    "start_time": "2022-02-16T04:40:04.462Z"
   },
   {
    "duration": 14,
    "start_time": "2022-02-16T04:40:04.650Z"
   },
   {
    "duration": 7,
    "start_time": "2022-02-16T04:40:04.665Z"
   },
   {
    "duration": 195,
    "start_time": "2022-02-16T04:40:04.674Z"
   },
   {
    "duration": 179,
    "start_time": "2022-02-16T04:40:04.871Z"
   },
   {
    "duration": 8,
    "start_time": "2022-02-16T04:40:05.059Z"
   },
   {
    "duration": 181,
    "start_time": "2022-02-16T04:40:05.068Z"
   },
   {
    "duration": 185,
    "start_time": "2022-02-16T04:40:05.259Z"
   },
   {
    "duration": 17,
    "start_time": "2022-02-16T04:40:05.446Z"
   },
   {
    "duration": 181,
    "start_time": "2022-02-16T04:40:05.464Z"
   },
   {
    "duration": 335,
    "start_time": "2022-02-16T04:40:05.647Z"
   },
   {
    "duration": 8,
    "start_time": "2022-02-16T04:40:05.983Z"
   },
   {
    "duration": 24,
    "start_time": "2022-02-16T04:40:15.477Z"
   },
   {
    "duration": 34,
    "start_time": "2022-02-16T04:50:26.768Z"
   },
   {
    "duration": 328,
    "start_time": "2022-02-16T06:47:37.012Z"
   },
   {
    "duration": 1191,
    "start_time": "2022-02-16T06:47:42.317Z"
   },
   {
    "duration": 49,
    "start_time": "2022-02-16T06:47:48.196Z"
   },
   {
    "duration": 5,
    "start_time": "2022-02-16T06:47:50.861Z"
   },
   {
    "duration": 8,
    "start_time": "2022-02-16T06:47:52.871Z"
   },
   {
    "duration": 5,
    "start_time": "2022-02-16T06:48:00.428Z"
   },
   {
    "duration": 33,
    "start_time": "2022-02-16T06:48:02.304Z"
   },
   {
    "duration": 4,
    "start_time": "2022-02-16T06:48:04.890Z"
   },
   {
    "duration": 8,
    "start_time": "2022-02-16T06:48:06.602Z"
   },
   {
    "duration": 156,
    "start_time": "2022-02-16T06:48:14.339Z"
   },
   {
    "duration": 200,
    "start_time": "2022-02-16T06:48:23.270Z"
   },
   {
    "duration": 148,
    "start_time": "2022-02-16T06:51:49.003Z"
   },
   {
    "duration": 159,
    "start_time": "2022-02-16T06:51:56.797Z"
   },
   {
    "duration": 225,
    "start_time": "2022-02-16T06:52:01.722Z"
   },
   {
    "duration": 159,
    "start_time": "2022-02-16T06:54:59.164Z"
   },
   {
    "duration": 208,
    "start_time": "2022-02-16T06:55:07.346Z"
   },
   {
    "duration": 7,
    "start_time": "2022-02-16T06:55:15.184Z"
   },
   {
    "duration": 156,
    "start_time": "2022-02-16T06:55:17.738Z"
   },
   {
    "duration": 228,
    "start_time": "2022-02-16T06:55:24.632Z"
   },
   {
    "duration": 155,
    "start_time": "2022-02-16T06:55:36.070Z"
   },
   {
    "duration": 158,
    "start_time": "2022-02-16T06:55:47.923Z"
   },
   {
    "duration": 134,
    "start_time": "2022-02-16T06:56:09.666Z"
   },
   {
    "duration": 224,
    "start_time": "2022-02-16T06:56:21.116Z"
   },
   {
    "duration": 238,
    "start_time": "2022-02-16T06:56:25.370Z"
   },
   {
    "duration": 207,
    "start_time": "2022-02-16T06:56:33.919Z"
   },
   {
    "duration": 175,
    "start_time": "2022-02-16T06:56:51.532Z"
   },
   {
    "duration": 9,
    "start_time": "2022-02-16T06:56:58.796Z"
   },
   {
    "duration": 19,
    "start_time": "2022-02-16T06:57:00.758Z"
   },
   {
    "duration": 112,
    "start_time": "2022-02-16T06:57:09.046Z"
   },
   {
    "duration": 16,
    "start_time": "2022-02-16T06:57:12.711Z"
   },
   {
    "duration": 203,
    "start_time": "2022-02-16T06:57:38.150Z"
   },
   {
    "duration": 15,
    "start_time": "2022-02-16T07:01:54.140Z"
   },
   {
    "duration": 75,
    "start_time": "2022-02-16T07:03:45.536Z"
   },
   {
    "duration": 53,
    "start_time": "2022-02-16T07:03:45.613Z"
   },
   {
    "duration": 3,
    "start_time": "2022-02-16T07:03:45.668Z"
   },
   {
    "duration": 9,
    "start_time": "2022-02-16T07:03:45.673Z"
   },
   {
    "duration": 5,
    "start_time": "2022-02-16T07:03:45.683Z"
   },
   {
    "duration": 43,
    "start_time": "2022-02-16T07:03:45.689Z"
   },
   {
    "duration": 3,
    "start_time": "2022-02-16T07:03:45.734Z"
   },
   {
    "duration": 8,
    "start_time": "2022-02-16T07:03:45.739Z"
   },
   {
    "duration": 169,
    "start_time": "2022-02-16T07:03:45.748Z"
   },
   {
    "duration": 13,
    "start_time": "2022-02-16T07:03:45.919Z"
   },
   {
    "duration": 7,
    "start_time": "2022-02-16T07:03:45.933Z"
   },
   {
    "duration": 173,
    "start_time": "2022-02-16T07:03:45.941Z"
   },
   {
    "duration": 161,
    "start_time": "2022-02-16T07:03:46.116Z"
   },
   {
    "duration": 3,
    "start_time": "2022-02-16T07:03:46.279Z"
   },
   {
    "duration": 168,
    "start_time": "2022-02-16T07:03:46.284Z"
   },
   {
    "duration": 150,
    "start_time": "2022-02-16T07:03:46.454Z"
   },
   {
    "duration": 6,
    "start_time": "2022-02-16T07:03:46.605Z"
   },
   {
    "duration": 148,
    "start_time": "2022-02-16T07:03:46.612Z"
   },
   {
    "duration": 181,
    "start_time": "2022-02-16T07:03:46.761Z"
   },
   {
    "duration": 7,
    "start_time": "2022-02-16T07:03:46.944Z"
   },
   {
    "duration": 15,
    "start_time": "2022-02-16T07:03:46.952Z"
   },
   {
    "duration": 4,
    "start_time": "2022-02-16T07:03:46.969Z"
   },
   {
    "duration": 14,
    "start_time": "2022-02-16T07:03:46.976Z"
   },
   {
    "duration": 4,
    "start_time": "2022-02-16T07:06:48.511Z"
   },
   {
    "duration": 47,
    "start_time": "2022-02-16T07:08:17.193Z"
   },
   {
    "duration": 121,
    "start_time": "2022-02-16T07:10:32.717Z"
   },
   {
    "duration": 78,
    "start_time": "2022-02-16T07:10:52.258Z"
   },
   {
    "duration": 124,
    "start_time": "2022-02-16T07:10:59.413Z"
   },
   {
    "duration": 68,
    "start_time": "2022-02-16T07:11:08.371Z"
   },
   {
    "duration": 34,
    "start_time": "2022-02-16T07:11:25.019Z"
   },
   {
    "duration": 124,
    "start_time": "2022-02-16T07:12:39.409Z"
   },
   {
    "duration": 60,
    "start_time": "2022-02-16T07:12:50.772Z"
   },
   {
    "duration": 35,
    "start_time": "2022-02-16T07:12:56.417Z"
   },
   {
    "duration": 64,
    "start_time": "2022-02-16T07:12:59.868Z"
   },
   {
    "duration": 37,
    "start_time": "2022-02-16T07:13:07.361Z"
   },
   {
    "duration": 39,
    "start_time": "2022-02-16T07:15:31.218Z"
   },
   {
    "duration": 386,
    "start_time": "2022-02-16T07:22:01.012Z"
   },
   {
    "duration": 330,
    "start_time": "2022-02-16T07:22:20.525Z"
   },
   {
    "duration": 23,
    "start_time": "2022-02-16T07:22:38.035Z"
   },
   {
    "duration": 391,
    "start_time": "2022-02-16T07:24:09.487Z"
   },
   {
    "duration": 368,
    "start_time": "2022-02-16T07:24:31.910Z"
   },
   {
    "duration": 7,
    "start_time": "2022-02-16T07:26:42.034Z"
   },
   {
    "duration": 331,
    "start_time": "2022-02-16T07:26:59.254Z"
   },
   {
    "duration": 6,
    "start_time": "2022-02-16T07:28:36.518Z"
   },
   {
    "duration": 49,
    "start_time": "2022-02-16T07:28:36.525Z"
   },
   {
    "duration": 4,
    "start_time": "2022-02-16T07:28:36.575Z"
   },
   {
    "duration": 8,
    "start_time": "2022-02-16T07:28:36.581Z"
   },
   {
    "duration": 4,
    "start_time": "2022-02-16T07:28:36.590Z"
   },
   {
    "duration": 37,
    "start_time": "2022-02-16T07:28:36.595Z"
   },
   {
    "duration": 4,
    "start_time": "2022-02-16T07:28:36.634Z"
   },
   {
    "duration": 8,
    "start_time": "2022-02-16T07:28:36.640Z"
   },
   {
    "duration": 172,
    "start_time": "2022-02-16T07:28:36.649Z"
   },
   {
    "duration": 12,
    "start_time": "2022-02-16T07:28:36.822Z"
   },
   {
    "duration": 7,
    "start_time": "2022-02-16T07:28:36.835Z"
   },
   {
    "duration": 175,
    "start_time": "2022-02-16T07:28:36.843Z"
   },
   {
    "duration": 154,
    "start_time": "2022-02-16T07:28:37.020Z"
   },
   {
    "duration": 7,
    "start_time": "2022-02-16T07:28:37.176Z"
   },
   {
    "duration": 163,
    "start_time": "2022-02-16T07:28:37.185Z"
   },
   {
    "duration": 157,
    "start_time": "2022-02-16T07:28:37.350Z"
   },
   {
    "duration": 6,
    "start_time": "2022-02-16T07:28:37.509Z"
   },
   {
    "duration": 140,
    "start_time": "2022-02-16T07:28:37.517Z"
   },
   {
    "duration": 178,
    "start_time": "2022-02-16T07:28:37.660Z"
   },
   {
    "duration": 6,
    "start_time": "2022-02-16T07:28:37.839Z"
   },
   {
    "duration": 16,
    "start_time": "2022-02-16T07:28:37.847Z"
   },
   {
    "duration": 5,
    "start_time": "2022-02-16T07:28:37.864Z"
   },
   {
    "duration": 533,
    "start_time": "2022-02-16T07:28:37.870Z"
   },
   {
    "duration": 375,
    "start_time": "2022-02-16T07:28:38.404Z"
   },
   {
    "duration": 402,
    "start_time": "2022-02-16T07:28:38.780Z"
   },
   {
    "duration": 276,
    "start_time": "2022-02-16T07:28:39.184Z"
   },
   {
    "duration": 1141,
    "start_time": "2022-02-16T07:28:59.011Z"
   },
   {
    "duration": 40,
    "start_time": "2022-02-16T07:29:00.153Z"
   },
   {
    "duration": 5,
    "start_time": "2022-02-16T07:29:00.194Z"
   },
   {
    "duration": 13,
    "start_time": "2022-02-16T07:29:00.200Z"
   },
   {
    "duration": 4,
    "start_time": "2022-02-16T07:29:00.214Z"
   },
   {
    "duration": 38,
    "start_time": "2022-02-16T07:29:00.219Z"
   },
   {
    "duration": 3,
    "start_time": "2022-02-16T07:29:00.259Z"
   },
   {
    "duration": 11,
    "start_time": "2022-02-16T07:29:00.264Z"
   },
   {
    "duration": 178,
    "start_time": "2022-02-16T07:29:00.277Z"
   },
   {
    "duration": 7,
    "start_time": "2022-02-16T07:29:00.456Z"
   },
   {
    "duration": 14,
    "start_time": "2022-02-16T07:29:00.465Z"
   },
   {
    "duration": 276,
    "start_time": "2022-02-16T07:29:00.480Z"
   },
   {
    "duration": 163,
    "start_time": "2022-02-16T07:29:00.758Z"
   },
   {
    "duration": 13,
    "start_time": "2022-02-16T07:29:00.922Z"
   },
   {
    "duration": 167,
    "start_time": "2022-02-16T07:29:00.937Z"
   },
   {
    "duration": 150,
    "start_time": "2022-02-16T07:29:01.106Z"
   },
   {
    "duration": 5,
    "start_time": "2022-02-16T07:29:01.258Z"
   },
   {
    "duration": 146,
    "start_time": "2022-02-16T07:29:01.264Z"
   },
   {
    "duration": 242,
    "start_time": "2022-02-16T07:29:01.411Z"
   },
   {
    "duration": 9,
    "start_time": "2022-02-16T07:29:01.655Z"
   },
   {
    "duration": 18,
    "start_time": "2022-02-16T07:29:01.666Z"
   },
   {
    "duration": 5,
    "start_time": "2022-02-16T07:29:01.686Z"
   },
   {
    "duration": 387,
    "start_time": "2022-02-16T07:29:01.694Z"
   },
   {
    "duration": 394,
    "start_time": "2022-02-16T07:29:02.083Z"
   },
   {
    "duration": 391,
    "start_time": "2022-02-16T07:29:02.478Z"
   },
   {
    "duration": 442,
    "start_time": "2022-02-16T07:29:02.870Z"
   },
   {
    "duration": 392,
    "start_time": "2022-02-16T07:31:48.312Z"
   },
   {
    "duration": 7,
    "start_time": "2022-02-16T07:34:35.205Z"
   },
   {
    "duration": 72,
    "start_time": "2022-02-16T07:34:35.214Z"
   },
   {
    "duration": 4,
    "start_time": "2022-02-16T07:34:35.289Z"
   },
   {
    "duration": 22,
    "start_time": "2022-02-16T07:34:35.295Z"
   },
   {
    "duration": 17,
    "start_time": "2022-02-16T07:34:35.318Z"
   },
   {
    "duration": 61,
    "start_time": "2022-02-16T07:34:35.336Z"
   },
   {
    "duration": 4,
    "start_time": "2022-02-16T07:34:35.398Z"
   },
   {
    "duration": 28,
    "start_time": "2022-02-16T07:34:35.405Z"
   },
   {
    "duration": 179,
    "start_time": "2022-02-16T07:34:35.435Z"
   },
   {
    "duration": 7,
    "start_time": "2022-02-16T07:34:35.615Z"
   },
   {
    "duration": 24,
    "start_time": "2022-02-16T07:34:35.631Z"
   },
   {
    "duration": 170,
    "start_time": "2022-02-16T07:34:35.656Z"
   },
   {
    "duration": 148,
    "start_time": "2022-02-16T07:34:35.831Z"
   },
   {
    "duration": 6,
    "start_time": "2022-02-16T07:34:35.981Z"
   },
   {
    "duration": 172,
    "start_time": "2022-02-16T07:34:35.988Z"
   },
   {
    "duration": 148,
    "start_time": "2022-02-16T07:34:36.162Z"
   },
   {
    "duration": 5,
    "start_time": "2022-02-16T07:34:36.312Z"
   },
   {
    "duration": 145,
    "start_time": "2022-02-16T07:34:36.318Z"
   },
   {
    "duration": 250,
    "start_time": "2022-02-16T07:34:36.464Z"
   },
   {
    "duration": 5,
    "start_time": "2022-02-16T07:34:36.716Z"
   },
   {
    "duration": 29,
    "start_time": "2022-02-16T07:34:36.723Z"
   },
   {
    "duration": 12,
    "start_time": "2022-02-16T07:34:36.754Z"
   },
   {
    "duration": 408,
    "start_time": "2022-02-16T07:34:36.769Z"
   },
   {
    "duration": 399,
    "start_time": "2022-02-16T07:34:37.178Z"
   },
   {
    "duration": 229,
    "start_time": "2022-02-16T07:34:37.579Z"
   },
   {
    "duration": 1646,
    "start_time": "2022-02-16T07:35:02.789Z"
   },
   {
    "duration": 383,
    "start_time": "2022-02-16T07:35:17.993Z"
   },
   {
    "duration": 384,
    "start_time": "2022-02-16T07:35:21.192Z"
   },
   {
    "duration": 6,
    "start_time": "2022-02-16T07:35:35.928Z"
   },
   {
    "duration": 36,
    "start_time": "2022-02-16T07:35:35.936Z"
   },
   {
    "duration": 4,
    "start_time": "2022-02-16T07:35:35.974Z"
   },
   {
    "duration": 20,
    "start_time": "2022-02-16T07:35:35.979Z"
   },
   {
    "duration": 14,
    "start_time": "2022-02-16T07:35:36.000Z"
   },
   {
    "duration": 41,
    "start_time": "2022-02-16T07:35:36.015Z"
   },
   {
    "duration": 4,
    "start_time": "2022-02-16T07:35:36.057Z"
   },
   {
    "duration": 18,
    "start_time": "2022-02-16T07:35:36.063Z"
   },
   {
    "duration": 162,
    "start_time": "2022-02-16T07:35:36.082Z"
   },
   {
    "duration": 7,
    "start_time": "2022-02-16T07:35:36.245Z"
   },
   {
    "duration": 6,
    "start_time": "2022-02-16T07:35:36.254Z"
   },
   {
    "duration": 180,
    "start_time": "2022-02-16T07:35:36.262Z"
   },
   {
    "duration": 155,
    "start_time": "2022-02-16T07:35:36.443Z"
   },
   {
    "duration": 6,
    "start_time": "2022-02-16T07:35:36.599Z"
   },
   {
    "duration": 167,
    "start_time": "2022-02-16T07:35:36.607Z"
   },
   {
    "duration": 148,
    "start_time": "2022-02-16T07:35:36.776Z"
   },
   {
    "duration": 10,
    "start_time": "2022-02-16T07:35:36.926Z"
   },
   {
    "duration": 145,
    "start_time": "2022-02-16T07:35:36.938Z"
   },
   {
    "duration": 173,
    "start_time": "2022-02-16T07:35:37.085Z"
   },
   {
    "duration": 5,
    "start_time": "2022-02-16T07:35:37.260Z"
   },
   {
    "duration": 16,
    "start_time": "2022-02-16T07:35:37.267Z"
   },
   {
    "duration": 5,
    "start_time": "2022-02-16T07:35:37.285Z"
   },
   {
    "duration": 402,
    "start_time": "2022-02-16T07:35:37.292Z"
   },
   {
    "duration": 380,
    "start_time": "2022-02-16T07:35:37.695Z"
   },
   {
    "duration": 2432,
    "start_time": "2022-02-16T07:35:38.077Z"
   },
   {
    "duration": 1160,
    "start_time": "2022-02-16T07:35:51.986Z"
   },
   {
    "duration": 37,
    "start_time": "2022-02-16T07:35:53.148Z"
   },
   {
    "duration": 4,
    "start_time": "2022-02-16T07:35:53.187Z"
   },
   {
    "duration": 9,
    "start_time": "2022-02-16T07:35:53.192Z"
   },
   {
    "duration": 5,
    "start_time": "2022-02-16T07:35:53.203Z"
   },
   {
    "duration": 51,
    "start_time": "2022-02-16T07:35:53.209Z"
   },
   {
    "duration": 4,
    "start_time": "2022-02-16T07:35:53.262Z"
   },
   {
    "duration": 8,
    "start_time": "2022-02-16T07:35:53.269Z"
   },
   {
    "duration": 173,
    "start_time": "2022-02-16T07:35:53.279Z"
   },
   {
    "duration": 7,
    "start_time": "2022-02-16T07:35:53.454Z"
   },
   {
    "duration": 7,
    "start_time": "2022-02-16T07:35:53.462Z"
   },
   {
    "duration": 185,
    "start_time": "2022-02-16T07:35:53.470Z"
   },
   {
    "duration": 164,
    "start_time": "2022-02-16T07:35:53.657Z"
   },
   {
    "duration": 10,
    "start_time": "2022-02-16T07:35:53.822Z"
   },
   {
    "duration": 159,
    "start_time": "2022-02-16T07:35:53.834Z"
   },
   {
    "duration": 169,
    "start_time": "2022-02-16T07:35:53.994Z"
   },
   {
    "duration": 6,
    "start_time": "2022-02-16T07:35:54.165Z"
   },
   {
    "duration": 151,
    "start_time": "2022-02-16T07:35:54.173Z"
   },
   {
    "duration": 241,
    "start_time": "2022-02-16T07:35:54.326Z"
   },
   {
    "duration": 10,
    "start_time": "2022-02-16T07:35:54.569Z"
   },
   {
    "duration": 18,
    "start_time": "2022-02-16T07:35:54.581Z"
   },
   {
    "duration": 5,
    "start_time": "2022-02-16T07:35:54.601Z"
   },
   {
    "duration": 425,
    "start_time": "2022-02-16T07:35:54.631Z"
   },
   {
    "duration": 418,
    "start_time": "2022-02-16T07:35:55.058Z"
   },
   {
    "duration": 996,
    "start_time": "2022-02-16T07:35:55.478Z"
   },
   {
    "duration": 374,
    "start_time": "2022-02-16T07:36:43.306Z"
   },
   {
    "duration": 1112,
    "start_time": "2022-02-16T07:38:41.132Z"
   },
   {
    "duration": 38,
    "start_time": "2022-02-16T07:38:42.245Z"
   },
   {
    "duration": 4,
    "start_time": "2022-02-16T07:38:42.288Z"
   },
   {
    "duration": 11,
    "start_time": "2022-02-16T07:38:42.293Z"
   },
   {
    "duration": 6,
    "start_time": "2022-02-16T07:38:42.305Z"
   },
   {
    "duration": 40,
    "start_time": "2022-02-16T07:38:42.312Z"
   },
   {
    "duration": 3,
    "start_time": "2022-02-16T07:38:42.355Z"
   },
   {
    "duration": 8,
    "start_time": "2022-02-16T07:38:42.360Z"
   },
   {
    "duration": 176,
    "start_time": "2022-02-16T07:38:42.370Z"
   },
   {
    "duration": 7,
    "start_time": "2022-02-16T07:38:42.548Z"
   },
   {
    "duration": 32,
    "start_time": "2022-02-16T07:38:42.556Z"
   },
   {
    "duration": 165,
    "start_time": "2022-02-16T07:38:42.590Z"
   },
   {
    "duration": 170,
    "start_time": "2022-02-16T07:38:42.757Z"
   },
   {
    "duration": 7,
    "start_time": "2022-02-16T07:38:42.928Z"
   },
   {
    "duration": 162,
    "start_time": "2022-02-16T07:38:42.937Z"
   },
   {
    "duration": 160,
    "start_time": "2022-02-16T07:38:43.100Z"
   },
   {
    "duration": 6,
    "start_time": "2022-02-16T07:38:43.261Z"
   },
   {
    "duration": 144,
    "start_time": "2022-02-16T07:38:43.268Z"
   },
   {
    "duration": 233,
    "start_time": "2022-02-16T07:38:43.414Z"
   },
   {
    "duration": 10,
    "start_time": "2022-02-16T07:38:43.649Z"
   },
   {
    "duration": 23,
    "start_time": "2022-02-16T07:38:43.661Z"
   },
   {
    "duration": 7,
    "start_time": "2022-02-16T07:38:43.686Z"
   },
   {
    "duration": 450,
    "start_time": "2022-02-16T07:38:43.695Z"
   },
   {
    "duration": 401,
    "start_time": "2022-02-16T07:38:44.147Z"
   },
   {
    "duration": 342,
    "start_time": "2022-02-16T07:38:44.550Z"
   },
   {
    "duration": 1157,
    "start_time": "2022-02-16T07:40:44.094Z"
   },
   {
    "duration": 38,
    "start_time": "2022-02-16T07:40:45.253Z"
   },
   {
    "duration": 4,
    "start_time": "2022-02-16T07:40:45.293Z"
   },
   {
    "duration": 9,
    "start_time": "2022-02-16T07:40:45.299Z"
   },
   {
    "duration": 3,
    "start_time": "2022-02-16T07:40:45.310Z"
   },
   {
    "duration": 40,
    "start_time": "2022-02-16T07:40:45.315Z"
   },
   {
    "duration": 4,
    "start_time": "2022-02-16T07:40:45.357Z"
   },
   {
    "duration": 8,
    "start_time": "2022-02-16T07:40:45.363Z"
   },
   {
    "duration": 176,
    "start_time": "2022-02-16T07:40:45.373Z"
   },
   {
    "duration": 7,
    "start_time": "2022-02-16T07:40:45.551Z"
   },
   {
    "duration": 6,
    "start_time": "2022-02-16T07:40:45.559Z"
   },
   {
    "duration": 174,
    "start_time": "2022-02-16T07:40:45.566Z"
   },
   {
    "duration": 156,
    "start_time": "2022-02-16T07:40:45.741Z"
   },
   {
    "duration": 6,
    "start_time": "2022-02-16T07:40:45.899Z"
   },
   {
    "duration": 157,
    "start_time": "2022-02-16T07:40:45.907Z"
   },
   {
    "duration": 157,
    "start_time": "2022-02-16T07:40:46.066Z"
   },
   {
    "duration": 7,
    "start_time": "2022-02-16T07:40:46.225Z"
   },
   {
    "duration": 137,
    "start_time": "2022-02-16T07:40:46.234Z"
   },
   {
    "duration": 225,
    "start_time": "2022-02-16T07:40:46.372Z"
   },
   {
    "duration": 9,
    "start_time": "2022-02-16T07:40:46.599Z"
   },
   {
    "duration": 28,
    "start_time": "2022-02-16T07:40:46.609Z"
   },
   {
    "duration": 6,
    "start_time": "2022-02-16T07:40:46.638Z"
   },
   {
    "duration": 323,
    "start_time": "2022-02-16T07:40:46.646Z"
   },
   {
    "duration": 398,
    "start_time": "2022-02-16T07:40:46.971Z"
   },
   {
    "duration": 367,
    "start_time": "2022-02-16T07:40:47.371Z"
   },
   {
    "duration": 1101,
    "start_time": "2022-02-16T07:41:33.041Z"
   },
   {
    "duration": 37,
    "start_time": "2022-02-16T07:41:34.144Z"
   },
   {
    "duration": 4,
    "start_time": "2022-02-16T07:41:34.185Z"
   },
   {
    "duration": 10,
    "start_time": "2022-02-16T07:41:34.191Z"
   },
   {
    "duration": 4,
    "start_time": "2022-02-16T07:41:34.202Z"
   },
   {
    "duration": 49,
    "start_time": "2022-02-16T07:41:34.207Z"
   },
   {
    "duration": 3,
    "start_time": "2022-02-16T07:41:34.258Z"
   },
   {
    "duration": 9,
    "start_time": "2022-02-16T07:41:34.263Z"
   },
   {
    "duration": 175,
    "start_time": "2022-02-16T07:41:34.274Z"
   },
   {
    "duration": 7,
    "start_time": "2022-02-16T07:41:34.451Z"
   },
   {
    "duration": 6,
    "start_time": "2022-02-16T07:41:34.459Z"
   },
   {
    "duration": 183,
    "start_time": "2022-02-16T07:41:34.466Z"
   },
   {
    "duration": 159,
    "start_time": "2022-02-16T07:41:34.650Z"
   },
   {
    "duration": 7,
    "start_time": "2022-02-16T07:41:34.811Z"
   },
   {
    "duration": 166,
    "start_time": "2022-02-16T07:41:34.819Z"
   },
   {
    "duration": 177,
    "start_time": "2022-02-16T07:41:34.986Z"
   },
   {
    "duration": 5,
    "start_time": "2022-02-16T07:41:35.164Z"
   },
   {
    "duration": 133,
    "start_time": "2022-02-16T07:41:35.170Z"
   },
   {
    "duration": 229,
    "start_time": "2022-02-16T07:41:35.305Z"
   },
   {
    "duration": 9,
    "start_time": "2022-02-16T07:41:35.536Z"
   },
   {
    "duration": 16,
    "start_time": "2022-02-16T07:41:35.547Z"
   },
   {
    "duration": 5,
    "start_time": "2022-02-16T07:41:35.566Z"
   },
   {
    "duration": 397,
    "start_time": "2022-02-16T07:41:35.572Z"
   },
   {
    "duration": 406,
    "start_time": "2022-02-16T07:41:35.971Z"
   },
   {
    "duration": 365,
    "start_time": "2022-02-16T07:41:36.379Z"
   },
   {
    "duration": 1090,
    "start_time": "2022-02-16T07:43:06.351Z"
   },
   {
    "duration": 37,
    "start_time": "2022-02-16T07:43:07.443Z"
   },
   {
    "duration": 4,
    "start_time": "2022-02-16T07:43:07.482Z"
   },
   {
    "duration": 25,
    "start_time": "2022-02-16T07:43:07.487Z"
   },
   {
    "duration": 30,
    "start_time": "2022-02-16T07:43:07.514Z"
   },
   {
    "duration": 59,
    "start_time": "2022-02-16T07:43:07.546Z"
   },
   {
    "duration": 3,
    "start_time": "2022-02-16T07:43:07.607Z"
   },
   {
    "duration": 32,
    "start_time": "2022-02-16T07:43:07.613Z"
   },
   {
    "duration": 166,
    "start_time": "2022-02-16T07:43:07.647Z"
   },
   {
    "duration": 9,
    "start_time": "2022-02-16T07:43:07.815Z"
   },
   {
    "duration": 28,
    "start_time": "2022-02-16T07:43:07.825Z"
   },
   {
    "duration": 167,
    "start_time": "2022-02-16T07:43:07.855Z"
   },
   {
    "duration": 152,
    "start_time": "2022-02-16T07:43:08.024Z"
   },
   {
    "duration": 7,
    "start_time": "2022-02-16T07:43:08.177Z"
   },
   {
    "duration": 176,
    "start_time": "2022-02-16T07:43:08.185Z"
   },
   {
    "duration": 159,
    "start_time": "2022-02-16T07:43:08.363Z"
   },
   {
    "duration": 10,
    "start_time": "2022-02-16T07:43:08.524Z"
   },
   {
    "duration": 136,
    "start_time": "2022-02-16T07:43:08.535Z"
   },
   {
    "duration": 240,
    "start_time": "2022-02-16T07:43:08.672Z"
   },
   {
    "duration": 8,
    "start_time": "2022-02-16T07:43:08.914Z"
   },
   {
    "duration": 120,
    "start_time": "2022-02-16T07:43:08.924Z"
   },
   {
    "duration": -21,
    "start_time": "2022-02-16T07:43:09.067Z"
   },
   {
    "duration": -24,
    "start_time": "2022-02-16T07:43:09.071Z"
   },
   {
    "duration": -34,
    "start_time": "2022-02-16T07:43:09.082Z"
   },
   {
    "duration": -36,
    "start_time": "2022-02-16T07:43:09.085Z"
   },
   {
    "duration": 1058,
    "start_time": "2022-02-16T07:43:47.089Z"
   },
   {
    "duration": 39,
    "start_time": "2022-02-16T07:43:48.149Z"
   },
   {
    "duration": 4,
    "start_time": "2022-02-16T07:43:48.192Z"
   },
   {
    "duration": 9,
    "start_time": "2022-02-16T07:43:48.198Z"
   },
   {
    "duration": 4,
    "start_time": "2022-02-16T07:43:48.209Z"
   },
   {
    "duration": 49,
    "start_time": "2022-02-16T07:43:48.214Z"
   },
   {
    "duration": 3,
    "start_time": "2022-02-16T07:43:48.265Z"
   },
   {
    "duration": 10,
    "start_time": "2022-02-16T07:43:48.270Z"
   },
   {
    "duration": 171,
    "start_time": "2022-02-16T07:43:48.282Z"
   },
   {
    "duration": 8,
    "start_time": "2022-02-16T07:43:48.454Z"
   },
   {
    "duration": 7,
    "start_time": "2022-02-16T07:43:48.463Z"
   },
   {
    "duration": 185,
    "start_time": "2022-02-16T07:43:48.472Z"
   },
   {
    "duration": 175,
    "start_time": "2022-02-16T07:43:48.658Z"
   },
   {
    "duration": 7,
    "start_time": "2022-02-16T07:43:48.834Z"
   },
   {
    "duration": 166,
    "start_time": "2022-02-16T07:43:48.843Z"
   },
   {
    "duration": 249,
    "start_time": "2022-02-16T07:43:49.011Z"
   },
   {
    "duration": 5,
    "start_time": "2022-02-16T07:43:49.261Z"
   },
   {
    "duration": 141,
    "start_time": "2022-02-16T07:43:49.268Z"
   },
   {
    "duration": 239,
    "start_time": "2022-02-16T07:43:49.410Z"
   },
   {
    "duration": 11,
    "start_time": "2022-02-16T07:43:49.650Z"
   },
   {
    "duration": 33,
    "start_time": "2022-02-16T07:43:49.662Z"
   },
   {
    "duration": 5,
    "start_time": "2022-02-16T07:43:49.698Z"
   },
   {
    "duration": 372,
    "start_time": "2022-02-16T07:43:49.705Z"
   },
   {
    "duration": 382,
    "start_time": "2022-02-16T07:43:50.079Z"
   },
   {
    "duration": 334,
    "start_time": "2022-02-16T07:43:50.463Z"
   },
   {
    "duration": 1141,
    "start_time": "2022-02-16T07:45:58.525Z"
   },
   {
    "duration": 41,
    "start_time": "2022-02-16T07:45:59.668Z"
   },
   {
    "duration": 4,
    "start_time": "2022-02-16T07:45:59.711Z"
   },
   {
    "duration": 9,
    "start_time": "2022-02-16T07:45:59.717Z"
   },
   {
    "duration": 6,
    "start_time": "2022-02-16T07:45:59.728Z"
   },
   {
    "duration": 32,
    "start_time": "2022-02-16T07:45:59.735Z"
   },
   {
    "duration": 4,
    "start_time": "2022-02-16T07:45:59.769Z"
   },
   {
    "duration": 9,
    "start_time": "2022-02-16T07:45:59.775Z"
   },
   {
    "duration": 187,
    "start_time": "2022-02-16T07:45:59.786Z"
   },
   {
    "duration": 7,
    "start_time": "2022-02-16T07:45:59.975Z"
   },
   {
    "duration": 7,
    "start_time": "2022-02-16T07:45:59.983Z"
   },
   {
    "duration": 193,
    "start_time": "2022-02-16T07:45:59.991Z"
   },
   {
    "duration": 169,
    "start_time": "2022-02-16T07:46:00.185Z"
   },
   {
    "duration": 7,
    "start_time": "2022-02-16T07:46:00.355Z"
   },
   {
    "duration": 173,
    "start_time": "2022-02-16T07:46:00.363Z"
   },
   {
    "duration": 152,
    "start_time": "2022-02-16T07:46:00.537Z"
   },
   {
    "duration": 5,
    "start_time": "2022-02-16T07:46:00.691Z"
   },
   {
    "duration": 249,
    "start_time": "2022-02-16T07:46:00.697Z"
   },
   {
    "duration": 244,
    "start_time": "2022-02-16T07:46:00.948Z"
   },
   {
    "duration": 9,
    "start_time": "2022-02-16T07:46:01.194Z"
   },
   {
    "duration": 31,
    "start_time": "2022-02-16T07:46:01.204Z"
   },
   {
    "duration": 5,
    "start_time": "2022-02-16T07:46:01.237Z"
   },
   {
    "duration": 336,
    "start_time": "2022-02-16T07:46:01.245Z"
   },
   {
    "duration": 395,
    "start_time": "2022-02-16T07:46:01.583Z"
   },
   {
    "duration": -28,
    "start_time": "2022-02-16T07:46:02.008Z"
   },
   {
    "duration": 358,
    "start_time": "2022-02-16T07:46:11.735Z"
   },
   {
    "duration": 1084,
    "start_time": "2022-02-16T07:46:31.459Z"
   },
   {
    "duration": 40,
    "start_time": "2022-02-16T07:46:32.545Z"
   },
   {
    "duration": 5,
    "start_time": "2022-02-16T07:46:32.587Z"
   },
   {
    "duration": 23,
    "start_time": "2022-02-16T07:46:32.594Z"
   },
   {
    "duration": 16,
    "start_time": "2022-02-16T07:46:32.619Z"
   },
   {
    "duration": 44,
    "start_time": "2022-02-16T07:46:32.636Z"
   },
   {
    "duration": 4,
    "start_time": "2022-02-16T07:46:32.682Z"
   },
   {
    "duration": 24,
    "start_time": "2022-02-16T07:46:32.689Z"
   },
   {
    "duration": 155,
    "start_time": "2022-02-16T07:46:32.715Z"
   },
   {
    "duration": 7,
    "start_time": "2022-02-16T07:46:32.871Z"
   },
   {
    "duration": 32,
    "start_time": "2022-02-16T07:46:32.880Z"
   },
   {
    "duration": 157,
    "start_time": "2022-02-16T07:46:32.914Z"
   },
   {
    "duration": 154,
    "start_time": "2022-02-16T07:46:33.073Z"
   },
   {
    "duration": 6,
    "start_time": "2022-02-16T07:46:33.229Z"
   },
   {
    "duration": 164,
    "start_time": "2022-02-16T07:46:33.237Z"
   },
   {
    "duration": 147,
    "start_time": "2022-02-16T07:46:33.403Z"
   },
   {
    "duration": 5,
    "start_time": "2022-02-16T07:46:33.552Z"
   },
   {
    "duration": 146,
    "start_time": "2022-02-16T07:46:33.559Z"
   },
   {
    "duration": 239,
    "start_time": "2022-02-16T07:46:33.706Z"
   },
   {
    "duration": 9,
    "start_time": "2022-02-16T07:46:33.947Z"
   },
   {
    "duration": 16,
    "start_time": "2022-02-16T07:46:33.958Z"
   },
   {
    "duration": 5,
    "start_time": "2022-02-16T07:46:33.976Z"
   },
   {
    "duration": 393,
    "start_time": "2022-02-16T07:46:33.984Z"
   },
   {
    "duration": 403,
    "start_time": "2022-02-16T07:46:34.379Z"
   },
   {
    "duration": -21,
    "start_time": "2022-02-16T07:46:34.805Z"
   },
   {
    "duration": 333,
    "start_time": "2022-02-16T07:47:08.319Z"
   },
   {
    "duration": 321,
    "start_time": "2022-02-16T07:48:33.673Z"
   },
   {
    "duration": 1106,
    "start_time": "2022-02-16T07:49:07.036Z"
   },
   {
    "duration": 37,
    "start_time": "2022-02-16T07:49:08.144Z"
   },
   {
    "duration": 4,
    "start_time": "2022-02-16T07:49:08.183Z"
   },
   {
    "duration": 9,
    "start_time": "2022-02-16T07:49:08.189Z"
   },
   {
    "duration": 4,
    "start_time": "2022-02-16T07:49:08.199Z"
   },
   {
    "duration": 49,
    "start_time": "2022-02-16T07:49:08.205Z"
   },
   {
    "duration": 5,
    "start_time": "2022-02-16T07:49:08.256Z"
   },
   {
    "duration": 8,
    "start_time": "2022-02-16T07:49:08.264Z"
   },
   {
    "duration": 215,
    "start_time": "2022-02-16T07:49:08.274Z"
   },
   {
    "duration": 9,
    "start_time": "2022-02-16T07:49:08.490Z"
   },
   {
    "duration": 8,
    "start_time": "2022-02-16T07:49:08.500Z"
   },
   {
    "duration": 179,
    "start_time": "2022-02-16T07:49:08.509Z"
   },
   {
    "duration": 162,
    "start_time": "2022-02-16T07:49:08.689Z"
   },
   {
    "duration": 6,
    "start_time": "2022-02-16T07:49:08.853Z"
   },
   {
    "duration": 159,
    "start_time": "2022-02-16T07:49:08.860Z"
   },
   {
    "duration": 151,
    "start_time": "2022-02-16T07:49:09.021Z"
   },
   {
    "duration": 6,
    "start_time": "2022-02-16T07:49:09.174Z"
   },
   {
    "duration": 135,
    "start_time": "2022-02-16T07:49:09.181Z"
   },
   {
    "duration": 263,
    "start_time": "2022-02-16T07:49:09.318Z"
   },
   {
    "duration": 9,
    "start_time": "2022-02-16T07:49:09.583Z"
   },
   {
    "duration": 17,
    "start_time": "2022-02-16T07:49:09.593Z"
   },
   {
    "duration": 5,
    "start_time": "2022-02-16T07:49:09.611Z"
   },
   {
    "duration": 396,
    "start_time": "2022-02-16T07:49:09.618Z"
   },
   {
    "duration": 382,
    "start_time": "2022-02-16T07:49:10.016Z"
   },
   {
    "duration": -23,
    "start_time": "2022-02-16T07:49:10.423Z"
   },
   {
    "duration": 320,
    "start_time": "2022-02-16T07:49:34.405Z"
   },
   {
    "duration": 1114,
    "start_time": "2022-02-16T07:50:01.042Z"
   },
   {
    "duration": 39,
    "start_time": "2022-02-16T07:50:02.158Z"
   },
   {
    "duration": 4,
    "start_time": "2022-02-16T07:50:02.199Z"
   },
   {
    "duration": 13,
    "start_time": "2022-02-16T07:50:02.205Z"
   },
   {
    "duration": 5,
    "start_time": "2022-02-16T07:50:02.219Z"
   },
   {
    "duration": 32,
    "start_time": "2022-02-16T07:50:02.226Z"
   },
   {
    "duration": 4,
    "start_time": "2022-02-16T07:50:02.260Z"
   },
   {
    "duration": 12,
    "start_time": "2022-02-16T07:50:02.266Z"
   },
   {
    "duration": 173,
    "start_time": "2022-02-16T07:50:02.280Z"
   },
   {
    "duration": 8,
    "start_time": "2022-02-16T07:50:02.454Z"
   },
   {
    "duration": 7,
    "start_time": "2022-02-16T07:50:02.463Z"
   },
   {
    "duration": 187,
    "start_time": "2022-02-16T07:50:02.471Z"
   },
   {
    "duration": 160,
    "start_time": "2022-02-16T07:50:02.660Z"
   },
   {
    "duration": 10,
    "start_time": "2022-02-16T07:50:02.822Z"
   },
   {
    "duration": 181,
    "start_time": "2022-02-16T07:50:02.834Z"
   },
   {
    "duration": 149,
    "start_time": "2022-02-16T07:50:03.017Z"
   },
   {
    "duration": 6,
    "start_time": "2022-02-16T07:50:03.167Z"
   },
   {
    "duration": 145,
    "start_time": "2022-02-16T07:50:03.174Z"
   },
   {
    "duration": 232,
    "start_time": "2022-02-16T07:50:03.320Z"
   },
   {
    "duration": 8,
    "start_time": "2022-02-16T07:50:03.553Z"
   },
   {
    "duration": 22,
    "start_time": "2022-02-16T07:50:03.563Z"
   },
   {
    "duration": 9,
    "start_time": "2022-02-16T07:50:03.587Z"
   },
   {
    "duration": 382,
    "start_time": "2022-02-16T07:50:03.598Z"
   },
   {
    "duration": 383,
    "start_time": "2022-02-16T07:50:03.982Z"
   },
   {
    "duration": -22,
    "start_time": "2022-02-16T07:50:04.388Z"
   },
   {
    "duration": 335,
    "start_time": "2022-02-16T07:50:15.669Z"
   },
   {
    "duration": 304,
    "start_time": "2022-02-16T07:50:28.888Z"
   },
   {
    "duration": 316,
    "start_time": "2022-02-16T07:50:47.963Z"
   },
   {
    "duration": 7,
    "start_time": "2022-02-16T07:51:00.355Z"
   },
   {
    "duration": 48,
    "start_time": "2022-02-16T07:51:00.364Z"
   },
   {
    "duration": 5,
    "start_time": "2022-02-16T07:51:00.414Z"
   },
   {
    "duration": 11,
    "start_time": "2022-02-16T07:51:00.421Z"
   },
   {
    "duration": 5,
    "start_time": "2022-02-16T07:51:00.433Z"
   },
   {
    "duration": 33,
    "start_time": "2022-02-16T07:51:00.440Z"
   },
   {
    "duration": 4,
    "start_time": "2022-02-16T07:51:00.475Z"
   },
   {
    "duration": 8,
    "start_time": "2022-02-16T07:51:00.482Z"
   },
   {
    "duration": 176,
    "start_time": "2022-02-16T07:51:00.492Z"
   },
   {
    "duration": 8,
    "start_time": "2022-02-16T07:51:00.669Z"
   },
   {
    "duration": 7,
    "start_time": "2022-02-16T07:51:00.679Z"
   },
   {
    "duration": 190,
    "start_time": "2022-02-16T07:51:00.687Z"
   },
   {
    "duration": 163,
    "start_time": "2022-02-16T07:51:00.878Z"
   },
   {
    "duration": 6,
    "start_time": "2022-02-16T07:51:01.043Z"
   },
   {
    "duration": 168,
    "start_time": "2022-02-16T07:51:01.050Z"
   },
   {
    "duration": 161,
    "start_time": "2022-02-16T07:51:01.219Z"
   },
   {
    "duration": 5,
    "start_time": "2022-02-16T07:51:01.381Z"
   },
   {
    "duration": 145,
    "start_time": "2022-02-16T07:51:01.388Z"
   },
   {
    "duration": 216,
    "start_time": "2022-02-16T07:51:01.534Z"
   },
   {
    "duration": 6,
    "start_time": "2022-02-16T07:51:01.751Z"
   },
   {
    "duration": 18,
    "start_time": "2022-02-16T07:51:01.759Z"
   },
   {
    "duration": 5,
    "start_time": "2022-02-16T07:51:01.779Z"
   },
   {
    "duration": 394,
    "start_time": "2022-02-16T07:51:01.787Z"
   },
   {
    "duration": 5,
    "start_time": "2022-02-16T07:51:16.121Z"
   },
   {
    "duration": 16,
    "start_time": "2022-02-16T07:51:25.271Z"
   },
   {
    "duration": 16,
    "start_time": "2022-02-16T07:51:25.430Z"
   },
   {
    "duration": 14,
    "start_time": "2022-02-16T07:51:50.235Z"
   },
   {
    "duration": 15,
    "start_time": "2022-02-16T07:51:58.630Z"
   },
   {
    "duration": 18,
    "start_time": "2022-02-16T07:52:24.666Z"
   },
   {
    "duration": 335,
    "start_time": "2022-02-16T07:52:43.503Z"
   },
   {
    "duration": 334,
    "start_time": "2022-02-16T07:53:02.562Z"
   },
   {
    "duration": 321,
    "start_time": "2022-02-16T07:54:08.356Z"
   },
   {
    "duration": 384,
    "start_time": "2022-02-16T07:55:02.400Z"
   },
   {
    "duration": 1258,
    "start_time": "2022-02-16T07:55:17.839Z"
   },
   {
    "duration": 37,
    "start_time": "2022-02-16T07:55:19.099Z"
   },
   {
    "duration": 4,
    "start_time": "2022-02-16T07:55:19.137Z"
   },
   {
    "duration": 9,
    "start_time": "2022-02-16T07:55:19.143Z"
   },
   {
    "duration": 4,
    "start_time": "2022-02-16T07:55:19.153Z"
   },
   {
    "duration": 33,
    "start_time": "2022-02-16T07:55:19.158Z"
   },
   {
    "duration": 4,
    "start_time": "2022-02-16T07:55:19.192Z"
   },
   {
    "duration": 8,
    "start_time": "2022-02-16T07:55:19.198Z"
   },
   {
    "duration": 160,
    "start_time": "2022-02-16T07:55:19.232Z"
   },
   {
    "duration": 7,
    "start_time": "2022-02-16T07:55:19.394Z"
   },
   {
    "duration": 6,
    "start_time": "2022-02-16T07:55:19.403Z"
   },
   {
    "duration": 182,
    "start_time": "2022-02-16T07:55:19.411Z"
   },
   {
    "duration": 165,
    "start_time": "2022-02-16T07:55:19.595Z"
   },
   {
    "duration": 6,
    "start_time": "2022-02-16T07:55:19.762Z"
   },
   {
    "duration": 166,
    "start_time": "2022-02-16T07:55:19.769Z"
   },
   {
    "duration": 155,
    "start_time": "2022-02-16T07:55:19.936Z"
   },
   {
    "duration": 5,
    "start_time": "2022-02-16T07:55:20.092Z"
   },
   {
    "duration": 145,
    "start_time": "2022-02-16T07:55:20.099Z"
   },
   {
    "duration": 240,
    "start_time": "2022-02-16T07:55:20.246Z"
   },
   {
    "duration": 8,
    "start_time": "2022-02-16T07:55:20.488Z"
   },
   {
    "duration": 18,
    "start_time": "2022-02-16T07:55:20.498Z"
   },
   {
    "duration": 18,
    "start_time": "2022-02-16T07:55:20.517Z"
   },
   {
    "duration": 411,
    "start_time": "2022-02-16T07:55:20.537Z"
   },
   {
    "duration": 426,
    "start_time": "2022-02-16T07:55:20.950Z"
   },
   {
    "duration": -28,
    "start_time": "2022-02-16T07:55:21.406Z"
   },
   {
    "duration": -30,
    "start_time": "2022-02-16T07:55:21.409Z"
   },
   {
    "duration": 16,
    "start_time": "2022-02-16T07:55:58.461Z"
   },
   {
    "duration": 15,
    "start_time": "2022-02-16T07:56:07.288Z"
   },
   {
    "duration": 359,
    "start_time": "2022-02-16T07:57:07.608Z"
   },
   {
    "duration": 18,
    "start_time": "2022-02-16T07:57:19.591Z"
   },
   {
    "duration": 25,
    "start_time": "2022-02-16T07:57:42.548Z"
   },
   {
    "duration": 369,
    "start_time": "2022-02-16T07:57:49.879Z"
   },
   {
    "duration": 337,
    "start_time": "2022-02-16T07:58:14.564Z"
   },
   {
    "duration": 30,
    "start_time": "2022-02-16T08:00:07.124Z"
   },
   {
    "duration": 395,
    "start_time": "2022-02-16T08:00:14.104Z"
   },
   {
    "duration": 336,
    "start_time": "2022-02-16T08:00:57.590Z"
   },
   {
    "duration": 366,
    "start_time": "2022-02-16T08:01:16.822Z"
   },
   {
    "duration": 1127,
    "start_time": "2022-02-16T08:01:36.723Z"
   },
   {
    "duration": 38,
    "start_time": "2022-02-16T08:01:37.852Z"
   },
   {
    "duration": 4,
    "start_time": "2022-02-16T08:01:37.893Z"
   },
   {
    "duration": 12,
    "start_time": "2022-02-16T08:01:37.899Z"
   },
   {
    "duration": 4,
    "start_time": "2022-02-16T08:01:37.913Z"
   },
   {
    "duration": 44,
    "start_time": "2022-02-16T08:01:37.918Z"
   },
   {
    "duration": 4,
    "start_time": "2022-02-16T08:01:37.964Z"
   },
   {
    "duration": 7,
    "start_time": "2022-02-16T08:01:37.970Z"
   },
   {
    "duration": 175,
    "start_time": "2022-02-16T08:01:37.979Z"
   },
   {
    "duration": 7,
    "start_time": "2022-02-16T08:01:38.156Z"
   },
   {
    "duration": 7,
    "start_time": "2022-02-16T08:01:38.165Z"
   },
   {
    "duration": 198,
    "start_time": "2022-02-16T08:01:38.173Z"
   },
   {
    "duration": 173,
    "start_time": "2022-02-16T08:01:38.372Z"
   },
   {
    "duration": 6,
    "start_time": "2022-02-16T08:01:38.547Z"
   },
   {
    "duration": 271,
    "start_time": "2022-02-16T08:01:38.555Z"
   },
   {
    "duration": 244,
    "start_time": "2022-02-16T08:01:38.831Z"
   },
   {
    "duration": 7,
    "start_time": "2022-02-16T08:01:39.077Z"
   },
   {
    "duration": 228,
    "start_time": "2022-02-16T08:01:39.086Z"
   },
   {
    "duration": 369,
    "start_time": "2022-02-16T08:01:39.316Z"
   },
   {
    "duration": 10,
    "start_time": "2022-02-16T08:01:39.687Z"
   },
   {
    "duration": 34,
    "start_time": "2022-02-16T08:01:39.698Z"
   },
   {
    "duration": 6,
    "start_time": "2022-02-16T08:01:39.733Z"
   },
   {
    "duration": 447,
    "start_time": "2022-02-16T08:01:39.743Z"
   },
   {
    "duration": 422,
    "start_time": "2022-02-16T08:01:40.192Z"
   },
   {
    "duration": -26,
    "start_time": "2022-02-16T08:01:40.642Z"
   },
   {
    "duration": -27,
    "start_time": "2022-02-16T08:01:40.644Z"
   },
   {
    "duration": -30,
    "start_time": "2022-02-16T08:01:40.647Z"
   },
   {
    "duration": 30,
    "start_time": "2022-02-16T08:01:58.587Z"
   },
   {
    "duration": 349,
    "start_time": "2022-02-16T08:01:59.939Z"
   },
   {
    "duration": 367,
    "start_time": "2022-02-16T08:02:10.267Z"
   },
   {
    "duration": 400,
    "start_time": "2022-02-16T08:02:24.658Z"
   },
   {
    "duration": 8,
    "start_time": "2022-02-16T08:56:14.106Z"
   },
   {
    "duration": 352,
    "start_time": "2022-02-16T08:56:48.998Z"
   },
   {
    "duration": 16,
    "start_time": "2022-02-16T08:57:58.201Z"
   },
   {
    "duration": 9,
    "start_time": "2022-02-16T09:04:36.718Z"
   },
   {
    "duration": 331,
    "start_time": "2022-02-16T09:06:47.917Z"
   },
   {
    "duration": 1065,
    "start_time": "2022-02-16T09:07:50.186Z"
   },
   {
    "duration": 38,
    "start_time": "2022-02-16T09:07:51.253Z"
   },
   {
    "duration": 4,
    "start_time": "2022-02-16T09:07:51.293Z"
   },
   {
    "duration": 9,
    "start_time": "2022-02-16T09:07:51.299Z"
   },
   {
    "duration": 4,
    "start_time": "2022-02-16T09:07:51.309Z"
   },
   {
    "duration": 41,
    "start_time": "2022-02-16T09:07:51.315Z"
   },
   {
    "duration": 4,
    "start_time": "2022-02-16T09:07:51.358Z"
   },
   {
    "duration": 8,
    "start_time": "2022-02-16T09:07:51.364Z"
   },
   {
    "duration": 286,
    "start_time": "2022-02-16T09:07:51.374Z"
   },
   {
    "duration": 9,
    "start_time": "2022-02-16T09:07:51.662Z"
   },
   {
    "duration": 7,
    "start_time": "2022-02-16T09:07:51.673Z"
   },
   {
    "duration": 176,
    "start_time": "2022-02-16T09:07:51.682Z"
   },
   {
    "duration": 162,
    "start_time": "2022-02-16T09:07:51.859Z"
   },
   {
    "duration": 10,
    "start_time": "2022-02-16T09:07:52.023Z"
   },
   {
    "duration": 163,
    "start_time": "2022-02-16T09:07:52.034Z"
   },
   {
    "duration": 147,
    "start_time": "2022-02-16T09:07:52.199Z"
   },
   {
    "duration": 5,
    "start_time": "2022-02-16T09:07:52.347Z"
   },
   {
    "duration": 145,
    "start_time": "2022-02-16T09:07:52.354Z"
   },
   {
    "duration": 240,
    "start_time": "2022-02-16T09:07:52.501Z"
   },
   {
    "duration": 10,
    "start_time": "2022-02-16T09:07:52.743Z"
   },
   {
    "duration": 18,
    "start_time": "2022-02-16T09:07:52.755Z"
   },
   {
    "duration": 7,
    "start_time": "2022-02-16T09:07:52.775Z"
   },
   {
    "duration": 368,
    "start_time": "2022-02-16T09:07:52.786Z"
   },
   {
    "duration": 14,
    "start_time": "2022-02-16T09:07:53.156Z"
   },
   {
    "duration": 417,
    "start_time": "2022-02-16T09:07:53.172Z"
   },
   {
    "duration": -30,
    "start_time": "2022-02-16T09:07:53.621Z"
   },
   {
    "duration": -30,
    "start_time": "2022-02-16T09:07:53.623Z"
   },
   {
    "duration": 9,
    "start_time": "2022-02-16T09:08:05.244Z"
   },
   {
    "duration": 266,
    "start_time": "2022-02-16T09:08:07.481Z"
   },
   {
    "duration": 17,
    "start_time": "2022-02-16T09:11:05.248Z"
   },
   {
    "duration": 319,
    "start_time": "2022-02-16T09:11:07.234Z"
   },
   {
    "duration": 382,
    "start_time": "2022-02-16T09:11:32.980Z"
   },
   {
    "duration": 344,
    "start_time": "2022-02-16T09:11:50.808Z"
   },
   {
    "duration": 105,
    "start_time": "2022-02-16T09:13:04.533Z"
   },
   {
    "duration": 417,
    "start_time": "2022-02-16T09:13:42.541Z"
   },
   {
    "duration": 319,
    "start_time": "2022-02-16T09:15:07.173Z"
   },
   {
    "duration": 349,
    "start_time": "2022-02-16T09:16:12.593Z"
   },
   {
    "duration": 320,
    "start_time": "2022-02-16T09:16:39.063Z"
   },
   {
    "duration": 7,
    "start_time": "2022-02-16T09:16:54.136Z"
   },
   {
    "duration": 41,
    "start_time": "2022-02-16T09:16:54.145Z"
   },
   {
    "duration": 4,
    "start_time": "2022-02-16T09:16:54.188Z"
   },
   {
    "duration": 8,
    "start_time": "2022-02-16T09:16:54.194Z"
   },
   {
    "duration": 4,
    "start_time": "2022-02-16T09:16:54.204Z"
   },
   {
    "duration": 55,
    "start_time": "2022-02-16T09:16:54.209Z"
   },
   {
    "duration": 5,
    "start_time": "2022-02-16T09:16:54.265Z"
   },
   {
    "duration": 8,
    "start_time": "2022-02-16T09:16:54.273Z"
   },
   {
    "duration": 187,
    "start_time": "2022-02-16T09:16:54.284Z"
   },
   {
    "duration": 9,
    "start_time": "2022-02-16T09:16:54.473Z"
   },
   {
    "duration": 6,
    "start_time": "2022-02-16T09:16:54.483Z"
   },
   {
    "duration": 192,
    "start_time": "2022-02-16T09:16:54.491Z"
   },
   {
    "duration": 161,
    "start_time": "2022-02-16T09:16:54.684Z"
   },
   {
    "duration": 6,
    "start_time": "2022-02-16T09:16:54.846Z"
   },
   {
    "duration": 169,
    "start_time": "2022-02-16T09:16:54.853Z"
   },
   {
    "duration": 146,
    "start_time": "2022-02-16T09:16:55.023Z"
   },
   {
    "duration": 5,
    "start_time": "2022-02-16T09:16:55.171Z"
   },
   {
    "duration": 147,
    "start_time": "2022-02-16T09:16:55.177Z"
   },
   {
    "duration": 247,
    "start_time": "2022-02-16T09:16:55.331Z"
   },
   {
    "duration": 6,
    "start_time": "2022-02-16T09:16:55.580Z"
   },
   {
    "duration": 18,
    "start_time": "2022-02-16T09:16:55.587Z"
   },
   {
    "duration": 6,
    "start_time": "2022-02-16T09:16:55.606Z"
   },
   {
    "duration": 401,
    "start_time": "2022-02-16T09:16:55.631Z"
   },
   {
    "duration": 15,
    "start_time": "2022-02-16T09:16:56.033Z"
   },
   {
    "duration": 16,
    "start_time": "2022-02-16T09:16:56.051Z"
   },
   {
    "duration": 391,
    "start_time": "2022-02-16T09:16:56.068Z"
   },
   {
    "duration": 319,
    "start_time": "2022-02-16T09:17:00.311Z"
   },
   {
    "duration": 305,
    "start_time": "2022-02-16T09:17:37.172Z"
   },
   {
    "duration": 6,
    "start_time": "2022-02-16T09:17:49.013Z"
   },
   {
    "duration": 38,
    "start_time": "2022-02-16T09:17:49.020Z"
   },
   {
    "duration": 3,
    "start_time": "2022-02-16T09:17:49.061Z"
   },
   {
    "duration": 8,
    "start_time": "2022-02-16T09:17:49.066Z"
   },
   {
    "duration": 3,
    "start_time": "2022-02-16T09:17:49.076Z"
   },
   {
    "duration": 51,
    "start_time": "2022-02-16T09:17:49.081Z"
   },
   {
    "duration": 4,
    "start_time": "2022-02-16T09:17:49.134Z"
   },
   {
    "duration": 21,
    "start_time": "2022-02-16T09:17:49.140Z"
   },
   {
    "duration": 158,
    "start_time": "2022-02-16T09:17:49.162Z"
   },
   {
    "duration": 13,
    "start_time": "2022-02-16T09:17:49.321Z"
   },
   {
    "duration": 7,
    "start_time": "2022-02-16T09:17:49.335Z"
   },
   {
    "duration": 171,
    "start_time": "2022-02-16T09:17:49.343Z"
   },
   {
    "duration": 169,
    "start_time": "2022-02-16T09:17:49.515Z"
   },
   {
    "duration": 6,
    "start_time": "2022-02-16T09:17:49.686Z"
   },
   {
    "duration": 172,
    "start_time": "2022-02-16T09:17:49.694Z"
   },
   {
    "duration": 148,
    "start_time": "2022-02-16T09:17:49.867Z"
   },
   {
    "duration": 15,
    "start_time": "2022-02-16T09:17:50.017Z"
   },
   {
    "duration": 142,
    "start_time": "2022-02-16T09:17:50.034Z"
   },
   {
    "duration": 190,
    "start_time": "2022-02-16T09:17:50.177Z"
   },
   {
    "duration": 7,
    "start_time": "2022-02-16T09:17:50.369Z"
   },
   {
    "duration": 19,
    "start_time": "2022-02-16T09:17:50.378Z"
   },
   {
    "duration": 8,
    "start_time": "2022-02-16T09:17:50.399Z"
   },
   {
    "duration": 419,
    "start_time": "2022-02-16T09:17:50.433Z"
   },
   {
    "duration": 14,
    "start_time": "2022-02-16T09:17:50.854Z"
   },
   {
    "duration": 17,
    "start_time": "2022-02-16T09:17:50.869Z"
   },
   {
    "duration": 359,
    "start_time": "2022-02-16T09:17:50.887Z"
   },
   {
    "duration": 352,
    "start_time": "2022-02-16T09:17:53.393Z"
   },
   {
    "duration": 6,
    "start_time": "2022-02-16T09:18:02.303Z"
   },
   {
    "duration": 50,
    "start_time": "2022-02-16T09:18:02.310Z"
   },
   {
    "duration": 4,
    "start_time": "2022-02-16T09:18:02.362Z"
   },
   {
    "duration": 19,
    "start_time": "2022-02-16T09:18:02.367Z"
   },
   {
    "duration": 4,
    "start_time": "2022-02-16T09:18:02.387Z"
   },
   {
    "duration": 42,
    "start_time": "2022-02-16T09:18:02.393Z"
   },
   {
    "duration": 4,
    "start_time": "2022-02-16T09:18:02.436Z"
   },
   {
    "duration": 8,
    "start_time": "2022-02-16T09:18:02.442Z"
   },
   {
    "duration": 165,
    "start_time": "2022-02-16T09:18:02.451Z"
   },
   {
    "duration": 16,
    "start_time": "2022-02-16T09:18:02.617Z"
   },
   {
    "duration": 7,
    "start_time": "2022-02-16T09:18:02.635Z"
   },
   {
    "duration": 262,
    "start_time": "2022-02-16T09:18:02.643Z"
   },
   {
    "duration": 167,
    "start_time": "2022-02-16T09:18:02.907Z"
   },
   {
    "duration": 6,
    "start_time": "2022-02-16T09:18:03.076Z"
   },
   {
    "duration": 165,
    "start_time": "2022-02-16T09:18:03.084Z"
   },
   {
    "duration": 153,
    "start_time": "2022-02-16T09:18:03.250Z"
   },
   {
    "duration": 5,
    "start_time": "2022-02-16T09:18:03.405Z"
   },
   {
    "duration": 146,
    "start_time": "2022-02-16T09:18:03.411Z"
   },
   {
    "duration": 186,
    "start_time": "2022-02-16T09:18:03.559Z"
   },
   {
    "duration": 5,
    "start_time": "2022-02-16T09:18:03.747Z"
   },
   {
    "duration": 18,
    "start_time": "2022-02-16T09:18:03.754Z"
   },
   {
    "duration": 7,
    "start_time": "2022-02-16T09:18:03.773Z"
   },
   {
    "duration": 380,
    "start_time": "2022-02-16T09:18:03.783Z"
   },
   {
    "duration": 15,
    "start_time": "2022-02-16T09:18:04.165Z"
   },
   {
    "duration": 17,
    "start_time": "2022-02-16T09:18:04.182Z"
   },
   {
    "duration": 335,
    "start_time": "2022-02-16T09:18:04.201Z"
   },
   {
    "duration": 338,
    "start_time": "2022-02-16T09:22:58.382Z"
   },
   {
    "duration": 3,
    "start_time": "2022-02-16T09:23:03.819Z"
   },
   {
    "duration": 455,
    "start_time": "2022-02-16T09:23:56.835Z"
   },
   {
    "duration": 443,
    "start_time": "2022-02-16T09:24:21.978Z"
   },
   {
    "duration": 264,
    "start_time": "2022-02-16T09:24:31.791Z"
   },
   {
    "duration": 265,
    "start_time": "2022-02-16T09:25:22.512Z"
   },
   {
    "duration": 248,
    "start_time": "2022-02-16T09:25:52.626Z"
   },
   {
    "duration": 1122,
    "start_time": "2022-02-16T09:26:22.121Z"
   },
   {
    "duration": 51,
    "start_time": "2022-02-16T09:26:23.245Z"
   },
   {
    "duration": 5,
    "start_time": "2022-02-16T09:26:23.298Z"
   },
   {
    "duration": 15,
    "start_time": "2022-02-16T09:26:23.305Z"
   },
   {
    "duration": 6,
    "start_time": "2022-02-16T09:26:23.322Z"
   },
   {
    "duration": 48,
    "start_time": "2022-02-16T09:26:23.329Z"
   },
   {
    "duration": 4,
    "start_time": "2022-02-16T09:26:23.379Z"
   },
   {
    "duration": 11,
    "start_time": "2022-02-16T09:26:23.386Z"
   },
   {
    "duration": 190,
    "start_time": "2022-02-16T09:26:23.400Z"
   },
   {
    "duration": 9,
    "start_time": "2022-02-16T09:26:23.592Z"
   },
   {
    "duration": 9,
    "start_time": "2022-02-16T09:26:23.602Z"
   },
   {
    "duration": 186,
    "start_time": "2022-02-16T09:26:23.612Z"
   },
   {
    "duration": 162,
    "start_time": "2022-02-16T09:26:23.800Z"
   },
   {
    "duration": 6,
    "start_time": "2022-02-16T09:26:23.964Z"
   },
   {
    "duration": 267,
    "start_time": "2022-02-16T09:26:23.971Z"
   },
   {
    "duration": 158,
    "start_time": "2022-02-16T09:26:24.240Z"
   },
   {
    "duration": 6,
    "start_time": "2022-02-16T09:26:24.399Z"
   },
   {
    "duration": 146,
    "start_time": "2022-02-16T09:26:24.406Z"
   },
   {
    "duration": 241,
    "start_time": "2022-02-16T09:26:24.554Z"
   },
   {
    "duration": 10,
    "start_time": "2022-02-16T09:26:24.797Z"
   },
   {
    "duration": 31,
    "start_time": "2022-02-16T09:26:24.809Z"
   },
   {
    "duration": 8,
    "start_time": "2022-02-16T09:26:24.842Z"
   },
   {
    "duration": 394,
    "start_time": "2022-02-16T09:26:24.852Z"
   },
   {
    "duration": 13,
    "start_time": "2022-02-16T09:26:25.249Z"
   },
   {
    "duration": 24,
    "start_time": "2022-02-16T09:26:25.264Z"
   },
   {
    "duration": 371,
    "start_time": "2022-02-16T09:26:25.290Z"
   },
   {
    "duration": 371,
    "start_time": "2022-02-16T09:26:25.663Z"
   },
   {
    "duration": 273,
    "start_time": "2022-02-16T09:26:26.035Z"
   },
   {
    "duration": 294,
    "start_time": "2022-02-16T09:26:26.310Z"
   },
   {
    "duration": 1222623,
    "start_time": "2022-02-16T09:26:40.144Z"
   },
   {
    "duration": 491,
    "start_time": "2022-02-16T09:48:05.314Z"
   },
   {
    "duration": 6,
    "start_time": "2022-02-16T09:56:06.983Z"
   },
   {
    "duration": 58,
    "start_time": "2022-02-16T09:56:06.991Z"
   },
   {
    "duration": 5,
    "start_time": "2022-02-16T09:56:07.051Z"
   },
   {
    "duration": 19,
    "start_time": "2022-02-16T09:56:07.058Z"
   },
   {
    "duration": 4,
    "start_time": "2022-02-16T09:56:07.079Z"
   },
   {
    "duration": 50,
    "start_time": "2022-02-16T09:56:07.085Z"
   },
   {
    "duration": 5,
    "start_time": "2022-02-16T09:56:07.137Z"
   },
   {
    "duration": 10,
    "start_time": "2022-02-16T09:56:07.145Z"
   },
   {
    "duration": 201,
    "start_time": "2022-02-16T09:56:07.157Z"
   },
   {
    "duration": 10,
    "start_time": "2022-02-16T09:56:07.360Z"
   },
   {
    "duration": 9,
    "start_time": "2022-02-16T09:56:07.371Z"
   },
   {
    "duration": 195,
    "start_time": "2022-02-16T09:56:07.381Z"
   },
   {
    "duration": 171,
    "start_time": "2022-02-16T09:56:07.578Z"
   },
   {
    "duration": 9,
    "start_time": "2022-02-16T09:56:07.751Z"
   },
   {
    "duration": 249,
    "start_time": "2022-02-16T09:56:07.761Z"
   },
   {
    "duration": 155,
    "start_time": "2022-02-16T09:56:08.012Z"
   },
   {
    "duration": 7,
    "start_time": "2022-02-16T09:56:08.169Z"
   },
   {
    "duration": 169,
    "start_time": "2022-02-16T09:56:08.178Z"
   },
   {
    "duration": 191,
    "start_time": "2022-02-16T09:56:08.349Z"
   },
   {
    "duration": 6,
    "start_time": "2022-02-16T09:56:08.542Z"
   },
   {
    "duration": 17,
    "start_time": "2022-02-16T09:56:08.549Z"
   },
   {
    "duration": 6,
    "start_time": "2022-02-16T09:56:08.567Z"
   },
   {
    "duration": 16,
    "start_time": "2022-02-16T09:56:08.575Z"
   },
   {
    "duration": 354,
    "start_time": "2022-02-16T09:56:08.592Z"
   },
   {
    "duration": 25,
    "start_time": "2022-02-16T09:58:39.532Z"
   },
   {
    "duration": 291,
    "start_time": "2022-02-16T09:59:21.351Z"
   },
   {
    "duration": 6,
    "start_time": "2022-02-16T10:02:40.026Z"
   },
   {
    "duration": 7,
    "start_time": "2022-02-16T10:02:49.725Z"
   },
   {
    "duration": 316,
    "start_time": "2022-02-16T10:03:13.756Z"
   },
   {
    "duration": 296,
    "start_time": "2022-02-16T10:03:18.228Z"
   },
   {
    "duration": 312,
    "start_time": "2022-02-16T10:03:32.811Z"
   },
   {
    "duration": 318,
    "start_time": "2022-02-16T10:03:38.345Z"
   },
   {
    "duration": 315,
    "start_time": "2022-02-16T10:03:57.428Z"
   },
   {
    "duration": 6,
    "start_time": "2022-02-16T10:04:01.434Z"
   },
   {
    "duration": 334,
    "start_time": "2022-02-16T10:04:25.795Z"
   },
   {
    "duration": 347,
    "start_time": "2022-02-16T10:04:47.483Z"
   },
   {
    "duration": 6,
    "start_time": "2022-02-16T10:04:51.501Z"
   },
   {
    "duration": 6,
    "start_time": "2022-02-16T10:04:59.534Z"
   },
   {
    "duration": 1239,
    "start_time": "2022-02-16T10:05:08.358Z"
   },
   {
    "duration": 1261,
    "start_time": "2022-02-16T10:05:17.219Z"
   },
   {
    "duration": 7,
    "start_time": "2022-02-16T10:05:22.812Z"
   },
   {
    "duration": 6,
    "start_time": "2022-02-16T10:06:30.785Z"
   },
   {
    "duration": 376,
    "start_time": "2022-02-16T10:08:26.191Z"
   },
   {
    "duration": 273,
    "start_time": "2022-02-16T10:09:08.790Z"
   },
   {
    "duration": 35,
    "start_time": "2022-02-16T10:09:12.031Z"
   },
   {
    "duration": 487,
    "start_time": "2022-02-16T10:10:15.291Z"
   },
   {
    "duration": 374,
    "start_time": "2022-02-16T10:15:33.751Z"
   },
   {
    "duration": 152,
    "start_time": "2022-02-16T10:16:07.187Z"
   },
   {
    "duration": 7,
    "start_time": "2022-02-16T12:35:41.889Z"
   },
   {
    "duration": 53,
    "start_time": "2022-02-16T12:35:41.898Z"
   },
   {
    "duration": 4,
    "start_time": "2022-02-16T12:35:41.953Z"
   },
   {
    "duration": 9,
    "start_time": "2022-02-16T12:35:41.959Z"
   },
   {
    "duration": 4,
    "start_time": "2022-02-16T12:35:41.970Z"
   },
   {
    "duration": 66,
    "start_time": "2022-02-16T12:35:41.976Z"
   },
   {
    "duration": 5,
    "start_time": "2022-02-16T12:35:42.043Z"
   },
   {
    "duration": 11,
    "start_time": "2022-02-16T12:35:42.050Z"
   },
   {
    "duration": 199,
    "start_time": "2022-02-16T12:35:42.063Z"
   },
   {
    "duration": 9,
    "start_time": "2022-02-16T12:35:42.264Z"
   },
   {
    "duration": 10,
    "start_time": "2022-02-16T12:35:42.275Z"
   },
   {
    "duration": 202,
    "start_time": "2022-02-16T12:35:42.287Z"
   },
   {
    "duration": 171,
    "start_time": "2022-02-16T12:35:42.490Z"
   },
   {
    "duration": 8,
    "start_time": "2022-02-16T12:35:42.663Z"
   },
   {
    "duration": 193,
    "start_time": "2022-02-16T12:35:42.672Z"
   },
   {
    "duration": 261,
    "start_time": "2022-02-16T12:35:42.866Z"
   },
   {
    "duration": 8,
    "start_time": "2022-02-16T12:35:43.129Z"
   },
   {
    "duration": 166,
    "start_time": "2022-02-16T12:35:43.139Z"
   },
   {
    "duration": 214,
    "start_time": "2022-02-16T12:35:43.307Z"
   },
   {
    "duration": 13,
    "start_time": "2022-02-16T12:35:43.523Z"
   },
   {
    "duration": 23,
    "start_time": "2022-02-16T12:35:43.537Z"
   },
   {
    "duration": 734,
    "start_time": "2022-02-16T12:35:59.133Z"
   },
   {
    "duration": 11,
    "start_time": "2022-02-16T12:37:17.376Z"
   },
   {
    "duration": 12,
    "start_time": "2022-02-16T12:38:12.777Z"
   },
   {
    "duration": 405,
    "start_time": "2022-02-16T12:40:03.794Z"
   },
   {
    "duration": 3366,
    "start_time": "2022-02-16T12:40:12.292Z"
   },
   {
    "duration": 11,
    "start_time": "2022-02-16T12:40:21.123Z"
   },
   {
    "duration": 1069,
    "start_time": "2022-02-16T12:46:06.491Z"
   },
   {
    "duration": 39,
    "start_time": "2022-02-16T12:46:07.562Z"
   },
   {
    "duration": 4,
    "start_time": "2022-02-16T12:46:07.603Z"
   },
   {
    "duration": 19,
    "start_time": "2022-02-16T12:46:07.609Z"
   },
   {
    "duration": 9,
    "start_time": "2022-02-16T12:46:07.630Z"
   },
   {
    "duration": 49,
    "start_time": "2022-02-16T12:46:07.641Z"
   },
   {
    "duration": 4,
    "start_time": "2022-02-16T12:46:07.691Z"
   },
   {
    "duration": 9,
    "start_time": "2022-02-16T12:46:07.697Z"
   },
   {
    "duration": 175,
    "start_time": "2022-02-16T12:46:07.708Z"
   },
   {
    "duration": 8,
    "start_time": "2022-02-16T12:46:07.885Z"
   },
   {
    "duration": 7,
    "start_time": "2022-02-16T12:46:07.894Z"
   },
   {
    "duration": 196,
    "start_time": "2022-02-16T12:46:07.902Z"
   },
   {
    "duration": 173,
    "start_time": "2022-02-16T12:46:08.099Z"
   },
   {
    "duration": 6,
    "start_time": "2022-02-16T12:46:08.274Z"
   },
   {
    "duration": 223,
    "start_time": "2022-02-16T12:46:08.281Z"
   },
   {
    "duration": 167,
    "start_time": "2022-02-16T12:46:08.506Z"
   },
   {
    "duration": 7,
    "start_time": "2022-02-16T12:46:08.675Z"
   },
   {
    "duration": 155,
    "start_time": "2022-02-16T12:46:08.684Z"
   },
   {
    "duration": 263,
    "start_time": "2022-02-16T12:46:08.842Z"
   },
   {
    "duration": 10,
    "start_time": "2022-02-16T12:46:09.107Z"
   },
   {
    "duration": 36,
    "start_time": "2022-02-16T12:46:09.119Z"
   },
   {
    "duration": 12,
    "start_time": "2022-02-16T12:46:09.156Z"
   },
   {
    "duration": 21,
    "start_time": "2022-02-16T12:46:09.171Z"
   },
   {
    "duration": 46,
    "start_time": "2022-02-16T12:46:09.194Z"
   },
   {
    "duration": 320,
    "start_time": "2022-02-16T12:46:09.243Z"
   },
   {
    "duration": 7,
    "start_time": "2022-02-16T12:46:09.564Z"
   },
   {
    "duration": 401,
    "start_time": "2022-02-16T12:46:11.556Z"
   },
   {
    "duration": 15,
    "start_time": "2022-02-16T12:46:21.492Z"
   },
   {
    "duration": 6,
    "start_time": "2022-02-16T12:46:45.595Z"
   },
   {
    "duration": 44,
    "start_time": "2022-02-16T12:46:45.603Z"
   },
   {
    "duration": 4,
    "start_time": "2022-02-16T12:46:45.650Z"
   },
   {
    "duration": 9,
    "start_time": "2022-02-16T12:46:45.656Z"
   },
   {
    "duration": 4,
    "start_time": "2022-02-16T12:46:45.666Z"
   },
   {
    "duration": 61,
    "start_time": "2022-02-16T12:46:45.672Z"
   },
   {
    "duration": 4,
    "start_time": "2022-02-16T12:46:45.735Z"
   },
   {
    "duration": 11,
    "start_time": "2022-02-16T12:46:45.743Z"
   },
   {
    "duration": 194,
    "start_time": "2022-02-16T12:46:45.757Z"
   },
   {
    "duration": 8,
    "start_time": "2022-02-16T12:46:45.953Z"
   },
   {
    "duration": 7,
    "start_time": "2022-02-16T12:46:45.962Z"
   },
   {
    "duration": 198,
    "start_time": "2022-02-16T12:46:45.970Z"
   },
   {
    "duration": 167,
    "start_time": "2022-02-16T12:46:46.169Z"
   },
   {
    "duration": 6,
    "start_time": "2022-02-16T12:46:46.339Z"
   },
   {
    "duration": 179,
    "start_time": "2022-02-16T12:46:46.348Z"
   },
   {
    "duration": 169,
    "start_time": "2022-02-16T12:46:46.529Z"
   },
   {
    "duration": 6,
    "start_time": "2022-02-16T12:46:46.699Z"
   },
   {
    "duration": 162,
    "start_time": "2022-02-16T12:46:46.706Z"
   },
   {
    "duration": 205,
    "start_time": "2022-02-16T12:46:46.870Z"
   },
   {
    "duration": 5,
    "start_time": "2022-02-16T12:46:47.077Z"
   },
   {
    "duration": 21,
    "start_time": "2022-02-16T12:46:47.084Z"
   },
   {
    "duration": 32,
    "start_time": "2022-02-16T12:46:47.106Z"
   },
   {
    "duration": 20,
    "start_time": "2022-02-16T12:46:47.143Z"
   },
   {
    "duration": 82,
    "start_time": "2022-02-16T12:46:47.164Z"
   },
   {
    "duration": 419,
    "start_time": "2022-02-16T12:46:47.249Z"
   },
   {
    "duration": 6,
    "start_time": "2022-02-16T12:46:47.669Z"
   },
   {
    "duration": 16,
    "start_time": "2022-02-16T12:46:47.676Z"
   },
   {
    "duration": 35,
    "start_time": "2022-02-16T12:47:18.832Z"
   },
   {
    "duration": 26,
    "start_time": "2022-02-16T12:47:24.693Z"
   },
   {
    "duration": 36,
    "start_time": "2022-02-16T12:47:34.398Z"
   },
   {
    "duration": 306,
    "start_time": "2022-02-16T12:47:54.263Z"
   },
   {
    "duration": 370,
    "start_time": "2022-02-16T12:48:03.230Z"
   },
   {
    "duration": 156,
    "start_time": "2022-02-16T12:48:29.437Z"
   },
   {
    "duration": 107,
    "start_time": "2022-02-16T12:48:56.537Z"
   },
   {
    "duration": 37,
    "start_time": "2022-02-16T12:48:56.647Z"
   },
   {
    "duration": 5,
    "start_time": "2022-02-16T12:48:56.686Z"
   },
   {
    "duration": 9,
    "start_time": "2022-02-16T12:48:56.693Z"
   },
   {
    "duration": 5,
    "start_time": "2022-02-16T12:48:56.704Z"
   },
   {
    "duration": 63,
    "start_time": "2022-02-16T12:48:56.711Z"
   },
   {
    "duration": 4,
    "start_time": "2022-02-16T12:48:56.776Z"
   },
   {
    "duration": 8,
    "start_time": "2022-02-16T12:48:56.782Z"
   },
   {
    "duration": 209,
    "start_time": "2022-02-16T12:48:56.792Z"
   },
   {
    "duration": 7,
    "start_time": "2022-02-16T12:48:57.003Z"
   },
   {
    "duration": 26,
    "start_time": "2022-02-16T12:48:57.012Z"
   },
   {
    "duration": 178,
    "start_time": "2022-02-16T12:48:57.040Z"
   },
   {
    "duration": 178,
    "start_time": "2022-02-16T12:48:57.219Z"
   },
   {
    "duration": 6,
    "start_time": "2022-02-16T12:48:57.398Z"
   },
   {
    "duration": 180,
    "start_time": "2022-02-16T12:48:57.406Z"
   },
   {
    "duration": 180,
    "start_time": "2022-02-16T12:48:57.588Z"
   },
   {
    "duration": 6,
    "start_time": "2022-02-16T12:48:57.769Z"
   },
   {
    "duration": 162,
    "start_time": "2022-02-16T12:48:57.776Z"
   },
   {
    "duration": 203,
    "start_time": "2022-02-16T12:48:57.940Z"
   },
   {
    "duration": 6,
    "start_time": "2022-02-16T12:48:58.145Z"
   },
   {
    "duration": 19,
    "start_time": "2022-02-16T12:48:58.152Z"
   },
   {
    "duration": 9,
    "start_time": "2022-02-16T12:48:58.172Z"
   },
   {
    "duration": 53,
    "start_time": "2022-02-16T12:48:58.185Z"
   },
   {
    "duration": 91,
    "start_time": "2022-02-16T12:48:58.241Z"
   },
   {
    "duration": 327,
    "start_time": "2022-02-16T12:48:58.334Z"
   },
   {
    "duration": 7,
    "start_time": "2022-02-16T12:48:58.663Z"
   },
   {
    "duration": 17,
    "start_time": "2022-02-16T12:48:58.672Z"
   },
   {
    "duration": 58,
    "start_time": "2022-02-16T12:48:58.691Z"
   },
   {
    "duration": 337,
    "start_time": "2022-02-16T12:48:58.832Z"
   },
   {
    "duration": 357,
    "start_time": "2022-02-16T12:48:59.171Z"
   },
   {
    "duration": 170,
    "start_time": "2022-02-16T12:48:59.529Z"
   },
   {
    "duration": 114,
    "start_time": "2022-02-16T12:52:44.956Z"
   },
   {
    "duration": 104,
    "start_time": "2022-02-16T12:55:02.260Z"
   },
   {
    "duration": 262,
    "start_time": "2022-02-16T12:55:13.661Z"
   },
   {
    "duration": 1109,
    "start_time": "2022-02-16T12:57:14.087Z"
   },
   {
    "duration": 42,
    "start_time": "2022-02-16T12:57:15.198Z"
   },
   {
    "duration": 4,
    "start_time": "2022-02-16T12:57:15.245Z"
   },
   {
    "duration": 9,
    "start_time": "2022-02-16T12:57:15.251Z"
   },
   {
    "duration": 4,
    "start_time": "2022-02-16T12:57:15.262Z"
   },
   {
    "duration": 32,
    "start_time": "2022-02-16T12:57:15.267Z"
   },
   {
    "duration": 35,
    "start_time": "2022-02-16T12:57:15.301Z"
   },
   {
    "duration": 12,
    "start_time": "2022-02-16T12:57:15.341Z"
   },
   {
    "duration": 189,
    "start_time": "2022-02-16T12:57:15.355Z"
   },
   {
    "duration": 10,
    "start_time": "2022-02-16T12:57:15.545Z"
   },
   {
    "duration": 8,
    "start_time": "2022-02-16T12:57:15.556Z"
   },
   {
    "duration": 210,
    "start_time": "2022-02-16T12:57:15.565Z"
   },
   {
    "duration": 183,
    "start_time": "2022-02-16T12:57:15.777Z"
   },
   {
    "duration": 7,
    "start_time": "2022-02-16T12:57:15.961Z"
   },
   {
    "duration": 176,
    "start_time": "2022-02-16T12:57:15.969Z"
   },
   {
    "duration": 152,
    "start_time": "2022-02-16T12:57:16.146Z"
   },
   {
    "duration": 5,
    "start_time": "2022-02-16T12:57:16.300Z"
   },
   {
    "duration": 151,
    "start_time": "2022-02-16T12:57:16.306Z"
   },
   {
    "duration": 245,
    "start_time": "2022-02-16T12:57:16.458Z"
   },
   {
    "duration": 11,
    "start_time": "2022-02-16T12:57:16.705Z"
   },
   {
    "duration": 32,
    "start_time": "2022-02-16T12:57:16.717Z"
   },
   {
    "duration": 11,
    "start_time": "2022-02-16T12:57:16.753Z"
   },
   {
    "duration": 17,
    "start_time": "2022-02-16T12:57:16.768Z"
   },
   {
    "duration": 146,
    "start_time": "2022-02-16T12:57:16.786Z"
   },
   {
    "duration": 351,
    "start_time": "2022-02-16T12:57:16.934Z"
   },
   {
    "duration": 6,
    "start_time": "2022-02-16T12:57:17.287Z"
   },
   {
    "duration": 15,
    "start_time": "2022-02-16T12:57:17.294Z"
   },
   {
    "duration": 47,
    "start_time": "2022-02-16T12:57:17.311Z"
   },
   {
    "duration": 388,
    "start_time": "2022-02-16T12:57:17.361Z"
   },
   {
    "duration": 340,
    "start_time": "2022-02-16T12:57:17.750Z"
   },
   {
    "duration": 160,
    "start_time": "2022-02-16T12:57:18.092Z"
   },
   {
    "duration": 363,
    "start_time": "2022-02-16T12:59:57.865Z"
   },
   {
    "duration": 1137,
    "start_time": "2022-02-16T13:00:04.023Z"
   },
   {
    "duration": 38,
    "start_time": "2022-02-16T13:00:05.162Z"
   },
   {
    "duration": 5,
    "start_time": "2022-02-16T13:00:05.202Z"
   },
   {
    "duration": 11,
    "start_time": "2022-02-16T13:00:05.208Z"
   },
   {
    "duration": 13,
    "start_time": "2022-02-16T13:00:05.221Z"
   },
   {
    "duration": 40,
    "start_time": "2022-02-16T13:00:05.237Z"
   },
   {
    "duration": 4,
    "start_time": "2022-02-16T13:00:05.278Z"
   },
   {
    "duration": 7,
    "start_time": "2022-02-16T13:00:05.285Z"
   },
   {
    "duration": 205,
    "start_time": "2022-02-16T13:00:05.294Z"
   },
   {
    "duration": 7,
    "start_time": "2022-02-16T13:00:05.501Z"
   },
   {
    "duration": 26,
    "start_time": "2022-02-16T13:00:05.509Z"
   },
   {
    "duration": 194,
    "start_time": "2022-02-16T13:00:05.538Z"
   },
   {
    "duration": 180,
    "start_time": "2022-02-16T13:00:05.734Z"
   },
   {
    "duration": 7,
    "start_time": "2022-02-16T13:00:05.915Z"
   },
   {
    "duration": 180,
    "start_time": "2022-02-16T13:00:05.931Z"
   },
   {
    "duration": 169,
    "start_time": "2022-02-16T13:00:06.112Z"
   },
   {
    "duration": 5,
    "start_time": "2022-02-16T13:00:06.283Z"
   },
   {
    "duration": 162,
    "start_time": "2022-02-16T13:00:06.290Z"
   },
   {
    "duration": 262,
    "start_time": "2022-02-16T13:00:06.453Z"
   },
   {
    "duration": 18,
    "start_time": "2022-02-16T13:00:06.716Z"
   },
   {
    "duration": 24,
    "start_time": "2022-02-16T13:00:06.736Z"
   },
   {
    "duration": 9,
    "start_time": "2022-02-16T13:00:06.761Z"
   },
   {
    "duration": 15,
    "start_time": "2022-02-16T13:00:06.773Z"
   },
   {
    "duration": 57,
    "start_time": "2022-02-16T13:00:06.790Z"
   },
   {
    "duration": 402,
    "start_time": "2022-02-16T13:00:06.849Z"
   },
   {
    "duration": 5,
    "start_time": "2022-02-16T13:00:07.253Z"
   },
   {
    "duration": 15,
    "start_time": "2022-02-16T13:00:07.260Z"
   },
   {
    "duration": 58,
    "start_time": "2022-02-16T13:00:07.276Z"
   },
   {
    "duration": 327,
    "start_time": "2022-02-16T13:00:07.338Z"
   },
   {
    "duration": 360,
    "start_time": "2022-02-16T13:00:07.666Z"
   },
   {
    "duration": 349,
    "start_time": "2022-02-16T13:00:11.157Z"
   },
   {
    "duration": 161,
    "start_time": "2022-02-16T13:00:12.711Z"
   },
   {
    "duration": 150,
    "start_time": "2022-02-16T13:00:22.674Z"
   },
   {
    "duration": 156,
    "start_time": "2022-02-16T13:00:33.143Z"
   },
   {
    "duration": 1688187,
    "start_time": "2022-02-16T13:00:57.326Z"
   },
   {
    "duration": 111,
    "start_time": "2022-02-16T13:30:37.700Z"
   },
   {
    "duration": 235,
    "start_time": "2022-02-16T13:32:06.929Z"
   },
   {
    "duration": 1148,
    "start_time": "2022-02-16T13:36:44.218Z"
   },
   {
    "duration": 39,
    "start_time": "2022-02-16T13:36:45.368Z"
   },
   {
    "duration": 4,
    "start_time": "2022-02-16T13:36:45.408Z"
   },
   {
    "duration": 18,
    "start_time": "2022-02-16T13:36:45.414Z"
   },
   {
    "duration": 5,
    "start_time": "2022-02-16T13:36:45.434Z"
   },
   {
    "duration": 36,
    "start_time": "2022-02-16T13:36:45.442Z"
   },
   {
    "duration": 5,
    "start_time": "2022-02-16T13:36:45.480Z"
   },
   {
    "duration": 48,
    "start_time": "2022-02-16T13:36:45.488Z"
   },
   {
    "duration": 176,
    "start_time": "2022-02-16T13:36:45.539Z"
   },
   {
    "duration": 16,
    "start_time": "2022-02-16T13:36:45.717Z"
   },
   {
    "duration": 10,
    "start_time": "2022-02-16T13:36:45.735Z"
   },
   {
    "duration": 200,
    "start_time": "2022-02-16T13:36:45.747Z"
   },
   {
    "duration": 167,
    "start_time": "2022-02-16T13:36:45.949Z"
   },
   {
    "duration": 15,
    "start_time": "2022-02-16T13:36:46.118Z"
   },
   {
    "duration": 181,
    "start_time": "2022-02-16T13:36:46.135Z"
   },
   {
    "duration": 168,
    "start_time": "2022-02-16T13:36:46.318Z"
   },
   {
    "duration": 7,
    "start_time": "2022-02-16T13:36:46.488Z"
   },
   {
    "duration": 159,
    "start_time": "2022-02-16T13:36:46.496Z"
   },
   {
    "duration": 252,
    "start_time": "2022-02-16T13:36:46.656Z"
   },
   {
    "duration": 9,
    "start_time": "2022-02-16T13:36:46.910Z"
   },
   {
    "duration": 33,
    "start_time": "2022-02-16T13:36:46.920Z"
   },
   {
    "duration": 11,
    "start_time": "2022-02-16T13:36:46.955Z"
   },
   {
    "duration": 15,
    "start_time": "2022-02-16T13:36:46.969Z"
   },
   {
    "duration": 62,
    "start_time": "2022-02-16T13:36:46.986Z"
   },
   {
    "duration": 418,
    "start_time": "2022-02-16T13:36:47.050Z"
   },
   {
    "duration": 6,
    "start_time": "2022-02-16T13:36:47.470Z"
   },
   {
    "duration": 14,
    "start_time": "2022-02-16T13:36:47.477Z"
   },
   {
    "duration": 50,
    "start_time": "2022-02-16T13:36:47.493Z"
   },
   {
    "duration": 407,
    "start_time": "2022-02-16T13:36:47.546Z"
   },
   {
    "duration": 367,
    "start_time": "2022-02-16T13:36:47.955Z"
   },
   {
    "duration": 168,
    "start_time": "2022-02-16T13:36:48.331Z"
   },
   {
    "duration": 1079,
    "start_time": "2022-02-16T13:38:32.879Z"
   },
   {
    "duration": 39,
    "start_time": "2022-02-16T13:38:33.960Z"
   },
   {
    "duration": 4,
    "start_time": "2022-02-16T13:38:34.001Z"
   },
   {
    "duration": 9,
    "start_time": "2022-02-16T13:38:34.007Z"
   },
   {
    "duration": 14,
    "start_time": "2022-02-16T13:38:34.018Z"
   },
   {
    "duration": 33,
    "start_time": "2022-02-16T13:38:34.033Z"
   },
   {
    "duration": 4,
    "start_time": "2022-02-16T13:38:34.067Z"
   },
   {
    "duration": 8,
    "start_time": "2022-02-16T13:38:34.073Z"
   },
   {
    "duration": 201,
    "start_time": "2022-02-16T13:38:34.082Z"
   },
   {
    "duration": 8,
    "start_time": "2022-02-16T13:38:34.285Z"
   },
   {
    "duration": 7,
    "start_time": "2022-02-16T13:38:34.294Z"
   },
   {
    "duration": 233,
    "start_time": "2022-02-16T13:38:34.303Z"
   },
   {
    "duration": 185,
    "start_time": "2022-02-16T13:38:34.538Z"
   },
   {
    "duration": 7,
    "start_time": "2022-02-16T13:38:34.725Z"
   },
   {
    "duration": 186,
    "start_time": "2022-02-16T13:38:34.734Z"
   },
   {
    "duration": 158,
    "start_time": "2022-02-16T13:38:34.922Z"
   },
   {
    "duration": 5,
    "start_time": "2022-02-16T13:38:35.081Z"
   },
   {
    "duration": 146,
    "start_time": "2022-02-16T13:38:35.088Z"
   },
   {
    "duration": 243,
    "start_time": "2022-02-16T13:38:35.235Z"
   },
   {
    "duration": 15,
    "start_time": "2022-02-16T13:38:35.479Z"
   },
   {
    "duration": 18,
    "start_time": "2022-02-16T13:38:35.496Z"
   },
   {
    "duration": 25,
    "start_time": "2022-02-16T13:38:35.515Z"
   },
   {
    "duration": 15,
    "start_time": "2022-02-16T13:38:35.543Z"
   },
   {
    "duration": 20,
    "start_time": "2022-02-16T13:38:35.560Z"
   },
   {
    "duration": 332,
    "start_time": "2022-02-16T13:38:35.632Z"
   },
   {
    "duration": 6,
    "start_time": "2022-02-16T13:38:35.966Z"
   },
   {
    "duration": 28,
    "start_time": "2022-02-16T13:38:35.973Z"
   },
   {
    "duration": 36,
    "start_time": "2022-02-16T13:38:36.003Z"
   },
   {
    "duration": 359,
    "start_time": "2022-02-16T13:38:36.042Z"
   },
   {
    "duration": 367,
    "start_time": "2022-02-16T13:38:36.403Z"
   },
   {
    "duration": 165,
    "start_time": "2022-02-16T13:38:36.772Z"
   },
   {
    "duration": -29,
    "start_time": "2022-02-16T13:42:12.696Z"
   },
   {
    "duration": 2191,
    "start_time": "2022-02-16T13:42:14.301Z"
   },
   {
    "duration": 1985,
    "start_time": "2022-02-16T13:43:09.007Z"
   },
   {
    "duration": 2067,
    "start_time": "2022-02-16T13:43:22.884Z"
   },
   {
    "duration": 134617,
    "start_time": "2022-02-16T13:43:40.788Z"
   },
   {
    "duration": -41,
    "start_time": "2022-02-16T15:03:48.980Z"
   },
   {
    "duration": 6482080,
    "start_time": "2022-02-16T15:03:49.839Z"
   },
   {
    "duration": 1515,
    "start_time": "2022-02-17T08:55:22.951Z"
   },
   {
    "duration": 70,
    "start_time": "2022-02-17T08:55:24.469Z"
   },
   {
    "duration": 6,
    "start_time": "2022-02-17T08:55:24.542Z"
   },
   {
    "duration": 14,
    "start_time": "2022-02-17T08:55:24.551Z"
   },
   {
    "duration": 7,
    "start_time": "2022-02-17T08:55:24.567Z"
   },
   {
    "duration": 87,
    "start_time": "2022-02-17T08:55:24.577Z"
   },
   {
    "duration": 5,
    "start_time": "2022-02-17T08:55:24.666Z"
   },
   {
    "duration": 37,
    "start_time": "2022-02-17T08:55:24.675Z"
   },
   {
    "duration": 304,
    "start_time": "2022-02-17T08:55:24.715Z"
   },
   {
    "duration": 12,
    "start_time": "2022-02-17T08:55:25.021Z"
   },
   {
    "duration": 11,
    "start_time": "2022-02-17T08:55:25.035Z"
   },
   {
    "duration": 356,
    "start_time": "2022-02-17T08:55:25.049Z"
   },
   {
    "duration": 303,
    "start_time": "2022-02-17T08:55:25.407Z"
   },
   {
    "duration": 11,
    "start_time": "2022-02-17T08:55:25.713Z"
   },
   {
    "duration": 310,
    "start_time": "2022-02-17T08:55:25.726Z"
   },
   {
    "duration": 276,
    "start_time": "2022-02-17T08:55:26.039Z"
   },
   {
    "duration": 8,
    "start_time": "2022-02-17T08:55:26.317Z"
   },
   {
    "duration": 263,
    "start_time": "2022-02-17T08:55:26.328Z"
   },
   {
    "duration": 406,
    "start_time": "2022-02-17T08:55:26.594Z"
   },
   {
    "duration": 17,
    "start_time": "2022-02-17T08:55:27.011Z"
   },
   {
    "duration": 31,
    "start_time": "2022-02-17T08:55:27.031Z"
   },
   {
    "duration": 16,
    "start_time": "2022-02-17T08:55:27.064Z"
   },
   {
    "duration": 26,
    "start_time": "2022-02-17T08:55:27.114Z"
   },
   {
    "duration": 167,
    "start_time": "2022-02-17T08:55:27.143Z"
   },
   {
    "duration": 410,
    "start_time": "2022-02-17T08:55:27.313Z"
   },
   {
    "duration": 9,
    "start_time": "2022-02-17T08:55:27.725Z"
   },
   {
    "duration": 23,
    "start_time": "2022-02-17T08:55:27.736Z"
   },
   {
    "duration": 151,
    "start_time": "2022-02-17T08:55:27.762Z"
   },
   {
    "duration": 507,
    "start_time": "2022-02-17T08:55:27.916Z"
   },
   {
    "duration": 573,
    "start_time": "2022-02-17T08:55:28.425Z"
   },
   {
    "duration": 268,
    "start_time": "2022-02-17T08:55:29.000Z"
   },
   {
    "duration": 1552,
    "start_time": "2022-02-17T20:13:32.467Z"
   },
   {
    "duration": 60,
    "start_time": "2022-02-17T20:13:34.022Z"
   },
   {
    "duration": 8,
    "start_time": "2022-02-17T20:13:34.085Z"
   },
   {
    "duration": 17,
    "start_time": "2022-02-17T20:13:34.096Z"
   },
   {
    "duration": 15,
    "start_time": "2022-02-17T20:13:34.116Z"
   },
   {
    "duration": 89,
    "start_time": "2022-02-17T20:13:34.134Z"
   },
   {
    "duration": 5,
    "start_time": "2022-02-17T20:13:34.226Z"
   },
   {
    "duration": 34,
    "start_time": "2022-02-17T20:13:34.235Z"
   },
   {
    "duration": 325,
    "start_time": "2022-02-17T20:13:34.272Z"
   },
   {
    "duration": 12,
    "start_time": "2022-02-17T20:13:34.600Z"
   },
   {
    "duration": 14,
    "start_time": "2022-02-17T20:13:34.615Z"
   },
   {
    "duration": 343,
    "start_time": "2022-02-17T20:13:34.662Z"
   },
   {
    "duration": 312,
    "start_time": "2022-02-17T20:13:35.008Z"
   },
   {
    "duration": 10,
    "start_time": "2022-02-17T20:13:35.323Z"
   },
   {
    "duration": 307,
    "start_time": "2022-02-17T20:13:35.336Z"
   },
   {
    "duration": 275,
    "start_time": "2022-02-17T20:13:35.645Z"
   },
   {
    "duration": 8,
    "start_time": "2022-02-17T20:13:35.922Z"
   },
   {
    "duration": 256,
    "start_time": "2022-02-17T20:13:35.932Z"
   },
   {
    "duration": 390,
    "start_time": "2022-02-17T20:13:36.190Z"
   },
   {
    "duration": 14,
    "start_time": "2022-02-17T20:13:36.583Z"
   },
   {
    "duration": 30,
    "start_time": "2022-02-17T20:13:36.599Z"
   },
   {
    "duration": 39,
    "start_time": "2022-02-17T20:13:36.631Z"
   },
   {
    "duration": 28,
    "start_time": "2022-02-17T20:13:36.675Z"
   },
   {
    "duration": 163,
    "start_time": "2022-02-17T20:13:36.707Z"
   },
   {
    "duration": 517,
    "start_time": "2022-02-17T20:13:36.873Z"
   },
   {
    "duration": 11,
    "start_time": "2022-02-17T20:13:37.393Z"
   },
   {
    "duration": 20,
    "start_time": "2022-02-17T20:13:37.406Z"
   },
   {
    "duration": 134,
    "start_time": "2022-02-17T20:13:37.428Z"
   },
   {
    "duration": 466,
    "start_time": "2022-02-17T20:13:37.566Z"
   },
   {
    "duration": 604,
    "start_time": "2022-02-17T20:13:38.035Z"
   },
   {
    "duration": 299,
    "start_time": "2022-02-17T20:13:38.642Z"
   },
   {
    "duration": 10,
    "start_time": "2022-02-17T20:15:47.374Z"
   },
   {
    "duration": 58,
    "start_time": "2022-02-17T20:15:47.387Z"
   },
   {
    "duration": 6,
    "start_time": "2022-02-17T20:15:47.449Z"
   },
   {
    "duration": 21,
    "start_time": "2022-02-17T20:15:47.464Z"
   },
   {
    "duration": 10,
    "start_time": "2022-02-17T20:15:47.487Z"
   },
   {
    "duration": 94,
    "start_time": "2022-02-17T20:15:47.500Z"
   },
   {
    "duration": 6,
    "start_time": "2022-02-17T20:15:47.597Z"
   },
   {
    "duration": 13,
    "start_time": "2022-02-17T20:15:47.607Z"
   },
   {
    "duration": 386,
    "start_time": "2022-02-17T20:15:47.623Z"
   },
   {
    "duration": 31,
    "start_time": "2022-02-17T20:15:48.021Z"
   },
   {
    "duration": 238,
    "start_time": "2022-02-17T20:15:48.055Z"
   },
   {
    "duration": 320,
    "start_time": "2022-02-17T20:15:48.296Z"
   },
   {
    "duration": 318,
    "start_time": "2022-02-17T20:15:48.619Z"
   },
   {
    "duration": 11,
    "start_time": "2022-02-17T20:15:48.939Z"
   },
   {
    "duration": 325,
    "start_time": "2022-02-17T20:15:48.964Z"
   },
   {
    "duration": 300,
    "start_time": "2022-02-17T20:15:49.291Z"
   },
   {
    "duration": 8,
    "start_time": "2022-02-17T20:15:49.594Z"
   },
   {
    "duration": 274,
    "start_time": "2022-02-17T20:15:49.605Z"
   },
   {
    "duration": 358,
    "start_time": "2022-02-17T20:15:49.882Z"
   },
   {
    "duration": 25,
    "start_time": "2022-02-17T20:15:50.243Z"
   },
   {
    "duration": 44,
    "start_time": "2022-02-17T20:15:50.270Z"
   },
   {
    "duration": 19,
    "start_time": "2022-02-17T20:15:50.317Z"
   },
   {
    "duration": 30,
    "start_time": "2022-02-17T20:15:50.361Z"
   },
   {
    "duration": 81,
    "start_time": "2022-02-17T20:15:50.394Z"
   },
   {
    "duration": 502,
    "start_time": "2022-02-17T20:15:50.478Z"
   },
   {
    "duration": 8,
    "start_time": "2022-02-17T20:15:50.983Z"
   },
   {
    "duration": 21,
    "start_time": "2022-02-17T20:15:50.994Z"
   },
   {
    "duration": 151,
    "start_time": "2022-02-17T20:15:51.018Z"
   },
   {
    "duration": 522,
    "start_time": "2022-02-17T20:15:51.171Z"
   },
   {
    "duration": 592,
    "start_time": "2022-02-17T20:15:51.695Z"
   },
   {
    "duration": 317,
    "start_time": "2022-02-17T20:15:52.290Z"
   },
   {
    "duration": 21157,
    "start_time": "2022-02-17T20:15:52.610Z"
   },
   {
    "duration": 434,
    "start_time": "2022-02-17T20:20:23.135Z"
   },
   {
    "duration": 312,
    "start_time": "2022-02-17T20:20:27.148Z"
   },
   {
    "duration": 529,
    "start_time": "2022-02-17T20:20:41.653Z"
   },
   {
    "duration": 278,
    "start_time": "2022-02-17T20:23:02.309Z"
   },
   {
    "duration": 275,
    "start_time": "2022-02-17T20:23:11.258Z"
   },
   {
    "duration": 536,
    "start_time": "2022-02-17T20:23:27.437Z"
   },
   {
    "duration": 285,
    "start_time": "2022-02-17T20:23:31.004Z"
   },
   {
    "duration": 287,
    "start_time": "2022-02-17T20:23:35.831Z"
   },
   {
    "duration": 293,
    "start_time": "2022-02-17T20:23:53.303Z"
   },
   {
    "duration": 521,
    "start_time": "2022-02-17T20:23:59.254Z"
   },
   {
    "duration": 292,
    "start_time": "2022-02-17T20:24:02.397Z"
   },
   {
    "duration": 308,
    "start_time": "2022-02-17T20:24:39.638Z"
   },
   {
    "duration": 290,
    "start_time": "2022-02-17T20:24:48.118Z"
   },
   {
    "duration": 413,
    "start_time": "2022-02-17T20:24:56.332Z"
   },
   {
    "duration": 281,
    "start_time": "2022-02-17T20:25:04.668Z"
   },
   {
    "duration": 252,
    "start_time": "2022-02-17T20:25:27.261Z"
   },
   {
    "duration": 334,
    "start_time": "2022-02-17T20:25:36.980Z"
   },
   {
    "duration": 18,
    "start_time": "2022-02-17T20:26:43.816Z"
   },
   {
    "duration": 16,
    "start_time": "2022-02-17T20:26:45.363Z"
   },
   {
    "duration": 16,
    "start_time": "2022-02-17T20:26:53.591Z"
   },
   {
    "duration": 16,
    "start_time": "2022-02-17T20:26:58.004Z"
   },
   {
    "duration": 15,
    "start_time": "2022-02-17T20:27:03.079Z"
   },
   {
    "duration": 17,
    "start_time": "2022-02-17T20:27:10.990Z"
   },
   {
    "duration": 16,
    "start_time": "2022-02-17T20:27:25.635Z"
   },
   {
    "duration": 17,
    "start_time": "2022-02-17T20:27:44.174Z"
   },
   {
    "duration": 15,
    "start_time": "2022-02-17T20:27:51.436Z"
   },
   {
    "duration": 17,
    "start_time": "2022-02-17T20:28:00.838Z"
   },
   {
    "duration": 17,
    "start_time": "2022-02-17T20:28:03.987Z"
   },
   {
    "duration": 17,
    "start_time": "2022-02-17T20:28:15.981Z"
   },
   {
    "duration": 18,
    "start_time": "2022-02-17T20:28:18.875Z"
   },
   {
    "duration": 17,
    "start_time": "2022-02-17T20:28:23.705Z"
   },
   {
    "duration": 290,
    "start_time": "2022-02-17T20:35:19.834Z"
   },
   {
    "duration": 94,
    "start_time": "2022-02-17T20:35:45.006Z"
   },
   {
    "duration": 93,
    "start_time": "2022-02-17T20:35:49.193Z"
   },
   {
    "duration": 93,
    "start_time": "2022-02-17T20:36:03.888Z"
   },
   {
    "duration": 88,
    "start_time": "2022-02-17T20:36:10.342Z"
   },
   {
    "duration": 68,
    "start_time": "2022-02-17T20:36:27.799Z"
   },
   {
    "duration": 54,
    "start_time": "2022-02-17T20:36:31.498Z"
   },
   {
    "duration": 128,
    "start_time": "2022-02-17T20:36:35.230Z"
   },
   {
    "duration": 94,
    "start_time": "2022-02-17T20:36:39.879Z"
   },
   {
    "duration": 96,
    "start_time": "2022-02-17T20:36:43.495Z"
   },
   {
    "duration": 91,
    "start_time": "2022-02-17T20:36:46.719Z"
   },
   {
    "duration": 93,
    "start_time": "2022-02-17T20:36:51.749Z"
   },
   {
    "duration": 86,
    "start_time": "2022-02-17T20:36:55.092Z"
   },
   {
    "duration": 89,
    "start_time": "2022-02-17T20:37:03.645Z"
   },
   {
    "duration": 87,
    "start_time": "2022-02-17T20:37:06.631Z"
   },
   {
    "duration": 80,
    "start_time": "2022-02-17T20:37:10.346Z"
   },
   {
    "duration": 99,
    "start_time": "2022-02-17T20:37:15.462Z"
   },
   {
    "duration": 249,
    "start_time": "2022-02-17T20:40:24.432Z"
   },
   {
    "duration": 525,
    "start_time": "2022-02-17T20:41:31.150Z"
   },
   {
    "duration": 237,
    "start_time": "2022-02-17T20:41:45.397Z"
   },
   {
    "duration": 247,
    "start_time": "2022-02-17T20:42:49.292Z"
   },
   {
    "duration": 249,
    "start_time": "2022-02-17T20:43:43.945Z"
   },
   {
    "duration": 77,
    "start_time": "2022-02-17T20:43:45.286Z"
   },
   {
    "duration": 375,
    "start_time": "2022-02-17T20:43:47.206Z"
   },
   {
    "duration": 21,
    "start_time": "2022-02-17T21:05:59.281Z"
   },
   {
    "duration": 17,
    "start_time": "2022-02-17T21:06:04.118Z"
   },
   {
    "duration": 1461,
    "start_time": "2022-02-17T21:38:21.388Z"
   },
   {
    "duration": 57,
    "start_time": "2022-02-17T21:38:22.852Z"
   },
   {
    "duration": 6,
    "start_time": "2022-02-17T21:38:22.912Z"
   },
   {
    "duration": 18,
    "start_time": "2022-02-17T21:38:22.921Z"
   },
   {
    "duration": 7,
    "start_time": "2022-02-17T21:38:22.941Z"
   },
   {
    "duration": 90,
    "start_time": "2022-02-17T21:38:22.950Z"
   },
   {
    "duration": 17,
    "start_time": "2022-02-17T21:38:23.042Z"
   },
   {
    "duration": 5,
    "start_time": "2022-02-17T21:38:23.062Z"
   },
   {
    "duration": 31,
    "start_time": "2022-02-17T21:38:23.070Z"
   },
   {
    "duration": 305,
    "start_time": "2022-02-17T21:38:23.104Z"
   },
   {
    "duration": 12,
    "start_time": "2022-02-17T21:38:23.411Z"
   },
   {
    "duration": 14,
    "start_time": "2022-02-17T21:38:23.426Z"
   },
   {
    "duration": 338,
    "start_time": "2022-02-17T21:38:23.444Z"
   },
   {
    "duration": 298,
    "start_time": "2022-02-17T21:38:23.785Z"
   },
   {
    "duration": 14,
    "start_time": "2022-02-17T21:38:24.085Z"
   },
   {
    "duration": 304,
    "start_time": "2022-02-17T21:38:24.102Z"
   },
   {
    "duration": 284,
    "start_time": "2022-02-17T21:38:24.409Z"
   },
   {
    "duration": 9,
    "start_time": "2022-02-17T21:38:24.695Z"
   },
   {
    "duration": 256,
    "start_time": "2022-02-17T21:38:24.706Z"
   },
   {
    "duration": 413,
    "start_time": "2022-02-17T21:38:24.964Z"
   },
   {
    "duration": 23,
    "start_time": "2022-02-17T21:38:25.380Z"
   },
   {
    "duration": 29,
    "start_time": "2022-02-17T21:38:25.406Z"
   },
   {
    "duration": 15,
    "start_time": "2022-02-17T21:38:25.439Z"
   },
   {
    "duration": 59,
    "start_time": "2022-02-17T21:38:25.457Z"
   },
   {
    "duration": 83,
    "start_time": "2022-02-17T21:38:25.519Z"
   },
   {
    "duration": 498,
    "start_time": "2022-02-17T21:38:25.605Z"
   },
   {
    "duration": 106,
    "start_time": "2022-02-17T21:38:26.105Z"
   },
   {
    "duration": 246,
    "start_time": "2022-02-17T21:38:26.213Z"
   },
   {
    "duration": 9,
    "start_time": "2022-02-17T21:38:26.461Z"
   },
   {
    "duration": 20,
    "start_time": "2022-02-17T21:38:26.473Z"
   },
   {
    "duration": 100,
    "start_time": "2022-02-17T21:38:26.496Z"
   },
   {
    "duration": 483,
    "start_time": "2022-02-17T21:38:26.599Z"
   },
   {
    "duration": 404,
    "start_time": "2022-02-17T21:38:27.084Z"
   },
   {
    "duration": 273,
    "start_time": "2022-02-17T21:38:27.494Z"
   },
   {
    "duration": 13700,
    "start_time": "2022-02-17T21:38:27.769Z"
   },
   {
    "duration": 22,
    "start_time": "2022-02-17T21:38:51.448Z"
   },
   {
    "duration": 103,
    "start_time": "2022-02-17T21:38:56.195Z"
   },
   {
    "duration": 383,
    "start_time": "2022-02-17T21:39:01.925Z"
   },
   {
    "duration": 549,
    "start_time": "2022-02-17T21:39:07.750Z"
   },
   {
    "duration": 256,
    "start_time": "2022-02-17T21:39:10.017Z"
   },
   {
    "duration": 9,
    "start_time": "2022-02-17T21:39:22.414Z"
   },
   {
    "duration": 50,
    "start_time": "2022-02-17T21:39:22.446Z"
   },
   {
    "duration": 8,
    "start_time": "2022-02-17T21:39:22.499Z"
   },
   {
    "duration": 15,
    "start_time": "2022-02-17T21:39:22.511Z"
   },
   {
    "duration": 5,
    "start_time": "2022-02-17T21:39:22.528Z"
   },
   {
    "duration": 99,
    "start_time": "2022-02-17T21:39:22.535Z"
   },
   {
    "duration": 17,
    "start_time": "2022-02-17T21:39:22.637Z"
   },
   {
    "duration": 37,
    "start_time": "2022-02-17T21:39:22.656Z"
   },
   {
    "duration": 15,
    "start_time": "2022-02-17T21:39:22.699Z"
   },
   {
    "duration": 315,
    "start_time": "2022-02-17T21:39:22.718Z"
   },
   {
    "duration": 12,
    "start_time": "2022-02-17T21:39:23.036Z"
   },
   {
    "duration": 10,
    "start_time": "2022-02-17T21:39:23.050Z"
   },
   {
    "duration": 302,
    "start_time": "2022-02-17T21:39:23.094Z"
   },
   {
    "duration": 297,
    "start_time": "2022-02-17T21:39:23.399Z"
   },
   {
    "duration": 11,
    "start_time": "2022-02-17T21:39:23.699Z"
   },
   {
    "duration": 300,
    "start_time": "2022-02-17T21:39:23.712Z"
   },
   {
    "duration": 283,
    "start_time": "2022-02-17T21:39:24.015Z"
   },
   {
    "duration": 8,
    "start_time": "2022-02-17T21:39:24.300Z"
   },
   {
    "duration": 356,
    "start_time": "2022-02-17T21:39:24.310Z"
   },
   {
    "duration": 335,
    "start_time": "2022-02-17T21:39:24.668Z"
   },
   {
    "duration": 8,
    "start_time": "2022-02-17T21:39:25.006Z"
   },
   {
    "duration": 31,
    "start_time": "2022-02-17T21:39:25.016Z"
   },
   {
    "duration": 43,
    "start_time": "2022-02-17T21:39:25.050Z"
   },
   {
    "duration": 31,
    "start_time": "2022-02-17T21:39:25.098Z"
   },
   {
    "duration": 71,
    "start_time": "2022-02-17T21:39:25.132Z"
   },
   {
    "duration": 513,
    "start_time": "2022-02-17T21:39:25.206Z"
   },
   {
    "duration": 105,
    "start_time": "2022-02-17T21:39:25.721Z"
   },
   {
    "duration": 249,
    "start_time": "2022-02-17T21:39:25.829Z"
   },
   {
    "duration": 19,
    "start_time": "2022-02-17T21:39:26.082Z"
   },
   {
    "duration": 25,
    "start_time": "2022-02-17T21:39:26.104Z"
   },
   {
    "duration": 73,
    "start_time": "2022-02-17T21:39:26.132Z"
   },
   {
    "duration": 409,
    "start_time": "2022-02-17T21:39:26.296Z"
   },
   {
    "duration": 576,
    "start_time": "2022-02-17T21:39:26.707Z"
   },
   {
    "duration": 273,
    "start_time": "2022-02-17T21:39:27.286Z"
   },
   {
    "duration": 20056,
    "start_time": "2022-02-17T21:39:27.562Z"
   },
   {
    "duration": 8,
    "start_time": "2022-02-17T21:40:33.295Z"
   },
   {
    "duration": 24,
    "start_time": "2022-02-17T21:40:56.293Z"
   },
   {
    "duration": 1475,
    "start_time": "2022-02-17T21:41:05.968Z"
   },
   {
    "duration": 57,
    "start_time": "2022-02-17T21:41:07.447Z"
   },
   {
    "duration": 5,
    "start_time": "2022-02-17T21:41:07.507Z"
   },
   {
    "duration": 14,
    "start_time": "2022-02-17T21:41:07.515Z"
   },
   {
    "duration": 5,
    "start_time": "2022-02-17T21:41:07.532Z"
   },
   {
    "duration": 88,
    "start_time": "2022-02-17T21:41:07.540Z"
   },
   {
    "duration": 16,
    "start_time": "2022-02-17T21:41:07.631Z"
   },
   {
    "duration": 6,
    "start_time": "2022-02-17T21:41:07.651Z"
   },
   {
    "duration": 41,
    "start_time": "2022-02-17T21:41:07.660Z"
   },
   {
    "duration": 327,
    "start_time": "2022-02-17T21:41:07.705Z"
   },
   {
    "duration": 11,
    "start_time": "2022-02-17T21:41:08.035Z"
   },
   {
    "duration": 11,
    "start_time": "2022-02-17T21:41:08.049Z"
   },
   {
    "duration": 349,
    "start_time": "2022-02-17T21:41:08.062Z"
   },
   {
    "duration": 314,
    "start_time": "2022-02-17T21:41:08.413Z"
   },
   {
    "duration": 11,
    "start_time": "2022-02-17T21:41:08.730Z"
   },
   {
    "duration": 316,
    "start_time": "2022-02-17T21:41:08.744Z"
   },
   {
    "duration": 306,
    "start_time": "2022-02-17T21:41:09.063Z"
   },
   {
    "duration": 9,
    "start_time": "2022-02-17T21:41:09.371Z"
   },
   {
    "duration": 260,
    "start_time": "2022-02-17T21:41:09.396Z"
   },
   {
    "duration": 429,
    "start_time": "2022-02-17T21:41:09.659Z"
   },
   {
    "duration": 13,
    "start_time": "2022-02-17T21:41:10.094Z"
   },
   {
    "duration": 33,
    "start_time": "2022-02-17T21:41:10.109Z"
   },
   {
    "duration": 16,
    "start_time": "2022-02-17T21:41:10.146Z"
   },
   {
    "duration": 31,
    "start_time": "2022-02-17T21:41:10.195Z"
   },
   {
    "duration": 70,
    "start_time": "2022-02-17T21:41:10.229Z"
   },
   {
    "duration": 517,
    "start_time": "2022-02-17T21:41:10.302Z"
   },
   {
    "duration": 108,
    "start_time": "2022-02-17T21:41:10.821Z"
   },
   {
    "duration": 255,
    "start_time": "2022-02-17T21:41:10.932Z"
   },
   {
    "duration": 12,
    "start_time": "2022-02-17T21:41:11.190Z"
   },
   {
    "duration": 20,
    "start_time": "2022-02-17T21:41:11.204Z"
   },
   {
    "duration": 168,
    "start_time": "2022-02-17T21:41:11.226Z"
   },
   {
    "duration": 514,
    "start_time": "2022-02-17T21:41:11.402Z"
   },
   {
    "duration": 585,
    "start_time": "2022-02-17T21:41:11.918Z"
   },
   {
    "duration": 274,
    "start_time": "2022-02-17T21:41:12.505Z"
   },
   {
    "duration": 19856,
    "start_time": "2022-02-17T21:41:12.781Z"
   },
   {
    "duration": 1393,
    "start_time": "2022-02-17T22:33:17.026Z"
   },
   {
    "duration": 52,
    "start_time": "2022-02-17T22:33:18.422Z"
   },
   {
    "duration": 7,
    "start_time": "2022-02-17T22:33:18.476Z"
   },
   {
    "duration": 12,
    "start_time": "2022-02-17T22:33:18.494Z"
   },
   {
    "duration": 6,
    "start_time": "2022-02-17T22:33:18.509Z"
   },
   {
    "duration": 86,
    "start_time": "2022-02-17T22:33:18.518Z"
   },
   {
    "duration": 16,
    "start_time": "2022-02-17T22:33:18.607Z"
   },
   {
    "duration": 5,
    "start_time": "2022-02-17T22:33:18.627Z"
   },
   {
    "duration": 13,
    "start_time": "2022-02-17T22:33:18.635Z"
   },
   {
    "duration": 327,
    "start_time": "2022-02-17T22:33:18.651Z"
   },
   {
    "duration": 21,
    "start_time": "2022-02-17T22:33:18.980Z"
   },
   {
    "duration": 10,
    "start_time": "2022-02-17T22:33:19.003Z"
   },
   {
    "duration": 330,
    "start_time": "2022-02-17T22:33:19.016Z"
   },
   {
    "duration": 293,
    "start_time": "2022-02-17T22:33:19.349Z"
   },
   {
    "duration": 11,
    "start_time": "2022-02-17T22:33:19.644Z"
   },
   {
    "duration": 305,
    "start_time": "2022-02-17T22:33:19.657Z"
   },
   {
    "duration": 297,
    "start_time": "2022-02-17T22:33:19.964Z"
   },
   {
    "duration": 10,
    "start_time": "2022-02-17T22:33:20.263Z"
   },
   {
    "duration": 265,
    "start_time": "2022-02-17T22:33:20.276Z"
   },
   {
    "duration": 391,
    "start_time": "2022-02-17T22:33:20.544Z"
   },
   {
    "duration": 13,
    "start_time": "2022-02-17T22:33:20.938Z"
   },
   {
    "duration": 47,
    "start_time": "2022-02-17T22:33:20.954Z"
   },
   {
    "duration": 15,
    "start_time": "2022-02-17T22:33:21.006Z"
   },
   {
    "duration": 31,
    "start_time": "2022-02-17T22:33:21.024Z"
   },
   {
    "duration": 66,
    "start_time": "2022-02-17T22:33:21.058Z"
   },
   {
    "duration": 513,
    "start_time": "2022-02-17T22:33:21.197Z"
   },
   {
    "duration": 105,
    "start_time": "2022-02-17T22:33:21.712Z"
   },
   {
    "duration": 251,
    "start_time": "2022-02-17T22:33:21.820Z"
   },
   {
    "duration": 26,
    "start_time": "2022-02-17T22:33:22.073Z"
   },
   {
    "duration": 35,
    "start_time": "2022-02-17T22:33:22.102Z"
   },
   {
    "duration": 153,
    "start_time": "2022-02-17T22:33:22.140Z"
   },
   {
    "duration": 501,
    "start_time": "2022-02-17T22:33:22.296Z"
   },
   {
    "duration": 593,
    "start_time": "2022-02-17T22:33:22.800Z"
   },
   {
    "duration": 279,
    "start_time": "2022-02-17T22:33:23.397Z"
   },
   {
    "duration": 19934,
    "start_time": "2022-02-17T22:33:23.679Z"
   },
   {
    "duration": 1395,
    "start_time": "2022-02-17T22:33:52.738Z"
   },
   {
    "duration": 59,
    "start_time": "2022-02-17T22:33:54.136Z"
   },
   {
    "duration": 6,
    "start_time": "2022-02-17T22:33:54.198Z"
   },
   {
    "duration": 14,
    "start_time": "2022-02-17T22:33:54.207Z"
   },
   {
    "duration": 6,
    "start_time": "2022-02-17T22:33:54.223Z"
   },
   {
    "duration": 93,
    "start_time": "2022-02-17T22:33:54.232Z"
   },
   {
    "duration": 16,
    "start_time": "2022-02-17T22:33:54.328Z"
   },
   {
    "duration": 6,
    "start_time": "2022-02-17T22:33:54.348Z"
   },
   {
    "duration": 43,
    "start_time": "2022-02-17T22:33:54.357Z"
   },
   {
    "duration": 336,
    "start_time": "2022-02-17T22:33:54.403Z"
   },
   {
    "duration": 14,
    "start_time": "2022-02-17T22:33:54.742Z"
   },
   {
    "duration": 41,
    "start_time": "2022-02-17T22:33:54.759Z"
   },
   {
    "duration": 332,
    "start_time": "2022-02-17T22:33:54.802Z"
   },
   {
    "duration": 306,
    "start_time": "2022-02-17T22:33:55.137Z"
   },
   {
    "duration": 10,
    "start_time": "2022-02-17T22:33:55.445Z"
   },
   {
    "duration": 325,
    "start_time": "2022-02-17T22:33:55.457Z"
   },
   {
    "duration": 277,
    "start_time": "2022-02-17T22:33:55.784Z"
   },
   {
    "duration": 8,
    "start_time": "2022-02-17T22:33:56.064Z"
   },
   {
    "duration": 271,
    "start_time": "2022-02-17T22:33:56.075Z"
   },
   {
    "duration": 413,
    "start_time": "2022-02-17T22:33:56.349Z"
   },
   {
    "duration": 14,
    "start_time": "2022-02-17T22:33:56.765Z"
   },
   {
    "duration": 32,
    "start_time": "2022-02-17T22:33:56.793Z"
   },
   {
    "duration": 15,
    "start_time": "2022-02-17T22:33:56.829Z"
   },
   {
    "duration": 60,
    "start_time": "2022-02-17T22:33:56.846Z"
   },
   {
    "duration": 89,
    "start_time": "2022-02-17T22:33:56.908Z"
   },
   {
    "duration": 500,
    "start_time": "2022-02-17T22:33:57.001Z"
   },
   {
    "duration": 102,
    "start_time": "2022-02-17T22:33:57.504Z"
   },
   {
    "duration": 260,
    "start_time": "2022-02-17T22:33:57.609Z"
   },
   {
    "duration": 8,
    "start_time": "2022-02-17T22:33:57.872Z"
   },
   {
    "duration": 3,
    "start_time": "2022-02-17T22:33:57.895Z"
   },
   {
    "duration": 97,
    "start_time": "2022-02-17T22:33:57.900Z"
   },
   {
    "duration": 515,
    "start_time": "2022-02-17T22:33:58.000Z"
   },
   {
    "duration": 413,
    "start_time": "2022-02-17T22:33:58.518Z"
   },
   {
    "duration": 307,
    "start_time": "2022-02-17T22:33:58.933Z"
   },
   {
    "duration": 13604,
    "start_time": "2022-02-17T22:33:59.242Z"
   },
   {
    "duration": 143,
    "start_time": "2022-02-17T22:35:00.815Z"
   },
   {
    "duration": 250,
    "start_time": "2022-02-17T22:35:13.621Z"
   },
   {
    "duration": 99,
    "start_time": "2022-02-17T22:35:36.965Z"
   },
   {
    "duration": 97,
    "start_time": "2022-02-17T22:35:41.159Z"
   },
   {
    "duration": 95,
    "start_time": "2022-02-17T22:36:18.429Z"
   },
   {
    "duration": 1447,
    "start_time": "2022-02-17T22:36:32.314Z"
   },
   {
    "duration": 59,
    "start_time": "2022-02-17T22:36:33.763Z"
   },
   {
    "duration": 6,
    "start_time": "2022-02-17T22:36:33.825Z"
   },
   {
    "duration": 23,
    "start_time": "2022-02-17T22:36:33.834Z"
   },
   {
    "duration": 6,
    "start_time": "2022-02-17T22:36:33.860Z"
   },
   {
    "duration": 79,
    "start_time": "2022-02-17T22:36:33.868Z"
   },
   {
    "duration": 17,
    "start_time": "2022-02-17T22:36:33.949Z"
   },
   {
    "duration": 28,
    "start_time": "2022-02-17T22:36:33.969Z"
   },
   {
    "duration": 14,
    "start_time": "2022-02-17T22:36:34.001Z"
   },
   {
    "duration": 328,
    "start_time": "2022-02-17T22:36:34.018Z"
   },
   {
    "duration": 13,
    "start_time": "2022-02-17T22:36:34.349Z"
   },
   {
    "duration": 37,
    "start_time": "2022-02-17T22:36:34.365Z"
   },
   {
    "duration": 434,
    "start_time": "2022-02-17T22:36:34.405Z"
   },
   {
    "duration": 321,
    "start_time": "2022-02-17T22:36:34.842Z"
   },
   {
    "duration": 12,
    "start_time": "2022-02-17T22:36:35.166Z"
   },
   {
    "duration": 303,
    "start_time": "2022-02-17T22:36:35.194Z"
   },
   {
    "duration": 288,
    "start_time": "2022-02-17T22:36:35.500Z"
   },
   {
    "duration": 8,
    "start_time": "2022-02-17T22:36:35.790Z"
   },
   {
    "duration": 267,
    "start_time": "2022-02-17T22:36:35.800Z"
   },
   {
    "duration": 429,
    "start_time": "2022-02-17T22:36:36.069Z"
   },
   {
    "duration": 14,
    "start_time": "2022-02-17T22:36:36.501Z"
   },
   {
    "duration": 31,
    "start_time": "2022-02-17T22:36:36.517Z"
   },
   {
    "duration": 47,
    "start_time": "2022-02-17T22:36:36.553Z"
   },
   {
    "duration": 34,
    "start_time": "2022-02-17T22:36:36.603Z"
   },
   {
    "duration": 159,
    "start_time": "2022-02-17T22:36:36.640Z"
   },
   {
    "duration": 525,
    "start_time": "2022-02-17T22:36:36.801Z"
   },
   {
    "duration": 105,
    "start_time": "2022-02-17T22:36:37.329Z"
   },
   {
    "duration": 258,
    "start_time": "2022-02-17T22:36:37.437Z"
   },
   {
    "duration": 11,
    "start_time": "2022-02-17T22:36:37.697Z"
   },
   {
    "duration": 27,
    "start_time": "2022-02-17T22:36:37.710Z"
   },
   {
    "duration": 72,
    "start_time": "2022-02-17T22:36:37.739Z"
   },
   {
    "duration": 524,
    "start_time": "2022-02-17T22:36:37.896Z"
   },
   {
    "duration": 144,
    "start_time": "2022-02-17T22:36:38.423Z"
   },
   {
    "duration": 271,
    "start_time": "2022-02-17T22:36:38.570Z"
   },
   {
    "duration": 19785,
    "start_time": "2022-02-17T22:36:38.844Z"
   },
   {
    "duration": 9,
    "start_time": "2022-02-17T22:37:49.893Z"
   },
   {
    "duration": 51,
    "start_time": "2022-02-17T22:37:49.906Z"
   },
   {
    "duration": 33,
    "start_time": "2022-02-17T22:37:49.960Z"
   },
   {
    "duration": 12,
    "start_time": "2022-02-17T22:37:49.997Z"
   },
   {
    "duration": 7,
    "start_time": "2022-02-17T22:37:50.011Z"
   },
   {
    "duration": 91,
    "start_time": "2022-02-17T22:37:50.020Z"
   },
   {
    "duration": 17,
    "start_time": "2022-02-17T22:37:50.114Z"
   },
   {
    "duration": 6,
    "start_time": "2022-02-17T22:37:50.134Z"
   },
   {
    "duration": 15,
    "start_time": "2022-02-17T22:37:50.142Z"
   },
   {
    "duration": 327,
    "start_time": "2022-02-17T22:37:50.159Z"
   },
   {
    "duration": 11,
    "start_time": "2022-02-17T22:37:50.493Z"
   },
   {
    "duration": 12,
    "start_time": "2022-02-17T22:37:50.507Z"
   },
   {
    "duration": 344,
    "start_time": "2022-02-17T22:37:50.521Z"
   },
   {
    "duration": 321,
    "start_time": "2022-02-17T22:37:50.868Z"
   },
   {
    "duration": 11,
    "start_time": "2022-02-17T22:37:51.194Z"
   },
   {
    "duration": 316,
    "start_time": "2022-02-17T22:37:51.207Z"
   },
   {
    "duration": 286,
    "start_time": "2022-02-17T22:37:51.525Z"
   },
   {
    "duration": 8,
    "start_time": "2022-02-17T22:37:51.814Z"
   },
   {
    "duration": 278,
    "start_time": "2022-02-17T22:37:51.826Z"
   },
   {
    "duration": 371,
    "start_time": "2022-02-17T22:37:52.107Z"
   },
   {
    "duration": 17,
    "start_time": "2022-02-17T22:37:52.480Z"
   },
   {
    "duration": 31,
    "start_time": "2022-02-17T22:37:52.501Z"
   },
   {
    "duration": 17,
    "start_time": "2022-02-17T22:37:52.535Z"
   },
   {
    "duration": 67,
    "start_time": "2022-02-17T22:37:52.555Z"
   },
   {
    "duration": 79,
    "start_time": "2022-02-17T22:37:52.625Z"
   },
   {
    "duration": 593,
    "start_time": "2022-02-17T22:37:52.707Z"
   },
   {
    "duration": 107,
    "start_time": "2022-02-17T22:37:53.303Z"
   },
   {
    "duration": 259,
    "start_time": "2022-02-17T22:37:53.413Z"
   },
   {
    "duration": 20,
    "start_time": "2022-02-17T22:37:53.675Z"
   },
   {
    "duration": 6,
    "start_time": "2022-02-17T22:37:53.697Z"
   },
   {
    "duration": 92,
    "start_time": "2022-02-17T22:37:53.705Z"
   },
   {
    "duration": 523,
    "start_time": "2022-02-17T22:37:53.801Z"
   },
   {
    "duration": 108,
    "start_time": "2022-02-17T22:37:54.327Z"
   },
   {
    "duration": 262,
    "start_time": "2022-02-17T22:37:54.438Z"
   },
   {
    "duration": 10,
    "start_time": "2022-02-17T22:38:16.304Z"
   },
   {
    "duration": 53,
    "start_time": "2022-02-17T22:38:16.316Z"
   },
   {
    "duration": 6,
    "start_time": "2022-02-17T22:38:16.371Z"
   },
   {
    "duration": 20,
    "start_time": "2022-02-17T22:38:16.380Z"
   },
   {
    "duration": 5,
    "start_time": "2022-02-17T22:38:16.403Z"
   },
   {
    "duration": 95,
    "start_time": "2022-02-17T22:38:16.411Z"
   },
   {
    "duration": 16,
    "start_time": "2022-02-17T22:38:16.509Z"
   },
   {
    "duration": 6,
    "start_time": "2022-02-17T22:38:16.528Z"
   },
   {
    "duration": 13,
    "start_time": "2022-02-17T22:38:16.536Z"
   },
   {
    "duration": 329,
    "start_time": "2022-02-17T22:38:16.551Z"
   },
   {
    "duration": 18,
    "start_time": "2022-02-17T22:38:16.882Z"
   },
   {
    "duration": 9,
    "start_time": "2022-02-17T22:38:16.902Z"
   },
   {
    "duration": 351,
    "start_time": "2022-02-17T22:38:16.913Z"
   },
   {
    "duration": 290,
    "start_time": "2022-02-17T22:38:17.266Z"
   },
   {
    "duration": 10,
    "start_time": "2022-02-17T22:38:17.558Z"
   },
   {
    "duration": 287,
    "start_time": "2022-02-17T22:38:17.570Z"
   },
   {
    "duration": 393,
    "start_time": "2022-02-17T22:38:17.859Z"
   },
   {
    "duration": 9,
    "start_time": "2022-02-17T22:38:18.254Z"
   },
   {
    "duration": 314,
    "start_time": "2022-02-17T22:38:18.294Z"
   },
   {
    "duration": 332,
    "start_time": "2022-02-17T22:38:18.610Z"
   },
   {
    "duration": 8,
    "start_time": "2022-02-17T22:38:18.945Z"
   },
   {
    "duration": 45,
    "start_time": "2022-02-17T22:38:18.956Z"
   },
   {
    "duration": 15,
    "start_time": "2022-02-17T22:38:19.003Z"
   },
   {
    "duration": 31,
    "start_time": "2022-02-17T22:38:19.020Z"
   },
   {
    "duration": 144,
    "start_time": "2022-02-17T22:38:19.053Z"
   },
   {
    "duration": 505,
    "start_time": "2022-02-17T22:38:19.201Z"
   },
   {
    "duration": 100,
    "start_time": "2022-02-17T22:38:19.709Z"
   },
   {
    "duration": 245,
    "start_time": "2022-02-17T22:38:19.811Z"
   },
   {
    "duration": 8,
    "start_time": "2022-02-17T22:38:20.058Z"
   },
   {
    "duration": 41,
    "start_time": "2022-02-17T22:38:20.069Z"
   },
   {
    "duration": 90,
    "start_time": "2022-02-17T22:38:20.112Z"
   },
   {
    "duration": 436,
    "start_time": "2022-02-17T22:38:20.295Z"
   },
   {
    "duration": 129,
    "start_time": "2022-02-17T22:38:20.734Z"
   },
   {
    "duration": 354,
    "start_time": "2022-02-17T22:38:20.865Z"
   },
   {
    "duration": 146,
    "start_time": "2022-02-17T22:38:36.476Z"
   },
   {
    "duration": 138,
    "start_time": "2022-02-17T22:38:41.506Z"
   },
   {
    "duration": 375,
    "start_time": "2022-02-17T22:41:13.128Z"
   },
   {
    "duration": 21,
    "start_time": "2022-02-17T22:41:26.647Z"
   },
   {
    "duration": 253,
    "start_time": "2022-02-17T22:43:02.750Z"
   },
   {
    "duration": 220,
    "start_time": "2022-02-17T23:04:21.688Z"
   },
   {
    "duration": 1447,
    "start_time": "2022-02-17T23:04:36.698Z"
   },
   {
    "duration": 56,
    "start_time": "2022-02-17T23:04:38.148Z"
   },
   {
    "duration": 6,
    "start_time": "2022-02-17T23:04:38.207Z"
   },
   {
    "duration": 15,
    "start_time": "2022-02-17T23:04:38.216Z"
   },
   {
    "duration": 7,
    "start_time": "2022-02-17T23:04:38.234Z"
   },
   {
    "duration": 83,
    "start_time": "2022-02-17T23:04:38.244Z"
   },
   {
    "duration": 16,
    "start_time": "2022-02-17T23:04:38.330Z"
   },
   {
    "duration": 6,
    "start_time": "2022-02-17T23:04:38.350Z"
   },
   {
    "duration": 45,
    "start_time": "2022-02-17T23:04:38.359Z"
   },
   {
    "duration": 315,
    "start_time": "2022-02-17T23:04:38.407Z"
   },
   {
    "duration": 14,
    "start_time": "2022-02-17T23:04:38.724Z"
   },
   {
    "duration": 13,
    "start_time": "2022-02-17T23:04:38.741Z"
   },
   {
    "duration": 353,
    "start_time": "2022-02-17T23:04:38.757Z"
   },
   {
    "duration": 322,
    "start_time": "2022-02-17T23:04:39.113Z"
   },
   {
    "duration": 10,
    "start_time": "2022-02-17T23:04:39.438Z"
   },
   {
    "duration": 316,
    "start_time": "2022-02-17T23:04:39.451Z"
   },
   {
    "duration": 281,
    "start_time": "2022-02-17T23:04:39.769Z"
   },
   {
    "duration": 8,
    "start_time": "2022-02-17T23:04:40.052Z"
   },
   {
    "duration": 268,
    "start_time": "2022-02-17T23:04:40.063Z"
   },
   {
    "duration": 423,
    "start_time": "2022-02-17T23:04:40.334Z"
   },
   {
    "duration": 23,
    "start_time": "2022-02-17T23:04:40.760Z"
   },
   {
    "duration": 33,
    "start_time": "2022-02-17T23:04:40.785Z"
   },
   {
    "duration": 16,
    "start_time": "2022-02-17T23:04:40.823Z"
   },
   {
    "duration": 58,
    "start_time": "2022-02-17T23:04:40.841Z"
   },
   {
    "duration": 103,
    "start_time": "2022-02-17T23:04:40.902Z"
   },
   {
    "duration": 488,
    "start_time": "2022-02-17T23:04:41.008Z"
   },
   {
    "duration": 108,
    "start_time": "2022-02-17T23:04:41.499Z"
   },
   {
    "duration": 250,
    "start_time": "2022-02-17T23:04:41.610Z"
   },
   {
    "duration": 30,
    "start_time": "2022-02-17T23:04:41.863Z"
   },
   {
    "duration": 21,
    "start_time": "2022-02-17T23:04:41.896Z"
   },
   {
    "duration": 77,
    "start_time": "2022-02-17T23:04:41.920Z"
   },
   {
    "duration": 501,
    "start_time": "2022-02-17T23:04:42.000Z"
   },
   {
    "duration": 139,
    "start_time": "2022-02-17T23:04:42.504Z"
   },
   {
    "duration": 241,
    "start_time": "2022-02-17T23:04:42.646Z"
   },
   {
    "duration": 21,
    "start_time": "2022-02-17T23:04:42.894Z"
   },
   {
    "duration": 254,
    "start_time": "2022-02-17T23:04:42.918Z"
   },
   {
    "duration": 455199,
    "start_time": "2022-02-17T23:04:43.175Z"
   },
   {
    "duration": 2433074,
    "start_time": "2022-02-17T23:13:43.470Z"
   },
   {
    "duration": 7142104,
    "start_time": "2022-02-17T23:56:59.204Z"
   },
   {
    "duration": 1681,
    "start_time": "2022-02-18T08:03:04.207Z"
   },
   {
    "duration": 61,
    "start_time": "2022-02-18T08:03:05.891Z"
   },
   {
    "duration": 8,
    "start_time": "2022-02-18T08:03:05.961Z"
   },
   {
    "duration": 28,
    "start_time": "2022-02-18T08:03:05.971Z"
   },
   {
    "duration": 28,
    "start_time": "2022-02-18T08:03:06.002Z"
   },
   {
    "duration": 71,
    "start_time": "2022-02-18T08:03:06.032Z"
   },
   {
    "duration": 25,
    "start_time": "2022-02-18T08:03:06.106Z"
   },
   {
    "duration": 7,
    "start_time": "2022-02-18T08:03:06.135Z"
   },
   {
    "duration": 20,
    "start_time": "2022-02-18T08:03:06.146Z"
   },
   {
    "duration": 344,
    "start_time": "2022-02-18T08:03:06.168Z"
   },
   {
    "duration": 19,
    "start_time": "2022-02-18T08:03:06.514Z"
   },
   {
    "duration": 15,
    "start_time": "2022-02-18T08:03:06.535Z"
   },
   {
    "duration": 335,
    "start_time": "2022-02-18T08:03:06.553Z"
   },
   {
    "duration": 312,
    "start_time": "2022-02-18T08:03:06.890Z"
   },
   {
    "duration": 11,
    "start_time": "2022-02-18T08:03:07.204Z"
   },
   {
    "duration": 320,
    "start_time": "2022-02-18T08:03:07.226Z"
   },
   {
    "duration": 304,
    "start_time": "2022-02-18T08:03:07.548Z"
   },
   {
    "duration": 9,
    "start_time": "2022-02-18T08:03:07.855Z"
   },
   {
    "duration": 275,
    "start_time": "2022-02-18T08:03:07.866Z"
   },
   {
    "duration": 433,
    "start_time": "2022-02-18T08:03:08.143Z"
   },
   {
    "duration": 14,
    "start_time": "2022-02-18T08:03:08.579Z"
   },
   {
    "duration": 48,
    "start_time": "2022-02-18T08:03:08.597Z"
   },
   {
    "duration": 16,
    "start_time": "2022-02-18T08:03:08.647Z"
   },
   {
    "duration": 64,
    "start_time": "2022-02-18T08:03:08.665Z"
   },
   {
    "duration": 97,
    "start_time": "2022-02-18T08:03:08.732Z"
   },
   {
    "duration": 525,
    "start_time": "2022-02-18T08:03:08.832Z"
   },
   {
    "duration": 149,
    "start_time": "2022-02-18T08:03:09.360Z"
   },
   {
    "duration": 285,
    "start_time": "2022-02-18T08:03:09.512Z"
   },
   {
    "duration": 9,
    "start_time": "2022-02-18T08:03:09.799Z"
   },
   {
    "duration": 21,
    "start_time": "2022-02-18T08:03:09.826Z"
   },
   {
    "duration": 78,
    "start_time": "2022-02-18T08:03:09.850Z"
   },
   {
    "duration": 535,
    "start_time": "2022-02-18T08:03:09.932Z"
   },
   {
    "duration": 152,
    "start_time": "2022-02-18T08:03:10.469Z"
   },
   {
    "duration": 268,
    "start_time": "2022-02-18T08:03:10.623Z"
   },
   {
    "duration": 37,
    "start_time": "2022-02-18T08:03:10.893Z"
   },
   {
    "duration": 267,
    "start_time": "2022-02-18T08:03:10.932Z"
   },
   {
    "duration": 1519,
    "start_time": "2022-02-18T08:05:00.871Z"
   },
   {
    "duration": 55,
    "start_time": "2022-02-18T08:05:02.394Z"
   },
   {
    "duration": 6,
    "start_time": "2022-02-18T08:05:02.452Z"
   },
   {
    "duration": 33,
    "start_time": "2022-02-18T08:05:02.461Z"
   },
   {
    "duration": 73,
    "start_time": "2022-02-18T08:05:02.497Z"
   },
   {
    "duration": 16,
    "start_time": "2022-02-18T08:05:02.573Z"
   },
   {
    "duration": 26,
    "start_time": "2022-02-18T08:05:02.591Z"
   },
   {
    "duration": 38,
    "start_time": "2022-02-18T08:05:02.626Z"
   },
   {
    "duration": 306,
    "start_time": "2022-02-18T08:05:02.667Z"
   },
   {
    "duration": 10,
    "start_time": "2022-02-18T08:05:02.976Z"
   },
   {
    "duration": 44,
    "start_time": "2022-02-18T08:05:02.989Z"
   },
   {
    "duration": 356,
    "start_time": "2022-02-18T08:05:03.036Z"
   },
   {
    "duration": 405,
    "start_time": "2022-02-18T08:05:03.396Z"
   },
   {
    "duration": 23,
    "start_time": "2022-02-18T08:05:03.803Z"
   },
   {
    "duration": 343,
    "start_time": "2022-02-18T08:05:03.828Z"
   },
   {
    "duration": 283,
    "start_time": "2022-02-18T08:05:04.173Z"
   },
   {
    "duration": 9,
    "start_time": "2022-02-18T08:05:04.458Z"
   },
   {
    "duration": 276,
    "start_time": "2022-02-18T08:05:04.469Z"
   },
   {
    "duration": 433,
    "start_time": "2022-02-18T08:05:04.747Z"
   },
   {
    "duration": 14,
    "start_time": "2022-02-18T08:05:05.183Z"
   },
   {
    "duration": 63,
    "start_time": "2022-02-18T08:05:05.200Z"
   },
   {
    "duration": 19,
    "start_time": "2022-02-18T08:05:05.266Z"
   },
   {
    "duration": 54,
    "start_time": "2022-02-18T08:05:05.290Z"
   },
   {
    "duration": 85,
    "start_time": "2022-02-18T08:05:05.346Z"
   },
   {
    "duration": 520,
    "start_time": "2022-02-18T08:05:05.434Z"
   },
   {
    "duration": 111,
    "start_time": "2022-02-18T08:05:05.957Z"
   },
   {
    "duration": 276,
    "start_time": "2022-02-18T08:05:06.071Z"
   },
   {
    "duration": 10,
    "start_time": "2022-02-18T08:05:06.349Z"
   },
   {
    "duration": 47,
    "start_time": "2022-02-18T08:05:06.362Z"
   },
   {
    "duration": 119,
    "start_time": "2022-02-18T08:05:06.412Z"
   },
   {
    "duration": 515,
    "start_time": "2022-02-18T08:05:06.534Z"
   },
   {
    "duration": 149,
    "start_time": "2022-02-18T08:05:07.053Z"
   },
   {
    "duration": 269,
    "start_time": "2022-02-18T08:05:07.205Z"
   },
   {
    "duration": 21,
    "start_time": "2022-02-18T08:05:07.476Z"
   },
   {
    "duration": 273,
    "start_time": "2022-02-18T08:05:07.499Z"
   },
   {
    "duration": 175294,
    "start_time": "2022-02-18T08:05:07.774Z"
   },
   {
    "duration": 288,
    "start_time": "2022-02-18T08:08:03.071Z"
   },
   {
    "duration": -30,
    "start_time": "2022-02-18T08:08:03.393Z"
   },
   {
    "duration": 11,
    "start_time": "2022-02-18T08:08:04.697Z"
   },
   {
    "duration": 18,
    "start_time": "2022-02-18T08:08:12.395Z"
   },
   {
    "duration": 1545,
    "start_time": "2022-02-18T08:08:27.036Z"
   },
   {
    "duration": 58,
    "start_time": "2022-02-18T08:08:28.584Z"
   },
   {
    "duration": 7,
    "start_time": "2022-02-18T08:08:28.645Z"
   },
   {
    "duration": 21,
    "start_time": "2022-02-18T08:08:28.654Z"
   },
   {
    "duration": 82,
    "start_time": "2022-02-18T08:08:28.677Z"
   },
   {
    "duration": 17,
    "start_time": "2022-02-18T08:08:28.761Z"
   },
   {
    "duration": 6,
    "start_time": "2022-02-18T08:08:28.780Z"
   },
   {
    "duration": 42,
    "start_time": "2022-02-18T08:08:28.789Z"
   },
   {
    "duration": 322,
    "start_time": "2022-02-18T08:08:28.834Z"
   },
   {
    "duration": 12,
    "start_time": "2022-02-18T08:08:29.159Z"
   },
   {
    "duration": 13,
    "start_time": "2022-02-18T08:08:29.174Z"
   },
   {
    "duration": 350,
    "start_time": "2022-02-18T08:08:29.190Z"
   },
   {
    "duration": 309,
    "start_time": "2022-02-18T08:08:29.543Z"
   },
   {
    "duration": 18,
    "start_time": "2022-02-18T08:08:29.855Z"
   },
   {
    "duration": 11,
    "start_time": "2022-02-18T08:08:29.875Z"
   },
   {
    "duration": 329,
    "start_time": "2022-02-18T08:08:29.889Z"
   },
   {
    "duration": 284,
    "start_time": "2022-02-18T08:08:30.220Z"
   },
   {
    "duration": 20,
    "start_time": "2022-02-18T08:08:30.506Z"
   },
   {
    "duration": 270,
    "start_time": "2022-02-18T08:08:30.529Z"
   },
   {
    "duration": 412,
    "start_time": "2022-02-18T08:08:30.801Z"
   },
   {
    "duration": 21,
    "start_time": "2022-02-18T08:08:31.215Z"
   },
   {
    "duration": 33,
    "start_time": "2022-02-18T08:08:31.238Z"
   },
   {
    "duration": 18,
    "start_time": "2022-02-18T08:08:31.277Z"
   },
   {
    "duration": 61,
    "start_time": "2022-02-18T08:08:31.298Z"
   },
   {
    "duration": 76,
    "start_time": "2022-02-18T08:08:31.362Z"
   },
   {
    "duration": 515,
    "start_time": "2022-02-18T08:08:31.441Z"
   },
   {
    "duration": 119,
    "start_time": "2022-02-18T08:08:31.959Z"
   },
   {
    "duration": 264,
    "start_time": "2022-02-18T08:08:32.081Z"
   },
   {
    "duration": 10,
    "start_time": "2022-02-18T08:08:32.348Z"
   },
   {
    "duration": 28,
    "start_time": "2022-02-18T08:08:32.361Z"
   },
   {
    "duration": 140,
    "start_time": "2022-02-18T08:08:32.391Z"
   },
   {
    "duration": 545,
    "start_time": "2022-02-18T08:08:32.534Z"
   },
   {
    "duration": 156,
    "start_time": "2022-02-18T08:08:33.083Z"
   },
   {
    "duration": 264,
    "start_time": "2022-02-18T08:08:33.242Z"
   },
   {
    "duration": 29,
    "start_time": "2022-02-18T08:08:33.508Z"
   },
   {
    "duration": 273,
    "start_time": "2022-02-18T08:08:33.540Z"
   },
   {
    "duration": 28499,
    "start_time": "2022-02-18T08:08:33.816Z"
   },
   {
    "duration": 268,
    "start_time": "2022-02-18T08:09:02.318Z"
   },
   {
    "duration": -31,
    "start_time": "2022-02-18T08:09:02.620Z"
   },
   {
    "duration": 20,
    "start_time": "2022-02-18T08:09:24.024Z"
   },
   {
    "duration": 1451,
    "start_time": "2022-02-18T08:09:35.034Z"
   },
   {
    "duration": 54,
    "start_time": "2022-02-18T08:09:36.488Z"
   },
   {
    "duration": 8,
    "start_time": "2022-02-18T08:09:36.546Z"
   },
   {
    "duration": 20,
    "start_time": "2022-02-18T08:09:36.558Z"
   },
   {
    "duration": 88,
    "start_time": "2022-02-18T08:09:36.582Z"
   },
   {
    "duration": 20,
    "start_time": "2022-02-18T08:09:36.673Z"
   },
   {
    "duration": 33,
    "start_time": "2022-02-18T08:09:36.696Z"
   },
   {
    "duration": 17,
    "start_time": "2022-02-18T08:09:36.735Z"
   },
   {
    "duration": 331,
    "start_time": "2022-02-18T08:09:36.756Z"
   },
   {
    "duration": 13,
    "start_time": "2022-02-18T08:09:37.090Z"
   },
   {
    "duration": 28,
    "start_time": "2022-02-18T08:09:37.105Z"
   },
   {
    "duration": 324,
    "start_time": "2022-02-18T08:09:37.136Z"
   },
   {
    "duration": 306,
    "start_time": "2022-02-18T08:09:37.463Z"
   },
   {
    "duration": 19,
    "start_time": "2022-02-18T08:09:37.772Z"
   },
   {
    "duration": 33,
    "start_time": "2022-02-18T08:09:37.794Z"
   },
   {
    "duration": 318,
    "start_time": "2022-02-18T08:09:37.830Z"
   },
   {
    "duration": 282,
    "start_time": "2022-02-18T08:09:38.151Z"
   },
   {
    "duration": 8,
    "start_time": "2022-02-18T08:09:38.435Z"
   },
   {
    "duration": 268,
    "start_time": "2022-02-18T08:09:38.445Z"
   },
   {
    "duration": 411,
    "start_time": "2022-02-18T08:09:38.715Z"
   },
   {
    "duration": 13,
    "start_time": "2022-02-18T08:09:39.128Z"
   },
   {
    "duration": 29,
    "start_time": "2022-02-18T08:09:39.144Z"
   },
   {
    "duration": 15,
    "start_time": "2022-02-18T08:09:39.177Z"
   },
   {
    "duration": 63,
    "start_time": "2022-02-18T08:09:39.194Z"
   },
   {
    "duration": 75,
    "start_time": "2022-02-18T08:09:39.259Z"
   },
   {
    "duration": 505,
    "start_time": "2022-02-18T08:09:39.337Z"
   },
   {
    "duration": 113,
    "start_time": "2022-02-18T08:09:39.844Z"
   },
   {
    "duration": 268,
    "start_time": "2022-02-18T08:09:39.960Z"
   },
   {
    "duration": 8,
    "start_time": "2022-02-18T08:09:40.231Z"
   },
   {
    "duration": 22,
    "start_time": "2022-02-18T08:09:40.242Z"
   },
   {
    "duration": 162,
    "start_time": "2022-02-18T08:09:40.267Z"
   },
   {
    "duration": 523,
    "start_time": "2022-02-18T08:09:40.433Z"
   },
   {
    "duration": 145,
    "start_time": "2022-02-18T08:09:40.958Z"
   },
   {
    "duration": 255,
    "start_time": "2022-02-18T08:09:41.105Z"
   },
   {
    "duration": 22,
    "start_time": "2022-02-18T08:09:41.363Z"
   },
   {
    "duration": 266,
    "start_time": "2022-02-18T08:09:41.388Z"
   },
   {
    "duration": 1540,
    "start_time": "2022-02-18T08:21:58.955Z"
   },
   {
    "duration": 58,
    "start_time": "2022-02-18T08:22:00.498Z"
   },
   {
    "duration": 8,
    "start_time": "2022-02-18T08:22:00.560Z"
   },
   {
    "duration": 17,
    "start_time": "2022-02-18T08:22:00.571Z"
   },
   {
    "duration": 84,
    "start_time": "2022-02-18T08:22:00.591Z"
   },
   {
    "duration": 16,
    "start_time": "2022-02-18T08:22:00.678Z"
   },
   {
    "duration": 6,
    "start_time": "2022-02-18T08:22:00.697Z"
   },
   {
    "duration": 30,
    "start_time": "2022-02-18T08:22:00.707Z"
   },
   {
    "duration": 320,
    "start_time": "2022-02-18T08:22:00.740Z"
   },
   {
    "duration": 11,
    "start_time": "2022-02-18T08:22:01.062Z"
   },
   {
    "duration": 22,
    "start_time": "2022-02-18T08:22:01.075Z"
   },
   {
    "duration": 441,
    "start_time": "2022-02-18T08:22:01.099Z"
   },
   {
    "duration": 413,
    "start_time": "2022-02-18T08:22:01.543Z"
   },
   {
    "duration": 17,
    "start_time": "2022-02-18T08:22:01.959Z"
   },
   {
    "duration": 425,
    "start_time": "2022-02-18T08:22:01.979Z"
   },
   {
    "duration": -40,
    "start_time": "2022-02-18T08:22:02.448Z"
   },
   {
    "duration": -42,
    "start_time": "2022-02-18T08:22:02.451Z"
   },
   {
    "duration": -45,
    "start_time": "2022-02-18T08:22:02.455Z"
   },
   {
    "duration": -46,
    "start_time": "2022-02-18T08:22:02.458Z"
   },
   {
    "duration": -47,
    "start_time": "2022-02-18T08:22:02.461Z"
   },
   {
    "duration": -50,
    "start_time": "2022-02-18T08:22:02.465Z"
   },
   {
    "duration": -52,
    "start_time": "2022-02-18T08:22:02.469Z"
   },
   {
    "duration": -53,
    "start_time": "2022-02-18T08:22:02.472Z"
   },
   {
    "duration": -55,
    "start_time": "2022-02-18T08:22:02.475Z"
   },
   {
    "duration": -56,
    "start_time": "2022-02-18T08:22:02.478Z"
   },
   {
    "duration": -57,
    "start_time": "2022-02-18T08:22:02.480Z"
   },
   {
    "duration": -58,
    "start_time": "2022-02-18T08:22:02.483Z"
   },
   {
    "duration": -59,
    "start_time": "2022-02-18T08:22:02.486Z"
   },
   {
    "duration": -61,
    "start_time": "2022-02-18T08:22:02.489Z"
   },
   {
    "duration": -62,
    "start_time": "2022-02-18T08:22:02.491Z"
   },
   {
    "duration": -63,
    "start_time": "2022-02-18T08:22:02.494Z"
   },
   {
    "duration": -70,
    "start_time": "2022-02-18T08:22:02.503Z"
   },
   {
    "duration": -72,
    "start_time": "2022-02-18T08:22:02.506Z"
   },
   {
    "duration": -73,
    "start_time": "2022-02-18T08:22:02.508Z"
   },
   {
    "duration": -74,
    "start_time": "2022-02-18T08:22:02.511Z"
   },
   {
    "duration": -77,
    "start_time": "2022-02-18T08:22:02.515Z"
   },
   {
    "duration": -78,
    "start_time": "2022-02-18T08:22:02.518Z"
   },
   {
    "duration": -80,
    "start_time": "2022-02-18T08:22:02.521Z"
   },
   {
    "duration": -80,
    "start_time": "2022-02-18T08:22:02.523Z"
   },
   {
    "duration": 400,
    "start_time": "2022-02-18T15:12:43.230Z"
   },
   {
    "duration": 12,
    "start_time": "2022-02-18T15:13:18.417Z"
   },
   {
    "duration": 53,
    "start_time": "2022-02-18T15:13:53.030Z"
   },
   {
    "duration": 27,
    "start_time": "2022-02-18T15:13:55.560Z"
   },
   {
    "duration": 29,
    "start_time": "2022-02-18T15:14:02.677Z"
   },
   {
    "duration": 321,
    "start_time": "2022-02-18T15:20:55.430Z"
   },
   {
    "duration": 65,
    "start_time": "2022-02-18T15:21:31.707Z"
   },
   {
    "duration": 37,
    "start_time": "2022-02-18T15:21:36.895Z"
   },
   {
    "duration": 290,
    "start_time": "2022-02-18T15:21:39.541Z"
   },
   {
    "duration": 147,
    "start_time": "2022-02-18T15:22:18.291Z"
   },
   {
    "duration": 389,
    "start_time": "2022-02-18T15:22:51.739Z"
   },
   {
    "duration": 392,
    "start_time": "2022-02-18T15:22:58.467Z"
   },
   {
    "duration": 276,
    "start_time": "2022-02-18T15:24:05.378Z"
   },
   {
    "duration": 1074,
    "start_time": "2022-02-18T15:24:12.168Z"
   },
   {
    "duration": 374,
    "start_time": "2022-02-18T15:24:26.719Z"
   },
   {
    "duration": 100,
    "start_time": "2022-02-18T15:24:32.111Z"
   },
   {
    "duration": 97,
    "start_time": "2022-02-18T15:25:14.954Z"
   },
   {
    "duration": 102,
    "start_time": "2022-02-18T15:25:26.868Z"
   },
   {
    "duration": 1560,
    "start_time": "2022-02-18T15:27:50.427Z"
   },
   {
    "duration": 66,
    "start_time": "2022-02-18T15:27:51.993Z"
   },
   {
    "duration": 7,
    "start_time": "2022-02-18T15:27:52.062Z"
   },
   {
    "duration": 16,
    "start_time": "2022-02-18T15:27:52.071Z"
   },
   {
    "duration": 83,
    "start_time": "2022-02-18T15:27:52.090Z"
   },
   {
    "duration": 15,
    "start_time": "2022-02-18T15:27:52.176Z"
   },
   {
    "duration": 33,
    "start_time": "2022-02-18T15:27:52.194Z"
   },
   {
    "duration": 12,
    "start_time": "2022-02-18T15:27:52.231Z"
   },
   {
    "duration": 327,
    "start_time": "2022-02-18T15:27:52.247Z"
   },
   {
    "duration": 13,
    "start_time": "2022-02-18T15:27:52.577Z"
   },
   {
    "duration": 35,
    "start_time": "2022-02-18T15:27:52.592Z"
   },
   {
    "duration": 341,
    "start_time": "2022-02-18T15:27:52.630Z"
   },
   {
    "duration": 308,
    "start_time": "2022-02-18T15:27:52.973Z"
   },
   {
    "duration": 19,
    "start_time": "2022-02-18T15:27:53.284Z"
   },
   {
    "duration": 30,
    "start_time": "2022-02-18T15:27:53.306Z"
   },
   {
    "duration": 332,
    "start_time": "2022-02-18T15:27:53.339Z"
   },
   {
    "duration": 300,
    "start_time": "2022-02-18T15:27:53.674Z"
   },
   {
    "duration": 10,
    "start_time": "2022-02-18T15:27:53.977Z"
   },
   {
    "duration": 284,
    "start_time": "2022-02-18T15:27:53.989Z"
   },
   {
    "duration": 522,
    "start_time": "2022-02-18T15:27:54.275Z"
   },
   {
    "duration": 14,
    "start_time": "2022-02-18T15:27:54.799Z"
   },
   {
    "duration": 52,
    "start_time": "2022-02-18T15:27:54.826Z"
   },
   {
    "duration": 47,
    "start_time": "2022-02-18T15:27:54.880Z"
   },
   {
    "duration": 61,
    "start_time": "2022-02-18T15:27:54.930Z"
   },
   {
    "duration": 132,
    "start_time": "2022-02-18T15:27:54.994Z"
   },
   {
    "duration": 192,
    "start_time": "2022-02-18T15:27:55.136Z"
   },
   {
    "duration": 546,
    "start_time": "2022-02-18T15:27:55.332Z"
   },
   {
    "duration": 104,
    "start_time": "2022-02-18T15:27:55.881Z"
   },
   {
    "duration": 106,
    "start_time": "2022-02-18T15:27:55.988Z"
   },
   {
    "duration": 409,
    "start_time": "2022-02-18T15:27:56.097Z"
   },
   {
    "duration": -35,
    "start_time": "2022-02-18T15:27:56.544Z"
   },
   {
    "duration": -38,
    "start_time": "2022-02-18T15:27:56.550Z"
   },
   {
    "duration": -49,
    "start_time": "2022-02-18T15:27:56.563Z"
   },
   {
    "duration": -51,
    "start_time": "2022-02-18T15:27:56.568Z"
   },
   {
    "duration": -52,
    "start_time": "2022-02-18T15:27:56.571Z"
   },
   {
    "duration": -56,
    "start_time": "2022-02-18T15:27:56.577Z"
   },
   {
    "duration": -57,
    "start_time": "2022-02-18T15:27:56.580Z"
   },
   {
    "duration": -59,
    "start_time": "2022-02-18T15:27:56.584Z"
   },
   {
    "duration": -60,
    "start_time": "2022-02-18T15:27:56.588Z"
   },
   {
    "duration": -63,
    "start_time": "2022-02-18T15:27:56.593Z"
   },
   {
    "duration": 277,
    "start_time": "2022-02-18T15:41:41.674Z"
   },
   {
    "duration": 253,
    "start_time": "2022-02-18T15:41:51.097Z"
   },
   {
    "duration": 267,
    "start_time": "2022-02-18T15:42:29.105Z"
   },
   {
    "duration": 4,
    "start_time": "2022-02-18T15:43:22.044Z"
   },
   {
    "duration": 10,
    "start_time": "2022-02-18T15:43:23.794Z"
   },
   {
    "duration": 24,
    "start_time": "2022-02-18T15:43:26.722Z"
   },
   {
    "duration": 289,
    "start_time": "2022-02-18T15:43:32.813Z"
   },
   {
    "duration": 4,
    "start_time": "2022-02-18T15:45:31.945Z"
   },
   {
    "duration": 9,
    "start_time": "2022-02-18T15:46:35.786Z"
   },
   {
    "duration": 57,
    "start_time": "2022-02-18T15:46:35.798Z"
   },
   {
    "duration": 6,
    "start_time": "2022-02-18T15:46:35.858Z"
   },
   {
    "duration": 15,
    "start_time": "2022-02-18T15:46:35.867Z"
   },
   {
    "duration": 84,
    "start_time": "2022-02-18T15:46:35.884Z"
   },
   {
    "duration": 17,
    "start_time": "2022-02-18T15:46:35.970Z"
   },
   {
    "duration": 6,
    "start_time": "2022-02-18T15:46:35.989Z"
   },
   {
    "duration": 37,
    "start_time": "2022-02-18T15:46:35.999Z"
   },
   {
    "duration": 317,
    "start_time": "2022-02-18T15:46:36.040Z"
   },
   {
    "duration": 12,
    "start_time": "2022-02-18T15:46:36.359Z"
   },
   {
    "duration": 13,
    "start_time": "2022-02-18T15:46:36.373Z"
   },
   {
    "duration": 355,
    "start_time": "2022-02-18T15:46:36.388Z"
   },
   {
    "duration": 309,
    "start_time": "2022-02-18T15:46:36.745Z"
   },
   {
    "duration": 18,
    "start_time": "2022-02-18T15:46:37.057Z"
   },
   {
    "duration": 11,
    "start_time": "2022-02-18T15:46:37.077Z"
   },
   {
    "duration": 329,
    "start_time": "2022-02-18T15:46:37.091Z"
   },
   {
    "duration": 287,
    "start_time": "2022-02-18T15:46:37.426Z"
   },
   {
    "duration": 12,
    "start_time": "2022-02-18T15:46:37.716Z"
   },
   {
    "duration": 270,
    "start_time": "2022-02-18T15:46:37.731Z"
   },
   {
    "duration": 352,
    "start_time": "2022-02-18T15:46:38.004Z"
   },
   {
    "duration": 10,
    "start_time": "2022-02-18T15:46:38.359Z"
   },
   {
    "duration": 80,
    "start_time": "2022-02-18T15:46:38.371Z"
   },
   {
    "duration": 28,
    "start_time": "2022-02-18T15:46:38.458Z"
   },
   {
    "duration": 87,
    "start_time": "2022-02-18T15:46:38.490Z"
   },
   {
    "duration": 50,
    "start_time": "2022-02-18T15:46:38.580Z"
   },
   {
    "duration": 294,
    "start_time": "2022-02-18T15:46:38.634Z"
   },
   {
    "duration": 521,
    "start_time": "2022-02-18T15:46:38.931Z"
   },
   {
    "duration": 104,
    "start_time": "2022-02-18T15:46:39.455Z"
   },
   {
    "duration": 110,
    "start_time": "2022-02-18T15:46:39.562Z"
   },
   {
    "duration": 350,
    "start_time": "2022-02-18T15:46:39.675Z"
   },
   {
    "duration": 4,
    "start_time": "2022-02-18T15:46:40.028Z"
   },
   {
    "duration": 12,
    "start_time": "2022-02-18T15:46:40.034Z"
   },
   {
    "duration": 22,
    "start_time": "2022-02-18T15:46:40.049Z"
   },
   {
    "duration": 156,
    "start_time": "2022-02-18T15:46:40.073Z"
   },
   {
    "duration": 506,
    "start_time": "2022-02-18T15:46:40.232Z"
   },
   {
    "duration": 149,
    "start_time": "2022-02-18T15:46:40.741Z"
   },
   {
    "duration": 250,
    "start_time": "2022-02-18T15:46:40.892Z"
   },
   {
    "duration": 20,
    "start_time": "2022-02-18T15:46:41.145Z"
   },
   {
    "duration": 274,
    "start_time": "2022-02-18T15:46:41.167Z"
   },
   {
    "duration": 222,
    "start_time": "2022-02-18T15:49:27.129Z"
   },
   {
    "duration": 217,
    "start_time": "2022-02-18T15:49:30.837Z"
   },
   {
    "duration": 399,
    "start_time": "2022-02-18T15:53:17.482Z"
   },
   {
    "duration": 1722,
    "start_time": "2022-02-18T15:53:38.587Z"
   },
   {
    "duration": 61,
    "start_time": "2022-02-18T15:53:40.312Z"
   },
   {
    "duration": 7,
    "start_time": "2022-02-18T15:53:40.376Z"
   },
   {
    "duration": 15,
    "start_time": "2022-02-18T15:53:40.386Z"
   },
   {
    "duration": 82,
    "start_time": "2022-02-18T15:53:40.403Z"
   },
   {
    "duration": 39,
    "start_time": "2022-02-18T15:53:40.487Z"
   },
   {
    "duration": 6,
    "start_time": "2022-02-18T15:53:40.529Z"
   },
   {
    "duration": 14,
    "start_time": "2022-02-18T15:53:40.539Z"
   },
   {
    "duration": 353,
    "start_time": "2022-02-18T15:53:40.556Z"
   },
   {
    "duration": 24,
    "start_time": "2022-02-18T15:53:40.912Z"
   },
   {
    "duration": 12,
    "start_time": "2022-02-18T15:53:40.938Z"
   },
   {
    "duration": 340,
    "start_time": "2022-02-18T15:53:40.952Z"
   },
   {
    "duration": 321,
    "start_time": "2022-02-18T15:53:41.294Z"
   },
   {
    "duration": 19,
    "start_time": "2022-02-18T15:53:41.617Z"
   },
   {
    "duration": 11,
    "start_time": "2022-02-18T15:53:41.638Z"
   },
   {
    "duration": 342,
    "start_time": "2022-02-18T15:53:41.652Z"
   },
   {
    "duration": 300,
    "start_time": "2022-02-18T15:53:41.997Z"
   },
   {
    "duration": 8,
    "start_time": "2022-02-18T15:53:42.300Z"
   },
   {
    "duration": 272,
    "start_time": "2022-02-18T15:53:42.326Z"
   },
   {
    "duration": 435,
    "start_time": "2022-02-18T15:53:42.601Z"
   },
   {
    "duration": 14,
    "start_time": "2022-02-18T15:53:43.039Z"
   },
   {
    "duration": 77,
    "start_time": "2022-02-18T15:53:43.055Z"
   },
   {
    "duration": 30,
    "start_time": "2022-02-18T15:53:43.139Z"
   },
   {
    "duration": 88,
    "start_time": "2022-02-18T15:53:43.172Z"
   },
   {
    "duration": 170,
    "start_time": "2022-02-18T15:53:43.263Z"
   },
   {
    "duration": 191,
    "start_time": "2022-02-18T15:53:43.435Z"
   },
   {
    "duration": 433,
    "start_time": "2022-02-18T15:53:43.629Z"
   },
   {
    "duration": 114,
    "start_time": "2022-02-18T15:53:44.065Z"
   },
   {
    "duration": 104,
    "start_time": "2022-02-18T15:53:44.182Z"
   },
   {
    "duration": 276,
    "start_time": "2022-02-18T15:53:44.289Z"
   },
   {
    "duration": 5,
    "start_time": "2022-02-18T15:53:44.568Z"
   },
   {
    "duration": 12,
    "start_time": "2022-02-18T15:53:44.575Z"
   },
   {
    "duration": 48,
    "start_time": "2022-02-18T15:53:44.589Z"
   },
   {
    "duration": 92,
    "start_time": "2022-02-18T15:53:44.639Z"
   },
   {
    "duration": 518,
    "start_time": "2022-02-18T15:53:44.735Z"
   },
   {
    "duration": 152,
    "start_time": "2022-02-18T15:53:45.256Z"
   },
   {
    "duration": 274,
    "start_time": "2022-02-18T15:53:45.410Z"
   },
   {
    "duration": 20,
    "start_time": "2022-02-18T15:53:45.686Z"
   },
   {
    "duration": 284,
    "start_time": "2022-02-18T15:53:45.708Z"
   },
   {
    "duration": 384,
    "start_time": "2022-02-18T15:53:45.995Z"
   },
   {
    "duration": 1600,
    "start_time": "2022-02-18T16:02:51.699Z"
   },
   {
    "duration": 61,
    "start_time": "2022-02-18T16:02:53.303Z"
   },
   {
    "duration": 8,
    "start_time": "2022-02-18T16:02:53.368Z"
   },
   {
    "duration": 17,
    "start_time": "2022-02-18T16:02:53.379Z"
   },
   {
    "duration": 86,
    "start_time": "2022-02-18T16:02:53.399Z"
   },
   {
    "duration": 40,
    "start_time": "2022-02-18T16:02:53.488Z"
   },
   {
    "duration": 6,
    "start_time": "2022-02-18T16:02:53.530Z"
   },
   {
    "duration": 13,
    "start_time": "2022-02-18T16:02:53.541Z"
   },
   {
    "duration": 351,
    "start_time": "2022-02-18T16:02:53.557Z"
   },
   {
    "duration": 22,
    "start_time": "2022-02-18T16:02:53.911Z"
   },
   {
    "duration": 11,
    "start_time": "2022-02-18T16:02:53.935Z"
   },
   {
    "duration": 345,
    "start_time": "2022-02-18T16:02:53.948Z"
   },
   {
    "duration": 324,
    "start_time": "2022-02-18T16:02:54.296Z"
   },
   {
    "duration": 14,
    "start_time": "2022-02-18T16:02:54.625Z"
   },
   {
    "duration": 11,
    "start_time": "2022-02-18T16:02:54.642Z"
   },
   {
    "duration": 340,
    "start_time": "2022-02-18T16:02:54.656Z"
   },
   {
    "duration": 303,
    "start_time": "2022-02-18T16:02:54.998Z"
   },
   {
    "duration": 9,
    "start_time": "2022-02-18T16:02:55.304Z"
   },
   {
    "duration": 281,
    "start_time": "2022-02-18T16:02:55.327Z"
   },
   {
    "duration": 439,
    "start_time": "2022-02-18T16:02:55.611Z"
   },
   {
    "duration": 15,
    "start_time": "2022-02-18T16:02:56.052Z"
   },
   {
    "duration": 83,
    "start_time": "2022-02-18T16:02:56.070Z"
   },
   {
    "duration": 31,
    "start_time": "2022-02-18T16:02:56.160Z"
   },
   {
    "duration": 79,
    "start_time": "2022-02-18T16:02:56.195Z"
   },
   {
    "duration": 56,
    "start_time": "2022-02-18T16:02:56.277Z"
   },
   {
    "duration": 291,
    "start_time": "2022-02-18T16:02:56.336Z"
   },
   {
    "duration": 534,
    "start_time": "2022-02-18T16:02:56.630Z"
   },
   {
    "duration": 118,
    "start_time": "2022-02-18T16:02:57.167Z"
   },
   {
    "duration": 107,
    "start_time": "2022-02-18T16:02:57.288Z"
   },
   {
    "duration": 264,
    "start_time": "2022-02-18T16:02:57.398Z"
   },
   {
    "duration": 4,
    "start_time": "2022-02-18T16:02:57.665Z"
   },
   {
    "duration": 13,
    "start_time": "2022-02-18T16:02:57.671Z"
   },
   {
    "duration": 49,
    "start_time": "2022-02-18T16:02:57.687Z"
   },
   {
    "duration": 93,
    "start_time": "2022-02-18T16:02:57.738Z"
   },
   {
    "duration": 533,
    "start_time": "2022-02-18T16:02:57.834Z"
   },
   {
    "duration": 164,
    "start_time": "2022-02-18T16:02:58.370Z"
   },
   {
    "duration": 308,
    "start_time": "2022-02-18T16:02:58.536Z"
   },
   {
    "duration": 22,
    "start_time": "2022-02-18T16:02:58.846Z"
   },
   {
    "duration": 293,
    "start_time": "2022-02-18T16:02:58.871Z"
   },
   {
    "duration": 5,
    "start_time": "2022-02-18T16:02:59.166Z"
   },
   {
    "duration": 369,
    "start_time": "2022-02-18T16:04:23.173Z"
   },
   {
    "duration": 211,
    "start_time": "2022-02-18T16:04:25.526Z"
   },
   {
    "duration": 1575,
    "start_time": "2022-02-18T16:05:31.021Z"
   },
   {
    "duration": 59,
    "start_time": "2022-02-18T16:05:32.600Z"
   },
   {
    "duration": 9,
    "start_time": "2022-02-18T16:05:32.661Z"
   },
   {
    "duration": 14,
    "start_time": "2022-02-18T16:05:32.672Z"
   },
   {
    "duration": 79,
    "start_time": "2022-02-18T16:05:32.689Z"
   },
   {
    "duration": 16,
    "start_time": "2022-02-18T16:05:32.770Z"
   },
   {
    "duration": 6,
    "start_time": "2022-02-18T16:05:32.788Z"
   },
   {
    "duration": 14,
    "start_time": "2022-02-18T16:05:32.826Z"
   },
   {
    "duration": 324,
    "start_time": "2022-02-18T16:05:32.843Z"
   },
   {
    "duration": 12,
    "start_time": "2022-02-18T16:05:33.169Z"
   },
   {
    "duration": 12,
    "start_time": "2022-02-18T16:05:33.184Z"
   },
   {
    "duration": 376,
    "start_time": "2022-02-18T16:05:33.199Z"
   },
   {
    "duration": 323,
    "start_time": "2022-02-18T16:05:33.577Z"
   },
   {
    "duration": 26,
    "start_time": "2022-02-18T16:05:33.903Z"
   },
   {
    "duration": 12,
    "start_time": "2022-02-18T16:05:33.931Z"
   },
   {
    "duration": 325,
    "start_time": "2022-02-18T16:05:33.945Z"
   },
   {
    "duration": 293,
    "start_time": "2022-02-18T16:05:34.273Z"
   },
   {
    "duration": 10,
    "start_time": "2022-02-18T16:05:34.569Z"
   },
   {
    "duration": 289,
    "start_time": "2022-02-18T16:05:34.582Z"
   },
   {
    "duration": 434,
    "start_time": "2022-02-18T16:05:34.874Z"
   },
   {
    "duration": 24,
    "start_time": "2022-02-18T16:05:35.311Z"
   },
   {
    "duration": 86,
    "start_time": "2022-02-18T16:05:35.338Z"
   },
   {
    "duration": 31,
    "start_time": "2022-02-18T16:05:35.430Z"
   },
   {
    "duration": 85,
    "start_time": "2022-02-18T16:05:35.463Z"
   },
   {
    "duration": 83,
    "start_time": "2022-02-18T16:05:35.551Z"
   },
   {
    "duration": 191,
    "start_time": "2022-02-18T16:05:35.637Z"
   },
   {
    "duration": 521,
    "start_time": "2022-02-18T16:05:35.831Z"
   },
   {
    "duration": 110,
    "start_time": "2022-02-18T16:05:36.355Z"
   },
   {
    "duration": 105,
    "start_time": "2022-02-18T16:05:36.467Z"
   },
   {
    "duration": 270,
    "start_time": "2022-02-18T16:05:36.574Z"
   },
   {
    "duration": 4,
    "start_time": "2022-02-18T16:05:36.846Z"
   },
   {
    "duration": 20,
    "start_time": "2022-02-18T16:05:36.853Z"
   },
   {
    "duration": 29,
    "start_time": "2022-02-18T16:05:36.876Z"
   },
   {
    "duration": 122,
    "start_time": "2022-02-18T16:05:36.907Z"
   },
   {
    "duration": 523,
    "start_time": "2022-02-18T16:05:37.034Z"
   },
   {
    "duration": 151,
    "start_time": "2022-02-18T16:05:37.560Z"
   },
   {
    "duration": 256,
    "start_time": "2022-02-18T16:05:37.713Z"
   },
   {
    "duration": 19,
    "start_time": "2022-02-18T16:05:37.971Z"
   },
   {
    "duration": 275,
    "start_time": "2022-02-18T16:05:37.993Z"
   },
   {
    "duration": 135283,
    "start_time": "2022-02-18T16:05:38.271Z"
   },
   {
    "duration": 37703,
    "start_time": "2022-02-18T16:09:44.121Z"
   },
   {
    "duration": 4737562,
    "start_time": "2022-02-18T16:11:26.159Z"
   },
   {
    "duration": 814626,
    "start_time": "2022-02-18T17:30:43.904Z"
   },
   {
    "duration": 19549,
    "start_time": "2022-02-18T17:51:37.394Z"
   },
   {
    "duration": 1386294,
    "start_time": "2022-02-18T17:51:59.561Z"
   },
   {
    "duration": 164,
    "start_time": "2022-02-18T18:19:00.255Z"
   },
   {
    "duration": 260,
    "start_time": "2022-02-18T18:19:08.796Z"
   },
   {
    "duration": 19,
    "start_time": "2022-02-18T18:19:13.882Z"
   },
   {
    "duration": 1731,
    "start_time": "2022-02-18T18:19:32.564Z"
   },
   {
    "duration": 66,
    "start_time": "2022-02-18T18:19:34.298Z"
   },
   {
    "duration": 8,
    "start_time": "2022-02-18T18:19:34.368Z"
   },
   {
    "duration": 20,
    "start_time": "2022-02-18T18:19:34.379Z"
   },
   {
    "duration": 87,
    "start_time": "2022-02-18T18:19:34.402Z"
   },
   {
    "duration": 16,
    "start_time": "2022-02-18T18:19:34.492Z"
   },
   {
    "duration": 8,
    "start_time": "2022-02-18T18:19:34.529Z"
   },
   {
    "duration": 20,
    "start_time": "2022-02-18T18:19:34.542Z"
   },
   {
    "duration": 347,
    "start_time": "2022-02-18T18:19:34.566Z"
   },
   {
    "duration": 22,
    "start_time": "2022-02-18T18:19:34.916Z"
   },
   {
    "duration": 16,
    "start_time": "2022-02-18T18:19:34.940Z"
   },
   {
    "duration": 372,
    "start_time": "2022-02-18T18:19:34.959Z"
   },
   {
    "duration": 340,
    "start_time": "2022-02-18T18:19:35.334Z"
   },
   {
    "duration": 16,
    "start_time": "2022-02-18T18:19:35.676Z"
   },
   {
    "duration": 42,
    "start_time": "2022-02-18T18:19:35.695Z"
   },
   {
    "duration": 327,
    "start_time": "2022-02-18T18:19:35.742Z"
   },
   {
    "duration": 302,
    "start_time": "2022-02-18T18:19:36.072Z"
   },
   {
    "duration": 8,
    "start_time": "2022-02-18T18:19:36.376Z"
   },
   {
    "duration": 285,
    "start_time": "2022-02-18T18:19:36.387Z"
   },
   {
    "duration": 440,
    "start_time": "2022-02-18T18:19:36.674Z"
   },
   {
    "duration": 24,
    "start_time": "2022-02-18T18:19:37.117Z"
   },
   {
    "duration": 66,
    "start_time": "2022-02-18T18:19:37.144Z"
   },
   {
    "duration": 44,
    "start_time": "2022-02-18T18:19:37.215Z"
   },
   {
    "duration": 87,
    "start_time": "2022-02-18T18:19:37.262Z"
   },
   {
    "duration": 82,
    "start_time": "2022-02-18T18:19:37.352Z"
   },
   {
    "duration": 191,
    "start_time": "2022-02-18T18:19:37.438Z"
   },
   {
    "duration": 431,
    "start_time": "2022-02-18T18:19:37.632Z"
   },
   {
    "duration": 121,
    "start_time": "2022-02-18T18:19:38.066Z"
   },
   {
    "duration": 118,
    "start_time": "2022-02-18T18:19:38.190Z"
   },
   {
    "duration": 420,
    "start_time": "2022-02-18T18:19:38.312Z"
   },
   {
    "duration": 5,
    "start_time": "2022-02-18T18:19:38.735Z"
   },
   {
    "duration": 23,
    "start_time": "2022-02-18T18:19:38.743Z"
   },
   {
    "duration": 25,
    "start_time": "2022-02-18T18:19:38.769Z"
   },
   {
    "duration": 138,
    "start_time": "2022-02-18T18:19:38.796Z"
   },
   {
    "duration": 526,
    "start_time": "2022-02-18T18:19:38.945Z"
   },
   {
    "duration": 147,
    "start_time": "2022-02-18T18:19:39.474Z"
   },
   {
    "duration": 261,
    "start_time": "2022-02-18T18:19:39.625Z"
   },
   {
    "duration": 38,
    "start_time": "2022-02-18T18:19:39.889Z"
   },
   {
    "duration": 272,
    "start_time": "2022-02-18T18:19:39.930Z"
   },
   {
    "duration": 44239,
    "start_time": "2022-02-18T18:19:40.205Z"
   },
   {
    "duration": 1640,
    "start_time": "2022-02-18T18:20:52.402Z"
   },
   {
    "duration": 72,
    "start_time": "2022-02-18T18:20:54.046Z"
   },
   {
    "duration": 7,
    "start_time": "2022-02-18T18:20:54.127Z"
   },
   {
    "duration": 22,
    "start_time": "2022-02-18T18:20:54.138Z"
   },
   {
    "duration": 86,
    "start_time": "2022-02-18T18:20:54.162Z"
   },
   {
    "duration": 17,
    "start_time": "2022-02-18T18:20:54.251Z"
   },
   {
    "duration": 6,
    "start_time": "2022-02-18T18:20:54.271Z"
   },
   {
    "duration": 54,
    "start_time": "2022-02-18T18:20:54.283Z"
   },
   {
    "duration": 347,
    "start_time": "2022-02-18T18:20:54.340Z"
   },
   {
    "duration": 14,
    "start_time": "2022-02-18T18:20:54.689Z"
   },
   {
    "duration": 38,
    "start_time": "2022-02-18T18:20:54.705Z"
   },
   {
    "duration": 338,
    "start_time": "2022-02-18T18:20:54.746Z"
   },
   {
    "duration": 323,
    "start_time": "2022-02-18T18:20:55.087Z"
   },
   {
    "duration": 32,
    "start_time": "2022-02-18T18:20:55.412Z"
   },
   {
    "duration": 13,
    "start_time": "2022-02-18T18:20:55.446Z"
   },
   {
    "duration": 328,
    "start_time": "2022-02-18T18:20:55.462Z"
   },
   {
    "duration": 314,
    "start_time": "2022-02-18T18:20:55.793Z"
   },
   {
    "duration": 22,
    "start_time": "2022-02-18T18:20:56.109Z"
   },
   {
    "duration": 272,
    "start_time": "2022-02-18T18:20:56.134Z"
   },
   {
    "duration": 462,
    "start_time": "2022-02-18T18:20:56.409Z"
   },
   {
    "duration": 16,
    "start_time": "2022-02-18T18:20:56.874Z"
   },
   {
    "duration": 89,
    "start_time": "2022-02-18T18:20:56.893Z"
   },
   {
    "duration": 41,
    "start_time": "2022-02-18T18:20:56.989Z"
   },
   {
    "duration": 68,
    "start_time": "2022-02-18T18:20:57.035Z"
   },
   {
    "duration": 123,
    "start_time": "2022-02-18T18:20:57.106Z"
   },
   {
    "duration": 196,
    "start_time": "2022-02-18T18:20:57.232Z"
   },
   {
    "duration": 434,
    "start_time": "2022-02-18T18:20:57.431Z"
   },
   {
    "duration": 129,
    "start_time": "2022-02-18T18:20:57.868Z"
   },
   {
    "duration": 118,
    "start_time": "2022-02-18T18:20:57.999Z"
   },
   {
    "duration": 328,
    "start_time": "2022-02-18T18:20:58.127Z"
   },
   {
    "duration": 3,
    "start_time": "2022-02-18T18:20:58.458Z"
   },
   {
    "duration": 14,
    "start_time": "2022-02-18T18:20:58.464Z"
   },
   {
    "duration": 55,
    "start_time": "2022-02-18T18:20:58.481Z"
   },
   {
    "duration": 95,
    "start_time": "2022-02-18T18:20:58.539Z"
   },
   {
    "duration": 523,
    "start_time": "2022-02-18T18:20:58.636Z"
   },
   {
    "duration": 167,
    "start_time": "2022-02-18T18:20:59.162Z"
   },
   {
    "duration": 268,
    "start_time": "2022-02-18T18:20:59.332Z"
   },
   {
    "duration": 33,
    "start_time": "2022-02-18T18:20:59.602Z"
   },
   {
    "duration": 261,
    "start_time": "2022-02-18T18:20:59.638Z"
   },
   {
    "duration": 5,
    "start_time": "2022-02-18T18:20:59.901Z"
   },
   {
    "duration": 167,
    "start_time": "2022-02-18T18:21:13.985Z"
   },
   {
    "duration": 23,
    "start_time": "2022-02-18T18:21:26.715Z"
   },
   {
    "duration": 299,
    "start_time": "2022-02-18T18:21:32.715Z"
   },
   {
    "duration": 25,
    "start_time": "2022-02-18T18:21:41.016Z"
   },
   {
    "duration": 1898,
    "start_time": "2022-02-18T18:22:51.438Z"
   },
   {
    "duration": 58,
    "start_time": "2022-02-18T18:22:53.339Z"
   },
   {
    "duration": 8,
    "start_time": "2022-02-18T18:22:53.402Z"
   },
   {
    "duration": 22,
    "start_time": "2022-02-18T18:22:53.428Z"
   },
   {
    "duration": 76,
    "start_time": "2022-02-18T18:22:53.452Z"
   },
   {
    "duration": 18,
    "start_time": "2022-02-18T18:22:53.531Z"
   },
   {
    "duration": 8,
    "start_time": "2022-02-18T18:22:53.551Z"
   },
   {
    "duration": 16,
    "start_time": "2022-02-18T18:22:53.562Z"
   },
   {
    "duration": 377,
    "start_time": "2022-02-18T18:22:53.583Z"
   },
   {
    "duration": 12,
    "start_time": "2022-02-18T18:22:53.963Z"
   },
   {
    "duration": 11,
    "start_time": "2022-02-18T18:22:53.978Z"
   },
   {
    "duration": 378,
    "start_time": "2022-02-18T18:22:53.992Z"
   },
   {
    "duration": 329,
    "start_time": "2022-02-18T18:22:54.373Z"
   },
   {
    "duration": 29,
    "start_time": "2022-02-18T18:22:54.704Z"
   },
   {
    "duration": 16,
    "start_time": "2022-02-18T18:22:54.735Z"
   },
   {
    "duration": 345,
    "start_time": "2022-02-18T18:22:54.755Z"
   },
   {
    "duration": 300,
    "start_time": "2022-02-18T18:22:55.102Z"
   },
   {
    "duration": 8,
    "start_time": "2022-02-18T18:22:55.405Z"
   },
   {
    "duration": 265,
    "start_time": "2022-02-18T18:22:55.435Z"
   },
   {
    "duration": 451,
    "start_time": "2022-02-18T18:22:55.703Z"
   },
   {
    "duration": 15,
    "start_time": "2022-02-18T18:22:56.157Z"
   },
   {
    "duration": 85,
    "start_time": "2022-02-18T18:22:56.175Z"
   },
   {
    "duration": 30,
    "start_time": "2022-02-18T18:22:56.262Z"
   },
   {
    "duration": 96,
    "start_time": "2022-02-18T18:22:56.295Z"
   },
   {
    "duration": 152,
    "start_time": "2022-02-18T18:22:56.394Z"
   },
   {
    "duration": 178,
    "start_time": "2022-02-18T18:22:56.549Z"
   },
   {
    "duration": 422,
    "start_time": "2022-02-18T18:22:56.736Z"
   },
   {
    "duration": 158,
    "start_time": "2022-02-18T18:22:57.161Z"
   },
   {
    "duration": 130,
    "start_time": "2022-02-18T18:22:57.322Z"
   },
   {
    "duration": 282,
    "start_time": "2022-02-18T18:22:57.455Z"
   },
   {
    "duration": 4,
    "start_time": "2022-02-18T18:22:57.743Z"
   },
   {
    "duration": 10,
    "start_time": "2022-02-18T18:22:57.750Z"
   },
   {
    "duration": 21,
    "start_time": "2022-02-18T18:22:57.763Z"
   },
   {
    "duration": 151,
    "start_time": "2022-02-18T18:22:57.787Z"
   },
   {
    "duration": 515,
    "start_time": "2022-02-18T18:22:57.942Z"
   },
   {
    "duration": 259,
    "start_time": "2022-02-18T18:22:58.459Z"
   },
   {
    "duration": 415,
    "start_time": "2022-02-18T18:22:58.720Z"
   },
   {
    "duration": 20,
    "start_time": "2022-02-18T18:22:59.138Z"
   },
   {
    "duration": 286,
    "start_time": "2022-02-18T18:22:59.161Z"
   },
   {
    "duration": 5,
    "start_time": "2022-02-18T18:22:59.450Z"
   },
   {
    "duration": 182,
    "start_time": "2022-02-18T18:23:31.377Z"
   },
   {
    "duration": 252,
    "start_time": "2022-02-18T18:23:36.942Z"
   },
   {
    "duration": 212,
    "start_time": "2022-02-18T18:23:41.221Z"
   },
   {
    "duration": 266,
    "start_time": "2022-02-18T18:23:46.181Z"
   },
   {
    "duration": 207,
    "start_time": "2022-02-18T18:23:49.867Z"
   },
   {
    "duration": 235,
    "start_time": "2022-02-18T18:23:55.496Z"
   },
   {
    "duration": 18,
    "start_time": "2022-02-18T18:24:08.699Z"
   },
   {
    "duration": 1698,
    "start_time": "2022-02-18T18:24:41.199Z"
   },
   {
    "duration": 68,
    "start_time": "2022-02-18T18:24:42.900Z"
   },
   {
    "duration": 8,
    "start_time": "2022-02-18T18:24:42.972Z"
   },
   {
    "duration": 20,
    "start_time": "2022-02-18T18:24:42.983Z"
   },
   {
    "duration": 84,
    "start_time": "2022-02-18T18:24:43.006Z"
   },
   {
    "duration": 40,
    "start_time": "2022-02-18T18:24:43.092Z"
   },
   {
    "duration": 8,
    "start_time": "2022-02-18T18:24:43.138Z"
   },
   {
    "duration": 19,
    "start_time": "2022-02-18T18:24:43.153Z"
   },
   {
    "duration": 457,
    "start_time": "2022-02-18T18:24:43.175Z"
   },
   {
    "duration": 14,
    "start_time": "2022-02-18T18:24:43.637Z"
   },
   {
    "duration": 17,
    "start_time": "2022-02-18T18:24:43.653Z"
   },
   {
    "duration": 361,
    "start_time": "2022-02-18T18:24:43.672Z"
   },
   {
    "duration": 326,
    "start_time": "2022-02-18T18:24:44.037Z"
   },
   {
    "duration": 13,
    "start_time": "2022-02-18T18:24:44.365Z"
   },
   {
    "duration": 12,
    "start_time": "2022-02-18T18:24:44.380Z"
   },
   {
    "duration": 339,
    "start_time": "2022-02-18T18:24:44.394Z"
   },
   {
    "duration": 293,
    "start_time": "2022-02-18T18:24:44.736Z"
   },
   {
    "duration": 9,
    "start_time": "2022-02-18T18:24:45.034Z"
   },
   {
    "duration": 278,
    "start_time": "2022-02-18T18:24:45.048Z"
   },
   {
    "duration": 426,
    "start_time": "2022-02-18T18:24:45.329Z"
   },
   {
    "duration": 14,
    "start_time": "2022-02-18T18:24:45.758Z"
   },
   {
    "duration": 85,
    "start_time": "2022-02-18T18:24:45.775Z"
   },
   {
    "duration": 30,
    "start_time": "2022-02-18T18:24:45.867Z"
   },
   {
    "duration": 90,
    "start_time": "2022-02-18T18:24:45.900Z"
   },
   {
    "duration": 73,
    "start_time": "2022-02-18T18:24:45.993Z"
   },
   {
    "duration": 194,
    "start_time": "2022-02-18T18:24:46.131Z"
   },
   {
    "duration": 437,
    "start_time": "2022-02-18T18:24:46.328Z"
   },
   {
    "duration": 132,
    "start_time": "2022-02-18T18:24:46.768Z"
   },
   {
    "duration": 161,
    "start_time": "2022-02-18T18:24:46.903Z"
   },
   {
    "duration": 355,
    "start_time": "2022-02-18T18:24:47.067Z"
   },
   {
    "duration": 4,
    "start_time": "2022-02-18T18:24:47.425Z"
   },
   {
    "duration": 24,
    "start_time": "2022-02-18T18:24:47.431Z"
   },
   {
    "duration": 25,
    "start_time": "2022-02-18T18:24:47.457Z"
   },
   {
    "duration": 149,
    "start_time": "2022-02-18T18:24:47.484Z"
   },
   {
    "duration": 527,
    "start_time": "2022-02-18T18:24:47.636Z"
   },
   {
    "duration": 292,
    "start_time": "2022-02-18T18:24:48.165Z"
   },
   {
    "duration": 351,
    "start_time": "2022-02-18T18:24:48.459Z"
   },
   {
    "duration": 25,
    "start_time": "2022-02-18T18:24:48.825Z"
   },
   {
    "duration": 360,
    "start_time": "2022-02-18T18:24:48.852Z"
   },
   {
    "duration": 12,
    "start_time": "2022-02-18T18:24:49.215Z"
   },
   {
    "duration": 1676,
    "start_time": "2022-02-18T18:26:47.378Z"
   },
   {
    "duration": 54,
    "start_time": "2022-02-18T18:26:49.057Z"
   },
   {
    "duration": 9,
    "start_time": "2022-02-18T18:26:49.126Z"
   },
   {
    "duration": 28,
    "start_time": "2022-02-18T18:26:49.139Z"
   },
   {
    "duration": 94,
    "start_time": "2022-02-18T18:26:49.172Z"
   },
   {
    "duration": 17,
    "start_time": "2022-02-18T18:26:49.269Z"
   },
   {
    "duration": 6,
    "start_time": "2022-02-18T18:26:49.288Z"
   },
   {
    "duration": 48,
    "start_time": "2022-02-18T18:26:49.298Z"
   },
   {
    "duration": 343,
    "start_time": "2022-02-18T18:26:49.349Z"
   },
   {
    "duration": 12,
    "start_time": "2022-02-18T18:26:49.695Z"
   },
   {
    "duration": 19,
    "start_time": "2022-02-18T18:26:49.731Z"
   },
   {
    "duration": 433,
    "start_time": "2022-02-18T18:26:49.753Z"
   },
   {
    "duration": 322,
    "start_time": "2022-02-18T18:26:50.189Z"
   },
   {
    "duration": 23,
    "start_time": "2022-02-18T18:26:50.514Z"
   },
   {
    "duration": 28,
    "start_time": "2022-02-18T18:26:50.540Z"
   },
   {
    "duration": 406,
    "start_time": "2022-02-18T18:26:50.571Z"
   },
   {
    "duration": 310,
    "start_time": "2022-02-18T18:26:50.980Z"
   },
   {
    "duration": 9,
    "start_time": "2022-02-18T18:26:51.292Z"
   },
   {
    "duration": 301,
    "start_time": "2022-02-18T18:26:51.304Z"
   },
   {
    "duration": 530,
    "start_time": "2022-02-18T18:26:51.608Z"
   },
   {
    "duration": 15,
    "start_time": "2022-02-18T18:26:52.143Z"
   },
   {
    "duration": 90,
    "start_time": "2022-02-18T18:26:52.161Z"
   },
   {
    "duration": 30,
    "start_time": "2022-02-18T18:26:52.257Z"
   },
   {
    "duration": 116,
    "start_time": "2022-02-18T18:26:52.290Z"
   },
   {
    "duration": 122,
    "start_time": "2022-02-18T18:26:52.409Z"
   },
   {
    "duration": 198,
    "start_time": "2022-02-18T18:26:52.534Z"
   },
   {
    "duration": 576,
    "start_time": "2022-02-18T18:26:52.739Z"
   },
   {
    "duration": 154,
    "start_time": "2022-02-18T18:26:53.320Z"
   },
   {
    "duration": 130,
    "start_time": "2022-02-18T18:26:53.477Z"
   },
   {
    "duration": 282,
    "start_time": "2022-02-18T18:26:53.610Z"
   },
   {
    "duration": 4,
    "start_time": "2022-02-18T18:26:53.895Z"
   },
   {
    "duration": 51,
    "start_time": "2022-02-18T18:26:53.901Z"
   },
   {
    "duration": 23,
    "start_time": "2022-02-18T18:26:53.956Z"
   },
   {
    "duration": 261,
    "start_time": "2022-02-18T18:26:53.982Z"
   },
   {
    "duration": 506,
    "start_time": "2022-02-18T18:26:54.246Z"
   },
   {
    "duration": 239,
    "start_time": "2022-02-18T18:26:54.756Z"
   },
   {
    "duration": 272,
    "start_time": "2022-02-18T18:26:54.998Z"
   },
   {
    "duration": 20,
    "start_time": "2022-02-18T18:26:55.272Z"
   },
   {
    "duration": 303,
    "start_time": "2022-02-18T18:26:55.295Z"
   },
   {
    "duration": 5,
    "start_time": "2022-02-18T18:26:55.601Z"
   },
   {
    "duration": 160,
    "start_time": "2022-02-18T18:49:42.704Z"
   },
   {
    "duration": 220,
    "start_time": "2022-02-18T18:49:47.221Z"
   },
   {
    "duration": 191,
    "start_time": "2022-02-18T18:49:57.757Z"
   },
   {
    "duration": 171,
    "start_time": "2022-02-18T18:50:03.456Z"
   },
   {
    "duration": 2153,
    "start_time": "2022-02-18T18:50:16.040Z"
   },
   {
    "duration": 2274,
    "start_time": "2022-02-18T18:50:27.339Z"
   },
   {
    "duration": 318,
    "start_time": "2022-02-18T18:50:35.960Z"
   },
   {
    "duration": 98,
    "start_time": "2022-02-18T18:50:40.341Z"
   },
   {
    "duration": 329,
    "start_time": "2022-02-18T18:50:44.791Z"
   },
   {
    "duration": 1603,
    "start_time": "2022-02-18T18:55:10.897Z"
   },
   {
    "duration": 60,
    "start_time": "2022-02-18T18:55:12.503Z"
   },
   {
    "duration": 7,
    "start_time": "2022-02-18T18:55:12.568Z"
   },
   {
    "duration": 14,
    "start_time": "2022-02-18T18:55:12.579Z"
   },
   {
    "duration": 84,
    "start_time": "2022-02-18T18:55:12.596Z"
   },
   {
    "duration": 43,
    "start_time": "2022-02-18T18:55:12.683Z"
   },
   {
    "duration": 8,
    "start_time": "2022-02-18T18:55:12.729Z"
   },
   {
    "duration": 18,
    "start_time": "2022-02-18T18:55:12.741Z"
   },
   {
    "duration": 448,
    "start_time": "2022-02-18T18:55:12.763Z"
   },
   {
    "duration": 21,
    "start_time": "2022-02-18T18:55:13.214Z"
   },
   {
    "duration": 11,
    "start_time": "2022-02-18T18:55:13.237Z"
   },
   {
    "duration": 440,
    "start_time": "2022-02-18T18:55:13.250Z"
   },
   {
    "duration": 426,
    "start_time": "2022-02-18T18:55:13.693Z"
   },
   {
    "duration": 17,
    "start_time": "2022-02-18T18:55:14.126Z"
   },
   {
    "duration": 14,
    "start_time": "2022-02-18T18:55:14.146Z"
   },
   {
    "duration": 316,
    "start_time": "2022-02-18T18:55:14.163Z"
   },
   {
    "duration": 293,
    "start_time": "2022-02-18T18:55:14.482Z"
   },
   {
    "duration": 10,
    "start_time": "2022-02-18T18:55:14.778Z"
   },
   {
    "duration": 372,
    "start_time": "2022-02-18T18:55:14.791Z"
   },
   {
    "duration": 467,
    "start_time": "2022-02-18T18:55:15.166Z"
   },
   {
    "duration": 15,
    "start_time": "2022-02-18T18:55:15.635Z"
   },
   {
    "duration": 80,
    "start_time": "2022-02-18T18:55:15.652Z"
   },
   {
    "duration": 33,
    "start_time": "2022-02-18T18:55:15.739Z"
   },
   {
    "duration": 86,
    "start_time": "2022-02-18T18:55:15.775Z"
   },
   {
    "duration": 170,
    "start_time": "2022-02-18T18:55:15.864Z"
   },
   {
    "duration": 97,
    "start_time": "2022-02-18T18:55:16.036Z"
   },
   {
    "duration": 491,
    "start_time": "2022-02-18T18:55:16.138Z"
   },
   {
    "duration": 133,
    "start_time": "2022-02-18T18:55:16.632Z"
   },
   {
    "duration": 118,
    "start_time": "2022-02-18T18:55:16.768Z"
   },
   {
    "duration": 263,
    "start_time": "2022-02-18T18:55:16.889Z"
   },
   {
    "duration": 5,
    "start_time": "2022-02-18T18:55:17.156Z"
   },
   {
    "duration": 11,
    "start_time": "2022-02-18T18:55:17.165Z"
   },
   {
    "duration": 59,
    "start_time": "2022-02-18T18:55:17.179Z"
   },
   {
    "duration": 96,
    "start_time": "2022-02-18T18:55:17.240Z"
   },
   {
    "duration": 515,
    "start_time": "2022-02-18T18:55:17.339Z"
   },
   {
    "duration": 2188,
    "start_time": "2022-02-18T18:55:17.857Z"
   },
   {
    "duration": 323,
    "start_time": "2022-02-18T18:55:20.047Z"
   },
   {
    "duration": 101,
    "start_time": "2022-02-18T18:55:20.372Z"
   },
   {
    "duration": 441,
    "start_time": "2022-02-18T18:55:20.476Z"
   },
   {
    "duration": 19,
    "start_time": "2022-02-18T18:55:20.927Z"
   },
   {
    "duration": 1096,
    "start_time": "2022-02-19T15:10:31.563Z"
   },
   {
    "duration": 398,
    "start_time": "2022-02-19T15:11:17.839Z"
   },
   {
    "duration": 8,
    "start_time": "2022-02-19T15:11:28.808Z"
   },
   {
    "duration": 47,
    "start_time": "2022-02-19T15:11:28.818Z"
   },
   {
    "duration": 4,
    "start_time": "2022-02-19T15:11:28.867Z"
   },
   {
    "duration": 9,
    "start_time": "2022-02-19T15:11:28.873Z"
   },
   {
    "duration": 32,
    "start_time": "2022-02-19T15:11:28.884Z"
   },
   {
    "duration": 33,
    "start_time": "2022-02-19T15:11:28.918Z"
   },
   {
    "duration": 4,
    "start_time": "2022-02-19T15:11:28.953Z"
   },
   {
    "duration": 10,
    "start_time": "2022-02-19T15:11:28.958Z"
   },
   {
    "duration": 192,
    "start_time": "2022-02-19T15:11:28.969Z"
   },
   {
    "duration": 7,
    "start_time": "2022-02-19T15:11:29.163Z"
   },
   {
    "duration": 6,
    "start_time": "2022-02-19T15:11:29.171Z"
   },
   {
    "duration": 183,
    "start_time": "2022-02-19T15:11:29.179Z"
   },
   {
    "duration": 159,
    "start_time": "2022-02-19T15:11:29.363Z"
   },
   {
    "duration": 8,
    "start_time": "2022-02-19T15:11:29.523Z"
   },
   {
    "duration": 18,
    "start_time": "2022-02-19T15:11:29.532Z"
   },
   {
    "duration": 156,
    "start_time": "2022-02-19T15:11:29.551Z"
   },
   {
    "duration": 157,
    "start_time": "2022-02-19T15:11:29.708Z"
   },
   {
    "duration": 5,
    "start_time": "2022-02-19T15:11:29.866Z"
   },
   {
    "duration": 138,
    "start_time": "2022-02-19T15:11:29.874Z"
   },
   {
    "duration": 238,
    "start_time": "2022-02-19T15:11:30.014Z"
   },
   {
    "duration": 10,
    "start_time": "2022-02-19T15:11:30.253Z"
   },
   {
    "duration": 31,
    "start_time": "2022-02-19T15:11:30.265Z"
   },
   {
    "duration": 15,
    "start_time": "2022-02-19T15:11:30.298Z"
   },
   {
    "duration": 56,
    "start_time": "2022-02-19T15:11:30.314Z"
   },
   {
    "duration": 79,
    "start_time": "2022-02-19T15:11:30.371Z"
   },
   {
    "duration": 108,
    "start_time": "2022-02-19T15:11:30.452Z"
   },
   {
    "duration": 409,
    "start_time": "2022-02-19T15:11:30.562Z"
   },
   {
    "duration": 74,
    "start_time": "2022-02-19T15:11:30.973Z"
   },
   {
    "duration": 66,
    "start_time": "2022-02-19T15:11:31.049Z"
   },
   {
    "duration": 145,
    "start_time": "2022-02-19T15:11:31.117Z"
   },
   {
    "duration": 2,
    "start_time": "2022-02-19T15:11:31.264Z"
   },
   {
    "duration": 9,
    "start_time": "2022-02-19T15:11:31.268Z"
   },
   {
    "duration": 15,
    "start_time": "2022-02-19T15:11:31.279Z"
   },
   {
    "duration": 54,
    "start_time": "2022-02-19T15:11:31.295Z"
   },
   {
    "duration": 332,
    "start_time": "2022-02-19T15:11:31.351Z"
   },
   {
    "duration": 279,
    "start_time": "2022-02-19T15:11:57.990Z"
   },
   {
    "duration": 2,
    "start_time": "2022-02-19T15:13:21.197Z"
   },
   {
    "duration": 327,
    "start_time": "2022-02-19T15:13:35.860Z"
   },
   {
    "duration": 356,
    "start_time": "2022-02-19T15:39:54.939Z"
   },
   {
    "duration": 319,
    "start_time": "2022-02-19T15:42:46.657Z"
   },
   {
    "duration": 3,
    "start_time": "2022-02-19T15:43:21.569Z"
   },
   {
    "duration": 295,
    "start_time": "2022-02-19T15:43:22.871Z"
   },
   {
    "duration": 3,
    "start_time": "2022-02-19T15:43:35.454Z"
   },
   {
    "duration": 286,
    "start_time": "2022-02-19T15:43:37.263Z"
   },
   {
    "duration": 2,
    "start_time": "2022-02-19T15:43:43.326Z"
   },
   {
    "duration": 302,
    "start_time": "2022-02-19T15:43:44.446Z"
   },
   {
    "duration": 2,
    "start_time": "2022-02-19T15:43:49.597Z"
   },
   {
    "duration": 332,
    "start_time": "2022-02-19T15:43:50.726Z"
   },
   {
    "duration": 2,
    "start_time": "2022-02-19T15:43:56.765Z"
   },
   {
    "duration": 250,
    "start_time": "2022-02-19T15:43:58.999Z"
   },
   {
    "duration": 74,
    "start_time": "2022-02-19T15:45:00.872Z"
   },
   {
    "duration": 328,
    "start_time": "2022-02-19T15:45:02.430Z"
   },
   {
    "duration": 291,
    "start_time": "2022-02-19T15:45:10.262Z"
   },
   {
    "duration": 104,
    "start_time": "2022-02-19T16:01:18.810Z"
   },
   {
    "duration": 358,
    "start_time": "2022-02-19T16:02:09.299Z"
   },
   {
    "duration": 80,
    "start_time": "2022-02-19T16:02:18.016Z"
   },
   {
    "duration": 40,
    "start_time": "2022-02-19T16:02:18.098Z"
   },
   {
    "duration": 8,
    "start_time": "2022-02-19T16:02:18.140Z"
   },
   {
    "duration": 16,
    "start_time": "2022-02-19T16:02:18.150Z"
   },
   {
    "duration": 39,
    "start_time": "2022-02-19T16:02:18.168Z"
   },
   {
    "duration": 9,
    "start_time": "2022-02-19T16:02:18.209Z"
   },
   {
    "duration": 5,
    "start_time": "2022-02-19T16:02:18.219Z"
   },
   {
    "duration": 31,
    "start_time": "2022-02-19T16:02:18.226Z"
   },
   {
    "duration": 177,
    "start_time": "2022-02-19T16:02:18.259Z"
   },
   {
    "duration": 14,
    "start_time": "2022-02-19T16:02:18.438Z"
   },
   {
    "duration": 8,
    "start_time": "2022-02-19T16:02:18.453Z"
   },
   {
    "duration": 183,
    "start_time": "2022-02-19T16:02:18.463Z"
   },
   {
    "duration": 154,
    "start_time": "2022-02-19T16:02:18.647Z"
   },
   {
    "duration": 8,
    "start_time": "2022-02-19T16:02:18.802Z"
   },
   {
    "duration": 7,
    "start_time": "2022-02-19T16:02:18.811Z"
   },
   {
    "duration": 177,
    "start_time": "2022-02-19T16:02:18.819Z"
   },
   {
    "duration": 151,
    "start_time": "2022-02-19T16:02:18.997Z"
   },
   {
    "duration": 6,
    "start_time": "2022-02-19T16:02:19.149Z"
   },
   {
    "duration": 143,
    "start_time": "2022-02-19T16:02:19.156Z"
   },
   {
    "duration": 194,
    "start_time": "2022-02-19T16:02:19.300Z"
   },
   {
    "duration": 5,
    "start_time": "2022-02-19T16:02:19.495Z"
   },
   {
    "duration": 29,
    "start_time": "2022-02-19T16:02:19.502Z"
   },
   {
    "duration": 16,
    "start_time": "2022-02-19T16:02:19.533Z"
   },
   {
    "duration": 34,
    "start_time": "2022-02-19T16:02:19.550Z"
   },
   {
    "duration": 66,
    "start_time": "2022-02-19T16:02:19.585Z"
   },
   {
    "duration": 111,
    "start_time": "2022-02-19T16:02:19.653Z"
   },
   {
    "duration": 397,
    "start_time": "2022-02-19T16:02:19.766Z"
   },
   {
    "duration": 66,
    "start_time": "2022-02-19T16:02:20.164Z"
   },
   {
    "duration": 67,
    "start_time": "2022-02-19T16:02:20.231Z"
   },
   {
    "duration": 132,
    "start_time": "2022-02-19T16:02:20.300Z"
   },
   {
    "duration": 3,
    "start_time": "2022-02-19T16:02:20.433Z"
   },
   {
    "duration": 17,
    "start_time": "2022-02-19T16:02:20.437Z"
   },
   {
    "duration": 27,
    "start_time": "2022-02-19T16:02:20.455Z"
   },
   {
    "duration": 21,
    "start_time": "2022-02-19T16:05:47.160Z"
   },
   {
    "duration": 20,
    "start_time": "2022-02-19T16:06:12.334Z"
   },
   {
    "duration": 369,
    "start_time": "2022-02-19T16:08:35.142Z"
   },
   {
    "duration": 20,
    "start_time": "2022-02-19T16:08:46.322Z"
   },
   {
    "duration": 32,
    "start_time": "2022-02-19T16:12:23.627Z"
   },
   {
    "duration": 277,
    "start_time": "2022-02-19T16:12:25.970Z"
   },
   {
    "duration": 16,
    "start_time": "2022-02-19T16:13:29.250Z"
   },
   {
    "duration": 58,
    "start_time": "2022-02-19T16:14:33.489Z"
   },
   {
    "duration": 312,
    "start_time": "2022-02-19T16:14:42.217Z"
   },
   {
    "duration": 15,
    "start_time": "2022-02-19T16:15:36.488Z"
   },
   {
    "duration": 8,
    "start_time": "2022-02-19T16:15:46.281Z"
   },
   {
    "duration": 53,
    "start_time": "2022-02-19T16:15:46.292Z"
   },
   {
    "duration": 4,
    "start_time": "2022-02-19T16:15:46.347Z"
   },
   {
    "duration": 17,
    "start_time": "2022-02-19T16:15:46.353Z"
   },
   {
    "duration": 35,
    "start_time": "2022-02-19T16:15:46.372Z"
   },
   {
    "duration": 8,
    "start_time": "2022-02-19T16:15:46.409Z"
   },
   {
    "duration": 4,
    "start_time": "2022-02-19T16:15:46.419Z"
   },
   {
    "duration": 25,
    "start_time": "2022-02-19T16:15:46.425Z"
   },
   {
    "duration": 170,
    "start_time": "2022-02-19T16:15:46.453Z"
   },
   {
    "duration": 7,
    "start_time": "2022-02-19T16:15:46.625Z"
   },
   {
    "duration": 7,
    "start_time": "2022-02-19T16:15:46.646Z"
   },
   {
    "duration": 236,
    "start_time": "2022-02-19T16:15:46.654Z"
   },
   {
    "duration": 162,
    "start_time": "2022-02-19T16:15:46.892Z"
   },
   {
    "duration": 8,
    "start_time": "2022-02-19T16:15:47.056Z"
   },
   {
    "duration": 12,
    "start_time": "2022-02-19T16:15:47.065Z"
   },
   {
    "duration": 175,
    "start_time": "2022-02-19T16:15:47.078Z"
   },
   {
    "duration": 156,
    "start_time": "2022-02-19T16:15:47.255Z"
   },
   {
    "duration": 7,
    "start_time": "2022-02-19T16:15:47.413Z"
   },
   {
    "duration": 147,
    "start_time": "2022-02-19T16:15:47.421Z"
   },
   {
    "duration": 182,
    "start_time": "2022-02-19T16:15:47.570Z"
   },
   {
    "duration": 5,
    "start_time": "2022-02-19T16:15:47.753Z"
   },
   {
    "duration": 36,
    "start_time": "2022-02-19T16:15:47.760Z"
   },
   {
    "duration": 16,
    "start_time": "2022-02-19T16:15:47.797Z"
   },
   {
    "duration": 57,
    "start_time": "2022-02-19T16:15:47.817Z"
   },
   {
    "duration": 74,
    "start_time": "2022-02-19T16:15:47.877Z"
   },
   {
    "duration": 108,
    "start_time": "2022-02-19T16:15:47.953Z"
   },
   {
    "duration": 409,
    "start_time": "2022-02-19T16:15:48.063Z"
   },
   {
    "duration": 76,
    "start_time": "2022-02-19T16:15:48.474Z"
   },
   {
    "duration": 77,
    "start_time": "2022-02-19T16:15:48.552Z"
   },
   {
    "duration": 148,
    "start_time": "2022-02-19T16:15:48.631Z"
   },
   {
    "duration": 4,
    "start_time": "2022-02-19T16:15:48.781Z"
   },
   {
    "duration": 11,
    "start_time": "2022-02-19T16:15:48.787Z"
   },
   {
    "duration": 21,
    "start_time": "2022-02-19T16:15:48.800Z"
   },
   {
    "duration": 126,
    "start_time": "2022-02-19T16:15:48.823Z"
   },
   {
    "duration": 410,
    "start_time": "2022-02-19T16:15:48.951Z"
   },
   {
    "duration": 15,
    "start_time": "2022-02-19T16:15:49.362Z"
   },
   {
    "duration": 1248,
    "start_time": "2022-02-19T16:18:14.759Z"
   },
   {
    "duration": 462,
    "start_time": "2022-02-19T16:20:25.268Z"
   },
   {
    "duration": 376051,
    "start_time": "2022-02-19T16:21:57.916Z"
   },
   {
    "duration": 164,
    "start_time": "2022-02-19T16:29:44.118Z"
   },
   {
    "duration": 1132,
    "start_time": "2022-02-19T16:30:27.327Z"
   },
   {
    "duration": 39,
    "start_time": "2022-02-19T16:30:28.461Z"
   },
   {
    "duration": 4,
    "start_time": "2022-02-19T16:30:28.502Z"
   },
   {
    "duration": 12,
    "start_time": "2022-02-19T16:30:28.507Z"
   },
   {
    "duration": 37,
    "start_time": "2022-02-19T16:30:28.520Z"
   },
   {
    "duration": 9,
    "start_time": "2022-02-19T16:30:28.559Z"
   },
   {
    "duration": 4,
    "start_time": "2022-02-19T16:30:28.569Z"
   },
   {
    "duration": 9,
    "start_time": "2022-02-19T16:30:28.575Z"
   },
   {
    "duration": 173,
    "start_time": "2022-02-19T16:30:28.586Z"
   },
   {
    "duration": 8,
    "start_time": "2022-02-19T16:30:28.760Z"
   },
   {
    "duration": 7,
    "start_time": "2022-02-19T16:30:28.769Z"
   },
   {
    "duration": 179,
    "start_time": "2022-02-19T16:30:28.777Z"
   },
   {
    "duration": 159,
    "start_time": "2022-02-19T16:30:28.957Z"
   },
   {
    "duration": 8,
    "start_time": "2022-02-19T16:30:29.117Z"
   },
   {
    "duration": 7,
    "start_time": "2022-02-19T16:30:29.127Z"
   },
   {
    "duration": 156,
    "start_time": "2022-02-19T16:30:29.146Z"
   },
   {
    "duration": 152,
    "start_time": "2022-02-19T16:30:29.304Z"
   },
   {
    "duration": 5,
    "start_time": "2022-02-19T16:30:29.458Z"
   },
   {
    "duration": 136,
    "start_time": "2022-02-19T16:30:29.465Z"
   },
   {
    "duration": 230,
    "start_time": "2022-02-19T16:30:29.603Z"
   },
   {
    "duration": 16,
    "start_time": "2022-02-19T16:30:29.835Z"
   },
   {
    "duration": 29,
    "start_time": "2022-02-19T16:30:29.853Z"
   },
   {
    "duration": 15,
    "start_time": "2022-02-19T16:30:29.885Z"
   },
   {
    "duration": 46,
    "start_time": "2022-02-19T16:30:29.902Z"
   },
   {
    "duration": 99,
    "start_time": "2022-02-19T16:30:29.949Z"
   },
   {
    "duration": 114,
    "start_time": "2022-02-19T16:30:30.051Z"
   },
   {
    "duration": 397,
    "start_time": "2022-02-19T16:30:30.251Z"
   },
   {
    "duration": 68,
    "start_time": "2022-02-19T16:30:30.650Z"
   },
   {
    "duration": 78,
    "start_time": "2022-02-19T16:30:30.720Z"
   },
   {
    "duration": 141,
    "start_time": "2022-02-19T16:30:30.800Z"
   },
   {
    "duration": 3,
    "start_time": "2022-02-19T16:30:30.943Z"
   },
   {
    "duration": 11,
    "start_time": "2022-02-19T16:30:30.947Z"
   },
   {
    "duration": 23,
    "start_time": "2022-02-19T16:30:30.959Z"
   },
   {
    "duration": 66,
    "start_time": "2022-02-19T16:30:30.983Z"
   },
   {
    "duration": 413,
    "start_time": "2022-02-19T16:30:31.052Z"
   },
   {
    "duration": -2530,
    "start_time": "2022-02-19T16:30:33.997Z"
   },
   {
    "duration": -2545,
    "start_time": "2022-02-19T16:30:34.012Z"
   },
   {
    "duration": -2553,
    "start_time": "2022-02-19T16:30:34.021Z"
   },
   {
    "duration": -2562,
    "start_time": "2022-02-19T16:30:34.031Z"
   },
   {
    "duration": -2570,
    "start_time": "2022-02-19T16:30:34.040Z"
   },
   {
    "duration": -2580,
    "start_time": "2022-02-19T16:30:34.050Z"
   },
   {
    "duration": -2588,
    "start_time": "2022-02-19T16:30:34.059Z"
   },
   {
    "duration": 1111,
    "start_time": "2022-02-19T16:30:50.052Z"
   },
   {
    "duration": 40,
    "start_time": "2022-02-19T16:30:51.164Z"
   },
   {
    "duration": 4,
    "start_time": "2022-02-19T16:30:51.206Z"
   },
   {
    "duration": 10,
    "start_time": "2022-02-19T16:30:51.211Z"
   },
   {
    "duration": 37,
    "start_time": "2022-02-19T16:30:51.223Z"
   },
   {
    "duration": 9,
    "start_time": "2022-02-19T16:30:51.262Z"
   },
   {
    "duration": 4,
    "start_time": "2022-02-19T16:30:51.272Z"
   },
   {
    "duration": 9,
    "start_time": "2022-02-19T16:30:51.278Z"
   },
   {
    "duration": 178,
    "start_time": "2022-02-19T16:30:51.289Z"
   },
   {
    "duration": 7,
    "start_time": "2022-02-19T16:30:51.469Z"
   },
   {
    "duration": 7,
    "start_time": "2022-02-19T16:30:51.477Z"
   },
   {
    "duration": 182,
    "start_time": "2022-02-19T16:30:51.485Z"
   },
   {
    "duration": 161,
    "start_time": "2022-02-19T16:30:51.669Z"
   },
   {
    "duration": 16,
    "start_time": "2022-02-19T16:30:51.832Z"
   },
   {
    "duration": 6,
    "start_time": "2022-02-19T16:30:51.850Z"
   },
   {
    "duration": 161,
    "start_time": "2022-02-19T16:30:51.858Z"
   },
   {
    "duration": 148,
    "start_time": "2022-02-19T16:30:52.021Z"
   },
   {
    "duration": 5,
    "start_time": "2022-02-19T16:30:52.170Z"
   },
   {
    "duration": 145,
    "start_time": "2022-02-19T16:30:52.177Z"
   },
   {
    "duration": 238,
    "start_time": "2022-02-19T16:30:52.324Z"
   },
   {
    "duration": 10,
    "start_time": "2022-02-19T16:30:52.564Z"
   },
   {
    "duration": 30,
    "start_time": "2022-02-19T16:30:52.575Z"
   },
   {
    "duration": 15,
    "start_time": "2022-02-19T16:30:52.608Z"
   },
   {
    "duration": 52,
    "start_time": "2022-02-19T16:30:52.625Z"
   },
   {
    "duration": 68,
    "start_time": "2022-02-19T16:30:52.678Z"
   },
   {
    "duration": 112,
    "start_time": "2022-02-19T16:30:52.748Z"
   },
   {
    "duration": 398,
    "start_time": "2022-02-19T16:30:52.863Z"
   },
   {
    "duration": 66,
    "start_time": "2022-02-19T16:30:53.263Z"
   },
   {
    "duration": 71,
    "start_time": "2022-02-19T16:30:53.330Z"
   },
   {
    "duration": 139,
    "start_time": "2022-02-19T16:30:53.403Z"
   },
   {
    "duration": 3,
    "start_time": "2022-02-19T16:30:53.545Z"
   },
   {
    "duration": 11,
    "start_time": "2022-02-19T16:30:53.549Z"
   },
   {
    "duration": 21,
    "start_time": "2022-02-19T16:30:53.562Z"
   },
   {
    "duration": 66,
    "start_time": "2022-02-19T16:30:53.585Z"
   },
   {
    "duration": 416,
    "start_time": "2022-02-19T16:30:53.653Z"
   },
   {
    "duration": -2729,
    "start_time": "2022-02-19T16:30:56.800Z"
   },
   {
    "duration": -2738,
    "start_time": "2022-02-19T16:30:56.811Z"
   },
   {
    "duration": -2745,
    "start_time": "2022-02-19T16:30:56.819Z"
   },
   {
    "duration": -2754,
    "start_time": "2022-02-19T16:30:56.829Z"
   },
   {
    "duration": -2760,
    "start_time": "2022-02-19T16:30:56.837Z"
   },
   {
    "duration": -2769,
    "start_time": "2022-02-19T16:30:56.847Z"
   },
   {
    "duration": -2776,
    "start_time": "2022-02-19T16:30:56.855Z"
   },
   {
    "duration": 320,
    "start_time": "2022-02-19T16:31:28.938Z"
   },
   {
    "duration": 16,
    "start_time": "2022-02-19T16:31:38.116Z"
   },
   {
    "duration": 1255,
    "start_time": "2022-02-19T16:31:40.483Z"
   },
   {
    "duration": 185,
    "start_time": "2022-02-19T16:31:44.883Z"
   },
   {
    "duration": 165,
    "start_time": "2022-02-19T16:31:46.851Z"
   },
   {
    "duration": 13018,
    "start_time": "2022-02-19T16:33:45.046Z"
   },
   {
    "duration": 1352345,
    "start_time": "2022-02-19T16:34:09.936Z"
   },
   {
    "duration": 91,
    "start_time": "2022-02-19T17:10:59.833Z"
   },
   {
    "duration": 137,
    "start_time": "2022-02-19T17:11:19.017Z"
   },
   {
    "duration": 83,
    "start_time": "2022-02-19T17:15:15.221Z"
   },
   {
    "duration": 135,
    "start_time": "2022-02-19T17:15:33.820Z"
   },
   {
    "duration": 15,
    "start_time": "2022-02-19T17:15:37.797Z"
   },
   {
    "duration": 156,
    "start_time": "2022-02-19T17:15:44.540Z"
   },
   {
    "duration": 1270,
    "start_time": "2022-02-19T17:16:26.116Z"
   },
   {
    "duration": 175,
    "start_time": "2022-02-19T17:16:28.709Z"
   },
   {
    "duration": 393,
    "start_time": "2022-02-19T17:17:00.181Z"
   },
   {
    "duration": 81,
    "start_time": "2022-02-19T17:17:09.523Z"
   },
   {
    "duration": 198,
    "start_time": "2022-02-19T17:17:10.972Z"
   },
   {
    "duration": 15,
    "start_time": "2022-02-19T17:17:21.443Z"
   },
   {
    "duration": 1092,
    "start_time": "2022-02-19T17:17:31.573Z"
   },
   {
    "duration": 40,
    "start_time": "2022-02-19T17:17:32.666Z"
   },
   {
    "duration": 4,
    "start_time": "2022-02-19T17:17:32.708Z"
   },
   {
    "duration": 9,
    "start_time": "2022-02-19T17:17:32.714Z"
   },
   {
    "duration": 36,
    "start_time": "2022-02-19T17:17:32.724Z"
   },
   {
    "duration": 8,
    "start_time": "2022-02-19T17:17:32.762Z"
   },
   {
    "duration": 3,
    "start_time": "2022-02-19T17:17:32.772Z"
   },
   {
    "duration": 9,
    "start_time": "2022-02-19T17:17:32.777Z"
   },
   {
    "duration": 175,
    "start_time": "2022-02-19T17:17:32.787Z"
   },
   {
    "duration": 8,
    "start_time": "2022-02-19T17:17:32.963Z"
   },
   {
    "duration": 6,
    "start_time": "2022-02-19T17:17:32.972Z"
   },
   {
    "duration": 173,
    "start_time": "2022-02-19T17:17:32.980Z"
   },
   {
    "duration": 156,
    "start_time": "2022-02-19T17:17:33.154Z"
   },
   {
    "duration": 8,
    "start_time": "2022-02-19T17:17:33.312Z"
   },
   {
    "duration": 7,
    "start_time": "2022-02-19T17:17:33.321Z"
   },
   {
    "duration": 170,
    "start_time": "2022-02-19T17:17:33.329Z"
   },
   {
    "duration": 155,
    "start_time": "2022-02-19T17:17:33.501Z"
   },
   {
    "duration": 5,
    "start_time": "2022-02-19T17:17:33.658Z"
   },
   {
    "duration": 138,
    "start_time": "2022-02-19T17:17:33.665Z"
   },
   {
    "duration": 226,
    "start_time": "2022-02-19T17:17:33.805Z"
   },
   {
    "duration": 14,
    "start_time": "2022-02-19T17:17:34.033Z"
   },
   {
    "duration": 31,
    "start_time": "2022-02-19T17:17:34.049Z"
   },
   {
    "duration": 17,
    "start_time": "2022-02-19T17:17:34.082Z"
   },
   {
    "duration": 51,
    "start_time": "2022-02-19T17:17:34.100Z"
   },
   {
    "duration": 96,
    "start_time": "2022-02-19T17:17:34.153Z"
   },
   {
    "duration": 112,
    "start_time": "2022-02-19T17:17:34.251Z"
   },
   {
    "duration": 402,
    "start_time": "2022-02-19T17:17:34.365Z"
   },
   {
    "duration": 121,
    "start_time": "2022-02-19T17:17:34.769Z"
   },
   {
    "duration": 167,
    "start_time": "2022-02-19T17:17:34.892Z"
   },
   {
    "duration": 229,
    "start_time": "2022-02-19T17:17:35.060Z"
   },
   {
    "duration": 2,
    "start_time": "2022-02-19T17:17:35.346Z"
   },
   {
    "duration": 10,
    "start_time": "2022-02-19T17:17:35.350Z"
   },
   {
    "duration": 25,
    "start_time": "2022-02-19T17:17:35.362Z"
   },
   {
    "duration": 162,
    "start_time": "2022-02-19T17:17:35.388Z"
   },
   {
    "duration": 458,
    "start_time": "2022-02-19T17:17:35.552Z"
   },
   {
    "duration": 36,
    "start_time": "2022-02-19T17:17:36.011Z"
   },
   {
    "duration": 1498,
    "start_time": "2022-02-19T17:17:36.049Z"
   },
   {
    "duration": 179,
    "start_time": "2022-02-19T17:17:37.549Z"
   },
   {
    "duration": 84,
    "start_time": "2022-02-19T17:17:37.730Z"
   },
   {
    "duration": 143,
    "start_time": "2022-02-19T17:17:37.815Z"
   },
   {
    "duration": 441,
    "start_time": "2022-02-19T17:17:37.960Z"
   },
   {
    "duration": -2576,
    "start_time": "2022-02-19T17:17:40.979Z"
   },
   {
    "duration": -2602,
    "start_time": "2022-02-19T17:17:41.006Z"
   },
   {
    "duration": 56,
    "start_time": "2022-02-19T17:17:54.889Z"
   },
   {
    "duration": 341,
    "start_time": "2022-02-19T17:17:58.313Z"
   },
   {
    "duration": 181,
    "start_time": "2022-02-19T17:18:04.761Z"
   },
   {
    "duration": 1088,
    "start_time": "2022-02-22T05:21:15.783Z"
   },
   {
    "duration": 42,
    "start_time": "2022-02-22T05:21:16.873Z"
   },
   {
    "duration": 5,
    "start_time": "2022-02-22T05:21:16.917Z"
   },
   {
    "duration": 15,
    "start_time": "2022-02-22T05:21:16.924Z"
   },
   {
    "duration": 36,
    "start_time": "2022-02-22T05:21:16.941Z"
   },
   {
    "duration": 11,
    "start_time": "2022-02-22T05:21:16.978Z"
   },
   {
    "duration": 5,
    "start_time": "2022-02-22T05:21:16.990Z"
   },
   {
    "duration": 38,
    "start_time": "2022-02-22T05:21:16.997Z"
   },
   {
    "duration": 188,
    "start_time": "2022-02-22T05:21:17.037Z"
   },
   {
    "duration": 10,
    "start_time": "2022-02-22T05:21:17.226Z"
   },
   {
    "duration": 8,
    "start_time": "2022-02-22T05:21:17.237Z"
   },
   {
    "duration": 191,
    "start_time": "2022-02-22T05:21:17.246Z"
   },
   {
    "duration": 178,
    "start_time": "2022-02-22T05:21:17.438Z"
   },
   {
    "duration": 17,
    "start_time": "2022-02-22T05:21:17.618Z"
   },
   {
    "duration": 9,
    "start_time": "2022-02-22T05:21:17.637Z"
   },
   {
    "duration": 189,
    "start_time": "2022-02-22T05:21:17.648Z"
   },
   {
    "duration": 167,
    "start_time": "2022-02-22T05:21:17.839Z"
   },
   {
    "duration": 7,
    "start_time": "2022-02-22T05:21:18.008Z"
   },
   {
    "duration": 225,
    "start_time": "2022-02-22T05:21:18.016Z"
   },
   {
    "duration": 196,
    "start_time": "2022-02-22T05:21:18.242Z"
   },
   {
    "duration": 8,
    "start_time": "2022-02-22T05:21:18.440Z"
   },
   {
    "duration": 34,
    "start_time": "2022-02-22T05:21:18.450Z"
   },
   {
    "duration": 43,
    "start_time": "2022-02-22T05:21:18.488Z"
   },
   {
    "duration": 39,
    "start_time": "2022-02-22T05:21:18.533Z"
   },
   {
    "duration": 65,
    "start_time": "2022-02-22T05:21:18.574Z"
   },
   {
    "duration": 109,
    "start_time": "2022-02-22T05:21:18.642Z"
   },
   {
    "duration": 408,
    "start_time": "2022-02-22T05:21:18.754Z"
   },
   {
    "duration": 75,
    "start_time": "2022-02-22T05:21:19.164Z"
   },
   {
    "duration": 70,
    "start_time": "2022-02-22T05:21:19.241Z"
   },
   {
    "duration": 160,
    "start_time": "2022-02-22T05:21:19.313Z"
   },
   {
    "duration": 2,
    "start_time": "2022-02-22T05:21:19.475Z"
   },
   {
    "duration": 8,
    "start_time": "2022-02-22T05:21:19.479Z"
   },
   {
    "duration": 22,
    "start_time": "2022-02-22T05:21:19.488Z"
   },
   {
    "duration": 120,
    "start_time": "2022-02-22T05:21:19.511Z"
   },
   {
    "duration": 363,
    "start_time": "2022-02-22T05:21:19.634Z"
   },
   {
    "duration": 32,
    "start_time": "2022-02-22T05:21:19.999Z"
   },
   {
    "duration": 1510,
    "start_time": "2022-02-22T05:21:20.034Z"
   },
   {
    "duration": 205,
    "start_time": "2022-02-22T05:21:21.546Z"
   },
   {
    "duration": 96,
    "start_time": "2022-02-22T05:21:21.752Z"
   },
   {
    "duration": 152,
    "start_time": "2022-02-22T05:21:21.850Z"
   },
   {
    "duration": 71,
    "start_time": "2022-02-22T05:21:22.004Z"
   },
   {
    "duration": 193,
    "start_time": "2022-02-22T05:21:22.077Z"
   },
   {
    "duration": 3,
    "start_time": "2022-02-22T05:21:22.272Z"
   },
   {
    "duration": 117,
    "start_time": "2022-02-22T05:21:40.895Z"
   },
   {
    "duration": 189,
    "start_time": "2022-02-22T05:21:43.205Z"
   }
  ],
  "kernelspec": {
   "display_name": "Python 3",
   "language": "python",
   "name": "python3"
  },
  "language_info": {
   "codemirror_mode": {
    "name": "ipython",
    "version": 3
   },
   "file_extension": ".py",
   "mimetype": "text/x-python",
   "name": "python",
   "nbconvert_exporter": "python",
   "pygments_lexer": "ipython3",
   "version": "3.6.2"
  },
  "toc": {
   "base_numbering": 1,
   "nav_menu": {},
   "number_sections": true,
   "sideBar": true,
   "skip_h1_title": true,
   "title_cell": "Содержание",
   "title_sidebar": "Contents",
   "toc_cell": true,
   "toc_position": {
    "height": "calc(100% - 180px)",
    "left": "10px",
    "top": "150px",
    "width": "366.391px"
   },
   "toc_section_display": true,
   "toc_window_display": false
  }
 },
 "nbformat": 4,
 "nbformat_minor": 2
}
