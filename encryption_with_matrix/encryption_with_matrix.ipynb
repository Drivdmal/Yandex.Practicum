{
 "cells": [
  {
   "cell_type": "markdown",
   "metadata": {
    "toc": true
   },
   "source": [
    "<h1>Содержание<span class=\"tocSkip\"></span></h1>\n",
    "<div class=\"toc\"><ul class=\"toc-item\"><li><span><a href=\"#Загрузка-данных\" data-toc-modified-id=\"Загрузка-данных-1\"><span class=\"toc-item-num\">1&nbsp;&nbsp;</span>Загрузка данных</a></span><ul class=\"toc-item\"><li><span><a href=\"#Загрузим-датасет\" data-toc-modified-id=\"Загрузим-датасет-1.1\"><span class=\"toc-item-num\">1.1&nbsp;&nbsp;</span>Загрузим датасет</a></span></li><li><span><a href=\"#Посмотрим-на-данные-в-нём\" data-toc-modified-id=\"Посмотрим-на-данные-в-нём-1.2\"><span class=\"toc-item-num\">1.2&nbsp;&nbsp;</span>Посмотрим на данные в нём</a></span></li><li><span><a href=\"#Данные-коректны,-есть-153-дубликатов,-что-составляет-3,06%-от-всего-датафрейма---убирём-их.\" data-toc-modified-id=\"Данные-коректны,-есть-153-дубликатов,-что-составляет-3,06%-от-всего-датафрейма---убирём-их.-1.3\"><span class=\"toc-item-num\">1.3&nbsp;&nbsp;</span>Данные коректны, есть 153 дубликатов, что составляет 3,06% от всего датафрейма - убирём их.</a></span></li><li><span><a href=\"#Названия-признаков-на-кириллице,-изменим-на-латиницу\" data-toc-modified-id=\"Названия-признаков-на-кириллице,-изменим-на-латиницу-1.4\"><span class=\"toc-item-num\">1.4&nbsp;&nbsp;</span>Названия признаков на кириллице, изменим на латиницу</a></span></li><li><span><a href=\"#Изменим-тип-данных-с-float64-на-int64\" data-toc-modified-id=\"Изменим-тип-данных-с-float64-на-int64-1.5\"><span class=\"toc-item-num\">1.5&nbsp;&nbsp;</span>Изменим тип данных с float64 на int64</a></span></li><li><span><a href=\"#Посмотрим-на-распределение-данных\" data-toc-modified-id=\"Посмотрим-на-распределение-данных-1.6\"><span class=\"toc-item-num\">1.6&nbsp;&nbsp;</span>Посмотрим на распределение данных</a></span></li><li><span><a href=\"#Вывод:-данные-изучени-и-подготовлены-к-обучению.\" data-toc-modified-id=\"Вывод:-данные-изучени-и-подготовлены-к-обучению.-1.7\"><span class=\"toc-item-num\">1.7&nbsp;&nbsp;</span>Вывод: данные изучени и подготовлены к обучению.</a></span></li></ul></li><li><span><a href=\"#Умножение-матриц\" data-toc-modified-id=\"Умножение-матриц-2\"><span class=\"toc-item-num\">2&nbsp;&nbsp;</span>Умножение матриц</a></span></li><li><span><a href=\"#Алгоритм-преобразования\" data-toc-modified-id=\"Алгоритм-преобразования-3\"><span class=\"toc-item-num\">3&nbsp;&nbsp;</span>Алгоритм преобразования</a></span></li><li><span><a href=\"#Проверка-алгоритма\" data-toc-modified-id=\"Проверка-алгоритма-4\"><span class=\"toc-item-num\">4&nbsp;&nbsp;</span>Проверка алгоритма</a></span><ul class=\"toc-item\"><li><span><a href=\"#Кодируем-признаки-и-обучим-модель-заново:\" data-toc-modified-id=\"Кодируем-признаки-и-обучим-модель-заново:-4.1\"><span class=\"toc-item-num\">4.1&nbsp;&nbsp;</span>Кодируем признаки и обучим модель заново:</a></span></li></ul></li><li><span><a href=\"#Чек-лист-проверки\" data-toc-modified-id=\"Чек-лист-проверки-5\"><span class=\"toc-item-num\">5&nbsp;&nbsp;</span>Чек-лист проверки</a></span></li></ul></div>"
   ]
  },
  {
   "cell_type": "markdown",
   "metadata": {},
   "source": [
    "# Защита персональных данных клиентов"
   ]
  },
  {
   "cell_type": "markdown",
   "metadata": {},
   "source": [
    "Вам нужно защитить данные клиентов страховой компании «Хоть потоп». Разработайте такой метод преобразования данных, чтобы по ним было сложно восстановить персональную информацию. Обоснуйте корректность его работы.\n",
    "\n",
    "Нужно защитить данные, чтобы при преобразовании качество моделей машинного обучения не ухудшилось. Подбирать наилучшую модель не требуется."
   ]
  },
  {
   "cell_type": "markdown",
   "metadata": {},
   "source": [
    "## Загрузка данных"
   ]
  },
  {
   "cell_type": "code",
   "execution_count": 1,
   "metadata": {},
   "outputs": [],
   "source": [
    "import pandas as pd\n",
    "import numpy as np\n",
    "from matplotlib import pyplot as plt\n",
    "from sklearn.linear_model import LinearRegression\n",
    "from sklearn.metrics import r2_score\n",
    "from sklearn.model_selection import train_test_split"
   ]
  },
  {
   "cell_type": "markdown",
   "metadata": {},
   "source": [
    "### Загрузим датасет"
   ]
  },
  {
   "cell_type": "code",
   "execution_count": 2,
   "metadata": {},
   "outputs": [],
   "source": [
    "data = pd.read_csv('/datasets/insurance.csv')"
   ]
  },
  {
   "cell_type": "markdown",
   "metadata": {},
   "source": [
    "### Посмотрим на данные в нём"
   ]
  },
  {
   "cell_type": "code",
   "execution_count": 3,
   "metadata": {},
   "outputs": [
    {
     "name": "stdout",
     "output_type": "stream",
     "text": [
      "<class 'pandas.core.frame.DataFrame'>\n",
      "RangeIndex: 5000 entries, 0 to 4999\n",
      "Data columns (total 5 columns):\n",
      " #   Column             Non-Null Count  Dtype  \n",
      "---  ------             --------------  -----  \n",
      " 0   Пол                5000 non-null   int64  \n",
      " 1   Возраст            5000 non-null   float64\n",
      " 2   Зарплата           5000 non-null   float64\n",
      " 3   Члены семьи        5000 non-null   int64  \n",
      " 4   Страховые выплаты  5000 non-null   int64  \n",
      "dtypes: float64(2), int64(3)\n",
      "memory usage: 195.4 KB\n"
     ]
    },
    {
     "data": {
      "text/html": [
       "<div>\n",
       "<style scoped>\n",
       "    .dataframe tbody tr th:only-of-type {\n",
       "        vertical-align: middle;\n",
       "    }\n",
       "\n",
       "    .dataframe tbody tr th {\n",
       "        vertical-align: top;\n",
       "    }\n",
       "\n",
       "    .dataframe thead th {\n",
       "        text-align: right;\n",
       "    }\n",
       "</style>\n",
       "<table border=\"1\" class=\"dataframe\">\n",
       "  <thead>\n",
       "    <tr style=\"text-align: right;\">\n",
       "      <th></th>\n",
       "      <th>Пол</th>\n",
       "      <th>Возраст</th>\n",
       "      <th>Зарплата</th>\n",
       "      <th>Члены семьи</th>\n",
       "      <th>Страховые выплаты</th>\n",
       "    </tr>\n",
       "  </thead>\n",
       "  <tbody>\n",
       "    <tr>\n",
       "      <th>count</th>\n",
       "      <td>5000.000000</td>\n",
       "      <td>5000.000000</td>\n",
       "      <td>5000.000000</td>\n",
       "      <td>5000.000000</td>\n",
       "      <td>5000.000000</td>\n",
       "    </tr>\n",
       "    <tr>\n",
       "      <th>mean</th>\n",
       "      <td>0.499000</td>\n",
       "      <td>30.952800</td>\n",
       "      <td>39916.360000</td>\n",
       "      <td>1.194200</td>\n",
       "      <td>0.148000</td>\n",
       "    </tr>\n",
       "    <tr>\n",
       "      <th>std</th>\n",
       "      <td>0.500049</td>\n",
       "      <td>8.440807</td>\n",
       "      <td>9900.083569</td>\n",
       "      <td>1.091387</td>\n",
       "      <td>0.463183</td>\n",
       "    </tr>\n",
       "    <tr>\n",
       "      <th>min</th>\n",
       "      <td>0.000000</td>\n",
       "      <td>18.000000</td>\n",
       "      <td>5300.000000</td>\n",
       "      <td>0.000000</td>\n",
       "      <td>0.000000</td>\n",
       "    </tr>\n",
       "    <tr>\n",
       "      <th>25%</th>\n",
       "      <td>0.000000</td>\n",
       "      <td>24.000000</td>\n",
       "      <td>33300.000000</td>\n",
       "      <td>0.000000</td>\n",
       "      <td>0.000000</td>\n",
       "    </tr>\n",
       "    <tr>\n",
       "      <th>50%</th>\n",
       "      <td>0.000000</td>\n",
       "      <td>30.000000</td>\n",
       "      <td>40200.000000</td>\n",
       "      <td>1.000000</td>\n",
       "      <td>0.000000</td>\n",
       "    </tr>\n",
       "    <tr>\n",
       "      <th>75%</th>\n",
       "      <td>1.000000</td>\n",
       "      <td>37.000000</td>\n",
       "      <td>46600.000000</td>\n",
       "      <td>2.000000</td>\n",
       "      <td>0.000000</td>\n",
       "    </tr>\n",
       "    <tr>\n",
       "      <th>max</th>\n",
       "      <td>1.000000</td>\n",
       "      <td>65.000000</td>\n",
       "      <td>79000.000000</td>\n",
       "      <td>6.000000</td>\n",
       "      <td>5.000000</td>\n",
       "    </tr>\n",
       "  </tbody>\n",
       "</table>\n",
       "</div>"
      ],
      "text/plain": [
       "               Пол      Возраст      Зарплата  Члены семьи  Страховые выплаты\n",
       "count  5000.000000  5000.000000   5000.000000  5000.000000        5000.000000\n",
       "mean      0.499000    30.952800  39916.360000     1.194200           0.148000\n",
       "std       0.500049     8.440807   9900.083569     1.091387           0.463183\n",
       "min       0.000000    18.000000   5300.000000     0.000000           0.000000\n",
       "25%       0.000000    24.000000  33300.000000     0.000000           0.000000\n",
       "50%       0.000000    30.000000  40200.000000     1.000000           0.000000\n",
       "75%       1.000000    37.000000  46600.000000     2.000000           0.000000\n",
       "max       1.000000    65.000000  79000.000000     6.000000           5.000000"
      ]
     },
     "metadata": {},
     "output_type": "display_data"
    },
    {
     "name": "stdout",
     "output_type": "stream",
     "text": [
      "Количество дубликатов - 153 = 3.06%\n"
     ]
    },
    {
     "data": {
      "text/html": [
       "<div>\n",
       "<style scoped>\n",
       "    .dataframe tbody tr th:only-of-type {\n",
       "        vertical-align: middle;\n",
       "    }\n",
       "\n",
       "    .dataframe tbody tr th {\n",
       "        vertical-align: top;\n",
       "    }\n",
       "\n",
       "    .dataframe thead th {\n",
       "        text-align: right;\n",
       "    }\n",
       "</style>\n",
       "<table border=\"1\" class=\"dataframe\">\n",
       "  <thead>\n",
       "    <tr style=\"text-align: right;\">\n",
       "      <th></th>\n",
       "      <th>Пол</th>\n",
       "      <th>Возраст</th>\n",
       "      <th>Зарплата</th>\n",
       "      <th>Члены семьи</th>\n",
       "      <th>Страховые выплаты</th>\n",
       "    </tr>\n",
       "  </thead>\n",
       "  <tbody>\n",
       "    <tr>\n",
       "      <th>281</th>\n",
       "      <td>1</td>\n",
       "      <td>39.0</td>\n",
       "      <td>48100.0</td>\n",
       "      <td>1</td>\n",
       "      <td>0</td>\n",
       "    </tr>\n",
       "    <tr>\n",
       "      <th>488</th>\n",
       "      <td>1</td>\n",
       "      <td>24.0</td>\n",
       "      <td>32900.0</td>\n",
       "      <td>1</td>\n",
       "      <td>0</td>\n",
       "    </tr>\n",
       "    <tr>\n",
       "      <th>513</th>\n",
       "      <td>0</td>\n",
       "      <td>31.0</td>\n",
       "      <td>37400.0</td>\n",
       "      <td>2</td>\n",
       "      <td>0</td>\n",
       "    </tr>\n",
       "    <tr>\n",
       "      <th>718</th>\n",
       "      <td>1</td>\n",
       "      <td>22.0</td>\n",
       "      <td>32600.0</td>\n",
       "      <td>1</td>\n",
       "      <td>0</td>\n",
       "    </tr>\n",
       "    <tr>\n",
       "      <th>785</th>\n",
       "      <td>0</td>\n",
       "      <td>20.0</td>\n",
       "      <td>35800.0</td>\n",
       "      <td>0</td>\n",
       "      <td>0</td>\n",
       "    </tr>\n",
       "    <tr>\n",
       "      <th>...</th>\n",
       "      <td>...</td>\n",
       "      <td>...</td>\n",
       "      <td>...</td>\n",
       "      <td>...</td>\n",
       "      <td>...</td>\n",
       "    </tr>\n",
       "    <tr>\n",
       "      <th>4793</th>\n",
       "      <td>1</td>\n",
       "      <td>24.0</td>\n",
       "      <td>37800.0</td>\n",
       "      <td>0</td>\n",
       "      <td>0</td>\n",
       "    </tr>\n",
       "    <tr>\n",
       "      <th>4902</th>\n",
       "      <td>1</td>\n",
       "      <td>35.0</td>\n",
       "      <td>38700.0</td>\n",
       "      <td>1</td>\n",
       "      <td>0</td>\n",
       "    </tr>\n",
       "    <tr>\n",
       "      <th>4935</th>\n",
       "      <td>1</td>\n",
       "      <td>19.0</td>\n",
       "      <td>32700.0</td>\n",
       "      <td>0</td>\n",
       "      <td>0</td>\n",
       "    </tr>\n",
       "    <tr>\n",
       "      <th>4945</th>\n",
       "      <td>1</td>\n",
       "      <td>21.0</td>\n",
       "      <td>45800.0</td>\n",
       "      <td>0</td>\n",
       "      <td>0</td>\n",
       "    </tr>\n",
       "    <tr>\n",
       "      <th>4965</th>\n",
       "      <td>0</td>\n",
       "      <td>22.0</td>\n",
       "      <td>40100.0</td>\n",
       "      <td>1</td>\n",
       "      <td>0</td>\n",
       "    </tr>\n",
       "  </tbody>\n",
       "</table>\n",
       "<p>153 rows × 5 columns</p>\n",
       "</div>"
      ],
      "text/plain": [
       "      Пол  Возраст  Зарплата  Члены семьи  Страховые выплаты\n",
       "281     1     39.0   48100.0            1                  0\n",
       "488     1     24.0   32900.0            1                  0\n",
       "513     0     31.0   37400.0            2                  0\n",
       "718     1     22.0   32600.0            1                  0\n",
       "785     0     20.0   35800.0            0                  0\n",
       "...   ...      ...       ...          ...                ...\n",
       "4793    1     24.0   37800.0            0                  0\n",
       "4902    1     35.0   38700.0            1                  0\n",
       "4935    1     19.0   32700.0            0                  0\n",
       "4945    1     21.0   45800.0            0                  0\n",
       "4965    0     22.0   40100.0            1                  0\n",
       "\n",
       "[153 rows x 5 columns]"
      ]
     },
     "execution_count": 3,
     "metadata": {},
     "output_type": "execute_result"
    }
   ],
   "source": [
    "data.info()\n",
    "\n",
    "display(data.describe())\n",
    "\n",
    "print('Количество дубликатов - {:d} = {:.2%}'.format(data.duplicated().sum(), data.duplicated().mean()))\n",
    "\n",
    "data[data.duplicated()]"
   ]
  },
  {
   "cell_type": "markdown",
   "metadata": {},
   "source": [
    "### Данные коректны, есть 153 дубликатов, что составляет 3,06% от всего датафрейма - убирём их. "
   ]
  },
  {
   "cell_type": "code",
   "execution_count": 4,
   "metadata": {},
   "outputs": [
    {
     "data": {
      "text/plain": [
       "0"
      ]
     },
     "execution_count": 4,
     "metadata": {},
     "output_type": "execute_result"
    }
   ],
   "source": [
    "data = data.drop_duplicates()\n",
    "\n",
    "data.duplicated().sum()"
   ]
  },
  {
   "cell_type": "markdown",
   "metadata": {},
   "source": [
    "### Названия признаков на кириллице, изменим на латиницу"
   ]
  },
  {
   "cell_type": "code",
   "execution_count": 5,
   "metadata": {},
   "outputs": [],
   "source": [
    "data = data.rename(columns={'Пол':               'sex', \n",
    "                            'Возраст':           'age', \n",
    "                            'Зарплата':          'salary', \n",
    "                            'Члены семьи':       'family_members', \n",
    "                            'Страховые выплаты': 'insurance'})"
   ]
  },
  {
   "cell_type": "markdown",
   "metadata": {},
   "source": [
    "### Изменим тип данных с float64 на int64"
   ]
  },
  {
   "cell_type": "code",
   "execution_count": 6,
   "metadata": {
    "scrolled": true
   },
   "outputs": [],
   "source": [
    "data['age'] = data['age'].astype(int)\n",
    "\n",
    "data['salary'] = data['salary'].astype(int)"
   ]
  },
  {
   "cell_type": "markdown",
   "metadata": {},
   "source": [
    "### Посмотрим на распределение данных"
   ]
  },
  {
   "cell_type": "code",
   "execution_count": 7,
   "metadata": {},
   "outputs": [
    {
     "data": {
      "image/png": "[encoded data removed]",
      "text/plain": [
       "<Figure size 432x288 with 1 Axes>"
      ]
     },
     "metadata": {
      "needs_background": "light"
     },
     "output_type": "display_data"
    },
    {
     "data": {
      "image/png": "[encoded data removed]",
      "text/plain": [
       "<Figure size 432x288 with 1 Axes>"
      ]
     },
     "metadata": {
      "needs_background": "light"
     },
     "output_type": "display_data"
    },
    {
     "data": {
      "image/png": "[encoded data removed]",
      "text/plain": [
       "<Figure size 432x288 with 1 Axes>"
      ]
     },
     "metadata": {
      "needs_background": "light"
     },
     "output_type": "display_data"
    },
    {
     "data": {
      "image/png": "[encoded data removed]",
      "text/plain": [
       "<Figure size 432x288 with 1 Axes>"
      ]
     },
     "metadata": {
      "needs_background": "light"
     },
     "output_type": "display_data"
    },
    {
     "data": {
      "image/png": "[encoded data removed]",
      "text/plain": [
       "<Figure size 432x288 with 1 Axes>"
      ]
     },
     "metadata": {
      "needs_background": "light"
     },
     "output_type": "display_data"
    }
   ],
   "source": [
    "for col in data.columns:\n",
    "    data[col].hist(grid=False, rwidth=.8)\n",
    "    plt.title(col)\n",
    "    plt.show()"
   ]
  },
  {
   "cell_type": "markdown",
   "metadata": {},
   "source": [
    "### Вывод: данные изучени и подготовлены к обучению. "
   ]
  },
  {
   "cell_type": "markdown",
   "metadata": {},
   "source": [
    "## Умножение матриц"
   ]
  },
  {
   "cell_type": "markdown",
   "metadata": {},
   "source": [
    "В этом задании вы можете записывать формулы в *Jupyter Notebook.*\n",
    "\n",
    "Чтобы записать формулу внутри текста, окружите её символами доллара \\\\$; если снаружи —  двойными символами \\\\$\\\\$. Эти формулы записываются на языке вёрстки *LaTeX.* \n",
    "\n",
    "Для примера мы записали формулы линейной регрессии. Можете их скопировать и отредактировать, чтобы решить задачу.\n",
    "\n",
    "Работать в *LaTeX* необязательно."
   ]
  },
  {
   "cell_type": "markdown",
   "metadata": {},
   "source": [
    "Обозначения:\n",
    "\n",
    "- $X$ — матрица признаков (нулевой столбец состоит из единиц)\n",
    "\n",
    "- $y$ — вектор целевого признака\n",
    "\n",
    "- $P$ — матрица, на которую умножаются признаки\n",
    "\n",
    "- $w$ — вектор весов линейной регрессии (нулевой элемент равен сдвигу)"
   ]
  },
  {
   "cell_type": "markdown",
   "metadata": {},
   "source": [
    "Предсказания:\n",
    "\n",
    "$$\n",
    "a = Xw\n",
    "$$\n",
    "\n",
    "Задача обучения:\n",
    "\n",
    "$$\n",
    "w = \\arg\\min_w MSE(Xw, y)\n",
    "$$\n",
    "\n",
    "Формула обучения:\n",
    "\n",
    "$$\n",
    "w = (X^T X)^{-1} X^T y\n",
    "$$"
   ]
  },
  {
   "cell_type": "markdown",
   "metadata": {},
   "source": [
    "\\cdot\\cdotОтвет:\\cdot\\cdot Если умножить признаки на ОБРАТИМУЮ матрицу, то качество предсказаний не изменится.\n",
    "\n",
    "\\cdot\\cdotОбоснование:\\cdot\\cdot \n",
    "1. Умножив матрицу принаков на обратимую матрицу (P), мы получим новую матрицу (Z): \n",
    "\n",
    "    $$ Z = X \\cdot P $$ <p>\n",
    "    \n",
    "2. В таком случае вектор весов будет выражаться следующей формулой: \n",
    "<p>\n",
    "    $$ w' = (Z^T \\cdot Z)^{-1} \\cdot Z^T \\cdot y $$\n",
    "<p>\n",
    "    \n",
    "3. Предсказания: \n",
    "<p>\n",
    "    $$ a' = Z \\cdot w' = Z \\cdot (Z^T \\cdot Z)^{-1} \\cdot Z^T \\cdot y $$\n",
    "<p>\n",
    "\n",
    "4. Свойство матриц: $ (A \\cdot B)^{-1} = B^{-1} \\cdot A^{-1}$ и $ (A \\cdot B)^T = B^T \\cdot A^T $ :\n",
    "<p> \n",
    "    $$ a' = Z \\cdot Z^{-1} \\cdot  (Z^T)^{-1} \\cdot Z^T \\cdot y $$\n",
    "<p>\n",
    "    \n",
    "5. Если матрица $A$ умножается на обратную $A^{-1}$, то это приводит к единичной матрице $ E $. Мы не знаем обратима ли матрица $ Z $, но мы знаем что матрица $ P $ обратима исходя из условия задания. Подставим вместо $ Z = X \\cdot P $:\n",
    "<p>\n",
    "    $$ a' = (X \\cdot P) \\cdot (X \\cdot P)^{-1} \\cdot ((X \\cdot P)^T)^{-1} \\cdot (X \\cdot P)^T \\cdot y $$\n",
    "<p>\n",
    "\n",
    "6. Раскроем скобки учитывая свойство матриц (см. выше):\n",
    "<p>\n",
    "    $$ a' = X \\cdot P \\cdot P^{-1} \\cdot X^{-1} \\cdot (P^T \\cdot X^T)^{-1} \\cdot  P^T \\cdot X^T \\cdot y =\n",
    "      X \\cdot \\textbf P \\cdot \\textbf  P^{-1} \\cdot X^{-1} \\cdot (X^T)^{-1} \\cdot (\\textbf P^T)^{-1} \\cdot \\textbf P^T \\cdot X^T \\cdot y \n",
    "    $$\n",
    "<p>\n",
    "7. Если матрица $P$ умножается на обратную $P^{-1}$, то это приводит к единичной матрице $ E $ (то же верно и при умножении транспонированных матриц прямую на обратную). Таким образом, все наши матрицы Р (прямая, обратная, транспонированная Р прямая, и транспонированная Р обратная) образуют 2 единичные матрицы:\n",
    "<p>\n",
    "    $$ \n",
    "    a' = X \\cdot \\textbf E \\cdot (X^T)^{-1} \\cdot X^{-1} \\cdot \\textbf E \\cdot X^T \\cdot y\n",
    "    $$\n",
    "<p>\n",
    "    \n",
    "8. Сократим единичные матрицы:\n",
    "<p>\n",
    "    $$ \n",
    "    a' = X \\cdot (X^T)^{-1} \\cdot X^{-1} \\cdot X^T \\cdot y\n",
    "    $$\n",
    "<p>\n",
    "9. Вынесем обратимость матрицы за скобки:\n",
    "<p>\n",
    "    $$ \n",
    "    a' = X \\cdot (X^T \\cdot X)^{-1} \\cdot X^T \\cdot y\n",
    "    $$\n",
    "<p>\n",
    "10. Итак, мы пришли к тому с чего начинали:\n",
    "<p>\n",
    "$$\n",
    "w = (X^T X)^{-1} X^T y\n",
    "$$\n",
    "<p>\n",
    "11. При умножении матрицы признаков на транспонированную, наши предскзания не изменятся\n",
    "<p>\n",
    "    $$ \n",
    "    a' = X \\cdot w = a\n",
    "    $$\n",
    "<p>\n",
    "12. $\\textbf Ч.\\textbf Т.\\textbf Д.$"
   ]
  },
  {
   "cell_type": "markdown",
   "metadata": {},
   "source": [
    "Используемые свойства:\n",
    "$$\n",
    "(AB)^T=B^T A^T\n",
    "$$\n",
    "$$\n",
    "(AB)^{-1} = B^{-1} A^{-1}\n",
    "$$\n",
    "$$\n",
    "A A^{-1} = A^{-1} A = E\n",
    "$$\n",
    "$$\n",
    "AE = EA = A\n",
    "$$"
   ]
  },
  {
   "cell_type": "markdown",
   "metadata": {},
   "source": [
    "## Алгоритм преобразования"
   ]
  },
  {
   "cell_type": "markdown",
   "metadata": {},
   "source": [
    "**Алгоритм**\n",
    "\n",
    "1. Возьмём признаки (они должны быть числовыми) в виде матрицы (np.array).\n",
    "2. Извлечем размерность матрицы - shape. В размерности нас интересует её ширина (количество признаков без целевого).\n",
    "3. Создадим произвольную обратимую матрицу, размерностью равной количеству признаков. Проверим матрицу на обратимость (определитель матрицы не равен нулю)\n",
    "4. Умножим матрицу признаков на нашу обратимую матрицу.\n",
    "5. Проверим как выглядят наши данные\n",
    "6. Обучим модель линейной регрессии. \n",
    "7. Оценим качество модели метрикой r2_score\n",
    "8. Извлечем из модели вектор весов, запомним его.\n",
    "9. Умножим признаки на найденную обратимую матрицу\n",
    "10. Обучим новую модель линейно регрессии, оценим качество модели, сравним ее с качеством предыдущей модели."
   ]
  },
  {
   "cell_type": "markdown",
   "metadata": {},
   "source": [
    "**Обоснование**\n",
    "\n",
    "Учитывая математическое доказательство (см. выше) умножение признаков на обратимую матрицу не должно привести к снижению качества модели."
   ]
  },
  {
   "cell_type": "markdown",
   "metadata": {},
   "source": [
    "## Проверка алгоритма"
   ]
  },
  {
   "cell_type": "code",
   "execution_count": 8,
   "metadata": {},
   "outputs": [
    {
     "name": "stdout",
     "output_type": "stream",
     "text": [
      "Размер признаков обучающей выборки            3635\n",
      "Размер целевого признака обучающей выборки    3635\n",
      "Размер признаков тестовой выборки             1212\n",
      "Размер целевого признака тестовой выборки     1212\n",
      "Качество модели до кодирования: 0.4231\n"
     ]
    }
   ],
   "source": [
    "# извлечем данные из датафрейма\n",
    "features = data.loc[:,['sex', 'age', 'salary', 'family_members']].values\n",
    "target = data['insurance'].values\n",
    "\n",
    "n = features.shape[1]\n",
    "det = 0\n",
    "\n",
    "# создадим матрицу n x n, проверим её в цикле чтобы определитель не был равен 0, если равен, то создадим новую\n",
    "while det == 0:\n",
    "    m = np.random.randint(0,10,(n,n))\n",
    "    det = np.linalg.det(m)\n",
    "    \n",
    "# разделим данные на обучающую и тестовую выборки\n",
    "features_train, features_test, target_train, target_test = train_test_split(features, \n",
    "                                                                            target, \n",
    "                                                                            test_size=.25, \n",
    "                                                                            random_state=12345)\n",
    "# проверим качество разметки\n",
    "print('Размер признаков обучающей выборки'.ljust(45), len(features_train))\n",
    "print('Размер целевого признака обучающей выборки'.ljust(45), len(target_train))\n",
    "print('Размер признаков тестовой выборки'.ljust(45), len(features_test))\n",
    "print('Размер целевого признака тестовой выборки'.ljust(45), len(target_test))\n",
    "\n",
    "# обучим модель линейной регрессии\n",
    "model = LinearRegression()\n",
    "model.fit(features_train, target_train)\n",
    "\n",
    "# получим предсказания и выведем на экран качество модели\n",
    "predictions = model.predict(features_test)\n",
    "print('Качество модели до кодирования: {:.04f}'.format(r2_score(target_test, predictions)))"
   ]
  },
  {
   "cell_type": "markdown",
   "metadata": {},
   "source": [
    "### Кодируем признаки и обучим модель заново:"
   ]
  },
  {
   "cell_type": "code",
   "execution_count": 9,
   "metadata": {},
   "outputs": [
    {
     "data": {
      "text/html": [
       "<div>\n",
       "<style scoped>\n",
       "    .dataframe tbody tr th:only-of-type {\n",
       "        vertical-align: middle;\n",
       "    }\n",
       "\n",
       "    .dataframe tbody tr th {\n",
       "        vertical-align: top;\n",
       "    }\n",
       "\n",
       "    .dataframe thead th {\n",
       "        text-align: right;\n",
       "    }\n",
       "</style>\n",
       "<table border=\"1\" class=\"dataframe\">\n",
       "  <thead>\n",
       "    <tr style=\"text-align: right;\">\n",
       "      <th></th>\n",
       "      <th>sex</th>\n",
       "      <th>age</th>\n",
       "      <th>salary</th>\n",
       "      <th>family_members</th>\n",
       "    </tr>\n",
       "  </thead>\n",
       "  <tbody>\n",
       "    <tr>\n",
       "      <th>0</th>\n",
       "      <td>198732</td>\n",
       "      <td>149139</td>\n",
       "      <td>297889</td>\n",
       "      <td>248338</td>\n",
       "    </tr>\n",
       "    <tr>\n",
       "      <th>1</th>\n",
       "      <td>152371</td>\n",
       "      <td>114371</td>\n",
       "      <td>228323</td>\n",
       "      <td>190372</td>\n",
       "    </tr>\n",
       "    <tr>\n",
       "      <th>2</th>\n",
       "      <td>84232</td>\n",
       "      <td>63232</td>\n",
       "      <td>126203</td>\n",
       "      <td>105232</td>\n",
       "    </tr>\n",
       "    <tr>\n",
       "      <th>3</th>\n",
       "      <td>166974</td>\n",
       "      <td>125274</td>\n",
       "      <td>250349</td>\n",
       "      <td>208676</td>\n",
       "    </tr>\n",
       "    <tr>\n",
       "      <th>4</th>\n",
       "      <td>104625</td>\n",
       "      <td>78532</td>\n",
       "      <td>156797</td>\n",
       "      <td>130730</td>\n",
       "    </tr>\n",
       "    <tr>\n",
       "      <th>...</th>\n",
       "      <td>...</td>\n",
       "      <td>...</td>\n",
       "      <td>...</td>\n",
       "      <td>...</td>\n",
       "    </tr>\n",
       "    <tr>\n",
       "      <th>4995</th>\n",
       "      <td>143030</td>\n",
       "      <td>107330</td>\n",
       "      <td>214398</td>\n",
       "      <td>178732</td>\n",
       "    </tr>\n",
       "    <tr>\n",
       "      <th>4996</th>\n",
       "      <td>209875</td>\n",
       "      <td>157475</td>\n",
       "      <td>314639</td>\n",
       "      <td>262276</td>\n",
       "    </tr>\n",
       "    <tr>\n",
       "      <th>4997</th>\n",
       "      <td>135766</td>\n",
       "      <td>101866</td>\n",
       "      <td>203542</td>\n",
       "      <td>169668</td>\n",
       "    </tr>\n",
       "    <tr>\n",
       "      <th>4998</th>\n",
       "      <td>130986</td>\n",
       "      <td>98293</td>\n",
       "      <td>196358</td>\n",
       "      <td>163694</td>\n",
       "    </tr>\n",
       "    <tr>\n",
       "      <th>4999</th>\n",
       "      <td>162628</td>\n",
       "      <td>122035</td>\n",
       "      <td>243798</td>\n",
       "      <td>203234</td>\n",
       "    </tr>\n",
       "  </tbody>\n",
       "</table>\n",
       "<p>4847 rows × 4 columns</p>\n",
       "</div>"
      ],
      "text/plain": [
       "         sex     age  salary  family_members\n",
       "0     198732  149139  297889          248338\n",
       "1     152371  114371  228323          190372\n",
       "2      84232   63232  126203          105232\n",
       "3     166974  125274  250349          208676\n",
       "4     104625   78532  156797          130730\n",
       "...      ...     ...     ...             ...\n",
       "4995  143030  107330  214398          178732\n",
       "4996  209875  157475  314639          262276\n",
       "4997  135766  101866  203542          169668\n",
       "4998  130986   98293  196358          163694\n",
       "4999  162628  122035  243798          203234\n",
       "\n",
       "[4847 rows x 4 columns]"
      ]
     },
     "execution_count": 9,
     "metadata": {},
     "output_type": "execute_result"
    }
   ],
   "source": [
    "# умножим нашу найденную матрицу на признаки\n",
    "features_code = features @ m\n",
    "\n",
    "code_df = pd.DataFrame(data=features_code, index=data.index, columns=data.columns[:-1])\n",
    "code_df"
   ]
  },
  {
   "cell_type": "code",
   "execution_count": 10,
   "metadata": {},
   "outputs": [
    {
     "name": "stdout",
     "output_type": "stream",
     "text": [
      "Размер признаков обучающей выборки            3635\n",
      "Размер целевого признака обучающей выборки    3635\n",
      "Размер признаков тестовой выборки             1212\n",
      "Размер целевого признака тестовой выборки     1212\n",
      "Качество модели после кодирования: 0.42307728\n",
      "Качество модели до кодирования:    0.42307728\n"
     ]
    }
   ],
   "source": [
    "# разделим данные на обучающую и тестовую выборки\n",
    "features_train_сode, features_test_code, target_train, target_test = train_test_split(features_code, \n",
    "                                                                            target, \n",
    "                                                                            test_size=.25, \n",
    "                                                                            random_state=12345)\n",
    "# проверим качество разметки\n",
    "print('Размер признаков обучающей выборки'.ljust(45), len(features_train_сode))\n",
    "print('Размер целевого признака обучающей выборки'.ljust(45), len(target_train))\n",
    "print('Размер признаков тестовой выборки'.ljust(45), len(features_test_code))\n",
    "print('Размер целевого признака тестовой выборки'.ljust(45), len(target_test))\n",
    "\n",
    "# обучим модель линейной регрессии\n",
    "model_code = LinearRegression()\n",
    "model_code.fit(features_train_сode, target_train)\n",
    "\n",
    "# получим предсказания и выведем на экран качество модели\n",
    "predictions_code = model_code.predict(features_test_code)\n",
    "print('Качество модели после кодирования: {:.08f}'.format(r2_score(target_test, predictions_code)))\n",
    "print('Качество модели до кодирования:    {:.08f}'.format(r2_score(target_test, predictions)))"
   ]
  },
  {
   "cell_type": "markdown",
   "metadata": {},
   "source": [
    "# Вывод: кодирование данных посредством матричного умножения на обратимую матрицу не приводит к искажению качества модели линейной регрессии."
   ]
  }
 ],
 "metadata": {
  "ExecuteTimeLog": [
   {
    "duration": 518,
    "start_time": "2022-03-23T08:00:30.633Z"
   },
   {
    "duration": 175,
    "start_time": "2022-03-23T08:00:32.327Z"
   },
   {
    "duration": 33,
    "start_time": "2022-03-23T08:00:58.983Z"
   },
   {
    "duration": 12,
    "start_time": "2022-03-23T10:46:14.997Z"
   },
   {
    "duration": 67,
    "start_time": "2022-03-23T10:47:33.561Z"
   },
   {
    "duration": 587,
    "start_time": "2022-03-23T10:47:39.496Z"
   },
   {
    "duration": 115,
    "start_time": "2022-03-23T10:47:52.014Z"
   },
   {
    "duration": 2,
    "start_time": "2022-03-23T10:48:22.554Z"
   },
   {
    "duration": 526,
    "start_time": "2022-03-23T10:48:25.337Z"
   },
   {
    "duration": 512,
    "start_time": "2022-03-23T10:49:09.097Z"
   },
   {
    "duration": 11,
    "start_time": "2022-03-23T10:49:54.420Z"
   },
   {
    "duration": 8,
    "start_time": "2022-03-23T10:50:39.264Z"
   },
   {
    "duration": 7,
    "start_time": "2022-03-23T10:50:45.669Z"
   },
   {
    "duration": 5,
    "start_time": "2022-03-23T10:50:50.620Z"
   },
   {
    "duration": 7,
    "start_time": "2022-03-23T10:51:44.241Z"
   },
   {
    "duration": 4,
    "start_time": "2022-03-23T10:52:15.475Z"
   },
   {
    "duration": 669,
    "start_time": "2022-03-23T10:52:33.645Z"
   },
   {
    "duration": 46,
    "start_time": "2022-03-23T10:52:34.315Z"
   },
   {
    "duration": 10,
    "start_time": "2022-03-23T10:52:34.362Z"
   },
   {
    "duration": 592,
    "start_time": "2022-03-23T10:52:34.373Z"
   },
   {
    "duration": 15,
    "start_time": "2022-03-23T10:52:34.966Z"
   },
   {
    "duration": 10,
    "start_time": "2022-03-23T10:52:34.982Z"
   },
   {
    "duration": 6,
    "start_time": "2022-03-23T10:52:46.683Z"
   },
   {
    "duration": 4,
    "start_time": "2022-03-23T10:54:58.264Z"
   },
   {
    "duration": 10,
    "start_time": "2022-03-23T10:55:06.194Z"
   },
   {
    "duration": 679,
    "start_time": "2022-03-23T11:00:00.870Z"
   },
   {
    "duration": 29,
    "start_time": "2022-03-23T11:00:01.551Z"
   },
   {
    "duration": 10,
    "start_time": "2022-03-23T11:00:01.582Z"
   },
   {
    "duration": 3832,
    "start_time": "2022-03-23T11:00:01.594Z"
   },
   {
    "duration": 0,
    "start_time": "2022-03-23T11:00:05.428Z"
   },
   {
    "duration": 0,
    "start_time": "2022-03-23T11:00:05.429Z"
   },
   {
    "duration": 4,
    "start_time": "2022-03-23T11:02:22.646Z"
   },
   {
    "duration": 4,
    "start_time": "2022-03-23T11:02:27.658Z"
   },
   {
    "duration": 6,
    "start_time": "2022-03-23T11:02:32.818Z"
   },
   {
    "duration": 28,
    "start_time": "2022-03-23T11:03:12.481Z"
   },
   {
    "duration": 2,
    "start_time": "2022-03-23T11:03:14.201Z"
   },
   {
    "duration": 11,
    "start_time": "2022-03-23T11:03:15.965Z"
   },
   {
    "duration": 4,
    "start_time": "2022-03-23T11:03:18.234Z"
   },
   {
    "duration": 3152,
    "start_time": "2022-03-23T11:03:20.493Z"
   },
   {
    "duration": 4,
    "start_time": "2022-03-23T11:03:38.778Z"
   },
   {
    "duration": 5,
    "start_time": "2022-03-23T11:03:50.012Z"
   },
   {
    "duration": 9,
    "start_time": "2022-03-23T11:09:40.223Z"
   },
   {
    "duration": 790,
    "start_time": "2022-03-23T11:09:45.087Z"
   },
   {
    "duration": 38,
    "start_time": "2022-03-23T11:09:48.889Z"
   },
   {
    "duration": 5,
    "start_time": "2022-03-23T11:10:17.478Z"
   },
   {
    "duration": 6,
    "start_time": "2022-03-23T11:10:44.183Z"
   },
   {
    "duration": 8,
    "start_time": "2022-03-23T11:13:23.783Z"
   },
   {
    "duration": 7,
    "start_time": "2022-03-23T11:13:49.385Z"
   },
   {
    "duration": 7,
    "start_time": "2022-03-23T11:14:11.733Z"
   },
   {
    "duration": 7,
    "start_time": "2022-03-23T11:15:52.826Z"
   },
   {
    "duration": 201,
    "start_time": "2022-03-23T11:17:14.618Z"
   },
   {
    "duration": 8,
    "start_time": "2022-03-23T11:17:21.274Z"
   },
   {
    "duration": 5,
    "start_time": "2022-03-23T11:17:38.986Z"
   },
   {
    "duration": 3,
    "start_time": "2022-03-23T11:18:13.218Z"
   },
   {
    "duration": 5,
    "start_time": "2022-03-23T11:18:26.687Z"
   },
   {
    "duration": 10,
    "start_time": "2022-03-23T11:20:06.961Z"
   },
   {
    "duration": 3,
    "start_time": "2022-03-23T11:20:12.064Z"
   },
   {
    "duration": 12,
    "start_time": "2022-03-23T11:20:13.676Z"
   },
   {
    "duration": 3,
    "start_time": "2022-03-23T11:24:19.316Z"
   },
   {
    "duration": 4,
    "start_time": "2022-03-23T11:24:49.999Z"
   },
   {
    "duration": 14,
    "start_time": "2022-03-23T11:25:38.032Z"
   },
   {
    "duration": 1422,
    "start_time": "2022-03-23T11:26:51.212Z"
   },
   {
    "duration": 29,
    "start_time": "2022-03-23T11:26:52.636Z"
   },
   {
    "duration": 10,
    "start_time": "2022-03-23T11:26:52.667Z"
   },
   {
    "duration": 7,
    "start_time": "2022-03-23T11:26:52.680Z"
   },
   {
    "duration": 4,
    "start_time": "2022-03-23T11:26:52.689Z"
   },
   {
    "duration": 7,
    "start_time": "2022-03-23T11:26:52.695Z"
   },
   {
    "duration": 13,
    "start_time": "2022-03-23T11:26:52.703Z"
   },
   {
    "duration": 308,
    "start_time": "2022-03-23T11:26:52.718Z"
   },
   {
    "duration": 0,
    "start_time": "2022-03-23T11:26:53.028Z"
   },
   {
    "duration": 3,
    "start_time": "2022-03-23T11:27:32.125Z"
   },
   {
    "duration": 216,
    "start_time": "2022-03-23T11:27:59.262Z"
   },
   {
    "duration": 146,
    "start_time": "2022-03-23T11:35:42.020Z"
   },
   {
    "duration": 151,
    "start_time": "2022-03-23T11:35:55.471Z"
   },
   {
    "duration": 3,
    "start_time": "2022-03-23T11:36:23.042Z"
   },
   {
    "duration": 148,
    "start_time": "2022-03-23T11:36:27.155Z"
   },
   {
    "duration": 148,
    "start_time": "2022-03-23T11:37:31.845Z"
   },
   {
    "duration": 152321,
    "start_time": "2022-03-23T11:38:43.765Z"
   },
   {
    "duration": 28,
    "start_time": "2022-03-23T11:55:25.890Z"
   },
   {
    "duration": 36,
    "start_time": "2022-03-23T11:55:43.074Z"
   },
   {
    "duration": 4,
    "start_time": "2022-03-23T11:57:32.525Z"
   },
   {
    "duration": 9,
    "start_time": "2022-03-23T12:21:44.045Z"
   },
   {
    "duration": 9,
    "start_time": "2022-03-23T12:21:54.997Z"
   },
   {
    "duration": 5,
    "start_time": "2022-03-23T12:24:21.449Z"
   },
   {
    "duration": 4,
    "start_time": "2022-03-23T12:24:31.586Z"
   },
   {
    "duration": 4,
    "start_time": "2022-03-23T12:34:49.160Z"
   },
   {
    "duration": 5,
    "start_time": "2022-03-23T12:37:22.530Z"
   },
   {
    "duration": 2,
    "start_time": "2022-03-23T12:37:38.481Z"
   },
   {
    "duration": 5,
    "start_time": "2022-03-23T12:37:48.893Z"
   },
   {
    "duration": 5,
    "start_time": "2022-03-23T12:39:23.442Z"
   },
   {
    "duration": 3,
    "start_time": "2022-03-23T12:39:43.042Z"
   },
   {
    "duration": 3,
    "start_time": "2022-03-23T12:39:44.183Z"
   },
   {
    "duration": 4,
    "start_time": "2022-03-23T12:39:52.411Z"
   },
   {
    "duration": 3,
    "start_time": "2022-03-23T12:40:14.072Z"
   },
   {
    "duration": 7,
    "start_time": "2022-03-23T12:40:56.666Z"
   },
   {
    "duration": 12,
    "start_time": "2022-03-23T12:42:32.299Z"
   },
   {
    "duration": 16,
    "start_time": "2022-03-23T12:42:48.295Z"
   },
   {
    "duration": 20,
    "start_time": "2022-03-23T12:42:54.441Z"
   },
   {
    "duration": 1943,
    "start_time": "2022-03-23T12:48:49.547Z"
   },
   {
    "duration": 50,
    "start_time": "2022-03-23T12:48:51.492Z"
   },
   {
    "duration": 4,
    "start_time": "2022-03-23T12:48:51.546Z"
   },
   {
    "duration": 12,
    "start_time": "2022-03-23T12:48:51.552Z"
   },
   {
    "duration": 4,
    "start_time": "2022-03-23T12:48:51.566Z"
   },
   {
    "duration": 5,
    "start_time": "2022-03-23T12:48:51.572Z"
   },
   {
    "duration": 14,
    "start_time": "2022-03-23T12:48:51.578Z"
   },
   {
    "duration": 8,
    "start_time": "2022-03-23T12:48:51.593Z"
   },
   {
    "duration": 14,
    "start_time": "2022-03-23T12:48:51.603Z"
   },
   {
    "duration": 6,
    "start_time": "2022-03-23T12:48:51.618Z"
   },
   {
    "duration": 7,
    "start_time": "2022-03-23T12:50:28.181Z"
   },
   {
    "duration": 1463,
    "start_time": "2022-03-23T12:51:56.328Z"
   },
   {
    "duration": 49,
    "start_time": "2022-03-23T12:51:57.793Z"
   },
   {
    "duration": 4,
    "start_time": "2022-03-23T12:51:57.844Z"
   },
   {
    "duration": 21,
    "start_time": "2022-03-23T12:51:57.850Z"
   },
   {
    "duration": 4,
    "start_time": "2022-03-23T12:51:57.873Z"
   },
   {
    "duration": 4,
    "start_time": "2022-03-23T12:51:57.878Z"
   },
   {
    "duration": 11,
    "start_time": "2022-03-23T12:51:57.884Z"
   },
   {
    "duration": 6,
    "start_time": "2022-03-23T12:51:57.897Z"
   },
   {
    "duration": 16,
    "start_time": "2022-03-23T12:51:57.905Z"
   },
   {
    "duration": 6,
    "start_time": "2022-03-23T12:51:57.923Z"
   },
   {
    "duration": 1478,
    "start_time": "2022-03-23T12:52:13.926Z"
   },
   {
    "duration": 37,
    "start_time": "2022-03-23T12:52:15.406Z"
   },
   {
    "duration": 4,
    "start_time": "2022-03-23T12:52:15.445Z"
   },
   {
    "duration": 15,
    "start_time": "2022-03-23T12:52:15.451Z"
   },
   {
    "duration": 6,
    "start_time": "2022-03-23T12:52:15.467Z"
   },
   {
    "duration": 6,
    "start_time": "2022-03-23T12:52:15.475Z"
   },
   {
    "duration": 7,
    "start_time": "2022-03-23T12:52:15.482Z"
   },
   {
    "duration": 12,
    "start_time": "2022-03-23T12:52:15.491Z"
   },
   {
    "duration": 13,
    "start_time": "2022-03-23T12:52:15.505Z"
   },
   {
    "duration": 6,
    "start_time": "2022-03-23T12:52:15.520Z"
   },
   {
    "duration": 4,
    "start_time": "2022-03-23T12:52:34.892Z"
   },
   {
    "duration": 42,
    "start_time": "2022-03-23T12:52:34.898Z"
   },
   {
    "duration": 4,
    "start_time": "2022-03-23T12:52:34.941Z"
   },
   {
    "duration": 26,
    "start_time": "2022-03-23T12:52:34.947Z"
   },
   {
    "duration": 6,
    "start_time": "2022-03-23T12:52:34.975Z"
   },
   {
    "duration": 12,
    "start_time": "2022-03-23T12:52:34.983Z"
   },
   {
    "duration": 16,
    "start_time": "2022-03-23T12:52:34.996Z"
   },
   {
    "duration": 33,
    "start_time": "2022-03-23T12:52:35.014Z"
   },
   {
    "duration": 51,
    "start_time": "2022-03-23T12:52:35.049Z"
   },
   {
    "duration": 17,
    "start_time": "2022-03-23T12:52:35.103Z"
   },
   {
    "duration": 13,
    "start_time": "2022-03-23T12:53:02.935Z"
   },
   {
    "duration": 6,
    "start_time": "2022-03-23T12:53:06.846Z"
   },
   {
    "duration": 6,
    "start_time": "2022-03-23T12:54:39.868Z"
   },
   {
    "duration": 7,
    "start_time": "2022-03-23T12:54:46.170Z"
   },
   {
    "duration": 6,
    "start_time": "2022-03-23T12:54:49.998Z"
   },
   {
    "duration": 6,
    "start_time": "2022-03-23T12:59:09.585Z"
   },
   {
    "duration": 13,
    "start_time": "2022-03-23T12:59:26.566Z"
   },
   {
    "duration": 14,
    "start_time": "2022-03-23T12:59:52.751Z"
   },
   {
    "duration": 97,
    "start_time": "2022-03-23T12:59:59.994Z"
   },
   {
    "duration": 14,
    "start_time": "2022-03-23T13:00:04.858Z"
   },
   {
    "duration": 7,
    "start_time": "2022-03-23T13:00:07.405Z"
   },
   {
    "duration": 14,
    "start_time": "2022-03-23T13:00:09.717Z"
   },
   {
    "duration": 8,
    "start_time": "2022-03-23T13:00:17.345Z"
   },
   {
    "duration": 7,
    "start_time": "2022-03-23T13:00:28.597Z"
   },
   {
    "duration": 7,
    "start_time": "2022-03-23T13:00:29.652Z"
   },
   {
    "duration": 8,
    "start_time": "2022-03-23T13:00:30.778Z"
   },
   {
    "duration": 8,
    "start_time": "2022-03-23T13:00:34.733Z"
   },
   {
    "duration": 7,
    "start_time": "2022-03-23T13:00:39.568Z"
   },
   {
    "duration": 11,
    "start_time": "2022-03-23T13:00:50.249Z"
   },
   {
    "duration": 10,
    "start_time": "2022-03-23T13:00:53.578Z"
   },
   {
    "duration": 12,
    "start_time": "2022-03-23T13:01:27.095Z"
   },
   {
    "duration": 10,
    "start_time": "2022-03-23T13:01:42.390Z"
   },
   {
    "duration": 11,
    "start_time": "2022-03-23T13:02:08.816Z"
   },
   {
    "duration": 10,
    "start_time": "2022-03-23T13:05:52.402Z"
   },
   {
    "duration": 9,
    "start_time": "2022-03-23T13:05:57.200Z"
   },
   {
    "duration": 4,
    "start_time": "2022-03-23T13:06:37.194Z"
   },
   {
    "duration": 4,
    "start_time": "2022-03-23T13:06:41.313Z"
   },
   {
    "duration": 7,
    "start_time": "2022-03-23T13:06:45.771Z"
   },
   {
    "duration": 15,
    "start_time": "2022-03-23T13:07:04.603Z"
   },
   {
    "duration": 10,
    "start_time": "2022-03-23T13:07:36.405Z"
   },
   {
    "duration": 16,
    "start_time": "2022-03-23T13:07:42.826Z"
   },
   {
    "duration": 33,
    "start_time": "2022-03-23T13:12:08.345Z"
   },
   {
    "duration": 27,
    "start_time": "2022-03-23T13:12:33.247Z"
   },
   {
    "duration": 8,
    "start_time": "2022-03-23T13:13:33.435Z"
   },
   {
    "duration": 4,
    "start_time": "2022-03-23T13:24:50.550Z"
   },
   {
    "duration": 4,
    "start_time": "2022-03-23T13:25:47.831Z"
   },
   {
    "duration": 4,
    "start_time": "2022-03-23T13:25:53.923Z"
   },
   {
    "duration": 212,
    "start_time": "2022-03-23T13:26:40.637Z"
   },
   {
    "duration": 193,
    "start_time": "2022-03-23T13:27:28.352Z"
   },
   {
    "duration": 3,
    "start_time": "2022-03-23T13:27:41.018Z"
   },
   {
    "duration": 3,
    "start_time": "2022-03-23T13:28:14.909Z"
   },
   {
    "duration": 32,
    "start_time": "2022-03-23T13:28:17.108Z"
   },
   {
    "duration": 4,
    "start_time": "2022-03-23T13:28:19.829Z"
   },
   {
    "duration": 5,
    "start_time": "2022-03-23T13:28:21.749Z"
   },
   {
    "duration": 7,
    "start_time": "2022-03-23T13:28:23.974Z"
   },
   {
    "duration": 6,
    "start_time": "2022-03-23T13:28:26.385Z"
   },
   {
    "duration": 190,
    "start_time": "2022-03-23T13:28:27.945Z"
   },
   {
    "duration": 201,
    "start_time": "2022-03-23T13:28:43.259Z"
   },
   {
    "duration": 5,
    "start_time": "2022-03-23T13:29:41.372Z"
   },
   {
    "duration": 8,
    "start_time": "2022-03-23T13:30:59.587Z"
   },
   {
    "duration": 6,
    "start_time": "2022-03-23T13:33:05.089Z"
   },
   {
    "duration": 5,
    "start_time": "2022-03-23T13:33:30.181Z"
   },
   {
    "duration": 10,
    "start_time": "2022-03-23T13:33:49.504Z"
   },
   {
    "duration": 558,
    "start_time": "2022-03-23T16:20:17.120Z"
   },
   {
    "duration": 205,
    "start_time": "2022-03-23T16:20:31.386Z"
   },
   {
    "duration": 10,
    "start_time": "2022-03-23T16:20:49.467Z"
   },
   {
    "duration": 4,
    "start_time": "2022-03-23T16:21:00.549Z"
   },
   {
    "duration": 4,
    "start_time": "2022-03-23T16:22:58.900Z"
   },
   {
    "duration": 4,
    "start_time": "2022-03-23T16:23:10.130Z"
   },
   {
    "duration": 10,
    "start_time": "2022-03-23T16:36:19.568Z"
   },
   {
    "duration": 4,
    "start_time": "2022-03-23T16:36:29.983Z"
   },
   {
    "duration": 4,
    "start_time": "2022-03-23T16:36:34.167Z"
   },
   {
    "duration": 5,
    "start_time": "2022-03-23T16:36:43.281Z"
   },
   {
    "duration": 10,
    "start_time": "2022-03-23T16:36:54.825Z"
   },
   {
    "duration": 5,
    "start_time": "2022-03-23T16:37:01.454Z"
   },
   {
    "duration": 13,
    "start_time": "2022-03-23T16:37:07.570Z"
   },
   {
    "duration": 7,
    "start_time": "2022-03-23T16:37:13.091Z"
   },
   {
    "duration": 6,
    "start_time": "2022-03-23T16:37:18.366Z"
   },
   {
    "duration": 13,
    "start_time": "2022-03-23T16:37:25.161Z"
   },
   {
    "duration": 13,
    "start_time": "2022-03-23T16:37:29.807Z"
   },
   {
    "duration": 4,
    "start_time": "2022-03-23T16:37:50.286Z"
   },
   {
    "duration": 4,
    "start_time": "2022-03-23T16:37:54.045Z"
   },
   {
    "duration": 5,
    "start_time": "2022-03-23T16:38:13.641Z"
   },
   {
    "duration": 4,
    "start_time": "2022-03-23T16:38:23.922Z"
   },
   {
    "duration": 5,
    "start_time": "2022-03-23T16:38:30.410Z"
   },
   {
    "duration": 5,
    "start_time": "2022-03-23T16:38:37.620Z"
   },
   {
    "duration": 5,
    "start_time": "2022-03-23T16:39:29.792Z"
   },
   {
    "duration": 3,
    "start_time": "2022-03-23T16:39:40.114Z"
   },
   {
    "duration": 10,
    "start_time": "2022-03-23T16:39:51.313Z"
   },
   {
    "duration": 5,
    "start_time": "2022-03-23T16:40:01.093Z"
   },
   {
    "duration": 10,
    "start_time": "2022-03-23T16:41:25.574Z"
   },
   {
    "duration": 5,
    "start_time": "2022-03-23T16:42:12.154Z"
   },
   {
    "duration": 6,
    "start_time": "2022-03-23T16:42:29.169Z"
   },
   {
    "duration": 6,
    "start_time": "2022-03-23T16:42:39.496Z"
   },
   {
    "duration": 4,
    "start_time": "2022-03-23T16:42:48.970Z"
   },
   {
    "duration": 6,
    "start_time": "2022-03-23T16:43:09.858Z"
   },
   {
    "duration": 5,
    "start_time": "2022-03-23T16:43:30.338Z"
   },
   {
    "duration": 14,
    "start_time": "2022-03-23T16:46:11.035Z"
   },
   {
    "duration": 8,
    "start_time": "2022-03-23T16:46:22.073Z"
   },
   {
    "duration": 10,
    "start_time": "2022-03-23T16:47:46.667Z"
   },
   {
    "duration": 8,
    "start_time": "2022-03-23T16:48:45.159Z"
   },
   {
    "duration": 10,
    "start_time": "2022-03-23T16:54:54.172Z"
   },
   {
    "duration": 9,
    "start_time": "2022-03-23T16:55:04.848Z"
   },
   {
    "duration": 11,
    "start_time": "2022-03-23T16:56:22.649Z"
   },
   {
    "duration": 7,
    "start_time": "2022-03-23T16:56:26.959Z"
   },
   {
    "duration": 11,
    "start_time": "2022-03-23T17:00:11.390Z"
   },
   {
    "duration": 11,
    "start_time": "2022-03-23T17:00:39.534Z"
   },
   {
    "duration": 8,
    "start_time": "2022-03-23T17:00:52.534Z"
   },
   {
    "duration": 10,
    "start_time": "2022-03-23T17:01:27.207Z"
   },
   {
    "duration": 50,
    "start_time": "2022-03-24T11:02:22.444Z"
   },
   {
    "duration": 1625,
    "start_time": "2022-03-24T11:02:25.576Z"
   },
   {
    "duration": 70,
    "start_time": "2022-03-24T11:02:27.842Z"
   },
   {
    "duration": 19,
    "start_time": "2022-03-24T11:02:32.046Z"
   },
   {
    "duration": 36,
    "start_time": "2022-03-24T11:02:33.604Z"
   },
   {
    "duration": 34,
    "start_time": "2022-03-24T11:03:35.919Z"
   },
   {
    "duration": 33,
    "start_time": "2022-03-24T11:03:36.016Z"
   },
   {
    "duration": 35,
    "start_time": "2022-03-24T11:03:36.624Z"
   },
   {
    "duration": 39,
    "start_time": "2022-03-24T11:03:57.754Z"
   },
   {
    "duration": 46,
    "start_time": "2022-03-24T11:04:12.661Z"
   },
   {
    "duration": 48,
    "start_time": "2022-03-24T11:15:28.966Z"
   },
   {
    "duration": 47,
    "start_time": "2022-03-24T11:15:45.687Z"
   },
   {
    "duration": 48,
    "start_time": "2022-03-24T11:16:14.117Z"
   },
   {
    "duration": 48,
    "start_time": "2022-03-24T11:16:27.115Z"
   },
   {
    "duration": 6,
    "start_time": "2022-03-24T11:17:36.949Z"
   },
   {
    "duration": 9,
    "start_time": "2022-03-24T11:17:51.264Z"
   },
   {
    "duration": 3,
    "start_time": "2022-03-24T11:50:03.408Z"
   },
   {
    "duration": 38,
    "start_time": "2022-03-24T11:50:03.413Z"
   },
   {
    "duration": 55,
    "start_time": "2022-03-24T11:50:03.454Z"
   },
   {
    "duration": 9,
    "start_time": "2022-03-24T11:50:03.510Z"
   },
   {
    "duration": 15,
    "start_time": "2022-03-24T11:50:03.521Z"
   },
   {
    "duration": 29,
    "start_time": "2022-03-24T11:50:03.538Z"
   },
   {
    "duration": 4,
    "start_time": "2022-03-24T11:50:03.569Z"
   },
   {
    "duration": 7,
    "start_time": "2022-03-24T11:50:03.584Z"
   },
   {
    "duration": 7,
    "start_time": "2022-03-24T11:50:53.304Z"
   },
   {
    "duration": 7,
    "start_time": "2022-03-24T11:51:55.895Z"
   },
   {
    "duration": 9,
    "start_time": "2022-03-24T11:52:12.836Z"
   },
   {
    "duration": 9,
    "start_time": "2022-03-24T11:54:39.851Z"
   },
   {
    "duration": 14,
    "start_time": "2022-03-24T11:55:59.011Z"
   },
   {
    "duration": 13,
    "start_time": "2022-03-24T11:56:06.417Z"
   },
   {
    "duration": 175,
    "start_time": "2022-03-24T11:56:11.159Z"
   },
   {
    "duration": 20,
    "start_time": "2022-03-24T11:56:15.356Z"
   },
   {
    "duration": 17,
    "start_time": "2022-03-24T11:56:55.277Z"
   },
   {
    "duration": 21,
    "start_time": "2022-03-24T11:57:27.740Z"
   },
   {
    "duration": 19,
    "start_time": "2022-03-24T11:57:33.694Z"
   },
   {
    "duration": 18,
    "start_time": "2022-03-24T11:57:37.187Z"
   },
   {
    "duration": 16,
    "start_time": "2022-03-24T11:57:52.586Z"
   },
   {
    "duration": 19,
    "start_time": "2022-03-24T11:58:01.340Z"
   },
   {
    "duration": 19,
    "start_time": "2022-03-24T11:58:08.697Z"
   },
   {
    "duration": 19,
    "start_time": "2022-03-24T11:58:54.949Z"
   },
   {
    "duration": 19,
    "start_time": "2022-03-24T11:58:59.781Z"
   },
   {
    "duration": 18,
    "start_time": "2022-03-24T11:59:06.519Z"
   },
   {
    "duration": 18,
    "start_time": "2022-03-24T11:59:12.177Z"
   },
   {
    "duration": 18,
    "start_time": "2022-03-24T11:59:15.459Z"
   },
   {
    "duration": 19,
    "start_time": "2022-03-24T11:59:19.906Z"
   },
   {
    "duration": 18,
    "start_time": "2022-03-24T11:59:24.140Z"
   },
   {
    "duration": 19,
    "start_time": "2022-03-24T11:59:35.613Z"
   },
   {
    "duration": 18,
    "start_time": "2022-03-24T11:59:49.131Z"
   },
   {
    "duration": 12,
    "start_time": "2022-03-24T12:00:22.310Z"
   },
   {
    "duration": 20,
    "start_time": "2022-03-24T12:00:58.712Z"
   },
   {
    "duration": 12,
    "start_time": "2022-03-24T12:01:09.880Z"
   },
   {
    "duration": 11,
    "start_time": "2022-03-24T12:07:14.433Z"
   },
   {
    "duration": 10,
    "start_time": "2022-03-24T12:08:05.259Z"
   },
   {
    "duration": 10,
    "start_time": "2022-03-24T12:09:09.293Z"
   },
   {
    "duration": 10,
    "start_time": "2022-03-24T12:09:19.740Z"
   },
   {
    "duration": 10,
    "start_time": "2022-03-24T12:09:41.943Z"
   },
   {
    "duration": 10,
    "start_time": "2022-03-24T12:51:54.525Z"
   },
   {
    "duration": 1573,
    "start_time": "2022-03-24T12:56:48.220Z"
   },
   {
    "duration": 95,
    "start_time": "2022-03-24T12:56:49.795Z"
   },
   {
    "duration": 54,
    "start_time": "2022-03-24T12:56:49.892Z"
   },
   {
    "duration": 8,
    "start_time": "2022-03-24T12:56:49.949Z"
   },
   {
    "duration": 14,
    "start_time": "2022-03-24T12:56:49.959Z"
   },
   {
    "duration": 8,
    "start_time": "2022-03-24T12:56:49.975Z"
   },
   {
    "duration": 5,
    "start_time": "2022-03-24T12:56:49.985Z"
   },
   {
    "duration": 16,
    "start_time": "2022-03-24T12:56:49.992Z"
   },
   {
    "duration": 29,
    "start_time": "2022-03-24T12:56:50.010Z"
   },
   {
    "duration": 37,
    "start_time": "2022-03-24T12:56:50.042Z"
   },
   {
    "duration": 1341,
    "start_time": "2022-04-03T11:31:38.354Z"
   },
   {
    "duration": 12,
    "start_time": "2022-04-03T11:31:39.697Z"
   },
   {
    "duration": 47,
    "start_time": "2022-04-03T11:31:39.711Z"
   },
   {
    "duration": 7,
    "start_time": "2022-04-03T11:31:39.760Z"
   },
   {
    "duration": 4,
    "start_time": "2022-04-03T11:31:39.768Z"
   },
   {
    "duration": 6,
    "start_time": "2022-04-03T11:31:39.773Z"
   },
   {
    "duration": 649,
    "start_time": "2022-04-03T11:31:39.780Z"
   },
   {
    "duration": 12,
    "start_time": "2022-04-03T11:31:40.431Z"
   },
   {
    "duration": 9,
    "start_time": "2022-04-03T11:31:40.445Z"
   },
   {
    "duration": 11,
    "start_time": "2022-04-03T11:31:40.456Z"
   }
  ],
  "kernelspec": {
   "display_name": "Python 3 (ipykernel)",
   "language": "python",
   "name": "python3"
  },
  "language_info": {
   "codemirror_mode": {
    "name": "ipython",
    "version": 3
   },
   "file_extension": ".py",
   "mimetype": "text/x-python",
   "name": "python",
   "nbconvert_exporter": "python",
   "pygments_lexer": "ipython3",
   "version": "3.9.5"
  },
  "toc": {
   "base_numbering": 1,
   "nav_menu": {},
   "number_sections": true,
   "sideBar": true,
   "skip_h1_title": true,
   "title_cell": "Содержание",
   "title_sidebar": "Contents",
   "toc_cell": true,
   "toc_position": {
    "height": "calc(100% - 180px)",
    "left": "10px",
    "top": "150px",
    "width": "366.391px"
   },
   "toc_section_display": true,
   "toc_window_display": true
  }
 },
 "nbformat": 4,
 "nbformat_minor": 2
}
