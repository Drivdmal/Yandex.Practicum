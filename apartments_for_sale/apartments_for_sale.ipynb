{
 "cells": [
  {
   "cell_type": "markdown",
   "metadata": {
    "toc": true
   },
   "source": [
    "<h1>Содержание<span class=\"tocSkip\"></span></h1>\n",
    "<div class=\"toc\"><ul class=\"toc-item\"><li><span><a href=\"#Изучение-данных-из-файла\" data-toc-modified-id=\"Изучение-данных-из-файла-1\"><span class=\"toc-item-num\">1&nbsp;&nbsp;</span>Изучение данных из файла</a></span><ul class=\"toc-item\"><li><span><a href=\"#Вывод\" data-toc-modified-id=\"Вывод-1.1\"><span class=\"toc-item-num\">1.1&nbsp;&nbsp;</span>Вывод</a></span></li></ul></li><li><span><a href=\"#Предобработка-данных\" data-toc-modified-id=\"Предобработка-данных-2\"><span class=\"toc-item-num\">2&nbsp;&nbsp;</span>Предобработка данных</a></span></li><li><span><a href=\"#Расчёты-и-добавление-результатов-в-таблицу\" data-toc-modified-id=\"Расчёты-и-добавление-результатов-в-таблицу-3\"><span class=\"toc-item-num\">3&nbsp;&nbsp;</span>Расчёты и добавление результатов в таблицу</a></span></li><li><span><a href=\"#Исследовательский-анализ-данных\" data-toc-modified-id=\"Исследовательский-анализ-данных-4\"><span class=\"toc-item-num\">4&nbsp;&nbsp;</span>Исследовательский анализ данных</a></span></li><li><span><a href=\"#Общий-вывод\" data-toc-modified-id=\"Общий-вывод-5\"><span class=\"toc-item-num\">5&nbsp;&nbsp;</span>Общий вывод</a></span></li><li><span><a href=\"#Чек-лист-готовности-проекта\" data-toc-modified-id=\"Чек-лист-готовности-проекта-6\"><span class=\"toc-item-num\">6&nbsp;&nbsp;</span>Чек-лист готовности проекта</a></span></li></ul></div>"
   ]
  },
  {
   "cell_type": "markdown",
   "metadata": {},
   "source": [
    "# Исследование объявлений о продаже квартир\n",
    "\n",
    "В вашем распоряжении данные сервиса Яндекс.Недвижимость — архив объявлений о продаже квартир в Санкт-Петербурге и соседних населённых пунктах за несколько лет. Нужно научиться определять рыночную стоимость объектов недвижимости. Ваша задача — установить параметры. Это позволит построить автоматизированную систему: она отследит аномалии и мошенническую деятельность. \n",
    "\n",
    "По каждой квартире на продажу доступны два вида данных. Первые вписаны пользователем, вторые получены автоматически на основе картографических данных. Например, расстояние до центра, аэропорта, ближайшего парка и водоёма. "
   ]
  },
  {
   "cell_type": "markdown",
   "metadata": {},
   "source": [
    "## Изучение данных из файла"
   ]
  },
  {
   "cell_type": "code",
   "execution_count": 42,
   "metadata": {
    "collapsed": true
   },
   "outputs": [],
   "source": [
    "import pandas as pd\n",
    "from matplotlib import pyplot as plt\n",
    "# plt.style.use('dark_background')\n",
    "df = pd.read_csv('/datasets/real_estate_data.csv', sep='\\t')"
   ]
  },
  {
   "cell_type": "markdown",
   "metadata": {},
   "source": [
    "<div style=\"color: white; border:solid green 2px; padding: 20px; background: LightSeaGreen\">\n",
    "    <p>Файл открыт, разделитель значений - табуляция. <p>Зададим стиль для plt - темная тема.</p>   \n",
    "</div>"
   ]
  },
  {
   "cell_type": "code",
   "execution_count": 43,
   "metadata": {
    "scrolled": true
   },
   "outputs": [
    {
     "data": {
      "text/html": [
       "<div>\n",
       "<style scoped>\n",
       "    .dataframe tbody tr th:only-of-type {\n",
       "        vertical-align: middle;\n",
       "    }\n",
       "\n",
       "    .dataframe tbody tr th {\n",
       "        vertical-align: top;\n",
       "    }\n",
       "\n",
       "    .dataframe thead th {\n",
       "        text-align: right;\n",
       "    }\n",
       "</style>\n",
       "<table border=\"1\" class=\"dataframe\">\n",
       "  <thead>\n",
       "    <tr style=\"text-align: right;\">\n",
       "      <th></th>\n",
       "      <th>total_images</th>\n",
       "      <th>last_price</th>\n",
       "      <th>total_area</th>\n",
       "      <th>first_day_exposition</th>\n",
       "      <th>rooms</th>\n",
       "      <th>ceiling_height</th>\n",
       "      <th>floors_total</th>\n",
       "      <th>living_area</th>\n",
       "      <th>floor</th>\n",
       "      <th>is_apartment</th>\n",
       "      <th>...</th>\n",
       "      <th>kitchen_area</th>\n",
       "      <th>balcony</th>\n",
       "      <th>locality_name</th>\n",
       "      <th>airports_nearest</th>\n",
       "      <th>cityCenters_nearest</th>\n",
       "      <th>parks_around3000</th>\n",
       "      <th>parks_nearest</th>\n",
       "      <th>ponds_around3000</th>\n",
       "      <th>ponds_nearest</th>\n",
       "      <th>days_exposition</th>\n",
       "    </tr>\n",
       "  </thead>\n",
       "  <tbody>\n",
       "    <tr>\n",
       "      <td>0</td>\n",
       "      <td>20</td>\n",
       "      <td>13000000.0</td>\n",
       "      <td>108.0</td>\n",
       "      <td>2019-03-07T00:00:00</td>\n",
       "      <td>3</td>\n",
       "      <td>2.70</td>\n",
       "      <td>16.0</td>\n",
       "      <td>51.0</td>\n",
       "      <td>8</td>\n",
       "      <td>NaN</td>\n",
       "      <td>...</td>\n",
       "      <td>25.0</td>\n",
       "      <td>NaN</td>\n",
       "      <td>Санкт-Петербург</td>\n",
       "      <td>18863.0</td>\n",
       "      <td>16028.0</td>\n",
       "      <td>1.0</td>\n",
       "      <td>482.0</td>\n",
       "      <td>2.0</td>\n",
       "      <td>755.0</td>\n",
       "      <td>NaN</td>\n",
       "    </tr>\n",
       "    <tr>\n",
       "      <td>1</td>\n",
       "      <td>7</td>\n",
       "      <td>3350000.0</td>\n",
       "      <td>40.4</td>\n",
       "      <td>2018-12-04T00:00:00</td>\n",
       "      <td>1</td>\n",
       "      <td>NaN</td>\n",
       "      <td>11.0</td>\n",
       "      <td>18.6</td>\n",
       "      <td>1</td>\n",
       "      <td>NaN</td>\n",
       "      <td>...</td>\n",
       "      <td>11.0</td>\n",
       "      <td>2.0</td>\n",
       "      <td>посёлок Шушары</td>\n",
       "      <td>12817.0</td>\n",
       "      <td>18603.0</td>\n",
       "      <td>0.0</td>\n",
       "      <td>NaN</td>\n",
       "      <td>0.0</td>\n",
       "      <td>NaN</td>\n",
       "      <td>81.0</td>\n",
       "    </tr>\n",
       "    <tr>\n",
       "      <td>2</td>\n",
       "      <td>10</td>\n",
       "      <td>5196000.0</td>\n",
       "      <td>56.0</td>\n",
       "      <td>2015-08-20T00:00:00</td>\n",
       "      <td>2</td>\n",
       "      <td>NaN</td>\n",
       "      <td>5.0</td>\n",
       "      <td>34.3</td>\n",
       "      <td>4</td>\n",
       "      <td>NaN</td>\n",
       "      <td>...</td>\n",
       "      <td>8.3</td>\n",
       "      <td>0.0</td>\n",
       "      <td>Санкт-Петербург</td>\n",
       "      <td>21741.0</td>\n",
       "      <td>13933.0</td>\n",
       "      <td>1.0</td>\n",
       "      <td>90.0</td>\n",
       "      <td>2.0</td>\n",
       "      <td>574.0</td>\n",
       "      <td>558.0</td>\n",
       "    </tr>\n",
       "    <tr>\n",
       "      <td>3</td>\n",
       "      <td>0</td>\n",
       "      <td>64900000.0</td>\n",
       "      <td>159.0</td>\n",
       "      <td>2015-07-24T00:00:00</td>\n",
       "      <td>3</td>\n",
       "      <td>NaN</td>\n",
       "      <td>14.0</td>\n",
       "      <td>NaN</td>\n",
       "      <td>9</td>\n",
       "      <td>NaN</td>\n",
       "      <td>...</td>\n",
       "      <td>NaN</td>\n",
       "      <td>0.0</td>\n",
       "      <td>Санкт-Петербург</td>\n",
       "      <td>28098.0</td>\n",
       "      <td>6800.0</td>\n",
       "      <td>2.0</td>\n",
       "      <td>84.0</td>\n",
       "      <td>3.0</td>\n",
       "      <td>234.0</td>\n",
       "      <td>424.0</td>\n",
       "    </tr>\n",
       "    <tr>\n",
       "      <td>4</td>\n",
       "      <td>2</td>\n",
       "      <td>10000000.0</td>\n",
       "      <td>100.0</td>\n",
       "      <td>2018-06-19T00:00:00</td>\n",
       "      <td>2</td>\n",
       "      <td>3.03</td>\n",
       "      <td>14.0</td>\n",
       "      <td>32.0</td>\n",
       "      <td>13</td>\n",
       "      <td>NaN</td>\n",
       "      <td>...</td>\n",
       "      <td>41.0</td>\n",
       "      <td>NaN</td>\n",
       "      <td>Санкт-Петербург</td>\n",
       "      <td>31856.0</td>\n",
       "      <td>8098.0</td>\n",
       "      <td>2.0</td>\n",
       "      <td>112.0</td>\n",
       "      <td>1.0</td>\n",
       "      <td>48.0</td>\n",
       "      <td>121.0</td>\n",
       "    </tr>\n",
       "  </tbody>\n",
       "</table>\n",
       "<p>5 rows × 22 columns</p>\n",
       "</div>"
      ],
      "text/plain": [
       "   total_images  last_price  total_area first_day_exposition  rooms  \\\n",
       "0            20  13000000.0       108.0  2019-03-07T00:00:00      3   \n",
       "1             7   3350000.0        40.4  2018-12-04T00:00:00      1   \n",
       "2            10   5196000.0        56.0  2015-08-20T00:00:00      2   \n",
       "3             0  64900000.0       159.0  2015-07-24T00:00:00      3   \n",
       "4             2  10000000.0       100.0  2018-06-19T00:00:00      2   \n",
       "\n",
       "   ceiling_height  floors_total  living_area  floor is_apartment  ...  \\\n",
       "0            2.70          16.0         51.0      8          NaN  ...   \n",
       "1             NaN          11.0         18.6      1          NaN  ...   \n",
       "2             NaN           5.0         34.3      4          NaN  ...   \n",
       "3             NaN          14.0          NaN      9          NaN  ...   \n",
       "4            3.03          14.0         32.0     13          NaN  ...   \n",
       "\n",
       "   kitchen_area  balcony    locality_name  airports_nearest  \\\n",
       "0          25.0      NaN  Санкт-Петербург           18863.0   \n",
       "1          11.0      2.0   посёлок Шушары           12817.0   \n",
       "2           8.3      0.0  Санкт-Петербург           21741.0   \n",
       "3           NaN      0.0  Санкт-Петербург           28098.0   \n",
       "4          41.0      NaN  Санкт-Петербург           31856.0   \n",
       "\n",
       "  cityCenters_nearest  parks_around3000  parks_nearest  ponds_around3000  \\\n",
       "0             16028.0               1.0          482.0               2.0   \n",
       "1             18603.0               0.0            NaN               0.0   \n",
       "2             13933.0               1.0           90.0               2.0   \n",
       "3              6800.0               2.0           84.0               3.0   \n",
       "4              8098.0               2.0          112.0               1.0   \n",
       "\n",
       "   ponds_nearest  days_exposition  \n",
       "0          755.0              NaN  \n",
       "1            NaN             81.0  \n",
       "2          574.0            558.0  \n",
       "3          234.0            424.0  \n",
       "4           48.0            121.0  \n",
       "\n",
       "[5 rows x 22 columns]"
      ]
     },
     "execution_count": 43,
     "metadata": {},
     "output_type": "execute_result"
    }
   ],
   "source": [
    "df.head()"
   ]
  },
  {
   "cell_type": "markdown",
   "metadata": {},
   "source": [
    "<div style=\"color: white; border:solid green 2px; padding: 20px; background: LightSeaGreen\">\n",
    "Посмотрим первые 10 строк: первое знакомство с базой данных, уже с первых строк видны пропуски, есть типы значений int, float, object, посмотрим более детально.\n",
    "</div>"
   ]
  },
  {
   "cell_type": "code",
   "execution_count": 3,
   "metadata": {},
   "outputs": [
    {
     "name": "stdout",
     "output_type": "stream",
     "text": [
      "<class 'pandas.core.frame.DataFrame'>\n",
      "RangeIndex: 23699 entries, 0 to 23698\n",
      "Data columns (total 22 columns):\n",
      "total_images            23699 non-null int64\n",
      "last_price              23699 non-null float64\n",
      "total_area              23699 non-null float64\n",
      "first_day_exposition    23699 non-null object\n",
      "rooms                   23699 non-null int64\n",
      "ceiling_height          14504 non-null float64\n",
      "floors_total            23613 non-null float64\n",
      "living_area             21796 non-null float64\n",
      "floor                   23699 non-null int64\n",
      "is_apartment            2775 non-null object\n",
      "studio                  23699 non-null bool\n",
      "open_plan               23699 non-null bool\n",
      "kitchen_area            21421 non-null float64\n",
      "balcony                 12180 non-null float64\n",
      "locality_name           23650 non-null object\n",
      "airports_nearest        18157 non-null float64\n",
      "cityCenters_nearest     18180 non-null float64\n",
      "parks_around3000        18181 non-null float64\n",
      "parks_nearest           8079 non-null float64\n",
      "ponds_around3000        18181 non-null float64\n",
      "ponds_nearest           9110 non-null float64\n",
      "days_exposition         20518 non-null float64\n",
      "dtypes: bool(2), float64(14), int64(3), object(3)\n",
      "memory usage: 3.7+ MB\n"
     ]
    }
   ],
   "source": [
    "#общие сведения\n",
    "df.info()"
   ]
  },
  {
   "cell_type": "code",
   "execution_count": 4,
   "metadata": {},
   "outputs": [
    {
     "data": {
      "text/plain": [
       "total_images            0.000000\n",
       "last_price              0.000000\n",
       "total_area              0.000000\n",
       "first_day_exposition    0.000000\n",
       "rooms                   0.000000\n",
       "ceiling_height          0.387991\n",
       "floors_total            0.003629\n",
       "living_area             0.080299\n",
       "floor                   0.000000\n",
       "is_apartment            0.882906\n",
       "studio                  0.000000\n",
       "open_plan               0.000000\n",
       "kitchen_area            0.096122\n",
       "balcony                 0.486054\n",
       "locality_name           0.002068\n",
       "airports_nearest        0.233850\n",
       "cityCenters_nearest     0.232879\n",
       "parks_around3000        0.232837\n",
       "parks_nearest           0.659100\n",
       "ponds_around3000        0.232837\n",
       "ponds_nearest           0.615596\n",
       "days_exposition         0.134225\n",
       "dtype: float64"
      ]
     },
     "execution_count": 4,
     "metadata": {},
     "output_type": "execute_result"
    }
   ],
   "source": [
    "# пропуски в процентках\n",
    "df.isna().mean()"
   ]
  },
  {
   "cell_type": "markdown",
   "metadata": {},
   "source": [
    "<div style=\"color: white; border:solid green 2px; padding: 20px; background: LightSeaGreen\">\n",
    "<b>\n",
    "    <p>Есть пропущенные данные в столбцах: </p>\n",
    "        <ul>\n",
    "            <li>ceiling_height      39%</li>\n",
    "            <li>floors_total        0,4%</li>\n",
    "            <li>living_area         8%</li>\n",
    "            <li>is_apartment        88%</li>\n",
    "            <li>kitchen_area        10%</li>\n",
    "            <li>balcony             49%</li>\n",
    "            <li>locality_name       0,2%</li>\n",
    "            <li>airports_nearest    23%</li>\n",
    "            <li>cityCenters_nearest 23%</li>\n",
    "            <li>parks_around3000    23%</li>\n",
    "            <li>parks_nearest       66%</li>\n",
    "            <li>ponds_around3000    23%</li>\n",
    "            <li>ponds_nearest       62%</li>\n",
    "            <li>days_exposition     13%</li>\n",
    "        </ul>\n",
    "</div>"
   ]
  },
  {
   "cell_type": "code",
   "execution_count": 5,
   "metadata": {},
   "outputs": [
    {
     "data": {
      "text/plain": [
       "Index(['total_images', 'last_price', 'total_area', 'first_day_exposition',\n",
       "       'rooms', 'ceiling_height', 'floors_total', 'living_area', 'floor',\n",
       "       'is_apartment', 'studio', 'open_plan', 'kitchen_area', 'balcony',\n",
       "       'locality_name', 'airports_nearest', 'cityCenters_nearest',\n",
       "       'parks_around3000', 'parks_nearest', 'ponds_around3000',\n",
       "       'ponds_nearest', 'days_exposition'],\n",
       "      dtype='object')"
      ]
     },
     "execution_count": 5,
     "metadata": {},
     "output_type": "execute_result"
    }
   ],
   "source": [
    "df.columns"
   ]
  },
  {
   "cell_type": "markdown",
   "metadata": {},
   "source": [
    "<div style=\"color: white; border:solid green 2px; padding: 20px; background: LightSeaGreen\">\n",
    "Названия колонок нормальные, изменять не требуется\n",
    "</div>"
   ]
  },
  {
   "cell_type": "code",
   "execution_count": 6,
   "metadata": {},
   "outputs": [
    {
     "data": {
      "text/html": [
       "<div>\n",
       "<style scoped>\n",
       "    .dataframe tbody tr th:only-of-type {\n",
       "        vertical-align: middle;\n",
       "    }\n",
       "\n",
       "    .dataframe tbody tr th {\n",
       "        vertical-align: top;\n",
       "    }\n",
       "\n",
       "    .dataframe thead th {\n",
       "        text-align: right;\n",
       "    }\n",
       "</style>\n",
       "<table border=\"1\" class=\"dataframe\">\n",
       "  <thead>\n",
       "    <tr style=\"text-align: right;\">\n",
       "      <th></th>\n",
       "      <th>total_images</th>\n",
       "      <th>last_price</th>\n",
       "      <th>total_area</th>\n",
       "      <th>rooms</th>\n",
       "      <th>ceiling_height</th>\n",
       "      <th>floors_total</th>\n",
       "      <th>living_area</th>\n",
       "      <th>floor</th>\n",
       "      <th>kitchen_area</th>\n",
       "      <th>balcony</th>\n",
       "      <th>airports_nearest</th>\n",
       "      <th>cityCenters_nearest</th>\n",
       "      <th>parks_around3000</th>\n",
       "      <th>parks_nearest</th>\n",
       "      <th>ponds_around3000</th>\n",
       "      <th>ponds_nearest</th>\n",
       "      <th>days_exposition</th>\n",
       "    </tr>\n",
       "  </thead>\n",
       "  <tbody>\n",
       "    <tr>\n",
       "      <td>count</td>\n",
       "      <td>23699.000000</td>\n",
       "      <td>2.369900e+04</td>\n",
       "      <td>23699.000000</td>\n",
       "      <td>23699.000000</td>\n",
       "      <td>14504.000000</td>\n",
       "      <td>23613.000000</td>\n",
       "      <td>21796.000000</td>\n",
       "      <td>23699.000000</td>\n",
       "      <td>21421.000000</td>\n",
       "      <td>12180.000000</td>\n",
       "      <td>18157.000000</td>\n",
       "      <td>18180.000000</td>\n",
       "      <td>18181.000000</td>\n",
       "      <td>8079.000000</td>\n",
       "      <td>18181.000000</td>\n",
       "      <td>9110.000000</td>\n",
       "      <td>20518.000000</td>\n",
       "    </tr>\n",
       "    <tr>\n",
       "      <td>mean</td>\n",
       "      <td>9.858475</td>\n",
       "      <td>6.541549e+06</td>\n",
       "      <td>60.348651</td>\n",
       "      <td>2.070636</td>\n",
       "      <td>2.771499</td>\n",
       "      <td>10.673824</td>\n",
       "      <td>34.457852</td>\n",
       "      <td>5.892358</td>\n",
       "      <td>10.569807</td>\n",
       "      <td>1.150082</td>\n",
       "      <td>28793.672193</td>\n",
       "      <td>14191.277833</td>\n",
       "      <td>0.611408</td>\n",
       "      <td>490.804555</td>\n",
       "      <td>0.770255</td>\n",
       "      <td>517.980900</td>\n",
       "      <td>180.888634</td>\n",
       "    </tr>\n",
       "    <tr>\n",
       "      <td>std</td>\n",
       "      <td>5.682529</td>\n",
       "      <td>1.088701e+07</td>\n",
       "      <td>35.654083</td>\n",
       "      <td>1.078405</td>\n",
       "      <td>1.261056</td>\n",
       "      <td>6.597173</td>\n",
       "      <td>22.030445</td>\n",
       "      <td>4.885249</td>\n",
       "      <td>5.905438</td>\n",
       "      <td>1.071300</td>\n",
       "      <td>12630.880622</td>\n",
       "      <td>8608.386210</td>\n",
       "      <td>0.802074</td>\n",
       "      <td>342.317995</td>\n",
       "      <td>0.938346</td>\n",
       "      <td>277.720643</td>\n",
       "      <td>219.727988</td>\n",
       "    </tr>\n",
       "    <tr>\n",
       "      <td>min</td>\n",
       "      <td>0.000000</td>\n",
       "      <td>1.219000e+04</td>\n",
       "      <td>12.000000</td>\n",
       "      <td>0.000000</td>\n",
       "      <td>1.000000</td>\n",
       "      <td>1.000000</td>\n",
       "      <td>2.000000</td>\n",
       "      <td>1.000000</td>\n",
       "      <td>1.300000</td>\n",
       "      <td>0.000000</td>\n",
       "      <td>0.000000</td>\n",
       "      <td>181.000000</td>\n",
       "      <td>0.000000</td>\n",
       "      <td>1.000000</td>\n",
       "      <td>0.000000</td>\n",
       "      <td>13.000000</td>\n",
       "      <td>1.000000</td>\n",
       "    </tr>\n",
       "    <tr>\n",
       "      <td>25%</td>\n",
       "      <td>6.000000</td>\n",
       "      <td>3.400000e+06</td>\n",
       "      <td>40.000000</td>\n",
       "      <td>1.000000</td>\n",
       "      <td>2.520000</td>\n",
       "      <td>5.000000</td>\n",
       "      <td>18.600000</td>\n",
       "      <td>2.000000</td>\n",
       "      <td>7.000000</td>\n",
       "      <td>0.000000</td>\n",
       "      <td>18585.000000</td>\n",
       "      <td>9238.000000</td>\n",
       "      <td>0.000000</td>\n",
       "      <td>288.000000</td>\n",
       "      <td>0.000000</td>\n",
       "      <td>294.000000</td>\n",
       "      <td>45.000000</td>\n",
       "    </tr>\n",
       "    <tr>\n",
       "      <td>50%</td>\n",
       "      <td>9.000000</td>\n",
       "      <td>4.650000e+06</td>\n",
       "      <td>52.000000</td>\n",
       "      <td>2.000000</td>\n",
       "      <td>2.650000</td>\n",
       "      <td>9.000000</td>\n",
       "      <td>30.000000</td>\n",
       "      <td>4.000000</td>\n",
       "      <td>9.100000</td>\n",
       "      <td>1.000000</td>\n",
       "      <td>26726.000000</td>\n",
       "      <td>13098.500000</td>\n",
       "      <td>0.000000</td>\n",
       "      <td>455.000000</td>\n",
       "      <td>1.000000</td>\n",
       "      <td>502.000000</td>\n",
       "      <td>95.000000</td>\n",
       "    </tr>\n",
       "    <tr>\n",
       "      <td>75%</td>\n",
       "      <td>14.000000</td>\n",
       "      <td>6.800000e+06</td>\n",
       "      <td>69.900000</td>\n",
       "      <td>3.000000</td>\n",
       "      <td>2.800000</td>\n",
       "      <td>16.000000</td>\n",
       "      <td>42.300000</td>\n",
       "      <td>8.000000</td>\n",
       "      <td>12.000000</td>\n",
       "      <td>2.000000</td>\n",
       "      <td>37273.000000</td>\n",
       "      <td>16293.000000</td>\n",
       "      <td>1.000000</td>\n",
       "      <td>612.000000</td>\n",
       "      <td>1.000000</td>\n",
       "      <td>729.000000</td>\n",
       "      <td>232.000000</td>\n",
       "    </tr>\n",
       "    <tr>\n",
       "      <td>max</td>\n",
       "      <td>50.000000</td>\n",
       "      <td>7.630000e+08</td>\n",
       "      <td>900.000000</td>\n",
       "      <td>19.000000</td>\n",
       "      <td>100.000000</td>\n",
       "      <td>60.000000</td>\n",
       "      <td>409.700000</td>\n",
       "      <td>33.000000</td>\n",
       "      <td>112.000000</td>\n",
       "      <td>5.000000</td>\n",
       "      <td>84869.000000</td>\n",
       "      <td>65968.000000</td>\n",
       "      <td>3.000000</td>\n",
       "      <td>3190.000000</td>\n",
       "      <td>3.000000</td>\n",
       "      <td>1344.000000</td>\n",
       "      <td>1580.000000</td>\n",
       "    </tr>\n",
       "  </tbody>\n",
       "</table>\n",
       "</div>"
      ],
      "text/plain": [
       "       total_images    last_price    total_area         rooms  ceiling_height  \\\n",
       "count  23699.000000  2.369900e+04  23699.000000  23699.000000    14504.000000   \n",
       "mean       9.858475  6.541549e+06     60.348651      2.070636        2.771499   \n",
       "std        5.682529  1.088701e+07     35.654083      1.078405        1.261056   \n",
       "min        0.000000  1.219000e+04     12.000000      0.000000        1.000000   \n",
       "25%        6.000000  3.400000e+06     40.000000      1.000000        2.520000   \n",
       "50%        9.000000  4.650000e+06     52.000000      2.000000        2.650000   \n",
       "75%       14.000000  6.800000e+06     69.900000      3.000000        2.800000   \n",
       "max       50.000000  7.630000e+08    900.000000     19.000000      100.000000   \n",
       "\n",
       "       floors_total   living_area         floor  kitchen_area       balcony  \\\n",
       "count  23613.000000  21796.000000  23699.000000  21421.000000  12180.000000   \n",
       "mean      10.673824     34.457852      5.892358     10.569807      1.150082   \n",
       "std        6.597173     22.030445      4.885249      5.905438      1.071300   \n",
       "min        1.000000      2.000000      1.000000      1.300000      0.000000   \n",
       "25%        5.000000     18.600000      2.000000      7.000000      0.000000   \n",
       "50%        9.000000     30.000000      4.000000      9.100000      1.000000   \n",
       "75%       16.000000     42.300000      8.000000     12.000000      2.000000   \n",
       "max       60.000000    409.700000     33.000000    112.000000      5.000000   \n",
       "\n",
       "       airports_nearest  cityCenters_nearest  parks_around3000  parks_nearest  \\\n",
       "count      18157.000000         18180.000000      18181.000000    8079.000000   \n",
       "mean       28793.672193         14191.277833          0.611408     490.804555   \n",
       "std        12630.880622          8608.386210          0.802074     342.317995   \n",
       "min            0.000000           181.000000          0.000000       1.000000   \n",
       "25%        18585.000000          9238.000000          0.000000     288.000000   \n",
       "50%        26726.000000         13098.500000          0.000000     455.000000   \n",
       "75%        37273.000000         16293.000000          1.000000     612.000000   \n",
       "max        84869.000000         65968.000000          3.000000    3190.000000   \n",
       "\n",
       "       ponds_around3000  ponds_nearest  days_exposition  \n",
       "count      18181.000000    9110.000000     20518.000000  \n",
       "mean           0.770255     517.980900       180.888634  \n",
       "std            0.938346     277.720643       219.727988  \n",
       "min            0.000000      13.000000         1.000000  \n",
       "25%            0.000000     294.000000        45.000000  \n",
       "50%            1.000000     502.000000        95.000000  \n",
       "75%            1.000000     729.000000       232.000000  \n",
       "max            3.000000    1344.000000      1580.000000  "
      ]
     },
     "metadata": {},
     "output_type": "display_data"
    }
   ],
   "source": [
    "display(df.describe())"
   ]
  },
  {
   "cell_type": "markdown",
   "metadata": {},
   "source": [
    "<div style=\"color: white; border:solid green 2px; padding: 20px; background: LightSeaGreen\">\n",
    "В сводной таблице видны вбросовые значения (total_area - 900 кв м, это перебор, или 19 комнат, высота потолков 100 м и т.д.) Изучим их более внимательно на следующем шаге\n",
    "</div>"
   ]
  },
  {
   "cell_type": "markdown",
   "metadata": {},
   "source": [
    "### Вывод"
   ]
  },
  {
   "cell_type": "markdown",
   "metadata": {},
   "source": [
    "<div style=\"color: white; border:solid green 2px; padding: 20px; background: LightSeaGreen\">\n",
    "Открыт и поверхностно проанализирован датасет - с ним придется поработать, есть как вбросовые значения, так и уйма пропусков, нужно будет поработать с каждым столбцом отдельно. С другой стороны данных достаточно для дальнейшей работы.\n",
    "</div>"
   ]
  },
  {
   "cell_type": "markdown",
   "metadata": {},
   "source": [
    "## Предобработка данных"
   ]
  },
  {
   "cell_type": "markdown",
   "metadata": {},
   "source": [
    "| Столбец              | Значений non-null  | Пропуски, в %  | Исходный тип   |   Замена типа  |   Замена nan |\n",
    "| :------------------  |:------------------:|:--------------:|:--------------:|:--------------:|:-----------------:|\n",
    "| total_images         |       23699        |       0        |     int64      |  не требуется  | не требуется\n",
    "| last_price           |       23699        |       0        |     float64    |     int64      | не требуется\n",
    "| total_area           |       23699        |       0        |     float64    |    не нужно    | не требуется\n",
    "| first_day_exposition |       23699        |       0        |     object     |    datetime    | не требуется\n",
    "| rooms                |       23699        |       0        |     int64      |  не требуется  | не требуется\n",
    "| ceiling_height       |       14504        |      38        |     float64    |  не требуется  | на median\n",
    "| floors_total         |       23613        |      0.3       |     float64    |     int64      | на median\n",
    "| living_area          |       21796        |       8        |     float64    |  не требуется  | на median\n",
    "| floor                |       23699        |       0        |     int64      |  не требуется  | не требуется\n",
    "| is_apartment         |        2775        |      88        |     object     |     bool       | на False (не указано, значит нет)\n",
    "| studio               |       23699        |       0        |     bool       |  не требуется  | не требуется\n",
    "| open_plan            |       23699        |       0        |     bool       |  не требуется  | не требуется\n",
    "| kitchen_area         |       21421        |       10       |     float64    |  не требуется  | на median\n",
    "| balcony              |       12180        |       49       |     float64    |     int64      | на 0 (не уазано, значит нет)\n",
    "| locality_name        |       23650        |      0.2       |     object     |  не требуется  | на 'unknown'\n",
    "| airports_nearest     |       18157        |       23       |     float64    |      int64     | на mean\n",
    "| cityCenters_nearest  |       18180        |       23       |     float64    |      int64     | на median\n",
    "| parks_around3000     |       18181        |       23       |     float64    |      int64     | на 0 (не указано, значит нет)\n",
    "| parks_nearest        |       8079         |       66       |     float64    |  не требуется  | воздержимся от изменений\n",
    "| ponds_around3000     |       18181        |       23       |     float64    |      int64     | на 0 (не указано, значит нет)\n",
    "| ponds_nearest        |       9110         |       64       |     float64    |  не требуется  | воздержимся от изменений\n",
    "| days_exposition      |       20518        |       13       |     float64    |      int64     | на median\n",
    "    \n",
    "        \n",
    "</div>"
   ]
  },
  {
   "cell_type": "markdown",
   "metadata": {},
   "source": [
    "<div style=\"color: white; border:solid green 2px; padding: 20px; background: LightSeaGreen\">\n",
    "<b>last_price</b>\n",
    "<p> Ничего не мешает нам поменят значения на int64.\n",
    "</div>"
   ]
  },
  {
   "cell_type": "code",
   "execution_count": 44,
   "metadata": {
    "collapsed": true
   },
   "outputs": [],
   "source": [
    "df['last_price'] = df['last_price'].astype('int')"
   ]
  },
  {
   "cell_type": "markdown",
   "metadata": {},
   "source": [
    "<div style=\"color: white; border:solid green 2px; padding: 20px; background: LightSeaGreen\">\n",
    "<b>first_day_exposition</b>\n",
    "<p> Изменим тип данных на datetime\n",
    "</div>"
   ]
  },
  {
   "cell_type": "code",
   "execution_count": 45,
   "metadata": {
    "collapsed": true
   },
   "outputs": [],
   "source": [
    "df['first_day_exposition'] = pd.to_datetime(df['first_day_exposition'], format='%Y-%m-%dT%H:%M:%S')"
   ]
  },
  {
   "cell_type": "markdown",
   "metadata": {},
   "source": [
    "<div style=\"color: white; border:solid green 2px; padding: 20px; background: LightSeaGreen\">\n",
    "<b>ceiling_height</b>\n",
    "<p> Учитывая вбросы (высота потолка до 100 метров), заменим nan на медианное значение. \n",
    "<p> Так, как высота потолка может быть в долях метра, оставим тип float64\n",
    "</div>"
   ]
  },
  {
   "cell_type": "code",
   "execution_count": 47,
   "metadata": {
    "collapsed": true
   },
   "outputs": [],
   "source": [
    "df['ceiling_height'] = df['ceiling_height'].fillna(df['ceiling_height'].median())"
   ]
  },
  {
   "cell_type": "markdown",
   "metadata": {},
   "source": [
    "<div style=\"color: white; border:solid green 2px; padding: 20px; background: LightSeaGreen\">\n",
    "<b>ceiling_height</b>\n",
    "<p> Учитывая вбросы (высота потолка до 100 метров), заменим nan на медианное значение. \n",
    "<p> Так, как высота потолка может быть в долях метра, оставим тип float64\n",
    "</div>"
   ]
  },
  {
   "cell_type": "code",
   "execution_count": 48,
   "metadata": {
    "collapsed": true
   },
   "outputs": [],
   "source": [
    "df['ceiling_height'] = df['ceiling_height'].fillna(df['ceiling_height'].median())"
   ]
  },
  {
   "cell_type": "markdown",
   "metadata": {},
   "source": [
    "<div style=\"color: white; border:solid green 2px; padding: 20px; background: LightSeaGreen\">\n",
    "    <b>floors_total</b>\n",
    "<p> Всего этажей от 1 до 60, что вполне может быть. \n",
    "<p> Так, как высота потолка может быть в долях метра, оставим тип float64\n",
    "</div>"
   ]
  },
  {
   "cell_type": "code",
   "execution_count": 49,
   "metadata": {
    "collapsed": true
   },
   "outputs": [],
   "source": [
    "df['floors_total'] = df['floors_total'].fillna(df['floors_total'].mean()).astype('int')"
   ]
  },
  {
   "cell_type": "markdown",
   "metadata": {},
   "source": [
    "<div style=\"color: white; border:solid green 2px; padding: 20px; background: LightSeaGreen\">\n",
    "<b>living_area</b>\n",
    "<p> Жилая площадь принимает значения от 2 до 409,7 метров. Вероятно, есть вбросы, поэтому используем median. \n",
    "<p> Жилая площадь очень важный параметр, чтобы его округлять, оставим тип float64\n",
    "</div>"
   ]
  },
  {
   "cell_type": "code",
   "execution_count": 50,
   "metadata": {
    "collapsed": true
   },
   "outputs": [],
   "source": [
    "df['living_area'] = df['living_area'].fillna(df['living_area'].median())"
   ]
  },
  {
   "cell_type": "markdown",
   "metadata": {},
   "source": [
    "<div style=\"color: white; border:solid green 2px; padding: 20px; background: LightSeaGreen\">\n",
    "<b>is_apartment</b>\n",
    "<p> Апартаменты. Отсутствующие значения вероятно указывают на то, что это не аппартаменты, заменим nan на False.\n",
    "<p> Приведем к типу bool.\n",
    "</div>"
   ]
  },
  {
   "cell_type": "code",
   "execution_count": 51,
   "metadata": {
    "collapsed": true
   },
   "outputs": [],
   "source": [
    "df['is_apartment'] = df['is_apartment'].fillna(False).astype('bool')"
   ]
  },
  {
   "cell_type": "markdown",
   "metadata": {},
   "source": [
    "<div style=\"color: white; border:solid green 2px; padding: 20px; background: LightSeaGreen\">\n",
    "<b>kitchen_area</b>\n",
    "<p> Площадь кухни достаточнов важный параметр, влияющий на цену. Вероятно есть вбросы (размер от 1.3 до 112 м кв), заменим nan на median.\n",
    "<p> Тип float менять не будем (по тем же причинам, что и другие площади).\n",
    "</div>"
   ]
  },
  {
   "cell_type": "code",
   "execution_count": 52,
   "metadata": {
    "collapsed": true
   },
   "outputs": [],
   "source": [
    "df['kitchen_area'] = df['kitchen_area'].fillna(df['kitchen_area'].median())"
   ]
  },
  {
   "cell_type": "markdown",
   "metadata": {},
   "source": [
    "<div style=\"color: white; border:solid green 2px; padding: 20px; background: LightSeaGreen\">\n",
    "<b>balcony</b>\n",
    "<p> Если балкон не указан, значит его нет: заменим nan на 0.\n",
    "<p> А тип изнменим на int64 (для экономии памяти и большей наглядности)\n",
    "</div>"
   ]
  },
  {
   "cell_type": "code",
   "execution_count": 53,
   "metadata": {
    "collapsed": true
   },
   "outputs": [],
   "source": [
    "df['balcony'] = df['balcony'].fillna(0).astype('int')"
   ]
  },
  {
   "cell_type": "markdown",
   "metadata": {},
   "source": [
    "<div style=\"color: white; border:solid green 2px; padding: 20px; background: LightSeaGreen\">\n",
    "<b>locality_name</b>\n",
    "<p> Ячейка с типом данных object(str). Проверим на скрытые дубликаты\n",
    "</div>"
   ]
  },
  {
   "cell_type": "code",
   "execution_count": 54,
   "metadata": {
    "scrolled": true
   },
   "outputs": [
    {
     "name": "stdout",
     "output_type": "stream",
     "text": [
      "365\n"
     ]
    },
    {
     "data": {
      "text/plain": [
       "array(['Санкт-Петербург', 'посёлок Шушары', 'городской посёлок Янино-1',\n",
       "       'посёлок Парголово', 'посёлок Мурино', 'Ломоносов', 'Сертолово',\n",
       "       'Петергоф', 'Пушкин', 'деревня Кудрово', 'Коммунар', 'Колпино',\n",
       "       'поселок городского типа Красный Бор', 'Гатчина', 'поселок Мурино',\n",
       "       'деревня Фёдоровское', 'Выборг', 'Кронштадт', 'Кировск',\n",
       "       'деревня Новое Девяткино', 'посёлок Металлострой',\n",
       "       'посёлок городского типа Лебяжье',\n",
       "       'посёлок городского типа Сиверский', 'поселок Молодцово',\n",
       "       'поселок городского типа Кузьмоловский',\n",
       "       'садовое товарищество Новая Ропша', 'Павловск',\n",
       "       'деревня Пикколово', 'Всеволожск', 'Волхов', 'Кингисепп',\n",
       "       'Приозерск', 'Сестрорецк', 'деревня Куттузи', 'посёлок Аннино',\n",
       "       'поселок городского типа Ефимовский', 'посёлок Плодовое',\n",
       "       'деревня Заклинье', 'поселок Торковичи', 'поселок Первомайское',\n",
       "       'Красное Село', 'посёлок Понтонный', 'Сясьстрой', 'деревня Старая',\n",
       "       'деревня Лесколово', 'посёлок Новый Свет', 'Сланцы',\n",
       "       'село Путилово', 'Ивангород', 'Мурино', 'Шлиссельбург',\n",
       "       'Никольское', 'Зеленогорск', 'Сосновый Бор', 'поселок Новый Свет',\n",
       "       'деревня Оржицы', 'деревня Кальтино', 'Кудрово',\n",
       "       'поселок Романовка', 'посёлок Бугры', 'поселок Бугры',\n",
       "       'поселок городского типа Рощино', 'Кириши', 'Луга', 'Волосово',\n",
       "       'Отрадное', 'село Павлово', 'поселок Оредеж', 'село Копорье',\n",
       "       'посёлок городского типа Красный Бор', 'посёлок Молодёжное',\n",
       "       'Тихвин', 'посёлок Победа', 'деревня Нурма',\n",
       "       'поселок городского типа Синявино', 'Тосно',\n",
       "       'посёлок городского типа Кузьмоловский', 'посёлок Стрельна',\n",
       "       'Бокситогорск', 'посёлок Александровская', 'деревня Лопухинка',\n",
       "       'Пикалёво', 'поселок Терволово',\n",
       "       'поселок городского типа Советский', 'Подпорожье',\n",
       "       'посёлок Петровское', 'посёлок городского типа Токсово',\n",
       "       'поселок Сельцо', 'посёлок городского типа Вырица',\n",
       "       'деревня Кипень', 'деревня Келози', 'деревня Вартемяги',\n",
       "       'посёлок Тельмана', 'поселок Севастьяново',\n",
       "       'городской поселок Большая Ижора', nan,\n",
       "       'городской посёлок Павлово', 'деревня Агалатово',\n",
       "       'посёлок Новогорелово', 'городской посёлок Лесогорский',\n",
       "       'деревня Лаголово', 'поселок Цвелодубово',\n",
       "       'поселок городского типа Рахья', 'поселок городского типа Вырица',\n",
       "       'деревня Белогорка', 'поселок Заводской',\n",
       "       'городской посёлок Новоселье', 'деревня Большие Колпаны',\n",
       "       'деревня Горбунки', 'деревня Батово', 'деревня Заневка',\n",
       "       'деревня Иссад', 'Приморск', 'городской посёлок Фёдоровское',\n",
       "       'деревня Мистолово', 'Новая Ладога', 'поселок Зимитицы',\n",
       "       'поселок Барышево', 'деревня Разметелево',\n",
       "       'поселок городского типа имени Свердлова', 'деревня Пеники',\n",
       "       'поселок Рябово', 'деревня Пудомяги', 'поселок станции Корнево',\n",
       "       'деревня Низино', 'деревня Бегуницы', 'посёлок Поляны',\n",
       "       'городской посёлок Мга', 'поселок Елизаветино',\n",
       "       'посёлок городского типа Кузнечное', 'деревня Колтуши',\n",
       "       'поселок Запорожское', 'посёлок городского типа Рощино',\n",
       "       'деревня Гостилицы', 'деревня Малое Карлино',\n",
       "       'посёлок Мичуринское', 'посёлок городского типа имени Морозова',\n",
       "       'посёлок Песочный', 'посёлок Сосново', 'деревня Аро',\n",
       "       'поселок Ильичёво', 'посёлок городского типа Тайцы',\n",
       "       'деревня Малое Верево', 'деревня Извара', 'поселок станции Вещево',\n",
       "       'село Паша', 'деревня Калитино',\n",
       "       'посёлок городского типа Ульяновка', 'деревня Чудской Бор',\n",
       "       'поселок городского типа Дубровка', 'деревня Мины',\n",
       "       'поселок Войсковицы', 'посёлок городского типа имени Свердлова',\n",
       "       'деревня Коркино', 'посёлок Ропша',\n",
       "       'поселок городского типа Приладожский', 'посёлок Щеглово',\n",
       "       'посёлок Гаврилово', 'Лодейное Поле', 'деревня Рабитицы',\n",
       "       'поселок городского типа Никольский', 'деревня Кузьмолово',\n",
       "       'деревня Малые Колпаны', 'поселок Тельмана',\n",
       "       'посёлок Петро-Славянка', 'городской посёлок Назия',\n",
       "       'посёлок Репино', 'посёлок Ильичёво', 'поселок Углово',\n",
       "       'поселок Старая Малукса', 'садовое товарищество Рахья',\n",
       "       'поселок Аннино', 'поселок Победа', 'деревня Меньково',\n",
       "       'деревня Старые Бегуницы', 'посёлок Сапёрный', 'поселок Семрино',\n",
       "       'поселок Гаврилово', 'поселок Глажево', 'поселок Кобринское',\n",
       "       'деревня Гарболово', 'деревня Юкки',\n",
       "       'поселок станции Приветнинское', 'деревня Мануйлово',\n",
       "       'деревня Пчева', 'поселок Поляны', 'поселок Цвылёво',\n",
       "       'поселок Мельниково', 'посёлок Пудость', 'посёлок Усть-Луга',\n",
       "       'Светогорск', 'Любань', 'поселок Селезнёво',\n",
       "       'поселок городского типа Рябово', 'Каменногорск', 'деревня Кривко',\n",
       "       'поселок Глебычево', 'деревня Парицы', 'поселок Жилпосёлок',\n",
       "       'посёлок городского типа Мга', 'городской поселок Янино-1',\n",
       "       'посёлок Войскорово', 'село Никольское', 'посёлок Терволово',\n",
       "       'поселок Стеклянный', 'посёлок городского типа Важины',\n",
       "       'посёлок Мыза-Ивановка', 'село Русско-Высоцкое',\n",
       "       'поселок городского типа Лебяжье',\n",
       "       'поселок городского типа Форносово', 'село Старая Ладога',\n",
       "       'поселок Житково', 'городской посёлок Виллози', 'деревня Лампово',\n",
       "       'деревня Шпаньково', 'деревня Лаврики', 'посёлок Сумино',\n",
       "       'посёлок Возрождение', 'деревня Старосиверская',\n",
       "       'посёлок Кикерино', 'поселок Возрождение',\n",
       "       'деревня Старое Хинколово', 'посёлок Пригородный',\n",
       "       'посёлок Торфяное', 'городской посёлок Будогощь',\n",
       "       'поселок Суходолье', 'поселок Красная Долина', 'деревня Хапо-Ое',\n",
       "       'поселок городского типа Дружная Горка', 'поселок Лисий Нос',\n",
       "       'деревня Яльгелево', 'посёлок Стеклянный', 'село Рождествено',\n",
       "       'деревня Старополье', 'посёлок Левашово', 'деревня Сяськелево',\n",
       "       'деревня Камышовка',\n",
       "       'садоводческое некоммерческое товарищество Лесная Поляна',\n",
       "       'деревня Хязельки', 'поселок Жилгородок',\n",
       "       'посёлок городского типа Павлово', 'деревня Ялгино',\n",
       "       'поселок Новый Учхоз', 'городской посёлок Рощино',\n",
       "       'поселок Гончарово', 'поселок Почап', 'посёлок Сапёрное',\n",
       "       'посёлок Платформа 69-й километр', 'поселок Каложицы',\n",
       "       'деревня Фалилеево', 'деревня Пельгора',\n",
       "       'поселок городского типа Лесогорский', 'деревня Торошковичи',\n",
       "       'посёлок Белоостров', 'посёлок Алексеевка', 'поселок Серебрянский',\n",
       "       'поселок Лукаши', 'поселок Петровское', 'деревня Щеглово',\n",
       "       'поселок Мичуринское', 'деревня Тарасово', 'поселок Кингисеппский',\n",
       "       'посёлок при железнодорожной станции Вещево', 'поселок Ушаки',\n",
       "       'деревня Котлы', 'деревня Сижно', 'деревня Торосово',\n",
       "       'посёлок Форт Красная Горка', 'поселок городского типа Токсово',\n",
       "       'деревня Новолисино', 'посёлок станции Громово', 'деревня Глинка',\n",
       "       'посёлок Мельниково', 'поселок городского типа Назия',\n",
       "       'деревня Старая Пустошь', 'поселок Коммунары', 'поселок Починок',\n",
       "       'посёлок городского типа Вознесенье', 'деревня Разбегаево',\n",
       "       'посёлок городского типа Рябово', 'поселок Гладкое',\n",
       "       'посёлок при железнодорожной станции Приветнинское',\n",
       "       'поселок Тёсово-4', 'посёлок Жилгородок', 'деревня Бор',\n",
       "       'посёлок Коробицыно', 'деревня Большая Вруда', 'деревня Курковицы',\n",
       "       'посёлок Лисий Нос', 'городской посёлок Советский',\n",
       "       'посёлок Кобралово', 'деревня Суоранда', 'поселок Кобралово',\n",
       "       'поселок городского типа Кондратьево',\n",
       "       'коттеджный поселок Счастье', 'поселок Любань', 'деревня Реброво',\n",
       "       'деревня Зимитицы', 'деревня Тойворово', 'поселок Семиозерье',\n",
       "       'поселок Лесное', 'поселок Совхозный', 'поселок Усть-Луга',\n",
       "       'посёлок Ленинское', 'посёлок Суйда',\n",
       "       'посёлок городского типа Форносово', 'деревня Нижние Осельки',\n",
       "       'посёлок станции Свирь', 'поселок Перово', 'Высоцк',\n",
       "       'поселок Гарболово', 'село Шум', 'поселок Котельский',\n",
       "       'поселок станции Лужайка', 'деревня Большая Пустомержа',\n",
       "       'поселок Красносельское', 'деревня Вахнова Кара', 'деревня Пижма',\n",
       "       'коттеджный поселок Кивеннапа Север', 'поселок Коробицыно',\n",
       "       'поселок Ромашки', 'посёлок Перово', 'деревня Каськово',\n",
       "       'деревня Куровицы', 'посёлок Плоское', 'поселок Сумино',\n",
       "       'поселок городского типа Большая Ижора', 'поселок Кирпичное',\n",
       "       'деревня Ям-Тесово', 'деревня Раздолье', 'деревня Терпилицы',\n",
       "       'посёлок Шугозеро', 'деревня Ваганово', 'поселок Пушное',\n",
       "       'садовое товарищество Садко', 'посёлок Усть-Ижора',\n",
       "       'деревня Выскатка', 'городской посёлок Свирьстрой',\n",
       "       'поселок Громово', 'деревня Кисельня', 'посёлок Старая Малукса',\n",
       "       'деревня Трубников Бор', 'поселок Калитино',\n",
       "       'посёлок Высокоключевой', 'садовое товарищество Приладожский',\n",
       "       'посёлок Пансионат Зелёный Бор', 'деревня Ненимяки',\n",
       "       'поселок Пансионат Зелёный Бор', 'деревня Снегирёвка',\n",
       "       'деревня Рапполово', 'деревня Пустынка', 'поселок Рабитицы',\n",
       "       'деревня Большой Сабск', 'деревня Русско', 'деревня Лупполово',\n",
       "       'деревня Большое Рейзино', 'деревня Малая Романовка',\n",
       "       'поселок Дружноселье', 'поселок Пчевжа', 'поселок Володарское',\n",
       "       'деревня Нижняя', 'коттеджный посёлок Лесное', 'деревня Тихковицы',\n",
       "       'деревня Борисова Грива', 'посёлок Дзержинского'], dtype=object)"
      ]
     },
     "metadata": {},
     "output_type": "display_data"
    }
   ],
   "source": [
    "print(len(df['locality_name'].unique()))\n",
    "display(df['locality_name'].unique())\n"
   ]
  },
  {
   "cell_type": "markdown",
   "metadata": {},
   "source": [
    "<div style=\"color: white; border:solid green 2px; padding: 20px; background: LightSeaGreen\">\n",
    "<p> 365 значений, но возможно в них есть скрытые дубликаты. Создадим функцию, которая сохраняет столько имя населенного пунтка, без уточнения его типа, а тажке меняет букву ё на е. \n",
    "<p> Но перед этим, чтобы избавиться от nan заменим пропущенные значения на 'unknown'\n",
    "       \n",
    "</div>"
   ]
  },
  {
   "cell_type": "code",
   "execution_count": 55,
   "metadata": {
    "collapsed": true
   },
   "outputs": [],
   "source": [
    "df['locality_name'] = df['locality_name'].fillna('unknown')\n",
    "\n",
    "\n",
    "def clear_locality_name(text):\n",
    "    list_ = ['посёлок', 'поселок', 'городской', 'городского', 'типа', 'садовое', 'товарищество', ' ', 'деревня', 'село', '']\n",
    "    return list(set(text.split()) - set(list_))[0].replace('ё', 'е')\n",
    "     \n",
    "# создадим новый столбец, применив свою функцию к элементам столбца 'locality_name'\n",
    "df['new_local_name'] = df['locality_name'].apply(clear_locality_name)"
   ]
  },
  {
   "cell_type": "markdown",
   "metadata": {},
   "source": [
    "<div style=\"color: white; border:solid green 2px; padding: 20px; background: LightSeaGreen\">\n",
    "<p> Проверим какие элементы у нас вошли в новый столбец\n",
    "</div>"
   ]
  },
  {
   "cell_type": "code",
   "execution_count": 56,
   "metadata": {
    "scrolled": true
   },
   "outputs": [
    {
     "data": {
      "text/plain": [
       "array(['Санкт-Петербург', 'Шушары', 'Янино-1', 'Парголово', 'Мурино',\n",
       "       'Ломоносов', 'Сертолово', 'Петергоф', 'Пушкин', 'Кудрово',\n",
       "       'Коммунар', 'Колпино', 'Красный', 'Гатчина', 'Федоровское',\n",
       "       'Выборг', 'Кронштадт', 'Кировск', 'Новое', 'Металлострой',\n",
       "       'Лебяжье', 'Сиверский', 'Молодцово', 'Кузьмоловский', 'Новая',\n",
       "       'Павловск', 'Пикколово', 'Всеволожск', 'Волхов', 'Кингисепп',\n",
       "       'Приозерск', 'Сестрорецк', 'Куттузи', 'Аннино', 'Ефимовский',\n",
       "       'Плодовое', 'Заклинье', 'Торковичи', 'Первомайское', 'Село',\n",
       "       'Понтонный', 'Сясьстрой', 'Старая', 'Лесколово', 'Новый', 'Сланцы',\n",
       "       'Путилово', 'Ивангород', 'Шлиссельбург', 'Никольское',\n",
       "       'Зеленогорск', 'Сосновый', 'Оржицы', 'Кальтино', 'Романовка',\n",
       "       'Бугры', 'Рощино', 'Кириши', 'Луга', 'Волосово', 'Отрадное',\n",
       "       'Павлово', 'Оредеж', 'Копорье', 'Молодежное', 'Тихвин', 'Победа',\n",
       "       'Нурма', 'Синявино', 'Тосно', 'Стрельна', 'Бокситогорск',\n",
       "       'Александровская', 'Лопухинка', 'Пикалево', 'Терволово',\n",
       "       'Советский', 'Подпорожье', 'Петровское', 'Токсово', 'Сельцо',\n",
       "       'Вырица', 'Кипень', 'Келози', 'Вартемяги', 'Тельмана',\n",
       "       'Севастьяново', 'Большая', 'unknown', 'Агалатово', 'Новогорелово',\n",
       "       'Лесогорский', 'Лаголово', 'Цвелодубово', 'Рахья', 'Белогорка',\n",
       "       'Заводской', 'Новоселье', 'Большие', 'Горбунки', 'Батово',\n",
       "       'Заневка', 'Иссад', 'Приморск', 'Мистолово', 'Зимитицы',\n",
       "       'Барышево', 'Разметелево', 'Свердлова', 'Пеники', 'Рябово',\n",
       "       'Пудомяги', 'Корнево', 'Низино', 'Бегуницы', 'Поляны', 'Мга',\n",
       "       'Елизаветино', 'Кузнечное', 'Колтуши', 'Запорожское', 'Гостилицы',\n",
       "       'Карлино', 'Мичуринское', 'Морозова', 'Песочный', 'Сосново', 'Аро',\n",
       "       'Ильичево', 'Тайцы', 'Малое', 'Извара', 'станции', 'Паша',\n",
       "       'Калитино', 'Ульяновка', 'Бор', 'Дубровка', 'Мины', 'Войсковицы',\n",
       "       'Коркино', 'Ропша', 'Приладожский', 'Щеглово', 'Гаврилово', 'Поле',\n",
       "       'Рабитицы', 'Никольский', 'Кузьмолово', 'Колпаны',\n",
       "       'Петро-Славянка', 'Назия', 'Репино', 'Углово', 'Малукса',\n",
       "       'Меньково', 'Старые', 'Саперный', 'Семрино', 'Глажево',\n",
       "       'Кобринское', 'Гарболово', 'Юкки', 'Приветнинское', 'Мануйлово',\n",
       "       'Пчева', 'Цвылево', 'Мельниково', 'Пудость', 'Усть-Луга',\n",
       "       'Светогорск', 'Любань', 'Селезнево', 'Каменногорск', 'Кривко',\n",
       "       'Глебычево', 'Парицы', 'Жилпоселок', 'Войскорово', 'Стеклянный',\n",
       "       'Важины', 'Мыза-Ивановка', 'Русско-Высоцкое', 'Форносово',\n",
       "       'Житково', 'Виллози', 'Лампово', 'Шпаньково', 'Лаврики', 'Сумино',\n",
       "       'Возрождение', 'Старосиверская', 'Кикерино', 'Старое',\n",
       "       'Пригородный', 'Торфяное', 'Будогощь', 'Суходолье', 'Красная',\n",
       "       'Хапо-Ое', 'Дружная', 'Нос', 'Яльгелево', 'Рождествено',\n",
       "       'Старополье', 'Левашово', 'Сяськелево', 'Камышовка', 'Поляна',\n",
       "       'Хязельки', 'Жилгородок', 'Ялгино', 'Гончарово', 'Почап',\n",
       "       'Саперное', '69-й', 'Каложицы', 'Фалилеево', 'Пельгора',\n",
       "       'Торошковичи', 'Белоостров', 'Алексеевка', 'Серебрянский',\n",
       "       'Лукаши', 'Тарасово', 'Кингисеппский', 'Ушаки', 'Котлы', 'Сижно',\n",
       "       'Торосово', 'Форт', 'Новолисино', 'Громово', 'Глинка', 'Коммунары',\n",
       "       'Починок', 'Вознесенье', 'Разбегаево', 'Гладкое', 'Тесово-4',\n",
       "       'Коробицыно', 'Курковицы', 'Кобралово', 'Суоранда', 'Кондратьево',\n",
       "       'Счастье', 'Реброво', 'Тойворово', 'Семиозерье', 'Лесное',\n",
       "       'Совхозный', 'Ленинское', 'Суйда', 'Нижние', 'Свирь', 'Перово',\n",
       "       'Высоцк', 'Шум', 'Котельский', 'Красносельское', 'Вахнова',\n",
       "       'Пижма', 'коттеджный', 'Ромашки', 'Каськово', 'Куровицы',\n",
       "       'Плоское', 'Кирпичное', 'Ям-Тесово', 'Раздолье', 'Терпилицы',\n",
       "       'Шугозеро', 'Ваганово', 'Пушное', 'Садко', 'Усть-Ижора',\n",
       "       'Выскатка', 'Свирьстрой', 'Кисельня', 'Трубников',\n",
       "       'Высокоключевой', 'Пансионат', 'Ненимяки', 'Снегиревка',\n",
       "       'Рапполово', 'Пустынка', 'Сабск', 'Русско', 'Лупполово', 'Большое',\n",
       "       'Дружноселье', 'Пчевжа', 'Володарское', 'Нижняя', 'Тихковицы',\n",
       "       'Борисова', 'Дзержинского'], dtype=object)"
      ]
     },
     "execution_count": 56,
     "metadata": {},
     "output_type": "execute_result"
    }
   ],
   "source": [
    "df['new_local_name'].unique()"
   ]
  },
  {
   "cell_type": "markdown",
   "metadata": {},
   "source": [
    "<div style=\"color: white; border:solid green 2px; padding: 20px; background: LightSeaGreen\">\n",
    "<p> и как изменилось количество уникальных значений\n",
    "</div>"
   ]
  },
  {
   "cell_type": "code",
   "execution_count": 57,
   "metadata": {},
   "outputs": [
    {
     "data": {
      "text/plain": [
       "297"
      ]
     },
     "execution_count": 57,
     "metadata": {},
     "output_type": "execute_result"
    }
   ],
   "source": [
    "len(df['new_local_name'].unique())"
   ]
  },
  {
   "cell_type": "markdown",
   "metadata": {},
   "source": [
    "<div style=\"color: white; border:solid green 2px; padding: 20px; background: LightSeaGreen\">\n",
    "<p> Количество уникаольных значений уменьшилось с 365 до 296. Значит были дубликаты, и мы от них избавились.\n",
    "</div>"
   ]
  },
  {
   "cell_type": "markdown",
   "metadata": {},
   "source": [
    "<div style=\"color: white; border:solid green 2px; padding: 20px; background: LightSeaGreen\">\n",
    "    <b>airports_nearest</b>\n",
    "    <p> Разброс значений от 0 до 85 км, что похоже на правду. Заменим пропуски на среднее значение по столбцу. А тип данных изменим на int64.\n",
    "</div>"
   ]
  },
  {
   "cell_type": "code",
   "execution_count": 58,
   "metadata": {
    "collapsed": true
   },
   "outputs": [],
   "source": [
    "df['airports_nearest'] = df['airports_nearest'].fillna(df['airports_nearest'].mean()).astype('int')"
   ]
  },
  {
   "cell_type": "markdown",
   "metadata": {},
   "source": [
    "<div style=\"color: white; border:solid green 2px; padding: 20px; background: LightSeaGreen\">\n",
    "    <b>cityCenters_nearest</b>\n",
    "    <p> Разброс значений 181 м 0 до 66 км, значимых вбросов нет. Заменим пропуски на среднее значение по столбцу. А тип данных изменим на int64.\n",
    "</div>"
   ]
  },
  {
   "cell_type": "code",
   "execution_count": 59,
   "metadata": {
    "collapsed": true
   },
   "outputs": [],
   "source": [
    "df['cityCenters_nearest'] = df['cityCenters_nearest'].fillna(df['cityCenters_nearest'].mean()).astype('int')"
   ]
  },
  {
   "cell_type": "markdown",
   "metadata": {},
   "source": [
    "<div style=\"color: white; border:solid green 2px; padding: 20px; background: LightSeaGreen\">\n",
    "    <b>parks_around3000\t</b>\n",
    "    <p> 23% пропусков, вероятно, если значение не указано, значит и нет парка. Заменим nan на 0, тип данных изменим на int64.\n",
    "</div>"
   ]
  },
  {
   "cell_type": "code",
   "execution_count": 60,
   "metadata": {
    "collapsed": true
   },
   "outputs": [],
   "source": [
    "df['parks_around3000'] = df['parks_around3000'].fillna(0).astype('int')"
   ]
  },
  {
   "cell_type": "markdown",
   "metadata": {},
   "source": [
    "<div style=\"color: white; border:solid green 2px; padding: 20px; background: LightSeaGreen\">\n",
    "    <b>parks_nearest</b>\n",
    "    <p> 66% пропусков, диапазон значений от 1 до 3190 метров. \n",
    "    <p> Проверим, есть ли парки в пределах 3000 м от квартиры.\n",
    "</div>"
   ]
  },
  {
   "cell_type": "code",
   "execution_count": 61,
   "metadata": {},
   "outputs": [
    {
     "data": {
      "text/plain": [
       "0    15620\n",
       "Name: parks_around3000, dtype: int64"
      ]
     },
     "metadata": {},
     "output_type": "display_data"
    }
   ],
   "source": [
    "display(df.query('parks_nearest.isna() == True')['parks_around3000'].value_counts())\n",
    "# df['parks_nearest'] = df['parks_nearest'].fillna()"
   ]
  },
  {
   "cell_type": "markdown",
   "metadata": {},
   "source": [
    "<div style=\"color: white; border:solid green 2px; padding: 20px; background: LightSeaGreen\">\n",
    "    <p> Пропуски находятся в тех же строках, где нет значений или 0 парков в радиусе 3000 м. \n",
    "    Вероятно, рядом с этой квартирой парков нет (в деревнях и поселках вряд ли есть парки, когда вокруг лес). Если изменить значение на менее 3000 м, тогда это пойдет вразрез с нашими данными в столбце parks_around3000. Поэтому ни mean, ни median. Можно заменить на максимальное значение по столбцу, чтобы понимать что парки максимально далеко. Затем можно изменить тип данных на int64.\n",
    "    \n",
    "</div>"
   ]
  },
  {
   "cell_type": "code",
   "execution_count": 62,
   "metadata": {
    "collapsed": true
   },
   "outputs": [],
   "source": [
    "df['parks_nearest'] = df['parks_nearest'].fillna(df['parks_nearest'].max()).astype('int')"
   ]
  },
  {
   "cell_type": "markdown",
   "metadata": {},
   "source": [
    "<div style=\"color: white; border:solid green 2px; padding: 20px; background: LightSeaGreen\">\n",
    "    <b>ponds_around3000</b>\n",
    "    <p> 23% пропусков, диапазон значений от 0 до 3 штук\n",
    "    <p> Исходим из принципа, если значения не указаны, то вероятно их нет - 0. Заменим nan на 0, изменим тип на int64.\n",
    "</div>"
   ]
  },
  {
   "cell_type": "code",
   "execution_count": 63,
   "metadata": {
    "collapsed": true
   },
   "outputs": [],
   "source": [
    "df['ponds_around3000'] = df['ponds_around3000'].fillna(0).astype('int')"
   ]
  },
  {
   "cell_type": "markdown",
   "metadata": {},
   "source": [
    "<div style=\"color: white; border:solid green 2px; padding: 20px; background: LightSeaGreen\">\n",
    "    <b>ponds_nearest</b>\n",
    "    <p> 64% пропусков, диапазон значений от 1 до 1580 дней.\n",
    "    <p> Значимых вбросов нет, заменим на mean. Затем изменим тип значений на int64.\n",
    "</div>"
   ]
  },
  {
   "cell_type": "code",
   "execution_count": 64,
   "metadata": {
    "collapsed": true
   },
   "outputs": [],
   "source": [
    "df['ponds_nearest'] = df['ponds_nearest'].fillna(5000).astype('int')"
   ]
  },
  {
   "cell_type": "markdown",
   "metadata": {},
   "source": [
    "<div style=\"color: white; border:solid green 2px; padding: 20px; background: LightSeaGreen\">\n",
    "    <b>days_exposition</b>\n",
    "    <p> 13% пропусков, диапазон значений от 0 до 3 штук\n",
    "    <p> Не указано, значит поблизости прудов нет. Ситуация такая же, как и с парками. Разброс значений от 13 до 1344 метров. Заменим пропуски на 5000 м (более 3000 м, чтобы не пересекалась с предыдущим столбцом и достаточно далеко чтобы считаться \"не рядом\"). Затем изменим тип значений на int64.\n",
    "</div>"
   ]
  },
  {
   "cell_type": "code",
   "execution_count": 65,
   "metadata": {
    "collapsed": true
   },
   "outputs": [],
   "source": [
    "df['days_exposition'] = df['days_exposition'].fillna(df['days_exposition'].median()).astype('int')"
   ]
  },
  {
   "cell_type": "markdown",
   "metadata": {},
   "source": [
    "<div style=\"color: white; border:solid green 2px; padding: 20px; background: LightSeaGreen\">\n",
    "    <p> Проверим что у нас получилось\n",
    "</div>"
   ]
  },
  {
   "cell_type": "code",
   "execution_count": 66,
   "metadata": {
    "scrolled": true
   },
   "outputs": [
    {
     "name": "stdout",
     "output_type": "stream",
     "text": [
      "<class 'pandas.core.frame.DataFrame'>\n",
      "RangeIndex: 23699 entries, 0 to 23698\n",
      "Data columns (total 23 columns):\n",
      "total_images            23699 non-null int64\n",
      "last_price              23699 non-null int64\n",
      "total_area              23699 non-null float64\n",
      "first_day_exposition    23699 non-null datetime64[ns]\n",
      "rooms                   23699 non-null int64\n",
      "ceiling_height          23699 non-null float64\n",
      "floors_total            23699 non-null int64\n",
      "living_area             23699 non-null float64\n",
      "floor                   23699 non-null int64\n",
      "is_apartment            23699 non-null bool\n",
      "studio                  23699 non-null bool\n",
      "open_plan               23699 non-null bool\n",
      "kitchen_area            23699 non-null float64\n",
      "balcony                 23699 non-null int64\n",
      "locality_name           23699 non-null object\n",
      "airports_nearest        23699 non-null int64\n",
      "cityCenters_nearest     23699 non-null int64\n",
      "parks_around3000        23699 non-null int64\n",
      "parks_nearest           23699 non-null int64\n",
      "ponds_around3000        23699 non-null int64\n",
      "ponds_nearest           23699 non-null int64\n",
      "days_exposition         23699 non-null int64\n",
      "new_local_name          23699 non-null object\n",
      "dtypes: bool(3), datetime64[ns](1), float64(4), int64(13), object(2)\n",
      "memory usage: 3.7+ MB\n"
     ]
    }
   ],
   "source": [
    "df.info()"
   ]
  },
  {
   "cell_type": "markdown",
   "metadata": {},
   "source": [
    "<div style=\"color: white; border:solid green 2px; padding: 20px; background: LightSeaGreen\">\n",
    "    <p> Таблица полная, значения исправлены, пропусков нет, в строковых столбцах убраны неявные дубликаты. Можно приступать к дальнейшему анализу.\n",
    "</div>"
   ]
  },
  {
   "cell_type": "markdown",
   "metadata": {},
   "source": [
    "## Расчёты и добавление результатов в таблицу"
   ]
  },
  {
   "cell_type": "markdown",
   "metadata": {},
   "source": [
    "<div style=\"color: white; border:solid green 2px; padding: 20px; background: LightSeaGreen\">\n",
    "    <p> Рассчитаем цену за квадратный метр и добавим данные в новый столбец\n",
    "</div>"
   ]
  },
  {
   "cell_type": "code",
   "execution_count": 67,
   "metadata": {
    "collapsed": true
   },
   "outputs": [],
   "source": [
    "df['price_per_square_metr'] = df['last_price'] / df['total_area']"
   ]
  },
  {
   "cell_type": "markdown",
   "metadata": {},
   "source": [
    "<div style=\"color: white; border:solid green 2px; padding: 20px; background: LightSeaGreen\">\n",
    "    <p> Добавим в датафрейм еще 3 параметра - день, месяц и год публикации объявления\n",
    "</div>"
   ]
  },
  {
   "cell_type": "code",
   "execution_count": 68,
   "metadata": {
    "collapsed": true
   },
   "outputs": [],
   "source": [
    "df['day_weak_exposition'] = df['first_day_exposition'].dt.weekday\n",
    "df['month_exposition'] = pd.DatetimeIndex(df['first_day_exposition']).month\n",
    "df['year_exposition'] = pd.DatetimeIndex(df['first_day_exposition']).year"
   ]
  },
  {
   "cell_type": "markdown",
   "metadata": {},
   "source": [
    "<div style=\"color: white; border:solid green 2px; padding: 20px; background: LightSeaGreen\">\n",
    "    <p> Добавим в датафрейм столбец с сортировкой по этажам:\n",
    "        <li> 0 - первый этаж</li>\n",
    "        <li> 1 - другой этаж</li>\n",
    "        <li> 2 - последний этаж</li>\n",
    "    <p> Для этого создадим функцию, которая работает с полной строкой датафрейма.\n",
    "    <p> Применим эту функцию к датафрейму, создав новый параметр\n",
    "</div>"
   ]
  },
  {
   "cell_type": "code",
   "execution_count": 69,
   "metadata": {
    "collapsed": true
   },
   "outputs": [],
   "source": [
    "def which_floor(row):\n",
    "    if row['floor'] == 1:\n",
    "        return 0\n",
    "    elif row['floor'] == row['floors_total']:\n",
    "        return 2\n",
    "    else:\n",
    "        return 1\n",
    "\n",
    "df['apartment_floor'] = df.apply(which_floor, axis=1)"
   ]
  },
  {
   "cell_type": "markdown",
   "metadata": {},
   "source": [
    "<div style=\"color: white; border:solid green 2px; padding: 20px; background: LightSeaGreen\">\n",
    "    <p> Добавим в датафрейм еще 2 параметра:\n",
    "        <li>соотношение жилой и общей площади</li>\n",
    "        <li>отношение площади кухни к общей</li>\n",
    "</div>"
   ]
  },
  {
   "cell_type": "code",
   "execution_count": 70,
   "metadata": {
    "collapsed": true
   },
   "outputs": [],
   "source": [
    "df['living_area_to_total_area'] = df['living_area'] / df['total_area']\n",
    "df['kitchen_area_to_total_area'] = df['kitchen_area'] / df['total_area']"
   ]
  },
  {
   "cell_type": "markdown",
   "metadata": {},
   "source": [
    "<div style=\"color: white; border:solid green 2px; padding: 20px; background: LightSeaGreen\">\n",
    "    <p> Взглянем на результат\n",
    "</div>"
   ]
  },
  {
   "cell_type": "code",
   "execution_count": 71,
   "metadata": {},
   "outputs": [
    {
     "data": {
      "text/html": [
       "<div>\n",
       "<style scoped>\n",
       "    .dataframe tbody tr th:only-of-type {\n",
       "        vertical-align: middle;\n",
       "    }\n",
       "\n",
       "    .dataframe tbody tr th {\n",
       "        vertical-align: top;\n",
       "    }\n",
       "\n",
       "    .dataframe thead th {\n",
       "        text-align: right;\n",
       "    }\n",
       "</style>\n",
       "<table border=\"1\" class=\"dataframe\">\n",
       "  <thead>\n",
       "    <tr style=\"text-align: right;\">\n",
       "      <th></th>\n",
       "      <th>total_images</th>\n",
       "      <th>last_price</th>\n",
       "      <th>total_area</th>\n",
       "      <th>first_day_exposition</th>\n",
       "      <th>rooms</th>\n",
       "      <th>ceiling_height</th>\n",
       "      <th>floors_total</th>\n",
       "      <th>living_area</th>\n",
       "      <th>floor</th>\n",
       "      <th>is_apartment</th>\n",
       "      <th>...</th>\n",
       "      <th>ponds_nearest</th>\n",
       "      <th>days_exposition</th>\n",
       "      <th>new_local_name</th>\n",
       "      <th>price_per_square_metr</th>\n",
       "      <th>day_weak_exposition</th>\n",
       "      <th>month_exposition</th>\n",
       "      <th>year_exposition</th>\n",
       "      <th>apartment_floor</th>\n",
       "      <th>living_area_to_total_area</th>\n",
       "      <th>kitchen_area_to_total_area</th>\n",
       "    </tr>\n",
       "  </thead>\n",
       "  <tbody>\n",
       "    <tr>\n",
       "      <td>0</td>\n",
       "      <td>20</td>\n",
       "      <td>13000000</td>\n",
       "      <td>108.0</td>\n",
       "      <td>2019-03-07</td>\n",
       "      <td>3</td>\n",
       "      <td>2.70</td>\n",
       "      <td>16</td>\n",
       "      <td>51.0</td>\n",
       "      <td>8</td>\n",
       "      <td>False</td>\n",
       "      <td>...</td>\n",
       "      <td>755</td>\n",
       "      <td>95</td>\n",
       "      <td>Санкт-Петербург</td>\n",
       "      <td>120370.370370</td>\n",
       "      <td>3</td>\n",
       "      <td>3</td>\n",
       "      <td>2019</td>\n",
       "      <td>1</td>\n",
       "      <td>0.472222</td>\n",
       "      <td>0.231481</td>\n",
       "    </tr>\n",
       "    <tr>\n",
       "      <td>1</td>\n",
       "      <td>7</td>\n",
       "      <td>3350000</td>\n",
       "      <td>40.4</td>\n",
       "      <td>2018-12-04</td>\n",
       "      <td>1</td>\n",
       "      <td>2.65</td>\n",
       "      <td>11</td>\n",
       "      <td>18.6</td>\n",
       "      <td>1</td>\n",
       "      <td>False</td>\n",
       "      <td>...</td>\n",
       "      <td>5000</td>\n",
       "      <td>81</td>\n",
       "      <td>Шушары</td>\n",
       "      <td>82920.792079</td>\n",
       "      <td>1</td>\n",
       "      <td>12</td>\n",
       "      <td>2018</td>\n",
       "      <td>0</td>\n",
       "      <td>0.460396</td>\n",
       "      <td>0.272277</td>\n",
       "    </tr>\n",
       "    <tr>\n",
       "      <td>2</td>\n",
       "      <td>10</td>\n",
       "      <td>5196000</td>\n",
       "      <td>56.0</td>\n",
       "      <td>2015-08-20</td>\n",
       "      <td>2</td>\n",
       "      <td>2.65</td>\n",
       "      <td>5</td>\n",
       "      <td>34.3</td>\n",
       "      <td>4</td>\n",
       "      <td>False</td>\n",
       "      <td>...</td>\n",
       "      <td>574</td>\n",
       "      <td>558</td>\n",
       "      <td>Санкт-Петербург</td>\n",
       "      <td>92785.714286</td>\n",
       "      <td>3</td>\n",
       "      <td>8</td>\n",
       "      <td>2015</td>\n",
       "      <td>1</td>\n",
       "      <td>0.612500</td>\n",
       "      <td>0.148214</td>\n",
       "    </tr>\n",
       "    <tr>\n",
       "      <td>3</td>\n",
       "      <td>0</td>\n",
       "      <td>64900000</td>\n",
       "      <td>159.0</td>\n",
       "      <td>2015-07-24</td>\n",
       "      <td>3</td>\n",
       "      <td>2.65</td>\n",
       "      <td>14</td>\n",
       "      <td>30.0</td>\n",
       "      <td>9</td>\n",
       "      <td>False</td>\n",
       "      <td>...</td>\n",
       "      <td>234</td>\n",
       "      <td>424</td>\n",
       "      <td>Санкт-Петербург</td>\n",
       "      <td>408176.100629</td>\n",
       "      <td>4</td>\n",
       "      <td>7</td>\n",
       "      <td>2015</td>\n",
       "      <td>1</td>\n",
       "      <td>0.188679</td>\n",
       "      <td>0.057233</td>\n",
       "    </tr>\n",
       "    <tr>\n",
       "      <td>4</td>\n",
       "      <td>2</td>\n",
       "      <td>10000000</td>\n",
       "      <td>100.0</td>\n",
       "      <td>2018-06-19</td>\n",
       "      <td>2</td>\n",
       "      <td>3.03</td>\n",
       "      <td>14</td>\n",
       "      <td>32.0</td>\n",
       "      <td>13</td>\n",
       "      <td>False</td>\n",
       "      <td>...</td>\n",
       "      <td>48</td>\n",
       "      <td>121</td>\n",
       "      <td>Санкт-Петербург</td>\n",
       "      <td>100000.000000</td>\n",
       "      <td>1</td>\n",
       "      <td>6</td>\n",
       "      <td>2018</td>\n",
       "      <td>1</td>\n",
       "      <td>0.320000</td>\n",
       "      <td>0.410000</td>\n",
       "    </tr>\n",
       "  </tbody>\n",
       "</table>\n",
       "<p>5 rows × 30 columns</p>\n",
       "</div>"
      ],
      "text/plain": [
       "   total_images  last_price  total_area first_day_exposition  rooms  \\\n",
       "0            20    13000000       108.0           2019-03-07      3   \n",
       "1             7     3350000        40.4           2018-12-04      1   \n",
       "2            10     5196000        56.0           2015-08-20      2   \n",
       "3             0    64900000       159.0           2015-07-24      3   \n",
       "4             2    10000000       100.0           2018-06-19      2   \n",
       "\n",
       "   ceiling_height  floors_total  living_area  floor  is_apartment  ...  \\\n",
       "0            2.70            16         51.0      8         False  ...   \n",
       "1            2.65            11         18.6      1         False  ...   \n",
       "2            2.65             5         34.3      4         False  ...   \n",
       "3            2.65            14         30.0      9         False  ...   \n",
       "4            3.03            14         32.0     13         False  ...   \n",
       "\n",
       "   ponds_nearest  days_exposition   new_local_name  price_per_square_metr  \\\n",
       "0            755               95  Санкт-Петербург          120370.370370   \n",
       "1           5000               81           Шушары           82920.792079   \n",
       "2            574              558  Санкт-Петербург           92785.714286   \n",
       "3            234              424  Санкт-Петербург          408176.100629   \n",
       "4             48              121  Санкт-Петербург          100000.000000   \n",
       "\n",
       "  day_weak_exposition  month_exposition  year_exposition  apartment_floor  \\\n",
       "0                   3                 3             2019                1   \n",
       "1                   1                12             2018                0   \n",
       "2                   3                 8             2015                1   \n",
       "3                   4                 7             2015                1   \n",
       "4                   1                 6             2018                1   \n",
       "\n",
       "   living_area_to_total_area  kitchen_area_to_total_area  \n",
       "0                   0.472222                    0.231481  \n",
       "1                   0.460396                    0.272277  \n",
       "2                   0.612500                    0.148214  \n",
       "3                   0.188679                    0.057233  \n",
       "4                   0.320000                    0.410000  \n",
       "\n",
       "[5 rows x 30 columns]"
      ]
     },
     "execution_count": 71,
     "metadata": {},
     "output_type": "execute_result"
    }
   ],
   "source": [
    "df.head()"
   ]
  },
  {
   "cell_type": "markdown",
   "metadata": {},
   "source": [
    "<div style=\"border:solid green 2px; padding: 20px\"> \n",
    "    \n",
    "**Комментарий ревьюера**\n",
    "\n",
    "**#ок**\n",
    "\n",
    "Отлично, все необходимые расчеты сделаны верно\n",
    "    \n",
    "</div>"
   ]
  },
  {
   "cell_type": "markdown",
   "metadata": {},
   "source": [
    "<div style=\"color: white; border:solid green 2px; padding: 20px; background: LightSeaGreen\">\n",
    "    <p> Вывод: произведены необходимые расчеты, результаты этих расчетов добавлены в таблицу. Можно приступать к исследовательскому анализу данных.\n",
    "</div>"
   ]
  },
  {
   "cell_type": "markdown",
   "metadata": {},
   "source": [
    "## Исследовательский анализ данных"
   ]
  },
  {
   "cell_type": "markdown",
   "metadata": {},
   "source": [
    "<div style=\"color: white; border:solid green 2px; padding: 20px; background: LightSeaGreen\">\n",
    "    <p> Изучим параметры: 'total_area', 'last_price', 'rooms', 'ceiling_height'.\n",
    "    <p> Для этого создадим функцию, которая будет выводить из данных параметров в цикле максимально, минимальное, среднее и медианное значение, а также гистограмму распределения значений.\n",
    "</div>"
   ]
  },
  {
   "cell_type": "code",
   "execution_count": 72,
   "metadata": {
    "scrolled": false
   },
   "outputs": [
    {
     "name": "stdout",
     "output_type": "stream",
     "text": [
      "total_area\n"
     ]
    },
    {
     "data": {
      "image/png": "[encoded data removed]",
      "text/plain": [
       "<Figure size 720x360 with 1 Axes>"
      ]
     },
     "metadata": {
      "needs_background": "light"
     },
     "output_type": "display_data"
    },
    {
     "name": "stdout",
     "output_type": "stream",
     "text": [
      "MIN:  12.0\n",
      "MAX:  900.0\n",
      "MEAN:  60.34865099793241\n",
      "MEDIAN:  52.0\n",
      "\n",
      "last_price\n"
     ]
    },
    {
     "data": {
      "image/png": "[encoded data removed]",
      "text/plain": [
       "<Figure size 720x360 with 1 Axes>"
      ]
     },
     "metadata": {
      "needs_background": "light"
     },
     "output_type": "display_data"
    },
    {
     "name": "stdout",
     "output_type": "stream",
     "text": [
      "MIN:  12190\n",
      "MAX:  763000000\n",
      "MEAN:  6541548.771551542\n",
      "MEDIAN:  4650000.0\n",
      "\n",
      "rooms\n"
     ]
    },
    {
     "data": {
      "image/png": "[encoded data removed]",
      "text/plain": [
       "<Figure size 720x360 with 1 Axes>"
      ]
     },
     "metadata": {
      "needs_background": "light"
     },
     "output_type": "display_data"
    },
    {
     "name": "stdout",
     "output_type": "stream",
     "text": [
      "MIN:  0\n",
      "MAX:  19\n",
      "MEAN:  2.070635891809781\n",
      "MEDIAN:  2.0\n",
      "\n",
      "ceiling_height\n"
     ]
    },
    {
     "data": {
      "image/png": "[encoded data removed]",
      "text/plain": [
       "<Figure size 720x360 with 1 Axes>"
      ]
     },
     "metadata": {
      "needs_background": "light"
     },
     "output_type": "display_data"
    },
    {
     "name": "stdout",
     "output_type": "stream",
     "text": [
      "MIN:  1.0\n",
      "MAX:  100.0\n",
      "MEAN:  2.724358411747331\n",
      "MEDIAN:  2.65\n",
      "\n"
     ]
    }
   ],
   "source": [
    "params = ['total_area', 'last_price', 'rooms', 'ceiling_height']\n",
    "\n",
    "for par in params:\n",
    "    print(par)\n",
    "    m = 'string'\n",
    "    if par == 'total_area':\n",
    "        m = 'Общая площадь'\n",
    "    elif par == 'last_price':\n",
    "        m = 'Стоимость'\n",
    "    elif par == 'rooms':\n",
    "        m = 'Количество комнат'\n",
    "    elif par == 'ceiling_height':\n",
    "        m = 'Высота потолков'\n",
    "   \n",
    "    df[par].plot(kind='hist', figsize=(10,5), bins=50, grid=False, title=m)\n",
    "    plt.xlabel('index')\n",
    "    plt.ylabel('frequency')\n",
    "    plt.show()\n",
    "    \n",
    "    print('MIN: ', df[par].min())\n",
    "    print('MAX: ', df[par].max())\n",
    "    print('MEAN: ', df[par].mean())\n",
    "    print('MEDIAN: ', df[par].median())\n",
    "    print()"
   ]
  },
  {
   "cell_type": "markdown",
   "metadata": {},
   "source": [
    "<div style=\"color: white; border:solid green 2px; padding: 20px; background: LightSeaGreen\">\n",
    "    <p> Все 4 параметра имеют вбросы, нужно их отфильтровать.\n",
    "        <li>'total_area' судя по графику, можно сохранить значения от 0 до 300, дальше уже идут редковстречающиеся значения</li>\n",
    "        <li>'last_price' также крайне редко встречаются сверх 80 млн</li>\n",
    "        <li>'rooms' оставим значения менее или ровно 10 комнатам</li>\n",
    "        <li>'ceiling_height' - высота патолков реально бывает от 2 до максимум 4 метром, отбросим иные значения</li>\n",
    "</div>"
   ]
  },
  {
   "cell_type": "code",
   "execution_count": 73,
   "metadata": {
    "collapsed": true
   },
   "outputs": [],
   "source": [
    "  df = df.query('total_area <= 300')\n",
    "  df = df.query('last_price <= 0.8*10**8')\n",
    "  df = df.query('rooms <= 10')\n",
    "  df = df.query('2 <= ceiling_height <= 4')"
   ]
  },
  {
   "cell_type": "markdown",
   "metadata": {},
   "source": [
    "<div style=\"color: white; border:solid green 2px; padding: 20px; background: LightSeaGreen\">\n",
    "    <p> Проверим как изменились гистограммы и параметры\n",
    "</div>"
   ]
  },
  {
   "cell_type": "code",
   "execution_count": 74,
   "metadata": {
    "scrolled": true
   },
   "outputs": [
    {
     "name": "stdout",
     "output_type": "stream",
     "text": [
      "total_area\n"
     ]
    },
    {
     "data": {
      "image/png": "[encoded data removed]",
      "text/plain": [
       "<Figure size 720x360 with 1 Axes>"
      ]
     },
     "metadata": {
      "needs_background": "light"
     },
     "output_type": "display_data"
    },
    {
     "name": "stdout",
     "output_type": "stream",
     "text": [
      "MIN:  12.0\n",
      "MAX:  300.0\n",
      "MEAN:  59.11029411764706\n",
      "MEDIAN:  52.0\n",
      "\n",
      "last_price\n"
     ]
    },
    {
     "data": {
      "image/png": "[encoded data removed]",
      "text/plain": [
       "<Figure size 720x360 with 1 Axes>"
      ]
     },
     "metadata": {
      "needs_background": "light"
     },
     "output_type": "display_data"
    },
    {
     "name": "stdout",
     "output_type": "stream",
     "text": [
      "MIN:  12190\n",
      "MAX:  80000000\n",
      "MEAN:  6100101.944619177\n",
      "MEDIAN:  4600000.0\n",
      "\n",
      "rooms\n"
     ]
    },
    {
     "data": {
      "image/png": "[encoded data removed]",
      "text/plain": [
       "<Figure size 720x360 with 1 Axes>"
      ]
     },
     "metadata": {
      "needs_background": "light"
     },
     "output_type": "display_data"
    },
    {
     "name": "stdout",
     "output_type": "stream",
     "text": [
      "MIN:  0\n",
      "MAX:  10\n",
      "MEAN:  2.0529581774906496\n",
      "MEDIAN:  2.0\n",
      "\n",
      "ceiling_height\n"
     ]
    },
    {
     "data": {
      "image/png": "[encoded data removed]",
      "text/plain": [
       "<Figure size 720x360 with 1 Axes>"
      ]
     },
     "metadata": {
      "needs_background": "light"
     },
     "output_type": "display_data"
    },
    {
     "name": "stdout",
     "output_type": "stream",
     "text": [
      "MIN:  2.0\n",
      "MAX:  4.0\n",
      "MEAN:  2.691883713022781\n",
      "MEDIAN:  2.65\n",
      "\n"
     ]
    }
   ],
   "source": [
    "for par in params:\n",
    "    print(par)\n",
    "    m = 'string'\n",
    "    if par == 'total_area':\n",
    "        m = 'Общая площадь'\n",
    "    elif par == 'last_price':\n",
    "        m = 'Стоимость'\n",
    "    elif par == 'rooms':\n",
    "        m = 'Количество комнат'\n",
    "    elif par == 'ceiling_height':\n",
    "        m = 'Высота потолков'\n",
    "   \n",
    "    df[par].plot(kind='hist', figsize=(10,5), bins=50, grid=False, title=m)\n",
    "    plt.xlabel('index')\n",
    "    plt.ylabel('frequency')\n",
    "    plt.show()\n",
    "    \n",
    "    print('MIN: ', df[par].min())\n",
    "    print('MAX: ', df[par].max())\n",
    "    print('MEAN: ', df[par].mean())\n",
    "    print('MEDIAN: ', df[par].median())\n",
    "    print()"
   ]
  },
  {
   "cell_type": "markdown",
   "metadata": {},
   "source": [
    "<div style=\"border:solid green 2px; padding: 20px\"> \n",
    "    \n",
    "**Комментарий ревьюера**\n",
    "\n",
    "**#ок**\n",
    "\n",
    "Гистограммы здорово построены, молодец. Дополнительно для всех графиков стоит делать развернутые заголовки и понятные подписи осей\n",
    "    \n",
    "</div>"
   ]
  },
  {
   "cell_type": "markdown",
   "metadata": {},
   "source": [
    "выполнено задание: \"Изучите время продажи квартиры. Постройте гистограмму. Посчитайте среднее и медиану. \n",
    "Опишите, сколько обычно занимает продажа. \n",
    "Когда можно считать, что продажи прошли очень быстро, а когда необычно долго?\"\n",
    "выполнено задание: \"Уберите редкие и выбивающиеся значения. Опишите, какие особенности обнаружили.\""
   ]
  },
  {
   "cell_type": "markdown",
   "metadata": {},
   "source": [
    "<div style=\"color: white; border:solid green 2px; padding: 20px; background: LightSeaGreen\">\n",
    "<p> Изучим время продажи квартир. \n",
    "<p> Посмотрим на гистограмму.\n",
    "</div>"
   ]
  },
  {
   "cell_type": "code",
   "execution_count": 115,
   "metadata": {},
   "outputs": [
    {
     "data": {
      "image/png": "[encoded data removed]",
      "text/plain": [
       "<Figure size 720x360 with 1 Axes>"
      ]
     },
     "metadata": {
      "needs_background": "light"
     },
     "output_type": "display_data"
    }
   ],
   "source": [
    "df['days_exposition'].hist(figsize=(10,5), bins=200, grid=False)\n",
    "plt.show()"
   ]
  },
  {
   "cell_type": "markdown",
   "metadata": {},
   "source": [
    "<div style=\"color: white; border:solid green 2px; padding: 20px; background: LightSeaGreen\">\n",
    "<p>Из гистограммы видно, что чаще всего квартиры покупают с первых дней по 200 день с момента публикации объявления.\n",
    "<p>Есть периоды, когда продажи идут особенно интенсивно. Вероято в эти дни объявления поднимают в топ.\n",
    "<p>Рассмотрим эти пиковые значения более внимательно (просмотрим начальные 200 значений гистограммы, распределение значений, среднее и медианное значение).\n",
    "</div>"
   ]
  },
  {
   "cell_type": "code",
   "execution_count": 116,
   "metadata": {
    "scrolled": true
   },
   "outputs": [
    {
     "data": {
      "image/png": "[encoded data removed]",
      "text/plain": [
       "<Figure size 720x360 with 1 Axes>"
      ]
     },
     "metadata": {
      "needs_background": "light"
     },
     "output_type": "display_data"
    },
    {
     "name": "stdout",
     "output_type": "stream",
     "text": [
      "95    3211\n",
      "45     879\n",
      "60     537\n",
      "7      233\n",
      "30     207\n",
      "90     202\n",
      "4      176\n",
      "3      158\n",
      "5      151\n",
      "14     144\n",
      "9      142\n",
      "44     138\n",
      "20     138\n",
      "8      137\n",
      "11     135\n",
      "13     127\n",
      "10     127\n",
      "18     126\n",
      "28     125\n",
      "22     125\n",
      "Name: days_exposition, dtype: int64\n",
      "mean =  168.85323869432165\n",
      "median =  95.0\n"
     ]
    }
   ],
   "source": [
    "df['days_exposition'].hist(figsize=(10,5), bins=200, grid=False, range=(0,200))\n",
    "plt.show()\n",
    "print(df['days_exposition'].value_counts().head(20))\n",
    "print('mean = ', df['days_exposition'].mean())\n",
    "print('median = ', df['days_exposition'].median())"
   ]
  },
  {
   "cell_type": "markdown",
   "metadata": {},
   "source": [
    "<div style=\"color: white; border:solid green 2px; padding: 20px; background: LightSeaGreen\">\n",
    "<p> Максимальное значение приходится на значение 95, что соответствует нашей медиане.\n",
    "<p> Далее в порядке убывания идут значения: 45, 60, 7, 30, 90. Вероятно в эти дни публикации выходят в топ.\n",
    "</div>"
   ]
  },
  {
   "cell_type": "markdown",
   "metadata": {},
   "source": [
    "<div style=\"color: white; border:solid green 2px; padding: 20px; background: LightSeaGreen\">\n",
    "<p> Нужно убрать те значения которые встречаются редко (хвост гистограммы), при этом чтобы % отфильтрованных данных было более 5%. \n",
    "</div>"
   ]
  },
  {
   "cell_type": "code",
   "execution_count": 117,
   "metadata": {
    "collapsed": true
   },
   "outputs": [],
   "source": [
    "days_exposition_slice = df.query('days_exposition < 650')\n",
    "# days_exposition_slice = days_exposition_slice.query('days_exposition != 95')"
   ]
  },
  {
   "cell_type": "markdown",
   "metadata": {},
   "source": [
    "<div style=\"color: white; border:solid green 2px; padding: 20px; background: LightSeaGreen\">\n",
    "<p> Посмотрим как изменилась гистограмма, среднее и медианное значение\n",
    "</div>"
   ]
  },
  {
   "cell_type": "code",
   "execution_count": 118,
   "metadata": {
    "scrolled": true
   },
   "outputs": [
    {
     "data": {
      "image/png": "[encoded data removed]",
      "text/plain": [
       "<Figure size 720x360 with 1 Axes>"
      ]
     },
     "metadata": {
      "needs_background": "light"
     },
     "output_type": "display_data"
    },
    {
     "name": "stdout",
     "output_type": "stream",
     "text": [
      "mean =  136.62109375\n",
      "median =  95.0\n"
     ]
    }
   ],
   "source": [
    "days_exposition_slice['days_exposition'].hist(figsize=(10,5), bins = 200, grid=False)\n",
    "plt.show()\n",
    "print('mean = ', days_exposition_slice['days_exposition'].mean())\n",
    "print('median = ', days_exposition_slice['days_exposition'].median())"
   ]
  },
  {
   "cell_type": "markdown",
   "metadata": {},
   "source": [
    "<div style=\"color: white; border:solid green 2px; padding: 20px; background: LightSeaGreen\">\n",
    "<p> Посчитаем процент отфильтрованных элементов\n",
    "</div>"
   ]
  },
  {
   "cell_type": "code",
   "execution_count": 119,
   "metadata": {},
   "outputs": [
    {
     "name": "stdout",
     "output_type": "stream",
     "text": [
      "Процент отфильтрованных элементов: 95.75%\n"
     ]
    }
   ],
   "source": [
    "print('Процент отфильтрованных элементов: {:.2%}'.format(\n",
    "    len(days_exposition_slice['days_exposition']) / len(df['days_exposition'])))"
   ]
  },
  {
   "cell_type": "markdown",
   "metadata": {},
   "source": [
    "<div style=\"color: white; border:solid green 2px; padding: 20px; background: LightSeaGreen\">\n",
    "    <p> <b>Вывод:</b> Таким образом, максимальный шанс продать квартиру находится около 95 дня с момента подачи объявления.\n",
    "</div>"
   ]
  },
  {
   "cell_type": "markdown",
   "metadata": {},
   "source": [
    "<div style=\"color: white; border:solid green 2px; padding: 20px; background: LightSeaGreen\">\n",
    "<p> Определим какие факторы больше всего влияют на стоимость квартиры.\n",
    "<p>Проанализируем следующие факторы: стоимость, общая площадь, количество комнат, удаленность от центра города, этаж.\n",
    "<p> Для этого вызовем метод plotting.scatter_matrix, передав эти значения в качестве параметра\n",
    "</div>"
   ]
  },
  {
   "cell_type": "code",
   "execution_count": 135,
   "metadata": {},
   "outputs": [
    {
     "data": {
      "text/html": [
       "<div>\n",
       "<style scoped>\n",
       "    .dataframe tbody tr th:only-of-type {\n",
       "        vertical-align: middle;\n",
       "    }\n",
       "\n",
       "    .dataframe tbody tr th {\n",
       "        vertical-align: top;\n",
       "    }\n",
       "\n",
       "    .dataframe thead th {\n",
       "        text-align: right;\n",
       "    }\n",
       "</style>\n",
       "<table border=\"1\" class=\"dataframe\">\n",
       "  <thead>\n",
       "    <tr style=\"text-align: right;\">\n",
       "      <th></th>\n",
       "      <th>last_price</th>\n",
       "      <th>total_area</th>\n",
       "      <th>rooms</th>\n",
       "      <th>cityCenters_nearest</th>\n",
       "      <th>apartment_floor</th>\n",
       "    </tr>\n",
       "  </thead>\n",
       "  <tbody>\n",
       "    <tr>\n",
       "      <td>last_price</td>\n",
       "      <td>1.000000</td>\n",
       "      <td>0.761694</td>\n",
       "      <td>0.469531</td>\n",
       "      <td>-0.293524</td>\n",
       "      <td>0.055368</td>\n",
       "    </tr>\n",
       "    <tr>\n",
       "      <td>total_area</td>\n",
       "      <td>0.761694</td>\n",
       "      <td>1.000000</td>\n",
       "      <td>0.788467</td>\n",
       "      <td>-0.226709</td>\n",
       "      <td>0.052327</td>\n",
       "    </tr>\n",
       "    <tr>\n",
       "      <td>rooms</td>\n",
       "      <td>0.469531</td>\n",
       "      <td>0.788467</td>\n",
       "      <td>1.000000</td>\n",
       "      <td>-0.160804</td>\n",
       "      <td>0.018751</td>\n",
       "    </tr>\n",
       "    <tr>\n",
       "      <td>cityCenters_nearest</td>\n",
       "      <td>-0.293524</td>\n",
       "      <td>-0.226709</td>\n",
       "      <td>-0.160804</td>\n",
       "      <td>1.000000</td>\n",
       "      <td>-0.023001</td>\n",
       "    </tr>\n",
       "    <tr>\n",
       "      <td>apartment_floor</td>\n",
       "      <td>0.055368</td>\n",
       "      <td>0.052327</td>\n",
       "      <td>0.018751</td>\n",
       "      <td>-0.023001</td>\n",
       "      <td>1.000000</td>\n",
       "    </tr>\n",
       "  </tbody>\n",
       "</table>\n",
       "</div>"
      ],
      "text/plain": [
       "                     last_price  total_area     rooms  cityCenters_nearest  \\\n",
       "last_price             1.000000    0.761694  0.469531            -0.293524   \n",
       "total_area             0.761694    1.000000  0.788467            -0.226709   \n",
       "rooms                  0.469531    0.788467  1.000000            -0.160804   \n",
       "cityCenters_nearest   -0.293524   -0.226709 -0.160804             1.000000   \n",
       "apartment_floor        0.055368    0.052327  0.018751            -0.023001   \n",
       "\n",
       "                     apartment_floor  \n",
       "last_price                  0.055368  \n",
       "total_area                  0.052327  \n",
       "rooms                       0.018751  \n",
       "cityCenters_nearest        -0.023001  \n",
       "apartment_floor             1.000000  "
      ]
     },
     "metadata": {},
     "output_type": "display_data"
    },
    {
     "data": {
      "image/png": "[encoded data removed]",
      "text/plain": [
       "<Figure size 432x432 with 25 Axes>"
      ]
     },
     "metadata": {
      "needs_background": "light"
     },
     "output_type": "display_data"
    }
   ],
   "source": [
    "df_corr = df[['last_price', \n",
    "              'total_area', \n",
    "              'rooms', \n",
    "              'cityCenters_nearest', \n",
    "              'apartment_floor']]\n",
    "display(df_corr.corr())\n",
    "pd.plotting.scatter_matrix(df_corr, figsize=(6, 6))\n",
    "plt.show()"
   ]
  },
  {
   "cell_type": "markdown",
   "metadata": {},
   "source": [
    "<div style=\"color: white; border:solid green 2px; padding: 20px; background: LightSeaGreen\">\n",
    "<p> Исходя из данных корреляции больше всего на стоимость квартиры влияет общая площадь (прямопропорционально), \n",
    "затем количество комнат (прямопропорционально) и удаленность от центра (обратнопропорционально)\n",
    "    <p>\n",
    "    <p> Повторим то же самое с днем, месяцем и годом публикации.\n",
    "</div>"
   ]
  },
  {
   "cell_type": "code",
   "execution_count": null,
   "metadata": {
    "collapsed": true
   },
   "outputs": [],
   "source": [
    "df_corr = df[['last_price', \n",
    "              'day_week_exposition', \n",
    "              'month_exposition', \n",
    "              'year_exposition', \n",
    "              'first_day_exposition']]\n",
    "display(df_corr.corr())\n",
    "\n",
    "pd.plotting.scatter_matrix(df_corr, figsize=(10, 10))\n",
    "plt.show()"
   ]
  },
  {
   "cell_type": "markdown",
   "metadata": {},
   "source": [
    "<div style=\"color: white; border:solid green 2px; padding: 20px; background: LightSeaGreen\">\n",
    "<p> Исходя из корреляций, нет никакой зависимости параметра last_price от дня, месяца и года публикации объявления\n",
    "</div>"
   ]
  },
  {
   "cell_type": "markdown",
   "metadata": {},
   "source": [
    "<div style=\"color: white; border:solid green 2px; padding: 20px; background: LightSeaGreen\">\n",
    "<p> Выберем 10 населённых пунктов с наибольшим числом объявлений. \n",
    "</div>"
   ]
  },
  {
   "cell_type": "code",
   "execution_count": 136,
   "metadata": {
    "collapsed": true
   },
   "outputs": [],
   "source": [
    "df_tmp = df.groupby('locality_name')['price_per_square_metr'].count().sort_values(ascending=False).head(10)"
   ]
  },
  {
   "cell_type": "markdown",
   "metadata": {},
   "source": [
    "<div style=\"color: white; border:solid green 2px; padding: 20px; background: LightSeaGreen\">\n",
    "<p> Выделим населённые пункты с самой высокой и низкой стоимостью жилья\n",
    "</div>"
   ]
  },
  {
   "cell_type": "code",
   "execution_count": 152,
   "metadata": {},
   "outputs": [
    {
     "name": "stdout",
     "output_type": "stream",
     "text": [
      "Пункты с самой высокой стоимостью жилья:\n"
     ]
    },
    {
     "data": {
      "text/html": [
       "<div>\n",
       "<style scoped>\n",
       "    .dataframe tbody tr th:only-of-type {\n",
       "        vertical-align: middle;\n",
       "    }\n",
       "\n",
       "    .dataframe tbody tr th {\n",
       "        vertical-align: top;\n",
       "    }\n",
       "\n",
       "    .dataframe thead th {\n",
       "        text-align: right;\n",
       "    }\n",
       "</style>\n",
       "<table border=\"1\" class=\"dataframe\">\n",
       "  <thead>\n",
       "    <tr style=\"text-align: right;\">\n",
       "      <th></th>\n",
       "      <th>index</th>\n",
       "      <th>new_local_name</th>\n",
       "      <th>last_price</th>\n",
       "    </tr>\n",
       "  </thead>\n",
       "  <tbody>\n",
       "    <tr>\n",
       "      <td>0</td>\n",
       "      <td>204</td>\n",
       "      <td>Репино</td>\n",
       "      <td>1.216685e+07</td>\n",
       "    </tr>\n",
       "    <tr>\n",
       "      <td>1</td>\n",
       "      <td>280</td>\n",
       "      <td>Хязельки</td>\n",
       "      <td>1.100000e+07</td>\n",
       "    </tr>\n",
       "    <tr>\n",
       "      <td>2</td>\n",
       "      <td>3</td>\n",
       "      <td>Александровская</td>\n",
       "      <td>8.725000e+06</td>\n",
       "    </tr>\n",
       "    <tr>\n",
       "      <td>3</td>\n",
       "      <td>215</td>\n",
       "      <td>Санкт-Петербург</td>\n",
       "      <td>7.412940e+06</td>\n",
       "    </tr>\n",
       "    <tr>\n",
       "      <td>4</td>\n",
       "      <td>16</td>\n",
       "      <td>Бор</td>\n",
       "      <td>7.098400e+06</td>\n",
       "    </tr>\n",
       "    <tr>\n",
       "      <td>5</td>\n",
       "      <td>1</td>\n",
       "      <td>unknown</td>\n",
       "      <td>6.745167e+06</td>\n",
       "    </tr>\n",
       "    <tr>\n",
       "      <td>6</td>\n",
       "      <td>230</td>\n",
       "      <td>Сестрорецк</td>\n",
       "      <td>6.341722e+06</td>\n",
       "    </tr>\n",
       "    <tr>\n",
       "      <td>7</td>\n",
       "      <td>62</td>\n",
       "      <td>Зеленогорск</td>\n",
       "      <td>6.288338e+06</td>\n",
       "    </tr>\n",
       "    <tr>\n",
       "      <td>8</td>\n",
       "      <td>193</td>\n",
       "      <td>Пушкин</td>\n",
       "      <td>6.283536e+06</td>\n",
       "    </tr>\n",
       "    <tr>\n",
       "      <td>9</td>\n",
       "      <td>246</td>\n",
       "      <td>Стрельна</td>\n",
       "      <td>4.984500e+06</td>\n",
       "    </tr>\n",
       "  </tbody>\n",
       "</table>\n",
       "</div>"
      ],
      "text/plain": [
       "   index   new_local_name    last_price\n",
       "0    204           Репино  1.216685e+07\n",
       "1    280         Хязельки  1.100000e+07\n",
       "2      3  Александровская  8.725000e+06\n",
       "3    215  Санкт-Петербург  7.412940e+06\n",
       "4     16              Бор  7.098400e+06\n",
       "5      1          unknown  6.745167e+06\n",
       "6    230       Сестрорецк  6.341722e+06\n",
       "7     62      Зеленогорск  6.288338e+06\n",
       "8    193           Пушкин  6.283536e+06\n",
       "9    246         Стрельна  4.984500e+06"
      ]
     },
     "metadata": {},
     "output_type": "display_data"
    },
    {
     "data": {
      "image/png": "[encoded data removed]",
      "text/plain": [
       "<Figure size 288x288 with 1 Axes>"
      ]
     },
     "metadata": {
      "needs_background": "light"
     },
     "output_type": "display_data"
    },
    {
     "name": "stdout",
     "output_type": "stream",
     "text": [
      "\n",
      "Пункты с самой низкой стоимостью жилья:\n"
     ]
    },
    {
     "data": {
      "text/html": [
       "<div>\n",
       "<style scoped>\n",
       "    .dataframe tbody tr th:only-of-type {\n",
       "        vertical-align: middle;\n",
       "    }\n",
       "\n",
       "    .dataframe tbody tr th {\n",
       "        vertical-align: top;\n",
       "    }\n",
       "\n",
       "    .dataframe thead th {\n",
       "        text-align: right;\n",
       "    }\n",
       "</style>\n",
       "<table border=\"1\" class=\"dataframe\">\n",
       "  <thead>\n",
       "    <tr style=\"text-align: right;\">\n",
       "      <th></th>\n",
       "      <th>index</th>\n",
       "      <th>new_local_name</th>\n",
       "      <th>last_price</th>\n",
       "    </tr>\n",
       "  </thead>\n",
       "  <tbody>\n",
       "    <tr>\n",
       "      <td>286</td>\n",
       "      <td>228</td>\n",
       "      <td>Серебрянский</td>\n",
       "      <td>742500.0</td>\n",
       "    </tr>\n",
       "    <tr>\n",
       "      <td>287</td>\n",
       "      <td>93</td>\n",
       "      <td>Коркино</td>\n",
       "      <td>650000.0</td>\n",
       "    </tr>\n",
       "    <tr>\n",
       "      <td>288</td>\n",
       "      <td>282</td>\n",
       "      <td>Цвылево</td>\n",
       "      <td>650000.0</td>\n",
       "    </tr>\n",
       "    <tr>\n",
       "      <td>289</td>\n",
       "      <td>275</td>\n",
       "      <td>Фалилеево</td>\n",
       "      <td>650000.0</td>\n",
       "    </tr>\n",
       "    <tr>\n",
       "      <td>290</td>\n",
       "      <td>292</td>\n",
       "      <td>Ям-Тесово</td>\n",
       "      <td>625000.0</td>\n",
       "    </tr>\n",
       "    <tr>\n",
       "      <td>291</td>\n",
       "      <td>35</td>\n",
       "      <td>Выскатка</td>\n",
       "      <td>585000.0</td>\n",
       "    </tr>\n",
       "    <tr>\n",
       "      <td>292</td>\n",
       "      <td>220</td>\n",
       "      <td>Свирь</td>\n",
       "      <td>575000.0</td>\n",
       "    </tr>\n",
       "    <tr>\n",
       "      <td>293</td>\n",
       "      <td>237</td>\n",
       "      <td>Совхозный</td>\n",
       "      <td>517500.0</td>\n",
       "    </tr>\n",
       "    <tr>\n",
       "      <td>294</td>\n",
       "      <td>242</td>\n",
       "      <td>Старополье</td>\n",
       "      <td>460000.0</td>\n",
       "    </tr>\n",
       "    <tr>\n",
       "      <td>295</td>\n",
       "      <td>23</td>\n",
       "      <td>Вахнова</td>\n",
       "      <td>450000.0</td>\n",
       "    </tr>\n",
       "  </tbody>\n",
       "</table>\n",
       "</div>"
      ],
      "text/plain": [
       "     index new_local_name  last_price\n",
       "286    228   Серебрянский    742500.0\n",
       "287     93        Коркино    650000.0\n",
       "288    282        Цвылево    650000.0\n",
       "289    275      Фалилеево    650000.0\n",
       "290    292      Ям-Тесово    625000.0\n",
       "291     35       Выскатка    585000.0\n",
       "292    220          Свирь    575000.0\n",
       "293    237      Совхозный    517500.0\n",
       "294    242     Старополье    460000.0\n",
       "295     23        Вахнова    450000.0"
      ]
     },
     "metadata": {},
     "output_type": "display_data"
    },
    {
     "data": {
      "image/png": "[encoded data removed]",
      "text/plain": [
       "<Figure size 288x288 with 1 Axes>"
      ]
     },
     "metadata": {
      "needs_background": "light"
     },
     "output_type": "display_data"
    }
   ],
   "source": [
    "df_tmp = df.pivot_table(index='new_local_name', values='last_price', aggfunc='mean').reset_index()\n",
    "df_tmp = df_tmp.sort_values(by='last_price', ascending=False).reset_index()\n",
    "print('Пункты с самой высокой стоимостью жилья:')\n",
    "display(df_tmp.head(10))\n",
    "df_tmp.head(10).plot.barh(x='new_local_name', y='last_price', figsize=(4, 4), rot=True)\n",
    "plt.xlabel('Стоимость квартиры, 1=10 млн')\n",
    "plt.show()\n",
    "print()\n",
    "print('Пункты с самой низкой стоимостью жилья:')\n",
    "display(df_tmp.tail(10))\n",
    "df_tmp.tail(10).plot.barh(x='new_local_name', y='last_price', figsize=(4, 4))\n",
    "plt.xlabel('Стоимость квартиры')\n",
    "plt.show()"
   ]
  },
  {
   "cell_type": "markdown",
   "metadata": {},
   "source": [
    "<div style=\"color: white; border:solid green 2px; padding: 20px; background: LightSeaGreen\">\n",
    "<p> Зависимость цены относительно центра города\n",
    "</div>"
   ]
  },
  {
   "cell_type": "markdown",
   "metadata": {},
   "source": [
    "<div style=\"color: white; border:solid green 2px; padding: 20px; background: LightSeaGreen\">\n",
    "<p> Выделим все квартиры с именем Санкт-Петербург\n",
    "</div>"
   ]
  },
  {
   "cell_type": "code",
   "execution_count": 156,
   "metadata": {
    "collapsed": true
   },
   "outputs": [],
   "source": [
    "apartments_in_spb = df.query('locality_name == \"Санкт-Петербург\"')"
   ]
  },
  {
   "cell_type": "markdown",
   "metadata": {},
   "source": [
    "<div style=\"color: white; border:solid green 2px; padding: 20px; background: LightSeaGreen\">\n",
    "<p> Создадим сводную таблицу, сводящую цену с степенью удаленности от центра и выведем эти значения на граффик scatter\n",
    "</div>"
   ]
  },
  {
   "cell_type": "code",
   "execution_count": 159,
   "metadata": {},
   "outputs": [
    {
     "data": {
      "image/png": "[encoded data removed]",
      "text/plain": [
       "<Figure size 720x720 with 1 Axes>"
      ]
     },
     "metadata": {
      "needs_background": "light"
     },
     "output_type": "display_data"
    }
   ],
   "source": [
    "apartments_in_spb_pivot = apartments_in_spb.pivot_table(index='cityCenters_nearest', values = 'last_price', aggfunc='mean').reset_index().rename(columns={'last_price':'mean_price'})\n",
    "apartments_in_spb_pivot.plot.scatter(x='cityCenters_nearest', y='mean_price', figsize=(10,10))\n",
    "plt.show()"
   ]
  },
  {
   "cell_type": "markdown",
   "metadata": {},
   "source": [
    "<div style=\"color: white; border:solid green 2px; padding: 20px; background: LightSeaGreen\">\n",
    "<p> Из графика видно, что цена за квартиры резко снижаются примерно при удаленности от центра города на 10 км и далее. Таким образом по отношению к центру выборку можно разделить на 2 части:\n",
    "    <li> менее 10 000 метров от центра - будет относиться к центру города</li>\n",
    "    <li> более 10 000 метров от центра - будет относиться пригороду</li>\n",
    "        \n",
    "</div>"
   ]
  },
  {
   "cell_type": "code",
   "execution_count": 161,
   "metadata": {
    "collapsed": true
   },
   "outputs": [],
   "source": [
    "# центр\n",
    "city_center = df.query('cityCenters_nearest <= 10000')\n",
    "\n",
    "# пригород\n",
    "suburb = df.query('cityCenters_nearest > 10000')"
   ]
  },
  {
   "cell_type": "markdown",
   "metadata": {},
   "source": [
    "<div style=\"color: white; border:solid green 2px; padding: 20px; background: LightSeaGreen\">\n",
    "<p> Проведем анализ для центра города       \n",
    "</div>"
   ]
  },
  {
   "cell_type": "code",
   "execution_count": 183,
   "metadata": {},
   "outputs": [
    {
     "name": "stdout",
     "output_type": "stream",
     "text": [
      "Количество квартир в объявлениях, которые продаются в центре: 4975 или 32% от всех объявлений в Санкт-Петерьбурге\n",
      "Максимальная стоимость квартиры 80000000\n",
      "Миниальная стоимость квартиры 12190\n",
      "Средняя стоимость квартиры 10891915.089849247\n",
      "Медианная стоимость квартиры 8000000.0\n"
     ]
    },
    {
     "data": {
      "image/png": "[encoded data removed]",
      "text/plain": [
       "<Figure size 432x288 with 1 Axes>"
      ]
     },
     "metadata": {
      "needs_background": "light"
     },
     "output_type": "display_data"
    }
   ],
   "source": [
    "spb_apartment = df.query('new_local_name == \"Санкт-Петербург\"')\n",
    "print('Количество квартир в объявлениях, которые продаются в центре: {} или {:.0%} от всех объявлений в Санкт-Петерьбурге'.format(len(city_center), len(city_center)/len(spb_apartment)))\n",
    "print('Максимальная стоимость квартиры {}'.format(city_center['last_price'].max()))\n",
    "print('Миниальная стоимость квартиры {}'.format(city_center['last_price'].min()))\n",
    "print('Средняя стоимость квартиры {}'.format(city_center['last_price'].mean()))\n",
    "print('Медианная стоимость квартиры {}'.format(city_center['last_price'].median()))\n",
    "city_center['last_price'].plot.hist(bins=20)\n",
    "plt.show()"
   ]
  },
  {
   "cell_type": "markdown",
   "metadata": {},
   "source": [
    "<div style=\"color: white; border:solid green 2px; padding: 20px; background: LightSeaGreen\">\n",
    "<p> Из гистограммы видно, что больше всего квартир в центре продается в диапазоне цен от 5 до 15 млн. Средняя цена квартиры 8 млн. Есть очень дорогие квартиры до 800 млн, а также около 500 объявлений с ценой за квартиру до 5 млн рублей. Сравним результаты для всего города.\n",
    "</div>"
   ]
  },
  {
   "cell_type": "code",
   "execution_count": 186,
   "metadata": {},
   "outputs": [
    {
     "name": "stdout",
     "output_type": "stream",
     "text": [
      "Количество квартир в объявлениях, которые продаются в центре: 15572 или 66% от всех объявлений в датасете\n",
      "Максимальная стоимость квартиры 80000000\n",
      "Миниальная стоимость квартиры 12190\n",
      "Средняя стоимость квартиры 7412940.395710249\n",
      "Медианная стоимость квартиры 5500000.0\n"
     ]
    },
    {
     "data": {
      "image/png": "[encoded data removed]",
      "text/plain": [
       "<Figure size 432x288 with 1 Axes>"
      ]
     },
     "metadata": {
      "needs_background": "light"
     },
     "output_type": "display_data"
    }
   ],
   "source": [
    "print('Количество квартир в объявлениях, которые продаются в центре: {} или {:.0%} от всех объявлений в датасете'.format(len(spb_apartment), len(spb_apartment)/len(df)))\n",
    "print('Максимальная стоимость квартиры {}'.format(spb_apartment['last_price'].max()))\n",
    "print('Миниальная стоимость квартиры {}'.format(spb_apartment['last_price'].min()))\n",
    "print('Средняя стоимость квартиры {}'.format(spb_apartment['last_price'].mean()))\n",
    "print('Медианная стоимость квартиры {}'.format(spb_apartment['last_price'].median()))\n",
    "spb_apartment['last_price'].plot.hist(bins=20, title='Частота встречаемости по цене квартиры')\n",
    "plt.xlabel('Стоимость квартиры')\n",
    "plt.ylabel('Количество объявлений')\n",
    "plt.show()"
   ]
  },
  {
   "cell_type": "markdown",
   "metadata": {},
   "source": [
    "<div style=\"color: white; border:solid green 2px; padding: 20px; background: LightSeaGreen\">\n",
    "<p> Если рассмотреть гистограмму стоимости квартир по Санкт-Петербургу в целом, чаще всего в объявлениях встречаются предложения с ценой продажи квартиры до 10 млн, более всего от 5 до 10 млн. \n",
    "</div>"
   ]
  },
  {
   "cell_type": "markdown",
   "metadata": {},
   "source": [
    "## Общий вывод"
   ]
  },
  {
   "cell_type": "markdown",
   "metadata": {},
   "source": [
    "<div style=\"color: white; border:solid green 2px; padding: 20px; background: LightSeaGreen\">\n",
    "<b>\n",
    "В результате исследования датасета можно прийти к выводам:\n",
    "    <li>Стоимость крвартир находится в прямой зависимости от общей площади, количества комнат, и в обратной зависимости от удаленности от центра города. </li>\n",
    "    <li>Максимально высокий шанс продать квартиру на 95, 90, 60, 45, 30 и 7 сутки от публикации объявления. Вероятно в эти дни объявления приподнимается к топу. Какой-то линейной зависимости между ценой и датой размещения объявления не обнаружено</li>\n",
    "    <li>Как самые дорогие квартиры (видимо элитное жилье), так и самые дешевые находятся в поселках и деревнях. Санкт-Петербург по стоимости квартир находится на 5 месте топа.</li>\n",
    "    <li>Центр города Санкт-Петербурга находится внутри окружности, радиусом около 10 км от нулевого километра, квартиры в центре стоят дороже, чем в среднем по городу. Больше объявлений размещается в пригороде</li>\n",
    "</b>\n",
    "</div>"
   ]
  }
 ],
 "metadata": {
  "ExecuteTimeLog": [
   {
    "duration": 1125,
    "start_time": "2021-12-18T11:51:14.696Z"
   },
   {
    "duration": 87,
    "start_time": "2021-12-18T11:51:18.614Z"
   },
   {
    "duration": 83,
    "start_time": "2021-12-18T11:51:23.174Z"
   },
   {
    "duration": 138,
    "start_time": "2021-12-18T11:51:31.939Z"
   },
   {
    "duration": 35,
    "start_time": "2021-12-18T11:59:27.467Z"
   },
   {
    "duration": 90,
    "start_time": "2021-12-18T12:07:10.978Z"
   },
   {
    "duration": 22,
    "start_time": "2021-12-18T12:07:23.408Z"
   },
   {
    "duration": 17,
    "start_time": "2021-12-18T12:07:27.437Z"
   },
   {
    "duration": 1021,
    "start_time": "2021-12-18T12:07:30.908Z"
   },
   {
    "duration": 946,
    "start_time": "2021-12-18T12:07:38.503Z"
   },
   {
    "duration": 2330,
    "start_time": "2021-12-18T12:09:22.201Z"
   },
   {
    "duration": 1848,
    "start_time": "2021-12-18T12:10:05.871Z"
   },
   {
    "duration": 2038,
    "start_time": "2021-12-18T12:10:15.260Z"
   },
   {
    "duration": 2074,
    "start_time": "2021-12-18T12:23:05.116Z"
   },
   {
    "duration": 4135,
    "start_time": "2021-12-18T12:23:24.258Z"
   },
   {
    "duration": 913,
    "start_time": "2021-12-18T12:28:39.067Z"
   },
   {
    "duration": 922,
    "start_time": "2021-12-18T12:28:45.386Z"
   },
   {
    "duration": 36926,
    "start_time": "2021-12-18T12:39:09.361Z"
   },
   {
    "duration": 1037,
    "start_time": "2021-12-18T12:45:54.394Z"
   },
   {
    "duration": 42,
    "start_time": "2021-12-18T12:45:55.435Z"
   },
   {
    "duration": 15,
    "start_time": "2021-12-18T12:45:55.480Z"
   },
   {
    "duration": 7,
    "start_time": "2021-12-18T12:45:55.498Z"
   },
   {
    "duration": 151,
    "start_time": "2021-12-18T12:45:55.508Z"
   },
   {
    "duration": 8,
    "start_time": "2021-12-18T12:45:55.662Z"
   },
   {
    "duration": 18,
    "start_time": "2021-12-18T12:45:55.672Z"
   },
   {
    "duration": 28,
    "start_time": "2021-12-18T12:45:55.695Z"
   },
   {
    "duration": 1646,
    "start_time": "2021-12-18T12:45:55.726Z"
   },
   {
    "duration": 4649,
    "start_time": "2021-12-18T12:45:57.375Z"
   },
   {
    "duration": 1472,
    "start_time": "2021-12-18T12:46:02.027Z"
   },
   {
    "duration": 1305,
    "start_time": "2021-12-18T12:46:03.502Z"
   },
   {
    "duration": 39750,
    "start_time": "2021-12-18T12:46:04.811Z"
   },
   {
    "duration": 736,
    "start_time": "2021-12-18T12:46:44.564Z"
   },
   {
    "duration": 118,
    "start_time": "2021-12-19T09:36:49.889Z"
   },
   {
    "duration": 1014,
    "start_time": "2021-12-19T09:37:07.217Z"
   },
   {
    "duration": 43,
    "start_time": "2021-12-19T09:37:08.233Z"
   },
   {
    "duration": 17,
    "start_time": "2021-12-19T09:37:08.279Z"
   },
   {
    "duration": 5,
    "start_time": "2021-12-19T09:37:08.300Z"
   },
   {
    "duration": 106,
    "start_time": "2021-12-19T09:37:08.453Z"
   },
   {
    "duration": 3,
    "start_time": "2021-12-19T09:37:08.813Z"
   },
   {
    "duration": 18,
    "start_time": "2021-12-19T09:37:09.782Z"
   },
   {
    "duration": 17,
    "start_time": "2021-12-19T09:37:10.498Z"
   },
   {
    "duration": 16,
    "start_time": "2021-12-19T09:37:16.885Z"
   },
   {
    "duration": 138,
    "start_time": "2021-12-19T09:41:48.024Z"
   },
   {
    "duration": 84,
    "start_time": "2021-12-19T15:48:34.462Z"
   },
   {
    "duration": 61,
    "start_time": "2021-12-19T15:50:01.676Z"
   },
   {
    "duration": 214,
    "start_time": "2021-12-19T15:54:05.244Z"
   },
   {
    "duration": 170,
    "start_time": "2021-12-19T15:54:14.037Z"
   },
   {
    "duration": 706,
    "start_time": "2021-12-19T15:54:20.710Z"
   },
   {
    "duration": 26,
    "start_time": "2021-12-19T15:54:28.456Z"
   },
   {
    "duration": 15,
    "start_time": "2021-12-19T15:54:35.011Z"
   },
   {
    "duration": 9,
    "start_time": "2021-12-19T15:55:47.667Z"
   },
   {
    "duration": 76,
    "start_time": "2021-12-19T15:56:27.674Z"
   },
   {
    "duration": 58,
    "start_time": "2021-12-19T15:58:27.000Z"
   },
   {
    "duration": 8,
    "start_time": "2021-12-19T16:43:46.137Z"
   },
   {
    "duration": 32,
    "start_time": "2021-12-19T16:55:22.866Z"
   },
   {
    "duration": 13,
    "start_time": "2021-12-19T17:26:06.291Z"
   },
   {
    "duration": 17,
    "start_time": "2021-12-19T17:32:05.779Z"
   },
   {
    "duration": 58,
    "start_time": "2021-12-19T17:32:38.971Z"
   },
   {
    "duration": 10,
    "start_time": "2021-12-19T17:32:43.283Z"
   },
   {
    "duration": 10,
    "start_time": "2021-12-19T17:32:45.240Z"
   },
   {
    "duration": 11,
    "start_time": "2021-12-19T17:32:53.122Z"
   },
   {
    "duration": 10,
    "start_time": "2021-12-19T17:33:02.508Z"
   },
   {
    "duration": 11,
    "start_time": "2021-12-19T17:33:07.577Z"
   },
   {
    "duration": 10,
    "start_time": "2021-12-19T17:33:10.924Z"
   },
   {
    "duration": 9,
    "start_time": "2021-12-19T17:33:21.740Z"
   },
   {
    "duration": 10,
    "start_time": "2021-12-19T17:33:28.335Z"
   },
   {
    "duration": 8,
    "start_time": "2021-12-19T17:38:43.298Z"
   },
   {
    "duration": 14,
    "start_time": "2021-12-19T17:38:45.448Z"
   },
   {
    "duration": 10,
    "start_time": "2021-12-19T17:38:56.079Z"
   },
   {
    "duration": 10,
    "start_time": "2021-12-19T17:38:57.930Z"
   },
   {
    "duration": 94,
    "start_time": "2021-12-19T17:43:32.358Z"
   },
   {
    "duration": 67,
    "start_time": "2021-12-19T17:44:45.657Z"
   },
   {
    "duration": 80,
    "start_time": "2021-12-19T17:44:52.288Z"
   },
   {
    "duration": 62,
    "start_time": "2021-12-19T23:23:29.251Z"
   },
   {
    "duration": 5493,
    "start_time": "2021-12-19T23:24:37.025Z"
   },
   {
    "duration": 81,
    "start_time": "2021-12-19T23:24:44.318Z"
   },
   {
    "duration": 11,
    "start_time": "2021-12-19T23:24:50.680Z"
   },
   {
    "duration": 9,
    "start_time": "2021-12-19T23:24:54.011Z"
   },
   {
    "duration": 4544,
    "start_time": "2021-12-19T23:25:00.988Z"
   },
   {
    "duration": 2980,
    "start_time": "2021-12-19T23:25:17.676Z"
   },
   {
    "duration": 17,
    "start_time": "2021-12-19T23:25:56.629Z"
   },
   {
    "duration": 69,
    "start_time": "2021-12-20T00:11:08.038Z"
   },
   {
    "duration": 24,
    "start_time": "2021-12-20T00:11:11.289Z"
   },
   {
    "duration": 6,
    "start_time": "2021-12-20T00:11:20.793Z"
   },
   {
    "duration": 8,
    "start_time": "2021-12-20T00:15:30.806Z"
   },
   {
    "duration": 9,
    "start_time": "2021-12-20T00:15:41.972Z"
   },
   {
    "duration": 3,
    "start_time": "2021-12-20T00:38:44.373Z"
   },
   {
    "duration": 169,
    "start_time": "2021-12-20T00:40:58.983Z"
   },
   {
    "duration": 178,
    "start_time": "2021-12-20T00:41:18.636Z"
   },
   {
    "duration": 850,
    "start_time": "2021-12-20T00:41:35.307Z"
   },
   {
    "duration": 1022,
    "start_time": "2021-12-20T00:42:02.375Z"
   },
   {
    "duration": 1094,
    "start_time": "2021-12-20T00:42:43.945Z"
   },
   {
    "duration": 791,
    "start_time": "2021-12-20T00:43:07.694Z"
   },
   {
    "duration": 213,
    "start_time": "2021-12-20T00:43:36.227Z"
   },
   {
    "duration": 183,
    "start_time": "2021-12-20T00:43:57.147Z"
   },
   {
    "duration": 62,
    "start_time": "2021-12-20T00:44:14.729Z"
   },
   {
    "duration": 39,
    "start_time": "2021-12-20T00:44:34.993Z"
   },
   {
    "duration": 97,
    "start_time": "2021-12-20T00:44:56.571Z"
   },
   {
    "duration": 59,
    "start_time": "2021-12-20T00:45:20.782Z"
   },
   {
    "duration": 170,
    "start_time": "2021-12-20T00:45:38.981Z"
   },
   {
    "duration": 174,
    "start_time": "2021-12-20T00:45:47.768Z"
   },
   {
    "duration": 39,
    "start_time": "2021-12-20T00:45:53.414Z"
   },
   {
    "duration": 818,
    "start_time": "2021-12-20T00:46:43.046Z"
   },
   {
    "duration": 168,
    "start_time": "2021-12-20T00:47:26.759Z"
   },
   {
    "duration": 190,
    "start_time": "2021-12-20T00:47:30.159Z"
   },
   {
    "duration": 804,
    "start_time": "2021-12-20T00:47:48.252Z"
   },
   {
    "duration": 905,
    "start_time": "2021-12-20T00:48:59.961Z"
   },
   {
    "duration": 43,
    "start_time": "2021-12-20T00:49:17.742Z"
   },
   {
    "duration": 86,
    "start_time": "2021-12-20T00:49:35.273Z"
   },
   {
    "duration": 1297,
    "start_time": "2021-12-20T00:49:58.411Z"
   },
   {
    "duration": 139,
    "start_time": "2021-12-20T12:39:24.003Z"
   },
   {
    "duration": 440,
    "start_time": "2021-12-20T12:39:41.210Z"
   },
   {
    "duration": 1053,
    "start_time": "2021-12-20T12:39:49.328Z"
   },
   {
    "duration": 1412,
    "start_time": "2021-12-20T12:41:24.848Z"
   },
   {
    "duration": 1285,
    "start_time": "2021-12-20T12:41:53.896Z"
   },
   {
    "duration": 2076,
    "start_time": "2021-12-20T12:42:21.712Z"
   },
   {
    "duration": 2009,
    "start_time": "2021-12-20T12:43:13.734Z"
   },
   {
    "duration": 63,
    "start_time": "2021-12-20T12:43:28.465Z"
   },
   {
    "duration": 2582,
    "start_time": "2021-12-20T12:43:59.131Z"
   },
   {
    "duration": 2363,
    "start_time": "2021-12-20T12:44:13.153Z"
   },
   {
    "duration": 5031,
    "start_time": "2021-12-20T12:44:42.835Z"
   },
   {
    "duration": 115,
    "start_time": "2021-12-20T12:47:18.711Z"
   },
   {
    "duration": 107,
    "start_time": "2021-12-20T12:47:26.648Z"
   },
   {
    "duration": 1946,
    "start_time": "2021-12-20T12:47:48.451Z"
   },
   {
    "duration": 1270,
    "start_time": "2021-12-20T12:51:58.737Z"
   },
   {
    "duration": 1531,
    "start_time": "2021-12-20T12:52:58.474Z"
   },
   {
    "duration": 62,
    "start_time": "2021-12-20T12:53:46.775Z"
   },
   {
    "duration": 105,
    "start_time": "2021-12-20T12:53:56.492Z"
   },
   {
    "duration": 54,
    "start_time": "2021-12-20T12:54:03.099Z"
   },
   {
    "duration": 56,
    "start_time": "2021-12-20T12:54:12.071Z"
   },
   {
    "duration": 54,
    "start_time": "2021-12-20T12:54:24.985Z"
   },
   {
    "duration": 65,
    "start_time": "2021-12-20T12:54:29.051Z"
   },
   {
    "duration": 88,
    "start_time": "2021-12-20T12:54:36.243Z"
   },
   {
    "duration": 61,
    "start_time": "2021-12-20T12:54:46.431Z"
   },
   {
    "duration": 63,
    "start_time": "2021-12-20T12:55:51.819Z"
   },
   {
    "duration": 68,
    "start_time": "2021-12-20T12:56:43.563Z"
   },
   {
    "duration": 60,
    "start_time": "2021-12-20T13:01:14.756Z"
   },
   {
    "duration": 60,
    "start_time": "2021-12-20T13:02:00.370Z"
   },
   {
    "duration": 146,
    "start_time": "2021-12-20T13:02:41.491Z"
   },
   {
    "duration": 9,
    "start_time": "2021-12-20T13:03:04.649Z"
   },
   {
    "duration": 8,
    "start_time": "2021-12-20T13:03:52.799Z"
   },
   {
    "duration": 6,
    "start_time": "2021-12-20T13:09:00.507Z"
   },
   {
    "duration": 7,
    "start_time": "2021-12-20T13:12:04.120Z"
   },
   {
    "duration": 8,
    "start_time": "2021-12-20T13:17:38.900Z"
   },
   {
    "duration": 7,
    "start_time": "2021-12-20T13:19:41.957Z"
   },
   {
    "duration": 7,
    "start_time": "2021-12-20T13:19:50.198Z"
   },
   {
    "duration": 315,
    "start_time": "2021-12-20T13:20:16.734Z"
   },
   {
    "duration": 301,
    "start_time": "2021-12-20T13:20:23.454Z"
   },
   {
    "duration": 489,
    "start_time": "2021-12-20T13:22:27.351Z"
   },
   {
    "duration": 83,
    "start_time": "2021-12-20T13:22:41.504Z"
   },
   {
    "duration": 17,
    "start_time": "2021-12-20T13:23:00.816Z"
   },
   {
    "duration": 15,
    "start_time": "2021-12-20T13:23:19.327Z"
   },
   {
    "duration": 98,
    "start_time": "2021-12-20T13:34:17.073Z"
   },
   {
    "duration": 5,
    "start_time": "2021-12-20T13:48:49.130Z"
   },
   {
    "duration": 6,
    "start_time": "2021-12-20T14:01:02.885Z"
   },
   {
    "duration": 7,
    "start_time": "2021-12-20T14:14:29.288Z"
   },
   {
    "duration": 6,
    "start_time": "2021-12-20T14:19:38.344Z"
   },
   {
    "duration": 110,
    "start_time": "2021-12-20T14:19:41.139Z"
   },
   {
    "duration": 16,
    "start_time": "2021-12-20T14:19:57.932Z"
   },
   {
    "duration": 6,
    "start_time": "2021-12-20T14:20:13.677Z"
   },
   {
    "duration": 7,
    "start_time": "2021-12-20T14:20:16.013Z"
   },
   {
    "duration": 6,
    "start_time": "2021-12-20T14:20:18.137Z"
   },
   {
    "duration": 9,
    "start_time": "2021-12-20T14:20:20.548Z"
   },
   {
    "duration": 6,
    "start_time": "2021-12-20T14:20:22.952Z"
   },
   {
    "duration": 7,
    "start_time": "2021-12-20T14:20:26.887Z"
   },
   {
    "duration": 12,
    "start_time": "2021-12-20T14:20:29.848Z"
   },
   {
    "duration": 61,
    "start_time": "2021-12-20T14:20:34.269Z"
   },
   {
    "duration": 9,
    "start_time": "2021-12-20T14:20:36.510Z"
   },
   {
    "duration": 8,
    "start_time": "2021-12-20T14:20:39.823Z"
   },
   {
    "duration": 7,
    "start_time": "2021-12-20T14:20:41.631Z"
   },
   {
    "duration": 6,
    "start_time": "2021-12-20T14:20:43.771Z"
   },
   {
    "duration": 6,
    "start_time": "2021-12-20T14:20:49.620Z"
   },
   {
    "duration": 15,
    "start_time": "2021-12-20T14:20:51.592Z"
   },
   {
    "duration": 5,
    "start_time": "2021-12-20T14:21:02.820Z"
   },
   {
    "duration": 5,
    "start_time": "2021-12-20T14:21:04.712Z"
   },
   {
    "duration": 5,
    "start_time": "2021-12-20T14:21:07.847Z"
   },
   {
    "duration": 6,
    "start_time": "2021-12-20T14:21:11.748Z"
   },
   {
    "duration": 21,
    "start_time": "2021-12-20T14:21:14.090Z"
   },
   {
    "duration": 15,
    "start_time": "2021-12-20T14:24:04.603Z"
   },
   {
    "duration": 7,
    "start_time": "2021-12-20T14:26:54.577Z"
   },
   {
    "duration": 265,
    "start_time": "2021-12-20T14:26:54.588Z"
   },
   {
    "duration": 470,
    "start_time": "2021-12-20T14:26:54.856Z"
   },
   {
    "duration": 415,
    "start_time": "2021-12-20T14:26:55.328Z"
   },
   {
    "duration": 472,
    "start_time": "2021-12-20T14:26:55.746Z"
   },
   {
    "duration": 221,
    "start_time": "2021-12-20T14:26:56.221Z"
   },
   {
    "duration": 373,
    "start_time": "2021-12-20T14:26:56.444Z"
   },
   {
    "duration": 575,
    "start_time": "2021-12-20T14:26:56.821Z"
   },
   {
    "duration": 687,
    "start_time": "2021-12-20T14:26:57.399Z"
   },
   {
    "duration": 409,
    "start_time": "2021-12-20T14:26:58.089Z"
   },
   {
    "duration": 715,
    "start_time": "2021-12-20T14:26:58.501Z"
   },
   {
    "duration": 394,
    "start_time": "2021-12-20T14:26:59.218Z"
   },
   {
    "duration": 408,
    "start_time": "2021-12-20T14:26:59.614Z"
   },
   {
    "duration": 828,
    "start_time": "2021-12-20T14:27:00.024Z"
   },
   {
    "duration": 645,
    "start_time": "2021-12-20T14:27:00.854Z"
   },
   {
    "duration": 346,
    "start_time": "2021-12-20T14:27:01.503Z"
   },
   {
    "duration": 347,
    "start_time": "2021-12-20T14:27:01.852Z"
   },
   {
    "duration": 345,
    "start_time": "2021-12-20T14:27:02.203Z"
   },
   {
    "duration": 291,
    "start_time": "2021-12-20T14:27:02.551Z"
   },
   {
    "duration": 583,
    "start_time": "2021-12-20T14:27:02.846Z"
   },
   {
    "duration": 275,
    "start_time": "2021-12-20T14:27:03.432Z"
   },
   {
    "duration": 1647,
    "start_time": "2021-12-20T14:27:03.710Z"
   },
   {
    "duration": 4755,
    "start_time": "2021-12-20T14:27:05.369Z"
   },
   {
    "duration": 1069,
    "start_time": "2021-12-20T14:27:10.127Z"
   },
   {
    "duration": 1095,
    "start_time": "2021-12-20T14:27:11.199Z"
   },
   {
    "duration": 37818,
    "start_time": "2021-12-20T14:27:12.297Z"
   },
   {
    "duration": 715,
    "start_time": "2021-12-20T14:27:50.117Z"
   },
   {
    "duration": 7,
    "start_time": "2021-12-20T14:31:05.225Z"
   },
   {
    "duration": 16,
    "start_time": "2021-12-20T14:31:15.094Z"
   },
   {
    "duration": 6,
    "start_time": "2021-12-20T14:35:47.066Z"
   },
   {
    "duration": 7,
    "start_time": "2021-12-20T14:42:06.561Z"
   },
   {
    "duration": 36,
    "start_time": "2021-12-20T14:42:45.559Z"
   },
   {
    "duration": 2866,
    "start_time": "2021-12-20T14:47:06.640Z"
   },
   {
    "duration": 2968,
    "start_time": "2021-12-20T14:48:24.329Z"
   },
   {
    "duration": 3776,
    "start_time": "2021-12-20T14:48:39.752Z"
   },
   {
    "duration": 2290,
    "start_time": "2021-12-20T14:49:00.327Z"
   },
   {
    "duration": 2707,
    "start_time": "2021-12-20T14:49:11.620Z"
   },
   {
    "duration": 2793,
    "start_time": "2021-12-20T14:50:09.203Z"
   },
   {
    "duration": 837,
    "start_time": "2021-12-20T14:51:55.663Z"
   },
   {
    "duration": 1004,
    "start_time": "2021-12-20T14:53:55.695Z"
   },
   {
    "duration": 923,
    "start_time": "2021-12-20T14:54:28.059Z"
   },
   {
    "duration": 923,
    "start_time": "2021-12-20T14:55:26.400Z"
   },
   {
    "duration": 628,
    "start_time": "2021-12-20T14:55:47.903Z"
   },
   {
    "duration": 2697,
    "start_time": "2021-12-20T14:55:51.807Z"
   },
   {
    "duration": 86,
    "start_time": "2021-12-20T14:56:10.196Z"
   },
   {
    "duration": 2315,
    "start_time": "2021-12-20T14:56:26.142Z"
   },
   {
    "duration": 89,
    "start_time": "2021-12-20T14:56:35.940Z"
   },
   {
    "duration": 108,
    "start_time": "2021-12-20T14:56:36.032Z"
   },
   {
    "duration": 182,
    "start_time": "2021-12-20T14:56:36.144Z"
   },
   {
    "duration": 116,
    "start_time": "2021-12-20T14:56:36.329Z"
   },
   {
    "duration": 247,
    "start_time": "2021-12-20T14:56:36.447Z"
   },
   {
    "duration": 428,
    "start_time": "2021-12-20T14:56:36.697Z"
   },
   {
    "duration": 75,
    "start_time": "2021-12-20T14:56:37.129Z"
   },
   {
    "duration": 392,
    "start_time": "2021-12-20T14:56:37.210Z"
   },
   {
    "duration": 118,
    "start_time": "2021-12-20T14:56:37.607Z"
   },
   {
    "duration": 147,
    "start_time": "2021-12-20T14:56:37.728Z"
   },
   {
    "duration": 113,
    "start_time": "2021-12-20T14:56:37.878Z"
   },
   {
    "duration": 152,
    "start_time": "2021-12-20T14:56:37.994Z"
   },
   {
    "duration": 68,
    "start_time": "2021-12-20T14:56:38.149Z"
   },
   {
    "duration": 170,
    "start_time": "2021-12-20T14:56:38.221Z"
   },
   {
    "duration": 143,
    "start_time": "2021-12-20T14:56:38.394Z"
   },
   {
    "duration": 93,
    "start_time": "2021-12-20T14:56:38.541Z"
   },
   {
    "duration": 161,
    "start_time": "2021-12-20T14:56:38.637Z"
   },
   {
    "duration": 12,
    "start_time": "2021-12-20T14:56:38.801Z"
   },
   {
    "duration": 84,
    "start_time": "2021-12-20T14:56:38.816Z"
   },
   {
    "duration": 105,
    "start_time": "2021-12-20T14:56:38.902Z"
   },
   {
    "duration": 93,
    "start_time": "2021-12-20T14:56:39.010Z"
   },
   {
    "duration": 63,
    "start_time": "2021-12-20T14:56:39.106Z"
   },
   {
    "duration": 93,
    "start_time": "2021-12-20T14:56:39.175Z"
   },
   {
    "duration": 105,
    "start_time": "2021-12-20T14:56:39.271Z"
   },
   {
    "duration": 78,
    "start_time": "2021-12-20T14:56:39.378Z"
   },
   {
    "duration": 89,
    "start_time": "2021-12-20T14:56:39.459Z"
   },
   {
    "duration": 82,
    "start_time": "2021-12-20T14:56:39.551Z"
   },
   {
    "duration": 90,
    "start_time": "2021-12-20T14:56:39.636Z"
   },
   {
    "duration": 177,
    "start_time": "2021-12-20T14:56:39.729Z"
   },
   {
    "duration": 151,
    "start_time": "2021-12-20T14:56:39.908Z"
   },
   {
    "duration": 1360,
    "start_time": "2021-12-20T14:56:40.062Z"
   },
   {
    "duration": 7,
    "start_time": "2021-12-20T14:56:41.424Z"
   },
   {
    "duration": 190,
    "start_time": "2021-12-20T14:56:41.434Z"
   },
   {
    "duration": 2502,
    "start_time": "2021-12-20T14:56:41.626Z"
   },
   {
    "duration": 99,
    "start_time": "2021-12-20T14:56:44.132Z"
   },
   {
    "duration": -39,
    "start_time": "2021-12-20T14:56:44.273Z"
   },
   {
    "duration": -42,
    "start_time": "2021-12-20T14:56:44.278Z"
   },
   {
    "duration": -51,
    "start_time": "2021-12-20T14:56:44.290Z"
   },
   {
    "duration": -59,
    "start_time": "2021-12-20T14:56:44.300Z"
   },
   {
    "duration": 2333,
    "start_time": "2021-12-20T14:57:39.881Z"
   },
   {
    "duration": 2432,
    "start_time": "2021-12-20T14:58:06.423Z"
   },
   {
    "duration": 649,
    "start_time": "2021-12-20T14:59:07.316Z"
   },
   {
    "duration": 684,
    "start_time": "2021-12-20T14:59:27.656Z"
   },
   {
    "duration": 652,
    "start_time": "2021-12-20T14:59:40.365Z"
   },
   {
    "duration": 80,
    "start_time": "2021-12-20T15:00:02.943Z"
   },
   {
    "duration": 444,
    "start_time": "2021-12-20T15:00:03.025Z"
   },
   {
    "duration": 277,
    "start_time": "2021-12-20T15:00:03.472Z"
   },
   {
    "duration": 355,
    "start_time": "2021-12-20T15:00:03.753Z"
   },
   {
    "duration": 438,
    "start_time": "2021-12-20T15:00:04.110Z"
   },
   {
    "duration": 875,
    "start_time": "2021-12-20T15:00:04.551Z"
   },
   {
    "duration": 800,
    "start_time": "2021-12-20T15:00:05.428Z"
   },
   {
    "duration": 1160,
    "start_time": "2021-12-20T15:00:06.233Z"
   },
   {
    "duration": 1102,
    "start_time": "2021-12-20T15:00:07.396Z"
   },
   {
    "duration": 687,
    "start_time": "2021-12-20T15:00:08.501Z"
   },
   {
    "duration": 610,
    "start_time": "2021-12-20T15:00:09.190Z"
   },
   {
    "duration": 340,
    "start_time": "2021-12-20T15:00:09.803Z"
   },
   {
    "duration": 410,
    "start_time": "2021-12-20T15:00:10.145Z"
   },
   {
    "duration": 335,
    "start_time": "2021-12-20T15:00:10.557Z"
   },
   {
    "duration": 339,
    "start_time": "2021-12-20T15:00:10.894Z"
   },
   {
    "duration": 648,
    "start_time": "2021-12-20T15:00:11.236Z"
   },
   {
    "duration": 546,
    "start_time": "2021-12-20T15:00:11.887Z"
   },
   {
    "duration": 1151,
    "start_time": "2021-12-20T15:00:12.436Z"
   },
   {
    "duration": 807,
    "start_time": "2021-12-20T15:00:13.590Z"
   },
   {
    "duration": 502,
    "start_time": "2021-12-20T15:00:14.400Z"
   },
   {
    "duration": 1069,
    "start_time": "2021-12-20T15:00:14.905Z"
   },
   {
    "duration": 548,
    "start_time": "2021-12-20T15:00:15.977Z"
   },
   {
    "duration": 880,
    "start_time": "2021-12-20T15:00:16.530Z"
   },
   {
    "duration": 560,
    "start_time": "2021-12-20T15:00:17.413Z"
   },
   {
    "duration": 261,
    "start_time": "2021-12-20T15:00:17.976Z"
   },
   {
    "duration": 895,
    "start_time": "2021-12-20T15:00:18.240Z"
   },
   {
    "duration": 439,
    "start_time": "2021-12-20T15:00:19.138Z"
   },
   {
    "duration": 298,
    "start_time": "2021-12-20T15:00:19.580Z"
   },
   {
    "duration": 423,
    "start_time": "2021-12-20T15:00:19.881Z"
   },
   {
    "duration": 610,
    "start_time": "2021-12-20T15:00:20.307Z"
   },
   {
    "duration": 1967,
    "start_time": "2021-12-20T15:00:20.919Z"
   },
   {
    "duration": 7,
    "start_time": "2021-12-20T15:00:22.888Z"
   },
   {
    "duration": 384,
    "start_time": "2021-12-20T15:00:22.897Z"
   },
   {
    "duration": 1086,
    "start_time": "2021-12-20T15:00:23.283Z"
   },
   {
    "duration": -2394,
    "start_time": "2021-12-20T15:00:26.767Z"
   },
   {
    "duration": -2397,
    "start_time": "2021-12-20T15:00:26.772Z"
   },
   {
    "duration": -2399,
    "start_time": "2021-12-20T15:00:26.776Z"
   },
   {
    "duration": -2400,
    "start_time": "2021-12-20T15:00:26.780Z"
   },
   {
    "duration": -2402,
    "start_time": "2021-12-20T15:00:26.784Z"
   },
   {
    "duration": 2451,
    "start_time": "2021-12-20T15:00:37.193Z"
   },
   {
    "duration": 2494,
    "start_time": "2021-12-20T15:00:56.273Z"
   },
   {
    "duration": 87,
    "start_time": "2021-12-20T15:03:45.238Z"
   },
   {
    "duration": 2503,
    "start_time": "2021-12-20T15:03:54.686Z"
   },
   {
    "duration": 972,
    "start_time": "2021-12-20T15:09:11.632Z"
   },
   {
    "duration": 2310,
    "start_time": "2021-12-20T15:09:16.369Z"
   },
   {
    "duration": 810,
    "start_time": "2021-12-20T15:09:35.248Z"
   },
   {
    "duration": 788,
    "start_time": "2021-12-20T15:09:58.983Z"
   },
   {
    "duration": 826,
    "start_time": "2021-12-20T15:10:15.680Z"
   },
   {
    "duration": 896,
    "start_time": "2021-12-20T15:10:20.739Z"
   },
   {
    "duration": 2573,
    "start_time": "2021-12-20T15:10:55.664Z"
   },
   {
    "duration": 847,
    "start_time": "2021-12-20T15:11:35.979Z"
   },
   {
    "duration": 854,
    "start_time": "2021-12-20T15:11:53.681Z"
   },
   {
    "duration": 864,
    "start_time": "2021-12-20T15:13:45.557Z"
   },
   {
    "duration": 858,
    "start_time": "2021-12-20T15:16:05.925Z"
   },
   {
    "duration": 855,
    "start_time": "2021-12-20T15:16:15.352Z"
   },
   {
    "duration": 849,
    "start_time": "2021-12-20T15:18:41.877Z"
   },
   {
    "duration": 2318,
    "start_time": "2021-12-20T15:18:52.719Z"
   },
   {
    "duration": 810,
    "start_time": "2021-12-20T15:21:49.491Z"
   },
   {
    "duration": 818,
    "start_time": "2021-12-20T15:22:10.786Z"
   },
   {
    "duration": 1114,
    "start_time": "2021-12-20T15:22:20.873Z"
   },
   {
    "duration": 847,
    "start_time": "2021-12-20T15:22:32.631Z"
   },
   {
    "duration": 861,
    "start_time": "2021-12-20T15:22:38.297Z"
   },
   {
    "duration": 1090,
    "start_time": "2021-12-20T15:23:06.242Z"
   },
   {
    "duration": 1073,
    "start_time": "2021-12-20T15:23:18.043Z"
   },
   {
    "duration": 837,
    "start_time": "2021-12-20T15:23:35.136Z"
   },
   {
    "duration": 831,
    "start_time": "2021-12-20T15:24:40.436Z"
   },
   {
    "duration": 807,
    "start_time": "2021-12-20T15:24:46.542Z"
   },
   {
    "duration": 2669,
    "start_time": "2021-12-20T15:25:13.831Z"
   },
   {
    "duration": 858,
    "start_time": "2021-12-20T15:25:23.803Z"
   },
   {
    "duration": 821,
    "start_time": "2021-12-20T15:26:51.021Z"
   },
   {
    "duration": 91,
    "start_time": "2021-12-20T15:31:55.235Z"
   },
   {
    "duration": 588,
    "start_time": "2021-12-20T15:31:55.329Z"
   },
   {
    "duration": 728,
    "start_time": "2021-12-20T15:31:55.922Z"
   },
   {
    "duration": 956,
    "start_time": "2021-12-20T15:31:56.654Z"
   },
   {
    "duration": 3915,
    "start_time": "2021-12-20T15:31:57.613Z"
   },
   {
    "duration": 1076,
    "start_time": "2021-12-20T15:32:01.530Z"
   },
   {
    "duration": 1106,
    "start_time": "2021-12-20T15:32:02.610Z"
   },
   {
    "duration": 579,
    "start_time": "2021-12-20T15:32:03.720Z"
   },
   {
    "duration": 811,
    "start_time": "2021-12-20T15:32:04.302Z"
   },
   {
    "duration": 1274,
    "start_time": "2021-12-20T15:32:05.117Z"
   },
   {
    "duration": 431,
    "start_time": "2021-12-20T15:32:06.394Z"
   },
   {
    "duration": 728,
    "start_time": "2021-12-20T15:32:06.827Z"
   },
   {
    "duration": 496,
    "start_time": "2021-12-20T15:32:07.558Z"
   },
   {
    "duration": 355,
    "start_time": "2021-12-20T15:32:08.056Z"
   },
   {
    "duration": 306,
    "start_time": "2021-12-20T15:32:08.413Z"
   },
   {
    "duration": 441,
    "start_time": "2021-12-20T15:32:08.722Z"
   },
   {
    "duration": 561,
    "start_time": "2021-12-20T15:32:09.166Z"
   },
   {
    "duration": 257,
    "start_time": "2021-12-20T15:32:09.729Z"
   },
   {
    "duration": 242,
    "start_time": "2021-12-20T15:32:09.989Z"
   },
   {
    "duration": 346,
    "start_time": "2021-12-20T15:32:10.233Z"
   },
   {
    "duration": 269,
    "start_time": "2021-12-20T15:32:10.582Z"
   },
   {
    "duration": 457,
    "start_time": "2021-12-20T15:32:10.854Z"
   },
   {
    "duration": 328,
    "start_time": "2021-12-20T15:32:11.316Z"
   },
   {
    "duration": 332,
    "start_time": "2021-12-20T15:32:11.647Z"
   },
   {
    "duration": 389,
    "start_time": "2021-12-20T15:32:11.981Z"
   },
   {
    "duration": 363,
    "start_time": "2021-12-20T15:32:12.374Z"
   },
   {
    "duration": 508,
    "start_time": "2021-12-20T15:32:12.740Z"
   },
   {
    "duration": 536,
    "start_time": "2021-12-20T15:32:13.250Z"
   },
   {
    "duration": 481,
    "start_time": "2021-12-20T15:32:13.788Z"
   },
   {
    "duration": 554,
    "start_time": "2021-12-20T15:32:14.272Z"
   },
   {
    "duration": 1698,
    "start_time": "2021-12-20T15:32:14.828Z"
   },
   {
    "duration": 7,
    "start_time": "2021-12-20T15:32:16.529Z"
   },
   {
    "duration": 328,
    "start_time": "2021-12-20T15:32:16.539Z"
   },
   {
    "duration": 1466,
    "start_time": "2021-12-20T15:32:16.870Z"
   },
   {
    "duration": -62,
    "start_time": "2021-12-20T15:32:18.401Z"
   },
   {
    "duration": -73,
    "start_time": "2021-12-20T15:32:18.414Z"
   },
   {
    "duration": -83,
    "start_time": "2021-12-20T15:32:18.425Z"
   },
   {
    "duration": -94,
    "start_time": "2021-12-20T15:32:18.438Z"
   },
   {
    "duration": -97,
    "start_time": "2021-12-20T15:32:18.442Z"
   },
   {
    "duration": 1117,
    "start_time": "2021-12-20T15:32:39.710Z"
   },
   {
    "duration": 73,
    "start_time": "2021-12-20T15:32:40.831Z"
   },
   {
    "duration": 492,
    "start_time": "2021-12-20T15:32:40.907Z"
   },
   {
    "duration": 314,
    "start_time": "2021-12-20T15:32:41.402Z"
   },
   {
    "duration": 1479,
    "start_time": "2021-12-20T15:32:41.719Z"
   },
   {
    "duration": 349,
    "start_time": "2021-12-20T15:32:43.200Z"
   },
   {
    "duration": 37,
    "start_time": "2021-12-20T15:32:43.554Z"
   },
   {
    "duration": 253,
    "start_time": "2021-12-20T15:32:43.595Z"
   },
   {
    "duration": 316,
    "start_time": "2021-12-20T15:32:43.851Z"
   },
   {
    "duration": 371,
    "start_time": "2021-12-20T15:32:44.170Z"
   },
   {
    "duration": 180,
    "start_time": "2021-12-20T15:32:44.545Z"
   },
   {
    "duration": 406,
    "start_time": "2021-12-20T15:32:44.728Z"
   },
   {
    "duration": 230,
    "start_time": "2021-12-20T15:32:45.136Z"
   },
   {
    "duration": 136,
    "start_time": "2021-12-20T15:32:45.369Z"
   },
   {
    "duration": 167,
    "start_time": "2021-12-20T15:32:45.508Z"
   },
   {
    "duration": 212,
    "start_time": "2021-12-20T15:32:45.678Z"
   },
   {
    "duration": 344,
    "start_time": "2021-12-20T15:32:45.894Z"
   },
   {
    "duration": 149,
    "start_time": "2021-12-20T15:32:46.241Z"
   },
   {
    "duration": 383,
    "start_time": "2021-12-20T15:32:46.393Z"
   },
   {
    "duration": 378,
    "start_time": "2021-12-20T15:32:46.779Z"
   },
   {
    "duration": 184,
    "start_time": "2021-12-20T15:32:47.160Z"
   },
   {
    "duration": 115,
    "start_time": "2021-12-20T15:32:47.347Z"
   },
   {
    "duration": 158,
    "start_time": "2021-12-20T15:32:47.465Z"
   },
   {
    "duration": 105,
    "start_time": "2021-12-20T15:32:47.626Z"
   },
   {
    "duration": 80,
    "start_time": "2021-12-20T15:32:47.738Z"
   },
   {
    "duration": 136,
    "start_time": "2021-12-20T15:32:47.822Z"
   },
   {
    "duration": 172,
    "start_time": "2021-12-20T15:32:47.961Z"
   },
   {
    "duration": 115,
    "start_time": "2021-12-20T15:32:48.136Z"
   },
   {
    "duration": 45,
    "start_time": "2021-12-20T15:32:48.254Z"
   },
   {
    "duration": 176,
    "start_time": "2021-12-20T15:32:48.305Z"
   },
   {
    "duration": 1384,
    "start_time": "2021-12-20T15:32:48.485Z"
   },
   {
    "duration": 7,
    "start_time": "2021-12-20T15:32:49.872Z"
   },
   {
    "duration": 513,
    "start_time": "2021-12-20T15:32:49.882Z"
   },
   {
    "duration": 1373,
    "start_time": "2021-12-20T15:32:50.398Z"
   },
   {
    "duration": -32,
    "start_time": "2021-12-20T15:32:51.807Z"
   },
   {
    "duration": -34,
    "start_time": "2021-12-20T15:32:51.811Z"
   },
   {
    "duration": -36,
    "start_time": "2021-12-20T15:32:51.815Z"
   },
   {
    "duration": -38,
    "start_time": "2021-12-20T15:32:51.819Z"
   },
   {
    "duration": -40,
    "start_time": "2021-12-20T15:32:51.823Z"
   },
   {
    "duration": 2490,
    "start_time": "2021-12-20T15:34:57.491Z"
   },
   {
    "duration": 859,
    "start_time": "2021-12-20T15:36:24.371Z"
   },
   {
    "duration": 2909,
    "start_time": "2021-12-20T15:36:42.525Z"
   },
   {
    "duration": 3231,
    "start_time": "2021-12-20T15:36:54.748Z"
   },
   {
    "duration": 2222,
    "start_time": "2021-12-20T15:37:11.445Z"
   },
   {
    "duration": 2027,
    "start_time": "2021-12-20T15:37:46.208Z"
   },
   {
    "duration": 64,
    "start_time": "2021-12-20T15:51:52.781Z"
   },
   {
    "duration": 2629,
    "start_time": "2021-12-20T15:51:54.510Z"
   },
   {
    "duration": 983,
    "start_time": "2021-12-20T15:52:14.986Z"
   },
   {
    "duration": 1162,
    "start_time": "2021-12-20T15:56:23.715Z"
   },
   {
    "duration": 1132,
    "start_time": "2021-12-20T15:57:00.651Z"
   },
   {
    "duration": 1016,
    "start_time": "2021-12-20T15:57:47.063Z"
   },
   {
    "duration": 303,
    "start_time": "2021-12-20T19:11:32.494Z"
   },
   {
    "duration": 2740,
    "start_time": "2021-12-20T19:11:58.256Z"
   },
   {
    "duration": 18,
    "start_time": "2021-12-20T19:14:10.817Z"
   },
   {
    "duration": 1549,
    "start_time": "2021-12-20T19:14:53.209Z"
   },
   {
    "duration": 996,
    "start_time": "2021-12-20T19:16:36.890Z"
   },
   {
    "duration": 954,
    "start_time": "2021-12-20T19:16:51.549Z"
   },
   {
    "duration": 93,
    "start_time": "2021-12-20T19:17:18.723Z"
   },
   {
    "duration": 119,
    "start_time": "2021-12-20T19:17:18.819Z"
   },
   {
    "duration": 197,
    "start_time": "2021-12-20T19:17:18.942Z"
   },
   {
    "duration": 204,
    "start_time": "2021-12-20T19:17:19.143Z"
   },
   {
    "duration": 172,
    "start_time": "2021-12-20T19:17:19.350Z"
   },
   {
    "duration": 283,
    "start_time": "2021-12-20T19:17:19.525Z"
   },
   {
    "duration": 94,
    "start_time": "2021-12-20T19:17:19.811Z"
   },
   {
    "duration": 183,
    "start_time": "2021-12-20T19:17:19.912Z"
   },
   {
    "duration": 188,
    "start_time": "2021-12-20T19:17:20.098Z"
   },
   {
    "duration": 176,
    "start_time": "2021-12-20T19:17:20.289Z"
   },
   {
    "duration": 241,
    "start_time": "2021-12-20T19:17:20.468Z"
   },
   {
    "duration": 203,
    "start_time": "2021-12-20T19:17:20.712Z"
   },
   {
    "duration": 206,
    "start_time": "2021-12-20T19:17:20.918Z"
   },
   {
    "duration": 275,
    "start_time": "2021-12-20T19:17:21.127Z"
   },
   {
    "duration": 278,
    "start_time": "2021-12-20T19:17:21.406Z"
   },
   {
    "duration": 199,
    "start_time": "2021-12-20T19:17:21.687Z"
   },
   {
    "duration": 240,
    "start_time": "2021-12-20T19:17:21.889Z"
   },
   {
    "duration": 112,
    "start_time": "2021-12-20T19:17:22.132Z"
   },
   {
    "duration": 210,
    "start_time": "2021-12-20T19:17:22.246Z"
   },
   {
    "duration": 169,
    "start_time": "2021-12-20T19:17:22.458Z"
   },
   {
    "duration": 185,
    "start_time": "2021-12-20T19:17:22.630Z"
   },
   {
    "duration": 165,
    "start_time": "2021-12-20T19:17:22.817Z"
   },
   {
    "duration": 192,
    "start_time": "2021-12-20T19:17:22.989Z"
   },
   {
    "duration": 232,
    "start_time": "2021-12-20T19:17:23.185Z"
   },
   {
    "duration": 177,
    "start_time": "2021-12-20T19:17:23.420Z"
   },
   {
    "duration": 147,
    "start_time": "2021-12-20T19:17:23.600Z"
   },
   {
    "duration": 197,
    "start_time": "2021-12-20T19:17:23.750Z"
   },
   {
    "duration": 234,
    "start_time": "2021-12-20T19:17:23.950Z"
   },
   {
    "duration": 171,
    "start_time": "2021-12-20T19:17:24.187Z"
   },
   {
    "duration": 313,
    "start_time": "2021-12-20T19:17:24.361Z"
   },
   {
    "duration": 1259,
    "start_time": "2021-12-20T19:17:24.676Z"
   },
   {
    "duration": 8,
    "start_time": "2021-12-20T19:17:25.938Z"
   },
   {
    "duration": 298,
    "start_time": "2021-12-20T19:17:25.949Z"
   },
   {
    "duration": 2187,
    "start_time": "2021-12-20T19:17:26.250Z"
   },
   {
    "duration": 57,
    "start_time": "2021-12-20T19:17:28.440Z"
   },
   {
    "duration": 2221,
    "start_time": "2021-12-20T19:17:28.499Z"
   },
   {
    "duration": 94,
    "start_time": "2021-12-20T19:17:30.723Z"
   },
   {
    "duration": 882,
    "start_time": "2021-12-20T19:17:34.184Z"
   },
   {
    "duration": 1047,
    "start_time": "2021-12-20T19:17:55.969Z"
   },
   {
    "duration": 498,
    "start_time": "2021-12-20T19:18:14.852Z"
   },
   {
    "duration": 1420,
    "start_time": "2021-12-20T19:19:06.615Z"
   },
   {
    "duration": 68,
    "start_time": "2021-12-20T19:19:08.039Z"
   },
   {
    "duration": 189,
    "start_time": "2021-12-20T19:19:08.110Z"
   },
   {
    "duration": 225,
    "start_time": "2021-12-20T19:19:08.303Z"
   },
   {
    "duration": 202,
    "start_time": "2021-12-20T19:19:08.531Z"
   },
   {
    "duration": 316,
    "start_time": "2021-12-20T19:19:08.736Z"
   },
   {
    "duration": 133,
    "start_time": "2021-12-20T19:19:09.055Z"
   },
   {
    "duration": 223,
    "start_time": "2021-12-20T19:19:09.192Z"
   },
   {
    "duration": 310,
    "start_time": "2021-12-20T19:19:09.418Z"
   },
   {
    "duration": 231,
    "start_time": "2021-12-20T19:19:09.730Z"
   },
   {
    "duration": 235,
    "start_time": "2021-12-20T19:19:09.963Z"
   },
   {
    "duration": 209,
    "start_time": "2021-12-20T19:19:10.200Z"
   },
   {
    "duration": 326,
    "start_time": "2021-12-20T19:19:10.412Z"
   },
   {
    "duration": 213,
    "start_time": "2021-12-20T19:19:10.741Z"
   },
   {
    "duration": 294,
    "start_time": "2021-12-20T19:19:10.956Z"
   },
   {
    "duration": 297,
    "start_time": "2021-12-20T19:19:11.252Z"
   },
   {
    "duration": 319,
    "start_time": "2021-12-20T19:19:11.552Z"
   },
   {
    "duration": 290,
    "start_time": "2021-12-20T19:19:11.873Z"
   },
   {
    "duration": 333,
    "start_time": "2021-12-20T19:19:12.165Z"
   },
   {
    "duration": 305,
    "start_time": "2021-12-20T19:19:12.501Z"
   },
   {
    "duration": 304,
    "start_time": "2021-12-20T19:19:12.808Z"
   },
   {
    "duration": 302,
    "start_time": "2021-12-20T19:19:13.114Z"
   },
   {
    "duration": 237,
    "start_time": "2021-12-20T19:19:13.423Z"
   },
   {
    "duration": 195,
    "start_time": "2021-12-20T19:19:13.663Z"
   },
   {
    "duration": 237,
    "start_time": "2021-12-20T19:19:13.861Z"
   },
   {
    "duration": 217,
    "start_time": "2021-12-20T19:19:14.101Z"
   },
   {
    "duration": 272,
    "start_time": "2021-12-20T19:19:14.321Z"
   },
   {
    "duration": 228,
    "start_time": "2021-12-20T19:19:14.595Z"
   },
   {
    "duration": 199,
    "start_time": "2021-12-20T19:19:14.826Z"
   },
   {
    "duration": 306,
    "start_time": "2021-12-20T19:19:15.027Z"
   },
   {
    "duration": 1547,
    "start_time": "2021-12-20T19:19:15.335Z"
   },
   {
    "duration": 8,
    "start_time": "2021-12-20T19:19:16.884Z"
   },
   {
    "duration": 358,
    "start_time": "2021-12-20T19:19:16.894Z"
   },
   {
    "duration": 2249,
    "start_time": "2021-12-20T19:19:17.256Z"
   },
   {
    "duration": 61,
    "start_time": "2021-12-20T19:19:19.508Z"
   },
   {
    "duration": 2496,
    "start_time": "2021-12-20T19:19:19.572Z"
   },
   {
    "duration": 905,
    "start_time": "2021-12-20T19:20:18.720Z"
   },
   {
    "duration": 1013,
    "start_time": "2021-12-20T19:20:47.184Z"
   },
   {
    "duration": 1290,
    "start_time": "2021-12-20T19:22:40.596Z"
   },
   {
    "duration": 131,
    "start_time": "2021-12-20T19:24:19.902Z"
   },
   {
    "duration": 168,
    "start_time": "2021-12-20T19:24:20.036Z"
   },
   {
    "duration": 155,
    "start_time": "2021-12-20T19:24:20.208Z"
   },
   {
    "duration": 171,
    "start_time": "2021-12-20T19:24:20.367Z"
   },
   {
    "duration": 231,
    "start_time": "2021-12-20T19:24:20.541Z"
   },
   {
    "duration": 378,
    "start_time": "2021-12-20T19:24:20.775Z"
   },
   {
    "duration": 110,
    "start_time": "2021-12-20T19:24:21.156Z"
   },
   {
    "duration": 274,
    "start_time": "2021-12-20T19:24:21.271Z"
   },
   {
    "duration": 217,
    "start_time": "2021-12-20T19:24:21.549Z"
   },
   {
    "duration": 238,
    "start_time": "2021-12-20T19:24:21.768Z"
   },
   {
    "duration": 227,
    "start_time": "2021-12-20T19:24:22.010Z"
   },
   {
    "duration": 236,
    "start_time": "2021-12-20T19:24:22.239Z"
   },
   {
    "duration": 161,
    "start_time": "2021-12-20T19:24:22.478Z"
   },
   {
    "duration": 197,
    "start_time": "2021-12-20T19:24:22.641Z"
   },
   {
    "duration": 137,
    "start_time": "2021-12-20T19:24:22.840Z"
   },
   {
    "duration": 148,
    "start_time": "2021-12-20T19:24:22.980Z"
   },
   {
    "duration": 185,
    "start_time": "2021-12-20T19:24:23.131Z"
   },
   {
    "duration": 161,
    "start_time": "2021-12-20T19:24:23.319Z"
   },
   {
    "duration": 182,
    "start_time": "2021-12-20T19:24:23.482Z"
   },
   {
    "duration": 185,
    "start_time": "2021-12-20T19:24:23.667Z"
   },
   {
    "duration": 214,
    "start_time": "2021-12-20T19:24:23.854Z"
   },
   {
    "duration": 206,
    "start_time": "2021-12-20T19:24:24.071Z"
   },
   {
    "duration": 182,
    "start_time": "2021-12-20T19:24:24.284Z"
   },
   {
    "duration": 136,
    "start_time": "2021-12-20T19:24:24.470Z"
   },
   {
    "duration": 130,
    "start_time": "2021-12-20T19:24:24.609Z"
   },
   {
    "duration": 165,
    "start_time": "2021-12-20T19:24:24.743Z"
   },
   {
    "duration": 173,
    "start_time": "2021-12-20T19:24:24.911Z"
   },
   {
    "duration": 180,
    "start_time": "2021-12-20T19:24:25.087Z"
   },
   {
    "duration": 165,
    "start_time": "2021-12-20T19:24:25.271Z"
   },
   {
    "duration": 178,
    "start_time": "2021-12-20T19:24:25.439Z"
   },
   {
    "duration": 1287,
    "start_time": "2021-12-20T19:24:25.620Z"
   },
   {
    "duration": 9,
    "start_time": "2021-12-20T19:24:26.910Z"
   },
   {
    "duration": 191,
    "start_time": "2021-12-20T19:24:26.922Z"
   },
   {
    "duration": 2300,
    "start_time": "2021-12-20T19:24:27.116Z"
   },
   {
    "duration": 57,
    "start_time": "2021-12-20T19:24:29.418Z"
   },
   {
    "duration": 2278,
    "start_time": "2021-12-20T19:24:29.478Z"
   },
   {
    "duration": 1217,
    "start_time": "2021-12-20T19:25:16.436Z"
   },
   {
    "duration": 41,
    "start_time": "2021-12-20T19:25:17.656Z"
   },
   {
    "duration": 160,
    "start_time": "2021-12-20T19:25:17.701Z"
   },
   {
    "duration": 171,
    "start_time": "2021-12-20T19:25:17.865Z"
   },
   {
    "duration": 196,
    "start_time": "2021-12-20T19:25:18.040Z"
   },
   {
    "duration": 290,
    "start_time": "2021-12-20T19:25:18.239Z"
   },
   {
    "duration": 174,
    "start_time": "2021-12-20T19:25:18.532Z"
   },
   {
    "duration": 191,
    "start_time": "2021-12-20T19:25:18.710Z"
   },
   {
    "duration": 166,
    "start_time": "2021-12-20T19:25:18.904Z"
   },
   {
    "duration": 190,
    "start_time": "2021-12-20T19:25:19.074Z"
   },
   {
    "duration": 178,
    "start_time": "2021-12-20T19:25:19.267Z"
   },
   {
    "duration": 163,
    "start_time": "2021-12-20T19:25:19.447Z"
   },
   {
    "duration": 160,
    "start_time": "2021-12-20T19:25:19.613Z"
   },
   {
    "duration": 203,
    "start_time": "2021-12-20T19:25:19.776Z"
   },
   {
    "duration": 176,
    "start_time": "2021-12-20T19:25:19.981Z"
   },
   {
    "duration": 181,
    "start_time": "2021-12-20T19:25:20.160Z"
   },
   {
    "duration": 296,
    "start_time": "2021-12-20T19:25:20.344Z"
   },
   {
    "duration": 129,
    "start_time": "2021-12-20T19:25:20.644Z"
   },
   {
    "duration": 150,
    "start_time": "2021-12-20T19:25:20.776Z"
   },
   {
    "duration": 173,
    "start_time": "2021-12-20T19:25:20.930Z"
   },
   {
    "duration": 181,
    "start_time": "2021-12-20T19:25:21.106Z"
   },
   {
    "duration": 194,
    "start_time": "2021-12-20T19:25:21.289Z"
   },
   {
    "duration": 221,
    "start_time": "2021-12-20T19:25:21.488Z"
   },
   {
    "duration": 173,
    "start_time": "2021-12-20T19:25:21.712Z"
   },
   {
    "duration": 192,
    "start_time": "2021-12-20T19:25:21.887Z"
   },
   {
    "duration": 251,
    "start_time": "2021-12-20T19:25:22.082Z"
   },
   {
    "duration": 168,
    "start_time": "2021-12-20T19:25:22.336Z"
   },
   {
    "duration": 165,
    "start_time": "2021-12-20T19:25:22.507Z"
   },
   {
    "duration": 134,
    "start_time": "2021-12-20T19:25:22.675Z"
   },
   {
    "duration": 172,
    "start_time": "2021-12-20T19:25:22.811Z"
   },
   {
    "duration": 1730,
    "start_time": "2021-12-20T19:25:22.987Z"
   },
   {
    "duration": 7,
    "start_time": "2021-12-20T19:25:24.720Z"
   },
   {
    "duration": 285,
    "start_time": "2021-12-20T19:25:24.729Z"
   },
   {
    "duration": 2586,
    "start_time": "2021-12-20T19:25:25.017Z"
   },
   {
    "duration": 64,
    "start_time": "2021-12-20T19:25:27.606Z"
   },
   {
    "duration": 2284,
    "start_time": "2021-12-20T19:25:27.673Z"
   },
   {
    "duration": 8018,
    "start_time": "2021-12-20T19:25:32.220Z"
   },
   {
    "duration": 276,
    "start_time": "2021-12-20T19:26:06.667Z"
   },
   {
    "duration": 155,
    "start_time": "2021-12-20T19:26:15.481Z"
   },
   {
    "duration": 1426,
    "start_time": "2021-12-20T19:26:29.344Z"
   },
   {
    "duration": 1146,
    "start_time": "2021-12-20T19:28:07.655Z"
   },
   {
    "duration": 1092,
    "start_time": "2021-12-20T19:28:19.701Z"
   },
   {
    "duration": 713,
    "start_time": "2021-12-20T19:29:40.440Z"
   },
   {
    "duration": 2939,
    "start_time": "2021-12-20T19:29:51.290Z"
   },
   {
    "duration": 1989,
    "start_time": "2021-12-20T19:31:53.716Z"
   },
   {
    "duration": 1411,
    "start_time": "2021-12-20T19:36:50.229Z"
   },
   {
    "duration": 2242,
    "start_time": "2021-12-20T19:37:20.481Z"
   },
   {
    "duration": 1456,
    "start_time": "2021-12-20T19:37:38.380Z"
   },
   {
    "duration": 1972,
    "start_time": "2021-12-20T19:37:48.527Z"
   },
   {
    "duration": 928,
    "start_time": "2021-12-20T19:38:26.615Z"
   },
   {
    "duration": 959,
    "start_time": "2021-12-20T19:41:51.762Z"
   },
   {
    "duration": 1025,
    "start_time": "2021-12-20T19:42:50.807Z"
   },
   {
    "duration": 922,
    "start_time": "2021-12-20T19:43:33.635Z"
   },
   {
    "duration": 970,
    "start_time": "2021-12-20T19:43:44.748Z"
   },
   {
    "duration": 1314,
    "start_time": "2021-12-20T19:45:38.278Z"
   },
   {
    "duration": 1004,
    "start_time": "2021-12-20T19:45:48.681Z"
   },
   {
    "duration": 933,
    "start_time": "2021-12-20T19:45:57.972Z"
   },
   {
    "duration": 6,
    "start_time": "2021-12-20T19:51:53.884Z"
   },
   {
    "duration": 35,
    "start_time": "2021-12-20T19:52:04.531Z"
   },
   {
    "duration": 2424,
    "start_time": "2021-12-20T19:52:07.149Z"
   },
   {
    "duration": 1142,
    "start_time": "2021-12-20T19:52:22.348Z"
   },
   {
    "duration": 910,
    "start_time": "2021-12-20T19:52:26.177Z"
   },
   {
    "duration": 91,
    "start_time": "2021-12-20T19:52:36.625Z"
   },
   {
    "duration": 247,
    "start_time": "2021-12-20T19:52:36.718Z"
   },
   {
    "duration": 292,
    "start_time": "2021-12-20T19:52:36.968Z"
   },
   {
    "duration": 215,
    "start_time": "2021-12-20T19:52:37.263Z"
   },
   {
    "duration": 252,
    "start_time": "2021-12-20T19:52:37.481Z"
   },
   {
    "duration": 479,
    "start_time": "2021-12-20T19:52:37.736Z"
   },
   {
    "duration": 188,
    "start_time": "2021-12-20T19:52:38.218Z"
   },
   {
    "duration": 201,
    "start_time": "2021-12-20T19:52:38.410Z"
   },
   {
    "duration": 224,
    "start_time": "2021-12-20T19:52:38.616Z"
   },
   {
    "duration": 193,
    "start_time": "2021-12-20T19:52:38.843Z"
   },
   {
    "duration": 170,
    "start_time": "2021-12-20T19:52:39.039Z"
   },
   {
    "duration": 184,
    "start_time": "2021-12-20T19:52:39.211Z"
   },
   {
    "duration": 162,
    "start_time": "2021-12-20T19:52:39.397Z"
   },
   {
    "duration": 167,
    "start_time": "2021-12-20T19:52:39.562Z"
   },
   {
    "duration": 195,
    "start_time": "2021-12-20T19:52:39.731Z"
   },
   {
    "duration": 189,
    "start_time": "2021-12-20T19:52:39.928Z"
   },
   {
    "duration": 254,
    "start_time": "2021-12-20T19:52:40.120Z"
   },
   {
    "duration": 146,
    "start_time": "2021-12-20T19:52:40.376Z"
   },
   {
    "duration": 198,
    "start_time": "2021-12-20T19:52:40.524Z"
   },
   {
    "duration": 195,
    "start_time": "2021-12-20T19:52:40.725Z"
   },
   {
    "duration": 207,
    "start_time": "2021-12-20T19:52:40.922Z"
   },
   {
    "duration": 147,
    "start_time": "2021-12-20T19:52:41.132Z"
   },
   {
    "duration": 229,
    "start_time": "2021-12-20T19:52:41.286Z"
   },
   {
    "duration": 205,
    "start_time": "2021-12-20T19:52:41.518Z"
   },
   {
    "duration": 237,
    "start_time": "2021-12-20T19:52:41.725Z"
   },
   {
    "duration": 187,
    "start_time": "2021-12-20T19:52:41.964Z"
   },
   {
    "duration": 189,
    "start_time": "2021-12-20T19:52:42.154Z"
   },
   {
    "duration": 218,
    "start_time": "2021-12-20T19:52:42.346Z"
   },
   {
    "duration": 206,
    "start_time": "2021-12-20T19:52:42.567Z"
   },
   {
    "duration": 206,
    "start_time": "2021-12-20T19:52:42.776Z"
   },
   {
    "duration": 1103,
    "start_time": "2021-12-20T19:52:42.984Z"
   },
   {
    "duration": 8,
    "start_time": "2021-12-20T19:52:44.090Z"
   },
   {
    "duration": 307,
    "start_time": "2021-12-20T19:52:44.101Z"
   },
   {
    "duration": 2299,
    "start_time": "2021-12-20T19:52:44.411Z"
   },
   {
    "duration": 55,
    "start_time": "2021-12-20T19:52:46.712Z"
   },
   {
    "duration": 2798,
    "start_time": "2021-12-20T19:52:46.770Z"
   },
   {
    "duration": 955,
    "start_time": "2021-12-20T19:52:49.571Z"
   },
   {
    "duration": 367,
    "start_time": "2021-12-20T19:53:41.693Z"
   },
   {
    "duration": 982,
    "start_time": "2021-12-20T19:54:12.380Z"
   },
   {
    "duration": 43,
    "start_time": "2021-12-20T19:54:13.365Z"
   },
   {
    "duration": 168,
    "start_time": "2021-12-20T19:54:13.411Z"
   },
   {
    "duration": 206,
    "start_time": "2021-12-20T19:54:13.582Z"
   },
   {
    "duration": 119,
    "start_time": "2021-12-20T19:54:13.791Z"
   },
   {
    "duration": 275,
    "start_time": "2021-12-20T19:54:13.912Z"
   },
   {
    "duration": 112,
    "start_time": "2021-12-20T19:54:14.190Z"
   },
   {
    "duration": 197,
    "start_time": "2021-12-20T19:54:14.306Z"
   },
   {
    "duration": 195,
    "start_time": "2021-12-20T19:54:14.506Z"
   },
   {
    "duration": 170,
    "start_time": "2021-12-20T19:54:14.703Z"
   },
   {
    "duration": 237,
    "start_time": "2021-12-20T19:54:14.875Z"
   },
   {
    "duration": 256,
    "start_time": "2021-12-20T19:54:15.114Z"
   },
   {
    "duration": 159,
    "start_time": "2021-12-20T19:54:15.373Z"
   },
   {
    "duration": 198,
    "start_time": "2021-12-20T19:54:15.535Z"
   },
   {
    "duration": 169,
    "start_time": "2021-12-20T19:54:15.735Z"
   },
   {
    "duration": 201,
    "start_time": "2021-12-20T19:54:15.907Z"
   },
   {
    "duration": 297,
    "start_time": "2021-12-20T19:54:16.112Z"
   },
   {
    "duration": 129,
    "start_time": "2021-12-20T19:54:16.412Z"
   },
   {
    "duration": 188,
    "start_time": "2021-12-20T19:54:16.543Z"
   },
   {
    "duration": 172,
    "start_time": "2021-12-20T19:54:16.733Z"
   },
   {
    "duration": 229,
    "start_time": "2021-12-20T19:54:16.908Z"
   },
   {
    "duration": 199,
    "start_time": "2021-12-20T19:54:17.140Z"
   },
   {
    "duration": 211,
    "start_time": "2021-12-20T19:54:17.344Z"
   },
   {
    "duration": 171,
    "start_time": "2021-12-20T19:54:17.557Z"
   },
   {
    "duration": 154,
    "start_time": "2021-12-20T19:54:17.730Z"
   },
   {
    "duration": 158,
    "start_time": "2021-12-20T19:54:17.887Z"
   },
   {
    "duration": 168,
    "start_time": "2021-12-20T19:54:18.048Z"
   },
   {
    "duration": 194,
    "start_time": "2021-12-20T19:54:18.219Z"
   },
   {
    "duration": 230,
    "start_time": "2021-12-20T19:54:18.416Z"
   },
   {
    "duration": 182,
    "start_time": "2021-12-20T19:54:18.649Z"
   },
   {
    "duration": 1241,
    "start_time": "2021-12-20T19:54:18.833Z"
   },
   {
    "duration": 9,
    "start_time": "2021-12-20T19:54:20.077Z"
   },
   {
    "duration": 243,
    "start_time": "2021-12-20T19:54:20.089Z"
   },
   {
    "duration": 2301,
    "start_time": "2021-12-20T19:54:20.335Z"
   },
   {
    "duration": 57,
    "start_time": "2021-12-20T19:54:22.638Z"
   },
   {
    "duration": 2107,
    "start_time": "2021-12-20T19:54:22.697Z"
   },
   {
    "duration": 1046,
    "start_time": "2021-12-20T19:54:29.925Z"
   },
   {
    "duration": 569,
    "start_time": "2021-12-20T20:09:00.639Z"
   },
   {
    "duration": 399,
    "start_time": "2021-12-20T20:09:32.834Z"
   },
   {
    "duration": 982,
    "start_time": "2021-12-20T20:09:51.276Z"
   },
   {
    "duration": 298,
    "start_time": "2021-12-20T20:09:57.362Z"
   },
   {
    "duration": 761,
    "start_time": "2021-12-20T20:10:19.870Z"
   },
   {
    "duration": 55,
    "start_time": "2021-12-20T20:10:23.890Z"
   },
   {
    "duration": 6,
    "start_time": "2021-12-20T20:10:34.780Z"
   },
   {
    "duration": 12,
    "start_time": "2021-12-20T20:10:37.538Z"
   },
   {
    "duration": 8,
    "start_time": "2021-12-20T20:10:39.724Z"
   },
   {
    "duration": 6,
    "start_time": "2021-12-20T20:10:56.507Z"
   },
   {
    "duration": 339,
    "start_time": "2021-12-20T20:10:56.516Z"
   },
   {
    "duration": 188,
    "start_time": "2021-12-20T20:10:56.858Z"
   },
   {
    "duration": 310,
    "start_time": "2021-12-20T20:10:57.049Z"
   },
   {
    "duration": 347,
    "start_time": "2021-12-20T20:10:57.361Z"
   },
   {
    "duration": 292,
    "start_time": "2021-12-20T20:10:57.710Z"
   },
   {
    "duration": 292,
    "start_time": "2021-12-20T20:10:58.004Z"
   },
   {
    "duration": 333,
    "start_time": "2021-12-20T20:10:58.299Z"
   },
   {
    "duration": 341,
    "start_time": "2021-12-20T20:10:58.636Z"
   },
   {
    "duration": 351,
    "start_time": "2021-12-20T20:10:58.980Z"
   },
   {
    "duration": 211,
    "start_time": "2021-12-20T20:10:59.333Z"
   },
   {
    "duration": 204,
    "start_time": "2021-12-20T20:10:59.546Z"
   },
   {
    "duration": 231,
    "start_time": "2021-12-20T20:10:59.752Z"
   },
   {
    "duration": 278,
    "start_time": "2021-12-20T20:10:59.985Z"
   },
   {
    "duration": 259,
    "start_time": "2021-12-20T20:11:00.265Z"
   },
   {
    "duration": 104,
    "start_time": "2021-12-20T20:11:00.527Z"
   },
   {
    "duration": 117,
    "start_time": "2021-12-20T20:11:00.636Z"
   },
   {
    "duration": 159,
    "start_time": "2021-12-20T20:11:00.756Z"
   },
   {
    "duration": 171,
    "start_time": "2021-12-20T20:11:00.918Z"
   },
   {
    "duration": 192,
    "start_time": "2021-12-20T20:11:01.092Z"
   },
   {
    "duration": 291,
    "start_time": "2021-12-20T20:11:01.287Z"
   },
   {
    "duration": 260,
    "start_time": "2021-12-20T20:11:01.581Z"
   },
   {
    "duration": 1181,
    "start_time": "2021-12-20T20:11:01.843Z"
   },
   {
    "duration": 6,
    "start_time": "2021-12-20T20:11:03.027Z"
   },
   {
    "duration": 336,
    "start_time": "2021-12-20T20:11:03.035Z"
   },
   {
    "duration": 2230,
    "start_time": "2021-12-20T20:11:03.375Z"
   },
   {
    "duration": 57,
    "start_time": "2021-12-20T20:11:05.610Z"
   },
   {
    "duration": 2143,
    "start_time": "2021-12-20T20:11:05.670Z"
   },
   {
    "duration": 912,
    "start_time": "2021-12-20T20:11:07.815Z"
   },
   {
    "duration": 901,
    "start_time": "2021-12-20T20:11:08.729Z"
   },
   {
    "duration": 390,
    "start_time": "2021-12-20T20:11:14.007Z"
   },
   {
    "duration": 10,
    "start_time": "2021-12-20T20:11:29.889Z"
   },
   {
    "duration": 963,
    "start_time": "2021-12-20T20:11:49.877Z"
   },
   {
    "duration": 307,
    "start_time": "2021-12-20T20:12:21.512Z"
   },
   {
    "duration": 16,
    "start_time": "2021-12-20T20:12:39.537Z"
   },
   {
    "duration": 871,
    "start_time": "2021-12-20T20:13:11.455Z"
   },
   {
    "duration": 16,
    "start_time": "2021-12-20T20:13:23.012Z"
   },
   {
    "duration": 1044,
    "start_time": "2021-12-20T20:13:26.616Z"
   },
   {
    "duration": 97,
    "start_time": "2021-12-20T20:14:25.145Z"
   },
   {
    "duration": 7783,
    "start_time": "2021-12-20T20:15:52.925Z"
   },
   {
    "duration": 5,
    "start_time": "2021-12-20T20:16:30.879Z"
   },
   {
    "duration": 93,
    "start_time": "2021-12-20T20:17:13.482Z"
   },
   {
    "duration": 5,
    "start_time": "2021-12-20T20:17:21.640Z"
   },
   {
    "duration": 5,
    "start_time": "2021-12-20T20:17:30.820Z"
   },
   {
    "duration": 10,
    "start_time": "2021-12-20T20:17:57.759Z"
   },
   {
    "duration": 1028,
    "start_time": "2021-12-20T20:17:59.706Z"
   },
   {
    "duration": 7,
    "start_time": "2021-12-20T20:18:06.869Z"
   },
   {
    "duration": 10,
    "start_time": "2021-12-20T20:18:27.357Z"
   },
   {
    "duration": 882,
    "start_time": "2021-12-20T20:18:29.172Z"
   },
   {
    "duration": 6,
    "start_time": "2021-12-20T20:18:33.988Z"
   },
   {
    "duration": 10,
    "start_time": "2021-12-20T20:18:39.839Z"
   },
   {
    "duration": 900,
    "start_time": "2021-12-20T20:18:41.617Z"
   },
   {
    "duration": 5,
    "start_time": "2021-12-20T20:18:44.844Z"
   },
   {
    "duration": 10,
    "start_time": "2021-12-20T20:18:49.930Z"
   },
   {
    "duration": 906,
    "start_time": "2021-12-20T20:18:51.890Z"
   },
   {
    "duration": 5,
    "start_time": "2021-12-20T20:18:54.514Z"
   },
   {
    "duration": 11,
    "start_time": "2021-12-20T20:19:00.523Z"
   },
   {
    "duration": 1119,
    "start_time": "2021-12-20T20:19:02.279Z"
   },
   {
    "duration": 5,
    "start_time": "2021-12-20T20:19:05.655Z"
   },
   {
    "duration": 10,
    "start_time": "2021-12-20T20:19:18.196Z"
   },
   {
    "duration": 1201,
    "start_time": "2021-12-20T20:19:19.704Z"
   },
   {
    "duration": 5,
    "start_time": "2021-12-20T20:19:22.335Z"
   },
   {
    "duration": 13,
    "start_time": "2021-12-20T20:19:30.027Z"
   },
   {
    "duration": 1046,
    "start_time": "2021-12-20T20:19:31.932Z"
   },
   {
    "duration": 4,
    "start_time": "2021-12-20T20:19:35.008Z"
   },
   {
    "duration": 917,
    "start_time": "2021-12-20T20:21:58.099Z"
   },
   {
    "duration": 10,
    "start_time": "2021-12-20T20:22:42.528Z"
   },
   {
    "duration": 1067,
    "start_time": "2021-12-20T20:22:50.117Z"
   },
   {
    "duration": 947,
    "start_time": "2021-12-20T20:22:55.816Z"
   },
   {
    "duration": 941,
    "start_time": "2021-12-20T20:22:59.580Z"
   },
   {
    "duration": 10,
    "start_time": "2021-12-20T20:23:04.325Z"
   },
   {
    "duration": 1025,
    "start_time": "2021-12-20T20:23:06.507Z"
   },
   {
    "duration": 5,
    "start_time": "2021-12-20T20:23:12.737Z"
   },
   {
    "duration": 173,
    "start_time": "2021-12-20T20:25:12.642Z"
   },
   {
    "duration": 101,
    "start_time": "2021-12-20T20:25:19.445Z"
   },
   {
    "duration": 13,
    "start_time": "2021-12-20T20:25:27.386Z"
   },
   {
    "duration": 18,
    "start_time": "2021-12-20T20:25:33.158Z"
   },
   {
    "duration": 13,
    "start_time": "2021-12-20T20:25:41.218Z"
   },
   {
    "duration": 18,
    "start_time": "2021-12-20T20:25:49.497Z"
   },
   {
    "duration": 20,
    "start_time": "2021-12-20T20:25:54.679Z"
   },
   {
    "duration": 18,
    "start_time": "2021-12-20T20:26:02.954Z"
   },
   {
    "duration": 13,
    "start_time": "2021-12-20T20:26:08.305Z"
   },
   {
    "duration": 7,
    "start_time": "2021-12-20T20:26:16.394Z"
   },
   {
    "duration": 17223,
    "start_time": "2021-12-20T20:38:30.860Z"
   },
   {
    "duration": 16100,
    "start_time": "2021-12-20T20:39:05.835Z"
   },
   {
    "duration": 16556,
    "start_time": "2021-12-20T20:39:30.541Z"
   },
   {
    "duration": 15574,
    "start_time": "2021-12-20T20:40:32.358Z"
   },
   {
    "duration": 13,
    "start_time": "2021-12-20T20:49:24.830Z"
   },
   {
    "duration": 13978,
    "start_time": "2021-12-20T20:51:22.968Z"
   },
   {
    "duration": 13510,
    "start_time": "2021-12-20T20:51:37.749Z"
   },
   {
    "duration": 8562,
    "start_time": "2021-12-20T20:52:51.787Z"
   },
   {
    "duration": 9402,
    "start_time": "2021-12-20T20:53:07.803Z"
   },
   {
    "duration": 1106,
    "start_time": "2021-12-20T20:54:49.578Z"
   },
   {
    "duration": 1003,
    "start_time": "2021-12-20T20:55:40.596Z"
   },
   {
    "duration": 769,
    "start_time": "2021-12-20T20:55:54.466Z"
   },
   {
    "duration": 654,
    "start_time": "2021-12-20T20:57:48.635Z"
   },
   {
    "duration": 649,
    "start_time": "2021-12-20T20:58:14.459Z"
   },
   {
    "duration": 630,
    "start_time": "2021-12-20T20:58:25.211Z"
   },
   {
    "duration": 645,
    "start_time": "2021-12-20T20:58:39.965Z"
   },
   {
    "duration": 630,
    "start_time": "2021-12-20T20:59:06.973Z"
   },
   {
    "duration": 819,
    "start_time": "2021-12-20T20:59:18.148Z"
   },
   {
    "duration": 954,
    "start_time": "2021-12-20T20:59:38.716Z"
   },
   {
    "duration": 668,
    "start_time": "2021-12-20T21:00:01.023Z"
   },
   {
    "duration": 772,
    "start_time": "2021-12-20T21:02:59.832Z"
   },
   {
    "duration": 15,
    "start_time": "2021-12-20T21:09:15.490Z"
   },
   {
    "duration": 691,
    "start_time": "2021-12-20T21:11:17.445Z"
   },
   {
    "duration": 19,
    "start_time": "2021-12-20T21:11:30.764Z"
   },
   {
    "duration": 28,
    "start_time": "2021-12-20T21:14:35.500Z"
   },
   {
    "duration": 717,
    "start_time": "2021-12-20T21:15:37.998Z"
   },
   {
    "duration": 733,
    "start_time": "2021-12-20T21:15:44.525Z"
   },
   {
    "duration": 92,
    "start_time": "2021-12-20T21:17:17.395Z"
   },
   {
    "duration": 20,
    "start_time": "2021-12-20T21:22:49.617Z"
   },
   {
    "duration": 241,
    "start_time": "2021-12-20T21:24:36.366Z"
   },
   {
    "duration": 9,
    "start_time": "2021-12-20T21:25:55.796Z"
   },
   {
    "duration": 14,
    "start_time": "2021-12-20T21:26:04.780Z"
   },
   {
    "duration": 286,
    "start_time": "2021-12-20T21:26:32.926Z"
   },
   {
    "duration": 310,
    "start_time": "2021-12-20T21:26:42.379Z"
   },
   {
    "duration": 401,
    "start_time": "2021-12-20T21:26:48.043Z"
   },
   {
    "duration": 330,
    "start_time": "2021-12-20T21:26:53.924Z"
   },
   {
    "duration": 7,
    "start_time": "2021-12-20T21:27:02.945Z"
   },
   {
    "duration": 7,
    "start_time": "2021-12-20T21:27:16.096Z"
   },
   {
    "duration": 12,
    "start_time": "2021-12-20T21:29:47.898Z"
   },
   {
    "duration": 359,
    "start_time": "2021-12-20T21:30:56.635Z"
   },
   {
    "duration": 719,
    "start_time": "2021-12-20T21:32:35.468Z"
   },
   {
    "duration": 705,
    "start_time": "2021-12-20T21:32:56.267Z"
   },
   {
    "duration": 690,
    "start_time": "2021-12-20T21:33:08.889Z"
   },
   {
    "duration": 353,
    "start_time": "2021-12-20T21:34:26.850Z"
   },
   {
    "duration": 378,
    "start_time": "2021-12-20T21:35:41.520Z"
   },
   {
    "duration": 327,
    "start_time": "2021-12-20T21:36:07.386Z"
   },
   {
    "duration": 432,
    "start_time": "2021-12-20T21:37:14.126Z"
   },
   {
    "duration": 321,
    "start_time": "2021-12-20T21:41:44.487Z"
   },
   {
    "duration": 447,
    "start_time": "2021-12-20T21:42:04.309Z"
   },
   {
    "duration": 554,
    "start_time": "2021-12-20T21:43:15.703Z"
   },
   {
    "duration": 469,
    "start_time": "2021-12-20T21:43:41.451Z"
   },
   {
    "duration": 712,
    "start_time": "2021-12-20T21:44:24.277Z"
   },
   {
    "duration": 443,
    "start_time": "2021-12-20T21:45:48.139Z"
   },
   {
    "duration": 416,
    "start_time": "2021-12-20T21:46:37.805Z"
   }
  ],
  "kernelspec": {
   "display_name": "Python 3",
   "language": "python",
   "name": "python3"
  },
  "language_info": {
   "codemirror_mode": {
    "name": "ipython",
    "version": 3
   },
   "file_extension": ".py",
   "mimetype": "text/x-python",
   "name": "python",
   "nbconvert_exporter": "python",
   "pygments_lexer": "ipython3",
   "version": "3.6.2"
  },
  "toc": {
   "base_numbering": 1,
   "nav_menu": {},
   "number_sections": true,
   "sideBar": true,
   "skip_h1_title": true,
   "title_cell": "Содержание",
   "title_sidebar": "Contents",
   "toc_cell": true,
   "toc_position": {},
   "toc_section_display": true,
   "toc_window_display": true
  }
 },
 "nbformat": 4,
 "nbformat_minor": 2
}
