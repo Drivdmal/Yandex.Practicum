{
 "cells": [
  {
   "cell_type": "markdown",
   "metadata": {},
   "source": [
    "# Рекомендация тарифов"
   ]
  },
  {
   "cell_type": "markdown",
   "metadata": {},
   "source": [
    "В нашем распоряжении данные о поведении клиентов с тарифами \"Смарт\" и \"Ультра\". Нужно построить модель для задачи классификации, которая выберет подходящий тариф. "
   ]
  },
  {
   "cell_type": "markdown",
   "metadata": {},
   "source": [
    "## Откроем и изучим файл\n",
    "\n",
    "Загрузим нужны библиотеки"
   ]
  },
  {
   "cell_type": "code",
   "execution_count": 7,
   "metadata": {},
   "outputs": [],
   "source": [
    "import pandas as pd\n",
    "from sklearn.tree import DecisionTreeClassifier\n",
    "from sklearn.ensemble import RandomForestClassifier\n",
    "from sklearn.linear_model import LogisticRegression\n",
    "from sklearn.dummy import DummyClassifier\n",
    "from sklearn.metrics import accuracy_score\n",
    "from sklearn.model_selection import train_test_split\n",
    "from datetime import datetime\n",
    "from tqdm import tqdm"
   ]
  },
  {
   "cell_type": "markdown",
   "metadata": {},
   "source": [
    "Загрузим и посмотрим на базу данных"
   ]
  },
  {
   "cell_type": "code",
   "execution_count": 8,
   "metadata": {},
   "outputs": [
    {
     "data": {
      "text/html": [
       "<div>\n",
       "<style scoped>\n",
       "    .dataframe tbody tr th:only-of-type {\n",
       "        vertical-align: middle;\n",
       "    }\n",
       "\n",
       "    .dataframe tbody tr th {\n",
       "        vertical-align: top;\n",
       "    }\n",
       "\n",
       "    .dataframe thead th {\n",
       "        text-align: right;\n",
       "    }\n",
       "</style>\n",
       "<table border=\"1\" class=\"dataframe\">\n",
       "  <thead>\n",
       "    <tr style=\"text-align: right;\">\n",
       "      <th></th>\n",
       "      <th>calls</th>\n",
       "      <th>minutes</th>\n",
       "      <th>messages</th>\n",
       "      <th>mb_used</th>\n",
       "      <th>is_ultra</th>\n",
       "    </tr>\n",
       "  </thead>\n",
       "  <tbody>\n",
       "    <tr>\n",
       "      <th>0</th>\n",
       "      <td>40.0</td>\n",
       "      <td>311.90</td>\n",
       "      <td>83.0</td>\n",
       "      <td>19915.42</td>\n",
       "      <td>0</td>\n",
       "    </tr>\n",
       "    <tr>\n",
       "      <th>1</th>\n",
       "      <td>85.0</td>\n",
       "      <td>516.75</td>\n",
       "      <td>56.0</td>\n",
       "      <td>22696.96</td>\n",
       "      <td>0</td>\n",
       "    </tr>\n",
       "    <tr>\n",
       "      <th>2</th>\n",
       "      <td>77.0</td>\n",
       "      <td>467.66</td>\n",
       "      <td>86.0</td>\n",
       "      <td>21060.45</td>\n",
       "      <td>0</td>\n",
       "    </tr>\n",
       "    <tr>\n",
       "      <th>3</th>\n",
       "      <td>106.0</td>\n",
       "      <td>745.53</td>\n",
       "      <td>81.0</td>\n",
       "      <td>8437.39</td>\n",
       "      <td>1</td>\n",
       "    </tr>\n",
       "    <tr>\n",
       "      <th>4</th>\n",
       "      <td>66.0</td>\n",
       "      <td>418.74</td>\n",
       "      <td>1.0</td>\n",
       "      <td>14502.75</td>\n",
       "      <td>0</td>\n",
       "    </tr>\n",
       "  </tbody>\n",
       "</table>\n",
       "</div>"
      ],
      "text/plain": [
       "   calls  minutes  messages   mb_used  is_ultra\n",
       "0   40.0   311.90      83.0  19915.42         0\n",
       "1   85.0   516.75      56.0  22696.96         0\n",
       "2   77.0   467.66      86.0  21060.45         0\n",
       "3  106.0   745.53      81.0   8437.39         1\n",
       "4   66.0   418.74       1.0  14502.75         0"
      ]
     },
     "metadata": {},
     "output_type": "display_data"
    },
    {
     "name": "stdout",
     "output_type": "stream",
     "text": [
      "<class 'pandas.core.frame.DataFrame'>\n",
      "RangeIndex: 3214 entries, 0 to 3213\n",
      "Data columns (total 5 columns):\n",
      " #   Column    Non-Null Count  Dtype  \n",
      "---  ------    --------------  -----  \n",
      " 0   calls     3214 non-null   float64\n",
      " 1   minutes   3214 non-null   float64\n",
      " 2   messages  3214 non-null   float64\n",
      " 3   mb_used   3214 non-null   float64\n",
      " 4   is_ultra  3214 non-null   int64  \n",
      "dtypes: float64(4), int64(1)\n",
      "memory usage: 125.7 KB\n"
     ]
    }
   ],
   "source": [
    "df = pd.read_csv('/datasets/users_behavior.csv')\n",
    "display(df.head())\n",
    "df.info()"
   ]
  },
  {
   "cell_type": "markdown",
   "metadata": {},
   "source": [
    "## Разабьём данные на выборки"
   ]
  },
  {
   "cell_type": "code",
   "execution_count": 9,
   "metadata": {},
   "outputs": [],
   "source": [
    "features = df.drop('is_ultra', axis=1)\n",
    "target = df['is_ultra']\n",
    "\n",
    "features_train, features_valid_and_test, target_train, target_valid_and_test = train_test_split(\n",
    "    features, target, test_size=0.5, random_state=12345)\n",
    "\n",
    "features_test, features_valid, target_test, target_valid = train_test_split(\n",
    "    features_valid_and_test, target_valid_and_test, test_size=0.5, random_state=12345)"
   ]
  },
  {
   "cell_type": "code",
   "execution_count": 10,
   "metadata": {},
   "outputs": [
    {
     "name": "stdout",
     "output_type": "stream",
     "text": [
      "Размеры наборов:\n",
      "Тренировочный набор - параметры (features_train) = 50%\n",
      "Тренировочный набор - целевой параметр (target_train) = 50%\n",
      "Валидационная выборка - параметры (features_valid) = 25%\n",
      "Валидационная выборка - целевой параметр (target_valid) = 25%\n",
      "Тестовая выборка - параметры (features_test) = 25%\n",
      "Тестовая выборка - целевой параметр (target_test) = 25%\n"
     ]
    }
   ],
   "source": [
    "print('Размеры наборов:')\n",
    "print('Тренировочный набор - параметры (features_train) = {:.0%}'.format(len(features_train)/len(df)))\n",
    "print('Тренировочный набор - целевой параметр (target_train) = {:.0%}'.format(len(target_train)/len(df)))\n",
    "print('Валидационная выборка - параметры (features_valid) = {:.0%}'.format(len(features_valid)/len(df)))\n",
    "print('Валидационная выборка - целевой параметр (target_valid) = {:.0%}'.format(len(target_valid)/len(df)))\n",
    "print('Тестовая выборка - параметры (features_test) = {:.0%}'.format(len(features_test)/len(df)))\n",
    "print('Тестовая выборка - целевой параметр (target_test) = {:.0%}'.format(len(target_test)/len(df)))"
   ]
  },
  {
   "cell_type": "markdown",
   "metadata": {},
   "source": [
    "## Исследуем модели\n",
    "\n",
    "### DecisionTreeClassifier"
   ]
  },
  {
   "cell_type": "code",
   "execution_count": 11,
   "metadata": {},
   "outputs": [
    {
     "name": "stdout",
     "output_type": "stream",
     "text": [
      "Время поиска лучшей модели = 0:00:00.023527\n",
      "Правильных предсказаний - 80.10% при максимально глубине 4\n"
     ]
    }
   ],
   "source": [
    "tree_model = 0\n",
    "best_result = 0\n",
    "value_depth = 0\n",
    "\n",
    "start_time = datetime.now()\n",
    "\n",
    "for depth in range(1,6):\n",
    "    model = DecisionTreeClassifier(max_depth=depth, random_state=12345)\n",
    "    model.fit(features_train, target_train)\n",
    "    predictions_valid = model.predict(features_valid)\n",
    "    result = accuracy_score(target_valid, predictions_valid)\n",
    "    if best_result < result:\n",
    "        best_result = result\n",
    "        tree_model = model\n",
    "        value_depth = depth\n",
    "        \n",
    "print('Время поиска лучшей модели = {}'.format((datetime.now()-start_time)))\n",
    "\n",
    "print('Правильных предсказаний - {:.2%} при максимально глубине {}'.format(best_result, value_depth))\n"
   ]
  },
  {
   "cell_type": "markdown",
   "metadata": {},
   "source": [
    "### RandomForestClassifier"
   ]
  },
  {
   "cell_type": "code",
   "execution_count": 12,
   "metadata": {},
   "outputs": [
    {
     "name": "stderr",
     "output_type": "stream",
     "text": [
      "100%|██████████| 4/4 [00:01<00:00,  2.67it/s]\n",
      "100%|██████████| 4/4 [00:01<00:00,  2.61it/s]"
     ]
    },
    {
     "name": "stdout",
     "output_type": "stream",
     "text": [
      "Время поиска лучшей модели  = 0:00:03.038321\n",
      "Правильных предсказаний - 79.98% (criterion=\"gini\"; n_estimator=3; max_depth=4; min_samples_split=2; min_samples_leaf=1)\n"
     ]
    },
    {
     "name": "stderr",
     "output_type": "stream",
     "text": [
      "\n"
     ]
    }
   ],
   "source": [
    "forest_model = 0\n",
    "best_result = 0\n",
    "best_n_estimators = 0\n",
    "best_depth = 0\n",
    "best_min_samples_split = 0\n",
    "best_min_samples_leaf = 0\n",
    "best_criterion = ''\n",
    "\n",
    "start_time = datetime.now()\n",
    "\n",
    "\n",
    "def learn_model(criterion_var, \n",
    "                n_estimators_var, \n",
    "                max_depth_var, \n",
    "                min_samples_split_var, \n",
    "                min_samples_leaf_var):\n",
    "    \n",
    "    \n",
    "    global forest_model\n",
    "    global best_result\n",
    "    global best_n_estimators\n",
    "    global best_depth\n",
    "    global best_min_samples_split\n",
    "    global best_min_samples_leaf\n",
    "    global best_criterion\n",
    "\n",
    "    model2 = RandomForestClassifier(criterion=criterion_var,\n",
    "                                    n_estimators=n_estimators_var, \n",
    "                                    max_depth=max_depth_var,\n",
    "                                    min_samples_split=min_samples_split_var, \n",
    "                                    min_samples_leaf=min_samples_leaf_var,\n",
    "                                    random_state=12345, \n",
    "                                    n_jobs=-1)    \n",
    "\n",
    "    model2.fit(features_train, target_train)\n",
    "    predictions_valid = model2.predict(features_valid)\n",
    "    result = accuracy_score(target_valid, predictions_valid)\n",
    "\n",
    "    if best_result < result:\n",
    "        best_result = result\n",
    "        forest_model = model2\n",
    "        best_criterion = criterion_var\n",
    "        best_n_estimators = n_estimators_var\n",
    "        best_depth = max_depth_var    \n",
    "        best_min_samples_split = min_samples_split_var\n",
    "        best_min_samples_leaf = min_samples_leaf_var\n",
    "\n",
    "N = 5\n",
    "        \n",
    "for crit in ['gini', 'entropy']:\n",
    "    for est in tqdm(range(1,N)):\n",
    "        for depth in range(1,N):\n",
    "            for mss in range(2,N):\n",
    "                for msl in range(1,N):\n",
    "                    learn_model(crit, est, depth, mss, msl)      \n",
    "\n",
    "print('Время поиска лучшей модели  = {}'.format((datetime.now()-start_time)))\n",
    "\n",
    "print('Правильных предсказаний - {:.2%} (criterion=\"{}\"; \\\n",
    "n_estimator={}; max_depth={}; min_samples_split={}; \\\n",
    "min_samples_leaf={})'.format(best_result, \n",
    "                             best_criterion, \n",
    "                             best_n_estimators, \n",
    "                             best_depth, \n",
    "                             best_min_samples_split, \n",
    "                             best_min_samples_leaf))   \n",
    "\n",
    "# N=5\n",
    "# Время поиска лучшей модели  = 0:01:44.462451\n",
    "# Правильных предсказаний - 81.72% (criterion: gini; n_estimator: 3; max_depth: 5; min_samples_split: 3; min_samples_leaf: 1)\n",
    "\n",
    "# N=10\n",
    "# Время поиска лучшей модели  = 0:02:40.708191\n",
    "# Правильных предсказаний - 82.46% (criterion=\"entropy\"; n_estimator=9; max_depth=9; min_samples_split=7; min_samples_leaf=2)\n",
    "\n",
    "# N=15\n",
    "# Время поиска лучшей модели  = 0:26:08.130099\n",
    "# Правильных предсказаний - 82.96% (criterion=\"gini\"; n_estimator=13; max_depth=9; min_samples_split=14; min_samples_leaf=3)\n",
    "\n",
    "# N=20\n",
    "# Время поиска лучшей модели  = 2:04:32.197412\n",
    "# Правильных предсказаний - 83.08% (criterion=\"gini\"; n_estimator=5; max_depth=14; min_samples_split=19; min_samples_leaf=9)"
   ]
  },
  {
   "cell_type": "markdown",
   "metadata": {},
   "source": [
    "### LogisticRegression"
   ]
  },
  {
   "cell_type": "code",
   "execution_count": 13,
   "metadata": {},
   "outputs": [
    {
     "name": "stdout",
     "output_type": "stream",
     "text": [
      "Время обучения модели логистической регрессии  = 0:00:00.042642\n",
      "Правильных предсказаний - 76.74%\n"
     ]
    }
   ],
   "source": [
    "start_time = datetime.now()\n",
    "\n",
    "model3 = LogisticRegression(random_state=12345)\n",
    "model3.fit(features_train, target_train)\n",
    "result = model3.score(features_valid, target_valid)\n",
    "\n",
    "print('Время обучения модели логистической регрессии  = {}'.format((datetime.now()-start_time)))\n",
    "\n",
    "print('Правильных предсказаний - {:.2%}'.format(result))"
   ]
  },
  {
   "cell_type": "markdown",
   "metadata": {},
   "source": [
    "### ВЫВОД ###\n",
    "|           Модель       | Accuracy, % |      Время    |\n",
    "|:----------------------:|:-----------:|:------------------:|\n",
    "| DecisionTreeClassifier |    80.10%   |      ~ 0.016  сек  |\n",
    "| RandomForestClassifier |    83.08%   |      ~ 02:04:32    |\n",
    "| LogisticRegression     |    75.50%   |      ~ 00.011 сек  |\n",
    "\n",
    "Т.о. Случайный лес показал лучшие результаты по качеству, но хучшие по времени поиска.\n",
    "Второе место (и самое оптимальное) заняла модель Решающее Дерево - быстро по времени и не сильно хуже по качеству\n",
    "Третье место по качеству занимает модель логистической регрессии, но она самая быстрая\n"
   ]
  },
  {
   "cell_type": "markdown",
   "metadata": {},
   "source": [
    "\n",
    "## Проверьте модель на тестовой выборке"
   ]
  },
  {
   "cell_type": "code",
   "execution_count": 14,
   "metadata": {},
   "outputs": [
    {
     "name": "stdout",
     "output_type": "stream",
     "text": [
      "Правильных предсказаний на тестовой выборке - 77.83%\n"
     ]
    }
   ],
   "source": [
    "predications_test = forest_model.predict(features_test)\n",
    "result = accuracy_score(target_test, predications_test)\n",
    "\n",
    "print('Правильных предсказаний на тестовой выборке - {:.2%}'.format(result))"
   ]
  },
  {
   "cell_type": "markdown",
   "metadata": {},
   "source": [
    "### Вывод ###\n",
    "На тестовой выборке модель (случайный лес) показала сходный (чуть ниже) результат - 78.52%, по сравнению с валидационной выборкой.\n",
    "<p>\n",
    "    Повторно при улучшении качества модели (за счет перебора параметров) до 83.08% на тестовой выборке эта модель показала результат ниже предыдущей модели - 78.21% (на 0.3%). Это значит я ее переучил?\n",
    "    "
   ]
  },
  {
   "cell_type": "markdown",
   "metadata": {},
   "source": [
    "## Проверим модел на адекватность"
   ]
  },
  {
   "cell_type": "code",
   "execution_count": 15,
   "metadata": {},
   "outputs": [
    {
     "name": "stdout",
     "output_type": "stream",
     "text": [
      "0.7101990049751243\n"
     ]
    }
   ],
   "source": [
    "model4 = DummyClassifier(strategy='most_frequent')\n",
    "model4.fit(features_train, target_train)\n",
    "print(model4.score(features_valid, target_valid))"
   ]
  },
  {
   "cell_type": "markdown",
   "metadata": {},
   "source": [
    "### Вывод \n",
    "Наша модель с показателем 78.58% лучше константной модели с показателем 71%. Проверка на адекватность пройдена"
   ]
  },
  {
   "cell_type": "markdown",
   "metadata": {},
   "source": [
    "# Общий вывод:\n",
    "1. Модели различаются как по качеству, так и по скорости выполнения.\n",
    "2. В нашем примере модель Случайный лес показала лучшие результаты в отношении качество/скорость.\n",
    "3. За счет настройки гиперпараметров удалось улучшить качество модели (за счет затрат большего времени)\n",
    "4. Логистическая регрессия - из 3х рассматриваемых моделей работает быстрее всех."
   ]
  }
 ],
 "metadata": {
  "ExecuteTimeLog": [
   {
    "duration": 748,
    "start_time": "2022-01-26T21:08:18.026Z"
   },
   {
    "duration": 455,
    "start_time": "2022-01-26T21:20:00.988Z"
   },
   {
    "duration": 617,
    "start_time": "2022-01-26T21:20:05.113Z"
   },
   {
    "duration": 337,
    "start_time": "2022-01-26T21:20:07.359Z"
   },
   {
    "duration": 265,
    "start_time": "2022-01-26T21:20:17.936Z"
   },
   {
    "duration": 524,
    "start_time": "2022-01-26T21:21:46.404Z"
   },
   {
    "duration": 312,
    "start_time": "2022-01-26T21:22:01.793Z"
   },
   {
    "duration": 8,
    "start_time": "2022-01-26T21:22:08.879Z"
   },
   {
    "duration": 301,
    "start_time": "2022-01-26T21:22:48.543Z"
   },
   {
    "duration": 24,
    "start_time": "2022-01-26T21:23:26.084Z"
   },
   {
    "duration": 20,
    "start_time": "2022-01-26T21:24:30.505Z"
   },
   {
    "duration": 303,
    "start_time": "2022-01-26T21:25:08.732Z"
   },
   {
    "duration": 21,
    "start_time": "2022-01-26T21:25:19.757Z"
   },
   {
    "duration": 26,
    "start_time": "2022-01-26T21:25:26.897Z"
   },
   {
    "duration": 275,
    "start_time": "2022-01-26T21:25:43.916Z"
   },
   {
    "duration": 11,
    "start_time": "2022-01-26T21:26:18.372Z"
   },
   {
    "duration": 12,
    "start_time": "2022-01-26T21:26:27.123Z"
   },
   {
    "duration": 12,
    "start_time": "2022-01-26T21:26:34.058Z"
   },
   {
    "duration": 18,
    "start_time": "2022-01-26T21:26:39.530Z"
   },
   {
    "duration": 12,
    "start_time": "2022-01-26T21:26:40.070Z"
   },
   {
    "duration": 18,
    "start_time": "2022-01-26T21:26:40.454Z"
   },
   {
    "duration": 13,
    "start_time": "2022-01-26T21:26:40.638Z"
   },
   {
    "duration": 15,
    "start_time": "2022-01-26T21:26:40.775Z"
   },
   {
    "duration": 14,
    "start_time": "2022-01-26T21:26:44.276Z"
   },
   {
    "duration": 14,
    "start_time": "2022-01-26T21:26:45.271Z"
   },
   {
    "duration": 13,
    "start_time": "2022-01-26T21:26:46.594Z"
   },
   {
    "duration": 14,
    "start_time": "2022-01-26T21:26:47.098Z"
   },
   {
    "duration": 15,
    "start_time": "2022-01-26T21:26:47.518Z"
   },
   {
    "duration": 14,
    "start_time": "2022-01-26T21:26:47.864Z"
   },
   {
    "duration": 13,
    "start_time": "2022-01-26T21:26:48.063Z"
   },
   {
    "duration": 17,
    "start_time": "2022-01-26T21:26:48.249Z"
   },
   {
    "duration": 13,
    "start_time": "2022-01-26T21:26:48.468Z"
   },
   {
    "duration": 14,
    "start_time": "2022-01-26T21:26:48.709Z"
   },
   {
    "duration": 15,
    "start_time": "2022-01-26T21:26:48.910Z"
   },
   {
    "duration": 19,
    "start_time": "2022-01-26T21:26:49.112Z"
   },
   {
    "duration": 19,
    "start_time": "2022-01-26T21:26:49.314Z"
   },
   {
    "duration": 16,
    "start_time": "2022-01-26T21:26:49.536Z"
   },
   {
    "duration": 13,
    "start_time": "2022-01-26T21:26:49.776Z"
   },
   {
    "duration": 13,
    "start_time": "2022-01-26T21:26:50.100Z"
   },
   {
    "duration": 13,
    "start_time": "2022-01-26T21:26:50.402Z"
   },
   {
    "duration": 13,
    "start_time": "2022-01-26T21:26:50.602Z"
   },
   {
    "duration": 13,
    "start_time": "2022-01-26T21:26:50.784Z"
   },
   {
    "duration": 14,
    "start_time": "2022-01-26T21:26:51.045Z"
   },
   {
    "duration": 16,
    "start_time": "2022-01-26T21:26:51.268Z"
   },
   {
    "duration": 18,
    "start_time": "2022-01-26T21:26:51.450Z"
   },
   {
    "duration": 21,
    "start_time": "2022-01-26T21:26:51.631Z"
   },
   {
    "duration": 14,
    "start_time": "2022-01-26T21:26:51.792Z"
   },
   {
    "duration": 16,
    "start_time": "2022-01-26T21:26:51.933Z"
   },
   {
    "duration": 15,
    "start_time": "2022-01-26T21:26:52.093Z"
   },
   {
    "duration": 13,
    "start_time": "2022-01-26T21:26:52.253Z"
   },
   {
    "duration": 16,
    "start_time": "2022-01-26T21:26:52.415Z"
   },
   {
    "duration": 13,
    "start_time": "2022-01-26T21:26:52.557Z"
   },
   {
    "duration": 16,
    "start_time": "2022-01-26T21:26:52.717Z"
   },
   {
    "duration": 13,
    "start_time": "2022-01-26T21:26:52.879Z"
   },
   {
    "duration": 10,
    "start_time": "2022-01-26T21:31:00.475Z"
   },
   {
    "duration": 12,
    "start_time": "2022-01-26T21:31:03.466Z"
   },
   {
    "duration": 10,
    "start_time": "2022-01-26T21:31:03.967Z"
   },
   {
    "duration": 11,
    "start_time": "2022-01-26T21:31:04.370Z"
   },
   {
    "duration": 11,
    "start_time": "2022-01-26T21:31:04.751Z"
   },
   {
    "duration": 11,
    "start_time": "2022-01-26T21:31:05.156Z"
   },
   {
    "duration": 11,
    "start_time": "2022-01-26T21:31:05.518Z"
   },
   {
    "duration": 16,
    "start_time": "2022-01-26T21:31:05.860Z"
   },
   {
    "duration": 15,
    "start_time": "2022-01-26T21:31:06.062Z"
   },
   {
    "duration": 22,
    "start_time": "2022-01-26T21:31:06.225Z"
   },
   {
    "duration": 11,
    "start_time": "2022-01-26T21:31:06.404Z"
   },
   {
    "duration": 11,
    "start_time": "2022-01-26T21:31:06.585Z"
   },
   {
    "duration": 11,
    "start_time": "2022-01-26T21:31:06.868Z"
   },
   {
    "duration": 13,
    "start_time": "2022-01-26T21:31:07.112Z"
   },
   {
    "duration": 15,
    "start_time": "2022-01-26T21:31:07.291Z"
   },
   {
    "duration": 12,
    "start_time": "2022-01-26T21:31:07.471Z"
   },
   {
    "duration": 11,
    "start_time": "2022-01-26T21:31:12.298Z"
   },
   {
    "duration": 11,
    "start_time": "2022-01-26T21:31:13.362Z"
   },
   {
    "duration": 12,
    "start_time": "2022-01-26T21:31:13.764Z"
   },
   {
    "duration": 12,
    "start_time": "2022-01-26T21:31:13.945Z"
   },
   {
    "duration": 12,
    "start_time": "2022-01-26T21:31:14.106Z"
   },
   {
    "duration": 14,
    "start_time": "2022-01-26T21:31:14.288Z"
   },
   {
    "duration": 11,
    "start_time": "2022-01-26T21:31:14.448Z"
   },
   {
    "duration": 14,
    "start_time": "2022-01-26T21:31:14.610Z"
   },
   {
    "duration": 15,
    "start_time": "2022-01-26T21:31:20.743Z"
   },
   {
    "duration": 15,
    "start_time": "2022-01-26T21:31:21.313Z"
   },
   {
    "duration": 14,
    "start_time": "2022-01-26T21:31:21.737Z"
   },
   {
    "duration": 13,
    "start_time": "2022-01-26T21:31:22.099Z"
   },
   {
    "duration": 15,
    "start_time": "2022-01-26T21:31:22.361Z"
   },
   {
    "duration": 14,
    "start_time": "2022-01-26T21:31:22.582Z"
   },
   {
    "duration": 14,
    "start_time": "2022-01-26T21:31:22.764Z"
   },
   {
    "duration": 14,
    "start_time": "2022-01-26T21:31:22.944Z"
   },
   {
    "duration": 16,
    "start_time": "2022-01-26T21:31:23.067Z"
   },
   {
    "duration": 17,
    "start_time": "2022-01-26T21:31:23.237Z"
   },
   {
    "duration": 16,
    "start_time": "2022-01-26T21:31:23.388Z"
   },
   {
    "duration": 15,
    "start_time": "2022-01-26T21:31:23.572Z"
   },
   {
    "duration": 15,
    "start_time": "2022-01-26T21:31:23.935Z"
   },
   {
    "duration": 19,
    "start_time": "2022-01-26T21:31:24.112Z"
   },
   {
    "duration": 14,
    "start_time": "2022-01-26T21:31:24.294Z"
   },
   {
    "duration": 17,
    "start_time": "2022-01-26T21:31:24.477Z"
   },
   {
    "duration": 16,
    "start_time": "2022-01-26T21:31:24.657Z"
   },
   {
    "duration": 13,
    "start_time": "2022-01-26T21:31:24.839Z"
   },
   {
    "duration": 16,
    "start_time": "2022-01-26T21:31:25.000Z"
   },
   {
    "duration": 14,
    "start_time": "2022-01-26T21:31:25.180Z"
   },
   {
    "duration": 14,
    "start_time": "2022-01-26T21:31:25.362Z"
   },
   {
    "duration": 63,
    "start_time": "2022-01-26T21:31:25.523Z"
   },
   {
    "duration": 1687,
    "start_time": "2022-01-27T19:40:29.809Z"
   },
   {
    "duration": 10,
    "start_time": "2022-01-27T19:40:33.986Z"
   },
   {
    "duration": 15,
    "start_time": "2022-01-27T19:40:38.092Z"
   },
   {
    "duration": 397,
    "start_time": "2022-01-27T19:43:50.758Z"
   },
   {
    "duration": 52,
    "start_time": "2022-01-27T19:44:09.634Z"
   },
   {
    "duration": 54,
    "start_time": "2022-01-27T19:44:16.429Z"
   },
   {
    "duration": 305,
    "start_time": "2022-01-27T19:44:21.845Z"
   },
   {
    "duration": 57,
    "start_time": "2022-01-27T19:44:28.247Z"
   },
   {
    "duration": 67,
    "start_time": "2022-01-27T19:44:37.345Z"
   },
   {
    "duration": 44,
    "start_time": "2022-01-27T19:45:11.705Z"
   },
   {
    "duration": 46,
    "start_time": "2022-01-27T19:45:21.090Z"
   },
   {
    "duration": 46,
    "start_time": "2022-01-27T19:45:22.165Z"
   },
   {
    "duration": 49,
    "start_time": "2022-01-27T19:45:22.577Z"
   },
   {
    "duration": 47,
    "start_time": "2022-01-27T19:45:24.270Z"
   },
   {
    "duration": 200,
    "start_time": "2022-01-27T19:47:14.847Z"
   },
   {
    "duration": 213,
    "start_time": "2022-01-27T19:50:21.952Z"
   },
   {
    "duration": 161,
    "start_time": "2022-01-27T19:50:37.446Z"
   },
   {
    "duration": 39,
    "start_time": "2022-01-27T19:51:19.356Z"
   },
   {
    "duration": 11,
    "start_time": "2022-01-27T19:56:05.422Z"
   },
   {
    "duration": 11,
    "start_time": "2022-01-27T19:56:31.487Z"
   },
   {
    "duration": 12,
    "start_time": "2022-01-27T20:13:30.655Z"
   },
   {
    "duration": 13,
    "start_time": "2022-01-27T20:13:55.093Z"
   },
   {
    "duration": 12,
    "start_time": "2022-01-27T20:14:07.735Z"
   },
   {
    "duration": 33,
    "start_time": "2022-01-27T20:14:31.420Z"
   },
   {
    "duration": 267,
    "start_time": "2022-01-27T20:28:01.251Z"
   },
   {
    "duration": 15,
    "start_time": "2022-01-27T20:28:11.834Z"
   },
   {
    "duration": 34,
    "start_time": "2022-01-27T20:28:13.821Z"
   },
   {
    "duration": 279,
    "start_time": "2022-01-27T20:28:21.213Z"
   },
   {
    "duration": -23,
    "start_time": "2022-01-27T20:29:19.724Z"
   },
   {
    "duration": 271,
    "start_time": "2022-01-27T20:29:23.932Z"
   },
   {
    "duration": 251,
    "start_time": "2022-01-27T20:29:37.117Z"
   },
   {
    "duration": 9,
    "start_time": "2022-01-27T20:29:45.337Z"
   },
   {
    "duration": 268,
    "start_time": "2022-01-27T20:43:44.775Z"
   },
   {
    "duration": 40,
    "start_time": "2022-01-27T20:44:01.572Z"
   },
   {
    "duration": 12,
    "start_time": "2022-01-27T20:44:04.045Z"
   },
   {
    "duration": 38,
    "start_time": "2022-01-27T20:44:06.003Z"
   },
   {
    "duration": 323,
    "start_time": "2022-01-27T20:44:08.198Z"
   },
   {
    "duration": 322,
    "start_time": "2022-01-27T20:44:13.123Z"
   },
   {
    "duration": 328,
    "start_time": "2022-01-27T20:44:14.225Z"
   },
   {
    "duration": 321,
    "start_time": "2022-01-27T20:44:15.057Z"
   },
   {
    "duration": 316,
    "start_time": "2022-01-27T20:44:58.010Z"
   },
   {
    "duration": 1386,
    "start_time": "2022-01-27T20:45:13.774Z"
   },
   {
    "duration": 6291,
    "start_time": "2022-01-27T20:45:27.479Z"
   },
   {
    "duration": 1445,
    "start_time": "2022-01-27T20:47:10.103Z"
   },
   {
    "duration": 9258,
    "start_time": "2022-01-27T20:47:28.028Z"
   },
   {
    "duration": 58899,
    "start_time": "2022-01-27T20:47:51.006Z"
   },
   {
    "duration": 265,
    "start_time": "2022-01-27T20:49:21.361Z"
   },
   {
    "duration": 256,
    "start_time": "2022-01-27T20:49:34.525Z"
   },
   {
    "duration": 528,
    "start_time": "2022-01-27T20:49:45.389Z"
   },
   {
    "duration": 3106,
    "start_time": "2022-01-27T20:49:53.685Z"
   },
   {
    "duration": 3018,
    "start_time": "2022-01-27T20:52:22.388Z"
   },
   {
    "duration": 3298,
    "start_time": "2022-01-27T20:53:06.292Z"
   },
   {
    "duration": 3180,
    "start_time": "2022-01-27T20:53:22.554Z"
   },
   {
    "duration": 3067,
    "start_time": "2022-01-27T20:53:33.565Z"
   },
   {
    "duration": 6468,
    "start_time": "2022-01-27T20:53:40.352Z"
   },
   {
    "duration": 8087,
    "start_time": "2022-01-27T20:53:54.832Z"
   },
   {
    "duration": 80,
    "start_time": "2022-01-27T20:56:55.445Z"
   },
   {
    "duration": 32,
    "start_time": "2022-01-27T20:57:12.379Z"
   },
   {
    "duration": 1060,
    "start_time": "2022-01-28T08:02:41.336Z"
   },
   {
    "duration": 8,
    "start_time": "2022-01-28T08:02:44.128Z"
   },
   {
    "duration": 20,
    "start_time": "2022-01-28T08:02:46.220Z"
   },
   {
    "duration": 3567,
    "start_time": "2022-01-28T08:02:48.162Z"
   },
   {
    "duration": 432,
    "start_time": "2022-01-28T08:02:53.680Z"
   },
   {
    "duration": 326,
    "start_time": "2022-01-28T08:05:52.803Z"
   },
   {
    "duration": 333,
    "start_time": "2022-01-28T08:06:05.868Z"
   },
   {
    "duration": 10,
    "start_time": "2022-01-28T08:06:13.177Z"
   },
   {
    "duration": 24,
    "start_time": "2022-01-28T08:06:19.944Z"
   },
   {
    "duration": 7,
    "start_time": "2022-01-28T08:06:21.711Z"
   },
   {
    "duration": 11,
    "start_time": "2022-01-28T08:06:25.281Z"
   },
   {
    "duration": 11,
    "start_time": "2022-01-28T08:07:46.179Z"
   },
   {
    "duration": 11,
    "start_time": "2022-01-28T08:08:28.790Z"
   },
   {
    "duration": 11,
    "start_time": "2022-01-28T08:08:31.499Z"
   },
   {
    "duration": 12,
    "start_time": "2022-01-28T08:08:31.933Z"
   },
   {
    "duration": 11,
    "start_time": "2022-01-28T08:08:32.295Z"
   },
   {
    "duration": 11,
    "start_time": "2022-01-28T08:08:32.476Z"
   },
   {
    "duration": 10,
    "start_time": "2022-01-28T08:08:32.659Z"
   },
   {
    "duration": 12,
    "start_time": "2022-01-28T08:08:32.819Z"
   },
   {
    "duration": 11,
    "start_time": "2022-01-28T08:08:32.961Z"
   },
   {
    "duration": 12,
    "start_time": "2022-01-28T08:08:33.123Z"
   },
   {
    "duration": 10,
    "start_time": "2022-01-28T08:08:34.070Z"
   },
   {
    "duration": 12,
    "start_time": "2022-01-28T08:08:34.647Z"
   },
   {
    "duration": 11,
    "start_time": "2022-01-28T08:08:49.918Z"
   },
   {
    "duration": 3624,
    "start_time": "2022-01-28T08:09:12.440Z"
   },
   {
    "duration": 115,
    "start_time": "2022-01-28T08:33:20.286Z"
   },
   {
    "duration": 23,
    "start_time": "2022-01-28T08:33:33.445Z"
   },
   {
    "duration": 8,
    "start_time": "2022-01-28T08:33:35.109Z"
   },
   {
    "duration": 338,
    "start_time": "2022-01-28T08:33:37.445Z"
   },
   {
    "duration": 20,
    "start_time": "2022-01-28T08:33:48.212Z"
   },
   {
    "duration": 105,
    "start_time": "2022-01-28T08:39:15.855Z"
   },
   {
    "duration": 338,
    "start_time": "2022-01-28T08:39:20.440Z"
   },
   {
    "duration": 333,
    "start_time": "2022-01-28T08:39:39.652Z"
   },
   {
    "duration": 111,
    "start_time": "2022-01-28T08:39:53.826Z"
   },
   {
    "duration": 20,
    "start_time": "2022-01-28T08:39:59.269Z"
   },
   {
    "duration": 3599,
    "start_time": "2022-01-28T08:41:18.279Z"
   },
   {
    "duration": 3538,
    "start_time": "2022-01-28T08:41:34.789Z"
   },
   {
    "duration": 12,
    "start_time": "2022-01-28T08:42:28.060Z"
   },
   {
    "duration": 12,
    "start_time": "2022-01-28T08:42:45.640Z"
   },
   {
    "duration": 11,
    "start_time": "2022-01-28T08:57:04.813Z"
   },
   {
    "duration": 3,
    "start_time": "2022-01-28T09:03:38.484Z"
   },
   {
    "duration": 5,
    "start_time": "2022-01-28T09:06:18.871Z"
   },
   {
    "duration": 24,
    "start_time": "2022-01-28T11:15:59.401Z"
   },
   {
    "duration": 8,
    "start_time": "2022-01-28T11:16:02.801Z"
   },
   {
    "duration": 29,
    "start_time": "2022-01-28T11:16:04.862Z"
   },
   {
    "duration": 21,
    "start_time": "2022-01-28T11:16:10.984Z"
   },
   {
    "duration": 3573,
    "start_time": "2022-01-28T11:16:24.941Z"
   },
   {
    "duration": 15,
    "start_time": "2022-01-28T11:16:39.110Z"
   },
   {
    "duration": 9,
    "start_time": "2022-01-28T11:17:52.569Z"
   },
   {
    "duration": 5,
    "start_time": "2022-01-28T11:17:58.269Z"
   },
   {
    "duration": 26,
    "start_time": "2022-01-28T11:18:29.928Z"
   },
   {
    "duration": 1133,
    "start_time": "2022-01-29T06:44:11.308Z"
   },
   {
    "duration": 36,
    "start_time": "2022-01-29T06:44:15.099Z"
   },
   {
    "duration": 385,
    "start_time": "2022-01-29T06:47:35.617Z"
   },
   {
    "duration": 9,
    "start_time": "2022-01-29T06:47:38.418Z"
   },
   {
    "duration": 4,
    "start_time": "2022-01-29T06:47:39.989Z"
   },
   {
    "duration": 252,
    "start_time": "2022-01-29T06:47:50.433Z"
   },
   {
    "duration": 3,
    "start_time": "2022-01-29T06:48:15.666Z"
   },
   {
    "duration": 4,
    "start_time": "2022-01-29T06:48:21.881Z"
   },
   {
    "duration": 4,
    "start_time": "2022-01-29T06:48:50.778Z"
   },
   {
    "duration": 6,
    "start_time": "2022-01-29T06:50:28.814Z"
   },
   {
    "duration": 5,
    "start_time": "2022-01-29T07:27:11.060Z"
   },
   {
    "duration": 26,
    "start_time": "2022-01-29T07:27:12.860Z"
   },
   {
    "duration": 4134,
    "start_time": "2022-01-29T07:27:16.341Z"
   },
   {
    "duration": 91,
    "start_time": "2022-01-29T07:29:53.758Z"
   },
   {
    "duration": 504,
    "start_time": "2022-01-29T07:30:00.660Z"
   },
   {
    "duration": 11609,
    "start_time": "2022-01-29T07:30:08.827Z"
   },
   {
    "duration": 11254,
    "start_time": "2022-01-29T07:30:59.017Z"
   },
   {
    "duration": 12064,
    "start_time": "2022-01-29T07:33:32.113Z"
   },
   {
    "duration": 24076,
    "start_time": "2022-01-29T07:34:35.953Z"
   },
   {
    "duration": 23547,
    "start_time": "2022-01-29T07:38:59.414Z"
   },
   {
    "duration": 784,
    "start_time": "2022-01-29T07:54:40.897Z"
   },
   {
    "duration": 519,
    "start_time": "2022-01-29T07:55:28.258Z"
   },
   {
    "duration": 804,
    "start_time": "2022-01-29T07:57:05.980Z"
   },
   {
    "duration": 452,
    "start_time": "2022-01-29T07:57:59.297Z"
   },
   {
    "duration": 453,
    "start_time": "2022-01-29T07:59:20.198Z"
   },
   {
    "duration": 105213,
    "start_time": "2022-01-29T08:03:23.501Z"
   },
   {
    "duration": 104649,
    "start_time": "2022-01-29T08:05:33.986Z"
   },
   {
    "duration": 104470,
    "start_time": "2022-01-29T08:10:19.917Z"
   },
   {
    "duration": 160715,
    "start_time": "2022-01-29T08:26:07.044Z"
   },
   {
    "duration": -701,
    "start_time": "2022-01-29T12:29:17.609Z"
   },
   {
    "duration": -720,
    "start_time": "2022-01-29T12:29:17.630Z"
   },
   {
    "duration": 32,
    "start_time": "2022-01-29T12:29:19.173Z"
   },
   {
    "duration": 1101,
    "start_time": "2022-01-29T12:29:27.157Z"
   },
   {
    "duration": 38,
    "start_time": "2022-01-29T12:29:29.797Z"
   },
   {
    "duration": 10,
    "start_time": "2022-01-29T12:29:31.918Z"
   },
   {
    "duration": 6,
    "start_time": "2022-01-29T12:29:33.906Z"
   },
   {
    "duration": 27,
    "start_time": "2022-01-29T12:29:35.980Z"
   },
   {
    "duration": 98,
    "start_time": "2022-01-29T12:29:37.993Z"
   },
   {
    "duration": 101,
    "start_time": "2022-01-29T12:29:47.886Z"
   },
   {
    "duration": 2777,
    "start_time": "2022-01-29T12:29:58.110Z"
   },
   {
    "duration": 164200,
    "start_time": "2022-01-29T12:30:06.302Z"
   },
   {
    "duration": 1568139,
    "start_time": "2022-01-29T12:33:00.458Z"
   },
   {
    "duration": 7472205,
    "start_time": "2022-01-29T13:00:28.974Z"
   },
   {
    "duration": 15,
    "start_time": "2022-01-29T15:53:07.113Z"
   },
   {
    "duration": 8,
    "start_time": "2022-01-29T15:54:29.154Z"
   },
   {
    "duration": 5,
    "start_time": "2022-01-29T15:59:32.513Z"
   },
   {
    "duration": 1160,
    "start_time": "2022-04-02T18:23:10.518Z"
   },
   {
    "duration": 34,
    "start_time": "2022-04-02T18:23:11.680Z"
   },
   {
    "duration": 7,
    "start_time": "2022-04-02T18:23:11.716Z"
   },
   {
    "duration": 13,
    "start_time": "2022-04-02T18:23:11.725Z"
   },
   {
    "duration": 43,
    "start_time": "2022-04-02T18:23:17.921Z"
   },
   {
    "duration": 3214,
    "start_time": "2022-04-02T18:23:48.314Z"
   },
   {
    "duration": 4,
    "start_time": "2022-04-02T18:28:26.457Z"
   },
   {
    "duration": 42,
    "start_time": "2022-04-02T18:28:26.463Z"
   },
   {
    "duration": 7,
    "start_time": "2022-04-02T18:28:26.507Z"
   },
   {
    "duration": 10,
    "start_time": "2022-04-02T18:28:26.516Z"
   },
   {
    "duration": 31,
    "start_time": "2022-04-02T18:28:26.528Z"
   },
   {
    "duration": 3045,
    "start_time": "2022-04-02T18:28:26.561Z"
   },
   {
    "duration": 46,
    "start_time": "2022-04-02T18:28:29.608Z"
   },
   {
    "duration": 7,
    "start_time": "2022-04-02T18:28:29.656Z"
   },
   {
    "duration": 4,
    "start_time": "2022-04-02T18:28:29.665Z"
   }
  ],
  "kernelspec": {
   "display_name": "Python 3 (ipykernel)",
   "language": "python",
   "name": "python3"
  },
  "language_info": {
   "codemirror_mode": {
    "name": "ipython",
    "version": 3
   },
   "file_extension": ".py",
   "mimetype": "text/x-python",
   "name": "python",
   "nbconvert_exporter": "python",
   "pygments_lexer": "ipython3",
   "version": "3.9.5"
  },
  "toc": {
   "base_numbering": 1,
   "nav_menu": {},
   "number_sections": true,
   "sideBar": true,
   "skip_h1_title": true,
   "title_cell": "Table of Contents",
   "title_sidebar": "Contents",
   "toc_cell": false,
   "toc_position": {
    "height": "calc(100% - 180px)",
    "left": "10px",
    "top": "150px",
    "width": "366.391px"
   },
   "toc_section_display": true,
   "toc_window_display": true
  }
 },
 "nbformat": 4,
 "nbformat_minor": 2
}
